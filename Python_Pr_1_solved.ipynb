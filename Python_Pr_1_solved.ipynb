{
 "cells": [
  {
   "cell_type": "markdown",
   "id": "65d4a9f1-bd19-4b87-8c17-a9aa3854863e",
   "metadata": {},
   "source": [
    "# Практикум 2. Операторы, выражения"
   ]
  },
  {
   "cell_type": "markdown",
   "id": "d3bbe8b2-18a4-446f-9bf4-3375d80a4269",
   "metadata": {},
   "source": [
    "1. Напишите программу, которая печатает на экране Hello World. Убедитесь, что она работает, в консоле виден результат, нет ошибок.\r\n"
   ]
  },
  {
   "cell_type": "code",
   "execution_count": null,
   "id": "3bfb926d-9b6c-4b20-9904-5b146daeef91",
   "metadata": {},
   "outputs": [],
   "source": [
    "print('Hello, World!')"
   ]
  },
  {
   "cell_type": "markdown",
   "id": "08f0ad66-2ee4-43b4-9f1f-bb98a790fa69",
   "metadata": {},
   "source": [
    "\n",
    "2. Вспоминаем базовые команды ввода-вывода. Прочитайте строку с клавиатур, например, ваше имя. Распечатайте приветствие “Hello, name”. \r\n"
   ]
  },
  {
   "cell_type": "code",
   "execution_count": 18,
   "id": "04ed277c-69e6-48bb-9a4a-31dcd9f12ee7",
   "metadata": {},
   "outputs": [
    {
     "name": "stdin",
     "output_type": "stream",
     "text": [
      "Введите ваше имя :  y\n"
     ]
    },
    {
     "name": "stdout",
     "output_type": "stream",
     "text": [
      "Hello, y!\n"
     ]
    }
   ],
   "source": [
    "name = input(\"Введите ваше имя : \")\n",
    "print(\"Hello, \"+name+'!')"
   ]
  },
  {
   "cell_type": "markdown",
   "id": "53643c0e-ea5b-4f39-a57e-ba5790a251f3",
   "metadata": {},
   "source": [
    "\r",
    "3. \n",
    "Какие типы данных вы знаете? Зачем они нужны? Можете привести пример ошибки при неправильном выборе типа данных? Можно сложить 2 (число) и “2” (строка) \r\n"
   ]
  },
  {
   "cell_type": "code",
   "execution_count": 46,
   "id": "72644a8f-baf3-4ab7-b97f-1304a0eda182",
   "metadata": {},
   "outputs": [
    {
     "ename": "TypeError",
     "evalue": "unsupported operand type(s) for +: 'int' and 'str'",
     "output_type": "error",
     "traceback": [
      "\u001b[1;31m---------------------------------------------------------------------------\u001b[0m",
      "\u001b[1;31mTypeError\u001b[0m                                 Traceback (most recent call last)",
      "Cell \u001b[1;32mIn[46], line 1\u001b[0m\n\u001b[1;32m----> 1\u001b[0m \u001b[38;5;241m2\u001b[39m\u001b[38;5;241m+\u001b[39m\u001b[38;5;124m'\u001b[39m\u001b[38;5;124m2\u001b[39m\u001b[38;5;124m'\u001b[39m\n",
      "\u001b[1;31mTypeError\u001b[0m: unsupported operand type(s) for +: 'int' and 'str'"
     ]
    }
   ],
   "source": [
    "2+'2'"
   ]
  },
  {
   "cell_type": "markdown",
   "id": "ea42c1df-6b50-420f-9abe-23a3170b0de2",
   "metadata": {},
   "source": [
    "4. Напишите программу, которая считает и выводит на экран последовательно (по одному значению в каждой строчке) значения следующих математических выражений: «3 в степени 5» и «-8 разделить на -4»"
   ]
  },
  {
   "cell_type": "code",
   "execution_count": 47,
   "id": "10765a8b-f2bf-4077-acb2-4a4b85a33d7e",
   "metadata": {},
   "outputs": [
    {
     "name": "stdout",
     "output_type": "stream",
     "text": [
      "243\n"
     ]
    }
   ],
   "source": [
    "print(3**5)\n",
    "print(-8/-4)"
   ]
  },
  {
   "cell_type": "markdown",
   "id": "7f6b585f-5385-468f-8e48-16ceb86fc295",
   "metadata": {},
   "source": [
    "\n",
    "5. Представьте, что у вас есть три переменные: x=0.1, y=0.2, z=0.3. Напишите программу, которая складывает эти три числа и печатает результат. Допустим, что эти три слагаемых представляют количество центов в евро, т.е. 0.1 - это 10 евроцентов, 0.2 - это 20 евро центов. Посмотрите на сумму слагаемых. Не смущает ли вас результат? В чем именно непорядок? Каким типом данных можно представить деньги в Пайтоне, чтобы избежать наблюдаемую проблему? \r\n"
   ]
  },
  {
   "cell_type": "code",
   "execution_count": 27,
   "id": "6d699666-f3ab-437d-a221-4b3515a8e43d",
   "metadata": {},
   "outputs": [
    {
     "name": "stdout",
     "output_type": "stream",
     "text": [
      "2.6 eur\n"
     ]
    }
   ],
   "source": [
    "x=2.1\n",
    "y=0.2\n",
    "z=0.3\n",
    "print(round(x+y+z,2),'eur')"
   ]
  },
  {
   "cell_type": "code",
   "execution_count": 25,
   "id": "45a30437-90a8-4280-b36b-bc111460e16a",
   "metadata": {},
   "outputs": [
    {
     "name": "stdout",
     "output_type": "stream",
     "text": [
      "260\n"
     ]
    }
   ],
   "source": [
    "x=2.1\n",
    "y=0.2\n",
    "z=0.3\n",
    "print(int((x+y+z)*100))"
   ]
  },
  {
   "cell_type": "markdown",
   "id": "6af04bc5-dc50-4545-9e83-2688af216219",
   "metadata": {},
   "source": [
    "\n",
    "6. Сейчас на часах 9 часов 45 минут утра. Напишите программу, которая считает количество секунд, прошедшее с полуночи?\r\n"
   ]
  },
  {
   "cell_type": "code",
   "execution_count": 28,
   "id": "1bb9b4cd-83b6-4c63-a4ad-de2c08875d81",
   "metadata": {},
   "outputs": [
    {
     "name": "stdout",
     "output_type": "stream",
     "text": [
      "С полуночи прошло 35100 секунд\n"
     ]
    }
   ],
   "source": [
    "hours = 9\n",
    "minuts = 45\n",
    "midnight = hours*60*60 + minuts*60\n",
    "print('С полуночи прошло', midnight, 'секунд')"
   ]
  },
  {
   "cell_type": "markdown",
   "id": "952cefe4-e5ab-4dea-8e1d-6c28804e544c",
   "metadata": {},
   "source": [
    "\n",
    "7. А если сейчас 10 часов 3 минуты утра, как изменится прогамма?\r\n"
   ]
  },
  {
   "cell_type": "code",
   "execution_count": 29,
   "id": "c5e043d7-ab64-490e-8d5f-9c2e1288e58d",
   "metadata": {},
   "outputs": [
    {
     "name": "stdout",
     "output_type": "stream",
     "text": [
      "С полуночи прошло 36180 секунд\n"
     ]
    }
   ],
   "source": [
    "hours = 10\n",
    "minuts = 3\n",
    "midnight = hours*60*60 + minuts*60\n",
    "print('С полуночи прошло', midnight, 'секунд')"
   ]
  },
  {
   "cell_type": "markdown",
   "id": "3434bb00-4e63-45e5-a89e-ed2397e02ec5",
   "metadata": {},
   "source": [
    "\n",
    "8. А если любое другое время в течение дня, как изменится программа?\r\n"
   ]
  },
  {
   "cell_type": "code",
   "execution_count": null,
   "id": "a8edcfb7-fa69-4e3d-8b01-4cefabe3ffa7",
   "metadata": {},
   "outputs": [],
   "source": [
    "hours = int(input(\"Сейчас часов: \"))\n",
    "minuts = int(input(\"Сейчас минут: \"))\n",
    "midnight = hours*60*60 + minuts*60\n",
    "print('С полуночи прошло', midnight, 'секунд')"
   ]
  },
  {
   "cell_type": "markdown",
   "id": "f241c88f-6ad9-4577-8cd1-f2a3a1af5ca2",
   "metadata": {},
   "source": [
    "\n",
    "9. Выделите строки, которые одинаковы в решениях задачи 6, 7 и 8 и строки, которые отличаются. В дальнейшем вы узнаете, что писать одинаковый код - плохая практика. Повторяющийся код обычно выносят в функции, а когда надо этот код запустить - вызывают функцию по имени. Чтобы функция произвела вычисления, ей указывают параметры, то есть значения с которыми она работает (входные параметры). А чтобы узнать результат работы функции, она возвращает значение. С функциями вы уже сталкивались, например, функция pow(2, 3), где 2 и 3 - входные параметры, а возвращает она 8 (2 * 2 * 2). \r\n"
   ]
  },
  {
   "cell_type": "code",
   "execution_count": 30,
   "id": "68244915-1f45-4d43-b490-4c34e7215d2c",
   "metadata": {},
   "outputs": [],
   "source": [
    "def time_to_sec(hours,minuts):\n",
    "    midnight = hours*60*60 + minuts*60\n",
    "    print('С полуночи прошло', midnight, 'секунд')"
   ]
  },
  {
   "cell_type": "code",
   "execution_count": 31,
   "id": "d492dcab-93c6-4787-bfb0-4ac434d1d44a",
   "metadata": {},
   "outputs": [
    {
     "name": "stdout",
     "output_type": "stream",
     "text": [
      "С полуночи прошло 43500 секунд\n"
     ]
    }
   ],
   "source": [
    "time_to_sec(12,5)"
   ]
  },
  {
   "cell_type": "code",
   "execution_count": 32,
   "id": "79921897-614f-480a-8f57-c8a61f2bdb57",
   "metadata": {},
   "outputs": [
    {
     "name": "stdout",
     "output_type": "stream",
     "text": [
      "С полуночи прошло 36180 секунд\n"
     ]
    }
   ],
   "source": [
    "time_to_sec(10,3)"
   ]
  },
  {
   "cell_type": "markdown",
   "id": "c889fed1-da52-4ab9-9384-5b80a186e354",
   "metadata": {},
   "source": [
    "\n",
    "10. Дан прямоугольный треугольник с катетами 3 и 4 метра. Напишите программу, которая считает длину гиптенузы. \r\n"
   ]
  },
  {
   "cell_type": "code",
   "execution_count": 34,
   "id": "3aea6c4e-de90-47d9-82de-0983931e5e16",
   "metadata": {},
   "outputs": [
    {
     "name": "stdout",
     "output_type": "stream",
     "text": [
      "3\n"
     ]
    }
   ],
   "source": [
    "a = 3.95\n",
    "print(int(a))"
   ]
  },
  {
   "cell_type": "code",
   "execution_count": 36,
   "id": "a49a2b28-7528-4c37-ac11-cf093e79b00a",
   "metadata": {},
   "outputs": [
    {
     "name": "stdout",
     "output_type": "stream",
     "text": [
      "5\n"
     ]
    }
   ],
   "source": [
    "a = 3\n",
    "b = 4\n",
    "print(int((a**2+b**2)**0.5))"
   ]
  },
  {
   "cell_type": "markdown",
   "id": "be14d8cf-6491-4404-897f-6ead2c02e25b",
   "metadata": {},
   "source": [
    "\n",
    "11. Поменяйте размеры катетов в задаче 10. Выведите результат с точностью до двух знаков после запятой. \r\n"
   ]
  },
  {
   "cell_type": "code",
   "execution_count": null,
   "id": "fbea565f-2629-49a4-b57b-1f3eb6c4a2f4",
   "metadata": {},
   "outputs": [],
   "source": [
    "a = float(input())\n",
    "b = float(input())\n",
    "print(int((a**2+b**2)**0.5))"
   ]
  },
  {
   "cell_type": "markdown",
   "id": "75ee6f29-0d59-491c-8f34-c374ed6b10e7",
   "metadata": {},
   "source": [
    "12. Посчитайте в уме результат выражения 10+3*(7-3)/2. Напишите программу, которая вычислит значение выражение. Проверьте себя. \n"
   ]
  },
  {
   "cell_type": "code",
   "execution_count": 37,
   "id": "491867b1-84f7-467c-8e05-30af067495ff",
   "metadata": {},
   "outputs": [
    {
     "name": "stdout",
     "output_type": "stream",
     "text": [
      "16.0\n"
     ]
    }
   ],
   "source": [
    "print(10+3*(7-3)/2)"
   ]
  },
  {
   "cell_type": "markdown",
   "id": "914bfa70-9174-46ad-86c1-bdf1218ad437",
   "metadata": {},
   "source": [
    "## Пример ввода в строку"
   ]
  },
  {
   "cell_type": "code",
   "execution_count": 45,
   "id": "9e1ab849-9e5b-4e29-9bfd-1b141d26a704",
   "metadata": {},
   "outputs": [
    {
     "name": "stdin",
     "output_type": "stream",
     "text": [
      "Введите коорд 1,2\n"
     ]
    }
   ],
   "source": [
    "x1,y1 = map(int,input('Введите коорд').split(','))"
   ]
  },
  {
   "cell_type": "code",
   "execution_count": 44,
   "id": "bf37dfb6-225b-4f51-93ee-692518208b88",
   "metadata": {},
   "outputs": [],
   "source": []
  },
  {
   "cell_type": "code",
   "execution_count": 40,
   "id": "e996cb23-e4ac-4299-b55c-9244072a4486",
   "metadata": {},
   "outputs": [
    {
     "name": "stdout",
     "output_type": "stream",
     "text": [
      "3\n"
     ]
    }
   ],
   "source": [
    "print(y1)"
   ]
  },
  {
   "cell_type": "code",
   "execution_count": null,
   "id": "20d8299d-1e11-4cd3-b1c8-910e32e7a882",
   "metadata": {},
   "outputs": [],
   "source": []
  }
 ],
 "metadata": {
  "kernelspec": {
   "display_name": "Python 3 (ipykernel)",
   "language": "python",
   "name": "python3"
  },
  "language_info": {
   "codemirror_mode": {
    "name": "ipython",
    "version": 3
   },
   "file_extension": ".py",
   "mimetype": "text/x-python",
   "name": "python",
   "nbconvert_exporter": "python",
   "pygments_lexer": "ipython3",
   "version": "3.12.4"
  }
 },
 "nbformat": 4,
 "nbformat_minor": 5
}
