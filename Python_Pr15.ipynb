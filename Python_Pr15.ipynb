{
 "cells": [
  {
   "cell_type": "markdown",
   "id": "bb3fc527-e0ab-42ce-8766-23d11c09d8a6",
   "metadata": {},
   "source": [
    "# Практика 15"
   ]
  },
  {
   "cell_type": "markdown",
   "id": "e7b9ef3a-f486-4232-8b3d-9256e7f9c360",
   "metadata": {},
   "source": [
    "Создать класс Shape, описывающий абстрактную фигуру, у которой есть площадь. У этого класса есть метод calculateArea(), который возвращает площадь фигуры. У класса также есть поле name, которое содержит строчное название фигуры. Например, “круг”, “прямоугольник” и так далее."
   ]
  },
  {
   "cell_type": "code",
   "execution_count": 1,
   "id": "b8fcc0f4-b244-46ea-ac07-2337956496af",
   "metadata": {},
   "outputs": [],
   "source": [
    "class Shape:\n",
    "    def __init__(self, name):\n",
    "        self.name = name # здесь будем хранить имя фигуры\n",
    "\n",
    "    def calculateArea(self):\n",
    "        raise NotImplementedError('Метод calculateArea() должен быть перезаписан в подклассах')\n",
    "\n",
    "    def __str__(self):\n",
    "        return f\"Фигура: {self.name}\""
   ]
  },
  {
   "cell_type": "code",
   "execution_count": 3,
   "id": "dcd82c19-2cf6-4420-b2c1-badcc1d1d519",
   "metadata": {},
   "outputs": [
    {
     "name": "stdout",
     "output_type": "stream",
     "text": [
      "Фигура: прямоугольник\n"
     ]
    }
   ],
   "source": [
    "s1 = Shape('прямоугольник')\n",
    "print(s1)"
   ]
  },
  {
   "cell_type": "code",
   "execution_count": null,
   "id": "74cc18fe-bdb5-485e-86e9-0c4251c0550c",
   "metadata": {},
   "outputs": [],
   "source": []
  },
  {
   "cell_type": "markdown",
   "id": "1b848426-b921-480a-893a-c745adfa0751",
   "metadata": {},
   "source": [
    "Унаследовать от класса Shape 3 других класса: Circle, Square, Rectangle. У каждого класса должны быть соответствующие поля и конструкторы, а также определены функции печати этих полей. "
   ]
  },
  {
   "cell_type": "code",
   "execution_count": 4,
   "id": "5a83b95d-38e0-4af9-beee-064236aa6d79",
   "metadata": {},
   "outputs": [],
   "source": [
    "import math\n",
    "\n",
    "class Circle(Shape):\n",
    "    def __init__(self, radius):\n",
    "        super().__init__('круг') # бери и используй исполнение конструктора классса Shape с аргументом name = 'круг'\n",
    "        self.radius = radius\n",
    "\n",
    "    def calculateArea(self):\n",
    "        return math.pi * self.radius ** 2\n",
    "\n",
    "    def __str__(self):\n",
    "        return f\"{super().__str__()}, радиус: {self.radius}\"\n",
    "        \n",
    "        "
   ]
  },
  {
   "cell_type": "code",
   "execution_count": 5,
   "id": "993e49ac-3b96-4c67-9289-befd89d31e5f",
   "metadata": {},
   "outputs": [
    {
     "name": "stdout",
     "output_type": "stream",
     "text": [
      "78.53981633974483\n",
      "Фигура: круг, радиус: 5\n"
     ]
    }
   ],
   "source": [
    "c1 = Circle(5)\n",
    "\n",
    "print(c1.calculateArea())\n",
    "print(c1)"
   ]
  },
  {
   "cell_type": "code",
   "execution_count": 6,
   "id": "1e18f9dc-3c0e-490a-8eb9-170a776315a6",
   "metadata": {},
   "outputs": [],
   "source": [
    "class Rectangle(Shape):\n",
    "    def __init__(self, width, length):\n",
    "        super().__init__('прямоугольник') # бери и используй исполнение конструктора классса Shape с аргументом name = 'круг'\n",
    "        self.width = width\n",
    "        self.length = length\n",
    "        \n",
    "    def calculateArea(self):\n",
    "        return self.length * self.width\n",
    "\n",
    "    def __str__(self):\n",
    "        return f\"{super().__str__()}, ширина: {self.width}, длина: {self.length}\"\n",
    "        "
   ]
  },
  {
   "cell_type": "code",
   "execution_count": 7,
   "id": "a80c9a6c-cde6-496d-a40e-7d4181697599",
   "metadata": {},
   "outputs": [
    {
     "name": "stdout",
     "output_type": "stream",
     "text": [
      "Фигура: прямоугольник, ширина: 2, длина: 3\n"
     ]
    }
   ],
   "source": [
    "r1 = Rectangle(2,3)\n",
    "print(r1)"
   ]
  },
  {
   "cell_type": "markdown",
   "id": "630c190c-54a8-43b3-8901-3803e51c43da",
   "metadata": {},
   "source": [
    "Для каждого класса переопределить метод calculateArea(), который вычисляет площадь фигуры."
   ]
  },
  {
   "cell_type": "code",
   "execution_count": null,
   "id": "01623525-442b-4bef-93b0-3e22c020ff5b",
   "metadata": {},
   "outputs": [],
   "source": [
    "# done"
   ]
  },
  {
   "cell_type": "markdown",
   "id": "ce332449-ae92-45d3-a673-4af6b9e9b446",
   "metadata": {},
   "source": [
    "Создать по два объекта каждой фигуры.\n"
   ]
  },
  {
   "cell_type": "code",
   "execution_count": 8,
   "id": "b73111d8-0f94-4b89-9a10-9d9d272e7a7e",
   "metadata": {},
   "outputs": [],
   "source": [
    "c1 = Circle(5)\n",
    "c2 = Circle(15)\n",
    "\n",
    "r1 = Rectangle(2,3)\n",
    "r2 = Rectangle(4,3)"
   ]
  },
  {
   "cell_type": "markdown",
   "id": "47ffde77-9dc6-457f-86db-e0fe29f2ca37",
   "metadata": {},
   "source": [
    "Составить список с этими объектами и напечатайте площадь каждой фигуры, вызывая метод calculateArea().\n"
   ]
  },
  {
   "cell_type": "code",
   "execution_count": 9,
   "id": "47743149-568d-4771-ae3c-0c864f962fbe",
   "metadata": {},
   "outputs": [],
   "source": [
    "lst_shape = [c1,c2,r1,r2]\n"
   ]
  },
  {
   "cell_type": "markdown",
   "id": "b8897fee-c69c-40a8-a525-1a3754af8b70",
   "metadata": {},
   "source": [
    "Используя итераторы посчитать суммарную площадь всех фигур в списке.\n"
   ]
  },
  {
   "cell_type": "code",
   "execution_count": 11,
   "id": "3969276d-3074-4a47-9e4e-542b0561434a",
   "metadata": {},
   "outputs": [
    {
     "data": {
      "text/plain": [
       "[78.53981633974483, 706.8583470577034, 6, 12]"
      ]
     },
     "execution_count": 11,
     "metadata": {},
     "output_type": "execute_result"
    }
   ],
   "source": [
    "[shape.calculateArea() for shape in lst_shape]"
   ]
  },
  {
   "cell_type": "code",
   "execution_count": 10,
   "id": "45612f58-e85b-4c03-b840-a40c475ae77e",
   "metadata": {},
   "outputs": [
    {
     "data": {
      "text/plain": [
       "803.3981633974482"
      ]
     },
     "execution_count": 10,
     "metadata": {},
     "output_type": "execute_result"
    }
   ],
   "source": [
    "sum([shape.calculateArea() for shape in lst_shape])"
   ]
  },
  {
   "cell_type": "markdown",
   "id": "367f9371-8fe8-4b3a-a639-627561259252",
   "metadata": {},
   "source": [
    "Существует функция coffee(), которая варит кофе и если ее вызвать, то она печатает “кофе”. Декорировать эту функцию так, чтобы можно было варить кофе с сахаром, молоком или и тем и другим. Вызов декорируемой функции должен печатать, с чем кофе сварено. Сварить кофе с двойной порцией сахара и молока. Сварить двойной кофе. \n"
   ]
  },
  {
   "cell_type": "code",
   "execution_count": 21,
   "id": "8bae5cd8-5566-44b0-9a63-d6bb1a938f4f",
   "metadata": {},
   "outputs": [],
   "source": [
    "def coffee_1():\n",
    "    return 'кофе'"
   ]
  },
  {
   "cell_type": "code",
   "execution_count": 18,
   "id": "cffb29d8-e1e5-4336-90a3-5e8c8aa982ae",
   "metadata": {},
   "outputs": [],
   "source": [
    "def sugar(func):\n",
    "    def wrapper():\n",
    "        result = func()\n",
    "        return result + ' c сахаром'\n",
    "    return wrapper\n",
    "\n",
    "def milk(func):\n",
    "    def wrapper():\n",
    "        result = func()\n",
    "        return result + ' c молоком'\n",
    "    return wrapper\n",
    "\n",
    "def double(func):\n",
    "    def wrapper():\n",
    "        result = func()\n",
    "        return 'двойной ' + result\n",
    "    return wrapper\n",
    "    "
   ]
  },
  {
   "cell_type": "code",
   "execution_count": 19,
   "id": "35d16c20-d2bb-4a71-8aee-76edd9143a67",
   "metadata": {},
   "outputs": [],
   "source": [
    "@double\n",
    "@sugar\n",
    "@sugar\n",
    "@milk\n",
    "def coffee():\n",
    "    return 'кофе'"
   ]
  },
  {
   "cell_type": "code",
   "execution_count": 20,
   "id": "fbd35f27-1c61-4faf-8cb8-dcab6b27ff74",
   "metadata": {},
   "outputs": [
    {
     "data": {
      "text/plain": [
       "'двойной кофе c молоком c сахаром c сахаром'"
      ]
     },
     "execution_count": 20,
     "metadata": {},
     "output_type": "execute_result"
    }
   ],
   "source": [
    "coffee()"
   ]
  },
  {
   "cell_type": "code",
   "execution_count": 22,
   "id": "ab52f048-11de-498a-bd4c-b92e3c6a3fdd",
   "metadata": {},
   "outputs": [
    {
     "name": "stdout",
     "output_type": "stream",
     "text": [
      "кофе c сахаром c молоком c молоком\n"
     ]
    }
   ],
   "source": [
    "coffee1 = milk(milk(sugar(coffee_1)))()\n",
    "print(coffee1)"
   ]
  },
  {
   "cell_type": "code",
   "execution_count": 24,
   "id": "19e9a5f4-c57b-49cc-8793-38f487d8a406",
   "metadata": {},
   "outputs": [
    {
     "data": {
      "text/plain": [
       "'кофе'"
      ]
     },
     "execution_count": 24,
     "metadata": {},
     "output_type": "execute_result"
    }
   ],
   "source": [
    "coffee_1()"
   ]
  },
  {
   "cell_type": "markdown",
   "id": "188ee665-547b-462b-985c-a677a78ad8fa",
   "metadata": {},
   "source": [
    "Представьте, что у вас есть класс Coffee с полем цена и название. Декорировать этот класс по аналогии с предыдущей задачей, чтобы можно было получить кофе с молоком (стоит дороже), кофе с сахаром (цена остается такой же), двойной кофе (цена удваивается). "
   ]
  },
  {
   "cell_type": "code",
   "execution_count": null,
   "id": "e2f51126-ef9d-4853-8935-9dc905d7e1db",
   "metadata": {},
   "outputs": [],
   "source": [
    "# Базовый декоратор для кофе\n",
    "def coffee_decorator(decorator):\n",
    "    def wrapper(cls):\n",
    "        class DecoratedCoffee(cls):\n",
    "            def __init__(self, *args, **kwargs):\n",
    "                super().__init__(*args, **kwargs)\n",
    "                decorator(self)\n",
    "        return DecoratedCoffee\n",
    "    return wrapper\n"
   ]
  },
  {
   "cell_type": "markdown",
   "id": "278a4457-4a38-4a43-ad0c-4d493720db93",
   "metadata": {},
   "source": [
    "Это фабрика декораторов, которая:\n",
    "\n",
    "1. Принимает функцию-декоратор (например, with_milk)\n",
    "\n",
    "2. Возвращает функцию wrapper, которая будет применяться к классу\n",
    "\n",
    "3. wrapper создаёт новый класс DecoratedCoffee, который:\n",
    "\n",
    "- Наследуется от декорируемого класса (cls)\n",
    "\n",
    "- В своём __init__ сначала вызывает родительский __init__\n",
    "\n",
    "- Затем применяет переданный декоратор к экземпляру (decorator(self))"
   ]
  },
  {
   "cell_type": "code",
   "execution_count": null,
   "id": "8d4ee2f8-df77-465c-8e25-5ca90f2c486f",
   "metadata": {},
   "outputs": [],
   "source": [
    "# Декораторы добавок\n",
    "def with_milk(coffee):\n",
    "    coffee.name += \" с молоком\"\n",
    "    coffee.price += 0.5  # увеличиваем цену за молоко\n",
    "\n",
    "def with_sugar(coffee):\n",
    "    coffee.name += \" с сахаром\"\n",
    "    # цена не меняется\n",
    "\n",
    "def double(coffee):\n",
    "    coffee.name = \"двойной \" + coffee.name\n",
    "    coffee.price *= 2  # удваиваем цену"
   ]
  },
  {
   "cell_type": "markdown",
   "id": "c13f7045-3930-4524-b229-fac801ac155c",
   "metadata": {},
   "source": [
    "Каждый декоратор:\n",
    "\n",
    "* Принимает экземпляр кофе\n",
    "\n",
    "* Модифицирует его название\n",
    "\n",
    "* При необходимости изменяет цену"
   ]
  },
  {
   "cell_type": "code",
   "execution_count": null,
   "id": "f4e7702b-930b-47ec-a866-78de118915fa",
   "metadata": {},
   "outputs": [],
   "source": [
    "# Применение декораторов к классу\n",
    "@coffee_decorator(with_milk)\n",
    "@coffee_decorator(with_sugar)\n",
    "@coffee_decorator(double)\n",
    "class Coffee:\n",
    "    def __init__(self, name, price):\n",
    "        self.name = name\n",
    "        self.price = price"
   ]
  },
  {
   "cell_type": "markdown",
   "id": "5732cccc-8438-4752-8ce3-88cdfa99e61c",
   "metadata": {},
   "source": [
    "Здесь происходит следующее:\n",
    "\n",
    "1. Декораторы применяются снизу вверх:\n",
    "\n",
    "* Сначала @coffee_decorator(double)\n",
    "\n",
    "* Затем @coffee_decorator(with_sugar)\n",
    "\n",
    "* Затем @coffee_decorator(with_milk)\n",
    "\n",
    "2. Каждый декоратор оборачивает класс в новый класс\n",
    "\n",
    "3. При создании экземпляра последовательно применяются все декораторы"
   ]
  },
  {
   "cell_type": "code",
   "execution_count": null,
   "id": "e99cb105-44da-47ba-88c1-17d88b4fe237",
   "metadata": {},
   "outputs": [],
   "source": [
    "# Создание вариантов кофе\n",
    "\n",
    "# Простой кофе без добавок\n",
    "simple_coffee = Coffee(\"Эспрессо\", 2.0)\n",
    "\n",
    "# Кофе с молоком\n",
    "milk_coffee = coffee_decorator(with_milk)(Coffee)(\"Эспрессо\", 2.0)\n",
    "\n",
    "# Кофе с сахаром\n",
    "sugar_coffee = coffee_decorator(with_sugar)(Coffee)(\"Эспрессо\", 2.0)\n",
    "\n",
    "# Двойной кофе\n",
    "double_coffee = coffee_decorator(double)(Coffee)(\"Эспрессо\", 2.0)\n",
    "\n",
    "# Полный набор: двойной + сахар + молоко\n",
    "full_coffee = coffee_decorator(with_milk)(\n",
    "               coffee_decorator(with_sugar)(\n",
    "               coffee_decorator(double)(Coffee)))(\"Эспрессо\", 2.0)"
   ]
  },
  {
   "cell_type": "code",
   "execution_count": null,
   "id": "fc566c13-f064-4ee9-a674-a17d2435b7b3",
   "metadata": {},
   "outputs": [],
   "source": [
    "# Альтернативный синтаксис\n",
    "@coffee_decorator(with_milk)\n",
    "@coffee_decorator(with_sugar)\n",
    "@coffee_decorator(double)\n",
    "class FancyCoffee:\n",
    "    pass\n",
    "\n",
    "full_coffee = FancyCoffee(\"Эспрессо\", 2.0)"
   ]
  },
  {
   "cell_type": "code",
   "execution_count": null,
   "id": "573ee6a4-0b89-4ff0-acc9-978da9af8de2",
   "metadata": {},
   "outputs": [],
   "source": []
  }
 ],
 "metadata": {
  "kernelspec": {
   "display_name": "Python 3 (ipykernel)",
   "language": "python",
   "name": "python3"
  },
  "language_info": {
   "codemirror_mode": {
    "name": "ipython",
    "version": 3
   },
   "file_extension": ".py",
   "mimetype": "text/x-python",
   "name": "python",
   "nbconvert_exporter": "python",
   "pygments_lexer": "ipython3",
   "version": "3.12.4"
  }
 },
 "nbformat": 4,
 "nbformat_minor": 5
}
