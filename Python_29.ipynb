{
 "cells": [
  {
   "cell_type": "markdown",
   "metadata": {
    "id": "7OdHtu_rIB8u"
   },
   "source": [
    "# Введение объектно ориентированное программирование (ООП)"
   ]
  },
  {
   "cell_type": "markdown",
   "metadata": {},
   "source": [
    "Объектно-ориентированное программирование (ООП) - это парадигма программирования, в которой программа организована вокруг объектов, которые представляют сущности из реального мира или абстрактные концепции. Объекты включают ***данные и методы***, которые работают с этими данными. Можно представить объект как \"контейнер\" данных и функциональности, связанных с этими данными.\n"
   ]
  },
  {
   "cell_type": "markdown",
   "metadata": {},
   "source": [
    "### Когда использовать ООП, а когда функциональный подход:\n",
    "\n",
    "ООП обычно используется, когда требуется моделировать сложные системы с большим количеством взаимодействующих объектов или когда требуется повторное использование кода. Функциональный подход, с другой стороны, обычно используется для написания более простых, линейных программ, которые основываются на функциях и передаче данных между ними."
   ]
  },
  {
   "cell_type": "markdown",
   "metadata": {},
   "source": [
    "Объектно-ориентированное программирование (ООП) — это подход к разработке программ, который основан на использовании объектов, представляющих собой экземпляры классов. ООП строится на четырёх основных принципах: инкапсуляция, наследование, полиморфизм и абстракция. Давайте разберём каждый из них на пальцах, с примерами из жизни."
   ]
  },
  {
   "cell_type": "markdown",
   "metadata": {},
   "source": [
    "#### Инкапсуляция\n",
    "**Что это?**\n",
    "\n",
    "Инкапсуляция — это принцип, при котором данные и методы, которые с ними работают, объединяются в одном объекте. Доступ к данным ограничивается, чтобы защитить их от неправильного использования.\n",
    "\n",
    "**Зачем нужно?**\n",
    "\n",
    "Чтобы скрыть внутреннюю реализацию объекта и предоставить только необходимый интерфейс для взаимодействия с ним. Это упрощает использование объекта и предотвращает ошибки.\n",
    "\n",
    "**Пример из жизни:**\n",
    "\n",
    "Представьте, что у вас есть кофеварка. Вам не нужно знать, как именно она работает внутри (как нагревается вода, как перемалываются зёрна). Вы просто нажимаете кнопку, и кофе готов. Внутренние механизмы кофеварки \"инкапсулированы\" — они скрыты от вас, а вы взаимодействуете только с кнопками.\n",
    "\n",
    "**С чем мы уже сталкивались?**\n",
    "\n",
    "Когда вы используете смартфон, вы не знаете, как работает процессор или операционная система. Вы просто нажимаете на иконки приложений — это и есть инкапсуляция."
   ]
  },
  {
   "cell_type": "markdown",
   "metadata": {},
   "source": [
    "#### Наследование\n",
    "**Что это?**\n",
    "\n",
    "Наследование — это возможность создавать новые классы на основе существующих, заимствуя их свойства и методы. Новый класс (потомок) может добавлять свои особенности или изменять поведение родительского класса.\n",
    "\n",
    "**Зачем нужно?**\n",
    "\n",
    "Чтобы избежать дублирования кода и упростить разработку. Если у нескольких объектов есть общие черты, их можно вынести в родительский класс.\n",
    "\n",
    "**Пример из жизни:**\n",
    "\n",
    "Представьте, что у вас есть транспортные средства. У всех них есть общие свойства: колёса, двигатель, возможность ехать. Но у машины есть руль, у велосипеда — педали, а у мотоцикла — руль и педали. Вместо того чтобы описывать каждый транспорт с нуля, можно создать общий класс \"Транспорт\" и унаследовать от него классы \"Машина\", \"Велосипед\" и \"Мотоцикл\".\n",
    "\n",
    "**С чем мы уже сталкивались?**\n",
    "\n",
    "Когда вы видите разные модели автомобилей (седан, внедорожник, грузовик), вы понимаете, что у них есть общие черты (двигатель, колёса), но каждая модель имеет свои особенности. Это и есть наследование."
   ]
  },
  {
   "cell_type": "markdown",
   "metadata": {},
   "source": [
    "#### Полиморфизм\n",
    "**Что это?**\n",
    "\n",
    "Полиморфизм — это возможность объектов с одинаковым интерфейсом (методами) вести себя по-разному в зависимости от их типа.\n",
    "\n",
    "**Зачем нужно?**\n",
    "\n",
    "Чтобы писать гибкий код, который может работать с разными типами объектов, не зная их точного типа.\n",
    "\n",
    "**Пример из жизни:**\n",
    "    \n",
    "Представьте, что у вас есть пульт от телевизора. На нём есть кнопка \"Включить\". Эта кнопка работает по-разному в зависимости от устройства: для телевизора она включает экран, для кондиционера — запускает охлаждение, для музыкального центра — включает музыку. Одна кнопка, но разное поведение — это и есть полиморфизм.\n",
    "\n",
    "**С чем мы уже сталкивались?**\n",
    "\n",
    "Когда вы звоните другу, вы нажимаете одну и ту же кнопку \"Позвонить\", но результат зависит от того, кому вы звоните: человеку, автоответчику или в службу поддержки. Это полиморфизм.\n",
    "\n"
   ]
  },
  {
   "cell_type": "markdown",
   "metadata": {},
   "source": [
    "#### Абстракция\n",
    "**Что это?**\n",
    "\n",
    "Абстракция — это выделение основных характеристик объекта, которые важны для решения задачи, и игнорирование несущественных деталей.\n",
    "\n",
    "**Зачем нужно?**\n",
    "\n",
    "Чтобы упростить работу с объектами, сосредоточившись только на том, что действительно важно.\n",
    "\n",
    "**Пример из жизни:**\n",
    "\n",
    "Представьте, что вы планируете поездку на машине. Вам нужно знать, сколько бензина в баке, как работает двигатель и как устроена коробка передач? Нет! Вам важно знать, сколько километров можно проехать, как быстро машина разгоняется и сколько места в багажнике. Это и есть абстракция — вы игнорируете ненужные детали и сосредотачиваетесь на важном.\n",
    "\n",
    "**С чем мы уже сталкивались?**\n",
    "\n",
    "Когда вы используете карту в смартфоне, вам не нужно знать, как работает GPS-чип или как строится маршрут. Вы просто видите путь от точки А до точки Б — это абстракция."
   ]
  },
  {
   "cell_type": "markdown",
   "metadata": {},
   "source": [
    "* Инкапсуляция: Скрытие сложности (кофеварка).\n",
    "\n",
    "* Наследование: Повторное использование общих свойств (транспортные средства).\n",
    "\n",
    "* Полиморфизм: Один интерфейс — разное поведение (пульт от телевизора).\n",
    "\n",
    "* Абстракция: Игнорирование лишнего (планирование поездки)."
   ]
  },
  {
   "cell_type": "markdown",
   "metadata": {},
   "source": [
    "### Класс и экземпляр класса:\n",
    "\n",
    "***Класс*** - это шаблон или описание для создания объектов. Он определяет состояние и поведение объектов, которые будут созданы на его основе. \n",
    "\n",
    "***Экземпляр класса***, или объект, является конкретной реализацией класса, имеющей свои собственные значения полей и состояние.\n"
   ]
  },
  {
   "cell_type": "markdown",
   "metadata": {},
   "source": [
    "### Ключевое слово class:\n",
    "\n",
    "Ключевое слово class используется для определения нового класса в Python. \n",
    "\n",
    "Определение класса включает имя класса, которое следует соглашениям о именовании переменных, и тело класса, содержащее поля и методы.\n"
   ]
  },
  {
   "cell_type": "code",
   "execution_count": null,
   "metadata": {},
   "outputs": [],
   "source": [
    "class MyClass:\n",
    "    pass\n"
   ]
  },
  {
   "cell_type": "markdown",
   "metadata": {},
   "source": [
    "🤓Пока это пустой класс, но постепенно мы будем добавлять в него содержимое."
   ]
  },
  {
   "cell_type": "markdown",
   "metadata": {},
   "source": [
    "### Функция dir и добавление/удаление полей в классе:\n",
    "\n",
    "Функция dir возвращает список имен, определенных в пространстве имен, переданном в качестве аргумента. Для класса она возвращает список всех имен, определенных в классе, включая поля и методы.\n"
   ]
  },
  {
   "cell_type": "markdown",
   "metadata": {
    "id": "etfkGfHFIB8w"
   },
   "source": [
    "На самом деле мы постоянно работаем с классами. По сути, все типы данных в python - это классы. Если мы вызовем функцию dir() от любого объекта, то мы увидим все его атрибуты и атрибуты его фундамента."
   ]
  },
  {
   "cell_type": "code",
   "execution_count": 3,
   "metadata": {
    "colab": {
     "base_uri": "https://localhost:8080/"
    },
    "id": "BKlY5lcpIB8x",
    "outputId": "3c65cbf7-a4ba-492f-d900-8c3527c358d0"
   },
   "outputs": [
    {
     "name": "stdout",
     "output_type": "stream",
     "text": [
      "['__add__', '__class__', '__contains__', '__delattr__', '__dir__', '__doc__', '__eq__', '__format__', '__ge__', '__getattribute__', '__getitem__', '__getnewargs__', '__getstate__', '__gt__', '__hash__', '__init__', '__init_subclass__', '__iter__', '__le__', '__len__', '__lt__', '__mod__', '__mul__', '__ne__', '__new__', '__reduce__', '__reduce_ex__', '__repr__', '__rmod__', '__rmul__', '__setattr__', '__sizeof__', '__str__', '__subclasshook__', 'capitalize', 'casefold', 'center', 'count', 'encode', 'endswith', 'expandtabs', 'find', 'format', 'format_map', 'index', 'isalnum', 'isalpha', 'isascii', 'isdecimal', 'isdigit', 'isidentifier', 'islower', 'isnumeric', 'isprintable', 'isspace', 'istitle', 'isupper', 'join', 'ljust', 'lower', 'lstrip', 'maketrans', 'partition', 'removeprefix', 'removesuffix', 'replace', 'rfind', 'rindex', 'rjust', 'rpartition', 'rsplit', 'rstrip', 'split', 'splitlines', 'startswith', 'strip', 'swapcase', 'title', 'translate', 'upper', 'zfill']\n"
     ]
    }
   ],
   "source": [
    "x = 'Marc'\n",
    "print(dir(x))"
   ]
  },
  {
   "cell_type": "markdown",
   "metadata": {
    "id": "jyWW26IuIB8y"
   },
   "source": [
    "Переменная x - экземпляр класса str и обладает всеми атрибутами этого класса."
   ]
  },
  {
   "cell_type": "code",
   "execution_count": 4,
   "metadata": {
    "colab": {
     "base_uri": "https://localhost:8080/"
    },
    "id": "3LYqLzwKIB8y",
    "outputId": "651da0d3-fcde-473b-da3f-f5bf9118b21b"
   },
   "outputs": [
    {
     "name": "stdout",
     "output_type": "stream",
     "text": [
      "['__add__', '__class__', '__contains__', '__delattr__', '__dir__', '__doc__', '__eq__', '__format__', '__ge__', '__getattribute__', '__getitem__', '__getnewargs__', '__getstate__', '__gt__', '__hash__', '__init__', '__init_subclass__', '__iter__', '__le__', '__len__', '__lt__', '__mod__', '__mul__', '__ne__', '__new__', '__reduce__', '__reduce_ex__', '__repr__', '__rmod__', '__rmul__', '__setattr__', '__sizeof__', '__str__', '__subclasshook__', 'capitalize', 'casefold', 'center', 'count', 'encode', 'endswith', 'expandtabs', 'find', 'format', 'format_map', 'index', 'isalnum', 'isalpha', 'isascii', 'isdecimal', 'isdigit', 'isidentifier', 'islower', 'isnumeric', 'isprintable', 'isspace', 'istitle', 'isupper', 'join', 'ljust', 'lower', 'lstrip', 'maketrans', 'partition', 'removeprefix', 'removesuffix', 'replace', 'rfind', 'rindex', 'rjust', 'rpartition', 'rsplit', 'rstrip', 'split', 'splitlines', 'startswith', 'strip', 'swapcase', 'title', 'translate', 'upper', 'zfill']\n"
     ]
    }
   ],
   "source": [
    "print(dir(str)) # сравним"
   ]
  },
  {
   "attachments": {},
   "cell_type": "markdown",
   "metadata": {},
   "source": [
    "Создать класс и определить объекты этого класса: 2 человека - Том и Боб!"
   ]
  },
  {
   "cell_type": "code",
   "execution_count": 5,
   "metadata": {},
   "outputs": [],
   "source": [
    "class Person:\n",
    "    pass\n",
    " \n",
    "tom = Person()  # определение объекта tom\n",
    "bob = Person()  # определение объекта bob\n"
   ]
  },
  {
   "cell_type": "code",
   "execution_count": 6,
   "metadata": {},
   "outputs": [
    {
     "name": "stdout",
     "output_type": "stream",
     "text": [
      "['__class__', '__delattr__', '__dict__', '__dir__', '__doc__', '__eq__', '__format__', '__ge__', '__getattribute__', '__getstate__', '__gt__', '__hash__', '__init__', '__init_subclass__', '__le__', '__lt__', '__module__', '__ne__', '__new__', '__reduce__', '__reduce_ex__', '__repr__', '__setattr__', '__sizeof__', '__str__', '__subclasshook__', '__weakref__']\n"
     ]
    }
   ],
   "source": [
    "print(dir(tom))"
   ]
  },
  {
   "cell_type": "markdown",
   "metadata": {},
   "source": [
    "Создадим свой класс и проверим его атрибуты"
   ]
  },
  {
   "cell_type": "code",
   "execution_count": 7,
   "metadata": {},
   "outputs": [
    {
     "name": "stdout",
     "output_type": "stream",
     "text": [
      "['__class__', '__delattr__', '__dict__', '__dir__', '__doc__', '__eq__', '__format__', '__ge__', '__getattribute__', '__getstate__', '__gt__', '__hash__', '__init__', '__init_subclass__', '__le__', '__lt__', '__module__', '__ne__', '__new__', '__reduce__', '__reduce_ex__', '__repr__', '__setattr__', '__sizeof__', '__str__', '__subclasshook__', '__weakref__', 'age', 'name']\n"
     ]
    }
   ],
   "source": [
    "class MyClass:\n",
    "    name = \"John\"\n",
    "    age = 30\n",
    "\n",
    "print(dir(MyClass))\n",
    "# Результат: ['__class__', '__delattr__', '__dict__', '__dir__', '__doc__', '__eq__', '__format__', '__ge__', '__getattribute__', '__gt__', '__hash__', '__init__', '__init_subclass__', '__le__', '__lt__', '__module__', '__ne__', '__new__', '__reduce__', '__reduce_ex__', '__repr__', '__setattr__', '__sizeof__', '__str__', '__subclasshook__', '__weakref__', 'age', 'name']\n"
   ]
  },
  {
   "cell_type": "code",
   "execution_count": 8,
   "metadata": {},
   "outputs": [
    {
     "name": "stdout",
     "output_type": "stream",
     "text": [
      "['__class__', '__delattr__', '__dict__', '__dir__', '__doc__', '__eq__', '__format__', '__ge__', '__getattribute__', '__getstate__', '__gt__', '__hash__', '__init__', '__init_subclass__', '__le__', '__lt__', '__module__', '__ne__', '__new__', '__reduce__', '__reduce_ex__', '__repr__', '__setattr__', '__sizeof__', '__str__', '__subclasshook__', '__weakref__']\n"
     ]
    }
   ],
   "source": [
    "class MyClass:\n",
    "    pass\n",
    "\n",
    "print(dir(MyClass))"
   ]
  },
  {
   "cell_type": "markdown",
   "metadata": {},
   "source": [
    "🤓 В Python у объектов есть специальные методы, которые начинаются и заканчиваются двойным подчёркиванием (например, `__class__`, `__dir__`, `__doc__`). Эти методы называются магическими или dunder-методами (от \"double underscore\"). Они используются для реализации определённого поведения объектов."
   ]
  },
  {
   "cell_type": "code",
   "execution_count": 9,
   "metadata": {},
   "outputs": [
    {
     "name": "stdout",
     "output_type": "stream",
     "text": [
      "<class 'int'>\n"
     ]
    }
   ],
   "source": [
    "x = 42\n",
    "print(x.__class__)  # Вывод: <class 'int'>"
   ]
  },
  {
   "cell_type": "code",
   "execution_count": 10,
   "metadata": {},
   "outputs": [
    {
     "name": "stdout",
     "output_type": "stream",
     "text": [
      "<class 'str'>\n"
     ]
    }
   ],
   "source": [
    "x = \"hello\"\n",
    "print(x.__class__)"
   ]
  },
  {
   "cell_type": "code",
   "execution_count": 14,
   "metadata": {},
   "outputs": [
    {
     "name": "stdout",
     "output_type": "stream",
     "text": [
      "['__new__', '__repr__', '__hash__', '__str__', '__getattribute__', '__lt__', '__le__', '__eq__', '__ne__', '__gt__', '__ge__', '__iter__', '__mod__', '__rmod__', '__len__', '__getitem__', '__add__', '__mul__', '__rmul__', '__contains__', 'encode', 'replace', 'split', 'rsplit', 'join', 'capitalize', 'casefold', 'title', 'center', 'count', 'expandtabs', 'find', 'partition', 'index', 'ljust', 'lower', 'lstrip', 'rfind', 'rindex', 'rjust', 'rstrip', 'rpartition', 'splitlines', 'strip', 'swapcase', 'translate', 'upper', 'startswith', 'endswith', 'removeprefix', 'removesuffix', 'isascii', 'islower', 'isupper', 'istitle', 'isspace', 'isdecimal', 'isdigit', 'isnumeric', 'isalpha', 'isalnum', 'isidentifier', 'isprintable', 'zfill', 'format', 'format_map', '__format__', 'maketrans', '__sizeof__', '__getnewargs__', '__doc__', '__setattr__', '__delattr__', '__init__', '__reduce_ex__', '__reduce__', '__getstate__', '__subclasshook__', '__init_subclass__', '__dir__', '__class__']\n"
     ]
    }
   ],
   "source": [
    "x = \"hello\"\n",
    "print(x.__dir__())  # Вывод: список всех методов строки, например, ['upper', 'lower', 'split', ...]"
   ]
  },
  {
   "cell_type": "code",
   "execution_count": 12,
   "metadata": {},
   "outputs": [
    {
     "data": {
      "text/plain": [
       "['__add__',\n",
       " '__class__',\n",
       " '__contains__',\n",
       " '__delattr__',\n",
       " '__dir__',\n",
       " '__doc__',\n",
       " '__eq__',\n",
       " '__format__',\n",
       " '__ge__',\n",
       " '__getattribute__',\n",
       " '__getitem__',\n",
       " '__getnewargs__',\n",
       " '__getstate__',\n",
       " '__gt__',\n",
       " '__hash__',\n",
       " '__init__',\n",
       " '__init_subclass__',\n",
       " '__iter__',\n",
       " '__le__',\n",
       " '__len__',\n",
       " '__lt__',\n",
       " '__mod__',\n",
       " '__mul__',\n",
       " '__ne__',\n",
       " '__new__',\n",
       " '__reduce__',\n",
       " '__reduce_ex__',\n",
       " '__repr__',\n",
       " '__rmod__',\n",
       " '__rmul__',\n",
       " '__setattr__',\n",
       " '__sizeof__',\n",
       " '__str__',\n",
       " '__subclasshook__',\n",
       " 'capitalize',\n",
       " 'casefold',\n",
       " 'center',\n",
       " 'count',\n",
       " 'encode',\n",
       " 'endswith',\n",
       " 'expandtabs',\n",
       " 'find',\n",
       " 'format',\n",
       " 'format_map',\n",
       " 'index',\n",
       " 'isalnum',\n",
       " 'isalpha',\n",
       " 'isascii',\n",
       " 'isdecimal',\n",
       " 'isdigit',\n",
       " 'isidentifier',\n",
       " 'islower',\n",
       " 'isnumeric',\n",
       " 'isprintable',\n",
       " 'isspace',\n",
       " 'istitle',\n",
       " 'isupper',\n",
       " 'join',\n",
       " 'ljust',\n",
       " 'lower',\n",
       " 'lstrip',\n",
       " 'maketrans',\n",
       " 'partition',\n",
       " 'removeprefix',\n",
       " 'removesuffix',\n",
       " 'replace',\n",
       " 'rfind',\n",
       " 'rindex',\n",
       " 'rjust',\n",
       " 'rpartition',\n",
       " 'rsplit',\n",
       " 'rstrip',\n",
       " 'split',\n",
       " 'splitlines',\n",
       " 'startswith',\n",
       " 'strip',\n",
       " 'swapcase',\n",
       " 'title',\n",
       " 'translate',\n",
       " 'upper',\n",
       " 'zfill']"
      ]
     },
     "execution_count": 12,
     "metadata": {},
     "output_type": "execute_result"
    }
   ],
   "source": [
    "dir(x)"
   ]
  },
  {
   "cell_type": "code",
   "execution_count": 15,
   "metadata": {},
   "outputs": [
    {
     "name": "stdout",
     "output_type": "stream",
     "text": [
      "Это строка документации.\n"
     ]
    }
   ],
   "source": [
    "def my_function():\n",
    "    \"\"\"Это строка документации.\"\"\"\n",
    "    pass\n",
    "\n",
    "print(my_function.__doc__)  # Вывод: \"Это строка документации.\""
   ]
  },
  {
   "cell_type": "markdown",
   "metadata": {},
   "source": [
    "### Поля в классе и в экземпляре класса.\n",
    "Обращение к полю через имя класса и имя экземпляра класса. Аналогия с глобальными и локальными переменными:\n",
    "\n",
    "Поля в классе - это переменные, определенные внутри класса. Они могут быть доступны как через имя класса, так и через имя экземпляра класса. Если поле определено в экземпляре класса, то оно будет иметь уникальное значение для каждого экземпляра.\n"
   ]
  },
  {
   "cell_type": "code",
   "execution_count": 16,
   "metadata": {},
   "outputs": [],
   "source": [
    "class MyClass:\n",
    "    name = \"John\"\n",
    "    age = 30"
   ]
  },
  {
   "cell_type": "code",
   "execution_count": 17,
   "metadata": {},
   "outputs": [
    {
     "name": "stdout",
     "output_type": "stream",
     "text": [
      "30\n"
     ]
    }
   ],
   "source": [
    "obj = MyClass()\n",
    "print(obj.age)"
   ]
  },
  {
   "cell_type": "code",
   "execution_count": 18,
   "metadata": {},
   "outputs": [
    {
     "name": "stdout",
     "output_type": "stream",
     "text": [
      "John\n"
     ]
    }
   ],
   "source": [
    "print(obj.name)"
   ]
  },
  {
   "cell_type": "code",
   "execution_count": 19,
   "metadata": {},
   "outputs": [
    {
     "name": "stdout",
     "output_type": "stream",
     "text": [
      "Bill\n"
     ]
    }
   ],
   "source": [
    "obj.name = 'Bill'\n",
    "print(obj.name)"
   ]
  },
  {
   "cell_type": "code",
   "execution_count": 20,
   "metadata": {},
   "outputs": [
    {
     "name": "stdout",
     "output_type": "stream",
     "text": [
      "John\n"
     ]
    }
   ],
   "source": [
    "print(MyClass.name)"
   ]
  },
  {
   "cell_type": "code",
   "execution_count": 21,
   "metadata": {},
   "outputs": [],
   "source": [
    "MyClass.name = 'Noname'"
   ]
  },
  {
   "cell_type": "code",
   "execution_count": 22,
   "metadata": {},
   "outputs": [
    {
     "name": "stdout",
     "output_type": "stream",
     "text": [
      "Noname\n"
     ]
    }
   ],
   "source": [
    "print(MyClass.name)"
   ]
  },
  {
   "cell_type": "code",
   "execution_count": 23,
   "metadata": {},
   "outputs": [
    {
     "name": "stdout",
     "output_type": "stream",
     "text": [
      "Bill\n"
     ]
    }
   ],
   "source": [
    "print(obj.name)"
   ]
  },
  {
   "cell_type": "code",
   "execution_count": 24,
   "metadata": {},
   "outputs": [],
   "source": [
    "tom = MyClass()\n",
    "ivan = MyClass()"
   ]
  },
  {
   "cell_type": "code",
   "execution_count": 25,
   "metadata": {},
   "outputs": [
    {
     "data": {
      "text/plain": [
       "'Noname'"
      ]
     },
     "execution_count": 25,
     "metadata": {},
     "output_type": "execute_result"
    }
   ],
   "source": [
    "tom.name"
   ]
  },
  {
   "cell_type": "code",
   "execution_count": 26,
   "metadata": {},
   "outputs": [
    {
     "data": {
      "text/plain": [
       "'Noname'"
      ]
     },
     "execution_count": 26,
     "metadata": {},
     "output_type": "execute_result"
    }
   ],
   "source": [
    "ivan.name"
   ]
  },
  {
   "cell_type": "code",
   "execution_count": 27,
   "metadata": {},
   "outputs": [],
   "source": [
    "tom.name = 'Tom'"
   ]
  },
  {
   "cell_type": "code",
   "execution_count": 28,
   "metadata": {},
   "outputs": [],
   "source": [
    "ivan.name = 'Ivan'"
   ]
  },
  {
   "cell_type": "code",
   "execution_count": 29,
   "metadata": {},
   "outputs": [
    {
     "name": "stdout",
     "output_type": "stream",
     "text": [
      "Ivan Tom\n"
     ]
    }
   ],
   "source": [
    "print(ivan.name, tom.name)"
   ]
  },
  {
   "cell_type": "code",
   "execution_count": 32,
   "metadata": {},
   "outputs": [
    {
     "name": "stdout",
     "output_type": "stream",
     "text": [
      "Noname\n"
     ]
    }
   ],
   "source": [
    "print(MyClass.name)"
   ]
  },
  {
   "cell_type": "markdown",
   "metadata": {},
   "source": [
    "### Инкапсуляция и создание экземпляра класса:\n",
    "\n",
    "Инкапсуляция - это механизм, который позволяет скрыть детали реализации класса и предоставить доступ к полям и методам только через публичный интерфейс. Создание экземпляра класса включает вызов конструктора класса с помощью оператора ().\n"
   ]
  },
  {
   "cell_type": "code",
   "execution_count": 34,
   "metadata": {},
   "outputs": [
    {
     "name": "stdout",
     "output_type": "stream",
     "text": [
      "Hello, John!\n"
     ]
    }
   ],
   "source": [
    "class MyClass:\n",
    "    def __init__(self, name):\n",
    "        self.name = name\n",
    "        \n",
    "\n",
    "    def say_hello(self):\n",
    "        print(f\"Hello, {self.name}!\")\n",
    "\n",
    "my_object = MyClass(\"John\")\n",
    "my_object.say_hello()\n"
   ]
  },
  {
   "cell_type": "code",
   "execution_count": 36,
   "metadata": {},
   "outputs": [
    {
     "data": {
      "text/plain": [
       "['__class__',\n",
       " '__delattr__',\n",
       " '__dict__',\n",
       " '__dir__',\n",
       " '__doc__',\n",
       " '__eq__',\n",
       " '__format__',\n",
       " '__ge__',\n",
       " '__getattribute__',\n",
       " '__getstate__',\n",
       " '__gt__',\n",
       " '__hash__',\n",
       " '__init__',\n",
       " '__init_subclass__',\n",
       " '__le__',\n",
       " '__lt__',\n",
       " '__module__',\n",
       " '__ne__',\n",
       " '__new__',\n",
       " '__reduce__',\n",
       " '__reduce_ex__',\n",
       " '__repr__',\n",
       " '__setattr__',\n",
       " '__sizeof__',\n",
       " '__str__',\n",
       " '__subclasshook__',\n",
       " '__weakref__',\n",
       " 'name',\n",
       " 'say_hello']"
      ]
     },
     "execution_count": 36,
     "metadata": {},
     "output_type": "execute_result"
    }
   ],
   "source": [
    "dir(my_object)"
   ]
  },
  {
   "cell_type": "code",
   "execution_count": 41,
   "metadata": {},
   "outputs": [
    {
     "name": "stdout",
     "output_type": "stream",
     "text": [
      "Сотрудник, John! и возрастом: 25\n",
      "Сотрудник, Ivan! и возрастом: 40\n"
     ]
    }
   ],
   "source": [
    "class Person:\n",
    "    def __init__(self, name, age):\n",
    "        self.name = name\n",
    "        self.age = age\n",
    "        \n",
    "\n",
    "    def say_hello(self):\n",
    "        print(f\"Сотрудник, {self.name}! и возрастом: {self.age}\")\n",
    "\n",
    "\n",
    "p1 = Person(\"John\", 25)\n",
    "p2 = Person(\"Ivan\", 40)\n",
    "p1.say_hello()\n",
    "p2.say_hello()"
   ]
  },
  {
   "cell_type": "code",
   "execution_count": 42,
   "metadata": {},
   "outputs": [
    {
     "name": "stdin",
     "output_type": "stream",
     "text": [
      "Введите имя сострудника: Ivan\n",
      "Введите возраст сотрудника 23\n",
      "Введите имя сострудника: Petr\n",
      "Введите возраст сотрудника 30\n",
      "Введите имя сострудника: Bill\n",
      "Введите возраст сотрудника 40\n"
     ]
    }
   ],
   "source": [
    "prs_lst = []\n",
    "\n",
    "for i in range(3):\n",
    "    name = input('Введите имя сострудника:')\n",
    "    age = int(input('Введите возраст сотрудника'))\n",
    "    obj = Person(name, age)\n",
    "    prs_lst.append(obj)\n"
   ]
  },
  {
   "cell_type": "code",
   "execution_count": 44,
   "metadata": {},
   "outputs": [
    {
     "name": "stdout",
     "output_type": "stream",
     "text": [
      "Сотрудник, Ivan! и возрастом: 23\n",
      "Сотрудник, Petr! и возрастом: 30\n",
      "Сотрудник, Bill! и возрастом: 40\n"
     ]
    }
   ],
   "source": [
    "for i in range(3):\n",
    "    prs_lst[i].say_hello()"
   ]
  },
  {
   "cell_type": "code",
   "execution_count": null,
   "metadata": {},
   "outputs": [],
   "source": []
  },
  {
   "cell_type": "code",
   "execution_count": null,
   "metadata": {},
   "outputs": [],
   "source": []
  },
  {
   "cell_type": "markdown",
   "metadata": {},
   "source": [
    "Если метод `__init__` отсутствует, то объект создаётся, но его атрибуты не инициализируются автоматически. В этом случае атрибуты нужно задавать вручную после создания объекта."
   ]
  },
  {
   "cell_type": "code",
   "execution_count": 37,
   "metadata": {},
   "outputs": [
    {
     "name": "stdout",
     "output_type": "stream",
     "text": [
      "Hello, John!\n"
     ]
    }
   ],
   "source": [
    "class MyClass:\n",
    "    def say_hello(self):\n",
    "        print(f\"Hello, {self.name}!\")\n",
    "\n",
    "# Создаём объект\n",
    "my_object = MyClass()\n",
    "\n",
    "# Вручную задаём атрибут name\n",
    "my_object.name = \"John\"\n",
    "\n",
    "my_object.say_hello()  # Вывод: \"Hello, John!\""
   ]
  },
  {
   "cell_type": "code",
   "execution_count": 38,
   "metadata": {},
   "outputs": [
    {
     "data": {
      "text/plain": [
       "'John'"
      ]
     },
     "execution_count": 38,
     "metadata": {},
     "output_type": "execute_result"
    }
   ],
   "source": [
    "my_object.name"
   ]
  },
  {
   "cell_type": "markdown",
   "metadata": {},
   "source": [
    "* С `__init__`: Атрибуты инициализируются автоматически при создании объекта. Это удобно для объектов с обязательными атрибутами.\n",
    "\n",
    "* Без `__init__`: Атрибуты задаются вручную после создания объекта. Это более гибко, но требует больше внимания.\n",
    "\n",
    "Если вы хотите, чтобы объект всегда был в корректном состоянии сразу после создания, используйте `__init__`. Если атрибуты могут добавляться динамически, можно обойтись без него."
   ]
  },
  {
   "cell_type": "markdown",
   "metadata": {},
   "source": [
    "Это лишь некоторые основные пункты введения в ООП на Python. ООП предоставляет более мощные возможности, такие как наследование, полиморфизм, абстракция и многое другое, которые могут быть использованы для создания сложных и структурированных программных решений.\n"
   ]
  },
  {
   "cell_type": "code",
   "execution_count": null,
   "metadata": {},
   "outputs": [],
   "source": []
  },
  {
   "cell_type": "markdown",
   "metadata": {
    "id": "ymlwshsYIB81"
   },
   "source": [
    "Определив новый класс, можно создавать сколько угодно объектов на его основе. Как уже было сказано выше, такая структура данных может включать в себя некие свойства, то есть переменные, которыми будет наделен каждый экземпляр класса.\n"
   ]
  },
  {
   "cell_type": "code",
   "execution_count": 45,
   "metadata": {},
   "outputs": [
    {
     "name": "stdout",
     "output_type": "stream",
     "text": [
      "Координаты точки: (1,  2, 3)\n"
     ]
    }
   ],
   "source": [
    "class Point3D:\n",
    "    def __init__(self, x, y, z):\n",
    "        self.x = x\n",
    "        self.y = y\n",
    "        self.z = z\n",
    "\n",
    "    def print_coord(self):\n",
    "        print(f\"Координаты точки: ({self.x},  {self.y}, {self.z})\")\n",
    "\n",
    "my_point = Point3D(1, 2, 3)\n",
    "my_point.print_coord()"
   ]
  },
  {
   "cell_type": "code",
   "execution_count": 46,
   "metadata": {},
   "outputs": [],
   "source": [
    "my_point.x = 3"
   ]
  },
  {
   "cell_type": "code",
   "execution_count": 47,
   "metadata": {},
   "outputs": [
    {
     "name": "stdout",
     "output_type": "stream",
     "text": [
      "Координаты точки: (3,  2, 3)\n"
     ]
    }
   ],
   "source": [
    "my_point.print_coord()"
   ]
  },
  {
   "cell_type": "code",
   "execution_count": null,
   "metadata": {},
   "outputs": [],
   "source": []
  },
  {
   "attachments": {},
   "cell_type": "markdown",
   "metadata": {},
   "source": [
    "### Практическое задание 1 \n",
    "У созданного класса Person посмотреть на уже определенные атрибуты. \n",
    "* Добавить какие-то поля. \n",
    "* Создать новый экземпляр класса. \n",
    "* Обратиться к именам полей через имя экземпляра класса, имя метода. \n",
    "* Рассмотреть отличия. \n",
    "* Попробовать изменять различными способами поля. \n",
    "* Удалить поля разными способами."
   ]
  },
  {
   "cell_type": "code",
   "execution_count": null,
   "metadata": {},
   "outputs": [],
   "source": [
    "class Person():\n",
    "    pass"
   ]
  },
  {
   "cell_type": "code",
   "execution_count": null,
   "metadata": {},
   "outputs": [],
   "source": [
    "dir(Person)"
   ]
  },
  {
   "cell_type": "code",
   "execution_count": null,
   "metadata": {},
   "outputs": [],
   "source": [
    "per1 = Person()"
   ]
  },
  {
   "cell_type": "code",
   "execution_count": null,
   "metadata": {},
   "outputs": [],
   "source": [
    "dir(per1)"
   ]
  },
  {
   "cell_type": "code",
   "execution_count": null,
   "metadata": {},
   "outputs": [],
   "source": [
    "per2 = Person()"
   ]
  },
  {
   "cell_type": "code",
   "execution_count": null,
   "metadata": {},
   "outputs": [],
   "source": [
    "per1.name = 'Fill'"
   ]
  },
  {
   "cell_type": "code",
   "execution_count": null,
   "metadata": {},
   "outputs": [],
   "source": [
    "print(per1.name)"
   ]
  },
  {
   "cell_type": "code",
   "execution_count": null,
   "metadata": {},
   "outputs": [],
   "source": [
    "per2.name = 'Bill'"
   ]
  },
  {
   "cell_type": "code",
   "execution_count": null,
   "metadata": {},
   "outputs": [],
   "source": [
    "print(per2.name)"
   ]
  },
  {
   "cell_type": "code",
   "execution_count": null,
   "metadata": {},
   "outputs": [],
   "source": [
    "per2.name = 'Tom'"
   ]
  },
  {
   "cell_type": "code",
   "execution_count": null,
   "metadata": {},
   "outputs": [],
   "source": [
    "print(per2.name)"
   ]
  },
  {
   "cell_type": "code",
   "execution_count": null,
   "metadata": {},
   "outputs": [],
   "source": [
    "del per1.name"
   ]
  },
  {
   "cell_type": "code",
   "execution_count": null,
   "metadata": {},
   "outputs": [],
   "source": [
    "print(per2.name)"
   ]
  },
  {
   "cell_type": "code",
   "execution_count": null,
   "metadata": {},
   "outputs": [],
   "source": [
    "per1"
   ]
  },
  {
   "cell_type": "code",
   "execution_count": null,
   "metadata": {},
   "outputs": [],
   "source": [
    "class Person():\n",
    "    def __init__(self, name):\n",
    "        self.name = name\n",
    "\n",
    "    def print_name(self):\n",
    "        print(f'{self.name}')"
   ]
  },
  {
   "cell_type": "code",
   "execution_count": null,
   "metadata": {},
   "outputs": [],
   "source": [
    "p1 = Person('Bill')\n",
    "p1.print_name()"
   ]
  },
  {
   "attachments": {},
   "cell_type": "markdown",
   "metadata": {},
   "source": [
    "### Практическое задание 2\n",
    "Создать класс Dog для представления собаки. Класс должен иметь атрибуты name (имя) и breed (порода), а также метод bark(), который выводит сообщение о том, что собака лает. Затем создать экземпляр класса Dog с заданным именем и породой и вызовите метод bark().\n",
    "\n",
    "Ожидаемый вывод:\n",
    "\n",
    "Шарик породы Дворняга лаял."
   ]
  },
  {
   "cell_type": "code",
   "execution_count": null,
   "metadata": {},
   "outputs": [],
   "source": [
    "class Dog:\n",
    "    def __init__(self, name, breed):\n",
    "        self.name = name\n",
    "        self.breed = breed\n",
    "\n",
    "    def bark(self):\n",
    "        print(f\"{self.name} породы {self.breed} лаял.\")\n",
    "\n",
    "# Создание экземпляра класса Dog\n",
    "sharik = Dog(\"Шарик\", \"Дворняга\")\n",
    "sharik.bark()"
   ]
  },
  {
   "cell_type": "code",
   "execution_count": null,
   "metadata": {},
   "outputs": [],
   "source": []
  },
  {
   "cell_type": "markdown",
   "metadata": {},
   "source": [
    "### Полезные материалы\n",
    "1. Классы в Python https://python-scripts.com/python-class \n",
    "2. Как создавать классы в Python со знанием дела: разбираем на примерах https://highload.today/kak-sozdavat-klassy-v-python-so-znaniem-dela-razbiraem-na-primerah/ \n",
    "\n",
    "### Вопросы для закрепления\n",
    "1. Какие вы запомнили концепции ООП? Что они означают?\n",
    "2. Чем отличаются поля класса и поля экземпляра класса?\n",
    "3. За что отвечает метод `__init__`?\n"
   ]
  },
  {
   "cell_type": "code",
   "execution_count": null,
   "metadata": {},
   "outputs": [],
   "source": []
  },
  {
   "cell_type": "code",
   "execution_count": null,
   "metadata": {},
   "outputs": [],
   "source": []
  }
 ],
 "metadata": {
  "colab": {
   "collapsed_sections": [
    "cyxLHSZMIB88",
    "aP_RYSuPIB8-",
    "iL-ZRzdDROg2",
    "lSLFMmZxIB9D"
   ],
   "provenance": []
  },
  "kernelspec": {
   "display_name": "Python 3 (ipykernel)",
   "language": "python",
   "name": "python3"
  },
  "language_info": {
   "codemirror_mode": {
    "name": "ipython",
    "version": 3
   },
   "file_extension": ".py",
   "mimetype": "text/x-python",
   "name": "python",
   "nbconvert_exporter": "python",
   "pygments_lexer": "ipython3",
   "version": "3.12.4"
  },
  "toc": {
   "base_numbering": 1,
   "nav_menu": {},
   "number_sections": true,
   "sideBar": true,
   "skip_h1_title": false,
   "title_cell": "Table of Contents",
   "title_sidebar": "Contents",
   "toc_cell": true,
   "toc_position": {},
   "toc_section_display": true,
   "toc_window_display": false
  },
  "varInspector": {
   "cols": {
    "lenName": 16,
    "lenType": 16,
    "lenVar": 40
   },
   "kernels_config": {
    "python": {
     "delete_cmd_postfix": "",
     "delete_cmd_prefix": "del ",
     "library": "var_list.py",
     "varRefreshCmd": "print(var_dic_list())"
    },
    "r": {
     "delete_cmd_postfix": ") ",
     "delete_cmd_prefix": "rm(",
     "library": "var_list.r",
     "varRefreshCmd": "cat(var_dic_list()) "
    }
   },
   "types_to_exclude": [
    "module",
    "function",
    "builtin_function_or_method",
    "instance",
    "_Feature"
   ],
   "window_display": false
  }
 },
 "nbformat": 4,
 "nbformat_minor": 4
}
