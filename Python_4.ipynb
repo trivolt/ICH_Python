{
 "cells": [
  {
   "cell_type": "markdown",
   "id": "1c37e661-922e-49fe-afa8-f913fca081f3",
   "metadata": {},
   "source": [
    "# Логический тип данных и сравнения"
   ]
  },
  {
   "cell_type": "markdown",
   "id": "f1b7316f-52c2-4e9e-991d-f60e51636869",
   "metadata": {},
   "source": [
    "## Логический тип данных"
   ]
  },
  {
   "cell_type": "markdown",
   "id": "b2be3725-cb74-4ec1-bf3e-db3d7e314eba",
   "metadata": {},
   "source": [
    "В Python логический тип данных представлен значением True (истина) или False (ложь). Логические значения используются для проверки условий и контроля выполнения кода в зависимости от их истинности или ложности"
   ]
  },
  {
   "cell_type": "code",
   "execution_count": null,
   "id": "b930c2ee-de95-414b-9569-d987b38c49d9",
   "metadata": {},
   "outputs": [],
   "source": [
    "x = True\n",
    "y = False\n",
    "print(x)  # Выводит True\n",
    "print(y)  # Выводит False\n"
   ]
  },
  {
   "cell_type": "code",
   "execution_count": null,
   "id": "20af4f88-6c79-4867-b2b9-3fadc39f075f",
   "metadata": {},
   "outputs": [],
   "source": [
    "type(x)"
   ]
  },
  {
   "cell_type": "code",
   "execution_count": null,
   "id": "cecc6ecf-a729-41c0-a3c3-ba79f24f8b5c",
   "metadata": {},
   "outputs": [],
   "source": [
    "x = 10\n",
    "type(x)"
   ]
  },
  {
   "cell_type": "markdown",
   "id": "c5869842-fef1-49d7-af9e-d3c63a13e621",
   "metadata": {},
   "source": [
    "## Сравнения в Python\n"
   ]
  },
  {
   "cell_type": "markdown",
   "id": "3e555e1d-2623-4582-a119-5d92ec7132ed",
   "metadata": {},
   "source": [
    "Сравнения позволяют сравнивать значения и получать логические результаты"
   ]
  },
  {
   "cell_type": "code",
   "execution_count": null,
   "id": "edd1995a-e8e7-4587-9f7b-f35b02492608",
   "metadata": {},
   "outputs": [],
   "source": [
    "x = 5\n",
    "y = 10\n",
    "print(x == y)  # Выводит False\n",
    "print(x < y)  # Выводит True\n"
   ]
  },
  {
   "cell_type": "code",
   "execution_count": null,
   "id": "d0a2afff-5d6a-446d-8f95-85a3847e12d7",
   "metadata": {},
   "outputs": [],
   "source": [
    "print(x != y)"
   ]
  },
  {
   "cell_type": "code",
   "execution_count": null,
   "id": "0f3f0bd3-d9d7-4c31-a3fb-83dcad771c95",
   "metadata": {},
   "outputs": [],
   "source": [
    "print( x <= y )"
   ]
  },
  {
   "cell_type": "markdown",
   "id": "445faa77-f26a-4858-9c8f-24a3f1791000",
   "metadata": {},
   "source": [
    "Логические операции:\n",
    "* `==`\n",
    "* `!=`\n",
    "* `<`\n",
    "* `>`\n",
    "* `<=`\n",
    "* `>=`"
   ]
  },
  {
   "cell_type": "code",
   "execution_count": null,
   "id": "c5915246-0e09-4737-af3c-f8d9f956a992",
   "metadata": {},
   "outputs": [],
   "source": []
  },
  {
   "cell_type": "code",
   "execution_count": null,
   "id": "1b25edaa-f86c-419a-b587-59f9b062aab2",
   "metadata": {},
   "outputs": [],
   "source": []
  },
  {
   "cell_type": "markdown",
   "id": "18121fb1-dd16-4f6e-892e-a23dd7f21e6e",
   "metadata": {},
   "source": [
    "## None"
   ]
  },
  {
   "cell_type": "markdown",
   "id": "bdf416c1-dec7-479e-b279-d92fedebb318",
   "metadata": {},
   "source": [
    " Для проверки на None нужно использовать специальный оператор is."
   ]
  },
  {
   "cell_type": "code",
   "execution_count": null,
   "id": "4c6f73ca-50f1-4b3d-a23a-5946551c36e2",
   "metadata": {},
   "outputs": [],
   "source": [
    "x = None\n",
    "print(x is None)\n"
   ]
  },
  {
   "cell_type": "code",
   "execution_count": null,
   "id": "30e10cb3-9085-4992-88cd-80c8d828d9e0",
   "metadata": {},
   "outputs": [],
   "source": [
    "x = 5\n",
    "print(x is None)"
   ]
  },
  {
   "cell_type": "code",
   "execution_count": null,
   "id": "b9de553d-934d-44c2-823b-f5d0a80bd6f9",
   "metadata": {},
   "outputs": [],
   "source": [
    "x = None\n",
    "if x is None:\n",
    "    print(\"Переменная x не имеет значения\")\n"
   ]
  },
  {
   "cell_type": "markdown",
   "id": "0cecac6a-e4a2-4638-8af2-5f9194b64d15",
   "metadata": {},
   "source": [
    "## Булева логика – операции and, or, not"
   ]
  },
  {
   "cell_type": "code",
   "execution_count": null,
   "id": "86237e0c-c791-406d-be0a-59ddee8aadaa",
   "metadata": {},
   "outputs": [],
   "source": [
    "x = True\n",
    "y = False\n",
    "print(x and y)  # Выводит False\n",
    "print(x or y)  # Выводит True\n",
    "print(not x)  # Выводит False\n"
   ]
  },
  {
   "cell_type": "markdown",
   "id": "dcb3f060-be96-405a-badd-8a980eff59f3",
   "metadata": {},
   "source": [
    "| - логгическое сложение. or\n",
    "\n",
    "& - логическое умножение. and\n",
    "\n",
    "not - логическое отрицание"
   ]
  },
  {
   "cell_type": "markdown",
   "id": "6984820b-9cd2-47c6-8c8f-9d470260fdc8",
   "metadata": {},
   "source": [
    "## Законы де Моргана"
   ]
  },
  {
   "attachments": {
    "21912200-ec19-49b7-bff5-4eae2bddb220.png": {
     "image/png": "[encoded data removed]"
    },
    "7e1f0905-1f77-4ff8-b7c9-0b0983bd4793.png": {
     "image/png": "[encoded data removed]"
    }
   },
   "cell_type": "markdown",
   "id": "9bf90675-efe1-4614-9355-db1c3428e51f",
   "metadata": {},
   "source": [
    "![image.png](attachment:21912200-ec19-49b7-bff5-4eae2bddb220.png)![image.png](attachment:7e1f0905-1f77-4ff8-b7c9-0b0983bd4793.png)"
   ]
  },
  {
   "cell_type": "code",
   "execution_count": 70,
   "id": "b5771ee0-6c21-4619-a132-42a5d6ba8569",
   "metadata": {},
   "outputs": [],
   "source": [
    "A = False\n",
    "B = True"
   ]
  },
  {
   "cell_type": "code",
   "execution_count": 72,
   "id": "085455e5-5927-4f30-9913-c1c962be748e",
   "metadata": {},
   "outputs": [
    {
     "name": "stdout",
     "output_type": "stream",
     "text": [
      "True\n",
      "True\n"
     ]
    }
   ],
   "source": [
    "print(not (A and B) == (not A) or (not B))\n",
    "print((not (A or B)) == (not A and not B))"
   ]
  },
  {
   "cell_type": "markdown",
   "id": "365f828d-4d47-45b4-b317-37cc721ae5f9",
   "metadata": {},
   "source": [
    "## Таблицы истинности и продвинутые булевы операции"
   ]
  },
  {
   "cell_type": "code",
   "execution_count": null,
   "id": "0dd4508b-6939-4cdd-ae8e-8932dea483bc",
   "metadata": {},
   "outputs": [],
   "source": [
    "x = bool(input())\n",
    "print(x)"
   ]
  },
  {
   "cell_type": "code",
   "execution_count": null,
   "id": "b032f7d6-33f5-4531-a1d4-479c4fa56259",
   "metadata": {},
   "outputs": [],
   "source": [
    "x = bool(input())\n",
    "y = bool(input())\n",
    "print(x,'&',y,'=',x&y)"
   ]
  },
  {
   "cell_type": "code",
   "execution_count": null,
   "id": "6b3c129d-dced-4d25-8fc4-ae680213c92e",
   "metadata": {},
   "outputs": [],
   "source": [
    "x = bool(input())\n",
    "y = bool(input())\n",
    "print(x,'|',y,'=',x|y)"
   ]
  },
  {
   "cell_type": "code",
   "execution_count": null,
   "id": "eb7d6974-cdb1-4a05-9fe3-979b55d169f9",
   "metadata": {},
   "outputs": [],
   "source": [
    "x = bool(input())\n",
    "y = bool(input())\n",
    "print(x,'->',y,'=',x<=y)"
   ]
  },
  {
   "cell_type": "code",
   "execution_count": null,
   "id": "b34ff967-9952-4463-b4eb-79dc859c5d4e",
   "metadata": {},
   "outputs": [],
   "source": [
    "x = bool(input())\n",
    "print(not x)"
   ]
  },
  {
   "cell_type": "markdown",
   "id": "5ab14a55-d45b-49a4-a2dd-6f43af6a0dea",
   "metadata": {},
   "source": [
    "## Функция id. Введение в устройство переменных в Python"
   ]
  },
  {
   "cell_type": "code",
   "execution_count": 56,
   "id": "a431eca9-4f90-43e4-a932-350c3d19d36f",
   "metadata": {},
   "outputs": [
    {
     "name": "stdout",
     "output_type": "stream",
     "text": [
      "140703171295800\n"
     ]
    }
   ],
   "source": [
    "x = 5\n",
    "print(id(x))\n"
   ]
  },
  {
   "cell_type": "markdown",
   "id": "6b20d061-d4ed-4d48-8a32-008a97e25e26",
   "metadata": {},
   "source": [
    "# пример про ярлык"
   ]
  },
  {
   "cell_type": "code",
   "execution_count": 57,
   "id": "a8779137-d9db-4f6a-8525-96b949ffd764",
   "metadata": {},
   "outputs": [
    {
     "name": "stdout",
     "output_type": "stream",
     "text": [
      "True\n",
      "False\n",
      "False\n",
      "True\n"
     ]
    }
   ],
   "source": [
    "a = 4\n",
    "b = 4\n",
    "c = 5\n",
    "print(id(a) == id(b)) #1\n",
    "print(id(a) == id(c)) #0\n",
    "a += 1\n",
    "print(id(a) == id(b)) #0\n",
    "print(id(a) == id(c)) #1\n"
   ]
  },
  {
   "cell_type": "markdown",
   "id": "57f784c2-af3f-4fc7-a8a8-e544813d0359",
   "metadata": {},
   "source": [
    "## Двойные неравенства"
   ]
  },
  {
   "cell_type": "code",
   "execution_count": 59,
   "id": "0390c41e-11d3-40e3-a871-55871b17ea17",
   "metadata": {},
   "outputs": [
    {
     "name": "stdout",
     "output_type": "stream",
     "text": [
      "False\n"
     ]
    }
   ],
   "source": [
    "x = 100\n",
    "print( 5 < x < 15 ) # аналогично x>5 and x<15"
   ]
  },
  {
   "cell_type": "markdown",
   "id": "5f13ed67-b343-4b88-aeff-92e047c3bdef",
   "metadata": {},
   "source": [
    "## Решение задач"
   ]
  },
  {
   "cell_type": "markdown",
   "id": "e710a2fa-875e-4c74-83fa-59889b549a9c",
   "metadata": {},
   "source": [
    "Даны формулы: ¬(A ∧ (B ∨ C)) и ((¬A ∨ ¬B) ∧ (¬A ∨ ¬C)). Докажите эквивалентность этих формул, применяя закон Де Моргана"
   ]
  },
  {
   "cell_type": "code",
   "execution_count": null,
   "id": "d874a613-2d9d-4fad-9b5a-f652ac728582",
   "metadata": {},
   "outputs": [],
   "source": []
  },
  {
   "cell_type": "markdown",
   "id": "e8cc6a12-5f7b-4d52-a3f7-b4e7d3b87452",
   "metadata": {},
   "source": [
    " Напишите программу, которая запрашивает у пользователя три числа и проверяет, являются ли они уникальными (не повторяются). Выведите соответствующее сообщение на экран с помощью команды print. Используйте операторы сравнения и логические операторы для решения задачи.\r\n"
   ]
  },
  {
   "cell_type": "code",
   "execution_count": null,
   "id": "bd07b6f6-ba0e-493e-8590-c868ade4b921",
   "metadata": {},
   "outputs": [],
   "source": []
  },
  {
   "cell_type": "code",
   "execution_count": null,
   "id": "8a2d0c1a-b475-4f09-ab52-21813c63698c",
   "metadata": {},
   "outputs": [],
   "source": []
  },
  {
   "cell_type": "code",
   "execution_count": null,
   "id": "f24a6366-4e6d-4196-84b4-a65ce6494cd4",
   "metadata": {},
   "outputs": [],
   "source": []
  },
  {
   "cell_type": "code",
   "execution_count": null,
   "id": "f8c10021-d5bd-40e3-8731-3cc07171cceb",
   "metadata": {},
   "outputs": [],
   "source": [
    "# Числа являются уникальными - True\n",
    "\n",
    "# Запрашиваем у пользователя три числа\n",
    "num1 = int(input(\"Введите первое число: \"))\n",
    "num2 = int(input(\"Введите второе число: \"))\n",
    "num3 = int(input(\"Введите третье число: \"))\n",
    "\n",
    "\n",
    "print(num1 != num2 and num1 != num3 and num2 != num3)\n"
   ]
  },
  {
   "cell_type": "markdown",
   "id": "b8904f49-e044-4b86-b749-b32a7385e765",
   "metadata": {},
   "source": [
    "## Полезные материалы"
   ]
  },
  {
   "cell_type": "markdown",
   "id": "d5efff79-ac3c-46bb-abe6-05d0c61fd41c",
   "metadata": {},
   "source": [
    "1. Таблицы истинности https://foxford.ru/wiki/informatika/tablitsy-istinnosti \r\n",
    "2. Операторы сравнения Python https://letpy.com/handbook/comparison-operators/ "
   ]
  },
  {
   "cell_type": "markdown",
   "id": "76544afa-1442-44c9-a56a-2ebed6635085",
   "metadata": {},
   "source": [
    "## Вопросы для контроля"
   ]
  },
  {
   "cell_type": "markdown",
   "id": "1e0bfdf8-2cfe-4428-9c82-22a8a108a74e",
   "metadata": {},
   "source": [
    "1. Давайте предположим, что в Python нет оператора двойного неравенства. Какой тогда результат будет у выражения -2<-1<0 ?\n",
    "2. Сформулируте законы де Моргана\n",
    "3. В каких случаях нужно использовать None? Как проверять на None?"
   ]
  },
  {
   "cell_type": "code",
   "execution_count": null,
   "id": "5a5b5c04-2c05-4529-b454-801dd7d22a59",
   "metadata": {},
   "outputs": [],
   "source": []
  }
 ],
 "metadata": {
  "kernelspec": {
   "display_name": "Python 3 (ipykernel)",
   "language": "python",
   "name": "python3"
  },
  "language_info": {
   "codemirror_mode": {
    "name": "ipython",
    "version": 3
   },
   "file_extension": ".py",
   "mimetype": "text/x-python",
   "name": "python",
   "nbconvert_exporter": "python",
   "pygments_lexer": "ipython3",
   "version": "3.12.4"
  }
 },
 "nbformat": 4,
 "nbformat_minor": 5
}
