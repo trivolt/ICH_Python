{
 "cells": [
  {
   "cell_type": "markdown",
   "id": "36cfe557-dc6e-4f1e-85e5-caceabba9294",
   "metadata": {},
   "source": [
    "# Работа с базами данных"
   ]
  },
  {
   "cell_type": "markdown",
   "id": "b0ab5b0f-d2bb-41fd-8001-6a27d777f7b9",
   "metadata": {},
   "source": [
    "### Подключение к БД"
   ]
  },
  {
   "cell_type": "code",
   "execution_count": null,
   "id": "8710c5b6-03f6-4209-8e8a-3b0ce64d2949",
   "metadata": {},
   "outputs": [],
   "source": []
  },
  {
   "cell_type": "code",
   "execution_count": 2,
   "id": "82219a51",
   "metadata": {},
   "outputs": [
    {
     "name": "stdout",
     "output_type": "stream",
     "text": [
      "Requirement already satisfied: mysql-connector-python in c:\\users\\dplog\\anaconda3\\lib\\site-packages (9.0.0)\n",
      "Note: you may need to restart the kernel to use updated packages.\n"
     ]
    }
   ],
   "source": [
    "pip install mysql-connector-python"
   ]
  },
  {
   "cell_type": "code",
   "execution_count": 3,
   "id": "75ef7e6e-b454-4a93-9fe0-d93ee2c62f94",
   "metadata": {},
   "outputs": [
    {
     "name": "stdout",
     "output_type": "stream",
     "text": [
      "Requirement already satisfied: pip in c:\\users\\dplog\\anaconda3\\lib\\site-packages (24.0)\n",
      "Collecting pip\n",
      "  Downloading pip-25.0.1-py3-none-any.whl.metadata (3.7 kB)\n",
      "Downloading pip-25.0.1-py3-none-any.whl (1.8 MB)\n",
      "   ---------------------------------------- 0.0/1.8 MB ? eta -:--:--\n",
      "   ---------------------------------------- 0.0/1.8 MB ? eta -:--:--\n",
      "   ---------------------------------------- 0.0/1.8 MB ? eta -:--:--\n",
      "   ---------------------------------------- 0.0/1.8 MB ? eta -:--:--\n",
      "    --------------------------------------- 0.0/1.8 MB 220.2 kB/s eta 0:00:09\n",
      "    --------------------------------------- 0.0/1.8 MB 219.4 kB/s eta 0:00:09\n",
      "   - -------------------------------------- 0.1/1.8 MB 328.6 kB/s eta 0:00:06\n",
      "   -- ------------------------------------- 0.1/1.8 MB 469.7 kB/s eta 0:00:04\n",
      "   ---- ----------------------------------- 0.2/1.8 MB 655.9 kB/s eta 0:00:03\n",
      "   ------ --------------------------------- 0.3/1.8 MB 811.7 kB/s eta 0:00:02\n",
      "   --------- ------------------------------ 0.4/1.8 MB 1.1 MB/s eta 0:00:02\n",
      "   ------------ --------------------------- 0.6/1.8 MB 1.3 MB/s eta 0:00:01\n",
      "   ---------------------- ----------------- 1.1/1.8 MB 2.2 MB/s eta 0:00:01\n",
      "   ------------------------ --------------- 1.1/1.8 MB 2.2 MB/s eta 0:00:01\n",
      "   ---------------------------------------- 1.8/1.8 MB 3.3 MB/s eta 0:00:00\n",
      "Installing collected packages: pip\n",
      "  Attempting uninstall: pip\n",
      "    Found existing installation: pip 24.0\n",
      "    Uninstalling pip-24.0:\n",
      "      Successfully uninstalled pip-24.0\n",
      "Successfully installed pip-25.0.1\n",
      "Note: you may need to restart the kernel to use updated packages.\n"
     ]
    }
   ],
   "source": [
    "pip install --upgrade pip"
   ]
  },
  {
   "cell_type": "code",
   "execution_count": 1,
   "id": "289e53dd",
   "metadata": {},
   "outputs": [],
   "source": [
    "import mysql.connector\n",
    "\n",
    "# создаем словарь для описания конфигурации подключения к БД\n",
    "dbconfig = {'host': 'ich-db.edu.itcareerhub.de',\n",
    "            'user': 'ich1',\n",
    "            'password': 'password',\n",
    "            'database': 'ich_edit'}\n",
    "# устанавливаем соединение\n",
    "connection = mysql.connector.connect(**dbconfig) # connection = mysql.connector.connect(host='ich-db.edu.itcareerhub.de', user=ich1',)"
   ]
  },
  {
   "cell_type": "code",
   "execution_count": 4,
   "id": "735b296d-c59d-4efc-9ad1-323b50c7f0ba",
   "metadata": {},
   "outputs": [
    {
     "data": {
      "text/plain": [
       "True"
      ]
     },
     "execution_count": 4,
     "metadata": {},
     "output_type": "execute_result"
    }
   ],
   "source": [
    "connection.is_connected()"
   ]
  },
  {
   "cell_type": "code",
   "execution_count": null,
   "id": "ee6ec5e3-959c-4292-9016-f5e78f280a2a",
   "metadata": {},
   "outputs": [],
   "source": [
    "# если БД локальная\n",
    "import mysql.connector\n",
    "\n",
    "# создаем словарь для описания конфигурации подключения к БД\n",
    "dbconfig = {'host': '127.0.0.1',\n",
    "            'user': 'root',\n",
    "            'password': 'password',\n",
    "            'database': 'movies'}\n",
    "# устанавливаем соединение\n",
    "connection = mysql.connector.connect(**dbconfig)\n"
   ]
  },
  {
   "cell_type": "markdown",
   "id": "9379b83b",
   "metadata": {},
   "source": [
    "__хардкодить имя пользователя и пароль - очень плохое решение__"
   ]
  },
  {
   "cell_type": "markdown",
   "id": "2f238aed",
   "metadata": {},
   "source": [
    "Можно легче ))"
   ]
  },
  {
   "cell_type": "code",
   "execution_count": 5,
   "id": "7e27012d",
   "metadata": {},
   "outputs": [
    {
     "name": "stdin",
     "output_type": "stream",
     "text": [
      " ich1\n",
      " password\n"
     ]
    }
   ],
   "source": []
  },
  {
   "cell_type": "code",
   "execution_count": 7,
   "id": "47274a9f-5ff3-491c-811f-1fb833fbc93d",
   "metadata": {},
   "outputs": [
    {
     "name": "stdin",
     "output_type": "stream",
     "text": [
      " ich1\n",
      " password\n"
     ]
    }
   ],
   "source": [
    "connection = mysql.connector.connect(host = 'ich-db.edu.itcareerhub.de', user = input(), password = input(), database = 'ich_edit')"
   ]
  },
  {
   "cell_type": "code",
   "execution_count": 8,
   "id": "eafc392d-1a05-481b-b85a-8bc00f6548f7",
   "metadata": {},
   "outputs": [
    {
     "data": {
      "text/plain": [
       "True"
      ]
     },
     "execution_count": 8,
     "metadata": {},
     "output_type": "execute_result"
    }
   ],
   "source": [
    "connection.is_connected()"
   ]
  },
  {
   "cell_type": "markdown",
   "id": "3b79820d",
   "metadata": {},
   "source": [
    "*Вариант 2* Создайте файл с именем, скажем, config.py и поместите его в каталог в вашем PYTHONPATH:\n",
    "\n",
    "USER='zzzzzzzz'\n",
    "\n",
    "PASS='xxxxxxxx'\n",
    "\n",
    "HOST='yyyyyyyy'\n",
    "\n",
    "MYDB='wwwwwwww'"
   ]
  },
  {
   "cell_type": "code",
   "execution_count": 11,
   "id": "40451861-8764-484a-a2a0-0322258fb77e",
   "metadata": {},
   "outputs": [
    {
     "name": "stdout",
     "output_type": "stream",
     "text": [
      "ich1\n"
     ]
    }
   ],
   "source": [
    "import config\n",
    "\n",
    "print(config.USER)\n"
   ]
  },
  {
   "cell_type": "code",
   "execution_count": 12,
   "id": "819b3371",
   "metadata": {},
   "outputs": [],
   "source": [
    "import config #config.py - это питон файл с кодом \n",
    "\n",
    "connection = mysql.connector.connect(\n",
    "    host = config.HOST, user = config.USER,\n",
    "    passwd = config.PASS, db = config.MYDB)"
   ]
  },
  {
   "cell_type": "markdown",
   "id": "36517977",
   "metadata": {},
   "source": [
    "**вариант 3**"
   ]
  },
  {
   "cell_type": "code",
   "execution_count": 14,
   "id": "3efebe31-50a4-4143-ad0b-5c15a917df8c",
   "metadata": {},
   "outputs": [
    {
     "name": "stdin",
     "output_type": "stream",
     "text": [
      "Введите имя пользователя:  ich1\n",
      "Введите пароль:  ········\n"
     ]
    },
    {
     "name": "stdout",
     "output_type": "stream",
     "text": [
      "\n",
      "Подключение установлено:\n",
      "хост: ich-db.edu.itcareerhub.de\n",
      "порт: 3306\n",
      "пользователь: ich1\n"
     ]
    }
   ],
   "source": [
    "from getpass import getpass\n",
    "from mysql.connector import connect, Error\n",
    "mysql.connector.connect(\n",
    "        host=\"ich-db.edu.itcareerhub.de\",\n",
    "        user=input(\"Введите имя пользователя: \"),\n",
    "        password=getpass(\"Введите пароль: \"),\n",
    "    )\n",
    "print(f\"\"\"\n",
    "Подключение установлено:\n",
    "хост: {connection.server_host}\n",
    "порт: {connection.server_port}\n",
    "пользователь: {connection.user}\"\"\")"
   ]
  },
  {
   "cell_type": "code",
   "execution_count": null,
   "id": "fbea3ba2",
   "metadata": {},
   "outputs": [],
   "source": [
    "from getpass import getpass\n",
    "from mysql.connector import connect, Error\n",
    "try:\n",
    "    with connect(\n",
    "        host=\"localhost\",\n",
    "        user=input(\"Введите имя пользователя: \"),\n",
    "        password=getpass(\"Введите пароль: \"),\n",
    "    ) as connection:\n",
    "        print(f\"\"\"\n",
    "Подключение установлено:\n",
    "хост: {connection.server_host}\n",
    "порт: {connection.server_port}\n",
    "пользователь: {connection.user}\"\"\")\n",
    "except Error as e:\n",
    "    print(f\"Ошибка подключения к серверу:\\n{e}\")"
   ]
  },
  {
   "cell_type": "markdown",
   "id": "915c80e7-0400-4dd2-b535-afa729b19ae8",
   "metadata": {},
   "source": [
    "### Курсор"
   ]
  },
  {
   "cell_type": "markdown",
   "id": "378ddcd6",
   "metadata": {},
   "source": [
    "Курсор (cursor) является объектом, с помощью которого выполняются операции с базой данных. Он представляет собой интерфейс для отправки запросов и получения результатов. Курсор создается из соединения (connection) с помощью метода cursor():"
   ]
  },
  {
   "cell_type": "code",
   "execution_count": 15,
   "id": "5671411b",
   "metadata": {},
   "outputs": [],
   "source": [
    "cursor = connection.cursor()"
   ]
  },
  {
   "cell_type": "markdown",
   "id": "93b8d360",
   "metadata": {},
   "source": [
    "**Замечание.** По завершению работы с БД курсор и соединение нужно закрывать, чтобы избежать непредвиденных ошибок и снижения производительности :\n"
   ]
  },
  {
   "cell_type": "code",
   "execution_count": null,
   "id": "301df5cf",
   "metadata": {},
   "outputs": [],
   "source": [
    "cursor.close()\n",
    "connection.close()"
   ]
  },
  {
   "cell_type": "markdown",
   "id": "c07c4995-3688-420e-b89c-148ac6bba659",
   "metadata": {},
   "source": [
    "### Execute"
   ]
  },
  {
   "cell_type": "markdown",
   "id": "f120ffdb-e5bb-4275-91ba-690e00f69bf3",
   "metadata": {},
   "source": [
    "Метод execute используется для выполнения команд SQL. Он принимает строку с SQL-запросом в качестве аргумента. Пример использования:"
   ]
  },
  {
   "cell_type": "code",
   "execution_count": 16,
   "id": "0f116de5-9e25-49c7-815b-7cae1016910b",
   "metadata": {},
   "outputs": [],
   "source": [
    "cursor.execute(\"SELECT * FROM users\")"
   ]
  },
  {
   "cell_type": "markdown",
   "id": "304af4f1-f8f0-4d56-88d3-5e0314efd9c6",
   "metadata": {},
   "source": [
    "### Извлечение данных"
   ]
  },
  {
   "cell_type": "markdown",
   "id": "821ecedb",
   "metadata": {},
   "source": [
    "При работе с базой данных может потребоваться извлечение данных из результата запроса. Для этого можно использовать методы fetchone, fetchall или fetchmany. Например:\n"
   ]
  },
  {
   "cell_type": "code",
   "execution_count": 17,
   "id": "b143c630",
   "metadata": {},
   "outputs": [
    {
     "name": "stdout",
     "output_type": "stream",
     "text": [
      "(6, 'Andrey', 44)\n",
      "(7, 'John', 25)\n",
      "(10, 'Petr', 55)\n",
      "(11, 'Jack', 25)\n",
      "(12, 'Alice', 30)\n",
      "(13, 'Bob', 35)\n",
      "(14, 'Alex', 25)\n",
      "(15, 'Frank', 25)\n",
      "(78, 'Alex', 50)\n",
      "(83, 'John', 25)\n",
      "(84, 'John', 25)\n",
      "(85, 'Alice', 30)\n",
      "(86, 'Bob', 35)\n",
      "(95, 'John', 25)\n",
      "(96, 'John', 25)\n",
      "(97, 'Alice', 30)\n",
      "(98, 'Bob', 35)\n",
      "(99, 'John', 25)\n",
      "(102, 'John', 25)\n",
      "(105, 'John', 25)\n",
      "(106, 'Elena', 31)\n",
      "(107, 'John', 67)\n",
      "(108, 'John', 25)\n",
      "(109, 'Elena', 31)\n",
      "(114, 'Max', 35)\n",
      "(115, 'Anna', 40)\n",
      "(117, 'Max', 31)\n",
      "(118, 'Anna', 40)\n",
      "(119, 'Jenna', 28)\n",
      "(120, 'Anett', 42)\n",
      "(122, 'Sarah', 41)\n",
      "(123, 'Noah', 25)\n",
      "(124, 'Ariel', 30)\n",
      "(125, 'Solomon', 28)\n",
      "(126, 'Ivan', 26)\n",
      "(127, 'Ali', 30)\n",
      "(128, 'Bosi', 35)\n",
      "(129, 'Hanna', 31)\n",
      "(130, 'Lusya', 18)\n",
      "(131, 'Ira', 58)\n",
      "(134, 'Ruslan', 25)\n",
      "(135, 'Alex', 31)\n",
      "(136, 'Noah', 30)\n",
      "(137, 'Ariel', 35)\n",
      "(138, 'Olga', 25)\n",
      "(139, 'Mikhail', 29)\n",
      "(140, 'Ruslan2', 41)\n",
      "(141, 'Mihail', 88)\n",
      "(142, 'Svetlana', 24)\n",
      "(143, 'Katerina', 30)\n",
      "(144, 'Mashka', 99)\n",
      "(145, 'John', 25)\n",
      "(150, 'Vova', 41)\n",
      "(151, 'Petia', 25)\n",
      "(152, 'Misha', 30)\n",
      "(153, 'Dima', 28)\n",
      "(154, 'Svetlana', 24)\n",
      "(159, 'John', 25)\n",
      "(160, 'Alice', 30)\n",
      "(161, 'Bob', 35)\n",
      "(162, 'John', 25)\n",
      "(163, 'Alice', 30)\n",
      "(164, 'Bob', 35)\n",
      "(165, 'John', 25)\n",
      "(166, 'Alice', 30)\n",
      "(167, 'Bob', 35)\n",
      "(168, 'John', 25)\n",
      "(169, 'Alice', 30)\n",
      "(170, 'Bob', 35)\n",
      "(171, 'John', 25)\n",
      "(172, 'Alice', 30)\n",
      "(173, 'Bob', 35)\n",
      "(174, 'John', 25)\n",
      "(175, 'Alice', 25)\n",
      "(176, 'Alice', 26)\n",
      "(179, 'Johny', 20)\n",
      "(180, 'John', 25)\n",
      "(181, 'Alice', 30)\n",
      "(182, 'Bob', 35)\n",
      "(183, 'John', 25)\n",
      "(184, 'Alice', 30)\n",
      "(185, 'Bob', 35)\n",
      "(186, 'John', 25)\n",
      "(187, 'Alice', 30)\n",
      "(188, 'Bobby', 35)\n",
      "(189, 'John', 25)\n",
      "(190, 'Alice', 30)\n",
      "(191, 'Bobby', 35)\n",
      "(192, 'John', 25)\n",
      "(193, 'Alice', 30)\n",
      "(194, 'Bobby', 35)\n",
      "(195, 'John', 25)\n",
      "(196, 'Alice', 30)\n",
      "(197, 'Bobby', 35)\n",
      "(201, 'Pavel', 11)\n",
      "(202, 'Valera', 54)\n",
      "(203, 'Olena', 38)\n",
      "(204, 'Juri', 41)\n",
      "(205, 'Ippolit', 98)\n",
      "(206, 'JurijB', 31)\n",
      "(208, 'Max', 25)\n",
      "(209, 'Anton', 30)\n",
      "(210, 'Denis', 35)\n",
      "(211, 'Alina', 18)\n",
      "(212, 'Alena', 19)\n",
      "(213, 'Albina', 18)\n",
      "(214, 'Akakiy', 100)\n",
      "(215, 'Fedor', 55)\n",
      "(216, 'Bobbob', 35)\n",
      "(217, 'Афанасий', 34)\n",
      "(218, 'Феофан', 54)\n",
      "(220, 'Winter', 50)\n",
      "(221, 'Sommer', 32)\n",
      "(222, 'Autumn', 55)\n",
      "(223, 'Lena', 25)\n",
      "(224, 'Anna', 30)\n",
      "(225, 'Max', 35)\n",
      "(226, 'John', 25)\n",
      "(227, 'John', 25)\n",
      "(228, 'Alice', 30)\n",
      "(229, 'Alice', 30)\n",
      "(230, 'John', 25)\n",
      "(231, 'Alice', 30)\n",
      "(232, 'Bob', 35)\n",
      "(233, 'John', 25)\n",
      "(234, 'Alice', 30)\n",
      "(235, 'Bob', 35)\n",
      "(236, 'Alice', 30)\n",
      "(237, 'Alice', 30)\n",
      "(241, 'Slyus', 25)\n",
      "(242, 'Slyus', 25)\n",
      "(243, 'Slyus', 45)\n",
      "(259, 'AGA', 35)\n",
      "(260, 'John', 25)\n",
      "(261, 'Alice', 30)\n",
      "(262, 'Bob', 35)\n",
      "(263, 'MAX', 25)\n",
      "(264, 'ANTON', 30)\n",
      "(265, 'BIBB', 35)\n",
      "(266, 'AISHA', 18)\n",
      "(272, 'John', 25)\n",
      "(273, 'Alice', 30)\n",
      "(274, 'Bob', 35)\n",
      "(275, 'John', 25)\n",
      "(276, 'John', 25)\n",
      "(279, 'John', 25)\n",
      "(280, 'Alice', 30)\n",
      "(281, 'Bob', 35)\n",
      "(282, 'John', 25)\n",
      "(283, 'Alice', 30)\n",
      "(284, 'Bob', 35)\n",
      "(285, 'John', 25)\n",
      "(286, 'John', 25)\n",
      "(290, 'John', 25)\n",
      "(291, 'Alice', 30)\n",
      "(292, 'Bob', 35)\n",
      "(293, 'John', 25)\n",
      "(294, 'Alice', 30)\n",
      "(295, 'Bob', 35)\n",
      "(303, 'John', 25)\n",
      "(304, 'Alice', 30)\n",
      "(305, 'Bob', 35)\n",
      "(307, 'John', 25)\n",
      "(311, 'John', 25)\n",
      "(312, 'Alice', 30)\n",
      "(313, 'Bob', 35)\n",
      "(314, 'Alice', 30)\n",
      "(315, 'Bob', 25)\n",
      "(316, 'Alice', 30)\n",
      "(317, 'Bob', 25)\n",
      "(854, 'John', 25)\n",
      "(855, 'John', 25)\n",
      "(856, 'Alice', 30)\n",
      "(857, 'Bob', 35)\n",
      "(858, 'John', 25)\n",
      "(859, 'John', 25)\n",
      "(860, 'Alice', 30)\n",
      "(861, 'Bob', 35)\n",
      "(865, 'Baiden', 82)\n",
      "(866, 'Trump', 30)\n",
      "(867, 'Bob', 35)\n",
      "(871, 'Baiden', 82)\n",
      "(872, 'Trump', 70)\n",
      "(873, 'Bob Marley', 35)\n",
      "(874, 'John', 25)\n",
      "(875, 'John', 25)\n",
      "(876, 'Alice', 30)\n",
      "(877, 'Bob', 35)\n",
      "(878, 'Baiden', 82)\n",
      "(879, 'Trump', 30)\n",
      "(880, 'Bob Marley', 35)\n",
      "(881, 'John', 25)\n",
      "(882, 'John', 25)\n",
      "(883, 'Alice', 30)\n",
      "(884, 'Bob', 35)\n",
      "(885, 'John', 25)\n",
      "(886, 'John', 25)\n",
      "(887, 'Alice', 30)\n",
      "(888, 'Bob', 35)\n",
      "(889, 'John', 25)\n",
      "(890, 'John', 25)\n",
      "(891, 'Alice', 30)\n",
      "(892, 'Bob', 35)\n",
      "(893, 'John', 25)\n",
      "(894, 'John', 25)\n",
      "(895, 'Alice', 30)\n",
      "(896, 'Bob', 35)\n",
      "(897, 'John', 25)\n",
      "(898, 'John', 25)\n",
      "(904, 'John', 40)\n",
      "(905, 'John', 30)\n",
      "(906, 'John', 50)\n",
      "(907, 'John', 60)\n",
      "(908, 'John', 60)\n",
      "(911, 'John', 80)\n",
      "(912, 'John', 100)\n",
      "(956, 'John', 25)\n",
      "(957, 'Alice', 30)\n",
      "(958, 'Bob', 35)\n",
      "(959, 'John', 25)\n",
      "(960, 'Alice', 30)\n",
      "(961, 'Bob', 35)\n",
      "(962, 'John', 25)\n",
      "(963, 'Alice', 30)\n",
      "(964, 'Bob', 35)\n",
      "(968, 'John', 25)\n",
      "(969, 'Alice', 30)\n",
      "(970, 'Bob', 35)\n",
      "(971, 'John', 25)\n",
      "(972, 'John', 25)\n",
      "(973, 'Alice', 30)\n",
      "(974, 'Bob', 35)\n",
      "(975, 'John', 25)\n",
      "(976, 'John', 25)\n",
      "(977, 'Alice', 30)\n",
      "(978, 'Bob', 35)\n",
      "(979, 'John', 25)\n",
      "(980, 'John', 25)\n",
      "(985, 'John', 25)\n",
      "(986, 'John', 25)\n",
      "(987, 'Amy', 30)\n",
      "(991, 'Fernando', 17)\n",
      "(992, 'Lucie', 20)\n",
      "(1004, 'Franklin', 45)\n",
      "(1005, 'John', 25)\n",
      "(1006, 'Alice', 30)\n",
      "(1007, 'Bob', 35)\n",
      "(1008, 'Franklin', 45)\n",
      "(1009, 'Esel', 15)\n",
      "(1010, 'Shrek', 40)\n",
      "(1011, 'Fiona', 28)\n",
      "(1012, 'Franklin', 45)\n",
      "(1013, 'Esel', 15)\n",
      "(1014, 'Shrek', 40)\n",
      "(1015, 'Fiona', 28)\n",
      "(1016, 'Franklin', 45)\n",
      "(1017, 'Esel', 15)\n",
      "(1018, 'Shrek', 40)\n",
      "(1019, 'Fiona', 28)\n",
      "(1020, 'Franklin', 45)\n",
      "(1021, 'Esel', 15)\n",
      "(1022, 'Shrek', 40)\n",
      "(1023, 'Fiona', 28)\n",
      "(1030, 'John', 25)\n",
      "(1038, 'John', 25)\n",
      "(1039, 'John', 25)\n",
      "(1040, 'Alice', 30)\n",
      "(1041, 'Bob', 35)\n",
      "(1044, 'John', 25)\n",
      "(1060, 'John', 25)\n",
      "(1061, 'John', 25)\n",
      "(1062, 'John', 25)\n",
      "(1069, 'John', 25)\n",
      "(1081, 'John', 25)\n",
      "(1082, 'John', 25)\n",
      "(1083, 'John', 25)\n",
      "(1084, 'John', 25)\n",
      "(1085, 'Alice', 30)\n",
      "(1086, 'Bob', 35)\n",
      "(1087, 'John', 25)\n",
      "(1088, 'Alice', 30)\n",
      "(1089, 'Bob', 35)\n",
      "(1090, 'John', 25)\n",
      "(1091, 'John', 25)\n",
      "(1092, 'John', 25)\n",
      "(1093, 'John', 25)\n",
      "(1094, 'Alice', 30)\n",
      "(1095, 'Bob', 35)\n",
      "(1096, 'John', 25)\n",
      "(1097, 'Alice', 30)\n",
      "(1098, 'Bob', 35)\n",
      "(1099, 'John', 25)\n",
      "(1100, 'Alice', 30)\n",
      "(1101, 'Bob', 35)\n",
      "(1102, 'John', 25)\n",
      "(1103, 'John', 25)\n",
      "(1105, 'Alex', 34)\n",
      "(1106, 'Alex', 34)\n",
      "(1107, 'Bob', 18)\n",
      "(1126, 'John', 25)\n",
      "(1127, 'Alice', 30)\n",
      "(1128, 'Bob', 35)\n",
      "(1130, 'John', 25)\n",
      "(1131, 'Alice', 30)\n",
      "(1132, 'Bob', 35)\n",
      "(1134, 'John', 25)\n",
      "(1135, 'Alice', 30)\n",
      "(1136, 'Bob', 35)\n",
      "(1138, 'John', 25)\n",
      "(1139, 'Alice', 30)\n",
      "(1140, 'Bob', 35)\n",
      "(1142, 'John', 25)\n",
      "(1143, 'Alice', 30)\n",
      "(1144, 'Bob', 35)\n",
      "(1146, 'John', 25)\n",
      "(1147, 'Alice', 30)\n",
      "(1148, 'Bob', 35)\n",
      "(1150, 'John', 25)\n",
      "(1151, 'Alice', 30)\n",
      "(1152, 'Bob', 35)\n",
      "(1155, 'John', 25)\n",
      "(1156, 'Alice', 30)\n",
      "(1157, 'Bob', 35)\n",
      "(1159, 'John', 25)\n",
      "(1160, 'Alice', 30)\n",
      "(1161, 'Bob', 35)\n",
      "(1163, 'John', 25)\n",
      "(1164, 'Alice', 30)\n",
      "(1165, 'Bob', 35)\n",
      "(1167, 'John', 25)\n",
      "(1168, 'Alice', 30)\n",
      "(1169, 'Bob', 35)\n",
      "(1171, 'John', 25)\n",
      "(1172, 'Alice', 30)\n",
      "(1173, 'Bob', 35)\n",
      "(1206, 'John', 25)\n",
      "(1207, 'Alice', 30)\n",
      "(1208, 'Bob', 35)\n",
      "(1210, 'John', 25)\n",
      "(1211, 'Alice', 30)\n",
      "(1212, 'Bob', 35)\n",
      "(1217, 'Ганна', 94)\n",
      "(1240, 'вова', 10)\n",
      "(1241, 'вова', 16)\n",
      "(1242, 'вова', 16)\n",
      "(1243, 'John', 25)\n",
      "(1244, 'Alice', 30)\n",
      "(1245, 'Bob', 35)\n",
      "(1246, 'John', 25)\n",
      "(1247, 'Alice', 30)\n",
      "(1248, 'Bob', 35)\n",
      "(1250, 'вова', 16)\n",
      "(1251, 'John', 25)\n",
      "(1252, 'John', 25)\n",
      "(1253, 'Alice', 30)\n",
      "(1254, 'Bob', 35)\n",
      "(1255, 'вова', 16)\n",
      "(1257, 'вова', 16)\n",
      "(1258, 'John', 75)\n",
      "(1259, 'вова', 16)\n",
      "(1260, 'Вова', 16)\n",
      "(1261, 'Вова', 17)\n",
      "(1262, 'John', 75)\n",
      "(1263, '3', 75)\n",
      "(1265, '3', 16)\n",
      "(1266, 'Ivan', 25)\n",
      "(1267, 'Ivan', 25)\n",
      "(1269, 'Ivan', 25)\n",
      "(1270, 'Tom', 78)\n",
      "(1272, 'AAU', 25)\n",
      "(1273, 'AAU', 25)\n",
      "(1274, 'Вова', 12)\n",
      "(1275, 'AAU', 25)\n",
      "(1276, 'Dima', 16)\n",
      "(1277, 'Dima', 16)\n",
      "(1278, 'Karl', 16)\n",
      "(1279, 'Dima', 16)\n",
      "(1280, 'Dima', 16)\n",
      "(1281, 'Dima', 16)\n",
      "(1282, 'Вова', 12)\n",
      "(1283, 'Вова', 12)\n",
      "(1285, 'Vova', 16)\n",
      "(1286, 'Vova', 16)\n",
      "(1287, 'Tom', 78)\n",
      "(1288, 'John', 25)\n",
      "(1289, 'Alice', 30)\n",
      "(1290, 'Bob', 35)\n",
      "(1295, 'John', 25)\n",
      "(1296, 'John', 25)\n",
      "(1297, 'Alice', 30)\n",
      "(1298, 'Bob', 35)\n",
      "(1307, 'John-2400', 25)\n",
      "(1308, 'John-2500', 25)\n",
      "(1309, 'Alice-2600', 30)\n",
      "(1310, 'Bob-2700', 35)\n",
      "(1311, 'John', 25)\n",
      "(1312, 'Alice', 30)\n",
      "(1313, 'Bob', 35)\n",
      "(1314, 'John-24', 25)\n",
      "(1315, 'John-25', 25)\n",
      "(1316, 'Alice-26', 30)\n",
      "(1317, 'Bob-27', 35)\n",
      "(1318, 'John-24', 25)\n",
      "(1319, 'John-25', 25)\n",
      "(1320, 'Alice-26', 30)\n",
      "(1321, 'Bob-27', 35)\n",
      "(1322, 'John-24', 25)\n",
      "(1323, 'John-25', 25)\n",
      "(1324, 'Alice-26', 30)\n",
      "(1325, 'Bob-27', 35)\n",
      "(1328, 'Johnnnn', 25)\n",
      "(1329, 'John', 25)\n",
      "(1330, 'John', 25)\n",
      "(1331, 'John-24', 25)\n",
      "(1332, 'John-25', 25)\n",
      "(1333, 'Alice-26', 30)\n",
      "(1334, 'Bob-27', 35)\n",
      "(1335, 'John-24', 25)\n",
      "(1336, 'John-25', 25)\n",
      "(1337, 'Alice-26', 30)\n",
      "(1338, 'Bob-27', 35)\n",
      "(1342, 'Alice', 30)\n",
      "(1345, 'USER 4', 48)\n",
      "(1346, 'USER 4', 48)\n",
      "(1347, 'USER 4', 48)\n",
      "(1348, 'USER 5', 48)\n",
      "(1349, 'Anatoli', 48)\n",
      "(1350, 'USER 4', 48)\n",
      "(1353, 'USER 21', 21)\n",
      "(1354, 'USER 4', 48)\n",
      "(1355, 'USER 4', 48)\n",
      "(1356, 'USER 4', 48)\n",
      "(1357, 'USER 4', 48)\n",
      "(1358, 'USER 4', 48)\n",
      "(1359, 'USER 4', 48)\n",
      "(1360, 'USER 4', 48)\n",
      "(1361, 'USER 4', 48)\n",
      "(1362, 'USER 4', 48)\n",
      "(1363, 'USER 4', 48)\n",
      "(1364, 'USER 4', 48)\n",
      "(1365, 'USER 4', 48)\n",
      "(1366, 'USER 4', 48)\n",
      "(1367, 'USER 4', 48)\n",
      "(1368, 'USER 4', 48)\n",
      "(1369, 'USER 4', 48)\n",
      "(1370, 'USER 4', 48)\n",
      "(1371, 'USER 4', 48)\n",
      "(1372, 'USER 4', 48)\n",
      "(1373, 'USER 4', 48)\n",
      "(1374, 'USER 4', 48)\n",
      "(1375, 'USER 4', 48)\n",
      "(1376, 'USER 4', 48)\n",
      "(1377, 'USER 4', 48)\n",
      "(1378, 'USER 4', 48)\n",
      "(1379, 'USER 4', 48)\n",
      "(1380, 'USER 4', 48)\n",
      "(1381, 'USER 4', 48)\n",
      "(1382, 'USER 4', 48)\n",
      "(1383, 'USER 4', 48)\n",
      "(1384, 'USER 4', 48)\n",
      "(1385, 'USER 4', 48)\n",
      "(1386, 'USER 4', 48)\n",
      "(1387, 'USER 4', 48)\n",
      "(1388, 'USER 4', 48)\n",
      "(1389, 'USER 4', 48)\n",
      "(1390, 'USER 4', 48)\n",
      "(1391, 'USER 4', 48)\n",
      "(1392, 'USER 4', 48)\n",
      "(1393, 'USER 4', 48)\n",
      "(1394, 'USER 4', 48)\n",
      "(1395, 'USER 4', 48)\n",
      "(1396, 'USER 4', 48)\n",
      "(1397, 'USER 4', 48)\n",
      "(1398, 'USER 4', 48)\n",
      "(1399, 'USER 4', 48)\n",
      "(1400, 'USER 4', 48)\n",
      "(1401, 'USER 4', 48)\n",
      "(1402, 'USER 4', 48)\n",
      "(1403, 'USER 4', 48)\n",
      "(1404, 'USER 4', 48)\n",
      "(1405, 'USER 4', 48)\n",
      "(1406, 'USER 4', 48)\n",
      "(1407, 'USER 4', 48)\n",
      "(1408, 'USER 4', 48)\n",
      "(1409, 'USER 4', 48)\n",
      "(1410, 'USER 4', 48)\n",
      "(1411, 'USER 4', 48)\n",
      "(1412, 'USER 4', 48)\n",
      "(1413, 'USER 4', 48)\n",
      "(1414, 'USER 4', 48)\n",
      "(1415, 'USER 4', 48)\n",
      "(1416, 'USER 4', 48)\n",
      "(1417, 'USER 4', 48)\n",
      "(1418, 'USER 4', 48)\n",
      "(1419, 'USER 4', 48)\n",
      "(1420, 'USER 4', 48)\n",
      "(1421, 'USER 4', 48)\n",
      "(1422, 'USER 4', 48)\n",
      "(1423, 'USER 4', 48)\n",
      "(1424, 'USER 4', 48)\n",
      "(1425, 'USER 4', 48)\n",
      "(1426, 'USER 4', 48)\n",
      "(1427, 'USER 4', 48)\n",
      "(1428, 'USER 4', 48)\n",
      "(1429, 'USER 4', 48)\n",
      "(1430, 'USER 4', 48)\n",
      "(1431, 'USER 4', 48)\n",
      "(1432, 'USER 4', 48)\n",
      "(1433, 'USER 4', 48)\n",
      "(1434, 'USER 4', 48)\n",
      "(1435, 'USER 4', 48)\n",
      "(1436, 'USER 4', 48)\n",
      "(1437, 'USER 4', 48)\n",
      "(1438, 'USER 4', 48)\n",
      "(1439, 'USER 4', 48)\n",
      "(1440, 'USER 4', 48)\n",
      "(1441, 'USER 4', 48)\n",
      "(1442, 'USER 4', 48)\n",
      "(1443, 'USER 4', 48)\n",
      "(1444, 'USER 4', 48)\n",
      "(1445, 'USER 4', 48)\n",
      "(1446, 'USER 4', 48)\n",
      "(1447, 'USER 4', 48)\n",
      "(1448, 'USER 4', 48)\n",
      "(1449, 'USER 4', 48)\n",
      "(1450, 'USER 4', 48)\n",
      "(1451, 'USER 4', 48)\n",
      "(1452, 'USER 4', 48)\n",
      "(1453, 'USER 4', 48)\n",
      "(1454, 'USER 4', 48)\n",
      "(1455, 'USER 4', 48)\n",
      "(1456, 'USER 4', 48)\n",
      "(1457, 'USER 4', 48)\n",
      "(1458, 'USER 4', 48)\n",
      "(1459, 'USER 4', 48)\n",
      "(1460, 'USER 4', 48)\n",
      "(1461, 'USER 4', 48)\n",
      "(1462, 'USER 4', 48)\n",
      "(1463, 'USER 4', 48)\n",
      "(1464, 'USER 4', 48)\n",
      "(1465, 'USER 4', 48)\n",
      "(1466, 'USER 4', 48)\n",
      "(1467, 'USER 4', 48)\n",
      "(1468, 'USER 4', 48)\n",
      "(1469, 'USER 4', 48)\n",
      "(1470, 'USER 4', 48)\n",
      "(1471, 'USER 4', 48)\n",
      "(1472, 'USER 4', 48)\n",
      "(1473, 'USER 4', 48)\n",
      "(1474, 'USER 4', 48)\n",
      "(1475, 'USER 4', 48)\n",
      "(1476, 'USER 4', 48)\n",
      "(1477, 'USER 4', 48)\n",
      "(1478, 'USER 4', 48)\n",
      "(1479, 'USER 4', 48)\n",
      "(1480, 'USER 4', 48)\n",
      "(1481, 'USER 4', 48)\n",
      "(1482, 'USER 4', 48)\n",
      "(1483, 'USER 4', 48)\n",
      "(1484, 'USER 4', 48)\n",
      "(1485, 'USER 4', 48)\n",
      "(1486, 'USER 4', 48)\n",
      "(1487, 'USER 4', 48)\n",
      "(1488, 'USER 4', 48)\n",
      "(1489, 'USER 4', 48)\n",
      "(1490, 'USER 4', 48)\n",
      "(1491, 'USER 4', 48)\n",
      "(1492, 'USER 4', 48)\n",
      "(1493, 'USER 4', 48)\n",
      "(1494, 'USER 4', 48)\n",
      "(1495, 'USER 4', 48)\n",
      "(1496, 'USER 4', 48)\n",
      "(1497, 'USER 4', 48)\n",
      "(1498, 'USER 4', 48)\n",
      "(1499, 'USER 4', 48)\n",
      "(1500, 'USER 4', 48)\n",
      "(1501, 'USER 4', 48)\n",
      "(1502, 'USER 4', 48)\n",
      "(1503, 'USER 4', 48)\n",
      "(1504, 'USER 4', 48)\n",
      "(1505, 'USER 4', 48)\n",
      "(1506, 'USER 4', 48)\n",
      "(1507, 'USER 4', 48)\n",
      "(1508, 'USER 4', 48)\n",
      "(1509, 'USER 4', 48)\n",
      "(1510, 'USER 4', 48)\n",
      "(1511, 'USER 4', 48)\n",
      "(1512, 'USER 4', 48)\n",
      "(1513, 'USER 4', 48)\n",
      "(1514, 'USER 4', 48)\n",
      "(1515, 'USER 4', 48)\n",
      "(1516, 'USER 4', 48)\n",
      "(1517, 'USER 4', 48)\n",
      "(1518, 'USER 4', 48)\n",
      "(1519, 'USER 4', 48)\n",
      "(1520, 'USER 4', 48)\n",
      "(1521, 'USER 4', 48)\n",
      "(1522, 'USER 4', 48)\n",
      "(1523, 'USER 4', 48)\n",
      "(1524, 'USER 4', 48)\n",
      "(1525, 'USER 4', 48)\n",
      "(1526, 'USER 4', 48)\n",
      "(1527, 'USER 4', 48)\n",
      "(1528, 'USER 4', 48)\n",
      "(1529, 'USER 4', 48)\n",
      "(1530, 'USER 4', 48)\n",
      "(1531, 'USER 4', 48)\n",
      "(1532, 'USER 4', 48)\n",
      "(1533, 'USER 4', 48)\n",
      "(1534, 'USER 4', 48)\n",
      "(1535, 'USER 4', 48)\n",
      "(1536, 'USER 4', 48)\n",
      "(1537, 'USER 4', 48)\n",
      "(1538, 'USER 4', 48)\n",
      "(1539, 'USER 4', 48)\n",
      "(1540, 'USER 4', 48)\n",
      "(1541, 'USER 4', 48)\n",
      "(1542, 'USER 4', 48)\n",
      "(1543, 'USER 4', 48)\n",
      "(1544, 'USER 4', 48)\n",
      "(1545, 'USER 4', 48)\n",
      "(1546, 'USER 4', 48)\n",
      "(1547, 'USER 4', 48)\n",
      "(1548, 'USER 4', 48)\n",
      "(1549, 'USER 4', 48)\n",
      "(1550, 'USER 4', 48)\n",
      "(1551, 'USER 4', 48)\n",
      "(1552, 'USER 4', 48)\n",
      "(1553, 'USER 4', 48)\n",
      "(1554, 'USER 4', 48)\n",
      "(1555, 'USER 4', 48)\n",
      "(1556, 'USER 4', 48)\n",
      "(1557, 'USER 4', 48)\n",
      "(1558, 'USER 4', 48)\n",
      "(1559, 'USER 4', 48)\n",
      "(1560, 'USER 4', 48)\n",
      "(1561, 'USER 4', 48)\n",
      "(1562, 'USER 4', 48)\n",
      "(1563, 'USER 4', 48)\n",
      "(1564, 'USER 4', 48)\n",
      "(1565, 'USER 4', 48)\n",
      "(1566, 'USER 4', 48)\n",
      "(1567, 'USER 4', 48)\n",
      "(1568, 'USER 4', 48)\n",
      "(1573, 'USER 6', 50)\n",
      "(1575, 'USER 4', 48)\n",
      "(1576, 'USER 4', 48)\n",
      "(1577, 'USER 4', 48)\n",
      "(1578, 'USER 4', 48)\n",
      "(1579, 'USER 4', 48)\n",
      "(1580, 'USER 4', 48)\n",
      "(1581, 'USER 4', 48)\n",
      "(1582, 'USER 4', 48)\n",
      "(1583, 'USER 4', 48)\n",
      "(1584, 'USER 4', 48)\n",
      "(1585, 'USER 4', 48)\n",
      "(1586, 'USER 4', 48)\n",
      "(1587, 'USER 4', 48)\n",
      "(1588, 'USER 4', 48)\n",
      "(1589, 'USER 4', 48)\n",
      "(1590, 'USER 4', 48)\n",
      "(1591, 'USER 4', 48)\n",
      "(1592, 'USER 4', 48)\n",
      "(1593, 'USER 4', 48)\n",
      "(1594, 'USER 4', 48)\n",
      "(1595, 'USER 4', 48)\n",
      "(1596, 'USER 4', 48)\n",
      "(1597, 'USER 4', 48)\n",
      "(1598, 'USER 4', 48)\n",
      "(1599, 'USER 4', 48)\n",
      "(1600, 'USER 4', 48)\n",
      "(1601, 'USER 4', 48)\n",
      "(1602, 'USER 4', 48)\n",
      "(1603, 'USER 4', 48)\n",
      "(1604, 'USER 4', 48)\n",
      "(1605, 'USER 4', 48)\n",
      "(1606, 'USER 4', 48)\n",
      "(1607, 'USER 4', 48)\n",
      "(1608, 'USER 4', 48)\n",
      "(1609, 'USER 4', 48)\n",
      "(1610, 'USER 4', 48)\n",
      "(1611, 'USER 4', 48)\n",
      "(1612, 'USER 4', 48)\n",
      "(1613, 'USER 4', 48)\n",
      "(1614, 'USER 4', 48)\n",
      "(1615, 'John', 25)\n",
      "(1616, 'John', 25)\n",
      "(1617, 'Alice', 30)\n",
      "(1618, 'Bob', 35)\n",
      "(1619, 'John', 25)\n"
     ]
    }
   ],
   "source": [
    "result = cursor.fetchall()\n",
    "\n",
    "for row in result:\n",
    "    print(row)\n"
   ]
  },
  {
   "cell_type": "markdown",
   "id": "e944d72c",
   "metadata": {},
   "source": [
    "В Python, метод fetchall() используется для извлечения всех строк из результата запроса и сохранения их в памяти. Это удобно, когда результат содержит небольшое количество данных. Однако, если результат запроса очень большой, использование fetchall() может привести к значительному использованию памяти.\n",
    "\n",
    "В таких случаях можно использовать fetchone() или fetchmany(size):\n",
    "\n",
    "fetchone() извлекает следующую строку результата запроса.\n",
    "fetchmany(size) извлекает следующий набор строк результата запроса в соответствии с указанным размером.\n",
    "Использование fetchone() или fetchmany(size) помогает контролировать объем используемой памяти, так как данные извлекаются порционно. Важно учитывать объем доступной памяти и размер данных при выборе метода извлечения данных."
   ]
  },
  {
   "cell_type": "markdown",
   "id": "218d28bb",
   "metadata": {},
   "source": [
    " Метод execute может также принимать параметры, которые могут быть переданы в SQL-запрос с использованием специального синтаксиса. Например:"
   ]
  },
  {
   "cell_type": "code",
   "execution_count": null,
   "id": "690c4d7d",
   "metadata": {},
   "outputs": [],
   "source": [
    "name = \"John\"\n",
    "age = 25\n",
    "cursor.execute(\"INSERT INTO users (name, age) VALUES (%s, %s)\", (name, age))\n",
    "#cursor.execute(f\"INSERT INTO users (name, age) VALUES ('{name}', {age})\")"
   ]
  },
  {
   "cell_type": "markdown",
   "id": "e24a3128-fcae-4a6f-a5cd-1612e76e70c0",
   "metadata": {},
   "source": [
    "Когда вы используете f-строки для формирования SQL-запросов, вам нужно убедиться, что строковые значения заключены в кавычки. Однако, использование f-строк для формирования SQL-запросов небезопасно и может привести к SQL-инъекциям. Вместо этого рекомендуется использовать параметризованные запросы."
   ]
  },
  {
   "cell_type": "markdown",
   "id": "71104b49",
   "metadata": {},
   "source": [
    " Метод executemany позволяет выполнить несколько операций с разными значениями параметров. Он принимает два аргумента: строку с SQL-запросом и последовательность кортежей или списков, содержащих значения параметров. Пример:"
   ]
  },
  {
   "cell_type": "code",
   "execution_count": null,
   "id": "f1526729",
   "metadata": {},
   "outputs": [],
   "source": [
    "data = [(\"John\", 25), (\"Alice\", 30), (\"Bob\", 35)]\n",
    "cursor.executemany(\"INSERT INTO users (name, age) VALUES (%s, %s)\", data)\n"
   ]
  },
  {
   "cell_type": "markdown",
   "id": "9fa65172",
   "metadata": {},
   "source": [
    "В данном примере будет выполнено несколько операций INSERT для добавления пользователей в таблицу users."
   ]
  },
  {
   "cell_type": "markdown",
   "id": "f9003b50-8ee7-4aee-9182-9b6e35853665",
   "metadata": {},
   "source": [
    "### Commit"
   ]
  },
  {
   "cell_type": "markdown",
   "id": "94b11df3",
   "metadata": {},
   "source": [
    "Метод commit применяется после выполнения операций, которые изменяют данные в базе данных, чтобы сохранить изменения. Он вызывается на объекте соединения (connection). Пример:"
   ]
  },
  {
   "cell_type": "code",
   "execution_count": null,
   "id": "adf398d8",
   "metadata": {},
   "outputs": [],
   "source": [
    "connection.commit()"
   ]
  },
  {
   "cell_type": "markdown",
   "id": "0e36f928",
   "metadata": {},
   "source": [
    " В библиотеке mysql.connector есть возможность использовать параметры с именованными заполнителями в SQL-запросах. Вместо плейсхолдеров %s можно использовать имена, которые будут заменены соответствующими значениями при выполнении запроса."
   ]
  },
  {
   "cell_type": "code",
   "execution_count": null,
   "id": "4301c0a6",
   "metadata": {},
   "outputs": [],
   "source": [
    "data = {\"name\": \"John\", \"age\": 25}\n",
    "cursor.execute(\"INSERT INTO users (name, age) VALUES (%(name)s, %(age)s)\", data)\n"
   ]
  },
  {
   "cell_type": "markdown",
   "id": "0caec88f-4337-4fe5-a6fd-25e5bc4c9f7b",
   "metadata": {},
   "source": [
    "### Транзакция"
   ]
  },
  {
   "cell_type": "markdown",
   "id": "086b9097",
   "metadata": {},
   "source": [
    "Работа с базой данных может быть выполнена в рамках транзакции.\n",
    "\n",
    "Транзакция представляет собой логическую группу операций, которые должны быть выполнены все или ни одна. Для выполнения транзакций можно использовать методы commit и rollback. Если все операции в транзакции прошли успешно, вызов commit фиксирует изменения. В случае возникновения ошибки или отката транзакции вызывается метод rollback, который отменяет все выполненные операции.\n"
   ]
  },
  {
   "cell_type": "code",
   "execution_count": null,
   "id": "b4019b8d",
   "metadata": {},
   "outputs": [],
   "source": [
    "print(connection.is_connected())"
   ]
  },
  {
   "cell_type": "markdown",
   "id": "9e38a855-7ae2-4c09-90c5-15edf9783746",
   "metadata": {},
   "source": [
    "это блок, который можно использовать для обработки ошибок, связанных с базой данных. В случае возникновения исключения, можно обработать ошибку"
   ]
  },
  {
   "cell_type": "code",
   "execution_count": null,
   "id": "dfc33f76",
   "metadata": {},
   "outputs": [],
   "source": [
    "try:\n",
    "    connection = mysql.connector.connect(**dbconfig)\n",
    "    cursor = connection.cursor()\n",
    "\n",
    "    # Выполнение операций в рамках транзакции\n",
    "\n",
    "    connection.commit()\n",
    "except:\n",
    "    connection.rollback()\n",
    "finally:\n",
    "    cursor.close()\n",
    "    connection.close()\n"
   ]
  },
  {
   "cell_type": "markdown",
   "id": "0d958799",
   "metadata": {},
   "source": [
    "1. connection = mysql.connector.connect(**dbconfig)\n",
    "Эта команда устанавливает соединение с базой данных. dbconfig - это словарь с параметрами подключения, такими как имя пользователя, пароль, хост и т.д.\n",
    "2. cursor = connection.cursor():\n",
    "Создает объект курсора, который используется для выполнения запросов и получения результатов.\n",
    "3. connection.commit()\n",
    "Применяет все изменения, сделанные в рамках текущей транзакции. Это гарантирует, что все операции будут сохранены в базе данных.\n",
    "4. except: connection.rollback()\n",
    "Если во время выполнения транзакции происходит исключение, вызывается rollback(), который отменяет все операции транзакции.\n",
    "5. finally: cursor.close()\n",
    "Закрывает объект курсора после завершения работы с ним. Это освобождает ресурсы системы.\n",
    "6. connection.close()\n",
    "Закрывает соединение с базой данных. Это важно для освобождения ресурсов подключения к базе данных.\n",
    "Этот код обеспечивает безопасное выполнение операций с базой данных, обрабатывая исключения и корректно закрывая соединения."
   ]
  },
  {
   "cell_type": "markdown",
   "id": "8404dede",
   "metadata": {},
   "source": [
    "Для обработки ошибок, связанных с базой данных, также можно использовать блок try-except. В случае возникновения исключения, можно обработать ошибку."
   ]
  },
  {
   "cell_type": "code",
   "execution_count": null,
   "id": "50d5810a",
   "metadata": {},
   "outputs": [],
   "source": [
    "try:\n",
    "    cursor.execute(\"INSERT INTO users (name, age) VALUES (%s, %s)\", (\"John\", 25))\n",
    "    connection.commit()\n",
    "except mysql.connector.Error as e:\n",
    "    print(\"Ошибка базы данных:\", e)\n",
    "    connection.rollback()\n"
   ]
  },
  {
   "cell_type": "markdown",
   "id": "69eb18ec-a1dd-409e-b1b4-8286c7319181",
   "metadata": {},
   "source": [
    "### Разделение логики при работе с БД (многомодульность)"
   ]
  },
  {
   "cell_type": "markdown",
   "id": "472a9ca8",
   "metadata": {},
   "source": [
    "При работе с большими объемами данных или сложными запросами может потребоваться разделение логики работы с базой данных на несколько функций или классов. Это позволяет улучшить читаемость и обеспечить модульность кода."
   ]
  },
  {
   "cell_type": "code",
   "execution_count": null,
   "id": "8d12463e",
   "metadata": {},
   "outputs": [],
   "source": [
    "def insert_user(cursor, name, age):\n",
    "    cursor.execute(\"INSERT INTO users (name, age) VALUES (%s, %s)\", (name, age))\n",
    "\n",
    "def get_users(cursor):\n",
    "    cursor.execute(\"SELECT * FROM users\")\n",
    "    return cursor.fetchall()\n"
   ]
  },
  {
   "cell_type": "code",
   "execution_count": null,
   "id": "35a0bf59-b5ab-4185-8728-593eda105439",
   "metadata": {},
   "outputs": [],
   "source": [
    "result = get_users(cursor)\n",
    "for item in result:\n",
    "    print(item)"
   ]
  },
  {
   "cell_type": "markdown",
   "id": "45956ba2",
   "metadata": {},
   "source": [
    "### ПРАКТИКА. Написание интерфейса к базе данных"
   ]
  },
  {
   "cell_type": "markdown",
   "id": "3de9998b",
   "metadata": {},
   "source": [
    "Написать программу, которая запрашивает у пользователя возраст и выводит все строки таблицы users, где возраст больше указанного."
   ]
  },
  {
   "cell_type": "markdown",
   "id": "e5172d45",
   "metadata": {},
   "source": [
    "1. Подключение к БД\n",
    "2. Создаем курсор\n",
    "3. Запрашиваем данные\n",
    "4. execute\n",
    "5. Вывод данных из БД\n",
    "6. Закрытие курсора и конектора"
   ]
  },
  {
   "cell_type": "code",
   "execution_count": null,
   "id": "a9ed276a",
   "metadata": {},
   "outputs": [],
   "source": [
    "import mysql.connector\n",
    "\n",
    "# Подключение к базе данных\n",
    "dbconfig = {'host': 'ich-db.edu.itcareerhub.de',\n",
    "            'user': 'ich1',\n",
    "            'password': 'password',\n",
    "            'database': 'ich_edit'}\n",
    "\n",
    "connection = mysql.connector.connect(**dbconfig)\n",
    "cursor = connection.cursor()\n",
    "\n",
    "# Запрос возраста у пользователя\n",
    "age = input(\"Введите возраст: \")\n",
    "\n",
    "# Выполнение запроса к базе данных\n",
    "query = f\"SELECT * FROM users WHERE age > {age}\"\n",
    "cursor.execute(f\"SELECT * FROM users WHERE age > {age}\")\n",
    "#cursor.execute(\"SELECT * FROM users WHERE age > %s\",(age,))\n",
    "#cursor.execute(\"SELECT * FROM users WHERE age > %s\"%(age,))\n",
    "# cursor.execute(query)\n",
    "# Вывод результатов\n",
    "for row in cursor:\n",
    "    print(row)\n",
    "\n",
    "# Закрытие соединений\n",
    "cursor.close()\n",
    "connection.close()\n"
   ]
  },
  {
   "cell_type": "code",
   "execution_count": null,
   "id": "8276b3e1",
   "metadata": {},
   "outputs": [],
   "source": []
  },
  {
   "cell_type": "markdown",
   "id": "58748ee8",
   "metadata": {},
   "source": [
    "В базе данных ich_edit три таблицы. Users с полями (id, name, age), Products с полями (pid, prod, quantity) и Sales с полями (sid, id, pid).\n",
    "Программа должна вывести все покупки каждого пользователя."
   ]
  },
  {
   "cell_type": "code",
   "execution_count": null,
   "id": "229cadc4",
   "metadata": {},
   "outputs": [],
   "source": [
    "import mysql.connector\n",
    "\n",
    "dbconfig = {'host': 'ich-db.edu.itcareerhub.de',\n",
    "            'user': 'ich1',\n",
    "            'password': 'password',\n",
    "            'database': 'ich_edit'}\n",
    "\n",
    "connection = mysql.connector.connect(**dbconfig)\n",
    "\n",
    "cursor = connection.cursor()\n",
    "\n",
    "# Запрос для получения всех покупок каждого пользователя\n",
    "query = \"\"\"\n",
    "SELECT users.name, product.prod, product.quantity\n",
    "FROM users\n",
    "JOIN sales ON users.id = sales.id\n",
    "JOIN product ON product.pid = sales.pid\n",
    "\"\"\"\n",
    "\n",
    "cursor.execute(query)\n",
    "\n",
    "# Вывод результатов\n",
    "for (name, prod, quantity) in cursor:\n",
    "    print(f\"Пользователь {name} купил {prod}, количество: {quantity}\")\n",
    "\n",
    "# Закрытие соединений\n",
    "cursor.close()\n",
    "connection.close()\n"
   ]
  },
  {
   "cell_type": "markdown",
   "id": "a6857f43-4920-49b8-9180-32114bdc4952",
   "metadata": {},
   "source": [
    "### Инструкция по установке локальной БД"
   ]
  },
  {
   "cell_type": "markdown",
   "id": "9bd76e83-97b1-4b71-9c13-9ecf819c9652",
   "metadata": {},
   "source": [
    "Базу данных movies оригинальную можно скачать отсюда https://github.com/it-career-hub/MySQL_databases/blob/main/imdb.movies.sql\n",
    "\n",
    "\n",
    "!!! Не забывайте обновить дерево на панели Schemas нажав кнопку вверху справа с стрелочками, чтобы увидеть новую базу в Workbench\n",
    "\n",
    "GitHub\n",
    "\n",
    "MySQL_databases/imdb.movies.sql at main · it-career-hub/MySQL_databases\n",
    "Contribute to it-career-hub/MySQL_databases development by creating an account on GitHub.\n",
    "\n",
    "imdb.movies.sql\n",
    "\n",
    "<https://github.com/it-career-hub/MySQL_databases|it-career-hub/MySQL_databases>it-career-hub/MySQL_databases | Added by GitHub"
   ]
  },
  {
   "cell_type": "markdown",
   "id": "d95bd696-6062-4395-965f-e413b4d86ef3",
   "metadata": {},
   "source": [
    "### Вопросы для закрепления\n",
    "1. Как подключиться к базе данных из питона? Как понять, какой модуль использовать?\n",
    "2. Какими методами можно выполнять запросы и получать данные, которые могут быть возвращены в результате запроса?\n",
    "3. Как лучше всего обрабатывать ошибки, которые могут возникать?\n",
    "\n",
    "https://habr.com/ru/articles/435652/ Статья \"Как не продолбать пароли в Python скриптах\""
   ]
  },
  {
   "cell_type": "code",
   "execution_count": null,
   "id": "53c9ec9d-fd57-4af2-9ec0-8d52b51b3149",
   "metadata": {},
   "outputs": [],
   "source": []
  }
 ],
 "metadata": {
  "kernelspec": {
   "display_name": "Python 3 (ipykernel)",
   "language": "python",
   "name": "python3"
  },
  "language_info": {
   "codemirror_mode": {
    "name": "ipython",
    "version": 3
   },
   "file_extension": ".py",
   "mimetype": "text/x-python",
   "name": "python",
   "nbconvert_exporter": "python",
   "pygments_lexer": "ipython3",
   "version": "3.12.4"
  }
 },
 "nbformat": 4,
 "nbformat_minor": 5
}
