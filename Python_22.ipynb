{
 "cells": [
  {
   "cell_type": "markdown",
   "id": "1e939f62",
   "metadata": {},
   "source": [
    "# Исключения : обработка ошибок"
   ]
  },
  {
   "cell_type": "markdown",
   "id": "8cbca6ed-37bf-4ed2-9a5c-f71ba915bd96",
   "metadata": {},
   "source": [
    "### Исключения"
   ]
  },
  {
   "cell_type": "markdown",
   "id": "b54d7d8c-ff10-414e-b22b-7f5a62646dbc",
   "metadata": {},
   "source": [
    "Исключения в Python — это способ обработки ошибок, которые могут возникнуть во время выполнения программы. Когда что-то идет не так (например, деление на ноль или попытка открыть несуществующий файл), Python \"бросает\" исключение. Если это исключение не обработать, программа завершится с ошибкой.\n"
   ]
  },
  {
   "cell_type": "code",
   "execution_count": null,
   "id": "a2bc58db-7970-47af-88fb-3792a36b9c29",
   "metadata": {},
   "outputs": [],
   "source": [
    "# Рассмотрим примеры исключений"
   ]
  },
  {
   "cell_type": "code",
   "execution_count": 1,
   "id": "9d7074e7-baba-4909-9301-9907a33b34dd",
   "metadata": {},
   "outputs": [
    {
     "ename": "IndexError",
     "evalue": "list index out of range",
     "output_type": "error",
     "traceback": [
      "\u001b[1;31m---------------------------------------------------------------------------\u001b[0m",
      "\u001b[1;31mIndexError\u001b[0m                                Traceback (most recent call last)",
      "Cell \u001b[1;32mIn[1], line 2\u001b[0m\n\u001b[0;32m      1\u001b[0m lst \u001b[38;5;241m=\u001b[39m [\u001b[38;5;241m1\u001b[39m,\u001b[38;5;241m2\u001b[39m,\u001b[38;5;241m3\u001b[39m,\u001b[38;5;241m4\u001b[39m]\n\u001b[1;32m----> 2\u001b[0m \u001b[38;5;28mprint\u001b[39m(lst[\u001b[38;5;241m10\u001b[39m])\n",
      "\u001b[1;31mIndexError\u001b[0m: list index out of range"
     ]
    }
   ],
   "source": [
    "lst = [1,2,3,4]\n",
    "print(lst[10])"
   ]
  },
  {
   "cell_type": "code",
   "execution_count": 2,
   "id": "0c622772-9660-4861-8d25-72345a28fa9f",
   "metadata": {
    "scrolled": true
   },
   "outputs": [
    {
     "name": "stdin",
     "output_type": "stream",
     "text": [
      " 2\n"
     ]
    },
    {
     "ename": "TypeError",
     "evalue": "unsupported operand type(s) for /: 'int' and 'str'",
     "output_type": "error",
     "traceback": [
      "\u001b[1;31m---------------------------------------------------------------------------\u001b[0m",
      "\u001b[1;31mTypeError\u001b[0m                                 Traceback (most recent call last)",
      "Cell \u001b[1;32mIn[2], line 2\u001b[0m\n\u001b[0;32m      1\u001b[0m n \u001b[38;5;241m=\u001b[39m \u001b[38;5;28minput\u001b[39m()\n\u001b[1;32m----> 2\u001b[0m \u001b[38;5;28mprint\u001b[39m(\u001b[38;5;241m10\u001b[39m\u001b[38;5;241m/\u001b[39mn)\n",
      "\u001b[1;31mTypeError\u001b[0m: unsupported operand type(s) for /: 'int' and 'str'"
     ]
    }
   ],
   "source": [
    "n = input()\n",
    "print(10/n)"
   ]
  },
  {
   "cell_type": "code",
   "execution_count": 3,
   "id": "569128f6-03fa-41d5-b186-6f19952d6a98",
   "metadata": {},
   "outputs": [
    {
     "ename": "ZeroDivisionError",
     "evalue": "division by zero",
     "output_type": "error",
     "traceback": [
      "\u001b[1;31m---------------------------------------------------------------------------\u001b[0m",
      "\u001b[1;31mZeroDivisionError\u001b[0m                         Traceback (most recent call last)",
      "Cell \u001b[1;32mIn[3], line 1\u001b[0m\n\u001b[1;32m----> 1\u001b[0m \u001b[38;5;28mprint\u001b[39m(\u001b[38;5;241m10\u001b[39m\u001b[38;5;241m/\u001b[39m\u001b[38;5;241m0\u001b[39m)\n",
      "\u001b[1;31mZeroDivisionError\u001b[0m: division by zero"
     ]
    }
   ],
   "source": [
    "print(10/0)"
   ]
  },
  {
   "cell_type": "code",
   "execution_count": 4,
   "id": "f9538ff9-c080-4cea-b7ff-c79bb7e20f65",
   "metadata": {},
   "outputs": [
    {
     "ename": "KeyError",
     "evalue": "3",
     "output_type": "error",
     "traceback": [
      "\u001b[1;31m---------------------------------------------------------------------------\u001b[0m",
      "\u001b[1;31mKeyError\u001b[0m                                  Traceback (most recent call last)",
      "Cell \u001b[1;32mIn[4], line 2\u001b[0m\n\u001b[0;32m      1\u001b[0m dct \u001b[38;5;241m=\u001b[39m {\u001b[38;5;241m1\u001b[39m:\u001b[38;5;124m'\u001b[39m\u001b[38;5;124ma\u001b[39m\u001b[38;5;124m'\u001b[39m,\u001b[38;5;241m2\u001b[39m:\u001b[38;5;124m'\u001b[39m\u001b[38;5;124mb\u001b[39m\u001b[38;5;124m'\u001b[39m}\n\u001b[1;32m----> 2\u001b[0m \u001b[38;5;28mprint\u001b[39m(dct[\u001b[38;5;241m3\u001b[39m])\n",
      "\u001b[1;31mKeyError\u001b[0m: 3"
     ]
    }
   ],
   "source": [
    "dct = {1:'a',2:'b'}\n",
    "print(dct[3])"
   ]
  },
  {
   "cell_type": "code",
   "execution_count": 5,
   "id": "be125fa9-f575-447d-b76b-644ba2797102",
   "metadata": {},
   "outputs": [
    {
     "ename": "SyntaxError",
     "evalue": "invalid syntax (3925870941.py, line 1)",
     "output_type": "error",
     "traceback": [
      "\u001b[1;36m  Cell \u001b[1;32mIn[5], line 1\u001b[1;36m\u001b[0m\n\u001b[1;33m    while True print('hello')\u001b[0m\n\u001b[1;37m               ^\u001b[0m\n\u001b[1;31mSyntaxError\u001b[0m\u001b[1;31m:\u001b[0m invalid syntax\n"
     ]
    }
   ],
   "source": [
    "while True print('hello')"
   ]
  },
  {
   "cell_type": "code",
   "execution_count": 6,
   "id": "66f06b24-a48e-49c9-9376-aec8e2b408cb",
   "metadata": {},
   "outputs": [
    {
     "ename": "NameError",
     "evalue": "name 'a' is not defined",
     "output_type": "error",
     "traceback": [
      "\u001b[1;31m---------------------------------------------------------------------------\u001b[0m",
      "\u001b[1;31mNameError\u001b[0m                                 Traceback (most recent call last)",
      "Cell \u001b[1;32mIn[6], line 1\u001b[0m\n\u001b[1;32m----> 1\u001b[0m \u001b[38;5;28mprint\u001b[39m(a \u001b[38;5;241m+\u001b[39m \u001b[38;5;241m5\u001b[39m)\n",
      "\u001b[1;31mNameError\u001b[0m: name 'a' is not defined"
     ]
    }
   ],
   "source": [
    "print(a + 5)"
   ]
  },
  {
   "cell_type": "code",
   "execution_count": 7,
   "id": "b367b637-dd53-4cf7-a529-402529020581",
   "metadata": {},
   "outputs": [
    {
     "ename": "FileNotFoundError",
     "evalue": "[Errno 2] No such file or directory: 'text.txt'",
     "output_type": "error",
     "traceback": [
      "\u001b[1;31m---------------------------------------------------------------------------\u001b[0m",
      "\u001b[1;31mFileNotFoundError\u001b[0m                         Traceback (most recent call last)",
      "Cell \u001b[1;32mIn[7], line 1\u001b[0m\n\u001b[1;32m----> 1\u001b[0m f \u001b[38;5;241m=\u001b[39m \u001b[38;5;28mopen\u001b[39m(\u001b[38;5;124m'\u001b[39m\u001b[38;5;124mtext.txt\u001b[39m\u001b[38;5;124m'\u001b[39m)\n",
      "File \u001b[1;32m~\\anaconda3\\Lib\\site-packages\\IPython\\core\\interactiveshell.py:324\u001b[0m, in \u001b[0;36m_modified_open\u001b[1;34m(file, *args, **kwargs)\u001b[0m\n\u001b[0;32m    317\u001b[0m \u001b[38;5;28;01mif\u001b[39;00m file \u001b[38;5;129;01min\u001b[39;00m {\u001b[38;5;241m0\u001b[39m, \u001b[38;5;241m1\u001b[39m, \u001b[38;5;241m2\u001b[39m}:\n\u001b[0;32m    318\u001b[0m     \u001b[38;5;28;01mraise\u001b[39;00m \u001b[38;5;167;01mValueError\u001b[39;00m(\n\u001b[0;32m    319\u001b[0m         \u001b[38;5;124mf\u001b[39m\u001b[38;5;124m\"\u001b[39m\u001b[38;5;124mIPython won\u001b[39m\u001b[38;5;124m'\u001b[39m\u001b[38;5;124mt let you open fd=\u001b[39m\u001b[38;5;132;01m{\u001b[39;00mfile\u001b[38;5;132;01m}\u001b[39;00m\u001b[38;5;124m by default \u001b[39m\u001b[38;5;124m\"\u001b[39m\n\u001b[0;32m    320\u001b[0m         \u001b[38;5;124m\"\u001b[39m\u001b[38;5;124mas it is likely to crash IPython. If you know what you are doing, \u001b[39m\u001b[38;5;124m\"\u001b[39m\n\u001b[0;32m    321\u001b[0m         \u001b[38;5;124m\"\u001b[39m\u001b[38;5;124myou can use builtins\u001b[39m\u001b[38;5;124m'\u001b[39m\u001b[38;5;124m open.\u001b[39m\u001b[38;5;124m\"\u001b[39m\n\u001b[0;32m    322\u001b[0m     )\n\u001b[1;32m--> 324\u001b[0m \u001b[38;5;28;01mreturn\u001b[39;00m io_open(file, \u001b[38;5;241m*\u001b[39margs, \u001b[38;5;241m*\u001b[39m\u001b[38;5;241m*\u001b[39mkwargs)\n",
      "\u001b[1;31mFileNotFoundError\u001b[0m: [Errno 2] No such file or directory: 'text.txt'"
     ]
    }
   ],
   "source": [
    "f = open('text.txt')"
   ]
  },
  {
   "cell_type": "markdown",
   "id": "0b444d5f-29e1-4e90-a051-2011d43098c5",
   "metadata": {},
   "source": [
    "**Исключения** могут возникать из-за ошибок в коде, непредвиденных условий или других проблем."
   ]
  },
  {
   "cell_type": "code",
   "execution_count": null,
   "id": "4aeda50c-e22d-421e-972e-74db020e1640",
   "metadata": {},
   "outputs": [],
   "source": [
    "Полное описание исключительных ситуаций по ссылке\n",
    "https://docs.python.org/3/library/exceptions.html"
   ]
  },
  {
   "cell_type": "markdown",
   "id": "ed926716-a921-4909-8b2d-7f91eb98f117",
   "metadata": {},
   "source": [
    "Использование исключений позволяет логически разделить обработку ошибок от основного кода программы и предоставить возможность обработки и возврата из исключительных ситуаций.\n"
   ]
  },
  {
   "cell_type": "markdown",
   "id": "4d2a1fc6-f345-43b5-b61a-6aaf03b21d06",
   "metadata": {},
   "source": [
    "### Выбрасывание исключения вручную. Функция raise:"
   ]
  },
  {
   "cell_type": "markdown",
   "id": "a5f0961d-7e97-4ad2-abbc-ed28a3df1333",
   "metadata": {},
   "source": [
    "В Python можно выбросить исключение вручную с помощью ключевого слова raise. Это позволяет программисту указать, что произошло что-то необычное или нежелательное в коде и требуется выполнить определенные действия для обработки исключительной ситуации."
   ]
  },
  {
   "cell_type": "code",
   "execution_count": 8,
   "id": "268a799d",
   "metadata": {},
   "outputs": [],
   "source": [
    "def divide(x, y):\n",
    "    if y == 0:\n",
    "        raise ValueError(\"Деление на ноль недопустимо\")\n",
    "    return x / y\n"
   ]
  },
  {
   "cell_type": "code",
   "execution_count": 9,
   "id": "36233ba9",
   "metadata": {},
   "outputs": [
    {
     "ename": "ValueError",
     "evalue": "Деление на ноль недопустимо",
     "output_type": "error",
     "traceback": [
      "\u001b[1;31m---------------------------------------------------------------------------\u001b[0m",
      "\u001b[1;31mValueError\u001b[0m                                Traceback (most recent call last)",
      "Cell \u001b[1;32mIn[9], line 1\u001b[0m\n\u001b[1;32m----> 1\u001b[0m \u001b[38;5;28mprint\u001b[39m(divide(\u001b[38;5;241m2\u001b[39m,\u001b[38;5;241m0\u001b[39m))\n",
      "Cell \u001b[1;32mIn[8], line 3\u001b[0m, in \u001b[0;36mdivide\u001b[1;34m(x, y)\u001b[0m\n\u001b[0;32m      1\u001b[0m \u001b[38;5;28;01mdef\u001b[39;00m \u001b[38;5;21mdivide\u001b[39m(x, y):\n\u001b[0;32m      2\u001b[0m     \u001b[38;5;28;01mif\u001b[39;00m y \u001b[38;5;241m==\u001b[39m \u001b[38;5;241m0\u001b[39m:\n\u001b[1;32m----> 3\u001b[0m         \u001b[38;5;28;01mraise\u001b[39;00m \u001b[38;5;167;01mValueError\u001b[39;00m(\u001b[38;5;124m\"\u001b[39m\u001b[38;5;124mДеление на ноль недопустимо\u001b[39m\u001b[38;5;124m\"\u001b[39m)\n\u001b[0;32m      4\u001b[0m     \u001b[38;5;28;01mreturn\u001b[39;00m x \u001b[38;5;241m/\u001b[39m y\n",
      "\u001b[1;31mValueError\u001b[0m: Деление на ноль недопустимо"
     ]
    }
   ],
   "source": [
    "print(divide(2,0))"
   ]
  },
  {
   "cell_type": "markdown",
   "id": "75d42e79",
   "metadata": {},
   "source": [
    "Пробуем теперь использовать эту функцию divide вместо обычного деления и видим, что в целом ничего не изменилось"
   ]
  },
  {
   "cell_type": "code",
   "execution_count": 10,
   "id": "6f7c12a8-0412-44db-967e-d6141e939ba3",
   "metadata": {},
   "outputs": [
    {
     "name": "stdout",
     "output_type": "stream",
     "text": [
      "2.0\n"
     ]
    }
   ],
   "source": [
    "print(divide(2,1))"
   ]
  },
  {
   "cell_type": "code",
   "execution_count": 11,
   "id": "cec5be2e",
   "metadata": {},
   "outputs": [],
   "source": [
    "def divide(x, y):\n",
    "    return x / y"
   ]
  },
  {
   "cell_type": "code",
   "execution_count": 12,
   "id": "2e21b2e8",
   "metadata": {},
   "outputs": [
    {
     "ename": "ZeroDivisionError",
     "evalue": "division by zero",
     "output_type": "error",
     "traceback": [
      "\u001b[1;31m---------------------------------------------------------------------------\u001b[0m",
      "\u001b[1;31mZeroDivisionError\u001b[0m                         Traceback (most recent call last)",
      "Cell \u001b[1;32mIn[12], line 1\u001b[0m\n\u001b[1;32m----> 1\u001b[0m \u001b[38;5;28mprint\u001b[39m(divide(\u001b[38;5;241m2\u001b[39m,\u001b[38;5;241m0\u001b[39m))\n",
      "Cell \u001b[1;32mIn[11], line 2\u001b[0m, in \u001b[0;36mdivide\u001b[1;34m(x, y)\u001b[0m\n\u001b[0;32m      1\u001b[0m \u001b[38;5;28;01mdef\u001b[39;00m \u001b[38;5;21mdivide\u001b[39m(x, y):\n\u001b[1;32m----> 2\u001b[0m     \u001b[38;5;28;01mreturn\u001b[39;00m x \u001b[38;5;241m/\u001b[39m y\n",
      "\u001b[1;31mZeroDivisionError\u001b[0m: division by zero"
     ]
    }
   ],
   "source": [
    "print(divide(2,0))"
   ]
  },
  {
   "cell_type": "markdown",
   "id": "74db56db-127e-4bbf-9997-08343fece789",
   "metadata": {
    "jp-MarkdownHeadingCollapsed": true
   },
   "source": [
    "### Иерархия исключений в языке Python. Демонстрация возникновения различных видов исключений\n"
   ]
  },
  {
   "cell_type": "markdown",
   "id": "b00228aa-d7af-4d08-9650-3817eb900842",
   "metadata": {},
   "source": [
    "### try - except\n",
    "это оператор, который позволяет обрабатывать исключения в коде. Чтобы программа не завершалась с ошибкой, можно \"поймать\" исключение с помощью конструкции try и except\n"
   ]
  },
  {
   "cell_type": "markdown",
   "id": "f2b510c4-bfb5-42c5-a405-3402cd3056dc",
   "metadata": {},
   "source": [
    "Оператор try-except позволяет обрабатывать исключения в коде.\n",
    "* Блок try содержит код, который может вызвать исключение,\n",
    "* блок except определяет, как обрабатывать это исключение.\n",
    "\n",
    "Если исключение возникает в блоке try, то выполнение кода в блоке try прекращается, и управление передается в соответствующий блок except."
   ]
  },
  {
   "cell_type": "code",
   "execution_count": 15,
   "id": "a5de780f-df34-43a4-8da9-c69c77b19a67",
   "metadata": {},
   "outputs": [
    {
     "name": "stdout",
     "output_type": "stream",
     "text": [
      "Ой, делить на ноль нельзя!\n"
     ]
    }
   ],
   "source": [
    "try:\n",
    "    x = 10 / 0\n",
    "    print(x)\n",
    "except ZeroDivisionError:\n",
    "    print(\"Ой, делить на ноль нельзя!\")\n"
   ]
  },
  {
   "cell_type": "markdown",
   "id": "751b6356-94d9-40f8-acbf-f0d3e32dba17",
   "metadata": {},
   "source": [
    "В этом случае, вместо ошибки программа выведет сообщение: \"Ой, делить на ноль нельзя!\"."
   ]
  },
  {
   "cell_type": "code",
   "execution_count": 16,
   "id": "af2ac214-2dbd-47c2-864a-cf21b8d0cc7d",
   "metadata": {},
   "outputs": [
    {
     "ename": "ValueError",
     "evalue": "invalid literal for int() with base 10: 'abc'",
     "output_type": "error",
     "traceback": [
      "\u001b[1;31m---------------------------------------------------------------------------\u001b[0m",
      "\u001b[1;31mValueError\u001b[0m                                Traceback (most recent call last)",
      "Cell \u001b[1;32mIn[16], line 1\u001b[0m\n\u001b[1;32m----> 1\u001b[0m x \u001b[38;5;241m=\u001b[39m \u001b[38;5;28mint\u001b[39m(\u001b[38;5;124m\"\u001b[39m\u001b[38;5;124mabc\u001b[39m\u001b[38;5;124m\"\u001b[39m)\n",
      "\u001b[1;31mValueError\u001b[0m: invalid literal for int() with base 10: 'abc'"
     ]
    }
   ],
   "source": [
    "x = int(\"abc\")"
   ]
  },
  {
   "cell_type": "markdown",
   "id": "a71f1b42-3796-45e9-ad7c-e68f0838c9ea",
   "metadata": {},
   "source": [
    "Напишите здесь блок (try-except) для приведенной выше ошибки:"
   ]
  },
  {
   "cell_type": "code",
   "execution_count": 17,
   "id": "8883b397-3b61-401c-baff-761f553b439b",
   "metadata": {},
   "outputs": [
    {
     "name": "stdout",
     "output_type": "stream",
     "text": [
      "Введите правильный тип данных\n"
     ]
    }
   ],
   "source": [
    "try:\n",
    "    x = int(\"abc\")\n",
    "    res = 10 / x\n",
    "    print(res)\n",
    "except ValueError:\n",
    "    print('Введите правильный тип данных')"
   ]
  },
  {
   "cell_type": "markdown",
   "id": "946f17d7-955a-41c5-9a28-93276bc30a6a",
   "metadata": {},
   "source": [
    "### Обработка нескольких исключений в одной конструкции try-except:\n",
    "В одной конструкции try-except можно обработать несколько различных исключений. Для этого можно указать несколько блоков except, каждый из которых будет обрабатывать определенный тип исключения.\n"
   ]
  },
  {
   "cell_type": "code",
   "execution_count": 18,
   "id": "2176efa9",
   "metadata": {},
   "outputs": [
    {
     "name": "stdout",
     "output_type": "stream",
     "text": [
      "Ошибка преобразования строки в число\n"
     ]
    }
   ],
   "source": [
    "try:\n",
    "    x = int(\"abc\")\n",
    "except TypeError:\n",
    "    print(\"Ошибка типа данных\")\n",
    "except ValueError:\n",
    "    print(\"Ошибка преобразования строки в число\")\n"
   ]
  },
  {
   "cell_type": "markdown",
   "id": "e301e7ef-f991-4646-9e9d-e0d8231180d0",
   "metadata": {},
   "source": [
    "В Python исключения образуют иерархию классов, где каждый класс исключения является наследником базового класса BaseException. Это позволяет обрабатывать исключения различных типов и выполнять специфические действия в зависимости от типа исключения."
   ]
  },
  {
   "cell_type": "markdown",
   "id": "56405e77-c853-4384-998d-d68a02dff81c",
   "metadata": {},
   "source": [
    "https://docs.python.org/3/library/exceptions.html#exception-hierarchy "
   ]
  },
  {
   "cell_type": "markdown",
   "id": "1748deef",
   "metadata": {},
   "source": [
    "Начинать обработку следует с более узких классов исключений, например TypeError. Если начать с более широкого класса, такого как Exception, то всегда будет срабатывать первый блок except:"
   ]
  },
  {
   "cell_type": "code",
   "execution_count": 19,
   "id": "c2e46c93-e058-4177-9f31-51e21da42a93",
   "metadata": {},
   "outputs": [
    {
     "ename": "TypeError",
     "evalue": "can only concatenate str (not \"int\") to str",
     "output_type": "error",
     "traceback": [
      "\u001b[1;31m---------------------------------------------------------------------------\u001b[0m",
      "\u001b[1;31mTypeError\u001b[0m                                 Traceback (most recent call last)",
      "Cell \u001b[1;32mIn[19], line 1\u001b[0m\n\u001b[1;32m----> 1\u001b[0m \u001b[38;5;124m'\u001b[39m\u001b[38;5;124m1\u001b[39m\u001b[38;5;124m'\u001b[39m \u001b[38;5;241m+\u001b[39m \u001b[38;5;241m1\u001b[39m\n",
      "\u001b[1;31mTypeError\u001b[0m: can only concatenate str (not \"int\") to str"
     ]
    }
   ],
   "source": [
    "'1' + 1"
   ]
  },
  {
   "cell_type": "code",
   "execution_count": 20,
   "id": "fa68ca0e",
   "metadata": {},
   "outputs": [
    {
     "name": "stdout",
     "output_type": "stream",
     "text": [
      "Обнаружена ошибка TypeError\n"
     ]
    }
   ],
   "source": [
    "try:\n",
    "    n = '1' + 1  # Код, который может вызвать исключение\n",
    "except TypeError:\n",
    "    print('Обнаружена ошибка TypeError')\n",
    "except Exception:\n",
    "    print('Что-то пошло не так')"
   ]
  },
  {
   "cell_type": "code",
   "execution_count": null,
   "id": "77dd8fbb-9ac9-477b-9af7-fc6aa882804b",
   "metadata": {},
   "outputs": [],
   "source": [
    "# Так делать не нужно (как показано ниже)"
   ]
  },
  {
   "cell_type": "code",
   "execution_count": 21,
   "id": "d6c26da7-0371-4f24-9d4d-0a07a75d55b6",
   "metadata": {},
   "outputs": [
    {
     "name": "stdout",
     "output_type": "stream",
     "text": [
      "Что-то пошло не так\n"
     ]
    }
   ],
   "source": [
    "try:\n",
    "    n = '1' + 1  # Код, который может вызвать исключение\n",
    "except Exception:\n",
    "    print('Что-то пошло не так')\n",
    "except TypeError:\n",
    "    print('Обнаружена ошибка TypeError')\n"
   ]
  },
  {
   "cell_type": "markdown",
   "id": "b8bc0177",
   "metadata": {},
   "source": [
    "Объясните, что происходит при выполнении этого фрагмента кода:"
   ]
  },
  {
   "cell_type": "code",
   "execution_count": 23,
   "id": "8c36687e",
   "metadata": {},
   "outputs": [
    {
     "name": "stdin",
     "output_type": "stream",
     "text": [
      "Введите число:  й1\n"
     ]
    },
    {
     "name": "stdout",
     "output_type": "stream",
     "text": [
      "Преобразование прошло неудачно\n",
      "Завершение программы\n"
     ]
    }
   ],
   "source": [
    "try:\n",
    "    number = int(input(\"Введите число: \"))\n",
    "    print(\"Введенное число:\", number)\n",
    "except:\n",
    "    print(\"Преобразование прошло неудачно\")\n",
    "print(\"Завершение программы\")"
   ]
  },
  {
   "cell_type": "markdown",
   "id": "a8b176bf",
   "metadata": {},
   "source": [
    "## Finally"
   ]
  },
  {
   "cell_type": "markdown",
   "id": "be23883e-7ee4-4ba0-875a-0b27bcc4e44f",
   "metadata": {},
   "source": [
    "Ключевое слово finally используется вместе с блоком try-except и позволяет определить код, который будет выполнен в любом случае, независимо от возникновения исключений. Блок finally выполняется всегда после выполнения блока try-except, даже если возникло исключение."
   ]
  },
  {
   "cell_type": "code",
   "execution_count": null,
   "id": "102b7c19",
   "metadata": {},
   "outputs": [],
   "source": [
    "file = open(\"data.txt\", \"w\")\n",
    "try:\n",
    "    file.write(\"Lorum Ipsum\")\n",
    "except:\n",
    "    print(\"Запись не удалась\")\n",
    "finally:\n",
    "    file.close()\n"
   ]
  },
  {
   "cell_type": "markdown",
   "id": "f92c9c8b",
   "metadata": {},
   "source": [
    "Ключевое слово else в блоке try-except используется для определения кода, который будет выполнен только в случае, если в блоке try не возникло исключений.\n"
   ]
  },
  {
   "cell_type": "code",
   "execution_count": 24,
   "id": "8997164a",
   "metadata": {},
   "outputs": [
    {
     "name": "stdout",
     "output_type": "stream",
     "text": [
      "Результат: 5.0\n"
     ]
    }
   ],
   "source": [
    "try:\n",
    "    x = 10 / 2\n",
    "except ZeroDivisionError:\n",
    "    print(\"Ошибка деления на ноль\")\n",
    "else:\n",
    "    print(\"Результат:\", x)  # Выводит \"Результат: 5.0\"\n"
   ]
  },
  {
   "cell_type": "code",
   "execution_count": 25,
   "id": "25a64fbe-d1ec-4dae-8ad5-f7660824cb4d",
   "metadata": {},
   "outputs": [
    {
     "name": "stdout",
     "output_type": "stream",
     "text": [
      "Ошибка деления на ноль\n"
     ]
    }
   ],
   "source": [
    "try:\n",
    "    x = 10 / 0\n",
    "except ZeroDivisionError:\n",
    "    print(\"Ошибка деления на ноль\")\n",
    "else:\n",
    "    print(\"Результат:\", x)  # Выводит \"Результат: 5.0\""
   ]
  },
  {
   "cell_type": "markdown",
   "id": "dd55316b",
   "metadata": {},
   "source": [
    "# Практика"
   ]
  },
  {
   "cell_type": "markdown",
   "id": "3ab04cff",
   "metadata": {},
   "source": [
    "1. Напишите программу, которая будет считывать данные из файла names.txt и будет формировать список кортежей из пяти полей: фамилия, имя, год рождения, курс и баллы. \n",
    "Обработайте следующие ошибки: файла не существует, нельзя считать из файла, возраст не является числом, возраст отсутствует, неверное количество данных и т.п.\n",
    "\n",
    "Пример входного файла:\n",
    "\n",
    "Ivanov\t\tIvan\t\t1980\t\t2\t80\n",
    "\n",
    "Smith\t\tAnn\t\t    2000\t\t1\t67\n",
    "\n",
    "Petrov\t\tPetro\t\t1999\t\t1\t90\t43\n",
    "\n",
    "Schmidt \tMarta\t\t1976\t\t3\n",
    "\n",
    "Johnson \tJohn\t\t1965g\t\t5\t99\n",
    "\n",
    "Archer\t\tLenard\t\t1978\t\tv5\t51\n",
    "\n"
   ]
  },
  {
   "cell_type": "code",
   "execution_count": 26,
   "id": "efd612b7-8b34-4c26-86dd-7b7c6ec41c7b",
   "metadata": {},
   "outputs": [
    {
     "ename": "ValueError",
     "evalue": "invalid literal for int() with base 10: 'qwegf'",
     "output_type": "error",
     "traceback": [
      "\u001b[1;31m---------------------------------------------------------------------------\u001b[0m",
      "\u001b[1;31mValueError\u001b[0m                                Traceback (most recent call last)",
      "Cell \u001b[1;32mIn[26], line 1\u001b[0m\n\u001b[1;32m----> 1\u001b[0m \u001b[38;5;28mint\u001b[39m(\u001b[38;5;124m'\u001b[39m\u001b[38;5;124mqwegf\u001b[39m\u001b[38;5;124m'\u001b[39m)\n",
      "\u001b[1;31mValueError\u001b[0m: invalid literal for int() with base 10: 'qwegf'"
     ]
    }
   ],
   "source": [
    "int('qwegf')"
   ]
  },
  {
   "cell_type": "code",
   "execution_count": 27,
   "id": "6561d0ba-0919-4ccd-a30a-2a78cd1a4aa5",
   "metadata": {},
   "outputs": [
    {
     "name": "stdout",
     "output_type": "stream",
     "text": [
      "Ошибка преобразования типов, конкретика: invalid literal for int() with base 10: 'qwegf'\n"
     ]
    }
   ],
   "source": [
    "try:\n",
    "    int('qwegf')\n",
    "except ValueError as e:\n",
    "    print(f'Ошибка преобразования типов, конкретика: {e}')"
   ]
  },
  {
   "cell_type": "code",
   "execution_count": null,
   "id": "8ef60184-af1b-4d5d-b310-af27fff885dd",
   "metadata": {},
   "outputs": [],
   "source": []
  },
  {
   "cell_type": "code",
   "execution_count": null,
   "id": "e94805b8-ed87-4107-a1fe-ce950884e274",
   "metadata": {},
   "outputs": [],
   "source": []
  },
  {
   "cell_type": "code",
   "execution_count": null,
   "id": "522ad3bd-691c-4fc5-a855-8a211d64327f",
   "metadata": {},
   "outputs": [],
   "source": []
  },
  {
   "cell_type": "markdown",
   "id": "dc7ed939-4cc5-4e4f-822c-4ce83ecbf974",
   "metadata": {},
   "source": [
    "Ccылка на файл"
   ]
  },
  {
   "cell_type": "markdown",
   "id": "25fac29f-2bc0-4f7a-8b32-57301a42b02d",
   "metadata": {},
   "source": [
    "https://github.com/trivolt/ICH_Python/blob/main/data/name.txt"
   ]
  },
  {
   "cell_type": "code",
   "execution_count": 30,
   "id": "b06deacf",
   "metadata": {},
   "outputs": [
    {
     "name": "stdout",
     "output_type": "stream",
     "text": [
      "Ошибка в строке 3: Неверное количество данных в строке : ожидается 5 полей, получено 6\n",
      "Ошибка в строке 4: Неверное количество данных в строке : ожидается 5 полей, получено 4\n",
      "Ошибка в строке 5: Год рождения не является числом в строке : 1965g\n",
      "Ошибка в строке 6: Курс не является числом в строке : v5\n",
      "('Ivanov', 'Ivan', 1980, 2, 80)\n",
      "('Smith', 'Ann', 2000, 1, 67)\n"
     ]
    }
   ],
   "source": [
    "def read_students_data(filename):\n",
    "    students = []\n",
    "    try:\n",
    "        with open(filename, 'r') as file:\n",
    "            cnt_str = 0\n",
    "            for line in file:\n",
    "                cnt_str += 1\n",
    "                try:\n",
    "                    # Разделяем строку по табуляции и удаляем пустые элементы\n",
    "                    data = [item.strip() for item in line.split('\\t') if item.strip()]            \n",
    "                    # Проверяем количество данных\n",
    "                    if len(data) != 5:\n",
    "                        raise ValueError(f\"Неверное количество данных в строке : ожидается 5 полей, получено {len(data)}\")\n",
    "                    \n",
    "                    surname, name, birth_year, course, points = data\n",
    "                    \n",
    "                    # Проверяем, что год рождения является числом\n",
    "                    if not birth_year.isdigit():\n",
    "                        raise ValueError(f\"Год рождения не является числом в строке : {birth_year}\")\n",
    "                    \n",
    "                    # Проверяем, что курс является числом\n",
    "                    if not course.isdigit():\n",
    "                        raise ValueError(f\"Курс не является числом в строке : {course}\")\n",
    "                    \n",
    "                    # Проверяем, что баллы являются числом\n",
    "                    if not points.isdigit():\n",
    "                        raise ValueError(f\"Баллы не являются числом в строке : {points}\")\n",
    "                    \n",
    "                    # Преобразуем данные в нужные типы\n",
    "                    birth_year = int(birth_year)\n",
    "                    course = int(course)\n",
    "                    points = int(points)\n",
    "                    \n",
    "                    # Добавляем кортеж в список\n",
    "                    students.append((surname, name, birth_year, course, points))\n",
    "                \n",
    "                except ValueError as e:\n",
    "                    print(f\"Ошибка в строке {cnt_str}: {e}\")\n",
    "    \n",
    "    except FileNotFoundError:\n",
    "        print(f\"Ошибка: файл {filename} не найден\")\n",
    "    except IOError:\n",
    "        print(f\"Ошибка: невозможно прочитать файл {filename}\")\n",
    "    \n",
    "    return students\n",
    "\n",
    "# Пример использования\n",
    "filename = 'C:\\\\Users\\\\dplog\\\\Python\\\\data\\\\name.txt'\n",
    "students = read_students_data(filename)\n",
    "for student in students:\n",
    "    print(student)\n"
   ]
  },
  {
   "cell_type": "code",
   "execution_count": null,
   "id": "cff2d42a-0f59-4746-a44b-7dc378c128f4",
   "metadata": {},
   "outputs": [],
   "source": []
  },
  {
   "cell_type": "markdown",
   "id": "43976755",
   "metadata": {},
   "source": [
    "2. Напишите программу, которая считывает два числа от пользователя и выполняет деление первого числа на второе. Обработайте исключение ZeroDivisionError, которое может возникнуть при попытке деления на ноль. В случае возникновения исключения, выведите сообщение об ошибке, в противном случае выведите результат деления."
   ]
  },
  {
   "cell_type": "code",
   "execution_count": null,
   "id": "1b53fed5-82c6-43fa-abe4-8835801cdbd1",
   "metadata": {},
   "outputs": [],
   "source": []
  },
  {
   "cell_type": "code",
   "execution_count": null,
   "id": "ee9d96e2-5af5-4a63-b16b-54c1c98f7c45",
   "metadata": {},
   "outputs": [],
   "source": []
  },
  {
   "cell_type": "code",
   "execution_count": null,
   "id": "d78cd176-6cd3-48c9-9c68-cd44f7484097",
   "metadata": {},
   "outputs": [],
   "source": [
    "def divide_number(a,b):\n",
    "    try:\n",
    "        return a/b        \n",
    "    except ZeroDivisionError:\n",
    "        print (\"Ошибка: Деление на 0\")        \n",
    "        \n",
    "        \n",
    "a = int(input())\n",
    "b = int(input())\n",
    "\n",
    "if divide_number(a,b):\n",
    "    print(divide_number(a,b))"
   ]
  },
  {
   "cell_type": "markdown",
   "id": "4ab2ec48-527c-4cfa-970c-8debbdd9300b",
   "metadata": {},
   "source": [
    "### Полезные материалы\n",
    "1. Исключения в python. Конструкция try - except для обработки исключений https://pythonworld.ru/tipy-dannyx-v-python/isklyucheniya-v-python-konstrukciya-try-except-dlya-obrabotki-isklyuchenij.html \n",
    "2. Исключения в Питоне от А до Я https://otus.ru/journal/iskljucheniya-v-pitone-ot-a-do-ya/ \n",
    "\n",
    "### Вопросы для закрепления\n",
    "1. Зачем нужны ключевые слова finally и else? Не дублируют ли они друг друга?\n",
    "2. Мы знаем, что в функции, которую мы вызываем, могут быть исключения. Мы хотим обрабатывать все исключения, которые оттуда будут вылетать, причем отдельно обрабатываем ошибку поиска элемента в словаре и отдельно попытки открыть несуществующий файл. В какой последовательности надо описать эти исключения в инструкции except?\n",
    "3. Какая будет появляться ошибка, если мы попробуем привести к целочисленному типу строку из букв?\n"
   ]
  },
  {
   "cell_type": "code",
   "execution_count": null,
   "id": "c4723bfa-115d-4d80-83a6-c73580213859",
   "metadata": {},
   "outputs": [],
   "source": []
  }
 ],
 "metadata": {
  "kernelspec": {
   "display_name": "Python 3 (ipykernel)",
   "language": "python",
   "name": "python3"
  },
  "language_info": {
   "codemirror_mode": {
    "name": "ipython",
    "version": 3
   },
   "file_extension": ".py",
   "mimetype": "text/x-python",
   "name": "python",
   "nbconvert_exporter": "python",
   "pygments_lexer": "ipython3",
   "version": "3.12.4"
  }
 },
 "nbformat": 4,
 "nbformat_minor": 5
}
