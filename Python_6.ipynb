{
 "cells": [
  {
   "cell_type": "markdown",
   "id": "fa6b5223-9beb-44e9-a533-63895d97a616",
   "metadata": {},
   "source": [
    "# Цикл while"
   ]
  },
  {
   "cell_type": "markdown",
   "id": "e6cddccc-1ca9-4773-adfa-9d8d10f4f608",
   "metadata": {},
   "source": [
    "Цикл в программировании представляет собой конструкцию, которая позволяет выполнять определенный блок кода несколько раз. Циклы особенно полезны, когда требуется выполнить однотипные или повторяющиеся задачи."
   ]
  },
  {
   "cell_type": "markdown",
   "id": "61ccd38f-0581-4abb-bd3f-7067cba781c0",
   "metadata": {},
   "source": [
    "Цикл while в Python - это цикл с предусловием, то есть он выполняет блок кода, пока условие истинно. Формат цикла while выглядит следующим образом:\r",
    "ия\r\n"
   ]
  },
  {
   "cell_type": "code",
   "execution_count": null,
   "id": "38f812af-8320-4161-8b96-4563eef335e8",
   "metadata": {},
   "outputs": [],
   "source": [
    "while условие:\n",
    "    # выполняемые действия"
   ]
  },
  {
   "cell_type": "code",
   "execution_count": null,
   "id": "42f36d09-c0c2-4032-b675-d5dfea6de845",
   "metadata": {},
   "outputs": [],
   "source": [
    "count = 0\n",
    "while count < 5:\n",
    "    print(count)\n",
    "    count += 1"
   ]
  },
  {
   "cell_type": "markdown",
   "id": "f7c564cd-c16d-481f-aea6-bd36100ed253",
   "metadata": {},
   "source": [
    "Вводить имя языка программирования, пока не введете python"
   ]
  },
  {
   "cell_type": "code",
   "execution_count": null,
   "id": "bf5d7cc5-9ac4-4eca-99ce-70e22bf8d3a4",
   "metadata": {},
   "outputs": [],
   "source": [
    "programming = input('введите язык программирования')\n",
    "while programming != 'python':\n",
    "    print('Вы не угадали')\n",
    "    programming = input('введите язык программирования')\n",
    "print('Отлично!')"
   ]
  },
  {
   "cell_type": "markdown",
   "id": "d9133d78-21da-444e-87da-935f3e9bd7c2",
   "metadata": {},
   "source": [
    "Выведете все числа от 10 до 100 c шагом 2"
   ]
  },
  {
   "cell_type": "code",
   "execution_count": null,
   "id": "6a797947-5113-446b-8ad8-06cf4d216c50",
   "metadata": {},
   "outputs": [],
   "source": [
    "num = 1\n",
    "while num <= 100:\n",
    "    print(num)\n",
    "    num+=2"
   ]
  },
  {
   "cell_type": "code",
   "execution_count": null,
   "id": "f2cef23e-ac48-44ae-b095-9b1e4f12eccc",
   "metadata": {},
   "outputs": [],
   "source": []
  },
  {
   "cell_type": "markdown",
   "id": "cce61e65-e409-4bb7-a468-cf7896761693",
   "metadata": {},
   "source": [
    "### Инструкция break"
   ]
  },
  {
   "cell_type": "markdown",
   "id": "a475bb05-984a-401f-91e0-38197d1e12f9",
   "metadata": {},
   "source": [
    "Инструкция break используется для немедленного прерывания выполнения цикла. Когда инструкция break выполняется, выполнение цикла немедленно прекращается, и управление передается за пределы цикла. Пример использования break:"
   ]
  },
  {
   "cell_type": "code",
   "execution_count": null,
   "id": "0ededcb7-bdf1-4a74-9d13-2e31fff4c3f1",
   "metadata": {},
   "outputs": [],
   "source": [
    "count = 0\n",
    "while count < 10:\n",
    "    if count == 5:\n",
    "        break\n",
    "    print(count)\n",
    "    count += 1"
   ]
  },
  {
   "cell_type": "markdown",
   "id": "e74abac6-7e90-43bc-961a-fa369743684b",
   "metadata": {},
   "source": [
    "А нужен ли он вообще здесь break? "
   ]
  },
  {
   "cell_type": "markdown",
   "id": "826e4339-f10c-4115-9629-41491d295a86",
   "metadata": {},
   "source": [
    ">\r\n",
    "\n",
    "Можно ли просто сделать count < 5 в условии? Нет! А вот если бы мы считывали число и если считаем 5 то надо прерываться – тут нужен break без вариантов. Таким обр что не надо пихать break туда, где он не нужен"
   ]
  },
  {
   "cell_type": "markdown",
   "id": "f3619628-958c-41cb-8f88-6c62d7865add",
   "metadata": {},
   "source": [
    "### Инструкция continue"
   ]
  },
  {
   "cell_type": "markdown",
   "id": "02629c7e-9c37-4ace-bd87-08bb478e7ded",
   "metadata": {},
   "source": [
    "Инструкция continue используется для перехода к следующей итерации цикла, игнорируя оставшуюся часть текущей итерации. Когда инструкция continue выполняется, выполнение цикла переходит к следующей итерации без выполнения оставшегося кода в текущей итерации.\n"
   ]
  },
  {
   "cell_type": "code",
   "execution_count": null,
   "id": "b8fd18f7-9b49-4d54-bbca-779adcc3ccb9",
   "metadata": {},
   "outputs": [],
   "source": [
    "count = 0\n",
    "while count < 5:\n",
    "    count += 1\n",
    "    if count == 3:\n",
    "        continue\n",
    "    print(count)\n"
   ]
  },
  {
   "cell_type": "markdown",
   "id": "54c5d6a5-6a4b-41eb-807d-c534aa634883",
   "metadata": {},
   "source": [
    "Реализуем эту задачу без `continue`\n"
   ]
  },
  {
   "cell_type": "code",
   "execution_count": null,
   "id": "70ff3d50-4e80-42f2-a15e-7f3e249ce485",
   "metadata": {},
   "outputs": [],
   "source": [
    "count = 0\n",
    "while count < 5:\n",
    "    count += 1\n",
    "    if count != 3:\n",
    "        print(count)"
   ]
  },
  {
   "cell_type": "markdown",
   "id": "4ddd6747-83d9-4248-bb74-b558e7ceb70c",
   "metadata": {},
   "source": [
    "### Использование else после while"
   ]
  },
  {
   "cell_type": "markdown",
   "id": "6075dc8c-2697-4a25-86fc-014651b164f5",
   "metadata": {},
   "source": [
    "Конструкция else после цикла while позволяет выполнить блок кода, когда условие цикла становится ложным. Если цикл завершился нормально (без прерывания с помощью break), то код в блоке else будет выполнен.\n"
   ]
  },
  {
   "cell_type": "code",
   "execution_count": null,
   "id": "c21fd9df-b801-461a-a8a3-d19fab5f8dcf",
   "metadata": {},
   "outputs": [],
   "source": [
    "count = 0\n",
    "while count < 5:\n",
    "    print(count)\n",
    "    count += 1\n",
    "else:\n",
    "    print(\"Цикл завершен\")"
   ]
  },
  {
   "cell_type": "code",
   "execution_count": null,
   "id": "9a0189e4-4db9-4026-8f03-4e3d80ce245e",
   "metadata": {},
   "outputs": [],
   "source": []
  },
  {
   "cell_type": "markdown",
   "id": "15da55b2-75b7-41f1-a746-b38c10361732",
   "metadata": {},
   "source": [
    "***Пример*** – мы считываем числа и если встретили 5, то пишем “встретили 5”. Если в цикле не было считано ни одной 5, то в конце пишем “не встретили 5”.\r\n"
   ]
  },
  {
   "cell_type": "code",
   "execution_count": null,
   "id": "bb28445d-dc2f-47a8-8e5c-bab66cb5d21f",
   "metadata": {},
   "outputs": [],
   "source": [
    "count = 0\n",
    "while count < 5: \n",
    "    if count == 5:\n",
    "        print('встретили 5')\n",
    "        break\n",
    "    else:\n",
    "        count += 1  \n",
    "else:\n",
    "    print(\"не встретили 5\")"
   ]
  },
  {
   "cell_type": "markdown",
   "id": "38a7a7c4-d863-478c-b710-6cfefbb6225f",
   "metadata": {},
   "source": [
    "Пробуем написать это же без else после while (например, с использованием флага)"
   ]
  },
  {
   "cell_type": "code",
   "execution_count": null,
   "id": "203773c8-8812-41ab-87c9-a9ce4b485f60",
   "metadata": {},
   "outputs": [],
   "source": [
    "count = 0\n",
    "isFound5 = False\n",
    "\n",
    "while count < 5 and not isFound5: \n",
    "    if count == 5:\n",
    "        print('встретили 5')\n",
    "        isFound5 = True\n",
    "    else:\n",
    "        count += 1\n",
    "        \n",
    "if not isFound5:\n",
    "    print(\"не встретили 5\")"
   ]
  },
  {
   "cell_type": "markdown",
   "id": "5778e443-83c6-405e-b43b-ebe325110d89",
   "metadata": {},
   "source": [
    "### Бесконечный цикл"
   ]
  },
  {
   "cell_type": "markdown",
   "id": "19a3ea1d-f5d4-4414-b31f-64ec268e0237",
   "metadata": {},
   "source": [
    "Бесконечный цикл - это цикл, который будет выполняться бесконечно, пока он не будет прерван с помощью инструкции break или другого условия."
   ]
  },
  {
   "cell_type": "code",
   "execution_count": null,
   "id": "a701e793-5e16-4663-b507-20d789a07e28",
   "metadata": {},
   "outputs": [],
   "source": [
    "while True:\n",
    "    # выполняемые действия\n"
   ]
  },
  {
   "cell_type": "code",
   "execution_count": null,
   "id": "534c726f-d3db-43a5-9c96-740e430d7137",
   "metadata": {},
   "outputs": [],
   "source": [
    "while True:\n",
    "    user_input = input(\"Введите число: \")\n",
    "    if user_input == \"exit\":\n",
    "        break\n",
    "    print(int(user_input) * 2)"
   ]
  },
  {
   "cell_type": "markdown",
   "id": "e357c4e5-8edb-4cab-b46a-1739fcf86254",
   "metadata": {},
   "source": [
    "### Ключевое слово pass"
   ]
  },
  {
   "cell_type": "markdown",
   "id": "19cd8d40-7ae7-4c41-9003-80c57d7ec401",
   "metadata": {},
   "source": [
    "Ключевое слово pass используется в Python, когда требуется указать пустой блок кода. Оно игнорируется интерпретатором Python и используется для заполнения места, где требуется наличие выражения, но не нужно выполнять никаких действий.\n"
   ]
  },
  {
   "cell_type": "code",
   "execution_count": null,
   "id": "908aa989-d2a0-49bd-85da-fd954ac65234",
   "metadata": {},
   "outputs": [],
   "source": [
    "while True:\n",
    "    pass"
   ]
  },
  {
   "cell_type": "markdown",
   "id": "4358b3b6-2e10-42e1-9fa2-a6d57434e3d4",
   "metadata": {},
   "source": [
    "### Способы замера времени работы программы"
   ]
  },
  {
   "cell_type": "markdown",
   "id": "4837bad7-8204-4ba2-9984-bc621e9d63e6",
   "metadata": {},
   "source": [
    "Для замера времени работы программы в Python можно использовать различные подходы. Один из них - использование функции time() из модуля time."
   ]
  },
  {
   "cell_type": "code",
   "execution_count": null,
   "id": "0543e0cc-2979-4194-bafb-8fad518a5867",
   "metadata": {},
   "outputs": [],
   "source": [
    "import time\n",
    "\n",
    "start_time = time.time()\n",
    "\n",
    "# выполняемые действия\n",
    "\n",
    "end_time = time.time()\n",
    "execution_time = end_time - start_time\n",
    "print(\"Время выполнения программы:\", execution_time, \"секунд\")\n"
   ]
  },
  {
   "cell_type": "code",
   "execution_count": null,
   "id": "3b0620fb-6402-47b9-aec4-fa0d2106e458",
   "metadata": {},
   "outputs": [],
   "source": [
    "import time\n",
    "\n",
    "start_time = time.time()\n",
    "\n",
    "# Найдем сумму чисел от 100 до 1000000\n",
    "num = 100\n",
    "summ = 0\n",
    "while num <= 1000000:\n",
    "    summ += num\n",
    "    num += 1\n",
    "\n",
    "end_time = time.time()\n",
    "execution_time = end_time - start_time\n",
    "print(\"Время выполнения программы:\", execution_time, \"секунд\")\n",
    "print('Исходная сумма:',summ)\n"
   ]
  },
  {
   "cell_type": "markdown",
   "id": "6cf14ce3-34b5-47c3-8435-b3ccbdaaba3e",
   "metadata": {},
   "source": [
    "Также для замера времени выполнения отдельных участков кода можно использовать магическую команду %%timeit в Jupyter Notebook:\n",
    "\n"
   ]
  },
  {
   "cell_type": "code",
   "execution_count": null,
   "id": "b133e7ab-9e68-421c-8cf7-2bb0e13c72b6",
   "metadata": {},
   "outputs": [],
   "source": [
    "%%timeit\n",
    "num = 100\n",
    "summ = 0\n",
    "while num <= 1000000:\n",
    "    summ += num\n",
    "    num += 1"
   ]
  },
  {
   "cell_type": "code",
   "execution_count": null,
   "id": "7ff80647-b450-499a-9f39-58df1087fda1",
   "metadata": {},
   "outputs": [],
   "source": [
    "print('Исходная сумма:',summ)"
   ]
  },
  {
   "cell_type": "markdown",
   "id": "19eab696-a056-48a1-99da-cd5e885f509a",
   "metadata": {},
   "source": [
    "### Модуль random"
   ]
  },
  {
   "cell_type": "markdown",
   "id": "bfbe5ee0-2343-4691-894e-4dbab6d0063a",
   "metadata": {},
   "source": [
    "Модули в Python — это отдельные файлы, содержащие нужные функции. \n",
    "Модуль random в Python дает возможность генерировать случайные числа и выбирать случайные элементы из списка. \n",
    "Для некоторых задач нужно использовать элемент случайности. Например, вы решаете, кто из игроков будет ходить белыми шахматами, а кто — черными. \n",
    "В этом и многих других случаях вам нужно сгенерировать случайную величину, которая бы предопределила какое-то событие. Компьютер не имеет воображения и «придумать» сам ничего не может. Но он может выполнить специальный алгоритм, имитирующий случайную генерацию.\n"
   ]
  },
  {
   "cell_type": "markdown",
   "id": "5f4b10c1-3f1c-46bb-9cc9-a3acdbb21c0f",
   "metadata": {},
   "source": [
    "Чтобы подключить модуль random, необходимо его импортировать с помощью команды import random. "
   ]
  },
  {
   "cell_type": "code",
   "execution_count": null,
   "id": "d6ced20e-01b4-42fb-9788-63323470a1a1",
   "metadata": {},
   "outputs": [],
   "source": [
    "import random"
   ]
  },
  {
   "cell_type": "markdown",
   "id": "900b6554-74a2-4171-999e-9ce95b469d96",
   "metadata": {},
   "source": [
    "К модулю random можно подключить очень много функций:\n",
    "* random(): генерирует случайное число от 0.0 до 1.0\n",
    "* randint(): возвращает случайное число из определенного диапазона\n",
    "* randrange(): возвращает случайное число из определенного набора чисел\n",
    "* shuffle(): перемешивает список\n",
    "* choice(): возвращает случайный элемент списка"
   ]
  },
  {
   "cell_type": "code",
   "execution_count": null,
   "id": "5ef21ea6-7492-4400-a96b-0e201e5f05ba",
   "metadata": {},
   "outputs": [],
   "source": [
    "import random #подключаем модуль псевдослучайных функций Python\n",
    "\n",
    "myplaylist = [\"Pink Floyd\", \"Santana\", \"The Beatles\", \"ELO\", \"Mark Knopfler\", \"KennyG\", \"Bob Dylan\"]  #описание плей-листа\n",
    "random.shuffle(myplaylist) #перемешиваем список\n",
    "print(myplaylist) #вывод результата на экран\n"
   ]
  },
  {
   "cell_type": "markdown",
   "id": "0584fdd5-a7a6-440d-8347-8b99ed87a424",
   "metadata": {},
   "source": [
    "### Решение задач"
   ]
  },
  {
   "cell_type": "markdown",
   "id": "6514012f-2ab4-40ea-853d-190fe6d8e0f1",
   "metadata": {},
   "source": [
    "1. Для трехзначных чисел оставить только те, сумма цифр в которых равна 15. Для четных выводить дополнительно последнюю цифру. Для оканчивающихся на ноль печатать строку zero. Попробовать решить сначала без break/continue, потом избегая вложенных условий.\n"
   ]
  },
  {
   "cell_type": "code",
   "execution_count": 24,
   "id": "8bec4e42-ffae-4d23-b2d7-7c02ad861842",
   "metadata": {},
   "outputs": [
    {
     "name": "stdout",
     "output_type": "stream",
     "text": [
      "159\n",
      "168 - последняя цифра 8\n",
      "177\n",
      "186 - последняя цифра 6\n",
      "195\n",
      "249\n",
      "258 - последняя цифра 8\n",
      "267\n",
      "276 - последняя цифра 6\n",
      "285\n",
      "294 - последняя цифра 4\n",
      "339\n",
      "348 - последняя цифра 8\n",
      "357\n",
      "366 - последняя цифра 6\n",
      "375\n",
      "384 - последняя цифра 4\n",
      "393\n",
      "429\n",
      "438 - последняя цифра 8\n",
      "447\n",
      "456 - последняя цифра 6\n",
      "465\n",
      "474 - последняя цифра 4\n",
      "483\n",
      "492 - последняя цифра 2\n",
      "519\n",
      "528 - последняя цифра 8\n",
      "537\n",
      "546 - последняя цифра 6\n",
      "555\n",
      "564 - последняя цифра 4\n",
      "573\n",
      "582 - последняя цифра 2\n",
      "591\n",
      "609\n",
      "618 - последняя цифра 8\n",
      "627\n",
      "636 - последняя цифра 6\n",
      "645\n",
      "654 - последняя цифра 4\n",
      "663\n",
      "672 - последняя цифра 2\n",
      "681\n",
      "690 - zero\n",
      "708 - последняя цифра 8\n",
      "717\n",
      "726 - последняя цифра 6\n",
      "735\n",
      "744 - последняя цифра 4\n",
      "753\n",
      "762 - последняя цифра 2\n",
      "771\n",
      "780 - zero\n",
      "807\n",
      "816 - последняя цифра 6\n",
      "825\n",
      "834 - последняя цифра 4\n",
      "843\n",
      "852 - последняя цифра 2\n",
      "861\n",
      "870 - zero\n",
      "906 - последняя цифра 6\n",
      "915\n",
      "924 - последняя цифра 4\n",
      "933\n",
      "942 - последняя цифра 2\n",
      "951\n",
      "960 - zero\n"
     ]
    }
   ],
   "source": [
    "number = 100\n",
    "\n",
    "# Перебор всех трехзначных чисел\n",
    "while number < 1000:\n",
    "    # Разбиваем число на цифры\n",
    "    hundreds = number // 100\n",
    "    tens = (number // 10) % 10\n",
    "    units = number % 10\n",
    "    \n",
    "    # Проверяем сумму цифр\n",
    "    if (hundreds + tens + units) == 15:\n",
    "        if number % 10 == 0:\n",
    "            print(number,\"- zero\")\n",
    "        elif number % 2 == 0:\n",
    "            print(number,\"- последняя цифра\", units)\n",
    "        else:\n",
    "            print(number)\n",
    "    \n",
    "    number += 1\n"
   ]
  },
  {
   "cell_type": "markdown",
   "id": "8d77db39-9e56-431c-b067-e4e111686b0d",
   "metadata": {},
   "source": [
    "2. Напишите программу, которая запрашивает у пользователя положительное целое число и вычисляет его факториал. Факториал числа N вычисляется как произведение всех целых чисел от 1 до N. Используйте цикл с предусловием while для решения задачи. Выведите результат на экран с помощью команды print.\n",
    "Пример вывода:\n",
    "Введите положительное целое число: 5\n",
    "Факториал числа 5 равен 120."
   ]
  },
  {
   "cell_type": "code",
   "execution_count": 25,
   "id": "c5de7acf-64e4-43d7-bc78-0c9a7a122e77",
   "metadata": {},
   "outputs": [
    {
     "name": "stdin",
     "output_type": "stream",
     "text": [
      "введите натуральное число:  5\n"
     ]
    },
    {
     "name": "stdout",
     "output_type": "stream",
     "text": [
      "5 !=120\n"
     ]
    }
   ],
   "source": [
    "number = int(input('введите натуральное число: ')) # factorial(5) = 5! = 5*4*3*2*1\n",
    "print(number,'!=',end='')\n",
    "\n",
    "factorial = 1\n",
    "while number > 1:\n",
    "    factorial *= number\n",
    "    number -= 1\n",
    "print(factorial)"
   ]
  },
  {
   "cell_type": "markdown",
   "id": "d6c4c2df-145e-4807-a695-95ec9de4ef05",
   "metadata": {},
   "source": [
    "## Полезные материалы\n",
    "1. Цикл while в Python https://pythonru.com/osnovy/cikl-while-v-python\n",
    "2. Цикл while https://pythontutor.ru/lessons/while/ "
   ]
  },
  {
   "cell_type": "markdown",
   "id": "241fc2d8-1a69-4f55-83ad-460fe9a743a8",
   "metadata": {},
   "source": [
    "## Вопросы для закрепления\n",
    "1. Зачем нужна инструкция break?\n",
    "2. Можно ли использовать вложенные циклы? Предложите ситуацию, в которой нужно будет сделать цикл в цикле в цикле\n",
    "3. Когда нужно использовать бесконечный цикл с выходом из него по break, а когда условие выхода из цикла нужно прописать в условии?"
   ]
  },
  {
   "cell_type": "code",
   "execution_count": null,
   "id": "3ac7a69d-6a62-43a0-ace7-0c6276007521",
   "metadata": {},
   "outputs": [],
   "source": []
  }
 ],
 "metadata": {
  "kernelspec": {
   "display_name": "Python 3 (ipykernel)",
   "language": "python",
   "name": "python3"
  },
  "language_info": {
   "codemirror_mode": {
    "name": "ipython",
    "version": 3
   },
   "file_extension": ".py",
   "mimetype": "text/x-python",
   "name": "python",
   "nbconvert_exporter": "python",
   "pygments_lexer": "ipython3",
   "version": "3.12.4"
  }
 },
 "nbformat": 4,
 "nbformat_minor": 5
}
