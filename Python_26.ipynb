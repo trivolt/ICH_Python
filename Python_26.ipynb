{
 "cells": [
  {
   "cell_type": "markdown",
   "id": "077be1d6-a660-4ac0-856e-1131861f3c46",
   "metadata": {},
   "source": [
    "# Работа с файловой системой"
   ]
  },
  {
   "cell_type": "markdown",
   "id": "3c2117c4-30d1-4f0e-abf5-c9a355e4cac8",
   "metadata": {},
   "source": [
    "### Запуск .py-файла. Что такое аргументы командной строки и переменные окружения:\n",
    "\n",
    "При запуске .py-файла можно передать аргументы командной строки, которые могут быть использованы программой для выполнения определенных действий или настроек. Аргументы командной строки являются строками, разделенными пробелами, и могут быть доступны программе через специальный объект sys.argv из модуля sys. Кроме того, во время выполнения программы можно получить доступ к переменным окружения, которые предоставляют информацию о системе или пользователе.\n"
   ]
  },
  {
   "cell_type": "markdown",
   "id": "6828ea25-4d73-4e67-8649-ed566bfd37db",
   "metadata": {},
   "source": [
    "#### Использование модуля sys\n",
    "Модуль sys предоставляет доступ к аргументам командной строки через список sys.argv. Первый элемент (sys.argv[0]) — это имя скрипта, а остальные элементы — переданные аргументы."
   ]
  },
  {
   "cell_type": "code",
   "execution_count": null,
   "id": "e483d6fd-f53b-4cb7-aedb-ae92e4c6e84f",
   "metadata": {},
   "outputs": [],
   "source": [
    "# Работаем в Pycharm"
   ]
  },
  {
   "cell_type": "code",
   "execution_count": null,
   "id": "dbe47e65-e6c1-4f8f-9c0f-ea869697d0c8",
   "metadata": {},
   "outputs": [],
   "source": [
    "import sys\n",
    "\n",
    "# Вывод всех аргументов\n",
    "print(\"Все аргументы:\", sys.argv)\n",
    "\n",
    "# Использование аргументов\n",
    "if len(sys.argv) > 1:\n",
    "    print(\"Первый аргумент:\", sys.argv[1])\n",
    "else:\n",
    "    print(\"Аргументы не переданы.\")"
   ]
  },
  {
   "cell_type": "code",
   "execution_count": null,
   "id": "1ebbaa25-511c-4c1c-a1c5-700604fad5a2",
   "metadata": {},
   "outputs": [],
   "source": [
    "# Пример запуска:   python script.py arg1 arg2 arg3"
   ]
  },
  {
   "cell_type": "code",
   "execution_count": null,
   "id": "289b8ab9-40d0-4699-8bb4-2fb4340b1a42",
   "metadata": {},
   "outputs": [],
   "source": []
  },
  {
   "cell_type": "code",
   "execution_count": null,
   "id": "a5570dc8-435d-453d-bbdd-a58b7104f8cb",
   "metadata": {},
   "outputs": [],
   "source": [
    "import sys\n",
    "\n",
    "args = sys.argv\n",
    "res = int(args[1]) + int(args[2])\n",
    "print('Сумма введенных чисел:', res)\n"
   ]
  },
  {
   "cell_type": "code",
   "execution_count": null,
   "id": "61b3dd45-e7c9-42e9-bf4f-a62f9f613a39",
   "metadata": {},
   "outputs": [],
   "source": []
  },
  {
   "cell_type": "code",
   "execution_count": null,
   "id": "20fc4e49-d5ac-42a5-add3-4175fa47b810",
   "metadata": {},
   "outputs": [],
   "source": [
    "import sys\n",
    "\n",
    "print('Hello!')\n",
    "print(sys.argv[1:])"
   ]
  },
  {
   "cell_type": "code",
   "execution_count": null,
   "id": "475ed058-8879-44ec-857b-c9a70fcfd5f0",
   "metadata": {},
   "outputs": [],
   "source": []
  },
  {
   "cell_type": "markdown",
   "id": "59927823-9997-4ec3-b5d4-5b897c33c0d0",
   "metadata": {},
   "source": [
    "***Переменные окружения (environment variables)*** в Python — это специальные переменные, которые хранятся в операционной системе и могут быть доступны из программ. Они используются для хранения конфигурационных данных, таких как API-ключи, пути к файлам, настройки подключения к базам данных и других параметров, которые могут изменяться в зависимости от окружения (например, разработка, тестирование, производство)."
   ]
  },
  {
   "cell_type": "markdown",
   "id": "d6bad68a-8fa5-42b8-bb50-b14a60e85c22",
   "metadata": {},
   "source": [
    "### Как работать с переменными окружения в Python\n",
    "Для работы с переменными окружения в Python используется модуль os. Вот основные методы:\n",
    "\n",
    "#### Получение значения переменной окружения:\n",
    "Используйте метод os.getenv(), чтобы получить значение переменной окружения. Если переменная не существует, можно указать значение по умолчанию."
   ]
  },
  {
   "cell_type": "code",
   "execution_count": 23,
   "id": "4a6e5a66-c4ff-436d-91a0-0a094197af8d",
   "metadata": {},
   "outputs": [
    {
     "name": "stdout",
     "output_type": "stream",
     "text": [
      "default_value\n"
     ]
    }
   ],
   "source": [
    "import os\n",
    "\n",
    "# Получение значения переменной окружения\n",
    "api_key = os.getenv('API_KEY')\n",
    "\n",
    "# Если переменная не существует, можно указать значение по умолчанию\n",
    "api_key = os.getenv('API_KEY', 'default_value')\n",
    "print(api_key)"
   ]
  },
  {
   "cell_type": "markdown",
   "id": "941f01de-eb2d-40e1-905e-612cd118155d",
   "metadata": {},
   "source": [
    "#### Установка переменной окружения:\n",
    "Используйте метод os.environ[] для установки значения переменной окружения."
   ]
  },
  {
   "cell_type": "code",
   "execution_count": 24,
   "id": "036d6f65-3f5e-44dc-8840-93f2d0f87b42",
   "metadata": {},
   "outputs": [],
   "source": [
    "import os\n",
    "\n",
    "# Установка переменной окружения\n",
    "os.environ['API_KEY'] = 'your_api_key_here'"
   ]
  },
  {
   "cell_type": "markdown",
   "id": "b0ca4ff8-e144-4913-8f4c-d4c839fbeea6",
   "metadata": {},
   "source": [
    "#### Удаление переменной окружения:\n",
    "Используйте метод os.environ.pop() для удаления переменной окружения."
   ]
  },
  {
   "cell_type": "code",
   "execution_count": 25,
   "id": "83a3d079-d509-493b-8ec6-b7b98ccb508f",
   "metadata": {},
   "outputs": [
    {
     "data": {
      "text/plain": [
       "'your_api_key_here'"
      ]
     },
     "execution_count": 25,
     "metadata": {},
     "output_type": "execute_result"
    }
   ],
   "source": [
    "import os\n",
    "\n",
    "# Удаление переменной окружения\n",
    "os.environ.pop('API_KEY', None)  # None — значение по умолчанию, если переменная не существует"
   ]
  },
  {
   "cell_type": "markdown",
   "id": "e06616aa-6b42-4f80-8fd3-9702dc35cc9d",
   "metadata": {},
   "source": [
    "#### Проверка наличия переменной окружения:\n",
    "Используйте оператор in для проверки существования переменной."
   ]
  },
  {
   "cell_type": "code",
   "execution_count": null,
   "id": "2de09d17-93cc-4f6b-9d66-510f0e595b4a",
   "metadata": {},
   "outputs": [],
   "source": [
    "import os\n",
    "\n",
    "if 'API_KEY' in os.environ:\n",
    "    print('API_KEY существует')\n",
    "else:\n",
    "    print('API_KEY не существует')"
   ]
  },
  {
   "cell_type": "markdown",
   "id": "1c7efab4-b98c-40b9-a7ef-9783b65da0dc",
   "metadata": {},
   "source": [
    "### Пример использования"
   ]
  },
  {
   "cell_type": "code",
   "execution_count": 26,
   "id": "fbcebaad-7c2c-453a-966e-6a258a4c9b8a",
   "metadata": {},
   "outputs": [
    {
     "name": "stdout",
     "output_type": "stream",
     "text": [
      "Подключение к базе данных: sqlite:///:memory:\n"
     ]
    }
   ],
   "source": [
    "import os\n",
    "\n",
    "# Получение значения переменной окружения\n",
    "database_url = os.getenv('DATABASE_URL', 'sqlite:///:memory:')\n",
    "\n",
    "# Использование значения\n",
    "print(f\"Подключение к базе данных: {database_url}\")"
   ]
  },
  {
   "cell_type": "markdown",
   "id": "d4f8e0c2-b41a-4923-b09e-6f93e3529305",
   "metadata": {},
   "source": [
    "Переменные окружения хранятся в операционной системе или файлах (например, .env). Их защита зависит от прав доступа к файловой системе и используемых инструментов. Для обеспечения безопасности:\n",
    "\n",
    "* Не храните секреты в коде.\n",
    "\n",
    "* Используйте файлы .env и добавляйте их в .gitignore.\n",
    "\n",
    "* Ограничивайте права доступа к файлам.\n",
    "\n",
    "* Используйте секретные менеджеры для хранения критически важных данных."
   ]
  },
  {
   "cell_type": "markdown",
   "id": "dad19125-c860-4321-b0d6-a4c68342bc99",
   "metadata": {},
   "source": [
    "### Задание для закрепления"
   ]
  },
  {
   "cell_type": "code",
   "execution_count": null,
   "id": "4b099a9d-da31-4c16-8324-4ac243dde5bd",
   "metadata": {},
   "outputs": [],
   "source": [
    "#Создадайте файл test.py со следующим содержимым:\n",
    "\n",
    "import sys\n",
    "\n",
    "print('Список параметров, переданных скрипту')\n",
    "print(sys.argv)\n",
    "\n",
    "print([arg for arg in sys.argv if arg[0]!='-'])\n",
    "\n",
    "#Запустите файл test.py следующим образом:\n",
    "\n",
    "#$ python3 test.py -file test.txt -pi 3.14\n",
    "\n",
    "#Попробуйте объяснить, что произошло.\n"
   ]
  },
  {
   "cell_type": "markdown",
   "id": "983ba3c9-9bb1-4934-92e0-2f6be9b1faec",
   "metadata": {},
   "source": [
    "### Модуль argparse как продвинутый интерфейс:\n",
    "\n",
    "Модуль argparse предоставляет более удобный и гибкий способ работы с аргументами командной строки. Он позволяет определить ожидаемые аргументы и их типы, задать справку и подсказки для пользователей, а также обрабатывать аргументы с использованием более сложной логики. argparse упрощает разработку интерфейса командной строки и повышает читаемость кода.\n"
   ]
  },
  {
   "cell_type": "markdown",
   "id": "3273b8e2-0f1d-4a9d-997d-f7d207102708",
   "metadata": {},
   "source": [
    "#### Создание парсера аргументов\n",
    "Для начала импортируем модуль argparse и создадим объект парсера аргументов:"
   ]
  },
  {
   "cell_type": "code",
   "execution_count": null,
   "id": "d7c87fae-049f-4078-afc1-1b9c27e5e73f",
   "metadata": {},
   "outputs": [],
   "source": [
    "import argparse\n",
    " \n",
    "parser = argparse.ArgumentParser(description=\"Пример использования argparse\")"
   ]
  },
  {
   "cell_type": "markdown",
   "id": "554b35d7-4194-46f4-864c-2eee71aa3115",
   "metadata": {},
   "source": [
    "Здесь мы создаем объект parser с описанием программы. Это описание будет выводиться при вызове справки (например, при использовании аргумента -h или --help)."
   ]
  },
  {
   "cell_type": "markdown",
   "id": "5c0502f1-d908-414b-8334-aff66ad16a7f",
   "metadata": {},
   "source": [
    "#### Добавление аргументов\n",
    "Теперь добавим аргументы, которые мы хотим обрабатывать. Для этого используем метод add_argument():"
   ]
  },
  {
   "cell_type": "code",
   "execution_count": null,
   "id": "b74e3f28-175e-474d-b508-e47d68692c4c",
   "metadata": {},
   "outputs": [],
   "source": [
    "parser.add_argument(\"-n\", \"--name\", help=\"Введите ваше имя\", required=True)\n",
    "parser.add_argument(\"-a\", \"--age\", help=\"Введите ваш возраст\", type=int)"
   ]
  },
  {
   "cell_type": "markdown",
   "id": "c6bc3b99-ff5b-4d30-a246-8a74ace367d4",
   "metadata": {},
   "source": [
    "Здесь мы добавили два аргумента: -n/--name и -a/--age. Указываем краткую и полную формы аргумента, описание для справки, а также тип данных (для аргумента --age указан тип int). Для аргумента --name установлен флаг required=True, что означает, что этот аргумент является обязательным."
   ]
  },
  {
   "cell_type": "markdown",
   "id": "49461497-93d6-4d6b-a74a-c4cdd7ddf7b2",
   "metadata": {},
   "source": [
    "#### Обработка аргументов\n",
    "После добавления аргументов можно обработать их с помощью метода parse_args():"
   ]
  },
  {
   "cell_type": "code",
   "execution_count": null,
   "id": "6c8e5bf6-ac2d-4e35-bd0e-67d3a9c26583",
   "metadata": {},
   "outputs": [],
   "source": [
    "args = parser.parse_args()"
   ]
  },
  {
   "cell_type": "markdown",
   "id": "11d75d53-1ee1-48e6-9e0c-4eb56e027258",
   "metadata": {},
   "source": [
    "Этот метод возвращает объект с атрибутами, соответствующими аргументам, переданным в командной строке."
   ]
  },
  {
   "cell_type": "markdown",
   "id": "d8037c15-a228-49a9-b525-54f6d3b068f9",
   "metadata": {},
   "source": [
    "#### Использование аргументов\n",
    "Теперь можно использовать полученные аргументы в программе:"
   ]
  },
  {
   "cell_type": "code",
   "execution_count": null,
   "id": "8d004ce1-dad9-4288-b28f-439ab2a00de7",
   "metadata": {},
   "outputs": [],
   "source": [
    "print(f\"Привет, {args.name}! Тебе {args.age} лет.\")"
   ]
  },
  {
   "cell_type": "markdown",
   "id": "7cb27ede-83f4-4b80-8080-effe4a630c11",
   "metadata": {},
   "source": [
    "В данном случае выводим приветствие с использованием аргументов имени и возраста."
   ]
  },
  {
   "cell_type": "code",
   "execution_count": null,
   "id": "9543692e-3262-4859-9fec-e8d16ecf55e6",
   "metadata": {},
   "outputs": [],
   "source": [
    "# Пример использования (сохраняем в .py файл)"
   ]
  },
  {
   "cell_type": "code",
   "execution_count": null,
   "id": "6f286e77-7017-465d-8062-bea96013f11c",
   "metadata": {},
   "outputs": [],
   "source": [
    "import argparse\n",
    " \n",
    "parser = argparse.ArgumentParser(description=\"Пример использования argparse\")\n",
    "parser.add_argument(\"-n\", \"--name\", help=\"Введите ваше имя\", required=True)\n",
    "parser.add_argument(\"-a\", \"--age\", help=\"Введите ваш возраст\", type=int)\n",
    " \n",
    "args = parser.parse_args()\n",
    " \n",
    "print(f\"Привет, {args.name}! Тебе {args.age} лет.\")"
   ]
  },
  {
   "cell_type": "markdown",
   "id": "ac741a11-74e2-49b9-a08f-bb26bc57ddff",
   "metadata": {},
   "source": [
    "Теперь, если запустить скрипт с аргументами\n",
    "`-n Иван -a 25` командой\n",
    "\n",
    "`python argparse_s.py -n Иван -a 25`\n",
    "\n",
    "вы получите следующий вывод:"
   ]
  },
  {
   "cell_type": "code",
   "execution_count": null,
   "id": "65318d6a-4fb9-4bde-875d-c4aa90a79054",
   "metadata": {},
   "outputs": [],
   "source": [
    "# Привет, Иван! Тебе 25 лет."
   ]
  },
  {
   "cell_type": "markdown",
   "id": "e709cd40-d09d-4cb3-acd9-8c0c96b68c95",
   "metadata": {},
   "source": [
    "### Файловая система компьютера:\n",
    "\n",
    "Файловая система компьютера представляет собой организацию и структурирование файлов и папок на диске. В операционных системах существует иерархическая структура каталогов, начиная от корневого каталога, который содержит все остальные каталоги и файлы. Работа с файловой системой позволяет программам выполнять операции чтения, записи, создания, перемещения и удаления файлов и папок.\n"
   ]
  },
  {
   "cell_type": "markdown",
   "id": "b0c2fbf6-7091-4322-8a8b-2044907c90a1",
   "metadata": {},
   "source": [
    "### Модуль os. Функции chdir, getcwd, listdir, mkdir, makedirs, walk:\n",
    "\n",
    "Модуль os предоставляет функции для работы с операционной системой, включая файловую систему. Некоторые полезные функции включают \n",
    "* os.chdir(), который позволяет изменить текущий рабочий каталог,\n",
    "* os.getcwd(), который возвращает текущий рабочий каталог,\n",
    "* os.listdir(), который возвращает список файлов и папок в указанном каталоге,\n",
    "* os.mkdir(), который создает новый каталог,\n",
    "* os.makedirs(), который создает новый каталог вместе со всеми промежуточными каталогами, и\n",
    "* os.walk(), который рекурсивно перебирает все файлы и папки в указанном каталоге.\n"
   ]
  },
  {
   "cell_type": "markdown",
   "id": "baac9280-0539-4180-b804-7069b115f454",
   "metadata": {},
   "source": [
    "#### Пример 1:\n",
    "os.getcwd() — Получение текущей рабочей директории"
   ]
  },
  {
   "cell_type": "code",
   "execution_count": 27,
   "id": "2e06a636-3b6d-4be4-8987-c7deadfdb0a9",
   "metadata": {},
   "outputs": [
    {
     "name": "stdout",
     "output_type": "stream",
     "text": [
      "Текущая директория: C:\\Users\\dplog\\Python\n"
     ]
    }
   ],
   "source": [
    "import os\n",
    "\n",
    "# Получение текущей рабочей директории\n",
    "current_dir = os.getcwd()\n",
    "print(\"Текущая директория:\", current_dir)"
   ]
  },
  {
   "cell_type": "markdown",
   "id": "21917bf4-fdc4-4722-912f-5d099d658ab6",
   "metadata": {},
   "source": [
    "#### Пример 2:\n",
    "os.chdir() — Изменение текущей рабочей директории"
   ]
  },
  {
   "cell_type": "code",
   "execution_count": null,
   "id": "aa92cc8f-161b-424f-884c-e97ac5f29738",
   "metadata": {},
   "outputs": [],
   "source": [
    "import os\n",
    "\n",
    "# Изменение текущей директории\n",
    "os.chdir('/tmp') #указываем папку в которой хотите работать\n",
    "\n",
    "# Проверка текущей директории\n",
    "print(\"Новая директория:\", os.getcwd())"
   ]
  },
  {
   "cell_type": "markdown",
   "id": "c325a511-0c68-4c89-8023-4969ddfa7882",
   "metadata": {},
   "source": [
    "#### Пример 3:\n",
    "os.listdir() — Получение списка файлов и директорий"
   ]
  },
  {
   "cell_type": "code",
   "execution_count": 30,
   "id": "7d7035f4-b37a-42fc-8563-a5d08b5731e5",
   "metadata": {},
   "outputs": [
    {
     "name": "stdout",
     "output_type": "stream",
     "text": [
      "Содержимое : ['.ipynb_checkpoints', 'ball.txt', 'data', 'example.txt', 'HW3_Pavlov.ipynb', 'input.txt', 'numbers.txt', 'output.txt', 'persons.txt', 'Python 24.ipynb', 'Python_1.ipynb', 'Python_10.ipynb', 'Python_11.ipynb', 'Python_12.ipynb', 'Python_13.ipynb', 'Python_14.ipynb', 'Python_15.ipynb', 'Python_16.ipynb', 'Python_17.ipynb', 'Python_18.ipynb', 'Python_19.ipynb', 'Python_20.ipynb', 'Python_21.ipynb', 'Python_22.ipynb', 'Python_23.ipynb', 'Python_24.ipynb', 'Python_25.ipynb', 'Python_26.ipynb', 'Python_3.ipynb', 'Python_4.ipynb', 'Python_5.ipynb', 'Python_6.ipynb', 'Python_7.ipynb', 'Python_8.ipynb', 'Python_9.ipynb', 'Python_P8.ipynb', 'Python_Pr10.ipynb', 'Python_Pr11.ipynb', 'Python_Pr12.ipynb', 'Python_Pr2.ipynb', 'Python_Pr3.ipynb', 'Python_Pr3_solved.ipynb', 'Python_Pr4.ipynb', 'Python_Pr5.ipynb', 'Python_Pr6.ipynb', 'Python_Pr6_solved.ipynb', 'Python_Pr7.ipynb', 'Python_Pr8.ipynb', 'Python_Pr9.ipynb', 'Python_Pr_1_solved.ipynb', 'Python_Pr_2.ipynb', 'Python_Pr_2_solved.ipynb', 'sales.txt', 'script.py', 'Summary 10.ipynb', 'Summary 11.ipynb', 'Summary 5.ipynb', 'Summary2.ipynb', 'Summary3.ipynb', 'Summary4.ipynb', 'Summary6.ipynb', 'Summary7.ipynb', 'Summary8.ipynb', 'Summary9.ipynb', 'Summary_12.ipynb', 'Untitled.ipynb', 'Untitled1.ipynb', 'Untitled2.ipynb']\n"
     ]
    }
   ],
   "source": [
    "import os\n",
    "\n",
    "# Получение списка файлов и директорий\n",
    "files = os.listdir('C:\\\\Users\\\\dplog\\\\Python')\n",
    "print(\"Содержимое :\", files)"
   ]
  },
  {
   "cell_type": "markdown",
   "id": "5a0181d2-e92d-4791-a9e7-0b747d4eb28c",
   "metadata": {},
   "source": [
    "#### Пример 4:\n",
    "os.mkdir() — Создание директории"
   ]
  },
  {
   "cell_type": "code",
   "execution_count": 31,
   "id": "67053bc8-7bea-4859-b7d5-36f8ea9b0598",
   "metadata": {},
   "outputs": [
    {
     "name": "stdout",
     "output_type": "stream",
     "text": [
      "Создана директория: True\n"
     ]
    }
   ],
   "source": [
    "import os\n",
    "\n",
    "# Создание новой директории\n",
    "os.mkdir('new_directory')\n",
    "\n",
    "# Проверка создания\n",
    "print(\"Создана директория:\", 'new_directory' in os.listdir())"
   ]
  },
  {
   "cell_type": "markdown",
   "id": "e644613b-2ae4-42ed-b75e-f60e822ee96f",
   "metadata": {},
   "source": [
    "#### Пример 5:\n",
    "os.makedirs() — Рекурсивное создание директорий"
   ]
  },
  {
   "cell_type": "code",
   "execution_count": 32,
   "id": "fb5335d8-9377-4e3a-a0af-2d6da3be65af",
   "metadata": {},
   "outputs": [
    {
     "name": "stdout",
     "output_type": "stream",
     "text": [
      "Созданы директории: True\n"
     ]
    }
   ],
   "source": [
    "import os\n",
    "\n",
    "# Рекурсивное создание директорий\n",
    "os.makedirs('dir1/dir2/dir3')\n",
    "\n",
    "# Проверка создания\n",
    "print(\"Созданы директории:\", 'dir3' in os.listdir('dir1/dir2'))"
   ]
  },
  {
   "cell_type": "markdown",
   "id": "9357c583-40d8-4edc-9b08-773bb19fa174",
   "metadata": {},
   "source": [
    "#### Пример 6:\n",
    "os.walk() — Рекурсивный обход директорий"
   ]
  },
  {
   "cell_type": "code",
   "execution_count": 33,
   "id": "cb9c77c1-dde4-4246-bc94-1a477862c20b",
   "metadata": {},
   "outputs": [
    {
     "name": "stdout",
     "output_type": "stream",
     "text": [
      "Текущая директория: .\n",
      "Поддиректории: ['.ipynb_checkpoints', 'data', 'dir1', 'new_directory']\n",
      "Файлы: ['ball.txt', 'example.txt', 'HW3_Pavlov.ipynb', 'input.txt', 'numbers.txt', 'output.txt', 'persons.txt', 'Python 24.ipynb', 'Python_1.ipynb', 'Python_10.ipynb', 'Python_11.ipynb', 'Python_12.ipynb', 'Python_13.ipynb', 'Python_14.ipynb', 'Python_15.ipynb', 'Python_16.ipynb', 'Python_17.ipynb', 'Python_18.ipynb', 'Python_19.ipynb', 'Python_20.ipynb', 'Python_21.ipynb', 'Python_22.ipynb', 'Python_23.ipynb', 'Python_24.ipynb', 'Python_25.ipynb', 'Python_26.ipynb', 'Python_3.ipynb', 'Python_4.ipynb', 'Python_5.ipynb', 'Python_6.ipynb', 'Python_7.ipynb', 'Python_8.ipynb', 'Python_9.ipynb', 'Python_P8.ipynb', 'Python_Pr10.ipynb', 'Python_Pr11.ipynb', 'Python_Pr12.ipynb', 'Python_Pr2.ipynb', 'Python_Pr3.ipynb', 'Python_Pr3_solved.ipynb', 'Python_Pr4.ipynb', 'Python_Pr5.ipynb', 'Python_Pr6.ipynb', 'Python_Pr6_solved.ipynb', 'Python_Pr7.ipynb', 'Python_Pr8.ipynb', 'Python_Pr9.ipynb', 'Python_Pr_1_solved.ipynb', 'Python_Pr_2.ipynb', 'Python_Pr_2_solved.ipynb', 'sales.txt', 'script.py', 'Summary 10.ipynb', 'Summary 11.ipynb', 'Summary 5.ipynb', 'Summary2.ipynb', 'Summary3.ipynb', 'Summary4.ipynb', 'Summary6.ipynb', 'Summary7.ipynb', 'Summary8.ipynb', 'Summary9.ipynb', 'Summary_12.ipynb', 'Untitled.ipynb', 'Untitled1.ipynb', 'Untitled2.ipynb']\n",
      "Текущая директория: .\\.ipynb_checkpoints\n",
      "Поддиректории: []\n",
      "Файлы: ['HW3_Pavlov-checkpoint.ipynb', 'Python 24-checkpoint.ipynb', 'Python1-checkpoint.ipynb', 'Python_10-checkpoint.ipynb', 'Python_11-checkpoint.ipynb', 'Python_12-checkpoint.ipynb', 'Python_13-checkpoint.ipynb', 'Python_14-checkpoint.ipynb', 'Python_15-checkpoint.ipynb', 'Python_16-checkpoint.ipynb', 'Python_17-checkpoint.ipynb', 'Python_18-checkpoint.ipynb', 'Python_19-checkpoint.ipynb', 'Python_20-checkpoint.ipynb', 'Python_21-checkpoint.ipynb', 'Python_22-checkpoint.ipynb', 'Python_23-checkpoint.ipynb', 'Python_24-checkpoint.ipynb', 'Python_25-checkpoint.ipynb', 'Python_26-checkpoint.ipynb', 'Python_3-checkpoint.ipynb', 'Python_4-checkpoint.ipynb', 'Python_5-checkpoint.ipynb', 'Python_6-checkpoint.ipynb', 'Python_7-checkpoint.ipynb', 'Python_8-checkpoint.ipynb', 'Python_9-checkpoint.ipynb', 'Python_P6-checkpoint.ipynb', 'Python_P8-checkpoint.ipynb', 'Python_Pr10-checkpoint.ipynb', 'Python_Pr11-checkpoint.ipynb', 'Python_Pr12-checkpoint.ipynb', 'Python_Pr2-checkpoint.ipynb', 'Python_Pr2_solv-checkpoint.ipynb', 'Python_Pr3-checkpoint.ipynb', 'Python_Pr3_solved-checkpoint.ipynb', 'Python_Pr4-checkpoint.ipynb', 'Python_Pr5-checkpoint.ipynb', 'Python_Pr6-checkpoint.ipynb', 'Python_Pr6_solved-checkpoint.ipynb', 'Python_Pr7-checkpoint.ipynb', 'Python_Pr8-checkpoint.ipynb', 'Python_Pr9-checkpoint.ipynb', 'Python_Pr_2-checkpoint.ipynb', 'Python_Pr_2_solved-checkpoint.ipynb', 'Summary 10-checkpoint.ipynb', 'Summary 11-checkpoint.ipynb', 'Summary 5-checkpoint.ipynb', 'Summary2-checkpoint.ipynb', 'Summary3-checkpoint.ipynb', 'Summary4-checkpoint.ipynb', 'Summary6-checkpoint.ipynb', 'Summary7-checkpoint.ipynb', 'Summary8-checkpoint.ipynb', 'Summary9-checkpoint.ipynb', 'Summary_12-checkpoint.ipynb', 'Summary_5-checkpoint.ipynb', 'Untitled-checkpoint.ipynb', 'Untitled1-checkpoint.ipynb', 'Untitled2-checkpoint.ipynb']\n",
      "Текущая директория: .\\data\n",
      "Поддиректории: []\n",
      "Файлы: ['customers.json', 'data.txt', 'name.txt', 'name_pr12.txt', 'Текстовый документ.txt']\n",
      "Текущая директория: .\\dir1\n",
      "Поддиректории: ['dir2']\n",
      "Файлы: []\n",
      "Текущая директория: .\\dir1\\dir2\n",
      "Поддиректории: ['dir3']\n",
      "Файлы: []\n",
      "Текущая директория: .\\dir1\\dir2\\dir3\n",
      "Поддиректории: []\n",
      "Файлы: []\n",
      "Текущая директория: .\\new_directory\n",
      "Поддиректории: []\n",
      "Файлы: []\n"
     ]
    }
   ],
   "source": [
    "import os\n",
    "\n",
    "os.chdir('C:/Users/dplog/Python')\n",
    "\n",
    "# Рекурсивный обход директорий\n",
    "for root, dirs, files in os.walk('.'):\n",
    "    print(f\"Текущая директория: {root}\")\n",
    "    print(f\"Поддиректории: {dirs}\")\n",
    "    print(f\"Файлы: {files}\")"
   ]
  },
  {
   "cell_type": "markdown",
   "id": "8e436741-bcfe-47aa-8a70-99f91b7aac31",
   "metadata": {},
   "source": [
    "#### Комплексный пример"
   ]
  },
  {
   "cell_type": "code",
   "execution_count": null,
   "id": "8b6e8e71-0d95-4d10-b50b-6a148761e537",
   "metadata": {},
   "outputs": [],
   "source": [
    "import os\n",
    "\n",
    "os.chdir('C:\\\\Users\\\\dplog\\\\OneDrive\\\\Документы\\\\python')\n",
    "current_dir = os.getcwd()\n",
    "files = os.listdir(current_dir)\n",
    "os.mkdir('new_directory')\n",
    "os.makedirs('new_directory/sub_directory')\n",
    "for dirpath, dirnames, filenames in os.walk(current_dir):\n",
    "    for filename in filenames:\n",
    "        print(os.path.join(dirpath, filename))\n"
   ]
  },
  {
   "cell_type": "code",
   "execution_count": null,
   "id": "1fe28349-e238-4dcb-8970-2512f65b167c",
   "metadata": {},
   "outputs": [],
   "source": []
  },
  {
   "cell_type": "markdown",
   "id": "6d011e9a-36bf-4539-88e6-d8859867fcb4",
   "metadata": {},
   "source": [
    "### Семейство функций os.path:\n",
    "\n",
    "Модуль os.path предоставляет функции для работы с путями файлов и каталогов. Он предоставляет кросс-платформенные методы для создания, обработки и проверки путей. Некоторые функции из os.path включают\n",
    "* os.path.join(), который объединяет компоненты пути в единый путь,\n",
    "* os.path.abspath(), который возвращает абсолютный путь,\n",
    "* os.path.exists(), который проверяет существование файла или каталога,\n",
    "* os.path.isdir(), который проверяет, является ли путь каталогом, и\n",
    "* os.path.isfile(), который проверяет, является ли путь файлом.\n"
   ]
  },
  {
   "cell_type": "code",
   "execution_count": null,
   "id": "eb49c4f2-bb91-4531-bcc3-dfe9ea46aab3",
   "metadata": {},
   "outputs": [],
   "source": [
    "import os\n",
    "\n",
    "path = os.path.join('/path/to', 'file.txt')\n",
    "absolute_path = os.path.abspath(path)\n",
    "exists = os.path.exists(absolute_path)\n",
    "is_directory = os.path.isdir(absolute_path)\n",
    "is_file = os.path.isfile(absolute_path)\n"
   ]
  },
  {
   "cell_type": "code",
   "execution_count": null,
   "id": "92275f88-786d-4a45-9ed7-177abfd9895c",
   "metadata": {},
   "outputs": [],
   "source": []
  },
  {
   "cell_type": "markdown",
   "id": "c874dae2-bd95-44a8-965c-67e0c60c57e8",
   "metadata": {},
   "source": [
    "### Написание рекурсивных функций для работы с каталогом файловой системы:\n",
    "\n",
    "Рекурсивные функции позволяют обрабатывать все файлы и папки внутри заданного каталога, включая вложенные каталоги. Это полезно для выполнения операций, которые требуют обхода всей структуры каталогов, например, для поиска файлов определенного типа или копирования файлов в другое место. Рекурсивные функции можно реализовать с использованием циклов или рекурсии, вызывая себя для каждого вложенного каталога.\n"
   ]
  },
  {
   "cell_type": "code",
   "execution_count": null,
   "id": "2fefa796-5a0d-40c0-9e80-a331d54bdddd",
   "metadata": {},
   "outputs": [],
   "source": [
    "import os\n",
    "\n",
    "def process_directory(directory):\n",
    "    for filename in os.listdir(directory):\n",
    "        file_path = os.path.join(directory, filename)\n",
    "        if os.path.isfile(file_path):\n",
    "            # Обработка файла\n",
    "            print(file_path)\n",
    "        elif os.path.isdir(file_path):\n",
    "            # Рекурсивный вызов для вложенного каталога\n",
    "            process_directory(file_path)\n",
    "\n",
    "start_directory = '/path/to/start_directory'\n",
    "process_directory(start_directory)\n"
   ]
  },
  {
   "cell_type": "markdown",
   "id": "21bc7ef0-bad4-4c7c-a357-acc9f8af16cd",
   "metadata": {},
   "source": [
    "Код можно упростить и сделать более эффективным, используя функцию os.walk(). Функция os.walk() автоматически рекурсивно обходит директории, что избавляет от необходимости вручную проверять, является ли объект файлом или директорией, и рекурсивно вызывать функцию."
   ]
  },
  {
   "cell_type": "code",
   "execution_count": null,
   "id": "2e5175de-97d0-479b-ad66-9c32698519f9",
   "metadata": {},
   "outputs": [],
   "source": [
    "import os\n",
    "\n",
    "def process_directory(directory):\n",
    "    for root, dirs, files in os.walk(directory):\n",
    "        for file in files:\n",
    "            file_path = os.path.join(root, file)\n",
    "            # Обработка файла\n",
    "            print(file_path)\n",
    "\n",
    "start_directory = '/path/to/start_directory'\n",
    "process_directory(start_directory)"
   ]
  },
  {
   "cell_type": "code",
   "execution_count": null,
   "id": "d3c251e5-3b61-4721-8127-26a0de44ea63",
   "metadata": {},
   "outputs": [],
   "source": []
  },
  {
   "cell_type": "markdown",
   "id": "11b9a4d4-42bd-486c-8100-05955316e961",
   "metadata": {},
   "source": [
    "### Практика"
   ]
  },
  {
   "cell_type": "markdown",
   "id": "749274c0-57d4-410f-a6eb-d3035ef9a055",
   "metadata": {},
   "source": [
    "1. Пишем программу, которая обходит директорию и выводит информацию в формате, максимально похожем на ls в linux/macos (dir в windows). Делаем то же самое для директории и всех вложенных директорий."
   ]
  },
  {
   "cell_type": "code",
   "execution_count": null,
   "id": "edf2c717-8d59-4f8c-aa56-5d2c4092c85b",
   "metadata": {},
   "outputs": [],
   "source": [
    "import os\n",
    "\n",
    "def list_files(start_path):\n",
    "    for root, dirs, files in os.walk(start_path):\n",
    "        # Выводим текущую директорию\n",
    "        print(f\"Директория: {root}\")\n",
    "\n",
    "        # Выводим список папок\n",
    "        for dir_name in dirs:\n",
    "            print(f\"  {dir_name}/\")\n",
    "\n",
    "        # Выводим список файлов\n",
    "        for file_name in files:\n",
    "            print(f\"  {file_name}\")\n",
    "\n",
    "        # Разделитель между директориями\n",
    "        print()\n",
    "\n",
    "# Пример использования\n",
    "start_path = '.'  # Начальная директория (текущая директория)\n",
    "list_files(start_path)\n"
   ]
  },
  {
   "cell_type": "markdown",
   "id": "fd05328d-5adb-4a09-9dd8-def0d42ca264",
   "metadata": {},
   "source": [
    "2. Напишите программу, которая принимает в качестве аргумента командной строки путь к директории и выводит список всех файлов с расширением .txt внутри этой директории и ее поддиректорий. Для этой задачи используйте рекурсивную функцию, которая будет обходить все поддиректории и искать файлы с расширением .txt.\n"
   ]
  },
  {
   "cell_type": "code",
   "execution_count": null,
   "id": "eb2f80f3-70f0-4d9c-aa3e-ce7a4b3746b6",
   "metadata": {},
   "outputs": [],
   "source": [
    "import os\n",
    "import sys\n",
    "\n",
    "def find_txt_files(directory):\n",
    "    txt_files = []\n",
    "\n",
    "    for root, _, files in os.walk(directory):\n",
    "        for file in files:\n",
    "            if file.endswith('.txt'):\n",
    "                txt_files.append(os.path.join(root, file))\n",
    "\n",
    "    return txt_files\n",
    "\n",
    "# Пример использования\n",
    "if __name__ == \"__main__\":\n",
    "    if len(sys.argv) != 2:\n",
    "        print(\"Использование: python script.py <путь_к_директории>\")\n",
    "    else:\n",
    "        directory_path = sys.argv[1]\n",
    "        txt_files = find_txt_files(directory_path)\n",
    "        for txt_file in txt_files:\n",
    "            print(txt_file)\n"
   ]
  },
  {
   "cell_type": "code",
   "execution_count": null,
   "id": "27355a7b-644a-4069-ba9f-51fe9b476937",
   "metadata": {},
   "outputs": [],
   "source": [
    "# python script.py /path/to/directory"
   ]
  },
  {
   "cell_type": "markdown",
   "id": "7448284f-c246-4a27-be21-60df040f1d65",
   "metadata": {},
   "source": [
    "### Полезные материалы\n",
    "1. 8 команд для Python по работе с файлами и файловой системой, которые обязательно нужно знать https://habr.com/ru/companies/selectel/articles/547290/ \n",
    "2. Модуль os https://pythonworld.ru/moduli/modul-os.html\n",
    "3. https://sky.pro/media/kak-rabotat-s-modulem-argparse-v-python/\n",
    "\n",
    "### Вопросы для закрепления\n",
    "1. Что происходит, когда мы нажимаем на кнопочку Play в IDE?\n",
    "2. Какие есть подходы к обработке аргументов командной строки?\n",
    "3. Какие функции можно использовать для навигации по файловой системы из программы?\n"
   ]
  },
  {
   "cell_type": "code",
   "execution_count": null,
   "id": "47cbc0ae-a6c0-48c0-a397-96230c2b51f3",
   "metadata": {},
   "outputs": [],
   "source": []
  }
 ],
 "metadata": {
  "kernelspec": {
   "display_name": "Python 3 (ipykernel)",
   "language": "python",
   "name": "python3"
  },
  "language_info": {
   "codemirror_mode": {
    "name": "ipython",
    "version": 3
   },
   "file_extension": ".py",
   "mimetype": "text/x-python",
   "name": "python",
   "nbconvert_exporter": "python",
   "pygments_lexer": "ipython3",
   "version": "3.12.4"
  }
 },
 "nbformat": 4,
 "nbformat_minor": 5
}
