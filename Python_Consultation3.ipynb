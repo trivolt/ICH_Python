{
 "cells": [
  {
   "cell_type": "code",
   "execution_count": 1,
   "id": "966c262b-cf4f-48d5-bf67-0b9fc063d4d0",
   "metadata": {},
   "outputs": [
    {
     "name": "stdout",
     "output_type": "stream",
     "text": [
      "[(1, 'A lonely obese nurse, working at a hospital terminal ward, is reminded of her childhood friend Adrienn Pal and wants to track her down.', '[\"Drama\"]', 136, '[\"èva Gèbor\", \"Istvèn Znamenèk\", \"èkos Horvèth\", \"Lia Pokorny\"]', 'https://m.media-amazon.com/images/M/MV5BODNjZmM3MWYtYmUwZC00M2RjLTkyZmEtYzRhMDU1NmM3ZmIzXkEyXkFqcGdeQXVyOTAzODAwOQ@@._V1_SY1000_SX677_AL_.jpg', 'Pèl Adrienn', '[\"Hungarian\"]', '[\"ègnes Kocsis\"]', '[\"ègnes Kocsis (screenplay)\",\"Andrea Roberti (screenplay)\"]', '4 wins & 5 nominations.', 2010, '6.8', '348', '[\"Hungary\", \"France\", \"Austria\", \"Netherlands\"]', 'movie'), (2, 'Young writer Sal Paradise has his life shaken by the arrival of free-spirited Dean Moriarty and his girl, Marylou. As they travel across the country, they encounter a mix of people who each impact their journey indelibly.', '[\"Adventure\", \"Drama\"]', 124, '[\"Sam Riley\", \"Garrett Hedlund\", \"Kristen Stewart\", \"Amy Adams\"]', 'https://m.media-amazon.com/images/M/MV5BMTc1MzU5MDgzMF5BMl5BanBnXkFtZTcwMDQ4ODY2OA@@._V1_SY1000_SX677_AL_.jpg', 'On the Road', '[\"English\", \"French\"]', '[\"Walter Salles\"]', '[\"Jack Kerouac (based on the novel by)\",\"Jose Rivera (screenplay)\",\"Harold Manning (french adaptation)\"]', '2 wins & 5 nominations.', 2012, '6.1', '30483', '[\"France\", \"USA\", \"UK\", \"Brazil\", \"Canada\", \"Argentina\"]', 'movie'), (3, 'An adventurous girl finds another world that is a strangely idealized version of her frustrating home, but it has sinister secrets.', '[\"Animation\", \"Fantasy\"]', 100, '[\"Dakota Fanning\", \"Teri Hatcher\", \"Jennifer Saunders\", \"Dawn French\"]', 'https://m.media-amazon.com/images/M/MV5BMzQxNjM5NzkxNV5BMl5BanBnXkFtZTcwMzg5NDMwMg@@._V1_SY1000_SX677_AL_.jpg', 'Coraline', '[\"English\", \"Russian\"]', '[\"Henry Selick\"]', '[\"Henry Selick (screenplay)\",\"Neil Gaiman (book)\"]', 'Nominated for 1 Oscar. Another 9 wins & 37 nominations.', 2009, '7.7', '131308', '[\"USA\"]', 'movie'), (4, 'Marcus is a popular massage therapist who struggles with parasomnia, a severe sleepwalking disorder that causes him to do things in his sleep that he cannot remember the next day. When he ...', '[\"Drama\", \"Mystery\", \"Thriller\"]', 104, '[\"Philip Winchester\", \"Tim Draxl\", \"Lacey Chabert\", \"Abigail Spencer\"]', 'https://m.media-amazon.com/images/M/MV5BNzg1MDM1NzIwMV5BMl5BanBnXkFtZTcwNzMxMTU1MQ@@._V1_SY1000_SX677_AL_.jpg', 'In My Sleep', '[\"English\"]', '[\"Allen Wolf\"]', '[\"Allen Wolf\"]', '6 wins.', 2010, '5.5', '1629', '[\"USA\"]', 'movie'), (5, 'When his job along with that of his co-worker are threatened, Walter takes action in the real world embarking on a global journey that turns into an adventure more extraordinary than anything he could have ever imagined.', '[\"Adventure\", \"Comedy\", \"Drama\"]', 114, '[\"Ben Stiller\", \"Kristen Wiig\", \"Jon Daly\", \"Kathryn Hahn\"]', 'https://m.media-amazon.com/images/M/MV5BODYwNDYxNDk1Nl5BMl5BanBnXkFtZTgwOTAwMTk2MDE@._V1_SY1000_SX677_AL_.jpg', 'The Secret Life of Walter Mitty', '[\"English\", \"Spanish\", \"Icelandic\"]', '[\"Ben Stiller\"]', '[\"Steve Conrad (screenplay)\",\"Steve Conrad (screen story by)\",\"James Thurber (based on the short story by)\"]', '6 wins & 13 nominations.', 2013, '7.4', '211230', '[\"USA\", \"Canada\"]', 'movie'), (6, \"In Nazi-occupied France during World War II, a plan to assassinate Nazi leaders by a group of Jewish U.S. soldiers coincides with a theatre owner's vengeful plans for the same.\", '[\"Adventure\", \"Drama\", \"War\"]', 153, '[\"Brad Pitt\", \"Mèlanie Laurent\", \"Christoph Waltz\", \"Eli Roth\"]', 'https://m.media-amazon.com/images/M/MV5BOTJiNDEzOWYtMTVjOC00ZjlmLWE0NGMtZmE1OWVmZDQ2OWJhXkEyXkFqcGdeQXVyNTIzOTk5ODM@._V1_SY1000_SX677_AL_.jpg', 'Inglourious Basterds', '[\"English\", \"German\", \"French\", \"Italian\"]', '[\"Quentin Tarantino\", \"Eli Roth\"]', '[\"Quentin Tarantino\"]', 'Won 1 Oscar. Another 137 wins & 114 nominations.', 2009, '8.3', '769994', '[\"USA\", \"Germany\"]', 'movie'), (7, \"A small wooden box arrives on the doorstep of a married couple, who know that opening it will grant them a million dollars and kill someone they don't know.\", '[\"Drama\", \"Mystery\", \"Sci-Fi\"]', 115, '[\"Cameron Diaz\", \"James Marsden\", \"Frank Langella\", \"James Rebhorn\"]', 'https://m.media-amazon.com/images/M/MV5BMTI4MDA5NjIwM15BMl5BanBnXkFtZTcwNTA2MjY0Mg@@._V1_SY1000_SX677_AL_.jpg', 'The Box', '[\"English\"]', '[\"Richard Kelly\"]', '[\"Richard Kelly (screenplay)\",\"Richard Matheson (short story \"Button\",\" Button\")\"]', '6 nominations.', 2009, '5.6', '72088', '[\"USA\"]', 'movie'), (8, \"When an android replica of a boy is rejected by his aggrieved creator, he goes off to find his own identity in an adventure that would make him his time's greatest hero.\", '[\"Animation\", \"Action\", \"Family\"]', 94, '[\"Charlize Theron\", \"Freddie Highmore\", \"Ryan Stiles\", \"Eugene Levy\"]', 'https://m.media-amazon.com/images/M/MV5BMTI5NTEwNTcxMl5BMl5BanBnXkFtZTcwMDEyMTE4Mg@@._V1_SY1000_SX677_AL_.jpg', 'Astro Boy', '[\"English\"]', '[\"David Bowers\"]', '[\"Osamu Tezuka (manga)\",\"David Bowers (story)\",\"Timothy Harris\",\"David Bowers\"]', '4 nominations.', 2009, '6.4', '23663', '[\"Hong Kong\", \"USA\", \"Japan\"]', 'movie'), (9, \"The intertwined stories of three Marines during America's battle with the Japanese in the Pacific during World War II.\", '[\"Action\", \"Adventure\", \"Drama\"]', 52, '[\"James Badge Dale\", \"Joseph Mazzello\", \"Jon Seda\", \"Sebastian Bertoli\"]', 'https://m.media-amazon.com/images/M/MV5BNmEwNmI1MjItNjNjYy00NDE5LWJiNTYtM2QxMTI5ZjllZTBhL2ltYWdlXkEyXkFqcGdeQXVyNTAyODkwOQ@@._V1_SY1000_SX677_AL_.jpg', 'The Pacific', '[\"English\"]', None, None, 'Nominated for 1 Golden Globe. Another 23 wins & 32 nominations.', 2010, '8.3', '60257', '[\"USA\"]', 'series'), (10, 'Centers on a young girl who has been murdered and watches over her family - and her killer - from purgatory. She must weigh her desire for vengeance against her desire for her family to heal.', '[\"Drama\", \"Fantasy\"]', 135, '[\"Mark Wahlberg\", \"Rachel Weisz\", \"Susan Sarandon\", \"Stanley Tucci\"]', 'https://m.media-amazon.com/images/M/MV5BMjAwNDA1MTM2MF5BMl5BanBnXkFtZTcwMzg3NDcwMw@@._V1_SY1000_SX677_AL_.jpg', 'The Lovely Bones', '[\"English\"]', '[\"Peter Jackson\"]', '[\"Fran Walsh (screenplay)\",\"Philippa Boyens (screenplay)\",\"Peter Jackson (screenplay)\",\"Alice Sebold (novel)\"]', 'Nominated for 1 Oscar. Another 13 wins & 37 nominations.', 2009, '6.7', '116441', '[\"USA\", \"UK\", \"New Zealand\"]', 'movie')]\n"
     ]
    }
   ],
   "source": [
    "import mysql.connector\n",
    "from mysql.connector import Error\n",
    "from functools import lru_cache\n",
    "\n",
    "# Конфигурация подключения к базе данных\n",
    "dbconfig_server = {\n",
    "    'host': 'ich-db.edu.itcareerhub.de',\n",
    "    'user': 'ich1',\n",
    "    'password': 'password',\n",
    "    'database': 'imdb'\n",
    "}\n",
    "\n",
    "def get_connection():\n",
    "    try:\n",
    "        connection = mysql.connector.connect(**dbconfig_server)\n",
    "        if connection.is_connected():\n",
    "            return connection\n",
    "    except Error as e:\n",
    "        print(f\"Error while connecting to database: {e}\")\n",
    "        return None\n",
    "\n",
    "@lru_cache(maxsize=32)  # Устанавливаем максимальный размер кэша\n",
    "def execute_query(query):\n",
    "    connection = get_connection()\n",
    "    if connection:\n",
    "        try:\n",
    "            cursor = connection.cursor()\n",
    "            cursor.execute(query)\n",
    "            result = cursor.fetchall()\n",
    "            return result\n",
    "        except Error as e:\n",
    "            print(f\"Error while executing query: {e}\")\n",
    "        finally:\n",
    "            cursor.close()\n",
    "            connection.close()\n",
    "    return None\n",
    "\n",
    "# Пример использования\n",
    "query = \"SELECT * FROM movies LIMIT 10\"\n",
    "result = execute_query(query)\n",
    "print(result)"
   ]
  },
  {
   "cell_type": "code",
   "execution_count": 2,
   "id": "a2e692ec-3291-4010-9350-3b7d475b81c6",
   "metadata": {},
   "outputs": [
    {
     "name": "stdout",
     "output_type": "stream",
     "text": [
      "[(1, 'A lonely obese nurse, working at a hospital terminal ward, is reminded of her childhood friend Adrienn Pal and wants to track her down.', '[\"Drama\"]', 136, '[\"èva Gèbor\", \"Istvèn Znamenèk\", \"èkos Horvèth\", \"Lia Pokorny\"]', 'https://m.media-amazon.com/images/M/MV5BODNjZmM3MWYtYmUwZC00M2RjLTkyZmEtYzRhMDU1NmM3ZmIzXkEyXkFqcGdeQXVyOTAzODAwOQ@@._V1_SY1000_SX677_AL_.jpg', 'Pèl Adrienn', '[\"Hungarian\"]', '[\"ègnes Kocsis\"]', '[\"ègnes Kocsis (screenplay)\",\"Andrea Roberti (screenplay)\"]', '4 wins & 5 nominations.', 2010, '6.8', '348', '[\"Hungary\", \"France\", \"Austria\", \"Netherlands\"]', 'movie'), (2, 'Young writer Sal Paradise has his life shaken by the arrival of free-spirited Dean Moriarty and his girl, Marylou. As they travel across the country, they encounter a mix of people who each impact their journey indelibly.', '[\"Adventure\", \"Drama\"]', 124, '[\"Sam Riley\", \"Garrett Hedlund\", \"Kristen Stewart\", \"Amy Adams\"]', 'https://m.media-amazon.com/images/M/MV5BMTc1MzU5MDgzMF5BMl5BanBnXkFtZTcwMDQ4ODY2OA@@._V1_SY1000_SX677_AL_.jpg', 'On the Road', '[\"English\", \"French\"]', '[\"Walter Salles\"]', '[\"Jack Kerouac (based on the novel by)\",\"Jose Rivera (screenplay)\",\"Harold Manning (french adaptation)\"]', '2 wins & 5 nominations.', 2012, '6.1', '30483', '[\"France\", \"USA\", \"UK\", \"Brazil\", \"Canada\", \"Argentina\"]', 'movie'), (3, 'An adventurous girl finds another world that is a strangely idealized version of her frustrating home, but it has sinister secrets.', '[\"Animation\", \"Fantasy\"]', 100, '[\"Dakota Fanning\", \"Teri Hatcher\", \"Jennifer Saunders\", \"Dawn French\"]', 'https://m.media-amazon.com/images/M/MV5BMzQxNjM5NzkxNV5BMl5BanBnXkFtZTcwMzg5NDMwMg@@._V1_SY1000_SX677_AL_.jpg', 'Coraline', '[\"English\", \"Russian\"]', '[\"Henry Selick\"]', '[\"Henry Selick (screenplay)\",\"Neil Gaiman (book)\"]', 'Nominated for 1 Oscar. Another 9 wins & 37 nominations.', 2009, '7.7', '131308', '[\"USA\"]', 'movie'), (4, 'Marcus is a popular massage therapist who struggles with parasomnia, a severe sleepwalking disorder that causes him to do things in his sleep that he cannot remember the next day. When he ...', '[\"Drama\", \"Mystery\", \"Thriller\"]', 104, '[\"Philip Winchester\", \"Tim Draxl\", \"Lacey Chabert\", \"Abigail Spencer\"]', 'https://m.media-amazon.com/images/M/MV5BNzg1MDM1NzIwMV5BMl5BanBnXkFtZTcwNzMxMTU1MQ@@._V1_SY1000_SX677_AL_.jpg', 'In My Sleep', '[\"English\"]', '[\"Allen Wolf\"]', '[\"Allen Wolf\"]', '6 wins.', 2010, '5.5', '1629', '[\"USA\"]', 'movie'), (5, 'When his job along with that of his co-worker are threatened, Walter takes action in the real world embarking on a global journey that turns into an adventure more extraordinary than anything he could have ever imagined.', '[\"Adventure\", \"Comedy\", \"Drama\"]', 114, '[\"Ben Stiller\", \"Kristen Wiig\", \"Jon Daly\", \"Kathryn Hahn\"]', 'https://m.media-amazon.com/images/M/MV5BODYwNDYxNDk1Nl5BMl5BanBnXkFtZTgwOTAwMTk2MDE@._V1_SY1000_SX677_AL_.jpg', 'The Secret Life of Walter Mitty', '[\"English\", \"Spanish\", \"Icelandic\"]', '[\"Ben Stiller\"]', '[\"Steve Conrad (screenplay)\",\"Steve Conrad (screen story by)\",\"James Thurber (based on the short story by)\"]', '6 wins & 13 nominations.', 2013, '7.4', '211230', '[\"USA\", \"Canada\"]', 'movie'), (6, \"In Nazi-occupied France during World War II, a plan to assassinate Nazi leaders by a group of Jewish U.S. soldiers coincides with a theatre owner's vengeful plans for the same.\", '[\"Adventure\", \"Drama\", \"War\"]', 153, '[\"Brad Pitt\", \"Mèlanie Laurent\", \"Christoph Waltz\", \"Eli Roth\"]', 'https://m.media-amazon.com/images/M/MV5BOTJiNDEzOWYtMTVjOC00ZjlmLWE0NGMtZmE1OWVmZDQ2OWJhXkEyXkFqcGdeQXVyNTIzOTk5ODM@._V1_SY1000_SX677_AL_.jpg', 'Inglourious Basterds', '[\"English\", \"German\", \"French\", \"Italian\"]', '[\"Quentin Tarantino\", \"Eli Roth\"]', '[\"Quentin Tarantino\"]', 'Won 1 Oscar. Another 137 wins & 114 nominations.', 2009, '8.3', '769994', '[\"USA\", \"Germany\"]', 'movie'), (7, \"A small wooden box arrives on the doorstep of a married couple, who know that opening it will grant them a million dollars and kill someone they don't know.\", '[\"Drama\", \"Mystery\", \"Sci-Fi\"]', 115, '[\"Cameron Diaz\", \"James Marsden\", \"Frank Langella\", \"James Rebhorn\"]', 'https://m.media-amazon.com/images/M/MV5BMTI4MDA5NjIwM15BMl5BanBnXkFtZTcwNTA2MjY0Mg@@._V1_SY1000_SX677_AL_.jpg', 'The Box', '[\"English\"]', '[\"Richard Kelly\"]', '[\"Richard Kelly (screenplay)\",\"Richard Matheson (short story \"Button\",\" Button\")\"]', '6 nominations.', 2009, '5.6', '72088', '[\"USA\"]', 'movie'), (8, \"When an android replica of a boy is rejected by his aggrieved creator, he goes off to find his own identity in an adventure that would make him his time's greatest hero.\", '[\"Animation\", \"Action\", \"Family\"]', 94, '[\"Charlize Theron\", \"Freddie Highmore\", \"Ryan Stiles\", \"Eugene Levy\"]', 'https://m.media-amazon.com/images/M/MV5BMTI5NTEwNTcxMl5BMl5BanBnXkFtZTcwMDEyMTE4Mg@@._V1_SY1000_SX677_AL_.jpg', 'Astro Boy', '[\"English\"]', '[\"David Bowers\"]', '[\"Osamu Tezuka (manga)\",\"David Bowers (story)\",\"Timothy Harris\",\"David Bowers\"]', '4 nominations.', 2009, '6.4', '23663', '[\"Hong Kong\", \"USA\", \"Japan\"]', 'movie'), (9, \"The intertwined stories of three Marines during America's battle with the Japanese in the Pacific during World War II.\", '[\"Action\", \"Adventure\", \"Drama\"]', 52, '[\"James Badge Dale\", \"Joseph Mazzello\", \"Jon Seda\", \"Sebastian Bertoli\"]', 'https://m.media-amazon.com/images/M/MV5BNmEwNmI1MjItNjNjYy00NDE5LWJiNTYtM2QxMTI5ZjllZTBhL2ltYWdlXkEyXkFqcGdeQXVyNTAyODkwOQ@@._V1_SY1000_SX677_AL_.jpg', 'The Pacific', '[\"English\"]', None, None, 'Nominated for 1 Golden Globe. Another 23 wins & 32 nominations.', 2010, '8.3', '60257', '[\"USA\"]', 'series'), (10, 'Centers on a young girl who has been murdered and watches over her family - and her killer - from purgatory. She must weigh her desire for vengeance against her desire for her family to heal.', '[\"Drama\", \"Fantasy\"]', 135, '[\"Mark Wahlberg\", \"Rachel Weisz\", \"Susan Sarandon\", \"Stanley Tucci\"]', 'https://m.media-amazon.com/images/M/MV5BMjAwNDA1MTM2MF5BMl5BanBnXkFtZTcwMzg3NDcwMw@@._V1_SY1000_SX677_AL_.jpg', 'The Lovely Bones', '[\"English\"]', '[\"Peter Jackson\"]', '[\"Fran Walsh (screenplay)\",\"Philippa Boyens (screenplay)\",\"Peter Jackson (screenplay)\",\"Alice Sebold (novel)\"]', 'Nominated for 1 Oscar. Another 13 wins & 37 nominations.', 2009, '6.7', '116441', '[\"USA\", \"UK\", \"New Zealand\"]', 'movie')]\n"
     ]
    }
   ],
   "source": [
    "query = \"SELECT * FROM movies LIMIT 10\"\n",
    "result = execute_query(query)\n",
    "print(result)"
   ]
  },
  {
   "cell_type": "code",
   "execution_count": 3,
   "id": "c764b994-e946-41a4-a580-71ce6beebbac",
   "metadata": {},
   "outputs": [
    {
     "name": "stdout",
     "output_type": "stream",
     "text": [
      "[(1, 'A lonely obese nurse, working at a hospital terminal ward, is reminded of her childhood friend Adrienn Pal and wants to track her down.', '[\"Drama\"]', 136, '[\"èva Gèbor\", \"Istvèn Znamenèk\", \"èkos Horvèth\", \"Lia Pokorny\"]', 'https://m.media-amazon.com/images/M/MV5BODNjZmM3MWYtYmUwZC00M2RjLTkyZmEtYzRhMDU1NmM3ZmIzXkEyXkFqcGdeQXVyOTAzODAwOQ@@._V1_SY1000_SX677_AL_.jpg', 'Pèl Adrienn', '[\"Hungarian\"]', '[\"ègnes Kocsis\"]', '[\"ègnes Kocsis (screenplay)\",\"Andrea Roberti (screenplay)\"]', '4 wins & 5 nominations.', 2010, '6.8', '348', '[\"Hungary\", \"France\", \"Austria\", \"Netherlands\"]', 'movie'), (2, 'Young writer Sal Paradise has his life shaken by the arrival of free-spirited Dean Moriarty and his girl, Marylou. As they travel across the country, they encounter a mix of people who each impact their journey indelibly.', '[\"Adventure\", \"Drama\"]', 124, '[\"Sam Riley\", \"Garrett Hedlund\", \"Kristen Stewart\", \"Amy Adams\"]', 'https://m.media-amazon.com/images/M/MV5BMTc1MzU5MDgzMF5BMl5BanBnXkFtZTcwMDQ4ODY2OA@@._V1_SY1000_SX677_AL_.jpg', 'On the Road', '[\"English\", \"French\"]', '[\"Walter Salles\"]', '[\"Jack Kerouac (based on the novel by)\",\"Jose Rivera (screenplay)\",\"Harold Manning (french adaptation)\"]', '2 wins & 5 nominations.', 2012, '6.1', '30483', '[\"France\", \"USA\", \"UK\", \"Brazil\", \"Canada\", \"Argentina\"]', 'movie'), (3, 'An adventurous girl finds another world that is a strangely idealized version of her frustrating home, but it has sinister secrets.', '[\"Animation\", \"Fantasy\"]', 100, '[\"Dakota Fanning\", \"Teri Hatcher\", \"Jennifer Saunders\", \"Dawn French\"]', 'https://m.media-amazon.com/images/M/MV5BMzQxNjM5NzkxNV5BMl5BanBnXkFtZTcwMzg5NDMwMg@@._V1_SY1000_SX677_AL_.jpg', 'Coraline', '[\"English\", \"Russian\"]', '[\"Henry Selick\"]', '[\"Henry Selick (screenplay)\",\"Neil Gaiman (book)\"]', 'Nominated for 1 Oscar. Another 9 wins & 37 nominations.', 2009, '7.7', '131308', '[\"USA\"]', 'movie'), (4, 'Marcus is a popular massage therapist who struggles with parasomnia, a severe sleepwalking disorder that causes him to do things in his sleep that he cannot remember the next day. When he ...', '[\"Drama\", \"Mystery\", \"Thriller\"]', 104, '[\"Philip Winchester\", \"Tim Draxl\", \"Lacey Chabert\", \"Abigail Spencer\"]', 'https://m.media-amazon.com/images/M/MV5BNzg1MDM1NzIwMV5BMl5BanBnXkFtZTcwNzMxMTU1MQ@@._V1_SY1000_SX677_AL_.jpg', 'In My Sleep', '[\"English\"]', '[\"Allen Wolf\"]', '[\"Allen Wolf\"]', '6 wins.', 2010, '5.5', '1629', '[\"USA\"]', 'movie'), (5, 'When his job along with that of his co-worker are threatened, Walter takes action in the real world embarking on a global journey that turns into an adventure more extraordinary than anything he could have ever imagined.', '[\"Adventure\", \"Comedy\", \"Drama\"]', 114, '[\"Ben Stiller\", \"Kristen Wiig\", \"Jon Daly\", \"Kathryn Hahn\"]', 'https://m.media-amazon.com/images/M/MV5BODYwNDYxNDk1Nl5BMl5BanBnXkFtZTgwOTAwMTk2MDE@._V1_SY1000_SX677_AL_.jpg', 'The Secret Life of Walter Mitty', '[\"English\", \"Spanish\", \"Icelandic\"]', '[\"Ben Stiller\"]', '[\"Steve Conrad (screenplay)\",\"Steve Conrad (screen story by)\",\"James Thurber (based on the short story by)\"]', '6 wins & 13 nominations.', 2013, '7.4', '211230', '[\"USA\", \"Canada\"]', 'movie')]\n"
     ]
    }
   ],
   "source": [
    "query = \"SELECT * FROM movies LIMIT 5\"\n",
    "result = execute_query(query)\n",
    "print(result)"
   ]
  },
  {
   "cell_type": "code",
   "execution_count": 4,
   "id": "33f7d50c-b800-4048-b4d8-85238073d87b",
   "metadata": {},
   "outputs": [
    {
     "name": "stdout",
     "output_type": "stream",
     "text": [
      "[(1, 'A lonely obese nurse, working at a hospital terminal ward, is reminded of her childhood friend Adrienn Pal and wants to track her down.', '[\"Drama\"]', 136, '[\"èva Gèbor\", \"Istvèn Znamenèk\", \"èkos Horvèth\", \"Lia Pokorny\"]', 'https://m.media-amazon.com/images/M/MV5BODNjZmM3MWYtYmUwZC00M2RjLTkyZmEtYzRhMDU1NmM3ZmIzXkEyXkFqcGdeQXVyOTAzODAwOQ@@._V1_SY1000_SX677_AL_.jpg', 'Pèl Adrienn', '[\"Hungarian\"]', '[\"ègnes Kocsis\"]', '[\"ègnes Kocsis (screenplay)\",\"Andrea Roberti (screenplay)\"]', '4 wins & 5 nominations.', 2010, '6.8', '348', '[\"Hungary\", \"France\", \"Austria\", \"Netherlands\"]', 'movie'), (2, 'Young writer Sal Paradise has his life shaken by the arrival of free-spirited Dean Moriarty and his girl, Marylou. As they travel across the country, they encounter a mix of people who each impact their journey indelibly.', '[\"Adventure\", \"Drama\"]', 124, '[\"Sam Riley\", \"Garrett Hedlund\", \"Kristen Stewart\", \"Amy Adams\"]', 'https://m.media-amazon.com/images/M/MV5BMTc1MzU5MDgzMF5BMl5BanBnXkFtZTcwMDQ4ODY2OA@@._V1_SY1000_SX677_AL_.jpg', 'On the Road', '[\"English\", \"French\"]', '[\"Walter Salles\"]', '[\"Jack Kerouac (based on the novel by)\",\"Jose Rivera (screenplay)\",\"Harold Manning (french adaptation)\"]', '2 wins & 5 nominations.', 2012, '6.1', '30483', '[\"France\", \"USA\", \"UK\", \"Brazil\", \"Canada\", \"Argentina\"]', 'movie'), (3, 'An adventurous girl finds another world that is a strangely idealized version of her frustrating home, but it has sinister secrets.', '[\"Animation\", \"Fantasy\"]', 100, '[\"Dakota Fanning\", \"Teri Hatcher\", \"Jennifer Saunders\", \"Dawn French\"]', 'https://m.media-amazon.com/images/M/MV5BMzQxNjM5NzkxNV5BMl5BanBnXkFtZTcwMzg5NDMwMg@@._V1_SY1000_SX677_AL_.jpg', 'Coraline', '[\"English\", \"Russian\"]', '[\"Henry Selick\"]', '[\"Henry Selick (screenplay)\",\"Neil Gaiman (book)\"]', 'Nominated for 1 Oscar. Another 9 wins & 37 nominations.', 2009, '7.7', '131308', '[\"USA\"]', 'movie'), (4, 'Marcus is a popular massage therapist who struggles with parasomnia, a severe sleepwalking disorder that causes him to do things in his sleep that he cannot remember the next day. When he ...', '[\"Drama\", \"Mystery\", \"Thriller\"]', 104, '[\"Philip Winchester\", \"Tim Draxl\", \"Lacey Chabert\", \"Abigail Spencer\"]', 'https://m.media-amazon.com/images/M/MV5BNzg1MDM1NzIwMV5BMl5BanBnXkFtZTcwNzMxMTU1MQ@@._V1_SY1000_SX677_AL_.jpg', 'In My Sleep', '[\"English\"]', '[\"Allen Wolf\"]', '[\"Allen Wolf\"]', '6 wins.', 2010, '5.5', '1629', '[\"USA\"]', 'movie'), (5, 'When his job along with that of his co-worker are threatened, Walter takes action in the real world embarking on a global journey that turns into an adventure more extraordinary than anything he could have ever imagined.', '[\"Adventure\", \"Comedy\", \"Drama\"]', 114, '[\"Ben Stiller\", \"Kristen Wiig\", \"Jon Daly\", \"Kathryn Hahn\"]', 'https://m.media-amazon.com/images/M/MV5BODYwNDYxNDk1Nl5BMl5BanBnXkFtZTgwOTAwMTk2MDE@._V1_SY1000_SX677_AL_.jpg', 'The Secret Life of Walter Mitty', '[\"English\", \"Spanish\", \"Icelandic\"]', '[\"Ben Stiller\"]', '[\"Steve Conrad (screenplay)\",\"Steve Conrad (screen story by)\",\"James Thurber (based on the short story by)\"]', '6 wins & 13 nominations.', 2013, '7.4', '211230', '[\"USA\", \"Canada\"]', 'movie')]\n"
     ]
    }
   ],
   "source": [
    "query = \"SELECT * FROM movies LIMIT 5\"\n",
    "result = execute_query(query)\n",
    "print(result)"
   ]
  },
  {
   "cell_type": "code",
   "execution_count": null,
   "id": "73c3743d-c38d-4117-9356-f1efd2da5c0b",
   "metadata": {},
   "outputs": [],
   "source": [
    "query = \"SELECT * FROM movies LIMIT 5\"\n",
    "result = execute_query(query)\n",
    "print(result)"
   ]
  }
 ],
 "metadata": {
  "kernelspec": {
   "display_name": "Python 3 (ipykernel)",
   "language": "python",
   "name": "python3"
  },
  "language_info": {
   "codemirror_mode": {
    "name": "ipython",
    "version": 3
   },
   "file_extension": ".py",
   "mimetype": "text/x-python",
   "name": "python",
   "nbconvert_exporter": "python",
   "pygments_lexer": "ipython3",
   "version": "3.12.4"
  }
 },
 "nbformat": 4,
 "nbformat_minor": 5
}
