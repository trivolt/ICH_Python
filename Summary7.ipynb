{
 "cells": [
  {
   "cell_type": "markdown",
   "id": "aa84ad52-6ce0-45a5-b12d-b9519ecdfda4",
   "metadata": {},
   "source": [
    "# Summary 7 (Функции и списки)"
   ]
  },
  {
   "cell_type": "markdown",
   "id": "a38958ec-a8a1-4c7f-9719-c60e9d8ca51e",
   "metadata": {},
   "source": [
    "### Функции"
   ]
  },
  {
   "cell_type": "code",
   "execution_count": 1,
   "id": "3da136b8-9846-4c24-abab-11078eadc489",
   "metadata": {},
   "outputs": [
    {
     "name": "stdout",
     "output_type": "stream",
     "text": [
      "100\n"
     ]
    }
   ],
   "source": [
    "# создаем функцию\n",
    "\n",
    "def square(number):\n",
    "    result = number ** 2\n",
    "    return result\n",
    "\n",
    "#print(square(10))\n",
    "\n",
    "my_square = square(10)\n",
    "print(my_square)"
   ]
  },
  {
   "cell_type": "code",
   "execution_count": 5,
   "id": "7f27f923-4bea-4789-88c5-3ace16934fe6",
   "metadata": {},
   "outputs": [
    {
     "name": "stdout",
     "output_type": "stream",
     "text": [
      "Help on function square in module __main__:\n",
      "\n",
      "square(number)\n",
      "\n"
     ]
    }
   ],
   "source": [
    "#help(print)\n",
    "#?print\n",
    "#?square\n",
    "help(square)"
   ]
  },
  {
   "cell_type": "code",
   "execution_count": 6,
   "id": "7805a05f-1bb7-4ab8-9c91-00cec3706c30",
   "metadata": {},
   "outputs": [],
   "source": [
    "# пишем docstring к своей функции\n",
    "def square(number):\n",
    "    \"\"\"\n",
    "    this is my function\n",
    "    1- параметр отвечает за ...\n",
    "    2- параметр отвечает за ...\n",
    "    \"\"\"\n",
    "    result = number ** 2\n",
    "    return result"
   ]
  },
  {
   "cell_type": "code",
   "execution_count": 7,
   "id": "53ccb7bb-7606-4840-b952-c81f384c20d5",
   "metadata": {},
   "outputs": [
    {
     "name": "stdout",
     "output_type": "stream",
     "text": [
      "Help on function square in module __main__:\n",
      "\n",
      "square(number)\n",
      "    this is my function\n",
      "    1- параметр отвечает за ...\n",
      "    2- параметр отвечает за ...\n",
      "\n"
     ]
    }
   ],
   "source": [
    "help(square)"
   ]
  },
  {
   "cell_type": "code",
   "execution_count": 8,
   "id": "d5ba00d1-13e9-4050-b845-71b512d1599d",
   "metadata": {},
   "outputs": [
    {
     "data": {
      "text/plain": [
       "\u001b[1;31mSignature:\u001b[0m \u001b[0msquare\u001b[0m\u001b[1;33m(\u001b[0m\u001b[0mnumber\u001b[0m\u001b[1;33m)\u001b[0m\u001b[1;33m\u001b[0m\u001b[1;33m\u001b[0m\u001b[0m\n",
       "\u001b[1;31mDocstring:\u001b[0m\n",
       "this is my function\n",
       "1- параметр отвечает за ...\n",
       "2- параметр отвечает за ...\n",
       "\u001b[1;31mFile:\u001b[0m      c:\\users\\dplog\\appdata\\local\\temp\\ipykernel_18120\\3728881173.py\n",
       "\u001b[1;31mType:\u001b[0m      function"
      ]
     },
     "metadata": {},
     "output_type": "display_data"
    }
   ],
   "source": [
    "?square"
   ]
  },
  {
   "cell_type": "code",
   "execution_count": 9,
   "id": "a78e0283-f570-4382-8247-ddc85cf1a57b",
   "metadata": {},
   "outputs": [
    {
     "name": "stdin",
     "output_type": "stream",
     "text": [
      "Введите число 34\n"
     ]
    },
    {
     "data": {
      "text/plain": [
       "1156"
      ]
     },
     "execution_count": 9,
     "metadata": {},
     "output_type": "execute_result"
    }
   ],
   "source": [
    "# функция без параметров\n",
    "def square_2():\n",
    "    user_input = int(input('Введите число'))\n",
    "    result = user_input ** 2\n",
    "    return result\n",
    "    \n",
    "square_2()"
   ]
  },
  {
   "cell_type": "code",
   "execution_count": 10,
   "id": "ee8eedc2-b93b-4e56-a515-ed90538a7e48",
   "metadata": {},
   "outputs": [
    {
     "data": {
      "text/plain": [
       "27"
      ]
     },
     "execution_count": 10,
     "metadata": {},
     "output_type": "execute_result"
    }
   ],
   "source": [
    "# функция c параметрами\n",
    "def square_2(num, power):\n",
    "    result = num ** power\n",
    "    return result\n",
    "    \n",
    "square_2(3,3)"
   ]
  },
  {
   "cell_type": "code",
   "execution_count": 11,
   "id": "5e6855ea-ad05-4812-ae13-88db1c7d9232",
   "metadata": {},
   "outputs": [
    {
     "data": {
      "text/plain": [
       "100"
      ]
     },
     "execution_count": 11,
     "metadata": {},
     "output_type": "execute_result"
    }
   ],
   "source": [
    "# функция с параметром по умолчанию\n",
    "def power(number, number_2=2):\n",
    "    result = number ** number_2\n",
    "    return result\n",
    "    \n",
    "power(10)"
   ]
  },
  {
   "cell_type": "code",
   "execution_count": 12,
   "id": "4093c000-e39d-4c9b-97ad-a7c2f0531b71",
   "metadata": {},
   "outputs": [
    {
     "data": {
      "text/plain": [
       "27"
      ]
     },
     "execution_count": 12,
     "metadata": {},
     "output_type": "execute_result"
    }
   ],
   "source": [
    "power(3,3)"
   ]
  },
  {
   "cell_type": "code",
   "execution_count": 13,
   "id": "896fe10b-8688-4328-902b-20d388c5c409",
   "metadata": {},
   "outputs": [
    {
     "name": "stdout",
     "output_type": "stream",
     "text": [
      "None\n"
     ]
    }
   ],
   "source": [
    "# если не указан return, функция всегда возвращает None!\n",
    "def square_3(number):\n",
    "    result = number ** 2\n",
    "#     print(result)\n",
    "#     return None\n",
    "#     return\n",
    "\n",
    "print(square_3(5))"
   ]
  },
  {
   "cell_type": "markdown",
   "id": "1cf6533c-46e5-45ac-849c-712340478ad4",
   "metadata": {},
   "source": [
    "### Области видимости"
   ]
  },
  {
   "cell_type": "code",
   "execution_count": 14,
   "id": "28876a91-8d5e-43ef-8f19-c4fcb090a56e",
   "metadata": {},
   "outputs": [
    {
     "name": "stdout",
     "output_type": "stream",
     "text": [
      "36\n",
      "125\n"
     ]
    }
   ],
   "source": [
    "number = 5 # глобальные переменные\n",
    "power = 3\n",
    "\n",
    "def power_2():\n",
    "    number = 6 # локальные переменные\n",
    "    power = 2\n",
    "    return number ** power\n",
    "\n",
    "print(power_2())\n",
    "print(number ** power)"
   ]
  },
  {
   "cell_type": "code",
   "execution_count": 15,
   "id": "04164413-4a76-42c9-bb9a-fe8e6b141f0c",
   "metadata": {},
   "outputs": [
    {
     "name": "stdout",
     "output_type": "stream",
     "text": [
      "216\n",
      "125\n"
     ]
    }
   ],
   "source": [
    "number = 5\n",
    "power = 3\n",
    "\n",
    "def power_2():\n",
    "    number = 6\n",
    "    return number ** power\n",
    "\n",
    "print(power_2())\n",
    "print(number ** power)"
   ]
  },
  {
   "cell_type": "code",
   "execution_count": 16,
   "id": "4d41ab7a-1a1c-4d52-839c-2c392e28f621",
   "metadata": {},
   "outputs": [
    {
     "data": {
      "text/plain": [
       "125"
      ]
     },
     "execution_count": 16,
     "metadata": {},
     "output_type": "execute_result"
    }
   ],
   "source": [
    "number = 5\n",
    "power = 3\n",
    "\n",
    "def power_2():\n",
    "    return number ** power\n",
    "\n",
    "power_2()"
   ]
  },
  {
   "cell_type": "code",
   "execution_count": 17,
   "id": "da2ec425-b0c6-43f5-99a0-630d864dab67",
   "metadata": {},
   "outputs": [
    {
     "name": "stdout",
     "output_type": "stream",
     "text": [
      "36\n"
     ]
    },
    {
     "ename": "NameError",
     "evalue": "name 'some_number' is not defined",
     "output_type": "error",
     "traceback": [
      "\u001b[1;31m---------------------------------------------------------------------------\u001b[0m",
      "\u001b[1;31mNameError\u001b[0m                                 Traceback (most recent call last)",
      "Cell \u001b[1;32mIn[17], line 8\u001b[0m\n\u001b[0;32m      5\u001b[0m     \u001b[38;5;28;01mreturn\u001b[39;00m number \u001b[38;5;241m*\u001b[39m\u001b[38;5;241m*\u001b[39m power\n\u001b[0;32m      7\u001b[0m \u001b[38;5;28mprint\u001b[39m(power_2())\n\u001b[1;32m----> 8\u001b[0m \u001b[38;5;28mprint\u001b[39m(some_number)\n",
      "\u001b[1;31mNameError\u001b[0m: name 'some_number' is not defined"
     ]
    }
   ],
   "source": [
    "def power_2():\n",
    "    number = 6\n",
    "    power = 2\n",
    "    some_number = 1\n",
    "    return number ** power\n",
    "    \n",
    "print(power_2())\n",
    "print(some_number)"
   ]
  },
  {
   "cell_type": "code",
   "execution_count": 19,
   "id": "9d48a0be-b18e-49d0-88b0-9cac57b0c255",
   "metadata": {},
   "outputs": [
    {
     "name": "stdout",
     "output_type": "stream",
     "text": [
      "Hello Oleg\n",
      "Oleg\n"
     ]
    }
   ],
   "source": [
    "# изменение глобальной переменной из функции\n",
    "name = 'James'\n",
    "\n",
    "def say_hi():\n",
    "    global name\n",
    "    name = 'Oleg'\n",
    "    print('Hello', name)\n",
    "\n",
    "say_hi()\n",
    "\n",
    "print(name)"
   ]
  },
  {
   "cell_type": "markdown",
   "id": "d7f34890-7889-4e1b-863a-654b224ef977",
   "metadata": {},
   "source": [
    "## Списки (list)"
   ]
  },
  {
   "cell_type": "code",
   "execution_count": 20,
   "id": "482ce207-f344-43b3-908a-ba62515a4c62",
   "metadata": {},
   "outputs": [],
   "source": [
    "month_list = ['Jan', 'Feb', 'Mar', 'Apr', 'May', 'Jun', 'Jul', 'Aug', 'Sep']\n",
    "income_list = [13000, 14000, 14300, 15000, 13800, 13000, 14900, 15200, 15300]\n",
    "income_by_months = [['Jan', 13000], ['Feb', 14000], ['Mar', 14300], ['Apr', 15000], ['May', 13800], ['Jun', 13000], ['Jul', 14900], ['Aug', 15200], ['Sep', 15300]]"
   ]
  },
  {
   "cell_type": "code",
   "execution_count": 21,
   "id": "509badc2-286e-4f4b-a5b2-32124e4637d5",
   "metadata": {},
   "outputs": [
    {
     "name": "stdout",
     "output_type": "stream",
     "text": [
      "Jan\n",
      "Sep\n",
      "['Jun', 13000]\n"
     ]
    }
   ],
   "source": [
    "# индексация элементов в списке\n",
    "print(month_list[0])\n",
    "print(month_list[-1])\n",
    "print(income_by_months[-4])"
   ]
  },
  {
   "cell_type": "code",
   "execution_count": 22,
   "id": "587cbfde-0511-4810-b788-ba980219efc4",
   "metadata": {},
   "outputs": [
    {
     "name": "stdout",
     "output_type": "stream",
     "text": [
      "[['Jan', 13000], ['Feb', 14000]]\n",
      "--------------\n",
      "[['Feb', 14000], ['Mar', 14300]]\n",
      "--------------\n",
      "[['Mar', 14300], ['Apr', 15000], ['May', 13800], ['Jun', 13000], ['Jul', 14900], ['Aug', 15200], ['Sep', 15300]]\n",
      "--------------\n",
      "[['Jan', 13000], ['Feb', 14000], ['Mar', 14300]]\n"
     ]
    }
   ],
   "source": [
    "# срезы\n",
    "print(income_by_months[0:2])\n",
    "print('--------------')\n",
    "print(income_by_months[-8:-6])\n",
    "print('--------------')\n",
    "print(income_by_months[2:])\n",
    "print('--------------')\n",
    "print(income_by_months[:3])"
   ]
  },
  {
   "cell_type": "code",
   "execution_count": null,
   "id": "acf32d4a-7b6d-4725-a5e2-41682a47f3ff",
   "metadata": {},
   "outputs": [],
   "source": [
    "# можно обращаться к любому уровню вложенности\n",
    "income_by_months = [['Jan', 13000], ['Feb', 14000], ['Mar', 14300], ['Apr', 15000], ['May', 13800], ['Jun', 13000], ['Jul', 14900], ['Aug', 15200], ['Sep', 15300]]\n",
    "income_by_months[0][0]"
   ]
  },
  {
   "cell_type": "code",
   "execution_count": null,
   "id": "605b7e63-dc07-446b-8171-d560e8f3acc2",
   "metadata": {},
   "outputs": [],
   "source": [
    "# изменение списков\n",
    "income_by_months[0][1] = 13100\n",
    "print(income_by_months)"
   ]
  },
  {
   "cell_type": "code",
   "execution_count": null,
   "id": "09a04289-8811-4753-87d4-ac4eafc6bf57",
   "metadata": {},
   "outputs": [],
   "source": [
    "income_by_months[0:2] = [['Jan', 13200], ['Feb', 13900]]\n",
    "print(income_by_months)"
   ]
  },
  {
   "cell_type": "code",
   "execution_count": null,
   "id": "689f62d1-9b25-4c4e-8cb0-35a2d95db537",
   "metadata": {},
   "outputs": [],
   "source": [
    "income_by_months_2 = [['Nov', 15400], ['Dec', 17000]]\n",
    "income_by_month = income_by_months + income_by_months_2\n",
    "print(income_by_month)"
   ]
  },
  {
   "cell_type": "code",
   "execution_count": 25,
   "id": "6d8ad318-98ce-4b9a-8e8b-c1ed8e6b254e",
   "metadata": {},
   "outputs": [
    {
     "data": {
      "text/plain": [
       "'Jan'"
      ]
     },
     "execution_count": 25,
     "metadata": {},
     "output_type": "execute_result"
    }
   ],
   "source": [
    "income_by_months[0][0]"
   ]
  },
  {
   "cell_type": "code",
   "execution_count": 26,
   "id": "f43d30da-bc5a-441c-ae99-3bec4252b012",
   "metadata": {},
   "outputs": [
    {
     "data": {
      "text/plain": [
       "[['Jan', 13000],\n",
       " ['Feb', 14000],\n",
       " ['Mar', 14300],\n",
       " ['Apr', 15000],\n",
       " ['May', 13800],\n",
       " ['Jun', 13000],\n",
       " ['Jul', 14900],\n",
       " ['Aug', 15200],\n",
       " ['Sep', 15300],\n",
       " ['Dec', 17000]]"
      ]
     },
     "execution_count": 26,
     "metadata": {},
     "output_type": "execute_result"
    }
   ],
   "source": [
    "# добавляем элемент в конец списка\n",
    "income_by_months.append(['Dec', 17000])\n",
    "income_by_months"
   ]
  },
  {
   "cell_type": "markdown",
   "id": "6ae63d78-c7f7-4998-a24a-93c47bb58d20",
   "metadata": {},
   "source": [
    "### Изменение списков\n",
    "\n",
    "В примере ниже переменная a и b на самом деле указывают на один и тот же объект. В результате, при добавлении в b очередного элемента этот элемент добавляется и в исходном листе a"
   ]
  },
  {
   "cell_type": "code",
   "execution_count": 27,
   "id": "3ded5e9d-a8ed-49a8-a398-d7e75eb899fa",
   "metadata": {},
   "outputs": [],
   "source": [
    "a = [1, 2, 3]\n",
    "b = a"
   ]
  },
  {
   "cell_type": "code",
   "execution_count": 28,
   "id": "9d0890ff-3b05-4b53-b766-70beaf9fdc9e",
   "metadata": {},
   "outputs": [
    {
     "data": {
      "text/plain": [
       "[1, 2, 3]"
      ]
     },
     "execution_count": 28,
     "metadata": {},
     "output_type": "execute_result"
    }
   ],
   "source": [
    "b"
   ]
  },
  {
   "cell_type": "code",
   "execution_count": 29,
   "id": "5fe248a6-a9dd-42df-898b-179698fe8959",
   "metadata": {},
   "outputs": [
    {
     "data": {
      "text/plain": [
       "[1, 2, 3, 4]"
      ]
     },
     "execution_count": 29,
     "metadata": {},
     "output_type": "execute_result"
    }
   ],
   "source": [
    "b.append(4)\n",
    "a"
   ]
  },
  {
   "cell_type": "code",
   "execution_count": 30,
   "id": "2661b2bb-c880-4154-8089-037b5da63fa6",
   "metadata": {},
   "outputs": [
    {
     "data": {
      "text/plain": [
       "(2998077552256, 2998077552256)"
      ]
     },
     "execution_count": 30,
     "metadata": {},
     "output_type": "execute_result"
    }
   ],
   "source": [
    "id(a), id(b)"
   ]
  },
  {
   "cell_type": "code",
   "execution_count": 31,
   "id": "25dab267-a05b-4290-9242-1e0f9f917d83",
   "metadata": {},
   "outputs": [],
   "source": [
    "import copy"
   ]
  },
  {
   "cell_type": "code",
   "execution_count": 32,
   "id": "77ab06b2-a516-4498-8131-ae2838b2b497",
   "metadata": {},
   "outputs": [],
   "source": [
    "a = [1, 2, 3]\n",
    "b = copy.copy(a)"
   ]
  },
  {
   "cell_type": "code",
   "execution_count": 33,
   "id": "77d01c48-b925-42bf-8857-2ae05ae8d248",
   "metadata": {},
   "outputs": [
    {
     "data": {
      "text/plain": [
       "(2998095442368, 2998095454720)"
      ]
     },
     "execution_count": 33,
     "metadata": {},
     "output_type": "execute_result"
    }
   ],
   "source": [
    "id(a), id(b)"
   ]
  },
  {
   "cell_type": "code",
   "execution_count": null,
   "id": "8f92d534-336a-4103-8286-f80e1071e60b",
   "metadata": {},
   "outputs": [],
   "source": [
    "b.append(4)\n",
    "print('a = {}'.format(a))\n",
    "\n",
    "print('b = {}'.format(b))"
   ]
  },
  {
   "cell_type": "markdown",
   "id": "368e1fb7-a1ed-43e6-8024-67bbf0732d54",
   "metadata": {},
   "source": [
    "### Списки и строки"
   ]
  },
  {
   "cell_type": "code",
   "execution_count": null,
   "id": "370d490b-ae70-43b4-afb8-a18fe3343f49",
   "metadata": {},
   "outputs": [],
   "source": [
    "queries_string = \"смотреть сериалы онлайн,новости спорта,афиша кино,курс доллара,сериалы этим летом,курс по питону,сериалы про спорт\""
   ]
  },
  {
   "cell_type": "code",
   "execution_count": null,
   "id": "18b84e02-21c7-43f2-a376-e891f46ec821",
   "metadata": {},
   "outputs": [],
   "source": [
    "# преобразование строки в список (например, из CSV-файла)\n",
    "queries_string.split(',')"
   ]
  },
  {
   "cell_type": "code",
   "execution_count": null,
   "id": "c44c4363-73a3-401e-9a2e-fc60a6aa0ed3",
   "metadata": {},
   "outputs": [],
   "source": [
    "# Преобразование списка в строку\n",
    "\n",
    "','.join(['Столбец 1', 'Столбец 2', 'Столбец 3'])"
   ]
  },
  {
   "cell_type": "code",
   "execution_count": null,
   "id": "215c7176-470c-4ac0-bbcd-8d706c3652e6",
   "metadata": {},
   "outputs": [],
   "source": [
    "# проверка вхождения элемента в список:\n",
    "\n",
    "# 'Москва' in ['Ленинград', 'Одесса', 'Берлин', 'Москва']\n",
    "'Москва' not in ['Ленинград', 'Одесса', 'Берлин', 'Москва']"
   ]
  },
  {
   "cell_type": "markdown",
   "id": "89375a1f-649a-41b1-b170-26f2272b92e2",
   "metadata": {},
   "source": [
    "### Разбор ДЗ за неделю"
   ]
  },
  {
   "cell_type": "markdown",
   "id": "c45a2733-c188-484f-8996-322b38514862",
   "metadata": {},
   "source": [
    "Напишите программу, которая принимает список чисел от пользователя и добавляет каждое число в динамический массив. Затем программа должна принимать новое число от пользователя и добавлять его в динамический массив до тех пор, пока пользователь не введет команду \"Выход\". Используйте метод append() для добавления элементов в динамический массив и условный оператор для проверки команды \"Выход\". Выведите итоговый динамический массив на экран с помощью команды print.\n",
    "\n",
    "Пример вывода:\n",
    "\n",
    "Введите число (или 'Выход' для завершения): 1\n",
    "Введите число (или 'Выход' для завершения): 2\n",
    "Введите число (или 'Выход' для завершения): Выход\n",
    "Динамический массив: [1, 2]\n"
   ]
  },
  {
   "cell_type": "code",
   "execution_count": null,
   "id": "b0266367-1784-4716-9828-ac72d3994b5d",
   "metadata": {},
   "outputs": [],
   "source": [
    "s=input(\"Введите число (или 'Выход' для завершения):\")\n",
    "m=[]\n",
    "while s.lower()!=\"выход\":\n",
    "    s=int(s)\n",
    "    m.append(s)\n",
    "    s=input(\"Введите число (или 'Выход' для завершения):\")\n",
    "print(\"Динамический массив:\", m)\n"
   ]
  },
  {
   "cell_type": "code",
   "execution_count": null,
   "id": "8c10286f-9afe-431f-ae51-ec5996a113d6",
   "metadata": {},
   "outputs": [],
   "source": []
  }
 ],
 "metadata": {
  "kernelspec": {
   "display_name": "Python 3 (ipykernel)",
   "language": "python",
   "name": "python3"
  },
  "language_info": {
   "codemirror_mode": {
    "name": "ipython",
    "version": 3
   },
   "file_extension": ".py",
   "mimetype": "text/x-python",
   "name": "python",
   "nbconvert_exporter": "python",
   "pygments_lexer": "ipython3",
   "version": "3.12.4"
  }
 },
 "nbformat": 4,
 "nbformat_minor": 5
}
