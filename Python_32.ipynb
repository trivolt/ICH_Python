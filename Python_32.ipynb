{
 "cells": [
  {
   "cell_type": "markdown",
   "id": "c6827230",
   "metadata": {},
   "source": [
    "# Магические методы"
   ]
  },
  {
   "cell_type": "markdown",
   "id": "7ae968ec-a515-435c-ae34-2d520f1f0b6f",
   "metadata": {},
   "source": [
    "Магические методы в Python представляют специальные методы с особым именем, начинающимся и заканчивающимся на два подчеркивания `(__)` - например, `__init__`, `__add__`, `__eq__`, и т.д. Эти методы позволяют определить поведение объектов при выполнении определенных операций, таких как математические операции, сравнения, преобразования и другие.\n"
   ]
  },
  {
   "cell_type": "markdown",
   "id": "d925c981",
   "metadata": {},
   "source": [
    "### Методы математических операций"
   ]
  },
  {
   "cell_type": "markdown",
   "id": "144b6269-97c7-4008-8114-105de5ee7708",
   "metadata": {},
   "source": [
    "Методы математических операций определяют поведение объекта при выполнении арифметических операций:\n",
    "* сложение `(__add__)`\n",
    "* вычитание `(__sub__)`\n",
    "* умножение `(__mul__)`\n",
    "* деление `(__truediv__)` и другие."
   ]
  },
  {
   "cell_type": "code",
   "execution_count": 1,
   "id": "3acded78",
   "metadata": {},
   "outputs": [
    {
     "name": "stdout",
     "output_type": "stream",
     "text": [
      "5\n"
     ]
    }
   ],
   "source": [
    "a = 3\n",
    "print(a.__add__(2)) #эквивалентно a+=2"
   ]
  },
  {
   "cell_type": "code",
   "execution_count": 2,
   "id": "3b4525d0",
   "metadata": {},
   "outputs": [
    {
     "name": "stdout",
     "output_type": "stream",
     "text": [
      "6\n"
     ]
    }
   ],
   "source": [
    "a = 3\n",
    "print(a.__mul__(2)) # a*=2"
   ]
  },
  {
   "cell_type": "code",
   "execution_count": 3,
   "id": "b9cea4d2",
   "metadata": {},
   "outputs": [
    {
     "name": "stdout",
     "output_type": "stream",
     "text": [
      "3.0\n"
     ]
    }
   ],
   "source": [
    "a = 3.0\n",
    "print(a.__truediv__(1)) #a/=1"
   ]
  },
  {
   "cell_type": "code",
   "execution_count": 4,
   "id": "204b658e",
   "metadata": {},
   "outputs": [
    {
     "name": "stdout",
     "output_type": "stream",
     "text": [
      "False\n"
     ]
    }
   ],
   "source": [
    "a = 3\n",
    "print(a.__eq__(2)) #a==2"
   ]
  },
  {
   "cell_type": "code",
   "execution_count": 5,
   "id": "806d2680",
   "metadata": {},
   "outputs": [
    {
     "name": "stdout",
     "output_type": "stream",
     "text": [
      "True\n"
     ]
    }
   ],
   "source": [
    "a = 3\n",
    "print(a.__eq__(3)) #a==3"
   ]
  },
  {
   "cell_type": "code",
   "execution_count": 7,
   "id": "f8bfef9b",
   "metadata": {},
   "outputs": [
    {
     "name": "stdout",
     "output_type": "stream",
     "text": [
      "5\n"
     ]
    }
   ],
   "source": [
    "a = 3\n",
    "print(a.__radd__(2))"
   ]
  },
  {
   "cell_type": "code",
   "execution_count": 8,
   "id": "a6c45aad",
   "metadata": {},
   "outputs": [
    {
     "data": {
      "text/plain": [
       "3"
      ]
     },
     "execution_count": 8,
     "metadata": {},
     "output_type": "execute_result"
    }
   ],
   "source": [
    "a = 5\n",
    "a.__sub__(2)"
   ]
  },
  {
   "cell_type": "code",
   "execution_count": 9,
   "id": "1ddd6534",
   "metadata": {},
   "outputs": [
    {
     "data": {
      "text/plain": [
       "-3"
      ]
     },
     "execution_count": 9,
     "metadata": {},
     "output_type": "execute_result"
    }
   ],
   "source": [
    "a = 5\n",
    "a.__rsub__(2)"
   ]
  },
  {
   "cell_type": "code",
   "execution_count": 10,
   "id": "4b87ee79",
   "metadata": {},
   "outputs": [
    {
     "data": {
      "text/plain": [
       "'sdfg'"
      ]
     },
     "execution_count": 10,
     "metadata": {},
     "output_type": "execute_result"
    }
   ],
   "source": [
    "a='s'\n",
    "b='dfg'\n",
    "a.__add__(b)"
   ]
  },
  {
   "cell_type": "code",
   "execution_count": 12,
   "id": "9002a298",
   "metadata": {},
   "outputs": [
    {
     "name": "stdout",
     "output_type": "stream",
     "text": [
      "330 eur\n"
     ]
    }
   ],
   "source": [
    "class Money:\n",
    "    def __init__(self, amount, currency):\n",
    "        self.amount = amount\n",
    "        self.currency = currency\n",
    "        \n",
    "    def __add__(self, other):\n",
    "        if self.currency == other.currency:\n",
    "            return Money(self.amount + other.amount, self.currency)\n",
    "    \n",
    "    def __str__(self):\n",
    "        return f\"{self.amount} {self.currency}\"\n",
    "    \n",
    "    \n",
    "m1 = Money(100, \"eur\")\n",
    "m2 = Money(230, \"eur\")\n",
    "print(m1 + m2)\n"
   ]
  },
  {
   "cell_type": "code",
   "execution_count": 13,
   "id": "d321538c",
   "metadata": {},
   "outputs": [
    {
     "name": "stdout",
     "output_type": "stream",
     "text": [
      "None\n"
     ]
    }
   ],
   "source": [
    "m1 = Money(100, \"rub\")\n",
    "m2 = Money(230, \"eur\")\n",
    "print(m1 + m2)"
   ]
  },
  {
   "cell_type": "markdown",
   "id": "07510830",
   "metadata": {},
   "source": [
    "## Декоратор @functools.total_ordering"
   ]
  },
  {
   "cell_type": "markdown",
   "id": "6928eeec-21d9-41f0-a868-bb5955cc039c",
   "metadata": {},
   "source": [
    "Декоратор @functools.total_ordering позволяет автоматически генерировать недостающие методы сравнения `(__lt__, __le__, __gt__, __ge__)` на основе метода `__eq__` и одного из методов `__lt__` или `__gt__`. Это упрощает реализацию полного набора операций сравнения для класса.\n"
   ]
  },
  {
   "cell_type": "code",
   "execution_count": 16,
   "id": "d8fa1902",
   "metadata": {},
   "outputs": [
    {
     "name": "stdout",
     "output_type": "stream",
     "text": [
      "False\n",
      "True\n",
      "False\n",
      "True\n",
      "False\n"
     ]
    }
   ],
   "source": [
    "#from functools import total_ordering\n",
    "\n",
    "#@total_ordering\n",
    "class MyClass:\n",
    "    def __init__(self, value):\n",
    "        self.value = value\n",
    "\n",
    "    def __eq__(self, other):\n",
    "        return self.value == other.value\n",
    "\n",
    "    def __lt__(self, other):\n",
    "        return self.value < other.value\n",
    "\n",
    "    def __le__(self, other):\n",
    "        return self.value <= other.value\n",
    "\n",
    "    def __gt__(self, other):\n",
    "        return self.value > other.value\n",
    "\n",
    "    def __ge__(self, other):\n",
    "        return self.value >= other.value\n",
    "\n",
    "# Создаем объекты\n",
    "obj1 = MyClass(10)\n",
    "obj2 = MyClass(20)\n",
    "\n",
    "# Примеры сравнения\n",
    "print(obj1 == obj2)  # False\n",
    "print(obj1 <= obj2)   # True\n",
    "print(obj1 > obj2) # False\n",
    "print(obj1 < obj2)\n",
    "print(obj1 >= obj2)"
   ]
  },
  {
   "cell_type": "code",
   "execution_count": 17,
   "id": "3a95277d-f7fa-4bf2-94a8-4c88236eff62",
   "metadata": {},
   "outputs": [
    {
     "name": "stdout",
     "output_type": "stream",
     "text": [
      "False\n",
      "True\n",
      "False\n",
      "True\n",
      "False\n"
     ]
    }
   ],
   "source": [
    "from functools import total_ordering\n",
    "\n",
    "@total_ordering\n",
    "class MyClass:\n",
    "    def __init__(self, value):\n",
    "        self.value = value\n",
    "\n",
    "    def __eq__(self, other):\n",
    "        return self.value == other.value\n",
    "\n",
    "    def __lt__(self, other):\n",
    "        return self.value < other.value\n",
    "\n",
    "# Создаем объекты\n",
    "obj1 = MyClass(10)\n",
    "obj2 = MyClass(20)\n",
    "\n",
    "# Примеры сравнения\n",
    "print(obj1 == obj2)  # False\n",
    "print(obj1 <= obj2)   # True\n",
    "print(obj1 > obj2) # False\n",
    "print(obj1 < obj2)\n",
    "print(obj1 >= obj2)"
   ]
  },
  {
   "cell_type": "markdown",
   "id": "f61f3aaa",
   "metadata": {},
   "source": [
    "В данном примере мы создали класс MyClass, который имеет атрибут value. С помощью декоратора @total_ordering мы автоматически генерируем методы сравнения `(__eq__, __lt__, __le__, __gt__, __ge__)` на основе уже определенных `(__eq__ и __lt__)`. Теперь объекты этого класса можно сравнивать с помощью операторов сравнения, таких как ==, <, >, и так далее2. Это упрощает реализацию “богатых” сравнений для пользовательских классов."
   ]
  },
  {
   "cell_type": "markdown",
   "id": "a739833c",
   "metadata": {},
   "source": [
    "#### Метод `__len__`:\n",
    "Этот метод вызывается функцией len(...). Он возвращает количество элементов в последовательности (например, в списке, кортеже или строке)."
   ]
  },
  {
   "cell_type": "code",
   "execution_count": 18,
   "id": "6ceb3aa1",
   "metadata": {},
   "outputs": [
    {
     "name": "stdout",
     "output_type": "stream",
     "text": [
      "7\n"
     ]
    }
   ],
   "source": [
    "class MyList:\n",
    "    def __init__(self, items):\n",
    "        self.items = items\n",
    "\n",
    "    def __len__(self):\n",
    "        return len(self.items)\n",
    "\n",
    "my_list = MyList([1, 2, 3, 4, 5, 6, 1])\n",
    "print(len(my_list))  # Вывод: 5\n"
   ]
  },
  {
   "cell_type": "code",
   "execution_count": 19,
   "id": "8f12d427-d98a-4ad5-b666-61e1b4c0c75d",
   "metadata": {},
   "outputs": [
    {
     "ename": "TypeError",
     "evalue": "object of type 'MyList' has no len()",
     "output_type": "error",
     "traceback": [
      "\u001b[1;31m---------------------------------------------------------------------------\u001b[0m",
      "\u001b[1;31mTypeError\u001b[0m                                 Traceback (most recent call last)",
      "Cell \u001b[1;32mIn[19], line 6\u001b[0m\n\u001b[0;32m      3\u001b[0m         \u001b[38;5;28mself\u001b[39m\u001b[38;5;241m.\u001b[39mitems \u001b[38;5;241m=\u001b[39m items\n\u001b[0;32m      5\u001b[0m my_list \u001b[38;5;241m=\u001b[39m MyList([\u001b[38;5;241m1\u001b[39m, \u001b[38;5;241m2\u001b[39m, \u001b[38;5;241m3\u001b[39m, \u001b[38;5;241m4\u001b[39m, \u001b[38;5;241m5\u001b[39m, \u001b[38;5;241m6\u001b[39m, \u001b[38;5;241m1\u001b[39m])\n\u001b[1;32m----> 6\u001b[0m \u001b[38;5;28mprint\u001b[39m(\u001b[38;5;28mlen\u001b[39m(my_list))\n",
      "\u001b[1;31mTypeError\u001b[0m: object of type 'MyList' has no len()"
     ]
    }
   ],
   "source": [
    "class MyList:\n",
    "    def __init__(self, items):\n",
    "        self.items = items\n",
    "\n",
    "my_list = MyList([1, 2, 3, 4, 5, 6, 1])\n",
    "print(len(my_list))  # Вывод: 5"
   ]
  },
  {
   "cell_type": "code",
   "execution_count": null,
   "id": "5278bed2-9447-471e-9c45-24446443b9ca",
   "metadata": {},
   "outputs": [],
   "source": []
  },
  {
   "cell_type": "markdown",
   "id": "5e77cb95",
   "metadata": {},
   "source": [
    "#### Метод `__hash__`:\n",
    "Этот метод вызывается функцией hash(...). Он используется для определения контрольной суммы объекта, чтобы доказать его уникальность."
   ]
  },
  {
   "cell_type": "code",
   "execution_count": null,
   "id": "99a0d5ab-7f64-4672-b789-47585128f204",
   "metadata": {},
   "outputs": [],
   "source": [
    "dir(MyList)"
   ]
  },
  {
   "cell_type": "code",
   "execution_count": 20,
   "id": "b77d5687",
   "metadata": {},
   "outputs": [
    {
     "data": {
      "text/plain": [
       "5388394197434621642"
      ]
     },
     "execution_count": 20,
     "metadata": {},
     "output_type": "execute_result"
    }
   ],
   "source": [
    "hash(' ')"
   ]
  },
  {
   "cell_type": "code",
   "execution_count": 21,
   "id": "10ca025f",
   "metadata": {},
   "outputs": [
    {
     "name": "stdout",
     "output_type": "stream",
     "text": [
      "-5314623517408718305\n",
      "-545958769956732533\n"
     ]
    }
   ],
   "source": [
    "class MyObject:\n",
    "    def __init__(self, value):\n",
    "        self.value = value\n",
    "\n",
    "    def __hash__(self):\n",
    "        return hash(self.value)\n",
    "\n",
    "obj1 = MyObject(\"hello\")\n",
    "obj2 = MyObject(\"world\")\n",
    "\n",
    "print(hash(obj1))  # Вывод: уникальное значение хэша для \"hello\"\n",
    "print(hash(obj2))  # Вывод: уникальное значение хэша для \"world\"\n"
   ]
  },
  {
   "cell_type": "markdown",
   "id": "1e5fc92a",
   "metadata": {},
   "source": [
    "#### Метод `__bool__`:\n",
    "Этот метод вызывается функцией bool(...). Он возвращает True, если объект истинен (ненулевой), и False, если объект ложен (нулевой)."
   ]
  },
  {
   "cell_type": "code",
   "execution_count": 22,
   "id": "be4fb4ac",
   "metadata": {},
   "outputs": [
    {
     "name": "stdout",
     "output_type": "stream",
     "text": [
      "True\n",
      "False\n"
     ]
    }
   ],
   "source": [
    "class MyBool:\n",
    "    def __init__(self, value):\n",
    "        self.value = value\n",
    "\n",
    "    def __bool__(self):\n",
    "        return bool(self.value)\n",
    "\n",
    "true_obj = MyBool(True)\n",
    "false_obj = MyBool(False)\n",
    "\n",
    "print(bool(true_obj))   # Вывод: True\n",
    "print(bool(false_obj))  # Вывод: False\n"
   ]
  },
  {
   "cell_type": "code",
   "execution_count": 23,
   "id": "0fc3d8ed-fbfa-4d56-a25a-8a02b814b6c1",
   "metadata": {},
   "outputs": [
    {
     "name": "stdout",
     "output_type": "stream",
     "text": [
      "True\n",
      "False\n"
     ]
    }
   ],
   "source": [
    "true_obj = MyBool('dfghn')\n",
    "false_obj = MyBool('')\n",
    "\n",
    "print(bool(true_obj))  \n",
    "print(bool(false_obj))"
   ]
  },
  {
   "cell_type": "markdown",
   "id": "a4fa2bfe",
   "metadata": {},
   "source": [
    "#### Метод `__getitem__`\n",
    "Методы __getitem__ и __setitem__ определяют поведение объекта при доступе к элементам через индексацию, подобно словарю. __getitem__ позволяет получить значение по ключу, а __setitem__ - присвоить значение по ключу.\r\n"
   ]
  },
  {
   "cell_type": "code",
   "execution_count": 24,
   "id": "2f1d057f",
   "metadata": {},
   "outputs": [],
   "source": [
    "class Student:\n",
    "    def __init__(self, name, marks):\n",
    "        self.name = name\n",
    "        self.marks = list(marks)"
   ]
  },
  {
   "cell_type": "code",
   "execution_count": 25,
   "id": "f45fdc52",
   "metadata": {},
   "outputs": [
    {
     "name": "stdout",
     "output_type": "stream",
     "text": [
      "3\n"
     ]
    }
   ],
   "source": [
    "s1 = Student('Сергей', [5, 5, 3, 2, 5])\n",
    "print(s1.marks[2])"
   ]
  },
  {
   "cell_type": "markdown",
   "id": "0a85eab3",
   "metadata": {},
   "source": [
    "Но что если мы хотим делать то же самое, но используя только ссылку на объект s1:"
   ]
  },
  {
   "cell_type": "code",
   "execution_count": 26,
   "id": "b6da9f94",
   "metadata": {},
   "outputs": [
    {
     "ename": "TypeError",
     "evalue": "'Student' object is not subscriptable",
     "output_type": "error",
     "traceback": [
      "\u001b[1;31m---------------------------------------------------------------------------\u001b[0m",
      "\u001b[1;31mTypeError\u001b[0m                                 Traceback (most recent call last)",
      "Cell \u001b[1;32mIn[26], line 1\u001b[0m\n\u001b[1;32m----> 1\u001b[0m \u001b[38;5;28mprint\u001b[39m(s1[\u001b[38;5;241m2\u001b[39m])\n",
      "\u001b[1;31mTypeError\u001b[0m: 'Student' object is not subscriptable"
     ]
    }
   ],
   "source": [
    "print(s1[2])"
   ]
  },
  {
   "cell_type": "code",
   "execution_count": 27,
   "id": "69d5b98a",
   "metadata": {},
   "outputs": [],
   "source": [
    "class Student:\n",
    "    def __init__(self, name, marks):\n",
    "        self.name = name\n",
    "        self.marks = list(marks)\n",
    "    def __getitem__(self, item):\n",
    "        return self.marks[item]"
   ]
  },
  {
   "cell_type": "code",
   "execution_count": 28,
   "id": "88c8f4c0",
   "metadata": {},
   "outputs": [],
   "source": [
    "s1 = Student('Сергей', [5, 5, 3, 2, 5])"
   ]
  },
  {
   "cell_type": "code",
   "execution_count": 29,
   "id": "e6256309",
   "metadata": {},
   "outputs": [
    {
     "name": "stdout",
     "output_type": "stream",
     "text": [
      "3\n"
     ]
    }
   ],
   "source": [
    "print(s1[2])"
   ]
  },
  {
   "cell_type": "code",
   "execution_count": 30,
   "id": "ddfcb0ef",
   "metadata": {
    "scrolled": true
   },
   "outputs": [
    {
     "ename": "IndexError",
     "evalue": "list index out of range",
     "output_type": "error",
     "traceback": [
      "\u001b[1;31m---------------------------------------------------------------------------\u001b[0m",
      "\u001b[1;31mIndexError\u001b[0m                                Traceback (most recent call last)",
      "Cell \u001b[1;32mIn[30], line 1\u001b[0m\n\u001b[1;32m----> 1\u001b[0m \u001b[38;5;28mprint\u001b[39m(s1[\u001b[38;5;241m20\u001b[39m])\n",
      "Cell \u001b[1;32mIn[27], line 6\u001b[0m, in \u001b[0;36mStudent.__getitem__\u001b[1;34m(self, item)\u001b[0m\n\u001b[0;32m      5\u001b[0m \u001b[38;5;28;01mdef\u001b[39;00m \u001b[38;5;21m__getitem__\u001b[39m(\u001b[38;5;28mself\u001b[39m, item):\n\u001b[1;32m----> 6\u001b[0m     \u001b[38;5;28;01mreturn\u001b[39;00m \u001b[38;5;28mself\u001b[39m\u001b[38;5;241m.\u001b[39mmarks[item]\n",
      "\u001b[1;31mIndexError\u001b[0m: list index out of range"
     ]
    }
   ],
   "source": [
    "print(s1[20])"
   ]
  },
  {
   "cell_type": "code",
   "execution_count": 31,
   "id": "e189b47d",
   "metadata": {},
   "outputs": [],
   "source": [
    "class Student:\n",
    "    def __init__(self, name, marks):\n",
    "        self.name = name\n",
    "        self.marks = list(marks)\n",
    "    def __getitem__(self, item):\n",
    "        if 0 <= item < len(self.marks):\n",
    "            return self.marks[item]\n",
    "        else:\n",
    "            raise IndexError(\"Неверный индекс\")"
   ]
  },
  {
   "cell_type": "code",
   "execution_count": 32,
   "id": "52f89a30",
   "metadata": {},
   "outputs": [],
   "source": [
    "s1 = Student('Сергей', [5, 5, 3, 2, 5])"
   ]
  },
  {
   "cell_type": "code",
   "execution_count": 33,
   "id": "e6fbcdf7",
   "metadata": {},
   "outputs": [
    {
     "ename": "IndexError",
     "evalue": "Неверный индекс",
     "output_type": "error",
     "traceback": [
      "\u001b[1;31m---------------------------------------------------------------------------\u001b[0m",
      "\u001b[1;31mIndexError\u001b[0m                                Traceback (most recent call last)",
      "Cell \u001b[1;32mIn[33], line 1\u001b[0m\n\u001b[1;32m----> 1\u001b[0m \u001b[38;5;28mprint\u001b[39m(s1[\u001b[38;5;241m20\u001b[39m])\n",
      "Cell \u001b[1;32mIn[31], line 9\u001b[0m, in \u001b[0;36mStudent.__getitem__\u001b[1;34m(self, item)\u001b[0m\n\u001b[0;32m      7\u001b[0m     \u001b[38;5;28;01mreturn\u001b[39;00m \u001b[38;5;28mself\u001b[39m\u001b[38;5;241m.\u001b[39mmarks[item]\n\u001b[0;32m      8\u001b[0m \u001b[38;5;28;01melse\u001b[39;00m:\n\u001b[1;32m----> 9\u001b[0m     \u001b[38;5;28;01mraise\u001b[39;00m \u001b[38;5;167;01mIndexError\u001b[39;00m(\u001b[38;5;124m\"\u001b[39m\u001b[38;5;124mНеверный индекс\u001b[39m\u001b[38;5;124m\"\u001b[39m)\n",
      "\u001b[1;31mIndexError\u001b[0m: Неверный индекс"
     ]
    }
   ],
   "source": [
    "print(s1[20])"
   ]
  },
  {
   "cell_type": "code",
   "execution_count": 34,
   "id": "bcf32c26",
   "metadata": {},
   "outputs": [
    {
     "name": "stdout",
     "output_type": "stream",
     "text": [
      "3\n"
     ]
    }
   ],
   "source": [
    "print(s1[2])"
   ]
  },
  {
   "cell_type": "code",
   "execution_count": 35,
   "id": "826f72fb",
   "metadata": {},
   "outputs": [
    {
     "ename": "TypeError",
     "evalue": "'<=' not supported between instances of 'int' and 'str'",
     "output_type": "error",
     "traceback": [
      "\u001b[1;31m---------------------------------------------------------------------------\u001b[0m",
      "\u001b[1;31mTypeError\u001b[0m                                 Traceback (most recent call last)",
      "Cell \u001b[1;32mIn[35], line 1\u001b[0m\n\u001b[1;32m----> 1\u001b[0m \u001b[38;5;28mprint\u001b[39m(s1[\u001b[38;5;124m'\u001b[39m\u001b[38;5;124mabc\u001b[39m\u001b[38;5;124m'\u001b[39m])\n",
      "Cell \u001b[1;32mIn[31], line 6\u001b[0m, in \u001b[0;36mStudent.__getitem__\u001b[1;34m(self, item)\u001b[0m\n\u001b[0;32m      5\u001b[0m \u001b[38;5;28;01mdef\u001b[39;00m \u001b[38;5;21m__getitem__\u001b[39m(\u001b[38;5;28mself\u001b[39m, item):\n\u001b[1;32m----> 6\u001b[0m     \u001b[38;5;28;01mif\u001b[39;00m \u001b[38;5;241m0\u001b[39m \u001b[38;5;241m<\u001b[39m\u001b[38;5;241m=\u001b[39m item \u001b[38;5;241m<\u001b[39m \u001b[38;5;28mlen\u001b[39m(\u001b[38;5;28mself\u001b[39m\u001b[38;5;241m.\u001b[39mmarks):\n\u001b[0;32m      7\u001b[0m         \u001b[38;5;28;01mreturn\u001b[39;00m \u001b[38;5;28mself\u001b[39m\u001b[38;5;241m.\u001b[39mmarks[item]\n\u001b[0;32m      8\u001b[0m     \u001b[38;5;28;01melse\u001b[39;00m:\n",
      "\u001b[1;31mTypeError\u001b[0m: '<=' not supported between instances of 'int' and 'str'"
     ]
    }
   ],
   "source": [
    "print(s1['abc'])"
   ]
  },
  {
   "cell_type": "code",
   "execution_count": 36,
   "id": "aabc911d",
   "metadata": {},
   "outputs": [],
   "source": [
    "class Student:\n",
    "    def __init__(self, name, marks):\n",
    "        self.name = name\n",
    "        self.marks = list(marks)\n",
    "\n",
    "    def __getitem__(self, item):\n",
    "        if not isinstance(item, int):\n",
    "            raise TypeError(\"Индекс должен быть целым числом\")\n",
    "        if 0 <= item < len(self.marks):\n",
    "            return self.marks[item]\n",
    "        else:\n",
    "            raise IndexError(\"Неверный индекс\")"
   ]
  },
  {
   "cell_type": "code",
   "execution_count": 37,
   "id": "54703a5a",
   "metadata": {},
   "outputs": [],
   "source": [
    "s1 = Student('Сергей', [5, 5, 3, 2, 5])"
   ]
  },
  {
   "cell_type": "code",
   "execution_count": 38,
   "id": "21d120dd",
   "metadata": {},
   "outputs": [
    {
     "ename": "TypeError",
     "evalue": "Индекс должен быть целым числом",
     "output_type": "error",
     "traceback": [
      "\u001b[1;31m---------------------------------------------------------------------------\u001b[0m",
      "\u001b[1;31mTypeError\u001b[0m                                 Traceback (most recent call last)",
      "Cell \u001b[1;32mIn[38], line 1\u001b[0m\n\u001b[1;32m----> 1\u001b[0m \u001b[38;5;28mprint\u001b[39m(s1[\u001b[38;5;124m'\u001b[39m\u001b[38;5;124mabc\u001b[39m\u001b[38;5;124m'\u001b[39m])\n",
      "Cell \u001b[1;32mIn[36], line 8\u001b[0m, in \u001b[0;36mStudent.__getitem__\u001b[1;34m(self, item)\u001b[0m\n\u001b[0;32m      6\u001b[0m \u001b[38;5;28;01mdef\u001b[39;00m \u001b[38;5;21m__getitem__\u001b[39m(\u001b[38;5;28mself\u001b[39m, item):\n\u001b[0;32m      7\u001b[0m     \u001b[38;5;28;01mif\u001b[39;00m \u001b[38;5;129;01mnot\u001b[39;00m \u001b[38;5;28misinstance\u001b[39m(item, \u001b[38;5;28mint\u001b[39m):\n\u001b[1;32m----> 8\u001b[0m         \u001b[38;5;28;01mraise\u001b[39;00m \u001b[38;5;167;01mTypeError\u001b[39;00m(\u001b[38;5;124m\"\u001b[39m\u001b[38;5;124mИндекс должен быть целым числом\u001b[39m\u001b[38;5;124m\"\u001b[39m)\n\u001b[0;32m      9\u001b[0m     \u001b[38;5;28;01mif\u001b[39;00m \u001b[38;5;241m0\u001b[39m \u001b[38;5;241m<\u001b[39m\u001b[38;5;241m=\u001b[39m item \u001b[38;5;241m<\u001b[39m \u001b[38;5;28mlen\u001b[39m(\u001b[38;5;28mself\u001b[39m\u001b[38;5;241m.\u001b[39mmarks):\n\u001b[0;32m     10\u001b[0m         \u001b[38;5;28;01mreturn\u001b[39;00m \u001b[38;5;28mself\u001b[39m\u001b[38;5;241m.\u001b[39mmarks[item]\n",
      "\u001b[1;31mTypeError\u001b[0m: Индекс должен быть целым числом"
     ]
    }
   ],
   "source": [
    "print(s1['abc'])"
   ]
  },
  {
   "cell_type": "code",
   "execution_count": 39,
   "id": "653657e9",
   "metadata": {},
   "outputs": [
    {
     "name": "stdout",
     "output_type": "stream",
     "text": [
      "3\n"
     ]
    }
   ],
   "source": [
    "print(s1[2])"
   ]
  },
  {
   "cell_type": "markdown",
   "id": "b0d11cf0",
   "metadata": {},
   "source": [
    "Теперь давайте предположим, что хотели бы иметь возможность менять оценки студентов, используя синтаксис:"
   ]
  },
  {
   "cell_type": "code",
   "execution_count": 40,
   "id": "36ab4e53",
   "metadata": {},
   "outputs": [
    {
     "ename": "TypeError",
     "evalue": "'Student' object does not support item assignment",
     "output_type": "error",
     "traceback": [
      "\u001b[1;31m---------------------------------------------------------------------------\u001b[0m",
      "\u001b[1;31mTypeError\u001b[0m                                 Traceback (most recent call last)",
      "Cell \u001b[1;32mIn[40], line 1\u001b[0m\n\u001b[1;32m----> 1\u001b[0m s1[\u001b[38;5;241m2\u001b[39m] \u001b[38;5;241m=\u001b[39m \u001b[38;5;241m4\u001b[39m\n\u001b[0;32m      2\u001b[0m \u001b[38;5;28mprint\u001b[39m(s1[\u001b[38;5;241m2\u001b[39m])\n",
      "\u001b[1;31mTypeError\u001b[0m: 'Student' object does not support item assignment"
     ]
    }
   ],
   "source": [
    "s1[2] = 4\n",
    "print(s1[2])"
   ]
  },
  {
   "cell_type": "code",
   "execution_count": 41,
   "id": "ccb870f7",
   "metadata": {},
   "outputs": [],
   "source": [
    "class Student:\n",
    "    def __init__(self, name, marks):\n",
    "        self.name = name\n",
    "        self.marks = list(marks)\n",
    "        \n",
    "    def __getitem__(self, item):\n",
    "        if not isinstance(item, int):\n",
    "            raise TypeError(\"Индекс должен быть целым числом\")\n",
    "        if 0 <= item < len(self.marks):\n",
    "            return self.marks[item]\n",
    "        else:\n",
    "            raise IndexError(\"Неверный индекс\")\n",
    "\n",
    "    def __setitem__(self, key, value):\n",
    "        if not isinstance(key, int) or key < 0:\n",
    "            raise TypeError(\"Индекс должен быть целым неотрицательным числом\")\n",
    " \n",
    "        self.marks[key] = value"
   ]
  },
  {
   "cell_type": "code",
   "execution_count": 42,
   "id": "ff8a0d47",
   "metadata": {},
   "outputs": [],
   "source": [
    "s1 = Student('Сергей', [5, 5, 3, 2, 5])"
   ]
  },
  {
   "cell_type": "code",
   "execution_count": 43,
   "id": "02e4f157",
   "metadata": {},
   "outputs": [],
   "source": [
    "s1[3] = 4"
   ]
  },
  {
   "cell_type": "code",
   "execution_count": 44,
   "id": "f991ae3b",
   "metadata": {},
   "outputs": [
    {
     "name": "stdout",
     "output_type": "stream",
     "text": [
      "4\n"
     ]
    }
   ],
   "source": [
    "print(s1[3])"
   ]
  },
  {
   "cell_type": "markdown",
   "id": "dba75088",
   "metadata": {},
   "source": [
    "Однако, если мы сейчас укажем несуществующий индекс:"
   ]
  },
  {
   "cell_type": "code",
   "execution_count": 45,
   "id": "3d9d8672",
   "metadata": {},
   "outputs": [
    {
     "ename": "IndexError",
     "evalue": "list assignment index out of range",
     "output_type": "error",
     "traceback": [
      "\u001b[1;31m---------------------------------------------------------------------------\u001b[0m",
      "\u001b[1;31mIndexError\u001b[0m                                Traceback (most recent call last)",
      "Cell \u001b[1;32mIn[45], line 1\u001b[0m\n\u001b[1;32m----> 1\u001b[0m s1[\u001b[38;5;241m6\u001b[39m] \u001b[38;5;241m=\u001b[39m \u001b[38;5;241m4\u001b[39m\n",
      "Cell \u001b[1;32mIn[41], line 18\u001b[0m, in \u001b[0;36mStudent.__setitem__\u001b[1;34m(self, key, value)\u001b[0m\n\u001b[0;32m     15\u001b[0m \u001b[38;5;28;01mif\u001b[39;00m \u001b[38;5;129;01mnot\u001b[39;00m \u001b[38;5;28misinstance\u001b[39m(key, \u001b[38;5;28mint\u001b[39m) \u001b[38;5;129;01mor\u001b[39;00m key \u001b[38;5;241m<\u001b[39m \u001b[38;5;241m0\u001b[39m:\n\u001b[0;32m     16\u001b[0m     \u001b[38;5;28;01mraise\u001b[39;00m \u001b[38;5;167;01mTypeError\u001b[39;00m(\u001b[38;5;124m\"\u001b[39m\u001b[38;5;124mИндекс должен быть целым неотрицательным числом\u001b[39m\u001b[38;5;124m\"\u001b[39m)\n\u001b[1;32m---> 18\u001b[0m \u001b[38;5;28mself\u001b[39m\u001b[38;5;241m.\u001b[39mmarks[key] \u001b[38;5;241m=\u001b[39m value\n",
      "\u001b[1;31mIndexError\u001b[0m: list assignment index out of range"
     ]
    }
   ],
   "source": [
    "s1[6] = 4"
   ]
  },
  {
   "cell_type": "code",
   "execution_count": 47,
   "id": "d3e7528a",
   "metadata": {},
   "outputs": [],
   "source": [
    "class Student:\n",
    "    def __init__(self, name, marks):\n",
    "        self.name = name\n",
    "        self.marks = list(marks)\n",
    "        \n",
    "    def __getitem__(self, item):\n",
    "        if not isinstance(item, int):\n",
    "            raise TypeError(\"Индекс должен быть целым числом\")\n",
    "        if 0 <= item < len(self.marks):\n",
    "            return self.marks[item]\n",
    "        else:\n",
    "            raise IndexError(\"Неверный индекс\")\n",
    "\n",
    "    def __setitem__(self, key, value):\n",
    "        if not isinstance(key, int) or key < 0:\n",
    "            raise TypeError(\"Индекс должен быть целым неотрицательным числом\")\n",
    " \n",
    "        if key >= len(self.marks):\n",
    "            off = key + 1 - len(self.marks)\n",
    "            self.marks.extend([None]*off)\n",
    " \n",
    "        self.marks[key] = value"
   ]
  },
  {
   "cell_type": "code",
   "execution_count": 48,
   "id": "91b04373",
   "metadata": {},
   "outputs": [],
   "source": [
    "s1 = Student('Сергей', [5, 5, 3, 2, 5])"
   ]
  },
  {
   "cell_type": "code",
   "execution_count": 49,
   "id": "56f90cd9",
   "metadata": {},
   "outputs": [
    {
     "name": "stdout",
     "output_type": "stream",
     "text": [
      "[5, 5, 3, 2, 5, None, None, None, None, None, 4]\n"
     ]
    }
   ],
   "source": [
    "s1[10] = 4\n",
    "print(s1.marks)"
   ]
  },
  {
   "cell_type": "markdown",
   "id": "d0b68fab",
   "metadata": {},
   "source": [
    "#### метод `__delitem__`\n",
    "Наконец, последний третий магический метод `__delitem__` вызывается при удалении элемента из списка. Если сейчас записать команду:"
   ]
  },
  {
   "cell_type": "code",
   "execution_count": 50,
   "id": "41920893",
   "metadata": {},
   "outputs": [
    {
     "ename": "AttributeError",
     "evalue": "__delitem__",
     "output_type": "error",
     "traceback": [
      "\u001b[1;31m---------------------------------------------------------------------------\u001b[0m",
      "\u001b[1;31mAttributeError\u001b[0m                            Traceback (most recent call last)",
      "Cell \u001b[1;32mIn[50], line 1\u001b[0m\n\u001b[1;32m----> 1\u001b[0m \u001b[38;5;28;01mdel\u001b[39;00m s1[\u001b[38;5;241m2\u001b[39m]\n",
      "\u001b[1;31mAttributeError\u001b[0m: __delitem__"
     ]
    }
   ],
   "source": [
    "del s1[2]"
   ]
  },
  {
   "cell_type": "code",
   "execution_count": 51,
   "id": "20631c4b",
   "metadata": {},
   "outputs": [],
   "source": [
    "class Student:\n",
    "    def __init__(self, name, marks):\n",
    "        self.name = name\n",
    "        self.marks = list(marks)\n",
    "        \n",
    "    def __getitem__(self, item):\n",
    "        if not isinstance(item, int):\n",
    "            raise TypeError(\"Индекс должен быть целым числом\")\n",
    "        if 0 <= item < len(self.marks):\n",
    "            return self.marks[item]\n",
    "        else:\n",
    "            raise IndexError(\"Неверный индекс\")\n",
    "\n",
    "    def __setitem__(self, key, value):\n",
    "        if not isinstance(key, int) or key < 0:\n",
    "            raise TypeError(\"Индекс должен быть целым неотрицательным числом\")\n",
    " \n",
    "        if key >= len(self.marks):\n",
    "            off = key + 1 - len(self.marks)\n",
    "            self.marks.extend([None]*off)\n",
    " \n",
    "        self.marks[key] = value\n",
    "\n",
    "    def __delitem__(self, key):\n",
    "        if not isinstance(key, int):\n",
    "            raise TypeError(\"Индекс должен быть целым числом\")\n",
    " \n",
    "        del self.marks[key]"
   ]
  },
  {
   "cell_type": "code",
   "execution_count": 52,
   "id": "f0df51ad",
   "metadata": {},
   "outputs": [],
   "source": [
    "s1 = Student('Сергей', [5, 5, 3, 2, 5])"
   ]
  },
  {
   "cell_type": "code",
   "execution_count": 53,
   "id": "aa14eb53",
   "metadata": {},
   "outputs": [],
   "source": [
    "del s1[2]"
   ]
  },
  {
   "cell_type": "code",
   "execution_count": 54,
   "id": "ff5c739c",
   "metadata": {},
   "outputs": [
    {
     "name": "stdout",
     "output_type": "stream",
     "text": [
      "[5, 5, 2, 5]\n"
     ]
    }
   ],
   "source": [
    "print(s1.marks)"
   ]
  },
  {
   "cell_type": "markdown",
   "id": "26b6f5b2",
   "metadata": {},
   "source": [
    "#### Магический метод `__call__`"
   ]
  },
  {
   "cell_type": "markdown",
   "id": "a440efb5-e2ec-48d0-b793-8339dc058c33",
   "metadata": {},
   "source": [
    "Метод `__call__` позволяет вызывать экземпляр класса как функцию. Это полезно, когда класс представляет собой вызываемый объект и нужно определить логику вызова."
   ]
  },
  {
   "cell_type": "markdown",
   "id": "eafbc753-e48b-4a23-8d94-538c2b2089c8",
   "metadata": {},
   "source": [
    "Классы с методом `__call__` могут быть вызваны с использованием круглых скобок, как функции:\n"
   ]
  },
  {
   "cell_type": "code",
   "execution_count": 55,
   "id": "5a2473aa",
   "metadata": {},
   "outputs": [],
   "source": [
    "class Counter:\n",
    "    def __init__(self):\n",
    "        self.__counter = 0"
   ]
  },
  {
   "cell_type": "code",
   "execution_count": 56,
   "id": "b390c55a",
   "metadata": {},
   "outputs": [],
   "source": [
    "c = Counter()"
   ]
  },
  {
   "attachments": {
    "image.png": {
     "image/png": "[encoded data removed]"
    }
   },
   "cell_type": "markdown",
   "id": "d33b3371",
   "metadata": {},
   "source": [
    "Обратите внимание на круглые скобки после имени класса. В общем случае – это оператор вызова, например, так можно вызывать функции. Но, как видите, так можно вызывать и классы. В действительности, когда происходит вызов класса, то автоматически запускается магический метод `__call__` и в данном случае он создает новый экземпляр этого класса:\n",
    "\n",
    "![image.png](attachment:image.png)\n",
    "\n",
    "Это очень упрощенная схема реализации метода `__call__`, в действительности, она несколько сложнее, но принцип тот же: сначала вызывается магический метод `__new__` для создания самого объекта в памяти устройства, а затем, метод `__init__` - для его инициализации. То есть, класс можно вызывать подобно функции благодаря встроенной для него реализации магического метода `__call__`. А вот экземпляры классов так вызывать уже нельзя. Если записать команду:"
   ]
  },
  {
   "cell_type": "code",
   "execution_count": 57,
   "id": "cd785d6f",
   "metadata": {},
   "outputs": [
    {
     "ename": "TypeError",
     "evalue": "'Counter' object is not callable",
     "output_type": "error",
     "traceback": [
      "\u001b[1;31m---------------------------------------------------------------------------\u001b[0m",
      "\u001b[1;31mTypeError\u001b[0m                                 Traceback (most recent call last)",
      "Cell \u001b[1;32mIn[57], line 1\u001b[0m\n\u001b[1;32m----> 1\u001b[0m c()\n",
      "\u001b[1;31mTypeError\u001b[0m: 'Counter' object is not callable"
     ]
    }
   ],
   "source": [
    "c()"
   ]
  },
  {
   "cell_type": "code",
   "execution_count": 58,
   "id": "dd71fd51",
   "metadata": {},
   "outputs": [],
   "source": [
    "class Counter:\n",
    "    def __init__(self):\n",
    "        self.__counter = 0\n",
    " \n",
    "    def __call__(self, *args, **kwargs):\n",
    "        print(\"__call__\")\n",
    "        self.__counter += 1\n",
    "        return self.__counter"
   ]
  },
  {
   "cell_type": "code",
   "execution_count": 59,
   "id": "e55e229d",
   "metadata": {},
   "outputs": [
    {
     "name": "stdout",
     "output_type": "stream",
     "text": [
      "__call__\n",
      "__call__\n",
      "__call__\n",
      "3\n"
     ]
    }
   ],
   "source": [
    "c = Counter()\n",
    "c()\n",
    "c()\n",
    "res = c()\n",
    "print(res)"
   ]
  },
  {
   "cell_type": "code",
   "execution_count": null,
   "id": "6463db46",
   "metadata": {},
   "outputs": [],
   "source": []
  },
  {
   "cell_type": "markdown",
   "id": "a20c933e",
   "metadata": {},
   "source": [
    "#### Магические методы `__iter__` и `__next__`"
   ]
  },
  {
   "cell_type": "markdown",
   "id": "523427e8-2d36-41a3-aa8e-3fc641165412",
   "metadata": {},
   "source": [
    "Метод `__iter__` определяет, как объект должен быть перебираемым, и возвращает итератор. Метод `__next__` определяет логику получения следующего элемента из итератора.\n"
   ]
  },
  {
   "cell_type": "code",
   "execution_count": 60,
   "id": "23ce80a8",
   "metadata": {},
   "outputs": [
    {
     "data": {
      "text/plain": [
       "[0, 1, 2, 3, 4]"
      ]
     },
     "execution_count": 60,
     "metadata": {},
     "output_type": "execute_result"
    }
   ],
   "source": [
    "list(range(5))"
   ]
  },
  {
   "cell_type": "code",
   "execution_count": 61,
   "id": "8ed1ab62",
   "metadata": {},
   "outputs": [
    {
     "name": "stdout",
     "output_type": "stream",
     "text": [
      "0\n",
      "1\n",
      "2\n",
      "3\n",
      "4\n"
     ]
    },
    {
     "ename": "StopIteration",
     "evalue": "",
     "output_type": "error",
     "traceback": [
      "\u001b[1;31m---------------------------------------------------------------------------\u001b[0m",
      "\u001b[1;31mStopIteration\u001b[0m                             Traceback (most recent call last)",
      "Cell \u001b[1;32mIn[61], line 7\u001b[0m\n\u001b[0;32m      5\u001b[0m \u001b[38;5;28mprint\u001b[39m(\u001b[38;5;28mnext\u001b[39m(a))\n\u001b[0;32m      6\u001b[0m \u001b[38;5;28mprint\u001b[39m(\u001b[38;5;28mnext\u001b[39m(a))\n\u001b[1;32m----> 7\u001b[0m \u001b[38;5;28mprint\u001b[39m(\u001b[38;5;28mnext\u001b[39m(a))\n",
      "\u001b[1;31mStopIteration\u001b[0m: "
     ]
    }
   ],
   "source": [
    "a = iter(range(5))\n",
    "print(next(a))\n",
    "print(next(a))\n",
    "print(next(a))\n",
    "print(next(a))\n",
    "print(next(a))\n",
    "print(next(a))"
   ]
  },
  {
   "cell_type": "code",
   "execution_count": 63,
   "id": "242d1f27-c185-422c-9f59-7111ba2f5426",
   "metadata": {},
   "outputs": [
    {
     "data": {
      "text/plain": [
       "[2, 4, 6, 8, 10, 12, 14]"
      ]
     },
     "execution_count": 63,
     "metadata": {},
     "output_type": "execute_result"
    }
   ],
   "source": [
    "list(range(2,15,2))"
   ]
  },
  {
   "cell_type": "code",
   "execution_count": null,
   "id": "8756b279",
   "metadata": {},
   "outputs": [],
   "source": [
    "class FRange:\n",
    "    def __init__(self, start=0.0, stop=0.0, step=1.0):\n",
    "        self.start = start\n",
    "        self.stop = stop\n",
    "        self.step = step\n",
    "        self.value = self.start - self.step"
   ]
  },
  {
   "cell_type": "markdown",
   "id": "33212ad7",
   "metadata": {},
   "source": [
    "Здесь в инициализатор мы передаем начальное значение прогрессии, конечное и шаг изменения. Также формируем свойство value, которое будет представлять собой текущее значение для считывания.\n",
    "\n",
    "Для перебора элементов добавим в этот класс метод, который будет соответствовать магическому методу __next__:"
   ]
  },
  {
   "cell_type": "code",
   "execution_count": 64,
   "id": "9f7667fd",
   "metadata": {},
   "outputs": [],
   "source": [
    "class FRange:\n",
    "    def __init__(self, start=0.0, stop=0.0, step=1.0):\n",
    "        self.start = start\n",
    "        self.stop = stop\n",
    "        self.step = step\n",
    "        self.value = self.start - self.step\n",
    "\n",
    "    def __next__(self):\n",
    "        if self.value + self.step < self.stop:\n",
    "            self.value += self.step\n",
    "            return self.value\n",
    "        else:\n",
    "            raise StopIteration"
   ]
  },
  {
   "cell_type": "code",
   "execution_count": 65,
   "id": "89c8ef3f",
   "metadata": {},
   "outputs": [],
   "source": [
    "fr = FRange(0, 2, 0.5) #0,0.5,1,1.5"
   ]
  },
  {
   "cell_type": "code",
   "execution_count": 66,
   "id": "c17dce46",
   "metadata": {},
   "outputs": [
    {
     "name": "stdout",
     "output_type": "stream",
     "text": [
      "0.0\n",
      "0.5\n",
      "1.0\n",
      "1.5\n"
     ]
    }
   ],
   "source": [
    "print(fr.__next__()) #next(fr)\n",
    "print(fr.__next__())\n",
    "print(fr.__next__())\n",
    "print(fr.__next__())"
   ]
  },
  {
   "cell_type": "code",
   "execution_count": 67,
   "id": "315d89b5",
   "metadata": {},
   "outputs": [
    {
     "ename": "StopIteration",
     "evalue": "",
     "output_type": "error",
     "traceback": [
      "\u001b[1;31m---------------------------------------------------------------------------\u001b[0m",
      "\u001b[1;31mStopIteration\u001b[0m                             Traceback (most recent call last)",
      "Cell \u001b[1;32mIn[67], line 1\u001b[0m\n\u001b[1;32m----> 1\u001b[0m \u001b[38;5;28mprint\u001b[39m(fr\u001b[38;5;241m.\u001b[39m\u001b[38;5;21m__next__\u001b[39m())\n",
      "Cell \u001b[1;32mIn[64], line 13\u001b[0m, in \u001b[0;36mFRange.__next__\u001b[1;34m(self)\u001b[0m\n\u001b[0;32m     11\u001b[0m     \u001b[38;5;28;01mreturn\u001b[39;00m \u001b[38;5;28mself\u001b[39m\u001b[38;5;241m.\u001b[39mvalue\n\u001b[0;32m     12\u001b[0m \u001b[38;5;28;01melse\u001b[39;00m:\n\u001b[1;32m---> 13\u001b[0m     \u001b[38;5;28;01mraise\u001b[39;00m \u001b[38;5;167;01mStopIteration\u001b[39;00m\n",
      "\u001b[1;31mStopIteration\u001b[0m: "
     ]
    }
   ],
   "source": [
    "print(fr.__next__())"
   ]
  },
  {
   "cell_type": "markdown",
   "id": "ecad845c",
   "metadata": {},
   "source": [
    "В действительности, благодаря определению магического метода __next__ в классе FRange, мы можем применять функцию next() для перебора значений его объектов:"
   ]
  },
  {
   "cell_type": "code",
   "execution_count": 68,
   "id": "a8016e6e",
   "metadata": {},
   "outputs": [
    {
     "name": "stdout",
     "output_type": "stream",
     "text": [
      "0.0\n",
      "0.5\n",
      "1.0\n",
      "1.5\n"
     ]
    }
   ],
   "source": [
    "fr = FRange(0, 2, 0.5)\n",
    "print(next(fr))\n",
    "print(next(fr))\n",
    "print(next(fr))\n",
    "print(next(fr))"
   ]
  },
  {
   "cell_type": "markdown",
   "id": "1a510b9b",
   "metadata": {},
   "source": [
    "Здесь функция next() вызывает метод __next__ и возвращенное им значение, возвращается функцией next(). При этом, в качестве аргумента мы ей передаем экземпляр самого класса. То есть, объект класса выступает в роли итератора. В нашем случае так и задумывалось. Однако, перебрать объект fr с помощью цикла for не получится:"
   ]
  },
  {
   "cell_type": "code",
   "execution_count": 69,
   "id": "09740e3c",
   "metadata": {},
   "outputs": [
    {
     "ename": "TypeError",
     "evalue": "'FRange' object is not iterable",
     "output_type": "error",
     "traceback": [
      "\u001b[1;31m---------------------------------------------------------------------------\u001b[0m",
      "\u001b[1;31mTypeError\u001b[0m                                 Traceback (most recent call last)",
      "Cell \u001b[1;32mIn[69], line 2\u001b[0m\n\u001b[0;32m      1\u001b[0m fr \u001b[38;5;241m=\u001b[39m FRange(\u001b[38;5;241m0\u001b[39m, \u001b[38;5;241m2\u001b[39m, \u001b[38;5;241m0.5\u001b[39m)\n\u001b[1;32m----> 2\u001b[0m \u001b[38;5;28;01mfor\u001b[39;00m x \u001b[38;5;129;01min\u001b[39;00m \u001b[38;5;28miter\u001b[39m(fr):\n\u001b[0;32m      3\u001b[0m     \u001b[38;5;28mprint\u001b[39m(x)\n",
      "\u001b[1;31mTypeError\u001b[0m: 'FRange' object is not iterable"
     ]
    }
   ],
   "source": [
    "fr = FRange(0, 2, 0.5)\n",
    "for x in iter(fr):\n",
    "    print(x)"
   ]
  },
  {
   "cell_type": "markdown",
   "id": "0fa43fda",
   "metadata": {},
   "source": [
    "Появится ошибка, что объект не итерируемый. Почему? Ведь мы прописали поведение функции next()? Этого не достаточно. Необходимо еще, чтобы объект возвращал итератор при вызове функции iter:"
   ]
  },
  {
   "cell_type": "code",
   "execution_count": null,
   "id": "413add69",
   "metadata": {},
   "outputs": [],
   "source": [
    "it = iter(fr)"
   ]
  },
  {
   "cell_type": "markdown",
   "id": "5d89891d",
   "metadata": {},
   "source": [
    "Для этого в классе нужно прописать еще один магический метод __iter__. В нашем примере он будет выглядеть, так:"
   ]
  },
  {
   "cell_type": "code",
   "execution_count": 70,
   "id": "6c675505",
   "metadata": {},
   "outputs": [],
   "source": [
    "class FRange:\n",
    "    def __init__(self, start=0.0, stop=0.0, step=1.0):\n",
    "        self.start = start\n",
    "        self.stop = stop\n",
    "        self.step = step\n",
    "        self.value = self.start - self.step\n",
    "\n",
    "    def __next__(self):\n",
    "        if self.value + self.step < self.stop:\n",
    "            self.value += self.step\n",
    "            return self.value\n",
    "        else:\n",
    "            raise StopIteration\n",
    "\n",
    "    def __iter__(self):\n",
    "        self.value = self.start - self.step\n",
    "        return self"
   ]
  },
  {
   "cell_type": "code",
   "execution_count": 71,
   "id": "3b5c8587",
   "metadata": {},
   "outputs": [
    {
     "name": "stdout",
     "output_type": "stream",
     "text": [
      "0.0\n",
      "0.5\n",
      "1.0\n",
      "1.5\n"
     ]
    }
   ],
   "source": [
    "fr = FRange(0, 2, 0.5)\n",
    "it = iter(fr)\n",
    "print(next(it))\n",
    "print(next(it))\n",
    "print(next(it))\n",
    "print(next(it))"
   ]
  },
  {
   "cell_type": "code",
   "execution_count": 72,
   "id": "973950f5-81df-4c3f-b9e0-15adea03d442",
   "metadata": {},
   "outputs": [
    {
     "name": "stdout",
     "output_type": "stream",
     "text": [
      "0.0\n",
      "0.5\n",
      "1.0\n",
      "1.5\n"
     ]
    }
   ],
   "source": [
    "fr = FRange(0, 2, 0.5)\n",
    "for x in iter(fr):\n",
    "    print(x)"
   ]
  },
  {
   "cell_type": "markdown",
   "id": "5436e4d9",
   "metadata": {},
   "source": [
    "#### Метод `__dict__`"
   ]
  },
  {
   "cell_type": "markdown",
   "id": "a7239762",
   "metadata": {},
   "source": [
    "Метод __dict__ возвращает словарь, содержащий атрибуты объекта."
   ]
  },
  {
   "cell_type": "code",
   "execution_count": 73,
   "id": "445cbba6",
   "metadata": {},
   "outputs": [
    {
     "name": "stdout",
     "output_type": "stream",
     "text": [
      "{'x': 1, 'y': 2, 'z': 3}\n"
     ]
    }
   ],
   "source": [
    "class MyClass:\n",
    "    def __init__(self):\n",
    "        self.x = 1\n",
    "        self.y = 2\n",
    "        self.z = 3\n",
    "\n",
    "obj =MyClass()\n",
    "print(obj.__dict__)  # {'x': 1, 'y': 2}\n"
   ]
  },
  {
   "cell_type": "markdown",
   "id": "a04ca2c6",
   "metadata": {},
   "source": [
    "## Практическое задание"
   ]
  },
  {
   "cell_type": "markdown",
   "id": "8107d395",
   "metadata": {},
   "source": [
    "Дополнить класс Person операцией сложения. При сложении двух объектов этого класса операция должна возвращать новый объект класса Person, у которого рост - четверть от среднего арифметического роста родителей, вес - двадцатая часть от среднего арифметического веса родителей, год рождения - текущий. \n",
    "Дополнительно придумать и определить методы _len_, _bool_.\n"
   ]
  },
  {
   "cell_type": "code",
   "execution_count": 74,
   "id": "5616f71e",
   "metadata": {},
   "outputs": [
    {
     "name": "stdout",
     "output_type": "stream",
     "text": [
      "Child's name: Child\n",
      "Child's height: 43.75 cm\n",
      "Child's weight: 3.25 kg\n",
      "Child's birth year: 2025\n",
      "Length of child's name: 5\n",
      "Is child's name non-empty? True\n"
     ]
    }
   ],
   "source": [
    "class Person:\n",
    "    \n",
    "    def __init__(self, name, height, weight, birth_year):\n",
    "        self.name = name\n",
    "        self.height = height\n",
    "        self.weight = weight\n",
    "        self.birth_year = birth_year\n",
    "\n",
    "    def __add__(self, other):\n",
    "        # Рассчитываем средний рост и вес родителей\n",
    "        avg_height = (self.height + other.height) / 2\n",
    "        avg_weight = (self.weight + other.weight) / 2\n",
    "\n",
    "        # Создаем новый объект Person с указанными свойствами\n",
    "        child = Person(\"Child\", avg_height / 4, avg_weight / 20, self._current_year())\n",
    "        return child\n",
    "\n",
    "    def __len__(self):\n",
    "        # Возвращаем длину имени (количество символов)\n",
    "        return len(self.name)\n",
    "\n",
    "    def __bool__(self):\n",
    "        # Возвращаем True, если имя не пустое, иначе False\n",
    "        return bool(self.name)\n",
    "\n",
    "    def _current_year(self):\n",
    "        # Возвращает текущий год (просто для примера)\n",
    "        return 2025\n",
    "\n",
    "# Пример использования\n",
    "parent1 = Person(\"Alice\", 170, 60, 1980)\n",
    "parent2 = Person(\"Bob\", 180, 70, 1985)\n",
    "\n",
    "child = parent1 + parent2\n",
    "print(f\"Child's name: {child.name}\")\n",
    "print(f\"Child's height: {child.height:.2f} cm\")\n",
    "print(f\"Child's weight: {child.weight:.2f} kg\")\n",
    "print(f\"Child's birth year: {child.birth_year}\")\n",
    "print(f\"Length of child's name: {len(child)}\")\n",
    "print(f\"Is child's name non-empty? {bool(child)}\")\n"
   ]
  },
  {
   "cell_type": "markdown",
   "id": "cd263749-7435-42e1-9804-8a781856f04f",
   "metadata": {},
   "source": [
    "### ДЗ"
   ]
  },
  {
   "cell_type": "markdown",
   "id": "59b83652-d6f4-45ae-8979-4077ab0cb593",
   "metadata": {},
   "source": [
    "Реализовать класс Counter, который представляет счетчик. Класс должен поддерживать следующие операции:\n",
    "Увеличение значения счетчика на заданное число (оператор +=)\n",
    "Уменьшение значения счетчика на заданное число (оператор -=)\n",
    "Преобразование счетчика в строку (метод `__str__`)\n",
    "Получение текущего значения счетчика (метод `__int__`)\n"
   ]
  },
  {
   "cell_type": "code",
   "execution_count": null,
   "id": "db83b9d8-07e7-47ea-90e6-97348362eac8",
   "metadata": {},
   "outputs": [],
   "source": []
  },
  {
   "cell_type": "markdown",
   "id": "579ed034-4b83-4535-a85a-92a6d1c9c811",
   "metadata": {},
   "source": [
    "Реализовать класс Email, представляющий электронное письмо. Класс должен поддерживать следующие операции:\r\n",
    "Сравнение писем по дате (операторы <, >, <=, >=, ==, !=)\r\n",
    "Преобразование письма в строку (метод __str__)\r\n",
    "Получение длины текста письма (метод __len__)\r\n",
    "Получение хеш-значения письма (метод __hash__)\r\n",
    "Проверка наличия текста в письме (метод __bool__)\r\n"
   ]
  },
  {
   "cell_type": "code",
   "execution_count": null,
   "id": "3b49e8e5-93b8-41e6-b14e-ff24478236d0",
   "metadata": {},
   "outputs": [],
   "source": []
  },
  {
   "cell_type": "markdown",
   "id": "36871ea2-b93e-4d16-850a-5e2e4bdc7d9e",
   "metadata": {},
   "source": [
    "### Полезные материалы\n",
    "1. Гайд по магическим методам в Python https://tproger.ru/articles/gajd-po-magicheskim-metodam-v-python/\n",
    "2. Руководство по магическим методам в Питоне https://habr.com/ru/articles/186608/ \n",
    "\n",
    "### Вопросы для закрепления\n",
    "1. Какие вы запомнили магические методы? За что они отвечают?\n",
    "2. Когда могут понадобиться методы `__radd__`, `__rmul__` и т.д.?\n",
    "3. Сколько нужно задать методов сравнения элементов, если вы пишете свой класс?\n"
   ]
  },
  {
   "cell_type": "code",
   "execution_count": null,
   "id": "99e7399e-eb9b-4f25-ab73-517c7b09005c",
   "metadata": {},
   "outputs": [],
   "source": []
  }
 ],
 "metadata": {
  "kernelspec": {
   "display_name": "Python 3 (ipykernel)",
   "language": "python",
   "name": "python3"
  },
  "language_info": {
   "codemirror_mode": {
    "name": "ipython",
    "version": 3
   },
   "file_extension": ".py",
   "mimetype": "text/x-python",
   "name": "python",
   "nbconvert_exporter": "python",
   "pygments_lexer": "ipython3",
   "version": "3.12.4"
  }
 },
 "nbformat": 4,
 "nbformat_minor": 5
}
