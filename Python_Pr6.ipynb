{
 "cells": [
  {
   "cell_type": "markdown",
   "id": "98da792f-f4bf-438a-96e2-7631f0c3b0cf",
   "metadata": {},
   "source": [
    "# Практическое занятие 6. Функции"
   ]
  },
  {
   "cell_type": "markdown",
   "id": "9bd987d3-1add-4ec9-a2c3-4d64d07e5ba9",
   "metadata": {},
   "source": [
    "1. Перепишите решение следующей задачи с использованием функции. У нас есть две логические переменные: isWeekday, isVacation (выходной день и каникулы). Они могут принимать разные значения, всего 4 комбинации: true - true, true - false, false - false, false - true. Есть правило: мы можем поспать, если день не рабочий или мы на каникулах. Напишите программу, которая в зависимости от значений двух переменных печатает, можем ли мы поспать или нет. То есть для значений isWeekday = False и isVacation = False программа должна печатать “можете поспать”. "
   ]
  },
  {
   "cell_type": "code",
   "execution_count": 1,
   "id": "c443bb16-6fb0-4036-9eac-9f97a5581323",
   "metadata": {},
   "outputs": [
    {
     "name": "stdout",
     "output_type": "stream",
     "text": [
      "можете поспать\n",
      "можете поспать\n",
      "не можете поспать\n",
      "можете поспать\n"
     ]
    }
   ],
   "source": [
    "def can_sleep_in(is_weekday, is_vacation):\n",
    "\n",
    "  if not is_weekday or is_vacation:\n",
    "    return \"можете поспать\"\n",
    "  else:\n",
    "    return \"не можете поспать\"\n",
    "\n",
    "# Примеры использования:\n",
    "print(can_sleep_in(False, False))  \n",
    "print(can_sleep_in(True, True)) \n",
    "print(can_sleep_in(True, False))  \n",
    "print(can_sleep_in(False, True)) "
   ]
  },
  {
   "cell_type": "markdown",
   "id": "bfd37df8-056e-40ab-b408-4a0e25375739",
   "metadata": {},
   "source": [
    "2. Перепишите следующую задачу с использованием функции. У вас есть целое число X. Нужно написать программу, которая напечатает разницу между числом 21 и X, если X<=21 и напечатает удвоенную разницу 21 и X в противном случае. \r\n"
   ]
  },
  {
   "cell_type": "code",
   "execution_count": 2,
   "id": "96402c44-8699-4e31-8fb1-9df04a0ec555",
   "metadata": {},
   "outputs": [
    {
     "name": "stdout",
     "output_type": "stream",
     "text": [
      "11\n",
      "0\n",
      "8\n",
      "21\n",
      "18\n"
     ]
    }
   ],
   "source": [
    "def calculate_difference(x):\n",
    "  if x <= 21:\n",
    "    return 21 - x\n",
    "  else:\n",
    "    return 2 * (x - 21)\n",
    "\n",
    "# Примеры использования:\n",
    "print(calculate_difference(10))  \n",
    "print(calculate_difference(21))  \n",
    "print(calculate_difference(25)) \n",
    "print(calculate_difference(0)) \n",
    "print(calculate_difference(30)) "
   ]
  },
  {
   "cell_type": "markdown",
   "id": "5609730a-bed5-40a4-8604-1c5e415b0f4d",
   "metadata": {},
   "source": [
    "3. Даны два целых числа A и B (при этом A ≤ B). Напишите функцию, которая печатает все числа от A до B включительно.\r\n"
   ]
  },
  {
   "cell_type": "code",
   "execution_count": null,
   "id": "0910d2f9-7eb9-4651-82a2-8a01554cb6ba",
   "metadata": {},
   "outputs": [],
   "source": [
    "def print_numbers_in_range(a, b):\n",
    "  for i in range(a, b + 1):\n",
    "    print(i)\n",
    "\n",
    "print_numbers_in_range(2, 5) "
   ]
  },
  {
   "cell_type": "markdown",
   "id": "5cecd412-a722-4886-aa82-93c9a08fd111",
   "metadata": {},
   "source": [
    "4. Напишите функцию, которая возвращает факториал заданного числа. Факториалом числа n называется произведение 1 × 2 × ... × n. Обозначение: n!.\r\n",
    "По данному натуральному n вычислите значение n!. Пользоваться математической библиотекой math в этой задаче запрещено. Во всех задачах считывайте входные данные через input() и выводите ответ через print().\r\n"
   ]
  },
  {
   "cell_type": "code",
   "execution_count": null,
   "id": "62a170d6-f19d-461d-982d-74d8d4b3aa5e",
   "metadata": {},
   "outputs": [],
   "source": []
  },
  {
   "cell_type": "markdown",
   "id": "afa9de22-c0cf-4f5b-92f5-bdf1da9dd6de",
   "metadata": {},
   "source": [
    "5. Напишите программу, которая считывает 5 чисел с клавиатуры и записывает их в текстовый файл. \r\n"
   ]
  },
  {
   "cell_type": "code",
   "execution_count": null,
   "id": "26e3363d-c8cb-4ffb-a96a-bfb59ffc510f",
   "metadata": {},
   "outputs": [],
   "source": []
  },
  {
   "cell_type": "markdown",
   "id": "07a48757-31f2-42ff-9b86-80dac5e6ef0b",
   "metadata": {},
   "source": [
    "6. Создайте текстовый файл persons.txt, где 5 строчек, в каждой фамилия;имя;возраст. То есть каждая строка - информация о человеке и данные разделены точкой с запятой. Напишите программу, которая вычитывает данные из файлы и печатает их на экран в формате Имя: <имя>, Фамилия <фамилия>, Возраст <возраст>.\r\n"
   ]
  },
  {
   "cell_type": "code",
   "execution_count": null,
   "id": "bf68b73b-749e-4e2b-b1c5-881c0735d7ba",
   "metadata": {},
   "outputs": [],
   "source": []
  },
  {
   "cell_type": "markdown",
   "id": "937e6ea2-83f3-4a36-b444-a9f5844998c2",
   "metadata": {},
   "source": [
    "7. Дано предложение и количество раз которое его надо повторить. Напишите программу, которая повторяет данное предложение нужное количество раз.\r\n",
    "Формат входных данных:\r\n",
    "В первой строке записано текстовое предложение, во второй — количество повторений.\r\n",
    "Формат выходных данных:\r\n",
    "Программа должна вывести указанное текстовое предложение нужное количество раз. Каждое повторение должно начинаться с новой строки.\r\n"
   ]
  },
  {
   "cell_type": "code",
   "execution_count": null,
   "id": "741655f9-d612-4802-9b13-ac88b6c50e3f",
   "metadata": {},
   "outputs": [],
   "source": []
  },
  {
   "cell_type": "markdown",
   "id": "641a41c7-8dc6-4ccb-a129-8f4e65acfca5",
   "metadata": {},
   "source": [
    "8. Напишите программу, которая по данному числу n от 1 до 9 выводит на экран n пингвинов. Изображение одного пингвина имеет размер 5×9 символов, между двумя соседними пингвинами также имеется пустой (из пробелов) столбец. Разрешается вывести пустой столбец после последнего пингвина. Для упрощения рисования скопируйте пингвина из примера в среду разработки.\r\n",
    "Входные данные:\r\n",
    "Вводится натуральное число.\r\n",
    "Выходные данные:\r\n",
    "Выведите ответ на задачу.\r\n",
    "Примечание:\r\n",
    "Учтите, что вывод данных на экран производится построчно, а не попингвинно.\r\n",
    "\r\n",
    "В некоторых языках программирования символ обратного слэша “\\” в текстовых строках имеет специальное значение. Чтобы включить в состав текстовой строки такой символ, его нужно повторить дважды. Например, для вывода на экран одного такого символа можно использовать такой код: prin \r\n",
    "  ^^ ^^   \r\n"
   ]
  },
  {
   "cell_type": "markdown",
   "id": "217a6bad-c352-45ce-9eff-22fad90774a7",
   "metadata": {},
   "source": [
    "   _~_    \n",
    "  (o o)   \n",
    " /  V  \\  \n",
    "/(  _  )\\ \n",
    "  ^^ ^^  "
   ]
  },
  {
   "cell_type": "code",
   "execution_count": null,
   "id": "b279e0c5-6333-4d73-9da0-a4c6409ae4fe",
   "metadata": {},
   "outputs": [],
   "source": []
  }
 ],
 "metadata": {
  "kernelspec": {
   "display_name": "Python 3 (ipykernel)",
   "language": "python",
   "name": "python3"
  },
  "language_info": {
   "codemirror_mode": {
    "name": "ipython",
    "version": 3
   },
   "file_extension": ".py",
   "mimetype": "text/x-python",
   "name": "python",
   "nbconvert_exporter": "python",
   "pygments_lexer": "ipython3",
   "version": "3.12.4"
  }
 },
 "nbformat": 4,
 "nbformat_minor": 5
}
