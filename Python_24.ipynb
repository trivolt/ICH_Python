{
 "cells": [
  {
   "cell_type": "markdown",
   "id": "4513c9f4-40b5-41d5-b4d2-a6f64585bc48",
   "metadata": {},
   "source": [
    "# Генераторы"
   ]
  },
  {
   "cell_type": "markdown",
   "id": "77083cf3-2701-47ec-aee1-2dd75d989a13",
   "metadata": {},
   "source": [
    "Генераторы - это функции или выражения, которые возвращают последовательность значений по одному за раз, во время итерации. Вместо того чтобы возвращать все значения сразу, генераторы создают итератор, который возвращает следующий элемент при каждом вызове метода `__next__()` или при использовании цикла for. Генераторы используются для эффективной работы с большими объемами данных или бесконечными последовательностями.\n"
   ]
  },
  {
   "cell_type": "markdown",
   "id": "811d52cf-eba6-416e-b2c2-f6dc9bae1e34",
   "metadata": {},
   "source": [
    "Генератор создается с помощью функции, которая использует ключевое слово yield вместо return."
   ]
  },
  {
   "cell_type": "code",
   "execution_count": 37,
   "id": "441af06b-b489-47f1-918c-7ead935c9d76",
   "metadata": {},
   "outputs": [],
   "source": [
    "def simple_generator():\n",
    "    yield 1\n",
    "    yield 2\n",
    "    yield 3\n",
    "\n",
    "gen = simple_generator()\n"
   ]
  },
  {
   "cell_type": "markdown",
   "id": "aebaae66-ffd5-4f2c-9ce8-eb57a4ac88cb",
   "metadata": {},
   "source": [
    "В этом примере simple_generator — это функция-генератор. Когда мы вызываем simple_generator(), она возвращает объект-генератор gen, но не начинает выполнение функции."
   ]
  },
  {
   "cell_type": "markdown",
   "id": "930c3a7a-bf93-4652-be2c-bd6d7fe9feb4",
   "metadata": {},
   "source": [
    "Чтобы получить значения из генератора, используется функция next()."
   ]
  },
  {
   "cell_type": "code",
   "execution_count": 38,
   "id": "ec86720c-8d2a-44b4-9dec-85bc5ebcddff",
   "metadata": {},
   "outputs": [
    {
     "name": "stdout",
     "output_type": "stream",
     "text": [
      "1\n",
      "2\n",
      "3\n"
     ]
    }
   ],
   "source": [
    "print(next(gen))  # Выводит: 1\n",
    "print(next(gen))  # Выводит: 2\n",
    "print(next(gen))  # Выводит: 3\n"
   ]
  },
  {
   "cell_type": "markdown",
   "id": "d8113987-3351-4524-a7dd-de1c251f32f8",
   "metadata": {},
   "source": [
    "Когда все значения сгенерированы, генератор завершает работу и выбрасывает исключение StopIteration.\n",
    "\n"
   ]
  },
  {
   "cell_type": "code",
   "execution_count": 39,
   "id": "65e631b9-68e9-4b7e-b16b-bab61e4ad67a",
   "metadata": {},
   "outputs": [
    {
     "ename": "StopIteration",
     "evalue": "",
     "output_type": "error",
     "traceback": [
      "\u001b[1;31m---------------------------------------------------------------------------\u001b[0m",
      "\u001b[1;31mStopIteration\u001b[0m                             Traceback (most recent call last)",
      "Cell \u001b[1;32mIn[39], line 1\u001b[0m\n\u001b[1;32m----> 1\u001b[0m \u001b[38;5;28mprint\u001b[39m(\u001b[38;5;28mnext\u001b[39m(gen))\n",
      "\u001b[1;31mStopIteration\u001b[0m: "
     ]
    }
   ],
   "source": [
    "print(next(gen))  # Выбрасывает StopIteration"
   ]
  },
  {
   "cell_type": "code",
   "execution_count": null,
   "id": "7cca5a1a-62f6-45f1-ac84-ddd287b37e40",
   "metadata": {},
   "outputs": [],
   "source": []
  },
  {
   "cell_type": "markdown",
   "id": "a88e41fd-ebde-4c86-a3b9-a088d56ae42c",
   "metadata": {},
   "source": [
    "Генераторы часто используются в циклах for, что делает код более читаемым и удобным."
   ]
  },
  {
   "cell_type": "code",
   "execution_count": 40,
   "id": "2dd12a57-dd8d-4948-a6f6-23a2ec457fcc",
   "metadata": {},
   "outputs": [
    {
     "name": "stdout",
     "output_type": "stream",
     "text": [
      "1\n",
      "2\n",
      "3\n"
     ]
    }
   ],
   "source": [
    "def my_generator():\n",
    "    yield 1\n",
    "    yield 2\n",
    "    yield 3\n",
    "\n",
    "for item in my_generator():\n",
    "    print(item)\n"
   ]
  },
  {
   "cell_type": "code",
   "execution_count": null,
   "id": "922ff661-d0a4-4874-a6c5-4bcff449d484",
   "metadata": {},
   "outputs": [],
   "source": []
  },
  {
   "cell_type": "markdown",
   "id": "3296ce15-d386-48bb-a7ca-ee6a91a9e23c",
   "metadata": {},
   "source": [
    "Выражения-генераторы — это более компактный способ создания генераторов."
   ]
  },
  {
   "cell_type": "code",
   "execution_count": 41,
   "id": "72a8334e-6d68-4ae2-8ded-b8597cbdd49d",
   "metadata": {},
   "outputs": [
    {
     "name": "stdout",
     "output_type": "stream",
     "text": [
      "0\n",
      "1\n",
      "4\n",
      "9\n",
      "16\n"
     ]
    }
   ],
   "source": [
    "gen_expr = (x * x for x in range(5))\n",
    "\n",
    "for value in gen_expr:\n",
    "    print(value)\n"
   ]
  },
  {
   "cell_type": "code",
   "execution_count": null,
   "id": "de694418-ef7c-4285-b202-10f1f8a2fa8d",
   "metadata": {},
   "outputs": [],
   "source": []
  },
  {
   "cell_type": "markdown",
   "id": "353d2384-7007-4266-9189-e5a277944bb0",
   "metadata": {},
   "source": [
    "### Использование throw и close в генераторах. Исключение GeneratorExit"
   ]
  },
  {
   "cell_type": "markdown",
   "id": "6fbe4515-be84-4fa5-b9f1-979be824bc9a",
   "metadata": {},
   "source": [
    "Генераторы могут использовать методы throw и close для взаимодействия с внешним кодом. Метод throw позволяет вызвать исключение внутри генератора, а метод close приводит к завершению генератора, вызывая исключение GeneratorExit. Это может быть полезным для корректной очистки ресурсов или для управления выполнением генератора.\n"
   ]
  },
  {
   "cell_type": "code",
   "execution_count": 43,
   "id": "ff23a8c4-232d-43e9-a952-b732ea7ff3c2",
   "metadata": {},
   "outputs": [],
   "source": [
    "def my_generator():\n",
    "    try:\n",
    "        yield 1\n",
    "        yield 2\n",
    "        yield 3\n",
    "    except GeneratorExit:\n",
    "        # Код для очистки ресурсов\n",
    "        pass\n"
   ]
  },
  {
   "cell_type": "code",
   "execution_count": 44,
   "id": "67443690-512e-46cf-8279-7b13ec7120fd",
   "metadata": {},
   "outputs": [
    {
     "data": {
      "text/plain": [
       "1"
      ]
     },
     "execution_count": 44,
     "metadata": {},
     "output_type": "execute_result"
    }
   ],
   "source": [
    "gen = my_generator()\n",
    "next(gen)\n",
    "#gen.close()"
   ]
  },
  {
   "cell_type": "code",
   "execution_count": 45,
   "id": "7103b8db-4c54-4cb5-aada-d6f7ff08d48a",
   "metadata": {},
   "outputs": [
    {
     "data": {
      "text/plain": [
       "2"
      ]
     },
     "execution_count": 45,
     "metadata": {},
     "output_type": "execute_result"
    }
   ],
   "source": [
    "next(gen)"
   ]
  },
  {
   "cell_type": "code",
   "execution_count": 46,
   "id": "b18618ee-3a77-40b3-97bc-3ac259a7d487",
   "metadata": {},
   "outputs": [],
   "source": [
    "gen.close()"
   ]
  },
  {
   "cell_type": "markdown",
   "id": "5f26783c-57b2-478e-aeb0-13c3d6fd6407",
   "metadata": {},
   "source": [
    "***Пример:*** Генератор с методами throw и close\n",
    "Предположим, у нас есть генератор, который обрабатывает последовательность чисел и может быть прерван или закрыт внешним кодом."
   ]
  },
  {
   "cell_type": "code",
   "execution_count": 47,
   "id": "797813d1-81f0-4e0f-93d2-56feb2ee47db",
   "metadata": {},
   "outputs": [
    {
     "name": "stdout",
     "output_type": "stream",
     "text": [
      "Yielding 0\n",
      "0\n",
      "Yielding 1\n",
      "1\n",
      "Caught ValueError: Custom error\n",
      "Yielding 2\n",
      "2\n",
      "Yielding 3\n",
      "3\n",
      "Generator is closed\n"
     ]
    },
    {
     "ename": "StopIteration",
     "evalue": "",
     "output_type": "error",
     "traceback": [
      "\u001b[1;31m---------------------------------------------------------------------------\u001b[0m",
      "\u001b[1;31mStopIteration\u001b[0m                             Traceback (most recent call last)",
      "Cell \u001b[1;32mIn[47], line 29\u001b[0m\n\u001b[0;32m     26\u001b[0m gen\u001b[38;5;241m.\u001b[39mclose()  \u001b[38;5;66;03m# Выводит: Generator is closed\u001b[39;00m\n\u001b[0;32m     28\u001b[0m \u001b[38;5;66;03m# Пытаемся получить значение из закрытого генератора\u001b[39;00m\n\u001b[1;32m---> 29\u001b[0m \u001b[38;5;28mprint\u001b[39m(\u001b[38;5;28mnext\u001b[39m(gen))\n",
      "\u001b[1;31mStopIteration\u001b[0m: "
     ]
    }
   ],
   "source": [
    "def number_generator():\n",
    "    try:\n",
    "        for i in range(5):\n",
    "            try:\n",
    "                print(f\"Yielding {i}\")\n",
    "                yield i\n",
    "            except ValueError as e:\n",
    "                print(f\"Caught ValueError: {e}\")\n",
    "    finally:\n",
    "        print(\"Generator is closed\")\n",
    "\n",
    "# Создаем генератор\n",
    "gen = number_generator()\n",
    "\n",
    "# Получаем значения из генератора\n",
    "print(next(gen))  # Выводит: Yielding 0 и возвращает 0\n",
    "print(next(gen))  # Выводит: Yielding 1 и возвращает 1\n",
    "\n",
    "# Используем метод throw для выброса исключения в генератор\n",
    "print(gen.throw(ValueError(\"Custom error\")))  # Выводит: Caught ValueError: Custom error и продолжает выполнение\n",
    "\n",
    "# Получаем следующее значение\n",
    "print(next(gen))  # Выводит: Yielding 2 и возвращает 2\n",
    "\n",
    "# Закрываем генератор с помощью метода close\n",
    "gen.close()  # Выводит: Generator is closed\n",
    "\n",
    "# Пытаемся получить значение из закрытого генератора\n",
    "print(next(gen))  # Выбрасывает StopIteration\n"
   ]
  },
  {
   "cell_type": "markdown",
   "id": "0d41c11b-7030-4f1b-a870-0864b4ea9242",
   "metadata": {},
   "source": [
    "### Генератор с бесконечным циклом внутри:\n",
    "Генераторы могут иметь бесконечные циклы внутри, что позволяет создавать последовательности, которые не имеют конечного количества элементов. Например, генератор может генерировать бесконечную последовательность чисел Фибоначчи или бесконечный поток данных.\n"
   ]
  },
  {
   "cell_type": "code",
   "execution_count": 48,
   "id": "3b1b52ca-880c-44a8-9ecc-950d0d8f81fa",
   "metadata": {},
   "outputs": [],
   "source": [
    "def fibonacci_generator():\n",
    "    a, b = 0, 1\n",
    "    while True:\n",
    "        yield a\n",
    "        a, b = b, a + b"
   ]
  },
  {
   "cell_type": "code",
   "execution_count": 50,
   "id": "07e1bc7b-70f0-40fb-81a6-40c1832f1026",
   "metadata": {},
   "outputs": [
    {
     "data": {
      "text/plain": [
       "0"
      ]
     },
     "execution_count": 50,
     "metadata": {},
     "output_type": "execute_result"
    }
   ],
   "source": [
    "fib_gen = fibonacci_generator()\n",
    "next(fib_gen)"
   ]
  },
  {
   "cell_type": "code",
   "execution_count": 51,
   "id": "c7ace348-4cac-434a-a471-58b9124b41a2",
   "metadata": {},
   "outputs": [
    {
     "data": {
      "text/plain": [
       "1"
      ]
     },
     "execution_count": 51,
     "metadata": {},
     "output_type": "execute_result"
    }
   ],
   "source": [
    "next(fib_gen)"
   ]
  },
  {
   "cell_type": "code",
   "execution_count": 52,
   "id": "cf42a403-b92c-4be5-8b6f-5b39e92a2d70",
   "metadata": {},
   "outputs": [
    {
     "data": {
      "text/plain": [
       "1"
      ]
     },
     "execution_count": 52,
     "metadata": {},
     "output_type": "execute_result"
    }
   ],
   "source": [
    "next(fib_gen)"
   ]
  },
  {
   "cell_type": "code",
   "execution_count": 53,
   "id": "264d3dcb-5a7a-40ef-a4f4-cfa7296d6d0c",
   "metadata": {},
   "outputs": [
    {
     "data": {
      "text/plain": [
       "2"
      ]
     },
     "execution_count": 53,
     "metadata": {},
     "output_type": "execute_result"
    }
   ],
   "source": [
    "next(fib_gen)"
   ]
  },
  {
   "cell_type": "code",
   "execution_count": null,
   "id": "8a834fe1-933c-4ed8-aead-af660feb3c91",
   "metadata": {},
   "outputs": [],
   "source": []
  },
  {
   "cell_type": "code",
   "execution_count": null,
   "id": "5d5b32bd-bc03-4d1e-9d63-dc836a9342c5",
   "metadata": {},
   "outputs": [],
   "source": []
  },
  {
   "cell_type": "code",
   "execution_count": 54,
   "id": "1a542a6c-a84b-4cd6-a078-3ef95d2535ff",
   "metadata": {},
   "outputs": [
    {
     "name": "stdout",
     "output_type": "stream",
     "text": [
      "0\n",
      "1\n",
      "1\n",
      "2\n",
      "3\n",
      "5\n",
      "8\n",
      "13\n",
      "21\n",
      "34\n"
     ]
    }
   ],
   "source": [
    "def fibonacci_generator():\n",
    "    a, b = 0, 1\n",
    "    while True:\n",
    "        yield a\n",
    "        a, b = b, a + b\n",
    "\n",
    "fib_gen = fibonacci_generator()\n",
    "for i in range(10):\n",
    "    print(next(fib_gen))\n"
   ]
  },
  {
   "cell_type": "markdown",
   "id": "4b6efd30-f85a-4da2-ac57-89fbaaaca170",
   "metadata": {},
   "source": [
    "### Передача значений в генератор. Инструкции next и send:\n",
    "Значения можно передавать в генератор с помощью инструкций next и send.\n",
    "* Метод send возвращает следующее значение из генератора и одновременно передает значение внутрь генератора.\n",
    "* Метод next также возвращает следующее значение, но не принимает никаких аргументов.\n"
   ]
  },
  {
   "cell_type": "code",
   "execution_count": 55,
   "id": "2fc1fc01-b8bb-4e1b-9300-93e54c0bd11a",
   "metadata": {},
   "outputs": [],
   "source": [
    "def my_generator():\n",
    "    received_value = yield 1\n",
    "    yield received_value + 1\n",
    "\n",
    "gen = my_generator()"
   ]
  },
  {
   "cell_type": "code",
   "execution_count": 56,
   "id": "f2aded6c-1276-4b42-b249-fca5f7c04e63",
   "metadata": {},
   "outputs": [
    {
     "name": "stdout",
     "output_type": "stream",
     "text": [
      "1\n"
     ]
    }
   ],
   "source": [
    "print(next(gen))"
   ]
  },
  {
   "cell_type": "code",
   "execution_count": 57,
   "id": "33b3e339-0f99-4dd2-b650-06a69e94e45a",
   "metadata": {},
   "outputs": [
    {
     "name": "stdout",
     "output_type": "stream",
     "text": [
      "11\n"
     ]
    }
   ],
   "source": [
    "print(gen.send(10))"
   ]
  },
  {
   "cell_type": "code",
   "execution_count": 58,
   "id": "484aff49-500a-4b7d-9574-b536108bf46d",
   "metadata": {},
   "outputs": [
    {
     "ename": "TypeError",
     "evalue": "can't send non-None value to a just-started generator",
     "output_type": "error",
     "traceback": [
      "\u001b[1;31m---------------------------------------------------------------------------\u001b[0m",
      "\u001b[1;31mTypeError\u001b[0m                                 Traceback (most recent call last)",
      "Cell \u001b[1;32mIn[58], line 6\u001b[0m\n\u001b[0;32m      3\u001b[0m     \u001b[38;5;28;01myield\u001b[39;00m received_value \u001b[38;5;241m+\u001b[39m \u001b[38;5;241m1\u001b[39m\n\u001b[0;32m      5\u001b[0m gen \u001b[38;5;241m=\u001b[39m my_generator()\n\u001b[1;32m----> 6\u001b[0m \u001b[38;5;28mprint\u001b[39m(gen\u001b[38;5;241m.\u001b[39msend(\u001b[38;5;241m10\u001b[39m))\n\u001b[0;32m      7\u001b[0m \u001b[38;5;28mprint\u001b[39m(\u001b[38;5;28mnext\u001b[39m(gen))\n",
      "\u001b[1;31mTypeError\u001b[0m: can't send non-None value to a just-started generator"
     ]
    }
   ],
   "source": [
    "def my_generator():\n",
    "    received_value = yield 1\n",
    "    yield received_value + 1\n",
    "\n",
    "gen = my_generator()\n",
    "print(gen.send(10))\n",
    "print(next(gen))"
   ]
  },
  {
   "cell_type": "markdown",
   "id": "cd5c9b6e-eb86-4eb3-b88b-b1ad9d3cf634",
   "metadata": {},
   "source": [
    "Давайте пройдем дебагером по коду)) https://pythontutor.com/render.html#mode=display"
   ]
  },
  {
   "cell_type": "markdown",
   "id": "6c301f82-422e-4c64-8349-08dbfde56303",
   "metadata": {},
   "source": [
    "В первый раз вместо next(gen) можем использовать gen.send(None)"
   ]
  },
  {
   "cell_type": "code",
   "execution_count": 59,
   "id": "d9e89c6e-5957-4f46-be9b-06496a7c1a99",
   "metadata": {},
   "outputs": [
    {
     "name": "stdout",
     "output_type": "stream",
     "text": [
      "1\n",
      "11\n"
     ]
    }
   ],
   "source": [
    "gen = my_generator()\n",
    "print(gen.send(None))      # Выводит 1\n",
    "print(gen.send(10))   # Выводит 11"
   ]
  },
  {
   "cell_type": "markdown",
   "id": "4abd6d87-f6ee-4c14-9715-777c7196eeeb",
   "metadata": {},
   "source": [
    "### Подумайте"
   ]
  },
  {
   "cell_type": "code",
   "execution_count": 60,
   "id": "1916d656-83ed-48ed-98e0-53c700dc92c3",
   "metadata": {},
   "outputs": [
    {
     "name": "stdout",
     "output_type": "stream",
     "text": [
      "0\n",
      "111\n",
      "234\n"
     ]
    }
   ],
   "source": [
    "def test():\n",
    "    s = 0\n",
    "    while True:\n",
    "        x = yield s\n",
    "        s += x\n",
    "        \n",
    "t = test()\n",
    "print(next(t)) #0\n",
    "print(t.send(111)) #111\n",
    "print(t.send(123)) #234\n"
   ]
  },
  {
   "cell_type": "markdown",
   "id": "2379c759-9d4b-4d67-92e7-453ff01c255b",
   "metadata": {},
   "source": [
    "### Работа внутри генератора со значением, полученным извне:\n",
    "Генераторы могут выполнять операции со значениями, полученными извне. Это позволяет динамически изменять поведение генератора в зависимости от внешних условий.\n"
   ]
  },
  {
   "cell_type": "code",
   "execution_count": 61,
   "id": "c53e4d75-2b0e-414f-82ee-7c892ad2ef5c",
   "metadata": {},
   "outputs": [
    {
     "name": "stdout",
     "output_type": "stream",
     "text": [
      "10\n",
      "None\n"
     ]
    }
   ],
   "source": [
    "def my_generator():\n",
    "    while True:\n",
    "        value = yield\n",
    "        if value > 0:\n",
    "            yield value * 2\n",
    "        else:\n",
    "            yield value * 3\n",
    "\n",
    "gen = my_generator()\n",
    "next(gen)  # Инициализация генератора\n",
    "print(gen.send(5))    # Выводит 10\n",
    "print(gen.send(-2)) \n",
    "\n",
    "\n"
   ]
  },
  {
   "cell_type": "code",
   "execution_count": 64,
   "id": "cc1740c6-3b5e-4bfc-8203-8d1e26be6dc1",
   "metadata": {},
   "outputs": [
    {
     "name": "stdout",
     "output_type": "stream",
     "text": [
      "10\n",
      "None\n",
      "4\n",
      "None\n",
      "-21\n"
     ]
    }
   ],
   "source": [
    "def my_generator():\n",
    "    while True:\n",
    "        value = yield\n",
    "        if value > 0:\n",
    "            yield value * 2\n",
    "        else:\n",
    "            yield value * 3\n",
    "\n",
    "gen = my_generator()\n",
    "next(gen)  # Инициализация генератора\n",
    "print(gen.send(5))    # Выводит 10\n",
    "print(gen.send(-2)) #value = 5\n",
    "print(gen.send(2))\n",
    "print(gen.send(12)) \n",
    "print(gen.send(-7)) \n"
   ]
  },
  {
   "cell_type": "code",
   "execution_count": null,
   "id": "9efbe6d2-b32c-4575-93f4-d962f14b35b1",
   "metadata": {},
   "outputs": [],
   "source": []
  },
  {
   "cell_type": "code",
   "execution_count": null,
   "id": "8e84255a-30db-4b3c-beb4-4dee204923f2",
   "metadata": {},
   "outputs": [],
   "source": [
    "def my_generator():\n",
    "    value = yield\n",
    "    if value > 0:\n",
    "        yield value * 2\n",
    "    else:\n",
    "        yield value * 3\n",
    "\n",
    "gen = my_generator()\n",
    "next(gen)\n",
    "print(gen.send(5))  \n",
    "print(gen.send(-2))  \n"
   ]
  },
  {
   "cell_type": "markdown",
   "id": "57d6ebb0-e17c-4207-8d10-427c8f5894d4",
   "metadata": {},
   "source": [
    "### Использование субгенераторов. Инструкция yield from:\n",
    "Генераторы могут использовать субгенераторы для делегирования работы. Ключевое слово yield from позволяет упростить синтаксис итерации по субгенераторам и передачу значений между ними.\n"
   ]
  },
  {
   "cell_type": "markdown",
   "id": "d3011d68-b5f6-475f-b806-761e7a34ea77",
   "metadata": {},
   "source": [
    "Конструкция yield from:\n",
    "\n",
    "* yield from используется для делегирования генерации значений другому генератору или итерируемому объекту.\n",
    "* В данном случае yield from будет поочередно возвращать каждый символ из строки, полученной после применения join."
   ]
  },
  {
   "cell_type": "code",
   "execution_count": 65,
   "id": "bc5547ee-5678-45e7-b414-17b45595dc76",
   "metadata": {},
   "outputs": [
    {
     "name": "stdout",
     "output_type": "stream",
     "text": [
      "1\n",
      "2\n",
      "3\n"
     ]
    }
   ],
   "source": [
    "def nested_generator():\n",
    "    yield from [1, 2, 3]\n",
    "\n",
    "gen = nested_generator()\n",
    "\n",
    "print(next(gen))  # Выводит: 1\n",
    "print(next(gen))  # Выводит: 2\n",
    "print(next(gen))  # Выводит: 3\n"
   ]
  },
  {
   "cell_type": "code",
   "execution_count": 66,
   "id": "8ea31228-cbcc-46b6-ba3e-5d054b08f56a",
   "metadata": {},
   "outputs": [
    {
     "name": "stdout",
     "output_type": "stream",
     "text": [
      "1\n",
      "2\n",
      "3\n"
     ]
    }
   ],
   "source": [
    "def my_generator():\n",
    "    yield 1\n",
    "    yield 2\n",
    "    yield 3\n",
    "\n",
    "for item in my_generator():\n",
    "    print(item)"
   ]
  },
  {
   "cell_type": "code",
   "execution_count": 67,
   "id": "3a02a701-189f-4d29-a79e-edfee9d3f01b",
   "metadata": {},
   "outputs": [
    {
     "name": "stdout",
     "output_type": "stream",
     "text": [
      "1\n",
      "2\n",
      "3\n"
     ]
    }
   ],
   "source": [
    "def my_generator():\n",
    "    yield from [1,2,3]\n",
    "    \n",
    "for item in my_generator():\n",
    "    print(item)"
   ]
  },
  {
   "cell_type": "code",
   "execution_count": null,
   "id": "ae3c23ae-5cea-4613-9126-546914d2a839",
   "metadata": {},
   "outputs": [],
   "source": []
  },
  {
   "cell_type": "code",
   "execution_count": null,
   "id": "6b45bdb8-8374-4b92-bc88-ddf79412765c",
   "metadata": {},
   "outputs": [],
   "source": []
  },
  {
   "cell_type": "code",
   "execution_count": 69,
   "id": "1af20e39-0c13-42c2-b420-0a5852a5500d",
   "metadata": {},
   "outputs": [
    {
     "name": "stdout",
     "output_type": "stream",
     "text": [
      "Asdfw\n"
     ]
    }
   ],
   "source": [
    "some_str = 'A!sdf 09 _ w'\n",
    "\n",
    "print(''.join([letter for letter in some_str if letter.isalpha()]))"
   ]
  },
  {
   "cell_type": "code",
   "execution_count": 70,
   "id": "7b11ffa6-94c6-4bb5-8067-61b55f71c52d",
   "metadata": {},
   "outputs": [
    {
     "name": "stdout",
     "output_type": "stream",
     "text": [
      "A\n",
      "s\n"
     ]
    }
   ],
   "source": [
    "def show_letters(some_str):\n",
    "\tyield from ''.join([letter for letter in some_str if letter.isalpha()])\n",
    " \n",
    " \n",
    "random_str = show_letters('A!sdf 09 _ w')\n",
    "print(next(random_str))\n",
    "print(next(random_str))\n"
   ]
  },
  {
   "cell_type": "code",
   "execution_count": 71,
   "id": "98789ab1-2e69-49d3-93d6-9dbc81e3f2c7",
   "metadata": {},
   "outputs": [
    {
     "name": "stdout",
     "output_type": "stream",
     "text": [
      "d\n"
     ]
    }
   ],
   "source": [
    "print(next(random_str))"
   ]
  },
  {
   "cell_type": "markdown",
   "id": "bc36b912-5b8a-48a1-aa49-9362ced5212b",
   "metadata": {},
   "source": [
    "### Задание для закрепления"
   ]
  },
  {
   "cell_type": "code",
   "execution_count": 72,
   "id": "a8315a02-52be-4a8f-adc6-350dddc76677",
   "metadata": {},
   "outputs": [
    {
     "name": "stdout",
     "output_type": "stream",
     "text": [
      "Main generator\n",
      "Sub generator\n",
      "Completed sub generator\n",
      "Completed main generator\n"
     ]
    }
   ],
   "source": [
    "def sub_generator():\n",
    "    yield 'Sub generator'\n",
    "    yield 'Completed sub generator'\n",
    "\n",
    "def main_generator():\n",
    "    yield 'Main generator'\n",
    "    yield from sub_generator()\n",
    "    yield 'Completed main generator'\n",
    "\n",
    "gen = main_generator()\n",
    "for item in gen:\n",
    "    print(item) # next(gen)\n"
   ]
  },
  {
   "cell_type": "markdown",
   "id": "33c6ece8-34a2-4dfd-8f3f-583879267a79",
   "metadata": {},
   "source": [
    "🤓По факту, происходит встраивание одного генератора в другой. Можно вызывать один и тот же субгенератор много раз подряд"
   ]
  },
  {
   "cell_type": "markdown",
   "id": "8a789d15-7a8a-4439-bbe0-63a3bccf156d",
   "metadata": {},
   "source": [
    "### Решение задач"
   ]
  },
  {
   "cell_type": "markdown",
   "id": "92b4f06f-6804-476f-ad6c-d4ff72066384",
   "metadata": {},
   "source": [
    "1. Напишите генератор, который принимает на вход поток элементов и выдает только уникальные элементы, сохраняя их порядок встречаемости (для уже повторяющихся элементов генератор не выдает ничего)"
   ]
  },
  {
   "cell_type": "code",
   "execution_count": null,
   "id": "9d7d38e3-8c80-4984-9a87-223dda3f4a12",
   "metadata": {},
   "outputs": [],
   "source": [
    "def unique_elements(stream):\n",
    "    seen = set()\n",
    "    for item in stream:\n",
    "        if item not in seen:\n",
    "            seen.add(item)\n",
    "            yield item\n",
    "\n",
    "input_stream = [1, 2, 3, 1, 2, 4, 5, 3, 6]\n",
    "unique_stream = unique_elements(input_stream)\n",
    "\n",
    "for unique_item in unique_stream:\n",
    "    print(unique_item)\n"
   ]
  },
  {
   "cell_type": "code",
   "execution_count": null,
   "id": "0d82e3a2-0dd5-40e8-b9ce-d87ba9ddb99b",
   "metadata": {},
   "outputs": [],
   "source": []
  },
  {
   "cell_type": "code",
   "execution_count": null,
   "id": "bb8a58df-6ad1-4e58-84f3-8bd8c54a2581",
   "metadata": {},
   "outputs": [],
   "source": []
  },
  {
   "cell_type": "markdown",
   "id": "9b5e2682-fe10-4bc2-88af-54c5d5c16b93",
   "metadata": {},
   "source": [
    "### Полезные материалы\n",
    "1. Как работает генератор yield в python https://pythonru.com/uroki/30-generatory-dlja-nachinajushhih \n",
    "2. Генераторы для самых маленьких https://habr.com/ru/articles/560300/ \n",
    "\n",
    "### Вопросы для закрепления\n",
    "1. Как работает метод .close() в генераторе?\n",
    "2. Как передать значение в генератор? Когда это бывает нужно?\n",
    "3. В чем может быть преимущество генератора без цикла и его аналогов внутри перед функцией, которая возвращает столько же значений?\n"
   ]
  },
  {
   "cell_type": "code",
   "execution_count": null,
   "id": "0b1a7d24-67ef-408e-8e5f-387fa77d5294",
   "metadata": {},
   "outputs": [],
   "source": []
  }
 ],
 "metadata": {
  "kernelspec": {
   "display_name": "Python 3 (ipykernel)",
   "language": "python",
   "name": "python3"
  },
  "language_info": {
   "codemirror_mode": {
    "name": "ipython",
    "version": 3
   },
   "file_extension": ".py",
   "mimetype": "text/x-python",
   "name": "python",
   "nbconvert_exporter": "python",
   "pygments_lexer": "ipython3",
   "version": "3.12.4"
  }
 },
 "nbformat": 4,
 "nbformat_minor": 5
}
