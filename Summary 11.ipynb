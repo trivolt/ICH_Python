{
 "cells": [
  {
   "cell_type": "markdown",
   "id": "785ae092-6e7b-44b8-b223-682d0adfc846",
   "metadata": {},
   "source": [
    "# Summary 11"
   ]
  },
  {
   "cell_type": "markdown",
   "id": "606da95f-afb2-4318-ac65-48c319fc50e3",
   "metadata": {},
   "source": [
    "### Словари"
   ]
  },
  {
   "cell_type": "code",
   "execution_count": 36,
   "id": "e5b4dae7-6084-4688-bac1-af635f859d44",
   "metadata": {},
   "outputs": [],
   "source": [
    "person = {\n",
    "    \"name\": \"Иван\",\n",
    "    \"age\": 30,\n",
    "    \"city\": \"Москва\"\n",
    "}"
   ]
  },
  {
   "cell_type": "code",
   "execution_count": null,
   "id": "0f85a8c3-4d3a-45c4-aa8b-79956528c39f",
   "metadata": {},
   "outputs": [],
   "source": [
    "# Доступ к значению по ключу:"
   ]
  },
  {
   "cell_type": "code",
   "execution_count": 37,
   "id": "d097e4da-9de5-48b3-bf15-52df8198b61a",
   "metadata": {},
   "outputs": [
    {
     "data": {
      "text/plain": [
       "'Иван'"
      ]
     },
     "execution_count": 37,
     "metadata": {},
     "output_type": "execute_result"
    }
   ],
   "source": [
    "person['name']"
   ]
  },
  {
   "cell_type": "code",
   "execution_count": 38,
   "id": "c5f3f127-7137-420b-8447-cf8952538cfa",
   "metadata": {},
   "outputs": [
    {
     "ename": "KeyError",
     "evalue": "'address'",
     "output_type": "error",
     "traceback": [
      "\u001b[1;31m---------------------------------------------------------------------------\u001b[0m",
      "\u001b[1;31mKeyError\u001b[0m                                  Traceback (most recent call last)",
      "Cell \u001b[1;32mIn[38], line 1\u001b[0m\n\u001b[1;32m----> 1\u001b[0m person[\u001b[38;5;124m'\u001b[39m\u001b[38;5;124maddress\u001b[39m\u001b[38;5;124m'\u001b[39m]\n",
      "\u001b[1;31mKeyError\u001b[0m: 'address'"
     ]
    }
   ],
   "source": [
    "person['address']"
   ]
  },
  {
   "cell_type": "code",
   "execution_count": null,
   "id": "3f09d894-7321-4df2-8165-c2ca49176022",
   "metadata": {},
   "outputs": [],
   "source": [
    "# Изменение значения по ключу:"
   ]
  },
  {
   "cell_type": "code",
   "execution_count": 39,
   "id": "5989e56c-3e36-4465-83c1-c4f51d122f3e",
   "metadata": {},
   "outputs": [
    {
     "name": "stdout",
     "output_type": "stream",
     "text": [
      "{'name': 'Иван', 'age': 30, 'city': 'Берлин'}\n"
     ]
    }
   ],
   "source": [
    "person['city'] = 'Берлин'\n",
    "print(person)"
   ]
  },
  {
   "cell_type": "code",
   "execution_count": null,
   "id": "b13663e0-26dc-48cc-846a-c977e2c44015",
   "metadata": {},
   "outputs": [],
   "source": [
    "# Добавление новой пары \"ключ: значение\":"
   ]
  },
  {
   "cell_type": "code",
   "execution_count": 46,
   "id": "a94fb679-be2a-4ed3-b58d-e4cf15c81739",
   "metadata": {},
   "outputs": [
    {
     "name": "stdout",
     "output_type": "stream",
     "text": [
      "{'name': 'Иван', 'age': 30, 'city': 'Берлин', 'address': 'ул.Новая,2', 2: 3}\n"
     ]
    }
   ],
   "source": [
    "person['address'] = 'ул.Новая,2'\n",
    "person[2] = 3\n",
    "print(person)"
   ]
  },
  {
   "cell_type": "code",
   "execution_count": null,
   "id": "b00cd2f8-c8db-4a1c-bf69-d6bd041eb187",
   "metadata": {},
   "outputs": [],
   "source": [
    "# Удаление пары по ключу:"
   ]
  },
  {
   "cell_type": "code",
   "execution_count": 41,
   "id": "da303dfb-fed1-466c-831e-c7e070707f38",
   "metadata": {},
   "outputs": [
    {
     "name": "stdout",
     "output_type": "stream",
     "text": [
      "{'name': 'Иван', 'age': 30, 'city': 'Берлин'}\n"
     ]
    }
   ],
   "source": [
    "del(person['address'])\n",
    "print(person)"
   ]
  },
  {
   "cell_type": "code",
   "execution_count": null,
   "id": "ea466aa2-2988-4057-8a8e-3c56655b4e8e",
   "metadata": {},
   "outputs": [],
   "source": [
    "# Проверка наличия ключа:"
   ]
  },
  {
   "cell_type": "code",
   "execution_count": 44,
   "id": "544a455e-f384-4375-9f96-a387cd324daf",
   "metadata": {},
   "outputs": [
    {
     "data": {
      "text/plain": [
       "True"
      ]
     },
     "execution_count": 44,
     "metadata": {},
     "output_type": "execute_result"
    }
   ],
   "source": [
    "'age' in person"
   ]
  },
  {
   "cell_type": "code",
   "execution_count": 47,
   "id": "ce650c18-6d1c-423d-ace8-ff3d8065a0a4",
   "metadata": {},
   "outputs": [
    {
     "data": {
      "text/plain": [
       "True"
      ]
     },
     "execution_count": 47,
     "metadata": {},
     "output_type": "execute_result"
    }
   ],
   "source": [
    "2 in person"
   ]
  },
  {
   "cell_type": "markdown",
   "id": "93150564-99d4-4445-ad67-49eaf90ddd72",
   "metadata": {},
   "source": [
    "### Методы словарей"
   ]
  },
  {
   "cell_type": "code",
   "execution_count": null,
   "id": "50ae5dde-b855-48d3-82b8-f21293341f14",
   "metadata": {},
   "outputs": [],
   "source": [
    "# keys() values() items()"
   ]
  },
  {
   "cell_type": "code",
   "execution_count": 48,
   "id": "deaba9d8-75a5-4e9d-addf-3b431d9880b0",
   "metadata": {},
   "outputs": [
    {
     "data": {
      "text/plain": [
       "dict_keys(['name', 'age', 'city', 'address', 2])"
      ]
     },
     "execution_count": 48,
     "metadata": {},
     "output_type": "execute_result"
    }
   ],
   "source": [
    "person.keys()"
   ]
  },
  {
   "cell_type": "code",
   "execution_count": 49,
   "id": "309c4a2c-5eb6-411a-8a36-24addcf2a300",
   "metadata": {},
   "outputs": [
    {
     "data": {
      "text/plain": [
       "dict_values(['Иван', 30, 'Берлин', 'ул.Новая,2', 3])"
      ]
     },
     "execution_count": 49,
     "metadata": {},
     "output_type": "execute_result"
    }
   ],
   "source": [
    "person.values()"
   ]
  },
  {
   "cell_type": "code",
   "execution_count": 50,
   "id": "1fc3bb7e-c510-44ac-b04f-ee6d86cd6215",
   "metadata": {},
   "outputs": [
    {
     "data": {
      "text/plain": [
       "dict_items([('name', 'Иван'), ('age', 30), ('city', 'Берлин'), ('address', 'ул.Новая,2'), (2, 3)])"
      ]
     },
     "execution_count": 50,
     "metadata": {},
     "output_type": "execute_result"
    }
   ],
   "source": [
    "person.items()"
   ]
  },
  {
   "cell_type": "code",
   "execution_count": 51,
   "id": "95bf0dfc-7ac5-4220-8776-25b55d43d404",
   "metadata": {},
   "outputs": [
    {
     "name": "stdout",
     "output_type": "stream",
     "text": [
      "name\n",
      "age\n",
      "city\n",
      "address\n",
      "2\n"
     ]
    }
   ],
   "source": [
    "for key in person.keys():\n",
    "    print(key)"
   ]
  },
  {
   "cell_type": "code",
   "execution_count": 52,
   "id": "0a893a7c-51da-4f9c-9dbf-4b03813bdb9e",
   "metadata": {},
   "outputs": [
    {
     "name": "stdout",
     "output_type": "stream",
     "text": [
      "Иван\n",
      "30\n",
      "Берлин\n",
      "ул.Новая,2\n",
      "3\n"
     ]
    }
   ],
   "source": [
    "for value in person.values():\n",
    "    print(value)"
   ]
  },
  {
   "cell_type": "code",
   "execution_count": 53,
   "id": "68e073dd-af0b-4eec-8350-b26f2d9c0853",
   "metadata": {},
   "outputs": [
    {
     "name": "stdout",
     "output_type": "stream",
     "text": [
      "name Иван\n",
      "age 30\n",
      "city Берлин\n",
      "address ул.Новая,2\n",
      "2 3\n"
     ]
    }
   ],
   "source": [
    "for key, value in person.items():\n",
    "    print(key, value)"
   ]
  },
  {
   "cell_type": "code",
   "execution_count": null,
   "id": "e0ce865a-18a0-40a9-8601-b998e107cdec",
   "metadata": {},
   "outputs": [],
   "source": [
    "# Безопасные методы get() setdefault()"
   ]
  },
  {
   "cell_type": "code",
   "execution_count": 57,
   "id": "d313b52a-538b-4a7e-a433-c0cd867c723f",
   "metadata": {},
   "outputs": [
    {
     "data": {
      "text/plain": [
       "'Ключа не существует'"
      ]
     },
     "execution_count": 57,
     "metadata": {},
     "output_type": "execute_result"
    }
   ],
   "source": [
    "person.get('ball','Ключа не существует')"
   ]
  },
  {
   "cell_type": "code",
   "execution_count": null,
   "id": "b7ae607d-35e3-4776-b70f-0016698ad1a4",
   "metadata": {},
   "outputs": [],
   "source": [
    "# удаляем ключ и возвращаем значение pop()"
   ]
  },
  {
   "cell_type": "code",
   "execution_count": 58,
   "id": "1c716c4d-a4a7-4dd3-823a-678d3a9aef64",
   "metadata": {},
   "outputs": [
    {
     "name": "stdout",
     "output_type": "stream",
     "text": [
      "{'age': 30, 'city': 'Берлин', 'address': 'ул.Новая,2', 2: 3}\n"
     ]
    }
   ],
   "source": [
    "person.pop('name')\n",
    "print(person)"
   ]
  },
  {
   "cell_type": "code",
   "execution_count": 59,
   "id": "ee5e85b5-af1d-4f37-8e9c-2d1a6eb52989",
   "metadata": {},
   "outputs": [
    {
     "name": "stdout",
     "output_type": "stream",
     "text": [
      "{'age': 30, 'address': 'ул.Новая,2', 2: 3} Берлин\n"
     ]
    }
   ],
   "source": [
    "v = person.pop('city')\n",
    "print(person, v)\n"
   ]
  },
  {
   "cell_type": "code",
   "execution_count": null,
   "id": "ea8cdbda-a989-4f80-a32a-c7409b871a33",
   "metadata": {},
   "outputs": [],
   "source": [
    "# .popitem() Удаляет и возвращает последнюю пару \"ключ: значение\" (в Python 3.7+ словари сохраняют порядок добавления)."
   ]
  },
  {
   "cell_type": "code",
   "execution_count": 67,
   "id": "a657a22b-b08d-46c9-978e-f40870953cb5",
   "metadata": {},
   "outputs": [
    {
     "ename": "TypeError",
     "evalue": "dict.popitem() takes no keyword arguments",
     "output_type": "error",
     "traceback": [
      "\u001b[1;31m---------------------------------------------------------------------------\u001b[0m",
      "\u001b[1;31mTypeError\u001b[0m                                 Traceback (most recent call last)",
      "Cell \u001b[1;32mIn[67], line 6\u001b[0m\n\u001b[0;32m      1\u001b[0m person \u001b[38;5;241m=\u001b[39m {\n\u001b[0;32m      2\u001b[0m     \u001b[38;5;124m\"\u001b[39m\u001b[38;5;124mname\u001b[39m\u001b[38;5;124m\"\u001b[39m: \u001b[38;5;124m\"\u001b[39m\u001b[38;5;124mИван\u001b[39m\u001b[38;5;124m\"\u001b[39m,\n\u001b[0;32m      3\u001b[0m     \u001b[38;5;124m\"\u001b[39m\u001b[38;5;124mage\u001b[39m\u001b[38;5;124m\"\u001b[39m: \u001b[38;5;241m30\u001b[39m,\n\u001b[0;32m      4\u001b[0m     \u001b[38;5;124m\"\u001b[39m\u001b[38;5;124mcity\u001b[39m\u001b[38;5;124m\"\u001b[39m: \u001b[38;5;124m\"\u001b[39m\u001b[38;5;124mМосква\u001b[39m\u001b[38;5;124m\"\u001b[39m\n\u001b[0;32m      5\u001b[0m }\n\u001b[1;32m----> 6\u001b[0m person\u001b[38;5;241m.\u001b[39mpopitem(last \u001b[38;5;241m=\u001b[39m \u001b[38;5;28;01mFalse\u001b[39;00m)\n",
      "\u001b[1;31mTypeError\u001b[0m: dict.popitem() takes no keyword arguments"
     ]
    }
   ],
   "source": [
    "person = {\n",
    "    \"name\": \"Иван\",\n",
    "    \"age\": 30,\n",
    "    \"city\": \"Москва\"\n",
    "}\n",
    "person.popitem(last = False)"
   ]
  },
  {
   "cell_type": "code",
   "execution_count": 68,
   "id": "624ae4fb-0dd1-4e1b-a815-09a9c99a3ddc",
   "metadata": {},
   "outputs": [
    {
     "name": "stdout",
     "output_type": "stream",
     "text": [
      "{'name': 'Иван', 'age': 30}\n"
     ]
    }
   ],
   "source": [
    "person = {\n",
    "    \"name\": \"Иван\",\n",
    "    \"age\": 30,\n",
    "    \"city\": \"Москва\"\n",
    "}\n",
    "person.popitem()\n",
    "print(person)"
   ]
  },
  {
   "cell_type": "code",
   "execution_count": 61,
   "id": "45a338dd-f90b-4e79-a325-b84528eb85e6",
   "metadata": {},
   "outputs": [
    {
     "name": "stdout",
     "output_type": "stream",
     "text": [
      "{'age': 30, 'address': 'ул.Новая,2'}\n"
     ]
    }
   ],
   "source": [
    "print(person)"
   ]
  },
  {
   "cell_type": "code",
   "execution_count": null,
   "id": "bd4117b9-1215-42c5-89f5-b5210eab4abc",
   "metadata": {},
   "outputs": [],
   "source": []
  },
  {
   "cell_type": "code",
   "execution_count": null,
   "id": "f63fb7a7-ac93-4142-ba2b-2edccaf927f2",
   "metadata": {},
   "outputs": [],
   "source": [
    "# clear() Очищает словарь, удаляя все элементы"
   ]
  },
  {
   "cell_type": "code",
   "execution_count": 62,
   "id": "7ae9fdb7-2337-4aba-a01c-41a5b7597c61",
   "metadata": {},
   "outputs": [],
   "source": [
    "person.clear()"
   ]
  },
  {
   "cell_type": "code",
   "execution_count": 63,
   "id": "9038b479-1c69-4058-80a0-bbf67a9b8c00",
   "metadata": {},
   "outputs": [
    {
     "name": "stdout",
     "output_type": "stream",
     "text": [
      "{}\n"
     ]
    }
   ],
   "source": [
    "print(person)"
   ]
  },
  {
   "cell_type": "code",
   "execution_count": 64,
   "id": "ae3c5185-370c-4cec-a1f3-0d6bff1e2216",
   "metadata": {},
   "outputs": [
    {
     "name": "stdout",
     "output_type": "stream",
     "text": [
      "{'a': 1, 'b': 2, 'c': 3}\n"
     ]
    }
   ],
   "source": [
    "# Создание словаря из списков\n",
    "keys = [\"a\", \"b\", \"c\"]\n",
    "values = [1, 2, 3]\n",
    "new_dict = dict(zip(keys, values))\n",
    "print(new_dict) "
   ]
  },
  {
   "cell_type": "markdown",
   "id": "0baa8331-3bdd-43fc-b228-a08b99dc1772",
   "metadata": {},
   "source": [
    "### OrderedDict\n",
    "После Python 3.7 OrderedDict потерял свою уникальность в плане сохранения порядка, но всё ещё может быть полезен в определённых сценариях. Если вам не нужны его дополнительные методы или обратная совместимость, смело используйте обычный dict. 😊"
   ]
  },
  {
   "cell_type": "markdown",
   "id": "c2c93fd4-4f58-43d9-841c-8d9df7211401",
   "metadata": {},
   "source": [
    "### LRU-кэш"
   ]
  },
  {
   "cell_type": "markdown",
   "id": "6cdaec46-58c5-4064-8c37-898dfdd69a50",
   "metadata": {},
   "source": [
    "это механизм кэширования, который хранит ограниченное количество элементов и автоматически удаляет самый давно неиспользованный элемент при превышении лимита размера.\n"
   ]
  },
  {
   "cell_type": "code",
   "execution_count": 69,
   "id": "da72e527-c873-421e-bdaf-5162a2a37a62",
   "metadata": {},
   "outputs": [
    {
     "name": "stdout",
     "output_type": "stream",
     "text": [
      "OrderedDict({'key1': 'value1', 'key2': 'value2', 'key3': 'value3'})\n",
      "OrderedDict({'key1': 'value1', 'key3': 'value3', 'key2': 'new_value2'})\n",
      "OrderedDict({'key3': 'value3', 'key2': 'new_value2', 'key4': 'value4'})\n"
     ]
    }
   ],
   "source": [
    "from collections import OrderedDict\n",
    "\n",
    "def lru_cache(capacity, cache, key, value): # capacity - объем кеша, cache - кеш (обычный словарь)\n",
    "    if key in cache:\n",
    "        cache.pop(key)\n",
    "    elif len(cache) >= capacity:\n",
    "        cache.popitem(last=False)# Если кэш переполнен, удаляем первый элемент (самый старый)\n",
    "    cache[key] = value\n",
    "\n",
    "capacity = 3\n",
    "cache = OrderedDict()\n",
    "\n",
    "lru_cache(capacity, cache, \"key1\", \"value1\")\n",
    "lru_cache(capacity, cache, \"key2\", \"value2\")\n",
    "lru_cache(capacity, cache, \"key3\", \"value3\")\n",
    "\n",
    "print(cache) \n",
    "\n",
    "lru_cache(capacity, cache, \"key2\", \"new_value2\") \n",
    "print(cache)  \n",
    "\n",
    "lru_cache(capacity, cache, \"key4\", \"value4\")  \n",
    "print(cache)  "
   ]
  },
  {
   "cell_type": "markdown",
   "id": "0e31862a-2b49-4ca9-a265-8fc8d2f90a15",
   "metadata": {},
   "source": [
    "### Класс defaultdict"
   ]
  },
  {
   "cell_type": "markdown",
   "id": "290896b6-3459-4edd-a550-b90ec7ce9afd",
   "metadata": {},
   "source": [
    "это класс, представляющий словарь, который автоматически создает значения для несуществующих ключей при первом обращении."
   ]
  },
  {
   "cell_type": "code",
   "execution_count": 70,
   "id": "91c7c0fe-eaf6-4e52-97c0-a282b9660253",
   "metadata": {},
   "outputs": [],
   "source": [
    "# Подсчитываем количество вхождений элементов в списке\n",
    "words = ['apple', 'banana', 'apple', 'orange', 'banana', 'apple']"
   ]
  },
  {
   "cell_type": "code",
   "execution_count": 71,
   "id": "8fa3b451-854b-4529-8ee9-88cf565944ac",
   "metadata": {},
   "outputs": [
    {
     "name": "stdout",
     "output_type": "stream",
     "text": [
      "defaultdict(<class 'int'>, {'apple': 3, 'banana': 2, 'orange': 1})\n"
     ]
    }
   ],
   "source": [
    "from collections import defaultdict\n",
    "\n",
    "# Создаём defaultdict с фабричной функцией int (по умолчанию 0)\n",
    "dd = defaultdict(int)\n",
    "\n",
    "for word in words:\n",
    "    dd[word] += 1\n",
    "\n",
    "print(dd)"
   ]
  },
  {
   "cell_type": "markdown",
   "id": "5554b6ed-4f09-455b-86d4-e113dffb05d7",
   "metadata": {},
   "source": [
    "### Класс counter"
   ]
  },
  {
   "cell_type": "code",
   "execution_count": 72,
   "id": "d8428688-e466-4f4b-bf7f-ebe0125d7171",
   "metadata": {},
   "outputs": [
    {
     "name": "stdout",
     "output_type": "stream",
     "text": [
      "Counter({'apple': 3, 'banana': 2, 'orange': 1})\n"
     ]
    }
   ],
   "source": [
    "from collections import Counter\n",
    "\n",
    "my_counter = Counter(words)\n",
    "print(my_counter)   "
   ]
  },
  {
   "cell_type": "code",
   "execution_count": 73,
   "id": "02066c61-82c3-4a13-a073-bac60a710736",
   "metadata": {},
   "outputs": [
    {
     "name": "stdout",
     "output_type": "stream",
     "text": [
      "Counter({'а': 5, 'б': 2, 'р': 2, 'к': 1, 'д': 1})\n"
     ]
    }
   ],
   "source": [
    "str = 'абракадабра'\n",
    "print(Counter(str))"
   ]
  },
  {
   "cell_type": "markdown",
   "id": "dd6846a7-ab87-4d2d-88f4-eb56b446f7f5",
   "metadata": {},
   "source": [
    "### Класс namedtuple"
   ]
  },
  {
   "cell_type": "code",
   "execution_count": 75,
   "id": "c6144296-7060-4421-9609-261b2866d16d",
   "metadata": {},
   "outputs": [
    {
     "name": "stdout",
     "output_type": "stream",
     "text": [
      "Point(x=10, y=20)\n"
     ]
    }
   ],
   "source": [
    "from collections import namedtuple\n",
    "\n",
    "# Создаём namedtuple с именем \"Point\" и полями \"x\" и \"y\"\n",
    "Point = namedtuple('Point', ['x', 'y'])\n",
    "\n",
    "# Создаём экземпляр Point\n",
    "p1 = Point(10, 20)\n",
    "\n",
    "print(p1)"
   ]
  },
  {
   "cell_type": "code",
   "execution_count": 76,
   "id": "fcf0a909-0fcc-4892-a3a5-f999ffa8a8f3",
   "metadata": {},
   "outputs": [
    {
     "name": "stdout",
     "output_type": "stream",
     "text": [
      "18.788294228055936\n"
     ]
    }
   ],
   "source": [
    "p2 = Point(2,3)\n",
    "\n",
    "dist = ((p1.x - p2.x)**2 + (p1.y - p2.y)**2)**0.5\n",
    "print(dist)\n"
   ]
  },
  {
   "cell_type": "markdown",
   "id": "877b02b1-4bac-4270-9d78-a29bc064d7dc",
   "metadata": {},
   "source": [
    "## Практика"
   ]
  },
  {
   "cell_type": "markdown",
   "id": "7e7ce6eb-f6ce-4d54-81a9-5d57ba8220d6",
   "metadata": {},
   "source": [
    "Дан большой текстовый файл с множеством слов. \n",
    "Как посчитать количество уникальных слов в этом файле?\n",
    "https://github.com/trivolt/ICH_Python/blob/3cf46fc5fbc0d2f48a5aa40be3e71575a2568507/data/data.txt"
   ]
  },
  {
   "cell_type": "code",
   "execution_count": 79,
   "id": "b88eb6c1-3daf-4822-ad3c-d169fd180636",
   "metadata": {},
   "outputs": [
    {
     "name": "stdout",
     "output_type": "stream",
     "text": [
      "Counter({'Salak': 4, 'Apple': 2, 'Banana': 2, 'Orange': 2, 'Mango': 2, 'Grapes': 2, 'Pineapple': 2, 'Strawberry': 2, 'Blueberry': 2, 'Raspberry': 2, 'Cherry': 2, 'Peach': 2, 'Plum': 2, 'Apricot': 2, 'Kiwi': 2, 'Lemon': 2, 'Lime': 2, 'Watermelon': 2, 'Cantaloupe': 2, 'Blackberry': 2, 'Cranberry': 2, 'Pomegranate': 2, 'Papaya': 2, 'Guava': 2, 'Passionfruit': 2, 'Fig': 2, 'Date': 2, 'Persimmon': 2, 'Nectarine': 2, 'Coconut': 2, 'Avocado': 2, 'Grapefruit': 2, 'Tangerine': 2, 'Mandarin': 2, 'Quince': 2, 'Currant': 2, 'Gooseberry': 2, 'Elderberry': 2, 'Lychee': 2, 'Longan': 2, 'Rambutan': 2, 'Durian': 2, 'Jackfruit': 2, 'Starfruit': 2, 'Kumquat': 2, 'Loquat': 2, 'Mangosteen': 2, 'Acai': 2, 'Goji': 2, 'Jujube': 2, 'Feijoa': 2, 'Soursop': 2, 'Custard Apple': 2, 'Breadfruit': 2, 'Dragonfruit': 2, 'Honeydew': 2, 'Loganberry': 2, 'Boysenberry': 2, 'Cloudberry': 2, 'Salmonberry': 2, 'Huckleberry': 2, 'Mulberry': 2, 'Miracle Fruit': 2, 'Sapodilla': 2, 'Jabuticaba': 2, 'Cherimoya': 2, 'Pitaya': 2, 'Ugli Fruit': 2, 'Santol': 2, 'Langsat': 2, 'Marula': 2, 'Acerola': 2, 'Jambul': 2, 'Pulasan': 2, 'Chayote': 2, 'Sapote': 2, 'Tamarillo': 2, 'Salal Berry': 2, 'Carambola': 2, 'Bilberry': 2, 'Barbados Cherry': 2})\n"
     ]
    }
   ],
   "source": [
    "from collections import Counter\n",
    "\n",
    "file = open('C:/Users/dplog/Python/data/data.txt','r',encoding='utf-8')\n",
    "res_dct = Counter([line.strip() for line in file.readlines()])\n",
    "print(res_dct)\n"
   ]
  },
  {
   "cell_type": "code",
   "execution_count": 81,
   "id": "86784429-4761-4328-aedd-291f724c5039",
   "metadata": {},
   "outputs": [
    {
     "name": "stdout",
     "output_type": "stream",
     "text": [
      "['Apple\\n', 'Banana\\n', 'Orange\\n', 'Mango\\n', 'Grapes\\n', 'Pineapple\\n', 'Strawberry\\n', 'Blueberry\\n', 'Raspberry\\n', 'Cherry\\n', 'Peach\\n', 'Plum\\n', 'Apricot\\n', 'Kiwi\\n', 'Lemon\\n', 'Lime\\n', 'Watermelon\\n', 'Cantaloupe\\n', 'Blackberry\\n', 'Cranberry\\n', 'Pomegranate\\n', 'Papaya\\n', 'Guava\\n', 'Passionfruit\\n', 'Fig\\n', 'Date\\n', 'Persimmon\\n', 'Nectarine\\n', 'Coconut\\n', 'Avocado\\n', 'Grapefruit\\n', 'Tangerine\\n', 'Mandarin\\n', 'Quince\\n', 'Currant\\n', 'Gooseberry\\n', 'Elderberry\\n', 'Lychee\\n', 'Longan\\n', 'Rambutan\\n', 'Durian\\n', 'Jackfruit\\n', 'Starfruit\\n', 'Kumquat\\n', 'Loquat\\n', 'Salak\\n', 'Mangosteen\\n', 'Acai\\n', 'Goji\\n', 'Jujube\\n', 'Feijoa\\n', 'Soursop\\n', 'Custard Apple\\n', 'Breadfruit\\n', 'Dragonfruit\\n', 'Honeydew\\n', 'Loganberry\\n', 'Boysenberry\\n', 'Cloudberry\\n', 'Salmonberry\\n', 'Huckleberry\\n', 'Mulberry\\n', 'Miracle Fruit\\n', 'Sapodilla\\n', 'Salak\\n', 'Jabuticaba\\n', 'Cherimoya\\n', 'Pitaya\\n', 'Ugli Fruit\\n', 'Santol\\n', 'Langsat\\n', 'Marula\\n', 'Acerola\\n', 'Jambul\\n', 'Pulasan\\n', 'Chayote\\n', 'Sapote\\n', 'Tamarillo\\n', 'Salal Berry\\n', 'Carambola\\n', 'Bilberry\\n', 'Barbados Cherry\\n', 'Apple\\n', 'Banana\\n', 'Orange\\n', 'Mango\\n', 'Grapes\\n', 'Pineapple\\n', 'Strawberry\\n', 'Blueberry\\n', 'Raspberry\\n', 'Cherry\\n', 'Peach\\n', 'Plum\\n', 'Apricot\\n', 'Kiwi\\n', 'Lemon\\n', 'Lime\\n', 'Watermelon\\n', 'Cantaloupe\\n', 'Blackberry\\n', 'Cranberry\\n', 'Pomegranate\\n', 'Papaya\\n', 'Guava\\n', 'Passionfruit\\n', 'Fig\\n', 'Date\\n', 'Persimmon\\n', 'Nectarine\\n', 'Coconut\\n', 'Avocado\\n', 'Grapefruit\\n', 'Tangerine\\n', 'Mandarin\\n', 'Quince\\n', 'Currant\\n', 'Gooseberry\\n', 'Elderberry\\n', 'Lychee\\n', 'Longan\\n', 'Rambutan\\n', 'Durian\\n', 'Jackfruit\\n', 'Starfruit\\n', 'Kumquat\\n', 'Loquat\\n', 'Salak\\n', 'Mangosteen\\n', 'Acai\\n', 'Goji\\n', 'Jujube\\n', 'Feijoa\\n', 'Soursop\\n', 'Custard Apple\\n', 'Breadfruit\\n', 'Dragonfruit\\n', 'Honeydew\\n', 'Loganberry\\n', 'Boysenberry\\n', 'Cloudberry\\n', 'Salmonberry\\n', 'Huckleberry\\n', 'Mulberry\\n', 'Miracle Fruit\\n', 'Sapodilla\\n', 'Salak\\n', 'Jabuticaba\\n', 'Cherimoya\\n', 'Pitaya\\n', 'Ugli Fruit\\n', 'Santol\\n', 'Langsat\\n', 'Marula\\n', 'Acerola\\n', 'Jambul\\n', 'Pulasan\\n', 'Chayote\\n', 'Sapote\\n', 'Tamarillo\\n', 'Salal Berry\\n', 'Carambola\\n', 'Bilberry\\n', 'Barbados Cherry']\n"
     ]
    }
   ],
   "source": [
    "file = open('C:/Users/dplog/Python/data/data.txt','r',encoding='utf-8')\n",
    "print(file.readlines())"
   ]
  },
  {
   "cell_type": "code",
   "execution_count": null,
   "id": "5001b903-f09f-4e91-a4ed-abda3a1c0914",
   "metadata": {},
   "outputs": [],
   "source": []
  },
  {
   "cell_type": "code",
   "execution_count": null,
   "id": "7155d0c9-3119-4321-aef5-1e2849c1d66c",
   "metadata": {},
   "outputs": [],
   "source": []
  },
  {
   "cell_type": "code",
   "execution_count": null,
   "id": "0852d9b7-0937-4641-ad74-e97b2f48c643",
   "metadata": {},
   "outputs": [],
   "source": [
    "# Дорешиваем задачу c Python 21"
   ]
  },
  {
   "cell_type": "code",
   "execution_count": null,
   "id": "bb61d822-dfbe-429a-bd3d-30e1be0a0ab0",
   "metadata": {},
   "outputs": [],
   "source": []
  },
  {
   "cell_type": "markdown",
   "id": "1d037bda-5420-44b6-95a1-ec8d16647ea6",
   "metadata": {},
   "source": [
    "## Исключения : обработка ошибок"
   ]
  },
  {
   "cell_type": "code",
   "execution_count": 82,
   "id": "507351d4-2b5a-4531-b788-3bd62ee03c39",
   "metadata": {},
   "outputs": [
    {
     "ename": "TypeError",
     "evalue": "unsupported operand type(s) for +: 'int' and 'str'",
     "output_type": "error",
     "traceback": [
      "\u001b[1;31m---------------------------------------------------------------------------\u001b[0m",
      "\u001b[1;31mTypeError\u001b[0m                                 Traceback (most recent call last)",
      "Cell \u001b[1;32mIn[82], line 3\u001b[0m\n\u001b[0;32m      1\u001b[0m a \u001b[38;5;241m=\u001b[39m \u001b[38;5;241m2\u001b[39m\n\u001b[0;32m      2\u001b[0m b \u001b[38;5;241m=\u001b[39m \u001b[38;5;124m'\u001b[39m\u001b[38;5;124mдва\u001b[39m\u001b[38;5;124m'\u001b[39m\n\u001b[1;32m----> 3\u001b[0m \u001b[38;5;28mprint\u001b[39m(a \u001b[38;5;241m+\u001b[39m b)\n",
      "\u001b[1;31mTypeError\u001b[0m: unsupported operand type(s) for +: 'int' and 'str'"
     ]
    }
   ],
   "source": [
    "a = 2\n",
    "b = 'два'\n",
    "print(a + b)"
   ]
  },
  {
   "cell_type": "code",
   "execution_count": 83,
   "id": "c6c0e6fa-d7e5-42f2-ab71-2b6caf04981a",
   "metadata": {},
   "outputs": [
    {
     "ename": "ValueError",
     "evalue": "Недопустимое значение",
     "output_type": "error",
     "traceback": [
      "\u001b[1;31m---------------------------------------------------------------------------\u001b[0m",
      "\u001b[1;31mValueError\u001b[0m                                Traceback (most recent call last)",
      "Cell \u001b[1;32mIn[83], line 1\u001b[0m\n\u001b[1;32m----> 1\u001b[0m \u001b[38;5;28;01mraise\u001b[39;00m \u001b[38;5;167;01mValueError\u001b[39;00m(\u001b[38;5;124m'\u001b[39m\u001b[38;5;124mНедопустимое значение\u001b[39m\u001b[38;5;124m'\u001b[39m)\n",
      "\u001b[1;31mValueError\u001b[0m: Недопустимое значение"
     ]
    }
   ],
   "source": [
    "raise ValueError('Недопустимое значение')"
   ]
  },
  {
   "cell_type": "code",
   "execution_count": 84,
   "id": "ea2d0d3c-cdd4-4504-9875-c36d48c47357",
   "metadata": {},
   "outputs": [
    {
     "name": "stdout",
     "output_type": "stream",
     "text": [
      "Переменная не определена.\n"
     ]
    }
   ],
   "source": [
    "try:\n",
    "    print(undefined_variable)\n",
    "except NameError:\n",
    "   print('Переменная не определена.')"
   ]
  },
  {
   "cell_type": "code",
   "execution_count": 85,
   "id": "fc968a38-4357-4267-b3cb-512ba3d85b4e",
   "metadata": {},
   "outputs": [
    {
     "name": "stdout",
     "output_type": "stream",
     "text": [
      "0\n"
     ]
    }
   ],
   "source": [
    "undefined_variable = 0\n",
    "try:\n",
    "    print(undefined_variable)\n",
    "except NameError:\n",
    "   print('Переменная не определена.')"
   ]
  },
  {
   "cell_type": "code",
   "execution_count": null,
   "id": "178269c7-f7f0-4f70-a382-e40354c3c84a",
   "metadata": {},
   "outputs": [],
   "source": [
    "file = open(\"data.txt\", \"w\")\n",
    "try:\n",
    "    file.write(\"Lorum Ipsum\")\n",
    "except:\n",
    "    print(\"Запись не удалась\")\n",
    "finally:\n",
    "    file.close()"
   ]
  },
  {
   "cell_type": "code",
   "execution_count": null,
   "id": "c75ac988-1c83-4104-a73c-f68b72a01406",
   "metadata": {},
   "outputs": [],
   "source": []
  },
  {
   "cell_type": "code",
   "execution_count": null,
   "id": "7f65d686-1c8d-4287-8451-ccbc88192a89",
   "metadata": {},
   "outputs": [],
   "source": [
    "try:\n",
    "    n = int(input('Введите число: '))\n",
    "except ValueError:\n",
    "    print('Это не число!')\n",
    "else:\n",
    "    print(f'Вы ввели число {n}')"
   ]
  },
  {
   "cell_type": "markdown",
   "id": "37d33751-e940-4ba6-b846-84994224a705",
   "metadata": {},
   "source": [
    "### Как игнорировать ошибки в Python?"
   ]
  },
  {
   "cell_type": "code",
   "execution_count": 86,
   "id": "8072ef11-f323-416d-9793-7fac9a575a46",
   "metadata": {},
   "outputs": [
    {
     "name": "stdout",
     "output_type": "stream",
     "text": [
      "0.25\n",
      "0.5\n",
      "-1.0\n",
      "-0.3333333333333333\n"
     ]
    }
   ],
   "source": [
    "lst = [4, 2, 0, -1, -3]\n",
    "for j in lst:     \n",
    "    try:\n",
    "        print(1/j)  # Вызовет ZeroDivisionError\n",
    "    except ZeroDivisionError:\n",
    "        pass"
   ]
  },
  {
   "cell_type": "markdown",
   "id": "9b5f3b0f-ff23-4689-9889-72722c692605",
   "metadata": {},
   "source": [
    "### Практика"
   ]
  },
  {
   "cell_type": "markdown",
   "id": "12620236-6de4-48b3-9601-ccee62b37e29",
   "metadata": {},
   "source": [
    "Функция plus_two() выполняет одну простую задачу — выводит результат сложения переданного в нее числа 2 и значения переменной number. В переменную number должно быть передано число. Обработайте ситуацию, если в эту переменную переданы данные какого-то другого типа. В случае ошибки напечатайте в консоли сообщение «Ожидаемый тип данных — число!»."
   ]
  },
  {
   "cell_type": "code",
   "execution_count": 88,
   "id": "b7324163-482d-4b85-bd2b-87ff0877ce30",
   "metadata": {},
   "outputs": [
    {
     "name": "stdout",
     "output_type": "stream",
     "text": [
      "5\n"
     ]
    }
   ],
   "source": [
    "a = 2\n",
    "b = 'два'\n",
    "try: \n",
    "    print(a + b)\n",
    "except:\n",
    "    print('Ожидаемый тип данных — число!')\n",
    "\n"
   ]
  },
  {
   "cell_type": "code",
   "execution_count": null,
   "id": "1da0ccc2-cfe0-4115-bd8d-d5f9c2285333",
   "metadata": {},
   "outputs": [],
   "source": []
  },
  {
   "cell_type": "code",
   "execution_count": null,
   "id": "abdec171-73e7-4d96-8d6c-150df1a20b02",
   "metadata": {},
   "outputs": [],
   "source": []
  },
  {
   "cell_type": "markdown",
   "id": "2faf1c73-c347-4e14-ab83-ec6f31d47919",
   "metadata": {},
   "source": [
    "### ДЗ 21"
   ]
  },
  {
   "cell_type": "markdown",
   "id": "64671701-86e3-49e5-9708-cbdb1bb42c4a",
   "metadata": {},
   "source": [
    "1. Напишите программу, которая подсчитывает количество вхождений каждого слова в тексте и выводит на экран наиболее часто встречающиеся слова. Для решения задачи используйте класс Counter из модуля collections. Создайте функцию count_words, которая принимает текст в качестве аргумента и возвращает словарь с количеством вхождений каждого слова. Выведите наиболее часто встречающиеся слова и их количество.\n",
    "\n",
    "Пример вывода:\n",
    "\n",
    "Введенный текст: Lorem ipsum dolor sit amet, consectetur adipiscing elit. Sed sed lacinia est.\n",
    "\n",
    "sed: 2\n",
    "\n",
    "Lorem: 1\n"
   ]
  },
  {
   "cell_type": "code",
   "execution_count": null,
   "id": "b00f62e1-c4f9-48b4-b8fb-f0559b4322c3",
   "metadata": {},
   "outputs": [],
   "source": [
    "from collections import Counter\n",
    "\n",
    "def count_words(text):\n",
    "    t=text.lower().replace(\",\",\"\").replace(\".\",\"\").split()\n",
    "    return Counter(t).items()\n",
    "\n",
    "s=input(\"Введите текст: \")\n",
    "c=sorted(count_words(s), key=lambda x: x[1], reverse=True)\n",
    "for i in c[:3]:\n",
    "    print(f\"{i[0]}: {i[1]}\")\n"
   ]
  },
  {
   "cell_type": "markdown",
   "id": "997adc18-98b7-40cf-84d8-9fbcf670e1c2",
   "metadata": {},
   "source": [
    "2. Напишите программу, которая создает именованный кортеж Person для хранения информации о человеке, включающий поля name, age и city. Создайте список объектов Person и выведите информацию о каждом человеке на экран.\n",
    "\n",
    "Пример вывода:\n",
    "\n",
    "Name: Alice, Age: 25, City: New York\n",
    "\n",
    "Name: Bob, Age: 30, City: London\n",
    "\n",
    "Name: Carol, Age: 35, City: Paris\n"
   ]
  },
  {
   "cell_type": "code",
   "execution_count": 89,
   "id": "3e4cfdc8-449f-4f5a-bf15-0e60b17d4ef6",
   "metadata": {},
   "outputs": [
    {
     "name": "stdout",
     "output_type": "stream",
     "text": [
      "Name: Alice, Age: 25, City: New York\n",
      "Name: Bob, Age: 30, City: London\n",
      "Name: Carol, Age: 35, City: Paris\n"
     ]
    }
   ],
   "source": [
    "from collections import namedtuple\n",
    "\n",
    "Person = namedtuple(\"Person\", [\"name\", \"age\", \"city\"])\n",
    "\n",
    "p = [Person(\"Alice\", 25, \"New York\"),\n",
    "     Person(\"Bob\", 30, \"London\"),\n",
    "     Person(\"Carol\", 35, \"Paris\")]\n",
    "for i in p:\n",
    "    name, age, city = i\n",
    "    print(f\"Name: {name}, Age: {age}, City: {city}\")"
   ]
  },
  {
   "cell_type": "markdown",
   "id": "52f1c2a9-269e-44dd-aa34-2c76b6a8ee86",
   "metadata": {},
   "source": [
    "3. Напишите программу, которая принимает словарь от пользователя и ключ, и возвращает значение для указанного ключа с использованием метода get или setdefault. Создайте функцию get_value_from_dict, которая принимает словарь и ключ в качестве аргументов, и возвращает значение для указанного ключа, используя метод get или setdefault в зависимости от выбранного варианта. Выведите полученное значение на экран.\n",
    "\n",
    "Пример словаря:\n",
    "\n",
    "my_dict = {'apple': 5, 'banana': 6, 'cherry': 7}\n",
    "\n",
    "Пример вывода:\n",
    "\n",
    "Введите ключ для поиска: banana\n",
    "\n",
    "Использовать метод get (y/n)? y\n",
    "\n",
    "Значение для ключа 'banana': 6\n"
   ]
  },
  {
   "cell_type": "code",
   "execution_count": null,
   "id": "cb4e02b3-3319-4247-9236-da5fc641c72a",
   "metadata": {},
   "outputs": [],
   "source": [
    "def get_value_from_dict(dict,key,method):\n",
    "    if method:\n",
    "        return dict.get(key)\n",
    "    return dict.setdefault(key,0)\n",
    "    \n",
    "my_dict = {'apple': 5, 'banana': 6, 'cherry': 7}\n",
    "\n",
    "k=input(\"Введите ключ для поиска: \")\n",
    "m=True if input(\"Использовать метод get (y/n)? \").lower()==\"y\" else False\n",
    "\n",
    "print(f\"Значение для ключа '{k}': {get_value_from_dict(my_dict,k,m)}\")\n"
   ]
  },
  {
   "cell_type": "markdown",
   "id": "b2a65323-23ac-4630-8eaf-b5df65a2bbfe",
   "metadata": {},
   "source": [
    "### ДЗ 22"
   ]
  },
  {
   "cell_type": "markdown",
   "id": "020212f8-b0e4-41b3-97a6-81127f4d2b89",
   "metadata": {},
   "source": [
    "1. Напишите программу, которая запрашивает у пользователя число и проверяет, является ли оно положительным. \n",
    "Если число отрицательное, выбросите исключение ValueError с сообщением: \"Число должно быть положительным\". \n",
    "Обработайте исключение и выведите соответствующее сообщение.\n"
   ]
  },
  {
   "cell_type": "code",
   "execution_count": 91,
   "id": "e010ea02-4026-4cbf-b02a-bc4c06a9087f",
   "metadata": {},
   "outputs": [
    {
     "name": "stdin",
     "output_type": "stream",
     "text": [
      "Введите положительное число:  5\n"
     ]
    },
    {
     "name": "stdout",
     "output_type": "stream",
     "text": [
      "Вы ввели 5\n"
     ]
    }
   ],
   "source": [
    "x=int(input(\"Введите положительное число: \"))\n",
    "if x<0:\n",
    "    raise ValueError(\"Число должно быть положительным\")\n",
    "else:\n",
    "    print(\"Вы ввели\", x)\n"
   ]
  },
  {
   "cell_type": "markdown",
   "id": "d4233ad6-9f98-4e7a-a4e4-abd36b96a819",
   "metadata": {},
   "source": [
    "2. Напишите программу, которая открывает файл, считывает его содержимое и выполняет операции над числами в файле.\n",
    "Обработайте возможные исключения при открытии файла (FileNotFoundError) и при выполнении операций над числами (ValueError, ZeroDivisionError). \n",
    "Используйте конструкцию try-except-finally для обработки исключений и закрытия файла в блоке finally."
   ]
  },
  {
   "cell_type": "code",
   "execution_count": null,
   "id": "21bdf522-bad5-43f6-b89f-ef56b7bc3cb0",
   "metadata": {},
   "outputs": [],
   "source": [
    "try:\n",
    "    f=open(\"hw22.txt\",\"r\")\n",
    "except FileNotFoundError:\n",
    "    print(\"Файл не найден\")\n",
    "else:\n",
    "    try:\n",
    "        s=[int(i) for i in f.readlines()]\n",
    "        print(s[0]/s[1])\n",
    "    except ValueError:\n",
    "        print(\"Некорректные данные в файле\")\n",
    "    except ZeroDivisionError:\n",
    "        print(\"Делить на ноль нельзя\")\n",
    "    finally:\n",
    "        f.close()\n"
   ]
  },
  {
   "cell_type": "code",
   "execution_count": null,
   "id": "a0a1ffcd-7906-4ad9-8711-b64ed75102f0",
   "metadata": {},
   "outputs": [],
   "source": []
  }
 ],
 "metadata": {
  "kernelspec": {
   "display_name": "Python 3 (ipykernel)",
   "language": "python",
   "name": "python3"
  },
  "language_info": {
   "codemirror_mode": {
    "name": "ipython",
    "version": 3
   },
   "file_extension": ".py",
   "mimetype": "text/x-python",
   "name": "python",
   "nbconvert_exporter": "python",
   "pygments_lexer": "ipython3",
   "version": "3.12.4"
  }
 },
 "nbformat": 4,
 "nbformat_minor": 5
}
