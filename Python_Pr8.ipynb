{
 "cells": [
  {
   "cell_type": "markdown",
   "id": "184764fa-0283-44d3-a808-4dd0ed94917f",
   "metadata": {},
   "source": [
    "# Практикум 8"
   ]
  },
  {
   "cell_type": "markdown",
   "id": "fadc17ff-a877-42e7-aeca-5293a61dbe23",
   "metadata": {},
   "source": [
    "1. Дано предложение из слов, разделенных пробелами. Написать функцию transform(), которая принимает такое предложение и возвращает аналогичное, но где все слова длины 3 в этом предложении - заглавными буквами. Пример: “The quick brown fox jumps over the lazy dog” -> “THE quick brown FOX jumps over THE lazy DOG”.\n",
    "\n",
    "   ***Подсказка:*** решение в лоб может использовать цикл.\n",
    "\n"
   ]
  },
  {
   "cell_type": "code",
   "execution_count": null,
   "id": "2f814ad5-ea65-41be-93eb-ff2bacfd2baf",
   "metadata": {},
   "outputs": [],
   "source": [
    "def transform(sentence):\n",
    "    words = sentence.split()\n",
    "    transformed_words = []\n",
    "    for word in words:\n",
    "        if len(word) == 3:\n",
    "            transformed_words.append(word.upper())\n",
    "        else:\n",
    "            transformed_words.append(word)\n",
    "    return \" \".join(transformed_words)"
   ]
  },
  {
   "cell_type": "code",
   "execution_count": 1,
   "id": "ccf148fd-2a4f-4304-8b15-63e9f41b6158",
   "metadata": {},
   "outputs": [],
   "source": [
    "def transform(s):\n",
    "   return ' '.join([word.upper() if len(word)==3 else word for word in s.split()])    "
   ]
  },
  {
   "cell_type": "code",
   "execution_count": null,
   "id": "20c364ce-f98b-4cf5-959b-1840d359a1f9",
   "metadata": {},
   "outputs": [],
   "source": []
  },
  {
   "cell_type": "code",
   "execution_count": 2,
   "id": "d7815cef-9fca-4d5b-b885-1dc1e0e37351",
   "metadata": {},
   "outputs": [
    {
     "data": {
      "text/plain": [
       "'THE quick brown FOX jumps over THE lazy DOG'"
      ]
     },
     "execution_count": 2,
     "metadata": {},
     "output_type": "execute_result"
    }
   ],
   "source": [
    "input_str = 'The quick brown fox jumps over the lazy dog'\n",
    "#input_str = input()\n",
    "transform(input_str)"
   ]
  },
  {
   "cell_type": "markdown",
   "id": "7d85051f-a62a-48fa-ac03-f305d160875b",
   "metadata": {},
   "source": [
    "2. Изменим немного условие задачи: мы хотим, чтобы функция из примера 1 могла также менять слова длины 4 на написанные маленькими буквами. В общем виде, мы хотим, чтобы функции можно было дать условие, которому соответствует указанное действие. Например, все слова длины 4 хотим заменить на звездочки. А слова длины 2 - на черточки. Каждое выполнение функции - одно условие и одно действие.\n",
    "\n",
    "    ***Подсказка:*** добавление условий в код - неправильный ход мысли. Правильный ход - расширить список параметров функции, добавив к нему два параметра, лямбда-функции, которые реализует условие и действие. \n",
    "\n"
   ]
  },
  {
   "cell_type": "code",
   "execution_count": 11,
   "id": "fa5cab55-74b5-4f2d-aade-318e07612dab",
   "metadata": {},
   "outputs": [
    {
     "name": "stdout",
     "output_type": "stream",
     "text": [
      "**** is a sample **** **** **** words of varying length\n",
      "this is a Sample text with some Words of varying length\n",
      "This -- a sample text with some words -- varying length\n",
      "This is a STARTsampleEND text with STARTsomeEND words STARTstartingEND with STARTsEND\n",
      "This is a test text for our testing. other words are discarded\n"
     ]
    }
   ],
   "source": [
    "def transform2(sentence, condition_func, action_func):\n",
    "    words = sentence.split()\n",
    "    transformed_words = []\n",
    "    for word in words:\n",
    "        if condition_func(word):\n",
    "            transformed_words.append(action_func(word))\n",
    "        else:\n",
    "            transformed_words.append(word)\n",
    "    return \" \".join(transformed_words)\n",
    "\n",
    "# Пример 1: Заменить слова длины 4 на звездочки\n",
    "text1 = \"This is a sample text with some words of varying length\"\n",
    "condition1 = lambda word: len(word) == 4\n",
    "action1 = lambda word: \"****\"\n",
    "print(transform2(text1, condition1, action1))\n",
    "\n",
    "# Пример 2: Заменить слова длины 4 на строчные буквы\n",
    "text2 = \"This is a Sample text with some Words of varying length\"\n",
    "condition2 = lambda word: len(word) == 4\n",
    "action2 = lambda word: word.lower()\n",
    "result2 = transform2(text2, condition2, action2)\n",
    "print(result2)\n",
    "\n",
    "\n",
    "# Пример 3: Заменить слова длины 2 на черточки\n",
    "text3 = \"This is a sample text with some words of varying length\"\n",
    "condition3 = lambda word: len(word) == 2\n",
    "action3 = lambda word: \"--\"\n",
    "result3 = transform2(text3, condition3, action3)\n",
    "print(result3)\n",
    "# Output: This -- a sample text with some words of varying length\n",
    "\n",
    "# Пример 4: Заменить слова, начинающиеся на \"s\", на \"START\" + word + \"END\"\n",
    "text4 = \"This is a sample text with some words starting with s\"\n",
    "condition4 = lambda word: word.lower().startswith(\"s\")\n",
    "action4 = lambda word: \"START\" + word + \"END\"\n",
    "result4 = transform2(text4, condition4, action4)\n",
    "print(result4)\n",
    "# Output: This is a STARTsampleEND text with STARTsomeEND words starting with s\n",
    "\n",
    "# Пример 5: Оставить только слова, начинающиеся с \"t\"\n",
    "text5 = \"This is a test text for our testing. other words are discarded\"\n",
    "condition5 = lambda word: word.lower().startswith(\"t\")\n",
    "action5 = lambda word: word\n",
    "result5 = transform2(text5, condition5, action5)\n",
    "print(result5) # Output: This test text testing.\n"
   ]
  },
  {
   "cell_type": "code",
   "execution_count": null,
   "id": "5ceec9f9-4503-4ae0-952e-430309f69731",
   "metadata": {},
   "outputs": [],
   "source": [
    "# Если хотим сделать несколько условий"
   ]
  },
  {
   "cell_type": "code",
   "execution_count": 1,
   "id": "0d54d9af-e72c-4625-9755-6f15b5a84a2e",
   "metadata": {},
   "outputs": [
    {
     "name": "stdout",
     "output_type": "stream",
     "text": [
      "**** is a sample **** **** **** WORDS of varying length\n"
     ]
    }
   ],
   "source": [
    "def transform2(sentence, condition_funcs, action_funcs): #список условий [найти слова длины 2, найти слова начинающиеся с буква s, ...] \n",
    "                                              # список преобразование    [замена на '**',      обрамить START и END, ...              ]\n",
    "    words = sentence.split()\n",
    "    transformed_words = []\n",
    "    for word in words:\n",
    "        transformed = False  # Флаг, чтобы отслеживать, было ли применено действие\n",
    "        for condition, action in zip(condition_funcs, action_funcs):\n",
    "            if condition(word):\n",
    "                transformed_words.append(action(word))\n",
    "                transformed = True\n",
    "                break  # Прерываем цикл, если условие выполнено\n",
    "        if not transformed:\n",
    "            transformed_words.append(word)  # Если ни одно условие не выполнено, оставляем слово без изменений\n",
    "    return \" \".join(transformed_words)\n",
    "\n",
    "# Пример 1: Заменить слова длины 4 на звездочки, а слова длины 5 на заглавные буквы\n",
    "text1 = \"This is a sample text with some words of varying length\"\n",
    "condition1 = [lambda word: len(word) == 4, lambda word: len(word) == 5]\n",
    "action1 = [lambda word: \"****\", lambda word: word.upper()]\n",
    "print(transform2(text1, condition1, action1))"
   ]
  },
  {
   "cell_type": "code",
   "execution_count": null,
   "id": "8927ac16-17ce-48e8-b22c-51e4f6504e2e",
   "metadata": {},
   "outputs": [],
   "source": []
  },
  {
   "cell_type": "code",
   "execution_count": null,
   "id": "719336db-2273-443e-bd26-a59ba518c5f0",
   "metadata": {},
   "outputs": [],
   "source": []
  },
  {
   "cell_type": "markdown",
   "id": "c3f47911-bfd3-4d9e-a0c0-e402e4dd1ad4",
   "metadata": {},
   "source": [
    "3. Подумайте, как уменьшить количество кода в решении задачи 2, например, избавившись от явных циклов и использовать списковые включения вместо них. "
   ]
  },
  {
   "cell_type": "code",
   "execution_count": 13,
   "id": "eefe90ac-f586-4e49-a509-d136378a2b8b",
   "metadata": {},
   "outputs": [
    {
     "name": "stdout",
     "output_type": "stream",
     "text": [
      "**** is a sample **** **** **** words of varying length\n"
     ]
    }
   ],
   "source": [
    "def transform2(sentence, condition_func, action_func):\n",
    "    return ' '.join([action_func(word) if condition_func(word) else word for word in sentence.split()])\n",
    "\n",
    "\n",
    "# Пример 1: Заменить слова длины 4 на звездочки\n",
    "text1 = \"This is a sample text with some words of varying length\"\n",
    "condition1 = lambda word: len(word) == 4\n",
    "action1 = lambda word: \"****\"\n",
    "print(transform2(text1, condition1, action1))"
   ]
  },
  {
   "cell_type": "markdown",
   "id": "5c6ee53a-7033-4bbe-a272-9969b76a2f52",
   "metadata": {},
   "source": [
    "4. Есть магазин по продаже мороженого. Одна порция стоит 5 евро. В кассе на момент открытия магазина - 0 евро. В магазин выстраивается очередь покупателей, у которых есть одна купюра, чтобы оплатить порцию мороженого. \n",
    "Задача: зная купюры всех покупателей в очереди (конечного размера), понять, получится ли продать мороженое всем (для этого надо иметь достаточно купюр, чтобы давать сдачу), или не получится. \n",
    "Существуют купюры следующего номинала: 5, 10, 20, 50 евро. \n",
    "Напишите функцию, которая принимает список с купюрами покупателей. \n",
    "Например, если очередь имеет купюры [5, 10, 5, 20], то функция вернет true (первому покупателю продадут мороженое за 5, со второго возьмут 10 и дадут сдачу 5, третьему дадут мороженое за 5, с четвертого возьмут 20 евро и дадут сдачу 15 купюрами 10 и 5 которые есть в кассе). \n",
    "\n",
    "   **Подсказка:** наш кошелек продавца можно представить в виде списка, отсортированного по возрастанию. Когда нам надо понять, можем ли мы дать сдачу, то мы перебираем список кошелька и суммируем банкноты в нем. Если они могут в сумме дать сдачу, то мы их убираем из списка, добавляем банкноту, которой платили, пересортировываем, и так далее).\n"
   ]
  },
  {
   "cell_type": "code",
   "execution_count": 4,
   "id": "df77daec-b81d-4e96-8b10-b995d405fcca",
   "metadata": {},
   "outputs": [
    {
     "name": "stdout",
     "output_type": "stream",
     "text": [
      "False\n"
     ]
    }
   ],
   "source": [
    "def can_serve_all_customers(bills):\n",
    "    # Изначально касса пуста\n",
    "    cash_register = []\n",
    "\n",
    "    for bill in bills:\n",
    "        # Если покупатель платит 5 евро, сдача не требуется\n",
    "        if bill == 5:\n",
    "            cash_register.append(5)\n",
    "        else:\n",
    "            # Требуемая сдача\n",
    "            change_needed = bill - 5\n",
    "            # Сортируем кассу по возрастанию для удобства выдачи сдачи\n",
    "            cash_register.sort()\n",
    "            # Перебираем купюры в кассе с конца (от больших к меньшим)\n",
    "            for cash in reversed(cash_register):\n",
    "                if change_needed >= cash:\n",
    "                    change_needed -= cash\n",
    "                    cash_register.remove(cash)\n",
    "                if change_needed == 0:\n",
    "                    break\n",
    "            # Если не удалось выдать сдачу полностью\n",
    "            if change_needed != 0:\n",
    "                return False\n",
    "            # Добавляем полученную купюру в кассу\n",
    "            cash_register.append(bill)\n",
    "\n",
    "    return True\n",
    "\n",
    "# Пример использования:\n",
    "queue = [10, 10, 5, 20]\n",
    "print(can_serve_all_customers(queue))  # Выведет: True\n"
   ]
  },
  {
   "cell_type": "code",
   "execution_count": null,
   "id": "7ffb3902-caa8-4084-9cdd-427b833edcf4",
   "metadata": {},
   "outputs": [],
   "source": []
  }
 ],
 "metadata": {
  "kernelspec": {
   "display_name": "Python 3 (ipykernel)",
   "language": "python",
   "name": "python3"
  },
  "language_info": {
   "codemirror_mode": {
    "name": "ipython",
    "version": 3
   },
   "file_extension": ".py",
   "mimetype": "text/x-python",
   "name": "python",
   "nbconvert_exporter": "python",
   "pygments_lexer": "ipython3",
   "version": "3.12.4"
  }
 },
 "nbformat": 4,
 "nbformat_minor": 5
}
