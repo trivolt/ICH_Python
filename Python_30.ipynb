{
 "cells": [
  {
   "cell_type": "markdown",
   "id": "d3d0727a-7ade-4f34-909e-164e8b2670b5",
   "metadata": {},
   "source": [
    "# Методы класса"
   ]
  },
  {
   "cell_type": "markdown",
   "id": "b3ea79dd-ee81-4823-ba51-7443ef6a851a",
   "metadata": {},
   "source": [
    "Метод класса - это функция, определенная внутри класса, которая выполняет определенные операции с данными объекта класса. Отличие метода класса от обычной функции состоит в том, что он автоматически принимает первым аргументом ссылку на экземпляр класса (self) и имеет доступ к полям и другим методам объекта.\n"
   ]
  },
  {
   "cell_type": "markdown",
   "id": "35b68069-e105-4a46-8d3e-22799bca2f1f",
   "metadata": {},
   "source": [
    "### self\n"
   ]
  },
  {
   "cell_type": "markdown",
   "id": "05419274-1202-49fe-8bd3-8dbb9890aede",
   "metadata": {},
   "source": [
    "Первый аргумент self в методах класса представляет ссылку на экземпляр класса, для которого вызывается метод. С помощью этого аргумента метод может получать доступ к полям и другим методам объекта.\n",
    "\n",
    "Self - это соглашение об именовании, и его можно заменить на любое другое допустимое имя переменной, но по соглашению разработчиков Python используется именно self.\n"
   ]
  },
  {
   "cell_type": "markdown",
   "id": "f4f4d519-f9e9-43cb-aa8a-f65b38365f7e",
   "metadata": {},
   "source": [
    "🤓технически self это указатель на область памяти, в которой хранится конкретно этот объект. Соответственно, обращаясь в полю в self мы задаем как бы адрес объекта в памяти и смещение относительно адреса начала объекта (имя поля, которое задает структуру разметки памяти объекта)."
   ]
  },
  {
   "cell_type": "code",
   "execution_count": 41,
   "id": "0663f545-570b-4d9d-b9ff-efbe4cf80f5a",
   "metadata": {},
   "outputs": [
    {
     "name": "stdout",
     "output_type": "stream",
     "text": [
      "Buddy says woof!\n"
     ]
    }
   ],
   "source": [
    "class Dog:\n",
    "    def __init__(self, name, age):\n",
    "        self.name = name\n",
    "        self.age = age\n",
    "\n",
    "    def bark(self):\n",
    "        print(f\"{self.name} says woof!\")\n",
    "\n",
    "# Создаем экземпляр класса Dog\n",
    "my_dog = Dog(\"Buddy\", 3)\n",
    "\n",
    "# Вызываем метод bark\n",
    "my_dog.bark()\n"
   ]
  },
  {
   "cell_type": "markdown",
   "id": "c5049c4b-b176-4908-88b0-45226e59a361",
   "metadata": {},
   "source": [
    "my_dog (объект класса Dog)\n",
    "|\n",
    "|-- name: \"Buddy\"\n",
    "|-- age: 3\n",
    "|-- bark (метод)\n"
   ]
  },
  {
   "cell_type": "markdown",
   "id": "591aa073-fd6d-4f35-8d05-38119be03ba7",
   "metadata": {},
   "source": [
    "* self в методе bark ссылается на объект my_dog.\n",
    "* self.name позволяет получить доступ к атрибуту name объекта my_dog, который равен \"Buddy\".\n",
    "* self.age позволяет получить доступ к атрибуту age объекта my_dog, который равен 3."
   ]
  },
  {
   "cell_type": "markdown",
   "id": "c50b6207-ccf2-40cf-acc9-ca976676bc01",
   "metadata": {},
   "source": [
    "### Метод `__init__`\n",
    "\n",
    "Метод `__init__` является конструктором класса и вызывается при создании нового объекта класса. Он используется для инициализации полей объекта. В методе `__init__` можно задать значения по умолчанию для полей, которые будут применяться при создании объекта.\n"
   ]
  },
  {
   "cell_type": "code",
   "execution_count": null,
   "id": "6b8e4176-d6db-4674-8406-045fbc82b819",
   "metadata": {},
   "outputs": [],
   "source": [
    "class MyClass:\n",
    "    def __init__(self, name):\n",
    "        self.name = name\n",
    "\n",
    "my_object = MyClass(\"John\")\n",
    "print(my_object.name)\n",
    "# Результат: \"John\"\n"
   ]
  },
  {
   "cell_type": "markdown",
   "id": "db85cbc4-bb60-490c-a38b-d527c7a57d19",
   "metadata": {},
   "source": [
    "### Значения по умолчанию в методах\n",
    "\n",
    "Методы класса могут иметь значения по умолчанию для аргументов. Это позволяет вызывать методы с определенными значениями, но также дает возможность передать аргументы с другими значениями, если необходимо.\n"
   ]
  },
  {
   "cell_type": "code",
   "execution_count": 42,
   "id": "a08fc5ab-1b6e-43b1-a93a-521fe15da0e8",
   "metadata": {},
   "outputs": [
    {
     "name": "stdout",
     "output_type": "stream",
     "text": [
      "Hello!\n",
      "Hello, John!\n"
     ]
    }
   ],
   "source": [
    "class MyClass:\n",
    "    def greet(self, name=\"\"):\n",
    "        if name:\n",
    "            print(f\"Hello, {name}!\")\n",
    "        else:\n",
    "            print(\"Hello!\")\n",
    "\n",
    "my_object = MyClass()\n",
    "my_object.greet()\n",
    "# Результат: \"Hello!\"\n",
    "\n",
    "my_object.greet(\"John\")\n",
    "# Результат: \"Hello, John!\"\n"
   ]
  },
  {
   "cell_type": "code",
   "execution_count": 43,
   "id": "cff4d16e-b1ef-435f-b88b-528e2bc2e38a",
   "metadata": {},
   "outputs": [
    {
     "data": {
      "text/plain": [
       "'green'"
      ]
     },
     "execution_count": 43,
     "metadata": {},
     "output_type": "execute_result"
    }
   ],
   "source": [
    "class Car:\n",
    "   \n",
    "    def __init__(self, brand, doors_num, color = \"green\"):\n",
    "        self.color = color            \n",
    "        self.brand = brand\n",
    "        self.doors_num = doors_num\n",
    "\n",
    "audi = Car('audi',2)\n",
    "audi.color"
   ]
  },
  {
   "cell_type": "code",
   "execution_count": 44,
   "id": "d0eea73e-764c-4354-bfe0-fa75b6e307db",
   "metadata": {},
   "outputs": [
    {
     "data": {
      "text/plain": [
       "'black'"
      ]
     },
     "execution_count": 44,
     "metadata": {},
     "output_type": "execute_result"
    }
   ],
   "source": [
    "bmw = Car('bmw',4, 'black')\n",
    "bmw.color"
   ]
  },
  {
   "cell_type": "markdown",
   "id": "2dfa78cf-1769-44d0-aea0-25706126dc6d",
   "metadata": {},
   "source": [
    "### Статические поля класса\n",
    "\n",
    "Статические поля класса - это поля, которые принадлежат классу, а не экземпляру класса. Они могут быть доступны через имя класса и не требуют создания экземпляра класса.\n"
   ]
  },
  {
   "cell_type": "code",
   "execution_count": 45,
   "id": "20c4b1b4-bc7a-414e-8f26-aed730a466e5",
   "metadata": {},
   "outputs": [
    {
     "name": "stdout",
     "output_type": "stream",
     "text": [
      "Static Field\n"
     ]
    }
   ],
   "source": [
    "class MyClass:\n",
    "    static_field = \"Static Field\"\n",
    "\n",
    "print(MyClass.static_field)\n",
    "# Результат: \"Static Field\"\n"
   ]
  },
  {
   "cell_type": "code",
   "execution_count": 46,
   "id": "ef617e54-35de-4e07-8226-7d66c194da8a",
   "metadata": {},
   "outputs": [
    {
     "name": "stdout",
     "output_type": "stream",
     "text": [
      "____\n"
     ]
    }
   ],
   "source": [
    "MyClass.static_field = '____'\n",
    "print(MyClass.static_field)"
   ]
  },
  {
   "cell_type": "markdown",
   "id": "ec1d7f7c-c531-4cd7-a350-7eca7b0a2690",
   "metadata": {},
   "source": [
    "🤓Доступны ли они и из экземпляра класса? Что будет, если поменять значение статического поля из экземпляра класса?"
   ]
  },
  {
   "cell_type": "code",
   "execution_count": 47,
   "id": "1527f9b0-885a-4fb2-bf68-4b6c8d012c65",
   "metadata": {},
   "outputs": [],
   "source": [
    "class Car:\n",
    "    default_color = \"green\"\n",
    "    \n",
    "    def __init__(self, color, brand, doors_num):\n",
    "        if color == None:\n",
    "            self.color = self.default_color\n",
    "        else:\n",
    "            self.color = color\n",
    "            \n",
    "        self.brand = brand\n",
    "        self.doors_num = doors_num"
   ]
  },
  {
   "cell_type": "markdown",
   "id": "7d42aadc-dc14-4ffd-bef7-10be39d702aa",
   "metadata": {},
   "source": [
    "В представленном выше классе, атрибут default_color – это статический атрибут, и доступ к нему, как было сказано выше, можно получить не создавая объект класса Car"
   ]
  },
  {
   "cell_type": "markdown",
   "id": "0f719f7a-607d-44b8-a369-2c2844831f0a",
   "metadata": {},
   "source": [
    "color, brand и doors_num – это динамические атрибуты, при их создании было использовано ключевое слово self. Также обратите внимание на то, что внутри класса мы используем статический атрибут default_color для присвоения цвета машины, если мы его явно не задали.\n",
    "\n",
    "Для доступа к color, brand и doors_num предварительно нужно создать объект класса Car:"
   ]
  },
  {
   "cell_type": "code",
   "execution_count": 48,
   "id": "1ef64b51-bfdc-4934-b25b-8077971520f5",
   "metadata": {},
   "outputs": [
    {
     "name": "stdout",
     "output_type": "stream",
     "text": [
      "BMW\n",
      "green\n",
      "2\n"
     ]
    }
   ],
   "source": [
    "bmw = Car(None,\"BMW\", 2)\n",
    "print(bmw.brand)\n",
    "print(bmw.color)\n",
    "print(bmw.doors_num)"
   ]
  },
  {
   "cell_type": "code",
   "execution_count": 49,
   "id": "fc1d66d9-8816-459e-bb9a-1bc4ca2e9ed0",
   "metadata": {},
   "outputs": [
    {
     "data": {
      "text/plain": [
       "'green'"
      ]
     },
     "execution_count": 49,
     "metadata": {},
     "output_type": "execute_result"
    }
   ],
   "source": [
    "Car.default_color "
   ]
  },
  {
   "cell_type": "code",
   "execution_count": 50,
   "id": "b9c54312-3c85-4b67-8868-b99493bc4b4a",
   "metadata": {},
   "outputs": [
    {
     "data": {
      "text/plain": [
       "'red'"
      ]
     },
     "execution_count": 50,
     "metadata": {},
     "output_type": "execute_result"
    }
   ],
   "source": [
    "Car.default_color = \"red\"\n",
    "Car.default_color"
   ]
  },
  {
   "cell_type": "code",
   "execution_count": 51,
   "id": "2ee32159-8a1e-455d-8365-d5796707ff08",
   "metadata": {},
   "outputs": [
    {
     "name": "stdout",
     "output_type": "stream",
     "text": [
      "BMW\n",
      "red\n",
      "4\n"
     ]
    }
   ],
   "source": [
    "bmw = Car(None,\"BMW\", 4)\n",
    "print(bmw.brand)\n",
    "print(bmw.color)\n",
    "print(bmw.doors_num)"
   ]
  },
  {
   "cell_type": "code",
   "execution_count": 52,
   "id": "0503c363-2bee-4116-b90c-2b824e5907aa",
   "metadata": {},
   "outputs": [
    {
     "data": {
      "text/plain": [
       "'blue'"
      ]
     },
     "execution_count": 52,
     "metadata": {},
     "output_type": "execute_result"
    }
   ],
   "source": [
    "bmw.default_color = \"blue\"\n",
    "bmw.default_color"
   ]
  },
  {
   "cell_type": "code",
   "execution_count": 53,
   "id": "7cbace8f-02f8-4259-a706-b1897b7ec33b",
   "metadata": {},
   "outputs": [
    {
     "data": {
      "text/plain": [
       "'red'"
      ]
     },
     "execution_count": 53,
     "metadata": {},
     "output_type": "execute_result"
    }
   ],
   "source": [
    "bmw.color"
   ]
  },
  {
   "cell_type": "markdown",
   "id": "00f95eb3-824b-4352-b142-10bf90697e30",
   "metadata": {},
   "source": [
    "### Обращение к статическому полю класса извне\n",
    "\n",
    "Отличия при обращении к статическому полю класса извне через точку через класс и через объект класса:\n",
    "\n",
    "При обращении к статическому полю класса можно использовать имя класса или имя объекта класса. Однако рекомендуется использовать имя класса, чтобы подчеркнуть, что это статическое поле и не зависит от конкретного экземпляра.\n"
   ]
  },
  {
   "cell_type": "code",
   "execution_count": null,
   "id": "3df8dc9b-7943-48ac-a894-9c3d51a8c857",
   "metadata": {},
   "outputs": [],
   "source": [
    "class MyClass:\n",
    "    static_field = \"Static Field\"\n",
    "\n",
    "my_object = MyClass()\n",
    "\n",
    "print(MyClass.static_field)\n",
    "# Результат: \"Static Field\"\n",
    "\n",
    "print(my_object.static_field)\n",
    "# Результат: \"Static Field\"\n"
   ]
  },
  {
   "cell_type": "markdown",
   "id": "e9360122-4bb3-4537-987d-4171f642ed77",
   "metadata": {},
   "source": [
    "### Магические методы `__str__` и `__repr__`. Соглашения для содержимого метода `__repr__`:\n",
    "\n",
    "Магические методы `__str__` и `__repr__` предоставляют возможность определить строковое представление объекта класса. \n",
    "\n",
    "* Метод `__str__` используется для создания \"красивого\" и информативного представления объекта, которое может быть выведено на печать,\n",
    "\n",
    "* метод `__repr__` используется для создания представления объекта, которое позволяет точно воссоздать объект.\n"
   ]
  },
  {
   "cell_type": "code",
   "execution_count": 1,
   "id": "c6a2a7d8-f403-44bd-a1ec-b8e46fe84a1e",
   "metadata": {},
   "outputs": [],
   "source": [
    "class MyClass:\n",
    "    def __init__(self, name):\n",
    "        self.name = name"
   ]
  },
  {
   "cell_type": "code",
   "execution_count": 2,
   "id": "b456c0c9-e6b9-4b98-bcf0-3128339a1b6c",
   "metadata": {},
   "outputs": [
    {
     "data": {
      "text/plain": [
       "['__class__',\n",
       " '__delattr__',\n",
       " '__dict__',\n",
       " '__dir__',\n",
       " '__doc__',\n",
       " '__eq__',\n",
       " '__format__',\n",
       " '__ge__',\n",
       " '__getattribute__',\n",
       " '__getstate__',\n",
       " '__gt__',\n",
       " '__hash__',\n",
       " '__init__',\n",
       " '__init_subclass__',\n",
       " '__le__',\n",
       " '__lt__',\n",
       " '__module__',\n",
       " '__ne__',\n",
       " '__new__',\n",
       " '__reduce__',\n",
       " '__reduce_ex__',\n",
       " '__repr__',\n",
       " '__setattr__',\n",
       " '__sizeof__',\n",
       " '__str__',\n",
       " '__subclasshook__',\n",
       " '__weakref__']"
      ]
     },
     "execution_count": 2,
     "metadata": {},
     "output_type": "execute_result"
    }
   ],
   "source": [
    "dir(MyClass)"
   ]
  },
  {
   "cell_type": "code",
   "execution_count": 3,
   "id": "72d83dbf-1aa9-43d1-8a50-0722c3e28be7",
   "metadata": {},
   "outputs": [
    {
     "name": "stdout",
     "output_type": "stream",
     "text": [
      "<class '__main__.MyClass'>\n"
     ]
    }
   ],
   "source": [
    "print(MyClass)"
   ]
  },
  {
   "cell_type": "code",
   "execution_count": 4,
   "id": "49a8e54b-4691-4a3a-8680-61e8fbb51c07",
   "metadata": {},
   "outputs": [
    {
     "name": "stdout",
     "output_type": "stream",
     "text": [
      "<__main__.MyClass object at 0x000001ED6EEB5D00>\n",
      "<__main__.MyClass object at 0x000001ED6EEB5D00>\n"
     ]
    }
   ],
   "source": [
    "my_cls = MyClass('Peter')\n",
    "print(my_cls.__str__())\n",
    "print(my_cls.__repr__())"
   ]
  },
  {
   "cell_type": "markdown",
   "id": "bf7890d4-0d1a-43cd-b389-04ec53fa4def",
   "metadata": {},
   "source": [
    "Как видите, реализация по умолчанию бесполезна. Давайте продолжим и реализуем оба этих метода:"
   ]
  },
  {
   "cell_type": "code",
   "execution_count": 5,
   "id": "0f218fe2-9524-4282-9538-0f65f69d3e8a",
   "metadata": {},
   "outputs": [
    {
     "name": "stdout",
     "output_type": "stream",
     "text": [
      "MyClass: John\n",
      "MyClass(name='John')\n"
     ]
    }
   ],
   "source": [
    "class MyClass:\n",
    "    def __init__(self, name):\n",
    "        self.name = name\n",
    "\n",
    "    def __str__(self):\n",
    "        return f\"MyClass: {self.name}\"\n",
    "\n",
    "    def __repr__(self):\n",
    "        return f\"MyClass(name='{self.name}')\"\n",
    "\n",
    "my_object = MyClass(\"John\")\n",
    "print(my_object)\n",
    "# Результат: \"MyClass: John\"\n",
    "print(repr(my_object))\n",
    "# Результат: \"MyClass(name='John')\"\n"
   ]
  },
  {
   "cell_type": "code",
   "execution_count": null,
   "id": "f7831c37-de39-4f2f-ae72-f6aa08b5acb7",
   "metadata": {},
   "outputs": [],
   "source": []
  },
  {
   "cell_type": "code",
   "execution_count": 6,
   "id": "9a2e009f-d0ff-49e1-8dc3-33a6d2df6dff",
   "metadata": {},
   "outputs": [
    {
     "name": "stdout",
     "output_type": "stream",
     "text": [
      "{}\n"
     ]
    }
   ],
   "source": [
    "dct = dict()\n",
    "print(dct)"
   ]
  },
  {
   "cell_type": "code",
   "execution_count": 7,
   "id": "4c487694-78ea-4001-bc08-6ff5971453df",
   "metadata": {},
   "outputs": [
    {
     "data": {
      "text/plain": [
       "'{}'"
      ]
     },
     "execution_count": 7,
     "metadata": {},
     "output_type": "execute_result"
    }
   ],
   "source": [
    "repr(dct)"
   ]
  },
  {
   "cell_type": "code",
   "execution_count": 10,
   "id": "19d7ec4c-5c5c-472b-b0f2-a293705b1a07",
   "metadata": {},
   "outputs": [
    {
     "name": "stdout",
     "output_type": "stream",
     "text": [
      "[1 2 3 4]\n"
     ]
    }
   ],
   "source": [
    "import numpy as np\n",
    "\n",
    "print(np.array([1,2,3,4]))"
   ]
  },
  {
   "cell_type": "code",
   "execution_count": 11,
   "id": "96bdbf91-1720-4412-ac7d-5f8ba6e24d04",
   "metadata": {},
   "outputs": [
    {
     "data": {
      "text/plain": [
       "'array([1, 2, 3, 4])'"
      ]
     },
     "execution_count": 11,
     "metadata": {},
     "output_type": "execute_result"
    }
   ],
   "source": [
    "repr(np.array([1,2,3,4]))"
   ]
  },
  {
   "cell_type": "code",
   "execution_count": 12,
   "id": "0a5952ae-e050-4a00-97e2-25dc3e79fce4",
   "metadata": {},
   "outputs": [
    {
     "data": {
      "text/plain": [
       "array([1, 2, 3, 4])"
      ]
     },
     "execution_count": 12,
     "metadata": {},
     "output_type": "execute_result"
    }
   ],
   "source": [
    "np.array([1,2,3,4])"
   ]
  },
  {
   "cell_type": "markdown",
   "id": "c0eed9b4-c808-4b1b-9c88-0362134b87cc",
   "metadata": {},
   "source": [
    "### Проверка является ли объект экземпляром заданного класса с помощью isinstance(объект, название класса)\n",
    "\n",
    "Функция isinstance позволяет проверить, является ли объект экземпляром определенного класса или его потомком. Она возвращает значение True, если объект является экземпляром класса, и False в противном случае.\n"
   ]
  },
  {
   "cell_type": "code",
   "execution_count": 13,
   "id": "d7939fcb-5c9c-4e0b-92a3-a1708a466fe3",
   "metadata": {},
   "outputs": [
    {
     "name": "stdout",
     "output_type": "stream",
     "text": [
      "True\n",
      "True\n",
      "False\n"
     ]
    }
   ],
   "source": [
    "class MyClass:\n",
    "    pass\n",
    "\n",
    "class MySubClass(MyClass):\n",
    "    pass\n",
    "\n",
    "my_object = MyClass()\n",
    "my_sub_object = MySubClass()\n",
    "\n",
    "print(isinstance(my_object, MyClass))\n",
    "# Результат: True\n",
    "\n",
    "print(isinstance(my_sub_object, MyClass))\n",
    "# Результат: True\n",
    "\n",
    "print(isinstance(my_object, MySubClass))\n",
    "# Результат: False\n"
   ]
  },
  {
   "cell_type": "code",
   "execution_count": 14,
   "id": "5db93205-72c6-4eed-8e06-051cd07c12d8",
   "metadata": {},
   "outputs": [
    {
     "name": "stdout",
     "output_type": "stream",
     "text": [
      "True\n"
     ]
    }
   ],
   "source": [
    "x = 5\n",
    "print(isinstance(x, int))"
   ]
  },
  {
   "cell_type": "code",
   "execution_count": 16,
   "id": "b87b6a28-73dc-4a13-82e2-c048ea4300fe",
   "metadata": {},
   "outputs": [
    {
     "name": "stdout",
     "output_type": "stream",
     "text": [
      "False\n"
     ]
    }
   ],
   "source": [
    "y = 5.0\n",
    "print(isinstance(y, int))"
   ]
  },
  {
   "cell_type": "markdown",
   "id": "460d2979-958a-4bbf-b1ee-5bae7a424d16",
   "metadata": {},
   "source": [
    "### Начинаем писать свой класс\n",
    "🤓На практике будем писать другие классы с нуля, важно понять, какие методы за что отвечают, как правильно задавать поля и т.п. Постепенно мы будем усложнять эти классы, добавляя всё больше и больше функциональности.\n",
    "При создании своего класса необходимо определить его имя, поля, методы и другие атрибуты, которые необходимы для его функционирования. Внутри класса можно использовать методы для изменения состояния объекта и выполнения операций с данными. Также можно использовать наследование для создания подклассов, которые наследуют поля и методы родительского класса и могут добавлять свою уникальную функциональность.\n"
   ]
  },
  {
   "cell_type": "code",
   "execution_count": null,
   "id": "c581a450-6624-437a-a1f8-61125edd8813",
   "metadata": {},
   "outputs": [],
   "source": [
    "class MyClass:\n",
    "    def __init__(self, name):\n",
    "        self.name = name\n",
    "\n",
    "    def greet(self):\n",
    "        print(f\"Hello, {self.name}!\")\n",
    "\n",
    "my_object = MyClass(\"John\")\n",
    "my_object.greet()\n",
    "# Результат: \"Hello, John!\"\n"
   ]
  },
  {
   "cell_type": "markdown",
   "id": "c30dc353-dcd2-4951-9f76-8cf4b030d108",
   "metadata": {},
   "source": [
    "## Пз1\n",
    "Создать класс Person с полями имя, год рождения, рост, вес и методами для вычисления возраста, индекса массы тела. \n",
    "Создать конструкторы от разного числа аргументов. \n",
    "Переопределить методы __str__, __repr__. \n"
   ]
  },
  {
   "cell_type": "code",
   "execution_count": 17,
   "id": "4ff650a5-dd98-43e1-bd46-620ee0140995",
   "metadata": {},
   "outputs": [],
   "source": [
    "import datetime\n",
    "\n",
    "class Person():\n",
    "    import datetime\n",
    "    def __init__(self, name, year_b, weight, heigh):\n",
    "        self.name = name\n",
    "        self.year = year_b\n",
    "        self.weight = weight\n",
    "        self.heigh = heigh\n",
    "    \n",
    "    def age(self):\n",
    "        return datetime.datetime.now().year - self.year\n",
    "    \n",
    "    def imb(self):\n",
    "        return self.weight / self.heigh ** 2\n",
    "    \n",
    "    def __str__(self):\n",
    "        return f'Имя:{self.name}, год рождения:{self.year}, вес:{self.weight}, рост:{self.heigh}'\n",
    " \n",
    "    def __repr__(self):\n",
    "        return f'Person(name={self.name}, year={self.year}, weight={self.weight}, heigh={self.heigh})'\n",
    "\n"
   ]
  },
  {
   "cell_type": "code",
   "execution_count": 18,
   "id": "af7275b9-7fc6-47e2-a705-288d43f03ca9",
   "metadata": {},
   "outputs": [
    {
     "name": "stdout",
     "output_type": "stream",
     "text": [
      "Имя:Bob, год рождения:1990, вес:120, рост:170\n"
     ]
    }
   ],
   "source": [
    "print(Person('Bob',1990,120,170))"
   ]
  },
  {
   "cell_type": "code",
   "execution_count": 19,
   "id": "afcba64f-4c12-4281-9952-2c54a4d3728a",
   "metadata": {},
   "outputs": [
    {
     "data": {
      "text/plain": [
       "Person(name=Bob, year=1990, weight=120, heigh=170)"
      ]
     },
     "execution_count": 19,
     "metadata": {},
     "output_type": "execute_result"
    }
   ],
   "source": [
    "Person('Bob',1990,120,170)"
   ]
  },
  {
   "cell_type": "code",
   "execution_count": 20,
   "id": "b9f4ae2f-b7c6-41e1-81b8-224db75ee751",
   "metadata": {},
   "outputs": [
    {
     "data": {
      "text/plain": [
       "35"
      ]
     },
     "execution_count": 20,
     "metadata": {},
     "output_type": "execute_result"
    }
   ],
   "source": [
    "Person('Bob',1990,120,170).age()"
   ]
  },
  {
   "cell_type": "code",
   "execution_count": 21,
   "id": "c59e9a73-41c2-483f-a30a-ff60bcc72fe3",
   "metadata": {},
   "outputs": [
    {
     "data": {
      "text/plain": [
       "35"
      ]
     },
     "execution_count": 21,
     "metadata": {},
     "output_type": "execute_result"
    }
   ],
   "source": [
    "bob = Person('Bob',1990,120,170)\n",
    "bob.age()"
   ]
  },
  {
   "cell_type": "code",
   "execution_count": 22,
   "id": "18c9576c-7012-4eef-87a3-e7a7693d5e91",
   "metadata": {},
   "outputs": [
    {
     "data": {
      "text/plain": [
       "0.004152249134948097"
      ]
     },
     "execution_count": 22,
     "metadata": {},
     "output_type": "execute_result"
    }
   ],
   "source": [
    "bob.imb()"
   ]
  },
  {
   "cell_type": "markdown",
   "id": "a16abf66-e494-4909-be21-a598f259f6bd",
   "metadata": {},
   "source": [
    "## Пз2\n",
    "Написать класс Circle, который задает круг по радиусу и может вычислять площадь и длину окружности. \n",
    "Продумать интерфейс и методы."
   ]
  },
  {
   "cell_type": "code",
   "execution_count": 23,
   "id": "6c77d20e-2b88-4ad5-8040-ce79958cd18a",
   "metadata": {},
   "outputs": [
    {
     "name": "stdout",
     "output_type": "stream",
     "text": [
      "Площадь круга: 78.53981633974483\n",
      "Длина окружности: 31.41592653589793\n"
     ]
    }
   ],
   "source": [
    "import math\n",
    "\n",
    "class Circle:\n",
    "    def __init__(self, radius):\n",
    "        self.radius = radius\n",
    "\n",
    "    def calculate_area(self):\n",
    "        return math.pi * self.radius ** 2\n",
    "\n",
    "    def calculate_circumference(self):\n",
    "        return 2 * math.pi * self.radius\n",
    "\n",
    "    def __str__(self):\n",
    "        return f\"Окружность с радиусом {self.radius}\"\n",
    "\n",
    "    def __repr__(self):\n",
    "        return f\"Circle(radius={self.radius})\"\n",
    "\n",
    "# Пример использования класса Circle\n",
    "circle = Circle(5)\n",
    "print(f\"Площадь круга: {circle.calculate_area()}\")\n",
    "print(f\"Длина окружности: {circle.calculate_circumference()}\")\n",
    "\n"
   ]
  },
  {
   "cell_type": "code",
   "execution_count": 24,
   "id": "f7254afc-184f-420e-8154-ec3b2f1dd7ba",
   "metadata": {},
   "outputs": [
    {
     "data": {
      "text/plain": [
       "Circle(radius=5)"
      ]
     },
     "execution_count": 24,
     "metadata": {},
     "output_type": "execute_result"
    }
   ],
   "source": [
    "circle"
   ]
  },
  {
   "cell_type": "code",
   "execution_count": 25,
   "id": "c3c31bb7-3d5a-471b-9d97-16810e3daf96",
   "metadata": {},
   "outputs": [
    {
     "name": "stdout",
     "output_type": "stream",
     "text": [
      "Окружность с радиусом 5\n"
     ]
    }
   ],
   "source": [
    "print(circle)"
   ]
  },
  {
   "cell_type": "markdown",
   "id": "b72a5ed0-2266-4007-8935-d0982f88e6a2",
   "metadata": {},
   "source": [
    "### Полезные материалы\n",
    "1. Классы в Python https://python-scripts.com/python-class \n",
    "2. Как создавать классы в Python со знанием дела: разбираем на примерах https://highload.today/kak-sozdavat-klassy-v-python-so-znaniem-dela-razbiraem-na-primerah/  \n",
    "\n",
    "### Вопросы для закрепления\n",
    "1. Что означает аргумент self, передаваемый в методы?\n",
    "2. За что отвечают методы __str__ и __repr__? Какие требования предъявляются к методу __repr__?\n",
    "3. Что такое статические поля класса? Как к ним правильно обращаться?\n"
   ]
  },
  {
   "cell_type": "code",
   "execution_count": null,
   "id": "fee66653-06d2-41e8-a830-303f7a03193c",
   "metadata": {},
   "outputs": [],
   "source": []
  }
 ],
 "metadata": {
  "kernelspec": {
   "display_name": "Python 3 (ipykernel)",
   "language": "python",
   "name": "python3"
  },
  "language_info": {
   "codemirror_mode": {
    "name": "ipython",
    "version": 3
   },
   "file_extension": ".py",
   "mimetype": "text/x-python",
   "name": "python",
   "nbconvert_exporter": "python",
   "pygments_lexer": "ipython3",
   "version": "3.12.4"
  }
 },
 "nbformat": 4,
 "nbformat_minor": 5
}
