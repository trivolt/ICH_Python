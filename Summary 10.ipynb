{
 "cells": [
  {
   "cell_type": "markdown",
   "id": "83a497ae-f114-4958-b85f-63f11052cc38",
   "metadata": {},
   "source": [
    "# Summary 10"
   ]
  },
  {
   "cell_type": "markdown",
   "id": "2e839cf7-528c-4ba3-923e-5c04e6f23508",
   "metadata": {},
   "source": [
    "### Хеш"
   ]
  },
  {
   "cell_type": "markdown",
   "id": "ce426901-4ec1-4ff1-842b-decc30ec14db",
   "metadata": {},
   "source": [
    "Пример написания хэш функции"
   ]
  },
  {
   "cell_type": "code",
   "execution_count": 58,
   "id": "7f85a484-8732-4c50-86b0-76ba5ba2cc17",
   "metadata": {},
   "outputs": [],
   "source": [
    "def simple_hash(s):\n",
    "    hash_value = 0  # Инициализируем хэш-значение\n",
    "    for char in s:\n",
    "        # Добавляем ASCII-код каждого символа к хэш-значению\n",
    "        hash_value += ord(char)\n",
    "    return hash_value "
   ]
  },
  {
   "cell_type": "code",
   "execution_count": 60,
   "id": "ad2ac857-40c4-4230-be1c-180e500edaa7",
   "metadata": {},
   "outputs": [
    {
     "name": "stdout",
     "output_type": "stream",
     "text": [
      "Хэш строки 'llohe': 532\n"
     ]
    }
   ],
   "source": [
    "input_string = \"llohe\"\n",
    "hash_result = simple_hash(input_string)\n",
    "print(f\"Хэш строки '{input_string}': {hash_result}\")"
   ]
  },
  {
   "cell_type": "markdown",
   "id": "56470eeb-eb22-4435-8b2e-596bfbf4e82a",
   "metadata": {},
   "source": [
    "Недостатки этой хэш-функции\n",
    "\n",
    "* Коллизии: Разные строки могут иметь одинаковый хэш (например, \"hello\" и \"olleh\" дадут одинаковый хэш).\n",
    "\n",
    "* Простота: Эта функция не подходит для криптографических целей, так как она слишком проста и предсказуема.\n",
    "\n",
    "* Ограниченность: Работает только со строками."
   ]
  },
  {
   "cell_type": "markdown",
   "id": "4f3f6c16-77fd-4515-8d0d-31df44c08104",
   "metadata": {},
   "source": [
    "### Множества"
   ]
  },
  {
   "cell_type": "code",
   "execution_count": 62,
   "id": "3f96bd2e-c48d-4e2f-996c-7b4868b42734",
   "metadata": {},
   "outputs": [
    {
     "data": {
      "text/plain": [
       "set()"
      ]
     },
     "execution_count": 62,
     "metadata": {},
     "output_type": "execute_result"
    }
   ],
   "source": [
    "# пустое множество\n",
    "empty = set()\n",
    "empty"
   ]
  },
  {
   "cell_type": "markdown",
   "id": "bdf7b054-5ee3-4bd8-87f9-63870c178e61",
   "metadata": {},
   "source": [
    "Операции:\n",
    "* объединение\n",
    "* пересечение\n",
    "* разность\n",
    "* симметрическая разность"
   ]
  },
  {
   "cell_type": "code",
   "execution_count": 64,
   "id": "dc770f40-6e7a-4b2f-963a-b38e8c7f32cd",
   "metadata": {},
   "outputs": [],
   "source": [
    "A = {1,2,3,4}\n",
    "B = {3,4,5,6,7}"
   ]
  },
  {
   "cell_type": "code",
   "execution_count": 65,
   "id": "8159a6ee-c48c-4047-9a21-88632c99785f",
   "metadata": {},
   "outputs": [
    {
     "data": {
      "text/plain": [
       "{1, 2, 3, 4, 5, 6, 7}"
      ]
     },
     "execution_count": 65,
     "metadata": {},
     "output_type": "execute_result"
    }
   ],
   "source": [
    "A | B"
   ]
  },
  {
   "cell_type": "code",
   "execution_count": 66,
   "id": "826f1430-d241-43d5-964b-b7f9b0c7de2c",
   "metadata": {},
   "outputs": [
    {
     "data": {
      "text/plain": [
       "{3, 4}"
      ]
     },
     "execution_count": 66,
     "metadata": {},
     "output_type": "execute_result"
    }
   ],
   "source": [
    "A & B"
   ]
  },
  {
   "cell_type": "code",
   "execution_count": 67,
   "id": "ec2ad1b6-a4ff-40dd-b859-78ebe84bd6a9",
   "metadata": {},
   "outputs": [
    {
     "data": {
      "text/plain": [
       "{1, 2}"
      ]
     },
     "execution_count": 67,
     "metadata": {},
     "output_type": "execute_result"
    }
   ],
   "source": [
    "A - B"
   ]
  },
  {
   "cell_type": "code",
   "execution_count": 68,
   "id": "6172d6f6-b1ce-4c56-a8d0-7c75cc20eb05",
   "metadata": {},
   "outputs": [
    {
     "data": {
      "text/plain": [
       "{5, 6, 7}"
      ]
     },
     "execution_count": 68,
     "metadata": {},
     "output_type": "execute_result"
    }
   ],
   "source": [
    "B - A"
   ]
  },
  {
   "cell_type": "code",
   "execution_count": 69,
   "id": "96fb1db2-3108-412a-9fb6-ecf8ef2e9e25",
   "metadata": {},
   "outputs": [
    {
     "data": {
      "text/plain": [
       "{1, 2, 5, 6, 7}"
      ]
     },
     "execution_count": 69,
     "metadata": {},
     "output_type": "execute_result"
    }
   ],
   "source": [
    "A ^ B"
   ]
  },
  {
   "cell_type": "markdown",
   "id": "7bf43e0a-e484-481b-b0bf-3ff0cdad236b",
   "metadata": {},
   "source": [
    "#### Операции на базе методов"
   ]
  },
  {
   "cell_type": "code",
   "execution_count": 70,
   "id": "2ef58439-03d4-41b8-8f5d-f86df2b5c1e3",
   "metadata": {},
   "outputs": [
    {
     "data": {
      "text/plain": [
       "{1, 2, 3, 4, 5, 6, 7}"
      ]
     },
     "execution_count": 70,
     "metadata": {},
     "output_type": "execute_result"
    }
   ],
   "source": [
    "A.union(B)"
   ]
  },
  {
   "cell_type": "code",
   "execution_count": 71,
   "id": "aea5a0c3-a9eb-4442-ac72-c0efe28ce565",
   "metadata": {},
   "outputs": [
    {
     "data": {
      "text/plain": [
       "{3, 4}"
      ]
     },
     "execution_count": 71,
     "metadata": {},
     "output_type": "execute_result"
    }
   ],
   "source": [
    "A.intersection(B)"
   ]
  },
  {
   "cell_type": "code",
   "execution_count": 72,
   "id": "5e404a4b-f50f-4178-a231-bdc74041ddfb",
   "metadata": {},
   "outputs": [
    {
     "data": {
      "text/plain": [
       "{1, 2}"
      ]
     },
     "execution_count": 72,
     "metadata": {},
     "output_type": "execute_result"
    }
   ],
   "source": [
    "A.difference(B)"
   ]
  },
  {
   "cell_type": "code",
   "execution_count": 73,
   "id": "e7691252-ef02-4837-9870-bfbe414dfbd4",
   "metadata": {},
   "outputs": [
    {
     "data": {
      "text/plain": [
       "{1, 2, 5, 6, 7}"
      ]
     },
     "execution_count": 73,
     "metadata": {},
     "output_type": "execute_result"
    }
   ],
   "source": [
    "A.symmetric_difference(B)"
   ]
  },
  {
   "cell_type": "markdown",
   "id": "5d3dc453-df9c-4374-8391-69458c47878f",
   "metadata": {},
   "source": [
    "### Методы"
   ]
  },
  {
   "cell_type": "code",
   "execution_count": 74,
   "id": "a3e2f6cd-10b6-412f-9eb4-07761249f797",
   "metadata": {},
   "outputs": [
    {
     "data": {
      "text/plain": [
       "{1, 2, 3, 4}"
      ]
     },
     "execution_count": 74,
     "metadata": {},
     "output_type": "execute_result"
    }
   ],
   "source": [
    "A"
   ]
  },
  {
   "cell_type": "code",
   "execution_count": 76,
   "id": "e8300e3a-b865-4357-84b0-a3c5d51b5505",
   "metadata": {},
   "outputs": [
    {
     "name": "stdout",
     "output_type": "stream",
     "text": [
      "{1, 2, 3, 4, 5}\n"
     ]
    }
   ],
   "source": [
    "A.add(5)\n",
    "print(A)"
   ]
  },
  {
   "cell_type": "code",
   "execution_count": 77,
   "id": "20238d6e-5ccc-4e49-bce7-efe1523e8283",
   "metadata": {},
   "outputs": [
    {
     "name": "stdout",
     "output_type": "stream",
     "text": [
      "set()\n"
     ]
    }
   ],
   "source": [
    "A.clear()\n",
    "print(A)"
   ]
  },
  {
   "cell_type": "code",
   "execution_count": 81,
   "id": "931a3efb-6c0a-49ad-b51b-170da6c8a730",
   "metadata": {},
   "outputs": [
    {
     "name": "stdout",
     "output_type": "stream",
     "text": [
      "{1, 2, 3, 4, 5}\n",
      "{1, 2, 3, 4, 5}\n"
     ]
    }
   ],
   "source": [
    "A = {1,2,3,4}\n",
    "C = A\n",
    "C.add(5)\n",
    "print(C)\n",
    "print(A)"
   ]
  },
  {
   "cell_type": "code",
   "execution_count": 80,
   "id": "9e282543-5557-42ba-8b70-cdb94ccc8026",
   "metadata": {},
   "outputs": [
    {
     "name": "stdout",
     "output_type": "stream",
     "text": [
      "{1, 2, 3, 4, 5}\n",
      "{1, 2, 3, 4}\n"
     ]
    }
   ],
   "source": [
    "A = {1,2,3,4}\n",
    "C = A.copy()\n",
    "C.add(5)\n",
    "print(C)\n",
    "print(A)"
   ]
  },
  {
   "cell_type": "code",
   "execution_count": 83,
   "id": "1400eb2b-dbe1-46fd-8ddd-6344d620823d",
   "metadata": {},
   "outputs": [
    {
     "data": {
      "text/plain": [
       "{1, 2, 3, 4, 5}"
      ]
     },
     "execution_count": 83,
     "metadata": {},
     "output_type": "execute_result"
    }
   ],
   "source": [
    "A"
   ]
  },
  {
   "cell_type": "code",
   "execution_count": 84,
   "id": "4e46eaed-0b01-4124-b826-723e2d74109d",
   "metadata": {},
   "outputs": [
    {
     "name": "stdout",
     "output_type": "stream",
     "text": [
      "{1, 2, 3, 4}\n"
     ]
    }
   ],
   "source": [
    "A.remove(5)\n",
    "print(A)"
   ]
  },
  {
   "cell_type": "code",
   "execution_count": 85,
   "id": "594b9082-0388-4266-ad5e-1af02fd4f86b",
   "metadata": {},
   "outputs": [
    {
     "ename": "KeyError",
     "evalue": "5",
     "output_type": "error",
     "traceback": [
      "\u001b[1;31m---------------------------------------------------------------------------\u001b[0m",
      "\u001b[1;31mKeyError\u001b[0m                                  Traceback (most recent call last)",
      "Cell \u001b[1;32mIn[85], line 1\u001b[0m\n\u001b[1;32m----> 1\u001b[0m A\u001b[38;5;241m.\u001b[39mremove(\u001b[38;5;241m5\u001b[39m)\n\u001b[0;32m      2\u001b[0m \u001b[38;5;28mprint\u001b[39m(A)\n",
      "\u001b[1;31mKeyError\u001b[0m: 5"
     ]
    }
   ],
   "source": [
    "A.remove(5)\n",
    "print(A)"
   ]
  },
  {
   "cell_type": "code",
   "execution_count": 86,
   "id": "acf145dc-0b58-424e-8f33-5fee50235bee",
   "metadata": {},
   "outputs": [
    {
     "name": "stdout",
     "output_type": "stream",
     "text": [
      "{1, 2, 3, 4}\n"
     ]
    }
   ],
   "source": [
    "A.discard(5)\n",
    "print(A)"
   ]
  },
  {
   "cell_type": "markdown",
   "id": "622114a3-80da-42d3-85e9-a1adff97fc9f",
   "metadata": {},
   "source": [
    "### Сравнение множеств\n",
    "Множества можно сравнить на:\n",
    "* равенство (==)\n",
    "* неравенство (!=)\n",
    "* подмножество (<=, <)\n",
    "* надмножество (>=, >)\n"
   ]
  },
  {
   "cell_type": "code",
   "execution_count": 87,
   "id": "d2718a58-aeb8-459f-a932-7b486c276959",
   "metadata": {},
   "outputs": [],
   "source": [
    "A = {1,2,3,4}\n",
    "B = {3,4,5,6,7}"
   ]
  },
  {
   "cell_type": "code",
   "execution_count": 88,
   "id": "06c6f493-a0ce-4425-972b-cabf7e772cd6",
   "metadata": {},
   "outputs": [
    {
     "data": {
      "text/plain": [
       "False"
      ]
     },
     "execution_count": 88,
     "metadata": {},
     "output_type": "execute_result"
    }
   ],
   "source": [
    "A == B"
   ]
  },
  {
   "cell_type": "code",
   "execution_count": 89,
   "id": "cb2ac36e-55ba-4d57-a6ff-836357386f71",
   "metadata": {},
   "outputs": [
    {
     "data": {
      "text/plain": [
       "True"
      ]
     },
     "execution_count": 89,
     "metadata": {},
     "output_type": "execute_result"
    }
   ],
   "source": [
    "A != B"
   ]
  },
  {
   "cell_type": "code",
   "execution_count": 90,
   "id": "e30ee5d4-1014-4f21-9307-d5b9b74f1b4b",
   "metadata": {},
   "outputs": [
    {
     "data": {
      "text/plain": [
       "True"
      ]
     },
     "execution_count": 90,
     "metadata": {},
     "output_type": "execute_result"
    }
   ],
   "source": [
    "A = {1,2,3}\n",
    "B = {1,2,3,4,5,6,7}\n",
    "\n",
    "A < B"
   ]
  },
  {
   "cell_type": "markdown",
   "id": "aecf5231-e031-4d5b-9403-a99ddcec7dca",
   "metadata": {},
   "source": [
    "### Итерирование по множеству с помощью цикла for"
   ]
  },
  {
   "cell_type": "code",
   "execution_count": 91,
   "id": "00bd5a54-5b58-403c-a06e-132189513a10",
   "metadata": {},
   "outputs": [
    {
     "name": "stdout",
     "output_type": "stream",
     "text": [
      "{1, 2, 3, 4, 5, 6, 7}\n"
     ]
    }
   ],
   "source": [
    "print(B)"
   ]
  },
  {
   "cell_type": "code",
   "execution_count": 92,
   "id": "c084a703-5210-4c6d-9a07-12a71c3cc742",
   "metadata": {},
   "outputs": [
    {
     "name": "stdout",
     "output_type": "stream",
     "text": [
      "1\n",
      "2\n",
      "3\n",
      "4\n",
      "5\n",
      "6\n",
      "7\n"
     ]
    }
   ],
   "source": [
    "for item in B:\n",
    "    print(item)"
   ]
  },
  {
   "cell_type": "code",
   "execution_count": null,
   "id": "62a9877b-d667-46af-917c-bc0be9faede9",
   "metadata": {},
   "outputs": [],
   "source": []
  },
  {
   "cell_type": "markdown",
   "id": "35f4043d-2e8b-42c7-bb2f-3847699557c9",
   "metadata": {},
   "source": [
    "### Неизменяемые множества"
   ]
  },
  {
   "cell_type": "code",
   "execution_count": 93,
   "id": "8b9c0d8c-d881-4918-b741-d477ecd512ef",
   "metadata": {},
   "outputs": [
    {
     "data": {
      "text/plain": [
       "frozenset({1, 2, 3})"
      ]
     },
     "execution_count": 93,
     "metadata": {},
     "output_type": "execute_result"
    }
   ],
   "source": [
    "A = {1,2,3}\n",
    "A_frozen = frozenset(A)\n",
    "A_frozen"
   ]
  },
  {
   "cell_type": "code",
   "execution_count": 94,
   "id": "c2d81003-a56f-463f-84b7-78830a23a7ad",
   "metadata": {},
   "outputs": [
    {
     "data": {
      "text/plain": [
       "frozenset()"
      ]
     },
     "execution_count": 94,
     "metadata": {},
     "output_type": "execute_result"
    }
   ],
   "source": [
    "# бессмысленно\n",
    "A = frozenset()\n",
    "A"
   ]
  },
  {
   "cell_type": "code",
   "execution_count": null,
   "id": "5ead7bc3-e122-445d-a643-788bbc450c79",
   "metadata": {},
   "outputs": [],
   "source": []
  },
  {
   "cell_type": "markdown",
   "id": "de74455f-b6a5-4b2f-9d85-399246b16398",
   "metadata": {},
   "source": [
    "### Итерирование по множеству"
   ]
  },
  {
   "cell_type": "code",
   "execution_count": 96,
   "id": "6a76f152-1344-4d54-9835-e9dbc465ebd1",
   "metadata": {},
   "outputs": [
    {
     "name": "stdout",
     "output_type": "stream",
     "text": [
      "frozenset({1, 2, 3})\n"
     ]
    }
   ],
   "source": [
    "print(A_frozen)"
   ]
  },
  {
   "cell_type": "code",
   "execution_count": 97,
   "id": "9be8a2cb-2007-4d17-8ea0-b9a6169bc2cb",
   "metadata": {},
   "outputs": [
    {
     "name": "stdout",
     "output_type": "stream",
     "text": [
      "1\n",
      "2\n",
      "3\n"
     ]
    }
   ],
   "source": [
    "for item in A_frozen:\n",
    "    print(item)"
   ]
  },
  {
   "cell_type": "code",
   "execution_count": null,
   "id": "6f2ddbd0-5f19-4caa-846e-37d3ba6692ac",
   "metadata": {},
   "outputs": [],
   "source": []
  },
  {
   "cell_type": "markdown",
   "id": "42c6094d-a04c-411a-937a-ef4ed999c530",
   "metadata": {},
   "source": [
    "### Генератор множеств"
   ]
  },
  {
   "cell_type": "code",
   "execution_count": 98,
   "id": "188ead04-0742-4461-adbb-81ec7631a3ce",
   "metadata": {},
   "outputs": [
    {
     "name": "stdout",
     "output_type": "stream",
     "text": [
      "<class 'set'>\n",
      "{25, 4, 49}\n"
     ]
    }
   ],
   "source": [
    "lst = [2,5,7]\n",
    "res = {item**2 for item in lst}\n",
    "print(type(res))\n",
    "print(res)"
   ]
  },
  {
   "cell_type": "code",
   "execution_count": null,
   "id": "c272b710-1855-4cff-9a3d-ebcbf06b0265",
   "metadata": {},
   "outputs": [],
   "source": []
  },
  {
   "cell_type": "markdown",
   "id": "b17c63f3-bd83-4366-ac81-1658514b8caf",
   "metadata": {},
   "source": [
    "## Словари"
   ]
  },
  {
   "cell_type": "code",
   "execution_count": 99,
   "id": "74dc24b6-0a39-441a-988a-d37ef258e55b",
   "metadata": {},
   "outputs": [
    {
     "name": "stdout",
     "output_type": "stream",
     "text": [
      "{'name': 'Alice', 'age': 30, 'city': 'New York'}\n"
     ]
    }
   ],
   "source": [
    "person = {\n",
    "    \"name\": \"Alice\",\n",
    "    \"age\": 30,\n",
    "    \"city\": \"New York\"\n",
    "}\n",
    "\n",
    "print(person)"
   ]
  },
  {
   "cell_type": "code",
   "execution_count": 100,
   "id": "87c0d535-efe5-4b18-a82c-a290a1a0c383",
   "metadata": {},
   "outputs": [
    {
     "name": "stdout",
     "output_type": "stream",
     "text": [
      "{1: 'Yes', 'two': 2, 3.5: [1, 2, 3]}\n"
     ]
    }
   ],
   "source": [
    "mixed_dict = {\n",
    "    1: \"apple\",\n",
    "    \"two\": 2,\n",
    "    3.5: [1, 2, 3],\n",
    "    True: \"Yes\"\n",
    "}\n",
    "\n",
    "print(mixed_dict)"
   ]
  },
  {
   "cell_type": "code",
   "execution_count": null,
   "id": "3690d6a6-d9a1-44c7-a1c1-a3707d0bb99c",
   "metadata": {},
   "outputs": [],
   "source": []
  },
  {
   "cell_type": "code",
   "execution_count": 101,
   "id": "4110420c-655e-4834-ac3d-fa492bc20711",
   "metadata": {},
   "outputs": [
    {
     "name": "stdout",
     "output_type": "stream",
     "text": [
      "{'key1': 'value1', 'key2': 'value2'}\n"
     ]
    }
   ],
   "source": [
    "empty_dict = {}\n",
    "empty_dict[\"key1\"] = \"value1\"\n",
    "empty_dict[\"key2\"] = \"value2\"\n",
    "\n",
    "print(empty_dict)"
   ]
  },
  {
   "cell_type": "code",
   "execution_count": 102,
   "id": "16680e82-87d9-496b-a289-c281ee479641",
   "metadata": {},
   "outputs": [
    {
     "name": "stdout",
     "output_type": "stream",
     "text": [
      "{'name': 'Tech Corp', 'employees': 1000, 'departments': {'IT': 200, 'HR': 50, 'Sales': 300}, 'locations': ['New York', 'London', 'Tokyo']}\n"
     ]
    }
   ],
   "source": [
    "company = {\n",
    "    \"name\": \"Tech Corp\",\n",
    "    \"employees\": 1000,\n",
    "    \"departments\": {\n",
    "        \"IT\": 200,\n",
    "        \"HR\": 50,\n",
    "        \"Sales\": 300\n",
    "    },\n",
    "    \"locations\": [\"New York\", \"London\", \"Tokyo\"]\n",
    "}\n",
    "\n",
    "print(company)"
   ]
  },
  {
   "cell_type": "code",
   "execution_count": 104,
   "id": "ac8de0fd-7ece-40ac-86f0-4bc7c24737cf",
   "metadata": {},
   "outputs": [
    {
     "data": {
      "text/plain": [
       "200"
      ]
     },
     "execution_count": 104,
     "metadata": {},
     "output_type": "execute_result"
    }
   ],
   "source": [
    "company[\"departments\"]['IT']"
   ]
  },
  {
   "cell_type": "code",
   "execution_count": 105,
   "id": "604c80ed-9bf4-4130-8f2f-aa47d87c6e1f",
   "metadata": {},
   "outputs": [
    {
     "name": "stdout",
     "output_type": "stream",
     "text": [
      "{'brand': 'Toyota', 'model': 'Corolla', 'year': 2020}\n"
     ]
    }
   ],
   "source": [
    "car = dict(brand=\"Toyota\", model=\"Corolla\", year=2020)\n",
    "print(car)"
   ]
  },
  {
   "cell_type": "code",
   "execution_count": 106,
   "id": "abf31f5a-2f46-4932-b727-48c4deb166b0",
   "metadata": {},
   "outputs": [
    {
     "name": "stdout",
     "output_type": "stream",
     "text": [
      "{'name': 'Bob', 'age': 25, 'city': 'Paris'}\n"
     ]
    }
   ],
   "source": [
    "keys = [\"name\", \"age\", \"city\"]\n",
    "values = [\"Bob\", 25, \"Paris\"]\n",
    "\n",
    "person = dict(zip(keys, values))\n",
    "print(person)"
   ]
  },
  {
   "cell_type": "markdown",
   "id": "d5c9739f-bcc7-49f8-a6e9-02e1477f6569",
   "metadata": {},
   "source": [
    "### Методы items() keys() values()"
   ]
  },
  {
   "cell_type": "code",
   "execution_count": 107,
   "id": "de132d7d-0bf2-4c90-82d2-b97a72b94c7c",
   "metadata": {},
   "outputs": [
    {
     "name": "stdout",
     "output_type": "stream",
     "text": [
      "Ключи: dict_keys(['name', 'age', 'city'])\n",
      "Значения: dict_values(['Alice', 30, 'New York'])\n",
      "Пары ключ-значение: dict_items([('name', 'Alice'), ('age', 30), ('city', 'New York')])\n"
     ]
    }
   ],
   "source": [
    "person = {\"name\": \"Alice\", \"age\": 30, \"city\": \"New York\"}\n",
    "\n",
    "print(\"Ключи:\", person.keys())\n",
    "print(\"Значения:\", person.values())\n",
    "print(\"Пары ключ-значение:\", person.items())"
   ]
  },
  {
   "cell_type": "code",
   "execution_count": null,
   "id": "c80a35e0-6bc3-4d91-ad29-0383b70fd221",
   "metadata": {},
   "outputs": [],
   "source": []
  },
  {
   "cell_type": "markdown",
   "id": "01d1a3b5-fff5-4afd-8b4a-6504ecfbe9c3",
   "metadata": {},
   "source": [
    "### Итерирование по словарю"
   ]
  },
  {
   "cell_type": "code",
   "execution_count": 108,
   "id": "73d913a3-c913-4efe-b4ef-84896d11f7e4",
   "metadata": {},
   "outputs": [
    {
     "name": "stdout",
     "output_type": "stream",
     "text": [
      "name\n",
      "age\n",
      "city\n"
     ]
    }
   ],
   "source": [
    "for key in person.keys():\n",
    "    print(key)"
   ]
  },
  {
   "cell_type": "code",
   "execution_count": 109,
   "id": "e8b3381d-8d7e-47dd-bda3-56fd4ec3195c",
   "metadata": {},
   "outputs": [
    {
     "name": "stdout",
     "output_type": "stream",
     "text": [
      "Alice\n",
      "30\n",
      "New York\n"
     ]
    }
   ],
   "source": [
    "for value in person.values():\n",
    "    print(value)"
   ]
  },
  {
   "cell_type": "code",
   "execution_count": 110,
   "id": "0fcfff95-25db-4b87-a52e-01e33e08ba04",
   "metadata": {},
   "outputs": [
    {
     "name": "stdout",
     "output_type": "stream",
     "text": [
      "name\n",
      "age\n",
      "city\n"
     ]
    }
   ],
   "source": [
    "for item in person:\n",
    "    print(item)"
   ]
  },
  {
   "cell_type": "code",
   "execution_count": 112,
   "id": "a17abaac-ace9-4d80-bb46-e7422200052b",
   "metadata": {},
   "outputs": [
    {
     "name": "stdout",
     "output_type": "stream",
     "text": [
      "name --- Alice\n",
      "age --- 30\n",
      "city --- New York\n"
     ]
    }
   ],
   "source": [
    "for key, value in person.items():\n",
    "    print(key,'---', value)"
   ]
  },
  {
   "cell_type": "markdown",
   "id": "a1e897d7-2e97-4aac-8be8-8a7ac5c36e6b",
   "metadata": {},
   "source": [
    "### **kwargs"
   ]
  },
  {
   "cell_type": "code",
   "execution_count": 113,
   "id": "10732316-88ea-4044-ac3f-11a4f24f22e6",
   "metadata": {},
   "outputs": [],
   "source": [
    "def greet(**kwargs):\n",
    "    for key, value in kwargs.items():\n",
    "        print(f\"{key}: {value}\")"
   ]
  },
  {
   "cell_type": "code",
   "execution_count": 115,
   "id": "3c7bea09-35a5-45e1-b649-50b8c868d605",
   "metadata": {},
   "outputs": [
    {
     "name": "stdout",
     "output_type": "stream",
     "text": [
      "name: Alice\n",
      "age: 30\n",
      "city: New York\n",
      "region: EUR\n"
     ]
    }
   ],
   "source": [
    "greet(name=\"Alice\", age=30, city=\"New York\", region = 'EUR')"
   ]
  },
  {
   "cell_type": "code",
   "execution_count": null,
   "id": "74d904d3-4d0b-453b-a0c4-480369b414ae",
   "metadata": {},
   "outputs": [],
   "source": []
  },
  {
   "cell_type": "code",
   "execution_count": 116,
   "id": "f227f2ec-f706-4bf5-b1c1-8201aa82fa8b",
   "metadata": {},
   "outputs": [
    {
     "data": {
      "text/plain": [
       "{'name': 'Alice', 'age': 30, 'city': 'New York'}"
      ]
     },
     "execution_count": 116,
     "metadata": {},
     "output_type": "execute_result"
    }
   ],
   "source": [
    "def test(**kwargs):\n",
    "    return kwargs\n",
    "\n",
    "test(name=\"Alice\", age=30, city=\"New York\")"
   ]
  },
  {
   "cell_type": "code",
   "execution_count": 117,
   "id": "aa84b869-a178-471d-8aef-c6bd7c005deb",
   "metadata": {},
   "outputs": [
    {
     "name": "stdout",
     "output_type": "stream",
     "text": [
      "15\n"
     ]
    }
   ],
   "source": [
    "def summ(*lst): #summ(1,2,3,4,5)\n",
    "    return sum(lst)\n",
    "\n",
    "\n",
    "\n",
    "lst = [1,2,3,4,5]\n",
    "print(summ(*lst))"
   ]
  },
  {
   "cell_type": "code",
   "execution_count": 119,
   "id": "6c188475-92b6-44da-9e90-3de474a2a9cd",
   "metadata": {},
   "outputs": [
    {
     "name": "stdout",
     "output_type": "stream",
     "text": [
      "15\n",
      "15\n"
     ]
    }
   ],
   "source": [
    "def summ(**lst):\n",
    "    s = 0\n",
    "    for value in lst.values():\n",
    "        s += value\n",
    "    return s\n",
    "\n",
    "\n",
    "# вариант 1\n",
    "lst = {'a':1, 'b':2, 'c':3, 'd':4, 'e':5}\n",
    "print(summ(**lst)) \n",
    "\n",
    "# вариант 2\n",
    "print(summ(a=1, b=2, c = 3, d=4, e=5)) "
   ]
  },
  {
   "cell_type": "markdown",
   "id": "e683c4e2-e7c2-4b14-801f-831cfe329c08",
   "metadata": {},
   "source": [
    "### Практика"
   ]
  },
  {
   "cell_type": "markdown",
   "id": "39c05bcc-a386-4ccc-8ad2-c2f6db1d0e2f",
   "metadata": {},
   "source": [
    "Для заданного количества персон выведите данные о количестве ингредиентов по каждому блюду"
   ]
  },
  {
   "cell_type": "markdown",
   "id": "31f6eb91-615f-4eec-9162-5fec0a8f17c1",
   "metadata": {},
   "source": [
    "person = 5\n",
    "\n",
    "Салат:\n",
    "картофель, 500гр.\n",
    "морковь, 250гр.\n",
    "огурцы, 250гр.\n",
    "горошек, 150гр.\n",
    "майонез, 350мл.\n",
    "Пицца:\n",
    "сыр, 250гр.\n",
    "томаты, 250гр.\n",
    "тесто, 500гр.\n",
    "бекон, 150гр.\n",
    "колбаса, 150гр.\n",
    "грибы, 100гр.\n",
    "Фруктовый десерт:\n",
    "хурма, 300гр.\n",
    "киви, 300гр.\n",
    "творог, 300гр.\n",
    "сахар, 50гр.\n",
    "мед, 250мл."
   ]
  },
  {
   "cell_type": "code",
   "execution_count": 120,
   "id": "1bb2c0db-10bd-40c3-ab86-85ba66790100",
   "metadata": {},
   "outputs": [],
   "source": [
    "cook_book = {\n",
    "  'салат': [\n",
    "     {'ingridient_name': 'сыр', 'quantity': 50, 'measure': 'гр'},\n",
    "     {'ingridient_name': 'томаты', 'quantity': 20, 'measure': 'гр'},\n",
    "     {'ingridient_name': 'огурцы', 'quantity': 20, 'measure': 'гр'},\n",
    "     {'ingridient_name': 'маслины', 'quantity': 10, 'measure': 'гр'},\n",
    "     {'ingridient_name': 'оливковое масло', 'quantity': 20, 'measure': 'мл'},\n",
    "     {'ingridient_name': 'салат', 'quantity': 10, 'measure': 'гр'},\n",
    "     {'ingridient_name': 'перец', 'quantity': 20, 'measure': 'гр'}\n",
    "    ],\n",
    "  'пицца': [\n",
    "     {'ingridient_name': 'сыр', 'quantity': 20, 'measure': 'гр'},\n",
    "     {'ingridient_name': 'колбаса', 'quantity': 30, 'measure': 'гр'},\n",
    "     {'ingridient_name': 'бекон', 'quantity': 30, 'measure': 'гр'},\n",
    "     {'ingridient_name': 'оливки', 'quantity': 10, 'measure': 'гр'},\n",
    "     {'ingridient_name': 'томаты', 'quantity': 20, 'measure': 'гр'},\n",
    "     {'ingridient_name': 'тесто', 'quantity': 100, 'measure': 'гр'},\n",
    "    ],\n",
    "  'лимонад': [\n",
    "     {'ingridient_name': 'лимон', 'quantity': 1, 'measure': 'шт'},\n",
    "     {'ingridient_name': 'вода', 'quantity': 200, 'measure': 'мл'},\n",
    "     {'ingridient_name': 'сахар', 'quantity': 10, 'measure': 'гр'},\n",
    "     {'ingridient_name': 'лайм', 'quantity': 20, 'measure': 'гр'},\n",
    "    ]\n",
    "}"
   ]
  },
  {
   "cell_type": "code",
   "execution_count": 134,
   "id": "aaca3e9c-0872-43e0-91e2-65ba49f40eee",
   "metadata": {
    "scrolled": true
   },
   "outputs": [
    {
     "name": "stdout",
     "output_type": "stream",
     "text": [
      "салат :\n",
      "сыр                      250 гр\n",
      "томаты                   100 гр\n",
      "огурцы                   100 гр\n",
      "маслины                   50 гр\n",
      "оливковое масло          100 мл\n",
      "салат                     50 гр\n",
      "перец                    100 гр\n",
      "\n",
      "пицца :\n",
      "сыр                      100 гр\n",
      "колбаса                  150 гр\n",
      "бекон                    150 гр\n",
      "оливки                    50 гр\n",
      "томаты                   100 гр\n",
      "тесто                    500 гр\n",
      "\n",
      "лимонад :\n",
      "лимон                      5 шт\n",
      "вода                    1000 мл\n",
      "сахар                     50 гр\n",
      "лайм                     100 гр\n",
      "\n"
     ]
    }
   ],
   "source": [
    "person = 5\n",
    "for name_delish, ingridients in cook_book.items():\n",
    "    print(name_delish,':')\n",
    "    for dct in ingridients:\n",
    "        print(f'{dct['ingridient_name']:20} {dct['quantity']*person:7d} {dct['measure']}')\n",
    "    print()\n",
    "    "
   ]
  },
  {
   "cell_type": "code",
   "execution_count": null,
   "id": "273c547e-e292-470a-8c3b-f589c671f9d8",
   "metadata": {},
   "outputs": [],
   "source": []
  },
  {
   "cell_type": "code",
   "execution_count": null,
   "id": "c26caf2d-f31e-4168-937c-2b456bdf53c5",
   "metadata": {},
   "outputs": [],
   "source": []
  },
  {
   "cell_type": "markdown",
   "id": "d837eb62-3bb2-4cfb-a710-9865f8ba9912",
   "metadata": {},
   "source": [
    "## ДЗ 19"
   ]
  },
  {
   "cell_type": "code",
   "execution_count": null,
   "id": "754c5867-7b4d-45a8-9bf3-db91923fed85",
   "metadata": {},
   "outputs": [],
   "source": [
    "Напишите программу, которая принимает список слов и возвращает список, содержащий только анаграммы. \n",
    "Анаграммы - это слова, составленные из одних и тех же букв, но в разном порядке. Создайте функцию anagrams, которая принимает список слов в качестве аргумента и возвращает список анаграмм. \n",
    "Используйте множества и сортировку букв в слове для проверки на анаграмму. Выведите результат на экран.\n",
    "\n",
    "Пример переданного списка слов:\n",
    "\n",
    "['cat', 'dog', 'tac', 'god', 'act']\n",
    "Пример вывода:\n",
    "Анаграммы: ['dog', 'god'], ['cat', 'tac', 'act']\n"
   ]
  },
  {
   "cell_type": "code",
   "execution_count": null,
   "id": "3ac2d0aa-e148-46c8-bc12-1bc1cf88cc4c",
   "metadata": {},
   "outputs": [],
   "source": [
    "def anagrams(words):\n",
    "    groups = []\n",
    "    used_words = set()  # Для отслеживания уже обработанных слов\n",
    "    \n",
    "    for word in words:\n",
    "        if ''.join(sorted(word)) not in used_words:\n",
    "            # Создаем новую группу для текущего слова\n",
    "            group = [w for w in words if ''.join(sorted(w)) == ''.join(sorted(word))]\n",
    "            groups.append(group)\n",
    "            used_words.add(''.join(sorted(word)))  # Добавляем отсортированное слово в множество обработанных\n",
    "    \n",
    "    return groups\n",
    "\n",
    "# Пример использования\n",
    "words = ['cat', 'dog', 'tac', 'god', 'act']\n",
    "print(anagrams(words))"
   ]
  },
  {
   "cell_type": "code",
   "execution_count": null,
   "id": "ea182d42-7d32-4e14-9e71-53242d813f11",
   "metadata": {},
   "outputs": [],
   "source": []
  },
  {
   "cell_type": "code",
   "execution_count": null,
   "id": "49e01d58-9561-4831-9187-e47805f2c4f0",
   "metadata": {},
   "outputs": [],
   "source": [
    "''.join(sorted('олпати'))"
   ]
  },
  {
   "cell_type": "code",
   "execution_count": null,
   "id": "dc939af5-4fc0-4c6d-a954-18e80cd881a0",
   "metadata": {},
   "outputs": [],
   "source": [
    "lst"
   ]
  },
  {
   "cell_type": "code",
   "execution_count": null,
   "id": "b66baf83-074d-483f-aa52-99f33c9f75ff",
   "metadata": {},
   "outputs": [],
   "source": [
    "Напишите функцию is_subset, которая принимает два множества set1 и set2 и проверяет, является ли set1 подмножеством set2. \n",
    "Функция должна возвращать True, если все элементы из set1 содержатся в set2, и False в противном случае. \n",
    "Функция должна быть реализована без использования встроенных методов issubset или <=.\n",
    "\n",
    "Пример множеств:\n",
    "{1, 2, 3}\n",
    "{1, 2, 3, 4, 5}\n",
    "\n",
    "Пример вывода:\n",
    "True\n"
   ]
  },
  {
   "cell_type": "code",
   "execution_count": null,
   "id": "f2e0ad03-2d36-4109-a75d-7ba47180a6a4",
   "metadata": {},
   "outputs": [],
   "source": []
  },
  {
   "cell_type": "markdown",
   "id": "61c710ac-599f-4035-a210-b0253bd17e5d",
   "metadata": {},
   "source": [
    "## ДЗ 20"
   ]
  },
  {
   "cell_type": "markdown",
   "id": "3107b72e-e54c-46a2-a19b-5b29d60c4572",
   "metadata": {},
   "source": [
    "Напишите функцию merge_dicts, которая принимает произвольное количество словарей в качестве аргументов и возвращает новый словарь, объединяющий все входные словари. Если ключи повторяются, значения должны быть объединены в список. \n",
    "\n",
    "Пример ввода:\n",
    "\n",
    "{'a': 1, 'b': 2}\n",
    "{'b': 3, 'c': 4}\n",
    "{'c': 5, 'd': 6}\n",
    "\n",
    "Пример вывода:\n",
    "{'a': [1], 'b': [2, 3], 'c': [4, 5], 'd': [6]}\n"
   ]
  },
  {
   "cell_type": "code",
   "execution_count": null,
   "id": "29711263-f8be-4fd2-ab24-9a2cd4284b75",
   "metadata": {},
   "outputs": [],
   "source": [
    "def merge_dicts(lst_dict):\n",
    "    result_dct = dict()\n",
    "    for dct in lst_dict:\n",
    "        for key, value in dct.items():\n",
    "            if key not in result_dct:\n",
    "                result_dct[key] = [value]\n",
    "            else:\n",
    "                result_dct[key] += [value]\n",
    "    return result_dct\n",
    "            \n",
    "        \n",
    "    "
   ]
  },
  {
   "cell_type": "code",
   "execution_count": null,
   "id": "3661ee35-0bfc-4fb8-80a8-e04a5536606e",
   "metadata": {},
   "outputs": [],
   "source": [
    "lst_dict = [{'a': 1, 'b': 2},\n",
    "            {'b': 3, 'c': 4},\n",
    "            {'c': 5, 'd': 6}]\n",
    "merge_dicts(lst_dict)"
   ]
  },
  {
   "cell_type": "code",
   "execution_count": null,
   "id": "dd87bfd8-ff79-45c6-a45c-5a107a3d8cfa",
   "metadata": {},
   "outputs": [],
   "source": []
  },
  {
   "cell_type": "markdown",
   "id": "aae31d0b-f1a0-44e2-b82d-8f252e15332f",
   "metadata": {},
   "source": [
    "Напишите программу, которая принимает строку от пользователя и подсчитывает количество уникальных символов в этой строке. Создайте функцию count_unique_chars, которая принимает строку и возвращает количество уникальных символов. Выведите результат на экран.\n",
    "\n",
    "Пример вывода:\n",
    "Введите строку: hello\n",
    "Количество уникальных символов: 4\n"
   ]
  },
  {
   "cell_type": "code",
   "execution_count": null,
   "id": "c204b4d5-87da-4515-be88-381cd064719f",
   "metadata": {},
   "outputs": [],
   "source": []
  },
  {
   "cell_type": "markdown",
   "id": "2b756dd8-9793-4064-8d5a-4b2e6b220910",
   "metadata": {},
   "source": [
    "Напишите программу, которая создает словарь, содержащий информацию о студентах и их оценках. Ключами словаря являются имена студентов, а значениями - списки оценок. Создайте функцию calculate_average_grade, которая принимает словарь с оценками студентов и вычисляет средний балл для каждого студента. Функция должна возвращать новый словарь, в котором ключами являются имена студентов, а значениями - их средний балл. Выведите результат на экран.\n",
    "\n",
    "Пример словаря с оценками:\n",
    "\n",
    "grades = {\n",
    "    'Alice': [85, 90, 92],\n",
    "    'Bob': [78, 80, 84],\n",
    "    'Carol': [92, 88, 95]\n",
    "}\n"
   ]
  },
  {
   "cell_type": "code",
   "execution_count": null,
   "id": "5bae2dd2-2ddb-44fb-afd9-611f4b6c7034",
   "metadata": {},
   "outputs": [],
   "source": []
  }
 ],
 "metadata": {
  "kernelspec": {
   "display_name": "Python 3 (ipykernel)",
   "language": "python",
   "name": "python3"
  },
  "language_info": {
   "codemirror_mode": {
    "name": "ipython",
    "version": 3
   },
   "file_extension": ".py",
   "mimetype": "text/x-python",
   "name": "python",
   "nbconvert_exporter": "python",
   "pygments_lexer": "ipython3",
   "version": "3.12.4"
  }
 },
 "nbformat": 4,
 "nbformat_minor": 5
}
