{
 "cells": [
  {
   "cell_type": "markdown",
   "id": "f89d32e3-0a00-4a9a-83bf-cdbbd9efe608",
   "metadata": {},
   "source": [
    "# Числа с плавающей запятой"
   ]
  },
  {
   "cell_type": "code",
   "execution_count": null,
   "id": "60bceb27-e597-434a-b38f-a829c0e13797",
   "metadata": {},
   "outputs": [],
   "source": []
  },
  {
   "cell_type": "markdown",
   "id": "39879d2c-095f-46d8-abe4-1bed36a9ac6c",
   "metadata": {},
   "source": [
    "Напишите программу, которая запрашивает у пользователя вещественное число и выводит его представление в памяти компьютера. Вещественные числа в памяти компьютера представлены с использованием формата с плавающей запятой. Используйте стандартные функции языка Python для получения представления числа в бинарном виде и вывода его на экран.\n",
    "\n",
    "Пример вывода:\n",
    "\n",
    "Введите десятичное число: 3.14\n",
    "\n",
    "Представление числа в формате IEEE 754: 01000000010010001111010111000010"
   ]
  },
  {
   "cell_type": "code",
   "execution_count": 12,
   "id": "a2dfdf1d-9b12-4d76-88cc-0fb54e94c75b",
   "metadata": {},
   "outputs": [
    {
     "name": "stdout",
     "output_type": "stream",
     "text": [
      "0b11\n"
     ]
    }
   ],
   "source": [
    "print(bin(3))"
   ]
  },
  {
   "cell_type": "code",
   "execution_count": 13,
   "id": "b3fcc678-40af-4b30-9f35-9485ab6c33b1",
   "metadata": {},
   "outputs": [
    {
     "name": "stdin",
     "output_type": "stream",
     "text": [
      "Введите десятичное число:  3.14\n"
     ]
    },
    {
     "name": "stdout",
     "output_type": "stream",
     "text": [
      "00100011110101110000101\n",
      "Представление числа в формате IEEE 754: 01000000010010001111010111000010\n"
     ]
    }
   ],
   "source": [
    "number = float(input(\"Введите десятичное число: \")) #3.14\n",
    "\n",
    "sign = '0' if number >= 0 else '1'\n",
    "number = abs(number)\n",
    "\n",
    "# Преобразуем целую часть числа в двоичное представление\n",
    "integer_part = int(number) # 3\n",
    "fractional_part = number - integer_part # 0.14\n",
    "\n",
    "integer_bin = bin(integer_part)[2:] #11 в двоичном представлении число 3\n",
    "#print(integer_bin)\n",
    "\n",
    "# Преобразуем дробную часть числа в двоичное представление\n",
    "fractional_bin = ''\n",
    "while fractional_part and len(fractional_bin) < 23:\n",
    "    fractional_part *= 2\n",
    "    bit = int(fractional_part)\n",
    "    fractional_bin += str(bit)\n",
    "    fractional_part -= bit\n",
    "print(fractional_bin)\n",
    "\n",
    "# Объединяем целую и дробную части\n",
    "mantissa_bin = integer_bin + fractional_bin\n",
    "# Нормализуем мантиссу и находим порядок\n",
    "exponent = len(integer_bin) - 1\n",
    "mantissa_bin = mantissa_bin[1:24]\n",
    "\n",
    "# Преобразуем порядок в двоичное представление\n",
    "exponent_bin = bin(exponent + 127)[2:].zfill(8)\n",
    "\n",
    "# Объединяем знак, порядок и мантиссу\n",
    "ieee754_bin = sign + exponent_bin + mantissa_bin.ljust(23, \"0\")\n",
    "\n",
    "print(\"Представление числа в формате IEEE 754:\", ieee754_bin)\n"
   ]
  },
  {
   "cell_type": "code",
   "execution_count": 7,
   "id": "6df5f861-d866-44a1-9015-9e10f385c18f",
   "metadata": {},
   "outputs": [
    {
     "name": "stdin",
     "output_type": "stream",
     "text": [
      "Введите десятичное число:  3.14\n"
     ]
    },
    {
     "name": "stdout",
     "output_type": "stream",
     "text": [
      "Представление числа в формате IEEE 754: 01000000010010001111010111000011\n"
     ]
    }
   ],
   "source": [
    "import struct \n",
    "number = float(input(\"Введите десятичное число: \"))\n",
    "\n",
    "# Преобразуем число в 32-битное представление с плавающей точкой\n",
    "binary_representation = ''.join(f'{c:08b}' for c in bytearray(struct.pack('!f', number)))\n",
    "\n",
    "print(\"Представление числа в формате IEEE 754:\", binary_representation)\n"
   ]
  },
  {
   "cell_type": "markdown",
   "id": "1f44b679-163c-4fad-ab8a-e888f228ca6e",
   "metadata": {},
   "source": [
    "### Полезные материалы\n",
    "1. https://skillbox.ru/media/code/chisla-s-plavayushchey-tochkoy-chto-eto-takoe-i-kak-oni-rabotayut/\n",
    "2. \"What Every Computer Scientist Should Know About Floating-Point Arithmetic\" by David Goldberg:\n",
    "Это классическая статья, которая предоставляет фундаментальное понимание работы вещественных чисел в компьютере и особенностей формата с плавающей запятой. Статья представляет материал с акцентом на компьютерные науки и объясняет важные понятия, такие как округление, погрешности и потеря точности при арифметических операциях. Статья доступна по ссылке: http://www.validlab.com/goldberg/paper.pdf\n",
    "3. \"IEEE 754 Floating Point Standard\" на сайте Computer Science Department, University of Texas at Dallas:\n",
    "Этот ресурс предоставляет подробное описание формата с плавающей запятой стандарта IEEE 754. Он объясняет структуру формата, битовые поля для знака, экспоненты и мантиссы, а также предоставляет информацию о специальных значениях, таких как бесконечность и NaN. Страница доступна по ссылке: http://www.utdallas.edu/~cantrell/ee4375/ieee754/ieee754.html\n",
    "4. \"Floating-Point Arithmetic\" на сайте Python documentation:\n",
    "Официальная документация Python содержит полезную информацию о работе с вещественными числами и форматом с плавающей запятой в языке программирования Python. Она объясняет особенности представления чисел, арифметические операции, проблемы точности и рекомендации по использованию чисел с плавающей запятой. Материал доступен на официальном сайте Python: https://docs.python.org/3/tutorial/floatingpoint.html\n"
   ]
  },
  {
   "cell_type": "markdown",
   "id": "e11e148f-bb61-4156-acb2-506e95e19674",
   "metadata": {},
   "source": [
    "### Вопросы для закрепления\r",
    "1. \n",
    "Зачем придумали формат с плавающей точкой? В чем его преимущества?2. \r\n",
    "В чем его недостатки? Как мы можем столкнуться с этими недостатками на практике3. ?\r\n",
    "Опишите, как бы вы сравнивали два числа в формате с плавающей запятой на больше/меньше? \r\n"
   ]
  },
  {
   "cell_type": "code",
   "execution_count": null,
   "id": "3ca5f100-897b-4892-a272-0b5ab3405970",
   "metadata": {},
   "outputs": [],
   "source": []
  }
 ],
 "metadata": {
  "kernelspec": {
   "display_name": "Python 3 (ipykernel)",
   "language": "python",
   "name": "python3"
  },
  "language_info": {
   "codemirror_mode": {
    "name": "ipython",
    "version": 3
   },
   "file_extension": ".py",
   "mimetype": "text/x-python",
   "name": "python",
   "nbconvert_exporter": "python",
   "pygments_lexer": "ipython3",
   "version": "3.12.4"
  }
 },
 "nbformat": 4,
 "nbformat_minor": 5
}
