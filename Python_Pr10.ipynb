{
 "cells": [
  {
   "cell_type": "markdown",
   "id": "4469623a-8e08-4f67-8a51-2cafc7f6a2dd",
   "metadata": {},
   "source": [
    "# Практикум 10"
   ]
  },
  {
   "cell_type": "markdown",
   "id": "9f58b29e-a004-4906-b1b9-0b681eefcc6a",
   "metadata": {},
   "source": [
    "Словарь синонимов. Вам дан словарь, состоящий из пар слов. Каждое слово является синонимом к парному ему слову. Все слова в словаре различны. \n",
    "\n",
    "Написать функцию, которая для заданного слова из словаря, определяет его синоним. \n",
    "\n",
    "Пример словаря: {“Hello”: “Hi”, “Bye”: “Goodbye”, “List”: “Array”}. get_synonim(“Goodbye”) -> Bye.\n",
    "\n"
   ]
  },
  {
   "cell_type": "code",
   "execution_count": 1,
   "id": "a4461b53-63bf-4bbb-a500-7beaa9c2aaa8",
   "metadata": {},
   "outputs": [],
   "source": [
    "synonym_dict = {\"Hello\": \"Hi\", \"Bye\": \"Goodbye\", \"List\": \"Array\"}"
   ]
  },
  {
   "cell_type": "code",
   "execution_count": null,
   "id": "b03fa4e9-76a4-4886-abad-008170b039bc",
   "metadata": {},
   "outputs": [],
   "source": [
    "def get_synonym(word, synonym_dict):\n",
    "    # Проверяем, является ли слово ключом в словаре\n",
    "    if word in synonym_dict:\n",
    "        return synonym_dict[word]\n",
    "    # Проверяем, является ли слово значением в словаре\n",
    "    else:\n",
    "        for key, value in synonym_dict.items():\n",
    "            if value == word:\n",
    "                return key\n",
    "    return None  # Если слово не найдено в словаре\n",
    "\n",
    "# Пример использования\n",
    "synonym_dict = {\"Hello\": \"Hi\", \"Bye\": \"Goodbye\", \"List\": \"Array\"}\n",
    "\n",
    "# Примеры вызовов функции\n",
    "print(get_synonym(\"Goodbye\", synonym_dict))  # Вывод: Bye\n",
    "print(get_synonym(\"Hi\", synonym_dict))       # Вывод: Hello\n",
    "print(get_synonym(\"Array\", synonym_dict))    # Вывод: List\n",
    "print(get_synonym(\"Unknown\", synonym_dict)) # Вывод: None\n",
    "\n",
    "    "
   ]
  },
  {
   "cell_type": "code",
   "execution_count": null,
   "id": "d9e500f2-c427-4fbd-8207-42f35e347627",
   "metadata": {},
   "outputs": [],
   "source": []
  },
  {
   "cell_type": "code",
   "execution_count": null,
   "id": "22d114b5-3d91-405b-915c-6eb3f2d0b318",
   "metadata": {},
   "outputs": [],
   "source": []
  },
  {
   "cell_type": "markdown",
   "id": "a5a6d24b-c01a-4d83-9246-47717a5372fc",
   "metadata": {},
   "source": [
    "Дан список стран и городов каждой страны. Затем даны названия городов. Для каждого города укажите, в какой стране он находится. Пример словаря: {“Germany”: “Berlin Hamburg Munich Leipzig”, “Ukraine”: “Kiev Donetsk Odessa”}. which_country(“Munich”) = Germany. \n",
    "\n"
   ]
  },
  {
   "cell_type": "code",
   "execution_count": null,
   "id": "88f3d956-ce05-4a9c-8c0f-55a52f5d5770",
   "metadata": {},
   "outputs": [],
   "source": [
    "def which_country(city, country_city_dict):\n",
    "    # Проходим по всем парам в словаре\n",
    "    for country, cities in country_city_dict.items():\n",
    "        # Разделяем строку городов на список\n",
    "        city_list = cities.split()\n",
    "        # Проверяем, содержится ли город в списке городов\n",
    "        if city in city_list:\n",
    "            return country\n",
    "    return None  # Если город не найден в словаре\n",
    "\n",
    "# Пример словаря\n",
    "country_city_dict = {\n",
    "    \"Germany\": \"Berlin Hamburg Munich Leipzig\",\n",
    "    \"Ukraine\": \"Kiev Donetsk Odessa\",\n",
    "    \"France\": \"Paris Marseille Lyon\",\n",
    "    \"Italy\": \"Rome Milan Naples\"\n",
    "}\n",
    "\n",
    "# Примеры вызовов функции\n",
    "print(which_country(\"Munich\", country_city_dict))  # Вывод: Germany\n",
    "print(which_country(\"Odessa\", country_city_dict))   # Вывод: Ukraine\n",
    "print(which_country(\"Paris\", country_city_dict))    # Вывод: France\n",
    "print(which_country(\"New York\", country_city_dict)) # Вывод: None\n"
   ]
  },
  {
   "cell_type": "markdown",
   "id": "d25c3510-2296-43d7-986e-3c7351247bbd",
   "metadata": {},
   "source": [
    "Дана база данных о продажах некоторого интернет-магазина. Каждая строка входного файла представляет собой запись вида {Покупатель товар количество}, где Покупатель — имя покупателя (строка без пробелов), товар — название товара (строка без пробелов), количество — количество приобретенных единиц товара.\n",
    "Создайте список всех покупателей, а для каждого покупателя подсчитайте количество приобретенных им единиц каждого вида товаров. Список покупателей, а также список товаров для каждого покупателя нужно выводить в лексикографическом порядке.\n"
   ]
  },
  {
   "cell_type": "code",
   "execution_count": 5,
   "id": "5d035a13-0b5d-47d6-97d7-070570cba744",
   "metadata": {},
   "outputs": [
    {
     "name": "stdout",
     "output_type": "stream",
     "text": [
      "Покупатель: Ivanov\n",
      "  Book: 2\n",
      "  Pencil: 10\n",
      "Покупатель: Petrov\n",
      "  Notebook: 1\n",
      "  Pen: 5\n",
      "Покупатель: Sidorov\n",
      "  Book: 3\n"
     ]
    }
   ],
   "source": [
    "def process_sales_data(file_path):\n",
    "    # Словарь для хранения данных о покупателях и товарах\n",
    "    customer_data = {}\n",
    "\n",
    "    # Чтение данных из файла\n",
    "    with open(file_path, 'r') as file:\n",
    "        for line in file:\n",
    "            # Разделение строки на части\n",
    "            parts = line.strip().split()\n",
    "            customer = parts[0]\n",
    "            item = parts[1]\n",
    "            quantity = int(parts[2])\n",
    "\n",
    "            # Проверка, существует ли покупатель в словаре\n",
    "            if customer not in customer_data:\n",
    "                customer_data[customer] = {}\n",
    "\n",
    "            # Проверка, существует ли товар в словаре покупателя\n",
    "            if item not in customer_data[customer]:\n",
    "                customer_data[customer][item] = 0\n",
    "\n",
    "            # Обновление количества товаров\n",
    "            customer_data[customer][item] += quantity\n",
    "\n",
    "    # Сортировка покупателей в лексикографическом порядке\n",
    "    sorted_customers = sorted(customer_data.keys())\n",
    "\n",
    "    # Вывод результатов\n",
    "    for customer in sorted_customers:\n",
    "        print(f\"Покупатель: {customer}\")\n",
    "        # Сортировка товаров в лексикографическом порядке\n",
    "        sorted_items = sorted(customer_data[customer].keys())\n",
    "        for item in sorted_items:\n",
    "            print(f\"  {item}: {customer_data[customer][item]}\")\n",
    "\n",
    "# Пример использования\n",
    "file_path = 'sales.txt'\n",
    "process_sales_data(file_path)\n"
   ]
  },
  {
   "cell_type": "code",
   "execution_count": 4,
   "id": "dd3379c0-8598-4571-8281-94588a25a8d9",
   "metadata": {},
   "outputs": [
    {
     "name": "stdout",
     "output_type": "stream",
     "text": [
      "defaultdict(<function process_sales_data.<locals>.<lambda> at 0x000001E0F15982C0>, {'Ivanov': defaultdict(<class 'int'>, {'Book': 2, 'Pencil': 10}), 'Petrov': defaultdict(<class 'int'>, {'Pen': 5, 'Notebook': 1}), 'Sidorov': defaultdict(<class 'int'>, {'Book': 3})})\n",
      "Покупатель: Ivanov\n",
      "  Book: 2\n",
      "  Pencil: 10\n",
      "Покупатель: Petrov\n",
      "  Notebook: 1\n",
      "  Pen: 5\n",
      "Покупатель: Sidorov\n",
      "  Book: 3\n"
     ]
    }
   ],
   "source": [
    "from collections import defaultdict\n",
    "\n",
    "def process_sales_data(file_path):\n",
    "    # Словарь для хранения данных о покупателях и товарах\n",
    "    customer_data = defaultdict(lambda: defaultdict(int))\n",
    "\n",
    "    # Чтение данных из файла\n",
    "    with open(file_path, 'r') as file:\n",
    "        for line in file:\n",
    "            # Разделение строки на части\n",
    "            parts = line.strip().split()\n",
    "            customer = parts[0]\n",
    "            item = parts[1]\n",
    "            quantity = int(parts[2])\n",
    "\n",
    "            # Обновление данных о покупателе\n",
    "            customer_data[customer][item] += quantity\n",
    "\n",
    "    # Сортировка покупателей в лексикографическом порядке\n",
    "    sorted_customers = sorted(customer_data.keys())\n",
    "    print(customer_data)\n",
    "\n",
    "    # Вывод результатов\n",
    "    for customer in sorted_customers:\n",
    "        print(f\"Покупатель: {customer}\")\n",
    "        # Сортировка товаров в лексикографическом порядке\n",
    "        sorted_items = sorted(customer_data[customer].keys())\n",
    "        for item in sorted_items:\n",
    "            print(f\"  {item}: {customer_data[customer][item]}\")\n",
    "\n",
    "# Пример использования\n",
    "file_path = 'sales.txt'\n",
    "process_sales_data(file_path)\n"
   ]
  },
  {
   "cell_type": "code",
   "execution_count": null,
   "id": "a276b398-92be-4703-a069-e64adeae084d",
   "metadata": {},
   "outputs": [],
   "source": []
  }
 ],
 "metadata": {
  "kernelspec": {
   "display_name": "Python 3 (ipykernel)",
   "language": "python",
   "name": "python3"
  },
  "language_info": {
   "codemirror_mode": {
    "name": "ipython",
    "version": 3
   },
   "file_extension": ".py",
   "mimetype": "text/x-python",
   "name": "python",
   "nbconvert_exporter": "python",
   "pygments_lexer": "ipython3",
   "version": "3.12.4"
  }
 },
 "nbformat": 4,
 "nbformat_minor": 5
}
