{
 "cells": [
  {
   "cell_type": "markdown",
   "id": "bdfbdbce-3d51-4829-98c2-3d89e22d3808",
   "metadata": {},
   "source": [
    "# Практика 4: Строки (основы)"
   ]
  },
  {
   "cell_type": "code",
   "execution_count": 3,
   "id": "6f7ff3e5-f2c8-4a1d-8a0a-a59541bf8d28",
   "metadata": {},
   "outputs": [],
   "source": [
    "num = '345 число'"
   ]
  },
  {
   "cell_type": "code",
   "execution_count": 5,
   "id": "384f8b75-1d19-470f-aa80-5e695d5a2394",
   "metadata": {},
   "outputs": [
    {
     "name": "stdout",
     "output_type": "stream",
     "text": [
      "9\n"
     ]
    }
   ],
   "source": [
    "print(len(num))"
   ]
  },
  {
   "cell_type": "code",
   "execution_count": 9,
   "id": "506c868a-41d7-417f-8760-f567dd234543",
   "metadata": {},
   "outputs": [
    {
     "name": "stdout",
     "output_type": "stream",
     "text": [
      "л\n"
     ]
    }
   ],
   "source": [
    "print(num[-2])"
   ]
  },
  {
   "cell_type": "markdown",
   "id": "c340adaa-6ee0-4dc0-ae31-7fb244f51220",
   "metadata": {},
   "source": [
    "Срезы"
   ]
  },
  {
   "cell_type": "code",
   "execution_count": 13,
   "id": "64b2bbc5-dfe3-4ba8-825c-fb42fd5f30d1",
   "metadata": {},
   "outputs": [
    {
     "name": "stdout",
     "output_type": "stream",
     "text": [
      "35чсо\n"
     ]
    }
   ],
   "source": [
    "print(num[::2])"
   ]
  },
  {
   "cell_type": "code",
   "execution_count": 14,
   "id": "60c64149-ec16-4c39-b99e-a8ea127992f2",
   "metadata": {},
   "outputs": [
    {
     "name": "stdout",
     "output_type": "stream",
     "text": [
      "олсич 543\n"
     ]
    }
   ],
   "source": [
    "print(num[::-1])"
   ]
  },
  {
   "cell_type": "code",
   "execution_count": 16,
   "id": "ce98d2ef-057e-4c0f-a213-f674d533bb46",
   "metadata": {},
   "outputs": [
    {
     "name": "stdout",
     "output_type": "stream",
     "text": [
      "True\n"
     ]
    }
   ],
   "source": [
    "num = '345'\n",
    "print(num.isdigit())"
   ]
  },
  {
   "cell_type": "code",
   "execution_count": 18,
   "id": "b8d36be7-5274-48f4-9491-10b2ebc875a9",
   "metadata": {},
   "outputs": [
    {
     "name": "stdout",
     "output_type": "stream",
     "text": [
      "True\n"
     ]
    }
   ],
   "source": [
    "num = 'число'\n",
    "print(num.isalpha())"
   ]
  },
  {
   "cell_type": "markdown",
   "id": "d83633cb-526a-4555-bf4c-13dfaab61f09",
   "metadata": {},
   "source": [
    "1. Дана строка с именем, например, “Иван”. Написать программу, которая печатает приветствие, например, “Привет, Иван!”.\r",
    " запятой. \r\n"
   ]
  },
  {
   "cell_type": "code",
   "execution_count": 40,
   "id": "de19d860-24c1-4289-a92b-c527decc8966",
   "metadata": {},
   "outputs": [
    {
     "name": "stdin",
     "output_type": "stream",
     "text": [
      "введите имя Alex\n"
     ]
    },
    {
     "name": "stdout",
     "output_type": "stream",
     "text": [
      "Привет, Alex\n"
     ]
    }
   ],
   "source": [
    "name = input('введите имя')\n",
    "\n",
    "print('Привет,', name)"
   ]
  },
  {
   "cell_type": "markdown",
   "id": "156c53ae-275b-403b-aff4-20372f85fe20",
   "metadata": {},
   "source": [
    "2. Веб-страницы состоят из строк типа `<i>Yay</i>` - выводит текст Yay курсивом. В этом примере, строка-тег “i” означает `<i> и </i>`, которые окружают слово Yay. Нам дана строка-тэг и текст. Написать программу, которая выводит тег вокруг данного текста, например,  `<i>Yay</i>`. Например, ('i', 'Hello') → `<i>Hello</i>`.\r\n"
   ]
  },
  {
   "cell_type": "code",
   "execution_count": 23,
   "id": "5572f8e9-a2f5-407a-8465-e0dc26051a68",
   "metadata": {},
   "outputs": [
    {
     "name": "stdin",
     "output_type": "stream",
     "text": [
      "Введите тэг:  fgh\n",
      "Введите текст:  dfhgsdfh\n"
     ]
    },
    {
     "name": "stdout",
     "output_type": "stream",
     "text": [
      "< fgh > dfhgsdfh </ fgh >\n"
     ]
    }
   ],
   "source": [
    "teg = input('Введите тэг: ')\n",
    "text = input('Введите текст: ')\n",
    "print('<', teg, '>', text, '</', teg, '>')"
   ]
  },
  {
   "cell_type": "markdown",
   "id": "4be7c149-e57b-456c-81c9-e849cd1cd35b",
   "metadata": {},
   "source": [
    "3. Дана строка. Написать программу, которая создает строку из трех копий последних двух символов данной строки. Данная строка должна быть длиной минимум 2. (('Hello') → 'lololo'), ('ab') → 'ababab'.\r\n"
   ]
  },
  {
   "cell_type": "code",
   "execution_count": null,
   "id": "b723c219-b9f8-423e-9a0c-26fbaf8e43e7",
   "metadata": {},
   "outputs": [],
   "source": [
    "text = input(\"Введите текст (больше 2х символов ):\")\n",
    "print(text[-2:]*3)"
   ]
  },
  {
   "cell_type": "markdown",
   "id": "2bddeaac-233d-40c4-a12d-d76394c72ab3",
   "metadata": {},
   "source": [
    "4. Дана строка, написать программу, которая печатает строку без первого и последнего символа от данной строки, например, “Иван” - “ва”. “Python” -> “ytho”.\r\n"
   ]
  },
  {
   "cell_type": "code",
   "execution_count": 22,
   "id": "9636be6f-9e7d-4340-bd9d-1d23e9e5539c",
   "metadata": {},
   "outputs": [
    {
     "name": "stdin",
     "output_type": "stream",
     "text": [
      "Введите текст (больше двух символов):  uyegdfuyewfuywegf\n"
     ]
    },
    {
     "name": "stdout",
     "output_type": "stream",
     "text": [
      "ufdge\n"
     ]
    }
   ],
   "source": [
    "text = input('Введите текст (больше двух символов): ')\n",
    "print(text[1:-1])"
   ]
  },
  {
   "cell_type": "markdown",
   "id": "46b989a9-8271-4957-b4aa-6445ea057fc5",
   "metadata": {},
   "source": [
    "5. Даны две строки разной длины (одна может быть пустой). Написать программу, которая печатает строку вида короткая+длинная+короткая, где короткая строка снаружи длинной. Например, 'Hello', 'hi' → 'hiHellohi'.\r\n"
   ]
  },
  {
   "cell_type": "code",
   "execution_count": 25,
   "id": "3c611169-2b08-44eb-9826-3b2272c81944",
   "metadata": {},
   "outputs": [
    {
     "name": "stdin",
     "output_type": "stream",
     "text": [
      "введите первое слово:  hi\n",
      "введите второе слово:  hello\n"
     ]
    },
    {
     "name": "stdout",
     "output_type": "stream",
     "text": [
      "hi*hello*hi\n"
     ]
    }
   ],
   "source": [
    "text1 = input(\"введите первое слово: \")\n",
    "text2 = input(\"введите второе слово: \")\n",
    "\n",
    "if len(text1) < len(text2):\n",
    "    print(text1,text2,text1,sep=\"\")\n",
    "else:\n",
    "    print(text2,text1,text2,sep=\"\")"
   ]
  },
  {
   "cell_type": "markdown",
   "id": "3e1c43a9-eab4-4de8-89e4-6a80d98a2e2b",
   "metadata": {},
   "source": [
    "6. Написать программу, которая печатает True, если слова “cat” и “dog” встречаются в строке одинаковое количество раз (и напечатать false - если разное количество раз). 'catdog' → True, 'catcat' → False, '1cat1cadodog' → True\r\n"
   ]
  },
  {
   "cell_type": "code",
   "execution_count": 27,
   "id": "ff1242fa-a00c-44bd-9d7e-3d6f2bb2593e",
   "metadata": {},
   "outputs": [
    {
     "name": "stdin",
     "output_type": "stream",
     "text": [
      "Введите текст (в нижнем регистре):  catdogblablablacat\n"
     ]
    },
    {
     "name": "stdout",
     "output_type": "stream",
     "text": [
      "False\n"
     ]
    }
   ],
   "source": [
    "text = input(\"Введите текст (в нижнем регистре): \") #catdogblablabla\n",
    "cat_count = 0\n",
    "dog_count = 0\n",
    "i = 0\n",
    "while i < len(text) - 2:\n",
    "    if text[i:i+3] == 'cat':\n",
    "        cat_count += 1\n",
    "    elif text[i:i+3] == 'dog':\n",
    "        dog_count += 1\n",
    "    i += 1\n",
    "\n",
    "print(cat_count == dog_count)"
   ]
  },
  {
   "cell_type": "markdown",
   "id": "d8883b64-9922-4a29-b9c4-2552c64eb46a",
   "metadata": {},
   "source": [
    "7. Написать программу, которая печатает количество вхождений данной подстроки в строку. Например, для подстроки hi, 'abc hi ho' → 1, для подстроки “well”,  'ABCwell well') → 2.\r\n"
   ]
  },
  {
   "cell_type": "code",
   "execution_count": null,
   "id": "44dee7a1-e338-4974-a077-d3b63f3039e6",
   "metadata": {},
   "outputs": [],
   "source": [
    "text = input(\"Введите текст (в нижнем регистре): \")\n",
    "substring = input(\"Введите подстроку (в нижнем регистре): \")\n",
    "\n",
    "count = 0\n",
    "i = 0\n",
    "while i < len(text) - len(substring) + 1:\n",
    "    if text[i:i + len(substring)] == substring:\n",
    "        count += 1\n",
    "    i += 1\n",
    "\n",
    "print(count)"
   ]
  },
  {
   "cell_type": "markdown",
   "id": "6a281127-3d96-417a-9d63-c11f096cb270",
   "metadata": {},
   "source": [
    "8. Для данной строки, напечатать строку, где каждый символ повторяется дважды, например, 'The' → 'TThhee', 'AAbb' → 'AAAAbbbb'.\r\n"
   ]
  },
  {
   "cell_type": "code",
   "execution_count": 34,
   "id": "dc462a08-df5c-42ad-8d75-687dc2294cb9",
   "metadata": {},
   "outputs": [
    {
     "name": "stdin",
     "output_type": "stream",
     "text": [
      "Введите текст (в нижнем регистре):  The\n"
     ]
    },
    {
     "name": "stdout",
     "output_type": "stream",
     "text": [
      "TThhee\n"
     ]
    }
   ],
   "source": [
    "text = input(\"Введите текст (в нижнем регистре): \") #The\n",
    "i = 0\n",
    "s=''\n",
    "while i < len(text):\n",
    "    s+=text[i]*2\n",
    "    i+=1\n",
    "print(s)"
   ]
  },
  {
   "cell_type": "code",
   "execution_count": null,
   "id": "c98c08d3-606d-4c8c-8474-f4a39a7ed37e",
   "metadata": {},
   "outputs": [],
   "source": [
    "text = input(\"Введите текст (в нижнем регистре): \") #The\n",
    "i = 0\n",
    "while i < len(text):\n",
    "    print(text[i]*2,end='')\n",
    "    i+=1\n"
   ]
  },
  {
   "cell_type": "markdown",
   "id": "f4bebb7b-ab35-485d-a03d-9839c56ed1fe",
   "metadata": {},
   "source": [
    "9. Написать программу, которая по заданной длине катетов прямоугольного треугольника, вычисляет длину гипотенузы. \r\n",
    "Поменяйте программу так, чтобы длина гипотенузы выводилась с точностью до двух знаков после запятой. \r\n"
   ]
  },
  {
   "cell_type": "code",
   "execution_count": 36,
   "id": "bf00bf64-aefd-4635-b8a0-9834b6256144",
   "metadata": {},
   "outputs": [
    {
     "name": "stdin",
     "output_type": "stream",
     "text": [
      "введите первый катет: 2\n",
      "введите второй катет: 3\n"
     ]
    },
    {
     "name": "stdout",
     "output_type": "stream",
     "text": [
      "Гипотенуза: 3.61\n"
     ]
    }
   ],
   "source": [
    "a = float(input('введите первый катет:'))\n",
    "b = float(input('введите второй катет:'))\n",
    "\n",
    "c = (a**2 + b**2)**0.5\n",
    "\n",
    "print('Гипотенуза:',round(c,2))"
   ]
  },
  {
   "cell_type": "markdown",
   "id": "87be3850-6c5e-4f4b-ab37-8e4e0ba92ca4",
   "metadata": {},
   "source": [
    "10. Написать программу, которая по данному радиусу вычисляет: длину окружности, площадь круга, объем шара. \r\n"
   ]
  },
  {
   "cell_type": "markdown",
   "id": "e713979c-da90-4e04-9adc-d6255d283312",
   "metadata": {},
   "source": [
    "* $l=4*pi*R^2$ - это длина окружности\n",
    "* $S=pi*R^2$ - это площадь окружности\n",
    "* $V=4/3*pi*R^3$ - это объем окружности"
   ]
  },
  {
   "cell_type": "code",
   "execution_count": 37,
   "id": "8a884097-45a4-4cea-bc46-8fb1bf5990f1",
   "metadata": {},
   "outputs": [
    {
     "name": "stdin",
     "output_type": "stream",
     "text": [
      "введите радиус: 4\n"
     ]
    },
    {
     "name": "stdout",
     "output_type": "stream",
     "text": [
      "201.06192982974676\n",
      "50.26548245743669\n",
      "268.082573106329\n"
     ]
    }
   ],
   "source": [
    "from math import pi\n",
    "\n",
    "r = float(input('введите радиус:'))\n",
    "\n",
    "l = 4*pi*r**2\n",
    "s = pi*r**2\n",
    "v = 4/3*pi*r**3\n",
    "print(l)\n",
    "print(s)\n",
    "print(v)"
   ]
  },
  {
   "cell_type": "markdown",
   "id": "684ff6f5-c8b2-4237-a4ca-8e9f00bb1f97",
   "metadata": {},
   "source": [
    "11. Написать программу, которая считывает 5 вещественных чисел с клавиатуры и печатает сумму этих чисел с точностью до одного знака после запятой. \r\n",
    "\r\n"
   ]
  },
  {
   "cell_type": "code",
   "execution_count": 38,
   "id": "173186a6-8b7b-4bca-b275-caf281d48df1",
   "metadata": {},
   "outputs": [
    {
     "name": "stdin",
     "output_type": "stream",
     "text": [
      " 3.2\n",
      " 3.14567\n",
      " 1.45\n",
      " 6.789\n",
      " 99.234545756786798\n"
     ]
    },
    {
     "name": "stdout",
     "output_type": "stream",
     "text": [
      "113.8\n"
     ]
    }
   ],
   "source": [
    "f1 = float(input())\n",
    "f2 = float(input())\n",
    "f3 = float(input())\n",
    "f4 = float(input())\n",
    "f5 = float(input())\n",
    "\n",
    "print(round(f1+f2+f3+f4+f5,1))"
   ]
  },
  {
   "cell_type": "markdown",
   "id": "62a4115a-b7c9-46ec-972f-adbb02c9964c",
   "metadata": {},
   "source": [
    "### Разбор ДЗ (строки)"
   ]
  },
  {
   "cell_type": "markdown",
   "id": "0564a1a7-0d59-4963-a3d6-019077878322",
   "metadata": {},
   "source": [
    "Напишите программу, которая запрашивает у пользователя строку и определяет, является ли она панграммой. \n",
    "Панграмма - это фраза, содержащая все буквы алфавита. \n",
    "\n",
    "Программа должна игнорировать регистр букв и пробелы при проверке панграммы. \n",
    "Выведите соответствующее сообщение на экран с помощью команды print. \n",
    "Решить задачу для латиницы.\n",
    "\n",
    "Пример вывода:\n",
    "\n",
    "Введите строку: The quick brown fox jumps over the lazy dog\n",
    "\n",
    "Строка является панграммой."
   ]
  },
  {
   "cell_type": "code",
   "execution_count": 39,
   "id": "06ff20a6-563b-4572-9e17-c306e3468a01",
   "metadata": {},
   "outputs": [
    {
     "data": {
      "text/plain": [
       "False"
      ]
     },
     "execution_count": 39,
     "metadata": {},
     "output_type": "execute_result"
    }
   ],
   "source": [
    "if 'a' in 'Hello':"
   ]
  },
  {
   "cell_type": "code",
   "execution_count": null,
   "id": "0e57c45f-dbef-4f79-a55a-f250cc93a8c1",
   "metadata": {},
   "outputs": [],
   "source": [
    "text = input()\n",
    "alphabet = 'abcdefg...z'\n",
    "a_cnt = 0\n",
    "b_cnt\n",
    "..\n",
    "z_cnt = 0\n"
   ]
  },
  {
   "cell_type": "markdown",
   "id": "ee8fed84-b1c7-4820-87f9-97bfdb2dfcdd",
   "metadata": {},
   "source": [
    "Напишите программу, которая запрашивает у пользователя строку и выводит на экран количество гласных и согласных букв в ней. \n",
    "Используйте функцию len() для подсчета количества букв. \n",
    "Выведите результат на экран с помощью команды print. \n",
    "Решить задачу для латиницы.\n",
    "\n",
    "Пример вывода:\n",
    "\n",
    "Введите строку: Hello World\n",
    "\n",
    "Количество гласных букв: 3\n",
    "\n",
    "Количество согласных букв: 7"
   ]
  },
  {
   "cell_type": "code",
   "execution_count": 2,
   "id": "278c11ce-ba93-4c25-b99f-9a96d42d0971",
   "metadata": {},
   "outputs": [
    {
     "name": "stdin",
     "output_type": "stream",
     "text": [
      "Введите строку: (в нижнем регистре)  hello\n"
     ]
    },
    {
     "name": "stdout",
     "output_type": "stream",
     "text": [
      "Количество гласных букв: 2\n",
      "Количество согласных букв: 3\n"
     ]
    }
   ],
   "source": [
    "input_string = input(\"Введите строку: (в нижнем регистре) \")\n",
    "vowels = \"aeiou\"\n",
    "vowel_count = 0\n",
    "consonant_count = 0\n",
    "i = 0\n",
    "while i < len(input_string):\n",
    "    char = input_string[i]\n",
    "    if 'a' <= char <= 'z':\n",
    "        if char in vowels:\n",
    "            vowel_count += 1\n",
    "        else:\n",
    "            consonant_count += 1\n",
    "    i += 1\n",
    "\n",
    "print(\"Количество гласных букв:\", vowel_count)\n",
    "print(\"Количество согласных букв:\", consonant_count)"
   ]
  },
  {
   "cell_type": "code",
   "execution_count": null,
   "id": "d6fad747-3b1d-48ae-ae81-31e3dbea33c4",
   "metadata": {},
   "outputs": [],
   "source": []
  }
 ],
 "metadata": {
  "kernelspec": {
   "display_name": "Python 3 (ipykernel)",
   "language": "python",
   "name": "python3"
  },
  "language_info": {
   "codemirror_mode": {
    "name": "ipython",
    "version": 3
   },
   "file_extension": ".py",
   "mimetype": "text/x-python",
   "name": "python",
   "nbconvert_exporter": "python",
   "pygments_lexer": "ipython3",
   "version": "3.12.4"
  }
 },
 "nbformat": 4,
 "nbformat_minor": 5
}
