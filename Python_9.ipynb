{
 "cells": [
  {
   "cell_type": "markdown",
   "id": "a5533467-d2f3-4b2c-acb2-6dd12d8a5c43",
   "metadata": {},
   "source": [
    "# Знакомство со строками"
   ]
  },
  {
   "cell_type": "markdown",
   "id": "28b9605c-a968-4d0b-a0d1-f3ee1e8beead",
   "metadata": {},
   "source": [
    "### Запись строк. Приведение типов str, int, float, bool"
   ]
  },
  {
   "cell_type": "markdown",
   "id": "1d1b5a21-ca1c-4cd1-b423-8328ae926eb5",
   "metadata": {},
   "source": [
    "Строка —это упорядоченная последовательность символов, которые используются для хранения и представления текстовой информации.\r\n"
   ]
  },
  {
   "cell_type": "code",
   "execution_count": null,
   "id": "92b35c83-efc6-494d-9bcb-7bc5556723e6",
   "metadata": {},
   "outputs": [],
   "source": [
    "'Hello'\n",
    "'Goodbye'\n",
    "'G'\n",
    "' '\n",
    "''"
   ]
  },
  {
   "cell_type": "markdown",
   "id": "241ecef2-d389-4a1c-9c07-7925aa0f9679",
   "metadata": {},
   "source": [
    "Строки в Python могут быть записаны с использованием одинарных ('), двойных (\") или \r\n",
    "тройных кавычек (\"\"\"). Например, можно определить строку следующим образомменено.\r\n",
    "\r\n"
   ]
  },
  {
   "cell_type": "code",
   "execution_count": null,
   "id": "f0793d1a-5852-4030-9e6e-c32c49a2d410",
   "metadata": {},
   "outputs": [],
   "source": [
    "name = \"John\"\n",
    "print(name)"
   ]
  },
  {
   "cell_type": "code",
   "execution_count": null,
   "id": "18c381ce-9e1f-4d1d-a3e1-8147f4977aae",
   "metadata": {},
   "outputs": [],
   "source": [
    "name = 'John'\n",
    "print(name)"
   ]
  },
  {
   "cell_type": "code",
   "execution_count": null,
   "id": "d0ef94e4-1f0f-42ea-b6ef-8b742e785fe9",
   "metadata": {},
   "outputs": [],
   "source": [
    "name = '''John'''\n",
    "print(name)"
   ]
  },
  {
   "cell_type": "code",
   "execution_count": null,
   "id": "c608d42e-ff0c-47ee-8ce6-a52f95983af4",
   "metadata": {},
   "outputs": [],
   "source": [
    "name = \"\"\"John\"\"\"\n",
    "print(name)"
   ]
  },
  {
   "cell_type": "code",
   "execution_count": null,
   "id": "eed4ca65-ba3e-4882-b1f2-a11cfee66dd7",
   "metadata": {},
   "outputs": [],
   "source": [
    "name = \"John\n",
    "eihjti erthjit \"\n",
    "print(name)"
   ]
  },
  {
   "cell_type": "code",
   "execution_count": null,
   "id": "54a4312f-2c54-4592-be15-fec3ef77a48c",
   "metadata": {},
   "outputs": [],
   "source": [
    "name = '''\n",
    "John\n",
    "eihjti erthjit \n",
    " '''\n",
    "print(name)"
   ]
  },
  {
   "cell_type": "markdown",
   "id": "1f83f26b-c713-492a-b955-865af7e55d88",
   "metadata": {},
   "source": [
    "Строки в Python являются неизменяемыми, что означает, что после создания их содержимое не может быть изменено."
   ]
  },
  {
   "cell_type": "markdown",
   "id": "2ec444da-55d4-4e54-a976-216482c49795",
   "metadata": {},
   "source": []
  },
  {
   "cell_type": "markdown",
   "id": "9f82a794-7d31-4cd1-b6f7-7a669656fcb5",
   "metadata": {},
   "source": [
    "Dragon's mother said \"No\""
   ]
  },
  {
   "cell_type": "code",
   "execution_count": null,
   "id": "b41ca927-9158-4a48-bc2f-afed3a029b6a",
   "metadata": {},
   "outputs": [],
   "source": [
    "s1 = 'Dragon's mother said \"No\"'\n",
    "print(s1)"
   ]
  },
  {
   "cell_type": "code",
   "execution_count": null,
   "id": "73d40617-3428-4748-bad4-b7d0dff8d9d9",
   "metadata": {},
   "outputs": [],
   "source": [
    "print('''Dragon's mother said \"No\"''')"
   ]
  },
  {
   "cell_type": "code",
   "execution_count": null,
   "id": "7ae1b5fe-159f-4489-82e3-5b2b6bb90adb",
   "metadata": {},
   "outputs": [],
   "source": [
    "# Экранируем кавычки вокруг No, чтобы интерпретатор\n",
    "# распознал их как часть строки\n",
    "print(\"Dragon's mother said \\\"No\\\"\")\n",
    "# => Dragon's mother said \"No\""
   ]
  },
  {
   "cell_type": "code",
   "execution_count": null,
   "id": "5d89b737-0659-49af-945f-5cb53ec51bff",
   "metadata": {},
   "outputs": [],
   "source": [
    "text = \"Khal Drogo's favorite word is \\\"athjahakar\\\"\"\n",
    "print(text)"
   ]
  },
  {
   "cell_type": "code",
   "execution_count": null,
   "id": "e94132f6-a360-4b9b-9f07-a9679421f3f6",
   "metadata": {},
   "outputs": [],
   "source": []
  },
  {
   "cell_type": "markdown",
   "id": "f6dc206b-1b10-477f-b3d2-d2c3630ff76a",
   "metadata": {},
   "source": [
    "Приведение типов между строками и другими базовыми типами данных в Python может быть выполнено с помощью функций, таких как str(), int(), float() и bool(). Например:"
   ]
  },
  {
   "cell_type": "code",
   "execution_count": null,
   "id": "fe7cda7f-e374-4105-a256-ed60e6d862bb",
   "metadata": {},
   "outputs": [],
   "source": [
    "number = 10\n",
    "number_str = str(number)  # Приведение числа к строке\n",
    "print(type(number_str))\n",
    "print(number_str)\n",
    "print(type(number))"
   ]
  },
  {
   "cell_type": "code",
   "execution_count": null,
   "id": "ddb3ef47-88b1-4536-aaf9-2bbf21d430b0",
   "metadata": {},
   "outputs": [],
   "source": [
    "s1 = '2024.2'\n",
    "print(float(s1))"
   ]
  },
  {
   "cell_type": "code",
   "execution_count": null,
   "id": "cca53db1-df78-4e28-a40b-ea2c288ec06b",
   "metadata": {},
   "outputs": [],
   "source": [
    "print(bool('5'))"
   ]
  },
  {
   "cell_type": "markdown",
   "id": "ed64110b-9211-492d-8b9c-cc5a01348de6",
   "metadata": {},
   "source": [
    "### Задание для закрепления"
   ]
  },
  {
   "cell_type": "markdown",
   "id": "ed3481a0-5f04-4045-97a1-3c2cf13ea7b6",
   "metadata": {},
   "source": [
    "Напишите программу, которая выведет на экран:\n",
    "\n",
    "\"Khal Drogo's favorite word is \"athjahakar\"\"\n"
   ]
  },
  {
   "cell_type": "code",
   "execution_count": null,
   "id": "37904a3f-d476-433a-9fa1-8993420eaca1",
   "metadata": {},
   "outputs": [],
   "source": []
  },
  {
   "cell_type": "markdown",
   "id": "e8fb710f-d0cb-4498-a725-9fdd7d63f3ae",
   "metadata": {},
   "source": [
    "### Арифметические операции над строками:"
   ]
  },
  {
   "cell_type": "markdown",
   "id": "e768e01e-ae3c-4a71-98a7-7c4fdab32351",
   "metadata": {},
   "source": [
    "Строки в Python поддерживают операции сложения и умножения. Операция сложения позволяет объединять строки, а операция умножения позволяет повторять строку определенное количество раз. Например:\r\n"
   ]
  },
  {
   "cell_type": "code",
   "execution_count": null,
   "id": "4078c8ec-4f92-41e3-bcca-894b26cec07f",
   "metadata": {},
   "outputs": [],
   "source": [
    "greeting = \"Hello, \"\n",
    "name = \"John\"\n",
    "message = greeting + name  # Конкатенация строк\n",
    "multiplied_string = name * 3  # Повторение строки\n",
    "print(message)\n",
    "print(multiplied_string)"
   ]
  },
  {
   "cell_type": "markdown",
   "id": "cd2f5b5c-6e09-45bd-8a61-7446ace929e2",
   "metadata": {},
   "source": [
    "### Функции len(), ord(), chr(). Таблица ASCII и введение в кодировки символов"
   ]
  },
  {
   "cell_type": "markdown",
   "id": "ff4d0943-618b-4442-b6da-15e1adffdd49",
   "metadata": {},
   "source": [
    "В Python функция len() используется для вычисления длины строки - количество символов в ней. Например:"
   ]
  },
  {
   "cell_type": "code",
   "execution_count": null,
   "id": "9f075ea9-c9de-4685-af14-231ae13128b6",
   "metadata": {},
   "outputs": [],
   "source": [
    "text = \"Hello \"\n",
    "length = len(text)  # Длина строки\n",
    "print(length)"
   ]
  },
  {
   "cell_type": "markdown",
   "id": "f3e5d34f-703e-4095-851c-0e97dc78a64f",
   "metadata": {},
   "source": [
    "Функция ord() возвращает числовое представление символа, а функция chr() выполняет обратное преобразование - возвращает символ по его числовому представлению. Например:\r\n"
   ]
  },
  {
   "cell_type": "code",
   "execution_count": null,
   "id": "7bc6466c-f409-4181-abed-0562cc450c98",
   "metadata": {},
   "outputs": [],
   "source": [
    "code = ord('A')  # Числовое представление символа 'A'\n",
    "character = chr(65)  # Символ по числовому представлению 65\n",
    "print(code)\n",
    "print(character)"
   ]
  },
  {
   "cell_type": "code",
   "execution_count": null,
   "id": "7dba584c-2338-4e7f-a164-c4f0e002fe61",
   "metadata": {},
   "outputs": [],
   "source": [
    "print(ord('B'))"
   ]
  },
  {
   "cell_type": "markdown",
   "id": "6f3c3e51-345a-4b4a-aeec-9ea821f7b16b",
   "metadata": {},
   "source": [
    "Введение в таблицу ASCII - стандартную таблицу символов, где каждому символу соответствует свой уникальный числовый код. Кроме того, будет введение в кодировки символов, такие как UTF-8, которые позволяют представлять символы разных языков в компьютерной памяти."
   ]
  },
  {
   "cell_type": "markdown",
   "id": "80d5ff5b-efc2-49e2-96bc-860a6ed9940d",
   "metadata": {},
   "source": [
    "https://www.industrialnets.ru/files/misc/ascii.pdf"
   ]
  },
  {
   "cell_type": "markdown",
   "id": "35afb201-854b-4d31-bab7-3f9d99ba48fb",
   "metadata": {},
   "source": [
    "### Сравнение строк. Понятие лексикографического сравнения"
   ]
  },
  {
   "cell_type": "markdown",
   "id": "f4a2855e-8b0f-4828-9189-51007d37a960",
   "metadata": {},
   "source": [
    "В Python строки могут быть сравнены с помощью операторов сравнения (==, !=, <, >, <=, >=). При сравнении строк применяется лексикографическое сравнение, что означает, что строки сравниваются посимвольно, сравнивая их числовые значения кодов символов в таблице символов. Например:"
   ]
  },
  {
   "cell_type": "code",
   "execution_count": 81,
   "id": "8e4b28c3-2237-4f53-bcfd-efe09c64a200",
   "metadata": {},
   "outputs": [
    {
     "name": "stdout",
     "output_type": "stream",
     "text": [
      "True\n"
     ]
    }
   ],
   "source": [
    "str1 = \"apple\"\n",
    "str2 = \"banana\"\n",
    "result = str1 < str2  # Сравнение строк по лексикографическому порядку\n",
    "print(result)"
   ]
  },
  {
   "cell_type": "code",
   "execution_count": 84,
   "id": "4320a8f8-671d-4d4b-805d-a00b746f8616",
   "metadata": {},
   "outputs": [
    {
     "name": "stdout",
     "output_type": "stream",
     "text": [
      "True\n"
     ]
    }
   ],
   "source": [
    "str1 = \"apple\"\n",
    "str2 = \"b\"\n",
    "result = str1 < str2  # Сравнение строк по лексикографическому порядку\n",
    "print(result)"
   ]
  },
  {
   "cell_type": "code",
   "execution_count": 88,
   "id": "1af2aa1c-7069-4705-87e9-cb6a31281b62",
   "metadata": {},
   "outputs": [
    {
     "data": {
      "text/plain": [
       "True"
      ]
     },
     "execution_count": 88,
     "metadata": {},
     "output_type": "execute_result"
    }
   ],
   "source": [
    "'aaa' == 'aaa'"
   ]
  },
  {
   "cell_type": "markdown",
   "id": "e1208a35-0398-4daa-933a-7e7ca52fbbdb",
   "metadata": {},
   "source": [
    "### Метод in для проверки вхождения подстроки в строку"
   ]
  },
  {
   "cell_type": "markdown",
   "id": "de30978d-5057-42af-ae9b-b75b516383b7",
   "metadata": {},
   "source": [
    "Метод in в Python позволяет проверить, содержится ли одна строка в другой. Он возвращает значение True, если подстрока найдена, и False, если подстрока отсутствует. Например:"
   ]
  },
  {
   "cell_type": "code",
   "execution_count": 89,
   "id": "d84f3863-1f2d-471d-9d9f-828e14b4a99c",
   "metadata": {},
   "outputs": [
    {
     "name": "stdout",
     "output_type": "stream",
     "text": [
      "True\n"
     ]
    }
   ],
   "source": [
    "text = \"Hello, world!\"\n",
    "is_found = \"world\" in text  # Проверка наличия подстроки\n",
    "print(is_found)"
   ]
  },
  {
   "cell_type": "code",
   "execution_count": 90,
   "id": "5a372f1b-d266-4367-8d16-e19744605c96",
   "metadata": {},
   "outputs": [
    {
     "name": "stdout",
     "output_type": "stream",
     "text": [
      "False\n"
     ]
    }
   ],
   "source": [
    "text = \"Hello, world!\"\n",
    "is_found = \"car\" in text  # Проверка наличия подстроки\n",
    "print(is_found)"
   ]
  },
  {
   "cell_type": "code",
   "execution_count": 91,
   "id": "dc590e26-f95b-4bcf-a2a6-645ba177f332",
   "metadata": {},
   "outputs": [
    {
     "name": "stdout",
     "output_type": "stream",
     "text": [
      "True\n"
     ]
    }
   ],
   "source": [
    "text = \"Hello, world!\"\n",
    "is_found = \"!\" in text  # Проверка наличия подстроки\n",
    "print(is_found)"
   ]
  },
  {
   "cell_type": "code",
   "execution_count": 93,
   "id": "807f9dae-c028-47a2-9a13-1a345afa85ec",
   "metadata": {},
   "outputs": [
    {
     "data": {
      "text/plain": [
       "False"
      ]
     },
     "execution_count": 93,
     "metadata": {},
     "output_type": "execute_result"
    }
   ],
   "source": [
    "'h' in \"Hello, world!\""
   ]
  },
  {
   "cell_type": "markdown",
   "id": "0e2f60a1-4aea-4696-b774-74017b4dfdac",
   "metadata": {},
   "source": [
    "### Доступ к элементу по индексу. Отрицательные индексы"
   ]
  },
  {
   "cell_type": "markdown",
   "id": "eac68642-0194-477f-bd18-6f3fe3cad7a8",
   "metadata": {},
   "source": [
    "Строки в Python являются последовательностью символов, и доступ к отдельным символам осуществляется по индексу. Положительные индексы начинаются с 0 и указывают на позицию символа в строке, а отрицательные индексы считаются с конца строки, где -1 соответствует последнему символу. Например:"
   ]
  },
  {
   "cell_type": "code",
   "execution_count": 98,
   "id": "e840e150-16c7-4aad-9ca3-eb44ce77dd90",
   "metadata": {},
   "outputs": [
    {
     "name": "stdout",
     "output_type": "stream",
     "text": [
      "o\n"
     ]
    }
   ],
   "source": [
    "text = \"Hello\"\n",
    "print(text[len(text)-1])"
   ]
  },
  {
   "cell_type": "code",
   "execution_count": 99,
   "id": "b199bc51-2dfd-4a22-8b8c-26cbf81b9f04",
   "metadata": {},
   "outputs": [
    {
     "name": "stdout",
     "output_type": "stream",
     "text": [
      "H\n",
      "o\n"
     ]
    }
   ],
   "source": [
    "text = \"Hello\"\n",
    "first_char = text[0]  # Получение первого символа\n",
    "last_char = text[-1]  # Получение последнего символа\n",
    "print(first_char)\n",
    "print(last_char)"
   ]
  },
  {
   "cell_type": "code",
   "execution_count": 106,
   "id": "bfd61146-6d02-4d4a-9380-97cd79219689",
   "metadata": {},
   "outputs": [
    {
     "name": "stdout",
     "output_type": "stream",
     "text": [
      "w\n"
     ]
    }
   ],
   "source": [
    "text = \"Hello world!!\"\n",
    "if len(text)%2 == 0:\n",
    "    print('Середина не выпадает на символ')\n",
    "else:\n",
    "    print(text[len(text)//2])\n",
    "    "
   ]
  },
  {
   "cell_type": "markdown",
   "id": "92f89c25-c0a4-44eb-93ea-50355a461ad1",
   "metadata": {},
   "source": [
    "### Неизменяемость строк, демонстрация этого с помощью id()"
   ]
  },
  {
   "cell_type": "markdown",
   "id": "fe52bc0a-a0e3-40f2-9a6f-22a85c56269f",
   "metadata": {},
   "source": [
    "Строки в Python являются неизменяемыми объектами, что означает, что после создания их содержимое не может быть изменено. Демонстрация этого может быть выполнена с помощью функции id(), которая возвращает идентификатор объекта. Например:"
   ]
  },
  {
   "cell_type": "code",
   "execution_count": 107,
   "id": "217dbc52-dd31-4c37-a890-10c4749a678a",
   "metadata": {},
   "outputs": [
    {
     "name": "stdout",
     "output_type": "stream",
     "text": [
      "2176124754400\n"
     ]
    }
   ],
   "source": [
    "text = \"Hello\"\n",
    "text_id = id(text)  # Получение идентификатора объекта\n",
    "print(text_id)"
   ]
  },
  {
   "cell_type": "code",
   "execution_count": 108,
   "id": "8ba865a7-7b6e-4bc8-807f-b97127d9a18d",
   "metadata": {},
   "outputs": [
    {
     "ename": "TypeError",
     "evalue": "'str' object does not support item assignment",
     "output_type": "error",
     "traceback": [
      "\u001b[1;31m---------------------------------------------------------------------------\u001b[0m",
      "\u001b[1;31mTypeError\u001b[0m                                 Traceback (most recent call last)",
      "Cell \u001b[1;32mIn[108], line 2\u001b[0m\n\u001b[0;32m      1\u001b[0m str1 \u001b[38;5;241m=\u001b[39m \u001b[38;5;124m'\u001b[39m\u001b[38;5;124mПривет\u001b[39m\u001b[38;5;124m'\u001b[39m\n\u001b[1;32m----> 2\u001b[0m str1[\u001b[38;5;241m0\u001b[39m] \u001b[38;5;241m=\u001b[39m \u001b[38;5;124m'\u001b[39m\u001b[38;5;124mп\u001b[39m\u001b[38;5;124m'\u001b[39m\n\u001b[0;32m      3\u001b[0m \u001b[38;5;28mprint\u001b[39m(str1)\n",
      "\u001b[1;31mTypeError\u001b[0m: 'str' object does not support item assignment"
     ]
    }
   ],
   "source": [
    "str1 = 'Привет'\n",
    "str1[0] = 'п'\n",
    "print(str1)"
   ]
  },
  {
   "cell_type": "code",
   "execution_count": 109,
   "id": "d7b8e8f0-1968-4b9b-81c2-d01b2d6c54b1",
   "metadata": {},
   "outputs": [
    {
     "name": "stdout",
     "output_type": "stream",
     "text": [
      "Hello, World! 2176129219184\n",
      "hello, World! 2176129245104\n",
      "Оригинальная строка после изменения: Hello, World! id: 2176129219184\n"
     ]
    }
   ],
   "source": [
    "original_string = \"Hello, World!\"\n",
    "print(original_string, id(original_string))\n",
    "\n",
    "new_string = original_string.replace(\"H\", \"h\")\n",
    "print(new_string, id(new_string))\n",
    "\n",
    "# Проверяем, изменился ли идентификатор оригинальной строки\n",
    "print(\"Оригинальная строка после изменения:\", original_string, \"id:\", id(original_string))\n"
   ]
  },
  {
   "cell_type": "markdown",
   "id": "f43feff8-7e7b-429a-9c48-e2bbaf4d48fc",
   "metadata": {},
   "source": [
    "### Взятие среза от строки. Варианты с 1, 2 и 3 аргументами"
   ]
  },
  {
   "cell_type": "markdown",
   "id": "42e4097c-8c2e-431d-b0c5-4322545e3dcc",
   "metadata": {},
   "source": [
    "В Python для извлечения подстроки из строки используется операция взятия среза. С помощью срезов можно выбрать определенный диапазон символов. Варианты срезов включают использование одного, двух или трех аргументов. Один аргумент указывает индекс символа, с которого начинается срез. Два аргумента указывают начальный и конечный индексы среза. Три аргумента позволяют указать шаг, с которым будут выбраны символы. Например:"
   ]
  },
  {
   "cell_type": "code",
   "execution_count": 110,
   "id": "f4da1266-c117-4bb1-909e-6510277aa487",
   "metadata": {},
   "outputs": [
    {
     "name": "stdout",
     "output_type": "stream",
     "text": [
      "Hello\n",
      "world!\n",
      "Hlo ol!\n"
     ]
    }
   ],
   "source": [
    "text = \"Hello, world!\"\n",
    "substring1 = text[0:5]  # Взятие среза с 1-го по 5-й символы\n",
    "substring2 = text[7:]  # Взятие среза с 8-го символа до конца строки\n",
    "substring3 = text[::2]  # Взятие среза с шагом 2\n",
    "print(substring1)\n",
    "print(substring2)\n",
    "print(substring3)"
   ]
  },
  {
   "cell_type": "markdown",
   "id": "16afa7ac-19e8-4144-826c-2df1bd1b21dc",
   "metadata": {},
   "source": [
    "### Создание копии строки. Разворот строки с помощью срезов:"
   ]
  },
  {
   "cell_type": "markdown",
   "id": "ff0d586c-e1aa-42d2-9280-76874795a128",
   "metadata": {},
   "source": [
    "С помощью срезов можно создавать копии строк. Также можно использовать срезы с отрицательным шагом для разворота строки. Например:\r\n"
   ]
  },
  {
   "cell_type": "code",
   "execution_count": 117,
   "id": "fef513a5-490e-4699-b3dd-88c2671efbe1",
   "metadata": {},
   "outputs": [
    {
     "name": "stdout",
     "output_type": "stream",
     "text": [
      "olleH\n"
     ]
    }
   ],
   "source": [
    "text = \"Hello\"\n",
    "copy = text[:]  # Создание копии строки\n",
    "reversed_text = text[::-1]  # Разворот строки\n",
    "print(reversed_text)\n"
   ]
  },
  {
   "cell_type": "code",
   "execution_count": 121,
   "id": "3e8ab101-ed11-4ebf-86d2-f8dc92a333c6",
   "metadata": {},
   "outputs": [
    {
     "name": "stdin",
     "output_type": "stream",
     "text": [
      " 11211\n"
     ]
    },
    {
     "name": "stdout",
     "output_type": "stream",
     "text": [
      "полиндром\n"
     ]
    }
   ],
   "source": [
    "s = input()\n",
    "if s[::-1] == s:\n",
    "    print('полиндром')\n",
    "else:\n",
    "    print('не полиндром')"
   ]
  },
  {
   "cell_type": "code",
   "execution_count": 123,
   "id": "036e3191-f965-43e3-a244-3a3776288956",
   "metadata": {},
   "outputs": [
    {
     "name": "stdin",
     "output_type": "stream",
     "text": [
      " 123\n"
     ]
    },
    {
     "name": "stdout",
     "output_type": "stream",
     "text": [
      "не полиндром\n"
     ]
    }
   ],
   "source": [
    "s = input() #121\n",
    "print('полиндром' if s[::-1] == s else 'не полиндром')"
   ]
  },
  {
   "cell_type": "markdown",
   "id": "02e2397b-5145-4c75-bc1e-6537787654d9",
   "metadata": {},
   "source": [
    "### Задание для закрепления \n"
   ]
  },
  {
   "cell_type": "markdown",
   "id": "af5e3e57-0dc5-407d-a897-81b49896a9dc",
   "metadata": {},
   "source": [
    "Выведите на экран, используя конкатенацию слов\n"
   ]
  },
  {
   "cell_type": "markdown",
   "id": "f788a23e-7508-4344-afbb-e53c181dccca",
   "metadata": {},
   "source": [
    "Winter came for the House of Frey.\n"
   ]
  },
  {
   "cell_type": "code",
   "execution_count": 125,
   "id": "35c1ecec-28aa-4fb8-99c0-c973a3c091d9",
   "metadata": {},
   "outputs": [
    {
     "name": "stdout",
     "output_type": "stream",
     "text": [
      "Winter came for the House\n"
     ]
    }
   ],
   "source": [
    "w1 = 'Winter'\n",
    "w2 = 'came'\n",
    "w3 = 'for'\n",
    "w4 = 'the'\n",
    "w5 = 'House'\n",
    "print(w1 +' '+ w2 +' '+  w3 +' '+  w4 +' '+  w5)"
   ]
  },
  {
   "cell_type": "markdown",
   "id": "0d67cf91-5e1f-4f7b-b16a-c9f0af3c9fac",
   "metadata": {},
   "source": [
    "### Решение задач"
   ]
  },
  {
   "cell_type": "markdown",
   "id": "f25d6bd2-2798-40c6-bc68-706d661f05ca",
   "metadata": {},
   "source": [
    "1. Вывести треугольником сначала A, на следующей строчке AB, потом ABC, и т.д. Сначала реализовать в лоб, потом оценить сложность работы. Реализовать хитрее с помощью срезов. Сравнить время работы, сделать выводы."
   ]
  },
  {
   "cell_type": "code",
   "execution_count": 126,
   "id": "b28728cb-97b5-4b85-ae6d-efb21c7a2386",
   "metadata": {},
   "outputs": [
    {
     "name": "stdout",
     "output_type": "stream",
     "text": [
      "A\n",
      "AB\n",
      "ABC\n",
      "ABCD\n"
     ]
    }
   ],
   "source": [
    "print('A')\n",
    "print('AB')\n",
    "print('ABC')\n",
    "print('ABCD')"
   ]
  },
  {
   "cell_type": "code",
   "execution_count": 131,
   "id": "8f2a1f3e-c15f-4208-9112-30e736baa4fc",
   "metadata": {},
   "outputs": [
    {
     "name": "stdout",
     "output_type": "stream",
     "text": [
      "A\n",
      "AB\n",
      "ABC\n",
      "ABCD\n",
      "ABCDE\n",
      "ABCDEF\n",
      "ABCDEFG\n"
     ]
    }
   ],
   "source": [
    "alphabet = 'ABCDEFGH'\n",
    "\n",
    "i=1\n",
    "while i<len(alphabet):\n",
    "    print(alphabet[:i])\n",
    "    i+=1"
   ]
  },
  {
   "cell_type": "markdown",
   "id": "43c8771f-afed-4401-8b1f-4262c57df7f8",
   "metadata": {},
   "source": [
    "2. Вывести часть таблицы ASCII как в найденной студентом в гугле. Постараться добиться максимальной схожести, и тут есть пространство для творчества:) "
   ]
  },
  {
   "cell_type": "code",
   "execution_count": 133,
   "id": "c4bf2f91-88b0-463c-9107-6b3e287f79aa",
   "metadata": {},
   "outputs": [
    {
     "name": "stdout",
     "output_type": "stream",
     "text": [
      "0    \u0000\n",
      "1    \u0001\n",
      "2    \u0002\n",
      "3    \u0003\n",
      "4    \u0004\n",
      "5    \u0005\n",
      "6    \u0006\n",
      "7    \u0007\n",
      "8   \n",
      "9    \t\n",
      "10    \n",
      "\n",
      "11    \u000b",
      "\n",
      "12    \f",
      "\n",
      "13    \n",
      "14    \u000e\n",
      "15    \u000f\n",
      "16    \u0010\n",
      "17    \u0011\n",
      "18    \u0012\n",
      "19    \u0013\n",
      "20    \u0014\n",
      "21    \u0015\n",
      "22    \u0016\n",
      "23    \u0017\n",
      "24    \u0018\n",
      "25    \u0019\n",
      "26    \u001a\n",
      "27    \u001b\n",
      "28    \u001c",
      "\n",
      "29    \u001d",
      "\n",
      "30    \u001e",
      "\n",
      "31    \u001f\n",
      "32     \n",
      "33    !\n",
      "34    \"\n",
      "35    #\n",
      "36    $\n",
      "37    %\n",
      "38    &\n",
      "39    '\n",
      "40    (\n",
      "41    )\n",
      "42    *\n",
      "43    +\n",
      "44    ,\n",
      "45    -\n",
      "46    .\n",
      "47    /\n",
      "48    0\n",
      "49    1\n",
      "50    2\n",
      "51    3\n",
      "52    4\n",
      "53    5\n",
      "54    6\n",
      "55    7\n",
      "56    8\n",
      "57    9\n",
      "58    :\n",
      "59    ;\n",
      "60    <\n",
      "61    =\n",
      "62    >\n",
      "63    ?\n",
      "64    @\n",
      "65    A\n",
      "66    B\n",
      "67    C\n",
      "68    D\n",
      "69    E\n",
      "70    F\n",
      "71    G\n",
      "72    H\n",
      "73    I\n",
      "74    J\n",
      "75    K\n",
      "76    L\n",
      "77    M\n",
      "78    N\n",
      "79    O\n",
      "80    P\n",
      "81    Q\n",
      "82    R\n",
      "83    S\n",
      "84    T\n",
      "85    U\n",
      "86    V\n",
      "87    W\n",
      "88    X\n",
      "89    Y\n",
      "90    Z\n",
      "91    [\n",
      "92    \\\n",
      "93    ]\n",
      "94    ^\n",
      "95    _\n",
      "96    `\n",
      "97    a\n",
      "98    b\n",
      "99    c\n",
      "100    d\n",
      "101    e\n",
      "102    f\n",
      "103    g\n",
      "104    h\n",
      "105    i\n",
      "106    j\n",
      "107    k\n",
      "108    l\n",
      "109    m\n",
      "110    n\n",
      "111    o\n",
      "112    p\n",
      "113    q\n",
      "114    r\n",
      "115    s\n",
      "116    t\n",
      "117    u\n",
      "118    v\n",
      "119    w\n",
      "120    x\n",
      "121    y\n",
      "122    z\n",
      "123    {\n",
      "124    |\n",
      "125    }\n",
      "126    ~\n",
      "127    \n",
      "128    \n",
      "129    \n",
      "130    \n",
      "131    \n",
      "132    \n",
      "133    ",
      "\n",
      "134    \n",
      "135    \n",
      "136    \n",
      "137    \n",
      "138    \n",
      "139    \n",
      "140    \n",
      "141    \n",
      "142    \n",
      "143    \n",
      "144    \n",
      "145    \n",
      "146    \n",
      "147    \n",
      "148    \n",
      "149    \n",
      "150    \n",
      "151    \n",
      "152    \n",
      "153    \n",
      "154    \n",
      "155    \n",
      "156    \n",
      "157    \n",
      "158    \n",
      "159    \n",
      "160     \n",
      "161    ¡\n",
      "162    ¢\n",
      "163    £\n",
      "164    ¤\n",
      "165    ¥\n",
      "166    ¦\n",
      "167    §\n",
      "168    ¨\n",
      "169    ©\n",
      "170    ª\n",
      "171    «\n",
      "172    ¬\n",
      "173    ­\n",
      "174    ®\n",
      "175    ¯\n",
      "176    °\n",
      "177    ±\n",
      "178    ²\n",
      "179    ³\n",
      "180    ´\n",
      "181    µ\n",
      "182    ¶\n",
      "183    ·\n",
      "184    ¸\n",
      "185    ¹\n",
      "186    º\n",
      "187    »\n",
      "188    ¼\n",
      "189    ½\n",
      "190    ¾\n",
      "191    ¿\n",
      "192    À\n",
      "193    Á\n",
      "194    Â\n",
      "195    Ã\n",
      "196    Ä\n",
      "197    Å\n",
      "198    Æ\n",
      "199    Ç\n",
      "200    È\n",
      "201    É\n",
      "202    Ê\n",
      "203    Ë\n",
      "204    Ì\n",
      "205    Í\n",
      "206    Î\n",
      "207    Ï\n",
      "208    Ð\n",
      "209    Ñ\n",
      "210    Ò\n",
      "211    Ó\n",
      "212    Ô\n",
      "213    Õ\n",
      "214    Ö\n",
      "215    ×\n",
      "216    Ø\n",
      "217    Ù\n",
      "218    Ú\n",
      "219    Û\n",
      "220    Ü\n",
      "221    Ý\n",
      "222    Þ\n",
      "223    ß\n",
      "224    à\n",
      "225    á\n",
      "226    â\n",
      "227    ã\n",
      "228    ä\n",
      "229    å\n",
      "230    æ\n",
      "231    ç\n",
      "232    è\n",
      "233    é\n",
      "234    ê\n",
      "235    ë\n",
      "236    ì\n",
      "237    í\n",
      "238    î\n",
      "239    ï\n",
      "240    ð\n",
      "241    ñ\n",
      "242    ò\n",
      "243    ó\n",
      "244    ô\n",
      "245    õ\n",
      "246    ö\n",
      "247    ÷\n",
      "248    ø\n",
      "249    ù\n",
      "250    ú\n",
      "251    û\n",
      "252    ü\n",
      "253    ý\n",
      "254    þ\n",
      "255    ÿ\n"
     ]
    }
   ],
   "source": [
    "code = 0\n",
    "\n",
    "while code <=255:\n",
    "    print(ord(chr(code)),'  ',chr(code))\n",
    "    code += 1"
   ]
  },
  {
   "cell_type": "markdown",
   "id": "066fb4a3-e4dc-4b78-8d6c-46255af8c5c8",
   "metadata": {},
   "source": [
    "### Полезные материалы"
   ]
  },
  {
   "cell_type": "markdown",
   "id": "52eb82c3-9039-407f-bd23-931b91953fac",
   "metadata": {},
   "source": [
    "1. Строки https://pythonworld.ru/tipy-dannyx-v-python/stroki-literaly-strok.html\r\n",
    "2. Строки. Функции и методы строк https://pythonworld.ru/tipy-dannyx-v-python/stroki-funkcii-i-metody-strok.html "
   ]
  },
  {
   "cell_type": "markdown",
   "id": "50ded9ac-90c8-421e-9325-08f902fed937",
   "metadata": {},
   "source": [
    "### Вопросы для закрепления\n",
    "Чем удобно, что строки неизменяемые? \n",
    "\n",
    "А чем неудобно?\n",
    "\n",
    "Как осуществляются срезы? \n",
    "\n",
    "Что означают срезы с 1, 2, 3 аргументами?\n",
    "\n",
    "Что такое лексикографический порядок сравнения?\n"
   ]
  },
  {
   "cell_type": "code",
   "execution_count": null,
   "id": "560dea14-ddc4-4335-83ee-93ba1cdc045e",
   "metadata": {},
   "outputs": [],
   "source": []
  }
 ],
 "metadata": {
  "kernelspec": {
   "display_name": "Python 3 (ipykernel)",
   "language": "python",
   "name": "python3"
  },
  "language_info": {
   "codemirror_mode": {
    "name": "ipython",
    "version": 3
   },
   "file_extension": ".py",
   "mimetype": "text/x-python",
   "name": "python",
   "nbconvert_exporter": "python",
   "pygments_lexer": "ipython3",
   "version": "3.12.4"
  }
 },
 "nbformat": 4,
 "nbformat_minor": 5
}
