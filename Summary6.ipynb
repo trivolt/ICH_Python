{
 "cells": [
  {
   "cell_type": "markdown",
   "id": "0e012a68-6428-49d2-b0ca-2e4735cbb0d2",
   "metadata": {},
   "source": [
    "# Summary 6: Форматирование, Цикл for, Работа с файлами"
   ]
  },
  {
   "cell_type": "markdown",
   "id": "58687a3b-20cd-498d-ac9d-7e473c196fbe",
   "metadata": {},
   "source": [
    "### format()"
   ]
  },
  {
   "cell_type": "code",
   "execution_count": null,
   "id": "66a28a63-b372-479b-99d4-8a51eaae233c",
   "metadata": {},
   "outputs": [],
   "source": [
    "'gflhkmfg {} {}'.format(name1, name2) #результат строка!"
   ]
  },
  {
   "cell_type": "code",
   "execution_count": 19,
   "id": "dc66df56-c46a-4f15-b2dc-dd06f62e9c76",
   "metadata": {},
   "outputs": [
    {
     "name": "stdout",
     "output_type": "stream",
     "text": [
      "My name is John and I'm 30 years old\n"
     ]
    }
   ],
   "source": [
    "name = \"John\"\n",
    "age = 30\n",
    "text = \"My name is {} and I'm {} years old\".format(name, age)\n",
    "print(text)"
   ]
  },
  {
   "cell_type": "code",
   "execution_count": null,
   "id": "9ed8d280-f3bc-445f-9c34-6922a5c590b7",
   "metadata": {},
   "outputs": [],
   "source": [
    "name = \"John\"\n",
    "age = 30\n",
    "text = \"My name is\" + \" \" + name +\" \" + \"and I'm\" + \" \"+ str(age)+ \" \" + \"years old\"\n",
    "print(text)"
   ]
  },
  {
   "cell_type": "markdown",
   "id": "24ff102b-ca1e-466f-837c-2ebd5c3e31dd",
   "metadata": {},
   "source": [
    "Можно также явно указывать индексы аргументов или использовать именованные подстановки для более гибкого форматирования:\n"
   ]
  },
  {
   "cell_type": "code",
   "execution_count": 20,
   "id": "c36d46d4-82ba-41f4-a187-c0fbc8164601",
   "metadata": {},
   "outputs": [
    {
     "name": "stdout",
     "output_type": "stream",
     "text": [
      "I like I\n",
      "John is 30 years old\n"
     ]
    }
   ],
   "source": [
    "text1 = \"{0} {1} {0}\".format(\"I\", \"like\")  # Вставка аргументов по индексу\n",
    "text2 = \"{name} is {age} years old\".format(name=\"John\", age=30)  # Использование именованных подстановок\n",
    "print(text1)\n",
    "print(text2)"
   ]
  },
  {
   "cell_type": "markdown",
   "id": "e9be2803-30d0-43c1-a89d-640014025780",
   "metadata": {},
   "source": [
    "## Продвинутые возможности format()"
   ]
  },
  {
   "cell_type": "code",
   "execution_count": 21,
   "id": "ae6a54d9-fb96-4f4d-961e-a4b61a3a7e87",
   "metadata": {},
   "outputs": [
    {
     "name": "stdout",
     "output_type": "stream",
     "text": [
      "Hello Adam, your balance is 230.2346.\n",
      "Hello Adam, your balance is 230.2346.\n",
      "Hello Adam, your balance is 230.2346.\n",
      "Hello Adam, your balance is 230.2346.\n"
     ]
    }
   ],
   "source": [
    "# аргументы по умолчанию \n",
    "print(\"Hello {}, your balance is {}.\".format(\"Adam\", 230.2346)) \n",
    "\n",
    "# позиционные аргументы \n",
    "print(\"Hello {0}, your balance is {1}.\".format(\"Adam\", 230.2346)) \n",
    "\n",
    "# аргументы ключевые слова \n",
    "print(\"Hello {name}, your balance is {blc}.\".format(name=\"Adam\", blc=230.2346)) \n",
    "\n",
    "# смешанные аргументы \n",
    "print(\"Hello {0}, your balance is {blc}.\".format(\"Adam\", blc=230.2346))"
   ]
  },
  {
   "cell_type": "code",
   "execution_count": 22,
   "id": "e017d41f-68e7-482e-af68-908b1984589f",
   "metadata": {
    "scrolled": true
   },
   "outputs": [
    {
     "name": "stdout",
     "output_type": "stream",
     "text": [
      "The number is:123\n",
      "   12\n",
      "The float number is:123.456790\n",
      "  12.235\n",
      "bin: 1100, oct: 14, hex: c\n"
     ]
    }
   ],
   "source": [
    "# целочисленные аргументы \n",
    "print(\"The number is:{:d}\".format(123))\n",
    "\n",
    "# целые числа с минимальной шириной \n",
    "print(\"{:5d}\".format(12)) \n",
    "\n",
    "# аргументы с плавающей точкой \n",
    "print(\"The float number is:{:f}\".format(123.4567898)) \n",
    "\n",
    "# заполнение для чисел с плавающей точкой \n",
    "print(\"{:8.3f}\".format(12.2346))\n",
    "\n",
    "# восьмеричный, двоичный и шестнадцатеричный формат \n",
    "print(\"bin: {0:b}, oct: {0:o}, hex: {0:x}\".format(12))\n"
   ]
  },
  {
   "cell_type": "markdown",
   "id": "992f1334-41f5-44a8-93ea-3303f9e56719",
   "metadata": {},
   "source": [
    "### Динамическое форматирование"
   ]
  },
  {
   "cell_type": "code",
   "execution_count": 23,
   "id": "bec64571-89f6-4a15-84af-aa7dae8df09d",
   "metadata": {},
   "outputs": [
    {
     "name": "stdout",
     "output_type": "stream",
     "text": [
      "*cat*\n",
      "123.24  \n"
     ]
    }
   ],
   "source": [
    "# динамический шаблон формата строки \n",
    "string = \"{:{fill}{align}{width}}\" \n",
    "\n",
    "# передача кодов формата в качестве аргументов \n",
    "print(string.format('cat', fill='*', align='^', width=5)) \n",
    "\n",
    "# динамический шаблон формата float \n",
    "num = \"{:{align}{width}.{precision}f}\" \n",
    "\n",
    "# передача кодов формата в качестве аргументов \n",
    "print(num.format(123.236, align='<', width=8, precision=2))\n"
   ]
  },
  {
   "cell_type": "markdown",
   "id": "a8829e8d-5288-453e-b293-e81fcd1132c6",
   "metadata": {},
   "source": [
    "### C-style форматирование"
   ]
  },
  {
   "cell_type": "code",
   "execution_count": 24,
   "id": "17150582-c647-4c7a-83a2-6ae0e44b161f",
   "metadata": {},
   "outputs": [
    {
     "name": "stdout",
     "output_type": "stream",
     "text": [
      "My name is John and I'm 30 years old\n"
     ]
    }
   ],
   "source": [
    "name = \"John\"\n",
    "age = 30\n",
    "text = \"My name is %s and I'm %s years old\" % (name, age)\n",
    "print(text)"
   ]
  },
  {
   "cell_type": "markdown",
   "id": "55ac586a-d358-497b-84ca-8730bdefb781",
   "metadata": {},
   "source": [
    "### Использование f-строк"
   ]
  },
  {
   "cell_type": "code",
   "execution_count": 25,
   "id": "50e34b7a-fdde-4a3c-9bc1-cb9aa0a51992",
   "metadata": {},
   "outputs": [
    {
     "name": "stdout",
     "output_type": "stream",
     "text": [
      "My name is John and I'm 30 years old\n"
     ]
    }
   ],
   "source": [
    "name = \"John\"\n",
    "age = 30\n",
    "text = f\"My name is {name} and I'm {age} years old\"\n",
    "print(text)"
   ]
  },
  {
   "cell_type": "markdown",
   "id": "c4d240e6-c310-4766-9daf-4ca72b00a4b7",
   "metadata": {},
   "source": [
    "F-строки поддерживают использование форматных спецификаторов для управления выводом значений. Например:"
   ]
  },
  {
   "cell_type": "code",
   "execution_count": 26,
   "id": "4aef2280-ec70-43fb-b163-e1327929da1a",
   "metadata": {},
   "outputs": [
    {
     "name": "stdout",
     "output_type": "stream",
     "text": [
      "Total: $49.95\n"
     ]
    }
   ],
   "source": [
    "price = 9.99\n",
    "quantity = 5\n",
    "total = price * quantity\n",
    "text = f\"Total: ${total:.2f}\"  # Указание точности числа до двух знаков после запятой\n",
    "print(text)"
   ]
  },
  {
   "cell_type": "markdown",
   "id": "f36199bc-923d-492d-af95-b70460769f1d",
   "metadata": {},
   "source": [
    "F-строки позволяют использовать позиционные аргументы и = для управления выравниванием. Например:"
   ]
  },
  {
   "cell_type": "code",
   "execution_count": 29,
   "id": "732341fc-2f78-485c-a9e5-8309f1d23d5b",
   "metadata": {},
   "outputs": [
    {
     "name": "stdout",
     "output_type": "stream",
     "text": [
      "+++John+++ is 30!!!!!!!! years old\n"
     ]
    }
   ],
   "source": [
    "name = \"John\"\n",
    "age = 30\n",
    "text = f\"{name:+^10} is {age:!<10} years old\"\n",
    "print(text)"
   ]
  },
  {
   "cell_type": "code",
   "execution_count": 33,
   "id": "62812388-e70b-454b-9230-901e20811d46",
   "metadata": {},
   "outputs": [
    {
     "name": "stdout",
     "output_type": "stream",
     "text": [
      "I went to Disneyland with Sam.\n",
      "It was amazing.\n",
      "We waited for 200 hours to ride Space Mountain.\n"
     ]
    }
   ],
   "source": [
    "name = \"Sam\"\n",
    "adjective = \"amazing\"\n",
    "number = 200\n",
    "disney_ride = \"Space Mountain\"\n",
    "print(\"I went to {0} with {name}.\\nIt was {adjective}.\\nWe waited for {hours} hours to ride {ride}.\".format(\"Disneyland\", name = name, adjective=adjective, hours=number, ride=disney_ride))\n"
   ]
  },
  {
   "cell_type": "markdown",
   "id": "2149c663-26b9-4684-b920-5d491289b063",
   "metadata": {},
   "source": [
    "# Цикл for"
   ]
  },
  {
   "cell_type": "code",
   "execution_count": 34,
   "id": "2cfcbd6f-5bd3-4c27-b3e3-87472e06d5c7",
   "metadata": {},
   "outputs": [
    {
     "name": "stdout",
     "output_type": "stream",
     "text": [
      "c\n",
      "o\n",
      "d\n",
      "e\n"
     ]
    }
   ],
   "source": [
    "text = 'code'\n",
    "for symbol in text:\n",
    "    print(symbol)"
   ]
  },
  {
   "cell_type": "code",
   "execution_count": null,
   "id": "d6a17972-f775-427c-a4f1-65a3efbf2f69",
   "metadata": {},
   "outputs": [],
   "source": [
    "Задача: выводить 5 раз строку '*****'"
   ]
  },
  {
   "cell_type": "code",
   "execution_count": 36,
   "id": "dd4c5095-5cc3-4c05-8b11-7132ac2a87c7",
   "metadata": {},
   "outputs": [
    {
     "name": "stdout",
     "output_type": "stream",
     "text": [
      "*****\n",
      "*****\n",
      "*****\n",
      "*****\n",
      "*****\n"
     ]
    }
   ],
   "source": [
    "str = '*****'\n",
    "i=0\n",
    "while i<5:\n",
    "    print(str)\n",
    "    i+=1"
   ]
  },
  {
   "cell_type": "code",
   "execution_count": 37,
   "id": "1384e2c9-8dbb-4548-872c-3e2bad266366",
   "metadata": {},
   "outputs": [
    {
     "name": "stdout",
     "output_type": "stream",
     "text": [
      "*****\n",
      "*****\n",
      "*****\n",
      "*****\n",
      "*****\n"
     ]
    }
   ],
   "source": [
    "str = '*****'\n",
    "for i in range(5):\n",
    "    print(str)"
   ]
  },
  {
   "cell_type": "markdown",
   "id": "720575a2-fb54-4a3c-84be-dc1d7b895e6f",
   "metadata": {},
   "source": [
    "### range()"
   ]
  },
  {
   "cell_type": "code",
   "execution_count": 38,
   "id": "8f9309ca-e283-4cc2-a7a8-05561986dd6f",
   "metadata": {},
   "outputs": [
    {
     "name": "stdout",
     "output_type": "stream",
     "text": [
      "[1, 3, 5, 7, 9]\n"
     ]
    }
   ],
   "source": [
    "print(list(range(1,10,2)))"
   ]
  },
  {
   "cell_type": "code",
   "execution_count": 39,
   "id": "0a47b266-4bf8-4ff4-99a7-883894e6f698",
   "metadata": {},
   "outputs": [
    {
     "name": "stdout",
     "output_type": "stream",
     "text": [
      "[1, 2, 3, 4, 5, 6, 7, 8, 9]\n"
     ]
    }
   ],
   "source": [
    "print(list(range(1,10)))"
   ]
  },
  {
   "cell_type": "code",
   "execution_count": 40,
   "id": "aa2f6e66-d0be-448e-b26a-7c24c45b21e8",
   "metadata": {},
   "outputs": [
    {
     "name": "stdout",
     "output_type": "stream",
     "text": [
      "[10, 9, 8, 7, 6, 5, 4, 3, 2]\n"
     ]
    }
   ],
   "source": [
    "print(list(range(10,1,-1)))"
   ]
  },
  {
   "cell_type": "markdown",
   "id": "26fe84e3-db4c-4de8-9e77-34a23fb126ab",
   "metadata": {},
   "source": [
    "### enumerate()"
   ]
  },
  {
   "cell_type": "code",
   "execution_count": 41,
   "id": "588d21bd-17f7-4a53-a3da-a47108cf5cc8",
   "metadata": {},
   "outputs": [
    {
     "name": "stdout",
     "output_type": "stream",
     "text": [
      "1 apple\n",
      "2 banana\n",
      "3 cherry\n"
     ]
    }
   ],
   "source": [
    "fruits = [\"apple\", \"banana\", \"cherry\"]\n",
    "for index, fruit in enumerate(fruits):\n",
    "    print(index+1, fruit)"
   ]
  },
  {
   "cell_type": "markdown",
   "id": "8550adeb-af1e-4e23-b461-0e0783fa367a",
   "metadata": {},
   "source": [
    "### zip()"
   ]
  },
  {
   "cell_type": "code",
   "execution_count": 54,
   "id": "a9645e39-b406-4468-9958-2e97e423166c",
   "metadata": {},
   "outputs": [
    {
     "name": "stdout",
     "output_type": "stream",
     "text": [
      "Имя сотрудника: Alice, чей возраст 25 лет, с з/п: 2500$\n",
      "Имя сотрудника: Bob, чей возраст 30 лет, с з/п: 3000$\n",
      "Имя сотрудника: Charlie, чей возраст 35 лет, с з/п: 3500$\n"
     ]
    }
   ],
   "source": [
    "names = [\"Alice\", \"Bob\", \"Charlie\"]\n",
    "ages = [25, 30, 35]\n",
    "salaries = [2500, 3000, 3500]\n",
    "for name, age, salary in zip(names, ages, salaries):\n",
    "    print(f'Имя сотрудника: {name}, чей возраст {age} лет, с з/п: {salary}$')"
   ]
  },
  {
   "cell_type": "code",
   "execution_count": null,
   "id": "f3131177-4f6c-4f2e-ad64-d54d3aefcb4e",
   "metadata": {},
   "outputs": [],
   "source": [
    "# Бубет позже )))"
   ]
  },
  {
   "cell_type": "code",
   "execution_count": 58,
   "id": "ece80a1b-860b-4052-b77e-3ca629564a72",
   "metadata": {},
   "outputs": [
    {
     "name": "stdout",
     "output_type": "stream",
     "text": [
      "0. Имя сотрудника: Alice, чей возраст 25 лет, с з/п: 2500$\n",
      "1. Имя сотрудника: Bob, чей возраст 30 лет, с з/п: 3000$\n",
      "2. Имя сотрудника: Charlie, чей возраст 35 лет, с з/п: 3500$\n"
     ]
    }
   ],
   "source": [
    "names = [\"Alice\", \"Bob\", \"Charlie\"]\n",
    "ages = [25, 30, 35]\n",
    "salaries = [2500, 3000, 3500]\n",
    "for num, tup in enumerate(zip(names, ages, salaries)):\n",
    "        print(f'{num}. Имя сотрудника: {tup[0]}, чей возраст {tup[1]} лет, с з/п: {tup[2]}$')"
   ]
  },
  {
   "cell_type": "code",
   "execution_count": 53,
   "id": "9740f555-b893-4692-8588-d1da4901455d",
   "metadata": {},
   "outputs": [
    {
     "data": {
      "text/plain": [
       "[(0, ('Alice', 25, 2500)), (1, ('Bob', 30, 3000)), (2, ('Charlie', 35, 3500))]"
      ]
     },
     "execution_count": 53,
     "metadata": {},
     "output_type": "execute_result"
    }
   ],
   "source": [
    "list(enumerate(zip(names, ages, salaries)))"
   ]
  },
  {
   "cell_type": "markdown",
   "id": "643c6e0a-e47f-417d-a7d4-a4d771371f5e",
   "metadata": {},
   "source": [
    "# Работа с файлами"
   ]
  },
  {
   "cell_type": "code",
   "execution_count": 59,
   "id": "e1dcdddc-ae1a-4347-996b-f39536bc8a45",
   "metadata": {},
   "outputs": [
    {
     "name": "stdout",
     "output_type": "stream",
     "text": [
      "hello\n",
      "привет\n",
      "aloha\n"
     ]
    }
   ],
   "source": [
    "file = open(\"example.txt\", \"r\", encoding='utf-8')  # Открытие файла для чтения\n",
    "content = file.read()  # Чтение содержимого файла\n",
    "file.close()  # Закрытие файла\n",
    "print(content)"
   ]
  },
  {
   "cell_type": "code",
   "execution_count": 60,
   "id": "07f0c7c7-6a45-4e80-9942-6064e4ca90ff",
   "metadata": {},
   "outputs": [
    {
     "name": "stdout",
     "output_type": "stream",
     "text": [
      "['hello\\n', 'привет\\n', 'aloha']\n"
     ]
    }
   ],
   "source": [
    "file = open(\"example.txt\", \"r\", encoding='utf-8')  # Открытие файла для чтения\n",
    "content = file.readlines()  # Чтение содержимого файла в виде коллекции (списка)\n",
    "file.close()  # Закрытие файла\n",
    "print(content)"
   ]
  },
  {
   "cell_type": "code",
   "execution_count": 62,
   "id": "8a5df964-c758-4d04-b678-91c112d88c7b",
   "metadata": {},
   "outputs": [
    {
     "data": {
      "text/plain": [
       "'aloha'"
      ]
     },
     "execution_count": 62,
     "metadata": {},
     "output_type": "execute_result"
    }
   ],
   "source": [
    "content[2]"
   ]
  },
  {
   "cell_type": "code",
   "execution_count": 63,
   "id": "c8d9f429-82a7-4ba7-b203-3fb80a425a07",
   "metadata": {},
   "outputs": [
    {
     "name": "stdout",
     "output_type": "stream",
     "text": [
      "hello\n",
      "\n"
     ]
    }
   ],
   "source": [
    "file = open(\"example.txt\", \"r\", encoding='utf-8') \n",
    "content = file.readline()\n",
    "print(content)"
   ]
  },
  {
   "cell_type": "code",
   "execution_count": 64,
   "id": "3e1c80c9-9c03-4913-a55e-6fd78d8aa2e6",
   "metadata": {},
   "outputs": [
    {
     "name": "stdout",
     "output_type": "stream",
     "text": [
      "привет\n",
      "\n"
     ]
    }
   ],
   "source": [
    "content = file.readline()\n",
    "print(content)"
   ]
  },
  {
   "cell_type": "code",
   "execution_count": 65,
   "id": "e41c6358-3075-41a8-988c-f4b9ad6c8fce",
   "metadata": {},
   "outputs": [
    {
     "name": "stdout",
     "output_type": "stream",
     "text": [
      "aloha\n"
     ]
    }
   ],
   "source": [
    "content = file.readline()\n",
    "print(content)"
   ]
  },
  {
   "cell_type": "code",
   "execution_count": 66,
   "id": "de8affca-b574-4b28-a855-67d4fc7b7ceb",
   "metadata": {},
   "outputs": [
    {
     "name": "stdout",
     "output_type": "stream",
     "text": [
      "hello\n",
      "\n",
      "привет\n",
      "\n",
      "aloha\n"
     ]
    }
   ],
   "source": [
    "with open('example.txt', 'r', encoding='utf-8') as file:\n",
    "    for line in file:\n",
    "        print(line)"
   ]
  },
  {
   "cell_type": "code",
   "execution_count": 69,
   "id": "8621ad08-483f-41a9-bd91-d7937b30e82f",
   "metadata": {},
   "outputs": [
    {
     "name": "stdin",
     "output_type": "stream",
     "text": [
      " test\n"
     ]
    }
   ],
   "source": [
    "file = open(\"output.txt\", \"w\")  # Открытие файла для чтения\n",
    "text = input()\n",
    "content = file.write(text)  # Чтение содержимого файла\n",
    "file.close()  # Закрытие файла"
   ]
  },
  {
   "cell_type": "code",
   "execution_count": 70,
   "id": "0bc43258-1a8f-4a61-8bcd-4ed9d24628b6",
   "metadata": {},
   "outputs": [
    {
     "name": "stdin",
     "output_type": "stream",
     "text": [
      " 1\n",
      " 2\n",
      " 3\n"
     ]
    }
   ],
   "source": [
    "file = open(\"output.txt\", \"w\")  # Открытие файла для чтения\n",
    "for i in range(3):\n",
    "    text = input()+'\\n'\n",
    "    content = file.write(text)  # Чтение содержимого файла\n",
    "file.close()  # Закрытие файла"
   ]
  },
  {
   "cell_type": "code",
   "execution_count": 72,
   "id": "1695c251-7ca7-40df-84e0-e147d83efd4f",
   "metadata": {},
   "outputs": [
    {
     "name": "stdin",
     "output_type": "stream",
     "text": [
      " 10\n",
      " 20\n",
      " 30\n"
     ]
    }
   ],
   "source": [
    "file = open(\"output.txt\", \"a\")  # Открытие файла для чтения\n",
    "for i in range(3):\n",
    "    text = input()+'\\n'\n",
    "    content = file.write(text)  # Чтение содержимого файла\n",
    "file.close()  # Закрытие файла"
   ]
  },
  {
   "cell_type": "code",
   "execution_count": 71,
   "id": "60894eb9-1865-49d1-bbf9-ec03e2096f82",
   "metadata": {},
   "outputs": [
    {
     "name": "stdin",
     "output_type": "stream",
     "text": [
      " 5\n",
      " 6\n",
      " 7\n"
     ]
    }
   ],
   "source": [
    "with open(\"output.txt\", \"w\") as file:  # Открытие файла для чтения\n",
    "    for i in range(3):\n",
    "        text = input()+'\\n'\n",
    "        content = file.write(text)  # Чтение содержимого файла"
   ]
  },
  {
   "cell_type": "markdown",
   "id": "f0369e67-7067-487b-a5a8-664abae85d0d",
   "metadata": {},
   "source": [
    "### Разбор практических задач"
   ]
  },
  {
   "cell_type": "markdown",
   "id": "f574041d-a1b8-4dec-b59d-b17cb99dc607",
   "metadata": {},
   "source": [
    "1. Во входном файле задается число. Необходимо в выходной файл вывести треугольник из цифр, который будет занимать верхний левый угол."
   ]
  },
  {
   "cell_type": "markdown",
   "id": "4d80cf02-e685-4386-a029-e1913ca71571",
   "metadata": {},
   "source": [
    "1\n",
    "\n",
    "12\n",
    "\n",
    "123\n",
    "\n",
    "1234\n",
    "\n",
    "12345"
   ]
  },
  {
   "cell_type": "code",
   "execution_count": 1,
   "id": "35983366-797d-4428-8009-e9cc5d8136d4",
   "metadata": {},
   "outputs": [],
   "source": [
    "input_file = 'input.txt'\n",
    "output_file = 'output.txt'\n",
    "\n",
    "with open(input_file, 'r') as f:\n",
    "    n = int(f.readline().strip())\n",
    "    \n",
    "string =''\n",
    "for row in range(1,n+1): # цикл нужен, чтобы создавать n-ое количество строк\n",
    "    for number in range(1,row+1): # цикл нужен, чтобы в строке формировть последовательность чисел\n",
    "        string += str(number)\n",
    "    string += '\\n'\n",
    "\n",
    "with open(output_file, 'w') as f:\n",
    "    f.write(string)"
   ]
  },
  {
   "cell_type": "markdown",
   "id": "aac7bc53-3d10-408c-8c46-82764fe08ff5",
   "metadata": {},
   "source": [
    "2. Напишите программу, которая открывает текстовый файл с именем input.txt, считывает его содержимое и записывает в файл с именем output.txt, меняя порядок слов на обратный. Каждое слово должно быть записано на отдельной строке. Используйте цикл for и методы readlines(), split() и reverse() для решения задачи.\n",
    "\n",
    "Пример содержимого файла input.txt:\n",
    "\n",
    "Hello, World! How are you?\n",
    "\n",
    "\n",
    "Пример содержимого файла output.txt:\n",
    "\n",
    "you?\n",
    "are\n",
    "How\n",
    "World!\n",
    "Hello,"
   ]
  },
  {
   "cell_type": "code",
   "execution_count": 2,
   "id": "82bbaf6f-d0a0-4891-aee2-34424c1d03c0",
   "metadata": {},
   "outputs": [],
   "source": [
    "input_file = 'input.txt'\n",
    "output_file = 'output.txt'\n",
    "\n",
    "with open(input_file, 'r') as f:\n",
    "    string = f.readline().strip() # здесь считываем строку из файла\n",
    "    \n",
    "#string.split()[::-1] так мы строку переворачиваем, предворительно разделив ее по предложениям\n",
    "string = ' '.join(string.split()[::-1]) #здесь пересохраняем строку склеивая ее через пробел\n",
    "\n",
    "with open(output_file, 'w') as f:\n",
    "    f.write(string)"
   ]
  },
  {
   "cell_type": "markdown",
   "id": "5ba688a0-1134-4840-af38-6797beeffcde",
   "metadata": {},
   "source": [
    "### Разбор ДЗ"
   ]
  },
  {
   "cell_type": "markdown",
   "id": "bc201be3-3c72-41f5-82ad-5438ccbe8ff4",
   "metadata": {},
   "source": [
    "Напишите программу, которая запрашивает у пользователя число N и выводит на экран таблицу умножения от 1 до N. Используйте вложенный цикл for для создания таблицы умножения. Выведите результат на экран с помощью команды print и f-строк или метода format().\n"
   ]
  },
  {
   "cell_type": "code",
   "execution_count": 3,
   "id": "38a1399f-20ba-4ac4-8201-d3403030a757",
   "metadata": {},
   "outputs": [
    {
     "name": "stdin",
     "output_type": "stream",
     "text": [
      " 10\n"
     ]
    },
    {
     "name": "stdout",
     "output_type": "stream",
     "text": [
      "         1         2         3         4         5         6         7         8         9        10\n",
      "         2         4         6         8        10        12        14        16        18        20\n",
      "         3         6         9        12        15        18        21        24        27        30\n",
      "         4         8        12        16        20        24        28        32        36        40\n",
      "         5        10        15        20        25        30        35        40        45        50\n",
      "         6        12        18        24        30        36        42        48        54        60\n",
      "         7        14        21        28        35        42        49        56        63        70\n",
      "         8        16        24        32        40        48        56        64        72        80\n",
      "         9        18        27        36        45        54        63        72        81        90\n",
      "        10        20        30        40        50        60        70        80        90       100\n"
     ]
    }
   ],
   "source": [
    "# Идея: res = row*col (row = range(1,6) col = range(1,6))\n",
    "\n",
    "n = int(input())\n",
    "rows = range(1,n+1) # создаю последовательность чисел от 1 до n для строк\n",
    "cols = range(1,n+1) # создаю последовательность чисел от 1 до n для столбцов\n",
    "\n",
    "for row in rows:\n",
    "    for col in cols:\n",
    "        print(f'{row*col:10d}',end = '')\n",
    "\n",
    "    print()"
   ]
  },
  {
   "cell_type": "markdown",
   "id": "37343d7c-b664-4196-8884-c3377047157b",
   "metadata": {},
   "source": [
    "обратите внимание, здесь работает ширина (окно) о котором я так долго говорил"
   ]
  },
  {
   "cell_type": "markdown",
   "id": "5c8746f1-6d11-463c-b98e-83bd65f1c351",
   "metadata": {},
   "source": [
    "Напишите программу, которая принимает два списка одинаковой длины и создает новый список, содержащий пары элементов из исходных списков. Используйте функцию zip() для создания пар элементов. Выведите результат на экран с помощью команды print."
   ]
  },
  {
   "cell_type": "code",
   "execution_count": 4,
   "id": "31b5812d-df40-4bbd-8999-189dbdb63892",
   "metadata": {},
   "outputs": [
    {
     "name": "stdout",
     "output_type": "stream",
     "text": [
      "[('Дима', '2'), ('Павел', '5'), ('Ирина', '5')]\n"
     ]
    }
   ],
   "source": [
    "names = ['Дима', 'Павел', 'Ирина']\n",
    "balls = ['2','5','5']\n",
    "print(list(zip(names,balls)))"
   ]
  },
  {
   "cell_type": "code",
   "execution_count": null,
   "id": "1cd8f4a4-1bcf-4c5a-a37e-44f098c3ce94",
   "metadata": {},
   "outputs": [],
   "source": []
  }
 ],
 "metadata": {
  "kernelspec": {
   "display_name": "Python 3 (ipykernel)",
   "language": "python",
   "name": "python3"
  },
  "language_info": {
   "codemirror_mode": {
    "name": "ipython",
    "version": 3
   },
   "file_extension": ".py",
   "mimetype": "text/x-python",
   "name": "python",
   "nbconvert_exporter": "python",
   "pygments_lexer": "ipython3",
   "version": "3.12.4"
  }
 },
 "nbformat": 4,
 "nbformat_minor": 5
}
