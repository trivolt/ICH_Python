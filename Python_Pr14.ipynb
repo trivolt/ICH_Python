{
 "cells": [
  {
   "cell_type": "markdown",
   "id": "042cd7fe-8e2b-4b50-bb19-029b89d6164b",
   "metadata": {},
   "source": [
    "# Практика 14"
   ]
  },
  {
   "cell_type": "markdown",
   "id": "c98f0fa9-ad79-494a-be03-bd5ab824b580",
   "metadata": {},
   "source": [
    "1. Создать класс Car (машина) со следующими полями: model, year, color. \n"
   ]
  },
  {
   "cell_type": "code",
   "execution_count": 13,
   "id": "458d2ba5-5b11-4c7e-9f3b-e0bd795e4e4a",
   "metadata": {},
   "outputs": [],
   "source": [
    "class Car():\n",
    "    def __init__(self, model, year, color):\n",
    "        self.model = model\n",
    "        self.year = year\n",
    "        self.color = color"
   ]
  },
  {
   "cell_type": "markdown",
   "id": "9043a8b1-edb9-4c3e-bfa5-6244b14ee103",
   "metadata": {},
   "source": [
    "2. Создать 10 объектов этого класса, описывающих модели разных марок, лет и цветов. \n",
    "\n"
   ]
  },
  {
   "cell_type": "code",
   "execution_count": null,
   "id": "17c6fc65-d3b3-4ebd-a2c6-97283fd48f99",
   "metadata": {},
   "outputs": [],
   "source": []
  },
  {
   "cell_type": "markdown",
   "id": "4a5571c5-6a64-401f-8137-c6a2070ee0b1",
   "metadata": {},
   "source": [
    "3. Создать список из этих объектов."
   ]
  },
  {
   "cell_type": "code",
   "execution_count": 14,
   "id": "b47224e4-8665-4160-add7-767f72590c9b",
   "metadata": {},
   "outputs": [],
   "source": [
    "cars = [Car('Mercedes', 2020, 'red'), \n",
    "      Car('Audi', 2020, 'black'), \n",
    "      Car('Audi', 2020, 'blue'), \n",
    "      Car('BMW', 2022, 'red'), \n",
    "      Car('Audi', 2020, 'red'), \n",
    "      Car('Kia', 2020, 'red'), \n",
    "      Car('Audi', 2020, 'red'),\n",
    "      Car('Audi', 2019, 'red'), \n",
    "      Car('Suzuki', 2020, 'red'), \n",
    "      Car('Suzuki', 2018, 'blue')]"
   ]
  },
  {
   "cell_type": "markdown",
   "id": "0fac9c77-bedd-44e7-814e-c0129e3250e8",
   "metadata": {},
   "source": [
    "4. Написать функцию, которая принимает список объектов класса Car и цвет и возвращает список машин этого цвета. Напечатать этот список, выводя название модели, год и цвет. Использовать filter и lambda функции. \n"
   ]
  },
  {
   "cell_type": "code",
   "execution_count": 15,
   "id": "f9f0a425-f4ce-4eaa-bc76-9496a976d91b",
   "metadata": {},
   "outputs": [
    {
     "name": "stdout",
     "output_type": "stream",
     "text": [
      "Audi 2020\n"
     ]
    }
   ],
   "source": [
    "def print_color_cars(lst_cars, color):\n",
    "    for car in lst_cars:\n",
    "        if car.color==color:\n",
    "            print(car.model,  car.year)\n",
    "\n",
    "print_color_cars(cars, \"black\")"
   ]
  },
  {
   "cell_type": "code",
   "execution_count": 17,
   "id": "70e9ffee-c9dd-4f30-9747-c8b14ce8cd46",
   "metadata": {},
   "outputs": [],
   "source": [
    "cars_black = filter( lambda car: car.color == 'black', cars)"
   ]
  },
  {
   "cell_type": "code",
   "execution_count": 18,
   "id": "233bc809-fa6e-45f1-81d8-ecb0d1ed4979",
   "metadata": {},
   "outputs": [
    {
     "name": "stdout",
     "output_type": "stream",
     "text": [
      "Audi 2020\n"
     ]
    }
   ],
   "source": [
    "for car in cars_black:\n",
    "    print(car.model, car.year)"
   ]
  },
  {
   "cell_type": "code",
   "execution_count": 20,
   "id": "88833fe9-bedc-4da8-b6c8-a8fb6cb360fa",
   "metadata": {},
   "outputs": [
    {
     "name": "stdout",
     "output_type": "stream",
     "text": [
      "Mercedes 2020\n",
      "BMW 2022\n",
      "Audi 2020\n",
      "Kia 2020\n",
      "Audi 2020\n",
      "Audi 2019\n",
      "Suzuki 2020\n"
     ]
    }
   ],
   "source": [
    "def print_color_cars(lst_cars, color):\n",
    "    cars_filter = filter( lambda car: car.color == color, lst_cars)\n",
    "    for car in cars_filter:\n",
    "        print(car.model,  car.year)\n",
    "\n",
    "print_color_cars(cars, \"red\")"
   ]
  },
  {
   "cell_type": "code",
   "execution_count": null,
   "id": "96a937b5-3fd4-4028-8644-6beea72ac1ee",
   "metadata": {},
   "outputs": [],
   "source": []
  },
  {
   "cell_type": "markdown",
   "id": "ccd40ec8-eca2-401a-a64a-f78775389bd4",
   "metadata": {},
   "source": [
    "5. Создать класс Person с полями имя и дата рождения. "
   ]
  },
  {
   "cell_type": "code",
   "execution_count": 21,
   "id": "a24e6437-e0c2-4cae-b4e5-f06529c89135",
   "metadata": {},
   "outputs": [],
   "source": [
    "class Person():\n",
    "    def __init__(self,name,birthday):\n",
    "        self.name = name\n",
    "        self.birthday = birthday\n",
    "\n",
    "    def print_person(self):\n",
    "        print(f'{self.name}, родившийся {self.birthday}')"
   ]
  },
  {
   "cell_type": "markdown",
   "id": "123242d0-a6d6-4926-abdb-fda805fe2dc1",
   "metadata": {},
   "source": [
    "6. Создать 10 объектов этого класса с разными именами."
   ]
  },
  {
   "cell_type": "code",
   "execution_count": 22,
   "id": "fa42de64-6a25-4cf5-9979-7a956195d343",
   "metadata": {},
   "outputs": [],
   "source": [
    "people = [\n",
    "    Person(\"Alice\", 1990),\n",
    "    Person(\"Bob\", 1985),\n",
    "    Person(\"Charlie\", 1992),\n",
    "    Person(\"David\", 1988),\n",
    "    Person(\"Kate\", 1995),\n",
    "    Person(\"Frank\", 1983),\n",
    "    Person(\"Grace\", 1991),\n",
    "    Person(\"Anna\", 1986),\n",
    "    Person(\"Denis\", 1993),\n",
    "    Person(\"Jack\", 1989)\n",
    "]"
   ]
  },
  {
   "cell_type": "code",
   "execution_count": 28,
   "id": "699433d7-5536-4492-971b-8c11e9ea93d1",
   "metadata": {},
   "outputs": [
    {
     "name": "stdout",
     "output_type": "stream",
     "text": [
      "2025\n"
     ]
    }
   ],
   "source": [
    "from datetime import datetime\n",
    "\n",
    "print(datetime.now().year)"
   ]
  },
  {
   "cell_type": "code",
   "execution_count": 31,
   "id": "879893b0-c2bb-4952-a5ec-7577cc0d6058",
   "metadata": {},
   "outputs": [
    {
     "data": {
      "text/plain": [
       "1990"
      ]
     },
     "execution_count": 31,
     "metadata": {},
     "output_type": "execute_result"
    }
   ],
   "source": [
    "datetime.strptime('12.3.1990','%d.%m.%Y').year"
   ]
  },
  {
   "cell_type": "code",
   "execution_count": null,
   "id": "48d5d632-13d6-4c77-a9c6-fd983e6084c7",
   "metadata": {},
   "outputs": [],
   "source": [
    "datetime.'12.3.1990'"
   ]
  },
  {
   "cell_type": "code",
   "execution_count": 48,
   "id": "8e7679ca-49e5-4db4-929a-00c5c31bd1b6",
   "metadata": {},
   "outputs": [],
   "source": [
    "pers_18 = filter(lambda p: (datetime.now().year - p.birthday) >= 18  ,people)"
   ]
  },
  {
   "cell_type": "code",
   "execution_count": 59,
   "id": "6e442fdb-ed7c-4416-b33e-38d5af2acaaa",
   "metadata": {},
   "outputs": [
    {
     "ename": "StopIteration",
     "evalue": "",
     "output_type": "error",
     "traceback": [
      "\u001b[1;31m---------------------------------------------------------------------------\u001b[0m",
      "\u001b[1;31mStopIteration\u001b[0m                             Traceback (most recent call last)",
      "Cell \u001b[1;32mIn[59], line 1\u001b[0m\n\u001b[1;32m----> 1\u001b[0m \u001b[38;5;28mnext\u001b[39m(pers_18)\u001b[38;5;241m.\u001b[39mprint_person()\n",
      "\u001b[1;31mStopIteration\u001b[0m: "
     ]
    }
   ],
   "source": [
    "next(pers_18).print_person()"
   ]
  },
  {
   "cell_type": "code",
   "execution_count": 46,
   "id": "d14ebb45-8334-465a-8873-9425bf79b716",
   "metadata": {},
   "outputs": [
    {
     "name": "stdout",
     "output_type": "stream",
     "text": [
      "David, родившийся 1988\n",
      "Kate, родившийся 1995\n",
      "Frank, родившийся 1983\n",
      "Grace, родившийся 1991\n",
      "Anna, родившийся 1986\n",
      "Denis, родившийся 1993\n",
      "Jack, родившийся 1989\n"
     ]
    }
   ],
   "source": [
    "for p in pers_18:\n",
    "    p.print_person()"
   ]
  },
  {
   "cell_type": "markdown",
   "id": "c1e60f90-a398-4d9e-b03c-3b75644a1d7a",
   "metadata": {},
   "source": [
    "7. Создать класс Employee который содержит поле имя и возраст. "
   ]
  },
  {
   "cell_type": "code",
   "execution_count": null,
   "id": "f2231a9b-40cc-44c8-b704-35fe2aed10cd",
   "metadata": {},
   "outputs": [],
   "source": []
  },
  {
   "cell_type": "markdown",
   "id": "78c37f85-7dfa-45bf-8ada-da83784fdaa5",
   "metadata": {},
   "source": [
    "8. Написать функцию, которая из списка объекта класса Person создает список из объектов класса Employee, вычисляя возраст каждого Person по дате рождения. Подумать, где должна быть реализована функция, вычисляющая возраст по дате рождения. Варианты: в конструкторе класса Employee, в качестве глобальной функции, в качестве метода класса (какого?). Получившийся список должен содержать сотрудников, старше 18 лет.  Использовать map и filter. У классов Person и Employee должны быть определены конструкторы. Реализация трансформации список персонов в сотрудников должна быть в одну строчку. "
   ]
  },
  {
   "cell_type": "code",
   "execution_count": null,
   "id": "3be29d99-c413-4015-b4ac-4bd6aae9070b",
   "metadata": {},
   "outputs": [],
   "source": []
  },
  {
   "cell_type": "markdown",
   "id": "1642113b-ab18-4736-9e3f-67a97b9269a7",
   "metadata": {},
   "source": [
    "9. Вывести получившихся сотрудников на экран. "
   ]
  },
  {
   "cell_type": "code",
   "execution_count": null,
   "id": "6d7a685c-7258-4445-82f9-78d224502f95",
   "metadata": {},
   "outputs": [],
   "source": []
  },
  {
   "cell_type": "markdown",
   "id": "03f9df74-dfb2-4a61-b0bf-ad68d530384f",
   "metadata": {},
   "source": [
    "10. Используя функцию forAll() убедиться, что все сотрудники действительно старше 18 лет. "
   ]
  },
  {
   "cell_type": "code",
   "execution_count": null,
   "id": "663b6c63-03ba-45f5-871d-ab6dc5086d3f",
   "metadata": {},
   "outputs": [],
   "source": []
  }
 ],
 "metadata": {
  "kernelspec": {
   "display_name": "Python 3 (ipykernel)",
   "language": "python",
   "name": "python3"
  },
  "language_info": {
   "codemirror_mode": {
    "name": "ipython",
    "version": 3
   },
   "file_extension": ".py",
   "mimetype": "text/x-python",
   "name": "python",
   "nbconvert_exporter": "python",
   "pygments_lexer": "ipython3",
   "version": "3.12.4"
  }
 },
 "nbformat": 4,
 "nbformat_minor": 5
}
