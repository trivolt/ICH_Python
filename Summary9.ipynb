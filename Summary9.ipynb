{
 "cells": [
  {
   "cell_type": "markdown",
   "id": "03efe98f-576d-425f-89fe-f4fc872d512c",
   "metadata": {},
   "source": [
    "# Summary 9"
   ]
  },
  {
   "cell_type": "markdown",
   "id": "cb3b638c-49a6-477d-9864-cf960f7dcfbf",
   "metadata": {},
   "source": [
    "### Изменяемый / неизменяемый тип данных в параметрах функций"
   ]
  },
  {
   "cell_type": "code",
   "execution_count": 19,
   "id": "8d6c6929-4b92-4173-94d6-009908b8729f",
   "metadata": {},
   "outputs": [
    {
     "name": "stdout",
     "output_type": "stream",
     "text": [
      "[1, 2, 4] 4\n",
      "[1, 2, 4] 3\n"
     ]
    }
   ],
   "source": [
    "def newlist(s,a):\n",
    "    a+=1\n",
    "    s.append(a)\n",
    "    print(s,a)\n",
    "    \n",
    "k=[1,2] #изменяемый\n",
    "b=3     # неизменяемый\n",
    "newlist(k,b)\n",
    "print(k,b) #k становится [1,2,4], b осталось 3\n"
   ]
  },
  {
   "cell_type": "markdown",
   "id": "a696fb80-0338-4b1b-9dab-7bf323c8885b",
   "metadata": {},
   "source": [
    "### Передача произвольного числа арументов в функции"
   ]
  },
  {
   "cell_type": "code",
   "execution_count": 22,
   "id": "8365ce6c-e61c-4a09-9ced-4ce9286205b0",
   "metadata": {},
   "outputs": [
    {
     "name": "stdout",
     "output_type": "stream",
     "text": [
      "1\n",
      "2\n",
      "3\n",
      "***********\n",
      "1\n",
      "2\n",
      "3\n",
      "***********\n",
      "1\n",
      "2\n",
      "3\n"
     ]
    }
   ],
   "source": [
    "def my_function(*args):\n",
    "    for arg in args:\n",
    "        print(arg)\n",
    "        \n",
    "my_function(1, 2, 3)  \n",
    "print('***********')\n",
    "my_function(*[1,2,3])\n",
    "lst = [1,2,3]\n",
    "print('***********')\n",
    "my_function(*lst)"
   ]
  },
  {
   "cell_type": "markdown",
   "id": "c5f9d225-b7d2-4206-b949-f6dc1ef9512b",
   "metadata": {},
   "source": [
    "### Вложенные функции"
   ]
  },
  {
   "cell_type": "code",
   "execution_count": 23,
   "id": "3105764a-1c0c-4875-9a24-e90ec3193d6a",
   "metadata": {},
   "outputs": [
    {
     "name": "stdout",
     "output_type": "stream",
     "text": [
      "Inner function\n"
     ]
    }
   ],
   "source": [
    "def outer_function():\n",
    "    def inner_function():\n",
    "        print(\"Inner function\")\n",
    "    inner_function()\n",
    "\n",
    "\n",
    "outer_function()\n"
   ]
  },
  {
   "cell_type": "markdown",
   "id": "5c2445d7-4d37-4461-b831-f7c4b2b95385",
   "metadata": {},
   "source": [
    "### Nonlocal"
   ]
  },
  {
   "cell_type": "code",
   "execution_count": 26,
   "id": "14c289f4-516e-444d-8509-c0b634692462",
   "metadata": {},
   "outputs": [
    {
     "name": "stdout",
     "output_type": "stream",
     "text": [
      "2\n"
     ]
    }
   ],
   "source": [
    "def outer_function():\n",
    "    x = 1\n",
    "    def inner_function():\n",
    "        nonlocal x\n",
    "        x = 2\n",
    "    inner_function()\n",
    "    print(x)  # Выводит 2\n",
    "    \n",
    "outer_function()\n"
   ]
  },
  {
   "cell_type": "markdown",
   "id": "e442c250-3d1c-4281-92c7-20ebe6672511",
   "metadata": {},
   "source": [
    "### Лямбда функции"
   ]
  },
  {
   "cell_type": "code",
   "execution_count": 27,
   "id": "0f717c0e-f034-44cb-9c90-31104f534181",
   "metadata": {},
   "outputs": [
    {
     "name": "stdout",
     "output_type": "stream",
     "text": [
      "5\n"
     ]
    }
   ],
   "source": [
    "add = lambda x, y: x + y\n",
    "result = add(2, 3)\n",
    "print(result)  "
   ]
  },
  {
   "cell_type": "code",
   "execution_count": null,
   "id": "00916420-1c51-46e3-ae0e-cbe75059aea4",
   "metadata": {},
   "outputs": [],
   "source": []
  },
  {
   "cell_type": "code",
   "execution_count": 29,
   "id": "0c705cf3-55db-4bb0-b71e-1e20847166b0",
   "metadata": {},
   "outputs": [
    {
     "data": {
      "text/plain": [
       "'even'"
      ]
     },
     "execution_count": 29,
     "metadata": {},
     "output_type": "execute_result"
    }
   ],
   "source": [
    "odd_even_number = lambda x: 'even' if x%2==0 else 'odd'\n",
    "odd_even_number(12)"
   ]
  },
  {
   "cell_type": "code",
   "execution_count": 32,
   "id": "28e1ff07-3235-4da0-b74d-62106ef9dc23",
   "metadata": {},
   "outputs": [
    {
     "name": "stdout",
     "output_type": "stream",
     "text": [
      "10\n"
     ]
    }
   ],
   "source": [
    "len_dig = lambda x: len(str(x))\n",
    "\n",
    "print(len_dig(1234563567))#3"
   ]
  },
  {
   "cell_type": "markdown",
   "id": "2579fd2b-1402-49bf-963d-cc42ff9cf340",
   "metadata": {},
   "source": [
    "### Компаратор в сортировке"
   ]
  },
  {
   "cell_type": "code",
   "execution_count": 33,
   "id": "7bc133da-adf9-4240-929e-e3ada9da2b17",
   "metadata": {},
   "outputs": [
    {
     "name": "stdout",
     "output_type": "stream",
     "text": [
      "[(1, 'a'), (5, 'b'), (3, 'c')]\n"
     ]
    }
   ],
   "source": [
    "my_list = [(5, 'b'), (1, 'a'), (3, 'c')]\n",
    "\n",
    "my_list.sort(key=lambda x: x[1])\n",
    "print(my_list) \n"
   ]
  },
  {
   "cell_type": "code",
   "execution_count": 36,
   "id": "8e12b71e-c5c9-4d24-a631-37fbfbd2624d",
   "metadata": {},
   "outputs": [
    {
     "data": {
      "text/plain": [
       "(1, 'a', 1000)"
      ]
     },
     "execution_count": 36,
     "metadata": {},
     "output_type": "execute_result"
    }
   ],
   "source": [
    "my_list = [(5, 'b', 100), (1, 'a', 1000), (3, 'c', 3)]\n",
    "max(my_list,key = lambda x: x[2])\n"
   ]
  },
  {
   "cell_type": "markdown",
   "id": "d8072c02-0aad-42f1-bf9b-4d3fe16c40a8",
   "metadata": {},
   "source": [
    "### Встроенные функции sorted и reversed "
   ]
  },
  {
   "cell_type": "code",
   "execution_count": 40,
   "id": "4d8e689f-bf3f-46db-a64a-515bdc805f57",
   "metadata": {},
   "outputs": [
    {
     "name": "stdout",
     "output_type": "stream",
     "text": [
      "[1, 2, 3]\n",
      "[2, 1, 3]\n"
     ]
    }
   ],
   "source": [
    "my_list = [3, 1, 2]\n",
    "sorted_list = sorted(my_list)\n",
    "reversed_list = list(reversed(my_list))\n",
    "print(sorted_list)  # Выводит [1, 2, 3]\n",
    "print(reversed_list)  # Выводит [2, 1, 3]\n"
   ]
  },
  {
   "cell_type": "code",
   "execution_count": 42,
   "id": "fce78f74-dfa0-40f0-b8f3-94cad38b6a2f",
   "metadata": {},
   "outputs": [
    {
     "data": {
      "text/plain": [
       "[1, 2, 3]"
      ]
     },
     "execution_count": 42,
     "metadata": {},
     "output_type": "execute_result"
    }
   ],
   "source": [
    "sorted(my_list)"
   ]
  },
  {
   "cell_type": "markdown",
   "id": "997362dc-532d-4ea0-91d4-d6ff3189c27d",
   "metadata": {},
   "source": [
    "### Использование функций в  списковых включениях\n"
   ]
  },
  {
   "cell_type": "code",
   "execution_count": 43,
   "id": "79f889e6-e496-435f-8f11-b4f14bee0299",
   "metadata": {},
   "outputs": [
    {
     "name": "stdout",
     "output_type": "stream",
     "text": [
      "[1, 2, 3, 4]\n"
     ]
    }
   ],
   "source": [
    "lst = ['1','2','3','4']\n",
    "print([int(item) for item in lst])"
   ]
  },
  {
   "cell_type": "markdown",
   "id": "17c6a852-42ba-4ffb-88b7-0883796d6b54",
   "metadata": {},
   "source": [
    "### Задание для закрепления"
   ]
  },
  {
   "cell_type": "markdown",
   "id": "20a40e12-3f6e-40ce-b40b-709e8e8bd374",
   "metadata": {},
   "source": [
    "Используя лямбда-выражение, напишите программу, которая возвращает квадрат числа.\n"
   ]
  },
  {
   "cell_type": "code",
   "execution_count": 44,
   "id": "4e839cf0-3bf4-4043-bb45-a0dd832c56a3",
   "metadata": {},
   "outputs": [
    {
     "name": "stdout",
     "output_type": "stream",
     "text": [
      "100\n"
     ]
    }
   ],
   "source": [
    "sqr = lambda x: x*x\n",
    "print(sqr(10))"
   ]
  },
  {
   "cell_type": "markdown",
   "id": "83db5120-d52f-49e8-a682-daea8aa7c640",
   "metadata": {},
   "source": [
    "### Методы functools.partial"
   ]
  },
  {
   "cell_type": "code",
   "execution_count": 46,
   "id": "0aafb795-d687-4f0c-bbf5-8f220fd322f8",
   "metadata": {},
   "outputs": [
    {
     "name": "stdout",
     "output_type": "stream",
     "text": [
      "14\n"
     ]
    }
   ],
   "source": [
    "from functools import partial\n",
    "\n",
    "# Исходная функция\n",
    "def add(a, b, c, d):\n",
    "    return a + b + c + d\n",
    "\n",
    "# Фиксируем первые два аргумента\n",
    "add_five = partial(add, 2, 3)\n",
    "\n",
    "# Вызываем новую функцию\n",
    "print(add_five(4, 5)) "
   ]
  },
  {
   "cell_type": "code",
   "execution_count": null,
   "id": "36474354-af21-4813-b061-f52f5e94f7c3",
   "metadata": {},
   "outputs": [],
   "source": [
    "# Дорешиваем задачу из урока Python 18"
   ]
  },
  {
   "cell_type": "code",
   "execution_count": null,
   "id": "c583dc27-b1df-4706-ba6f-5cec914fde5e",
   "metadata": {},
   "outputs": [],
   "source": []
  },
  {
   "cell_type": "markdown",
   "id": "3536a4bf-456b-420e-b94f-cf55bb5d936b",
   "metadata": {},
   "source": [
    "### Рекурсия"
   ]
  },
  {
   "cell_type": "markdown",
   "id": "56e25ad3-2aa9-42d4-8594-02e69d071378",
   "metadata": {},
   "source": [
    "**Привер 1** Вычисление факториала числа"
   ]
  },
  {
   "cell_type": "code",
   "execution_count": 47,
   "id": "2f2f080c-e36c-48e8-9e7c-3c11cf5ad09d",
   "metadata": {},
   "outputs": [
    {
     "name": "stdout",
     "output_type": "stream",
     "text": [
      "120\n"
     ]
    }
   ],
   "source": [
    "def factorial(n):\n",
    "    # Базовый случай: факториал 0 или 1 равен 1\n",
    "    if n == 0 or n == 1:\n",
    "        return 1\n",
    "    # Рекурсивный случай: n! = n * (n-1)!\n",
    "    else:\n",
    "        return n * factorial(n - 1)\n",
    "\n",
    "# Пример использования\n",
    "print(factorial(5))  # Вывод: 120"
   ]
  },
  {
   "cell_type": "markdown",
   "id": "6b472dfb-c121-47b6-ba7c-526b62151843",
   "metadata": {},
   "source": [
    "**Пример 2** Вычисление n числа  Фибоначчи"
   ]
  },
  {
   "cell_type": "code",
   "execution_count": 48,
   "id": "fd88c9a6-5bf5-4015-9c62-3f2604929f2a",
   "metadata": {},
   "outputs": [
    {
     "name": "stdout",
     "output_type": "stream",
     "text": [
      "8\n"
     ]
    }
   ],
   "source": [
    "def fibonacci(n):\n",
    "    # Базовый случай: первые два числа Фибоначчи\n",
    "    if n == 0:\n",
    "        return 0\n",
    "    elif n == 1:\n",
    "        return 1\n",
    "    # Рекурсивный случай: F(n) = F(n-1) + F(n-2)\n",
    "    else:\n",
    "        return fibonacci(n - 1) + fibonacci(n - 2)\n",
    "\n",
    "# Пример использования\n",
    "print(fibonacci(6)) "
   ]
  },
  {
   "cell_type": "markdown",
   "id": "674e9faf-4a28-4735-8194-ea78e579606d",
   "metadata": {},
   "source": [
    "**Пример 3** Рекурсивная функция для вычисления суммы всех чисел от 1 до n"
   ]
  },
  {
   "cell_type": "code",
   "execution_count": 49,
   "id": "3251936a-38b9-4a62-8827-437e262cb8b1",
   "metadata": {},
   "outputs": [
    {
     "name": "stdout",
     "output_type": "stream",
     "text": [
      "15\n"
     ]
    }
   ],
   "source": [
    "def sum_up_to(n):\n",
    "    # Базовый случай: сумма чисел до 1 равна 1\n",
    "    if n == 1:\n",
    "        return 1\n",
    "    # Рекурсивный случай: сумма = n + сумма чисел до (n-1)\n",
    "    else:\n",
    "        return n + sum_up_to(n - 1)\n",
    "\n",
    "# Пример использования\n",
    "print(sum_up_to(5))  # Вывод: 15"
   ]
  },
  {
   "cell_type": "markdown",
   "id": "6e80da27-7ecc-4a91-9a52-7216b0fea0f5",
   "metadata": {},
   "source": [
    "**Пример 4** Функция, которая рекурсивно обходит список и выводит его элементы"
   ]
  },
  {
   "cell_type": "code",
   "execution_count": 50,
   "id": "cfcb99ce-368b-4522-ae90-d495080f0e2e",
   "metadata": {},
   "outputs": [
    {
     "name": "stdout",
     "output_type": "stream",
     "text": [
      "1\n",
      "2\n",
      "3\n",
      "4\n",
      "5\n"
     ]
    }
   ],
   "source": [
    "def print_list(lst):\n",
    "    # Базовый случай: список пуст\n",
    "    if not lst:\n",
    "        return\n",
    "    # Рекурсивный случай: обрабатываем первый элемент, затем остальные\n",
    "    print(lst[0])\n",
    "    print_list(lst[1:])\n",
    "\n",
    "# Пример использования\n",
    "print_list([1, 2, 3, 4, 5])"
   ]
  },
  {
   "cell_type": "markdown",
   "id": "a3003175-bd6e-447a-8860-d4103a5f0943",
   "metadata": {},
   "source": [
    "**Пример 5** Функция для возведения числа \n",
    "x в степень \n",
    "n."
   ]
  },
  {
   "cell_type": "code",
   "execution_count": 51,
   "id": "d347333e-8451-4655-8b7e-926cc0927a06",
   "metadata": {},
   "outputs": [
    {
     "name": "stdout",
     "output_type": "stream",
     "text": [
      "8\n"
     ]
    }
   ],
   "source": [
    "def power(x, n):\n",
    "    # Базовый случай: любое число в степени 0 равно 1\n",
    "    if n == 0:\n",
    "        return 1\n",
    "    # Рекурсивный случай: x^n = x * x^(n-1)\n",
    "    else:\n",
    "        return x * power(x, n - 1)\n",
    "\n",
    "# Пример использования\n",
    "print(power(2, 3)) "
   ]
  },
  {
   "cell_type": "markdown",
   "id": "9d44cc24-9126-43ec-969f-d1fe73b3de70",
   "metadata": {},
   "source": [
    "### Хвостовая рекурсия"
   ]
  },
  {
   "cell_type": "markdown",
   "id": "cf7d68cd-556b-4269-a835-0497d081b8c6",
   "metadata": {},
   "source": [
    "Определить в каких примерах выше рекурсия - хвостовая\n",
    "\n",
    "***Справка:*** Хвостовая рекурсия — это особый вид рекурсии, при котором рекурсивный вызов является последней операцией в функции. Это означает, что после рекурсивного вызова функция больше не выполняет никаких вычислений. Хвостовая рекурсия важна, потому что она может быть оптимизирована компиляторами или интерпретаторами"
   ]
  },
  {
   "cell_type": "markdown",
   "id": "f83e1264-412c-4d45-b576-35faf4ebd990",
   "metadata": {},
   "source": [
    "Пример 1"
   ]
  },
  {
   "cell_type": "code",
   "execution_count": null,
   "id": "9a6bd07b-a08d-41cb-a913-31ce9b5d1801",
   "metadata": {
    "collapsed": true,
    "jupyter": {
     "outputs_hidden": true,
     "source_hidden": true
    }
   },
   "outputs": [],
   "source": [
    "\n",
    "Нет. После рекурсивного вызова factorial(n - 1) выполняется умножение на n, поэтому рекурсивный вызов не является последней операцией."
   ]
  },
  {
   "cell_type": "markdown",
   "id": "0afa6a9f-8b5c-4a55-8084-1fa8fe101194",
   "metadata": {},
   "source": [
    "Пример 2"
   ]
  },
  {
   "cell_type": "code",
   "execution_count": null,
   "id": "ca745582-0b5b-4194-a085-203b50728d72",
   "metadata": {
    "jupyter": {
     "source_hidden": true
    }
   },
   "outputs": [],
   "source": [
    "\n",
    "Нет. Здесь два рекурсивных вызова, и после них выполняется сложение. Рекурсивные вызовы не являются последними операциями."
   ]
  },
  {
   "cell_type": "markdown",
   "id": "22ff72ec-fbee-4477-939c-fceebaa91ef8",
   "metadata": {},
   "source": [
    "Пример 3"
   ]
  },
  {
   "cell_type": "code",
   "execution_count": null,
   "id": "c7782eea-4674-46ea-9edd-7aff784e8bdc",
   "metadata": {
    "jupyter": {
     "source_hidden": true
    }
   },
   "outputs": [],
   "source": [
    "\n",
    "Нет. После рекурсивного вызова sum_up_to(n - 1) выполняется сложение с n"
   ]
  },
  {
   "cell_type": "markdown",
   "id": "b6940614-bc13-4cc1-94c8-9d355997827d",
   "metadata": {},
   "source": [
    "Пример 4"
   ]
  },
  {
   "cell_type": "code",
   "execution_count": null,
   "id": "fa28e9df-7b19-42ac-ba89-b17c1ac6443c",
   "metadata": {
    "jupyter": {
     "source_hidden": true
    }
   },
   "outputs": [],
   "source": [
    "\n",
    "Да. Рекурсивный вызов print_list(lst[1:]) является последней операцией в функции."
   ]
  },
  {
   "cell_type": "markdown",
   "id": "abb45d5b-d434-4e6c-9a0c-735038f25891",
   "metadata": {},
   "source": [
    "Пример 5"
   ]
  },
  {
   "cell_type": "code",
   "execution_count": null,
   "id": "5ac2eeba-241e-4ab6-a4b7-c20ac27c3014",
   "metadata": {
    "jupyter": {
     "source_hidden": true
    }
   },
   "outputs": [],
   "source": [
    "\n",
    "Нет. После рекурсивного вызова power(x, n - 1) выполняется умножение на x"
   ]
  },
  {
   "cell_type": "markdown",
   "id": "6d06b5f9-0546-4519-b2dd-6eeec93a44af",
   "metadata": {},
   "source": [
    "### Задание для закрепления"
   ]
  },
  {
   "cell_type": "markdown",
   "id": "24de6ad0-1f52-4c0e-8ef1-f16fd985acab",
   "metadata": {},
   "source": [
    "Дано натуральное число N. Вычислите сумму его цифр.\n",
    "\n",
    "При решении этой задачи нельзя использовать строки, списки, массивы, циклы"
   ]
  },
  {
   "cell_type": "code",
   "execution_count": null,
   "id": "d56ab534-ee6c-49ab-813d-ac146b00389d",
   "metadata": {},
   "outputs": [],
   "source": []
  }
 ],
 "metadata": {
  "kernelspec": {
   "display_name": "Python 3 (ipykernel)",
   "language": "python",
   "name": "python3"
  },
  "language_info": {
   "codemirror_mode": {
    "name": "ipython",
    "version": 3
   },
   "file_extension": ".py",
   "mimetype": "text/x-python",
   "name": "python",
   "nbconvert_exporter": "python",
   "pygments_lexer": "ipython3",
   "version": "3.12.4"
  }
 },
 "nbformat": 4,
 "nbformat_minor": 5
}
