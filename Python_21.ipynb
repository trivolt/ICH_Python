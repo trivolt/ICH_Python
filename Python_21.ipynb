{
 "cells": [
  {
   "cell_type": "markdown",
   "id": "06c2844d",
   "metadata": {},
   "source": [
    "# Модуль Collections"
   ]
  },
  {
   "cell_type": "markdown",
   "id": "9654f8fe-d52a-444e-bc99-0bd35dc82265",
   "metadata": {},
   "source": [
    "### Различные варианты получения элемента по ключу в словаре: get, setdefault:\n",
    "При работе со словарями в Python есть два интересных метода для получения элементов по ключу.\n"
   ]
  },
  {
   "cell_type": "code",
   "execution_count": 9,
   "id": "8ed2ed09-e774-46d6-b650-1f752bf3a96f",
   "metadata": {},
   "outputs": [
    {
     "data": {
      "text/plain": [
       "5"
      ]
     },
     "execution_count": 9,
     "metadata": {},
     "output_type": "execute_result"
    }
   ],
   "source": [
    "# при обращении к существующиму ключу мы получаем значение\n",
    "my_dict = {\"apple\": 5, \"banana\": 2, \"orange\": 8}\n",
    "my_dict['apple']"
   ]
  },
  {
   "cell_type": "code",
   "execution_count": 10,
   "id": "2b7142e7-c3af-43dd-8148-4d39296fb8ae",
   "metadata": {},
   "outputs": [
    {
     "ename": "KeyError",
     "evalue": "'melon'",
     "output_type": "error",
     "traceback": [
      "\u001b[1;31m---------------------------------------------------------------------------\u001b[0m",
      "\u001b[1;31mKeyError\u001b[0m                                  Traceback (most recent call last)",
      "Cell \u001b[1;32mIn[10], line 3\u001b[0m\n\u001b[0;32m      1\u001b[0m \u001b[38;5;66;03m# если обратится к не существующиму ключу мы получаем ошибку\u001b[39;00m\n\u001b[0;32m      2\u001b[0m my_dict \u001b[38;5;241m=\u001b[39m {\u001b[38;5;124m\"\u001b[39m\u001b[38;5;124mapple\u001b[39m\u001b[38;5;124m\"\u001b[39m: \u001b[38;5;241m5\u001b[39m, \u001b[38;5;124m\"\u001b[39m\u001b[38;5;124mbanana\u001b[39m\u001b[38;5;124m\"\u001b[39m: \u001b[38;5;241m2\u001b[39m, \u001b[38;5;124m\"\u001b[39m\u001b[38;5;124morange\u001b[39m\u001b[38;5;124m\"\u001b[39m: \u001b[38;5;241m8\u001b[39m}\n\u001b[1;32m----> 3\u001b[0m my_dict[\u001b[38;5;124m'\u001b[39m\u001b[38;5;124mmelon\u001b[39m\u001b[38;5;124m'\u001b[39m]\n",
      "\u001b[1;31mKeyError\u001b[0m: 'melon'"
     ]
    }
   ],
   "source": [
    "# если обратится к не существующиму ключу мы получаем ошибку\n",
    "my_dict = {\"apple\": 5, \"banana\": 2, \"orange\": 8}\n",
    "my_dict['melon']"
   ]
  },
  {
   "cell_type": "code",
   "execution_count": null,
   "id": "df2843c0-a20d-450e-bc05-7232792c9667",
   "metadata": {},
   "outputs": [],
   "source": [
    "# Чтобы избежать этой ошибки можно использовать метод get()"
   ]
  },
  {
   "cell_type": "markdown",
   "id": "2942c3fb-59be-4584-aa01-d58c12511ec7",
   "metadata": {},
   "source": [
    "#### Метод get()"
   ]
  },
  {
   "cell_type": "markdown",
   "id": "f896299a-696c-47ca-b545-08e0d816860f",
   "metadata": {},
   "source": [
    " Метод get(key[, default]): Этот метод позволяет получить значение по ключу key. Если ключ существует в словаре, метод вернет соответствующее значение. В противном случае, если был предоставлен необязательный аргумент default, то он будет возвращен вместо None."
   ]
  },
  {
   "cell_type": "code",
   "execution_count": 11,
   "id": "6e4025c7",
   "metadata": {},
   "outputs": [
    {
     "name": "stdout",
     "output_type": "stream",
     "text": [
      "5\n",
      "None\n",
      "Нет значения\n"
     ]
    }
   ],
   "source": [
    "my_dict = {\"apple\": 5, \"banana\": 2, \"orange\": 8}\n",
    "print(my_dict.get(\"apple\"))     # Выводит 5\n",
    "print(my_dict.get(\"grape\"))     # Выводит None\n",
    "print(my_dict.get(\"grape\", 'Нет значения'))  # Выводит 0, так как ключа \"grape\" нет в словаре\n"
   ]
  },
  {
   "cell_type": "markdown",
   "id": "501ab758-ae04-4f78-983b-29613696b36f",
   "metadata": {},
   "source": [
    "***Когда использовать:***\n",
    "\n",
    "* Когда вам нужно безопасно получить значение по ключу, не вызывая исключения KeyError, если ключ отсутствует.\n",
    "\n",
    "* Когда вам не нужно изменять словарь."
   ]
  },
  {
   "cell_type": "markdown",
   "id": "210cb1a5-2ba2-4a42-9169-9d04e5275478",
   "metadata": {},
   "source": [
    "#### Метод setdefault()"
   ]
  },
  {
   "cell_type": "markdown",
   "id": "180ceb1e-4e65-4276-a4cb-ecadc080074d",
   "metadata": {},
   "source": [
    "Метод setdefault(key[, default]): Этот метод пытается получить значение по ключу key. Если ключ существует, метод вернет соответствующее значение. Если ключа нет в словаре, метод добавит в словарь новую пару ключ-значение с ключом key и значением default, если аргумент default был предоставлен."
   ]
  },
  {
   "cell_type": "code",
   "execution_count": 12,
   "id": "ac6e8629",
   "metadata": {},
   "outputs": [
    {
     "name": "stdout",
     "output_type": "stream",
     "text": [
      "5\n",
      "15\n",
      "20\n",
      "{'apple': 5, 'banana': 2, 'orange': 8, 'grape': 15, 'tomato': 20}\n"
     ]
    }
   ],
   "source": [
    "my_dict = {\"apple\": 5, \"banana\": 2, \"orange\": 8}\n",
    "print(my_dict.setdefault(\"apple\", 10))  # Выводит 5 my_dict['apple']=10\n",
    "print(my_dict.setdefault(\"grape\", 15))  # Выводит 15, добавляет новую пару ключ-значение\n",
    "print(my_dict.setdefault('tomato',20))\n",
    "print(my_dict)                         # Выводит {'apple': 5, 'banana': 2, 'orange': 8, 'grape': 15}\n"
   ]
  },
  {
   "cell_type": "markdown",
   "id": "96a6e96f-e69c-4365-bf54-d6ac5768c047",
   "metadata": {},
   "source": [
    "***Когда использовать:***\n",
    "\n",
    "* Когда вам нужно получить значение по ключу, но если ключа нет, вы хотите добавить его в словарь с определённым значением по умолчанию.\n",
    "\n",
    "* Когда вы хотите избежать повторной проверки наличия ключа и его добавления."
   ]
  },
  {
   "cell_type": "code",
   "execution_count": null,
   "id": "6d15b32c-f542-4548-a85e-ca19339dbd84",
   "metadata": {},
   "outputs": [],
   "source": [
    "#Пример, где setdefault() удобен:"
   ]
  },
  {
   "cell_type": "code",
   "execution_count": 13,
   "id": "2239b4ab-e2ee-4805-8b72-b45af951402a",
   "metadata": {},
   "outputs": [
    {
     "name": "stdout",
     "output_type": "stream",
     "text": [
      "{'apple': 3, 'banana': 2, 'orange': 1}\n"
     ]
    }
   ],
   "source": [
    "# Подсчёт частоты элементов в списке\n",
    "freq = {}\n",
    "items = ['apple', 'banana', 'apple', 'orange', 'banana', 'apple']\n",
    "\n",
    "for item in items:\n",
    "    freq[item] = freq.setdefault(item, 0) + 1\n",
    "\n",
    "print(freq)  # {'apple': 3, 'banana': 2, 'orange': 1}"
   ]
  },
  {
   "cell_type": "code",
   "execution_count": null,
   "id": "c21b844d-9fbf-4edb-a9ba-756125cfc6af",
   "metadata": {},
   "outputs": [],
   "source": [
    "#В этом примере setdefault() позволяет избежать лишних проверок и делает код более компактным."
   ]
  },
  {
   "cell_type": "code",
   "execution_count": 14,
   "id": "f4240fa8-8429-4f92-b832-0ca356a40279",
   "metadata": {},
   "outputs": [
    {
     "name": "stdin",
     "output_type": "stream",
     "text": [
      "введите название товара melon\n"
     ]
    },
    {
     "name": "stdout",
     "output_type": "stream",
     "text": [
      "На складе товаров melon: 0 кг.\n"
     ]
    }
   ],
   "source": [
    "#Пример 2, без setdefault было бы сложнее работать\n",
    "# Наличие товаров на складе\n",
    "\n",
    "my_dict = {\"apple\": 5, \"banana\": 2, \"orange\": 8}\n",
    "\n",
    "prod = input('введите название товара')\n",
    "\n",
    "if prod in my_dict.keys():\n",
    "    print(f'На складе товаров {prod}: {my_dict[prod]} кг.')\n",
    "else:\n",
    "    my_dict[prod] = 0\n",
    "    print(f'На складе товаров {prod}: {my_dict[prod]} кг.')\n",
    "    \n",
    "\n"
   ]
  },
  {
   "cell_type": "code",
   "execution_count": 15,
   "id": "d012f4cd-7c9e-455c-9254-7ae1493eaac7",
   "metadata": {},
   "outputs": [
    {
     "name": "stdin",
     "output_type": "stream",
     "text": [
      "введите название товара melon\n"
     ]
    },
    {
     "name": "stdout",
     "output_type": "stream",
     "text": [
      "На складе товаров melon: 0 кг.\n"
     ]
    }
   ],
   "source": [
    "#Пример 2, без setdefault было бы сложнее работать\n",
    "# Наличие товаров на складе\n",
    "\n",
    "my_dict = {\"apple\": 5, \"banana\": 2, \"orange\": 8}\n",
    "\n",
    "prod = input('введите название товара')\n",
    "my_dict.setdefault(prod,0)\n",
    "print(f'На складе товаров {prod}: {my_dict[prod]} кг.')"
   ]
  },
  {
   "cell_type": "markdown",
   "id": "f36bf132",
   "metadata": {},
   "source": [
    "## Класс OrderedDict"
   ]
  },
  {
   "cell_type": "markdown",
   "id": "c7eac0cf-5f92-4915-8f2f-72f87aaf599b",
   "metadata": {},
   "source": [
    "Класс OrderedDict представляет словарь, который запоминает порядок вставки элементов. В отличие от обычного словаря, OrderedDict гарантирует, что элементы будут возвращаться в том же порядке, в котором они были добавлены.\n"
   ]
  },
  {
   "cell_type": "markdown",
   "id": "96167b29-5e2d-491d-942d-9b2910276780",
   "metadata": {},
   "source": [
    "#### 1. Создание и добавление элементов"
   ]
  },
  {
   "cell_type": "code",
   "execution_count": 16,
   "id": "dcf893a0-f65f-4d6f-98b8-9a52a05cab96",
   "metadata": {},
   "outputs": [
    {
     "name": "stdout",
     "output_type": "stream",
     "text": [
      "OrderedDict({'a': 1, 'b': 2, 'c': 3})\n"
     ]
    }
   ],
   "source": [
    "from collections import OrderedDict\n",
    "\n",
    "# Создание пустого OrderedDict\n",
    "od = OrderedDict()\n",
    "\n",
    "# Добавление элементов\n",
    "od['a'] = 1\n",
    "od['b'] = 2\n",
    "od['c'] = 3\n",
    "\n",
    "print(od)  # OrderedDict({'a': 1, 'b': 2, 'c': 3})"
   ]
  },
  {
   "cell_type": "markdown",
   "id": "acf04b7e-c91b-409f-bccd-3510afe491d9",
   "metadata": {},
   "source": [
    "#### 2. Итерация по элементам"
   ]
  },
  {
   "cell_type": "code",
   "execution_count": 17,
   "id": "fc22c0b7-07ca-4c34-a7a3-97c09703b0a2",
   "metadata": {},
   "outputs": [
    {
     "name": "stdout",
     "output_type": "stream",
     "text": [
      "a 1\n",
      "b 2\n",
      "c 3\n"
     ]
    }
   ],
   "source": [
    "for key, value in od.items():\n",
    "    print(key, value)\n"
   ]
  },
  {
   "cell_type": "markdown",
   "id": "b501abb7-b6ae-42c1-bad9-e0efd19c46dc",
   "metadata": {},
   "source": [
    "#### 3. Изменение порядка элементов"
   ]
  },
  {
   "cell_type": "code",
   "execution_count": 18,
   "id": "ed167cec-dedc-40a0-b2a6-ecfd5f81b5a2",
   "metadata": {},
   "outputs": [
    {
     "name": "stdout",
     "output_type": "stream",
     "text": [
      "OrderedDict({'a': 1, 'b': 2, 'c': 3})\n"
     ]
    }
   ],
   "source": [
    "print(od)"
   ]
  },
  {
   "cell_type": "code",
   "execution_count": 19,
   "id": "d23f60d1-3564-4f7d-b7df-9792e34ffbc2",
   "metadata": {},
   "outputs": [
    {
     "name": "stdout",
     "output_type": "stream",
     "text": [
      "OrderedDict({'a': 1, 'c': 3, 'b': 2})\n",
      "OrderedDict({'c': 3, 'a': 1, 'b': 2})\n"
     ]
    }
   ],
   "source": [
    "# Перемещение элемента 'b' в конец\n",
    "od.move_to_end('b')\n",
    "\n",
    "print(od)  # OrderedDict({'a': 1, 'c': 3, 'b': 2})\n",
    "\n",
    "# Перемещение элемента 'c' в начало\n",
    "od.move_to_end('c', last=False)\n",
    "\n",
    "print(od)  # OrderedDict({'c': 3, 'a': 1, 'b': 2})"
   ]
  },
  {
   "cell_type": "markdown",
   "id": "eee828d6-e8f7-4b76-bcf7-88944c7dd914",
   "metadata": {},
   "source": [
    "#### 4. Удаление элементов"
   ]
  },
  {
   "cell_type": "code",
   "execution_count": 21,
   "id": "33f36778-a349-436f-8f35-e6cd50ec0c1b",
   "metadata": {},
   "outputs": [
    {
     "name": "stdout",
     "output_type": "stream",
     "text": [
      "OrderedDict({'c': 3, 'a': 1, 'b': 2})\n"
     ]
    }
   ],
   "source": [
    "print(od)"
   ]
  },
  {
   "cell_type": "code",
   "execution_count": 22,
   "id": "b5b56100-36d6-4e06-859a-12cba3dd01e7",
   "metadata": {},
   "outputs": [
    {
     "name": "stdout",
     "output_type": "stream",
     "text": [
      "OrderedDict({'c': 3, 'a': 1})\n",
      "OrderedDict({'c': 3})\n"
     ]
    }
   ],
   "source": [
    "# Удаление последнего элемента\n",
    "od.popitem()\n",
    "\n",
    "# Удаление первого элемента\n",
    "# od.popitem(last=False)\n",
    "\n",
    "print(od)\n",
    "\n",
    "# Удаление элемента по ключу\n",
    "od.pop('a')\n",
    "\n",
    "print(od)"
   ]
  },
  {
   "cell_type": "code",
   "execution_count": 25,
   "id": "3fdfc2b5-eb25-415d-8d04-76dc1398681d",
   "metadata": {},
   "outputs": [],
   "source": [
    "dct = {'apple': 5, 'banana': 2, 'orange': 8, 'grape': 15, 'tomato': 20}\n"
   ]
  },
  {
   "cell_type": "code",
   "execution_count": 26,
   "id": "8a663941-3437-44c5-8a2e-13ed9a446ee1",
   "metadata": {},
   "outputs": [
    {
     "name": "stdout",
     "output_type": "stream",
     "text": [
      "{'banana': 2, 'orange': 8, 'grape': 15, 'tomato': 20}\n"
     ]
    }
   ],
   "source": [
    "dct.pop('apple')\n",
    "print(dct)"
   ]
  },
  {
   "cell_type": "code",
   "execution_count": 24,
   "id": "9232a60c-5f9a-446d-8a91-a66f5e0c6ecf",
   "metadata": {},
   "outputs": [
    {
     "name": "stdout",
     "output_type": "stream",
     "text": [
      "{'banana': 2, 'orange': 8, 'grape': 15, 'tomato': 20}\n"
     ]
    }
   ],
   "source": [
    "del(dct['apple'])\n",
    "print(dct)"
   ]
  },
  {
   "cell_type": "markdown",
   "id": "7b3d4f76-5176-4651-ba30-963f56914008",
   "metadata": {},
   "source": [
    "#### 5. Обновление элементов"
   ]
  },
  {
   "cell_type": "code",
   "execution_count": 27,
   "id": "24a58c0a-c8c7-4346-99bd-fa6c5c0d04dd",
   "metadata": {},
   "outputs": [
    {
     "name": "stdout",
     "output_type": "stream",
     "text": [
      "OrderedDict({'c': 100})\n",
      "OrderedDict({'c': 100, 'd': 4, 'e': 5})\n"
     ]
    }
   ],
   "source": [
    "# Обновление значения по ключу\n",
    "od['c'] = 100\n",
    "\n",
    "print(od)\n",
    "\n",
    "# Обновление с добавлением новых элементов\n",
    "od.update({'d': 4, 'e': 5})\n",
    "\n",
    "print(od)"
   ]
  },
  {
   "cell_type": "code",
   "execution_count": 28,
   "id": "a55d9012-407f-4a8b-9e7c-c1d81ec8d492",
   "metadata": {},
   "outputs": [
    {
     "name": "stdout",
     "output_type": "stream",
     "text": [
      "{'apple': 5, 'banana': 2, 'orange': 8, 'grape': 15, 'tomato': 20, 'c': 100, 'd': 4, 'e': 5}\n"
     ]
    }
   ],
   "source": [
    "dct = {'apple': 5, 'banana': 2, 'orange': 8, 'grape': 15, 'tomato': 20}\n",
    "dct.update({'c': 100, 'd': 4, 'e': 5})\n",
    "print(dct)"
   ]
  },
  {
   "cell_type": "markdown",
   "id": "fb776929-e6e5-4d9c-8192-fc19c1ba9afe",
   "metadata": {},
   "source": [
    "#### 6. Сравнение"
   ]
  },
  {
   "cell_type": "code",
   "execution_count": 29,
   "id": "75eb4731-7949-4f87-95e3-148177756ee3",
   "metadata": {},
   "outputs": [
    {
     "name": "stdout",
     "output_type": "stream",
     "text": [
      "False\n"
     ]
    }
   ],
   "source": [
    "od1 = OrderedDict([('a', 1), ('b', 2)])\n",
    "od2 = OrderedDict([('b', 2), ('a', 1)])\n",
    "\n",
    "print(od1 == od2)  # False, так как порядок элементов разный"
   ]
  },
  {
   "cell_type": "markdown",
   "id": "f738eb2c-5a03-46a4-80b8-fc5a96406a96",
   "metadata": {},
   "source": [
    "#### 7. Преобразование в обычный словарь"
   ]
  },
  {
   "cell_type": "code",
   "execution_count": 30,
   "id": "f7e1f3c6-a523-4b96-859d-a3fd92830522",
   "metadata": {},
   "outputs": [
    {
     "name": "stdout",
     "output_type": "stream",
     "text": [
      "{'c': 100, 'd': 4, 'e': 5}\n"
     ]
    }
   ],
   "source": [
    "regular_dict = dict(od)\n",
    "\n",
    "print(regular_dict)  # {'c': 100, 'd': 4, 'e': 5}"
   ]
  },
  {
   "cell_type": "markdown",
   "id": "5258425a-2ba2-44a0-ae19-0dfe00fad74b",
   "metadata": {},
   "source": [
    "#### 8. Создание из списка кортежей"
   ]
  },
  {
   "cell_type": "code",
   "execution_count": 31,
   "id": "c038210c-c2c5-4a77-8a37-96a24f4041dd",
   "metadata": {},
   "outputs": [
    {
     "name": "stdout",
     "output_type": "stream",
     "text": [
      "OrderedDict({'x': 10, 'y': 20, 'z': 30})\n"
     ]
    }
   ],
   "source": [
    "od = OrderedDict([('x', 10), ('y', 20), ('z', 30)])\n",
    "\n",
    "print(od)  # OrderedDict([('x', 10), ('y', 20), ('z', 30)])"
   ]
  },
  {
   "cell_type": "markdown",
   "id": "beabb56e-0b14-4d56-b016-64e4ec7025d5",
   "metadata": {},
   "source": [
    "#### 9. Очистка"
   ]
  },
  {
   "cell_type": "code",
   "execution_count": 32,
   "id": "d7f36d6d-59da-4046-9214-fd47b49a0e64",
   "metadata": {},
   "outputs": [
    {
     "name": "stdout",
     "output_type": "stream",
     "text": [
      "OrderedDict()\n"
     ]
    }
   ],
   "source": [
    "od.clear()\n",
    "\n",
    "print(od)  # OrderedDict()"
   ]
  },
  {
   "cell_type": "markdown",
   "id": "a9fe9823-fc3e-49b6-b82d-7fbfd3a95ab8",
   "metadata": {},
   "source": [
    "#### 10. Копирование"
   ]
  },
  {
   "cell_type": "code",
   "execution_count": null,
   "id": "06167a8c-68a0-40af-a4f0-73bd7a4b0bc0",
   "metadata": {},
   "outputs": [],
   "source": [
    "od = OrderedDict([('a', 1), ('b', 2)])\n",
    "od_copy = od.copy()\n",
    "\n",
    "print(od_copy)  # OrderedDict([('a', 1), ('b', 2)])"
   ]
  },
  {
   "cell_type": "code",
   "execution_count": null,
   "id": "18a05ec3-6b77-4c07-a2a8-dc9ff588030b",
   "metadata": {},
   "outputs": [],
   "source": []
  },
  {
   "cell_type": "markdown",
   "id": "3b5737e8",
   "metadata": {},
   "source": [
    "### Понятие LRU-кэша. Реализация LRU кэша"
   ]
  },
  {
   "cell_type": "markdown",
   "id": "e2f2ca0d",
   "metadata": {},
   "source": [
    "Кэширование в Python - это процесс временного сохранения результатов вычислений или запросов, чтобы избежать повторных вычислений в будущем. Оно широко используется для оптимизации производительности программы. Когда вы выполняете вычислительно затратные операции или получаете данные из внешнего источника, вы можете сохранить результаты в кэше"
   ]
  },
  {
   "cell_type": "markdown",
   "id": "f5fa9865-6895-43b1-9c38-5bab0b906a76",
   "metadata": {},
   "source": [
    "Любой проект, который содержит блоки кода, которые в свою очередь могут обрабатываться достаточно продолжительное время - должны использовать технологию кэширования, это позволит оптимизировать программу и ускорить её выполнение.К примеру, вычисление занимает несколько минут, причем, программой пользуется много пользователей, тогда мы делаем вычисления под заданные значения и запоминаем значения и результаты с учетом частоты запросов. "
   ]
  },
  {
   "cell_type": "markdown",
   "id": "91ef391f-28c8-4d77-9ee1-3e3745677f2f",
   "metadata": {},
   "source": [
    "***Цель кэширования: ускорение работы систем и уменьшения нагрузки на ресурсы.***\n",
    "\n",
    "Давай разберём, как это работает и почему это круто."
   ]
  },
  {
   "cell_type": "markdown",
   "id": "f084f460-d03a-41ad-a1ee-b8b69395b982",
   "metadata": {},
   "source": [
    "***Как работает кэш?***\n",
    "\n",
    "1. `Первое обращение:` Когда данные запрашиваются впервые, они извлекаются из основного источника (например, базы данных) и сохраняются в кэше.\n",
    "\n",
    "2. `Повторное обращение:` При следующем запросе тех же данных система сначала проверяет кэш. Если данные там есть, они возвращаются мгновенно, без обращения к основному источнику.\n",
    "\n",
    "3. `Обновление кэша:` Если данные в основном источнике изменяются, кэш может быть обновлён или очищен, чтобы избежать устаревания информации."
   ]
  },
  {
   "cell_type": "markdown",
   "id": "2491c700-1986-4f73-9935-fddddf9e0e42",
   "metadata": {},
   "source": [
    "#### Примеры кэширования\n",
    "1. Веб-браузер:\n",
    "\n",
    "Когда ты заходишь на сайт, браузер сохраняет изображения, CSS-файлы и другие ресурсы в кэше. При повторном посещении сайта эти данные загружаются из кэша, что ускоряет загрузку страницы.\n",
    "\n",
    "*Пример:* Ты зашёл на сайт, и он загрузился за 5 секунд. При следующем посещении он открылся за 1 секунду, потому что часть данных уже была в кэше.\n",
    "\n",
    "2. Серверные приложения:\n",
    "\n",
    "Веб-сервер может кэшировать результаты запросов к базе данных. Например, если на сайте часто запрашивается список популярных товаров, этот список сохраняется в кэше, чтобы не обращаться к базе данных каждый раз.\n",
    "\n",
    "*Пример:* Интернет-магазин показывает топ-10 товаров. Вместо того чтобы каждый раз запрашивать этот список из базы данных, сервер сохраняет его в кэше и обновляет раз в час."
   ]
  },
  {
   "cell_type": "markdown",
   "id": "487463af-b8fa-4abc-8269-cdf2b2eec872",
   "metadata": {},
   "source": [
    "#### Почему кэш — это круто?\n",
    "1. `Скорость:` Кэш позволяет получать данные в разы быстрее, чем из основного источника.\n",
    "\n",
    "2. `Снижение нагрузки:` Кэширование уменьшает количество запросов к базам данных или серверам, что снижает нагрузку на них.\n",
    "\n",
    "3. `Экономия ресурсов:` Меньше запросов к основным источникам означает экономию вычислительных мощностей, энергии и времени.\n",
    "\n",
    "4. `Улучшение пользовательского опыта:` Быстрая загрузка страниц, приложений и данных делает использование систем более комфортным."
   ]
  },
  {
   "cell_type": "markdown",
   "id": "7deaebb0-f579-42c1-9a3a-3685d9c3b278",
   "metadata": {},
   "source": [
    "### LRU - кеш (Least Recently Used)"
   ]
  },
  {
   "cell_type": "markdown",
   "id": "b0853c08-7b27-496b-8604-409923990985",
   "metadata": {},
   "source": [
    "***LRU-кэш*** - это механизм кэширования, который хранит ограниченное количество элементов и автоматически удаляет самый давно неиспользованный элемент при превышении лимита размера."
   ]
  },
  {
   "cell_type": "markdown",
   "id": "25293fd7-472e-4baf-bb3d-b8bd2a4680c1",
   "metadata": {},
   "source": [
    "### Реализация LRU кэша"
   ]
  },
  {
   "cell_type": "markdown",
   "id": "21551a6d-9004-428f-9a00-45d119332464",
   "metadata": {},
   "source": [
    "Для реализации LRU-кэша в Python можно использовать словарь (dict). При каждом обращении к элементу кэша, его ключ и значение обновляются, так что элемент становится самым \"свежим\". При превышении лимита размера, можно удалить элемент с самым старым использованием, то есть самый первый добавленный элемент.\n"
   ]
  },
  {
   "cell_type": "code",
   "execution_count": 33,
   "id": "6e0df288",
   "metadata": {},
   "outputs": [
    {
     "name": "stdout",
     "output_type": "stream",
     "text": [
      "OrderedDict({'key1': 'value1', 'key2': 'value2', 'key3': 'value3'})\n",
      "OrderedDict({'key1': 'value1', 'key3': 'value3', 'key2': 'new_value2'})\n",
      "OrderedDict({'key3': 'value3', 'key2': 'new_value2', 'key4': 'value4'})\n"
     ]
    }
   ],
   "source": [
    "from collections import OrderedDict\n",
    "\n",
    "def lru_cache(capacity, cache, key, value): # capacity - объем кеша, cache - кеш \n",
    "    if key in cache:\n",
    "        # Если ключ уже существует, обновляем значение и перемещаем элемент в конец словаря\n",
    "        cache.pop(key)\n",
    "    elif len(cache) >= capacity:\n",
    "        # Если кэш переполнен, удаляем первый элемент (самый старый)\n",
    "        cache.popitem(last=False)\n",
    "    cache[key] = value\n",
    "\n",
    "\n",
    "capacity = 3\n",
    "cache = OrderedDict()\n",
    "\n",
    "lru_cache(capacity, cache, \"key1\", \"value1\")\n",
    "lru_cache(capacity, cache, \"key2\", \"value2\")\n",
    "lru_cache(capacity, cache, \"key3\", \"value3\")\n",
    "\n",
    "print(cache)  # Выводит OrderedDict([('key1', 'value1'), ('key2', 'value2'), ('key3', 'value3')])\n",
    "\n",
    "lru_cache(capacity, cache, \"key2\", \"new_value2\")  # Обновляем значение \"key2\"\n",
    "print(cache)  # Выводит OrderedDict([('key1', 'value1'), ('key3', 'value3'), ('key2', 'new_value2')])\n",
    "\n",
    "lru_cache(capacity, cache, \"key4\", \"value4\")  # Кэш переполнен, удаляем \"key1\"\n",
    "print(cache)  # Выводит OrderedDict([('key3', 'value3'), ('key2', 'new_value2'), ('key4', 'value4')])\n"
   ]
  },
  {
   "cell_type": "markdown",
   "id": "f471557a-ba99-44f0-9bbd-0b7622e7af5e",
   "metadata": {},
   "source": [
    "Как это работает:\n",
    "1. OrderedDict сохраняет порядок добавления элементов.\n",
    "\n",
    "2. При вызове get, если ключ существует, элемент перемещается в конец словаря, чтобы пометить его как недавно использованный.\n",
    "\n",
    "3. При вызове put, если ключ уже существует, его значение обновляется, и он перемещается в конец. Если ключ новый, он добавляется в конец. Если размер кеша превышает заданную емкость, удаляется самый старый элемент (первый в OrderedDict)."
   ]
  },
  {
   "cell_type": "markdown",
   "id": "bb990353",
   "metadata": {},
   "source": [
    "## Класс defaultdict\n"
   ]
  },
  {
   "cell_type": "markdown",
   "id": "1cbe0a51-029a-41d1-b14c-d9ef8d4eae80",
   "metadata": {},
   "source": [
    "Класс defaultdict представляет словарь, который автоматически создает значения для несуществующих ключей при первом обращении."
   ]
  },
  {
   "cell_type": "markdown",
   "id": "06aec538-f2c2-469f-b506-7500e926b321",
   "metadata": {},
   "source": [
    "1. Создание defaultdict с фабричной функцией"
   ]
  },
  {
   "cell_type": "code",
   "execution_count": 36,
   "id": "ae07673c-7e73-4700-a907-af76cad09f6f",
   "metadata": {},
   "outputs": [
    {
     "name": "stdout",
     "output_type": "stream",
     "text": [
      "defaultdict(<class 'list'>, {'fruits': ['apple', 'banana'], 'vegetables': ['carrot']})\n"
     ]
    }
   ],
   "source": [
    "from collections import defaultdict\n",
    "\n",
    "# Создаём defaultdict с фабричной функцией list\n",
    "dd = defaultdict(list)\n",
    "\n",
    "# Добавляем элементы\n",
    "dd['fruits'].append('apple')\n",
    "dd['fruits'].append('banana')\n",
    "dd['vegetables'].append('carrot')\n",
    "\n",
    "print(dd)"
   ]
  },
  {
   "cell_type": "markdown",
   "id": "2448579f-c989-4105-b50b-7295409887e0",
   "metadata": {},
   "source": [
    "2. Использование int как фабричной функции"
   ]
  },
  {
   "cell_type": "code",
   "execution_count": 35,
   "id": "d432c30b-848f-44c4-a9cc-4bbb6747ffe5",
   "metadata": {},
   "outputs": [
    {
     "name": "stdout",
     "output_type": "stream",
     "text": [
      "defaultdict(<class 'int'>, {'apple': 3, 'banana': 2, 'orange': 1})\n"
     ]
    }
   ],
   "source": [
    "from collections import defaultdict\n",
    "\n",
    "# Создаём defaultdict с фабричной функцией int (по умолчанию 0)\n",
    "dd = defaultdict(int)\n",
    "\n",
    "# Подсчитываем количество вхождений элементов в списке\n",
    "words = ['apple', 'banana', 'apple', 'orange', 'banana', 'apple']\n",
    "for word in words:\n",
    "    dd[word] += 1\n",
    "\n",
    "print(dd)"
   ]
  },
  {
   "cell_type": "markdown",
   "id": "525093c3-8dba-4a86-bfed-5f4aca3c3f3e",
   "metadata": {},
   "source": [
    "3. Использование set как фабричной функции"
   ]
  },
  {
   "cell_type": "code",
   "execution_count": 37,
   "id": "8f829bb3-148d-4f76-9ad3-6977420ce72b",
   "metadata": {},
   "outputs": [
    {
     "name": "stdout",
     "output_type": "stream",
     "text": [
      "defaultdict(<class 'set'>, {'fruits': {'apple', 'banana'}})\n"
     ]
    }
   ],
   "source": [
    "# Создаём defaultdict с фабричной функцией set\n",
    "dd = defaultdict(set)\n",
    "\n",
    "# Добавляем элементы\n",
    "dd['fruits'].add('apple')\n",
    "dd['fruits'].add('banana')\n",
    "dd['fruits'].add('apple')  # Дубликаты игнорируются, так как это set\n",
    "\n",
    "print(dd)"
   ]
  },
  {
   "cell_type": "markdown",
   "id": "332b13d0-2dc7-4966-8195-0c7c03abb981",
   "metadata": {},
   "source": [
    "4. Использование lambda для создания пользовательских значений по умолчанию"
   ]
  },
  {
   "cell_type": "code",
   "execution_count": 38,
   "id": "5c2e17b8-2c3b-443d-b273-df0d233a184c",
   "metadata": {},
   "outputs": [
    {
     "name": "stdout",
     "output_type": "stream",
     "text": [
      "unknown\n",
      "defaultdict(<function <lambda> at 0x00000180CBB640E0>, {'name': 'Alice', 'age': 25, 'city': 'unknown'})\n"
     ]
    }
   ],
   "source": [
    "# Создаём defaultdict с пользовательской фабричной функцией\n",
    "dd = defaultdict(lambda: 'unknown')\n",
    "\n",
    "# Присваиваем значения\n",
    "dd['name'] = 'Alice'\n",
    "dd['age'] = 25\n",
    "\n",
    "# Обращаемся к несуществующему ключу\n",
    "print(dd['city'])  # 'unknown'\n",
    "\n",
    "print(dd)"
   ]
  },
  {
   "cell_type": "markdown",
   "id": "1d22d9e2-9357-4cfd-8379-feec1fb8fa6a",
   "metadata": {},
   "source": [
    "5. Группировка элементов с помощью defaultdict"
   ]
  },
  {
   "cell_type": "code",
   "execution_count": 39,
   "id": "c071d2ec-04c3-4dbf-a0fd-3d8e0bd4a5e5",
   "metadata": {},
   "outputs": [
    {
     "name": "stdout",
     "output_type": "stream",
     "text": [
      "defaultdict(<class 'list'>, {5: ['apple', 'grape', 'melon'], 6: ['banana', 'orange'], 4: ['kiwi']})\n"
     ]
    }
   ],
   "source": [
    "# Группируем слова по их длине\n",
    "words = ['apple', 'banana', 'orange', 'kiwi', 'grape', 'melon']\n",
    "dd = defaultdict(list)\n",
    "\n",
    "for word in words:\n",
    "    dd[len(word)].append(word)\n",
    "\n",
    "print(dd)"
   ]
  },
  {
   "cell_type": "markdown",
   "id": "2bcfc095-cb24-4da0-8eea-f8fda7d2dc3a",
   "metadata": {},
   "source": [
    "6. Использование defaultdict для подсчёта вложенных элементов"
   ]
  },
  {
   "cell_type": "code",
   "execution_count": null,
   "id": "9eb7556b-61fa-4cab-a6c9-43b971cd38f5",
   "metadata": {},
   "outputs": [],
   "source": [
    "# Подсчитываем количество вхождений символов в каждом слове\n",
    "words = ['apple', 'banana', 'orange']\n",
    "dd = defaultdict(lambda: defaultdict(int))\n",
    "\n",
    "for word in words:\n",
    "    for char in word:\n",
    "        dd[word][char] += 1\n",
    "\n",
    "print(dd)"
   ]
  },
  {
   "cell_type": "markdown",
   "id": "fbbb461a-a1c7-4a3e-a4e0-57b5000351d0",
   "metadata": {},
   "source": [
    "Преимущества defaultdict:\n",
    "* Удобство: Не нужно проверять, существует ли ключ в словаре, перед добавлением значения.\n",
    "\n",
    "* Гибкость: Можно использовать любую фабричную функцию для создания значений по умолчанию.\n",
    "\n",
    "* Чистый код: Упрощает код, избавляя от лишних проверок.\n",
    "\n",
    "* defaultdict особенно полезен при работе с вложенными структурами данных, подсчёте элементов или группировке данных."
   ]
  },
  {
   "cell_type": "code",
   "execution_count": null,
   "id": "2d49281d-fec4-4b76-b5d0-8ba61348d927",
   "metadata": {},
   "outputs": [],
   "source": []
  },
  {
   "cell_type": "markdown",
   "id": "d5cb2a7e-fd81-4a25-9408-5252cd8f0e9f",
   "metadata": {},
   "source": [
    "### Задание для закрепления"
   ]
  },
  {
   "cell_type": "markdown",
   "id": "5dde321f-2982-4ad8-b5fa-ef37a240d13e",
   "metadata": {},
   "source": [
    "Зная про defaultdict и get, как вы думаете, как реализован defaultdict?\n"
   ]
  },
  {
   "cell_type": "code",
   "execution_count": null,
   "id": "2000769f-2b71-4866-8bf8-d70fbfbbcef6",
   "metadata": {
    "scrolled": true
   },
   "outputs": [],
   "source": [
    "dct = {1:1,2:2,3:3}\n",
    "key = 4\n",
    "if key not in dct:\n",
    "    dct.setdefault(key,0)\n",
    "else:\n",
    "    dct[key]='value'\n",
    "print(dct)\n"
   ]
  },
  {
   "cell_type": "markdown",
   "id": "be349304-9ce2-43d0-8518-f72ffed560ea",
   "metadata": {},
   "source": [
    "В чем потенциальная проблема в ответе 0 в последней строчке кода?"
   ]
  },
  {
   "cell_type": "markdown",
   "id": "ea3f8bc6-9dfc-4ce2-83e5-5b89a5b92c7e",
   "metadata": {},
   "source": [
    "Потенциальная проблема в ответе 0 в последней строчке кода заключается в том, что defaultdict автоматически создает ключи со значением по умолчанию, даже если вы просто пытаетесь проверить наличие ключа. Это может привести к неожиданному поведению, если вы не ожидаете, что ключ будет добавлен в словарь."
   ]
  },
  {
   "cell_type": "markdown",
   "id": "4a1836f2-935b-4db8-9480-2fa1fe3d4f84",
   "metadata": {},
   "source": [
    "### Задача"
   ]
  },
  {
   "cell_type": "markdown",
   "id": "ebea3390",
   "metadata": {},
   "source": [
    "В аквариуме три рыбки, и их названия, виды и резервуары указываются в этих трех кортежах.\n",
    "Нужно организовать инвентарный список по резервуарам и получить список рыб, присутствующих в каждом резервуаре.Используйте defaultdict для группировки рыб по резервуарам.\n",
    "\n",
    "from collections import defaultdict\n",
    "\n",
    "fish_inventory = [\n",
    "    (\"Sammy\", \"shark\", \"tank-a\"),\n",
    "    (\"Jamie\", \"cuttlefish\", \"tank-b\"),\n",
    "    (\"Mary\", \"squid\", \"tank-a\"),\n",
    "]\n"
   ]
  },
  {
   "cell_type": "code",
   "execution_count": 40,
   "id": "6f73bb18",
   "metadata": {},
   "outputs": [
    {
     "name": "stdout",
     "output_type": "stream",
     "text": [
      "defaultdict(<class 'list'>, {'tank-a': ['Sammy', 'Mary'], 'tank-b': ['Jamie']})\n",
      "Резервуар tank-a: Sammy, Mary\n",
      "Резервуар tank-b: Jamie\n"
     ]
    }
   ],
   "source": [
    "from collections import defaultdict\n",
    "\n",
    "fish_inventory = [\n",
    "    (\"Sammy\", \"shark\", \"tank-a\"),\n",
    "    (\"Jamie\", \"cuttlefish\", \"tank-b\"),\n",
    "    (\"Mary\", \"squid\", \"tank-a\"),\n",
    "]\n",
    "\n",
    "# Создаем defaultdict, используя list в качестве значения по умолчанию\n",
    "fish_names_by_tank = defaultdict(list)\n",
    "\n",
    "# Группируем рыб по резервуарам\n",
    "for name, species, tank in fish_inventory:\n",
    "    fish_names_by_tank[tank].append(name)\n",
    "\n",
    "print(fish_names_by_tank)\n",
    "\n",
    "# Выводим список рыб в каждом резервуаре\n",
    "for tank, names in fish_names_by_tank.items():\n",
    "    print(f\"Резервуар {tank}: {', '.join(names)}\")\n"
   ]
  },
  {
   "cell_type": "markdown",
   "id": "7b2e53f8",
   "metadata": {},
   "source": [
    "## Класс counter\n"
   ]
  },
  {
   "cell_type": "markdown",
   "id": "67a7407e-daa4-4f0d-8756-c5449bb489f7",
   "metadata": {},
   "source": [
    "Класс Counter предоставляет удобную структуру для подсчета элементов в итерируемом объекте."
   ]
  },
  {
   "cell_type": "code",
   "execution_count": 41,
   "id": "cb5ce8ba",
   "metadata": {},
   "outputs": [
    {
     "name": "stdout",
     "output_type": "stream",
     "text": [
      "Counter({1: 3, 2: 3, 3: 3, 4: 2, 5: 1})\n",
      "3\n"
     ]
    }
   ],
   "source": [
    "from collections import Counter\n",
    "\n",
    "my_list = [1, 2, 3, 1, 2, 3, 1, 2, 4, 5, 4, 3]\n",
    "my_counter = Counter(my_list)\n",
    "print(my_counter)   # Выводит Counter({1: 3, 2: 3, 3: 3, 4: 2, 5: 1})\n",
    "print(my_counter[1])  # Выводит 3, так как элемент \"1\" встречается 3 раза в списке\n"
   ]
  },
  {
   "cell_type": "code",
   "execution_count": 42,
   "id": "0ce92ab6-c441-4954-a469-af847a9d727e",
   "metadata": {},
   "outputs": [
    {
     "name": "stdout",
     "output_type": "stream",
     "text": [
      "Counter({'l': 2, 'h': 1, 'e': 1, 'o': 1})\n"
     ]
    }
   ],
   "source": [
    "from collections import Counter\n",
    "\n",
    "my_list = 'hello'\n",
    "my_counter = Counter(my_list)\n",
    "print(my_counter)    "
   ]
  },
  {
   "cell_type": "code",
   "execution_count": 43,
   "id": "272ce830-0d91-4c54-a0c0-0c2f1d1cf62b",
   "metadata": {},
   "outputs": [
    {
     "name": "stdout",
     "output_type": "stream",
     "text": [
      "Counter({'l': 3, 'o': 2, 'h': 1, 'e': 1, ' ': 1, 'w': 1, 'r': 1, 'd': 1, '!': 1})\n"
     ]
    }
   ],
   "source": [
    "from collections import Counter\n",
    "\n",
    "my_list = 'hello world!'\n",
    "my_counter = Counter(my_list)\n",
    "print(my_counter)    "
   ]
  },
  {
   "cell_type": "markdown",
   "id": "b44ad445",
   "metadata": {},
   "source": [
    "## Именованные кортежи"
   ]
  },
  {
   "cell_type": "markdown",
   "id": "c98c5454-64f8-4ac0-b2e8-378b319b0d4b",
   "metadata": {},
   "source": [
    "Именованные кортежи представляют удобную структуру для создания простых классов без методов, которые используются только для хранения данных.\r\n"
   ]
  },
  {
   "cell_type": "markdown",
   "id": "ff3c0b1e-68c3-4700-b0c1-aab876c5c526",
   "metadata": {},
   "source": [
    "Создание nametuple"
   ]
  },
  {
   "cell_type": "code",
   "execution_count": 57,
   "id": "df26ee90-86c6-4645-8cee-c9f3b9a33a1e",
   "metadata": {},
   "outputs": [
    {
     "name": "stdout",
     "output_type": "stream",
     "text": [
      "Point(x=10, y=20)\n"
     ]
    }
   ],
   "source": [
    "from collections import namedtuple\n",
    "\n",
    "# Создаём namedtuple с именем \"Point\" и полями \"x\" и \"y\"\n",
    "Point = namedtuple('Point', ['x', 'y'])\n",
    "\n",
    "# Создаём экземпляр Point\n",
    "p = Point(10, 20)\n",
    "\n",
    "print(p)  # Point(x=10, y=20)"
   ]
  },
  {
   "cell_type": "markdown",
   "id": "6dd9d473-a78d-421e-b86b-a72aeebb827a",
   "metadata": {},
   "source": [
    "Доступ к полям по именам"
   ]
  },
  {
   "cell_type": "code",
   "execution_count": 58,
   "id": "7cf58436-dfbe-4824-8db7-1faf7357593d",
   "metadata": {},
   "outputs": [
    {
     "name": "stdout",
     "output_type": "stream",
     "text": [
      "10\n",
      "20\n",
      "10\n",
      "20\n"
     ]
    }
   ],
   "source": [
    "# Доступ к полям по именам\n",
    "print(p.x)  # 10\n",
    "print(p.y)  # 20\n",
    "\n",
    "# Доступ к полям по индексам (как в обычном кортеже)\n",
    "print(p[0])  # 10\n",
    "print(p[1])  # 20"
   ]
  },
  {
   "cell_type": "code",
   "execution_count": 59,
   "id": "d4f32a1e-ed96-4954-9010-8126b3f21e74",
   "metadata": {},
   "outputs": [
    {
     "name": "stdout",
     "output_type": "stream",
     "text": [
      "Alice\n",
      "20\n",
      "A\n",
      "False\n"
     ]
    }
   ],
   "source": [
    "# Пример 2: Использование именованного кортежа для представления студента\n",
    "\n",
    "from collections import namedtuple\n",
    "\n",
    "# Создаем именованный кортеж для студента\n",
    "Student = namedtuple('Student', ['name', 'age', 'grade'])\n",
    "\n",
    "# Создаем экземпляры именованного кортежа\n",
    "student1 = Student(name=\"Alice\", age=20, grade=\"A\")\n",
    "student2 = Student(name=\"Bob\", age=22, grade=\"B\")\n",
    "#student3 = Student(\"Kevin\", 22, \"C\")\n",
    "\n",
    "# Доступ к элементам по имени\n",
    "print(student1.name)  # Вывод: Alice\n",
    "print(student1.age)   # Вывод: 20\n",
    "print(student1.grade) # Вывод: A\n",
    "\n",
    "# Сравнение именованных кортежей\n",
    "print(student1 == student2)  # Вывод: False"
   ]
  },
  {
   "cell_type": "code",
   "execution_count": 60,
   "id": "e02620d0",
   "metadata": {},
   "outputs": [
    {
     "name": "stdout",
     "output_type": "stream",
     "text": [
      "2023\n",
      "10\n",
      "15\n",
      "Today is 15/10/2023\n"
     ]
    }
   ],
   "source": [
    "#Пример 3: Использование именованного кортежа для работы с датами\n",
    "\n",
    "from collections import namedtuple\n",
    "\n",
    "# Создаем именованный кортеж для даты\n",
    "Date = namedtuple('Date', ['year', 'month', 'day'])\n",
    "\n",
    "# Создаем экземпляр именованного кортежа\n",
    "today = Date(year=2023, month=10, day=15)\n",
    "\n",
    "# Доступ к элементам по имени\n",
    "print(today.year)   # Вывод: 2023\n",
    "print(today.month)  # Вывод: 10\n",
    "print(today.day)    # Вывод: 15\n",
    "\n",
    "# Преобразование в строку\n",
    "print(f\"Today is {today.day}/{today.month}/{today.year}\")\n",
    "# Вывод: Today is 15/10/2023"
   ]
  },
  {
   "cell_type": "code",
   "execution_count": 51,
   "id": "3ca2cfa8-cdf5-47ce-8e53-67a58051da35",
   "metadata": {},
   "outputs": [
    {
     "name": "stdout",
     "output_type": "stream",
     "text": [
      "10\n",
      "5\n",
      "Area of the rectangle: 50\n"
     ]
    }
   ],
   "source": [
    "# Пример 4: Использование именованного кортежа для работы с геометрическими фигурами\n",
    "\n",
    "from collections import namedtuple\n",
    "\n",
    "# Создаем именованный кортеж для прямоугольника\n",
    "Rectangle = namedtuple('Rectangle', ['width', 'height'])\n",
    "\n",
    "# Создаем экземпляр именованного кортежа\n",
    "rect = Rectangle(width=10, height=5)\n",
    "\n",
    "# Доступ к элементам по имени\n",
    "print(rect.width)   # Вывод: 10\n",
    "print(rect.height)  # Вывод: 5\n",
    "\n",
    "# Вычисление площади\n",
    "area = rect.width * rect.height\n",
    "print(f\"Area of the rectangle: {area}\")\n",
    "# Вывод: Area of the rectangle: 50"
   ]
  },
  {
   "cell_type": "markdown",
   "id": "733aeaff-880f-475b-8715-706e00e2ca72",
   "metadata": {},
   "source": [
    "Преимущества namedtuple:\n",
    "* Читаемость: Поля имеют имена, что делает код более понятным.\n",
    "\n",
    "* Неизменяемость: Данные защищены от случайного изменения.\n",
    "\n",
    "* Эффективность: namedtuple занимает меньше памяти, чем обычный класс, так как это кортеж.\n",
    "\n",
    "* Удобство: Поддерживает все методы кортежей, такие как индексация, итерация и распаковка.\n",
    "\n",
    "namedtuple идеально подходит для работы с данными, где важна читаемость и неизменяемость, например, для хранения конфигураций, возврата нескольких значений из функций или работы с табличными данными."
   ]
  },
  {
   "cell_type": "markdown",
   "id": "e3c6fb00-8ff1-4fe7-9174-8a0fbbc40e23",
   "metadata": {},
   "source": [
    "### Задание для закрепления"
   ]
  },
  {
   "cell_type": "markdown",
   "id": "0412874f",
   "metadata": {},
   "source": [
    "Что будет выведено после выполнения этого фрагмента кода:"
   ]
  },
  {
   "cell_type": "code",
   "execution_count": 61,
   "id": "491841d9",
   "metadata": {},
   "outputs": [
    {
     "name": "stdout",
     "output_type": "stream",
     "text": [
      "Alice 30 New York\n"
     ]
    }
   ],
   "source": [
    "from collections import namedtuple\n",
    " \n",
    "Person = namedtuple(\"Person\", [\"name\", \"age\", \"city\"])\n",
    "\n",
    "person1 = Person(\"Alice\", 30, \"New York\")\n",
    "person2 = Person(\"Bob\", 25, \"San Francisco\")\n",
    "\n",
    "name, age, city = person1\n",
    "print(name, age, city)\n"
   ]
  },
  {
   "cell_type": "markdown",
   "id": "da6e86b5",
   "metadata": {},
   "source": [
    "## Модуль json"
   ]
  },
  {
   "cell_type": "markdown",
   "id": "824d89ab-d3a3-44a0-a0a4-83b5ab46cab4",
   "metadata": {},
   "source": [
    "**Сериализация** — это процесс преобразования объектов Python в формат, который можно сохранить (например, в файл) или передать по сети (например, в виде строки).\n",
    "\n",
    "**Десериализация** — это обратный процесс, когда данные из файла или строки преобразуются обратно в объекты Python.\n",
    "\n",
    "В Python для сериализации и десериализации часто используются модули json, pickle и yaml. Рассмотрим простые примеры."
   ]
  },
  {
   "cell_type": "markdown",
   "id": "2b730a60-338e-4f53-92c1-ccaaa43d8afd",
   "metadata": {},
   "source": [
    "Примеры использования в реальных сценариях:\n",
    "* Веб-разработка:\n",
    "\n",
    " Передача данных между сервером и клиентом в формате JSON.\n",
    " Сохранение сессии пользователя в файл или базу данных.\n",
    "* Машинное обучение:\n",
    "\n",
    " Сохранение обученной модели в файл для последующего использования.\n",
    " Сериализация данных для обучения и тестирования модели.\n",
    "* Игры:\n",
    "\n",
    " Сохранение состояния игры в файл, чтобы пользователь мог продолжить с того места, где остановился.\n",
    "* Кэширование:\n",
    "\n",
    " Сохранение результатов запросов к базе данных или API, чтобы избежать повторного выполнения."
   ]
  },
  {
   "cell_type": "markdown",
   "id": "2bfb1ff0-1e30-4f74-933d-f1adc63d947c",
   "metadata": {},
   "source": [
    "Модуль json предоставляет функции для сериализации и десериализации данных в формате JSON."
   ]
  },
  {
   "cell_type": "code",
   "execution_count": 62,
   "id": "1e864c47",
   "metadata": {},
   "outputs": [
    {
     "name": "stdout",
     "output_type": "stream",
     "text": [
      "{\"name\": \"John\", \"age\": 25, \"city\": \"New York\"}\n",
      "John\n"
     ]
    }
   ],
   "source": [
    "import json\n",
    "\n",
    "# Сериализация Python-объекта в JSON-строку\n",
    "data = {\"name\": \"John\", \"age\": 25, \"city\": \"New York\"}\n",
    "json_str = json.dumps(data)\n",
    "print(json_str)  # Выводит '{\"name\": \"John\", \"age\": 25, \"city\": \"New York\"}'\n",
    "\n",
    "# Десериализация JSON-строки в Python-объект\n",
    "json_str = '{\"name\": \"John\", \"age\": 25, \"city\": \"New York\"}'\n",
    "data = json.loads(json_str)\n",
    "print(data[\"name\"])  # Выводит 'John'\n"
   ]
  },
  {
   "cell_type": "markdown",
   "id": "824bdeb1-cfbe-46bc-bd42-b50e5ad87e32",
   "metadata": {},
   "source": [
    "Сериализация и десериализация позволяют сохранять объекты в файл или передавать их по сети, а затем восстанавливать их в исходное состояние.\n"
   ]
  },
  {
   "cell_type": "markdown",
   "id": "9d3424af",
   "metadata": {},
   "source": [
    "## Практика"
   ]
  },
  {
   "cell_type": "markdown",
   "id": "41ba6a2f",
   "metadata": {},
   "source": [
    "1. Дана строка. \n",
    "Посчитайте в ней частоту встречаемости всех букв. Считаем, что в строке могут быть пробельные символы.\n"
   ]
  },
  {
   "cell_type": "code",
   "execution_count": 64,
   "id": "281b07c3",
   "metadata": {},
   "outputs": [
    {
     "name": "stdin",
     "output_type": "stream",
     "text": [
      "Введите строку:  hello world!\n"
     ]
    },
    {
     "name": "stdout",
     "output_type": "stream",
     "text": [
      "h: 1\n",
      "e: 1\n",
      "l: 3\n",
      "o: 2\n",
      "w: 1\n",
      "r: 1\n",
      "d: 1\n"
     ]
    }
   ],
   "source": [
    "from collections import Counter\n",
    "\n",
    "def count_letter_frequency(s):\n",
    "    return Counter(char.lower() for char in s if char.isalpha())\n",
    "\n",
    "input_string = input(\"Введите строку: \")\n",
    "result = count_letter_frequency(input_string)\n",
    "\n",
    "for letter, frequency in result.items():\n",
    "    print(f\"{letter}: {frequency}\")"
   ]
  },
  {
   "cell_type": "markdown",
   "id": "9926aaff",
   "metadata": {},
   "source": [
    "2. Дан текст. \n",
    "Необходимо посчитать сколько раз встретилось каждое слово и вывести в топ слов, упорядоченный сначала по убыванию встречаемости, а при равенстве частот в соответствии с упорядочиванием в лексикографическом порядке. \n",
    "Решить задачу с помощью использования изученных классов.\n"
   ]
  },
  {
   "cell_type": "code",
   "execution_count": 72,
   "id": "415ec2b2",
   "metadata": {},
   "outputs": [
    {
     "name": "stdout",
     "output_type": "stream",
     "text": [
      "Counter({'это': 2, 'просто': 2, 'пример': 2, 'текста': 1, 'для': 1, 'подсчета': 1, 'частоты': 1, 'слов': 1})\n",
      "--------------------------------------------------------------\n",
      "[WordFrequency(word='пример', frequency=2), WordFrequency(word='просто', frequency=2), WordFrequency(word='это', frequency=2), WordFrequency(word='для', frequency=1), WordFrequency(word='подсчета', frequency=1), WordFrequency(word='слов', frequency=1), WordFrequency(word='текста', frequency=1), WordFrequency(word='частоты', frequency=1)]\n",
      "--------------------------------------------------------------\n",
      "Топ слов:\n",
      "пример: 2\n",
      "просто: 2\n",
      "это: 2\n",
      "для: 1\n",
      "подсчета: 1\n",
      "слов: 1\n",
      "текста: 1\n",
      "частоты: 1\n"
     ]
    }
   ],
   "source": [
    "from collections import Counter, namedtuple\n",
    "\n",
    "# Создаем namedtuple для хранения пары (слово, частота)\n",
    "WordFrequency = namedtuple('WordFrequency', ['word', 'frequency'])\n",
    "\n",
    "def count_word_frequency(text):\n",
    "    words = [word.strip('.!,?()[]').lower() for word in text.split()]\n",
    "    word_frequency = Counter(words)\n",
    "    return word_frequency\n",
    "\n",
    "def top_words(word_frequency, n=10):\n",
    "    sorted_words = sorted(word_frequency.items(), key=lambda x: (-x[1], x[0]))\n",
    "    top_words = [WordFrequency(word, freq) for word, freq in sorted_words[:n]]\n",
    "    return top_words\n",
    "\n",
    "# Пример текста для анализа\n",
    "input_text = \"Это просто пример текста для подсчета частоты слов. Это просто пример.\"\n",
    "\n",
    "word_frequency = count_word_frequency(input_text)\n",
    "print(word_frequency)\n",
    "print('--------------------------------------------------------------')\n",
    "top_word_pairs = top_words(word_frequency)\n",
    "print(top_word_pairs)\n",
    "print('--------------------------------------------------------------')\n",
    "\n",
    "print(\"Топ слов:\")\n",
    "for pair in top_word_pairs:\n",
    "    print(f\"{pair.word}: {pair.frequency}\")\n"
   ]
  },
  {
   "cell_type": "code",
   "execution_count": 68,
   "id": "0dd909f8-ae58-4350-b105-b67d69bc871c",
   "metadata": {},
   "outputs": [
    {
     "data": {
      "text/plain": [
       "Counter({'это': 2, 'то': 1})"
      ]
     },
     "execution_count": 68,
     "metadata": {},
     "output_type": "execute_result"
    }
   ],
   "source": [
    "Counter(['это','то','это'])"
   ]
  },
  {
   "cell_type": "markdown",
   "id": "61b4d46f-a86a-454e-9eec-77cab0c2f5d9",
   "metadata": {},
   "source": [
    "### Полезные материалы\n",
    "1. Модуль collections https://pythonworld.ru/moduli/modul-collections.html\n",
    "2. Модуль json https://pythonworld.ru/moduli/modul-json.html\n",
    "\n",
    "### Вопросы для закрепления\n",
    "1. Предположим, что мы хотим реализовать мультимножество – т.е. множество, в котором элементы могут повторяться. Как это можно сделать на питоне?\n",
    "2. Какие проблемы словаря решают get и setdefault? В чем может быть опасность их применения вместо обращения к элементу в []?\n",
    "3. В чем преимущество формата json перед табличными представлениями как в Excel?\n"
   ]
  },
  {
   "cell_type": "code",
   "execution_count": null,
   "id": "19125d14-37a4-4959-a7a2-f6f813b9f88b",
   "metadata": {},
   "outputs": [],
   "source": []
  }
 ],
 "metadata": {
  "kernelspec": {
   "display_name": "Python 3 (ipykernel)",
   "language": "python",
   "name": "python3"
  },
  "language_info": {
   "codemirror_mode": {
    "name": "ipython",
    "version": 3
   },
   "file_extension": ".py",
   "mimetype": "text/x-python",
   "name": "python",
   "nbconvert_exporter": "python",
   "pygments_lexer": "ipython3",
   "version": "3.12.4"
  }
 },
 "nbformat": 4,
 "nbformat_minor": 5
}
