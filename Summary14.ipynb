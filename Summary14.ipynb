{
 "cells": [
  {
   "cell_type": "markdown",
   "id": "be7ece28-a972-4308-81fa-45707f6940fc",
   "metadata": {},
   "source": [
    "# Summary 14"
   ]
  },
  {
   "cell_type": "markdown",
   "id": "4682a027-a66d-4e79-b22a-cc8bac2c8b4e",
   "metadata": {},
   "source": [
    "1. Сумма квадратов четных чисел"
   ]
  },
  {
   "cell_type": "code",
   "execution_count": null,
   "id": "d1d39cb7-7860-432b-b19d-4e56b17e981e",
   "metadata": {},
   "outputs": [],
   "source": [
    "numbers = [1, 2, 3, 4, 5, 6, 7, 8, 9, 10]\n",
    "# Ожидаемый результат: 220 (2² + 4² + 6² + 8² + 10² = 4 + 16 + 36 + 64 + 100)"
   ]
  },
  {
   "cell_type": "code",
   "execution_count": null,
   "id": "0d672628-288c-4599-9c8e-5c5dc62e5c15",
   "metadata": {},
   "outputs": [],
   "source": [
    "from functools import reduce\n",
    "res = reduce(lambda x, y: x + y, (map(lambda x: x**2, filter(lambda x: x%2 == 0, numbers))))\n",
    "res"
   ]
  },
  {
   "cell_type": "markdown",
   "id": "7c5acaa0-aefc-4ad4-aa5e-00e0137c229c",
   "metadata": {},
   "source": [
    "2. Сортировка строк по количеству гласных\n",
    "\n",
    "   Используя sorted, map и lambda, отсортируйте список строк по количеству согласных букв в каждой строке."
   ]
  },
  {
   "cell_type": "code",
   "execution_count": 19,
   "id": "1f3857f2-4bee-407d-a580-eea3cd867bff",
   "metadata": {},
   "outputs": [],
   "source": [
    "words = [\"apple\", \"banana\", \"cherry\", \"date\", \"elderberry\"]\n",
    "# Ожидаемый результат: ['date', 'apple', 'banana', 'cherry', 'elderberry']"
   ]
  },
  {
   "cell_type": "code",
   "execution_count": 20,
   "id": "42827f33-d391-481c-90d9-40a8f46c1966",
   "metadata": {},
   "outputs": [
    {
     "data": {
      "text/plain": [
       "['date', 'apple', 'banana', 'cherry', 'elderberry']"
      ]
     },
     "execution_count": 20,
     "metadata": {},
     "output_type": "execute_result"
    }
   ],
   "source": [
    "vowels = \"AEIOUYaeiouy\"\n",
    "\n",
    "sorted(words, key = lambda s: sum(1 for ch in s if ch not in vowels))"
   ]
  },
  {
   "cell_type": "markdown",
   "id": "e6fa7f72-aa4d-4b25-866a-71b8d61baf17",
   "metadata": {},
   "source": [
    "3. Произведение минимального и максимального элемента\n",
    "\n",
    "   Используя min, max и reduce, найдите произведение минимального и максимального элемента в списке."
   ]
  },
  {
   "cell_type": "code",
   "execution_count": 21,
   "id": "da54b588-e66f-4407-89b3-bae198d4bb7a",
   "metadata": {},
   "outputs": [],
   "source": [
    "numbers = [10, 20, 5, 30, 15]\n",
    "# Ожидаемый результат: 150 (5 * 30)"
   ]
  },
  {
   "cell_type": "code",
   "execution_count": null,
   "id": "02d9aa0e-4cc0-4213-aad7-cd03dbe8cc58",
   "metadata": {},
   "outputs": [],
   "source": [
    "from functools import reduce\n",
    "\n",
    "result = reduce(lambda x,y: x*y,[min(numbers),max(numbers)])\n",
    "result"
   ]
  },
  {
   "cell_type": "markdown",
   "id": "83bbd690-fa01-4b59-8580-8b6911fc3970",
   "metadata": {},
   "source": [
    "4. Фильтрация и преобразование строк\n",
    "   \n",
    "Используя filter и map, отфильтруйте строки, длина которых больше 5 символов, и преобразуйте их в верхний регистр."
   ]
  },
  {
   "cell_type": "code",
   "execution_count": null,
   "id": "11c091c9-3906-40c7-aab7-c19f1d9c2106",
   "metadata": {},
   "outputs": [],
   "source": [
    "words = [\"apple\", \"banana\", \"cherry\", \"date\", \"elderberry\"]\n",
    "# Ожидаемый результат: ['BANANA', 'CHERRY', 'ELDERBERRY']"
   ]
  },
  {
   "cell_type": "code",
   "execution_count": null,
   "id": "92c46831-6d7a-4663-88eb-9c39e811eebe",
   "metadata": {},
   "outputs": [],
   "source": [
    "new_words = map( lambda x: x.upper(), filter(lambda x: len(x)>5, words ))\n",
    "list(new_words)"
   ]
  },
  {
   "cell_type": "markdown",
   "id": "efd6cea9-7d0c-44dd-aa9e-8c597380721a",
   "metadata": {},
   "source": [
    "5. Среднее значение квадратов нечетных чисел\n",
    "\n",
    "   Используя filter, map и reduce, найдите среднее значение квадратов всех нечетных чисел в списке."
   ]
  },
  {
   "cell_type": "code",
   "execution_count": null,
   "id": "97de05ab-13d4-466b-a018-3385afc8982b",
   "metadata": {},
   "outputs": [],
   "source": [
    "numbers = [1, 2, 3, 4, 5, 6, 7, 8, 9, 10]\n",
    "# Ожидаемый результат: 33 (1² + 3² + 5² + 7² + 9² = 1 + 9 + 25 + 49 + 81 = 165; 165 / 5 = 33)"
   ]
  },
  {
   "cell_type": "code",
   "execution_count": null,
   "id": "6925fbab-087a-4374-8ece-0f4484ce9021",
   "metadata": {},
   "outputs": [],
   "source": [
    "from functools import reduce\n",
    "res = list(map(lambda num: num**2 , filter(lambda num: num%2 != 0, numbers)))\n",
    "print(sum(res)/len(res))"
   ]
  },
  {
   "cell_type": "markdown",
   "id": "b4c33ee1-1700-4505-ae36-93c86ec588ea",
   "metadata": {},
   "source": [
    "6. Сортировка чисел по сумме цифр\n",
    "\n",
    "   Используя sorted и map, отсортируйте список чисел по сумме их цифр."
   ]
  },
  {
   "cell_type": "code",
   "execution_count": 5,
   "id": "61dac479-37dd-4167-ae51-5dd817b328b9",
   "metadata": {},
   "outputs": [],
   "source": [
    "numbers = [123, 45, 678, 9, 101]\n",
    "# Ожидаемый результат: [101, 123, 45, 678, 9] (суммы цифр: 2, 6, 9, 21, 9)"
   ]
  },
  {
   "cell_type": "code",
   "execution_count": 6,
   "id": "f165dfe3-5e11-4b01-8516-079f08c89d09",
   "metadata": {},
   "outputs": [
    {
     "data": {
      "text/plain": [
       "[101, 123, 45, 9, 678]"
      ]
     },
     "execution_count": 6,
     "metadata": {},
     "output_type": "execute_result"
    }
   ],
   "source": [
    "sorted(numbers, key=lambda n: sum(int(d) for d in str(n)))"
   ]
  },
  {
   "cell_type": "markdown",
   "id": "7a4e33ff-c923-4718-9ae7-5271730334bf",
   "metadata": {},
   "source": [
    "7. Нахождение строки с максимальным количеством согласных\n",
    "\n",
    "Используя max, filter и lambda, найдите строку с максимальным количеством согласных букв."
   ]
  },
  {
   "cell_type": "code",
   "execution_count": 8,
   "id": "7486811f-189a-4b2e-b354-50d4d99f59c0",
   "metadata": {},
   "outputs": [],
   "source": [
    "words = [\"apple\", \"banana\", \"cherry\", \"date\", \"elderberry\"]\n",
    "# Ожидаемый результат: 'elderberry'"
   ]
  },
  {
   "cell_type": "code",
   "execution_count": 10,
   "id": "77ef0db5-7e7a-4ecf-98c5-dd104eb0cc66",
   "metadata": {},
   "outputs": [
    {
     "data": {
      "text/plain": [
       "'elderberry'"
      ]
     },
     "execution_count": 10,
     "metadata": {},
     "output_type": "execute_result"
    }
   ],
   "source": [
    "max(words, key = lambda s: sum(1 for char in s if char not in \"AEIOUYaeiouy\"))"
   ]
  },
  {
   "cell_type": "markdown",
   "id": "9d43c897-c2b4-4e0e-b391-ea3a885ca7ec",
   "metadata": {},
   "source": [
    "8. Сумма длин строк, содержащих букву 'a'\n",
    "\n",
    "   Используя filter, map и reduce, найдите сумму длин всех строк, которые содержат букву 'a'."
   ]
  },
  {
   "cell_type": "code",
   "execution_count": 11,
   "id": "1719a5e2-33d8-4c0c-beab-25bbbc348a9f",
   "metadata": {},
   "outputs": [],
   "source": [
    "words = [\"apple\", \"banana\", \"cherry\", \"date\", \"elderberry\"]\n",
    "# Ожидаемый результат: 21 (5 + 6 + 4 + 6)"
   ]
  },
  {
   "cell_type": "code",
   "execution_count": 13,
   "id": "e9ef3cfd-f0a4-4f50-b8bc-955e7261a968",
   "metadata": {},
   "outputs": [
    {
     "data": {
      "text/plain": [
       "15"
      ]
     },
     "execution_count": 13,
     "metadata": {},
     "output_type": "execute_result"
    }
   ],
   "source": [
    "sum(map(lambda x: len(x) ,filter(lambda s: 'a' in s ,words)))"
   ]
  },
  {
   "cell_type": "markdown",
   "id": "84350c66-fa59-49bd-b7ac-a48ff5ea7cc2",
   "metadata": {},
   "source": [
    "9. Сортировка чисел по количеству делителей"
   ]
  },
  {
   "cell_type": "code",
   "execution_count": 14,
   "id": "2b326c7b-ba05-4d6c-abfd-d14aeba4ceba",
   "metadata": {},
   "outputs": [],
   "source": [
    "numbers = [12, 7, 15, 9, 20]\n",
    "# Ожидаемый результат: [7, 9, 15, 20, 12] (делители: 2, 3, 4, 6, 6)"
   ]
  },
  {
   "cell_type": "code",
   "execution_count": 17,
   "id": "22b23e78-4910-46dc-8fbd-f677a03920e4",
   "metadata": {},
   "outputs": [
    {
     "data": {
      "text/plain": [
       "[1, 1]"
      ]
     },
     "execution_count": 17,
     "metadata": {},
     "output_type": "execute_result"
    }
   ],
   "source": [
    "x = 7\n",
    "[1 for i in range(1, x+1) if x % i == 0]"
   ]
  },
  {
   "cell_type": "code",
   "execution_count": 19,
   "id": "dbebeb74-57da-475e-8b5b-8bfdaa7e81c7",
   "metadata": {},
   "outputs": [
    {
     "data": {
      "text/plain": [
       "[7, 9, 15, 12, 20]"
      ]
     },
     "execution_count": 19,
     "metadata": {},
     "output_type": "execute_result"
    }
   ],
   "source": [
    "sorted(numbers, key = lambda x: sum(1 for i in range(1, x+1) if x % i == 0))"
   ]
  },
  {
   "cell_type": "markdown",
   "id": "6c3a6ee7-6543-4be7-9ebc-62aec7a26b9d",
   "metadata": {},
   "source": [
    "10. Нахождение строки с минимальной разницей между количеством гласных и согласных\n",
    "\n",
    "    Используя min, map и lambda, найдите строку, в которой разница между количеством гласных и согласных букв минимальна."
   ]
  },
  {
   "cell_type": "code",
   "execution_count": 20,
   "id": "ba11d314-1da6-40ea-b3bb-a7b631fb1818",
   "metadata": {},
   "outputs": [],
   "source": [
    "words = [\"apple\", \"banana\", \"cherry\", \"date\", \"elderberry\"]\n",
    "# Ожидаемый результат: 'date'"
   ]
  },
  {
   "cell_type": "code",
   "execution_count": 21,
   "id": "47f89459-88b5-40a5-af87-cad3dfa1206a",
   "metadata": {},
   "outputs": [
    {
     "data": {
      "text/plain": [
       "'banana'"
      ]
     },
     "execution_count": 21,
     "metadata": {},
     "output_type": "execute_result"
    }
   ],
   "source": [
    "min(words, key = lambda s: abs(sum(1 for char in s if char in \"AEIOUYaeiouy\") -  sum(1 for char in s if char not in \"AEIOUYaeiouy\") ))"
   ]
  },
  {
   "cell_type": "markdown",
   "id": "844f9f87-fff9-467e-8eca-069e469ab534",
   "metadata": {},
   "source": [
    "Функция accumulate из модуля itertools может быть использована для решения разнообразных задач, связанных с накоплением значений."
   ]
  },
  {
   "cell_type": "code",
   "execution_count": null,
   "id": "b7a94c13-77fd-4e66-964d-26d5e36f7861",
   "metadata": {},
   "outputs": [],
   "source": []
  },
  {
   "cell_type": "code",
   "execution_count": null,
   "id": "cde784be-462d-453b-b286-2b1538e4d67c",
   "metadata": {},
   "outputs": [],
   "source": [
    "from itertools import  accumulate\n"
   ]
  },
  {
   "cell_type": "markdown",
   "id": "6a0b1894-6097-4060-ba3f-7a0e113da00f",
   "metadata": {},
   "source": [
    "Анализ финансовых данных:\n",
    "\n",
    "Задача: Вычислить накопленную доходность инвестиций на основе ежемесячных данных о доходах.\n",
    "\n",
    "Пример: Имея список ежемесячных доходов, вычислить накопленную сумму доходов на каждом этапе."
   ]
  },
  {
   "cell_type": "markdown",
   "id": "17bd7c1f-9eb0-4502-8cca-234f00ebf8a8",
   "metadata": {},
   "source": [
    "Анализ спортивной статистики:\n",
    "\n",
    "Задача: Вычислить накопленное количество очков, забитых командой в течение сезона.\n",
    "\n",
    "Пример: Имея данные о количестве очков, набранных в каждом матче, вычислить накопленное количество очков на каждом этапе сезона."
   ]
  },
  {
   "cell_type": "markdown",
   "id": "fa706251-645b-4a29-afc9-c4d017c6907e",
   "metadata": {},
   "source": [
    "Задача:\n",
    "Имеется список ежемесячных доходов от инвестиций. Необходимо вычислить накопленную сумму доходов на каждом этапе.\n",
    "\n",
    "Пример:\n",
    "Допустим, у нас есть следующие ежемесячные доходы: [1000, 1500, 500, 2000, 750]. Мы хотим получить накопленную сумму доходов на каждом этапе: [1000, 2500, 3000, 5000, 5750]."
   ]
  },
  {
   "cell_type": "code",
   "execution_count": null,
   "id": "4a4c6d3f-624e-408f-be85-6c08c66b24c6",
   "metadata": {},
   "outputs": [],
   "source": [
    "from itertools import accumulate\n",
    "\n",
    "# Ежемесячные доходы\n",
    "monthly_incomes = [1000, 1500, 500, 2000, 750]\n",
    "\n",
    "# Вычисление накопленной суммы доходов\n",
    "accumulated_incomes = list(accumulate(monthly_incomes))\n",
    "\n",
    "print(accumulated_incomes)  # Вывод: [1000, 2500, 3000, 5000, 5750]\n"
   ]
  },
  {
   "cell_type": "code",
   "execution_count": null,
   "id": "6562940a-8c84-4d20-968f-54ec614c47ea",
   "metadata": {},
   "outputs": [],
   "source": []
  },
  {
   "cell_type": "code",
   "execution_count": null,
   "id": "1f76ec41-d3f1-4e99-8b9c-37602f3c17da",
   "metadata": {},
   "outputs": [],
   "source": [
    "import random\n",
    "\n",
    "\n",
    "seq = [random.randint(1,100) for i in range(10)]"
   ]
  },
  {
   "cell_type": "code",
   "execution_count": null,
   "id": "8c0cdf9b-a039-4263-9bef-b14d434dd13f",
   "metadata": {},
   "outputs": [],
   "source": [
    "all(i%2==0 for i in seq)"
   ]
  },
  {
   "cell_type": "code",
   "execution_count": null,
   "id": "caae2557-3004-4373-862e-9fb8bc5b8e42",
   "metadata": {},
   "outputs": [],
   "source": []
  },
  {
   "cell_type": "markdown",
   "id": "e92702b3-06f6-40fb-b1c2-a6306b8eff0b",
   "metadata": {},
   "source": [
    "### Разбор ДЗ 27"
   ]
  },
  {
   "cell_type": "markdown",
   "id": "33403eef-12a6-46a3-ad01-e129a191b73a",
   "metadata": {},
   "source": [
    "Напишите функцию, которая принимает на вход список чисел и возвращает сумму квадратов только четных чисел из списка, используя функциональные подходы (например, map, filter и reduce).\n",
    "\n",
    "Пример вывода:\n",
    "Введите числа: 4, 6, 3, 4, 2, 3, 9, 0, 7\n",
    "Результат: 72\n"
   ]
  },
  {
   "cell_type": "code",
   "execution_count": null,
   "id": "f7374f2d-c651-4efb-9c89-0baf63277c57",
   "metadata": {},
   "outputs": [],
   "source": []
  },
  {
   "cell_type": "code",
   "execution_count": null,
   "id": "0c720a90-454b-44e0-b07d-06ad97ac3d50",
   "metadata": {},
   "outputs": [],
   "source": [
    "from functools import reduce\n",
    "\n",
    "def sq_sum(s):\n",
    "    filt=filter(lambda x: x%2==0, s)\n",
    "    sqmap=map(lambda x: x*x, filt)\n",
    "    sumsq=reduce(lambda x,y: x+y, sqmap)\n",
    "    return sumsq\n",
    "\n",
    "i=map(int,input(\"Введите список чисел: \").split(\", \"))\n",
    "print(sq_sum(i))\n"
   ]
  },
  {
   "cell_type": "code",
   "execution_count": null,
   "id": "48f573f0-2d66-4b00-9fff-eb882342e35f",
   "metadata": {},
   "outputs": [],
   "source": [
    "Напишите функцию, которая принимает на вход список функций и значение, а затем применяет композицию этих функций к значению, возвращая конечный результат.\n",
    "\n",
    "Пример использования:\n",
    "\n",
    "add_one = lambda x: x + 1\n",
    "double = lambda x: x * 2\n",
    "subtract_three = lambda x: x - 3\n",
    "functions = [add_one, double, subtract_three]\n",
    "compose_functions(functions, 5) должно вывести 9\n"
   ]
  },
  {
   "cell_type": "code",
   "execution_count": null,
   "id": "76195c09-0774-4bc9-aa3a-862f2c795212",
   "metadata": {},
   "outputs": [],
   "source": [
    "def compose_functions(s,k):\n",
    "    result=k\n",
    "    for i in s:\n",
    "        result=i(result)\n",
    "    return result\n",
    "\n",
    "add_one = lambda x: x + 1\n",
    "double = lambda x: x * 2\n",
    "subtract_three = lambda x: x - 3\n",
    "functions = [add_one, double, subtract_three]\n",
    "print(compose_functions(functions, 5))\n"
   ]
  },
  {
   "cell_type": "markdown",
   "id": "8862f00a-0954-48d3-b162-d03fea9ce304",
   "metadata": {},
   "source": [
    "### Разбор ДЗ 28"
   ]
  },
  {
   "cell_type": "markdown",
   "id": "f296a322-2f61-4419-8be2-38d1ad2ffaa9",
   "metadata": {},
   "source": [
    "Напишите программу, которая принимает список слов от пользователя и использует генераторное выражение (comprehension) для создания нового списка, содержащего только те слова, которые начинаются с гласной буквы. Затем программа должна использовать функцию map, чтобы преобразовать каждое слово в верхний регистр. В результате программа должна вывести новый список, содержащий только слова, начинающиеся с гласной буквы и записанные в верхнем регистре.\n"
   ]
  },
  {
   "cell_type": "code",
   "execution_count": null,
   "id": "bd114b5a-ce23-4ff9-bd5f-979c75ee7c35",
   "metadata": {},
   "outputs": [],
   "source": [
    "words=input(\"Введите список слов: \").split()\n",
    "vowels=\"euioaуеыаоэяию\"\n",
    "vowels=vowels+vowels.upper()\n",
    "v_words=[x for x in words if x[0] in vowels]\n",
    "v_words_upper=map(lambda x: x.upper(),v_words)\n",
    "print(list(v_words_upper))\n"
   ]
  },
  {
   "cell_type": "markdown",
   "id": "38b29e5b-f82c-4af3-9407-a7dcd9cea61e",
   "metadata": {},
   "source": [
    "Напишите программу, которая принимает список чисел от пользователя и использует функцию reduce из модуля functools, чтобы найти произведение всех чисел в списке. Затем программа должна использовать функцию itertools.accumulate для накопления произведений чисел в новом списке. В результате программа должна вывести список, содержащий накопленные произведения.\n"
   ]
  },
  {
   "cell_type": "code",
   "execution_count": null,
   "id": "0c0d3a07-7e79-456e-9d25-add40d19da46",
   "metadata": {},
   "outputs": [],
   "source": [
    "from functools import reduce\n",
    "from itertools import  accumulate\n",
    "from operator import mul\n",
    "\n",
    "numbers = [int(x) for x in input(\"Введите список чисел: \").split()]\n",
    "product_red = reduce(lambda x,y: x*y, numbers)\n",
    "print(product_red)\n",
    "product_acc = accumulate(numbers, mul)\n",
    "print(list(product_acc))\n"
   ]
  }
 ],
 "metadata": {
  "kernelspec": {
   "display_name": "Python 3 (ipykernel)",
   "language": "python",
   "name": "python3"
  },
  "language_info": {
   "codemirror_mode": {
    "name": "ipython",
    "version": 3
   },
   "file_extension": ".py",
   "mimetype": "text/x-python",
   "name": "python",
   "nbconvert_exporter": "python",
   "pygments_lexer": "ipython3",
   "version": "3.12.4"
  }
 },
 "nbformat": 4,
 "nbformat_minor": 5
}
