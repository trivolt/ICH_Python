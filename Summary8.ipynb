{
 "cells": [
  {
   "cell_type": "markdown",
   "id": "0d92072f-152b-4502-9b5c-bec075f59d3f",
   "metadata": {},
   "source": [
    "# Summary8"
   ]
  },
  {
   "cell_type": "code",
   "execution_count": 13,
   "id": "713fb12a-28e6-4ea5-9254-1c6c5d87d367",
   "metadata": {},
   "outputs": [],
   "source": [
    "# Вставка элемента в нужную позицию"
   ]
  },
  {
   "cell_type": "code",
   "execution_count": 12,
   "id": "38a18f35-616e-4811-a083-375bffd7ae7f",
   "metadata": {},
   "outputs": [
    {
     "name": "stdout",
     "output_type": "stream",
     "text": [
      "[1, 4, 2, 3]\n"
     ]
    }
   ],
   "source": [
    "lst = [1,2,3]\n",
    "lst.insert(1,4)\n",
    "print(lst)"
   ]
  },
  {
   "cell_type": "code",
   "execution_count": 16,
   "id": "185c49a9-a4fa-4be0-a55d-f795890acd53",
   "metadata": {},
   "outputs": [],
   "source": [
    "# Удаление элемента из списка"
   ]
  },
  {
   "cell_type": "code",
   "execution_count": 15,
   "id": "da4019d1-c173-4946-a4b7-d3e332855a36",
   "metadata": {},
   "outputs": [
    {
     "name": "stdout",
     "output_type": "stream",
     "text": [
      "[1, 3]\n"
     ]
    }
   ],
   "source": [
    "lst = [1,2,3]\n",
    "lst.remove(2)\n",
    "print(lst)"
   ]
  },
  {
   "cell_type": "code",
   "execution_count": null,
   "id": "0e7d25dd-eb9b-4a56-bf83-95ec61eec0cd",
   "metadata": {},
   "outputs": [],
   "source": [
    "# Определяем индекс элемента в списке"
   ]
  },
  {
   "cell_type": "code",
   "execution_count": 18,
   "id": "5ead8363-e8cf-4ec9-9c6d-c18dc9062153",
   "metadata": {},
   "outputs": [
    {
     "name": "stdout",
     "output_type": "stream",
     "text": [
      "1\n"
     ]
    }
   ],
   "source": [
    "lst = [1,2,3]\n",
    "index = lst.index(2)\n",
    "print(index)"
   ]
  },
  {
   "cell_type": "code",
   "execution_count": null,
   "id": "a42f1c3f-c4ff-406d-8a90-d86ef222adb9",
   "metadata": {},
   "outputs": [],
   "source": [
    "# Подсчет элементов  в списке"
   ]
  },
  {
   "cell_type": "code",
   "execution_count": 21,
   "id": "d7e20ebb-1e83-4316-a423-22d4a441e609",
   "metadata": {},
   "outputs": [
    {
     "name": "stdout",
     "output_type": "stream",
     "text": [
      "3\n"
     ]
    }
   ],
   "source": [
    "lst = [1,2,3,2,2]\n",
    "cnt = lst.count(2)\n",
    "print(cnt)"
   ]
  },
  {
   "cell_type": "code",
   "execution_count": null,
   "id": "9a332a16-73e2-414f-8cc5-32d8176b7b19",
   "metadata": {},
   "outputs": [],
   "source": [
    "# Очистка списка"
   ]
  },
  {
   "cell_type": "code",
   "execution_count": 22,
   "id": "19335684-3421-432e-8eff-7a8dd7a1c622",
   "metadata": {},
   "outputs": [
    {
     "name": "stdout",
     "output_type": "stream",
     "text": [
      "[]\n"
     ]
    }
   ],
   "source": [
    "lst = [1,2,3,2,2]\n",
    "lst.clear()\n",
    "print(lst)"
   ]
  },
  {
   "cell_type": "code",
   "execution_count": 25,
   "id": "4359f733-a04d-43c1-8454-40f109700ea6",
   "metadata": {},
   "outputs": [],
   "source": [
    "# Удаление элемента или списка"
   ]
  },
  {
   "cell_type": "code",
   "execution_count": 23,
   "id": "a1d951d6-4b27-467f-a39d-0bc9bc50378e",
   "metadata": {},
   "outputs": [
    {
     "name": "stdout",
     "output_type": "stream",
     "text": [
      "[1, 2, 3, 2]\n"
     ]
    }
   ],
   "source": [
    "lst = [1,2,3,2,2]\n",
    "del lst[-1]\n",
    "print(lst)"
   ]
  },
  {
   "cell_type": "code",
   "execution_count": 24,
   "id": "f859e691-5301-4e72-9fa1-45d7ff18da41",
   "metadata": {},
   "outputs": [
    {
     "ename": "NameError",
     "evalue": "name 'lst' is not defined",
     "output_type": "error",
     "traceback": [
      "\u001b[1;31m---------------------------------------------------------------------------\u001b[0m",
      "\u001b[1;31mNameError\u001b[0m                                 Traceback (most recent call last)",
      "Cell \u001b[1;32mIn[24], line 3\u001b[0m\n\u001b[0;32m      1\u001b[0m lst \u001b[38;5;241m=\u001b[39m [\u001b[38;5;241m1\u001b[39m,\u001b[38;5;241m2\u001b[39m,\u001b[38;5;241m3\u001b[39m,\u001b[38;5;241m2\u001b[39m,\u001b[38;5;241m2\u001b[39m]\n\u001b[0;32m      2\u001b[0m \u001b[38;5;28;01mdel\u001b[39;00m lst\n\u001b[1;32m----> 3\u001b[0m \u001b[38;5;28mprint\u001b[39m(lst)\n",
      "\u001b[1;31mNameError\u001b[0m: name 'lst' is not defined"
     ]
    }
   ],
   "source": [
    "lst = [1,2,3,2,2]\n",
    "del lst\n",
    "print(lst)"
   ]
  },
  {
   "cell_type": "markdown",
   "id": "a2239620-54c6-43ab-8438-ac703d675899",
   "metadata": {},
   "source": [
    "#### Кортеж"
   ]
  },
  {
   "cell_type": "code",
   "execution_count": 26,
   "id": "a3cfe883-3324-4b2a-b626-991fa86e0ab2",
   "metadata": {},
   "outputs": [
    {
     "data": {
      "text/plain": [
       "tuple"
      ]
     },
     "execution_count": 26,
     "metadata": {},
     "output_type": "execute_result"
    }
   ],
   "source": [
    "tpl = ('one',)\n",
    "type(tpl)"
   ]
  },
  {
   "cell_type": "code",
   "execution_count": 28,
   "id": "3c4a2840-4e3c-4d33-8c90-e2783912ed54",
   "metadata": {},
   "outputs": [
    {
     "data": {
      "text/plain": [
       "tuple"
      ]
     },
     "execution_count": 28,
     "metadata": {},
     "output_type": "execute_result"
    }
   ],
   "source": [
    "tpl = ('one',1, 4.56)\n",
    "type(tpl)"
   ]
  },
  {
   "cell_type": "code",
   "execution_count": 30,
   "id": "1ec3037b-88f1-4b58-af4d-5073dfaf4dd6",
   "metadata": {},
   "outputs": [
    {
     "name": "stdout",
     "output_type": "stream",
     "text": [
      "one\n",
      "1\n",
      "4.56\n"
     ]
    }
   ],
   "source": [
    "for elem in tpl:\n",
    "    print(elem)"
   ]
  },
  {
   "cell_type": "code",
   "execution_count": 31,
   "id": "18f38aa8-7a39-4440-b183-6d886f228286",
   "metadata": {},
   "outputs": [],
   "source": [
    "# Задача. Вводится n, а затем n строк. Получить список из этих строк"
   ]
  },
  {
   "cell_type": "code",
   "execution_count": 32,
   "id": "4c7c9aa9-6199-4f81-acb7-2ab36c198536",
   "metadata": {},
   "outputs": [
    {
     "name": "stdin",
     "output_type": "stream",
     "text": [
      " 3\n",
      " 12\n",
      " hello\n",
      " -1\n"
     ]
    },
    {
     "name": "stdout",
     "output_type": "stream",
     "text": [
      "['12', 'hello', '-1']\n"
     ]
    }
   ],
   "source": [
    "n = int(input())\n",
    "lst = []\n",
    "for i in range(n):\n",
    "    lst.append(input())\n",
    "print(lst)\n"
   ]
  },
  {
   "cell_type": "markdown",
   "id": "011aa953-a8ae-49b4-83b2-eb6f023d3768",
   "metadata": {},
   "source": [
    "### Разбор ДЗ"
   ]
  },
  {
   "cell_type": "markdown",
   "id": "1a05312d-9c2e-409c-875f-636332ae14c6",
   "metadata": {},
   "source": [
    "#### ДЗ 15"
   ]
  },
  {
   "cell_type": "markdown",
   "id": "0cb29005-b5c4-418f-957b-d838eae7be5e",
   "metadata": {},
   "source": [
    "1. Напишите функцию, которая принимает список кортежей от пользователя, где каждый кортеж содержит информацию о студенте (имя, возраст, средний балл). Программа должна вывести на экран имена студентов, чей средний балл выше заданного значения. Используйте методы кортежей и циклы для обработки данных.Выведите итоговый список на экран с помощью команды print.\n",
    "\n",
    "Пример списка кортежей:\n",
    "\n",
    "[(\"Alice\", 20, 90), (\"Bob\", 19, 80), (\"Charlie\", 21, 95), (\"David\", 18, 85)]\n",
    "\n",
    "Пример вывода:\n",
    "\n",
    "Введите пороговое значение среднего балла: 90\n",
    "Студенты с средним баллом выше 90 : ['Charlie']"
   ]
  },
  {
   "cell_type": "code",
   "execution_count": 33,
   "id": "fb63244d-aeb5-463a-b44b-2e6ce9363972",
   "metadata": {},
   "outputs": [],
   "source": [
    "# инициализация в программе\n",
    "lst = [(\"Alice\", 20, 90), (\"Bob\", 19, 80), (\"Charlie\", 21, 95), (\"David\", 18, 85)]"
   ]
  },
  {
   "cell_type": "code",
   "execution_count": 39,
   "id": "3126db0f-dfeb-407c-a15c-89cdb6228106",
   "metadata": {},
   "outputs": [
    {
     "name": "stdin",
     "output_type": "stream",
     "text": [
      " 2\n",
      "Введите имя a\n",
      "Введите возраст 7\n",
      "Введите балл 90\n",
      "Введите имя b\n",
      "Введите возраст 23\n",
      "Введите балл 99\n"
     ]
    },
    {
     "name": "stdout",
     "output_type": "stream",
     "text": [
      "[('a', 7, 90), ('b', 23, 99)]\n"
     ]
    }
   ],
   "source": [
    "# ввод данных от пользователя\n",
    "persons_info = []\n",
    "n = int(input())\n",
    "for i in range(n):\n",
    "    name = input('Введите имя')\n",
    "    age = int(input('Введите возраст'))\n",
    "    score = int(input('Введите балл'))\n",
    "    tpl = (name, age, score)\n",
    "    persons_info.append(tpl)\n",
    "print(persons_info)\n"
   ]
  },
  {
   "cell_type": "code",
   "execution_count": 43,
   "id": "bee7b231-66f9-4e3d-9184-73c3ca26901b",
   "metadata": {},
   "outputs": [
    {
     "name": "stdin",
     "output_type": "stream",
     "text": [
      "Введите пороговое значение в баллах 96\n"
     ]
    },
    {
     "name": "stdout",
     "output_type": "stream",
     "text": [
      "нет таких людей\n"
     ]
    }
   ],
   "source": [
    "treshold = int(input('Введите пороговое значение в баллах'))\n",
    "lst = [(\"Alice\", 20, 90), (\"Bob\", 19, 80), (\"Charlie\", 21, 95), (\"David\", 18, 85)]\n",
    "\n",
    "def name_lst(lst):\n",
    "    lst_name = []\n",
    "    for elem in lst:\n",
    "        if elem[2] > treshold:\n",
    "            lst_name.append(elem[0])\n",
    "    if len(lst_name) == 0:\n",
    "        return 'нет таких людей'\n",
    "    else:\n",
    "        return lst_name\n",
    "\n",
    "\n",
    "print(name_lst(lst))\n"
   ]
  },
  {
   "cell_type": "markdown",
   "id": "89d64c47-5d3b-4a6c-ae3c-a7e31136d9a7",
   "metadata": {},
   "source": [
    "2. Напишите программу, которая принимает строку от пользователя и разбивает ее на отдельные слова. Затем программа должна создать новый кортеж, содержащий длину каждого слова в исходной строке. Используйте методы строк и кортежей для обработки данных.\n",
    "\n",
    "Пример вывода:\n",
    "\n",
    "Введите предложение: Программирование это интересно и полезно\n",
    "Длины слов в предложении: (15, 3, 8, 1, 7)"
   ]
  },
  {
   "cell_type": "code",
   "execution_count": null,
   "id": "394f93d7-b90d-4dda-9ffb-752cf2bd9d93",
   "metadata": {},
   "outputs": [],
   "source": []
  },
  {
   "cell_type": "markdown",
   "id": "4f2fdb65-7325-4a7a-8516-8a652bb3514a",
   "metadata": {},
   "source": [
    "#### ДЗ 16"
   ]
  },
  {
   "cell_type": "markdown",
   "id": "fd1e2db2-7597-4426-b682-d67d428ad8d6",
   "metadata": {},
   "source": [
    "Напишите программу, которая принимает матрицу (вложенный список) от пользователя и находит сумму всех элементов в матрице. Используйте вложенные списки и циклы для обхода элементов матрицы.\n",
    "\n",
    "Пример матрицы: [[1, 2, 3], [4, 5, 6], [7, 8, 9]]\n",
    "Пример вывода:\n",
    "Сумма элементов в матрице: 45"
   ]
  },
  {
   "cell_type": "code",
   "execution_count": null,
   "id": "aef2c1bf-8a44-4ef5-8042-65f9cb8bedf0",
   "metadata": {},
   "outputs": [],
   "source": []
  },
  {
   "cell_type": "markdown",
   "id": "ee564c03-1203-48a0-97c0-fda673784104",
   "metadata": {},
   "source": [
    "Напишите программу, которая принимает список чисел от пользователя и сортирует его в порядке убывания, используя метод sort() и параметр reverse=True. Выведите отсортированный список на экран.\n",
    "\n",
    "Пример вывода:\n",
    "Введите список чисел, разделенных пробелами: 5 2 8 1 3\n",
    "Отсортированный список чисел: [8, 5, 3, 2, 1]"
   ]
  },
  {
   "cell_type": "code",
   "execution_count": null,
   "id": "f4fddff6-e841-4309-9453-e0d52a5dd4a5",
   "metadata": {},
   "outputs": [],
   "source": []
  }
 ],
 "metadata": {
  "kernelspec": {
   "display_name": "Python 3 (ipykernel)",
   "language": "python",
   "name": "python3"
  },
  "language_info": {
   "codemirror_mode": {
    "name": "ipython",
    "version": 3
   },
   "file_extension": ".py",
   "mimetype": "text/x-python",
   "name": "python",
   "nbconvert_exporter": "python",
   "pygments_lexer": "ipython3",
   "version": "3.12.4"
  }
 },
 "nbformat": 4,
 "nbformat_minor": 5
}
