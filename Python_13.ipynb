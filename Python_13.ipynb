{
 "cells": [
  {
   "cell_type": "markdown",
   "id": "80705ebd-23e4-4f1e-9145-608235fcc53a",
   "metadata": {},
   "source": [
    "# Функции"
   ]
  },
  {
   "cell_type": "markdown",
   "id": "cefa4226-1b21-49b8-a9ef-e5aaa3a132a3",
   "metadata": {},
   "source": [
    "**Функция** - это блок кода, который выполняет определенную задачу и может быть многократно использован в программе. Она представляет собой некоторую последовательность инструкций, объединенных под одним именем. Использование функций позволяет улучшить структуру и модульность программы, повторно использовать код и упростить его поддержку и отладку."
   ]
  },
  {
   "cell_type": "markdown",
   "id": "534e23a8-7c5a-4b90-b49f-df2f281d7816",
   "metadata": {},
   "source": [
    "*Пример программы без функций*"
   ]
  },
  {
   "cell_type": "markdown",
   "id": "4e10bee4-c8e9-4fed-badd-6d7eddbb1127",
   "metadata": {},
   "source": [
    "*Задача:* Вычислить выражение $$\\frac{n! - 3^3 + sin(2)}{k!(n-1!) + 23^2}$$\n",
    "*n, k* - задается с клавиатуры"
   ]
  },
  {
   "cell_type": "markdown",
   "id": "2543b3f3-c8fb-4fe2-b86c-344b103d6957",
   "metadata": {},
   "source": [
    "Решаем без пользовательских функций ))"
   ]
  },
  {
   "cell_type": "code",
   "execution_count": 38,
   "id": "3c8afff4-3b65-4314-a5cb-03db0cefe37a",
   "metadata": {},
   "outputs": [
    {
     "name": "stdin",
     "output_type": "stream",
     "text": [
      " 4\n",
      " 5\n"
     ]
    },
    {
     "name": "stdout",
     "output_type": "stream",
     "text": [
      "result=-0.0016739011794830408\n"
     ]
    }
   ],
   "source": [
    "import math\n",
    "\n",
    "n = int(input())\n",
    "k = int(input())\n",
    "\n",
    "fact_n = 1\n",
    "for i in range(2,n+1): #i=2,3,4,...,n\n",
    "    fact_n *= i # fact_n = 1*2*3*4*...*n\n",
    "\n",
    "fact_k = 1\n",
    "for i in range(2,k+1):\n",
    "    fact_k *= i\n",
    "\n",
    "fact_n1 = 1\n",
    "for i in range(2,n):\n",
    "    fact_n1 *= i\n",
    "\n",
    "result = (fact_n - 3**3 + math.sin(2))/(fact_k*fact_n1 + 23**2)\n",
    "print(f'result={result}')"
   ]
  },
  {
   "cell_type": "markdown",
   "id": "390cdd27-0bff-4b98-8d45-ce46c19b41a3",
   "metadata": {},
   "source": [
    "Переместимся в ближайшее будушее )). Представим, что мы знаем как писать пользовательские функции. Перепишем программу."
   ]
  },
  {
   "cell_type": "code",
   "execution_count": 1,
   "id": "5e0fb24a-cfae-4eed-b8cd-db3b5b88e767",
   "metadata": {},
   "outputs": [
    {
     "name": "stdin",
     "output_type": "stream",
     "text": [
      " 2\n",
      " 3\n"
     ]
    },
    {
     "name": "stdout",
     "output_type": "stream",
     "text": [
      "result=-0.04502935060406415\n"
     ]
    }
   ],
   "source": [
    "import math\n",
    "\n",
    "def fact(a):\n",
    "    f = 1\n",
    "    for i in range(2,a+1):\n",
    "        f *= i\n",
    "    return f\n",
    "\n",
    "n = int(input())\n",
    "k = int(input())\n",
    "result = (fact(n) - 3**3 + math.sin(2))/(fact(k)*fact(n-1) + 23**2)\n",
    "print(f'result={result}')"
   ]
  },
  {
   "cell_type": "code",
   "execution_count": null,
   "id": "928a4708-d39a-4d57-8af2-0ad070b458d1",
   "metadata": {},
   "outputs": [],
   "source": []
  },
  {
   "cell_type": "markdown",
   "id": "c236c07b-93b5-4624-8c65-2dc21d43e49c",
   "metadata": {},
   "source": [
    "### Синтаксис функции:\n",
    "для создания функции в Python используется ключевое слово def, за которым следует имя функции, список параметров в круглых скобках и двоеточие. Затем идет блок кода, который выполняется при вызове функции. Оператор return используется для возвращения значения из функции. Например:"
   ]
  },
  {
   "cell_type": "code",
   "execution_count": 40,
   "id": "c4cac74d-01c5-47c0-8b35-7f55dde9359b",
   "metadata": {},
   "outputs": [],
   "source": [
    "def greet(name):\n",
    "    message = \"Hello, \" + name + \"!\"\n",
    "    return message\n"
   ]
  },
  {
   "cell_type": "code",
   "execution_count": 41,
   "id": "39669bfe-2f56-427b-8b25-1fdf507fcaec",
   "metadata": {},
   "outputs": [
    {
     "name": "stdout",
     "output_type": "stream",
     "text": [
      "Hello, John!\n"
     ]
    }
   ],
   "source": [
    "print(greet('John'))"
   ]
  },
  {
   "cell_type": "code",
   "execution_count": 42,
   "id": "11e14bc9-2cb4-413a-b38c-7dfcb519a063",
   "metadata": {},
   "outputs": [
    {
     "name": "stdout",
     "output_type": "stream",
     "text": [
      "Hello, Alla!\n"
     ]
    }
   ],
   "source": [
    "print(greet('Alla'))"
   ]
  },
  {
   "cell_type": "markdown",
   "id": "3ef2ae64-069e-4a8e-ae67-acd2845a8f6b",
   "metadata": {},
   "source": [
    "### Задание для закрепления\n",
    "Что выведет следующий код:/"
   ]
  },
  {
   "cell_type": "code",
   "execution_count": 45,
   "id": "170551d7-8b8e-4177-a775-e0b8b20a1e7d",
   "metadata": {},
   "outputs": [
    {
     "name": "stdout",
     "output_type": "stream",
     "text": [
      "result1 = hihi\n",
      "result2 = 10\n"
     ]
    }
   ],
   "source": [
    "def double(number): # функция увеливает значение параметра в 2 раза\n",
    "    return 2 * number\n",
    " \n",
    "result1 = double('hi') \t\n",
    "result2 = double(5) \t\n",
    "print(f\"result1 = {result1}\")   \n",
    "print(f\"result2 = {result2}\")"
   ]
  },
  {
   "cell_type": "code",
   "execution_count": null,
   "id": "9abeeb1a-b278-4045-8f8d-3d212c2f701a",
   "metadata": {},
   "outputs": [],
   "source": []
  },
  {
   "cell_type": "markdown",
   "id": "6c44fdfd-76e1-4b47-b575-d1217dccec2e",
   "metadata": {},
   "source": [
    "### Примеры пользовательских функций"
   ]
  },
  {
   "cell_type": "code",
   "execution_count": 48,
   "id": "ae12d9d7-3f25-468e-86b1-7dcf2b0cf17d",
   "metadata": {},
   "outputs": [
    {
     "name": "stdout",
     "output_type": "stream",
     "text": [
      "25\n"
     ]
    }
   ],
   "source": [
    "# создаем функцию\n",
    "\n",
    "def square(number):\n",
    "    result = number ** 2\n",
    "    return result\n",
    "\n",
    "#print(square(10))\n",
    "\n",
    "my_square = square(-5)\n",
    "print(my_square)"
   ]
  },
  {
   "cell_type": "code",
   "execution_count": null,
   "id": "debd5a58-f66c-4b97-a4a4-a1ebd9a051eb",
   "metadata": {},
   "outputs": [],
   "source": []
  },
  {
   "cell_type": "markdown",
   "id": "270872f5-a0f8-4a96-9564-632c671b6fe8",
   "metadata": {},
   "source": [
    "Функция суммы трех аргументов"
   ]
  },
  {
   "cell_type": "code",
   "execution_count": 51,
   "id": "75be4381-8ceb-478f-b1da-568082fc46ae",
   "metadata": {},
   "outputs": [
    {
     "name": "stdin",
     "output_type": "stream",
     "text": [
      " 1\n",
      " 2\n",
      " 3\n",
      " 4\n"
     ]
    },
    {
     "ename": "TypeError",
     "evalue": "sum3() takes 3 positional arguments but 4 were given",
     "output_type": "error",
     "traceback": [
      "\u001b[1;31m---------------------------------------------------------------------------\u001b[0m",
      "\u001b[1;31mTypeError\u001b[0m                                 Traceback (most recent call last)",
      "Cell \u001b[1;32mIn[51], line 9\u001b[0m\n\u001b[0;32m      7\u001b[0m c \u001b[38;5;241m=\u001b[39m \u001b[38;5;28mint\u001b[39m(\u001b[38;5;28minput\u001b[39m())\n\u001b[0;32m      8\u001b[0m d \u001b[38;5;241m=\u001b[39m \u001b[38;5;28mint\u001b[39m(\u001b[38;5;28minput\u001b[39m())\n\u001b[1;32m----> 9\u001b[0m \u001b[38;5;28mprint\u001b[39m(sum3(a,b,c,d))\n",
      "\u001b[1;31mTypeError\u001b[0m: sum3() takes 3 positional arguments but 4 were given"
     ]
    }
   ],
   "source": [
    "def sum3(num1, num2, num3):      #описание функции\n",
    "    result = num1 + num2 + num3\n",
    "    return result\n",
    "\n",
    "a = int(input())                 # программа\n",
    "b = int(input())\n",
    "c = int(input())\n",
    "d = int(input())\n",
    "print(sum3(a,b,c,d))\n"
   ]
  },
  {
   "cell_type": "code",
   "execution_count": 49,
   "id": "c8634718-604e-4b31-9dcb-b95b8a01aea5",
   "metadata": {},
   "outputs": [
    {
     "data": {
      "text/plain": [
       "40"
      ]
     },
     "execution_count": 49,
     "metadata": {},
     "output_type": "execute_result"
    }
   ],
   "source": []
  },
  {
   "cell_type": "markdown",
   "id": "fb211aee-a3de-4218-ae25-356ebad18b73",
   "metadata": {},
   "source": [
    "Вывод текстового блока, комментирующего значения переменных"
   ]
  },
  {
   "cell_type": "code",
   "execution_count": 54,
   "id": "9ced9956-93f4-4c00-aed7-7a6820a98560",
   "metadata": {},
   "outputs": [],
   "source": [
    "def age_name(age, name):\n",
    "    print(f'Привет {name}, тебе {age} годиков')"
   ]
  },
  {
   "cell_type": "code",
   "execution_count": 55,
   "id": "a9018916-14aa-49ee-9183-dea0af9ff404",
   "metadata": {},
   "outputs": [
    {
     "name": "stdout",
     "output_type": "stream",
     "text": [
      "Привет Филипп, тебе 23 годиков\n"
     ]
    }
   ],
   "source": [
    "age_name(23, 'Филипп')"
   ]
  },
  {
   "cell_type": "code",
   "execution_count": 56,
   "id": "73a61702-2c86-482a-8ffe-3dc6f1403e54",
   "metadata": {},
   "outputs": [
    {
     "name": "stdout",
     "output_type": "stream",
     "text": [
      "Привет Алла, тебе 76 годиков\n"
     ]
    }
   ],
   "source": [
    "age_name(76, 'Алла')"
   ]
  },
  {
   "cell_type": "code",
   "execution_count": null,
   "id": "0b362cdd-f8b2-4df3-9976-28e0ed7d6c82",
   "metadata": {},
   "outputs": [],
   "source": []
  },
  {
   "cell_type": "markdown",
   "id": "ef63dc3f-0512-4eda-92d8-be846f98ec40",
   "metadata": {},
   "source": [
    "Количество гласных в слове"
   ]
  },
  {
   "cell_type": "code",
   "execution_count": 57,
   "id": "a64debc5-7cd6-463f-9343-00d53e0053a9",
   "metadata": {},
   "outputs": [],
   "source": [
    "def cnt_gl(s):\n",
    "    gl = 'euiayo'\n",
    "    cnt=0\n",
    "    for ch in s:\n",
    "        if ch in gl:\n",
    "            cnt+=1\n",
    "    return cnt"
   ]
  },
  {
   "cell_type": "code",
   "execution_count": null,
   "id": "91250b87-0ffe-41de-819e-2bdee58a6575",
   "metadata": {},
   "outputs": [],
   "source": [
    "print(cnt_gl('hello'))"
   ]
  },
  {
   "cell_type": "code",
   "execution_count": 60,
   "id": "7c909f88-e15d-4aee-abfb-e344c92dc1ff",
   "metadata": {},
   "outputs": [
    {
     "name": "stdin",
     "output_type": "stream",
     "text": [
      " hello\n"
     ]
    },
    {
     "name": "stdout",
     "output_type": "stream",
     "text": [
      "2\n"
     ]
    }
   ],
   "source": [
    "print(cnt_gl(input()))"
   ]
  },
  {
   "cell_type": "code",
   "execution_count": 59,
   "id": "1cd06cf9-e9f4-4920-b569-78a5d36f18cb",
   "metadata": {},
   "outputs": [
    {
     "name": "stdout",
     "output_type": "stream",
     "text": [
      "5\n"
     ]
    }
   ],
   "source": [
    "print(cnt_gl('abracadabra'))"
   ]
  },
  {
   "cell_type": "markdown",
   "id": "4315db53-8c88-4764-b53b-d5aaa5f648c1",
   "metadata": {},
   "source": [
    "Подсчет суммы цифр числа"
   ]
  },
  {
   "cell_type": "code",
   "execution_count": 62,
   "id": "18e12731-ddd2-40c9-8585-8bdca6961727",
   "metadata": {},
   "outputs": [],
   "source": [
    "def summ_dig(num):\n",
    "    summ = 0\n",
    "    for ch in str(num):\n",
    "        summ+=int(ch)\n",
    "    return summ"
   ]
  },
  {
   "cell_type": "code",
   "execution_count": 64,
   "id": "6bce6132-93d9-41dd-afa4-c6fadcb0a230",
   "metadata": {},
   "outputs": [
    {
     "name": "stdin",
     "output_type": "stream",
     "text": [
      " 123456789\n"
     ]
    },
    {
     "name": "stdout",
     "output_type": "stream",
     "text": [
      "45\n"
     ]
    }
   ],
   "source": [
    "print(summ_dig(int(input())))"
   ]
  },
  {
   "cell_type": "markdown",
   "id": "61cec296-c594-48b8-8b78-d50ef8465b80",
   "metadata": {},
   "source": [
    "Пример функции без аргументов ))"
   ]
  },
  {
   "cell_type": "code",
   "execution_count": 65,
   "id": "9e65036b-628f-45ff-9ff4-f6acfadf44f3",
   "metadata": {},
   "outputs": [],
   "source": [
    "def zvezda():\n",
    "    print('***************')"
   ]
  },
  {
   "cell_type": "code",
   "execution_count": 67,
   "id": "be3ce0e5-7904-4e4b-a43a-2ea35f8a11f3",
   "metadata": {},
   "outputs": [
    {
     "name": "stdout",
     "output_type": "stream",
     "text": [
      "0\n",
      "***************\n",
      "1\n",
      "***************\n",
      "2\n",
      "***************\n",
      "3\n",
      "***************\n",
      "4\n",
      "***************\n",
      "5\n",
      "***************\n",
      "6\n",
      "***************\n",
      "7\n",
      "***************\n",
      "8\n",
      "***************\n",
      "9\n",
      "***************\n"
     ]
    }
   ],
   "source": [
    "for i in range(10):\n",
    "    print(i)\n",
    "    zvezda()\n"
   ]
  },
  {
   "cell_type": "markdown",
   "id": "a0de6907-d3f8-4de1-bafe-706361afb19d",
   "metadata": {},
   "source": [
    "### Стек вызовов"
   ]
  },
  {
   "cell_type": "markdown",
   "id": "1e2ca3f2-49c6-4252-92cd-621db64c95d2",
   "metadata": {},
   "source": [
    "***Как работает стек вызовов:*** при вызове функции в Python создается новый фрейм (кадр) в стеке вызовов, который содержит локальные переменные функции и адрес возврата. При выполнении функции новые фреймы добавляются в стек, а при завершении функции соответствующий фрейм удаляется из стека. Таким образом, стек вызовов представляет собой структуру данных, которая отслеживает порядок вызова функций."
   ]
  },
  {
   "cell_type": "markdown",
   "id": "277d884e-2d23-4edd-9745-6270a3a1591e",
   "metadata": {},
   "source": [
    "Давайте разберемся, что такое стек вызовов в Python, на простых примерах.\n",
    "\n",
    "*Аналогия: Стопка блинов*\n",
    "\n",
    "Представьте себе стопку блинов. Вы кладете новый блин сверху, и когда берете блин, вы берете его тоже сверху. Стек вызовов работает по тому же принципу:\n",
    "\n",
    "* Добавление (push): Когда одна функция вызывает другую, новая функция \"кладется\" на вершину стека.\n",
    "\n",
    "* Удаление (pop): Когда функция завершает свою работу, она \"убирается\" с вершины стека, и управление возвращается к функции, которая ее вызвала.\n",
    "\n",
    "Что такое стек вызовов в Python (подробно)?\n",
    "\n",
    "Стек вызовов (call stack) — это структура данных, которую интерпретатор Python использует для отслеживания активных вызовов функций. Каждый раз, когда вызывается функция, в стек добавляется фрейм (frame), содержащий информацию об этом вызове, включая:\n",
    "\n",
    "* Локальные переменные: значения переменных, используемых внутри функции.\n",
    "\n",
    "* Адрес возврата: место в коде, куда нужно вернуться после завершения функции.\n",
    "\n",
    "* Аргументы: значения, переданные функции при вызове.\n",
    "\n",
    "Когда функция заканчивает свою работу (достигает return или конца тела функции), ее фрейм убирается со стека, и управление возвращается к вызывающей функции."
   ]
  },
  {
   "cell_type": "code",
   "execution_count": null,
   "id": "4f8b2b8c-5f3a-4dc0-aa99-d2401108531d",
   "metadata": {},
   "outputs": [],
   "source": [
    "def function_a():\n",
    "    print(\"Начало function_a\")\n",
    "    function_b()\n",
    "    print(\"Конец function_a\")\n",
    "\n",
    "def function_b():\n",
    "    print(\"Начало function_b\")\n",
    "    print(\"Конец function_b\")\n",
    "\n",
    "print(\"Начало программы\")\n",
    "function_a()\n",
    "print(\"Конец программы\")"
   ]
  },
  {
   "cell_type": "markdown",
   "id": "6a80ea11-ae4e-430f-86a3-941766847b0c",
   "metadata": {},
   "source": [
    "Как работает стек:\n",
    "* Начало программы: Сначала в стек помещается фрейм для глобальной области видимости (обычно обозначается как <module>).\n",
    " \n",
    "* Вызов function_a(): В стек добавляется фрейм для function_a(). Выводится \"Начало function_a\".\n",
    "\n",
    "* Вызов function_b(): В стек добавляется фрейм для function_b(). Выводится \"Начало function_b\".\n",
    "\n",
    "* Завершение function_b(): Фрейм function_b() убирается из стека. Выводится \"Конец function_b\". Управление возвращается в function_a().\n",
    "\n",
    "* Завершение function_a(): Выводится \"Конец function_a\". Фрейм function_a() убирается из стека.\n",
    "\n",
    "* Завершение программы: Выводится \"Конец программы\". Фрейм <module> убирается из стека."
   ]
  },
  {
   "cell_type": "markdown",
   "id": "c7b42237-64f7-449b-9174-e0ef20d9dc55",
   "metadata": {},
   "source": [
    "Визуализация процесса:"
   ]
  },
  {
   "cell_type": "markdown",
   "id": "dcbe4ff7-510c-4afc-a6dc-f3167cccdc4f",
   "metadata": {},
   "source": [
    "https://pythontutor.com/render.html#mode=display"
   ]
  },
  {
   "cell_type": "markdown",
   "id": "4cfeec06-e49b-4d89-ad63-3a1e216ff80c",
   "metadata": {},
   "source": [
    "## Понятие глобальных и локальных переменных:\n",
    "в Python переменные могут быть глобальными или локальными."
   ]
  },
  {
   "cell_type": "markdown",
   "id": "8c35dde9-ac80-4763-81b1-0628e1524888",
   "metadata": {},
   "source": [
    "Глобальные переменные объявляются вне функций и доступны из любой части программы."
   ]
  },
  {
   "cell_type": "code",
   "execution_count": 72,
   "id": "07f9ae18-648d-4875-abb4-750272af9fd0",
   "metadata": {},
   "outputs": [
    {
     "name": "stdout",
     "output_type": "stream",
     "text": [
      "15\n"
     ]
    }
   ],
   "source": [
    "def summa(a,b):\n",
    "    su = a+b # s - локальная\n",
    "    return su\n",
    "\n",
    "n = 5      # глобальная\n",
    "k = 10     # глобальная\n",
    "print(summa(n,k))"
   ]
  },
  {
   "cell_type": "code",
   "execution_count": 73,
   "id": "889a1ce9-b0df-464c-a09f-0b74e2b9879d",
   "metadata": {},
   "outputs": [
    {
     "ename": "NameError",
     "evalue": "name 'su' is not defined",
     "output_type": "error",
     "traceback": [
      "\u001b[1;31m---------------------------------------------------------------------------\u001b[0m",
      "\u001b[1;31mNameError\u001b[0m                                 Traceback (most recent call last)",
      "Cell \u001b[1;32mIn[73], line 1\u001b[0m\n\u001b[1;32m----> 1\u001b[0m \u001b[38;5;28mprint\u001b[39m(su)\n",
      "\u001b[1;31mNameError\u001b[0m: name 'su' is not defined"
     ]
    }
   ],
   "source": [
    "print(su)"
   ]
  },
  {
   "cell_type": "markdown",
   "id": "aaa5329f-275e-4434-955c-91ab11378ae5",
   "metadata": {},
   "source": [
    "Локальные переменные объявляются внутри функций и доступны только в пределах этих функций."
   ]
  },
  {
   "cell_type": "code",
   "execution_count": null,
   "id": "26719180-b2fb-4aa5-ae5c-d83da4590449",
   "metadata": {},
   "outputs": [],
   "source": []
  },
  {
   "cell_type": "code",
   "execution_count": 74,
   "id": "689bdb5d-8c6d-4ced-a817-5df8e057e57b",
   "metadata": {},
   "outputs": [
    {
     "name": "stdout",
     "output_type": "stream",
     "text": [
      "36\n",
      "125\n"
     ]
    }
   ],
   "source": [
    "number = 5 # глобальные переменные\n",
    "power = 3\n",
    "\n",
    "def power_2():\n",
    "    number = 6 # локальные переменные\n",
    "    power = 2\n",
    "    return number ** power\n",
    "\n",
    "print(power_2())\n",
    "print(number ** power)"
   ]
  },
  {
   "cell_type": "markdown",
   "id": "af69d216-5779-4c29-bfd0-e79e974d70ba",
   "metadata": {},
   "source": [
    "При обращении к переменной внутри функции, Python сначала ищет ее в локальной области видимости, а затем в глобальной. Если переменная не найдена ни в одной из областей видимости, возникает ошибка."
   ]
  },
  {
   "cell_type": "code",
   "execution_count": 78,
   "id": "35e1a799-acc9-42c2-bead-dc5c8e797fb6",
   "metadata": {},
   "outputs": [
    {
     "name": "stdout",
     "output_type": "stream",
     "text": [
      "216\n",
      "125\n"
     ]
    }
   ],
   "source": [
    "number = 5\n",
    "power = 3\n",
    "\n",
    "def power_2():\n",
    "    number = 6\n",
    "    return number ** power\n",
    "\n",
    "print(power_2())\n",
    "print(number ** power)"
   ]
  },
  {
   "cell_type": "code",
   "execution_count": 79,
   "id": "b562c705-6f76-4de0-9687-18cde2c48e86",
   "metadata": {},
   "outputs": [
    {
     "data": {
      "text/plain": [
       "125"
      ]
     },
     "execution_count": 79,
     "metadata": {},
     "output_type": "execute_result"
    }
   ],
   "source": [
    "number = 5\n",
    "power = 3\n",
    "\n",
    "def power_2():\n",
    "    return number ** power\n",
    "\n",
    "power_2()"
   ]
  },
  {
   "cell_type": "code",
   "execution_count": 80,
   "id": "7781cbaa-aef7-4f53-b1a2-35a2d7c4746b",
   "metadata": {},
   "outputs": [
    {
     "name": "stdout",
     "output_type": "stream",
     "text": [
      "36\n"
     ]
    },
    {
     "ename": "NameError",
     "evalue": "name 'some_number' is not defined",
     "output_type": "error",
     "traceback": [
      "\u001b[1;31m---------------------------------------------------------------------------\u001b[0m",
      "\u001b[1;31mNameError\u001b[0m                                 Traceback (most recent call last)",
      "Cell \u001b[1;32mIn[80], line 8\u001b[0m\n\u001b[0;32m      5\u001b[0m     \u001b[38;5;28;01mreturn\u001b[39;00m number \u001b[38;5;241m*\u001b[39m\u001b[38;5;241m*\u001b[39m power\n\u001b[0;32m      7\u001b[0m \u001b[38;5;28mprint\u001b[39m(power_2())\n\u001b[1;32m----> 8\u001b[0m \u001b[38;5;28mprint\u001b[39m(some_number)\n",
      "\u001b[1;31mNameError\u001b[0m: name 'some_number' is not defined"
     ]
    }
   ],
   "source": [
    "def power_2():\n",
    "    number = 6\n",
    "    power = 2\n",
    "    some_number = 1\n",
    "    return number ** power\n",
    "    \n",
    "print(power_2())\n",
    "print(some_number)"
   ]
  },
  {
   "cell_type": "code",
   "execution_count": 81,
   "id": "90f7adeb-d2d8-45c7-a1de-d487b11c771f",
   "metadata": {},
   "outputs": [
    {
     "name": "stdout",
     "output_type": "stream",
     "text": [
      "Hello Oleg\n",
      "James\n"
     ]
    }
   ],
   "source": [
    "\n",
    "\n",
    "name = 'James'\n",
    "\n",
    "def say_hi():\n",
    "    name = 'Oleg'\n",
    "    print('Hello', name)\n",
    "\n",
    "say_hi()\n",
    "\n",
    "print(name)"
   ]
  },
  {
   "cell_type": "markdown",
   "id": "25822b25-22a1-42bb-b924-4c978284b39a",
   "metadata": {},
   "source": [
    "### Ключевое слово global:\n",
    "если внутри функции необходимо изменить значение глобальной переменной, можно использовать ключевое слово global. Оно указывает Python, что при присваивании нового значения переменной, оно должно быть применено к глобальной переменной, а не создано новая локальная переменная с таким же именем.\n"
   ]
  },
  {
   "cell_type": "code",
   "execution_count": 82,
   "id": "347ca1e7-9150-4363-9134-2b9e5ac123d7",
   "metadata": {},
   "outputs": [
    {
     "name": "stdout",
     "output_type": "stream",
     "text": [
      "Hello Oleg\n",
      "Oleg\n"
     ]
    }
   ],
   "source": [
    "# global и nonlocal\n",
    "\n",
    "name = 'James'\n",
    "\n",
    "def say_hi():\n",
    "    global name\n",
    "    name = 'Oleg'\n",
    "    print('Hello', name)\n",
    "\n",
    "say_hi()\n",
    "\n",
    "print(name)"
   ]
  },
  {
   "cell_type": "code",
   "execution_count": null,
   "id": "fd6aed9f-fc4b-46a9-b0f2-27380250bdcb",
   "metadata": {},
   "outputs": [],
   "source": []
  },
  {
   "cell_type": "markdown",
   "id": "0d5ab1b3-1b05-4131-adb7-bc633c4faf29",
   "metadata": {},
   "source": [
    "### Понятие пространства имён:\n",
    "каждая функция в Python имеет свое собственное пространство имён, где она хранит свои локальные переменные и другие объекты. Пространства имен представляют собой словари, где имена переменных связаны с их значениями. Вложенные функции могут иметь доступ к переменным внешних функций, но не наоборот. Это называется правилом области видимости (LEGB - Local, Enclosing, Global, Built-in).\r\n"
   ]
  },
  {
   "cell_type": "markdown",
   "id": "cde9c4e1-b998-41ba-be0c-f4963c5c268a",
   "metadata": {},
   "source": [
    "🤓Задаем одинаковые имена у глобальных и локальных переменных, а также у аргументов функций. Показываем различные комбинации."
   ]
  },
  {
   "attachments": {
    "ddbdd69c-3520-42a5-84b3-bc2477f18e18.png": {
     "image/png": "[encoded data removed]"
    }
   },
   "cell_type": "markdown",
   "id": "67ff60b1-0717-43ed-a189-530a5c9d4d59",
   "metadata": {},
   "source": [
    "![image.png](attachment:ddbdd69c-3520-42a5-84b3-bc2477f18e18.png)"
   ]
  },
  {
   "cell_type": "markdown",
   "id": "8a040101-369e-4db0-a5cb-6307151a370d",
   "metadata": {},
   "source": [
    "Это правило определяет, в каком порядке Python ищет имена (переменные, функции, и т.д.) в коде.\n",
    "\n",
    "Основные понятия:\n",
    "\n",
    "1. Local (Локальная область видимости):\n",
    "\n",
    "* Это область видимости внутри функции.\n",
    "\n",
    "* Переменные, определенные внутри функции, доступны только внутри этой функции.\n",
    "\n",
    "* Они создаются при вызове функции и уничтожаются после ее завершения.\n",
    "\n",
    "2. Enclosing (Замыкающая область видимости):\n",
    "\n",
    "* Это область видимости вложенной функции.\n",
    "\n",
    "* Если функция определена внутри другой функции (вложенная функция), она имеет доступ к переменным из \"объемлющей\" функции.\n",
    "\n",
    "3. Global (Глобальная область видимости):\n",
    "\n",
    "* Это область видимости на верхнем уровне модуля (вне всех функций или классов).\n",
    "\n",
    "* Переменные, определенные в глобальной области, доступны в любом месте модуля, включая функции.\n",
    "\n",
    "4. Built-in (Встроенная область видимости):\n",
    "\n",
    "* Это область видимости, содержащая встроенные в Python имена, такие как функции (print, len, abs, str, int и т.д.) и константы (True, False, None).\n",
    "\n",
    "* Они доступны в любом месте программы без явного объявления.\n",
    "\n",
    "Правило LEGB:\n",
    "\n",
    "Когда Python встречает имя, он ищет его в следующем порядке:\n",
    "\n",
    "1. Local: Сначала ищется в локальной области видимости, т.е., в текущей функции.\n",
    "\n",
    "2. Enclosing: Если имя не найдено в локальной области, Python ищет его в замыкающих областях (если есть вложенные функции).\n",
    "\n",
    "3. Global: Если имя не найдено в замыкающей области, Python ищет его в глобальной области модуля.\n",
    "\n",
    "4. Built-in: Если имя не найдено в глобальной области, Python ищет его во встроенной области (встроенные имена)."
   ]
  },
  {
   "cell_type": "markdown",
   "id": "1407b2a6-bc4a-4585-9784-a36149d118e5",
   "metadata": {},
   "source": [
    "Пример 1: Local область видимости"
   ]
  },
  {
   "cell_type": "code",
   "execution_count": 83,
   "id": "8c0048a2-92bf-4198-a3aa-779cf63e50ec",
   "metadata": {},
   "outputs": [
    {
     "name": "stdout",
     "output_type": "stream",
     "text": [
      "10\n"
     ]
    }
   ],
   "source": [
    "def my_function():\n",
    "  x = 10  # Локальная переменная x\n",
    "  print(x)\n",
    "\n",
    "my_function()  # Выведет 10\n",
    "\n",
    "# print(x)  # Вызовет NameError, т.к. переменная x не видна за пределами функции"
   ]
  },
  {
   "cell_type": "markdown",
   "id": "1d293a21-677d-40ea-b5be-2026c0a83ea5",
   "metadata": {},
   "source": [
    "Пример 2: Enclosing область видимости"
   ]
  },
  {
   "cell_type": "code",
   "execution_count": 86,
   "id": "033a17a0-c70a-41b7-bdb0-941bd75f8179",
   "metadata": {},
   "outputs": [
    {
     "name": "stdout",
     "output_type": "stream",
     "text": [
      "20\n"
     ]
    }
   ],
   "source": [
    "def outer_function():\n",
    "  y = 20  # Переменная в объемлющей функции\n",
    "\n",
    "  def inner_function():\n",
    "    print(y)  # Доступ к переменной y из объемлющей функции\n",
    "\n",
    "  inner_function()\n",
    "\n",
    "outer_function() # Выведет 20"
   ]
  },
  {
   "cell_type": "markdown",
   "id": "ae92ff1f-5966-4ae8-b660-73887d1eb958",
   "metadata": {},
   "source": [
    "Пример 3: Global область видимости"
   ]
  },
  {
   "cell_type": "code",
   "execution_count": 17,
   "id": "58cb0a8e-5e79-4fab-bf58-aea8491eab6a",
   "metadata": {},
   "outputs": [
    {
     "name": "stdout",
     "output_type": "stream",
     "text": [
      "30\n",
      "30\n"
     ]
    }
   ],
   "source": [
    "z = 30  # Глобальная переменная z\n",
    "\n",
    "def another_function():\n",
    "  print(z)  # Доступ к глобальной переменной z\n",
    "\n",
    "another_function() # Выведет 30\n",
    "print(z) # Выведет 30"
   ]
  },
  {
   "cell_type": "markdown",
   "id": "ff974b4a-d965-40b0-abee-8e3fe861047a",
   "metadata": {},
   "source": [
    "Пример 4: Built-in область видимости"
   ]
  },
  {
   "cell_type": "code",
   "execution_count": 87,
   "id": "b6f70bb2-e2ba-4615-8978-00f6dae813df",
   "metadata": {},
   "outputs": [
    {
     "name": "stdout",
     "output_type": "stream",
     "text": [
      "5\n",
      "5\n"
     ]
    }
   ],
   "source": [
    "print(len(\"hello\")) # Вызов встроенной функции len\n",
    "print(abs(-5)) # Вызов встроенной функции abs"
   ]
  },
  {
   "cell_type": "markdown",
   "id": "2b6b44dd-a217-4947-8cb9-7e3236fb7292",
   "metadata": {},
   "source": [
    "Функции len и abs являются встроенными и доступны в любой части вашего кода без дополнительного импорта или объявления."
   ]
  },
  {
   "cell_type": "markdown",
   "id": "6a08fd27-b6ca-405b-a92f-78d1448863be",
   "metadata": {},
   "source": [
    "#### Задания для закрепления"
   ]
  },
  {
   "cell_type": "code",
   "execution_count": 88,
   "id": "9c3b4077-fbf4-4081-a9d7-df8151b777fc",
   "metadata": {},
   "outputs": [
    {
     "name": "stdout",
     "output_type": "stream",
     "text": [
      "100\n",
      "2\n",
      "100\n",
      "4\n",
      "100\n",
      "6\n",
      "100\n",
      "8\n",
      "100\n",
      "10\n"
     ]
    }
   ],
   "source": [
    "def smth():\n",
    "    i=100\n",
    "    print(i)\n",
    "\n",
    "i=1\n",
    "for j in range(10):\n",
    "    if i%2==0:\n",
    "        print(i)\n",
    "    else:\n",
    "        smth()\n",
    "    i+=1\n"
   ]
  },
  {
   "cell_type": "code",
   "execution_count": 89,
   "id": "3faaf9c7-05e9-41a5-bd4b-bb5f40f3fee2",
   "metadata": {},
   "outputs": [
    {
     "name": "stdout",
     "output_type": "stream",
     "text": [
      "100\n",
      "100\n",
      "100\n",
      "100\n",
      "100\n",
      "100\n",
      "100\n",
      "100\n",
      "100\n",
      "100\n"
     ]
    }
   ],
   "source": [
    "def smth():\n",
    "    global i\n",
    "    i=100\n",
    "    print(i)\n",
    "\n",
    "i=1\n",
    "for j in range(10):\n",
    "    if i%2==0:\n",
    "        print(i)\n",
    "    else:\n",
    "        smth()\n",
    "    i+=1\n"
   ]
  },
  {
   "cell_type": "markdown",
   "id": "9c5ed4be-c482-45bb-8ba2-98b556bc968c",
   "metadata": {},
   "source": [
    "В коде программы определены две переменные, содержащие имена компаний. \n",
    "\n",
    "Посчитайте их общую длину в символах и выведите ее на экран.\n",
    "\n",
    "company1 = 'Apple'\n",
    "\n",
    "company2 = 'Samsung'"
   ]
  },
  {
   "cell_type": "code",
   "execution_count": 90,
   "id": "ffc2d5ee-bafb-49b3-857a-d6614c66481c",
   "metadata": {},
   "outputs": [
    {
     "name": "stdout",
     "output_type": "stream",
     "text": [
      "12\n"
     ]
    }
   ],
   "source": [
    "company1 = 'Apple'\n",
    "\n",
    "company2 = 'Samsung'\n",
    "print(len(company1) + len(company2))"
   ]
  },
  {
   "cell_type": "code",
   "execution_count": 91,
   "id": "b6009bbc-36be-4af1-acde-1ce5897b7588",
   "metadata": {},
   "outputs": [
    {
     "name": "stdout",
     "output_type": "stream",
     "text": [
      "12\n"
     ]
    }
   ],
   "source": [
    "def sum_len(s1,s2):\n",
    "    return len(s1) + len(s2)\n",
    "\n",
    "company1 = 'Apple'\n",
    "company2 = 'Samsung'\n",
    "print(sum_len(company1,company2))"
   ]
  },
  {
   "cell_type": "markdown",
   "id": "26dd207d-29b0-47bc-856f-fc962d942433",
   "metadata": {},
   "source": [
    "### Условные конструкции внутри функций"
   ]
  },
  {
   "cell_type": "markdown",
   "id": "04cb444c-e2d1-47aa-b679-a162956249f9",
   "metadata": {},
   "source": [
    " Условия внутри функции: внутри функций можно использовать условные конструкции, такие как if, elif, else, для выполнения различных блоков кода в зависимости от условий. "
   ]
  },
  {
   "cell_type": "code",
   "execution_count": 92,
   "id": "dc5d5bf5-fe2d-4488-b721-5363ae62e508",
   "metadata": {},
   "outputs": [],
   "source": [
    "def check_age(age):\n",
    "    if age >= 18:\n",
    "        return \"Adult\"\n",
    "    else:\n",
    "        return \"Minor\"\n"
   ]
  },
  {
   "cell_type": "code",
   "execution_count": 93,
   "id": "9584e091-58e2-4466-80de-a796561df090",
   "metadata": {},
   "outputs": [
    {
     "name": "stdout",
     "output_type": "stream",
     "text": [
      "Adult\n"
     ]
    }
   ],
   "source": [
    "print(check_age(40))"
   ]
  },
  {
   "cell_type": "code",
   "execution_count": 94,
   "id": "c9595092-6505-4af7-86e7-8decd6eb4d1f",
   "metadata": {},
   "outputs": [
    {
     "name": "stdout",
     "output_type": "stream",
     "text": [
      "Minor\n"
     ]
    }
   ],
   "source": [
    "print(check_age(4))"
   ]
  },
  {
   "cell_type": "markdown",
   "id": "c3292c3f-d822-484a-a9f3-6fa26f766276",
   "metadata": {},
   "source": [
    "### Передача параметров в функции:\n",
    "функции могут принимать параметры, которые являются значениями, передаваемыми в функцию при ее вызове. Параметры могут быть позиционными, когда их значения передаются в том же порядке, в котором они объявлены, или иметь значения по умолчанию. "
   ]
  },
  {
   "cell_type": "code",
   "execution_count": 95,
   "id": "fa252f31-ba02-4159-89ca-44511bd72f03",
   "metadata": {},
   "outputs": [],
   "source": [
    "def greet(name, greeting=\"Hello\"):\n",
    "    message = greeting + \", \" + name + \"!\"\n",
    "    return message\n"
   ]
  },
  {
   "cell_type": "code",
   "execution_count": 96,
   "id": "bc00481d-382b-4287-90b7-2bfece457a3c",
   "metadata": {},
   "outputs": [
    {
     "name": "stdout",
     "output_type": "stream",
     "text": [
      "Hi, Alla!\n"
     ]
    }
   ],
   "source": [
    "print(greet('Alla', 'Hi'))"
   ]
  },
  {
   "cell_type": "code",
   "execution_count": 98,
   "id": "6024815c-498e-4c69-a030-1518bee05dd8",
   "metadata": {},
   "outputs": [
    {
     "name": "stdout",
     "output_type": "stream",
     "text": [
      "Привет, Alla!\n"
     ]
    }
   ],
   "source": [
    "print(greet('Alla','Привет'))"
   ]
  },
  {
   "cell_type": "code",
   "execution_count": 99,
   "id": "bb5fb49c-1448-4563-86a4-574bf716aa27",
   "metadata": {},
   "outputs": [
    {
     "name": "stdout",
     "output_type": "stream",
     "text": [
      "Привет, Alla!\n"
     ]
    }
   ],
   "source": [
    "str = 'Привет'\n",
    "print(greet('Alla',str))"
   ]
  },
  {
   "cell_type": "markdown",
   "id": "f2f97177-f4f8-4bae-847b-c05d960ebba2",
   "metadata": {},
   "source": [
    "### Решение задач"
   ]
  },
  {
   "cell_type": "markdown",
   "id": "8dd2c3e1-b5e0-4854-81a0-9b3e85071a4a",
   "metadata": {},
   "source": [
    "1. \"Во входном файле задается число. Необходимо в выходной файл вывести треугольник Паскаля, который будет занимать верхний левый угол. Воспользуйтесь расчетом биномиального коэффициента в цикле.\""
   ]
  },
  {
   "cell_type": "code",
   "execution_count": 100,
   "id": "e35d651a-1bc0-4913-a952-6e40ef332f5c",
   "metadata": {},
   "outputs": [
    {
     "name": "stdout",
     "output_type": "stream",
     "text": [
      "1 4 6 4 1 \n",
      "1 3 3 1 \n",
      "1 2 1 \n",
      "1 1 \n",
      "1 \n"
     ]
    }
   ],
   "source": [
    "\n",
    "n = 5\n",
    "for i in range(n-1,-1,-1):\n",
    "    for j in range(i+1):\n",
    "        # nCr = n!/((n-r)!*r!)\n",
    "        print(fact(i)//(fact(j)*fact(i-j)), end=\" \")\n",
    "    print()"
   ]
  },
  {
   "cell_type": "code",
   "execution_count": 2,
   "id": "402bc75d-3b56-415f-be9e-04753814b4ef",
   "metadata": {},
   "outputs": [],
   "source": [
    "f = open('input.txt','r')\n",
    "n = int(f.readline())\n",
    "f.close()\n",
    "f = open('output.txt','w')\n",
    "for i in range(n-1,-1,-1):\n",
    "    s=''\n",
    "    for j in range(i+1):\n",
    "        # nCr = n!/((n-r)!*r!)\n",
    "        s += str(fact(i)//(fact(j)*fact(i-j))) + ' '\n",
    "    f.write(s)\n",
    "    #print(s)\n",
    "    f.write('\\n')\n",
    "f.close()\n"
   ]
  },
  {
   "cell_type": "code",
   "execution_count": null,
   "id": "5aeceee9-0692-4548-850d-90b18f9f8a9f",
   "metadata": {},
   "outputs": [],
   "source": []
  },
  {
   "cell_type": "markdown",
   "id": "8f8d2f21-c1c8-4445-956e-36148150f734",
   "metadata": {},
   "source": [
    "2. Дополнительно делаем так, чтобы треугольник Паскаля был выровнен по центру, т.е. был симметричен относительно вертикальной оси, проходящей через единицу на самой первой строке (сложное задание)\n"
   ]
  },
  {
   "cell_type": "code",
   "execution_count": 30,
   "id": "c4b578b3-77e1-4a89-99b8-672b2d55ff19",
   "metadata": {},
   "outputs": [
    {
     "name": "stdout",
     "output_type": "stream",
     "text": [
      "      1 \n",
      "     1 1 \n",
      "    1 2 1 \n",
      "   1 3 3 1 \n",
      "  1 4 6 4 1 \n"
     ]
    }
   ],
   "source": [
    "n = 5\n",
    "for i in range(n):\n",
    "    for j in range(n-i+1):\n",
    "        print(end=\" \")\n",
    "\n",
    "    for j in range(i+1):\n",
    "\n",
    "        # nCr = n!/((n-r)!*r!)\n",
    "        print(factorial(i)//(factorial(j)*factorial(i-j)), end=\" \")\n",
    "\n",
    "    print()"
   ]
  },
  {
   "cell_type": "markdown",
   "id": "6d1d68c5-a0ed-4ddc-af50-1779012c08de",
   "metadata": {},
   "source": [
    "3. Напишите программу, которая принимает список чисел и возвращает сумму всех чисел, кратных 3 или 5. Используйте функцию для нахождения суммы. Выведите результат на экран с помощью команды print.\n",
    "\n",
    "Пример вывода:\n",
    "\n",
    "Список чисел: [1, 2, 3, 4, 5, 6, 7, 8, 9, 10]\n",
    "\n",
    "Сумма чисел, кратных 3 или 5: 33"
   ]
  },
  {
   "cell_type": "code",
   "execution_count": 6,
   "id": "4932f96a-c180-4f9c-913e-1eff3bcbf165",
   "metadata": {},
   "outputs": [],
   "source": [
    "#lst = [1,2,3,4,5,15]\n",
    "def sum5_3(lst):\n",
    "    s = 0\n",
    "    for elem in lst:\n",
    "        if elem%3 == 0 or elem%5 == 0:\n",
    "            s += elem\n",
    "    return s"
   ]
  },
  {
   "cell_type": "code",
   "execution_count": 7,
   "id": "d784af91-8254-43ea-8b57-f2dcf4290477",
   "metadata": {},
   "outputs": [
    {
     "name": "stdout",
     "output_type": "stream",
     "text": [
      "23\n"
     ]
    }
   ],
   "source": [
    "lst = [1,2,3,4,5,15]\n",
    "\n",
    "print(sum5_3(lst))"
   ]
  },
  {
   "cell_type": "markdown",
   "id": "6fa0a634-98a0-410b-a2f0-56b8f5b484c4",
   "metadata": {},
   "source": [
    "Так задаем список"
   ]
  },
  {
   "cell_type": "code",
   "execution_count": 8,
   "id": "1bec1b89-e3a1-4224-ba81-69f315979053",
   "metadata": {},
   "outputs": [
    {
     "name": "stdin",
     "output_type": "stream",
     "text": [
      " 1 2 3 4 5 6 7 8 9\n"
     ]
    },
    {
     "name": "stdout",
     "output_type": "stream",
     "text": [
      "[1, 2, 3, 4, 5, 6, 7, 8, 9]\n"
     ]
    }
   ],
   "source": [
    "lst = list(map(int,input().split()))\n",
    "print(lst)"
   ]
  },
  {
   "cell_type": "code",
   "execution_count": null,
   "id": "bf8b64dd-26c7-41c2-8c9e-2163b1c1713f",
   "metadata": {},
   "outputs": [],
   "source": [
    "def sum_3_5(numbers):\n",
    "  total = 0\n",
    "  for number in numbers:\n",
    "    if number % 3 == 0 or number % 5 == 0:\n",
    "      total += number\n",
    "  return total\n",
    "\n",
    "\n",
    "numbers = [1, 2, 3, 4, 5, 6, 7, 8, 9, 10, 15]\n",
    "sum_of_multiples = sum_3_5(numbers)\n",
    "\n",
    "print(f\"Сумма чисел, кратных 3 или 5: {sum_of_multiples}\") "
   ]
  },
  {
   "cell_type": "markdown",
   "id": "f4cbb3c6-53e5-4aca-9a2b-0eafd987fd1b",
   "metadata": {},
   "source": [
    "### Полезные материалы\n",
    "1. Функции и их аргументы https://pythonworld.ru/tipy-dannyx-v-python/vse-o-funkciyax-i-ix-argumentax.html \n",
    "2. Функции в Python https://pythonru.com/osnovy/funkcii-v-python \n",
    "\n",
    "### Вопросы для закрепления\n",
    "Зачем нужны функции\n",
    "Чем отличаются именованные аргументы (непозиционные) от неименованных (позиционных)? Когда лучше использовать какой тип?\n",
    "Как нам изменить глобальную переменную внутри функции?\n"
   ]
  },
  {
   "cell_type": "markdown",
   "id": "7fd6fa86-1fde-476c-b45d-973477530a39",
   "metadata": {},
   "source": [
    "### ДЗ (комментарии)"
   ]
  },
  {
   "cell_type": "markdown",
   "id": "de143147-49a3-4b84-b461-8dedcf1ba521",
   "metadata": {},
   "source": [
    "Напишите программу, которая принимает два числа и возвращает их сумму и произведение в виде кортежа (sum, product). Используйте функцию для вычисления суммы и произведения. Выведите результат на экран с помощью команды print.\n",
    "\n",
    "\n",
    "\n",
    "Пример вывода:\n",
    "\n",
    "\n",
    "\n",
    "Введите первое число: 3\n",
    "\n",
    "Введите второе число: 4\n",
    "\n",
    "\n",
    "\n",
    "Сумма и произведение чисел: (7, 12)"
   ]
  },
  {
   "cell_type": "code",
   "execution_count": null,
   "id": "0c46e854-a97f-471f-a231-52ca0ca9a30f",
   "metadata": {},
   "outputs": [],
   "source": []
  },
  {
   "cell_type": "markdown",
   "id": "c424a480-d9e2-4c39-ba49-b0fcabc361b3",
   "metadata": {},
   "source": [
    "Напишите программу, которая принимает список чисел и возвращает сумму, минимальное и максимальное значение из списка. Используйте функцию для обработки списка чисел и возврата трех значений. Выведите результат на экран с помощью команды print.\n",
    "\n",
    "Пример вывода:\n",
    "\n",
    "Введите числа:  3, 7, 2, 9, 1, 5\n",
    "\n",
    "Сумма чисел: 27\n",
    "\n",
    "Минимальное значение: 1\n",
    "\n",
    "Максимальное значение: 9\n"
   ]
  },
  {
   "cell_type": "code",
   "execution_count": 9,
   "id": "c2f9a552-771d-4dcc-86bc-e58e4a232b82",
   "metadata": {},
   "outputs": [],
   "source": [
    "def lst_proc(lst):\n",
    "    return sum(lst),min(lst),max(lst)\n",
    "    "
   ]
  },
  {
   "cell_type": "code",
   "execution_count": 10,
   "id": "00da9f5c-e0dd-4b6a-b31f-eccb4297744e",
   "metadata": {},
   "outputs": [
    {
     "name": "stdout",
     "output_type": "stream",
     "text": [
      "(6, 1, 3)\n"
     ]
    }
   ],
   "source": [
    "lst = [1,2,3]\n",
    "#lst = list(map(int,input().split())) это возможность вводить его с клавиатуры\n",
    "print(lst_proc(lst))\n"
   ]
  },
  {
   "cell_type": "code",
   "execution_count": null,
   "id": "e02c8778-1492-4683-b9fc-d6007c1530fd",
   "metadata": {},
   "outputs": [],
   "source": []
  },
  {
   "cell_type": "markdown",
   "id": "3162dd48-3f78-483b-bea7-c7fd46b4d588",
   "metadata": {},
   "source": [
    "Решение Кирилла ))"
   ]
  },
  {
   "cell_type": "code",
   "execution_count": 12,
   "id": "a2ede114-607d-4ca0-9c8c-c41766eb25bf",
   "metadata": {},
   "outputs": [],
   "source": [
    "# Создаём функцию для списка чисел\n",
    "def summ_min_max_list(numbers):\n",
    "    result_summ = sum(numbers)\n",
    "    result_min = min(numbers)\n",
    "    result_max = max(numbers)\n",
    "    print('Сумма чисел: ', result_summ,'\\n' 'Минимальное значение: ', result_min,'\\n' 'Максимальное значение: ', result_max)\n",
    "# Не смог решить проблему с выводом в конце слова 'None' (указал возвращать через return: 'Готово')"
   ]
  },
  {
   "cell_type": "code",
   "execution_count": 14,
   "id": "2c02e213-8f55-452c-b840-d7b9c5e7b59f",
   "metadata": {},
   "outputs": [
    {
     "name": "stdin",
     "output_type": "stream",
     "text": [
      "Введите числа через запятую:  1,2,3\n"
     ]
    },
    {
     "name": "stdout",
     "output_type": "stream",
     "text": [
      "Сумма чисел:  6 \n",
      "Минимальное значение:  1 \n",
      "Максимальное значение:  3\n"
     ]
    }
   ],
   "source": [
    "lst = input('''Введите числа через запятую: ''')\n",
    "numbers = []\n",
    "for num in lst.split(','):\n",
    "    numbers.append(int(num))\n",
    "# print(numbers)\n",
    "summ_min_max_list(numbers)"
   ]
  },
  {
   "cell_type": "code",
   "execution_count": null,
   "id": "421190c5-daad-4412-8611-14ab52f2597e",
   "metadata": {},
   "outputs": [],
   "source": []
  }
 ],
 "metadata": {
  "kernelspec": {
   "display_name": "Python 3 (ipykernel)",
   "language": "python",
   "name": "python3"
  },
  "language_info": {
   "codemirror_mode": {
    "name": "ipython",
    "version": 3
   },
   "file_extension": ".py",
   "mimetype": "text/x-python",
   "name": "python",
   "nbconvert_exporter": "python",
   "pygments_lexer": "ipython3",
   "version": "3.12.4"
  }
 },
 "nbformat": 4,
 "nbformat_minor": 5
}
