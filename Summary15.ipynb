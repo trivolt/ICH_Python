{
 "cells": [
  {
   "cell_type": "markdown",
   "id": "18bcf89f-20bf-486d-8633-43d644538542",
   "metadata": {},
   "source": [
    "# Summary 15"
   ]
  },
  {
   "cell_type": "markdown",
   "id": "50828e69-c21f-42e7-9a08-cb4549986ef6",
   "metadata": {},
   "source": [
    "Декоратор — это функция, которая позволяет обернуть другую функцию для расширения её функциональности без непосредственного изменения её кода."
   ]
  },
  {
   "cell_type": "code",
   "execution_count": null,
   "id": "18e1ea44-4705-4bd1-8d61-299bd7eaa19b",
   "metadata": {},
   "outputs": [],
   "source": [
    "# Шаблон простого декоратора (для функций без аргументов)\n",
    "def decorator_function(func):\n",
    "    def wrapper():\n",
    "        # дополнительный код\n",
    "        func()\n",
    "        # дополнительный код\n",
    "    return wrapper"
   ]
  },
  {
   "cell_type": "code",
   "execution_count": 1,
   "id": "6650cead-5bc3-436e-9bc5-49cc6d7ad4ff",
   "metadata": {},
   "outputs": [],
   "source": [
    "def hello_world():\n",
    "    return 'Hello world!'"
   ]
  },
  {
   "cell_type": "code",
   "execution_count": 2,
   "id": "f92555b9-e0d1-4325-87ff-4fca2eb7fe77",
   "metadata": {},
   "outputs": [],
   "source": [
    "def decorator_function(func):\n",
    "    def wrapper():\n",
    "        print('Функция-обёртка!')\n",
    "        print(f'Оборачиваемая функция: {func.__name__}')\n",
    "        print('Выполняем обёрнутую функцию...')\n",
    "        func()\n",
    "        print('Выходим из обёртки')\n",
    "    return wrapper"
   ]
  },
  {
   "cell_type": "code",
   "execution_count": 3,
   "id": "0a39ac13-04f0-439c-b471-6ec77c9e046e",
   "metadata": {},
   "outputs": [
    {
     "name": "stdout",
     "output_type": "stream",
     "text": [
      "Функция-обёртка!\n",
      "Оборачиваемая функция: hello_world\n",
      "Выполняем обёрнутую функцию...\n",
      "Выходим из обёртки\n"
     ]
    }
   ],
   "source": [
    "f = decorator_function(hello_world)\n",
    "f()"
   ]
  },
  {
   "cell_type": "code",
   "execution_count": 4,
   "id": "2e53c5a0-0cb9-4cc8-ad87-2125838d24c6",
   "metadata": {},
   "outputs": [
    {
     "data": {
      "text/plain": [
       "'Hello world!'"
      ]
     },
     "execution_count": 4,
     "metadata": {},
     "output_type": "execute_result"
    }
   ],
   "source": [
    "hello_world()"
   ]
  },
  {
   "cell_type": "code",
   "execution_count": 5,
   "id": "4b01e8d7-b5ad-4eea-ae02-c44ea5f074ab",
   "metadata": {},
   "outputs": [
    {
     "name": "stdout",
     "output_type": "stream",
     "text": [
      "Функция-обёртка!\n",
      "Оборачиваемая функция: hello_world\n",
      "Выполняем обёрнутую функцию...\n",
      "Hello world!\n",
      "Выходим из обёртки\n"
     ]
    }
   ],
   "source": [
    "@decorator_function\n",
    "def hello_world():\n",
    "    print('Hello world!')\n",
    "\n",
    "hello_world()"
   ]
  },
  {
   "cell_type": "markdown",
   "id": "8d5a757d-22a8-4b18-9169-9a956880916a",
   "metadata": {},
   "source": [
    "## Декораторы для функций с аргументами"
   ]
  },
  {
   "cell_type": "code",
   "execution_count": null,
   "id": "9f04603e-f0e1-4819-b8e7-c31169152e3c",
   "metadata": {},
   "outputs": [],
   "source": [
    "# Шаблон для декоратора с аргументами\n",
    "def decorator(func):\n",
    "    def wrapper(*args, **kwargs):\n",
    "        # Дополнительная логика перед выполнением функции\n",
    "        result = func(*args, **kwargs)\n",
    "        # Дополнительная логика после выполнения функции\n",
    "        return result\n",
    "    return wrapper\n",
    "\n",
    "@decorator\n",
    "def my_function(arg1, arg2):\n",
    "    # Тело функции\n",
    "    pass\n"
   ]
  },
  {
   "cell_type": "code",
   "execution_count": 6,
   "id": "f52a9f9c-e17d-4fba-bdbc-566fd821e7a6",
   "metadata": {},
   "outputs": [
    {
     "name": "stdin",
     "output_type": "stream",
     "text": [
      "Введите два слова:  Ира Мария\n"
     ]
    },
    {
     "data": {
      "text/plain": [
       "'Ира-----Мария'"
      ]
     },
     "execution_count": 6,
     "metadata": {},
     "output_type": "execute_result"
    }
   ],
   "source": [
    "def my_function(between):\n",
    "    a, b=input(\"Введите два слова: \").split()\n",
    "    return a+between+b\n",
    "    \n",
    "my_function('-----')"
   ]
  },
  {
   "cell_type": "code",
   "execution_count": 7,
   "id": "9d779af2-e8cc-4e19-b626-cd9ff12dac19",
   "metadata": {},
   "outputs": [
    {
     "name": "stdout",
     "output_type": "stream",
     "text": [
      "Сейчас выполним функцию\n"
     ]
    },
    {
     "name": "stdin",
     "output_type": "stream",
     "text": [
      "Введите два слова:  Ира Мария\n"
     ]
    },
    {
     "name": "stdout",
     "output_type": "stream",
     "text": [
      "Функция выполнена, получено:  Ира and Мария\n",
      "Результат работы декоратора:  ИРА AND МАРИЯ\n"
     ]
    }
   ],
   "source": [
    "def decorator(func):\n",
    "    def wrapper(*args, **kwargs):\n",
    "        print(\"Сейчас выполним функцию\")\n",
    "        result=func(*args, **kwargs)\n",
    "        print(\"Функция выполнена, получено: \",result)\n",
    "        return result.upper()\n",
    "    return wrapper\n",
    "\n",
    "@decorator\n",
    "def my_function(between):\n",
    "    a, b=input(\"Введите два слова: \").split()\n",
    "    return a+between+b\n",
    "\n",
    "print(\"Результат работы декоратора: \",my_function(\" and \"))"
   ]
  },
  {
   "cell_type": "markdown",
   "id": "261b19b0-6d1b-4f61-8041-c12e6e7ff583",
   "metadata": {},
   "source": [
    "## Параметрические декараторы"
   ]
  },
  {
   "cell_type": "code",
   "execution_count": null,
   "id": "e8fd0e76-9049-4ea6-adee-21704a9c34fd",
   "metadata": {},
   "outputs": [],
   "source": [
    "# Шаблон для параметрического декоратора\n",
    "def param_decorator(arg1, arg2): #сюда подставляем параметры\n",
    "    def decorator(func):\n",
    "        def wrapper(*args, **kwargs):\n",
    "            # Дополнительная логика перед выполнением функции с использованием arg1 и arg2\n",
    "            result = func(*args, **kwargs)\n",
    "            # Дополнительная логика после выполнения функции с использованием arg1 и arg2\n",
    "            return result\n",
    "        return wrapper\n",
    "    return decorator\n",
    "\n",
    "@param_decorator(arg1, arg2) #применение декоратора к функции\n",
    "def my_function():\n",
    "    # Тело функции\n"
   ]
  },
  {
   "cell_type": "markdown",
   "id": "87408416-c8c1-430f-a2f2-974ac10eaf67",
   "metadata": {},
   "source": [
    "Исходная функция до декорирования"
   ]
  },
  {
   "cell_type": "code",
   "execution_count": 9,
   "id": "eb37bbba-04d7-460d-9afa-02d8eb6921f9",
   "metadata": {},
   "outputs": [
    {
     "name": "stdin",
     "output_type": "stream",
     "text": [
      "Сколько вам лет?  не скажу\n"
     ]
    },
    {
     "data": {
      "text/plain": [
       "'неизвестно'"
      ]
     },
     "execution_count": 9,
     "metadata": {},
     "output_type": "execute_result"
    }
   ],
   "source": [
    "def ask_age():\n",
    "    age=input(\"Сколько вам лет? \")\n",
    "    if age.isdigit():\n",
    "        return age\n",
    "    return \"неизвестно\"\n",
    "\n",
    "ask_age()"
   ]
  },
  {
   "cell_type": "code",
   "execution_count": 11,
   "id": "678ff6a2-8c70-48ce-b23b-9144115577f8",
   "metadata": {},
   "outputs": [
    {
     "name": "stdin",
     "output_type": "stream",
     "text": [
      "Сколько вам лет?  100\n"
     ]
    },
    {
     "name": "stdout",
     "output_type": "stream",
     "text": [
      "Ваш возраст - 100\n"
     ]
    }
   ],
   "source": [
    "def param_decorator(ask_name): #ask_name = True\n",
    "    def decorator(func):\n",
    "        def wrapper():\n",
    "            if ask_name:\n",
    "                name=input(\"Как вас зовут? \")\n",
    "            result = func()\n",
    "            if ask_name:\n",
    "                print(f\"Ваше имя {name}, ваш возраст - {result}\")\n",
    "            else:\n",
    "                print(f\"Ваш возраст - {result}\")\n",
    "        return wrapper\n",
    "    return decorator\n",
    "\n",
    "@param_decorator(False)\n",
    "def ask_age():\n",
    "    age=input(\"Сколько вам лет? \")\n",
    "    if age.isdigit():\n",
    "        return age\n",
    "    return \"неизвестно\"\n",
    "\n",
    "ask_age()"
   ]
  },
  {
   "cell_type": "code",
   "execution_count": null,
   "id": "edc1f09d-3bef-4bba-b1d7-dd1ceac909f0",
   "metadata": {},
   "outputs": [],
   "source": []
  },
  {
   "cell_type": "markdown",
   "id": "f3901d20-3477-4ab4-9859-807fe777d268",
   "metadata": {},
   "source": [
    "### Применение декораторов"
   ]
  },
  {
   "cell_type": "markdown",
   "id": "533bb292-489a-467b-ada8-4e536ea5a987",
   "metadata": {},
   "source": [
    "1. Логирование вызовов функции"
   ]
  },
  {
   "cell_type": "code",
   "execution_count": 18,
   "id": "6bc612e5-d58c-43d8-825c-744bee0943da",
   "metadata": {},
   "outputs": [
    {
     "data": {
      "text/plain": [
       "5"
      ]
     },
     "execution_count": 18,
     "metadata": {},
     "output_type": "execute_result"
    }
   ],
   "source": [
    "def add(a, b):\n",
    "    return a + b\n",
    "\n",
    "add(2,3)"
   ]
  },
  {
   "cell_type": "code",
   "execution_count": 19,
   "id": "9ccb61dc-b427-4065-8053-d00dd103e7ad",
   "metadata": {},
   "outputs": [
    {
     "name": "stdout",
     "output_type": "stream",
     "text": [
      "Вызов функции add с аргументами (3,), {'b': 5}\n",
      "Функция add вернула 8\n"
     ]
    },
    {
     "data": {
      "text/plain": [
       "8"
      ]
     },
     "execution_count": 19,
     "metadata": {},
     "output_type": "execute_result"
    }
   ],
   "source": [
    "def log(func):\n",
    "    def wrapper(*args, **kwargs):\n",
    "        print(f\"Вызов функции {func.__name__} с аргументами {args}, {kwargs}\")\n",
    "        result = func(*args, **kwargs)\n",
    "        print(f\"Функция {func.__name__} вернула {result}\")\n",
    "        return result\n",
    "    return wrapper\n",
    "\n",
    "@log\n",
    "def add(a, b):\n",
    "    return a + b\n",
    "\n",
    "add(3, b=5)\n",
    "# Вывод:\n",
    "# Вызов функции add с аргументами (3,), {'b': 5}\n",
    "# Функция add вернула 8"
   ]
  },
  {
   "cell_type": "markdown",
   "id": "c5f54e74-a329-446c-aba1-da604b540fac",
   "metadata": {},
   "source": [
    " 2. Замер времени выполнения"
   ]
  },
  {
   "cell_type": "code",
   "execution_count": 20,
   "id": "e1b30783-7ce9-4126-951f-8865a1cfcf6f",
   "metadata": {},
   "outputs": [],
   "source": [
    "import time\n",
    "\n",
    "def heavy_calculation():\n",
    "    time.sleep(2)"
   ]
  },
  {
   "cell_type": "code",
   "execution_count": 21,
   "id": "b90b3294-0efa-4747-9df8-0ee26952da09",
   "metadata": {},
   "outputs": [],
   "source": [
    "heavy_calculation()"
   ]
  },
  {
   "cell_type": "code",
   "execution_count": null,
   "id": "9977dce1-b084-4153-83fb-e7d389ca3ee8",
   "metadata": {},
   "outputs": [],
   "source": []
  },
  {
   "cell_type": "code",
   "execution_count": 23,
   "id": "b47a43af-9761-4cb5-9b8d-3d590c987b47",
   "metadata": {},
   "outputs": [
    {
     "name": "stdout",
     "output_type": "stream",
     "text": [
      "Время выполнения heavy_calculation: 1.00 сек.\n"
     ]
    }
   ],
   "source": [
    "import time\n",
    "\n",
    "def timer(func):\n",
    "    def wrapper(*args, **kwargs):\n",
    "        start = time.time()\n",
    "        result = func(*args, **kwargs)\n",
    "        print(f\"Время выполнения {func.__name__}: {time.time() - start:.2f} сек.\")\n",
    "        return result\n",
    "    return wrapper\n",
    "\n",
    "@timer\n",
    "def heavy_calculation():\n",
    "    time.sleep(1)\n",
    "\n",
    "heavy_calculation()  # Время выполнения heavy_calculation: 2.00 сек."
   ]
  },
  {
   "cell_type": "markdown",
   "id": "51e6ab0a-9a83-45ca-b054-5dc5648fcdf7",
   "metadata": {},
   "source": [
    "Создать декоратор, который замеряет время работы функции. Предусмотреть различное число итераций для сглаживания показателя."
   ]
  },
  {
   "cell_type": "code",
   "execution_count": 24,
   "id": "8b269392-732e-4453-94b5-34973fc4422f",
   "metadata": {},
   "outputs": [
    {
     "name": "stdout",
     "output_type": "stream",
     "text": [
      "Среднее время выполнения функции example_function за 5 итераций: 0.0005 секунд\n"
     ]
    },
    {
     "data": {
      "text/plain": [
       "49995000"
      ]
     },
     "execution_count": 24,
     "metadata": {},
     "output_type": "execute_result"
    }
   ],
   "source": [
    "import time\n",
    "\n",
    "def timeit(iterations=1):\n",
    "    def decorator(func):\n",
    "        def wrapper(*args, **kwargs):\n",
    "            total_time = 0\n",
    "            for _ in range(iterations):\n",
    "                start_time = time.perf_counter()\n",
    "                result = func(*args, **kwargs)\n",
    "                end_time = time.perf_counter()\n",
    "                total_time += end_time - start_time\n",
    "            average_time = total_time / iterations\n",
    "            print(f\"Среднее время выполнения функции {func.__name__} за {iterations} итераций: {average_time:.4f} секунд\")\n",
    "            return result\n",
    "        return wrapper\n",
    "    return decorator\n",
    "\n",
    "# Пример использования декоратора\n",
    "@timeit(iterations=5)\n",
    "def example_function(n):\n",
    "    total = 0\n",
    "    for i in range(n):\n",
    "        total += i\n",
    "    return total\n",
    "\n",
    "# Вызов функции\n",
    "example_function(10000)"
   ]
  },
  {
   "cell_type": "markdown",
   "id": "138fa08d-cf8e-4159-a865-651b877d2bab",
   "metadata": {},
   "source": [
    "3. Кэширование результатов"
   ]
  },
  {
   "cell_type": "code",
   "execution_count": 25,
   "id": "4a84eb25-8666-469f-ab96-15a083065a75",
   "metadata": {},
   "outputs": [
    {
     "name": "stdout",
     "output_type": "stream",
     "text": [
      "832040\n"
     ]
    }
   ],
   "source": [
    "from functools import lru_cache\n",
    "\n",
    "@lru_cache(maxsize=10)\n",
    "def fibonacci(n):\n",
    "    if n < 2:\n",
    "        return n\n",
    "    return fibonacci(n-1) + fibonacci(n-2)\n",
    "\n",
    "print(fibonacci(30))  # Вычисляется быстро благодаря кэшу"
   ]
  },
  {
   "cell_type": "markdown",
   "id": "b5879dcb-e70e-4f5a-a556-a5d4355cf53f",
   "metadata": {},
   "source": [
    "4. Проверка прав доступа"
   ]
  },
  {
   "cell_type": "code",
   "execution_count": 26,
   "id": "7ff2ae1b-5e4d-4a13-bd0a-dc90fd968b3d",
   "metadata": {},
   "outputs": [],
   "source": [
    "class User:\n",
    "    def __init__(self, is_admin):\n",
    "        self.is_admin = is_admin"
   ]
  },
  {
   "cell_type": "code",
   "execution_count": 27,
   "id": "6ec5c57a-5ea1-4f7d-96d3-f576b59f463c",
   "metadata": {},
   "outputs": [],
   "source": [
    "admin = User(True)\n"
   ]
  },
  {
   "cell_type": "code",
   "execution_count": null,
   "id": "902d0ad6-5616-4beb-87e1-4a767568fbfc",
   "metadata": {},
   "outputs": [],
   "source": [
    "def delete_database(user):\n",
    "    print(\"База данных удалена!\")"
   ]
  },
  {
   "cell_type": "code",
   "execution_count": null,
   "id": "2180f957-bd3e-4885-974e-7c169591d9d4",
   "metadata": {},
   "outputs": [],
   "source": []
  },
  {
   "cell_type": "code",
   "execution_count": null,
   "id": "b8e19484-a6e0-4754-a3a5-8eb09bc37763",
   "metadata": {},
   "outputs": [],
   "source": []
  },
  {
   "cell_type": "code",
   "execution_count": 29,
   "id": "0418cb9a-4b52-4853-882d-a312e4327100",
   "metadata": {},
   "outputs": [
    {
     "name": "stdout",
     "output_type": "stream",
     "text": [
      "База данных удалена!\n"
     ]
    },
    {
     "ename": "PermissionError",
     "evalue": "Требуются права администратора",
     "output_type": "error",
     "traceback": [
      "\u001b[1;31m---------------------------------------------------------------------------\u001b[0m",
      "\u001b[1;31mPermissionError\u001b[0m                           Traceback (most recent call last)",
      "Cell \u001b[1;32mIn[29], line 17\u001b[0m\n\u001b[0;32m     14\u001b[0m regular_user \u001b[38;5;241m=\u001b[39m User(is_admin\u001b[38;5;241m=\u001b[39m\u001b[38;5;28;01mFalse\u001b[39;00m)\n\u001b[0;32m     16\u001b[0m delete_database(admin)        \u001b[38;5;66;03m# Работает\u001b[39;00m\n\u001b[1;32m---> 17\u001b[0m delete_database(regular_user)\n",
      "Cell \u001b[1;32mIn[29], line 4\u001b[0m, in \u001b[0;36madmin_required.<locals>.wrapper\u001b[1;34m(user, *args, **kwargs)\u001b[0m\n\u001b[0;32m      2\u001b[0m \u001b[38;5;28;01mdef\u001b[39;00m \u001b[38;5;21mwrapper\u001b[39m(user, \u001b[38;5;241m*\u001b[39margs, \u001b[38;5;241m*\u001b[39m\u001b[38;5;241m*\u001b[39mkwargs):\n\u001b[0;32m      3\u001b[0m     \u001b[38;5;28;01mif\u001b[39;00m \u001b[38;5;129;01mnot\u001b[39;00m user\u001b[38;5;241m.\u001b[39mis_admin:\n\u001b[1;32m----> 4\u001b[0m         \u001b[38;5;28;01mraise\u001b[39;00m \u001b[38;5;167;01mPermissionError\u001b[39;00m(\u001b[38;5;124m\"\u001b[39m\u001b[38;5;124mТребуются права администратора\u001b[39m\u001b[38;5;124m\"\u001b[39m)\n\u001b[0;32m      5\u001b[0m     \u001b[38;5;28;01mreturn\u001b[39;00m func(user, \u001b[38;5;241m*\u001b[39margs, \u001b[38;5;241m*\u001b[39m\u001b[38;5;241m*\u001b[39mkwargs)\n",
      "\u001b[1;31mPermissionError\u001b[0m: Требуются права администратора"
     ]
    }
   ],
   "source": [
    "def admin_required(func):\n",
    "    def wrapper(user, *args, **kwargs):\n",
    "        if not user.is_admin:\n",
    "            raise PermissionError(\"Требуются права администратора\")\n",
    "        return func(user, *args, **kwargs)\n",
    "    return wrapper\n",
    "\n",
    "\n",
    "@admin_required\n",
    "def delete_database(user):\n",
    "    print(\"База данных удалена!\")\n",
    "\n",
    "admin = User(is_admin=True)\n",
    "regular_user = User(is_admin=False)\n",
    "\n",
    "delete_database(admin)        # Работает\n",
    "delete_database(regular_user) # Ошибка PermissionError"
   ]
  },
  {
   "cell_type": "markdown",
   "id": "2023ee8e-12a8-4310-8cad-0e989498eb79",
   "metadata": {},
   "source": [
    "### Использование нескольких декораторов"
   ]
  },
  {
   "cell_type": "markdown",
   "id": "19d54aaf-e2d4-4c1e-a4c0-f14f2464d684",
   "metadata": {},
   "source": [
    "В Python декораторы применяются сверху вниз: ближайший к функции декоратор выполняется первым.\n",
    "\n",
    "Рассмотрим примеры и механику работы."
   ]
  },
  {
   "cell_type": "code",
   "execution_count": 30,
   "id": "ce3d229a-a86b-4263-91ef-6899146ad064",
   "metadata": {},
   "outputs": [
    {
     "name": "stdout",
     "output_type": "stream",
     "text": [
      "<b><i>Hello World</i></b>\n"
     ]
    }
   ],
   "source": [
    "def bold(func):\n",
    "    def wrapper():\n",
    "        return \"<b>\" + func() + \"</b>\"\n",
    "    return wrapper\n",
    "\n",
    "def italic(func):\n",
    "    def wrapper():\n",
    "        return \"<i>\" + func() + \"</i>\"\n",
    "    return wrapper\n",
    "\n",
    "@bold\n",
    "@italic\n",
    "def hello():\n",
    "    return \"Hello World\"\n",
    "\n",
    "print(hello())  # <b><i>Hello World</i></b>"
   ]
  },
  {
   "cell_type": "code",
   "execution_count": null,
   "id": "de720611-4c3e-45de-973e-4393de2c10f0",
   "metadata": {},
   "outputs": [],
   "source": []
  },
  {
   "cell_type": "code",
   "execution_count": 31,
   "id": "9c727072-823b-41fd-9e84-cb27ecc59aaf",
   "metadata": {},
   "outputs": [
    {
     "name": "stdout",
     "output_type": "stream",
     "text": [
      "Вызов функции wrapper\n",
      "Время выполнения: 1.00 сек.\n",
      "42\n"
     ]
    }
   ],
   "source": [
    "import time\n",
    "\n",
    "def log(func):\n",
    "    def wrapper(*args, **kwargs):\n",
    "        print(f\"Вызов функции {func.__name__}\")\n",
    "        return func(*args, **kwargs)\n",
    "    return wrapper\n",
    "\n",
    "def timer(func):\n",
    "    def wrapper(*args, **kwargs):\n",
    "        start = time.time()\n",
    "        result = func(*args, **kwargs)\n",
    "        print(f\"Время выполнения: {time.time() - start:.2f} сек.\")\n",
    "        return result\n",
    "    return wrapper\n",
    "\n",
    "@log\n",
    "@timer\n",
    "def calculate():\n",
    "    time.sleep(1)\n",
    "    return 42\n",
    "\n",
    "print(calculate())"
   ]
  },
  {
   "cell_type": "markdown",
   "id": "49385be1-6a7b-44bd-b34e-c04d81d6c1c2",
   "metadata": {},
   "source": [
    "Как работает цепочка декораторов\n",
    "\n",
    "Фактически это преобразование:"
   ]
  },
  {
   "cell_type": "code",
   "execution_count": null,
   "id": "21b63264-ace7-4a43-97d5-5681be0b03c0",
   "metadata": {},
   "outputs": [],
   "source": [
    "@decorator1\n",
    "@decorator2\n",
    "def my_func():\n",
    "    ...\n",
    "\n",
    "# Эквивалентно:\n",
    "my_func = decorator1(decorator2(my_func))"
   ]
  },
  {
   "cell_type": "markdown",
   "id": "6ccf66f7-e06c-45a9-9b1d-baeaef4aafad",
   "metadata": {},
   "source": [
    "decorator1 → decorator2 → исходная функция"
   ]
  },
  {
   "cell_type": "markdown",
   "id": "572c68f2-f4a6-4024-bbfc-bcfca1def60e",
   "metadata": {},
   "source": [
    "### Пример с functools.wraps"
   ]
  },
  {
   "cell_type": "markdown",
   "id": "d87d7ee7-4755-4516-ab89-072369059484",
   "metadata": {},
   "source": [
    "Используйте @functools.wraps(func) в декораторах, чтобы сохранить имя и docstring исходной функции."
   ]
  },
  {
   "cell_type": "code",
   "execution_count": 32,
   "id": "57a165b8-974b-43d5-bf08-b9073198af19",
   "metadata": {},
   "outputs": [
    {
     "name": "stdout",
     "output_type": "stream",
     "text": [
      "Вызов функции calculate_sum с аргументами (5, 3), {}\n",
      "Функция calculate_sum выполнилась за 1.0007 сек.\n",
      "8\n"
     ]
    }
   ],
   "source": [
    "import time\n",
    "from functools import wraps\n",
    "\n",
    "# Декоратор для логирования\n",
    "def log(func):\n",
    "    @wraps(func)\n",
    "    def wrapper(*args, **kwargs):\n",
    "        print(f\"Вызов функции {func.__name__} с аргументами {args}, {kwargs}\")\n",
    "        return func(*args, **kwargs)\n",
    "    return wrapper\n",
    "\n",
    "# Декоратор для замера времени\n",
    "def timer(func):\n",
    "    @wraps(func)\n",
    "    def wrapper(*args, **kwargs):\n",
    "        start = time.time()\n",
    "        result = func(*args, **kwargs)\n",
    "        end = time.time()\n",
    "        print(f\"Функция {func.__name__} выполнилась за {end - start:.4f} сек.\")\n",
    "        return result\n",
    "    return wrapper\n",
    "\n",
    "# Применяем оба декоратора\n",
    "@log # 2 - ое исполнение\n",
    "@timer # 1 - ое исполнение\n",
    "def calculate_sum(a, b):\n",
    "    time.sleep(1)  # Имитация долгой работы\n",
    "    return a + b\n",
    "\n",
    "print(calculate_sum(5, 3))"
   ]
  },
  {
   "cell_type": "markdown",
   "id": "fdf80820-ccd4-4a3f-917b-f090525053cf",
   "metadata": {},
   "source": [
    "### ДЗ 31"
   ]
  },
  {
   "cell_type": "code",
   "execution_count": null,
   "id": "fec4595e-2fef-4d6f-8257-c7588460bd23",
   "metadata": {},
   "outputs": [],
   "source": [
    "#Напишите декоратор validate_args, который будет проверять типы аргументов функции и выводить сообщение об ошибке, если переданы аргументы неправильного типа. Декоратор должен принимать ожидаемые типы аргументов в качестве параметров.\n",
    "\n",
    "#Пример использования:\n",
    "\n",
    "@validate_args(int, str)\n",
    "def greet(age, name):\n",
    "    print(f\"Привет, {name}! Тебе {age} лет.\")\n",
    "greet(25, \"Анна\")  # Все аргументы имеют правильные типы\n",
    "greet(\"25\", \"Анна\")  # Возникнет исключение TypeError"
   ]
  },
  {
   "cell_type": "code",
   "execution_count": 33,
   "id": "d6bdf517-0b59-4a56-addd-580a349ca9b3",
   "metadata": {},
   "outputs": [
    {
     "name": "stdout",
     "output_type": "stream",
     "text": [
      "Привет, Анна! Тебе 25 лет.\n"
     ]
    }
   ],
   "source": [
    "def validate_args(*expected_types):\n",
    "    def decorator(func):\n",
    "        def wrapper(*args, **kwargs):\n",
    "            if len(args) != len(expected_types):\n",
    "                raise TypeError(f\"Ожидалось {len(expected_types)} аргументов, но получено {len(args)}.\")\n",
    "            for arg, expected_type in zip(args, expected_types):\n",
    "                if not isinstance(arg, expected_type):\n",
    "                    raise TypeError(f\"Аргумент {arg} должен быть типа {expected_type.__name__}, но получен {type(arg).__name__}.\")\n",
    "            return func(*args, **kwargs)\n",
    "        return wrapper\n",
    "    return decorator\n",
    "\n",
    "# Пример использования декоратора\n",
    "@validate_args(int, str)\n",
    "def greet(age, name):\n",
    "    print(f\"Привет, {name}! Тебе {age} лет.\")\n",
    "\n",
    "# Вызов функции с правильными типами аргументов\n",
    "greet(25, \"Анна\")\n",
    "\n"
   ]
  },
  {
   "cell_type": "code",
   "execution_count": 34,
   "id": "7aa6da89-9451-4f64-9369-6957473c60fa",
   "metadata": {},
   "outputs": [
    {
     "ename": "TypeError",
     "evalue": "Аргумент 25 должен быть типа int, но получен str.",
     "output_type": "error",
     "traceback": [
      "\u001b[1;31m---------------------------------------------------------------------------\u001b[0m",
      "\u001b[1;31mTypeError\u001b[0m                                 Traceback (most recent call last)",
      "Cell \u001b[1;32mIn[34], line 1\u001b[0m\n\u001b[1;32m----> 1\u001b[0m greet(\u001b[38;5;124m\"\u001b[39m\u001b[38;5;124m25\u001b[39m\u001b[38;5;124m\"\u001b[39m, \u001b[38;5;124m\"\u001b[39m\u001b[38;5;124mАнна\u001b[39m\u001b[38;5;124m\"\u001b[39m)\n",
      "Cell \u001b[1;32mIn[33], line 8\u001b[0m, in \u001b[0;36mvalidate_args.<locals>.decorator.<locals>.wrapper\u001b[1;34m(*args, **kwargs)\u001b[0m\n\u001b[0;32m      6\u001b[0m \u001b[38;5;28;01mfor\u001b[39;00m arg, expected_type \u001b[38;5;129;01min\u001b[39;00m \u001b[38;5;28mzip\u001b[39m(args, expected_types):\n\u001b[0;32m      7\u001b[0m     \u001b[38;5;28;01mif\u001b[39;00m \u001b[38;5;129;01mnot\u001b[39;00m \u001b[38;5;28misinstance\u001b[39m(arg, expected_type):\n\u001b[1;32m----> 8\u001b[0m         \u001b[38;5;28;01mraise\u001b[39;00m \u001b[38;5;167;01mTypeError\u001b[39;00m(\u001b[38;5;124mf\u001b[39m\u001b[38;5;124m\"\u001b[39m\u001b[38;5;124mАргумент \u001b[39m\u001b[38;5;132;01m{\u001b[39;00marg\u001b[38;5;132;01m}\u001b[39;00m\u001b[38;5;124m должен быть типа \u001b[39m\u001b[38;5;132;01m{\u001b[39;00mexpected_type\u001b[38;5;241m.\u001b[39m\u001b[38;5;18m__name__\u001b[39m\u001b[38;5;132;01m}\u001b[39;00m\u001b[38;5;124m, но получен \u001b[39m\u001b[38;5;132;01m{\u001b[39;00m\u001b[38;5;28mtype\u001b[39m(arg)\u001b[38;5;241m.\u001b[39m\u001b[38;5;18m__name__\u001b[39m\u001b[38;5;132;01m}\u001b[39;00m\u001b[38;5;124m.\u001b[39m\u001b[38;5;124m\"\u001b[39m)\n\u001b[0;32m      9\u001b[0m \u001b[38;5;28;01mreturn\u001b[39;00m func(\u001b[38;5;241m*\u001b[39margs, \u001b[38;5;241m*\u001b[39m\u001b[38;5;241m*\u001b[39mkwargs)\n",
      "\u001b[1;31mTypeError\u001b[0m: Аргумент 25 должен быть типа int, но получен str."
     ]
    }
   ],
   "source": [
    "greet(\"25\", \"Анна\")\n"
   ]
  },
  {
   "cell_type": "code",
   "execution_count": null,
   "id": "a7f14136-3785-4faa-a4b0-ecda2810bd8e",
   "metadata": {},
   "outputs": [],
   "source": [
    "#Напишите декоратор log_args, который будет записывать аргументы и результаты вызовов функции в лог-файл. Каждый вызов функции должен быть записан на новой строке в формате \"Аргументы: <аргументы>, Результат: <результат>\". Используйте модуль logging для записи в лог-файл.\n",
    "\n",
    "#Пример использования:\n",
    "\n",
    "python\n",
    "@log_args\n",
    "def add(a, b):\n",
    "    return a + b\n",
    "add(2, 3)\n",
    "add(5, 7)"
   ]
  },
  {
   "cell_type": "markdown",
   "id": "1bd37df4-c6a1-4079-95a1-e43ca270b0e0",
   "metadata": {},
   "source": [
    "По логированию можно подробнее почитать здесь https://tproger.ru/articles/shpargalka-po-logirovaniju-na-python https://habr.com/ru/companies/wunderfund/articles/683880/"
   ]
  },
  {
   "cell_type": "code",
   "execution_count": 35,
   "id": "8ba643f0-6ed9-4b07-bcd2-c5637be9a6f7",
   "metadata": {},
   "outputs": [
    {
     "data": {
      "text/plain": [
       "12"
      ]
     },
     "execution_count": 35,
     "metadata": {},
     "output_type": "execute_result"
    }
   ],
   "source": [
    "import logging\n",
    "\n",
    "def log_args(func):\n",
    "    # Настройка логирования\n",
    "    logging.basicConfig(filename='function_calls.log', level=logging.INFO, format='%(asctime)s - %(message)s')\n",
    "\n",
    "    def wrapper(*args, **kwargs):\n",
    "        result = func(*args, **kwargs)\n",
    "        logging.info(f\"Аргументы: {args}, {kwargs}, Результат: {result}\")\n",
    "        return result\n",
    "\n",
    "    return wrapper\n",
    "\n",
    "# Пример использования декоратора\n",
    "@log_args\n",
    "def add(a, b):\n",
    "    return a + b\n",
    "\n",
    "# Вызов функции\n",
    "add(2, 3)\n",
    "add(5, 7)"
   ]
  },
  {
   "cell_type": "code",
   "execution_count": 36,
   "id": "13aad045-7a58-43e1-84f9-c6c4c88f3d1e",
   "metadata": {},
   "outputs": [
    {
     "data": {
      "text/plain": [
       "10"
      ]
     },
     "execution_count": 36,
     "metadata": {},
     "output_type": "execute_result"
    }
   ],
   "source": [
    "add(5, 5)"
   ]
  },
  {
   "cell_type": "code",
   "execution_count": 39,
   "id": "2cf9c9d4-49c9-4790-955f-f5547b83af67",
   "metadata": {},
   "outputs": [
    {
     "data": {
      "text/plain": [
       "24"
      ]
     },
     "execution_count": 39,
     "metadata": {},
     "output_type": "execute_result"
    }
   ],
   "source": [
    "import datetime\n",
    "\n",
    "datetime.datetime.now().second\n"
   ]
  },
  {
   "cell_type": "code",
   "execution_count": null,
   "id": "99adadde-e496-42b5-bf1c-5ce375c503ad",
   "metadata": {},
   "outputs": [],
   "source": [
    "import datetime\n",
    "# без logging\n",
    "def log_args(func):\n",
    "    def wrapper(*args, **kwargs):\n",
    "        result = func(*args, **kwargs)\n",
    "        all_args = \", \".join(args)\n",
    "        log_entry = f\"Время:{datetime.datetime.now().hour}:{datetime.datetime.now().minute}:{datetime.datetime.now().second} Аргументы: {all_args}, Результат: {result}\\n\"\n",
    "        with open('function1_calls.log', 'a', encoding='utf-8') as f:\n",
    "            f.write(log_entry)\n",
    "        return result\n",
    "    return wrapper\n",
    "\n",
    "@log_args\n",
    "def add(a, b):\n",
    "    return a + b\n",
    "\n",
    "add(2, 3)\n",
    "add(5, 7)"
   ]
  },
  {
   "cell_type": "markdown",
   "id": "e272f70e-10ec-4d74-afcc-d091d0cd62e7",
   "metadata": {},
   "source": [
    "# Магические методы"
   ]
  },
  {
   "cell_type": "code",
   "execution_count": null,
   "id": "107f177e-9a2e-483b-8539-4211d095b880",
   "metadata": {},
   "outputs": [],
   "source": [
    "#1. Базовые методы: __init__, __str__, __repr__"
   ]
  },
  {
   "cell_type": "code",
   "execution_count": 40,
   "id": "0bd52d35-c5d9-4423-bb09-b68668355739",
   "metadata": {},
   "outputs": [
    {
     "name": "stdout",
     "output_type": "stream",
     "text": [
      "'1984' by George Orwell\n",
      "Book('1984', 'George Orwell')\n"
     ]
    }
   ],
   "source": [
    "class Book:\n",
    "    def __init__(self, title, author):\n",
    "        self.title = title\n",
    "        self.author = author\n",
    "    \n",
    "    def __str__(self):\n",
    "        return f\"'{self.title}' by {self.author}\"\n",
    "    \n",
    "    def __repr__(self):\n",
    "        return f\"Book({self.title!r}, {self.author!r})\"\n",
    "\n",
    "book = Book(\"1984\", \"George Orwell\")\n",
    "print(str(book))   # '1984' by George Orwell\n",
    "print(repr(book))  # Book('1984', 'George Orwell')"
   ]
  },
  {
   "cell_type": "code",
   "execution_count": null,
   "id": "540607b9-c630-4a40-8217-6d35466a3152",
   "metadata": {},
   "outputs": [],
   "source": [
    "# 2. Арифметические операции: __add__, __sub__"
   ]
  },
  {
   "cell_type": "code",
   "execution_count": 41,
   "id": "9049d3d0-c8fb-4686-b407-b3205f3ec86a",
   "metadata": {},
   "outputs": [
    {
     "name": "stdout",
     "output_type": "stream",
     "text": [
      "Vector(7, 10)\n",
      "Vector(3, 4)\n"
     ]
    }
   ],
   "source": [
    "class Vector:\n",
    "    def __init__(self, x, y):\n",
    "        self.x = x\n",
    "        self.y = y\n",
    "    \n",
    "    def __add__(self, other):\n",
    "        return Vector(self.x + other.x, self.y + other.y)\n",
    "    \n",
    "    def __sub__(self, other):\n",
    "        return Vector(self.x - other.x, self.y - other.y)\n",
    "    \n",
    "    def __str__(self):\n",
    "        return f\"Vector({self.x}, {self.y})\"\n",
    "\n",
    "v1 = Vector(2, 3)\n",
    "v2 = Vector(5, 7)\n",
    "print(v1 + v2)  # Vector(7, 10)\n",
    "print(v2 - v1)  # Vector(3, 4)"
   ]
  },
  {
   "cell_type": "code",
   "execution_count": null,
   "id": "4c0cf81e-79c3-45ad-b9db-00b9b7f3fa93",
   "metadata": {},
   "outputs": [],
   "source": [
    "# 3. Работа с индексами: __getitem__, __setitem__"
   ]
  },
  {
   "cell_type": "code",
   "execution_count": 42,
   "id": "a5b4f729-db25-4163-ac97-b407e82f597d",
   "metadata": {},
   "outputs": [
    {
     "name": "stdout",
     "output_type": "stream",
     "text": [
      "20\n",
      "[10, 20, 99]\n"
     ]
    }
   ],
   "source": [
    "class MyList:\n",
    "    def __init__(self, items):\n",
    "        self.items = list(items)\n",
    "    \n",
    "    def __getitem__(self, index):\n",
    "        return self.items[index]\n",
    "    \n",
    "    def __setitem__(self, index, value):\n",
    "        self.items[index] = value\n",
    "    \n",
    "    def __len__(self):\n",
    "        return len(self.items)\n",
    "\n",
    "lst = MyList([10, 20, 30])\n",
    "print(lst[1])    # 20\n",
    "lst[2] = 99\n",
    "print(lst.items) # [10, 20, 99]"
   ]
  },
  {
   "cell_type": "code",
   "execution_count": null,
   "id": "01e73845-47a0-4d92-b331-c83c6c162606",
   "metadata": {},
   "outputs": [],
   "source": [
    "# 4. Итерация: __iter__, __next__"
   ]
  },
  {
   "cell_type": "code",
   "execution_count": 43,
   "id": "a9d141c0-cd1e-4635-a817-e93622772489",
   "metadata": {},
   "outputs": [
    {
     "name": "stdout",
     "output_type": "stream",
     "text": [
      "5 4 3 2 1 "
     ]
    }
   ],
   "source": [
    "class Countdown:\n",
    "    def __init__(self, start):\n",
    "        self.current = start\n",
    "    \n",
    "    def __iter__(self):\n",
    "        return self\n",
    "    \n",
    "    def __next__(self):\n",
    "        if self.current <= 0:\n",
    "            raise StopIteration\n",
    "        value = self.current\n",
    "        self.current -= 1\n",
    "        return value\n",
    "\n",
    "for num in Countdown(5):\n",
    "    print(num, end=\" \")  # 5 4 3 2 1"
   ]
  },
  {
   "cell_type": "code",
   "execution_count": null,
   "id": "d396b9c9-79be-46c3-bd7e-6770164e861f",
   "metadata": {},
   "outputs": [],
   "source": [
    "# 5. Контекстный менеджер: __enter__, __exit__"
   ]
  },
  {
   "cell_type": "code",
   "execution_count": null,
   "id": "8ea1b770-e4f9-4ce5-ad7b-f7e7c9932451",
   "metadata": {},
   "outputs": [],
   "source": [
    "class Timer:\n",
    "    def __enter__(self):\n",
    "        import time\n",
    "        self.start = time.time()\n",
    "    \n",
    "    def __exit__(self, *args):\n",
    "        import time\n",
    "        print(f\"Time: {time.time() - self.start:.2f} sec\")\n",
    "\n",
    "with Timer():\n",
    "    data = [x**2 for x in range(1000000)]\n",
    "# Вывод: Time: 0.15 sec"
   ]
  },
  {
   "cell_type": "code",
   "execution_count": null,
   "id": "12a588f2-20c6-4856-9c51-e3531ed052d9",
   "metadata": {},
   "outputs": [],
   "source": [
    "# 6. Вызов объекта: __call__"
   ]
  },
  {
   "cell_type": "code",
   "execution_count": 44,
   "id": "fec793bb-f697-4483-a46a-3b8c300f5b8d",
   "metadata": {},
   "outputs": [
    {
     "name": "stdout",
     "output_type": "stream",
     "text": [
      "10\n"
     ]
    }
   ],
   "source": [
    "class Multiplier:\n",
    "    def __init__(self, factor):\n",
    "        self.factor = factor\n",
    "    \n",
    "    def __call__(self, x):\n",
    "        return x * self.factor\n",
    "\n",
    "double = Multiplier(2)\n",
    "print(double(5))  # 10"
   ]
  },
  {
   "cell_type": "code",
   "execution_count": null,
   "id": "8ddbf3e4-da15-49a7-acc5-b0bf96a3ce39",
   "metadata": {},
   "outputs": [],
   "source": [
    "# 7. Сравнение: __eq__, __lt__"
   ]
  },
  {
   "cell_type": "code",
   "execution_count": null,
   "id": "8aafb970-0208-4c8e-adb9-76dbd0314490",
   "metadata": {},
   "outputs": [],
   "source": [
    "class Person:\n",
    "    def __init__(self, name, age):\n",
    "        self.name = name\n",
    "        self.age = age\n",
    "    \n",
    "    def __eq__(self, other):\n",
    "        return self.age == other.age\n",
    "    \n",
    "    def __lt__(self, other):\n",
    "        return self.age < other.age\n",
    "\n",
    "alice = Person(\"Alice\", 30)\n",
    "bob = Person(\"Bob\", 25)\n",
    "print(alice == bob)  # False\n",
    "print(alice < bob)   # False"
   ]
  },
  {
   "cell_type": "code",
   "execution_count": null,
   "id": "71795997-506c-4a32-9d89-04abf6a16d39",
   "metadata": {},
   "outputs": [],
   "source": [
    "from functools import total_ordering\n",
    "\n",
    "@total_ordering\n",
    "class MyClass:\n",
    "    def __init__(self, value):\n",
    "        self.value = value\n",
    "\n",
    "    def __eq__(self, other):\n",
    "        return self.value == other.value\n",
    "\n",
    "    def __lt__(self, other):\n",
    "        return self.value < other.value\n",
    "\n",
    "# Создаем объекты\n",
    "obj1 = MyClass(10)\n",
    "obj2 = MyClass(20)\n",
    "\n",
    "# Примеры сравнения\n",
    "print(obj1 == obj2)  # False\n",
    "print(obj1 <= obj2)   # True\n",
    "print(obj1 > obj2) # False\n",
    "print(obj1 < obj2)\n",
    "print(obj1 >= obj2)"
   ]
  },
  {
   "cell_type": "code",
   "execution_count": null,
   "id": "a956e21e-d9a1-43e8-b91f-1bb08ea3919b",
   "metadata": {},
   "outputs": [],
   "source": [
    "# 8. Управление памятью: __del__"
   ]
  },
  {
   "cell_type": "code",
   "execution_count": null,
   "id": "d24aa322-5e9e-4edb-89c6-7f309c95dd8d",
   "metadata": {},
   "outputs": [],
   "source": [
    "class TempFile:\n",
    "    def __init__(self, name):\n",
    "        self.name = name\n",
    "    \n",
    "    def __del__(self):\n",
    "        import os\n",
    "        if os.path.exists(self.name):\n",
    "            os.remove(self.name)\n",
    "            print(f\"Файл {self.name} удалён\")\n",
    "\n",
    "file = TempFile(\"temp.txt\")\n",
    "# При удалении объекта или завершении программы файл будет удалён"
   ]
  },
  {
   "cell_type": "code",
   "execution_count": null,
   "id": "d72917dd-5f46-497a-be3b-50106f38ff2c",
   "metadata": {},
   "outputs": [],
   "source": [
    "# 9. Длина "
   ]
  },
  {
   "cell_type": "code",
   "execution_count": null,
   "id": "241b7d4c-32a7-49c8-b8fb-9492afa36914",
   "metadata": {},
   "outputs": [],
   "source": [
    "class MyList:\n",
    "    def __init__(self, items):\n",
    "        self.items = items\n",
    "\n",
    "    def __len__(self):\n",
    "        return len(self.items)\n",
    "\n",
    "my_list = MyList([1, 2, 3, 4, 5, 6, 1])\n",
    "print(len(my_list))  # Вывод: 5"
   ]
  },
  {
   "cell_type": "code",
   "execution_count": null,
   "id": "49f24fc5-da12-4391-b112-b2c09b35b5b1",
   "metadata": {},
   "outputs": [],
   "source": [
    "#10 Dict"
   ]
  },
  {
   "cell_type": "code",
   "execution_count": null,
   "id": "f757bc6c-ab87-435f-9e6e-8fd74f6d87b2",
   "metadata": {},
   "outputs": [],
   "source": [
    "class MyClass:\n",
    "    def __init__(self):\n",
    "        self.x = 1\n",
    "        self.y = 2\n",
    "        self.z = 3\n",
    "\n",
    "obj =MyClass()\n",
    "print(obj.__dict__)  # {'x': 1, 'y': 2}"
   ]
  },
  {
   "cell_type": "markdown",
   "id": "81549c65-8846-4e24-890a-442b1d6c7716",
   "metadata": {},
   "source": [
    "### ДЗ 32"
   ]
  },
  {
   "cell_type": "markdown",
   "id": "08965946-b4ab-40bd-8584-954b10e44981",
   "metadata": {},
   "source": [
    "Реализовать класс Counter, который представляет счетчик. Класс должен поддерживать следующие операции:\n",
    "Увеличение значения счетчика на заданное число (оператор +=)\n",
    "Уменьшение значения счетчика на заданное число (оператор -=)\n",
    "Преобразование счетчика в строку (метод __str__)\n",
    "Получение текущего значения счетчика (метод __int__)"
   ]
  },
  {
   "cell_type": "code",
   "execution_count": 45,
   "id": "a808772b-8507-4f9c-b572-30b57e27d10c",
   "metadata": {},
   "outputs": [
    {
     "name": "stdout",
     "output_type": "stream",
     "text": [
      "5\n",
      "3\n",
      "3\n",
      "3\n"
     ]
    }
   ],
   "source": [
    "class Counter:\n",
    "    def __init__(self, value=0):\n",
    "        self.value = value\n",
    "\n",
    "    def __iadd__(self, other): # +=\n",
    "        self.value += other\n",
    "        return self\n",
    "\n",
    "    def __isub__(self, other): # -=\n",
    "        self.value -= other\n",
    "        return self\n",
    "\n",
    "    def __str__(self):\n",
    "        return str(self.value)\n",
    "\n",
    "    def __int__(self):\n",
    "        return self.value\n",
    "\n",
    "\n",
    "counter = Counter()\n",
    "\n",
    "# Увеличение значения счетчика на 5\n",
    "counter += 5\n",
    "print(counter)  # Выведет: 5\n",
    "\n",
    "# Уменьшение значения счетчика на 2\n",
    "counter -= 2\n",
    "print(counter)  # Выведет: 3\n",
    "\n",
    "# Преобразование счетчика в строку\n",
    "print(str(counter))  # Выведет: 3\n",
    "\n",
    "# Получение текущего значения счетчика\n",
    "print(int(counter))  # Выведет: 3"
   ]
  },
  {
   "cell_type": "markdown",
   "id": "f0c0470f-248b-4410-a2ef-d61d91e3aaeb",
   "metadata": {},
   "source": [
    "Реализовать класс Email, представляющий электронное письмо. Класс должен поддерживать следующие операции:\n",
    "Сравнение писем по дате (операторы <, >, <=, >=, ==, !=)\n",
    "Преобразование письма в строку (метод __str__)\n",
    "Получение длины текста письма (метод __len__)\n",
    "Получение хеш-значения письма (метод __hash__)\n",
    "Проверка наличия текста в письме (метод __bool__)"
   ]
  },
  {
   "cell_type": "code",
   "execution_count": 46,
   "id": "720c7468-179e-41fa-8546-1e278e393dd4",
   "metadata": {},
   "outputs": [
    {
     "name": "stdout",
     "output_type": "stream",
     "text": [
      "True\n",
      "From: alice@example.com\n",
      "To: bob@example.com\n",
      "Subject: Meeting Reminder\n",
      "Date: 2024-08-23 09:00:00\n",
      "\n",
      "Don't forget our meeting tomorrow at 10am.\n",
      "42\n",
      "2302165883942554550\n",
      "True\n"
     ]
    }
   ],
   "source": [
    "from datetime import datetime\n",
    "\n",
    "class Email:\n",
    "    def __init__(self, sender, recipient, subject, body, date):\n",
    "        self.sender = sender\n",
    "        self.recipient = recipient\n",
    "        self.subject = subject\n",
    "        self.body = body\n",
    "        self.date = datetime.strptime(date, '%Y-%m-%d %H:%M:%S')\n",
    "\n",
    "    def __lt__(self, other):\n",
    "        return self.date < other.date\n",
    "\n",
    "    def __le__(self, other):\n",
    "        return self.date <= other.date\n",
    "\n",
    "    def __gt__(self, other):\n",
    "        return self.date > other.date\n",
    "\n",
    "    def __ge__(self, other):\n",
    "        return self.date >= other.date\n",
    "\n",
    "    def __eq__(self, other):\n",
    "        return self.date == other.date\n",
    "\n",
    "    def __ne__(self, other):\n",
    "        return self.date != other.date\n",
    "\n",
    "    def __str__(self): # print(email)\n",
    "        return f\"From: {self.sender}\\nTo: {self.recipient}\\nSubject: {self.subject}\\nDate: {self.date}\\n\\n{self.body}\"\n",
    "\n",
    "    def __len__(self):\n",
    "        return len(self.body)\n",
    "\n",
    "    def __hash__(self):\n",
    "        return hash((self.sender, self.recipient, self.subject, self.date))\n",
    "\n",
    "    def __bool__(self):\n",
    "        return bool(self.body)\n",
    "\n",
    "# Пример использования класса Email\n",
    "email1 = Email(\"alice@example.com\", \"bob@example.com\", \"Meeting Reminder\", \"Don't forget our meeting tomorrow at 10am.\", \"2024-08-23 09:00:00\")\n",
    "email2 = Email(\"carol@example.com\", \"dave@example.com\", \"Project Update\", \"The project is on track for completion next week.\", \"2024-08-22 15:30:00\")\n",
    "\n",
    "# Сравнение писем по дате\n",
    "print(email1 > email2)  # Выведет: True\n",
    "\n",
    "# Преобразование письма в строку\n",
    "print(str(email1))\n",
    "\n",
    "# Получение длины текста письма\n",
    "print(len(email1))  # Выведет: 42\n",
    "\n",
    "# Получение хеш-значения письма\n",
    "print(hash(email1))\n",
    "\n",
    "# Проверка наличия текста в письме\n",
    "print(bool(email1))  # Выведет: True\n"
   ]
  },
  {
   "cell_type": "code",
   "execution_count": null,
   "id": "cfb8dac1-38ae-420d-9c15-6fa8d2ca10a7",
   "metadata": {},
   "outputs": [],
   "source": []
  }
 ],
 "metadata": {
  "kernelspec": {
   "display_name": "Python 3 (ipykernel)",
   "language": "python",
   "name": "python3"
  },
  "language_info": {
   "codemirror_mode": {
    "name": "ipython",
    "version": 3
   },
   "file_extension": ".py",
   "mimetype": "text/x-python",
   "name": "python",
   "nbconvert_exporter": "python",
   "pygments_lexer": "ipython3",
   "version": "3.12.4"
  }
 },
 "nbformat": 4,
 "nbformat_minor": 5
}
