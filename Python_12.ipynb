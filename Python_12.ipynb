{
 "cells": [
  {
   "cell_type": "markdown",
   "id": "d3f47223-13a7-447a-b063-fdb1eefbd7ef",
   "metadata": {},
   "source": [
    "# Цикл for. Основы работы с файлами"
   ]
  },
  {
   "cell_type": "markdown",
   "id": "81db0391-2b38-45b5-86d4-4c332f335d17",
   "metadata": {},
   "source": [
    "Цикл for в Python используется для выполнения повторяющихся операций над элементами последовательности. Он позволяет пройти по всем элементам списка, строки, кортежа или другой итерируемой структуры данных. Каждая итерация цикла представляет собой обработку одного элемента. Например:\r\n"
   ]
  },
  {
   "cell_type": "code",
   "execution_count": 1,
   "id": "bb5fe58c-60e1-4cfb-be64-46c7f4c850af",
   "metadata": {},
   "outputs": [
    {
     "name": "stdout",
     "output_type": "stream",
     "text": [
      "0\n",
      "1\n",
      "2\n",
      "3\n",
      "4\n"
     ]
    }
   ],
   "source": [
    "for i in range(5):\n",
    "    print(i)"
   ]
  },
  {
   "cell_type": "markdown",
   "id": "ffed8349-79b1-40f4-addb-5763e41abd2c",
   "metadata": {},
   "source": [
    "Эквивалент с while"
   ]
  },
  {
   "cell_type": "code",
   "execution_count": 2,
   "id": "c0ddc0f0-a22d-44cd-8ea7-4cf57c581f56",
   "metadata": {},
   "outputs": [
    {
     "name": "stdout",
     "output_type": "stream",
     "text": [
      "0\n",
      "1\n",
      "2\n",
      "3\n",
      "4\n"
     ]
    }
   ],
   "source": [
    "i = 0\n",
    "while i<5:\n",
    "    print(i)\n",
    "    i+=1"
   ]
  },
  {
   "cell_type": "markdown",
   "id": "e36a18d0-5e36-43e9-a9c1-679ca6b81d94",
   "metadata": {},
   "source": [
    "***Цикл for удобен для итераций по коллекциям***"
   ]
  },
  {
   "cell_type": "code",
   "execution_count": 7,
   "id": "839e04df-6a05-4153-b3d2-9c5385553ef8",
   "metadata": {
    "scrolled": true
   },
   "outputs": [
    {
     "name": "stdout",
     "output_type": "stream",
     "text": [
      "c\n",
      "o\n",
      "d\n",
      "e\n"
     ]
    }
   ],
   "source": [
    "text = 'code'\n",
    "for symbol in text:\n",
    "    print(symbol)"
   ]
  },
  {
   "cell_type": "code",
   "execution_count": 8,
   "id": "0ade5928-85c2-42ca-8c9d-0843ddaae401",
   "metadata": {
    "scrolled": true
   },
   "outputs": [
    {
     "name": "stdout",
     "output_type": "stream",
     "text": [
      "bsijdfkfg"
     ]
    }
   ],
   "source": [
    "letters = 'AbsijdfAADkfg'\n",
    "\n",
    "for char in letters:\n",
    "    if char != char.upper():\n",
    "        print(char,end='')\n",
    "        \n",
    "    "
   ]
  },
  {
   "cell_type": "code",
   "execution_count": null,
   "id": "55654d94-95f7-4be5-9f30-7208f55c85a7",
   "metadata": {
    "scrolled": true
   },
   "outputs": [],
   "source": []
  },
  {
   "cell_type": "markdown",
   "id": "166efbe6-b146-4be6-9198-0a5a7fe9170c",
   "metadata": {},
   "source": [
    "### range()"
   ]
  },
  {
   "cell_type": "markdown",
   "id": "00f65660-7301-472d-ba53-43156e99c662",
   "metadata": {},
   "source": [
    "Функция range() возвращает последовательность чисел от начального значения до конечного значения с определенным шагом. Например, range(1, 10, 2) вернет последовательность [1, 3, 5, 7, 9].\r\n"
   ]
  },
  {
   "cell_type": "code",
   "execution_count": 9,
   "id": "b09207ec-7906-45fc-8107-2e334d7a7b2c",
   "metadata": {},
   "outputs": [
    {
     "name": "stdout",
     "output_type": "stream",
     "text": [
      "[1, 3, 5, 7, 9]\n"
     ]
    }
   ],
   "source": [
    "print(list(range(1,10,2)))"
   ]
  },
  {
   "cell_type": "code",
   "execution_count": 10,
   "id": "65bf8bef-be3c-4774-88c1-fd9b6247cedc",
   "metadata": {},
   "outputs": [
    {
     "name": "stdout",
     "output_type": "stream",
     "text": [
      "[1, 2, 3, 4, 5, 6, 7, 8, 9]\n"
     ]
    }
   ],
   "source": [
    "print(list(range(1,10)))"
   ]
  },
  {
   "cell_type": "code",
   "execution_count": 11,
   "id": "22eb2dca-743b-481a-a4e2-0d72cadd2294",
   "metadata": {},
   "outputs": [
    {
     "name": "stdout",
     "output_type": "stream",
     "text": [
      "[0, 1, 2, 3, 4, 5, 6, 7, 8, 9]\n"
     ]
    }
   ],
   "source": [
    "print(list(range(10)))"
   ]
  },
  {
   "cell_type": "code",
   "execution_count": 12,
   "id": "0f232de7-284e-4767-af9e-1c9ebe5c3a8e",
   "metadata": {},
   "outputs": [
    {
     "name": "stdout",
     "output_type": "stream",
     "text": [
      "[10, 8, 6, 4, 2]\n"
     ]
    }
   ],
   "source": [
    "print(list(range(10,1,-2)))"
   ]
  },
  {
   "cell_type": "code",
   "execution_count": 13,
   "id": "0e255078-271d-46c0-8d72-6d8bc39d29d4",
   "metadata": {},
   "outputs": [
    {
     "name": "stdout",
     "output_type": "stream",
     "text": [
      "[]\n"
     ]
    }
   ],
   "source": [
    "print(list(range(0)))"
   ]
  },
  {
   "cell_type": "markdown",
   "id": "06479c26-539c-4327-9ab9-cf8c17e991e0",
   "metadata": {},
   "source": [
    "### Использование break, continue, else в цикле for"
   ]
  },
  {
   "cell_type": "markdown",
   "id": "f89b6b80-1b79-4107-8a66-c2427e5e5496",
   "metadata": {},
   "source": [
    "В цикле for можно использовать операторы break и continue для управления ходом выполнения цикла.\n",
    "* Оператор break прерывает выполнение цикла и переходит к следующей инструкции после цикла. \n",
    "* Оператор continue пропускает текущую итерацию цикла и переходит к следующей.\n",
    "* Кроме того, цикл for может иметь блок else, который выполняется после полного прохода по итерируемому объекту, т.е. если цикл не был прерван оператором break."
   ]
  },
  {
   "cell_type": "code",
   "execution_count": 15,
   "id": "57701c16-57cd-4104-a4f0-f37ca0d999ac",
   "metadata": {},
   "outputs": [],
   "source": [
    "phrase = '640Кб должно хватить для любых задач. Билл Гейтс (по легенде)'"
   ]
  },
  {
   "cell_type": "code",
   "execution_count": 16,
   "id": "0bd70f71-cb7b-4699-8c6b-4ea86e9bdbf6",
   "metadata": {},
   "outputs": [
    {
     "name": "stdout",
     "output_type": "stream",
     "text": [
      "640Кб"
     ]
    }
   ],
   "source": [
    "for letter in phrase:\n",
    "    if letter == ' ':\n",
    "        break\n",
    "    print(letter, end='')"
   ]
  },
  {
   "cell_type": "code",
   "execution_count": 17,
   "id": "53a9af9f-130e-4a47-91a5-f3d89adfa826",
   "metadata": {},
   "outputs": [
    {
     "name": "stdout",
     "output_type": "stream",
     "text": [
      "640Кбдолжнохватитьдлялюбыхзадач.БиллГейтс(полегенде)"
     ]
    }
   ],
   "source": [
    "for letter in phrase:\n",
    "    if letter == ' ':\n",
    "        continue\n",
    "    print(letter, end='')"
   ]
  },
  {
   "cell_type": "code",
   "execution_count": 18,
   "id": "446bddd2-d0c5-421e-9a23-d5351e2546a2",
   "metadata": {},
   "outputs": [
    {
     "name": "stdout",
     "output_type": "stream",
     "text": [
      "640Кб должно хватить для любых задач. Билл Гейтс (по легенде)"
     ]
    }
   ],
   "source": [
    "for letter in phrase:\n",
    "    if letter == ' ':\n",
    "        pass\n",
    "    print(letter, end='')"
   ]
  },
  {
   "cell_type": "markdown",
   "id": "26b8f9e2-8268-4487-9ab8-adfa2b079068",
   "metadata": {},
   "source": [
    "### enumerate()"
   ]
  },
  {
   "cell_type": "markdown",
   "id": "47eb8565-1763-4886-b638-9e27b78dd8d1",
   "metadata": {},
   "source": [
    "Функция enumerate() позволяет получить индекс и значение элемента последовательности на каждой итерации цикла. Она возвращает объект-итератор, содержащий пары (индекс, значение). Например:"
   ]
  },
  {
   "cell_type": "code",
   "execution_count": 19,
   "id": "d4e94186-0c92-495e-86c8-ab190bbf44a9",
   "metadata": {},
   "outputs": [],
   "source": [
    "fruits = [\"apple\", \"banana\", \"cherry\"]"
   ]
  },
  {
   "cell_type": "code",
   "execution_count": 21,
   "id": "7c064070-7b11-4be4-a748-51a49e9ecbe8",
   "metadata": {},
   "outputs": [
    {
     "name": "stdout",
     "output_type": "stream",
     "text": [
      "1 apple\n",
      "2 banana\n",
      "3 cherry\n"
     ]
    }
   ],
   "source": [
    "for index, fruit in enumerate(fruits):\n",
    "    print(index+1, fruit)\n"
   ]
  },
  {
   "cell_type": "code",
   "execution_count": 24,
   "id": "812100c5-de53-45a9-aed0-c9345c406bed",
   "metadata": {},
   "outputs": [
    {
     "name": "stdout",
     "output_type": "stream",
     "text": [
      "[(0, 144), (1, 244), (2, 344), (3, 444), (4, 544)]\n"
     ]
    }
   ],
   "source": [
    "enumerate([144, 244, 344, 444, 544])\n",
    "print(list(enumerate([144, 244, 344, 444, 544])))"
   ]
  },
  {
   "attachments": {},
   "cell_type": "markdown",
   "id": "d6064a12-8f8a-4569-a57f-92f1366bdd22",
   "metadata": {},
   "source": [
    "### Задача\n",
    "Дан список чисел. \r\n",
    "Используя функцию enumerate() в заголовке цикла for, создайте второй список, в котором каждый элемент должен быть строкой, включающей через пробел индекс и значение соответствующего элемента первого списка.\r\n"
   ]
  },
  {
   "cell_type": "code",
   "execution_count": 26,
   "id": "ea864328-01d0-46ac-a09c-8a78f9516d1f",
   "metadata": {},
   "outputs": [
    {
     "name": "stdout",
     "output_type": "stream",
     "text": [
      "['0 10', '1 20', '2 30', '3 40', '4 50']\n"
     ]
    }
   ],
   "source": [
    "numbers = [10, 20, 30, 40, 50]\n",
    "string_list = []\n",
    "\n",
    "for index, value in enumerate(numbers):\n",
    "  string_list.append(str(index) + \" \" + str(value))\n",
    "\n",
    "print(string_list)"
   ]
  },
  {
   "cell_type": "markdown",
   "id": "afe71964-0318-4bb4-9d38-563ecc5b9d80",
   "metadata": {},
   "source": [
    "### Встроенная функция zip"
   ]
  },
  {
   "cell_type": "markdown",
   "id": "066b8092-8e09-447e-beb4-f7925796af98",
   "metadata": {},
   "source": [
    "Функция zip() позволяет объединить элементы нескольких последовательностей в кортежи. Она возвращает итератор, который можно использовать в цикле for. Если последовательности имеют разную длину, zip() остановится на самой короткой. Например:"
   ]
  },
  {
   "cell_type": "code",
   "execution_count": 28,
   "id": "0cf2afa2-756c-4470-a7fc-0f5118267cec",
   "metadata": {},
   "outputs": [
    {
     "name": "stdout",
     "output_type": "stream",
     "text": [
      "Alice 25\n",
      "Bob 30\n",
      "Charlie 35\n"
     ]
    }
   ],
   "source": [
    "names = [\"Alice\", \"Bob\", \"Charlie\"]\n",
    "ages = [25, 30, 35, 65]\n",
    "for name, age in zip(names, ages):\n",
    "    print(name, age)\n"
   ]
  },
  {
   "cell_type": "markdown",
   "id": "b90dc675-0d26-4f3c-925e-3b4983a2dbdf",
   "metadata": {},
   "source": [
    "enumerate(x) это же zip(x, range(...)), не так ли?"
   ]
  },
  {
   "cell_type": "code",
   "execution_count": 29,
   "id": "14f7aa20-a660-4183-aeda-9435f0304e39",
   "metadata": {},
   "outputs": [
    {
     "name": "stdout",
     "output_type": "stream",
     "text": [
      "[(0, 'a'), (1, 'b'), (2, 'c'), (3, 'd'), (4, 'e')]\n"
     ]
    }
   ],
   "source": [
    "x = ['a','b','c','d','e']\n",
    "print(list(zip(range(5), x)))"
   ]
  },
  {
   "cell_type": "code",
   "execution_count": 31,
   "id": "c81e1fca-1a43-40e5-8515-6d88e22d8ced",
   "metadata": {},
   "outputs": [],
   "source": [
    "x = ['a','b','c','d','e']\n",
    "lst = list(zip(range(5), x))"
   ]
  },
  {
   "cell_type": "code",
   "execution_count": 33,
   "id": "102c7a62-80ae-4257-a181-761b009e5bb6",
   "metadata": {},
   "outputs": [
    {
     "name": "stdout",
     "output_type": "stream",
     "text": [
      "(0, 'a')\n",
      "(1, 'b')\n",
      "(2, 'c')\n",
      "(3, 'd')\n",
      "(4, 'e')\n"
     ]
    }
   ],
   "source": [
    "for elem in lst:\n",
    "    print(elem)"
   ]
  },
  {
   "cell_type": "code",
   "execution_count": 35,
   "id": "82c3761b-f961-4bc8-b07b-fe9e79603ebf",
   "metadata": {},
   "outputs": [
    {
     "name": "stdout",
     "output_type": "stream",
     "text": [
      "['a'] [0]\n"
     ]
    }
   ],
   "source": [
    "letters = [] #letters = ''\n",
    "digits = []\n",
    "for dig, char in lst:\n",
    "    letters.append(char) # letters += char\n",
    "    digits.append(dig)\n",
    "    #print(dig, char)\n",
    "print(letters, digits)\n",
    "    "
   ]
  },
  {
   "cell_type": "markdown",
   "id": "43ede140-479e-495f-ae46-2fb9118fbe83",
   "metadata": {},
   "source": [
    "### Напишите код"
   ]
  },
  {
   "cell_type": "markdown",
   "id": "601c4dfe-7051-4e08-9439-47d2bc147666",
   "metadata": {},
   "source": [
    "Есть список кортежей, каждый из которых содержит букву и соответствующее ей число:\n",
    "\n",
    "data = [('a', 1), ('b', 2), ('c', 3), ('d', 4)]\n",
    "\n",
    "Нужно преобразовать этот список в следующий формат:\n",
    "\n",
    "result = (['a', 'b', 'c', 'd'], [1, 2, 3, 4])\n"
   ]
  },
  {
   "cell_type": "code",
   "execution_count": null,
   "id": "7264d4d1-cae2-4a52-b08b-95f701bd712d",
   "metadata": {},
   "outputs": [],
   "source": [
    "data = [('a', 1), ('b', 2), ('c', 3), ('d', 4)]\n",
    "\n",
    "letters = []\n",
    "numbers = []\n",
    "\n",
    "for letter, number in data:\n",
    "  letters.append(letter)\n",
    "  numbers.append(number)\n",
    "\n",
    "result = (letters, numbers)\n",
    "\n",
    "print(result)"
   ]
  },
  {
   "cell_type": "markdown",
   "id": "03c92a9f-6ac3-4a4e-aab8-6834e7968b7e",
   "metadata": {},
   "source": [
    "# Работа с файлами"
   ]
  },
  {
   "cell_type": "markdown",
   "id": "1364322e-25d0-45c2-9e84-41bb6022454e",
   "metadata": {},
   "source": [
    "### Функция open(),\n",
    "дает права на работу с файлами:\n",
    "\r\n",
    "Для работы с файлами в Python используется функция open(). Она открывает файл и возвращает объект-файл, с помощью которого можно выполнять различные операции с файлом, такие как чтение, запись и т.д. При открытии файла можно указать режим работы (\"r\" - чтение, \"w\" - запись, \"a\" - добавление), а также кодировку.\r\n"
   ]
  },
  {
   "cell_type": "code",
   "execution_count": 36,
   "id": "49badc9a-4699-4005-9ed7-a737e92b015c",
   "metadata": {},
   "outputs": [
    {
     "name": "stdout",
     "output_type": "stream",
     "text": [
      "РџСЂРёРІРµС‚\n",
      "РіСЂСѓРїРїР°\n",
      "011124-dam\n"
     ]
    }
   ],
   "source": [
    "file = open(\"C:/Users/dplog/Python/example.txt\", \"r\")  # Открытие файла для чтения\n",
    "content = file.read()  # Чтение содержимого файла\n",
    "file.close()  # Закрытие файла\n",
    "print(content)"
   ]
  },
  {
   "cell_type": "code",
   "execution_count": 37,
   "id": "842a321e-a708-42e9-9007-799b1052d8c2",
   "metadata": {},
   "outputs": [
    {
     "name": "stdout",
     "output_type": "stream",
     "text": [
      "Привет\n",
      "группа\n",
      "011124-dam\n"
     ]
    }
   ],
   "source": [
    "file = open(\"example.txt\", \"r\", encoding='utf-8')  # Открытие файла для чтения\n",
    "content = file.read()  # Чтение содержимого файла\n",
    "file.close()  # Закрытие файла\n",
    "print(content)"
   ]
  },
  {
   "cell_type": "code",
   "execution_count": 40,
   "id": "82380801-8ff8-4f02-a92d-7441d53cf679",
   "metadata": {},
   "outputs": [
    {
     "name": "stdout",
     "output_type": "stream",
     "text": [
      "['Привет\\n', 'группа\\n', '011124-dam']\n"
     ]
    }
   ],
   "source": [
    "file = open(\"example.txt\", \"r\", encoding='utf-8')  # Открытие файла для чтения\n",
    "content = file.readlines()  # Чтение содержимого файла в виде коллекции (списка)\n",
    "file.close()  # Закрытие файла\n",
    "print(content)"
   ]
  },
  {
   "cell_type": "code",
   "execution_count": 45,
   "id": "89c4cfe0-3757-45ef-867c-295ef8274c7b",
   "metadata": {},
   "outputs": [
    {
     "name": "stdout",
     "output_type": "stream",
     "text": [
      "Привет\n",
      "\n",
      "группа\n",
      "\n"
     ]
    }
   ],
   "source": [
    "file = open(\"example.txt\", \"r\", encoding='utf-8')  # Открытие файла для чтения\n",
    "content = file.readline()# Чтение содержимого файла в виде коллекции (списка)\n",
    "print(content)\n",
    "content = file.readline()\n",
    "print(content)\n",
    "file.close()"
   ]
  },
  {
   "cell_type": "code",
   "execution_count": 46,
   "id": "3c676d48-5bd0-426b-b32a-7a0536c1eebf",
   "metadata": {},
   "outputs": [
    {
     "name": "stdout",
     "output_type": "stream",
     "text": [
      "Привет\n",
      "\n",
      "группа\n",
      "\n",
      "011124-dam\n"
     ]
    }
   ],
   "source": [
    "file = open(\"example.txt\", \"r\", encoding='utf-8') \n",
    "for row in file.readlines():\n",
    "    print(row)"
   ]
  },
  {
   "cell_type": "markdown",
   "id": "7de4f734-0922-46b7-96cb-2b1e9cde16ef",
   "metadata": {},
   "source": [
    "### Использование контекстного менеджера with .. as:\r\n",
    "Для работы с файлами рекомендуется использовать контекстный менеджер with .. as, который автоматически открывает и закрывает файл, обеспечивая правильное управление ресурсами. В этом случае нет необходимости явно вызывать метод close(). Например:\r\n"
   ]
  },
  {
   "cell_type": "code",
   "execution_count": 47,
   "id": "4c0a3f8e-751e-4786-95d2-cd071d023f79",
   "metadata": {},
   "outputs": [],
   "source": [
    "with open(\"example.txt\", \"r\") as file:\n",
    "    content = file.read()  # Чтение содержимого файла\n"
   ]
  },
  {
   "cell_type": "code",
   "execution_count": 48,
   "id": "c5cb9ab8-3244-4eb0-b5ea-35301b0b4051",
   "metadata": {},
   "outputs": [
    {
     "name": "stdout",
     "output_type": "stream",
     "text": [
      "РџСЂРёРІРµС‚\n",
      "РіСЂСѓРїРїР°\n",
      "011124-dam\n"
     ]
    }
   ],
   "source": [
    "print(content)"
   ]
  },
  {
   "cell_type": "code",
   "execution_count": 49,
   "id": "1bf81973-2ffe-4f9b-894e-6e3047f62e46",
   "metadata": {},
   "outputs": [],
   "source": [
    "str = 'hello'\n",
    "with open(\"example.txt\", 'w') as file:\n",
    "    file.write(str)    # Запись в файл"
   ]
  },
  {
   "cell_type": "markdown",
   "id": "e43a406f-6836-46fc-9a4e-a9b4148cccb6",
   "metadata": {},
   "source": [
    "### РЕШЕНИЕ ЗАДАЧ"
   ]
  },
  {
   "cell_type": "markdown",
   "id": "e15474c3-e76b-42cc-8f39-038e8cebf9fa",
   "metadata": {},
   "source": [
    "1. Во входном файле задается число. Необходимо в выходной файл вывести треугольник из цифр, который будет занимать верхний левый угол.\n"
   ]
  },
  {
   "cell_type": "markdown",
   "id": "4a89e58e-6276-47d2-b555-259d6c710480",
   "metadata": {},
   "source": [
    "1\n",
    "\n",
    "12\n",
    "\n",
    "123\n",
    "\n",
    "1234\n",
    "\n",
    "12345"
   ]
  },
  {
   "cell_type": "code",
   "execution_count": 3,
   "id": "4bc1f28a-992e-4350-85b6-8c9d8a6aba23",
   "metadata": {},
   "outputs": [],
   "source": [
    "input_file = 'input.txt'\n",
    "output_file = 'output.txt'\n",
    "\n",
    "with open(input_file, 'r') as f:\n",
    "    n = int(f.readline().strip())\n",
    "    \n",
    "string =''\n",
    "for row in range(1,n+1): # цикл нужен, чтобы создавать n-ое количество строк\n",
    "    for number in range(1,row+1): # цикл нужен, чтобы в строке формировть последовательность чисел\n",
    "        string += str(number)\n",
    "    string += '\\n'\n",
    "\n",
    "with open(output_file, 'w') as f:\n",
    "    f.write(string)"
   ]
  },
  {
   "cell_type": "markdown",
   "id": "006eac94-a2c6-421b-90d5-ae5a52f7380b",
   "metadata": {},
   "source": [
    "2. Напишите программу, которая открывает текстовый файл с именем input.txt, считывает его содержимое и записывает в файл с именем output.txt, меняя порядок слов на обратный. Каждое слово должно быть записано на отдельной строке. Используйте цикл for и методы readlines(), split() и reverse() для решения задачи.\n",
    "\n",
    "Пример содержимого файла input.txt:\n",
    "\n",
    "Hello, World! How are you?\n",
    "\n",
    "\n",
    "Пример содержимого файла output.txt:\n",
    "\n",
    "you?\n",
    "are\n",
    "How\n",
    "World!\n",
    "Hello,"
   ]
  },
  {
   "cell_type": "code",
   "execution_count": 2,
   "id": "eb7e3f9c-e6ae-4d39-98ac-09c9c6562125",
   "metadata": {},
   "outputs": [],
   "source": [
    "input_file = 'input.txt'\n",
    "output_file = 'output.txt'\n",
    "\n",
    "with open(input_file, 'r') as f:\n",
    "    string = f.readline().strip() # здесь считываем строку из файла\n",
    "    \n",
    "#string.split()[::-1] так мы строку переворачиваем, предворительно разделив ее по предложениям\n",
    "string = ' '.join(string.split()[::-1]) #здесь пересохраняем строку склеивая ее через пробел\n",
    "\n",
    "with open(output_file, 'w') as f:\n",
    "    f.write(string)"
   ]
  },
  {
   "cell_type": "code",
   "execution_count": 1,
   "id": "c751e68e-9b0c-4542-b7ef-e8915283bcda",
   "metadata": {},
   "outputs": [
    {
     "data": {
      "text/plain": [
       "['3', '2', '1']"
      ]
     },
     "execution_count": 1,
     "metadata": {},
     "output_type": "execute_result"
    }
   ],
   "source": [
    "string = '1 2 3'\n",
    "string.split()[::-1]"
   ]
  },
  {
   "cell_type": "markdown",
   "id": "02eca4c8-a654-4541-922f-0f3fd75d76b2",
   "metadata": {},
   "source": [
    "### Полезные материалы\r\n",
    "1. Синтаксис и возможности цикла for Python https://pythonru.com/osnovy/cikl-for-in\r\n",
    "2. Как работает цикл for в Python https://sky.pro/media/tsikl-for-v-python/ \r\n"
   ]
  },
  {
   "cell_type": "markdown",
   "id": "60a1c5bd-6ef3-452e-81a5-1c5d1b592bf1",
   "metadata": {},
   "source": [
    "### Вопросы для закрепления\n",
    "* Когда следует использовать цикл for, а когда while?\n",
    "* В каких случаях может быть нужно использовать zip?\n",
    "* Какие есть методы для того, чтобы считать данные из файла? Чем они отличаются?"
   ]
  },
  {
   "cell_type": "markdown",
   "id": "84affce7-3f8f-4ed7-bb79-57e331d11564",
   "metadata": {},
   "source": [
    "### Разбор ДЗ"
   ]
  },
  {
   "attachments": {},
   "cell_type": "markdown",
   "id": "52679584-c03b-4566-bca5-72061bbe822d",
   "metadata": {},
   "source": [
    "Напишите программу, которая запрашивает у пользователя число N и выводит на экран таблицу умножения от 1 до N. Используйте вложенный цикл for для создания таблицы умножения. Выведите результат на экран с помощью команды print и f-строк или метода format().\r\n"
   ]
  },
  {
   "cell_type": "code",
   "execution_count": 8,
   "id": "5bc24053-86c7-488e-87d1-ad8edbbcfea5",
   "metadata": {},
   "outputs": [
    {
     "name": "stdin",
     "output_type": "stream",
     "text": [
      " 10\n"
     ]
    },
    {
     "name": "stdout",
     "output_type": "stream",
     "text": [
      "         1         2         3         4         5         6         7         8         9        10\n",
      "         2         4         6         8        10        12        14        16        18        20\n",
      "         3         6         9        12        15        18        21        24        27        30\n",
      "         4         8        12        16        20        24        28        32        36        40\n",
      "         5        10        15        20        25        30        35        40        45        50\n",
      "         6        12        18        24        30        36        42        48        54        60\n",
      "         7        14        21        28        35        42        49        56        63        70\n",
      "         8        16        24        32        40        48        56        64        72        80\n",
      "         9        18        27        36        45        54        63        72        81        90\n",
      "        10        20        30        40        50        60        70        80        90       100\n"
     ]
    }
   ],
   "source": [
    "# Идея: res = row*col (row = range(1,6) col = range(1,6))\n",
    "\n",
    "n = int(input())\n",
    "rows = range(1,n+1) # создаю последовательность чисел от 1 до n для строк\n",
    "cols = range(1,n+1) # создаю последовательность чисел от 1 до n для столбцов\n",
    "\n",
    "for row in rows:\n",
    "    for col in cols:\n",
    "        print(f'{row*col:10d}',end = '')\n",
    "\n",
    "    print()"
   ]
  },
  {
   "cell_type": "markdown",
   "id": "e1a351fa-ad1c-4d62-8ebd-9eccb8e1ba9f",
   "metadata": {},
   "source": [
    "Напишите программу, которая принимает два списка одинаковой длины и создает новый список, содержащий пары элементов из исходных списков. Используйте функцию zip() для создания пар элементов. Выведите результат на экран с помощью команды print.\n"
   ]
  },
  {
   "cell_type": "code",
   "execution_count": 9,
   "id": "43777a81-69ec-40a9-b77e-5b4c38d807ed",
   "metadata": {},
   "outputs": [
    {
     "name": "stdout",
     "output_type": "stream",
     "text": [
      "[('Дима', '2'), ('Павел', '5'), ('Ирина', '5')]\n"
     ]
    }
   ],
   "source": [
    "names = ['Дима', 'Павел', 'Ирина']\n",
    "balls = ['2','5','5']\n",
    "print(list(zip(names,balls)))"
   ]
  },
  {
   "cell_type": "code",
   "execution_count": null,
   "id": "c1cc44fb-0f0d-422d-a0e2-ae25afbf5e3a",
   "metadata": {},
   "outputs": [],
   "source": []
  }
 ],
 "metadata": {
  "kernelspec": {
   "display_name": "Python 3 (ipykernel)",
   "language": "python",
   "name": "python3"
  },
  "language_info": {
   "codemirror_mode": {
    "name": "ipython",
    "version": 3
   },
   "file_extension": ".py",
   "mimetype": "text/x-python",
   "name": "python",
   "nbconvert_exporter": "python",
   "pygments_lexer": "ipython3",
   "version": "3.12.4"
  }
 },
 "nbformat": 4,
 "nbformat_minor": 5
}
