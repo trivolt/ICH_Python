{
 "cells": [
  {
   "cell_type": "markdown",
   "id": "e489229b-84ab-4ace-8808-920f3fa7b1e8",
   "metadata": {},
   "source": [
    "# Практика 9"
   ]
  },
  {
   "cell_type": "markdown",
   "id": "d48de2f7-f241-4991-a6a9-3eb7ba00b173",
   "metadata": {},
   "source": [
    "1. Дано натуральное число N. Выведите все числа от 1 до N используя рекурсию.\n"
   ]
  },
  {
   "cell_type": "code",
   "execution_count": 6,
   "id": "6c355743-9eb9-457c-b60f-67000a49cad0",
   "metadata": {},
   "outputs": [],
   "source": [
    "def range_my(n):\n",
    "    if n == 1:\n",
    "        print(1)\n",
    "    else:\n",
    "        print(n)\n",
    "        return range_my(n-1)\n",
    "        "
   ]
  },
  {
   "cell_type": "code",
   "execution_count": 7,
   "id": "0704d55a-e220-4489-a12e-a54d369fc866",
   "metadata": {},
   "outputs": [
    {
     "name": "stdout",
     "output_type": "stream",
     "text": [
      "4\n",
      "3\n",
      "2\n",
      "1\n"
     ]
    }
   ],
   "source": [
    "range_my(4)"
   ]
  },
  {
   "cell_type": "code",
   "execution_count": null,
   "id": "70af2c67-2c0c-4e37-9d10-022bb7e2a839",
   "metadata": {},
   "outputs": [],
   "source": []
  },
  {
   "cell_type": "markdown",
   "id": "7c96c960-db0a-4828-88ee-39e05c0b5445",
   "metadata": {},
   "source": [
    "2. Дано натуральное число N. Написать функцию power_of_2(N), которая печатает слово YES, если число N является точной степенью двойки, или слово NO в противном случае. Пользуемся рекурсией, а операцией возведения в степень не пользуемся. Пример power_of_2(8) вернет YES, poser_of_2(3) вернет NO."
   ]
  },
  {
   "cell_type": "code",
   "execution_count": 27,
   "id": "57894f13-c375-4a9d-81c2-5acd25716313",
   "metadata": {},
   "outputs": [],
   "source": [
    "def power_of_2(N):\n",
    "    if N == 2:\n",
    "        print('Yes')\n",
    "        return 2\n",
    "    elif N//2 != N/2:\n",
    "        print('No')\n",
    "    else:\n",
    "       power_of_2(N//2)\n"
   ]
  },
  {
   "cell_type": "code",
   "execution_count": 28,
   "id": "4d12c8b5-8a88-4d1d-862a-58ca4e4a7e7e",
   "metadata": {},
   "outputs": [
    {
     "name": "stdout",
     "output_type": "stream",
     "text": [
      "Yes\n"
     ]
    }
   ],
   "source": [
    "power_of_2(4)"
   ]
  },
  {
   "cell_type": "markdown",
   "id": "b624cfd0-dbe5-4457-9c25-6a714332f090",
   "metadata": {},
   "source": [
    "3. Дано натуральное число N.  Написать функцию digits_sum(N), которая вычисляет сумму его цифр. При решении этой задачи пользуемся рекурсией, а строки, списки, массивы и циклы не используем. Пример digits_sum(179) = 17"
   ]
  },
  {
   "cell_type": "code",
   "execution_count": 30,
   "id": "abec39d2-d51f-4fcf-8d8d-9c14138a4df1",
   "metadata": {},
   "outputs": [],
   "source": [
    "def digits_sum(N):\n",
    "    if N < 10:\n",
    "        return N\n",
    "    return N%10 + digits_sum(N//10)\n",
    "    "
   ]
  },
  {
   "cell_type": "code",
   "execution_count": 31,
   "id": "1f357f9f-f38a-408b-925e-5d91f5d8abb0",
   "metadata": {},
   "outputs": [
    {
     "data": {
      "text/plain": [
       "6"
      ]
     },
     "execution_count": 31,
     "metadata": {},
     "output_type": "execute_result"
    }
   ],
   "source": [
    "digits_sum(123)"
   ]
  },
  {
   "cell_type": "markdown",
   "id": "e06e9b54-8159-487e-9106-b3b626e7472c",
   "metadata": {},
   "source": [
    "4. ​​Дано слово, состоящее только из строчных латинских букв. Проверьте, является ли это слово палиндромом. Выведите YES или NO. Пример. is_palindrom(“radar”) вернет Yes, is_palindrom(“yes”)  вернет No.\n"
   ]
  },
  {
   "cell_type": "code",
   "execution_count": 36,
   "id": "501f6f28-f72b-449a-90d1-37f659a77048",
   "metadata": {},
   "outputs": [
    {
     "name": "stdout",
     "output_type": "stream",
     "text": [
      "YES\n"
     ]
    }
   ],
   "source": [
    "def  is_palindrom(str):\n",
    "    if len(str)==1:\n",
    "        print('YES')\n",
    "    elif str[0]!= str[-1]:\n",
    "        print('NO')\n",
    "    else:\n",
    "        return is_palindrom(str[1:-1])\n",
    "    \n",
    "\n",
    "is_palindrom('radar')"
   ]
  },
  {
   "cell_type": "code",
   "execution_count": null,
   "id": "1b682e76-10b1-44e8-bfd0-084faaac1c25",
   "metadata": {},
   "outputs": [],
   "source": [
    "def is_palindrom(word):\n",
    "    if word == word[::-1]:\n",
    "        return \"YES\"\n",
    "    else:\n",
    "        return \"NO\""
   ]
  },
  {
   "cell_type": "markdown",
   "id": "17e3ede5-7d42-47e1-89c1-4a6c314cc847",
   "metadata": {},
   "source": [
    "5. Дана последовательность целых чисел, заканчивающаяся числом 0. Выведите эту последовательность в обратном порядке. При решении этой задачи нельзя пользоваться массивами и прочими динамическими структурами данных, а нужно пользоваться рекурсией.\n"
   ]
  },
  {
   "cell_type": "code",
   "execution_count": 37,
   "id": "bed223ca-a5ae-4afb-8f78-e357500082dc",
   "metadata": {},
   "outputs": [
    {
     "name": "stdin",
     "output_type": "stream",
     "text": [
      " 1\n",
      " 2\n",
      " 3\n",
      " 0\n"
     ]
    },
    {
     "name": "stdout",
     "output_type": "stream",
     "text": [
      "3\n",
      "2\n",
      "1\n"
     ]
    }
   ],
   "source": [
    "def reverse_sequence():\n",
    "    num = int(input())  \n",
    "    if num == 0:        \n",
    "        return\n",
    "    reverse_sequence() \n",
    "    print(num)          \n",
    "\n",
    "reverse_sequence()"
   ]
  },
  {
   "cell_type": "markdown",
   "id": "04b0a1c9-ca54-4eb3-92fb-7ea12ddf09de",
   "metadata": {},
   "source": [
    "6. Напишите функцию, которая получает на вход три слова и определяет, являются ли они анаграммами друг друга. Использовать множества. Функция возвращает true, если слова являются анаграммами и false в противном случае. Пример: anagram(“кластер”, “стрелка”, “сталкер”) = true.\n"
   ]
  },
  {
   "cell_type": "code",
   "execution_count": 38,
   "id": "4ab0951a-4c7b-4520-9412-1445a41265d0",
   "metadata": {},
   "outputs": [
    {
     "data": {
      "text/plain": [
       "True"
      ]
     },
     "execution_count": 38,
     "metadata": {},
     "output_type": "execute_result"
    }
   ],
   "source": [
    "def anagram(s1, s2, s3):\n",
    "    if set(s1) == set(s2) == set(s3):\n",
    "        return True\n",
    "    else:\n",
    "        return False\n",
    "\n",
    "\n",
    "anagram('кластер', 'стрелка', 'сталкер') "
   ]
  },
  {
   "cell_type": "markdown",
   "id": "c4266889-b668-4fed-b188-a3745df3728b",
   "metadata": {},
   "source": [
    "7. На входе функция to_set() получает строку или список чисел. Преобразуйте их в множество. На выходе должно получиться множество и его мощность.\n"
   ]
  },
  {
   "cell_type": "code",
   "execution_count": null,
   "id": "ae68dfd3-5744-4180-a14c-8e3f70234a81",
   "metadata": {},
   "outputs": [],
   "source": []
  },
  {
   "cell_type": "markdown",
   "id": "f8d8065a-8c1a-405b-b2b6-8d8e9e6a0d03",
   "metadata": {},
   "source": [
    "8. Предоставлен список натуральных чисел. Требуется сформировать из них множество. Если какое-либо число повторяется, то преобразовать его в строку по образцу: например, если число 4 повторяется 3 раза, то в множестве будет следующая запись: само число 4, строка 44 (второе повторение, т.е. число дублируется в строке), строка 444 (третье повторение, т.е. строка множится на 3). Реализуйте вывод множества через функцию set_gen().\n"
   ]
  },
  {
   "cell_type": "code",
   "execution_count": 39,
   "id": "6e8aa923-92c8-4346-a8f8-44ea99af978c",
   "metadata": {},
   "outputs": [
    {
     "name": "stdout",
     "output_type": "stream",
     "text": [
      "{'33', 1, 2, 3, 4, '44', '444', '333', '22', '4444'}\n"
     ]
    }
   ],
   "source": [
    "def set_gen(lst):\n",
    "    lst.sort()\n",
    "    result_set = set()\n",
    "    current_num = None\n",
    "    count = 0\n",
    "    for num in lst:\n",
    "        if num == current_num:\n",
    "            count += 1\n",
    "            result_set.add(str(num) * count)\n",
    "        else:\n",
    "            current_num = num\n",
    "            count = 1\n",
    "            result_set.add(num)\n",
    "\n",
    "    return result_set\n",
    "\n",
    "input_list = [1, 2, 2, 3, 3, 3, 4, 4, 4, 4]\n",
    "output_set = set_gen(input_list)\n",
    "print(output_set)"
   ]
  },
  {
   "cell_type": "code",
   "execution_count": 42,
   "id": "c0ca8081-438e-4eed-8a8d-12b156f52810",
   "metadata": {},
   "outputs": [
    {
     "name": "stdout",
     "output_type": "stream",
     "text": [
      "{'33', 1, 2, 3, 4, 5, '44', 6, '444', 7, '777', '333', '22', '7777', '222', '77', '11'}\n"
     ]
    }
   ],
   "source": [
    "def set_gen(numbers):\n",
    "    result_set = set()\n",
    "    counts = []\n",
    "    \n",
    "    for num in numbers:\n",
    "        found = False\n",
    "        for i, (val, count) in enumerate(counts):\n",
    "            if val == num:\n",
    "                counts[i] = (val, count + 1)\n",
    "                found = True\n",
    "                result_set.add(str(num) * (count + 1))\n",
    "                break\n",
    "        if not found:\n",
    "            counts.append((num, 1))\n",
    "            result_set.add(num)\n",
    "    \n",
    "    return result_set\n",
    "\n",
    "# Пример использования\n",
    "numbers = [1, 2, 2, 3, 3, 3, 4, 1, 5, 4, 4, 2, 6, 7, 7, 7, 7]\n",
    "result = set_gen(numbers)\n",
    "print(result)\n",
    "# Ожидаемый вывод (порядок может отличаться):\n",
    "# {'1', '11', '2', '22', '222', '3', '33', '333', '4', '44', '444', '5', '6', '7', '77', '777', '7777'} "
   ]
  },
  {
   "cell_type": "markdown",
   "id": "6d39e428-68f3-40f0-9634-71bf0bc40898",
   "metadata": {},
   "source": [
    "9. Напишите функцию, которая получает на вход две строки с перечислением интересов и хобби двух пользователей, и вычисляет процент совпадения. Использовать множества. \n",
    "\n"
   ]
  },
  {
   "cell_type": "code",
   "execution_count": 43,
   "id": "585dabe9-249e-4675-b048-8698c60ce2aa",
   "metadata": {},
   "outputs": [
    {
     "name": "stdout",
     "output_type": "stream",
     "text": [
      "Процент совпадения: 33.33%\n"
     ]
    }
   ],
   "source": [
    "def interests_match_percentage(interests1, interests2):\n",
    "    list1 = interests1.split(\", \")\n",
    "    list2 = interests2.split(\", \")\n",
    "    set1 = set(list1)\n",
    "    set2 = set(list2)\n",
    "\n",
    "    common_interests = set1.intersection(set2)\n",
    "\n",
    "    all_interests = set1.union(set2)\n",
    "\n",
    "    if len(all_interests) == 0:\n",
    "        return 0  # Если нет интересов, совпадение 0%\n",
    "    match_percentage = (len(common_interests) / len(all_interests)) * 100\n",
    "\n",
    "    return match_percentage\n",
    "\n",
    "\n",
    "user1_interests = \"чтение, путешествия, музыка, кино\"\n",
    "user2_interests = \"путешествия, спорт, музыка, фотография\"\n",
    "\n",
    "match_percentage = interests_match_percentage(user1_interests, user2_interests)\n",
    "print(f\"Процент совпадения: {match_percentage:.2f}%\")"
   ]
  },
  {
   "cell_type": "code",
   "execution_count": null,
   "id": "7617cdb1-1a6b-4a5a-a947-1031a0a0a308",
   "metadata": {},
   "outputs": [],
   "source": []
  }
 ],
 "metadata": {
  "kernelspec": {
   "display_name": "Python 3 (ipykernel)",
   "language": "python",
   "name": "python3"
  },
  "language_info": {
   "codemirror_mode": {
    "name": "ipython",
    "version": 3
   },
   "file_extension": ".py",
   "mimetype": "text/x-python",
   "name": "python",
   "nbconvert_exporter": "python",
   "pygments_lexer": "ipython3",
   "version": "3.12.4"
  }
 },
 "nbformat": 4,
 "nbformat_minor": 5
}
