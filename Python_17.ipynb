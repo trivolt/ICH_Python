{
 "cells": [
  {
   "cell_type": "markdown",
   "id": "49a76016-2321-47b1-901b-a89c699546ee",
   "metadata": {},
   "source": [
    "# Вложенные функции. Лямбда функции"
   ]
  },
  {
   "cell_type": "markdown",
   "id": "e6651962",
   "metadata": {},
   "source": [
    "## Параметры функции"
   ]
  },
  {
   "cell_type": "markdown",
   "id": "1f12ed18-2d24-4599-87f2-2c2df446552a",
   "metadata": {},
   "source": [
    "### Изменяемые и неизменяемые параметры функции:\n",
    "При передаче параметров в функцию в Python существует различие между изменяемыми и неизменяемыми типами данных. Неизменяемые типы данных, такие как числа, строки и кортежи, передаются в функцию **по значению**, то есть создается копия значения параметра. Изменяемые типы данных, такие как списки и словари, передаются **по ссылке**, и функция может изменить их содержимое."
   ]
  },
  {
   "cell_type": "markdown",
   "id": "2225a971-e448-424e-990a-f0c4068f060a",
   "metadata": {},
   "source": [
    "Давайте рассмотрим простые примеры передачи параметров в функции с изменяемыми (mutable) и неизменяемыми (immutable) типами данных в Python, чтобы увидеть, как это влияет на исходные значения переменных.\n",
    "\n",
    "1. **Неизменяемые типы данных (Immutable):**\n",
    "\n",
    "Неизменяемые типы данных (такие как `int, float, str, tuple, bool`) нельзя изменить \"на месте\". Когда вы передаете их в функцию, ***функция работает с копией значения***, а не с самой переменной.\n",
    "\n",
    "***Пример 1: int***"
   ]
  },
  {
   "cell_type": "code",
   "execution_count": 43,
   "id": "74848ea0-33c9-483f-ab9f-0c625f0c8d27",
   "metadata": {},
   "outputs": [
    {
     "name": "stdout",
     "output_type": "stream",
     "text": [
      "Inside function: 6\n",
      "Inside function: 4\n",
      "Outside function: 5\n",
      "Outside function: 3\n"
     ]
    }
   ],
   "source": [
    "def modify_int(x):\n",
    "    x = x + 1\n",
    "    print(\"Inside function:\", x)\n",
    "\n",
    "a = 5 #int\n",
    "b = 3\n",
    "modify_int(a)\n",
    "modify_int(b)\n",
    "print(\"Outside function:\", a)\n",
    "print(\"Outside function:\", b)"
   ]
  },
  {
   "cell_type": "markdown",
   "id": "192e33b7-4a93-481c-b985-e9513b4f9196",
   "metadata": {},
   "source": [
    "***Пример 2: str***"
   ]
  },
  {
   "cell_type": "code",
   "execution_count": null,
   "id": "5fb4495a-91a3-4f2d-ab3b-6d83398002b4",
   "metadata": {},
   "outputs": [],
   "source": [
    "def modify_string(s):\n",
    "    s = s + \" world!\"\n",
    "    print(\"Inside function:\", s)\n",
    "\n",
    "greeting = \"Hello\"\n",
    "modify_string(greeting)\n",
    "print(\"Outside function:\", greeting)"
   ]
  },
  {
   "cell_type": "markdown",
   "id": "452b84b1-8278-4dfe-9339-a563fa618807",
   "metadata": {},
   "source": [
    "2. **Изменяемые типы данных (Mutable):**\n",
    "\n",
    "Изменяемые типы данных (такие как list, dict, set) могут быть изменены \"на месте\". Когда вы передаете их в функцию, функция получает ссылку на исходный объект, и изменения, сделанные внутри функции, отразятся на исходной переменной вне функции.\n",
    "\n",
    "***Пример 3: list***"
   ]
  },
  {
   "cell_type": "code",
   "execution_count": 44,
   "id": "b2b58900-4cb1-4b8b-ace3-5d6798450096",
   "metadata": {},
   "outputs": [
    {
     "name": "stdout",
     "output_type": "stream",
     "text": [
      "Inside function: [1, 2, 3, 4]\n",
      "Outside function: [1, 2, 3, 4]\n"
     ]
    }
   ],
   "source": [
    "def modify_list(lst):\n",
    "    lst.append(4)\n",
    "    print(\"Inside function:\", lst)\n",
    "\n",
    "my_list = [1, 2, 3]\n",
    "modify_list(my_list)\n",
    "print(\"Outside function:\", my_list)"
   ]
  },
  {
   "cell_type": "markdown",
   "id": "1daac1ec-20b2-4ef1-85f3-0caf2b64f882",
   "metadata": {},
   "source": [
    "***Важные замечания:***\n",
    "\n",
    "* Эта разница в поведении между изменяемыми и неизменяемыми типами данных очень важна для понимания того, как работает Python.\n",
    "\n",
    "* Если вы хотите изменить список или словарь внутри функции, но не хотите менять исходный объект, нужно сделать копию объекта, например, используя lst[:] или list(lst) для списка и dict(d) для словаря."
   ]
  },
  {
   "cell_type": "markdown",
   "id": "5fb278a5-b773-4979-b238-fd2cc04e0903",
   "metadata": {},
   "source": [
    "### Передача произвольного числа аргументов в функцию:\n",
    "В Python можно определить функцию, которая принимает произвольное число аргументов. Это делается с использованием звездочки (*) перед именем параметра функции. Этот параметр будет представлять собой кортеж всех переданных аргументов.\n"
   ]
  },
  {
   "cell_type": "code",
   "execution_count": 45,
   "id": "6ce76757-17e2-4934-8ff5-a71f7d9d04ca",
   "metadata": {},
   "outputs": [
    {
     "name": "stdout",
     "output_type": "stream",
     "text": [
      "6.0\n"
     ]
    }
   ],
   "source": [
    "def avg2(a,b):\n",
    "    return (a+b)/2\n",
    "\n",
    "print(avg2(7,5))"
   ]
  },
  {
   "cell_type": "code",
   "execution_count": 46,
   "id": "a73317cd",
   "metadata": {},
   "outputs": [
    {
     "name": "stdout",
     "output_type": "stream",
     "text": [
      "5.0\n"
     ]
    }
   ],
   "source": [
    "def avg3(a,b,c):\n",
    "    return (a+b+c)/3\n",
    "\n",
    "print(avg3(7,5,3))"
   ]
  },
  {
   "cell_type": "markdown",
   "id": "8bc11c08-3c46-4d6c-8064-dacec0c92901",
   "metadata": {},
   "source": [
    "А если хотим найти среднее большего числа параметров ..."
   ]
  },
  {
   "cell_type": "code",
   "execution_count": 48,
   "id": "df5ce1df-5a23-4042-a946-faf7750ea29a",
   "metadata": {},
   "outputs": [
    {
     "name": "stdout",
     "output_type": "stream",
     "text": [
      "1 2 3 4 5\n"
     ]
    }
   ],
   "source": [
    "ars = [1,2,3,4,5]\n",
    "print(*ars)"
   ]
  },
  {
   "cell_type": "code",
   "execution_count": 49,
   "id": "4a2578dc",
   "metadata": {},
   "outputs": [],
   "source": [
    "def avg(*args):\n",
    "    s = 0\n",
    "    cnt=0\n",
    "    for i in args:\n",
    "        s+=i\n",
    "        cnt+=1\n",
    "    return s/cnt\n",
    "        "
   ]
  },
  {
   "cell_type": "code",
   "execution_count": 52,
   "id": "35e268d0",
   "metadata": {},
   "outputs": [
    {
     "name": "stdout",
     "output_type": "stream",
     "text": [
      "1.0\n"
     ]
    }
   ],
   "source": [
    "lst = [1,2,3]\n",
    "#print(lst)\n",
    "print(avg(*lst))"
   ]
  },
  {
   "cell_type": "code",
   "execution_count": 56,
   "id": "b907f4dd",
   "metadata": {},
   "outputs": [
    {
     "name": "stdout",
     "output_type": "stream",
     "text": [
      "1\n",
      "2\n",
      "3\n",
      "4\n"
     ]
    }
   ],
   "source": [
    "def my_function(*args):\n",
    "    for arg in args:\n",
    "        print(arg)\n",
    "        \n",
    "lst = [1,2,3]\n",
    "my_function(1, 2, 3)  # Выводит 1, 2, 3\n",
    "#my_function(*lst)"
   ]
  },
  {
   "cell_type": "markdown",
   "id": "48508c81",
   "metadata": {},
   "source": [
    "Напишите функцию, которая принимает произвольное количество аргументов и находит минимальное число среди них.\n",
    "\n",
    "\n",
    "Пример ввода: 3 10 22 -3 0 \n",
    "\n",
    "Пример вывода: -3\n"
   ]
  },
  {
   "cell_type": "code",
   "execution_count": 57,
   "id": "dd3795df",
   "metadata": {},
   "outputs": [
    {
     "name": "stdin",
     "output_type": "stream",
     "text": [
      "введите числа:  1 2 -3 7 2\n"
     ]
    },
    {
     "name": "stdout",
     "output_type": "stream",
     "text": [
      "-3\n"
     ]
    }
   ],
   "source": [
    "def min_elem(*args):\n",
    "    #тело функции\n",
    "    result = min(args)\n",
    "    return result\n",
    "\n",
    "lst = [int(x) for x in input('введите числа: ').split()]\n",
    "print(min_elem(*lst))"
   ]
  },
  {
   "cell_type": "code",
   "execution_count": null,
   "id": "a87f736f-e3b7-4977-b7d5-69213e561603",
   "metadata": {},
   "outputs": [],
   "source": []
  },
  {
   "cell_type": "markdown",
   "id": "ba9808ae-c26b-4960-bd9e-dc24754e0bfd",
   "metadata": {},
   "source": [
    "Давайте разберемся с распаковкой (unpacking) и запаковкой (packing) кортежей и списков в Python с помощью простых примеров.\n",
    "\n",
    "1. **Запаковка (Packing):**\n",
    "\n",
    "Запаковка - это процесс создания кортежа из отдельных значений. Это происходит автоматически, когда вы просто разделяете значения запятыми.\n",
    "\n",
    "***Пример 1: Создание кортежа***"
   ]
  },
  {
   "cell_type": "code",
   "execution_count": 58,
   "id": "ee5aac42",
   "metadata": {},
   "outputs": [
    {
     "name": "stdout",
     "output_type": "stream",
     "text": [
      "(1, 2, 'hello')\n",
      "<class 'tuple'>\n"
     ]
    }
   ],
   "source": [
    "my_tuple = 1, 2, \"hello\"  # запаковка кортежа\n",
    "print(my_tuple)\n",
    "print(type(my_tuple))\n"
   ]
  },
  {
   "cell_type": "markdown",
   "id": "e257dafb-aa97-4ae2-9624-653dbf5230be",
   "metadata": {},
   "source": [
    "***Пример 2: Запаковка при возврате нескольких значений из функции***"
   ]
  },
  {
   "cell_type": "code",
   "execution_count": 64,
   "id": "405c7a7f",
   "metadata": {},
   "outputs": [
    {
     "name": "stdout",
     "output_type": "stream",
     "text": [
      "(10, 20, 30)\n",
      "<class 'tuple'>\n"
     ]
    }
   ],
   "source": [
    "def get_coordinates():\n",
    "  x = 10\n",
    "  y = 20\n",
    "  z = 30\n",
    "  return x, y, z   # запаковка кортежа при возврате\n",
    "\n",
    "coordinates = get_coordinates()\n",
    "print(coordinates)\n",
    "print(type(coordinates))\n"
   ]
  },
  {
   "cell_type": "markdown",
   "id": "013b27ea-35f9-41ca-bb2e-1baee1d5a7fb",
   "metadata": {},
   "source": [
    "**2. Распаковка (Unpacking):**\n",
    "\n",
    "Распаковка - это процесс присваивания значений из кортежа отдельным переменным.\n",
    "\n",
    "***Пример 3: Распаковка кортежа в несколько переменных***"
   ]
  },
  {
   "cell_type": "code",
   "execution_count": 65,
   "id": "38204820-7a97-4cbf-a5fe-945d4910423f",
   "metadata": {},
   "outputs": [
    {
     "name": "stdout",
     "output_type": "stream",
     "text": [
      "100\n",
      "200\n",
      "world\n"
     ]
    }
   ],
   "source": [
    "my_tuple = (100, 200, 'world')\n",
    "a, b, c = my_tuple  # распаковка кортежа\n",
    "\n",
    "print(a)\n",
    "print(b)\n",
    "print(c)"
   ]
  },
  {
   "cell_type": "markdown",
   "id": "c6362611-345e-4186-9a59-a3cdc89da5c1",
   "metadata": {},
   "source": [
    "***Пример 4: Распаковка при итерации по кортежам***"
   ]
  },
  {
   "cell_type": "code",
   "execution_count": 66,
   "id": "408898b4-0407-4a1a-b089-94b7673b8c0e",
   "metadata": {},
   "outputs": [
    {
     "name": "stdout",
     "output_type": "stream",
     "text": [
      "Number: 1, Fruit: apple\n",
      "Number: 2, Fruit: banana\n",
      "Number: 3, Fruit: cherry\n"
     ]
    }
   ],
   "source": [
    "list_of_tuples = [(1, 'apple'), (2, 'banana'), (3, 'cherry')]\n",
    "\n",
    "for number, fruit in list_of_tuples:\n",
    "    print(f\"Number: {number}, Fruit: {fruit}\")"
   ]
  },
  {
   "cell_type": "markdown",
   "id": "693426e3-434f-4986-8288-537e57a70c23",
   "metadata": {},
   "source": [
    "***Пример 5: Игнорирование значений при распаковке***"
   ]
  },
  {
   "cell_type": "code",
   "execution_count": 67,
   "id": "a740d876-1c12-48fb-a1d7-fce7fac9b706",
   "metadata": {},
   "outputs": [
    {
     "name": "stdout",
     "output_type": "stream",
     "text": [
      "10\n",
      "20\n",
      "[30, 40]\n"
     ]
    }
   ],
   "source": [
    "my_tuple = (10, 20, 30, 40)\n",
    "\n",
    "first, second, *_ = my_tuple # распаковка с игнорированием\n",
    "\n",
    "print(first)\n",
    "print(second)\n",
    "print(_)"
   ]
  },
  {
   "cell_type": "markdown",
   "id": "5de264a6-1254-4506-8323-a9408f1a09c8",
   "metadata": {},
   "source": [
    "***Пример 6: Распаковка во время вызова функции***"
   ]
  },
  {
   "cell_type": "code",
   "execution_count": 68,
   "id": "2850c180-b8d2-43b2-9758-e1a143d92fb5",
   "metadata": {},
   "outputs": [
    {
     "name": "stdout",
     "output_type": "stream",
     "text": [
      "6\n"
     ]
    }
   ],
   "source": [
    "def add_numbers(a, b, c):\n",
    "    return a + b + c\n",
    "\n",
    "my_tuple = (1, 2, 3)\n",
    "result = add_numbers(*my_tuple) # распаковка при вызове функции\n",
    "print(result)"
   ]
  },
  {
   "cell_type": "markdown",
   "id": "29707989-0408-4169-9b30-3b1c65871112",
   "metadata": {},
   "source": [
    "**1. Запаковка (Packing) списков:**\n",
    "\n",
    "Запаковка списка – это, по сути, просто создание списка из отдельных элементов. Это происходит, когда вы присваиваете значения, заключенные в квадратные скобки [], переменной.\n",
    "\n",
    "***Пример 1: Создание списка***"
   ]
  },
  {
   "cell_type": "code",
   "execution_count": 69,
   "id": "40c9bc45-2cb4-4c17-90c5-c2b108981379",
   "metadata": {},
   "outputs": [
    {
     "name": "stdout",
     "output_type": "stream",
     "text": [
      "[1, 2, 'hello']\n",
      "<class 'list'>\n"
     ]
    }
   ],
   "source": [
    "my_list = [1, 2, \"hello\"]  # запаковка списка\n",
    "print(my_list)\n",
    "print(type(my_list))"
   ]
  },
  {
   "cell_type": "markdown",
   "id": "05f4c68d-79fc-4452-b227-408995a34401",
   "metadata": {},
   "source": [
    "**2. Распаковка (Unpacking) списков:**\n",
    "\n",
    "Распаковка списка – это процесс присваивания значений из списка отдельным переменным. Это работает очень похоже на распаковку кортежей.\n",
    "\n",
    "***Пример 2: Распаковка списка в несколько переменных***"
   ]
  },
  {
   "cell_type": "code",
   "execution_count": 70,
   "id": "16abaaae-4c7b-4509-91c9-fa6b4f1f51d6",
   "metadata": {},
   "outputs": [
    {
     "name": "stdout",
     "output_type": "stream",
     "text": [
      "100\n",
      "200\n",
      "world\n"
     ]
    }
   ],
   "source": [
    "my_list = [100, 200, 'world']\n",
    "a, b, c = my_list  # распаковка списка\n",
    "\n",
    "print(a)\n",
    "print(b)\n",
    "print(c)"
   ]
  },
  {
   "cell_type": "markdown",
   "id": "96cbd9b3-b362-4460-8875-c1d22c46c6c4",
   "metadata": {},
   "source": [
    "***Пример 3: Распаковка при итерации по спискам списков***"
   ]
  },
  {
   "cell_type": "code",
   "execution_count": 71,
   "id": "5fb7bb5b-c844-4e06-8449-8ab4f35b709d",
   "metadata": {},
   "outputs": [
    {
     "name": "stdout",
     "output_type": "stream",
     "text": [
      "Number: 1, Fruit: apple\n",
      "Number: 2, Fruit: banana\n",
      "Number: 3, Fruit: cherry\n"
     ]
    }
   ],
   "source": [
    "list_of_lists = [[1, 'apple'], [2, 'banana'], [3, 'cherry']]\n",
    "\n",
    "for number, fruit in list_of_lists:\n",
    "    print(f\"Number: {number}, Fruit: {fruit}\")"
   ]
  },
  {
   "cell_type": "markdown",
   "id": "92f2176d-592a-4901-9d55-adeda52367c6",
   "metadata": {},
   "source": [
    "***Пример 4: Игнорирование значений при распаковке (с использованием \\*)***"
   ]
  },
  {
   "cell_type": "code",
   "execution_count": 72,
   "id": "93cf2a93-65ea-468a-8e10-ca2a50b422d3",
   "metadata": {},
   "outputs": [
    {
     "name": "stdout",
     "output_type": "stream",
     "text": [
      "10\n",
      "20\n",
      "[30, 40]\n"
     ]
    }
   ],
   "source": [
    "my_list = [10, 20, 30, 40]\n",
    "\n",
    "first, second, *_ = my_list  # распаковка с игнорированием\n",
    "\n",
    "print(first)\n",
    "print(second)\n",
    "print(_)"
   ]
  },
  {
   "cell_type": "code",
   "execution_count": 73,
   "id": "09e15f89-3adb-407a-ae75-db65b8d1ebae",
   "metadata": {},
   "outputs": [
    {
     "name": "stdout",
     "output_type": "stream",
     "text": [
      "1\n",
      "[2, 3, 4]\n"
     ]
    }
   ],
   "source": [
    "a,*b = [1,2,3,4]\n",
    "print(a)\n",
    "print(b)"
   ]
  },
  {
   "cell_type": "code",
   "execution_count": 77,
   "id": "1443b0f6-5f38-49e8-b597-3a68e3fcd7b3",
   "metadata": {},
   "outputs": [
    {
     "name": "stdout",
     "output_type": "stream",
     "text": [
      "1\n",
      "[2, 3, 4, 5, 6, 7, 8, 9, 0]\n",
      "-1\n"
     ]
    }
   ],
   "source": [
    "a,*b,c = [1,2,3,4,5,6,7,8,9,0,-1]\n",
    "print(a)\n",
    "print(b)\n",
    "print(c)"
   ]
  },
  {
   "cell_type": "code",
   "execution_count": 76,
   "id": "e53f6070-a109-4571-a07e-33c5699f48fe",
   "metadata": {},
   "outputs": [
    {
     "name": "stdout",
     "output_type": "stream",
     "text": [
      "1\n",
      "4\n",
      "[2, 3]\n"
     ]
    }
   ],
   "source": [
    "a,*c,b = [1,2,3,4]\n",
    "print(a)\n",
    "print(b)\n",
    "print(c)"
   ]
  },
  {
   "cell_type": "code",
   "execution_count": 78,
   "id": "428e7eb5-db36-4ee1-aebd-61aa6c1058f7",
   "metadata": {},
   "outputs": [
    {
     "ename": "ValueError",
     "evalue": "too many values to unpack (expected 3)",
     "output_type": "error",
     "traceback": [
      "\u001b[1;31m---------------------------------------------------------------------------\u001b[0m",
      "\u001b[1;31mValueError\u001b[0m                                Traceback (most recent call last)",
      "Cell \u001b[1;32mIn[78], line 1\u001b[0m\n\u001b[1;32m----> 1\u001b[0m a,b,c\u001b[38;5;241m=\u001b[39m[\u001b[38;5;241m1\u001b[39m,\u001b[38;5;241m2\u001b[39m,\u001b[38;5;241m3\u001b[39m,\u001b[38;5;241m4\u001b[39m]\n",
      "\u001b[1;31mValueError\u001b[0m: too many values to unpack (expected 3)"
     ]
    }
   ],
   "source": [
    "a,b,c,d=[1,2,3]"
   ]
  },
  {
   "cell_type": "code",
   "execution_count": 80,
   "id": "ff0b6626-7a54-451d-96e5-d28594bb7f56",
   "metadata": {},
   "outputs": [
    {
     "name": "stdout",
     "output_type": "stream",
     "text": [
      "1\n",
      "2\n",
      "[3] ----- <class 'list'>\n",
      "4\n"
     ]
    }
   ],
   "source": [
    "a,b,*c,d=[1,2,3,4]\n",
    "print(a)\n",
    "print(b)\n",
    "print(c, '-----',type(c))\n",
    "print(d)"
   ]
  },
  {
   "cell_type": "markdown",
   "id": "c912bc46-a1a5-4a08-a50a-e286f26f4742",
   "metadata": {},
   "source": [
    "***Пример 5: Распаковка при вызове функции (с использованием \\*)***"
   ]
  },
  {
   "cell_type": "code",
   "execution_count": 83,
   "id": "fe2fa1ff-a0a0-4f9b-b711-05bbc6196d9b",
   "metadata": {},
   "outputs": [
    {
     "name": "stdout",
     "output_type": "stream",
     "text": [
      "6\n"
     ]
    }
   ],
   "source": [
    "def add_numbers(a, b, c):\n",
    "    return a + b + c\n",
    "\n",
    "my_list = [1, 2, 3]\n",
    "result = add_numbers(*my_list)  # распаковка при вызове функции\n",
    "print(result)"
   ]
  },
  {
   "cell_type": "code",
   "execution_count": null,
   "id": "256cfeaa-8fe8-4325-90aa-3b27904f3bfb",
   "metadata": {},
   "outputs": [],
   "source": []
  },
  {
   "cell_type": "code",
   "execution_count": null,
   "id": "2ec970fc",
   "metadata": {},
   "outputs": [],
   "source": []
  },
  {
   "cell_type": "markdown",
   "id": "43588a44",
   "metadata": {},
   "source": [
    "### Вложенные функции\n",
    "В Python можно определить функцию внутри другой функции. Вложенные функции могут использоваться для организации кода, скрытия реализации или создания замыканий."
   ]
  },
  {
   "cell_type": "code",
   "execution_count": 84,
   "id": "e91d89c6",
   "metadata": {},
   "outputs": [
    {
     "name": "stdout",
     "output_type": "stream",
     "text": [
      "Inner function\n"
     ]
    }
   ],
   "source": [
    "def outer_function():\n",
    "    def inner_function():\n",
    "        print(\"Inner function\")\n",
    "    \n",
    "    inner_function()\n",
    "\n",
    "outer_function()  \n"
   ]
  },
  {
   "cell_type": "markdown",
   "id": "7c431750-8bce-49a2-afb7-ceb4c71f8d4c",
   "metadata": {},
   "source": [
    "Когда использовать вложенные функции, а когда предпочесть две независимые функции. Давайте разберемся с этим на практике.\n",
    "\n",
    "**Вложенные (внутренние) функции:**\n",
    "\n",
    "Вложенные функции - это функции, определенные внутри другой функции (родительской). Они имеют доступ к переменным из родительской функции (это называется \"замыканием\"), но недоступны извне родительской функции.\n",
    "\n",
    "Когда использовать вложенные функции:\n",
    "\n",
    "*Инкапсуляция и сокрытие деталей:*\n",
    "\n",
    "Если какая-то функция (внутренняя) нужна только для работы родительской функции и не должна вызываться извне, то ее лучше сделать вложенной. Это помогает скрыть детали реализации и сделать код более понятным.\n"
   ]
  },
  {
   "cell_type": "markdown",
   "id": "3c52fa1b-ccf8-4469-9cd5-1035f55f68fb",
   "metadata": {},
   "source": [
    "**Не вложенные (независимые) функции:**\r\n",
    "\r\n",
    "Не вложенные функции определены на верхнем уровне модуля и могут вызываться откуда угодно в этом модуле.\r\n",
    "\r\n",
    "Когда использовать не вложенные функции:\r\n",
    "\r\n",
    "Многократное использование:\r\n",
    "\r\n",
    "Если функция будет использоваться в разных частях программы (не только в одной родительской функции), она должна быть независимой (не вложенной).\r\n",
    "\r\n",
    "Пример: Функция, вычисляющая среднее значение."
   ]
  },
  {
   "cell_type": "code",
   "execution_count": null,
   "id": "2734a6e4",
   "metadata": {},
   "outputs": [],
   "source": []
  },
  {
   "cell_type": "code",
   "execution_count": null,
   "id": "e84b4ec6",
   "metadata": {},
   "outputs": [],
   "source": []
  },
  {
   "cell_type": "markdown",
   "id": "e95c4cc5-ed76-4a65-8a4d-1f471905d4e2",
   "metadata": {},
   "source": [
    "### Ключевое слово nonlocal:\n",
    "Ключевое слово nonlocal используется во вложенных функциях для объявления переменной, которая является не локальной, но и не глобальной. Оно позволяет обращаться к переменной из внешней функции, которая находится на один уровень выше.\n"
   ]
  },
  {
   "cell_type": "code",
   "execution_count": 85,
   "id": "0a33eba4",
   "metadata": {},
   "outputs": [
    {
     "name": "stdout",
     "output_type": "stream",
     "text": [
      "2\n"
     ]
    }
   ],
   "source": [
    "def outer_function():\n",
    "    x = 1\n",
    "    def inner_function():\n",
    "        nonlocal x\n",
    "        x = 2\n",
    "    inner_function()\n",
    "    print(x)  # Выводит 2\n",
    "outer_function()\n"
   ]
  },
  {
   "cell_type": "code",
   "execution_count": 86,
   "id": "cb1d8a3a-2d40-4c46-99b1-7bc1b6d94b4d",
   "metadata": {},
   "outputs": [
    {
     "name": "stdout",
     "output_type": "stream",
     "text": [
      "1\n"
     ]
    }
   ],
   "source": [
    "def outer_function():\n",
    "    x = 1\n",
    "    def inner_function():\n",
    "        #nonlocal x\n",
    "        x = 2\n",
    "    inner_function()\n",
    "    print(x)\n",
    "outer_function()"
   ]
  },
  {
   "cell_type": "markdown",
   "id": "1fe0c5d5",
   "metadata": {},
   "source": [
    "## Лямбда функции"
   ]
  },
  {
   "cell_type": "markdown",
   "id": "3c2dd345-5aa8-4277-8f4a-1fbf76561160",
   "metadata": {},
   "source": [
    "Лямбда-функции (анонимные функции) - это компактный способ определения функции в одной строке. Они могут быть использованы там, где требуется передать функцию в качестве аргумента или создать простую функцию без необходимости определения отдельной функции.\r\n"
   ]
  },
  {
   "cell_type": "code",
   "execution_count": 87,
   "id": "a7c98a3d",
   "metadata": {},
   "outputs": [
    {
     "name": "stdout",
     "output_type": "stream",
     "text": [
      "7\n"
     ]
    }
   ],
   "source": [
    "def add(x,y):\n",
    "    return x+y\n",
    "    \n",
    "result = add(4, 3)\n",
    "print(result)  "
   ]
  },
  {
   "cell_type": "code",
   "execution_count": 88,
   "id": "91ec4191-6d7a-49d5-9804-39963e38343b",
   "metadata": {},
   "outputs": [
    {
     "name": "stdout",
     "output_type": "stream",
     "text": [
      "7\n"
     ]
    }
   ],
   "source": [
    "add = lambda x, y: x + y\n",
    "\n",
    "result = add(4, 3)\n",
    "print(result) "
   ]
  },
  {
   "attachments": {
    "image.png": {
     "image/png": "[encoded data removed]"
    }
   },
   "cell_type": "markdown",
   "id": "1eadb54b",
   "metadata": {},
   "source": [
    "![image.png](attachment:image.png)"
   ]
  },
  {
   "cell_type": "code",
   "execution_count": 89,
   "id": "61f43142",
   "metadata": {},
   "outputs": [],
   "source": [
    "fahr_to_kelvin = lambda temp: ((temp - 32)*(5/9)) + 273.15"
   ]
  },
  {
   "cell_type": "code",
   "execution_count": 90,
   "id": "79dd0c33-bc1b-46b4-9366-4bac573a101a",
   "metadata": {},
   "outputs": [
    {
     "name": "stdout",
     "output_type": "stream",
     "text": [
      "260.92777777777775\n"
     ]
    }
   ],
   "source": [
    "print(fahr_to_kelvin(10))"
   ]
  },
  {
   "cell_type": "code",
   "execution_count": 91,
   "id": "6dea0fc0-6ce9-42d0-8e57-66765817feac",
   "metadata": {},
   "outputs": [],
   "source": [
    "avg = lambda a,b,c: (a+b+c)/3"
   ]
  },
  {
   "cell_type": "code",
   "execution_count": 94,
   "id": "4a790a90-cdfa-4572-b792-e13e516f9c3a",
   "metadata": {},
   "outputs": [
    {
     "name": "stdout",
     "output_type": "stream",
     "text": [
      "5.0\n"
     ]
    }
   ],
   "source": [
    "print(avg(10,2,3))"
   ]
  },
  {
   "cell_type": "markdown",
   "id": "81bc3396",
   "metadata": {},
   "source": [
    "## Компаратор в сортировке. Использование лямбда-функций в качестве компараторов при сравнении кортежей:\r\n",
    "Лямбда-функции могут использоваться в сортировке для определения порядка сортировки элементов. Например, при сортировке списка кортежей по определенному индексу.\r\n"
   ]
  },
  {
   "cell_type": "markdown",
   "id": "a0c81486",
   "metadata": {},
   "source": [
    "Пример: сортировка списка кортежей по определенному индексу"
   ]
  },
  {
   "cell_type": "code",
   "execution_count": null,
   "id": "e93dcbe2",
   "metadata": {},
   "outputs": [],
   "source": [
    "my_list = [(1000, 32,  'b'), (1001, 5, 'a'), (3000, 90, 'c')]\n",
    "my_list.sort(key=lambda x: x[2])\n",
    "print(my_list)\n"
   ]
  },
  {
   "cell_type": "markdown",
   "id": "d77d1ec6-5118-4e56-adad-a5efdf108a86",
   "metadata": {},
   "source": [
    "Пример: Сортировка списка кортежей по длине второго элемента (если второй элемент строка)"
   ]
  },
  {
   "cell_type": "code",
   "execution_count": null,
   "id": "bb608b29-e104-46c3-95eb-4d760d64a148",
   "metadata": {},
   "outputs": [],
   "source": [
    "my_list = [(3, 'cc'), (1, 'a'), (2, 'bbb')]\n",
    "my_list.sort(key=lambda item: len(item[1])) # сортировка по длине второго элемента\n",
    "print(my_list) "
   ]
  },
  {
   "cell_type": "markdown",
   "id": "e9b51d78-4edc-4843-b696-7fea810dbcee",
   "metadata": {},
   "source": [
    "Пример: Сортировка списка кортежей по первому элементу в порядке убывания (с использованием reverse=True )"
   ]
  },
  {
   "cell_type": "code",
   "execution_count": null,
   "id": "474abe05-3adc-4525-9380-ec0c17a840bb",
   "metadata": {},
   "outputs": [],
   "source": [
    "my_list = [(3, 'c'), (1, 'a'), (2, 'b')]\n",
    "my_list.sort(key = lambda item: item[0], reverse = True) # сортировка по первому элементу в обратном порядке\n",
    "print(my_list)"
   ]
  },
  {
   "cell_type": "markdown",
   "id": "4ad59c5a-453f-4e32-ac6f-87add7b84cb5",
   "metadata": {},
   "source": [
    "Пример: Сортировка списка кортежей по нескольким критериям"
   ]
  },
  {
   "cell_type": "code",
   "execution_count": null,
   "id": "bd1941c5-28ab-4e9b-80f3-f6fc55502158",
   "metadata": {},
   "outputs": [],
   "source": [
    "my_list = [(3, 'c', 10), (1, 'a', 5), (3, 'b', 2)]\n",
    "\n",
    "my_list.sort(key=lambda item: (item[0], -item[2]))\n",
    "print(my_list)"
   ]
  },
  {
   "cell_type": "markdown",
   "id": "ae1f55c7-8bd8-47c2-8010-0b4a059b48ff",
   "metadata": {},
   "source": [
    "Пример: Сортировка с использованием пользовательской функции (не лямбда) в качестве компаратора (для примера, но lambda обычно лучше)"
   ]
  },
  {
   "cell_type": "code",
   "execution_count": null,
   "id": "a6e30853-2b87-4c29-8880-ee9702abb8ce",
   "metadata": {},
   "outputs": [],
   "source": [
    "def custom_key(item):\n",
    "    return item[0] * -1 # сортировка по первому элементу, но в обратном порядке\n",
    "\n",
    "my_list = [(3, 'c'), (1, 'a'), (2, 'b')]\n",
    "my_list.sort(key=custom_key)\n",
    "print(my_list)"
   ]
  },
  {
   "cell_type": "code",
   "execution_count": null,
   "id": "23a17f78-fd70-4182-88bd-eb52e5042592",
   "metadata": {},
   "outputs": [],
   "source": []
  },
  {
   "cell_type": "code",
   "execution_count": null,
   "id": "ef21c24e-a2d9-4772-9b78-63a03c98b910",
   "metadata": {},
   "outputs": [],
   "source": []
  },
  {
   "cell_type": "markdown",
   "id": "63bd8db6-d93e-48a9-9ee4-37b060f93ceb",
   "metadata": {},
   "source": [
    "### Встроенные методы sorted и reversed:\n",
    "В Python существуют встроенные функции sorted и reversed, которые могут быть использованы для сортировки и обращения последовательностей соответственно. Они возвращают новые отсортированные или обращенные последовательности, не изменяя исходную последовательность.\n"
   ]
  },
  {
   "cell_type": "code",
   "execution_count": null,
   "id": "34cb0e18",
   "metadata": {},
   "outputs": [],
   "source": [
    "my_list = [3, 1, 2]\n",
    "sorted_list = sorted(my_list) #my_list.sort()\n",
    "reversed_list = list(reversed(my_list)) # my_list[::-1]\n",
    "print(sorted_list)  # Выводит [1, 2, 3]\n",
    "print(reversed_list)  # Выводит [2, 1, 3]\n"
   ]
  },
  {
   "cell_type": "code",
   "execution_count": null,
   "id": "556e6ca6-d2b0-4631-bd74-3d4e94c6ba51",
   "metadata": {},
   "outputs": [],
   "source": []
  },
  {
   "cell_type": "markdown",
   "id": "e54b1c74-4001-4860-a7a0-63c1eabfe88b",
   "metadata": {},
   "source": [
    "### Использование функций в списковых включениях:\r\n",
    "Функции могут быть использованы в списковых включениях для применения операций к каждому элементу списка и создания нового списка. Например, применение функции abs к каждому элементу списка.\r\n"
   ]
  },
  {
   "cell_type": "code",
   "execution_count": null,
   "id": "57d08d4a",
   "metadata": {},
   "outputs": [],
   "source": [
    "my_list = [-1, 2, -3]\n",
    "new_list = [abs(x) for x in my_list]\n",
    "print(new_list)  # Выводит [1, 2, 3]\n"
   ]
  },
  {
   "cell_type": "code",
   "execution_count": null,
   "id": "07f7fd8f",
   "metadata": {},
   "outputs": [],
   "source": []
  },
  {
   "cell_type": "markdown",
   "id": "d26cd59d",
   "metadata": {},
   "source": [
    "## Практика"
   ]
  },
  {
   "cell_type": "markdown",
   "id": "9b892055",
   "metadata": {},
   "source": [
    "1. Считать данные из файла, где записаны разделенные табуляцией фамилия, имя, год рождения, курс и средний балл. \n",
    "Реализовать функцию, которая будет выдавать эти данные, отсортированные по полю, которое задается в аргументах функции. \n",
    "Интерфейс продумайте сами, например, придумайте, как сортировать по нескольким полям, чтобы это было интуитивно понятно и программа корректно обрабатывала такой кейс.\n"
   ]
  },
  {
   "cell_type": "code",
   "execution_count": null,
   "id": "d5b57be4",
   "metadata": {},
   "outputs": [],
   "source": [
    "data = []\n",
    "with open(filename, 'r') as file:\n",
    "    for line in file:\n",
    "        last_name, first_name, birth_year, course, average_score = line.split('\\t')\n",
    "        data.append((last_name, first_name, int(birth_year), int(course), float(average_score)))\n",
    "print(data)"
   ]
  },
  {
   "cell_type": "code",
   "execution_count": null,
   "id": "5650e960",
   "metadata": {},
   "outputs": [],
   "source": [
    "def read_and_sort_data(filename, sort_field):\n",
    "    data = []\n",
    "    with open(filename, 'r') as file:\n",
    "        for line in file:\n",
    "            last_name, first_name, birth_year, course, average_score = line.split('\\t')\n",
    "            data.append((last_name, first_name, int(birth_year), int(course), float(average_score)))\n",
    "\n",
    "    sorted_data = sorted(data, key=lambda x: x[sort_field])\n",
    "    return sorted_data\n",
    "\n",
    "# Пример использования:\n",
    "filename = 'ball.txt'\n",
    "sort_field = 4  # Например, сортировать по году рождения (0 - фамилия, 1 - имя, 2 - год рождения и так далее)\n",
    "sorted_records = read_and_sort_data(filename, sort_field)\n",
    "for record in sorted_records:\n",
    "    print(record)\n"
   ]
  },
  {
   "cell_type": "markdown",
   "id": "a45d4250",
   "metadata": {},
   "source": [
    "2. Напишите программу, которая принимает произвольное количество аргументов от пользователя и передает их в функцию calculate_sum, которая возвращает сумму всех аргументов. Используйте оператор * при передаче аргументов в функцию. Выведите результат на экран.\n",
    "\n",
    "Пример вывода:\n",
    "Введите числа, разделенные пробелами: 1 2 3 4 5\n",
    "Сумма чисел: 15\n"
   ]
  },
  {
   "cell_type": "code",
   "execution_count": null,
   "id": "380b81a3",
   "metadata": {},
   "outputs": [],
   "source": [
    "def calculate_sum(*args):\n",
    "    total_sum = sum(args)\n",
    "    return total_sum\n",
    "\n",
    "# Получаем числа от пользователя\n",
    "user_input = input(\"Введите числа, разделенные пробелами: \")\n",
    "numbers = [float(num) for num in user_input.split()]\n",
    "\n",
    "# Вычисляем сумму\n",
    "result = calculate_sum(*numbers)\n",
    "\n",
    "# Выводим результат\n",
    "print(f\"Сумма чисел: {result}\")\n"
   ]
  },
  {
   "cell_type": "code",
   "execution_count": null,
   "id": "287e71a4",
   "metadata": {},
   "outputs": [],
   "source": []
  },
  {
   "cell_type": "markdown",
   "id": "1288966e-7227-4f29-8b15-afe7acca8a56",
   "metadata": {},
   "source": [
    "### Полезные материалы\n",
    "1. 🐍 Как в Python применяются вложенные функции https://proglib.io/p/kak-v-python-primenyayutsya-vlozhennye-funkcii-2021-02-09\n",
    "2. Всё о сортировке в Python: исчерпывающий гайд https://tproger.ru/translations/python-sorting/\n",
    "\n",
    "\n",
    "### Вопросы для закрепления\n",
    "В каких случаях нужно и не стоит использовать лямбда-функции?\n",
    "Когда нужно использовать вложенные функции?\n",
    "Каким образом мы можем отсортировать список кортежей Имя-Возраст, если имя надо отсортировать в лексикографическом порядке по возрастанию, а при совпадении имен - по убыванию возраста?\n"
   ]
  },
  {
   "cell_type": "code",
   "execution_count": null,
   "id": "24f75b3c-0170-465b-8aa0-717962080720",
   "metadata": {},
   "outputs": [],
   "source": []
  },
  {
   "cell_type": "code",
   "execution_count": null,
   "id": "a58d31af-b0df-4877-bd19-32dea7b819fd",
   "metadata": {},
   "outputs": [],
   "source": []
  }
 ],
 "metadata": {
  "kernelspec": {
   "display_name": "Python 3 (ipykernel)",
   "language": "python",
   "name": "python3"
  },
  "language_info": {
   "codemirror_mode": {
    "name": "ipython",
    "version": 3
   },
   "file_extension": ".py",
   "mimetype": "text/x-python",
   "name": "python",
   "nbconvert_exporter": "python",
   "pygments_lexer": "ipython3",
   "version": "3.12.4"
  }
 },
 "nbformat": 4,
 "nbformat_minor": 5
}
