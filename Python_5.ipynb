{
 "cells": [
  {
   "cell_type": "markdown",
   "id": "ceae5a79-6ec5-4d8d-9612-937209d17191",
   "metadata": {},
   "source": [
    "# Условный оператор if"
   ]
  },
  {
   "cell_type": "markdown",
   "id": "f515860f-1565-4b2a-83cd-b372ee280e01",
   "metadata": {},
   "source": [
    "## Условная конструкция if - else"
   ]
  },
  {
   "cell_type": "markdown",
   "id": "7b38d5ca-0132-44ea-940e-3bcb1f25aee2",
   "metadata": {},
   "source": [
    "if условие: #==, !=, <, >, <=, >=\n",
    "    оператор 1# выполняемые действия, если условие истинно\n",
    "    оператор 2\n",
    "else:\n",
    "    оператор 1# выполняемые действия, если условие ложно\n",
    "    оператор 2\n",
    "    оператор 3"
   ]
  },
  {
   "cell_type": "code",
   "execution_count": 13,
   "id": "81a14e52-ddc0-453e-be6f-4c3d0839f665",
   "metadata": {},
   "outputs": [
    {
     "name": "stdout",
     "output_type": "stream",
     "text": [
      "x больше 10\n"
     ]
    }
   ],
   "source": [
    "x = 15\n",
    "if x > 10:\n",
    "    print(\"x больше 10\")\n",
    "else:\n",
    "    print(\"x меньше или равно 10\")\n"
   ]
  },
  {
   "cell_type": "code",
   "execution_count": 15,
   "id": "dd782da9-0014-4cf6-979b-3a6ee606ec85",
   "metadata": {},
   "outputs": [
    {
     "name": "stdout",
     "output_type": "stream",
     "text": [
      "x четное\n"
     ]
    }
   ],
   "source": [
    "x = 12\n",
    "if x%2 == 0:\n",
    "    print(\"x четное\")\n",
    "else:\n",
    "    print(\"x нечетное\")\n"
   ]
  },
  {
   "cell_type": "code",
   "execution_count": 17,
   "id": "861e1064-2e6d-471d-bf1c-36a7fdf6c005",
   "metadata": {},
   "outputs": [
    {
     "name": "stdin",
     "output_type": "stream",
     "text": [
      "введите ваш возраст: 12\n"
     ]
    },
    {
     "name": "stdout",
     "output_type": "stream",
     "text": [
      "доступ запрещен\n"
     ]
    }
   ],
   "source": [
    "age = int(input('введите ваш возраст:'))\n",
    "if age >= 18:\n",
    "    print(\"добро пожаловать на сайт\")\n",
    "else:\n",
    "    print(\"доступ запрещен\")\n"
   ]
  },
  {
   "cell_type": "markdown",
   "id": "0dafd98b-a9a1-4f6d-ac6e-db101b7809fd",
   "metadata": {},
   "source": [
    "### Пример с дождем"
   ]
  },
  {
   "cell_type": "code",
   "execution_count": 21,
   "id": "b205d88d-0580-46a7-ad9b-08a3c3994f08",
   "metadata": {},
   "outputs": [
    {
     "name": "stdin",
     "output_type": "stream",
     "text": [
      "введите идет ли дождь (1/Да Enter/Нет): \n"
     ]
    },
    {
     "name": "stdout",
     "output_type": "stream",
     "text": [
      "приятной прогулки\n"
     ]
    }
   ],
   "source": [
    "isRain = bool(input('введите идет ли дождь (1/Да Enter/Нет):'))\n",
    "if isRain:\n",
    "    print(\"возьмите зонт\")\n",
    "else:\n",
    "    print(\"приятной прогулки\")"
   ]
  },
  {
   "cell_type": "code",
   "execution_count": 23,
   "id": "1ead8ee1-f9a8-49e7-b848-a2ec20fc593e",
   "metadata": {},
   "outputs": [
    {
     "name": "stdin",
     "output_type": "stream",
     "text": [
      "введите идет ли дождь (1/Да Enter/Нет): 1\n"
     ]
    },
    {
     "name": "stdout",
     "output_type": "stream",
     "text": [
      "возьмите зонт\n"
     ]
    }
   ],
   "source": [
    "isRain = bool(input('введите идет ли дождь (1/Да Enter/Нет):'))\n",
    "if isRain:\n",
    "    print(\"возьмите зонт\")"
   ]
  },
  {
   "cell_type": "markdown",
   "id": "0e28e7d3-bf02-45f6-aad1-edd9e0a444d5",
   "metadata": {},
   "source": [
    "## elif"
   ]
  },
  {
   "cell_type": "code",
   "execution_count": null,
   "id": "25e4b9c2-1582-4972-bcbf-9a6de9de89f8",
   "metadata": {},
   "outputs": [],
   "source": [
    "if условие1:\r\n",
    "    # выполняемые действия, если условие1 истинно\r\n",
    "elif условие2:\r\n",
    "    # выполняемые действия, если условие2 истинно\r\n",
    "else:\r\n",
    "    # выполняемые действия, если все условия ложны\r\n"
   ]
  },
  {
   "cell_type": "code",
   "execution_count": 28,
   "id": "f3ae6b23-e11b-435e-8d49-7cd027d1a1b6",
   "metadata": {},
   "outputs": [
    {
     "name": "stdout",
     "output_type": "stream",
     "text": [
      "x больше 5, но не больше 10\n"
     ]
    }
   ],
   "source": [
    "x = 10\n",
    "if x > 10:\n",
    "    print(\"x больше 10\")\n",
    "elif x > 5:\n",
    "    print(\"x больше 5, но не больше 10\")\n",
    "else:\n",
    "    print(\"x меньше или равно 5\")\n"
   ]
  },
  {
   "cell_type": "markdown",
   "id": "da998bfd-db85-45d3-937e-5d3f59b7e9b4",
   "metadata": {},
   "source": [
    "Обсудим привет с категориями возрастов"
   ]
  },
  {
   "cell_type": "code",
   "execution_count": 33,
   "id": "8588e834-960b-47cb-805b-e66405643e4a",
   "metadata": {},
   "outputs": [
    {
     "name": "stdin",
     "output_type": "stream",
     "text": [
      "введите ваш возраст: 90\n"
     ]
    },
    {
     "name": "stdout",
     "output_type": "stream",
     "text": [
      "возраст 4\n"
     ]
    }
   ],
   "source": [
    "age = int(input('введите ваш возраст:'))\n",
    "if age <= 18:\n",
    "    print('возраст 1')\n",
    "elif age <= 35:\n",
    "    print('возраст 2')\n",
    "elif age <= 60:\n",
    "    print('возраст 3')\n",
    "else:\n",
    "    print('возраст 4')\n",
    "    \n",
    "    "
   ]
  },
  {
   "cell_type": "code",
   "execution_count": null,
   "id": "f79f428b-2cf4-4bc0-9dc2-d7034969553d",
   "metadata": {},
   "outputs": [],
   "source": [
    "Усложняем задачу с погодой"
   ]
  },
  {
   "cell_type": "code",
   "execution_count": 34,
   "id": "c8ed4de2-008a-46c4-8578-cd9d660ff7c9",
   "metadata": {},
   "outputs": [
    {
     "name": "stdin",
     "output_type": "stream",
     "text": [
      "введите идет ли дождь (1/Да Enter/Нет): 1\n",
      "введите есть ли солнце (1/Да Enter/Нет): 1\n",
      "введите идет ли снег (1/Да Enter/Нет): \n",
      "введите есть ли ветер (1/Да Enter/Нет): \n",
      "введите пасмурно ли (1/Да Enter/Нет): \n"
     ]
    },
    {
     "name": "stdout",
     "output_type": "stream",
     "text": [
      "Идет дождь.\n"
     ]
    }
   ],
   "source": [
    "is_raining = bool(input('введите идет ли дождь (1/Да Enter/Нет):'))\n",
    "is_sunny = bool(input('введите есть ли солнце (1/Да Enter/Нет):'))\n",
    "is_snowing = bool(input('введите идет ли снег (1/Да Enter/Нет):'))\n",
    "is_windy = bool(input('введите есть ли ветер (1/Да Enter/Нет):'))\n",
    "is_cloudy = bool(input('введите пасмурно ли (1/Да Enter/Нет):'))\n",
    "if is_raining:\n",
    "    print(\"Идет дождь.\")\n",
    "elif is_snowing:  # Снег имеет приоритет над другими условиями (кроме дождя)\n",
    "    print(\"Идет снег.\")\n",
    "elif is_sunny and not is_cloudy: # Явно проверяем на чистое небо\n",
    "    print(\"Солнечно и ясно.\")\n",
    "elif is_sunny and is_cloudy:\n",
    "    print(\"Солнечно, но облачно.\")\n",
    "elif is_cloudy:\n",
    "    print(\"Облачно.\")\n",
    "elif is_windy: # Ветер может быть при любой облачности\n",
    "    print(\"Ветрено.\")\n",
    "else:\n",
    "    print(\"Неизвестные погодные условия.\")"
   ]
  },
  {
   "cell_type": "markdown",
   "id": "fb3aa038-263d-4a27-82b9-5ef100488e1f",
   "metadata": {},
   "source": [
    "### Вложенные условия"
   ]
  },
  {
   "cell_type": "code",
   "execution_count": 35,
   "id": "49b37c64-b7de-4835-bdd3-40c99b60e14e",
   "metadata": {},
   "outputs": [
    {
     "name": "stdout",
     "output_type": "stream",
     "text": [
      "x находится в диапазоне от 0 до 10\n"
     ]
    }
   ],
   "source": [
    "x = 5\n",
    "if x > 0:\n",
    "    if x < 10:\n",
    "        print(\"x находится в диапазоне от 0 до 10\")\n",
    "    else:\n",
    "        print(\"x больше или равно 10\")\n",
    "else:\n",
    "    print(\"x меньше или равно 0\")"
   ]
  },
  {
   "cell_type": "markdown",
   "id": "ac909e5a-feaf-4388-9680-d595622cbbec",
   "metadata": {},
   "source": [
    "Аналогичное решение, но более компактное"
   ]
  },
  {
   "cell_type": "code",
   "execution_count": 36,
   "id": "7595e82c-1be4-4f74-a363-7938397fc3ef",
   "metadata": {},
   "outputs": [
    {
     "name": "stdout",
     "output_type": "stream",
     "text": [
      "x находится в диапазоне от 0 до 10\n"
     ]
    }
   ],
   "source": [
    "x = 5\n",
    "if x >= 10:\n",
    "    print(\"x больше или равно 10\")\n",
    "elif x > 0:\n",
    "    print(\"x находится в диапазоне от 0 до 10\")\n",
    "else:\n",
    "    print(\"x меньше или равно 0\")"
   ]
  },
  {
   "cell_type": "markdown",
   "id": "b8400336-b2ea-4935-b23a-20283f8b531d",
   "metadata": {},
   "source": [
    "Аналогичное решение, но менее компактное решение ))"
   ]
  },
  {
   "cell_type": "code",
   "execution_count": 37,
   "id": "88270b1f-26b4-4792-891e-6420f366d964",
   "metadata": {},
   "outputs": [
    {
     "name": "stdout",
     "output_type": "stream",
     "text": [
      "x находится в диапазоне от 0 до 10\n"
     ]
    }
   ],
   "source": [
    "x = 5\n",
    "if x > 0 and x < 10:\n",
    "    print(\"x находится в диапазоне от 0 до 10\")\n",
    "elif x > 0 and x >= 10:\n",
    "    print(\"x больше или равно 10\")\n",
    "else:\n",
    "    print(\"x меньше или равно 0\")"
   ]
  },
  {
   "cell_type": "markdown",
   "id": "30cc481c-b812-4341-9841-01e181752784",
   "metadata": {},
   "source": [
    "В примере с погодой давайте обсудим внутри каждого сценария что лучше надеть, например, или же мы можем дать рекомендацию, какая обувь подойдет! Тут мы можем учесть дополнительно слякоть, пыль и т.д. "
   ]
  },
  {
   "cell_type": "code",
   "execution_count": 41,
   "id": "a11bce29-eaa0-44ce-97d0-213f366bb1ab",
   "metadata": {},
   "outputs": [
    {
     "name": "stdin",
     "output_type": "stream",
     "text": [
      "введите идет ли дождь (1/Да Enter/Нет): \n",
      "введите есть ли слякоть (1/Да Enter/Нет): \n",
      "введите идет ли снег (1/Да Enter/Нет): 1\n",
      "введите есть ли ветер (1/Да Enter/Нет): 1\n"
     ]
    },
    {
     "name": "stdout",
     "output_type": "stream",
     "text": [
      "Идет снег. Рекомендуемая одежда: Cапоги, теплые носки, теплая куртка с капюшоном\n"
     ]
    }
   ],
   "source": [
    "is_raining = bool(input('введите идет ли дождь (1/Да Enter/Нет):'))\n",
    "is_slush = bool(input('введите есть ли слякоть (1/Да Enter/Нет):'))\n",
    "is_snowing = bool(input('введите идет ли снег (1/Да Enter/Нет):'))\n",
    "is_windy = bool(input('введите есть ли ветер (1/Да Enter/Нет):'))\n",
    "\n",
    "\n",
    "if is_raining:\n",
    "    # Что надеть, если идет дождь?\n",
    "    clothes = \"Непромокаемая куртка, резиновые сапоги\"\n",
    "    if is_slush:\n",
    "        # Если слякоть, что меняется?\n",
    "        clothes += \", теплые носки\" \n",
    "    print(\"Идет дождь. Рекомендуемая одежда:\", clothes)\n",
    "\n",
    "elif is_snowing:\n",
    "    clothes = \"Cапоги, теплые носки, теплая куртка\"\n",
    "    if is_windy:\n",
    "        clothes += \" с капюшоном\" \n",
    "    print(\"Идет снег. Рекомендуемая одежда:\", clothes)"
   ]
  },
  {
   "cell_type": "markdown",
   "id": "4a2d3068-d054-4ed7-bf1d-5ce5199e3613",
   "metadata": {},
   "source": [
    "### Приведение типов к логическому"
   ]
  },
  {
   "cell_type": "markdown",
   "id": "90488d6a-5269-416a-83f9-e16ab1957063",
   "metadata": {},
   "source": [
    "В Python все значения могут быть приведены к логическому типу bool. Любое ненулевое значение или непустой объект рассматриваются как истинное, а ноль или пустой объект - как ложное."
   ]
  },
  {
   "cell_type": "code",
   "execution_count": 47,
   "id": "cbce0741-9e52-441c-9146-10f4bd9253f6",
   "metadata": {},
   "outputs": [
    {
     "name": "stdout",
     "output_type": "stream",
     "text": [
      "x истинно\n"
     ]
    }
   ],
   "source": [
    "x = -2\n",
    "if x:\n",
    "    print(\"x истинно\")\n",
    "else:\n",
    "    print(\"x ложно\")\n"
   ]
  },
  {
   "cell_type": "markdown",
   "id": "6d898904-62a7-4e7e-9ab7-aa8adac8f3eb",
   "metadata": {},
   "source": [
    "Как вы думаете, как это работает для строк? А для числа минус ноль?"
   ]
  },
  {
   "cell_type": "code",
   "execution_count": null,
   "id": "545bd2d2-80f6-4a55-bbf5-fb581b0fea54",
   "metadata": {},
   "outputs": [],
   "source": [
    "\n"
   ]
  },
  {
   "cell_type": "markdown",
   "id": "a6a25ca6-bd39-4ade-8d73-c51e3b8ae8c0",
   "metadata": {},
   "source": [
    "### Тернарный оператор"
   ]
  },
  {
   "cell_type": "markdown",
   "id": "2753b65f-b4ca-420e-ac75-4abaca9e767a",
   "metadata": {},
   "source": [
    "выражение1 if условие else выражение2\r\n"
   ]
  },
  {
   "cell_type": "code",
   "execution_count": 49,
   "id": "ce5ef3ac-5bdb-4a2f-9640-d5b0a2897396",
   "metadata": {},
   "outputs": [
    {
     "name": "stdout",
     "output_type": "stream",
     "text": [
      "x больше 10\n"
     ]
    }
   ],
   "source": [
    "x = 15\n",
    "message = \"x больше 10\" if x > 10 else \"x меньше или равно 10\"\n",
    "print(message)\n"
   ]
  },
  {
   "cell_type": "code",
   "execution_count": 50,
   "id": "8b09a8ce-8f9b-41d2-95b2-b553f913d2fd",
   "metadata": {},
   "outputs": [
    {
     "name": "stdout",
     "output_type": "stream",
     "text": [
      "x больше 10\n"
     ]
    }
   ],
   "source": [
    "x = 15\n",
    "if x > 10:\n",
    "    message = \"x больше 10\"\n",
    "else:\n",
    "    message = \"x меньше или равно 10\"\n",
    "print(message)\n",
    "\n"
   ]
  },
  {
   "cell_type": "markdown",
   "id": "865e4fc4-2b19-4ffe-ba66-657861197368",
   "metadata": {},
   "source": [
    "### Решение задач"
   ]
  },
  {
   "cell_type": "markdown",
   "id": "6da8846f-14a1-42c0-9a44-ce6652e2348d",
   "metadata": {},
   "source": [
    "1. Считывается число дней в месяце, в зависимости от этого выводятся все подходящие названия месяцев. Для 28 или 29 также необходимо указать високосность/невисокосность года.\n"
   ]
  },
  {
   "cell_type": "code",
   "execution_count": 57,
   "id": "d8f77b80-0a72-4733-be30-1285debe1c63",
   "metadata": {},
   "outputs": [
    {
     "name": "stdin",
     "output_type": "stream",
     "text": [
      "введите год 2023\n",
      "введите количество дней в месяце 28\n"
     ]
    },
    {
     "name": "stdout",
     "output_type": "stream",
     "text": [
      "год не високосный\n",
      "февраль\n"
     ]
    }
   ],
   "source": [
    "year = int(input('введите год'))\n",
    "month = int(input('введите количество дней в месяце'))\n",
    "if year % 4 == 0:\n",
    "    print('год високосный')\n",
    "    if month == 29:\n",
    "        print('февраль')\n",
    "    elif month==31:\n",
    "        print('январь, март, май, июль, август, октябрь, декабрь')\n",
    "    else:\n",
    "        print('апрель, июнь, сентябрь, ноябрь')\n",
    "      \n",
    "    \n",
    "else:\n",
    "    print('год не високосный')\n",
    "    if month == 28:\n",
    "        print('февраль')\n",
    "    elif month==31:\n",
    "        print('январь, март, май, июль, август, октябрь, декабрь')\n",
    "    else:\n",
    "        print('апрель, июнь, сентябрь, ноябрь')"
   ]
  },
  {
   "cell_type": "markdown",
   "id": "e270bef8-fe88-4681-b51f-b2c6dfe14509",
   "metadata": {},
   "source": [
    "2. Напишите программу, которая запрашивает у пользователя год его рождения и выводит сообщение о том, к какому поколению он относится. Поколения и их соответствующие годы рождения определены следующим образом:\n",
    "* \"Бэби-бумеры\": родившиеся до 1965 года включительно.\n",
    "* \"Поколение X\": родившиеся между 1966 и 1980 годами включительно.\n",
    "* \"Поколение Y\" или \"миллениалы\": родившиеся между 1981 и 1996 годами включительно.\n",
    "* \"Поколение Z\": родившиеся после 1996 года.\n",
    "  \n",
    "Пример вывода:\n",
    "Введите год вашего рождения: 1990\n",
    "Вы относитесь к поколению Y (миллениалы)."
   ]
  },
  {
   "cell_type": "code",
   "execution_count": null,
   "id": "b94dbd74-bb09-4239-994a-bceb58197110",
   "metadata": {},
   "outputs": [],
   "source": []
  },
  {
   "cell_type": "markdown",
   "id": "ea9a134f-8476-47c4-a77e-2906f6d482f9",
   "metadata": {},
   "source": [
    "## Полезные материалы\r\n",
    "1. Инструкция if-elif-else, проверка истинности, трехместное выражение if/else\r\n",
    "https://pythonworld.ru/osnovy/instrukciya-if-elif-else-proverka-istinnosti-trexmestnoe-vyrazhenie-ifelse.html\r\n"
   ]
  },
  {
   "cell_type": "markdown",
   "id": "c426d72e-9d46-4251-bfc7-fc7714461df5",
   "metadata": {},
   "source": [
    "## Вопросы для закрепления\n",
    "1. Обязателен ли в условном операторе else?\n",
    "2. Может ли быть elif, но не быть else? В каких случаях это может быть полезно?\n",
    "3. Мы хотим записать в переменную 1 если введенное число отрицательное, 2 если оно положительное и меньше тысячи, 3 если оно между тысячью и миллиардом и 4 если число больше миллиарда. Оправданно ли в этом случае использовать тернарный оператор?"
   ]
  },
  {
   "cell_type": "code",
   "execution_count": null,
   "id": "f4167dc2-9253-46a9-a28d-92edb0354f22",
   "metadata": {},
   "outputs": [],
   "source": []
  }
 ],
 "metadata": {
  "kernelspec": {
   "display_name": "Python 3 (ipykernel)",
   "language": "python",
   "name": "python3"
  },
  "language_info": {
   "codemirror_mode": {
    "name": "ipython",
    "version": 3
   },
   "file_extension": ".py",
   "mimetype": "text/x-python",
   "name": "python",
   "nbconvert_exporter": "python",
   "pygments_lexer": "ipython3",
   "version": "3.12.4"
  }
 },
 "nbformat": 4,
 "nbformat_minor": 5
}
