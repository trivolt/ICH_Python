{
 "cells": [
  {
   "cell_type": "markdown",
   "id": "98a3a86c-dda4-4de8-a759-4348f78047e9",
   "metadata": {},
   "source": [
    "# Операторы, выражения"
   ]
  },
  {
   "cell_type": "code",
   "execution_count": 22,
   "id": "36533373-fa4b-41ae-80bd-a1dfe0b7a1e5",
   "metadata": {},
   "outputs": [
    {
     "name": "stdout",
     "output_type": "stream",
     "text": [
      "Тебе 25\n"
     ]
    }
   ],
   "source": [
    "age = 25\n",
    "print('Тебе', age)"
   ]
  },
  {
   "cell_type": "code",
   "execution_count": 24,
   "id": "f27ab37e-3493-4425-97a5-db0055dd2f7f",
   "metadata": {},
   "outputs": [
    {
     "name": "stdout",
     "output_type": "stream",
     "text": [
      "Тебе 25\n"
     ]
    }
   ],
   "source": [
    "age = '25'\n",
    "print('Тебе '+age)"
   ]
  },
  {
   "cell_type": "code",
   "execution_count": 25,
   "id": "f39b9fdb-e38d-46f2-86c5-e6a1a6ee91a2",
   "metadata": {},
   "outputs": [
    {
     "name": "stdout",
     "output_type": "stream",
     "text": [
      "Тебе 25\n"
     ]
    }
   ],
   "source": [
    "age = 25\n",
    "print('Тебе', age)"
   ]
  },
  {
   "cell_type": "code",
   "execution_count": 26,
   "id": "4ad5a032-1a5b-429e-8aba-a7e718b1bac8",
   "metadata": {},
   "outputs": [
    {
     "name": "stdout",
     "output_type": "stream",
     "text": [
      "10\n"
     ]
    }
   ],
   "source": [
    "n = '1010'\n",
    "print(int(n,2))"
   ]
  },
  {
   "cell_type": "code",
   "execution_count": 27,
   "id": "3eef6dcf-3f49-4355-a377-abd180ab5f39",
   "metadata": {},
   "outputs": [
    {
     "name": "stdout",
     "output_type": "stream",
     "text": [
      "0b1100110\n"
     ]
    }
   ],
   "source": [
    "m = 102\n",
    "print(bin(m))"
   ]
  },
  {
   "cell_type": "markdown",
   "id": "4216d974-cd8d-48b4-a512-cdb093451a3a",
   "metadata": {},
   "source": [
    "## Арифметические операции\n",
    "* сложение (+),\n",
    "* вычитание (-),\n",
    "* умножение (*),\n",
    "* деление (/),\n",
    "* целочисленное деление (//),\n",
    "* взятие остатка от деления (%)\n",
    "* возведение в степень (**).\n",
    "Они позволяют производить различные математические вычисления."
   ]
  },
  {
   "cell_type": "code",
   "execution_count": 28,
   "id": "7beb1cec-7a44-47ba-8f7e-80dd687bc49e",
   "metadata": {},
   "outputs": [],
   "source": [
    "x = 5\n",
    "y = 2"
   ]
  },
  {
   "cell_type": "code",
   "execution_count": 29,
   "id": "f590b8bc-6165-41b1-b0d4-dabad5b75659",
   "metadata": {},
   "outputs": [
    {
     "name": "stdout",
     "output_type": "stream",
     "text": [
      "7\n"
     ]
    }
   ],
   "source": [
    "print(x + y)\n"
   ]
  },
  {
   "cell_type": "code",
   "execution_count": 30,
   "id": "d4e77838-409f-4368-93b0-b186e2eb056a",
   "metadata": {},
   "outputs": [
    {
     "name": "stdout",
     "output_type": "stream",
     "text": [
      "3\n"
     ]
    }
   ],
   "source": [
    "print(x - y)  "
   ]
  },
  {
   "cell_type": "code",
   "execution_count": 31,
   "id": "2bc34d16-d14e-422b-a724-ecde80ae0f37",
   "metadata": {},
   "outputs": [
    {
     "name": "stdout",
     "output_type": "stream",
     "text": [
      "10\n"
     ]
    }
   ],
   "source": [
    "print(x * y)"
   ]
  },
  {
   "cell_type": "code",
   "execution_count": 32,
   "id": "7b8426e7-609f-4f30-bea5-d9f92b1dd0da",
   "metadata": {},
   "outputs": [
    {
     "name": "stdout",
     "output_type": "stream",
     "text": [
      "2.5\n"
     ]
    }
   ],
   "source": [
    "print(x / y)\n"
   ]
  },
  {
   "cell_type": "code",
   "execution_count": 33,
   "id": "8c092c72-9fc3-4202-ad9b-82c743a1b34a",
   "metadata": {},
   "outputs": [
    {
     "name": "stdout",
     "output_type": "stream",
     "text": [
      "2\n"
     ]
    }
   ],
   "source": [
    "print(x // y) "
   ]
  },
  {
   "cell_type": "code",
   "execution_count": 34,
   "id": "8e40e42d-ae80-4b91-af89-208bf25a7b06",
   "metadata": {},
   "outputs": [
    {
     "name": "stdout",
     "output_type": "stream",
     "text": [
      "1\n"
     ]
    }
   ],
   "source": [
    "print(x % y) "
   ]
  },
  {
   "cell_type": "code",
   "execution_count": 35,
   "id": "05076823-37f2-44dc-aac3-30a678d0e54c",
   "metadata": {},
   "outputs": [
    {
     "name": "stdout",
     "output_type": "stream",
     "text": [
      "2\n"
     ]
    }
   ],
   "source": [
    "x = 2\n",
    "y = 5\n",
    "print(x % y)"
   ]
  },
  {
   "cell_type": "code",
   "execution_count": 37,
   "id": "76508243-3999-43a8-bb07-97efa69ec2b9",
   "metadata": {},
   "outputs": [],
   "source": [
    "x = 5\n",
    "y = 2"
   ]
  },
  {
   "cell_type": "code",
   "execution_count": 38,
   "id": "0eac7d96-4250-401d-ab95-279f7a6c8796",
   "metadata": {},
   "outputs": [
    {
     "name": "stdout",
     "output_type": "stream",
     "text": [
      "25\n"
     ]
    }
   ],
   "source": [
    "print(x ** y)"
   ]
  },
  {
   "cell_type": "code",
   "execution_count": 40,
   "id": "d4a0c4ff-cd18-4edf-a538-f72862b75480",
   "metadata": {},
   "outputs": [
    {
     "data": {
      "text/plain": [
       "1"
      ]
     },
     "execution_count": 40,
     "metadata": {},
     "output_type": "execute_result"
    }
   ],
   "source": [
    "23 % 2"
   ]
  },
  {
   "cell_type": "code",
   "execution_count": 41,
   "id": "7745b4a1-2d32-43b6-af4a-6a0dc3b145eb",
   "metadata": {},
   "outputs": [
    {
     "data": {
      "text/plain": [
       "8.0"
      ]
     },
     "execution_count": 41,
     "metadata": {},
     "output_type": "execute_result"
    }
   ],
   "source": [
    "40 / 5"
   ]
  },
  {
   "cell_type": "markdown",
   "id": "9c59fb58-26b4-48c1-9646-09d6fa269678",
   "metadata": {},
   "source": [
    "## Точность операций с вещественными числами"
   ]
  },
  {
   "attachments": {},
   "cell_type": "markdown",
   "id": "805ba508-4c2f-4061-8ec5-9e01cdf02e33",
   "metadata": {},
   "source": [
    "* Вещественные числа хранятся в памяти компьютера с некоторой погрешностью.\r",
    "* \n",
    "Сравнивать на равенство вещественные числа с помощью знака == не совсем корректно.\r\n"
   ]
  },
  {
   "cell_type": "markdown",
   "id": "83b96232-51ae-4b96-9aa3-e664d0f69981",
   "metadata": {},
   "source": [
    "Сравнение вещественных чисел с помощью знака == не всегда корректно из-за особенностей представления чисел с плавающей запятой в компьютерах. Вещественные числа хранятся в формате, который не всегда может точно представить десятичные дроби, что приводит к небольшим ошибкам округления. Эти ошибки могут накапливаться при выполнении арифметических операций, и два числа, которые математически должны быть равны, могут оказаться немного различными.\r\n",
    "\r\n",
    "Например, результатом вычисления может быть число, очень близкое к ожидаемому, но не точно равное ему:"
   ]
  },
  {
   "cell_type": "code",
   "execution_count": 43,
   "id": "fac6a078-99b9-441d-8b13-0a634f19f0b1",
   "metadata": {},
   "outputs": [
    {
     "name": "stdout",
     "output_type": "stream",
     "text": [
      "False\n"
     ]
    }
   ],
   "source": [
    "a = 0.1 + 0.2\n",
    "b = 0.3\n",
    "print(a == b)  # Выводит False\n"
   ]
  },
  {
   "cell_type": "markdown",
   "id": "186779b4-8f28-4d48-a5d1-7ce062842c01",
   "metadata": {},
   "source": [
    "При выполнении операций с вещественными числами в Python может возникнуть проблема точности из-за внутреннего представления чисел в памяти компьютера. Это может привести к округлению и небольшим ошибкам при вычислениях."
   ]
  },
  {
   "cell_type": "code",
   "execution_count": 42,
   "id": "411afb41-0a24-4b0e-85bd-c3b0a2b65407",
   "metadata": {},
   "outputs": [
    {
     "name": "stdout",
     "output_type": "stream",
     "text": [
      "0.30000000000000004\n"
     ]
    }
   ],
   "source": [
    "x = 0.1 + 0.1 + 0.1\n",
    "print(x)"
   ]
  },
  {
   "cell_type": "markdown",
   "id": "13a69245-4532-4cbc-86e7-d68a452ec407",
   "metadata": {},
   "source": [
    "### Напишем программу\n",
    "n школьников делят k яблок поровну, неделящийся остаток остается в корзинке. Сколько яблок достанется каждому школьнику? Сколько яблок останется в корзинке? Программа получает на вход числа n и k и должна вывести искомое количество яблок (два числа)"
   ]
  },
  {
   "cell_type": "code",
   "execution_count": null,
   "id": "6c4f6f32-e989-4567-a6f6-047f9548a1fe",
   "metadata": {},
   "outputs": [],
   "source": [
    "n = int(input('введите кол-во школьников'))\n",
    "k = int(input('введите кол-во яблок'))\n",
    "\n",
    "print('У каждого будет:',k//n,'яблок', \"В корзине остается:\",n%k)"
   ]
  },
  {
   "cell_type": "markdown",
   "id": "89486123-d152-4156-a418-2053a47479ba",
   "metadata": {},
   "source": [
    "## Битовые операции"
   ]
  },
  {
   "cell_type": "markdown",
   "id": "17aa3424-47d3-4cb9-951e-649d9d9248c9",
   "metadata": {},
   "source": [
    "Python поддерживает битовые операции, которые позволяют работать с битами в двоичном представлении чисел. Доступны операции:\n",
    "* побитового И (&)\n",
    "* побитового ИЛИ (|)\n",
    "* побитового исключающего ИЛИ (^)\n",
    "* побитового сдвига влево (<<)\n",
    "* побитового сдвига вправо (>>) Выводит 5\r\n"
   ]
  },
  {
   "cell_type": "code",
   "execution_count": 44,
   "id": "12e608df-ec15-45ef-999c-a6c91029edab",
   "metadata": {},
   "outputs": [],
   "source": [
    "x = 10  # 1010 в двоичной системе\n",
    "y = 5  # 0101 в двоичной системе\n"
   ]
  },
  {
   "cell_type": "code",
   "execution_count": 45,
   "id": "66d6a5c4-985d-4951-96b3-f5fe5a4910b3",
   "metadata": {},
   "outputs": [
    {
     "name": "stdout",
     "output_type": "stream",
     "text": [
      "0\n"
     ]
    }
   ],
   "source": [
    "print(x & y)\n"
   ]
  },
  {
   "cell_type": "code",
   "execution_count": 46,
   "id": "74fd3cf3-6dd9-442e-8cd8-74a1bb45bd92",
   "metadata": {},
   "outputs": [
    {
     "name": "stdout",
     "output_type": "stream",
     "text": [
      "15\n"
     ]
    }
   ],
   "source": [
    "print(x | y)\n"
   ]
  },
  {
   "cell_type": "code",
   "execution_count": 47,
   "id": "b4a57869-069e-4609-a8de-081e6ad082d7",
   "metadata": {},
   "outputs": [
    {
     "name": "stdout",
     "output_type": "stream",
     "text": [
      "15\n"
     ]
    }
   ],
   "source": [
    "print(x ^ y)"
   ]
  },
  {
   "cell_type": "code",
   "execution_count": 48,
   "id": "5ea316a5-a000-404a-88cf-8c54daf5c574",
   "metadata": {},
   "outputs": [
    {
     "name": "stdout",
     "output_type": "stream",
     "text": [
      "20\n"
     ]
    }
   ],
   "source": [
    "print(x << 1) #1010 Равносильня операции умножения исходного числа на 2!!!\n"
   ]
  },
  {
   "cell_type": "code",
   "execution_count": 49,
   "id": "46456440-f9c4-4fbe-8ad7-f5afc1b19dfd",
   "metadata": {},
   "outputs": [
    {
     "name": "stdout",
     "output_type": "stream",
     "text": [
      "5\n"
     ]
    }
   ],
   "source": [
    "print(x >> 1) # Раносильна операции деления на 2"
   ]
  },
  {
   "cell_type": "code",
   "execution_count": 20,
   "id": "95626000-f8d8-4f4d-a499-d6fb353e6cf2",
   "metadata": {},
   "outputs": [
    {
     "name": "stdout",
     "output_type": "stream",
     "text": [
      "-11\n"
     ]
    }
   ],
   "source": [
    "print(~x)"
   ]
  },
  {
   "cell_type": "markdown",
   "id": "4b331a6a-b813-4300-b9aa-99b183aad9d1",
   "metadata": {},
   "source": [
    "## Встроенные математические функции"
   ]
  },
  {
   "cell_type": "markdown",
   "id": "e945fa93-3b5c-4197-81ff-de9767aaac37",
   "metadata": {},
   "source": [
    "Python предлагает множество встроенных математических функций, которые позволяют выполнять различные вычисления и манипуляции с числами. Некоторые из них:\n",
    "* abs(): возвращает абсолютное значение числа.\n",
    "* pow(): возводит число в указанную степень.\n",
    "* round(): округляет число до указанного количества десятичных знаков.\n",
    "* max(): возвращает наибольшее значение из указанных.\n",
    "* min(): возвращает наименьшее значение из указанных.\n",
    "* sum(): возвращает сумму всех элементов в списке или кортеже чисел\n",
    "\n"
   ]
  },
  {
   "cell_type": "markdown",
   "id": "ae1fe33b-9951-42df-a292-58c8d973bd37",
   "metadata": {},
   "source": [
    "https://docs.python.org/3/library/functions.html"
   ]
  },
  {
   "cell_type": "code",
   "execution_count": 51,
   "id": "d410b6be-919b-4452-b99d-2676407ef3bb",
   "metadata": {},
   "outputs": [
    {
     "data": {
      "text/plain": [
       "2"
      ]
     },
     "execution_count": 51,
     "metadata": {},
     "output_type": "execute_result"
    }
   ],
   "source": [
    "round(2.3345)"
   ]
  },
  {
   "cell_type": "code",
   "execution_count": 53,
   "id": "67190cdb-156a-4e8b-98ff-e64cf44cd6b4",
   "metadata": {},
   "outputs": [
    {
     "data": {
      "text/plain": [
       "2.333"
      ]
     },
     "execution_count": 53,
     "metadata": {},
     "output_type": "execute_result"
    }
   ],
   "source": [
    "round(2.333333,3)"
   ]
  },
  {
   "cell_type": "code",
   "execution_count": 55,
   "id": "ff9b5cf5-a1f7-483a-9ce2-a5faf1c0240c",
   "metadata": {},
   "outputs": [
    {
     "data": {
      "text/plain": [
       "3"
      ]
     },
     "execution_count": 55,
     "metadata": {},
     "output_type": "execute_result"
    }
   ],
   "source": [
    "min(3,7,34, 567)"
   ]
  },
  {
   "cell_type": "code",
   "execution_count": 58,
   "id": "d94841b4-14ad-4b3d-a092-53c4b530fd18",
   "metadata": {},
   "outputs": [
    {
     "data": {
      "text/plain": [
       "8"
      ]
     },
     "execution_count": 58,
     "metadata": {},
     "output_type": "execute_result"
    }
   ],
   "source": [
    "pow(2,3) #Равносильно 2**3"
   ]
  },
  {
   "cell_type": "code",
   "execution_count": 59,
   "id": "ad141bc2-73a2-4ebc-998d-dac997b76da2",
   "metadata": {},
   "outputs": [
    {
     "data": {
      "text/plain": [
       "139"
      ]
     },
     "execution_count": 59,
     "metadata": {},
     "output_type": "execute_result"
    }
   ],
   "source": [
    "sum([2,3,34,100])"
   ]
  },
  {
   "cell_type": "markdown",
   "id": "89d2d28a-5e99-4d01-893b-8b5ac91c523f",
   "metadata": {},
   "source": [
    "## Приоритет операций"
   ]
  },
  {
   "attachments": {
    "14379fdf-fdc1-49a8-8652-21afb8504bbc.png": {
     "image/png": "[encoded data removed]"
    },
    "86ece027-3824-4ab7-afc2-adfaecd008b6.png": {
     "image/png": "[encoded data removed]"
    }
   },
   "cell_type": "markdown",
   "id": "a49d267c-f07d-4a34-b005-2c9eaf994c37",
   "metadata": {},
   "source": [
    "![image.png](attachment:86ece027-3824-4ab7-afc2-adfaecd008b6.png)![image.png](attachment:14379fdf-fdc1-49a8-8652-21afb8504bbc.png)"
   ]
  },
  {
   "cell_type": "code",
   "execution_count": 60,
   "id": "4fbda4d4-22dd-42d1-b727-0cb3bed42dcc",
   "metadata": {},
   "outputs": [
    {
     "name": "stdout",
     "output_type": "stream",
     "text": [
      "14\n"
     ]
    }
   ],
   "source": [
    "x = 2 + 3 * 4  # Умножение выполнится первым, затем сложение\n",
    "print(x)  # Выводит 14\n"
   ]
  },
  {
   "cell_type": "code",
   "execution_count": 61,
   "id": "8c0e4df6-1f9a-4c6c-9846-3de6c17e8ae1",
   "metadata": {},
   "outputs": [
    {
     "name": "stdout",
     "output_type": "stream",
     "text": [
      "20\n"
     ]
    }
   ],
   "source": [
    "y = (2 + 3) * 4  # Сложение выполняется первым, затем умножение\n",
    "print(y)  # Выводит 20"
   ]
  },
  {
   "cell_type": "markdown",
   "id": "08c087af-7f52-4e66-8157-bcc87dde01ab",
   "metadata": {},
   "source": [
    "## Деление на ноль"
   ]
  },
  {
   "cell_type": "code",
   "execution_count": 62,
   "id": "e76d7143-0421-400d-88e0-dce1ba72cb38",
   "metadata": {},
   "outputs": [
    {
     "ename": "ZeroDivisionError",
     "evalue": "division by zero",
     "output_type": "error",
     "traceback": [
      "\u001b[1;31m---------------------------------------------------------------------------\u001b[0m",
      "\u001b[1;31mZeroDivisionError\u001b[0m                         Traceback (most recent call last)",
      "Cell \u001b[1;32mIn[62], line 3\u001b[0m\n\u001b[0;32m      1\u001b[0m x \u001b[38;5;241m=\u001b[39m \u001b[38;5;241m10\u001b[39m\n\u001b[0;32m      2\u001b[0m y \u001b[38;5;241m=\u001b[39m \u001b[38;5;241m0\u001b[39m\n\u001b[1;32m----> 3\u001b[0m \u001b[38;5;28mprint\u001b[39m(x \u001b[38;5;241m/\u001b[39m y)\n",
      "\u001b[1;31mZeroDivisionError\u001b[0m: division by zero"
     ]
    }
   ],
   "source": [
    "x = 10\n",
    "y = 0\n",
    "print(x / y)\n"
   ]
  },
  {
   "cell_type": "markdown",
   "id": "9b3acddd-f9b4-4969-9992-f86bb68d057d",
   "metadata": {},
   "source": [
    "Деление на ноль приводит к математической неопределенности из-за уникальных свойств числа ноль и его взаимодействия с другими числами. Вот несколько ключевых причин:\n",
    "* Отсутствие обратного элемента: Деление — это операция, обратная умножению. Однако у нуля нет обратного элемента, потому что любое число, умноженное на ноль, дает ноль. Например, уравнение $$ x \\cdot 0 = 1 $$ не имеет решения, так как никакое число ( x ) не может удовлетворить это уравнение.\n",
    "* Противоречия в арифметике: Если бы деление на ноль было возможно, это привело бы к логическим противоречиям. Например, если бы $$ \\frac{a}{0} $$ имело какое-то значение, то умножение этого значения на ноль должно было бы вернуть ( a ). Но любое число, умноженное на ноль, равно нулю, что создает противоречие\n",
    "* Пределы и бесконечность: В математическом анализе деление на ноль часто рассматривается через пределы. Например, функция $$ \\frac{a}{x} $$ при ( x ) стремящемся к нулю может стремиться к бесконечности или минус бесконечности в зависимости от направления приближения. Это показывает, что результат деления на ноль не определен и может быть бесконечно большим"
   ]
  },
  {
   "cell_type": "markdown",
   "id": "0cbcd2b2-3b24-4a6a-98fa-35c41e52cf8c",
   "metadata": {},
   "source": [
    "## Операторы приращения"
   ]
  },
  {
   "cell_type": "code",
   "execution_count": 63,
   "id": "69d74a71-a8fd-4fb7-b25b-e5ac93134e66",
   "metadata": {},
   "outputs": [
    {
     "name": "stdout",
     "output_type": "stream",
     "text": [
      "7\n"
     ]
    }
   ],
   "source": [
    "x = 5\n",
    "x += 2  # Эквивалентно x = x + 2\n",
    "print(x)"
   ]
  },
  {
   "cell_type": "code",
   "execution_count": 66,
   "id": "730de630-d8a8-4c6d-8288-4806ed749ba1",
   "metadata": {},
   "outputs": [
    {
     "name": "stdout",
     "output_type": "stream",
     "text": [
      "6\n"
     ]
    }
   ],
   "source": [
    "x = 5\n",
    "x += 1\n",
    "print(x)"
   ]
  },
  {
   "cell_type": "code",
   "execution_count": 67,
   "id": "bdce4ee9-94ed-40c6-bf99-58d06e69392d",
   "metadata": {},
   "outputs": [],
   "source": [
    "x -= 2 # x = x - 2\n"
   ]
  },
  {
   "cell_type": "code",
   "execution_count": 68,
   "id": "97e7ddce-3d39-4c16-9a00-6576f5357295",
   "metadata": {},
   "outputs": [
    {
     "name": "stdout",
     "output_type": "stream",
     "text": [
      "4\n"
     ]
    }
   ],
   "source": [
    "print(x)"
   ]
  },
  {
   "cell_type": "code",
   "execution_count": 69,
   "id": "d8780083-b7b7-4587-931f-e092b1313427",
   "metadata": {},
   "outputs": [
    {
     "name": "stdout",
     "output_type": "stream",
     "text": [
      "10\n"
     ]
    }
   ],
   "source": [
    "x = 5\n",
    "x *= 2 # x=x*2\n",
    "print(x)"
   ]
  },
  {
   "cell_type": "code",
   "execution_count": 70,
   "id": "dcba618c-e819-4018-a675-4e67b4d67cbd",
   "metadata": {},
   "outputs": [
    {
     "name": "stdout",
     "output_type": "stream",
     "text": [
      "5.0\n"
     ]
    }
   ],
   "source": [
    "x =10\n",
    "x /= 2\n",
    "print(x)"
   ]
  },
  {
   "cell_type": "code",
   "execution_count": 71,
   "id": "ed7c0882-876c-46d4-8339-2d6a707aa9ff",
   "metadata": {},
   "outputs": [
    {
     "name": "stdout",
     "output_type": "stream",
     "text": [
      "100\n"
     ]
    }
   ],
   "source": [
    "x =10\n",
    "x **= 2 # x = x ** 2\n",
    "print(x)"
   ]
  },
  {
   "cell_type": "markdown",
   "id": "4227de33-778c-47bd-a61b-56d63ff102cd",
   "metadata": {},
   "source": [
    "## Практическая работа"
   ]
  },
  {
   "cell_type": "markdown",
   "id": "036b551d-6150-4489-8a4b-68a3bdbab2a5",
   "metadata": {},
   "source": [
    "1. Студент реализует другие функции с помощью элементарных математических операций, например, максимум, в виде последовательности выражений, в которых запрещены функции и сравнения. Например, print((a + b) / 2 + abs(a - b) / 2). \n"
   ]
  },
  {
   "cell_type": "code",
   "execution_count": 19,
   "id": "59f7db7f-b99e-4d05-bd8d-ea35a230340c",
   "metadata": {},
   "outputs": [
    {
     "data": {
      "text/plain": [
       "3.141592653589793"
      ]
     },
     "execution_count": 19,
     "metadata": {},
     "output_type": "execute_result"
    }
   ],
   "source": [
    "a = int(input())\n",
    "b = int(input())\n",
    "\n",
    "print((a + b) / 2 + abs(a - b) / 2)"
   ]
  },
  {
   "cell_type": "markdown",
   "id": "56bb1846-a5be-4960-bbda-eb16252bff79",
   "metadata": {},
   "source": [
    "\n",
    "2. Написать программу, которая принимает несколько аргументов и возвращает заранее заданную функцию от них. Например, программе на вход приходят 4 числа, записанные в разных строках – количество дней, часов, минут и секунд. Вывести это время в секундах.\n"
   ]
  },
  {
   "cell_type": "code",
   "execution_count": null,
   "id": "5ec66db4-7f4c-40ca-84ca-be86026ba3c3",
   "metadata": {},
   "outputs": [],
   "source": [
    "days = int(input())\n",
    "hours = int(input())\n",
    "minuts = int(input())\n",
    "seconds = int(input())\n",
    "\n",
    "print(days*24*60*60*60 + hours*60*60 + minuts*60 + seconds)"
   ]
  },
  {
   "cell_type": "code",
   "execution_count": null,
   "id": "de629924-b043-4660-9959-683b7e3242e6",
   "metadata": {},
   "outputs": [],
   "source": [
    "import math \n",
    "\n",
    "math.pi\n"
   ]
  },
  {
   "cell_type": "markdown",
   "id": "f0b6c645-0945-4782-959f-0cb27eb98e5a",
   "metadata": {},
   "source": [
    "## Полезные материалы\r\n",
    "Python: Арифметические операции. https://code-basics.com/ru/languages/python/lessons/basic\n",
    "\r\n",
    "Битовые операторы https://www.bestprog.net/ru/2019/10/21/python-bitwise-operators-ru\n",
    "\n",
    "https://javarush.com/groups/posts/3997-vejshestvennihe-chisla-v-pamjati-kompjhjutera-/ "
   ]
  },
  {
   "cell_type": "markdown",
   "id": "b8fc0dee-3072-407b-b127-a84617b8d223",
   "metadata": {},
   "source": [
    "## Вопросы для закрепления"
   ]
  },
  {
   "cell_type": "markdown",
   "id": "d9af83a0-8aa2-46dd-894c-b276ff6d0d87",
   "metadata": {},
   "source": [
    "1. \n",
    "В чем отличия операторов / и // \n",
    "2. \r\n",
    "Не пользуясь интерпретатором Пайтона, назовите результат операции 6 // 2. И 7//\n",
    "3.  \r\n",
    "Есть квадрат со стороной 5. Напишите программу, которая печатает площадь квадра\n",
    "4. . \r\n",
    "Напишите программу, которая считает площадь прямоугольника, кр\n",
    "5. а. \r\n",
    "Как вы думаете, в чем преимущество операторов приращения перед оператором присваивния?\r\n"
   ]
  },
  {
   "cell_type": "code",
   "execution_count": null,
   "id": "401018cc-a8bf-4d8a-8303-0cbea0f520f4",
   "metadata": {},
   "outputs": [],
   "source": []
  }
 ],
 "metadata": {
  "kernelspec": {
   "display_name": "Python 3 (ipykernel)",
   "language": "python",
   "name": "python3"
  },
  "language_info": {
   "codemirror_mode": {
    "name": "ipython",
    "version": 3
   },
   "file_extension": ".py",
   "mimetype": "text/x-python",
   "name": "python",
   "nbconvert_exporter": "python",
   "pygments_lexer": "ipython3",
   "version": "3.12.4"
  }
 },
 "nbformat": 4,
 "nbformat_minor": 5
}
