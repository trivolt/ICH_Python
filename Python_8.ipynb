{
 "cells": [
  {
   "attachments": {},
   "cell_type": "markdown",
   "id": "0c54dda2-6cb3-48b1-b016-a547d1124290",
   "metadata": {},
   "source": [
    "# Работа с математическими модулями. Вещественные числа\r\n"
   ]
  },
  {
   "cell_type": "markdown",
   "id": "e156071d-e8a6-4e68-ab98-5eb90c4d566c",
   "metadata": {},
   "source": [
    "В Python существует возможность работы с вещественными числами в формате с фиксированной запятой. Этот формат позволяет задать фиксированное количество знаков до и после запятой, обеспечивая точность вычислений в конкретной предметной области. Для работы с форматом с фиксированной запятой в Python можно использовать модуль decimal. Этот модуль предоставляет класс Decimal, который представляет вещественные числа с произвольной точностью."
   ]
  },
  {
   "cell_type": "markdown",
   "id": "56b5010f-83c9-496b-bc32-feecdec5e797",
   "metadata": {},
   "source": [
    "### Модули"
   ]
  },
  {
   "cell_type": "markdown",
   "id": "72735a0d-4373-4619-8456-16d55bf85362",
   "metadata": {},
   "source": [
    "Модуль в Python - это файл, содержащий определения функций, классов и переменных, которые могут быть использованы в других программах. Модули позволяют организовать код в логические блоки и повторно использовать его. Для использования модуля в программе необходимо выполнить операцию импорта.\r\n"
   ]
  },
  {
   "cell_type": "code",
   "execution_count": 34,
   "id": "a5ae9d6d-a670-4988-adf0-074af95653a1",
   "metadata": {},
   "outputs": [
    {
     "name": "stdout",
     "output_type": "stream",
     "text": [
      "Requirement already satisfied: numpy in c:\\users\\dplog\\anaconda3\\lib\\site-packages (1.26.4)\n",
      "Note: you may need to restart the kernel to use updated packages.\n"
     ]
    }
   ],
   "source": [
    "pip install numpy"
   ]
  },
  {
   "cell_type": "code",
   "execution_count": 32,
   "id": "b6de719d-22d8-469a-a21c-fa2061e1711f",
   "metadata": {},
   "outputs": [],
   "source": [
    "import decimal # импортируем"
   ]
  },
  {
   "cell_type": "markdown",
   "id": "aa7af8af-34f0-44a6-9061-f3d9bd3230af",
   "metadata": {},
   "source": [
    "#### Различные варианты import"
   ]
  },
  {
   "cell_type": "markdown",
   "id": "15bb7485-6e21-4b65-9241-cf4947dbf553",
   "metadata": {},
   "source": [
    "В Python существует несколько вариантов импорта модулей. Наиболее распространенные из них:\r\n",
    "\r\n",
    "- Импорт всего модуля: import module_name\r\n",
    "- Импорт модуля с использованием псевдонима: import module_name as alias\r\n",
    "- Импорт определенных элементов из модуля: from module_name import item1, item2\r\n"
   ]
  },
  {
   "cell_type": "code",
   "execution_count": 35,
   "id": "6343689a-1bb3-455e-a16f-79b572fcdd11",
   "metadata": {},
   "outputs": [
    {
     "name": "stdout",
     "output_type": "stream",
     "text": [
      "3.141592653589793\n",
      "3.141592653589793\n",
      "3.141592653589793\n"
     ]
    }
   ],
   "source": [
    "import math\n",
    "print(math.pi)  # Выводит значение числа π из модуля math\n",
    "\n",
    "import math as m\n",
    "print(m.pi)  # То же самое, но с использованием псевдонима \"m\"\n",
    "\n",
    "from math import pi\n",
    "print(pi)  # То же самое, но импорт только конкретного элемента \"pi\" из модуля math\n"
   ]
  },
  {
   "cell_type": "markdown",
   "id": "0fe8ed2e-945e-4fe4-9989-8fffddab0762",
   "metadata": {},
   "source": [
    "### Библиотека math"
   ]
  },
  {
   "cell_type": "markdown",
   "id": "b30cf799-8542-48e6-a587-7bcfe3884ce3",
   "metadata": {},
   "source": [
    "Библиотека math является стандартной библиотекой Python и предоставляет функции и константы для работы с математическими операциями. В модуле math доступны такие функции, как `sqrt()` (квадратный корень), `sin()` (синус), `cos()` (косинус), `log()` (логарифм) и многие другие.\n"
   ]
  },
  {
   "cell_type": "markdown",
   "id": "654eb320-4cb2-4b5e-b69c-d9dfbdbc6e35",
   "metadata": {},
   "source": [
    "Основные математические функции:\n",
    "Модуль math предоставляет широкий спектр математических функций, таких как:\n",
    "* math.sqrt(x) - вычисляет квадратный корень из числа x.\n",
    "* math.pow(x, y) - возводит число x в степень y.\n",
    "* math.exp(x) - вычисляет значение экспоненты e в степени x.\n",
    "* math.log(x) - вычисляет натуральный логарифм числа x.\n",
    "* math.sin(x), math.cos(x), math.tan(x) - вычисляют синус, косинус и тангенс угла x в радианах."
   ]
  },
  {
   "cell_type": "code",
   "execution_count": 36,
   "id": "d9bd8dd6-7b93-47f1-9c78-c9e0142caca9",
   "metadata": {},
   "outputs": [
    {
     "name": "stdout",
     "output_type": "stream",
     "text": [
      "4.0\n",
      "1.0\n"
     ]
    }
   ],
   "source": [
    "import math\n",
    "\n",
    "print(math.sqrt(16))  # Выводит: 4.0\n",
    "print(math.sin(math.pi/2))  # Выводит: 1.0\n"
   ]
  },
  {
   "cell_type": "markdown",
   "id": "934ab079-6e71-4dbb-abb7-06566a4a08bc",
   "metadata": {},
   "source": [
    "Модуль math также предоставляет функции для округления чисел:\n",
    "* math.ceil(x) - округляет число x до ближайшего большего целого.\n",
    "* math.floor(x) - округляет число x до ближайшего меньшего целого.\n",
    "* round(x) - округляет число x до ближайшего целого."
   ]
  },
  {
   "cell_type": "code",
   "execution_count": 37,
   "id": "8578c12b-a4b4-44cf-90a2-12b4104be865",
   "metadata": {},
   "outputs": [
    {
     "name": "stdout",
     "output_type": "stream",
     "text": [
      "4\n",
      "3\n",
      "3.14\n"
     ]
    }
   ],
   "source": [
    "x = 3.141515\n",
    "print(math.ceil(x))\n",
    "print(math.floor(x))\n",
    "print(round(x,2))\n",
    "                "
   ]
  },
  {
   "cell_type": "markdown",
   "id": "57b5b4f9-8c13-4d67-87d6-d60828815bfa",
   "metadata": {},
   "source": [
    "Модуль math также содержит некоторые математические константы:\n",
    "* math.pi - представляет значение числа π.\n",
    "* math.e - представляет значение числа e (основание натурального логарифма).\n",
    "\n"
   ]
  },
  {
   "cell_type": "code",
   "execution_count": 38,
   "id": "3c168a5e-d184-487f-b53a-b148acee79a1",
   "metadata": {},
   "outputs": [
    {
     "name": "stdout",
     "output_type": "stream",
     "text": [
      "3.141592653589793\n",
      "2.718281828459045\n"
     ]
    }
   ],
   "source": [
    "print(math.pi)\n",
    "print(math.e)"
   ]
  },
  {
   "cell_type": "markdown",
   "id": "318f1a12-3f4a-477a-a32a-89f5a7aca8ac",
   "metadata": {},
   "source": [
    "Модуль math предоставляет функции для работы с тригонометрическими функциями:\n",
    "* math.radians(x) - преобразует значение угла x из градусов в радианы.\n",
    "* math.degrees(x) - преобразует значение угла x из радиан в градусы.\n"
   ]
  },
  {
   "cell_type": "code",
   "execution_count": 39,
   "id": "382bff6d-a9b0-4a99-8157-0e2a94a0fff4",
   "metadata": {},
   "outputs": [
    {
     "data": {
      "text/plain": [
       "1.5707963267948966"
      ]
     },
     "execution_count": 39,
     "metadata": {},
     "output_type": "execute_result"
    }
   ],
   "source": [
    "math.radians(90)"
   ]
  },
  {
   "cell_type": "code",
   "execution_count": 40,
   "id": "96b26fdc-c735-4421-9397-6d31ab6baa08",
   "metadata": {},
   "outputs": [
    {
     "data": {
      "text/plain": [
       "90.0"
      ]
     },
     "execution_count": 40,
     "metadata": {},
     "output_type": "execute_result"
    }
   ],
   "source": [
    "math.degrees(math.pi/2)"
   ]
  },
  {
   "cell_type": "markdown",
   "id": "39aa5f50-958c-48ff-ad42-015b8e77dcac",
   "metadata": {},
   "source": [
    "Модуль math содержит также другие полезные функции, включая:\n",
    "* math.fabs(x) - возвращает абсолютное значение числа x.\n",
    "* math.factorial(x) - вычисляет факториал числа x.\n",
    "* math.isqrt(x) - вычисляет целую часть квадратного корня числа x.\n"
   ]
  },
  {
   "cell_type": "code",
   "execution_count": 42,
   "id": "b9007e1e-c64c-44f2-9b61-f17d843dd075",
   "metadata": {},
   "outputs": [
    {
     "name": "stdout",
     "output_type": "stream",
     "text": [
      "24\n"
     ]
    }
   ],
   "source": [
    "print(math.factorial(4))"
   ]
  },
  {
   "cell_type": "code",
   "execution_count": 43,
   "id": "dc7d48fe-b094-4b77-9304-23caeca18ea4",
   "metadata": {},
   "outputs": [
    {
     "name": "stdout",
     "output_type": "stream",
     "text": [
      "1\n"
     ]
    }
   ],
   "source": [
    "print(math.isqrt(3))"
   ]
  },
  {
   "cell_type": "code",
   "execution_count": null,
   "id": "6a91c0a9-097f-4d7b-9c5b-d1d4d1e71c16",
   "metadata": {},
   "outputs": [],
   "source": []
  },
  {
   "cell_type": "markdown",
   "id": "2192a784-31eb-4cd4-a0b4-eec70d3a48f3",
   "metadata": {},
   "source": [
    "Важно отметить, что большинство функций модуля math работают с вещественными числами!\n"
   ]
  },
  {
   "cell_type": "markdown",
   "id": "a15fb031-264a-4849-991b-809c5766954e",
   "metadata": {},
   "source": [
    "### Библиотека decimal"
   ]
  },
  {
   "cell_type": "markdown",
   "id": "80488fa6-ab54-4098-bee9-5c5f3a12b64b",
   "metadata": {},
   "source": [
    "Python реализует десятичные числа как числа двойной точности с плавающей точкой, которые зависят от машины. Для вычислений, где точность критична для бизнеса, числа с плавающей точкой могут вызывать ошибки при выполнении на другой машине. Поэтому для таких приложений нам нужен независимый от машины тип данных для реализации десятичных чисел, который был реализован с помощью модуля decimal в Python. Кроме того, модуль decimal реализует десятичное число с точностью до 28 десятичных цифр, в то время как числа с плавающей запятой имеют точность до 18 цифр."
   ]
  },
  {
   "cell_type": "code",
   "execution_count": 1,
   "id": "4c9b677e-8376-4876-96ec-b18d48d0b306",
   "metadata": {},
   "outputs": [
    {
     "name": "stdout",
     "output_type": "stream",
     "text": [
      "33.333333333333336\n",
      "33.33333333333333333333333333\n"
     ]
    }
   ],
   "source": [
    "import decimal\n",
    "\n",
    "float_num = 100 / 3\n",
    "print(float_num)\n",
    "decimal_num = decimal.Decimal(100) / decimal.Decimal(3)\n",
    "print(decimal_num)"
   ]
  },
  {
   "cell_type": "markdown",
   "id": "ade1e7be-e644-4ce3-bff9-313282656366",
   "metadata": {},
   "source": [
    "Вторая причина использования десятичных чисел вместо чисел с плавающей точкой заключается в том, что в Python числа не могут быть представлены с использованием их точного значения, а используется только приближение, что может быть опасно для критически важных программ.\n"
   ]
  },
  {
   "cell_type": "code",
   "execution_count": 2,
   "id": "3441c035-fae5-4912-919b-f93d1298f8e4",
   "metadata": {},
   "outputs": [
    {
     "name": "stdout",
     "output_type": "stream",
     "text": [
      "a: 1.2\n",
      "b: 2.2\n",
      "c: 3.4\n",
      "a+b: 3.4000000000000004\n",
      "a+b==c?: False\n"
     ]
    }
   ],
   "source": [
    "a = 1.2\n",
    "b = 2.2\n",
    "c = 3.4\n",
    "d = a + b\n",
    "print(\"a:\", a)\n",
    "print(\"b:\", b)\n",
    "print(\"c:\", c)\n",
    "print(\"a+b:\", d)\n",
    "print(\"a+b==c?:\", d == c)"
   ]
  },
  {
   "cell_type": "markdown",
   "id": "28bf7d43-9bf9-48fe-b722-0e5a2f005030",
   "metadata": {},
   "source": [
    "Поэтому в случаях, когда необходимо сравнить десятичные значения, следует использовать десятичный модуль, а не числа с плавающей точкой."
   ]
  },
  {
   "cell_type": "code",
   "execution_count": null,
   "id": "5f91b0db-d66e-4fd6-8125-86480d6f38f0",
   "metadata": {},
   "outputs": [],
   "source": []
  },
  {
   "cell_type": "markdown",
   "id": "ec4a0905-dcbb-422c-8f36-46ab4cfa6077",
   "metadata": {},
   "source": [
    "Библиотека decimal предоставляет возможность работы с вещественными числами с фиксированной точностью. Она позволяет избежать проблем, связанных с округлением и точностью вещественных чисел."
   ]
  },
  {
   "cell_type": "code",
   "execution_count": 3,
   "id": "7b0f878a-1261-4aed-ab2c-772d123c7f65",
   "metadata": {},
   "outputs": [
    {
     "name": "stdout",
     "output_type": "stream",
     "text": [
      "0.3\n"
     ]
    }
   ],
   "source": [
    "from decimal import Decimal\n",
    "\n",
    "number1 = Decimal('0.1')\n",
    "number2 = Decimal('0.2')\n",
    "result = number1 + number2\n",
    "print(result)  # Выводит: 0.3\n"
   ]
  },
  {
   "cell_type": "markdown",
   "id": "8bc6572a-da90-4621-98af-037308849f6a",
   "metadata": {},
   "source": [
    "Импортированный модуль имеет предопределенный контекст, который содержит значения по умолчанию для точности, округления, флагов, минимально и максимально допустимых чисел. Мы можем посмотреть значения контекста с помощью метода getcontext() следующим образом."
   ]
  },
  {
   "cell_type": "code",
   "execution_count": 4,
   "id": "97683b44-38eb-424c-93c6-3b3397b0d27b",
   "metadata": {},
   "outputs": [
    {
     "name": "stdout",
     "output_type": "stream",
     "text": [
      "Context(prec=28, rounding=ROUND_HALF_EVEN, Emin=-999999, Emax=999999, capitals=1, clamp=0, flags=[Inexact, Rounded], traps=[InvalidOperation, DivisionByZero, Overflow])\n"
     ]
    }
   ],
   "source": [
    "import decimal\n",
    "\n",
    "print(decimal.getcontext())"
   ]
  },
  {
   "cell_type": "markdown",
   "id": "44d2444a-b137-4a8b-b422-d541333917bd",
   "metadata": {},
   "source": [
    "Мы также можем установить точность и другие параметры контекста. Чтобы изменить точность на 2 цифры вместо 28, мы можем использовать следующую программу."
   ]
  },
  {
   "cell_type": "code",
   "execution_count": 5,
   "id": "c82187ee-79b8-4f41-9ca8-1329014fea25",
   "metadata": {},
   "outputs": [
    {
     "name": "stdout",
     "output_type": "stream",
     "text": [
      "Context(prec=2, rounding=ROUND_HALF_EVEN, Emin=-999999, Emax=999999, capitals=1, clamp=0, flags=[Inexact, Rounded], traps=[InvalidOperation, DivisionByZero, Overflow])\n"
     ]
    }
   ],
   "source": [
    "import decimal\n",
    "\n",
    "decimal.getcontext().prec = 2\n",
    "print(decimal.getcontext())"
   ]
  },
  {
   "cell_type": "markdown",
   "id": "6b09644a-7280-4f27-8148-4a57a7bf8692",
   "metadata": {},
   "source": [
    "Библиотека decimal также предоставляет различные методы для выполнения арифметических операций с вещественными числами с высокой точностью и контролем округления."
   ]
  },
  {
   "cell_type": "code",
   "execution_count": 8,
   "id": "ba4d7ab4-f456-45e7-962e-a317715a1463",
   "metadata": {},
   "outputs": [
    {
     "name": "stdout",
     "output_type": "stream",
     "text": [
      "0.14285714285714285714\n"
     ]
    }
   ],
   "source": [
    "from decimal import Decimal, getcontext\n",
    "\n",
    "getcontext().prec = 20  # Установка точности на 10 знаков после запятой\n",
    "number1 = Decimal(1) / Decimal(7)\n",
    "print(number1)  # Выводит: 0.1428571429\n"
   ]
  },
  {
   "cell_type": "markdown",
   "id": "b1fb269c-8433-49c1-8e97-29e94227ecb8",
   "metadata": {},
   "source": [
    "Операция импорта:\n",
    "\n",
    "1. Для использования функциональности модуля decimal в начале программы добавляем строку import decimal, которая позволит использовать класс Decimal и другие функции из модуля.\n",
    "\n",
    "Создание и операции с числами Decimal:\n",
    "\n",
    "2. Создание экземпляра числа Decimal осуществляется с помощью конструктора Decimal(). Например, num = decimal.Decimal('10.5') создаст число 10.5 с использованием класса Decimal. Decimal поддерживает арифметические операции, такие как сложение, вычитание, умножение и деление, а также возведение в степень и извлечение корня.\n",
    "\n",
    "Установка точности:\n",
    "\n",
    "3. Одной из важных возможностей модуля decimal является возможность установки точности для вычислений. С помощью метода decimal.getcontext().prec = n можно установить точность до n знаков после запятой. По умолчанию точность равна 28 знакам после запятой.\n",
    "\n",
    "Округление чисел:\n",
    "\n",
    "4. Модуль decimal предоставляет функции для округления чисел, такие как decimal.quantize() и decimal.round(). Они позволяют округлить число Decimal до определенного количества знаков после запятой или до ближайшего целого числа.\n",
    "\n",
    "Контексты вычислений:\n",
    "\n",
    "5. Модуль decimal поддерживает понятие контекстов вычислений, которые позволяют контролировать различные аспекты вычислений с числами Decimal, такие как точность, режим округления и другие параметры. Контексты вычислений управляются с помощью класса decimal.Context.\n",
    "\n",
    "Конвертация вещественных чисел в Decimal:\n",
    "\n",
    "6. Модуль decimal предоставляет функцию decimal.Decimal.from_float(), которая позволяет конвертировать вещественное число в число Decimal.\n",
    "`хоть значения этих типов и выглядят одинаково, но они разные по сути и не нужно мешать типы`\n",
    "\n",
    "Обработка ошибок и исключений:\n",
    "\n",
    "7. При работе с числами Decimal возможны ошибки и исключения, связанные с превышением точности, делением на ноль и другими ситуациями.\n"
   ]
  },
  {
   "cell_type": "code",
   "execution_count": null,
   "id": "7c22768c-4744-4395-b78b-fd68ac0d167a",
   "metadata": {},
   "outputs": [],
   "source": []
  },
  {
   "cell_type": "markdown",
   "id": "7a3b3624-991e-49b9-9d91-5402b9398c41",
   "metadata": {},
   "source": [
    "Важно отметить, что использование модуля decimal может иметь некоторое снижение производительности по сравнению с обычными вещественными числами. Поэтому рекомендуется использовать модуль decimal только в случаях, когда требуется высокая точность в вычислениях.\r\n",
    "\r\n",
    "В целом, работа с математическими модулями и вещественными числами в Python позволяет выполнять различные математические операции с точностью и контролем округления, а также использовать различные функции и константы для решения математических задач.\r\n"
   ]
  },
  {
   "cell_type": "code",
   "execution_count": null,
   "id": "ac088caf-333b-4520-917a-d2931c53cdb5",
   "metadata": {},
   "outputs": [],
   "source": []
  },
  {
   "cell_type": "markdown",
   "id": "d52ed629-189b-4a45-870a-c98f4f98b1e9",
   "metadata": {},
   "source": [
    "### Решение задач"
   ]
  },
  {
   "cell_type": "markdown",
   "id": "e9d4d142-fdd4-43d6-8489-6c31fdf3ff2f",
   "metadata": {},
   "source": [
    "Реализовать разложение синуса/косинуса в ряд Тейлора. Написать программу, которая приблизительно вычисляет значение синуса/косунуса от вводимого значения x, оценивает погрешность вычисления с помощью алгоритма относительно настоящего значения, полученного при вызове нужной функции из библиотеки math. "
   ]
  },
  {
   "attachments": {
    "60d47646-ea27-4bb8-80ac-ce5af59d74e9.png": {
     "image/png": "[encoded data removed]"
    }
   },
   "cell_type": "markdown",
   "id": "6989b82d-c685-46d1-a146-6b8f31fb7372",
   "metadata": {},
   "source": [
    "![image.png](attachment:60d47646-ea27-4bb8-80ac-ce5af59d74e9.png)"
   ]
  },
  {
   "cell_type": "code",
   "execution_count": 12,
   "id": "d3c6e81d-5374-47eb-9a6c-a1317c251f43",
   "metadata": {},
   "outputs": [
    {
     "data": {
      "text/plain": [
       "265252859812191058636308480000000"
      ]
     },
     "execution_count": 12,
     "metadata": {},
     "output_type": "execute_result"
    }
   ],
   "source": [
    "math.factorial(30)"
   ]
  },
  {
   "cell_type": "code",
   "execution_count": 19,
   "id": "27ed5c7d-cae0-42a9-b0af-ce4e7b4d638a",
   "metadata": {},
   "outputs": [
    {
     "name": "stdin",
     "output_type": "stream",
     "text": [
      "Введите значение x:  3.14\n"
     ]
    },
    {
     "name": "stdout",
     "output_type": "stream",
     "text": [
      "Приблизительное значение sin(x): 0.0015926529267152338\n",
      "Истинное значение sin(x): 0.0015926529164868282\n",
      "Погрешность вычисления sin(x): 1.0228405579112976e-11\n"
     ]
    }
   ],
   "source": [
    "import math\n",
    "\n",
    "# Ввод значения x\n",
    "x = float(input(\"Введите значение x: \"))\n",
    "\n",
    "# Инициализация переменных\n",
    "sin_x = 0\n",
    "term = x  # Первый член ряда\n",
    "n = 1\n",
    "epsilon = 1e-10  # Точность вычислений\n",
    "\n",
    "# Вычисление синуса с использованием ряда Тейлора\n",
    "while abs(term) > epsilon:\n",
    "    sin_x += term\n",
    "    term *= -x**2 / ((2*n) * (2*n + 1))\n",
    "    n += 1\n",
    "\n",
    "# Вычисление истинного значения синуса\n",
    "true_sin = math.sin(x)\n",
    "\n",
    "# Оценка погрешности\n",
    "error = abs(sin_x - true_sin)\n",
    "\n",
    "print(\"Приблизительное значение sin(x):\", sin_x)\n",
    "print(\"Истинное значение sin(x):\", true_sin)\n",
    "print(\"Погрешность вычисления sin(x):\", error)\n"
   ]
  },
  {
   "cell_type": "code",
   "execution_count": 20,
   "id": "e793c3f3-df76-4e58-8c24-2878ca8f670e",
   "metadata": {},
   "outputs": [
    {
     "name": "stdin",
     "output_type": "stream",
     "text": [
      "Введите значение x:  3.14\n"
     ]
    },
    {
     "name": "stdout",
     "output_type": "stream",
     "text": [
      "-5.159857333333334\n",
      "2.5437064681866675\n",
      "-0.597141149850792\n",
      "0.08177184557040096\n",
      "-0.007329433532599323\n",
      "0.00046323899267959156\n",
      "-2.174929129630334e-05\n",
      "7.883798252390898e-07\n",
      "-2.2728391008559446e-08\n",
      "5.335543904476017e-10\n",
      "-1.0396507644381768e-11\n",
      "Приблизительное значение sin(x): 0.0015926529267151343\n",
      "Истинное значение sin(x): 0.0015926529164868282\n",
      "Погрешность вычисления sin(x): 1.0228306049353542e-11\n"
     ]
    }
   ],
   "source": [
    "import math\n",
    "\n",
    "x = float(input(\"Введите значение x: \"))\n",
    "\n",
    "sin_x = 0\n",
    "term = x  # Первый член ряда\n",
    "n = 1\n",
    "epsilon = 1e-10  # Точность вычислений\n",
    "\n",
    "while abs(term) > epsilon:\n",
    "    sin_x += term\n",
    "    term = ((-1)**n * x**(2*n+1))/math.factorial(2*n+1)\n",
    "    #print(term) можете включить, чтобы смотерть на вычисляемое значение члена ряда\n",
    "    n += 1\n",
    "\n",
    "true_sin = math.sin(x)\n",
    "\n",
    "error = abs(sin_x - true_sin)\n",
    "\n",
    "print(\"Приблизительное значение sin(x):\", sin_x)\n",
    "print(\"Истинное значение sin(x):\", true_sin)\n",
    "print(\"Погрешность вычисления sin(x):\", error)\n"
   ]
  },
  {
   "cell_type": "markdown",
   "id": "e2cd5ee7-83ba-4467-ba19-c1bbfd9d66dc",
   "metadata": {},
   "source": [
    "Напишите программу, которая запрашивает у пользователя натуральное число N и вычисляет сумму первых N элементов ряда Лейбница. \n",
    "Ряд Лейбница представляет собой альтернирующийся ряд, где каждый элемент равен (-1)^n / (2n + 1), где n - номер элемента (начиная с 0). Выведите результат на экран с помощью команды print. \n",
    "Используйте библиотеку decimal для вычисления суммы с большой точностью.\n",
    "\n",
    "Пример вывода:\n",
    "\n",
    "Введите натуральное число N: 1000\n",
    "\n",
    "Сумма первых 1000 элементов ряда Лейбница: 0.7853981633974483096156608458"
   ]
  },
  {
   "attachments": {
    "5e7bf7f8-7bef-464b-9970-9589b0ceb53d.png": {
     "image/png": "[encoded data removed]"
    }
   },
   "cell_type": "markdown",
   "id": "3f92e742-bcc0-4686-9973-13377f5808d9",
   "metadata": {},
   "source": [
    "![image.png](attachment:5e7bf7f8-7bef-464b-9970-9589b0ceb53d.png)"
   ]
  },
  {
   "cell_type": "code",
   "execution_count": 13,
   "id": "d3fb751d-46ec-433c-af1c-8b7a691942f8",
   "metadata": {},
   "outputs": [
    {
     "name": "stdin",
     "output_type": "stream",
     "text": [
      "Введите натуральное число N:  1000\n"
     ]
    },
    {
     "name": "stdout",
     "output_type": "stream",
     "text": [
      "Сумма первых N элементов ряда Лейбница: 0.78514816345994823149089912571734899261284733269484\n"
     ]
    }
   ],
   "source": [
    "from decimal import Decimal, getcontext\n",
    "\n",
    "# Устанавливаем точность вычислений\n",
    "getcontext().prec = 50\n",
    "\n",
    "N = int(input(\"Введите натуральное число N: \"))\n",
    "\n",
    "sum_leibniz = Decimal(0)\n",
    "n = 0\n",
    "\n",
    "while n < N:\n",
    "    term = Decimal((-1)**n) / Decimal(2*n + 1)\n",
    "    sum_leibniz += term\n",
    "    n += 1\n",
    "\n",
    "print(\"Сумма первых N элементов ряда Лейбница:\", sum_leibniz)\n"
   ]
  },
  {
   "cell_type": "markdown",
   "id": "e6e13b74-9234-4ae3-98bd-538c09d310e6",
   "metadata": {},
   "source": [
    "### Полезные материалы\r\n",
    "1. Модули https://pythonworld.ru/moduli\r\n",
    "2. Модуль math https://pythonworld.ru/moduli/modul-math.ht\n",
    "3. https://egorovegor.ru/ispolzovanie-modulya-decimal-v-python/l \r\n"
   ]
  },
  {
   "cell_type": "markdown",
   "id": "e81591ff-e50b-487f-b9cb-55ab99931133",
   "metadata": {},
   "source": [
    "### Вопросы для закрепления\n",
    "От чего зависит, как мы будем импортировать модуль или функцию из модуля?\n",
    "\n",
    "Какие функции округления из библиотеки math вы знаете и чем они отличаются?\n",
    "\n",
    "Почему нежелательно складывать число с плавающей точкой и с фиксированной напрямую?\n",
    "\n",
    "А что нужно сделать, если это необходимо?"
   ]
  },
  {
   "cell_type": "markdown",
   "id": "75850837-21b3-4f9c-8486-da2ceb9b06eb",
   "metadata": {},
   "source": [
    "## ДЗ"
   ]
  },
  {
   "cell_type": "markdown",
   "id": "81a9e435-39d1-4aa1-8627-be55d266b629",
   "metadata": {},
   "source": [
    "Напишите программу, которая запрашивает у пользователя целое число и определяет, является ли оно палиндромом. Число является палиндромом, если оно читается одинаково слева направо и справа налево. Выведите соответствующее сообщение на экран с помощью команды print. Используйте математические операции. Работу со строками использовать нельзя.\n",
    "\n",
    "Пример вывода:\n",
    "\n",
    "Введите целое число: 12321\n",
    "\n",
    "Число является палиндромом"
   ]
  },
  {
   "cell_type": "code",
   "execution_count": null,
   "id": "539a5eae-5dab-4f19-8f64-b79c2856aa0b",
   "metadata": {},
   "outputs": [],
   "source": [
    "num = int(input(\"Введите целое число: \"))\n",
    "original_num = num\n",
    "reversed_num = 0\n",
    "\n",
    "# Переворачиваем число\n",
    "while num > 0:\n",
    "    digit = num % 10\n",
    "    reversed_num = reversed_num * 10 + digit\n",
    "    num = num // 10\n",
    "\n",
    "# Проверяем, является ли число палиндромом\n",
    "if original_num == reversed_num:\n",
    "    print(\"Число является палиндромом\")\n",
    "else:\n",
    "    print(\"Число не является палиндромом\")\n"
   ]
  },
  {
   "cell_type": "markdown",
   "id": "90fe8f89-86a7-49eb-8a95-6c0bd3d1a9a7",
   "metadata": {},
   "source": [
    "Напишите программу, которая запрашивает у пользователя целое число и проверяет, является ли оно числом Армстронга. Число Армстронга - это число, которое равно сумме своих цифр, возведенных в степень, равную количеству цифр в числе. \n",
    "Выведите соответствующее сообщение на экран с помощью команды print.\n",
    "\n",
    "Пример вывода:\n",
    "\n",
    "Введите целое число: 153\n",
    "\n",
    "Число является числом Армстронга.\n"
   ]
  },
  {
   "cell_type": "code",
   "execution_count": null,
   "id": "e2bb1c4d-7da7-436c-85c4-f086b9543a27",
   "metadata": {},
   "outputs": [],
   "source": [
    "num = int(input(\"Введите целое число: \"))\n",
    "original_num = num\n",
    "sum_of_powers = 0\n",
    "\n",
    "# Определение количества цифр в числе\n",
    "num_digits = 0\n",
    "temp_num = num\n",
    "while temp_num > 0:\n",
    "    temp_num //= 10\n",
    "    num_digits += 1\n",
    "\n",
    "# Вычисление суммы цифр, возведенных в степень, равную количеству цифр\n",
    "temp_num = num\n",
    "while temp_num > 0:\n",
    "    digit = temp_num % 10\n",
    "    sum_of_powers += digit ** num_digits\n",
    "    temp_num //= 10\n",
    "\n",
    "# Проверка, является ли число числом Армстронга\n",
    "if original_num == sum_of_powers:\n",
    "    print(\"Число является числом Армстронга.\")\n",
    "else:\n",
    "    print(\"Число не является числом Армстронга.\")\n"
   ]
  },
  {
   "cell_type": "code",
   "execution_count": null,
   "id": "d0155471-a6c5-4039-864e-ac047f3a57c3",
   "metadata": {},
   "outputs": [],
   "source": []
  }
 ],
 "metadata": {
  "kernelspec": {
   "display_name": "Python 3 (ipykernel)",
   "language": "python",
   "name": "python3"
  },
  "language_info": {
   "codemirror_mode": {
    "name": "ipython",
    "version": 3
   },
   "file_extension": ".py",
   "mimetype": "text/x-python",
   "name": "python",
   "nbconvert_exporter": "python",
   "pygments_lexer": "ipython3",
   "version": "3.12.4"
  }
 },
 "nbformat": 4,
 "nbformat_minor": 5
}
