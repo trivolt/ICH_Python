{
 "cells": [
  {
   "cell_type": "markdown",
   "id": "5a7bf21f-ea5e-44e5-83c4-8075da694d80",
   "metadata": {},
   "source": [
    "# Работа с сетью"
   ]
  },
  {
   "cell_type": "markdown",
   "id": "46cab7b2-d8f7-4f6b-84e9-5ae827da1895",
   "metadata": {},
   "source": [
    "Рассмотрим следующий URL:\n",
    "https://www.google.com/search?q=python+programming&hl=en\n",
    "\n",
    "***Структура URL***\n",
    "\n",
    "***Протокол:*** https://\n",
    "* Указывает на используемый протокол передачи данных. В данном случае это HTTPS, что означает защищенное соединение.\n",
    "\n",
    "***Доменное имя:**** www.google.com\n",
    "* Указывает на домен, к которому осуществляется доступ. В данном случае это Google.\n",
    "  \n",
    "***Путь:*** /search\n",
    "* Указывает на конкретный ресурс или страницу на сервере. В данном случае это страница поиска Google.\n",
    "\n",
    "***Параметры запроса:*** ?q=python+programming&hl=en\n",
    "\n",
    "Начинаются с вопросительного знака ? и содержат пары “ключ=значение”, разделенные амперсандом &.\n",
    "\n",
    "***Параметры запроса***\n",
    "\n",
    "* q=python+programming:\n",
    "* q — ключ параметра, который указывает на поисковый запрос.\n",
    "* python+programming — значение параметра, которое является самим поисковым запросом. Пробелы заменяются на +.\n",
    "* hl=en:\n",
    "* hl — ключ параметра, который указывает на язык интерфейса.\n",
    "* en — значение параметра, которое указывает на английский язык.\n",
    "\n",
    "***Что происходит при запросе***\n",
    "Когда вы вводите запрос в Google и нажимаете “Поиск”:\n",
    "1. Формирование URL: Браузер формирует URL с параметрами запроса на основе введенных данных.\n",
    "2. Отправка запроса: Браузер отправляет запрос на сервер Google.\n",
    "3. Обработка запроса: Сервер Google получает запрос, извлекает параметры и выполняет поиск по базе данных.\n",
    "4. Возврат результатов: Сервер возвращает результаты поиска в виде веб-страницы, которую браузер отображает пользователю.\n",
    "   \n",
    "***Добавление параметров***\n",
    "\n",
    "Чтобы добавить параметры в URL, используйте следующий формат:\n",
    "https://www.google.com/search?q=ваш_запрос&параметр1=значение1&параметр2=значение2\n",
    "\n",
    "Например, https://www.google.com/search?q=python+programming&hl=ru&num=20\n",
    "* q=python+programming: Основной параметр запроса, указывающий, что вы ищете информацию о \"python programming\"\n",
    "* \n",
    "hl=ru: Параметр, указывающий, что интерфейс должен быть на русском язык\n",
    "* \r\n",
    "num=20: Параметр, указывающий, что на странице должно отображаться 20 результатв.\n"
   ]
  },
  {
   "cell_type": "markdown",
   "id": "7942955a-2948-46a6-bf33-d3a25071aa14",
   "metadata": {},
   "source": [
    "### Протокол HTTP (Hypertext Transfer Protocol)\n",
    "является основным протоколом для обмена данными в Интернете. Он определяет структуру и правила взаимодействия между клиентом и сервером. HTTP используется для передачи гипертекстовых документов, таких как веб-страницы, изображения и другие ресурсы.\n"
   ]
  },
  {
   "cell_type": "markdown",
   "id": "ab502c5e-05e0-450d-90a3-fc99163819d6",
   "metadata": {},
   "source": [
    "### URL (Uniform Resource Locator)\n",
    "является адресом ресурса в сети. Он определяет местонахождение ресурса и используется для доступа к нему.\n",
    "### DNS (Domain Name System)\n",
    "предоставляет механизм преобразования удобочитаемых имен доменов в IP-адреса, которые используются для связи с серверами."
   ]
  },
  {
   "cell_type": "markdown",
   "id": "89ff44de-e26b-443e-8637-442792c8bfcb",
   "metadata": {},
   "source": [
    "### Протокол HTTP (HyperText Transfer Protocol)\n",
    "определяет структуру и правила взаимодействия между клиентом (обычно веб-браузером) и сервером. Он является основой для передачи данных в интернете и определяет, как запросы и ответы должны быть сформированы и обработаны."
   ]
  },
  {
   "cell_type": "markdown",
   "id": "3061687f-308d-49f5-9d33-ea61da07ab4a",
   "metadata": {},
   "source": [
    "1. ***Запросы***: Клиент отправляет HTTP-запрос серверу, чтобы получить ресурс (например, веб-страницу) или выполнить действие (например, отправить данные).\n",
    "\n",
    "***Запрос состоит из***:\n",
    "* Метода: Определяет тип запроса (например, GET, POST, PUT, DELETE).\n",
    "* URI (Uniform Resource Identifier): Указывает ресурс, к которому обращается запрос.\n",
    "* Версии HTTP: Указывает версию протокола (например, HTTP/1.1, HTTP/2).\n",
    "* Заголовков: Содержат метаинформацию о запросе (например, тип контента, язык, куки).\n",
    "* Тела (опционально): Содержит данные, отправляемые на сервер (например, данные формы)."
   ]
  },
  {
   "cell_type": "markdown",
   "id": "7de29270-4e97-4b36-b23e-4922f042a4c8",
   "metadata": {},
   "source": [
    "#### Клиент (браузер) → Сервер:"
   ]
  },
  {
   "cell_type": "code",
   "execution_count": null,
   "id": "5217059d-c36e-4a47-8c54-2f6ea13534ee",
   "metadata": {},
   "outputs": [],
   "source": [
    "# Запрос GET\n",
    "'''\n",
    "GET /index.html HTTP/1.1\n",
    "Host: www.example.com #Это заголовок, который указывает доменное имя сервера (в данном случае www.example.com), к которому направлен запрос.\n",
    "User-Agent: Mozilla/5.0 #Это заголовок, который сообщает серверу информацию о клиенте, отправляющем запрос.\n",
    "Accept: text/html #Этот заголовок помогает серверу определить, в каком формате следует отправить ответ.\n",
    "'''"
   ]
  },
  {
   "cell_type": "markdown",
   "id": "973e593e-1423-4374-8b31-e9905f403d8d",
   "metadata": {},
   "source": [
    "2. ***Ответы:*** Сервер отправляет HTTP-ответ клиенту.\n",
    "\n",
    "***Ответ*** состоит из:\n",
    "* Версии HTTP: Указывает версию протокола.\n",
    "* Кода состояния: Числовой код, указывающий результат запроса (например, 200 OK, 404 Not Found).\n",
    "* Сообщения состояния: Текстовое описание кода состояния.\n",
    "* Заголовков: Содержат метаинформацию об ответе (например, тип контента, длина содержимого).\n",
    "* Тела (опционально): Содержит запрашиваемый ресурс (например, HTML-страницу, изображение).\n"
   ]
  },
  {
   "cell_type": "markdown",
   "id": "42ecbf35-07fd-4a1a-9390-4612f91a13a4",
   "metadata": {},
   "source": [
    "#### Сервер → Клиент (браузер):"
   ]
  },
  {
   "cell_type": "code",
   "execution_count": null,
   "id": "fa68e138-a80f-4a6a-9881-c354a7fd21cc",
   "metadata": {},
   "outputs": [],
   "source": [
    "# ответ сервера клиенту\n",
    "'''\n",
    "HTTP/1.1 200 OK\n",
    "Date: Sun, 13 Apr 2025 12:00:00 GMT #Сообщения состояния\n",
    "Server: Apache/2.4.1 (Unix) #Сообщения состояния\n",
    "Content-Type: text/html; charset=UTF-8 #Заголовки включают Content-Type (тип содержимого)\n",
    "Content-Length: 1377 #Content-Length (длина содержимого)\n",
    "\n",
    "<!DOCTYPE html> #тело ответа (все сточки до конца)\n",
    "<html>\n",
    "<head><title>Example</title></head>\n",
    "<body><h1>Welcome to Example.com!</h1></body>\n",
    "</html>\n",
    "'''"
   ]
  },
  {
   "cell_type": "markdown",
   "id": "618486dc-1d2c-4c6b-8a81-0c5b3042f30a",
   "metadata": {},
   "source": [
    "### Методы HTTP:\n",
    "\n",
    "* GET: Запрашивает представление ресурса. Запросы с использованием этого метода могут только извлекать данные.\n",
    "* POST: Отправляет данные на сервер. Обычно используется для отправки форм.\n",
    "* PUT: Отправляет данные на сервер для создания или замены ресурса.\n",
    "* DELETE: Удаляет указанный ресурс.\n",
    "* HEAD: Запрашивает заголовки, которые были бы возвращены, если бы запрос был сделан с методом GET.\n",
    "* OPTIONS: Используется для описания параметров соединения для целевого ресурса.\n",
    "* PATCH: Применяет частичные изменения к ресурсу.\n"
   ]
  },
  {
   "cell_type": "code",
   "execution_count": null,
   "id": "98edc849-92d1-4731-99ef-a0cfac3e57fc",
   "metadata": {},
   "outputs": [],
   "source": [
    "#Запрос POST (Клиент (браузер) → Сервер)\n",
    "'''\n",
    "POST /submit HTTP/1.1\n",
    "Host: www.example.com\n",
    "Content-Type: application/x-www-form-urlencoded\n",
    "Content-Length: 27\n",
    "\n",
    "name=JohnDoe&age=25\n",
    "'''"
   ]
  },
  {
   "cell_type": "code",
   "execution_count": null,
   "id": "a99601b3-b7bb-45c6-9393-948a83f63b15",
   "metadata": {},
   "outputs": [],
   "source": [
    "# Ответ POST (Сервер → Клиент (браузер))\n",
    "\n",
    "'''\n",
    "HTTP/1.1 201 Created\n",
    "Date: Sun, 13 Apr 2025 12:05:00 GMT\n",
    "Server: Apache/2.4.1 (Unix)\n",
    "Content-Type: application/json\n",
    "Content-Length: 45\n",
    "\n",
    "{\"message\": \"Data received successfully!\"}\n",
    "'''"
   ]
  },
  {
   "cell_type": "markdown",
   "id": "884cc643-2cab-4aa7-ba12-41bc9c9ba655",
   "metadata": {},
   "source": [
    "### Коды состояния HTTP:\n",
    "\n",
    "* 1xx (Информационные): Запрос получен, продолжается обработка.\n",
    "* 2xx (Успешные): Запрос успешно принят, обработан и передан.\n",
    "* 3xx (Перенаправления): Для завершения запроса нужно принять дополнительные действия.\n",
    "* 4xx (Ошибки клиента): Запрос содержит ошибку.\n",
    "* 5xx (Ошибки сервера): Сервер не смог выполнить запрос."
   ]
  },
  {
   "cell_type": "markdown",
   "id": "d60e85f0-874a-4821-b718-7b64e60c9c32",
   "metadata": {},
   "source": [
    "### Заголовки HTTP:\n",
    "\n",
    "Заголовки содержат дополнительную информацию о запросе или ответе, такую как тип контента, длина, кодировка, кэширование и аутентификация.\n"
   ]
  },
  {
   "cell_type": "markdown",
   "id": "95512676-e34b-47d7-9f8e-55bb6e953eb0",
   "metadata": {},
   "source": [
    "## Библиотека requests"
   ]
  },
  {
   "cell_type": "code",
   "execution_count": null,
   "id": "cc7d1c62",
   "metadata": {},
   "outputs": [],
   "source": [
    "pip install requests # запускаем 1 раз"
   ]
  },
  {
   "cell_type": "code",
   "execution_count": 1,
   "id": "953bc284-2a08-4336-aad9-089677f4d159",
   "metadata": {},
   "outputs": [
    {
     "name": "stdout",
     "output_type": "stream",
     "text": [
      "200\n",
      "<!doctype html>\n",
      "<html>\n",
      "<head>\n",
      "    <title>Example Domain</title>\n",
      "\n",
      "    <meta charset=\"utf-8\" />\n",
      "    <meta http-equiv=\"Content-type\" content=\"text/html; charset=utf-8\" />\n",
      "    <meta name=\"viewport\" content=\"width=device-width, initial-scale=1\" />\n",
      "    <style type=\"text/css\">\n",
      "    body {\n",
      "        background-color: #f0f0f2;\n",
      "        margin: 0;\n",
      "        padding: 0;\n",
      "        font-family: -apple-system, system-ui, BlinkMacSystemFont, \"Segoe UI\", \"Open Sans\", \"Helvetica Neue\", Helvetica, Arial, sans-serif;\n",
      "        \n",
      "    }\n",
      "    div {\n",
      "        width: 600px;\n",
      "        margin: 5em auto;\n",
      "        padding: 2em;\n",
      "        background-color: #fdfdff;\n",
      "        border-radius: 0.5em;\n",
      "        box-shadow: 2px 3px 7px 2px rgba(0,0,0,0.02);\n",
      "    }\n",
      "    a:link, a:visited {\n",
      "        color: #38488f;\n",
      "        text-decoration: none;\n",
      "    }\n",
      "    @media (max-width: 700px) {\n",
      "        div {\n",
      "            margin: 0 auto;\n",
      "            width: auto;\n",
      "        }\n",
      "    }\n",
      "    </style>    \n",
      "</head>\n",
      "\n",
      "<body>\n",
      "<div>\n",
      "    <h1>Example Domain</h1>\n",
      "    <p>This domain is for use in illustrative examples in documents. You may use this\n",
      "    domain in literature without prior coordination or asking for permission.</p>\n",
      "    <p><a href=\"https://www.iana.org/domains/example\">More information...</a></p>\n",
      "</div>\n",
      "</body>\n",
      "</html>\n",
      "\n"
     ]
    }
   ],
   "source": [
    "import requests\n",
    "\n",
    "response = requests.get(\"https://example.com\")\n",
    "print(response.status_code)  # Выводит код состояния ответа\n",
    "print(response.text)  # Выводит данные, полученные от сервера\n"
   ]
  },
  {
   "cell_type": "code",
   "execution_count": null,
   "id": "38b8d485",
   "metadata": {},
   "outputs": [],
   "source": [
    "import requests\n",
    "\n",
    "response = requests.get(url)\n",
    "print(response.status_code)  # Выводит код состояния ответа (200 - успешный запрос)\n",
    "print(response.headers)  # Выводит заголовки ответа"
   ]
  },
  {
   "cell_type": "code",
   "execution_count": 2,
   "id": "5732e894",
   "metadata": {},
   "outputs": [
    {
     "name": "stdout",
     "output_type": "stream",
     "text": [
      "{\n",
      "  \"args\": {}, \n",
      "  \"headers\": {\n",
      "    \"Accept\": \"*/*\", \n",
      "    \"Accept-Encoding\": \"gzip, deflate, br, zstd\", \n",
      "    \"Host\": \"httpbin.org\", \n",
      "    \"User-Agent\": \"python-requests/2.32.2\", \n",
      "    \"X-Amzn-Trace-Id\": \"Root=1-67fcc157-777cd43a79c557393d56d748\"\n",
      "  }, \n",
      "  \"origin\": \"5.138.153.121\", \n",
      "  \"url\": \"https://httpbin.org/get\"\n",
      "}\n",
      "\n"
     ]
    }
   ],
   "source": [
    "response = requests.get('https://httpbin.org/get')\n",
    "print(response.text)\n"
   ]
  },
  {
   "cell_type": "markdown",
   "id": "e98d8bb2-cfbf-4004-9da5-81d0b97f403e",
   "metadata": {},
   "source": [
    "## API"
   ]
  },
  {
   "cell_type": "markdown",
   "id": "2fefc918-b908-42b3-a8fc-89ac5da5fe6b",
   "metadata": {},
   "source": [
    "API (Application Programming Interface) — это набор правил и инструментов, которые позволяют различным программным приложениям взаимодействовать друг с другом. API определяет способы, с помощью которых программы могут запрашивать услуги у других программ, обмениваться данными и выполнять различные операции. Работа с API включает отправку HTTP-запросов на определенные URL-адреса, обработку полученных ответов и взаимодействие с данными, предоставляемыми API.\n"
   ]
  },
  {
   "cell_type": "markdown",
   "id": "be8c2b2f-c091-4472-bda1-9cedccf2cfe1",
   "metadata": {},
   "source": [
    "#### Основные концепции API:\n",
    "1. Запрос и ответ:\n",
    "\n",
    "* Запрос: Клиент (например, веб-приложение или мобильное приложение) отправляет запрос на сервер через API.\n",
    "* Ответ: Сервер обрабатывает запрос и отправляет ответ клиенту.\n",
    "* Методы (или конечные точки):\n",
    "\n",
    "2. API предоставляет определенные методы или конечные точки, которые клиент может вызывать для выполнения операций. Например, метод GET /users может возвращать список пользователей.\n",
    "* Форматы данных:\n",
    "\n",
    "Обычно данные передаются в формате JSON или XML, которые легко читаются и обрабатываются программами."
   ]
  },
  {
   "cell_type": "markdown",
   "id": "baf24572-3790-4de0-8341-7afc1a8cae00",
   "metadata": {},
   "source": [
    "### Примеры работы с API"
   ]
  },
  {
   "cell_type": "code",
   "execution_count": null,
   "id": "1da06237-7d53-49bf-94a1-f0bd24bbd348",
   "metadata": {},
   "outputs": [],
   "source": []
  },
  {
   "cell_type": "code",
   "execution_count": 3,
   "id": "6729d584",
   "metadata": {},
   "outputs": [
    {
     "name": "stdout",
     "output_type": "stream",
     "text": [
      "login: github\n",
      "id: 9919\n",
      "node_id: MDEyOk9yZ2FuaXphdGlvbjk5MTk=\n",
      "avatar_url: https://avatars.githubusercontent.com/u/9919?v=4\n",
      "gravatar_id: \n",
      "url: https://api.github.com/users/github\n",
      "html_url: https://github.com/github\n",
      "followers_url: https://api.github.com/users/github/followers\n",
      "following_url: https://api.github.com/users/github/following{/other_user}\n",
      "gists_url: https://api.github.com/users/github/gists{/gist_id}\n",
      "starred_url: https://api.github.com/users/github/starred{/owner}{/repo}\n",
      "subscriptions_url: https://api.github.com/users/github/subscriptions\n",
      "organizations_url: https://api.github.com/users/github/orgs\n",
      "repos_url: https://api.github.com/users/github/repos\n",
      "events_url: https://api.github.com/users/github/events{/privacy}\n",
      "received_events_url: https://api.github.com/users/github/received_events\n",
      "type: Organization\n",
      "user_view_type: public\n",
      "site_admin: False\n",
      "name: GitHub\n",
      "company: None\n",
      "blog: https://github.com/about\n",
      "location: San Francisco, CA\n",
      "email: None\n",
      "hireable: None\n",
      "bio: How people build software.\n",
      "twitter_username: None\n",
      "public_repos: 509\n",
      "public_gists: 0\n",
      "followers: 51594\n",
      "following: 0\n",
      "created_at: 2008-05-11T04:37:31Z\n",
      "updated_at: 2022-11-29T19:44:55Z\n"
     ]
    }
   ],
   "source": [
    "import requests\n",
    "\n",
    "response = requests.get(\"https://api.github.com/users/github\")\n",
    "data = response.json()\n",
    "\n",
    "for k, v in data.items():\n",
    "    print(f\"{k}: {v}\")\n"
   ]
  },
  {
   "cell_type": "code",
   "execution_count": 4,
   "id": "41593c4c-da29-4306-aa54-41ed0d6645c5",
   "metadata": {},
   "outputs": [
    {
     "name": "stdout",
     "output_type": "stream",
     "text": [
      "Ошибка при выполнении запроса: 401\n"
     ]
    }
   ],
   "source": [
    "import requests\n",
    "\n",
    "# URL API и параметры запроса\n",
    "url = \"https://api.weather.com/v1/current\"\n",
    "params = {\"city\": \"Berlin\", \"api_key\": \"your_api_key\"}\n",
    "\n",
    "# Отправка GET-запроса\n",
    "response = requests.get(url, params=params)\n",
    "\n",
    "# Проверка статуса ответа\n",
    "if response.status_code == 200:\n",
    "    # Обработка JSON-ответа\n",
    "    data = response.json()\n",
    "    print(f\"Температура: {data['temperature']}\")\n",
    "    print(f\"Состояние: {data['condition']}\")\n",
    "else:\n",
    "    print(\"Ошибка при выполнении запроса:\", response.status_code)"
   ]
  },
  {
   "cell_type": "markdown",
   "id": "17a6c95a-26ad-4b32-b4f5-2427c8ff1628",
   "metadata": {},
   "source": [
    "### Cookie"
   ]
  },
  {
   "cell_type": "markdown",
   "id": "48776e4f-7fff-4392-9b98-80632668d3a8",
   "metadata": {},
   "source": [
    "Cookie представляет собой небольшую текстовую информацию, которая отправляется сервером и хранится на стороне клиента. Она используется для идентификации пользователя и хранения состояния между запросами. Библиотека requests позволяет удобно работать с cookie.\n"
   ]
  },
  {
   "cell_type": "code",
   "execution_count": null,
   "id": "dd4c28ff",
   "metadata": {},
   "outputs": [],
   "source": [
    "#шаблон\n",
    "import requests\n",
    "\n",
    "response = requests.get(url)\n",
    "print(response.cookies)  # Выводит cookie, полученные от сервера\n",
    "\n",
    "cookies = {\"session_id\": \"123456789\"}\n",
    "response = requests.get(url, cookies=cookies)\n"
   ]
  },
  {
   "cell_type": "code",
   "execution_count": 8,
   "id": "bd95f0a8",
   "metadata": {},
   "outputs": [
    {
     "name": "stdout",
     "output_type": "stream",
     "text": [
      "Doyle           Annalee         annalee.doyle@email.com\n",
      "Ankunding       Allison         allison.ankunding@email.com\n",
      "Sanford         Ellsworth       ellsworth.sanford@email.com\n",
      "Feeney          Buster          buster.feeney@email.com\n",
      "Gleason         Stephane        stephane.gleason@email.com\n",
      "Hettinger       Michel          michel.hettinger@email.com\n",
      "Padberg         Herminia        herminia.padberg@email.com\n",
      "Jacobs          Scot            scot.jacobs@email.com\n",
      "Kihn            Marisela        marisela.kihn@email.com\n",
      "Erdman          Marylouise      marylouise.erdman@email.com\n"
     ]
    }
   ],
   "source": [
    "import requests\n",
    "\n",
    "response = requests.get('https://random-data-api.com/api/v2/users?size=10')\n",
    "res=response.json()\n",
    "\n",
    "for person in res:\n",
    "    print(f\"{person['last_name']:15} {person['first_name']:15} {person['email']}\")\n"
   ]
  },
  {
   "cell_type": "markdown",
   "id": "bf2a010c",
   "metadata": {},
   "source": [
    "## Практические задания"
   ]
  },
  {
   "attachments": {},
   "cell_type": "markdown",
   "id": "34e5b1b5",
   "metadata": {},
   "source": [
    "Написать программу, которая с помощью библиотеки requests будет проверять доступность сайта, адрес которого передан в аргументе."
   ]
  },
  {
   "cell_type": "code",
   "execution_count": null,
   "id": "69beb305",
   "metadata": {},
   "outputs": [],
   "source": [
    "import requests\n",
    "\n",
    "def check_website_availability(url):\n",
    "    try:\n",
    "        response = requests.get(url)\n",
    "        if response.status_code == 200:\n",
    "            print(f\"Сайт {url} доступен.\")\n",
    "        else:\n",
    "            print(f\"Сайт {url} недоступен (код {response.status_code}).\")\n",
    "    except requests.ConnectionError:\n",
    "        print(f\"Не удалось подключиться к сайту {url}.\")\n",
    "\n",
    "if __name__ == \"__main__\":\n",
    "    website_url = input(\"Введите адрес сайта (в формате https://)  для проверки: \")\n",
    "    check_website_availability(website_url)\n"
   ]
  },
  {
   "cell_type": "markdown",
   "id": "9b9b86dd",
   "metadata": {},
   "source": [
    "Изучите API ресурса http://www.boredapi.com/\n",
    "Напишите программу, которая запрашивает у пользователя, чем он хотел бы заняться, и сколько всего будет участников, и с помощью изученного API предлагает вариант активности.\n"
   ]
  },
  {
   "cell_type": "code",
   "execution_count": null,
   "id": "79a9c1cf",
   "metadata": {},
   "outputs": [],
   "source": [
    "import requests\n",
    "\n",
    "def get_bored_activity():\n",
    "    activity_type = input(\"Чем бы вы хотели заняться? (например, спорт, учить новый язык): \")\n",
    "    participants = int(input(\"Сколько всего будет участников? (введите число): \"))\n",
    "\n",
    "    # Запрос к Bored API\n",
    "    url = f\"https://www.boredapi.com/api/activity?type={activity_type}&participants={participants}\"\n",
    "    response = requests.get(url)\n",
    "    data = response.json()\n",
    "\n",
    "    if \"activity\" in data:\n",
    "        print(f\"Предлагаю вам: {data['activity']}\")\n",
    "    else:\n",
    "        print(\"Извините, не удалось найти подходящую активность.\")\n",
    "\n",
    "if __name__ == \"__main__\":\n",
    "    get_bored_activity()"
   ]
  },
  {
   "cell_type": "markdown",
   "id": "8cfd0f2c",
   "metadata": {},
   "source": [
    "Страница: http://numbersapi.com/\n",
    "\n",
    "\n",
    "Сервис содержит много интересных фактов о числах, которыми можно похвастаться перед друзьями."
   ]
  },
  {
   "cell_type": "markdown",
   "id": "47cdbbc8",
   "metadata": {},
   "source": [
    "Использование API: http://numbersapi.com/<number>/<type>, где number — число, а type — тип факта (trivia — факт из жизни, math — математический факт, date и year — вопрос про дату (в формате MM/DD) и год). Например, получить факт о 25 октября можно по\n",
    "запросу http://numbersapi.com/10/25/date: October 25th is the day in 1760 that George III becomes King of Great Britain."
   ]
  },
  {
   "cell_type": "code",
   "execution_count": null,
   "id": "c8e545fa",
   "metadata": {},
   "outputs": [],
   "source": [
    "import requests\n",
    "\n",
    "def get_number_fact(number):\n",
    "    try:\n",
    "        url = f\"http://numbersapi.com/{number}/trivia\"\n",
    "        response = requests.get(url)\n",
    "        if response.status_code == 200:\n",
    "            print(f\"Интересный факт о числе {number}: {response.text}\")\n",
    "        else:\n",
    "            print(f\"Не удалось получить факт о числе {number}.\")\n",
    "    except requests.ConnectionError:\n",
    "        print(\"Не удалось подключиться к Numbers API.\")\n",
    "\n",
    "if __name__ == \"__main__\":\n",
    "    try:\n",
    "        user_number = int(input(\"Введите число: \"))\n",
    "        get_number_fact(user_number)\n",
    "    except ValueError:\n",
    "        print(\"Пожалуйста, введите целое число.\")\n"
   ]
  },
  {
   "cell_type": "code",
   "execution_count": 7,
   "id": "03d36e37-285c-4172-b93f-e70c491cd722",
   "metadata": {},
   "outputs": [
    {
     "name": "stdout",
     "output_type": "stream",
     "text": [
      "Интересный факт о введенной дате: April 1st is the day in 1873 that the British steamer RMS Atlantic sinks off Nova Scotia, killing 547.\n"
     ]
    }
   ],
   "source": [
    "import requests\n",
    "\n",
    "response = requests.get(f\"http://numbersapi.com/4/01/date\")\n",
    "print(f\"Интересный факт о введенной дате: {response.text}\")"
   ]
  },
  {
   "cell_type": "markdown",
   "id": "31b0f694-f1a8-43c7-81ac-58b13175fefc",
   "metadata": {},
   "source": [
    "## ДЗ Задача 2"
   ]
  },
  {
   "cell_type": "markdown",
   "id": "76c95cf2-d37d-44dc-8e1c-aa4b8d219fbe",
   "metadata": {},
   "source": [
    "2. Напишите функцию find_common_words(url_list), которая принимает список URL-адресов и возвращает список наиболее часто встречающихся слов на веб-страницах. Для каждого URL-адреса функция должна получить содержимое страницы с помощью запроса GET и использовать регулярные выражения для извлечения слов. Затем функция должна подсчитать количество вхождений каждого слова и вернуть наиболее часто встречающиеся слова в порядке убывания частоты.\n"
   ]
  },
  {
   "cell_type": "code",
   "execution_count": null,
   "id": "54ae212f-1b56-4a33-8a61-3378b05cc5d7",
   "metadata": {},
   "outputs": [],
   "source": [
    "import requests\n",
    "import re\n",
    "from collections import Counter\n",
    "\n",
    "def find_common_words(url_list):\n",
    "    word_counter = Counter()\n",
    "    \n",
    "    for url in url_list:\n",
    "        try:\n",
    "            response = requests.get(url)\n",
    "            response.raise_for_status()#Проверяет успешность запроса. Если запрос не был успешным (например, сервер вернул ошибку), будет вызвано исключение:\n",
    "            content = response.text\n",
    "            \n",
    "            # Извлечение слов с помощью регулярного выражения\n",
    "            words = re.findall(r'\\b\\w+\\b', content.lower())\n",
    "            word_counter.update(words)\n",
    "        except requests.RequestException as e:\n",
    "            print(f\"Ошибка при запросе к {url}: {e}\")\n",
    "    \n",
    "    # Возвращаем наиболее часто встречающиеся слова\n",
    "    return word_counter.most_common()\n",
    "\n",
    "# Пример использования\n",
    "urls = [\n",
    "    'https://www.yandex.ru',\n",
    "    'https://www.google.com'\n",
    "]\n",
    "common_words = find_common_words(urls)\n",
    "print(common_words)\n"
   ]
  },
  {
   "cell_type": "code",
   "execution_count": null,
   "id": "0f1367b4-17b9-4a46-8a85-d6abee9a3fbb",
   "metadata": {},
   "outputs": [],
   "source": [
    "from collections import Counter\n",
    "\n",
    "str = [1,2,1,1,2,3,4,5]\n",
    "print(Counter(str))\n"
   ]
  },
  {
   "cell_type": "markdown",
   "id": "525865de-aad7-417d-8f0a-7ac8a0ef423f",
   "metadata": {},
   "source": [
    "### Полезные материалы\n",
    "1. Краткое руководство по библиотеке Python Requests https://pythonru.com/biblioteki/kratkoe-rukovodstvo-po-biblioteke-python-requests \n",
    "2. Простым языком об HTTP https://habr.com/ru/articles/215117/\n",
    "\n",
    "### Вопросы для закрепления\n",
    "1. Опишите вкратце, что происходит, когда мы нажимаем переходим по ссылке на сайт\n",
    "2. Зачем нужны куки-файлы?\n",
    "3. Какие коды ответа HTTP вы запомнили?\n"
   ]
  },
  {
   "cell_type": "code",
   "execution_count": null,
   "id": "79a3e7e2-ba1d-49a7-9d2a-afe99005373c",
   "metadata": {},
   "outputs": [],
   "source": []
  }
 ],
 "metadata": {
  "kernelspec": {
   "display_name": "Python 3 (ipykernel)",
   "language": "python",
   "name": "python3"
  },
  "language_info": {
   "codemirror_mode": {
    "name": "ipython",
    "version": 3
   },
   "file_extension": ".py",
   "mimetype": "text/x-python",
   "name": "python",
   "nbconvert_exporter": "python",
   "pygments_lexer": "ipython3",
   "version": "3.12.4"
  }
 },
 "nbformat": 4,
 "nbformat_minor": 5
}
