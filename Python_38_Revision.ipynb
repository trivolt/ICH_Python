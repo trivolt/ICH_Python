{
 "cells": [
  {
   "cell_type": "markdown",
   "id": "b2bc2094-4b45-42db-b540-74fbf2aab930",
   "metadata": {},
   "source": [
    "# Revision"
   ]
  },
  {
   "cell_type": "code",
   "execution_count": null,
   "id": "67225e7d-b184-4f67-b6eb-7715186edcaa",
   "metadata": {},
   "outputs": [],
   "source": [
    "dct = {'a':2, 'b':5, 'c':0}\n",
    "print('| покупатель | кол-во |')\n",
    "print('|------------|--------|')\n",
    "for name, quan in dct.items():\n",
    "    print('|{:^12}|{:^8d}|'.format(name,quan))"
   ]
  },
  {
   "cell_type": "code",
   "execution_count": null,
   "id": "09373957-98a5-4b3b-b314-156dc78b8fbd",
   "metadata": {},
   "outputs": [],
   "source": [
    "dct = {'a':2, 'b':5, 'c':0}\n",
    "print('| покупатель | кол-во |')\n",
    "print('|------------|--------|')\n",
    "for name, quan in dct.items():\n",
    "    print(f'|{name:^12}|{quan:^8d}|')"
   ]
  },
  {
   "cell_type": "code",
   "execution_count": null,
   "id": "e07a4460-908f-432e-8353-1886d909d644",
   "metadata": {},
   "outputs": [],
   "source": [
    "print()"
   ]
  },
  {
   "cell_type": "code",
   "execution_count": null,
   "id": "6119fe8e-e11e-4df1-ab2e-0636de0a7a46",
   "metadata": {},
   "outputs": [],
   "source": [
    "dct.items()"
   ]
  },
  {
   "cell_type": "code",
   "execution_count": null,
   "id": "0a21dc01-fd20-4cb2-a854-05684d8749e3",
   "metadata": {},
   "outputs": [],
   "source": []
  },
  {
   "cell_type": "code",
   "execution_count": null,
   "id": "531dd05a-4607-4390-a9ce-35d2ecac6b33",
   "metadata": {},
   "outputs": [],
   "source": [
    "dct['e']"
   ]
  },
  {
   "cell_type": "code",
   "execution_count": null,
   "id": "9beba30e-0d1f-4418-8965-fc3eff899668",
   "metadata": {},
   "outputs": [],
   "source": [
    "dct.get('e','jhzbvd')"
   ]
  },
  {
   "cell_type": "code",
   "execution_count": null,
   "id": "e6036da1-8012-4612-acf9-93bef2d3c8c3",
   "metadata": {},
   "outputs": [],
   "source": [
    "dct.setdefault('e',0)\n",
    "dct"
   ]
  },
  {
   "cell_type": "code",
   "execution_count": null,
   "id": "4fad6389-b9e1-4242-911f-eb29181b7f78",
   "metadata": {},
   "outputs": [],
   "source": [
    "dct.setdefault('a',0)\n",
    "dct['a']"
   ]
  },
  {
   "cell_type": "code",
   "execution_count": null,
   "id": "8ffbe5be-06c4-4fad-83ff-e219aaf9f7ae",
   "metadata": {},
   "outputs": [],
   "source": [
    "lst = [1,2,3,4,1,2,2,2,2]\n",
    "lst[6] = 7\n",
    "lst"
   ]
  },
  {
   "cell_type": "code",
   "execution_count": null,
   "id": "0756245a-5f61-4905-8f13-fa6f59ed8c24",
   "metadata": {},
   "outputs": [],
   "source": [
    "lst.append(10)\n",
    "lst"
   ]
  },
  {
   "cell_type": "code",
   "execution_count": null,
   "id": "551041d4-3e4b-4ecf-bfc2-8df485305c71",
   "metadata": {},
   "outputs": [],
   "source": [
    "set(lst)"
   ]
  },
  {
   "cell_type": "code",
   "execution_count": null,
   "id": "1130b369-9e21-420b-8930-2267969930cd",
   "metadata": {},
   "outputs": [],
   "source": [
    "lst"
   ]
  },
  {
   "cell_type": "code",
   "execution_count": null,
   "id": "1a90b148-6290-4533-b67a-92283144c435",
   "metadata": {},
   "outputs": [],
   "source": []
  },
  {
   "cell_type": "code",
   "execution_count": null,
   "id": "888d1e1b-9788-4cf5-b7f4-a54bc5a27356",
   "metadata": {},
   "outputs": [],
   "source": [
    "lst1 = ['a', 'b', 'c']\n"
   ]
  },
  {
   "cell_type": "code",
   "execution_count": null,
   "id": "aeb46500-bfa6-46bc-aa56-33afc57fa22b",
   "metadata": {},
   "outputs": [],
   "source": [
    "print(' '.join(lst1))"
   ]
  },
  {
   "cell_type": "code",
   "execution_count": null,
   "id": "63f6b3c6-0759-445c-994d-c207cbf30d2d",
   "metadata": {},
   "outputs": [],
   "source": [
    "lst = [1, 2, 3, 4, 1, 2, 7, 2, 2, 10]"
   ]
  },
  {
   "cell_type": "code",
   "execution_count": null,
   "id": "54afdcb0-d758-4265-9160-df9392d012a2",
   "metadata": {},
   "outputs": [],
   "source": [
    "print('   '.join(list(map(str,lst))))"
   ]
  },
  {
   "cell_type": "code",
   "execution_count": null,
   "id": "dedb2d8a-6008-4cef-a593-e0f8f7c99901",
   "metadata": {},
   "outputs": [],
   "source": [
    "list(map(str,lst))"
   ]
  },
  {
   "cell_type": "code",
   "execution_count": null,
   "id": "9cc0a20a-239d-47c6-af53-328cbb0fa362",
   "metadata": {},
   "outputs": [],
   "source": [
    "str = 'фильмы, спорт, политика, юмор'\n",
    "str.split(', ')"
   ]
  },
  {
   "cell_type": "code",
   "execution_count": null,
   "id": "2c5dbf15-ecd1-4a51-96b8-00c87412f643",
   "metadata": {},
   "outputs": [],
   "source": [
    "list(map(lambda s: s.strip(),str.split(',')))"
   ]
  },
  {
   "cell_type": "code",
   "execution_count": null,
   "id": "4fa3a098-071d-4616-a2b7-eacf06647765",
   "metadata": {},
   "outputs": [],
   "source": []
  },
  {
   "cell_type": "code",
   "execution_count": null,
   "id": "2c34776d-9fdb-4260-a396-fe2629b6bd2a",
   "metadata": {},
   "outputs": [],
   "source": []
  },
  {
   "cell_type": "code",
   "execution_count": null,
   "id": "4abdda5f-7911-40a5-bde7-1ba8a774fbbe",
   "metadata": {},
   "outputs": [],
   "source": [
    "def name():\n",
    "    print('hello')\n",
    "    return 'hello'\n",
    "\n",
    "y = name()\n",
    "print(y)"
   ]
  },
  {
   "cell_type": "code",
   "execution_count": null,
   "id": "882e45a3-78cc-4807-bc48-ae8926f4956c",
   "metadata": {},
   "outputs": [],
   "source": []
  },
  {
   "cell_type": "code",
   "execution_count": null,
   "id": "01bc592f-5e21-40df-bf74-00b9dc0e16db",
   "metadata": {},
   "outputs": [],
   "source": [
    "def sum_(*args):\n",
    "    return sum([item for item in args if item%2==0])\n",
    "    "
   ]
  },
  {
   "cell_type": "code",
   "execution_count": null,
   "id": "4886ffcc-ddb1-47c5-be9e-88bf059122e0",
   "metadata": {},
   "outputs": [],
   "source": [
    "sum_(*[1,2,3,4,5,6,7,7788,767])"
   ]
  },
  {
   "cell_type": "code",
   "execution_count": null,
   "id": "3ec1141c-b663-4b81-8c2d-fc438a1b4952",
   "metadata": {},
   "outputs": [],
   "source": [
    "sum_(1,2,3,4,5,78,9)"
   ]
  },
  {
   "cell_type": "code",
   "execution_count": null,
   "id": "db040fc3-8b0d-4509-a418-ae9d7c876063",
   "metadata": {},
   "outputs": [],
   "source": [
    "dbconfig = {'host': 'ich-db.edu.itcareerhub.de',\n",
    "            'user': 'ich1',\n",
    "            'password': 'password',\n",
    "            'database': 'ich_edit'}"
   ]
  },
  {
   "cell_type": "code",
   "execution_count": null,
   "id": "d9155657-cd89-4923-82be-6c53050e7322",
   "metadata": {},
   "outputs": [],
   "source": [
    "'nnn' in dbconfig"
   ]
  },
  {
   "cell_type": "code",
   "execution_count": null,
   "id": "6a4a0c02-ea9c-4558-bb90-624dd78c9109",
   "metadata": {},
   "outputs": [],
   "source": [
    "def get_password(**dbconfig):\n",
    "    if 'password' in dbconfig:\n",
    "        return dbconfig['password']\n",
    "    else:\n",
    "        return 'пароль не найден'"
   ]
  },
  {
   "cell_type": "code",
   "execution_count": null,
   "id": "871ba7e9-0ad9-4204-b33a-b7dbe67dee7f",
   "metadata": {},
   "outputs": [],
   "source": [
    "get_password(**dbconfig)"
   ]
  },
  {
   "cell_type": "code",
   "execution_count": null,
   "id": "091368a9-6971-47fa-b4b2-3c0cd9476a19",
   "metadata": {},
   "outputs": [],
   "source": [
    "dct= {'a': 2, 'b': 5, 'c': 0, 'e': 0}"
   ]
  },
  {
   "cell_type": "code",
   "execution_count": null,
   "id": "4dd115c9-8b1c-41d8-bb70-6c08e1de1654",
   "metadata": {},
   "outputs": [],
   "source": [
    "get_password(**dct)"
   ]
  },
  {
   "cell_type": "code",
   "execution_count": null,
   "id": "eb6d77df-fa03-468f-9b95-20a68e86e83e",
   "metadata": {},
   "outputs": [],
   "source": [
    "get_password(a=2,d=7,password='nnn')"
   ]
  },
  {
   "cell_type": "code",
   "execution_count": null,
   "id": "ac30b594-89de-4c54-9cfe-284dd393c286",
   "metadata": {},
   "outputs": [],
   "source": []
  },
  {
   "cell_type": "code",
   "execution_count": null,
   "id": "f1078b5c-f4a5-46fa-817f-72ee5333038f",
   "metadata": {},
   "outputs": [],
   "source": [
    "import mysql.connector\n",
    "\n",
    "dbconfig = {'host': 'ich-db.edu.itcareerhub.de',\n",
    "            'user': 'ich1',\n",
    "            'password': 'password',\n",
    "            'database': 'ich_edit'}\n",
    "\n",
    "connection = mysql.connector.connect(**dbconfig)\n",
    "cursor = connection.cursor()\n",
    "\n",
    "cursor.execute('SELECT * FROM users')\n",
    "\n",
    "result = cursor.fetchall()\n",
    "\n",
    "for row in result:\n",
    "    print(row)\n",
    "cursor.close()\n",
    "connection.close()"
   ]
  },
  {
   "cell_type": "code",
   "execution_count": null,
   "id": "beeafbce-63da-4931-9766-768f7a4f0790",
   "metadata": {},
   "outputs": [],
   "source": []
  },
  {
   "cell_type": "markdown",
   "id": "79be9524-044e-46f3-88d7-ab8a4092fe73",
   "metadata": {},
   "source": [
    "В базе данных ich_edit три таблицы. Users с полями (id, name, age), Products с полями (pid, prod, quantity) и Sales с полями (sid, id, pid). Написать мини-интерфейс к базе данных, который умеет выполнять разные команды.\n",
    "Выбрать таблицу для запроса. Предусмотреть возможность выбрать несколько таблиц. Вывести результат их соединения, если это возможно, или сообщение об ошибке.\n",
    "Выбрать одно поле из выбранной таблицы и искомое значение этого поля. Вывести все подходящие строки"
   ]
  },
  {
   "cell_type": "code",
   "execution_count": null,
   "id": "e75c6015-cadc-41fb-b8d7-ec6999f03d32",
   "metadata": {},
   "outputs": [],
   "source": [
    "import mysql.connector\n",
    "from mysql.connector import Error\n",
    "\n",
    "dbconfig = {'host': 'ich-db.edu.itcareerhub.de',\n",
    "            'user': 'ich1',\n",
    "            'password': 'password',\n",
    "            'database': 'ich_edit'}\n",
    "\n",
    "def execute_query(query):\n",
    "    connection = mysql.connector.connect(**dbconfig)\n",
    "    cursor = connection.cursor()\n",
    "    try:\n",
    "        cursor.execute(query)\n",
    "        result = cursor.fetchall()\n",
    "    except Exception as e:\n",
    "        print(f'Произошла ошибка: {e}')\n",
    "    return result\n",
    "\n",
    "# Функция для выбора таблиц и волнения соединения\n",
    "def select_and_join_tables(tables):\n",
    "    if len(tables) == 1:\n",
    "        query = f'SELECT * FROM {tables[0]}'\n",
    "    elif len(tables)==2:\n",
    "        # tables = ['users','sales']\n",
    "        join_condition = ' '.join([f'{tables[i]}.id = {tables[i+1]}.id' for i in range(len(tables)-1)]) # 'users.id = sales.id'\n",
    "        query = f'SELECT * FROM {tables[0]} JOIN {tables[1]} ON {join_condition}'\n",
    "        return execute_query(query)\n",
    "        \n",
    "def search_by_field(table, field, value):\n",
    "    query = f'SELECT * FROM {table} WHERE {field} = \"{value}\"'\n",
    "    return execute_query(query)\n"
   ]
  },
  {
   "cell_type": "code",
   "execution_count": null,
   "id": "0ca6f58a-ca09-48ba-8a7f-1c74d065949f",
   "metadata": {},
   "outputs": [],
   "source": [
    "tables = ['users','sales']\n",
    "print(select_and_join_tables(tables))"
   ]
  },
  {
   "cell_type": "code",
   "execution_count": null,
   "id": "87fd2f02-9d69-4173-a5dc-c16ea78fd66a",
   "metadata": {},
   "outputs": [],
   "source": [
    "search_by_field('users', 'age', 40)"
   ]
  },
  {
   "cell_type": "code",
   "execution_count": null,
   "id": "cc9c1e53-d486-439d-94f4-471ab6ab4f5e",
   "metadata": {},
   "outputs": [],
   "source": [
    "select_and_join_tables(['users','sales'])"
   ]
  },
  {
   "cell_type": "code",
   "execution_count": null,
   "id": "c6213e25-029c-43bc-832f-6051ad1932d8",
   "metadata": {},
   "outputs": [],
   "source": [
    "execute_query('SELECT * FROM users')"
   ]
  },
  {
   "cell_type": "markdown",
   "id": "9bcaa869-4f5f-4e1b-9bfe-0e7c46dccbe0",
   "metadata": {},
   "source": [
    "### ДЗ 38"
   ]
  },
  {
   "cell_type": "code",
   "execution_count": null,
   "id": "b2a04c4d-620d-4c0a-9a7a-93381928a9aa",
   "metadata": {},
   "outputs": [],
   "source": []
  },
  {
   "cell_type": "markdown",
   "id": "0d162d9e-6754-41b3-86f0-3c82b1104943",
   "metadata": {},
   "source": [
    "Доработать мини-интерфейс к базе данных, который был сделан на занятии. Новые возможности интерфейса:\n",
    "1. Ввести список полей выбранной таблицы.\n",
    "2. При вводе искомого значения добавить возможность выбора знака - найти записи, в которых выбранное поле больше, меньше или равно введенному значению"
   ]
  },
  {
   "cell_type": "code",
   "execution_count": 90,
   "id": "d9e4277a-f49c-4ffe-8cfd-220f73731ee4",
   "metadata": {},
   "outputs": [],
   "source": [
    "info_tables = {'users': ['id', 'name', 'age'], 'product': ['id', 'name', 'age'],'sales': ['sid', 'pid', 'id']}"
   ]
  },
  {
   "cell_type": "code",
   "execution_count": 91,
   "id": "3837dfbc-fa58-4ae4-9851-e72826c621e7",
   "metadata": {},
   "outputs": [
    {
     "name": "stdin",
     "output_type": "stream",
     "text": [
      "Введите таблицу с которой необходимо раблотать: users\n",
      "Выберете поля из списка: ['id', 'name', 'age'] name age\n"
     ]
    }
   ],
   "source": [
    "table = input('Введите таблицу с которой необходимо раблотать:')\n",
    "fields = input(f'Выберете поля из списка: {info_tables[table]}').split()\n"
   ]
  },
  {
   "cell_type": "code",
   "execution_count": 92,
   "id": "d3c3ad3f-0aaa-4e85-b4ba-6f920cd5f73e",
   "metadata": {},
   "outputs": [
    {
     "data": {
      "text/plain": [
       "['name', 'age']"
      ]
     },
     "execution_count": 92,
     "metadata": {},
     "output_type": "execute_result"
    }
   ],
   "source": [
    "fields = list(map(lambda s: s.strip(), fields))\n",
    "fields"
   ]
  },
  {
   "cell_type": "code",
   "execution_count": null,
   "id": "23632dad-e634-470a-b620-bcb5f00623be",
   "metadata": {},
   "outputs": [],
   "source": []
  },
  {
   "cell_type": "code",
   "execution_count": null,
   "id": "2f03e35a-257f-4ebb-9f32-56477495d32c",
   "metadata": {},
   "outputs": [],
   "source": []
  },
  {
   "cell_type": "code",
   "execution_count": 93,
   "id": "32d4930e-ae3c-446c-8876-6155be9563b9",
   "metadata": {},
   "outputs": [],
   "source": [
    "import mysql.connector\n",
    "\n",
    "dbconfig = {'host': 'ich-db.edu.itcareerhub.de',\n",
    "            'user': 'ich1',\n",
    "            'password': 'password',\n",
    "            'database': 'ich_edit'}\n",
    "\n",
    "connection = mysql.connector.connect(**dbconfig)\n",
    "cursor = connection.cursor()"
   ]
  },
  {
   "cell_type": "code",
   "execution_count": 94,
   "id": "b1519341-f27f-4f64-b7d5-2d4a2915d84b",
   "metadata": {},
   "outputs": [],
   "source": [
    "def get_columns(connection, table):\n",
    "    cursor = connection.cursor()\n",
    "    cursor.execute(f\"DESCRIBE {table};\")\n",
    "    columns = cursor.fetchall()\n",
    "    return [column[0] for column in columns]"
   ]
  },
  {
   "cell_type": "code",
   "execution_count": 95,
   "id": "a5134a31-a85a-4702-a651-269f5534f75b",
   "metadata": {},
   "outputs": [
    {
     "data": {
      "text/plain": [
       "['id', 'name', 'age']"
      ]
     },
     "execution_count": 95,
     "metadata": {},
     "output_type": "execute_result"
    }
   ],
   "source": [
    "get_columns(connection, 'users')"
   ]
  },
  {
   "cell_type": "code",
   "execution_count": 98,
   "id": "077ac1ce-4e89-45f3-aae9-688c2d7815cc",
   "metadata": {},
   "outputs": [],
   "source": [
    "columns = {'users':get_columns(connection, 'users'),'product':get_columns(connection, 'product'),'sales':get_columns(connection, 'sales')}"
   ]
  },
  {
   "cell_type": "code",
   "execution_count": 99,
   "id": "30a2c6a5-9d90-4e28-8616-defb20c32cc1",
   "metadata": {},
   "outputs": [
    {
     "data": {
      "text/plain": [
       "{'users': ['id', 'name', 'age'],\n",
       " 'product': ['pid', 'prod', 'quantity'],\n",
       " 'sales': ['sid', 'pid', 'id']}"
      ]
     },
     "execution_count": 99,
     "metadata": {},
     "output_type": "execute_result"
    }
   ],
   "source": [
    "columns"
   ]
  },
  {
   "cell_type": "code",
   "execution_count": 100,
   "id": "99707481-ea53-4f12-9e04-668907f566a2",
   "metadata": {},
   "outputs": [],
   "source": [
    "def get_tables(connection):\n",
    "    cursor = connection.cursor()\n",
    "    cursor.execute(\"SHOW TABLES;\")\n",
    "    tables = cursor.fetchall()\n",
    "    return [table[0] for table in tables]"
   ]
  },
  {
   "cell_type": "code",
   "execution_count": 101,
   "id": "8151a819-ce8e-47be-87e4-9edbe380630a",
   "metadata": {},
   "outputs": [
    {
     "data": {
      "text/plain": [
       "['Andrii_Sevruk_logs',\n",
       " 'Denis_logs',\n",
       " 'Dima_logs',\n",
       " 'Elizaveta_logs',\n",
       " 'Julias_movie_searches',\n",
       " 'Oleg_logs',\n",
       " 'OlgaSh_search_logs',\n",
       " 'Orkhan_logs',\n",
       " 'Products',\n",
       " 'Sales',\n",
       " 'Users',\n",
       " 'Vladimir_search_logs',\n",
       " 'film',\n",
       " 'films',\n",
       " 'jobs',\n",
       " 'log_search_1112',\n",
       " 'log_search_Yuriy',\n",
       " 'log_search_alex',\n",
       " 'movies',\n",
       " 'product',\n",
       " 'regions',\n",
       " 'sales',\n",
       " 'saved_queries',\n",
       " 'search_log',\n",
       " 'search_logs',\n",
       " 'search_logs_KM',\n",
       " 'users']"
      ]
     },
     "execution_count": 101,
     "metadata": {},
     "output_type": "execute_result"
    }
   ],
   "source": [
    "get_tables(connection)"
   ]
  },
  {
   "cell_type": "code",
   "execution_count": null,
   "id": "bebe8474-84d6-43f2-9746-101f7d6373a8",
   "metadata": {},
   "outputs": [],
   "source": [
    "selected_tables = ['nnn']\n",
    "if selected_tables not in set(selected_tables).issubset():\n",
    "    print('Введенной таблицы не существует')"
   ]
  },
  {
   "cell_type": "code",
   "execution_count": null,
   "id": "697f005c-7b4d-4450-ae83-baeee768f9fe",
   "metadata": {},
   "outputs": [],
   "source": []
  },
  {
   "cell_type": "code",
   "execution_count": null,
   "id": "10dde47b-2bc1-4692-b732-a69fe422378b",
   "metadata": {},
   "outputs": [],
   "source": []
  },
  {
   "cell_type": "code",
   "execution_count": 104,
   "id": "90f05c85-c1ea-40b2-a9c3-6a12483ec0fb",
   "metadata": {},
   "outputs": [
    {
     "name": "stdout",
     "output_type": "stream",
     "text": [
      "Соединение установлено\n",
      "Доступные таблицы: ['Andrii_Sevruk_logs', 'Denis_logs', 'Dima_logs', 'Elizaveta_logs', 'Julias_movie_searches', 'Oleg_logs', 'OlgaSh_search_logs', 'Orkhan_logs', 'Products', 'Sales', 'Users', 'Vladimir_search_logs', 'film', 'films', 'jobs', 'log_search_1112', 'log_search_Yuriy', 'log_search_alex', 'movies', 'product', 'regions', 'sales', 'saved_queries', 'search_log', 'search_logs', 'search_logs_KM', 'users']\n"
     ]
    },
    {
     "name": "stdin",
     "output_type": "stream",
     "text": [
      "Введите названия таблиц, разделенные запятыми (или 'exit' для завершения):  ijdfv\n"
     ]
    },
    {
     "ename": "TypeError",
     "evalue": "set.issubset() takes exactly one argument (0 given)",
     "output_type": "error",
     "traceback": [
      "\u001b[1;31m---------------------------------------------------------------------------\u001b[0m",
      "\u001b[1;31mTypeError\u001b[0m                                 Traceback (most recent call last)",
      "Cell \u001b[1;32mIn[104], line 94\u001b[0m\n\u001b[0;32m     91\u001b[0m     connection\u001b[38;5;241m.\u001b[39mclose()\n\u001b[0;32m     93\u001b[0m \u001b[38;5;28;01mif\u001b[39;00m \u001b[38;5;18m__name__\u001b[39m \u001b[38;5;241m==\u001b[39m \u001b[38;5;124m\"\u001b[39m\u001b[38;5;124m__main__\u001b[39m\u001b[38;5;124m\"\u001b[39m:\n\u001b[1;32m---> 94\u001b[0m     main()\n",
      "Cell \u001b[1;32mIn[104], line 62\u001b[0m, in \u001b[0;36mmain\u001b[1;34m()\u001b[0m\n\u001b[0;32m     59\u001b[0m \u001b[38;5;28;01mif\u001b[39;00m \u001b[38;5;124m'\u001b[39m\u001b[38;5;124mexit\u001b[39m\u001b[38;5;124m'\u001b[39m \u001b[38;5;129;01min\u001b[39;00m selected_tables:\n\u001b[0;32m     60\u001b[0m     \u001b[38;5;28;01mbreak\u001b[39;00m\n\u001b[1;32m---> 62\u001b[0m \u001b[38;5;28;01mif\u001b[39;00m selected_tables \u001b[38;5;129;01mnot\u001b[39;00m \u001b[38;5;129;01min\u001b[39;00m \u001b[38;5;28mset\u001b[39m(selected_tables)\u001b[38;5;241m.\u001b[39missubset():\n\u001b[0;32m     63\u001b[0m     \u001b[38;5;28mprint\u001b[39m(\u001b[38;5;124m'\u001b[39m\u001b[38;5;124mВведенной таблицы не существует\u001b[39m\u001b[38;5;124m'\u001b[39m)\n\u001b[0;32m     64\u001b[0m \u001b[38;5;28;01melif\u001b[39;00m \u001b[38;5;28mlen\u001b[39m(selected_tables) \u001b[38;5;241m==\u001b[39m \u001b[38;5;241m1\u001b[39m:\n",
      "\u001b[1;31mTypeError\u001b[0m: set.issubset() takes exactly one argument (0 given)"
     ]
    }
   ],
   "source": [
    "import mysql.connector\n",
    "from mysql.connector import Error\n",
    "\n",
    "# Установка соединения\n",
    "def create_connection():\n",
    "    '''\n",
    "    Установка соединения\n",
    "    Возвращаемое значение: соединение (connection)\n",
    "    '''\n",
    "    try:\n",
    "        dbconfig = {'host': 'ich-db.edu.itcareerhub.de',\n",
    "            'user': 'ich1',\n",
    "            'password': 'password',\n",
    "            'database': 'ich_edit'}\n",
    "        connection = mysql.connector.connect(**dbconfig)\n",
    "        if connection.is_connected():\n",
    "            print(\"Соединение установлено\")\n",
    "            return connection\n",
    "    except Error as e:\n",
    "        print(f\"Ошибка: {e}\")\n",
    "        return None\n",
    "\n",
    "# Получить список всех доступных таблиц из БД\n",
    "def get_tables(connection):\n",
    "    cursor = connection.cursor()\n",
    "    cursor.execute(\"SHOW TABLES\")\n",
    "    tables = cursor.fetchall()\n",
    "    tables = [table[0] for table in tables]\n",
    "    return tables\n",
    "\n",
    "# Получить список всех доступных полей для вводимой table\n",
    "def get_columns(connection, table):\n",
    "    cursor = connection.cursor()\n",
    "    cursor.execute(f\"DESCRIBE {table}\")\n",
    "    columns = cursor.fetchall()\n",
    "    columns = [column[0] for column in columns]\n",
    "    return columns\n",
    "\n",
    "# Выполнить запрос query\n",
    "def execute_query(connection, query):\n",
    "    cursor = connection.cursor()\n",
    "    try:\n",
    "        cursor.execute(query)\n",
    "        result = cursor.fetchall()\n",
    "        return result\n",
    "    except Error as e:\n",
    "        print(f\"Ошибка: {e}\")\n",
    "        return None\n",
    "\n",
    "\n",
    "def main():\n",
    "    connection = create_connection()\n",
    "    if connection is None:\n",
    "        return\n",
    "\n",
    "    while True:\n",
    "        print(\"Доступные таблицы:\", get_tables(connection))\n",
    "        selected_tables = input(\"Введите названия таблиц, разделенные запятыми (или 'exit' для завершения): \").split(',')\n",
    "        if 'exit' in selected_tables:\n",
    "            break\n",
    "            \n",
    "        if selected_tables not in set(selected_tables).issubset():\n",
    "            print('Введенной таблицы не существует')\n",
    "        elif len(selected_tables) == 1:\n",
    "            table = selected_tables[0].strip()\n",
    "            columns = get_columns(connection, table)\n",
    "            print(f\"Столбцы в {table}: {columns}\")\n",
    "            column = input(\"Введите имя столбца для фильтрации: \").strip()\n",
    "            value = input(\"Введите значение для фильтрации: \").strip()\n",
    "            operator = input(\"Введите оператор (>, <, =): \").strip()\n",
    "\n",
    "            query = f\"SELECT * FROM {table} WHERE {column} {operator} '{value}'\"\n",
    "            result = execute_query(connection, query)\n",
    "            if result:\n",
    "                for row in result:\n",
    "                    print(row)\n",
    "            else:\n",
    "                print(\"Результаты не найдены или произошла ошибка.\")\n",
    "        else:\n",
    "            tables = [table.strip() for table in selected_tables]\n",
    "            query = f\"SELECT * FROM {tables[0]}\"\n",
    "            for table in tables[1:]:\n",
    "                query += f\" JOIN {table} ON {tables[0]}.id = {table}.id\"\n",
    "            result = execute_query(connection, query)\n",
    "            if result:\n",
    "                for row in result:\n",
    "                    print(row)\n",
    "            else:\n",
    "                print(\"Результаты не найдены или произошла ошибка.\")\n",
    "\n",
    "    connection.close()\n",
    "\n",
    "if __name__ == \"__main__\":\n",
    "    main()\n"
   ]
  },
  {
   "cell_type": "code",
   "execution_count": null,
   "id": "28f53ceb-6a65-4345-8770-6f5114d99d35",
   "metadata": {},
   "outputs": [],
   "source": [
    "from tabulate import tabulate"
   ]
  },
  {
   "cell_type": "code",
   "execution_count": null,
   "id": "6aae8fa4-9f49-4fe2-80ec-7c3e7110671f",
   "metadata": {},
   "outputs": [],
   "source": [
    "print(tabulate([[\"spam\", 41.9999], [\"eggs\", \"451.0\"]],[\"strings\", \"numbers\"], \"grid\"))"
   ]
  },
  {
   "cell_type": "code",
   "execution_count": null,
   "id": "1989b150-a3eb-4f86-8d4d-da65d3e73c24",
   "metadata": {},
   "outputs": [],
   "source": [
    "print(tabulate(execute_query(connection, query), [])"
   ]
  },
  {
   "cell_type": "code",
   "execution_count": null,
   "id": "13c8fb68-02f3-4082-bf26-9baf9426b9b1",
   "metadata": {},
   "outputs": [],
   "source": []
  },
  {
   "cell_type": "code",
   "execution_count": null,
   "id": "e5db2631-580a-4d22-8d4a-99cfe85d5885",
   "metadata": {},
   "outputs": [],
   "source": []
  }
 ],
 "metadata": {
  "kernelspec": {
   "display_name": "Python 3 (ipykernel)",
   "language": "python",
   "name": "python3"
  },
  "language_info": {
   "codemirror_mode": {
    "name": "ipython",
    "version": 3
   },
   "file_extension": ".py",
   "mimetype": "text/x-python",
   "name": "python",
   "nbconvert_exporter": "python",
   "pygments_lexer": "ipython3",
   "version": "3.12.4"
  }
 },
 "nbformat": 4,
 "nbformat_minor": 5
}
