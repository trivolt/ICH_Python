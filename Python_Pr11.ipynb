{
 "cells": [
  {
   "cell_type": "markdown",
   "id": "419b92be-01c5-4a6d-a658-7009c310a096",
   "metadata": {},
   "source": [
    "# Практикум 11"
   ]
  },
  {
   "cell_type": "markdown",
   "id": "92439cb1-e32a-48cd-a977-ef225b1ae94d",
   "metadata": {},
   "source": [
    "1. Написать функцию validateCustomers(customer), которая принимает на входе список кортежей:\n",
    "* Имя\n",
    "* Фамилия\n",
    "* Дата рождения\n",
    "* Номер банковского счета (iban)\n",
    "\n",
    "Функция возвращает мапу, где ключом является строка имя+фамилия, а значением - список сообщений об ошибках, возникших при валидации пользователя по следующим правилам:\n",
    "Имя и фамилия не должны быть пустыми.\n",
    "Возраст валиден, если он больше 18 лет. \n",
    "Iban должен соответствовать стандарту длины (начинаться с кода страны и содержать правильное количество символов)\n",
    "\n",
    "Решение должно использовать исключения и итераторы. \n"
   ]
  },
  {
   "cell_type": "markdown",
   "id": "9360f141-5281-4926-8f16-a26e19800259",
   "metadata": {},
   "source": [
    "2. В исходных данных есть дата рождения, но правило проверки возраста требует проверку возраста. Нужно реализовать разницу между текущей датой и датой рождения клиента с целью проверки его возраста. \n"
   ]
  },
  {
   "cell_type": "markdown",
   "id": "16041001-c818-4033-a5ab-d63b13c2d7e0",
   "metadata": {},
   "source": [
    "3. Нужно создать свои исключения на каждый тип ошибки. При обнаружении ошибки бросается исключение с причиной ошибки, например, “возраст меньше 18 лет (дата рождения такая-то)” или “номер банковского счета неверен: когда страны “SR” не существует”. \n",
    "Ознакомьтесь с тем, что такое IBAN и реализуйте проверку нескольких правил формата (страна, длина)."
   ]
  },
  {
   "cell_type": "markdown",
   "id": "0b9d1e42-6b52-423a-be67-4a9888bcec68",
   "metadata": {},
   "source": [
    "4. Полученную из функции мапу нужно распечатать в формате:\n",
    "Имя фамилия 1:\n",
    "\n",
    "сообщение об ошибке 1\n",
    "\n",
    "сообщение об ошибке 2\n",
    "\n",
    "Имя фамилия 2:\n",
    "\n",
    "\tсообщение об ошибке 3\n",
    " \n",
    "\tсообщение об ошибке 4\n",
    "\n",
    "И так далее. \n"
   ]
  },
  {
   "cell_type": "markdown",
   "id": "e51bd220-46a6-411f-8327-832b8e0336e7",
   "metadata": {},
   "source": [
    "5. Реализовать чтение информации о клиентах из json файла и превращение его в список кортежей, который уже будет отдаваться на вход функции validateCustomers. Учесть, что json файл может не существовать на диске и в этом случае программа должна завершится с соответствующим правильным сообщением об ошибке (нужно перехватить соответствующее исключение). \n",
    "\n",
    "Формат json файла с информацией о пользователях составить самостоятельно, на свое усмотрение. Например:\n",
    "`\n",
    "[ \n",
    "{“firstName”: “Ivan”,\n",
    "“lastName”: “Petrov”,\n",
    "“dateOfBirth”: “15-03-2017”,\n",
    "“iban”:”DE1234 0000 0000 01011 333”\n",
    " },\n",
    "{и так далее}\n",
    "]\n",
    "`"
   ]
  },
  {
   "cell_type": "markdown",
   "id": "5182f57a-a081-4483-9029-25c4cd0432e7",
   "metadata": {},
   "source": [
    "6. Ответьте на вопрос: достаточно ли вам одной функции (validateCustomers) или есть смысл сделать несколько на проверку каждого правила?"
   ]
  },
  {
   "cell_type": "code",
   "execution_count": 7,
   "id": "eb26dff3-1668-4910-a954-57cb2f9691b2",
   "metadata": {},
   "outputs": [
    {
     "name": "stdout",
     "output_type": "stream",
     "text": [
      "John Doe: []\n",
      "Jane Smith: []\n",
      " Brown: ['Имя и фамилия не должны быть пустыми.']\n",
      "Alice Johnson: ['Возраст должен быть больше 18 лет.']\n"
     ]
    }
   ],
   "source": [
    "# Пример использования\n",
    "customers = [\n",
    "    (\"John\", \"Doe\", \"2000-01-01\", \"DE89370400440532013000\"),\n",
    "    (\"Jane\", \"Smith\", \"1995-05-15\", \"FR7630006000011234567890189\"),\n",
    "    (\"\", \"Brown\", \"1990-08-20\", \"DE89370400440532013000\"),\n",
    "    (\"Alice\", \"Johnson\", \"2010-12-30\", \"INVALID_IBAN\"),\n",
    "]\n",
    "\n",
    "validation_results = validateCustomers(customers)\n",
    "for key, errors in validation_results.items():\n",
    "    print(f\"{key}: {errors}\")"
   ]
  },
  {
   "cell_type": "code",
   "execution_count": 36,
   "id": "2023b7b8-4cd6-4a48-8a5d-8e5d378125b0",
   "metadata": {},
   "outputs": [],
   "source": [
    "import datetime\n",
    "\n",
    "def validateCustomers(customers):\n",
    "    validation_results = {}\n",
    "\n",
    "    for customer in customers:\n",
    "        name, surname, birthdate_str, iban = customer\n",
    "        key = name +' '+ surname\n",
    "        errors = []\n",
    "        \n",
    "        # Проверка имени и фамилии\n",
    "        name_error = validate_name(name, surname)\n",
    "        if name_error:\n",
    "            errors.append(name_error)\n",
    "\n",
    "        # Проверка даты рождения\n",
    "        age_error = validate_age(birthdate_str)\n",
    "        if age_error:\n",
    "            errors.append(age_error)\n",
    "\n",
    "\n",
    "        # Проверка IBAN\n",
    "        iban_error = validate_iban(iban)\n",
    "        if iban_error:\n",
    "            errors.append(iban_error)\n",
    "\n",
    "        validation_results[key] = errors\n",
    "\n",
    "    return validation_results\n",
    "\n",
    "\n",
    "# Функция для проверки имени и фамилии\n",
    "def validate_name(name, surname):\n",
    "    if not name: #name==''\n",
    "        return 'Имя не должно быть пустым'\n",
    "    if not surname:\n",
    "        return 'Фамилия не должна быть пустой'\n",
    "    return None\n",
    "\n",
    "# Функция для расчета возраста\n",
    "def calculate_age(birthdate_str): #\"1995-05-15\"\n",
    "    year, month, day = list(map(int, birthdate_str.split('-')))\n",
    "\n",
    "    # Узнаем текущую \n",
    "    current_day = datetime.datetime.now().day\n",
    "    current_month = datetime.datetime.now().month\n",
    "    current_year = datetime.datetime.now().year\n",
    "\n",
    "    age = current_year - year\n",
    "\n",
    "    if month > current_month and day > current_day: #(month, day) > (current_month, current_day):\n",
    "        age -= 1\n",
    "\n",
    "    return age\n",
    "\n",
    "#Функция для проверки возраста\n",
    "def validate_age(birthdate_str):\n",
    "    age = calculate_age(birthdate_str)\n",
    "    if age < 18:\n",
    "        return f'Возраст меньше 18 (дата рождения {birthdate_str})'\n",
    "    return None\n",
    "\n",
    "# Проверка банковского номера\n",
    "def validate_iban(iban):\n",
    "    if not (15 <= len(iban) <= 34):\n",
    "        return f'Некорректный формат IBAN {iban}'\n",
    "    return None\n",
    "\n",
    "\n",
    "        "
   ]
  },
  {
   "cell_type": "code",
   "execution_count": 38,
   "id": "5488a5c1-78fd-4dc1-99e2-817faf3b2775",
   "metadata": {},
   "outputs": [
    {
     "name": "stdout",
     "output_type": "stream",
     "text": [
      "{'John Doe': [], 'Jane Smith': [], ' Brown': ['Имя не должно быть пустым'], 'Alice Johnson': ['Возраст меньше 18 (дата рождения 2010-12-30)', 'Некорректный формат IBAN INVALID_IBAN']}\n"
     ]
    }
   ],
   "source": [
    "# Пример использования\n",
    "customers = [\n",
    "    (\"John\", \"Doe\", \"2000-01-01\", \"DE89370400440532013000\"),\n",
    "    (\"Jane\", \"Smith\", \"1995-05-15\", \"FR7630006000011234567890189\"),\n",
    "    (\"\", \"Brown\", \"1990-08-20\", \"DE89370400440532013000\"),\n",
    "    (\"Alice\", \"Johnson\", \"2010-12-30\", \"INVALID_IBAN\"),\n",
    "]\n",
    "\n",
    "validation_results = validateCustomers(customers)\n",
    "print(validation_results)\n",
    "#for key, errors in validation_results.items():\n",
    "#    print(f\"{key}: {errors}\")"
   ]
  },
  {
   "cell_type": "code",
   "execution_count": null,
   "id": "46672896-b620-4a04-afb4-a1182476aea9",
   "metadata": {},
   "outputs": [],
   "source": []
  },
  {
   "cell_type": "code",
   "execution_count": 41,
   "id": "df5ab943-2632-437e-93ba-8bf450f505f1",
   "metadata": {
    "scrolled": true
   },
   "outputs": [],
   "source": [
    "import json\n",
    "\n",
    "def read_customers_from_json(file_path):\n",
    "    try:\n",
    "        with open(file_path, 'r', encoding = 'utf-8') as file:\n",
    "            customers_data = json.load(file)\n",
    "    except FileNotFoundError:\n",
    "        print(f'Файл не найден {file_path}')\n",
    "\n",
    "    customers = []\n",
    "    customer_iterator = iter(customers_data)\n",
    "\n",
    "    while True:\n",
    "        try: \n",
    "            customer = next(customer_iterator)\n",
    "            name = customer.get('firstName','')\n",
    "            surname = customer.get('lastName','')\n",
    "            birthdate_str = customer.get('dateOfBirth','')\n",
    "            iban = customer.get('iban','')\n",
    "            customers.append((name, surname, birthdate_str, iban))\n",
    "        except StopIteration:\n",
    "            break\n",
    "    return customers\n",
    "\n",
    "\n"
   ]
  },
  {
   "cell_type": "code",
   "execution_count": 44,
   "id": "375f8eb1-5871-4688-ba55-ef6b66963a83",
   "metadata": {},
   "outputs": [
    {
     "name": "stdout",
     "output_type": "stream",
     "text": [
      "Ivan Petrov:\n",
      "Anna Smith:\n",
      "John Doe:\n",
      "Alice Johnson:\n",
      "Некорректный формат IBAN INVALID_IBAN\n"
     ]
    }
   ],
   "source": [
    "def main():\n",
    "    file_path = 'C:\\\\Users\\\\dplog\\\\Python\\\\data\\\\customers.json'\n",
    "    try:\n",
    "        customers = read_customers_from_json(file_path)\n",
    "        validation_results = validateCustomers(customers)\n",
    "        for key, errors in validation_results.items():\n",
    "            print(f'{key}:')\n",
    "            for error in errors:\n",
    "                print(f'{error}')\n",
    "    except FileNotFoundError as e:\n",
    "        print(e)\n",
    "\n",
    "\n",
    "if __name__=='__main__':\n",
    "    main()"
   ]
  },
  {
   "cell_type": "code",
   "execution_count": null,
   "id": "d3f7136b-dd4c-437e-9006-68853d16511b",
   "metadata": {},
   "outputs": [],
   "source": []
  }
 ],
 "metadata": {
  "kernelspec": {
   "display_name": "Python 3 (ipykernel)",
   "language": "python",
   "name": "python3"
  },
  "language_info": {
   "codemirror_mode": {
    "name": "ipython",
    "version": 3
   },
   "file_extension": ".py",
   "mimetype": "text/x-python",
   "name": "python",
   "nbconvert_exporter": "python",
   "pygments_lexer": "ipython3",
   "version": "3.12.4"
  }
 },
 "nbformat": 4,
 "nbformat_minor": 5
}
