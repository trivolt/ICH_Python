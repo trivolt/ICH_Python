{
 "cells": [
  {
   "cell_type": "markdown",
   "id": "00f8ca3d-50f0-4a15-aead-75a4a9d49ef0",
   "metadata": {},
   "source": [
    "# Практикум 16"
   ]
  },
  {
   "cell_type": "markdown",
   "id": "d156b511-ac6c-4814-8994-7779c18e3ae8",
   "metadata": {},
   "source": [
    "Есть два вида растений (Plant): цветы (Flower) и деревья (Tree).\n",
    "\n",
    "В течение года растения разных видов растут и увядают по-разному, в зависимости от времени года:\n",
    "Весной деревья и цветы растут.\n",
    "Летом деревья растут, а цветы - цветут (не растут).\n",
    "Осенью деревья не растут, а высота цветов обнуляется, так как их срезают на зимовку.\n",
    "Зимой ни деревья ни цветы не растут.\n",
    "\n",
    "**Задача:** смоделировать рост дерева и цветка на протяжении заданного количества лет, печатая статус роста каждого растения в зависимости от времени года. \n"
   ]
  },
  {
   "cell_type": "markdown",
   "id": "acd4d37a-b0fd-45bc-8c54-e33a6c108754",
   "metadata": {},
   "source": [
    "*Рекомендации:*\n",
    "\n",
    "1. Создайте абстрактный класс Plant, которого есть 3 свойства: display_name (читаемое название), текущая высота (height), текущий возраст (age). \n",
    "2. У классов Flower и Tree есть приватные статические атрибуты flower_grow_per_season и tree_grow per_season соответственно. У класса Plant есть абстрактный метод grow_per_season(), который переопределен в подклассах и возвращает соответствующее статическое значение. Подумайте, почему статические атрибуты приватны и зачем нам нужен абстрактный метод grow_per_season()? Почему создание обычного метода тут не очень подходит?\n",
    "3. Подумайте, какие из полей классов цветок и дерево публичные, какие приватные, а какие - защищенные. Информация для размышления: стартовый возраст можно установить при создании объекта класса растения, его можно посмотреть\\напечатать, но изменить его можно только на единичку по истечению года. \n",
    "4. У класса Plant есть несколько методов: do_spring(), do_summer(), do_autumn(), do_winter(), которые меняют свойства age и height в зависимости от типа растения и правил роста (см условие) в определенный сезон. Эти методы также печатают, что происходит с растением в соответствующий сезон, например, если вызвать метод do_spring() для цветка, то печатается “Цветок вырос весной, высота 10 см”. Метод do_autumn() для дерева печатает что-то вроде “Дерево не растет осенью, текущая высота 100 см”. \n",
    "5. Наследуйте два класса Plant и Flower от класса Plant. \n",
    "6. Подумайте, какие методы из do_spring(), do_summer(), do_autumn(), do_winter() можно реализовать в классе Plant (подсказка: те, в которые растения растут одинаково).\n",
    "7. Для проверки работы программы создайте два объекта: один цветок и одно дерево. Положите их список plants. \n",
    "8. Задайте количество лет, в течение которых вы будете наблюдать рост растений, например, 2. В цикле до количества лет роста вызывайте соответствующие методы do_spring() и так далее по временам года для каждого растения из списка plants (цикл по растения в цикле по годам).\n",
    "9. Убедитесь, что растения выросли по определенным в условии правилам: дерево вытянулось, а высота цветка зависит от последнего времени года и может быть либо 0 (его срезали) либо имеет высоту flower_grow_per_season (вырос весной, не рос, а цвел летом, зимой не рос).\n"
   ]
  },
  {
   "cell_type": "code",
   "execution_count": null,
   "id": "3664017b-eb81-4cbf-a75d-fb0561853427",
   "metadata": {},
   "outputs": [],
   "source": []
  },
  {
   "cell_type": "markdown",
   "id": "9da2df15-d451-4e05-b228-fa67f9348fdf",
   "metadata": {},
   "source": [
    "Объяснение:\n",
    "\n",
    "1. Абстрактный класс Plant:\n",
    "\n",
    "- Содержит общую логику для всех растений\n",
    "\n",
    "- grow_per_season() - абстрактный метод, который заставляет подклассы определять свою скорость роста\n",
    "\n",
    "- Приватные статические атрибуты (__FLOWER_GROW, __TREE_GROW) защищают данные от случайного изменения\n",
    "\n",
    "2. Сезонные методы:\n",
    "\n",
    "- Общие методы (do_spring, do_winter) реализованы в базовом классе\n",
    "\n",
    "- Уникальное поведение (do_summer, do_autumn) переопределяется в подклассах\n",
    "\n",
    "3. Инкапсуляция:\n",
    "\n",
    "- _age и _height - защищенные атрибуты, изменяются только через методы класса\n",
    "\n",
    "- Свойства age и height позволяют только читать значения\n",
    "\n",
    "4. Логика роста:\n",
    "\n",
    "- Цветок растет только весной, обнуляется осенью\n",
    "\n",
    "- Дерево растет весной и летом\n",
    "\n",
    "- Возраст увеличивается после завершения всех сезонов года"
   ]
  },
  {
   "cell_type": "code",
   "execution_count": 28,
   "id": "1d3fdc34-fa28-4606-85c9-633ac7808f6e",
   "metadata": {},
   "outputs": [],
   "source": [
    "from abc import ABC, abstractmethod\n",
    "\n",
    "class Plant(ABC):\n",
    "    def __init__(self, display_name, start_age, start_height = 0):\n",
    "        self.display_name = display_name\n",
    "        self.height = start_height\n",
    "        self.age = start_age    \n",
    "        \n",
    "    @abstractmethod\n",
    "    def grow_per_season():\n",
    "        pass\n",
    "\n",
    "    def do_spring(self):\n",
    "        growth = self.grow_per_season()\n",
    "        self.height += growth\n",
    "        print(f'{self.display_name} вырос на {growth} см. весной. Текущая высота:{self.height} см.')\n",
    "\n",
    "    def do_summer(self):\n",
    "       print(f'{self.display_name} не растет летом. Текущая высота:{self.height} см.') \n",
    "        \n",
    "    def do_autumn(self):\n",
    "       print(f'{self.display_name} не растет осенью. Текущая высота:{self.height} см.')  \n",
    "        \n",
    "    def do_winter(self):\n",
    "        print(f'{self.display_name} не растет зимой. Текущая высота:{self.height} см.')\n",
    "        self.age += 1\n",
    "\n",
    "class Flower(Plant):\n",
    "    __FLOWER_GROW = 10 #статическое поле\n",
    "\n",
    "    def grow_per_season(self):\n",
    "        return self.__FLOWER_GROW\n",
    "\n",
    "    def do_summer(self):\n",
    "        print(f'{self.display_name} цветет летом. Текущая высота:{self.height} см.') \n",
    "        \n",
    "    def do_autumn(self):\n",
    "        self.height = 0\n",
    "        print(f'{self.display_name} срезаны осенью. Текущая высота:{self.height} см.')  \n",
    "\n",
    "\n",
    "class Tree(Plant):\n",
    "    __TREE_GROW = 30 #статическое поле\n",
    "\n",
    "    def __init__(self, display_name, start_age, start_height):\n",
    "        # Деревья начинают с заданной высоты\n",
    "        super().__init__(display_name, start_age, start_height)\n",
    "\n",
    "        \n",
    "    def grow_per_season(self):\n",
    "        return self.__TREE_GROW\n",
    "\n",
    "    def do_summer(self):\n",
    "        growth = self.grow_per_season()\n",
    "        self.height += growth\n",
    "        print(f'{self.display_name} вырос на {growth} см. летом. Текущая высота:{self.height} см.')"
   ]
  },
  {
   "cell_type": "code",
   "execution_count": 18,
   "id": "e1c5c638-3a92-4e06-b2de-dcf511d0a571",
   "metadata": {},
   "outputs": [],
   "source": [
    "rose = Flower('роза',start_age = 1)"
   ]
  },
  {
   "cell_type": "code",
   "execution_count": 19,
   "id": "b7d50bf5-0323-4c5f-a983-6e2f0be6c2b3",
   "metadata": {},
   "outputs": [
    {
     "name": "stdout",
     "output_type": "stream",
     "text": [
      "роза вырос на 10 см. весной. Текущая высота:10 см.\n"
     ]
    }
   ],
   "source": [
    "rose.do_spring()"
   ]
  },
  {
   "cell_type": "code",
   "execution_count": 20,
   "id": "b7519fd5-8ab7-48f0-8de5-0f11588167d8",
   "metadata": {},
   "outputs": [
    {
     "name": "stdout",
     "output_type": "stream",
     "text": [
      "роза цветет летом. Текущая высота:10 см.\n"
     ]
    }
   ],
   "source": [
    "rose.do_summer()"
   ]
  },
  {
   "cell_type": "code",
   "execution_count": 21,
   "id": "e2bc0620-fc1d-4849-be96-cfaf4e94020d",
   "metadata": {},
   "outputs": [
    {
     "name": "stdout",
     "output_type": "stream",
     "text": [
      "роза срезаны осенью. Текущая высота:0 см.\n"
     ]
    }
   ],
   "source": [
    "rose.do_autumn()"
   ]
  },
  {
   "cell_type": "code",
   "execution_count": 22,
   "id": "d0b233a1-7ffe-4e5e-9949-4f9f3f8e6b1a",
   "metadata": {},
   "outputs": [
    {
     "name": "stdout",
     "output_type": "stream",
     "text": [
      "роза не растет зимой. Текущая высота:0 см.\n"
     ]
    }
   ],
   "source": [
    "rose.do_winter()"
   ]
  },
  {
   "cell_type": "code",
   "execution_count": null,
   "id": "d34c01c7-874d-42bf-a7f6-0e55ccd1ad93",
   "metadata": {},
   "outputs": [],
   "source": []
  },
  {
   "cell_type": "code",
   "execution_count": 23,
   "id": "7b8f9ae0-f2aa-49bd-8ac0-5da3c4eb99a3",
   "metadata": {},
   "outputs": [
    {
     "data": {
      "text/plain": [
       "2"
      ]
     },
     "execution_count": 23,
     "metadata": {},
     "output_type": "execute_result"
    }
   ],
   "source": [
    "rose.age"
   ]
  },
  {
   "cell_type": "code",
   "execution_count": null,
   "id": "d28f6fc7-92a1-4c42-9411-25c8f4948740",
   "metadata": {},
   "outputs": [],
   "source": []
  },
  {
   "cell_type": "code",
   "execution_count": 34,
   "id": "eeba3fe4-7bd9-499f-8988-4cc8636e0a83",
   "metadata": {},
   "outputs": [
    {
     "name": "stdout",
     "output_type": "stream",
     "text": [
      "роза вырос на 10 см. весной. Текущая высота:10 см.\n",
      "роза цветет летом. Текущая высота:10 см.\n",
      "роза срезаны осенью. Текущая высота:0 см.\n",
      "роза не растет зимой. Текущая высота:0 см.\n",
      "ива вырос на 30 см. весной. Текущая высота:130 см.\n",
      "ива вырос на 30 см. летом. Текущая высота:160 см.\n",
      "ива не растет осенью. Текущая высота:160 см.\n",
      "ива не растет зимой. Текущая высота:160 см.\n",
      "_______________Год прошел _____________________\n",
      "роза вырос на 10 см. весной. Текущая высота:10 см.\n",
      "роза цветет летом. Текущая высота:10 см.\n",
      "роза срезаны осенью. Текущая высота:0 см.\n",
      "роза не растет зимой. Текущая высота:0 см.\n",
      "ива вырос на 30 см. весной. Текущая высота:190 см.\n",
      "ива вырос на 30 см. летом. Текущая высота:220 см.\n",
      "ива не растет осенью. Текущая высота:220 см.\n",
      "ива не растет зимой. Текущая высота:220 см.\n",
      "_______________Год прошел _____________________\n"
     ]
    }
   ],
   "source": [
    "rose = Flower('роза',start_age = 1)\n",
    "iva = Tree('ива',start_age = 10, start_height = 100)\n",
    "\n",
    "plants = [rose, iva]\n",
    "\n",
    "year = 2\n",
    "for y in range(year):\n",
    "    for plant in plants:\n",
    "        plant.do_spring()\n",
    "        plant.do_summer()\n",
    "        plant.do_autumn()\n",
    "        plant.do_winter()\n",
    "\n",
    "    print('_______________Год прошел _____________________')"
   ]
  },
  {
   "cell_type": "code",
   "execution_count": null,
   "id": "671c7297-09c5-4dfc-92fe-1a0ba12bda78",
   "metadata": {},
   "outputs": [],
   "source": []
  },
  {
   "cell_type": "code",
   "execution_count": null,
   "id": "c066fc01-a263-498a-af35-27b720760209",
   "metadata": {},
   "outputs": [],
   "source": []
  }
 ],
 "metadata": {
  "kernelspec": {
   "display_name": "Python 3 (ipykernel)",
   "language": "python",
   "name": "python3"
  },
  "language_info": {
   "codemirror_mode": {
    "name": "ipython",
    "version": 3
   },
   "file_extension": ".py",
   "mimetype": "text/x-python",
   "name": "python",
   "nbconvert_exporter": "python",
   "pygments_lexer": "ipython3",
   "version": "3.12.4"
  }
 },
 "nbformat": 4,
 "nbformat_minor": 5
}
