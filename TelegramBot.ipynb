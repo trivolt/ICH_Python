{
 "cells": [
  {
   "cell_type": "markdown",
   "id": "22709159-4421-44d4-bce8-323b33853a61",
   "metadata": {},
   "source": [
    "# Телеграмм Бот"
   ]
  },
  {
   "cell_type": "markdown",
   "id": "194f1c41-86a1-4b3a-8653-2136ab5ee358",
   "metadata": {},
   "source": [
    "Для создания простого Telegram-бота на Python необходимо выполнить несколько шагов.\n",
    "\n",
    "***Шаг 1:*** Создание бота в Telegram\n",
    "* Откройте Telegram и найдите бота @BotFather.\n",
    "* Отправьте команду ***/start***, чтобы начать взаимодействие с ботом.\n",
    "* После создания бота вы получите токен API. Сохраните его, он понадобится для взаимодействия с API Telegram."
   ]
  },
  {
   "cell_type": "code",
   "execution_count": null,
   "id": "ebf40f7b-7555-47b5-8924-bee04145df6d",
   "metadata": {},
   "outputs": [],
   "source": [
    "7730654248:AAH24jOrNfFEyWAGaZvwD7zvGyOmbtKev-o"
   ]
  },
  {
   "cell_type": "markdown",
   "id": "967a9b45-fdb1-4d9f-b197-e96c6733c630",
   "metadata": {},
   "source": [
    "***Шаг 2:*** Установка необходимых библиотек"
   ]
  },
  {
   "cell_type": "code",
   "execution_count": 1,
   "id": "a48e5208",
   "metadata": {},
   "outputs": [
    {
     "name": "stdout",
     "output_type": "stream",
     "text": [
      "Requirement already satisfied: pyTelegramBotAPI in c:\\users\\dplog\\anaconda3\\lib\\site-packages (4.26.0)\n",
      "Requirement already satisfied: requests in c:\\users\\dplog\\anaconda3\\lib\\site-packages (from pyTelegramBotAPI) (2.32.2)\n",
      "Requirement already satisfied: charset-normalizer<4,>=2 in c:\\users\\dplog\\anaconda3\\lib\\site-packages (from requests->pyTelegramBotAPI) (2.0.4)\n",
      "Requirement already satisfied: idna<4,>=2.5 in c:\\users\\dplog\\anaconda3\\lib\\site-packages (from requests->pyTelegramBotAPI) (3.7)\n",
      "Requirement already satisfied: urllib3<3,>=1.21.1 in c:\\users\\dplog\\anaconda3\\lib\\site-packages (from requests->pyTelegramBotAPI) (2.2.2)\n",
      "Requirement already satisfied: certifi>=2017.4.17 in c:\\users\\dplog\\anaconda3\\lib\\site-packages (from requests->pyTelegramBotAPI) (2024.12.14)\n",
      "Note: you may need to restart the kernel to use updated packages.\n"
     ]
    }
   ],
   "source": [
    "pip install pyTelegramBotAPI"
   ]
  },
  {
   "cell_type": "markdown",
   "id": "5441db43-c3e0-43d2-b1f0-e1730ab21a2e",
   "metadata": {},
   "source": [
    "***Шаг 3:*** Написание кода бота\n",
    "Создайте файл, например bot.py, и добавьте в него следующий код:"
   ]
  },
  {
   "cell_type": "code",
   "execution_count": 1,
   "id": "3e65d035-7066-4e73-abad-d45aa6eb4b6a",
   "metadata": {},
   "outputs": [
    {
     "name": "stdout",
     "output_type": "stream",
     "text": [
      "Бот запущен...\n"
     ]
    }
   ],
   "source": [
    "import telebot\n",
    "\n",
    "# Создаем экземпляр бота\n",
    "bot = telebot.TeleBot(\"7730654248:AAH24jOrNfFEyWAGaZvwD7zvGyOmbtKev-o\")  # Замените на ваш токен\n",
    "\n",
    "# Обработчик команды /start\n",
    "@bot.message_handler(commands=['start'])\n",
    "def send_welcome(message):\n",
    "    bot.reply_to(message, \"Привет! Я простой бот. Как дела?\")\n",
    "\n",
    "# Обработчик текстовых сообщений\n",
    "@bot.message_handler(func=lambda message: True)\n",
    "def echo_all(message):\n",
    "    bot.reply_to(message, message.text)\n",
    "\n",
    "# Запускаем бота\n",
    "print(\"Бот запущен...\")\n",
    "bot.polling()"
   ]
  },
  {
   "cell_type": "markdown",
   "id": "f631e972-b771-4a14-b173-4a61a5bae325",
   "metadata": {},
   "source": [
    "c jupyter"
   ]
  },
  {
   "cell_type": "markdown",
   "id": "26671ccd-0fb6-481c-b24c-c3a5f5fb562f",
   "metadata": {},
   "source": [
    "***Шаг 4:*** Запуск бота\n",
    "Запустите ваш бот"
   ]
  },
  {
   "cell_type": "markdown",
   "id": "eb54e2bd-1aa4-4f1b-a050-a6ca468e624c",
   "metadata": {},
   "source": [
    "Теперь ваш бот должен быть доступен в Telegram. Вы можете найти его по имени, которое вы указали при создании, и отправить ему команды ***/start*** и ***/help***, чтобы увидеть результат."
   ]
  },
  {
   "cell_type": "markdown",
   "id": "3a55bdd5-d93d-4a74-b5cf-9570e9516fe5",
   "metadata": {},
   "source": [
    "1. Импортируем библиотеку telebot\n",
    "\n",
    "2. Создаем объект бота с вашим токеном (получить токен можно у @BotFather в Telegram)\n",
    "\n",
    "3. Создаем обработчики сообщений с декораторами @bot.message_handler\n",
    "\n",
    "* Можно обрабатывать команды (например, /start)\n",
    "\n",
    "* Можно обрабатывать текст или другие типы сообщений\n",
    "\n",
    "4. bot.polling() запускает бесконечный цикл проверки обновлений от серверов Telegram"
   ]
  },
  {
   "cell_type": "code",
   "execution_count": null,
   "id": "df3b79fe-cae6-4d0f-a6bc-382a91863e8c",
   "metadata": {},
   "outputs": [],
   "source": []
  },
  {
   "cell_type": "code",
   "execution_count": null,
   "id": "537c0534",
   "metadata": {},
   "outputs": [],
   "source": [
    "import telebot\n",
    "from telebot import types\n",
    "\n",
    "bot = telebot.TeleBot(\"7730654248:AAH24jOrNfFEyWAGaZvwD7zvGyOmbtKev-o\")\n",
    "\n",
    "@bot.message_handler(commands=['start'])#декаратор обработчика (указывает, что функция будет вызываться при получении команды /start)\n",
    "def start(message):\n",
    "    markup = types.ReplyKeyboardMarkup(resize_keyboard=True)#создает объект клавиатуры (resize_keyboard=True - автоматически подгоняет размер кнопок под содержимое)\n",
    "    btn1 = types.KeyboardButton(\"Кнопка 1\")#создает кнопку с текстом \"Кнопка 1\"\n",
    "    btn2 = types.KeyboardButton(\"Кнопка 2\")\n",
    "    markup.add(btn1, btn2) #добавляет обе кнопки в клавиатуру (располагаются в одну строку)\n",
    "    \n",
    "    bot.send_message(message.chat.id, \"Выберите кнопку:\", reply_markup=markup)#bot.send_message() - отправляет сообщение, message.chat.id - ID чата, куда отправлять, reply_markup=markup - прикрепляет созданную клавиатуру\n",
    "\n",
    "@bot.message_handler(func=lambda message: message.text == \"Кнопка 1\")\n",
    "def button1(message):\n",
    "    bot.send_message(message.chat.id, \"Вы нажали кнопку 1\")\n",
    "\n",
    "@bot.message_handler(func=lambda message: message.text == \"Кнопка 2\")\n",
    "def button2(message):\n",
    "    bot.send_message(message.chat.id, \"Вы нажали кнопку 2\")\n",
    "\n",
    "bot.polling()"
   ]
  },
  {
   "cell_type": "code",
   "execution_count": null,
   "id": "7bceea2d",
   "metadata": {},
   "outputs": [],
   "source": [
    "# Обработка текстовых сообщений c выводом результатов в ПИТОНЕ !!!"
   ]
  },
  {
   "cell_type": "code",
   "execution_count": null,
   "id": "68dd7ba8-00ad-4701-8702-f09d6ca61ccc",
   "metadata": {},
   "outputs": [
    {
     "name": "stdout",
     "output_type": "stream",
     "text": [
      "Получен текст из Telegram: 67\n",
      "Это число: 67\n",
      "Получен текст из Telegram: jkl\n",
      "Это строка: JKL\n"
     ]
    }
   ],
   "source": [
    "import telebot\n",
    "\n",
    "bot = telebot.TeleBot(\"7730654248:AAH24jOrNfFEyWAGaZvwD7zvGyOmbtKev-o\")\n",
    "\n",
    "def process_user_input(text):\n",
    "    print(f\"Получен текст из Telegram: {text}\")\n",
    "    # Дальнейшая обработка текста...\n",
    "    if text.isdigit():\n",
    "        number = int(text)\n",
    "        print(f\"Это число: {number}\")\n",
    "    else:\n",
    "        print(f\"Это строка: {text.upper()}\")\n",
    "\n",
    "@bot.message_handler(content_types=['text'])\n",
    "def handle_text(message):\n",
    "    user_text = message.text  # Получаем текст сообщения\n",
    "    bot.send_message(message.chat.id, f\"Вы написали: {user_text}\")\n",
    "    \n",
    "    # Используем текст в программе\n",
    "    process_user_input(user_text)\n",
    "\n",
    "\n",
    "bot.polling()"
   ]
  },
  {
   "cell_type": "code",
   "execution_count": null,
   "id": "e36745ee-5884-4109-bc0c-06caa6b5b96e",
   "metadata": {},
   "outputs": [],
   "source": [
    "# Обработка текстовых сообщений c выводом результатов в ТЕЛЕГРАММЕ !!!"
   ]
  },
  {
   "cell_type": "code",
   "execution_count": null,
   "id": "9d5d5f1f-4ff9-443b-9b64-2fde45ba3cd7",
   "metadata": {},
   "outputs": [
    {
     "name": "stdout",
     "output_type": "stream",
     "text": [
      "Пользователь dm_pvlv написал: 78\n"
     ]
    }
   ],
   "source": [
    "import telebot\n",
    "\n",
    "bot = telebot.TeleBot(\"key\")  # Замените на ваш реальный токен\n",
    "\n",
    "def process_user_input(text):\n",
    "    \"\"\"Обрабатывает ввод пользователя и возвращает строку с результатом\"\"\"\n",
    "    if text.isdigit():\n",
    "        number = int(text)\n",
    "        return f\"Вы ввели число: {number}\\nКвадрат числа: {number ** 2}\"\n",
    "    else:\n",
    "        return f\"Вы ввели текст: {text.upper()}\\nДлина текста: {len(text)} символов\"\n",
    "\n",
    "@bot.message_handler(content_types=['text'])\n",
    "def handle_text(message):\n",
    "    user_text = message.text  # Получаем текст сообщения\n",
    "    \n",
    "    # Обрабатываем ввод и получаем результат\n",
    "    result = process_user_input(user_text)\n",
    "    \n",
    "    # Отправляем результат обратно в Telegram\n",
    "    bot.send_message(message.chat.id, result)\n",
    "    \n",
    "    # Дополнительный вывод в консоль (для отладки)\n",
    "    print(f\"Пользователь {message.from_user.username} написал: {user_text}\")\n",
    "\n",
    "bot.polling()"
   ]
  },
  {
   "cell_type": "code",
   "execution_count": null,
   "id": "d24f95d7",
   "metadata": {},
   "outputs": [],
   "source": [
    "# процедура валидации. Для начала работы введите /register для обработки каждого номера!!!!"
   ]
  },
  {
   "cell_type": "code",
   "execution_count": null,
   "id": "288698b1-e2ee-4a2f-bbed-47f0a4940a13",
   "metadata": {},
   "outputs": [
    {
     "name": "stdout",
     "output_type": "stream",
     "text": [
      "Телефон для обработки: +79676560707\n",
      "Телефон для обработки: +378900000898\n"
     ]
    }
   ],
   "source": [
    "import telebot\n",
    "import re\n",
    "\n",
    "bot = telebot.TeleBot(\"key\")\n",
    "\n",
    "def is_valid_phone(phone):\n",
    "    return re.match(r'^\\+?[1-9]\\d{1,14}$', phone)\n",
    "\n",
    "@bot.message_handler(commands=['register'])\n",
    "def register(message):\n",
    "    bot.send_message(message.chat.id, \"Введите ваш телефон в формате +79123456789:\")\n",
    "    bot.register_next_step_handler(message, process_phone)\n",
    "\n",
    "def process_phone(message):\n",
    "    phone = message.text\n",
    "    if is_valid_phone(phone):\n",
    "        bot.send_message(message.chat.id, \"Спасибо, телефон принят!\")\n",
    "        use_phone_in_program(phone)  # Передаем значение в программу\n",
    "    else:\n",
    "        bot.send_message(message.chat.id, \"Неверный формат телефона, попробуйте ещё раз\")\n",
    "        bot.register_next_step_handler(message, process_phone)\n",
    "\n",
    "def use_phone_in_program(phone):\n",
    "    print(f\"Телефон для обработки: {phone}\")\n",
    "    # Дальнейшая логика работы с телефоном...\n",
    "\n",
    "bot.polling()"
   ]
  },
  {
   "cell_type": "code",
   "execution_count": null,
   "id": "cc76b9a7-d4ac-4382-a571-6f058fe7fc2e",
   "metadata": {},
   "outputs": [],
   "source": [
    "# Получение значений из callback, для работы нужно ввести /start !!!!"
   ]
  },
  {
   "cell_type": "code",
   "execution_count": null,
   "id": "c1edcd04-2787-4294-8c3a-acc6fcafc716",
   "metadata": {},
   "outputs": [
    {
     "name": "stdout",
     "output_type": "stream",
     "text": [
      "Пользователь выбрал: option_a\n",
      "Обрабатываем вариант А\n"
     ]
    }
   ],
   "source": [
    "import telebot\n",
    "\n",
    "bot = telebot.TeleBot(\"key\")\n",
    "\n",
    "@bot.message_handler(commands=['start'])\n",
    "def start(message):\n",
    "    markup = telebot.types.InlineKeyboardMarkup()\n",
    "    markup.add(telebot.types.InlineKeyboardButton(\"Вариант A\", callback_data=\"option_a\"))\n",
    "    markup.add(telebot.types.InlineKeyboardButton(\"Вариант B\", callback_data=\"option_b\"))\n",
    "    bot.send_message(message.chat.id, \"Выберите вариант:\", reply_markup=markup)\n",
    "\n",
    "@bot.callback_query_handler(func=lambda call: True)\n",
    "def callback_query(call):\n",
    "    selected_option = call.data  # Получаем значение callback_data\n",
    "    bot.answer_callback_query(call.id, f\"Вы выбрали {selected_option}\")\n",
    "    \n",
    "    # Используем значение в программе\n",
    "    process_selection(selected_option)\n",
    "\n",
    "def process_selection(option):\n",
    "    print(f\"Пользователь выбрал: {option}\")\n",
    "    if option == \"option_a\":\n",
    "        print(\"Обрабатываем вариант А\")\n",
    "    else:\n",
    "        print(\"Обрабатываем вариант B\")\n",
    "\n",
    "bot.polling()"
   ]
  },
  {
   "cell_type": "code",
   "execution_count": null,
   "id": "fc0cff2c-0c95-470a-b5c8-a7a9529d9b5d",
   "metadata": {},
   "outputs": [],
   "source": [
    "# Запись данных введенных с телеграмма и сохранение в словарь. Начинаем с /auth !!!!!"
   ]
  },
  {
   "cell_type": "code",
   "execution_count": null,
   "id": "caccce5c-a484-422e-9bdd-63d92ab229c4",
   "metadata": {},
   "outputs": [
    {
     "name": "stdout",
     "output_type": "stream",
     "text": [
      "Текущие данные: {569061174: {'login': 'sd', 'password': 'sgf'}}\n"
     ]
    }
   ],
   "source": [
    "import telebot\n",
    "\n",
    "bot = telebot.TeleBot(\"key\")\n",
    "\n",
    "#Как использовать полученные значения\n",
    "user_data = {}\n",
    "\n",
    "@bot.message_handler(commands=['auth'])\n",
    "def auth(message):\n",
    "    bot.send_message(message.chat.id, \"Введите логин:\")\n",
    "    bot.register_next_step_handler(message, get_login)\n",
    "\n",
    "def get_login(message):\n",
    "    user_data[message.chat.id] = {'login': message.text}\n",
    "    bot.send_message(message.chat.id, \"Теперь введите пароль:\")\n",
    "    bot.register_next_step_handler(message, get_password)\n",
    "\n",
    "def get_password(message):\n",
    "    user_data[message.chat.id]['password'] = message.text\n",
    "    bot.send_message(message.chat.id, \"Регистрация завершена!\")\n",
    "    print(\"Текущие данные:\", user_data) \n",
    "\n",
    "bot.polling()"
   ]
  },
  {
   "cell_type": "code",
   "execution_count": null,
   "id": "346fcc4c-bff2-4683-a6b0-083a282f9b1c",
   "metadata": {},
   "outputs": [],
   "source": []
  },
  {
   "cell_type": "code",
   "execution_count": null,
   "id": "6c4558f0-c4d7-484c-896c-8730b92b99c0",
   "metadata": {},
   "outputs": [],
   "source": []
  },
  {
   "cell_type": "code",
   "execution_count": null,
   "id": "d16f2046-b4be-4f01-a7a3-020251707f2f",
   "metadata": {},
   "outputs": [],
   "source": [
    "import telebot\n",
    "import mysql.connector\n",
    "\n",
    "bot = telebot.TeleBot('key')\n",
    "\n",
    "# Функция для подключения к базе данных\n",
    "def connect_to_database():\n",
    "    dbconfig = {'host': 'ich-db.edu.itcareerhub.de',\n",
    "                'user': 'ich1',\n",
    "                'password': 'password',\n",
    "                'database': 'imdb'} #в проекте работаем с базой данных movies !!!\n",
    "    connection = mysql.connector.connect(**dbconfig)\n",
    "    return connection\n",
    "\n",
    "\n",
    "# Подключение к БД и отправка запроса. Результат - получение кортежей\n",
    "def execute_query(connection, query):\n",
    "    cursor = connection.cursor()\n",
    "    try:\n",
    "        cursor.execute(query)\n",
    "        result = cursor.fetchall()\n",
    "        return result\n",
    "    except Exception as e:\n",
    "        print(f\"Ошибка выполнения запроса: {str(e)}\")\n",
    "        return None\n",
    "    finally:\n",
    "        cursor.close()\n",
    "        connection.close()\n",
    "\n",
    "# Функция выполнения запросов к БД\n",
    "def search_movies(genre, year, actor, rating, keywords):\n",
    "    if rating != '':\n",
    "        # Формируем select запрос к БД movies\n",
    "        query = f\"\"\"\n",
    "        SELECT title, year, `imdb.rating`, genres, runtime FROM movies\n",
    "        WHERE genres LIKE '%{genre}%' AND\n",
    "        year LIKE '%{year}%' AND\n",
    "        cast LIKE '%{actor}%' AND\n",
    "        `imdb.rating` >= {rating} AND\n",
    "        (title LIKE '%{keywords}%' OR\n",
    "        plot LIKE '%{keywords}%')\n",
    "        \"\"\"\n",
    "    else:\n",
    "        query = f\"\"\"\n",
    "        SELECT title, year, `imdb.rating`, genres, runtime FROM movies\n",
    "        WHERE genres LIKE '%{genre}%' AND\n",
    "        year LIKE '%{year}%' AND\n",
    "        cast LIKE '%{actor}%' AND\n",
    "        (title LIKE '%{keywords}%' OR\n",
    "        plot LIKE '%{keywords}%')\n",
    "        \"\"\"\n",
    "\n",
    "    result = execute_query(connection, query)\n",
    "    return result\n",
    "\n",
    "# Обработчик команды /start\n",
    "@bot.message_handler(commands=['start'])\n",
    "def send_welcome(message):\n",
    "    bot.reply_to(message, \"Привет! Я бот для поиска фильмов. Введите /search для поиска фильмов.\")\n",
    "\n",
    "# Обработчик команды /search\n",
    "@bot.message_handler(commands=['search'])\n",
    "def search_command(message):\n",
    "    msg = bot.reply_to(message, \"Введите жанр [Action, Adventure, Drama, Comedy, Thriller, Family, ...] (или введите '-' для пустого значения):\")\n",
    "    bot.register_next_step_handler(msg, process_genre_step)\n",
    "\n",
    "def process_genre_step(message):\n",
    "    try:\n",
    "        chat_id = message.chat.id\n",
    "        genre = message.text\n",
    "        if genre == '-':\n",
    "            genre = ''\n",
    "        user_data = {'genre': genre}\n",
    "        msg = bot.send_message(chat_id, \"Введите год [2007 - 2015] (или введите '-' для пустого значения):\")\n",
    "        bot.register_next_step_handler(msg, process_year_step, user_data)\n",
    "    except Exception as e:\n",
    "        bot.reply_to(message, f'Ошибка: {str(e)}')\n",
    "\n",
    "def process_year_step(message, user_data):\n",
    "    try:\n",
    "        chat_id = message.chat.id\n",
    "        year = message.text\n",
    "        if year == '-':\n",
    "            year = ''\n",
    "        user_data['year'] = year\n",
    "        msg = bot.send_message(chat_id, \"Введите актера (или введите '-' для пустого значения):\")\n",
    "        bot.register_next_step_handler(msg, process_actor_step, user_data)\n",
    "    except Exception as e:\n",
    "        bot.reply_to(message, f'Ошибка: {str(e)}')\n",
    "\n",
    "def process_actor_step(message, user_data):\n",
    "    try:\n",
    "        chat_id = message.chat.id\n",
    "        actor = message.text\n",
    "        if actor == '-':\n",
    "            actor = ''\n",
    "        user_data['actor'] = actor\n",
    "        msg = bot.send_message(chat_id, \"Введите мин. рейтинг (или введите '-' для пустого значения):\")\n",
    "        bot.register_next_step_handler(msg, process_rating_step, user_data)\n",
    "    except Exception as e:\n",
    "        bot.reply_to(message, f'Ошибка: {str(e)}')\n",
    "\n",
    "def process_rating_step(message, user_data):\n",
    "    try:\n",
    "        chat_id = message.chat.id\n",
    "        rating = message.text\n",
    "        if rating == '-':\n",
    "            rating = ''\n",
    "        user_data['rating'] = rating\n",
    "        msg = bot.send_message(chat_id, \"Введите ключевые слова (или введите '-' для пустого значения):\")\n",
    "        bot.register_next_step_handler(msg, process_keywords_step, user_data)\n",
    "    except Exception as e:\n",
    "        bot.reply_to(message, f'Ошибка: {str(e)}')\n",
    "\n",
    "def process_keywords_step(message, user_data):\n",
    "    try:\n",
    "        chat_id = message.chat.id\n",
    "        keywords = message.text\n",
    "        if keywords == '-':\n",
    "            keywords = ''\n",
    "        user_data['keywords'] = keywords\n",
    "        result = search_movies(user_data['genre'], user_data['year'], user_data['actor'], user_data['rating'], user_data['keywords'])\n",
    "\n",
    "        if result:\n",
    "            limited_result = result[:10]\n",
    "            result_str = \"\\n\".join([f\"Title: {row[0]}, Year: {row[1]}, Rating: {row[2]}, Genres: {row[3]}, Runtime: {row[4]}\" for row in limited_result])\n",
    "            bot.send_message(chat_id, f\"Результаты поиска:\\n{result_str}\")\n",
    "        else:\n",
    "            bot.send_message(chat_id, 'Ничего не найдено.')\n",
    "    except Exception as e:\n",
    "        bot.reply_to(message, f'Ошибка: {str(e)}')\n",
    "\n",
    "# Запуск бота\n",
    "connection = connect_to_database()\n",
    "bot.polling()"
   ]
  },
  {
   "cell_type": "markdown",
   "id": "2faeb508-f3c4-4c75-be70-8d7bc713ce74",
   "metadata": {},
   "source": [
    "### Полезные материалы\n",
    "https://habr.com/ru/articles/442800/"
   ]
  },
  {
   "cell_type": "code",
   "execution_count": null,
   "id": "a331dcc5-4785-494b-9bdc-9ebd40b0ab98",
   "metadata": {},
   "outputs": [],
   "source": []
  }
 ],
 "metadata": {
  "kernelspec": {
   "display_name": "Python 3 (ipykernel)",
   "language": "python",
   "name": "python3"
  },
  "language_info": {
   "codemirror_mode": {
    "name": "ipython",
    "version": 3
   },
   "file_extension": ".py",
   "mimetype": "text/x-python",
   "name": "python",
   "nbconvert_exporter": "python",
   "pygments_lexer": "ipython3",
   "version": "3.12.4"
  }
 },
 "nbformat": 4,
 "nbformat_minor": 5
}
