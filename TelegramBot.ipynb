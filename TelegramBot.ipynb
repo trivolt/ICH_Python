{
 "cells": [
  {
   "cell_type": "markdown",
   "id": "22709159-4421-44d4-bce8-323b33853a61",
   "metadata": {},
   "source": [
    "# Телеграмм Бот"
   ]
  },
  {
   "cell_type": "markdown",
   "id": "194f1c41-86a1-4b3a-8653-2136ab5ee358",
   "metadata": {},
   "source": [
    "Для создания простого Telegram-бота на Python необходимо выполнить несколько шагов.\n",
    "\n",
    "***Шаг 1:*** Создание бота в Telegram\n",
    "* Откройте Telegram и найдите бота @BotFather.\n",
    "* Отправьте команду ***/start***, чтобы начать взаимодействие с ботом.\n",
    "* После создания бота вы получите токен API. Сохраните его, он понадобится для взаимодействия с API Telegram."
   ]
  },
  {
   "cell_type": "code",
   "execution_count": null,
   "id": "ebf40f7b-7555-47b5-8924-bee04145df6d",
   "metadata": {},
   "outputs": [],
   "source": []
  },
  {
   "cell_type": "markdown",
   "id": "967a9b45-fdb1-4d9f-b197-e96c6733c630",
   "metadata": {},
   "source": [
    "***Шаг 2:*** Установка необходимых библиотек"
   ]
  },
  {
   "cell_type": "code",
   "execution_count": 1,
   "id": "a48e5208",
   "metadata": {},
   "outputs": [
    {
     "name": "stdout",
     "output_type": "stream",
     "text": [
      "Requirement already satisfied: pyTelegramBotAPI in c:\\users\\dplog\\anaconda3\\lib\\site-packages (4.26.0)\n",
      "Requirement already satisfied: requests in c:\\users\\dplog\\anaconda3\\lib\\site-packages (from pyTelegramBotAPI) (2.32.2)\n",
      "Requirement already satisfied: charset-normalizer<4,>=2 in c:\\users\\dplog\\anaconda3\\lib\\site-packages (from requests->pyTelegramBotAPI) (2.0.4)\n",
      "Requirement already satisfied: idna<4,>=2.5 in c:\\users\\dplog\\anaconda3\\lib\\site-packages (from requests->pyTelegramBotAPI) (3.7)\n",
      "Requirement already satisfied: urllib3<3,>=1.21.1 in c:\\users\\dplog\\anaconda3\\lib\\site-packages (from requests->pyTelegramBotAPI) (2.2.2)\n",
      "Requirement already satisfied: certifi>=2017.4.17 in c:\\users\\dplog\\anaconda3\\lib\\site-packages (from requests->pyTelegramBotAPI) (2024.12.14)\n",
      "Note: you may need to restart the kernel to use updated packages.\n"
     ]
    }
   ],
   "source": [
    "pip install pyTelegramBotAPI"
   ]
  },
  {
   "cell_type": "markdown",
   "id": "5441db43-c3e0-43d2-b1f0-e1730ab21a2e",
   "metadata": {},
   "source": [
    "***Шаг 3:*** Написание кода бота\n",
    "Создайте файл, например bot.py, и добавьте в него следующий код:"
   ]
  },
  {
   "cell_type": "code",
   "execution_count": 2,
   "id": "3e65d035-7066-4e73-abad-d45aa6eb4b6a",
   "metadata": {},
   "outputs": [
    {
     "name": "stdout",
     "output_type": "stream",
     "text": [
      "Бот запущен...\n"
     ]
    }
   ],
   "source": [
    "import telebot\n",
    "\n",
    "# Создаем экземпляр бота\n",
    "bot = telebot.TeleBot(\"key\")  # Замените на ваш токен\n",
    "\n",
    "# Обработчик команды /start\n",
    "@bot.message_handler(commands=['start'])\n",
    "def send_welcome(message):\n",
    "    bot.reply_to(message, \"Привет! Я простой бот. Как дела?\")\n",
    "\n",
    "# Обработчик текстовых сообщений\n",
    "@bot.message_handler(func=lambda message: True)\n",
    "def echo_all(message):\n",
    "    bot.reply_to(message, message.text)\n",
    "\n",
    "# Запускаем бота\n",
    "print(\"Бот запущен...\")\n",
    "bot.polling()"
   ]
  },
  {
   "cell_type": "markdown",
   "id": "f631e972-b771-4a14-b173-4a61a5bae325",
   "metadata": {},
   "source": [
    "c jupyter"
   ]
  },
  {
   "cell_type": "markdown",
   "id": "26671ccd-0fb6-481c-b24c-c3a5f5fb562f",
   "metadata": {},
   "source": [
    "***Шаг 4:*** Запуск бота\n",
    "Запустите ваш бот"
   ]
  },
  {
   "cell_type": "markdown",
   "id": "eb54e2bd-1aa4-4f1b-a050-a6ca468e624c",
   "metadata": {},
   "source": [
    "Теперь ваш бот должен быть доступен в Telegram. Вы можете найти его по имени, которое вы указали при создании, и отправить ему команды ***/start*** и ***/help***, чтобы увидеть результат."
   ]
  },
  {
   "cell_type": "markdown",
   "id": "3a55bdd5-d93d-4a74-b5cf-9570e9516fe5",
   "metadata": {},
   "source": [
    "1. Импортируем библиотеку telebot\n",
    "\n",
    "2. Создаем объект бота с вашим токеном (получить токен можно у @BotFather в Telegram)\n",
    "\n",
    "3. Создаем обработчики сообщений с декораторами @bot.message_handler\n",
    "\n",
    "* Можно обрабатывать команды (например, /start)\n",
    "\n",
    "* Можно обрабатывать текст или другие типы сообщений\n",
    "\n",
    "4. bot.polling() запускает бесконечный цикл проверки обновлений от серверов Telegram"
   ]
  },
  {
   "cell_type": "code",
   "execution_count": null,
   "id": "df3b79fe-cae6-4d0f-a6bc-382a91863e8c",
   "metadata": {},
   "outputs": [],
   "source": []
  },
  {
   "cell_type": "code",
   "execution_count": null,
   "id": "537c0534",
   "metadata": {},
   "outputs": [],
   "source": [
    "import telebot\n",
    "from telebot import types\n",
    "\n",
    "bot = telebot.TeleBot(\"key\")\n",
    "\n",
    "@bot.message_handler(commands=['start'])#декаратор обработчика (указывает, что функция будет вызываться при получении команды /start)\n",
    "def start(message):\n",
    "    markup = types.ReplyKeyboardMarkup(resize_keyboard=True)#создает объект клавиатуры (resize_keyboard=True - автоматически подгоняет размер кнопок под содержимое)\n",
    "    btn1 = types.KeyboardButton(\"Кнопка 1\")#создает кнопку с текстом \"Кнопка 1\"\n",
    "    btn2 = types.KeyboardButton(\"Кнопка 2\")\n",
    "    markup.add(btn1, btn2) #добавляет обе кнопки в клавиатуру (располагаются в одну строку)\n",
    "    \n",
    "    bot.send_message(message.chat.id, \"Выберите кнопку:\", reply_markup=markup)#bot.send_message() - отправляет сообщение, message.chat.id - ID чата, куда отправлять, reply_markup=markup - прикрепляет созданную клавиатуру\n",
    "\n",
    "@bot.message_handler(func=lambda message: message.text == \"Кнопка 1\")\n",
    "def button1(message):\n",
    "    bot.send_message(message.chat.id, \"Вы нажали кнопку 1\")\n",
    "\n",
    "@bot.message_handler(func=lambda message: message.text == \"Кнопка 2\")\n",
    "def button2(message):\n",
    "    bot.send_message(message.chat.id, \"Вы нажали кнопку 2\")\n",
    "\n",
    "bot.polling()"
   ]
  },
  {
   "cell_type": "code",
   "execution_count": null,
   "id": "7bceea2d",
   "metadata": {},
   "outputs": [],
   "source": [
    "# Обработка текстовых сообщений"
   ]
  },
  {
   "cell_type": "code",
   "execution_count": null,
   "id": "68dd7ba8-00ad-4701-8702-f09d6ca61ccc",
   "metadata": {},
   "outputs": [],
   "source": [
    "import telebot\n",
    "\n",
    "bot = telebot.TeleBot(\"key\")\n",
    "\n",
    "@bot.message_handler(content_types=['text'])\n",
    "def handle_text(message):\n",
    "    user_text = message.text  # Получаем текст сообщения\n",
    "    bot.send_message(message.chat.id, f\"Вы написали: {user_text}\")\n",
    "    \n",
    "    # Используем текст в программе\n",
    "    process_user_input(user_text)\n",
    "\n",
    "def process_user_input(text):\n",
    "    print(f\"Получен текст из Telegram: {text}\")\n",
    "    # Дальнейшая обработка текста...\n",
    "    if text.isdigit():\n",
    "        number = int(text)\n",
    "        print(f\"Это число: {number}\")\n",
    "    else:\n",
    "        print(f\"Это строка: {text.upper()}\")\n",
    "\n",
    "bot.polling()"
   ]
  },
  {
   "cell_type": "code",
   "execution_count": null,
   "id": "d24f95d7",
   "metadata": {},
   "outputs": [],
   "source": [
    "# процедура валидации"
   ]
  },
  {
   "cell_type": "code",
   "execution_count": null,
   "id": "288698b1-e2ee-4a2f-bbed-47f0a4940a13",
   "metadata": {},
   "outputs": [],
   "source": [
    "import telebot\n",
    "import re\n",
    "\n",
    "bot = telebot.TeleBot(\"key\")\n",
    "\n",
    "def is_valid_phone(phone):\n",
    "    return re.match(r'^\\+?[1-9]\\d{1,14}$', phone)\n",
    "\n",
    "@bot.message_handler(commands=['register'])\n",
    "def register(message):\n",
    "    bot.send_message(message.chat.id, \"Введите ваш телефон в формате +79123456789:\")\n",
    "    bot.register_next_step_handler(message, process_phone)\n",
    "\n",
    "def process_phone(message):\n",
    "    phone = message.text\n",
    "    if is_valid_phone(phone):\n",
    "        bot.send_message(message.chat.id, \"Спасибо, телефон принят!\")\n",
    "        use_phone_in_program(phone)  # Передаем значение в программу\n",
    "    else:\n",
    "        bot.send_message(message.chat.id, \"Неверный формат телефона, попробуйте ещё раз\")\n",
    "        bot.register_next_step_handler(message, process_phone)\n",
    "\n",
    "def use_phone_in_program(phone):\n",
    "    print(f\"Телефон для обработки: {phone}\")\n",
    "    # Дальнейшая логика работы с телефоном...\n",
    "\n",
    "bot.polling()"
   ]
  },
  {
   "cell_type": "code",
   "execution_count": null,
   "id": "cc76b9a7-d4ac-4382-a571-6f058fe7fc2e",
   "metadata": {},
   "outputs": [],
   "source": [
    "# Получение значений из callback"
   ]
  },
  {
   "cell_type": "code",
   "execution_count": null,
   "id": "c1edcd04-2787-4294-8c3a-acc6fcafc716",
   "metadata": {},
   "outputs": [],
   "source": [
    "import telebot\n",
    "\n",
    "bot = telebot.TeleBot(\"key\")\n",
    "\n",
    "@bot.message_handler(commands=['start'])\n",
    "def start(message):\n",
    "    markup = telebot.types.InlineKeyboardMarkup()\n",
    "    markup.add(telebot.types.InlineKeyboardButton(\"Вариант A\", callback_data=\"option_a\"))\n",
    "    markup.add(telebot.types.InlineKeyboardButton(\"Вариант B\", callback_data=\"option_b\"))\n",
    "    bot.send_message(message.chat.id, \"Выберите вариант:\", reply_markup=markup)\n",
    "\n",
    "@bot.callback_query_handler(func=lambda call: True)\n",
    "def callback_query(call):\n",
    "    selected_option = call.data  # Получаем значение callback_data\n",
    "    bot.answer_callback_query(call.id, f\"Вы выбрали {selected_option}\")\n",
    "    \n",
    "    # Используем значение в программе\n",
    "    process_selection(selected_option)\n",
    "\n",
    "def process_selection(option):\n",
    "    print(f\"Пользователь выбрал: {option}\")\n",
    "    if option == \"option_a\":\n",
    "        print(\"Обрабатываем вариант А\")\n",
    "    else:\n",
    "        print(\"Обрабатываем вариант B\")\n",
    "\n",
    "bot.polling()"
   ]
  },
  {
   "cell_type": "code",
   "execution_count": null,
   "id": "fc0cff2c-0c95-470a-b5c8-a7a9529d9b5d",
   "metadata": {},
   "outputs": [],
   "source": []
  },
  {
   "cell_type": "code",
   "execution_count": null,
   "id": "caccce5c-a484-422e-9bdd-63d92ab229c4",
   "metadata": {},
   "outputs": [],
   "source": [
    "#Как использовать полученные значения\n",
    "user_data = {}\n",
    "\n",
    "@bot.message_handler(commands=['auth'])\n",
    "def auth(message):\n",
    "    bot.send_message(message.chat.id, \"Введите логин:\")\n",
    "    bot.register_next_step_handler(message, get_login)\n",
    "\n",
    "def get_login(message):\n",
    "    user_data[message.chat.id] = {'login': message.text}\n",
    "    bot.send_message(message.chat.id, \"Теперь введите пароль:\")\n",
    "    bot.register_next_step_handler(message, get_password)\n",
    "\n",
    "def get_password(message):\n",
    "    user_data[message.chat.id]['password'] = message.text\n",
    "    bot.send_message(message.chat.id, \"Регистрация завершена!\")\n",
    "    process_user_credentials(user_data[message.chat.id])"
   ]
  },
  {
   "cell_type": "code",
   "execution_count": null,
   "id": "3ab31c8f-a295-40d0-8ddb-c5dee45c5132",
   "metadata": {},
   "outputs": [],
   "source": [
    "#обработка\n",
    "def process_user_input(text):\n",
    "    # Анализ текста\n",
    "    if text.startswith('/order'):\n",
    "        item = text[7:].strip()\n",
    "        place_order(item)"
   ]
  },
  {
   "cell_type": "code",
   "execution_count": null,
   "id": "bb337268-f8fd-4f8a-a673-fa9dd47ccaaf",
   "metadata": {},
   "outputs": [],
   "source": [
    "#сохранение в БД\n",
    "import mysql.connector\n",
    "\n",
    "def save_to_db(user_id, data):\n",
    "    conn = mysql.connector.connect(**dbconfig)\n",
    "    c = conn.cursor()\n",
    "    c.execute(\"INSERT INTO user_inputs VALUES (?, ?)\", (user_id, data))\n",
    "    conn.commit()\n",
    "    conn.close()"
   ]
  },
  {
   "cell_type": "code",
   "execution_count": null,
   "id": "346fcc4c-bff2-4683-a6b0-083a282f9b1c",
   "metadata": {},
   "outputs": [],
   "source": []
  },
  {
   "cell_type": "code",
   "execution_count": null,
   "id": "8ab7cb2c",
   "metadata": {},
   "outputs": [],
   "source": [
    "import telebot\n",
    "import mysql.connector\n",
    "\n",
    "bot = telebot.TeleBot('key')\n",
    "\n",
    "# Функция для подключения к базе данных\n",
    "def connect_to_database():\n",
    "    dbconfig = {'host': 'ich-db.edu.itcareerhub.de',\n",
    "                'user': 'ich1',\n",
    "                'password': 'password',\n",
    "                'database': 'sakila'} #в проекте работаем с базой данных movies !!!\n",
    "    connection = mysql.connector.connect(**dbconfig)\n",
    "    return connection\n",
    "\n",
    "# Функция для поиска фильмов по категории\n",
    "def search_by_category(cursor):\n",
    "    cursor.execute(\"SELECT category_id, name FROM category\")\n",
    "    categories = cursor.fetchall()\n",
    "    category_list = \"Список категорий:\\n\"\n",
    "    for category in categories:\n",
    "        category_list += f\"{category[0]}. {category[1]}\\n\"\n",
    "    return category_list\n",
    "\n",
    "# Функция для выполнения запроса по категории и отображения результатов\n",
    "def execute_category_search(cursor, category_id):\n",
    "    cursor.execute('''\n",
    "    SELECT title, release_year, description FROM film f JOIN film_category c ON f.film_id = c.film_id\n",
    "    WHERE c.category_id = %s LIMIT 10''', (category_id,))\n",
    "    movies = cursor.fetchall()\n",
    "    movie_list = \"Найденные фильмы:\\n\"\n",
    "    for movie in movies:\n",
    "        movie_list += f\"Название: {movie[0]}\\n\"\n",
    "        movie_list += f\"Год выпуска: {movie[1]}\\n\"\n",
    "        movie_list += f\"Описание: {movie[2]}\\n\\n\"\n",
    "    return movie_list\n",
    "\n",
    "# Функция для поиска фильмов по имени актера\n",
    "def search_by_actor(cursor, actor_name):\n",
    "    cursor.execute(\"\"\"SELECT first_name, last_name FROM actor\n",
    "    WHERE first_name LIKE %s OR last_name LIKE %s\"\"\", (f'%{actor_name}%', f'%{actor_name}%'))\n",
    "    actor_results = cursor.fetchall()\n",
    "    actor_list = \"\"\n",
    "    if not actor_results:\n",
    "        actor_list = \"Актер не найден.\"\n",
    "    else:\n",
    "        actor_list = \"Найденные актеры:\\n\"\n",
    "        for actor in actor_results:\n",
    "            actor_list += f\"{actor[0]} {actor[1]}\\n\"\n",
    "    return actor_list\n",
    "\n",
    "# Функция для выполнения запроса по актеру и отображения результатов\n",
    "def execute_actor_search(cursor, selected_actor):\n",
    "    cursor.execute(\"SELECT f.title, f.release_year, f.description FROM film f JOIN film_actor fa ON f.film_id = fa.film_id JOIN actor a ON fa.actor_id = a.actor_id WHERE a.first_name = %s OR a.last_name = %s LIMIT 10\", (selected_actor, selected_actor))\n",
    "    movies = cursor.fetchall()\n",
    "    movie_list = \"Фильмы с участием выбранного актера:\\n\"\n",
    "    for movie in movies:\n",
    "        movie_list += f\"Название: {movie[0]}\\n\"\n",
    "        movie_list += f\"Год выпуска: {movie[1]}\\n\"\n",
    "        movie_list += f\"Описание: {movie[2]}\\n\\n\"\n",
    "    return movie_list\n",
    "\n",
    "# Обработчик команды /start\n",
    "@bot.message_handler(commands=['start'])\n",
    "def handle_start(message):\n",
    "    bot.send_message(message.chat.id, \"Привет! Выберите тип поиска:\\n1. Поиск по категории\\n2. Поиск по имени актера\")\n",
    "\n",
    "# Обработчик текстовых сообщений\n",
    "@bot.message_handler(content_types=['text']) #Этот параметр говорит боту, что функция-обработчик должна вызываться только при получении текстовых сообщений\n",
    "def handle_text(message):#аргумент message представляет собой объект сообщения, который Telegram Bot API отправляет вашему боту при получении нового сообщения от пользователя. Этот объект содержит всю информацию о сообщении и его отправителе.\n",
    "    if message.text == \"/start\":\n",
    "        handle_start(message)\n",
    "    elif message.text == \"1\":\n",
    "        connection = connect_to_database()\n",
    "        cursor = connection.cursor()\n",
    "        category_list = search_by_category(cursor)\n",
    "        bot.send_message(message.chat.id, category_list)#Вывод в телеграм бот\n",
    "        cursor.close()\n",
    "        connection.close()\n",
    "        bot.register_next_step_handler(message, process_category_choice)#process_category_choice - функция, которая будет вызвана при получении следующего сообщения\n",
    "    elif message.text == \"2\":\n",
    "        bot.send_message(message.chat.id, \"Введите имя актера:\")\n",
    "        bot.register_next_step_handler(message, process_actor_name_step)\n",
    "    else:\n",
    "        bot.send_message(message.chat.id, \"Я тебя не понимаю. Выберите тип поиска:\\n1. Поиск по категории\\n2. Поиск по имени актера\")\n",
    "\n",
    "# Обработчик выбора категории\n",
    "def process_category_choice(message):\n",
    "    category_id = message.text\n",
    "    connection = connect_to_database()\n",
    "    cursor = connection.cursor()\n",
    "    movie_list = execute_category_search(cursor, category_id)\n",
    "    bot.send_message(message.chat.id, movie_list)\n",
    "    cursor.close()\n",
    "    connection.close()\n",
    "\n",
    "# Обработчик ввода имени актера\n",
    "def process_actor_name_step(message):\n",
    "    actor_name = message.text\n",
    "    connection = connect_to_database()\n",
    "    cursor = connection.cursor()\n",
    "    actor_list = search_by_actor(cursor, actor_name)\n",
    "    bot.send_message(message.chat.id, actor_list)\n",
    "    cursor.close()\n",
    "    connection.close()\n",
    "\n",
    "    if actor_list != \"Актер не найден.\":\n",
    "        bot.send_message(message.chat.id, \"Выберите имя актера из списка:\")\n",
    "        bot.register_next_step_handler(message, process_selected_actor_step)\n",
    "\n",
    "# Обработчик выбора актера\n",
    "def process_selected_actor_step(message):\n",
    "    selected_actor = message.text\n",
    "    connection = connect_to_database()\n",
    "    cursor = connection.cursor()\n",
    "    movie_list = execute_actor_search(cursor, selected_actor)\n",
    "    bot.send_message(message.chat.id, movie_list)\n",
    "    cursor.close()\n",
    "    connection.close()\n",
    "\n",
    "# Запуск обработчика сообщений\n",
    "bot.polling(none_stop=True, interval=0)\n"
   ]
  },
  {
   "cell_type": "markdown",
   "id": "2faeb508-f3c4-4c75-be70-8d7bc713ce74",
   "metadata": {},
   "source": [
    "### Полезные материалы\n",
    "https://habr.com/ru/articles/442800/"
   ]
  },
  {
   "cell_type": "code",
   "execution_count": null,
   "id": "a331dcc5-4785-494b-9bdc-9ebd40b0ab98",
   "metadata": {},
   "outputs": [],
   "source": []
  }
 ],
 "metadata": {
  "kernelspec": {
   "display_name": "Python 3 (ipykernel)",
   "language": "python",
   "name": "python3"
  },
  "language_info": {
   "codemirror_mode": {
    "name": "ipython",
    "version": 3
   },
   "file_extension": ".py",
   "mimetype": "text/x-python",
   "name": "python",
   "nbconvert_exporter": "python",
   "pygments_lexer": "ipython3",
   "version": "3.12.4"
  }
 },
 "nbformat": 4,
 "nbformat_minor": 5
}
