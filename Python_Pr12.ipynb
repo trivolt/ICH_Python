{
 "cells": [
  {
   "cell_type": "markdown",
   "id": "ee2468e4-95dc-469f-ac85-b646683cdaaa",
   "metadata": {},
   "source": [
    "# Практикум 12"
   ]
  },
  {
   "cell_type": "markdown",
   "id": "7c23dba9-3f79-453f-bbb1-13b923b577c9",
   "metadata": {},
   "source": [
    "1. Напишите генератор, который возвращает последовательность целых чисел, где каждое следующее больше предыдущего в 2 раза. "
   ]
  },
  {
   "cell_type": "code",
   "execution_count": null,
   "id": "c3fd52e7-f18c-463a-8dfe-aebc6bffeb51",
   "metadata": {},
   "outputs": [],
   "source": [
    "#2 4 8 16 32\n",
    "#5 10 20 40 "
   ]
  },
  {
   "cell_type": "code",
   "execution_count": 11,
   "id": "5894b803-1307-4ff1-af85-a4853923a46c",
   "metadata": {
    "scrolled": true
   },
   "outputs": [],
   "source": [
    "from typing import Iterable\n",
    "\n",
    "def gen_in_2(start: int) -> Iterable[int]:\n",
    "    num = start\n",
    "    while True:\n",
    "        yield num\n",
    "        num *= 2"
   ]
  },
  {
   "cell_type": "code",
   "execution_count": 12,
   "id": "f2e2f7c7-6acc-4a77-b3ea-bff4345e16bb",
   "metadata": {},
   "outputs": [
    {
     "name": "stdout",
     "output_type": "stream",
     "text": [
      "5\n",
      "10\n",
      "20\n",
      "40\n",
      "80\n",
      "160\n",
      "320\n",
      "640\n",
      "1280\n",
      "2560\n"
     ]
    }
   ],
   "source": [
    "gen = gen_in_2(5)\n",
    "for i in range(10):\n",
    "    print(next(gen))"
   ]
  },
  {
   "cell_type": "markdown",
   "id": "3af2cd17-5570-4c67-a12f-da586188ec5f",
   "metadata": {},
   "source": [
    "2. Напишите генератор, в который передаются строки разной длины и который возвращает строки фиксированной длины 7 символов. Если длина переданной строки  больше 7 символов, то возвращаются первые 7 символов. Если длина переданной строки меньше 7 символов, то недостающие символы присоединяются к строке слева в виде нулей (“abcd” -> “000abcd”).\n"
   ]
  },
  {
   "cell_type": "code",
   "execution_count": 14,
   "id": "e78928e3-d5db-4a82-aeba-ac63097cb0f4",
   "metadata": {},
   "outputs": [],
   "source": [
    "strings = ['abcd','abc','123456789','x','sample']\n",
    "\n",
    "# 000abcd\n",
    "# 0000abc\n",
    "# 1234567\n",
    "# 000000x\n",
    "# 0sample"
   ]
  },
  {
   "cell_type": "code",
   "execution_count": 15,
   "id": "da11c1b7-acd9-4e29-8022-47ff9f86052b",
   "metadata": {},
   "outputs": [
    {
     "name": "stdout",
     "output_type": "stream",
     "text": [
      "0000abc\n"
     ]
    }
   ],
   "source": [
    "str = 'abc'\n",
    "print(str.zfill(7))"
   ]
  },
  {
   "cell_type": "code",
   "execution_count": 16,
   "id": "36a85d4d-d9f3-4736-833f-4a63ed68abaa",
   "metadata": {},
   "outputs": [
    {
     "name": "stdout",
     "output_type": "stream",
     "text": [
      "000abcd\n",
      "0000abc\n",
      "1234567\n",
      "000000x\n",
      "0sample\n"
     ]
    }
   ],
   "source": [
    "def fixed_length_generator(strings):\n",
    "    for string in strings:\n",
    "        if len(string) > 7:\n",
    "            yield string[:7]\n",
    "        else:\n",
    "            yield string.zfill(7)\n",
    "\n",
    "strings = ['abcd','abc','123456789','x','sample']\n",
    "for item in fixed_length_generator(strings):\n",
    "    print(item)"
   ]
  },
  {
   "cell_type": "code",
   "execution_count": 17,
   "id": "7be09b67-fd72-487a-ac9d-6c84a7d1f5c1",
   "metadata": {},
   "outputs": [
    {
     "name": "stdout",
     "output_type": "stream",
     "text": [
      "000abcd\n",
      "0000abc\n",
      "1234567\n",
      "000000x\n",
      "0sample\n"
     ]
    }
   ],
   "source": [
    "strings = ['abcd','abc','123456789','x','sample']\n",
    "gen = fixed_length_generator(strings)\n",
    "for item in gen:\n",
    "    print(item)\n"
   ]
  },
  {
   "cell_type": "code",
   "execution_count": null,
   "id": "8f944435-e9b2-40b5-9a21-1f11542fcad1",
   "metadata": {},
   "outputs": [],
   "source": []
  },
  {
   "cell_type": "markdown",
   "id": "d961ec34-606f-484a-b42a-ae109df80109",
   "metadata": {},
   "source": [
    "3. У вас есть текстовый файл, где каждая строка - имя человека. Написать программу, которая выводит следующее приветствие: “Привет, <имя 1>, <имя 2>,... <имя n> и добро пожаловать!”. Программу реализовать с помощью генератора и суб-генератора, где суб-генератор возвращает имена из файла, а основной генератор в нужный момент считывает и возвращает значения из суб-генератора.  \n"
   ]
  },
  {
   "cell_type": "code",
   "execution_count": null,
   "id": "f3127f6f-e49a-424a-a30e-2536937ecc1e",
   "metadata": {},
   "outputs": [],
   "source": [
    "Привет, Ирина, Анатолий, Дмитрий, ..., Диана и добро пожаловать!"
   ]
  },
  {
   "cell_type": "code",
   "execution_count": 26,
   "id": "4f7c644e-a984-4398-8c40-282fcc379a7d",
   "metadata": {},
   "outputs": [],
   "source": [
    "def sub_generator(filepath):\n",
    "    with open(filepath, 'r', encoding = 'utf-8') as file:\n",
    "        for line in file:\n",
    "            yield line.strip()\n",
    "\n",
    "def greeting_generator(filepath):\n",
    "    names = []\n",
    "    name_gen = sub_generator(filepath)\n",
    "    for item in name_gen:\n",
    "        names.append(item)\n",
    "    greeting = \"Привет, \" + \", \".join(names) + \" и добро пожаловать!\"\n",
    "    yield greeting\n",
    "    \n"
   ]
  },
  {
   "cell_type": "code",
   "execution_count": 27,
   "id": "552145e3-f14d-446d-9716-6ef09312574e",
   "metadata": {},
   "outputs": [
    {
     "name": "stdout",
     "output_type": "stream",
     "text": [
      "Привет, Ирина, Владимир, Петр, Сергей, Анатолий, Дмитрий, Алена, Диана и добро пожаловать!\n"
     ]
    }
   ],
   "source": [
    "filepath = 'C:\\\\Users\\\\dplog\\\\Python\\\\data\\\\name_pr12.txt'\n",
    "gen = greeting_generator(filepath)\n",
    "print(next(gen))"
   ]
  },
  {
   "cell_type": "code",
   "execution_count": null,
   "id": "ecf23934-cbba-48cb-be01-56a330b5aee4",
   "metadata": {},
   "outputs": [],
   "source": []
  },
  {
   "cell_type": "code",
   "execution_count": 22,
   "id": "7224d10c-7951-4c00-a272-773dc7c70022",
   "metadata": {},
   "outputs": [
    {
     "name": "stdout",
     "output_type": "stream",
     "text": [
      "Ирина\n",
      "Владимир\n",
      "Петр\n",
      "Сергей\n",
      "Анатолий\n",
      "Дмитрий\n",
      "Алена\n",
      "Диана\n"
     ]
    }
   ],
   "source": [
    "# проверяем работу субгенератора\n",
    "gen = sub_generator('C:\\\\Users\\\\dplog\\\\Python\\\\data\\\\name_pr12.txt')\n",
    "for item in gen:\n",
    "    print(item)"
   ]
  },
  {
   "cell_type": "code",
   "execution_count": null,
   "id": "e30aaa95-37cd-444b-915b-9a05f31045d8",
   "metadata": {},
   "outputs": [],
   "source": []
  },
  {
   "cell_type": "markdown",
   "id": "afd4d597-779a-4827-813e-d8f4c66567ad",
   "metadata": {},
   "source": [
    "4. Возьмите json файл с предыдущего практикума, с клиентами (имя, фамилия, дата рождения, номер счета) и реализуйте генератор, который возвращает строки с информацией о клиентах. Убедитесь, что после вычитывания всех строк из файлы, файловый ресурс корректно освобождается (использования исключения GeneratorExit и очистку ресурсов)."
   ]
  },
  {
   "cell_type": "code",
   "execution_count": 29,
   "id": "7cabd129-2f77-4a29-aa87-e509de09ad11",
   "metadata": {},
   "outputs": [
    {
     "name": "stdout",
     "output_type": "stream",
     "text": [
      "Имя: Ivan, Фамилия: Petrov, Дата Рождения: 2017-03-15, Номер счета: DE1234 0000 0000 01011 333\n",
      "Имя: Anna, Фамилия: Smith, Дата Рождения: 1995-05-20, Номер счета: FR7630006000011234567890189\n",
      "Имя: John, Фамилия: Doe, Дата Рождения: 2000-01-01, Номер счета: DE89370400440532013000\n",
      "Имя: Alice, Фамилия: Johnson, Дата Рождения: 2010-12-30, Номер счета: INVALID_IBAN\n"
     ]
    }
   ],
   "source": [
    "import json\n",
    "\n",
    "def client_info_generator(file_path):\n",
    "    with open(file_path, 'r', encoding = 'utf-8') as file:\n",
    "        clients = json.load(file)\n",
    "        for client in clients:\n",
    "            info = f'Имя: {client['firstName']}, Фамилия: {client['lastName']}, Дата Рождения: {client['dateOfBirth']}, Номер счета: {client['iban']}'\n",
    "            yield info\n",
    "\n",
    "file_path = 'C:\\\\Users\\\\dplog\\\\Python\\\\data\\\\customers.json'\n",
    "gen = client_info_generator(file_path)\n",
    "for item in gen:\n",
    "    print(item)"
   ]
  },
  {
   "cell_type": "code",
   "execution_count": null,
   "id": "36b4f589-73f1-4059-a625-adc478c67419",
   "metadata": {},
   "outputs": [],
   "source": []
  }
 ],
 "metadata": {
  "kernelspec": {
   "display_name": "Python 3 (ipykernel)",
   "language": "python",
   "name": "python3"
  },
  "language_info": {
   "codemirror_mode": {
    "name": "ipython",
    "version": 3
   },
   "file_extension": ".py",
   "mimetype": "text/x-python",
   "name": "python",
   "nbconvert_exporter": "python",
   "pygments_lexer": "ipython3",
   "version": "3.12.4"
  }
 },
 "nbformat": 4,
 "nbformat_minor": 5
}
