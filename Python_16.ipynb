{
 "cells": [
  {
   "cell_type": "markdown",
   "id": "70532e22-4b39-490c-a000-682f1bbe86ce",
   "metadata": {},
   "source": [
    "# Представления списков"
   ]
  },
  {
   "cell_type": "markdown",
   "id": "8a8e0dc0",
   "metadata": {},
   "source": [
    "## Списковые включения (list comprehensions) или (генераторы списков):\n",
    "Списковые включения - это компактный способ создания нового списка на основе существующего списка или другой итерируемой последовательности. Они позволяют применять выражения и условия для каждого элемента исходной последовательности, чтобы получить новый список. Пример:\n"
   ]
  },
  {
   "cell_type": "code",
   "execution_count": 1,
   "id": "71c0ca72",
   "metadata": {},
   "outputs": [
    {
     "name": "stdout",
     "output_type": "stream",
     "text": [
      "[1, 8, 27, 64, 125]\n"
     ]
    }
   ],
   "source": [
    "numbers = [1, 2, 3, 4, 5]\n",
    "squared_numbers = [x**3 for x in numbers] #[1, 8, 27, 64, 125]\n",
    "print(squared_numbers) \n"
   ]
  },
  {
   "cell_type": "code",
   "execution_count": 2,
   "id": "ed01900e",
   "metadata": {},
   "outputs": [
    {
     "data": {
      "text/plain": [
       "[0, 3, 6, 9, 12, 15, 18, 21, 24, 27, 30, 33, 36, 39]"
      ]
     },
     "execution_count": 2,
     "metadata": {},
     "output_type": "execute_result"
    }
   ],
   "source": [
    "# Дана последовательность чисел. Мы хотим оставить только те, что делятся на 5\n",
    "sequence = range(0, 40, 3)\n",
    "list(sequence)"
   ]
  },
  {
   "cell_type": "code",
   "execution_count": 3,
   "id": "a2354673",
   "metadata": {},
   "outputs": [
    {
     "name": "stdout",
     "output_type": "stream",
     "text": [
      "0\n",
      "15\n",
      "30\n"
     ]
    }
   ],
   "source": [
    "# решение в лоб\n",
    "for num in sequence:\n",
    "    if num % 5 == 0:\n",
    "        print(num)"
   ]
  },
  {
   "cell_type": "code",
   "execution_count": 4,
   "id": "e9975422",
   "metadata": {},
   "outputs": [
    {
     "name": "stdout",
     "output_type": "stream",
     "text": [
      "[0, 15, 30]\n"
     ]
    }
   ],
   "source": [
    "# если хотим получить отфильтрованный лист, то будет даже так\n",
    "filtered_sequence = []\n",
    "\n",
    "for num in sequence:\n",
    "    if num % 5 == 0:\n",
    "        filtered_sequence.append(num)\n",
    "\n",
    "print(filtered_sequence)"
   ]
  },
  {
   "cell_type": "code",
   "execution_count": 5,
   "id": "d85556be",
   "metadata": {},
   "outputs": [
    {
     "name": "stdout",
     "output_type": "stream",
     "text": [
      "[0, 15, 30]\n"
     ]
    }
   ],
   "source": [
    "filter1 = [num for num in sequence if num % 5 == 0]\n",
    "print(filter1)"
   ]
  },
  {
   "cell_type": "markdown",
   "id": "71967ccc",
   "metadata": {},
   "source": [
    "Пример вычисления метрики из набора списков. Столбцы в каждой строке:\n",
    "\n",
    "дата\n",
    "номер счетчика\n",
    "количество визитов\n",
    "Найдем среднее количество визитов по нашим данным"
   ]
  },
  {
   "cell_type": "code",
   "execution_count": 6,
   "id": "1ed5fa1b",
   "metadata": {},
   "outputs": [],
   "source": [
    "api_response = [\n",
    "    ['2017-12-26', '777', 184],\n",
    "    ['2017-12-27', '111', 146],\n",
    "    ['2017-12-28', '777', 98],\n",
    "    ['2017-12-29', '777', 206],\n",
    "    ['2017-12-30', '111', 254],\n",
    "    ['2017-12-31', '777', 89],\n",
    "    ['2018-01-01', '111', 54],\n",
    "    ['2018-01-02', '777', 68],\n",
    "    ['2018-01-03', '777', 74],\n",
    "    ['2018-01-04', '111', 89],\n",
    "    ['2018-01-05', '777', 104],\n",
    "    ['2018-01-06', '777', 99],\n",
    "    ['2018-01-07', '777', 145],\n",
    "    ['2018-01-08', '111', 184],\n",
    "]"
   ]
  },
  {
   "cell_type": "code",
   "execution_count": 7,
   "id": "3496c86f",
   "metadata": {},
   "outputs": [
    {
     "data": {
      "text/plain": [
       "[184, 146, 98, 206, 254, 89, 54, 68, 74, 89, 104, 99, 145, 184]"
      ]
     },
     "execution_count": 7,
     "metadata": {},
     "output_type": "execute_result"
    }
   ],
   "source": [
    "lst = [x[2] for x in api_response]"
   ]
  },
  {
   "cell_type": "code",
   "execution_count": 8,
   "id": "17fa4e06-1826-4049-913c-e8f1122aed32",
   "metadata": {},
   "outputs": [
    {
     "data": {
      "text/plain": [
       "128.14285714285714"
      ]
     },
     "execution_count": 8,
     "metadata": {},
     "output_type": "execute_result"
    }
   ],
   "source": [
    "sum(lst)/len(lst)"
   ]
  },
  {
   "cell_type": "code",
   "execution_count": null,
   "id": "0a5aa00d-6a1b-4053-a947-364b4e732893",
   "metadata": {},
   "outputs": [],
   "source": [
    "# Найти в списке sequence все элементы, которые больше среднего из этого списка"
   ]
  },
  {
   "cell_type": "code",
   "execution_count": 10,
   "id": "42d7e274-3433-4745-9e67-bd937475a473",
   "metadata": {},
   "outputs": [],
   "source": [
    "avg_seq = sum(sequence)/len(sequence)"
   ]
  },
  {
   "cell_type": "code",
   "execution_count": 11,
   "id": "24c3b4db-e55b-4865-a8e8-1ca1218b737c",
   "metadata": {},
   "outputs": [
    {
     "name": "stdout",
     "output_type": "stream",
     "text": [
      "19.5\n"
     ]
    }
   ],
   "source": [
    "print(avg_seq)"
   ]
  },
  {
   "cell_type": "code",
   "execution_count": 13,
   "id": "6e9c49fc",
   "metadata": {},
   "outputs": [
    {
     "name": "stdout",
     "output_type": "stream",
     "text": [
      "[21, 24, 27, 30, 33, 36, 39]\n"
     ]
    }
   ],
   "source": [
    "filter_lst = [item for item in sequence if item > avg_seq]\n",
    "print(filter_lst)"
   ]
  },
  {
   "cell_type": "code",
   "execution_count": null,
   "id": "d39221fe-3418-4d90-a701-4ce243d4a5d1",
   "metadata": {},
   "outputs": [],
   "source": [
    "# Для существующего списка lst, распознать числа по принципу четный - нечетный"
   ]
  },
  {
   "cell_type": "code",
   "execution_count": 15,
   "id": "7389dc10",
   "metadata": {},
   "outputs": [
    {
     "name": "stdout",
     "output_type": "stream",
     "text": [
      "['even', 'even', 'odd', 'even', 'even', 'even']\n"
     ]
    }
   ],
   "source": [
    "\n",
    "lst = [10,2,3,6,12,4] #[odd,even,odd,even,even,even]\n",
    "fltr = ['even' if x%2==0 else 'odd' for x in lst ]\n",
    "print(fltr)"
   ]
  },
  {
   "cell_type": "code",
   "execution_count": 16,
   "id": "673a7571-d22a-431d-ade3-93e4fecb515e",
   "metadata": {},
   "outputs": [],
   "source": [
    "# Дан список lst, создать новый список на основе исходного, который будет содержать только элементы, которые кратны 2 и 3."
   ]
  },
  {
   "cell_type": "code",
   "execution_count": 17,
   "id": "bbaa5c65",
   "metadata": {},
   "outputs": [
    {
     "name": "stdout",
     "output_type": "stream",
     "text": [
      "[6, 12]\n"
     ]
    }
   ],
   "source": [
    "lst = [1, 2, 3, 6, 12, 4]\n",
    "fltr2 = [x for x in lst if x%2==0 and x%3 ==0] \n",
    "print(fltr2)"
   ]
  },
  {
   "cell_type": "code",
   "execution_count": 18,
   "id": "c42be286",
   "metadata": {},
   "outputs": [],
   "source": [
    "# Способ ввода с клавиатуры списка чисел"
   ]
  },
  {
   "cell_type": "code",
   "execution_count": 19,
   "id": "b3db1fcb-f1ea-4815-a513-89263e453724",
   "metadata": {},
   "outputs": [
    {
     "name": "stdin",
     "output_type": "stream",
     "text": [
      "Вветите через пробел список чисел 1 2 3 10 100 123 -1\n"
     ]
    },
    {
     "name": "stdout",
     "output_type": "stream",
     "text": [
      "[1, 2, 3, 10, 100, 123, -1]\n"
     ]
    }
   ],
   "source": [
    "input_lst_to_int = [int(s) for s in input('Вветите через пробел список чисел').split()]\n",
    "print(input_lst_to_int)"
   ]
  },
  {
   "cell_type": "code",
   "execution_count": null,
   "id": "2e2402e4-a400-497a-8410-fcfc5bbe1493",
   "metadata": {},
   "outputs": [],
   "source": [
    "# Альтернатива"
   ]
  },
  {
   "cell_type": "code",
   "execution_count": null,
   "id": "93fbfbff-80a2-45c0-9d62-40b9b7af016e",
   "metadata": {},
   "outputs": [],
   "source": [
    "input_lst_to_int  = list(map(int,input('Вветите через пробел список чисел').split()))"
   ]
  },
  {
   "cell_type": "markdown",
   "id": "08fb477a-3088-442a-b09f-f53594930a64",
   "metadata": {},
   "source": [
    "### Вложенные списки и кортежи"
   ]
  },
  {
   "cell_type": "markdown",
   "id": "0c1e5a05-67c9-4484-99af-ab77c0d96e52",
   "metadata": {},
   "source": [
    "Списки и кортежи могут содержать другие списки и кортежи в качестве своих элементов. Такие структуры данных называются вложенными. Вложенные списки/кортежи полезны, когда требуется организация данных в иерархическую структуру или многомерные массивы.\r\n"
   ]
  },
  {
   "cell_type": "code",
   "execution_count": null,
   "id": "1f866613-e9d9-4b02-a679-f14f24c5c398",
   "metadata": {},
   "outputs": [],
   "source": [
    "matrix = [[1, 2, 3], [4, 5, 6], [7, 8, 9]]\n",
    "print(matrix[1][2])  # 6\n"
   ]
  },
  {
   "cell_type": "code",
   "execution_count": 21,
   "id": "91fac6f1-fc3b-423c-b1cb-c3f151a89f0d",
   "metadata": {},
   "outputs": [],
   "source": [
    "companies_capitalization = [\n",
    " ['Orange', 1.3],\n",
    " ['Maxisoft', 1.5],\n",
    " ['Headbook', 0.8],\n",
    " ['Nicola', 2.2]\n",
    "]"
   ]
  },
  {
   "cell_type": "code",
   "execution_count": 28,
   "id": "64e7890f-db1d-4d4b-aff1-c05245244f9f",
   "metadata": {},
   "outputs": [
    {
     "data": {
      "text/plain": [
       "1.3"
      ]
     },
     "execution_count": 28,
     "metadata": {},
     "output_type": "execute_result"
    }
   ],
   "source": [
    "companies_capitalization[0][1]"
   ]
  },
  {
   "cell_type": "code",
   "execution_count": 26,
   "id": "51f27d3e-58bf-4731-ae53-218d329fe3ad",
   "metadata": {},
   "outputs": [
    {
     "name": "stdout",
     "output_type": "stream",
     "text": [
      "1.3\n",
      "1.5\n",
      "0.8\n",
      "2.2\n"
     ]
    }
   ],
   "source": [
    "for row in companies_capitalization:\n",
    "    print(row[1])"
   ]
  },
  {
   "cell_type": "code",
   "execution_count": 29,
   "id": "196c8068-1999-46da-a5ec-473371412d56",
   "metadata": {},
   "outputs": [
    {
     "name": "stdout",
     "output_type": "stream",
     "text": [
      "1.3\n",
      "1.5\n",
      "0.8\n",
      "2.2\n"
     ]
    }
   ],
   "source": [
    "for i in range(len(companies_capitalization)):\n",
    "    print(companies_capitalization[i][1])"
   ]
  },
  {
   "cell_type": "code",
   "execution_count": 31,
   "id": "2e855b14-8a90-4a1e-bf8a-52a4b0826099",
   "metadata": {},
   "outputs": [
    {
     "ename": "TypeError",
     "evalue": "'int' object is not subscriptable",
     "output_type": "error",
     "traceback": [
      "\u001b[1;31m---------------------------------------------------------------------------\u001b[0m",
      "\u001b[1;31mTypeError\u001b[0m                                 Traceback (most recent call last)",
      "Cell \u001b[1;32mIn[31], line 2\u001b[0m\n\u001b[0;32m      1\u001b[0m t \u001b[38;5;241m=\u001b[39m (\u001b[38;5;241m1\u001b[39m,\u001b[38;5;241m2\u001b[39m,\u001b[38;5;241m3\u001b[39m,\u001b[38;5;241m14\u001b[39m,\u001b[38;5;241m5\u001b[39m)\n\u001b[1;32m----> 2\u001b[0m \u001b[38;5;28mprint\u001b[39m(t[\u001b[38;5;241m3\u001b[39m][\u001b[38;5;241m0\u001b[39m])\n",
      "\u001b[1;31mTypeError\u001b[0m: 'int' object is not subscriptable"
     ]
    }
   ],
   "source": [
    "t = (1,2,3,14,5)\n",
    "print(t[3][0])"
   ]
  },
  {
   "cell_type": "code",
   "execution_count": 33,
   "id": "782dd675-4e2e-4623-97ab-003d977d96ca",
   "metadata": {},
   "outputs": [
    {
     "name": "stdout",
     "output_type": "stream",
     "text": [
      "1\n"
     ]
    }
   ],
   "source": [
    "t = ('1','2','3','14','5')\n",
    "print(t[3][0])"
   ]
  },
  {
   "cell_type": "markdown",
   "id": "f9481073",
   "metadata": {},
   "source": [
    "## Стек. Использование списков как стека:\n",
    "Стек - это структура данных, работающая по принципу \"последний вошел, первый вышел\" (Last-In, First-Out). Списки могут использоваться в качестве стека, добавляя и удаляя элементы с одного конца списка.\n"
   ]
  },
  {
   "cell_type": "code",
   "execution_count": 36,
   "id": "2856ee83-7779-4b0f-98c8-a622c65fcb47",
   "metadata": {},
   "outputs": [
    {
     "name": "stdout",
     "output_type": "stream",
     "text": [
      "[1, 2, 3]\n",
      "4\n"
     ]
    }
   ],
   "source": [
    "lst = [1,2,3,4]\n",
    "elem = lst.pop()\n",
    "print(lst)\n",
    "print(elem)"
   ]
  },
  {
   "cell_type": "code",
   "execution_count": 35,
   "id": "3fb073f7-c2f5-4021-9e81-375081abff3c",
   "metadata": {},
   "outputs": [
    {
     "name": "stdout",
     "output_type": "stream",
     "text": [
      "[1, 2]\n"
     ]
    }
   ],
   "source": [
    "lst.pop()\n",
    "print(lst)"
   ]
  },
  {
   "cell_type": "code",
   "execution_count": null,
   "id": "2de5cb4e",
   "metadata": {},
   "outputs": [],
   "source": [
    "stack = []\n",
    "stack.append(1)  # Добавление элемента в стек\n",
    "stack.append(2)\n",
    "top_element = stack.pop()  # Извлечение верхнего элемента из стека\n",
    "print(top_element)  # 2\n"
   ]
  },
  {
   "cell_type": "markdown",
   "id": "7bd3c9fe-dc1a-4c92-9f49-a0ccdd4e6755",
   "metadata": {},
   "source": [
    "### Задание для закрепления\n",
    "Что выведет программа?"
   ]
  },
  {
   "cell_type": "code",
   "execution_count": 37,
   "id": "fc6c733f",
   "metadata": {},
   "outputs": [
    {
     "name": "stdout",
     "output_type": "stream",
     "text": [
      "[20]\n",
      "[0, 1, 3, 14, 2, 7, 9, 8, 10]\n"
     ]
    }
   ],
   "source": [
    "numbers = [0, 1, 3, 14, 2, 7, 9, 8, 10]\n",
    "new = [20, 30]\n",
    "numbers.append(new)#[0, 1, 3, 14, 2, 7, 9, 8, 10, [20, 30]]\n",
    "new.pop()\n",
    "numbers.pop()\n",
    "print(new)\n",
    "print(numbers)\n"
   ]
  },
  {
   "cell_type": "markdown",
   "id": "6783f379",
   "metadata": {},
   "source": [
    "## Очередь. Класс collections.deque:\n",
    "Очередь - это структура данных, работающая по принципу \"первый вошел, первый вышел\" (First-In, First-Out). \n",
    "Класс deque из модуля collections предоставляет эффективную реализацию очереди в Python.\n"
   ]
  },
  {
   "cell_type": "code",
   "execution_count": 73,
   "id": "ba6dc6d5",
   "metadata": {},
   "outputs": [
    {
     "name": "stdout",
     "output_type": "stream",
     "text": [
      "1\n"
     ]
    }
   ],
   "source": [
    "from collections import deque\n",
    "\n",
    "queue = deque()\n",
    "queue.append(1)  # Добавление элемента в очередь\n",
    "queue.append(2)\n",
    "first_element = queue.popleft()  # Извлечение первого элемента из очереди\n",
    "print(first_element)  # 1\n"
   ]
  },
  {
   "cell_type": "code",
   "execution_count": 74,
   "id": "0e93f46c-d7e0-44d4-a168-5bc103b18702",
   "metadata": {},
   "outputs": [
    {
     "name": "stdout",
     "output_type": "stream",
     "text": [
      "deque([2])\n"
     ]
    }
   ],
   "source": [
    "print(queue)"
   ]
  },
  {
   "cell_type": "code",
   "execution_count": 76,
   "id": "deeab62c-6230-4eeb-a8f5-1749d50eda70",
   "metadata": {},
   "outputs": [
    {
     "name": "stdout",
     "output_type": "stream",
     "text": [
      "2\n",
      "deque([1])\n"
     ]
    }
   ],
   "source": [
    "from collections import deque\n",
    "\n",
    "queue = deque()\n",
    "queue.append(1)  # Добавление элемента в очередь\n",
    "queue.append(2)\n",
    "first_element = queue.pop()  # Извлечение первого элемента из очереди\n",
    "print(first_element)\n",
    "print(queue)\n"
   ]
  },
  {
   "cell_type": "code",
   "execution_count": 59,
   "id": "1878453d-d8cc-4c0c-9cf4-5350c5639ecd",
   "metadata": {},
   "outputs": [
    {
     "name": "stdout",
     "output_type": "stream",
     "text": [
      "deque([2])\n"
     ]
    }
   ],
   "source": [
    "from collections import deque\n",
    "\n",
    "queue = deque()\n",
    "queue.append(1)  # Добавление элемента в очередь\n",
    "queue.append(2)\n",
    "queue.popleft() \n",
    "print(queue) \n"
   ]
  },
  {
   "cell_type": "code",
   "execution_count": 58,
   "id": "4b668977-0978-4df8-929c-8543827e7533",
   "metadata": {},
   "outputs": [
    {
     "name": "stdout",
     "output_type": "stream",
     "text": [
      "deque([1])\n"
     ]
    }
   ],
   "source": [
    "from collections import deque\n",
    "\n",
    "queue = deque()\n",
    "queue.append(1)  # Добавление элемента в очередь\n",
    "queue.append(2)\n",
    "queue.pop()  # Извлечение первого элемента из очереди\n",
    "print(queue)"
   ]
  },
  {
   "cell_type": "markdown",
   "id": "2a189db4-fafa-4159-9cca-19889693c9d7",
   "metadata": {},
   "source": [
    "### Метод sort()"
   ]
  },
  {
   "cell_type": "markdown",
   "id": "2008cb9c",
   "metadata": {},
   "source": [
    "Метод sort() используется для сортировки элементов списка в порядке возрастания. Он изменяет сам список и не возвращает новый отсортированный список. Пример:\n"
   ]
  },
  {
   "cell_type": "code",
   "execution_count": 78,
   "id": "cdc80a94-3a05-4d18-b47b-154519aceafb",
   "metadata": {},
   "outputs": [
    {
     "name": "stdout",
     "output_type": "stream",
     "text": [
      "[1, 2, 3, 4]\n"
     ]
    }
   ],
   "source": [
    "my_list = [4, 2, 1, 3]\n",
    "my_list.sort()\n",
    "print(my_list)\n",
    "\n"
   ]
  },
  {
   "cell_type": "code",
   "execution_count": 79,
   "id": "fbd34fd1",
   "metadata": {},
   "outputs": [
    {
     "name": "stdout",
     "output_type": "stream",
     "text": [
      "[4, 3, 2, 1]\n"
     ]
    }
   ],
   "source": [
    "# Сортировка по убыванию\n",
    "my_list = [4, 2, 1, 3]\n",
    "my_list.sort(reverse = True)\n",
    "print(my_list)"
   ]
  },
  {
   "cell_type": "code",
   "execution_count": 83,
   "id": "ba354406",
   "metadata": {},
   "outputs": [
    {
     "name": "stdout",
     "output_type": "stream",
     "text": [
      "[4, 2, 1, 3]\n"
     ]
    }
   ],
   "source": [
    "my_list = [4, 2, 1, 3]\n",
    "sorted(my_list)\n",
    "print(my_list)\n"
   ]
  },
  {
   "cell_type": "code",
   "execution_count": 49,
   "id": "b6b2bf82",
   "metadata": {},
   "outputs": [
    {
     "data": {
      "text/plain": [
       "[4, 3, 2, 1]"
      ]
     },
     "execution_count": 49,
     "metadata": {},
     "output_type": "execute_result"
    }
   ],
   "source": [
    "# изменить порядок сортировки\n",
    "sorted(my_list, reverse=True)"
   ]
  },
  {
   "cell_type": "code",
   "execution_count": null,
   "id": "a955de7a-b6be-405f-9495-e82d793cdfba",
   "metadata": {},
   "outputs": [],
   "source": []
  },
  {
   "cell_type": "markdown",
   "id": "fd9048a5-cc76-4ff7-a4b7-b17193bc4b00",
   "metadata": {},
   "source": [
    "Основное различие между ними заключается в том, что list.sort () сортирует список на месте, изменяя его индексы и возвращая None, тогда как sorted () возвращает новый отсортированный список, оставляя исходный список неизменным."
   ]
  },
  {
   "cell_type": "code",
   "execution_count": null,
   "id": "791b40dc-7bf2-48c7-b853-55ea5f5b7ef2",
   "metadata": {},
   "outputs": [],
   "source": []
  },
  {
   "cell_type": "code",
   "execution_count": 62,
   "id": "33db82c3-6060-4852-9d59-db2e902fe5b7",
   "metadata": {},
   "outputs": [
    {
     "name": "stdout",
     "output_type": "stream",
     "text": [
      "[10, 6, 4, 2]\n"
     ]
    }
   ],
   "source": [
    "lst = [4, 10, 2, 6]\n",
    "res = lst.sort(reverse=True)\n",
    "print(lst) "
   ]
  },
  {
   "cell_type": "code",
   "execution_count": 84,
   "id": "768efc80",
   "metadata": {},
   "outputs": [
    {
     "data": {
      "text/plain": [
       "['Sep', 'May', 'Mar', 'Jun', 'Jul', 'Jan', 'Feb', 'Aug', 'Apr']"
      ]
     },
     "execution_count": 84,
     "metadata": {},
     "output_type": "execute_result"
    }
   ],
   "source": [
    "# а это сортировка строк по алфавиту\n",
    "month_list = ['Jan', 'Feb', 'Mar', 'Apr', 'May', 'Jun', 'Jul', 'Aug', 'Sep']\n",
    "sorted(month_list,reverse=True)"
   ]
  },
  {
   "cell_type": "code",
   "execution_count": 85,
   "id": "622f7375-c05f-4660-b0f4-3f1e7822b7f0",
   "metadata": {},
   "outputs": [
    {
     "data": {
      "text/plain": [
       "['Apr', 'Aug', 'Feb', 'Jan', 'Jul', 'Jun', 'Mar', 'May', 'Sep']"
      ]
     },
     "execution_count": 85,
     "metadata": {},
     "output_type": "execute_result"
    }
   ],
   "source": [
    "month_list = ['Jan', 'Feb', 'Mar', 'Apr', 'May', 'Jun', 'Jul', 'Aug', 'Sep']\n",
    "sorted(month_list)"
   ]
  },
  {
   "cell_type": "markdown",
   "id": "dc343761-1cd0-49d1-94b5-a46aed85ac7f",
   "metadata": {},
   "source": [
    "### Устойчивость сортировки:\n",
    "Сортировка называется устойчивой, если она сохраняет относительный порядок элементов с одинаковыми значениями. В Python метод sort() ~~гарантирует устойчивость~~ сортировки. Это означает, что если два элемента равны, их исходный порядок сохранится после сортировки."
   ]
  },
  {
   "cell_type": "code",
   "execution_count": 87,
   "id": "15143e92",
   "metadata": {},
   "outputs": [
    {
     "name": "stdout",
     "output_type": "stream",
     "text": [
      "[(1, 'a'), (2, 'c'), (2, 'z')]\n"
     ]
    }
   ],
   "source": [
    "my_list = [(2, 'z'), (1, 'a'), (2, 'c')]\n",
    "my_list.sort()\n",
    "print(my_list) \n"
   ]
  },
  {
   "cell_type": "code",
   "execution_count": 88,
   "id": "e73c8153-08a0-4fcb-bb59-217c37012bcb",
   "metadata": {},
   "outputs": [
    {
     "name": "stdout",
     "output_type": "stream",
     "text": [
      "[(2, 'b'), (2, 'c'), (2, 'z')]\n"
     ]
    }
   ],
   "source": [
    "my_list = [(2, 'z'), (2, 'c'), (2, 'b')]\n",
    "print(sorted(my_list))"
   ]
  },
  {
   "cell_type": "markdown",
   "id": "78f416d7-658e-4228-8360-c4f2a42c0be6",
   "metadata": {},
   "source": [
    "### Задание для закрепления\n",
    "Что выведет программа?"
   ]
  },
  {
   "cell_type": "code",
   "execution_count": 89,
   "id": "bf24a723-b963-4888-83c7-5d2a37977b58",
   "metadata": {},
   "outputs": [
    {
     "name": "stdout",
     "output_type": "stream",
     "text": [
      "Отсортированный список: ['альфа', 'бета', 'гамма', 'дельта']\n"
     ]
    }
   ],
   "source": [
    "a = ['бета', 'альфа', 'дельта', 'гамма'] \n",
    "a.sort() \n",
    "print('Отсортированный список:', a)\n"
   ]
  },
  {
   "cell_type": "code",
   "execution_count": 90,
   "id": "02801381-36f7-4bbf-b558-64bf2c286fca",
   "metadata": {},
   "outputs": [
    {
     "name": "stdout",
     "output_type": "stream",
     "text": [
      "Отсортированный список: ['бета', 'альфа', 'дельта', 'гамма']\n"
     ]
    }
   ],
   "source": [
    "a = ['бета', 'альфа', 'дельта', 'гамма'] \n",
    "sorted(a)\n",
    "print('Отсортированный список:', a)"
   ]
  },
  {
   "cell_type": "code",
   "execution_count": 91,
   "id": "712fa77a-6ece-41e7-a3b0-53011de7230e",
   "metadata": {},
   "outputs": [
    {
     "name": "stdout",
     "output_type": "stream",
     "text": [
      "Отсортированный список: ['альфа', 'бета', 'гамма', 'дельта']\n"
     ]
    }
   ],
   "source": [
    "a = ['бета', 'альфа', 'дельта', 'гамма'] \n",
    "a = sorted(a)\n",
    "print('Отсортированный список:', a)"
   ]
  },
  {
   "cell_type": "markdown",
   "id": "9ba16989",
   "metadata": {},
   "source": [
    "## Практика"
   ]
  },
  {
   "cell_type": "markdown",
   "id": "4c0fc7ff",
   "metadata": {},
   "source": [
    "1. Разобрать любую задачу из предыдущих уроков. Переписать циклы на списковые включения"
   ]
  },
  {
   "cell_type": "code",
   "execution_count": 95,
   "id": "d3d2aac4",
   "metadata": {},
   "outputs": [
    {
     "name": "stdout",
     "output_type": "stream",
     "text": [
      "+ - + - - + +\n"
     ]
    }
   ],
   "source": [
    "# Получить новый список, такой, что, если элемент был положительный, то в новом списке на соответствующей позиции ставится +, иначе -\n",
    "lst = [1,-2,3,-6,-12,4,0]\n",
    "fltr = ['+' if x>=0 else '-' for x in lst ]\n",
    "print(*fltr)"
   ]
  },
  {
   "cell_type": "markdown",
   "id": "526d5891",
   "metadata": {},
   "source": [
    "2. Определить, является ли считанная последовательность правильной скобочной последовательностью. Сначала решить для одного вида скобок, потом для трех. \n",
    "()()()\n",
    ")(\n",
    "())("
   ]
  },
  {
   "cell_type": "code",
   "execution_count": 96,
   "id": "8430d7cb",
   "metadata": {},
   "outputs": [
    {
     "name": "stdout",
     "output_type": "stream",
     "text": [
      "Single type valid: True\n"
     ]
    }
   ],
   "source": [
    "def is_valid_parentheses(sequence):\n",
    "    balance = 0\n",
    "    for char in sequence:\n",
    "        if char == '(':\n",
    "            balance += 1\n",
    "        elif char == ')':\n",
    "            balance -= 1\n",
    "        if balance < 0:\n",
    "            return False\n",
    "    return balance == 0\n",
    "\n",
    "# Example usage with a list input:\n",
    "brackets_list = ['(', ')', '(', '(', ')', ')'] #'()(())'\n",
    "print(\"Single type valid:\", is_valid_parentheses(brackets_list))\n"
   ]
  },
  {
   "cell_type": "markdown",
   "id": "859088f0",
   "metadata": {},
   "source": [
    "3. Напишите программу, которая принимает список чисел от пользователя и создает новый список, содержащий только положительные числа из исходного списка. Используйте списковые включения (list comprehensions) для создания нового списка.\n",
    "\n",
    "Пример вывода:\n",
    "\n",
    "Введите список чисел, разделенных пробелами: -2 5 -8 10 -1 0 7\n",
    "\n",
    "Положительные числа из списка: [5, 10, 7]\n"
   ]
  },
  {
   "cell_type": "code",
   "execution_count": 97,
   "id": "b27eaff5",
   "metadata": {},
   "outputs": [
    {
     "name": "stdin",
     "output_type": "stream",
     "text": [
      "Введите список чисел, разделенных пробелами:  -2 5 -8 10 -1 0 7\n"
     ]
    },
    {
     "name": "stdout",
     "output_type": "stream",
     "text": [
      "Положительные числа из списка: [5, 10, 7]\n"
     ]
    }
   ],
   "source": [
    "\n",
    "numbers_input = input(\"Введите список чисел, разделенных пробелами: \")\n",
    "\n",
    "numbers_list = [int(num) for num in numbers_input.split()] # аналог list(map(int,numbers_input.split()))\n",
    "\n",
    "positive_numbers = [num for num in numbers_list if num > 0]\n",
    "\n",
    "print(\"Положительные числа из списка:\", positive_numbers)\n"
   ]
  },
  {
   "cell_type": "markdown",
   "id": "1fb6b291-16fe-4255-aac9-52ed2330b6cd",
   "metadata": {},
   "source": [
    "### Полезные материалы\n",
    "1. Руководство по использованию list comprehension https://pythonru.com/osnovy/python-list-comprehension \n",
    "2. Класс deque() модуля collections в Python. https://docs-python.ru/standart-library/modul-collections-python/klass-deque-modulja-collections \n",
    "\n",
    "### Вопросы для закрепления\n",
    "В чем отличия списка от очереди?\n",
    "Всегда ли лучше заменить цикл на списковые включения?\n",
    "Как сделать сортировку в питоне? Можно ли сортировать строки, например?\n"
   ]
  },
  {
   "cell_type": "code",
   "execution_count": null,
   "id": "775be945-f7f4-46d7-8831-9b40b2295003",
   "metadata": {},
   "outputs": [],
   "source": []
  }
 ],
 "metadata": {
  "kernelspec": {
   "display_name": "Python 3 (ipykernel)",
   "language": "python",
   "name": "python3"
  },
  "language_info": {
   "codemirror_mode": {
    "name": "ipython",
    "version": 3
   },
   "file_extension": ".py",
   "mimetype": "text/x-python",
   "name": "python",
   "nbconvert_exporter": "python",
   "pygments_lexer": "ipython3",
   "version": "3.12.4"
  }
 },
 "nbformat": 4,
 "nbformat_minor": 5
}
