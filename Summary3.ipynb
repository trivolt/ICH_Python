{
 "cells": [
  {
   "cell_type": "markdown",
   "id": "dfa4b8f4-0bb4-44d7-9c4b-51e45ab3d105",
   "metadata": {},
   "source": [
    "# Summary 3"
   ]
  },
  {
   "cell_type": "markdown",
   "id": "46dde06e-aed8-4ee4-9e22-28c152932545",
   "metadata": {},
   "source": [
    "### if - else"
   ]
  },
  {
   "cell_type": "markdown",
   "id": "607d01a9-5034-46d7-8c51-d5206022c7c9",
   "metadata": {},
   "source": [
    "есть 2 возможных исхода"
   ]
  },
  {
   "cell_type": "code",
   "execution_count": null,
   "id": "c43e13e8-e3f5-4a76-825f-ddaa543f0122",
   "metadata": {},
   "outputs": [],
   "source": [
    "if условие:\n",
    "    # оператор 1\n",
    "else:\n",
    "    # оператор 2"
   ]
  },
  {
   "cell_type": "markdown",
   "id": "931757d5-0815-4a5e-93ca-0eb3ab3289aa",
   "metadata": {},
   "source": [
    "Задача 1: Проверка возраста\n",
    "\n",
    "Напишите программу, которая запрашивает у пользователя его возраст и выводит сообщение о том, может ли он голосовать (возраст должен быть 18 лет или старше)."
   ]
  },
  {
   "cell_type": "code",
   "execution_count": 26,
   "id": "e695ff23-a3d9-40fd-9d28-ea1136940426",
   "metadata": {},
   "outputs": [
    {
     "name": "stdin",
     "output_type": "stream",
     "text": [
      "Введите ваш возраст: 12\n"
     ]
    },
    {
     "name": "stdout",
     "output_type": "stream",
     "text": [
      "Вы не можете голосовать\n"
     ]
    }
   ],
   "source": [
    "age = int(input('Введите ваш возраст:'))\n",
    "\n",
    "if age >= 18:\n",
    "    print('Вы можете голосовать')\n",
    "else:\n",
    "    print('Вы не можете голосовать')"
   ]
  },
  {
   "cell_type": "markdown",
   "id": "5a948b90-1b56-418f-a91d-04381ce1f208",
   "metadata": {},
   "source": [
    "Задача 2: Определение четности числа\n",
    "\n",
    "Напишите программу, которая запрашивает у пользователя число и выводит сообщение о том, является ли оно четным или нечетным."
   ]
  },
  {
   "cell_type": "code",
   "execution_count": 28,
   "id": "64ee3d04-6ec5-46c8-80d9-975b1d0bb6bb",
   "metadata": {},
   "outputs": [
    {
     "name": "stdin",
     "output_type": "stream",
     "text": [
      " 34\n"
     ]
    },
    {
     "name": "stdout",
     "output_type": "stream",
     "text": [
      "even\n"
     ]
    }
   ],
   "source": [
    "num = int(input())\n",
    "\n",
    "if num % 2 == 0:\n",
    "    print('even')\n",
    "else:\n",
    "    print('odd')"
   ]
  },
  {
   "cell_type": "markdown",
   "id": "2d6fad5d-de0a-4138-aba4-073ad071df83",
   "metadata": {},
   "source": [
    "Задача 3: Калькулятор скидок\n",
    "\n",
    "Напишите программу, которая запрашивает у пользователя сумму покупки и выводит итоговую сумму с учетом скидки. Если сумма покупки больше 1000, предоставляется скидка 10%."
   ]
  },
  {
   "cell_type": "code",
   "execution_count": 30,
   "id": "11f9848b-3add-4f23-bdd8-c2ba35a9f1e2",
   "metadata": {},
   "outputs": [
    {
     "name": "stdin",
     "output_type": "stream",
     "text": [
      "Введите сумму товаров 12.3\n"
     ]
    },
    {
     "name": "stdout",
     "output_type": "stream",
     "text": [
      "К оплате сумма: 12.3\n"
     ]
    }
   ],
   "source": [
    "goods = float(input('Введите сумму товаров'))\n",
    "\n",
    "if goods >= 1000:\n",
    "    print('К оплате сумма:',goods*0.9)\n",
    "else:\n",
    "    print('К оплате сумма:',goods)\n"
   ]
  },
  {
   "cell_type": "markdown",
   "id": "f61397c6-a3d8-41b0-8529-156abb828470",
   "metadata": {},
   "source": [
    "### if - elif"
   ]
  },
  {
   "cell_type": "markdown",
   "id": "e1f32960-178a-41e4-a080-607650e249e6",
   "metadata": {},
   "source": [
    "есть 3 и более исходов"
   ]
  },
  {
   "cell_type": "code",
   "execution_count": null,
   "id": "c7bfba7c-3715-495c-9e1c-ddf98487df3d",
   "metadata": {},
   "outputs": [],
   "source": [
    "if условие:\n",
    "    # оператор 1\n",
    "elif условие:\n",
    "    # оператор 2\n",
    "else:\n",
    "    # оператор 3"
   ]
  },
  {
   "cell_type": "code",
   "execution_count": null,
   "id": "fdec9c60-5e9f-4ba1-a683-0a251bb4b09a",
   "metadata": {},
   "outputs": [],
   "source": []
  },
  {
   "cell_type": "markdown",
   "id": "c0bbcecc-371b-452a-aff6-e9cb6267df10",
   "metadata": {},
   "source": [
    "Задача 6: Определение времени суток\n",
    "\n",
    "Напишите программу, которая запрашивает у пользователя текущее время в часах (0-23) и выводит сообщение о том, является ли это утро, день, вечер или ночь."
   ]
  },
  {
   "cell_type": "markdown",
   "id": "2ef89610-0a0c-4461-82dd-a24ba5e3951e",
   "metadata": {},
   "source": [
    "[6 - 11] утро\n",
    "(11 - 17] день\n",
    "(17 - 22] вечер\n",
    "все остальное ночь"
   ]
  },
  {
   "cell_type": "code",
   "execution_count": 33,
   "id": "9c0e2b93-a94f-4522-85b3-b8c8539c9d65",
   "metadata": {},
   "outputs": [
    {
     "name": "stdin",
     "output_type": "stream",
     "text": [
      "введите номер часа от 0 до 23 9\n"
     ]
    },
    {
     "name": "stdout",
     "output_type": "stream",
     "text": [
      "утро\n"
     ]
    }
   ],
   "source": [
    "hour = int(input('введите номер часа от 0 до 23'))\n",
    "\n",
    "if 6 < hour <= 11:\n",
    "    print('утро')\n",
    "elif 11 < hour <= 17:\n",
    "    print('день')\n",
    "elif 17 < hour <= 22:\n",
    "    print('вечер')\n",
    "else:\n",
    "    print('ночь')"
   ]
  },
  {
   "cell_type": "markdown",
   "id": "df48ab8e-7589-4de3-8d46-59b06b4a93f4",
   "metadata": {},
   "source": [
    "Задача 8: Классификация температуры\n",
    "\n",
    "Напишите программу, которая запрашивает у пользователя температуру в градусах Цельсия и выводит сообщение о том, является ли температура низкой (меньше 0), нормальной (от 0 до 30) или высокой (больше 30)."
   ]
  },
  {
   "cell_type": "code",
   "execution_count": 36,
   "id": "4655dbe5-c3c0-43cb-a017-282ea75467f0",
   "metadata": {},
   "outputs": [
    {
     "name": "stdin",
     "output_type": "stream",
     "text": [
      "введите температуру: 12.45\n"
     ]
    },
    {
     "name": "stdout",
     "output_type": "stream",
     "text": [
      "нормальная температура\n"
     ]
    }
   ],
   "source": [
    "temp = float(input('введите температуру:'))\n",
    "\n",
    "if temp < 0:\n",
    "    print('низкая температура')\n",
    "elif temp < 30:\n",
    "    print('нормальная температура')\n",
    "else:\n",
    "    print('высокая температура')\n",
    "    "
   ]
  },
  {
   "cell_type": "markdown",
   "id": "f415241e-ebc3-40d7-a392-4183d3227e65",
   "metadata": {},
   "source": [
    "Задача 9: Определение сезона\n",
    "\n",
    "Напишите программу, которая запрашивает у пользователя месяц (в виде числа от 1 до 12) и выводит сообщение о том, к какому сезону относится этот месяц (зима, весна, лето, осень)."
   ]
  },
  {
   "cell_type": "code",
   "execution_count": null,
   "id": "cae6adb9-6626-4959-aeaf-85e065fa6c25",
   "metadata": {},
   "outputs": [],
   "source": []
  },
  {
   "cell_type": "markdown",
   "id": "7d4b33a5-51f1-401f-a74c-57d4cde78fc3",
   "metadata": {},
   "source": [
    "### Вложенные условия"
   ]
  },
  {
   "cell_type": "code",
   "execution_count": null,
   "id": "66679b03-126a-4d96-995e-809addb9e0d6",
   "metadata": {},
   "outputs": [],
   "source": [
    "if условие 1:\n",
    "    if условие 2:\n",
    "        оператор 1\n",
    "    else:\n",
    "        оператор 2\n",
    "else:\n",
    "    if условие 3:\n",
    "        оператор 3\n",
    "    else:\n",
    "        оператор 4    "
   ]
  },
  {
   "cell_type": "markdown",
   "id": "3017ebcd-1b8f-44ce-acca-d379b0aa9214",
   "metadata": {},
   "source": [
    "Модифицируем задачу выше"
   ]
  },
  {
   "cell_type": "code",
   "execution_count": 38,
   "id": "e6448ca7-6919-4a2d-b23b-7a2356bc60cf",
   "metadata": {},
   "outputs": [
    {
     "name": "stdin",
     "output_type": "stream",
     "text": [
      "введите номер часа от 0 до 23 1\n"
     ]
    },
    {
     "name": "stdout",
     "output_type": "stream",
     "text": [
      "ночь\n"
     ]
    }
   ],
   "source": [
    "hour = int(input('введите номер часа от 0 до 23'))\n",
    "\n",
    "if 0 <= hour <= 23:\n",
    "    if 6 < hour <= 11:\n",
    "        print('утро')\n",
    "    elif 11 < hour <= 17:\n",
    "        print('день')\n",
    "    elif 17 < hour <= 22:\n",
    "        print('вечер')\n",
    "    else:\n",
    "        print('ночь')\n",
    "else:\n",
    "    print('введено неверный номер часа')"
   ]
  },
  {
   "cell_type": "code",
   "execution_count": null,
   "id": "350b8f90-847f-4f8a-8ee7-ba93fd20e20d",
   "metadata": {},
   "outputs": [],
   "source": []
  },
  {
   "cell_type": "markdown",
   "id": "ee40e7e1-08a6-49b4-8e28-1c6240a51336",
   "metadata": {},
   "source": [
    "Задача 5: Классификация треугольников\n",
    "\n",
    "Напишите программу, которая запрашивает у пользователя длины трех сторон треугольника и определяет, является ли треугольник равносторонним, равнобедренным или разносторонним."
   ]
  },
  {
   "cell_type": "code",
   "execution_count": 40,
   "id": "57f99815-5f80-4685-a4b0-09391c599f44",
   "metadata": {},
   "outputs": [
    {
     "name": "stdin",
     "output_type": "stream",
     "text": [
      " 4\n",
      " 4\n",
      " 6\n"
     ]
    },
    {
     "name": "stdout",
     "output_type": "stream",
     "text": [
      "равнобедренный\n"
     ]
    }
   ],
   "source": [
    "a = int(input())\n",
    "b = int(input())\n",
    "c = int(input())\n",
    "\n",
    "if a + b > c and b + c > a and a + c > b:\n",
    "    if a == b == c:\n",
    "        print('равностороний')\n",
    "    elif a == b or b == c or a == c:\n",
    "        print('равнобедренный')\n",
    "    else:\n",
    "        print('разносторонний')\n",
    "else:\n",
    "    print('это не треугольник')\n",
    "        \n",
    "\n",
    "    "
   ]
  },
  {
   "cell_type": "markdown",
   "id": "0a006c97-9981-43f7-b002-473b52fbb504",
   "metadata": {},
   "source": [
    "### Приведение типов к логическому"
   ]
  },
  {
   "cell_type": "markdown",
   "id": "2a40e818-10c7-4da1-a808-dbd825eae338",
   "metadata": {},
   "source": [
    "* В Python все значения могут быть приведены к логическому типу bool. \n",
    "* \n",
    "Любое ненулевое значение или непустой объект рассматриваются как истинное, а ноль или пустой объект - как ложное.\r\n"
   ]
  },
  {
   "cell_type": "code",
   "execution_count": 2,
   "id": "d7368db7-c4c9-40ab-a384-5b0ae8e8b1e9",
   "metadata": {},
   "outputs": [
    {
     "name": "stdout",
     "output_type": "stream",
     "text": [
      "False\n"
     ]
    }
   ],
   "source": [
    "x = 0\n",
    "print(bool(x))"
   ]
  },
  {
   "cell_type": "code",
   "execution_count": 5,
   "id": "35a3693d-e150-4383-9242-f0379ffd43a7",
   "metadata": {},
   "outputs": [
    {
     "name": "stdout",
     "output_type": "stream",
     "text": [
      "True\n"
     ]
    }
   ],
   "source": [
    "x = 2\n",
    "print(bool(x))"
   ]
  },
  {
   "cell_type": "code",
   "execution_count": 3,
   "id": "d541fab0-725e-4254-9ed9-41f26cd20f78",
   "metadata": {},
   "outputs": [
    {
     "name": "stdout",
     "output_type": "stream",
     "text": [
      "True\n"
     ]
    }
   ],
   "source": [
    "x = '0'\n",
    "print(bool(x))"
   ]
  },
  {
   "cell_type": "code",
   "execution_count": 4,
   "id": "e738dcb1-be62-458b-96b4-2280e13b8474",
   "metadata": {},
   "outputs": [
    {
     "name": "stdout",
     "output_type": "stream",
     "text": [
      "False\n"
     ]
    }
   ],
   "source": [
    "x = ''\n",
    "print(bool(x))"
   ]
  },
  {
   "cell_type": "code",
   "execution_count": 41,
   "id": "b5f755e3-9a98-4ce5-b39e-bd427d32b944",
   "metadata": {},
   "outputs": [
    {
     "name": "stdout",
     "output_type": "stream",
     "text": [
      "True\n"
     ]
    }
   ],
   "source": [
    "x = ' '\n",
    "print(bool(x))"
   ]
  },
  {
   "cell_type": "markdown",
   "id": "cd8ef0cd-29bc-456a-8522-9c3d7817882a",
   "metadata": {},
   "source": [
    "### Тернарный оператор"
   ]
  },
  {
   "cell_type": "code",
   "execution_count": null,
   "id": "efe4d052-ea2c-450e-ac21-a866a4aca787",
   "metadata": {},
   "outputs": [],
   "source": [
    "x = значение 1 if условие else значение 2"
   ]
  },
  {
   "cell_type": "markdown",
   "id": "b75db1d8-14fd-4f88-84b8-8d49ea6be264",
   "metadata": {},
   "source": [
    "Пример 1: Проверка четности числа\n",
    "\r\n",
    "Напишите программу, которая проверяет, является ли число четным или нечетным, и выводит соответствующее сообщение.ры и одной заглавной буквы)."
   ]
  },
  {
   "cell_type": "code",
   "execution_count": 43,
   "id": "b827cd67-83ea-43c6-88c1-9b14ad8c6fb4",
   "metadata": {},
   "outputs": [
    {
     "name": "stdout",
     "output_type": "stream",
     "text": [
      "Число 11 является нечетное\n"
     ]
    }
   ],
   "source": [
    "number = 11\n",
    "result = \"четное\" if number % 2 == 0 else \"нечетное\"\n",
    "print('Число',number, 'является', result)"
   ]
  },
  {
   "cell_type": "code",
   "execution_count": 45,
   "id": "7152609a-35ef-4653-b7cf-86e96ce5f81b",
   "metadata": {},
   "outputs": [
    {
     "name": "stdin",
     "output_type": "stream",
     "text": [
      " 11\n"
     ]
    },
    {
     "name": "stdout",
     "output_type": "stream",
     "text": [
      "нечетное\n"
     ]
    }
   ],
   "source": [
    "print(\"четное\" if int(input()) % 2 == 0 else \"нечетное\")\n"
   ]
  },
  {
   "cell_type": "markdown",
   "id": "bd3d6fa8-d2c1-4bb3-a274-2d82726fb2f4",
   "metadata": {},
   "source": [
    "Пример 2: Определение наибольшего из двух чисел\n",
    "\n",
    "Напишите программу, которая определяет наибольшее из двух чисел и выводит его."
   ]
  },
  {
   "cell_type": "code",
   "execution_count": 46,
   "id": "a050740c-3598-45f1-ac6a-ecb6b1b6a1bf",
   "metadata": {},
   "outputs": [
    {
     "name": "stdout",
     "output_type": "stream",
     "text": [
      "Наибольшее число: 10\n"
     ]
    }
   ],
   "source": [
    "a = 5\n",
    "b = 10\n",
    "max_number = a if a > b else b\n",
    "print('Наибольшее число:', max_number)"
   ]
  },
  {
   "cell_type": "markdown",
   "id": "285289ab-7843-43c8-bad3-005a76f0df42",
   "metadata": {},
   "source": [
    "Пример 3: Проверка возраста\n",
    "\n",
    "Напишите программу, которая проверяет, может ли человек голосовать (возраст должен быть 18 лет или старше)."
   ]
  },
  {
   "cell_type": "code",
   "execution_count": 48,
   "id": "96463a5f-85c3-4870-bb2f-85afe367e1a0",
   "metadata": {},
   "outputs": [
    {
     "name": "stdout",
     "output_type": "stream",
     "text": [
      "Человек не может голосовать\n"
     ]
    }
   ],
   "source": [
    "age = 12\n",
    "can_vote = \"может голосовать\" if age >= 18 else \"не может голосовать\"\n",
    "print('Человек', can_vote)"
   ]
  },
  {
   "cell_type": "markdown",
   "id": "7809314f-ad52-4f2f-b8ae-c9337063d675",
   "metadata": {},
   "source": [
    "Пример 4: Определение времени суток\n",
    "\r\n",
    "Напишите программу, которая определяет, является ли текущее время днем или ночью (предположим, что день с 6 до 18 часов)."
   ]
  },
  {
   "cell_type": "code",
   "execution_count": 8,
   "id": "7e2981d8-cf78-420c-aa0a-ff6641869cfc",
   "metadata": {},
   "outputs": [
    {
     "name": "stdout",
     "output_type": "stream",
     "text": [
      "Сейчас день\n"
     ]
    }
   ],
   "source": [
    "hour = 14\n",
    "time_of_day = \"день\" if 6 <= hour < 18 else \"ночь\"\n",
    "print('Сейчас', time_of_day)\n"
   ]
  },
  {
   "cell_type": "markdown",
   "id": "7f643c0f-5b91-4f21-b40f-3cd69017d579",
   "metadata": {},
   "source": [
    "Пример 5: Проверка температуры\n",
    "\r\n",
    "Напишите программу, которая проверяет, является ли температура ниже нуля, и выводит соответствующее сообщение."
   ]
  },
  {
   "cell_type": "code",
   "execution_count": 9,
   "id": "c96ac057-fa06-479d-bc5e-7a9fac106068",
   "metadata": {},
   "outputs": [
    {
     "name": "stdout",
     "output_type": "stream",
     "text": [
      "Температура ниже нуля\n"
     ]
    }
   ],
   "source": [
    "temperature = -5\n",
    "weather = \"ниже нуля\" if temperature < 0 else \"выше нуля\"\n",
    "print('Температура', weather)\n"
   ]
  },
  {
   "cell_type": "code",
   "execution_count": null,
   "id": "00466615-5812-47cb-98e9-3514f5291050",
   "metadata": {},
   "outputs": [],
   "source": []
  },
  {
   "cell_type": "markdown",
   "id": "d83f66d1-e22d-45f6-adae-80520397c498",
   "metadata": {},
   "source": [
    "# Цикл while"
   ]
  },
  {
   "cell_type": "markdown",
   "id": "a77e149d-61cd-4182-a807-22d80b283209",
   "metadata": {},
   "source": [
    "это цикл с предусловием, то есть он выполняет блок кода, пока условие истинно. "
   ]
  },
  {
   "cell_type": "code",
   "execution_count": null,
   "id": "19d51428-bab6-4678-9313-023c6fe21a68",
   "metadata": {},
   "outputs": [],
   "source": [
    "while условие:\n",
    "    оператор 1\n",
    "    ...\n",
    "    оператор n\n"
   ]
  },
  {
   "cell_type": "markdown",
   "id": "bd42bf3e-b72e-4329-bcac-ec9bfe6912d5",
   "metadata": {},
   "source": [
    "Задача 1. Подсчитать сумму чисел от 1 до 100"
   ]
  },
  {
   "cell_type": "code",
   "execution_count": 50,
   "id": "aa281356-e622-4d4d-b876-7b64184cfc6f",
   "metadata": {},
   "outputs": [
    {
     "name": "stdout",
     "output_type": "stream",
     "text": [
      "5050\n"
     ]
    }
   ],
   "source": [
    "s = 0 # переменная для результата суммы\n",
    "num = 1\n",
    "while num <= 100:\n",
    "    s += num\n",
    "    num += 1\n",
    "print(s)\n"
   ]
  },
  {
   "cell_type": "markdown",
   "id": "903b9c86-4f71-4b40-ab37-7e4dffb0fb5f",
   "metadata": {},
   "source": [
    "Задача 2. Подсчитать сумму четных чисел от 1 до 100"
   ]
  },
  {
   "cell_type": "code",
   "execution_count": 53,
   "id": "cf8e9112-4477-4f5f-8fff-4c5bc087a4fb",
   "metadata": {},
   "outputs": [
    {
     "name": "stdout",
     "output_type": "stream",
     "text": [
      "220\n"
     ]
    }
   ],
   "source": [
    "s = 0 # переменная для результата суммы\n",
    "num = 1\n",
    "while num <= 100:\n",
    "    if num %2 == 0:\n",
    "        s += num\n",
    "    num += 1\n",
    "print(s)"
   ]
  },
  {
   "cell_type": "markdown",
   "id": "86c4f3c3-40b2-4638-b1b6-578b44811d2a",
   "metadata": {},
   "source": [
    "Задача 3. Вводить натуральные числа, пока не введено значение 0"
   ]
  },
  {
   "cell_type": "code",
   "execution_count": 56,
   "id": "fde5211a-f91a-4c89-b54f-fb526ccaf815",
   "metadata": {},
   "outputs": [
    {
     "name": "stdin",
     "output_type": "stream",
     "text": [
      " 1\n",
      " 2\n",
      " 0\n"
     ]
    }
   ],
   "source": [
    "num = int(input())\n",
    "if num != 0:\n",
    "    while num != 0:\n",
    "        num = int(input())\n",
    "else:\n",
    "    print('введен 0 первым числом')"
   ]
  },
  {
   "cell_type": "markdown",
   "id": "c667f978-2732-4bd1-a031-85f8374a436e",
   "metadata": {},
   "source": [
    "Задача 4. Вводить натуральные числа, пока не введено значение 0. Вывести сумму всех введенных чисел"
   ]
  },
  {
   "cell_type": "code",
   "execution_count": 59,
   "id": "c24678e3-e781-4d60-aa81-279512a7ab54",
   "metadata": {},
   "outputs": [
    {
     "name": "stdin",
     "output_type": "stream",
     "text": [
      " 0\n"
     ]
    },
    {
     "name": "stdout",
     "output_type": "stream",
     "text": [
      "введен 0\n"
     ]
    }
   ],
   "source": [
    "num = int(input())\n",
    "if num != 0:\n",
    "    s = 0\n",
    "    while num != 0:\n",
    "        s += num\n",
    "        num = int(input())\n",
    "    print('Cумма:',s)\n",
    "        \n",
    "else:\n",
    "    print('введен 0')"
   ]
  },
  {
   "cell_type": "markdown",
   "id": "236f44d7-8576-42d9-ac8b-f28739770b7e",
   "metadata": {},
   "source": [
    "Задача 5. Вводить натуральные числа, пока не введено значение 0. Среди введенных чисел вывести минимальное"
   ]
  },
  {
   "cell_type": "code",
   "execution_count": 60,
   "id": "7e0920db-7a34-4b46-a7a0-747cce484eb3",
   "metadata": {},
   "outputs": [
    {
     "name": "stdin",
     "output_type": "stream",
     "text": [
      "Введите не 0 значение 1\n",
      "Введите новое значение 12\n",
      "Введите новое значение -3\n",
      "Введите новое значение 100\n",
      "Введите новое значение 0\n"
     ]
    },
    {
     "name": "stdout",
     "output_type": "stream",
     "text": [
      "-3\n"
     ]
    }
   ],
   "source": [
    "mn = 10**6\n",
    "num = int(input('Введите не 0 значение'))\n",
    "while num != 0:\n",
    "    if num < mn:\n",
    "        mn = num\n",
    "    num = int(input('Введите новое значение'))\n",
    "print(mn)"
   ]
  },
  {
   "cell_type": "markdown",
   "id": "f4f761d6-e05b-4a1d-a5de-64a1ffb4d8a2",
   "metadata": {},
   "source": [
    "### break"
   ]
  },
  {
   "cell_type": "markdown",
   "id": "bb27d01d-613b-40c1-8545-e8458f4b0597",
   "metadata": {},
   "source": [
    "Задача. Вводить натуральные числа, пока не введено значение 0."
   ]
  },
  {
   "cell_type": "code",
   "execution_count": 63,
   "id": "031424da-74b8-4cf7-ae78-c374f4875f2b",
   "metadata": {},
   "outputs": [
    {
     "name": "stdin",
     "output_type": "stream",
     "text": [
      " 1\n",
      " 2\n",
      " 3\n",
      " 0\n"
     ]
    }
   ],
   "source": [
    "x = int(input())\n",
    "while x != 0:\n",
    "    x = int(input())\n",
    "\n",
    "    "
   ]
  },
  {
   "cell_type": "code",
   "execution_count": 62,
   "id": "f1607f68-f859-4f16-89b0-073d6339bf06",
   "metadata": {},
   "outputs": [
    {
     "name": "stdin",
     "output_type": "stream",
     "text": [
      " 1\n",
      " 2\n",
      " 3\n",
      " 0\n"
     ]
    }
   ],
   "source": [
    "x = int(input())\n",
    "while True:\n",
    "    x = int(input())\n",
    "    if x == 0:\n",
    "        break"
   ]
  },
  {
   "cell_type": "markdown",
   "id": "37b1c377-0107-44f1-b0a2-de1c90c7f499",
   "metadata": {},
   "source": [
    "### continue"
   ]
  },
  {
   "cell_type": "markdown",
   "id": "308f91be-51ea-4cc2-adf1-fe365bf0dd39",
   "metadata": {},
   "source": [
    "Пример: Напишите программу, которая выводит все числа от 1 до 20, пропуская числа, кратные 3."
   ]
  },
  {
   "cell_type": "code",
   "execution_count": 64,
   "id": "9281eaa8-d303-4f9f-a974-3780f691ffb8",
   "metadata": {},
   "outputs": [
    {
     "name": "stdout",
     "output_type": "stream",
     "text": [
      "1\n",
      "2\n",
      "4\n",
      "5\n",
      "7\n",
      "8\n",
      "10\n",
      "11\n",
      "13\n",
      "14\n",
      "16\n",
      "17\n",
      "19\n",
      "20\n"
     ]
    }
   ],
   "source": [
    "number = 1\n",
    "\n",
    "while number <= 20:\n",
    "    if number % 3 == 0:\n",
    "        number += 1\n",
    "        continue\n",
    "    print(number)\n",
    "    number += 1\n",
    "\n"
   ]
  },
  {
   "cell_type": "markdown",
   "id": "243fc48c-7d6e-4f02-924e-db51d3fd49e6",
   "metadata": {},
   "source": [
    "Пример: Пропуск пустых строк\n",
    "\n",
    "Напишите программу, которая запрашивает у пользователя строки и выводит только непустые строки. Программа завершает работу, если введена строка “стоп”."
   ]
  },
  {
   "cell_type": "code",
   "execution_count": 65,
   "id": "422f66a1-11bb-42fe-94a6-281e309c3959",
   "metadata": {},
   "outputs": [
    {
     "name": "stdin",
     "output_type": "stream",
     "text": [
      "Введите строку (или 'стоп' для завершения):  sfgn\n"
     ]
    },
    {
     "name": "stdout",
     "output_type": "stream",
     "text": [
      "Вы ввели: sfgn\n"
     ]
    },
    {
     "name": "stdin",
     "output_type": "stream",
     "text": [
      "Введите строку (или 'стоп' для завершения):  okndsf\n"
     ]
    },
    {
     "name": "stdout",
     "output_type": "stream",
     "text": [
      "Вы ввели: okndsf\n"
     ]
    },
    {
     "name": "stdin",
     "output_type": "stream",
     "text": [
      "Введите строку (или 'стоп' для завершения):  \n",
      "Введите строку (или 'стоп' для завершения):  стоп\n"
     ]
    }
   ],
   "source": [
    "while True:\n",
    "    text = input(\"Введите строку (или 'стоп' для завершения): \")\n",
    "    if text == \"стоп\" or text == \"stop\":\n",
    "        break\n",
    "    if text == \"\":\n",
    "        continue\n",
    "    print('Вы ввели:',text)"
   ]
  },
  {
   "cell_type": "code",
   "execution_count": null,
   "id": "5821e484-c7d7-4d96-8a87-74c377c1e5df",
   "metadata": {},
   "outputs": [],
   "source": []
  },
  {
   "cell_type": "markdown",
   "id": "a3def2bc-7929-4fac-9e30-9d1053c54558",
   "metadata": {},
   "source": [
    "### while - else"
   ]
  },
  {
   "cell_type": "markdown",
   "id": "8bd31870-8095-4ed2-89e5-a53b91188fb6",
   "metadata": {},
   "source": [
    "* Конструкция else после цикла while позволяет выполнить блок кода, когда условие цикла становится ложным. \n",
    "\n",
    "* Если цикл завершился нормально (без прерывания с помощью break), то код в блоке else будет выполнен.\n"
   ]
  },
  {
   "cell_type": "markdown",
   "id": "863be461-4831-42d5-b211-3c4825e40735",
   "metadata": {},
   "source": [
    "Используйте while-else, когда вам нужно выполнить определенное действие после завершения цикла, если цикл не был прерван оператором break. Например, поиск элемента в списке"
   ]
  },
  {
   "cell_type": "markdown",
   "id": "5ffe66e4-7dbf-419b-bdbf-34153e0fef7e",
   "metadata": {},
   "source": [
    "Задача: Найти первое число, которое делится на 7, начиная с заданного числа. Если такого числа нет в диапазоне от 1 до 100, вывести сообщение."
   ]
  },
  {
   "cell_type": "code",
   "execution_count": 69,
   "id": "41915b1c-dbac-4374-88be-8e2927382872",
   "metadata": {},
   "outputs": [
    {
     "name": "stdin",
     "output_type": "stream",
     "text": [
      "Введите начальное число:  101\n"
     ]
    },
    {
     "name": "stdout",
     "output_type": "stream",
     "text": [
      "Число, которое делится на 7, не найдено в диапазоне от 1 до 100.\n"
     ]
    }
   ],
   "source": [
    "number =  int(input(\"Введите начальное число: \"))\n",
    "\n",
    "while number <= 100:\n",
    "    if number % 7 == 0:\n",
    "        print('Первое число, которое делится на 7:', number)\n",
    "        break\n",
    "    number += 1\n",
    "else:\n",
    "    print(\"Число, которое делится на 7, не найдено в диапазоне от 1 до 100.\")\n",
    "\n"
   ]
  },
  {
   "cell_type": "code",
   "execution_count": null,
   "id": "550bcfb3-cc55-484a-8a7e-2812e245fb11",
   "metadata": {},
   "outputs": [],
   "source": []
  },
  {
   "cell_type": "markdown",
   "id": "22ce9888-cd67-4998-afbc-f8e6c9579ede",
   "metadata": {},
   "source": [
    "### Бесконечный цикл"
   ]
  },
  {
   "cell_type": "code",
   "execution_count": null,
   "id": "517f7833-a4a8-4d24-ab84-cbae7e572ca8",
   "metadata": {},
   "outputs": [],
   "source": [
    "while True:\n",
    "    #операторы"
   ]
  },
  {
   "cell_type": "markdown",
   "id": "d9f1d8a3-5bfe-480a-bd33-92cb41b3058f",
   "metadata": {},
   "source": [
    "Задача 5. Вводить натуральные числа, пока не введено значение 0."
   ]
  },
  {
   "cell_type": "code",
   "execution_count": null,
   "id": "a07b21fe-1b53-40c6-8bed-b9206e638ff1",
   "metadata": {},
   "outputs": [],
   "source": [
    "while True:\n",
    "    x = int(input())\n",
    "    if x == 0:\n",
    "        break"
   ]
  },
  {
   "cell_type": "markdown",
   "id": "55516dde-8b54-4a19-9419-d79b70cb95a2",
   "metadata": {},
   "source": [
    "### Замер времени"
   ]
  },
  {
   "cell_type": "code",
   "execution_count": 19,
   "id": "75accd69-9162-4fbb-a165-5f6da2c46f9a",
   "metadata": {},
   "outputs": [
    {
     "name": "stdout",
     "output_type": "stream",
     "text": [
      "Время выполнения программы: 0.0 секунд\n"
     ]
    }
   ],
   "source": [
    "import time\n",
    "start_time = time.time()\n",
    "\n",
    "# выполняемые действия\n",
    "\n",
    "end_time = time.time()\n",
    "execution_time = end_time - start_time\n",
    "print(\"Время выполнения программы:\", execution_time, \"секунд\")"
   ]
  },
  {
   "cell_type": "code",
   "execution_count": 23,
   "id": "cf0df2ea-ff26-46c4-9f6e-25ec4460d482",
   "metadata": {},
   "outputs": [
    {
     "name": "stdout",
     "output_type": "stream",
     "text": [
      "29.3 ns ± 0.569 ns per loop (mean ± std. dev. of 7 runs, 10,000,000 loops each)\n"
     ]
    }
   ],
   "source": [
    "%%timeit\n",
    "# замеряет время усредняя его. Запускает программу несколько раз!!!"
   ]
  },
  {
   "cell_type": "markdown",
   "id": "33da40e6-db6d-45e5-ac9c-43e499cc6d9a",
   "metadata": {},
   "source": [
    "### Модуль random"
   ]
  },
  {
   "cell_type": "code",
   "execution_count": 15,
   "id": "a550833b-d30e-4970-a32c-1e62675de66a",
   "metadata": {},
   "outputs": [],
   "source": [
    "import random #импортируем библиотекуиска\r\n"
   ]
  },
  {
   "cell_type": "markdown",
   "id": "8b6a77d8-a01a-44db-8ccf-a013d10a4579",
   "metadata": {},
   "source": [
    "* random(): генерирует случайное число от 0.0 до 1.0\n",
    "* randint(): возвращает случайное число из определенного диапазона\n",
    "* randrange(): возвращает случайное число из определенного набора чисел\n",
    "* shuffle(): перемешивает список\n",
    "* choice(): возвращает случайный элемент списка"
   ]
  },
  {
   "cell_type": "code",
   "execution_count": null,
   "id": "e42c585b-7fa0-49fe-8eb4-e775184680b1",
   "metadata": {},
   "outputs": [],
   "source": [
    "Пример: Угадай число"
   ]
  },
  {
   "cell_type": "code",
   "execution_count": 70,
   "id": "49a35adb-2dd2-4584-9c5e-769a2ca643cf",
   "metadata": {},
   "outputs": [
    {
     "name": "stdout",
     "output_type": "stream",
     "text": [
      "Угадайте число от 1 до 100:\n"
     ]
    },
    {
     "name": "stdin",
     "output_type": "stream",
     "text": [
      "Введите ваше предположение:  51\n"
     ]
    },
    {
     "name": "stdout",
     "output_type": "stream",
     "text": [
      "Загаданное число меньше.\n"
     ]
    },
    {
     "name": "stdin",
     "output_type": "stream",
     "text": [
      "Введите ваше предположение:  25\n"
     ]
    },
    {
     "name": "stdout",
     "output_type": "stream",
     "text": [
      "Загаданное число меньше.\n"
     ]
    },
    {
     "name": "stdin",
     "output_type": "stream",
     "text": [
      "Введите ваше предположение:  12\n"
     ]
    },
    {
     "name": "stdout",
     "output_type": "stream",
     "text": [
      "Загаданное число меньше.\n"
     ]
    },
    {
     "name": "stdin",
     "output_type": "stream",
     "text": [
      "Введите ваше предположение:  6\n"
     ]
    },
    {
     "name": "stdout",
     "output_type": "stream",
     "text": [
      "Загаданное число больше.\n"
     ]
    },
    {
     "name": "stdin",
     "output_type": "stream",
     "text": [
      "Введите ваше предположение:  9\n"
     ]
    },
    {
     "name": "stdout",
     "output_type": "stream",
     "text": [
      "Загаданное число больше.\n"
     ]
    },
    {
     "name": "stdin",
     "output_type": "stream",
     "text": [
      "Введите ваше предположение:  10\n"
     ]
    },
    {
     "name": "stdout",
     "output_type": "stream",
     "text": [
      "Поздравляю! Вы угадали число 10\n"
     ]
    }
   ],
   "source": [
    "import random\n",
    "\n",
    "# Генерация случайного числа от 1 до 100\n",
    "secret_number = random.randint(1, 100)\n",
    "\n",
    "print(\"Угадайте число от 1 до 100:\")\n",
    "\n",
    "while True:\n",
    "    guess = int(input(\"Введите ваше предположение: \"))\n",
    "    \n",
    "    if guess == secret_number:\n",
    "        print('Поздравляю! Вы угадали число', secret_number)\n",
    "        break\n",
    "    elif guess < secret_number:\n",
    "        print(\"Загаданное число больше.\")\n",
    "    else:\n",
    "        print(\"Загаданное число меньше.\")\n"
   ]
  },
  {
   "cell_type": "code",
   "execution_count": null,
   "id": "4b56d3bc-3e0d-4d2b-85d2-c44f6ef0693b",
   "metadata": {},
   "outputs": [],
   "source": []
  },
  {
   "cell_type": "markdown",
   "id": "962d7bcb-a638-4942-80eb-2a9a317690a7",
   "metadata": {},
   "source": [
    "### Разбор ДЗ"
   ]
  },
  {
   "cell_type": "markdown",
   "id": "171acf02-a9d9-451b-8227-ebe045f84204",
   "metadata": {},
   "source": [
    "Напишите программу, которая запрашивает у пользователя три числа и выводит их в порядке возрастания, разделенные запятой. \n",
    "Используйте условные операторы и вложенные условия для решения задачи. \n",
    "Предполагается, что все три числа различны.\n",
    "\n",
    "Пример вывода:\n",
    "\n",
    "Введите первое число: 5\n",
    "\n",
    "Введите второе число: 2\n",
    "\n",
    "Введите третье число: 7\n",
    "\n",
    "Числа в порядке возрастания: 2, 5, 7"
   ]
  },
  {
   "cell_type": "code",
   "execution_count": null,
   "id": "5a4426f1-d623-4c6d-b8c8-258fe661d315",
   "metadata": {},
   "outputs": [],
   "source": [
    "num1 = int(input(\"Введите первое число: \"))\n",
    "num2 = int(input(\"Введите второе число: \"))\n",
    "num3 = int(input(\"Введите третье число: \"))\n",
    "\n",
    "if num1 <= num2 and num1 <= num3:\n",
    "    if num2 <= num3:\n",
    "        print(\"Числа в порядке возрастания:\", num1, num2, num3)\n",
    "    else:\n",
    "        print(\"Числа в порядке возрастания:\", num1, num3, num2)\n",
    "elif num2 <= num1 and num2 <= num3:\n",
    "    if num1 <= num3:\n",
    "        print(\"Числа в порядке возрастания:\", num2, num1, num3\")\n",
    "    else:\n",
    "        print(\"Числа в порядке возрастания:\", num2, num3, num1\")\n",
    "else:\n",
    "    if num1 <= num2:\n",
    "        print(\"Числа в порядке возрастания:\", num3, num1, num2)\n",
    "    else:\n",
    "        print(\"Числа в порядке возрастания:\", num3, num2, num1)\n"
   ]
  },
  {
   "cell_type": "markdown",
   "id": "2460aa94-0689-4e60-bb38-a1d9af5645fb",
   "metadata": {},
   "source": [
    "Напишите программу, которая запрашивает у пользователя год и проверяет, является ли он високосным. \r\n",
    "Год является високосным, если он делится на 4 без остатка, но не делится на 100 без остатка, за исключением годов, которые делятся на 400 без остатка. \r\n",
    "Выведите соответствующее сообщение на экран с помощью команды print.\r\n",
    "\r\n",
    "Пример вывода:\r\n",
    "\r\n",
    "Введите год: 2024\r\n",
    "\r\n",
    "Год является високосным.\r\n"
   ]
  },
  {
   "cell_type": "code",
   "execution_count": null,
   "id": "486cdb86-5b24-4809-a23b-9e23da9201bb",
   "metadata": {},
   "outputs": [],
   "source": [
    "year = int(input(\"Введите год: \"))\n",
    "\n",
    "if (year % 4 == 0 and year % 100 != 0) or (year % 400 == 0):\n",
    "    print(\"Год\",year,\"является високосным.\")\n",
    "else:\n",
    "    print(\"Год\",year,\"не является високосным.\")\n"
   ]
  },
  {
   "cell_type": "markdown",
   "id": "be0f4246-ed1c-455c-8d1b-f12571ce1466",
   "metadata": {},
   "source": [
    "Напишите программу, которая генерирует случайное число от 1 до 100, а затем предлагает пользователю угадать это число. Если пользователь угадывает число, программа выводит сообщение о победе. Если пользователь не угадывает число, программа сообщает, больше или меньше загаданное число и предлагает попробовать снова. Используйте цикл с инструкцией break, чтобы остановить выполнение цикла, когда число угадано.\n",
    "\n",
    "Пример вывода:\n",
    "\n",
    "Угадайте число от 1 до 100: 50\n",
    "\n",
    "Загаданное число меньше.\n",
    "\n",
    "Попробуйте снова: 75\n",
    "\n",
    "Загаданное число больше.\n",
    "\n",
    "Попробуйте снова: 63\n",
    "\n",
    "Поздравляю! Вы угадали число 63!"
   ]
  },
  {
   "cell_type": "code",
   "execution_count": null,
   "id": "82227bc9-1945-4416-939a-160efa9b9f9c",
   "metadata": {},
   "outputs": [],
   "source": []
  },
  {
   "cell_type": "markdown",
   "id": "3d5a5a84-60af-4f2d-ab86-ee2d48da12b8",
   "metadata": {},
   "source": [
    "Напишите программу, которая запрашивает у пользователя число N и выводит первые N чисел Фибоначчи. Числа Фибоначчи - это последовательность чисел, где каждое следующее число является суммой двух предыдущих чисел (начиная с 0 и 1). Используйте цикл while для решения задачи. Выведите числа через запятую с помощью команды print.\r\n",
    "\r\n",
    "Пример вывода:\r\n",
    "\r\n",
    "Введите число N: 7\r\n",
    "\r\n",
    "Первые 7 чисел Фибоначчи: 0, 1, 1, 2, 3 5, 8\r\n"
   ]
  },
  {
   "cell_type": "code",
   "execution_count": 71,
   "id": "49041773-fcc0-4f20-838a-827469750358",
   "metadata": {},
   "outputs": [
    {
     "name": "stdin",
     "output_type": "stream",
     "text": [
      "Введите число N:  20\n"
     ]
    },
    {
     "name": "stdout",
     "output_type": "stream",
     "text": [
      "Первые 20 чисел Фибоначчи: 0,  1,  1,  2,  3,  5,  8,  13,  21,  34,  55,  89,  144,  233,  377,  610,  987,  1597,  2584,  4181"
     ]
    }
   ],
   "source": [
    "N = int(input(\"Введите число N: \"))\n",
    "\n",
    "a = 0\n",
    "b = 1\n",
    "count = 0\n",
    "\n",
    "if N <= 0:\n",
    "    print(\"Введите положительное число\")\n",
    "else:\n",
    "    print(\"Первые\", N, \"чисел Фибоначчи:\", end=\" \")\n",
    "    while count < N:\n",
    "        if count == 0:\n",
    "            print(a, end=\"\")\n",
    "        else:\n",
    "            print(\", \", a, end=\"\")\n",
    "\n",
    "        temp = a\n",
    "        a = b\n",
    "        b = temp + b\n",
    "        count += 1\n"
   ]
  },
  {
   "cell_type": "markdown",
   "id": "305e5199-a741-4c88-8a17-b3bdee61a371",
   "metadata": {},
   "source": [
    "Напишите программу, которая запрашивает у пользователя целое положительное число и проверяет, является ли оно простым. Простое число - это число, которое делится только на 1 и на само себя без остатка. Используйте цикл while и проверку деления числа на все числа от 2 до N-1 для решения задачи. Выведите соответствующее сообщение на экран с помощью команды print.\r\n",
    "\r\n",
    "Пример вывода:\r\n",
    "\r\n",
    "Введите целое положительное число: 17\r\n",
    "Число 17 является протым.\r\n"
   ]
  },
  {
   "cell_type": "code",
   "execution_count": null,
   "id": "bb9e44d0-e2ae-4b5b-9201-fd928e7963cb",
   "metadata": {},
   "outputs": [],
   "source": [
    "N = int(input(\"Введите целое положительное число: \"))\n",
    "\n",
    "if N <= 1:\n",
    "    print(\"Введите число больше 1\")\n",
    "else:\n",
    "    divisor = 2\n",
    "    is_prime = True\n",
    "    \n",
    "    # Проверка делимости числа на все числа от 2 до N-1\n",
    "    while divisor < N:\n",
    "        if N % divisor == 0:\n",
    "            is_prime = False\n",
    "            break\n",
    "        divisor += 1\n",
    "    \n",
    "    if is_prime:\n",
    "        print(\"Число\",N,\"является простым.\")\n",
    "    else:\n",
    "        print(\"Число\",N,\"не является простым.\")\n"
   ]
  }
 ],
 "metadata": {
  "kernelspec": {
   "display_name": "Python 3 (ipykernel)",
   "language": "python",
   "name": "python3"
  },
  "language_info": {
   "codemirror_mode": {
    "name": "ipython",
    "version": 3
   },
   "file_extension": ".py",
   "mimetype": "text/x-python",
   "name": "python",
   "nbconvert_exporter": "python",
   "pygments_lexer": "ipython3",
   "version": "3.12.4"
  }
 },
 "nbformat": 4,
 "nbformat_minor": 5
}
