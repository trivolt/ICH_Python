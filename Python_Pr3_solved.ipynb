{
 "cells": [
  {
   "cell_type": "markdown",
   "id": "32d92bd0-2ef7-4fcc-b701-1cb400eec374",
   "metadata": {},
   "source": [
    "# Практикум 3"
   ]
  },
  {
   "cell_type": "markdown",
   "id": "220fa34b-1875-46df-8032-3f6889250f5c",
   "metadata": {},
   "source": [
    "1. Для заданного целого числа N подсчитать количество четных чисел, меньше или равных N.\r\n"
   ]
  },
  {
   "cell_type": "code",
   "execution_count": 1,
   "id": "6bff5b53-eaa8-4777-a127-f18e6bbe09e1",
   "metadata": {},
   "outputs": [
    {
     "name": "stdin",
     "output_type": "stream",
     "text": [
      "Введите целое число n:  5\n"
     ]
    },
    {
     "name": "stdout",
     "output_type": "stream",
     "text": [
      "2\n"
     ]
    }
   ],
   "source": [
    "n = int(input(\"Введите целое число n: \"))\n",
    "cnt = 0\n",
    "t = 1\n",
    "while t <= n:\n",
    "    if t%2 == 0:\n",
    "        cnt += 1\n",
    "    t += 1\n",
    "\n",
    "print(cnt)\n",
    "        "
   ]
  },
  {
   "cell_type": "markdown",
   "id": "916d6c60-b0a9-48b8-9105-7e7c1f3aa81d",
   "metadata": {},
   "source": [
    "2. Вычислите n-е число ряда Фибоначчи с помощью цикла while. Что такое числа Фибоначчи?\n"
   ]
  },
  {
   "cell_type": "code",
   "execution_count": 1,
   "id": "b9e6bef0-e040-4a71-b755-a6ac721f9644",
   "metadata": {},
   "outputs": [
    {
     "name": "stdin",
     "output_type": "stream",
     "text": [
      "Введите целое число n:  7\n"
     ]
    },
    {
     "name": "stdout",
     "output_type": "stream",
     "text": [
      "7 -е число ряда Фибоначчи:  13\n"
     ]
    }
   ],
   "source": [
    "n = int(input(\"Введите целое число n: \"))\n",
    "a, b = 0, 1\n",
    "count = 0\n",
    "while count < n:\n",
    "    a, b = b, a + b\n",
    "    count += 1\n",
    "print(n,'-е число ряда Фибоначчи: ',a)\n"
   ]
  },
  {
   "cell_type": "markdown",
   "id": "ea90ac13-64a3-475b-940e-43cb9558f7c2",
   "metadata": {},
   "source": [
    "3. По данному натуральному числу N найдите наибольшую целую степень двойки, не превосходящую N. Выведите показатель степени и саму степень.\n"
   ]
  },
  {
   "cell_type": "code",
   "execution_count": 2,
   "id": "10f9c998-26ef-4e63-a9e7-159916041a24",
   "metadata": {},
   "outputs": [
    {
     "name": "stdin",
     "output_type": "stream",
     "text": [
      "Введите целое число N:  12\n"
     ]
    },
    {
     "name": "stdout",
     "output_type": "stream",
     "text": [
      "Наибольшая степень двойки, не превосходящая 12 = 8\n"
     ]
    }
   ],
   "source": [
    "N = int(input(\"Введите целое число N: \"))\n",
    "power = 0\n",
    "value = 1\n",
    "while value * 2 <= N:\n",
    "    value *= 2\n",
    "    power += 1\n",
    "print(\"Наибольшая степень двойки, не превосходящая\", N, '=', value)\n"
   ]
  },
  {
   "cell_type": "markdown",
   "id": "608abd81-27a3-4b43-8f91-70e895d43eb4",
   "metadata": {},
   "source": [
    "4. Дано целое число, не меньшее 2. Выведите его наименьший натуральный делитель, отличный от 1.\n"
   ]
  },
  {
   "cell_type": "code",
   "execution_count": 3,
   "id": "de0c6e93-7efe-4b0c-9a19-fe1485acf4e6",
   "metadata": {},
   "outputs": [
    {
     "name": "stdin",
     "output_type": "stream",
     "text": [
      "Введите целое число N (не меньшее 2):  12\n"
     ]
    },
    {
     "name": "stdout",
     "output_type": "stream",
     "text": [
      "Наименьший натуральный делитель числа 12 отличный от 1: 2\n"
     ]
    }
   ],
   "source": [
    "N = int(input(\"Введите целое число N (не меньшее 2): \"))\n",
    "divisor = 2\n",
    "while N % divisor != 0:\n",
    "    divisor += 1\n",
    "print(\"Наименьший натуральный делитель числа\", N, \"отличный от 1:\", divisor)\n"
   ]
  },
  {
   "cell_type": "markdown",
   "id": "7ea76488-db62-439b-8d69-47e2d63a9fda",
   "metadata": {},
   "source": [
    "5. Определите сумму всех элементов последовательности, завершающейся числом 0. Числа, следующие за первым нулем, учитывать не нужно. Числа считываем с клавиатуры с помощью input()\n"
   ]
  },
  {
   "cell_type": "code",
   "execution_count": 4,
   "id": "b1a9f49c-c882-4909-ae4c-6a15bd90d86d",
   "metadata": {},
   "outputs": [
    {
     "name": "stdin",
     "output_type": "stream",
     "text": [
      "Введите число (0 для завершения):  1\n",
      "Введите число (0 для завершения):  2\n",
      "Введите число (0 для завершения):  3\n",
      "Введите число (0 для завершения):  0\n"
     ]
    },
    {
     "name": "stdout",
     "output_type": "stream",
     "text": [
      "Сумма всех введенных чисел: 6\n"
     ]
    }
   ],
   "source": [
    "total_sum = 0\n",
    "while True:\n",
    "    number = int(input(\"Введите число (0 для завершения): \"))\n",
    "    if number == 0:\n",
    "        break\n",
    "\n",
    "    total_sum += number\n",
    "print(\"Сумма всех введенных чисел:\", total_sum)\n"
   ]
  },
  {
   "cell_type": "markdown",
   "id": "ea4f3857-2da2-47d5-b58b-43dfb4273749",
   "metadata": {},
   "source": [
    "6. Определите среднее значение всех элементов последовательности, завершающейся числом 0. Среднее значение - сумма всех элементов, поделенная на их количество. \n"
   ]
  },
  {
   "cell_type": "code",
   "execution_count": null,
   "id": "90c136b0-0882-493c-920b-5766fc231a22",
   "metadata": {},
   "outputs": [],
   "source": [
    "total_sum = 0\n",
    "count = 0\n",
    "while True:\n",
    "    number = int(input(\"Введите число (0 для завершения): \"))\n",
    "    if number == 0:\n",
    "        break\n",
    "\n",
    "    total_sum += number\n",
    "    count += 1\n",
    "    \n",
    "if count > 0:\n",
    "    average = total_sum / count\n",
    "    print(\"Среднее значение всех введенных чисел:\", average)\n",
    "else:\n",
    "    print(\"Не было введено ни одного числа.\")\n"
   ]
  },
  {
   "cell_type": "markdown",
   "id": "41ff0433-3067-446c-8605-5c991bd1b280",
   "metadata": {},
   "source": [
    "7. Последовательность состоит из натуральных чисел и завершается числом 0. Определите значение наибольшего элемента последовательности.\n"
   ]
  },
  {
   "cell_type": "code",
   "execution_count": 5,
   "id": "cf6b336f-eb62-4feb-ae4c-8e20fa2c5e66",
   "metadata": {},
   "outputs": [
    {
     "name": "stdin",
     "output_type": "stream",
     "text": [
      "Введите число (0 для завершения):  1\n",
      "Введите число (0 для завершения):  2\n",
      "Введите число (0 для завершения):  3\n",
      "Введите число (0 для завершения):  0\n"
     ]
    },
    {
     "name": "stdout",
     "output_type": "stream",
     "text": [
      "Наибольший элемент последовательности: 3\n"
     ]
    }
   ],
   "source": [
    "max_element = 0\n",
    "\n",
    "while True:\n",
    "    number = int(input(\"Введите число (0 для завершения): \"))\n",
    "    \n",
    "    if number == 0:\n",
    "        break\n",
    "    \n",
    "    if number > max_element:\n",
    "        max_element = number\n",
    "\n",
    "print(\"Наибольший элемент последовательности:\", max_element)\n"
   ]
  },
  {
   "cell_type": "markdown",
   "id": "217db155-5793-4fe9-b593-130f96537c56",
   "metadata": {},
   "source": [
    "8. Последовательность состоит из натуральных чисел и завершается числом 0. Определите индекс наибольшего элемента последовательности. Нумерация элементов начинается с нуля.\n"
   ]
  },
  {
   "cell_type": "code",
   "execution_count": null,
   "id": "e830c10e-3e9e-4b88-9c10-02873325de17",
   "metadata": {},
   "outputs": [],
   "source": [
    "max_element = 0\n",
    "max_index = -1\n",
    "current_index = 0\n",
    "\n",
    "while True:\n",
    "    number = int(input(\"Введите число (0 для завершения): \"))\n",
    "    \n",
    "    if number == 0:\n",
    "        break\n",
    "    \n",
    "    if number > max_element:\n",
    "        max_element = number\n",
    "        max_index = current_index\n",
    "    \n",
    "    current_index += 1\n",
    "\n",
    "print(\"Индекс наибольшего элемента последовательности:\",max_index)\n"
   ]
  },
  {
   "cell_type": "markdown",
   "id": "a8d819f7-5064-4505-8d4b-3f35215b0140",
   "metadata": {},
   "source": [
    "9. Дан объем шара X куб. ед. Найдите радиус фигуры.\n"
   ]
  },
  {
   "attachments": {
    "ba346700-0a8b-49e4-b150-433bebbb7bdd.png": {
     "image/png": "[encoded data removed]"
    }
   },
   "cell_type": "markdown",
   "id": "be1dbfef-ffb8-4e1d-ac9e-1eefd7df50ea",
   "metadata": {},
   "source": [
    "![image.png](attachment:ba346700-0a8b-49e4-b150-433bebbb7bdd.png)"
   ]
  },
  {
   "cell_type": "code",
   "execution_count": 3,
   "id": "99b9fbf8-3114-457d-b489-4e96f71fdb6b",
   "metadata": {},
   "outputs": [
    {
     "name": "stdin",
     "output_type": "stream",
     "text": [
      "Введите объем шара (в кубических единицах):  10\n"
     ]
    },
    {
     "name": "stdout",
     "output_type": "stream",
     "text": [
      "4.201369145960153\n",
      "4.213973245007884\n",
      "4.226602527062329\n",
      "4.239257017256224\n",
      "4.251936740722313\n",
      "4.264641722593338\n",
      "4.277371988002039\n",
      "4.290127562081157\n",
      "4.302908469963433\n",
      "4.315714736781609\n",
      "4.328546387668426\n",
      "4.341403447756625\n",
      "4.354285942178948\n",
      "4.367193896068136\n",
      "4.380127334556929\n",
      "4.393086282778069\n",
      "4.406070765864299\n",
      "4.419080808948356\n",
      "4.4321164371629855\n",
      "4.4451776756409265\n",
      "4.458264549514922\n",
      "4.471377083917711\n",
      "4.484515303982036\n",
      "4.497679234840637\n",
      "4.5108689016262575\n",
      "4.524084329471637\n",
      "4.5373255435095174\n",
      "4.55059256887264\n",
      "4.563885430693745\n",
      "4.577204154105575\n",
      "4.590548764240869\n",
      "4.6039192862323715\n",
      "4.617315745212821\n",
      "4.630738166314961\n",
      "4.644186574671529\n",
      "4.657660995415271\n",
      "4.671161453678926\n",
      "4.684687974595234\n",
      "4.698240583296938\n",
      "4.711819304916778\n",
      "4.725424164587497\n",
      "4.739055187441834\n",
      "4.752712398612532\n",
      "4.766395823232331\n",
      "4.780105486433974\n",
      "4.7938414133502\n",
      "4.807603629113752\n",
      "4.821392158857369\n",
      "4.835207027713794\n",
      "4.849048260815769\n",
      "4.862915883296033\n",
      "4.87680992028733\n",
      "4.8907303969223985\n",
      "4.90467733833398\n",
      "4.9186507696548185\n",
      "4.932650716017651\n",
      "4.9466772025552235\n",
      "4.960730254400273\n",
      "4.974809896685543\n",
      "4.988916154543774\n",
      "5.003049053107708\n",
      "5.017208617510086\n",
      "5.031394872883647\n",
      "5.045607844361135\n",
      "5.059847557075292\n",
      "5.074114036158856\n",
      "5.088407306744569\n",
      "5.102727393965175\n",
      "5.117074322953412\n",
      "5.131448118842023\n",
      "5.145848806763748\n",
      "5.1602764118513305\n",
      "5.174730959237508\n",
      "5.189212474055026\n",
      "5.203720981436623\n",
      "5.218256506515041\n",
      "5.232819074423021\n",
      "5.247408710293303\n",
      "5.262025439258632\n",
      "5.276669286451744\n",
      "5.291340277005386\n",
      "5.306038436052294\n",
      "5.320763788725212\n",
      "5.3355163601568805\n",
      "5.350296175480041\n",
      "5.365103259827435\n",
      "5.379937638331803\n",
      "5.394799336125887\n",
      "5.409688378342428\n",
      "5.4246047901141665\n",
      "5.439548596573845\n",
      "5.454519822854203\n",
      "5.469518494087984\n",
      "5.484544635407927\n",
      "5.499598271946774\n",
      "5.514679428837267\n",
      "5.529788131212148\n",
      "5.5449244042041546\n",
      "5.5600882729460315\n",
      "5.575279762570518\n",
      "5.590498898210357\n",
      "5.605745704998289\n",
      "5.621020208067054\n",
      "5.636322432549394\n",
      "5.651652403578051\n",
      "5.667010146285767\n",
      "5.682395685805281\n",
      "5.697809047269335\n",
      "5.71325025581067\n",
      "5.728719336562028\n",
      "5.744216314656151\n",
      "5.759741215225778\n",
      "5.775294063403651\n",
      "5.790874884322512\n",
      "5.806483703115102\n",
      "5.822120544914162\n",
      "5.837785434852433\n",
      "5.853478398062656\n",
      "5.869199459677573\n",
      "5.884948644829926\n",
      "5.900725978652454\n",
      "5.9165314862779\n",
      "5.932365192839004\n",
      "5.948227123468508\n",
      "5.964117303299154\n",
      "5.980035757463681\n",
      "5.995982511094832\n",
      "6.011957589325348\n",
      "6.02796101728797\n",
      "6.043992820115439\n",
      "6.0600530229404965\n",
      "6.076141650895883\n",
      "6.0922587291143415\n",
      "6.108404282728612\n",
      "6.124578336871435\n",
      "6.140780916675554\n",
      "6.1570120472737075\n",
      "6.173271753798638\n",
      "6.189560061383088\n",
      "6.205876995159796\n",
      "6.222222580261506\n",
      "6.238596841820957\n",
      "6.254999804970892\n",
      "6.271431494844051\n",
      "6.287891936573176\n",
      "6.304381155291008\n",
      "6.320899176130287\n",
      "6.337446024223756\n",
      "6.354021724704156\n",
      "6.370626302704228\n",
      "6.387259783356711\n",
      "6.403922191794351\n",
      "6.4206135531498845\n",
      "6.4373338925560555\n",
      "6.454083235145604\n",
      "6.470861606051272\n",
      "6.487669030405801\n",
      "6.504505533341931\n",
      "6.521371139992403\n",
      "6.53826587548996\n",
      "6.555189764967342\n",
      "6.572142833557291\n",
      "6.589125106392547\n",
      "6.606136608605853\n",
      "6.623177365329949\n",
      "6.640247401697576\n",
      "6.657346742841475\n",
      "6.674475413894389\n",
      "6.691633439989058\n",
      "6.708820846258223\n",
      "6.726037657834626\n",
      "6.743283899851008\n",
      "6.76055959744011\n",
      "6.777864775734672\n",
      "6.795199459867438\n",
      "6.812563674971147\n",
      "6.8299574461785415\n",
      "6.847380798622362\n",
      "6.86483375743535\n",
      "6.882316347750246\n",
      "6.899828594699793\n",
      "6.9173705234167295\n",
      "6.9349421590338\n",
      "6.952543526683743\n",
      "6.970174651499301\n",
      "6.987835558613215\n",
      "7.005526273158226\n",
      "7.023246820267077\n",
      "7.040997225072506\n",
      "7.058777512707256\n",
      "7.07658770830407\n",
      "7.094427836995686\n",
      "7.112297923914847\n",
      "7.130197994194293\n",
      "7.148128072966767\n",
      "7.166088185365008\n",
      "7.18407835652176\n",
      "7.202098611569762\n",
      "7.220148975641757\n",
      "7.238229473870485\n",
      "7.2563401313886855\n",
      "7.274480973329104\n",
      "7.292652024824478\n",
      "7.310853311007551\n",
      "7.329084857011064\n",
      "7.347346687967756\n",
      "7.36563882901037\n",
      "7.383961305271648\n",
      "7.40231414188433\n",
      "7.420697363981158\n",
      "7.439110996694871\n",
      "7.457555065158213\n",
      "7.476029594503925\n",
      "7.494534609864747\n",
      "7.513070136373419\n",
      "7.531636199162686\n",
      "7.5502328233652864\n",
      "7.568860034113961\n",
      "7.587517856541455\n",
      "7.606206315780504\n",
      "7.624925436963854\n",
      "7.643675245224243\n",
      "7.662455765694414\n",
      "7.681267023507107\n",
      "7.700109043795066\n",
      "7.718981851691027\n",
      "7.737885472327736\n",
      "7.756819930837933\n",
      "7.775785252354359\n",
      "7.794781462009754\n",
      "7.8138085849368615\n",
      "7.832866646268421\n",
      "7.8519556711371745\n",
      "7.871075684675863\n",
      "7.890226712017227\n",
      "7.90940877829401\n",
      "7.9286219086389496\n",
      "7.947866128184791\n",
      "7.967141462064272\n",
      "7.986447935410136\n",
      "8.005785573355123\n",
      "8.025154401031976\n",
      "8.044554443573436\n",
      "8.063985726112241\n",
      "8.083448273781135\n",
      "8.10294211171286\n",
      "8.122467265040155\n",
      "8.142023758895762\n",
      "8.161611618412422\n",
      "8.181230868722878\n",
      "8.20088153495987\n",
      "8.220563642256138\n",
      "8.240277215744424\n",
      "8.260022280557472\n",
      "8.279798861828018\n",
      "8.299606984688808\n",
      "8.31944667427258\n",
      "8.339317955712078\n",
      "8.35922085414004\n",
      "8.37915539468921\n",
      "8.399121602492329\n",
      "8.419119502682134\n",
      "8.439149120391372\n",
      "8.459210480752782\n",
      "8.479303608899105\n",
      "8.499428529963081\n",
      "8.519585269077455\n",
      "8.539773851374964\n",
      "8.559994301988352\n",
      "8.580246646050357\n",
      "8.600530908693724\n",
      "8.620847115051195\n",
      "8.641195290255506\n",
      "8.661575459439401\n",
      "8.681987647735623\n",
      "8.702431880276912\n",
      "8.722908182196008\n",
      "8.743416578625652\n",
      "8.763957094698588\n",
      "8.784529755547554\n",
      "8.805134586305293\n",
      "8.825771612104548\n",
      "8.846440858078056\n",
      "8.867142349358561\n",
      "8.887876111078802\n",
      "8.908642168371523\n",
      "8.929440546369467\n",
      "8.950271270205368\n",
      "8.971134365011974\n",
      "8.992029855922024\n",
      "9.012957768068258\n",
      "9.03391812658342\n",
      "9.054910956600247\n",
      "9.075936283251485\n",
      "9.09699413166987\n",
      "9.118084526988149\n",
      "9.13920749433906\n",
      "9.160363058855344\n",
      "9.181551245669743\n",
      "9.202772079914999\n",
      "9.224025586723851\n",
      "9.24531179122904\n",
      "9.266630718563313\n",
      "9.287982393859403\n",
      "9.309366842250057\n",
      "9.330784088868016\n",
      "9.352234158846016\n",
      "9.373717077316806\n",
      "9.395232869413121\n",
      "9.416781560267705\n",
      "9.438363175013299\n",
      "9.459977738782642\n",
      "9.48162527670848\n",
      "9.503305813923548\n",
      "9.525019375560593\n",
      "9.546765986752352\n",
      "9.56854567263157\n",
      "9.590358458330984\n",
      "9.612204368983338\n",
      "9.634083429721374\n",
      "9.65599566567783\n",
      "9.67794110198545\n",
      "9.699919763776975\n",
      "9.721931676185145\n",
      "9.743976864342702\n",
      "9.766055353382386\n",
      "9.78816716843694\n",
      "9.810312334639105\n",
      "9.832490877121623\n",
      "9.85470282101723\n",
      "9.876948191458673\n",
      "9.899227013578694\n",
      "9.921539312510031\n",
      "9.943885113385422\n",
      "9.966264441337616\n",
      "9.988677321499349\n",
      "10.011123779003364\n",
      "Радиус шара: 1.3369999999999629\n"
     ]
    }
   ],
   "source": [
    "import math\n",
    "\n",
    "volume = float(input(\"Введите объем шара (в кубических единицах): \"))\n",
    "\n",
    "# Начальное приближение для радиуса\n",
    "radius = 1.0\n",
    "# Порог точности\n",
    "epsilon = 0.001\n",
    "approx = 4/3 * math.pi * radius**3\n",
    "\n",
    "while volume - approx > epsilon:\n",
    "    radius += epsilon\n",
    "    approx = 4/3 * math.pi * radius**3\n",
    "    print(approx)\n",
    "\n",
    "print(\"Радиус шара:\", radius)\n",
    "\n",
    "\n"
   ]
  },
  {
   "cell_type": "markdown",
   "id": "a464098b-4a05-4b54-bc98-1a9c52371fcd",
   "metadata": {},
   "source": [
    "10. Вводится вещественное число и нам нужно его округлить до 2 и 3 разряда после запятой и вывести полученный результат через пробел в одной строчке. Воспользуемся функцией round — встроенная функция Python. Ее задача — округлять число с плавающей точкой до той цифры, которую задает пользователь. Функция round помогает «улучшать» числа с плавающей точкой.\r\n"
   ]
  },
  {
   "cell_type": "code",
   "execution_count": 4,
   "id": "97609d39-bdce-43f0-8b85-6143d6c77d15",
   "metadata": {},
   "outputs": [
    {
     "name": "stdin",
     "output_type": "stream",
     "text": [
      "Введите вещественное число:  12.3\n"
     ]
    },
    {
     "name": "stdout",
     "output_type": "stream",
     "text": [
      "12.3\n",
      "12.3\n"
     ]
    }
   ],
   "source": [
    "number = float(input(\"Введите вещественное число: \"))\n",
    "\n",
    "rounded_to_2 = round(number, 2)\n",
    "rounded_to_3 = round(number, 3)\n",
    "\n",
    "print(rounded_to_2)\n",
    "print(rounded_to_3)\n"
   ]
  },
  {
   "cell_type": "markdown",
   "id": "1cbf37f8-c66e-494e-b8fe-7c4155b29947",
   "metadata": {},
   "source": [
    "11. Так как в Python операции с вещественными числами могут давать неожиданные результаты (в частности, 0.1 + 0.2 не будет в точности равняться 0.3), стоит задача с этим как-то справляться. Требуется написать  программу eqv(a, b, c), которая принимает 3 числа. Числа a и b складываются. Затем эта сумма сравнивается с числом “с” с определенной степенью точности. Точность равняется 0.01 % от большего из чисел a и b. Функция вернет True, если выполняется равенство, иначе False.\n"
   ]
  },
  {
   "cell_type": "code",
   "execution_count": null,
   "id": "825854a6-8dfd-4cf6-9513-4c4a10cd6ae6",
   "metadata": {},
   "outputs": [],
   "source": [
    "a = float(input(\"Введите число a: \"))\n",
    "b = float(input(\"Введите число b: \"))\n",
    "c = float(input(\"Введите число c: \"))\n",
    "\n",
    "sum_ab = a + b\n",
    "tolerance = 0.0001 * max(abs(a), abs(b))\n",
    "result = abs(sum_ab - c) <= tolerance\n",
    "\n",
    "print(\"Результат:\", result)\n"
   ]
  },
  {
   "cell_type": "markdown",
   "id": "d7a172ce-1b0b-4d5b-b217-0c945a7a1404",
   "metadata": {},
   "source": [
    "12. Перевод из 10-й CC в 2-ю"
   ]
  },
  {
   "cell_type": "code",
   "execution_count": 5,
   "id": "845930ba-d359-47b3-83aa-68ea9508b513",
   "metadata": {},
   "outputs": [
    {
     "name": "stdin",
     "output_type": "stream",
     "text": [
      "Введите десятичное число:  7\n"
     ]
    },
    {
     "name": "stdout",
     "output_type": "stream",
     "text": [
      "Двоичное представление числа 7 : 111\n"
     ]
    }
   ],
   "source": [
    "decimal_number = int(input(\"Введите десятичное число: \"))\n",
    "\n",
    "binary_number = \"\"\n",
    "number = decimal_number\n",
    "\n",
    "while number > 0:\n",
    "    remainder = number % 2\n",
    "    binary_number = str(remainder) + binary_number\n",
    "    number = number // 2\n",
    "\n",
    "print(\"Двоичное представление числа\", decimal_number,':', binary_number)\n"
   ]
  },
  {
   "cell_type": "markdown",
   "id": "69a5814c-db0c-4bed-a43c-b66cbdc5b1e1",
   "metadata": {},
   "source": [
    "13. Перевод из 2-й CC в 10-ю"
   ]
  },
  {
   "cell_type": "code",
   "execution_count": 6,
   "id": "84670c7b-f3bf-47d3-9075-3242a3ba1f8b",
   "metadata": {},
   "outputs": [
    {
     "name": "stdin",
     "output_type": "stream",
     "text": [
      "Введите двоичное число:  111\n"
     ]
    },
    {
     "name": "stdout",
     "output_type": "stream",
     "text": [
      "Десятичное представление числа: 7\n"
     ]
    }
   ],
   "source": [
    "binary_number = int(input(\"Введите двоичное число: \"))\n",
    "\n",
    "decimal_number = 0\n",
    "power = 0\n",
    "\n",
    "while binary_number > 0:\n",
    "    digit = binary_number % 10\n",
    "    decimal_number += digit * (2 ** power)\n",
    "    binary_number = binary_number // 10\n",
    "    power += 1\n",
    "\n",
    "print(\"Десятичное представление числа:\", decimal_number)\n"
   ]
  },
  {
   "cell_type": "markdown",
   "id": "bb86ff79-2d94-4053-ac19-0ac9769c8f56",
   "metadata": {},
   "source": []
  }
 ],
 "metadata": {
  "kernelspec": {
   "display_name": "Python 3 (ipykernel)",
   "language": "python",
   "name": "python3"
  },
  "language_info": {
   "codemirror_mode": {
    "name": "ipython",
    "version": 3
   },
   "file_extension": ".py",
   "mimetype": "text/x-python",
   "name": "python",
   "nbconvert_exporter": "python",
   "pygments_lexer": "ipython3",
   "version": "3.12.4"
  }
 },
 "nbformat": 4,
 "nbformat_minor": 5
}
