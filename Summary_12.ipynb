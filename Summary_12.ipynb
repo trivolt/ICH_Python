{
 "cells": [
  {
   "cell_type": "markdown",
   "id": "cfc8c65f-4c97-4598-8864-8bdecba3767a",
   "metadata": {},
   "source": [
    "# Summary 12"
   ]
  },
  {
   "cell_type": "markdown",
   "id": "e268cc52-29b1-46ee-9dc2-cc4670365c6b",
   "metadata": {},
   "source": [
    "### Итераторы"
   ]
  },
  {
   "cell_type": "markdown",
   "id": "30b09f19-4990-43a5-b4f9-faf610f77589",
   "metadata": {},
   "source": [
    "Итератор - это объект, который предоставляет последовательный доступ к элементам коллекции или последовательности. "
   ]
  },
  {
   "cell_type": "markdown",
   "id": "33de9045-2f8d-4fd7-b999-07f0b4ae88cd",
   "metadata": {},
   "source": [
    "Итераторы позволяют последовательно обходить элементы коллекции (например, списка, словаря, множества) без необходимости знать внутреннюю структуру этой коллекции. В Python итераторы реализуют два основных методода `__iter__()` и `__next__()`."
   ]
  },
  {
   "cell_type": "markdown",
   "id": "e39ec0a9-7190-4c6d-9386-ad99cee956ea",
   "metadata": {},
   "source": [
    "* `__iter__()`  возвращает сам итератор\n",
    "* `__next__()` возвращает следующий элемент в последовательности\n",
    "  \n",
    "Метод `__next__()` вызывается при каждой итерации, чтобы получить следующий элемент\n"
   ]
  },
  {
   "cell_type": "code",
   "execution_count": null,
   "id": "e0d1db00-c6cb-48f7-8993-93ed05db40cd",
   "metadata": {},
   "outputs": [],
   "source": [
    "lst.__len__()"
   ]
  },
  {
   "cell_type": "code",
   "execution_count": null,
   "id": "0a8d850a-ae6f-49f4-9cf2-a7a15e8c94a2",
   "metadata": {},
   "outputs": [],
   "source": [
    "len(lst)"
   ]
  },
  {
   "cell_type": "code",
   "execution_count": null,
   "id": "462eac02-7128-4f02-b832-86134132a762",
   "metadata": {},
   "outputs": [],
   "source": [
    "lst.__iter__()"
   ]
  },
  {
   "cell_type": "code",
   "execution_count": null,
   "id": "0c13d6e6-c369-45f9-9309-6a31e8e0b107",
   "metadata": {},
   "outputs": [],
   "source": [
    "iter(lst)"
   ]
  },
  {
   "cell_type": "markdown",
   "id": "b1d24f7a-9ab2-4da8-b71b-b04eb65513a1",
   "metadata": {},
   "source": [
    "Python предоставляет встроенные итераторы для многих типов данных, таких как списки, строки, словари и т.д."
   ]
  },
  {
   "cell_type": "code",
   "execution_count": 44,
   "id": "0cc8a7e9-872b-4c46-a104-ca700e7ba543",
   "metadata": {},
   "outputs": [
    {
     "name": "stdout",
     "output_type": "stream",
     "text": [
      "1\n",
      "2\n",
      "3\n",
      "4\n"
     ]
    }
   ],
   "source": [
    "# Итерация по списку\n",
    "my_list = [1, 2, 3, 4]\n",
    "iterator = iter(my_list)  # Получаем итератор\n",
    "print(next(iterator))  # 1\n",
    "print(next(iterator))  # 2\n",
    "print(next(iterator))  # 3\n",
    "print(next(iterator))  # 4\n",
    "# print(next(iterator))  # Вызовет StopIteration, так как элементы закончились"
   ]
  },
  {
   "cell_type": "code",
   "execution_count": 45,
   "id": "10045e0c-21d0-4844-933c-0164b8b7a266",
   "metadata": {},
   "outputs": [
    {
     "ename": "StopIteration",
     "evalue": "",
     "output_type": "error",
     "traceback": [
      "\u001b[1;31m---------------------------------------------------------------------------\u001b[0m",
      "\u001b[1;31mStopIteration\u001b[0m                             Traceback (most recent call last)",
      "Cell \u001b[1;32mIn[45], line 1\u001b[0m\n\u001b[1;32m----> 1\u001b[0m \u001b[38;5;28mprint\u001b[39m(\u001b[38;5;28mnext\u001b[39m(iterator))\n",
      "\u001b[1;31mStopIteration\u001b[0m: "
     ]
    }
   ],
   "source": [
    "print(next(iterator))"
   ]
  },
  {
   "cell_type": "code",
   "execution_count": 46,
   "id": "e3f48940-7ff4-4b2a-9a0c-56633bb84835",
   "metadata": {},
   "outputs": [
    {
     "name": "stdout",
     "output_type": "stream",
     "text": [
      "h\n",
      "e\n",
      "l\n"
     ]
    }
   ],
   "source": [
    "# Итерации по строке\n",
    "my_string = \"hello\"\n",
    "iterator = iter(my_string)\n",
    "print(next(iterator))  # 'h'\n",
    "print(next(iterator))  # 'e'\n",
    "print(next(iterator))  # 'l'"
   ]
  },
  {
   "cell_type": "code",
   "execution_count": 47,
   "id": "9ff7cc74-71f3-4372-ac77-b8374e21900c",
   "metadata": {},
   "outputs": [
    {
     "name": "stdout",
     "output_type": "stream",
     "text": [
      "l\n"
     ]
    }
   ],
   "source": [
    "print(next(iterator))"
   ]
  },
  {
   "cell_type": "code",
   "execution_count": 48,
   "id": "ca925055-01a0-4c94-8e07-3035249dad31",
   "metadata": {},
   "outputs": [
    {
     "name": "stdout",
     "output_type": "stream",
     "text": [
      "o\n"
     ]
    }
   ],
   "source": [
    "print(next(iterator))"
   ]
  },
  {
   "cell_type": "code",
   "execution_count": 49,
   "id": "73b1a88e-2d7e-4c4e-a44b-6e6eaf5edc06",
   "metadata": {},
   "outputs": [
    {
     "ename": "StopIteration",
     "evalue": "",
     "output_type": "error",
     "traceback": [
      "\u001b[1;31m---------------------------------------------------------------------------\u001b[0m",
      "\u001b[1;31mStopIteration\u001b[0m                             Traceback (most recent call last)",
      "Cell \u001b[1;32mIn[49], line 1\u001b[0m\n\u001b[1;32m----> 1\u001b[0m \u001b[38;5;28mprint\u001b[39m(\u001b[38;5;28mnext\u001b[39m(iterator))\n",
      "\u001b[1;31mStopIteration\u001b[0m: "
     ]
    }
   ],
   "source": [
    "print(next(iterator))"
   ]
  },
  {
   "cell_type": "markdown",
   "id": "59c6e9b8-fd2e-4bbc-84a6-afa1aa611621",
   "metadata": {},
   "source": [
    "***Итераторы полезны для работы с большими или бесконечными последовательностями данных, так как они генерируют элементы \"на лету\" и не хранят всю коллекцию в памяти.***"
   ]
  },
  {
   "cell_type": "markdown",
   "id": "a990d44b-9c3a-4f69-80ca-78311be3c5df",
   "metadata": {},
   "source": [
    "Когда использовать итераторы:\n",
    "\n",
    "* Когда нужно работать с большими или бесконечными последовательностями.\n",
    "* Когда вы хотите создать собственный способ обхода данных.\n",
    "* Когда нужно экономить память, избегая хранения всей коллекции в памяти."
   ]
  },
  {
   "cell_type": "code",
   "execution_count": null,
   "id": "50810543-7fdb-4b65-8135-9245fe7a76e6",
   "metadata": {},
   "outputs": [],
   "source": []
  },
  {
   "cell_type": "markdown",
   "id": "957fc1d0-ec52-4d5c-aa2f-bf1d7f8cfbbe",
   "metadata": {},
   "source": [
    "### Как на самом деле работает цикл for:"
   ]
  },
  {
   "cell_type": "markdown",
   "id": "e36c9cae-4aba-4ef7-a2f5-57c859aae04e",
   "metadata": {},
   "source": [
    "Цикл for в Python основан на использовании итераторов. Когда цикл for выполняется, он вызывает метод iter() для получения итератора от итерируемого объекта, а затем повторяет вызов метода `__next__()` для получения следующего элемента до тех пор, пока итератор не исчерпается.\n"
   ]
  },
  {
   "cell_type": "code",
   "execution_count": 50,
   "id": "bee2ffff-0ba1-4661-a1ad-1435b5dd0519",
   "metadata": {},
   "outputs": [
    {
     "name": "stdout",
     "output_type": "stream",
     "text": [
      "1\n",
      "2\n",
      "3\n"
     ]
    }
   ],
   "source": [
    "my_list = [1, 2, 3]\n",
    "for item in my_list:\n",
    "    print(item)\n"
   ]
  },
  {
   "cell_type": "markdown",
   "id": "6ec0384c-c9d8-4698-a796-df766fad34f6",
   "metadata": {},
   "source": [
    "Реализация \"ручками\" цикл for"
   ]
  },
  {
   "cell_type": "code",
   "execution_count": 51,
   "id": "f0f31b17-aa75-4201-a605-f7d2a9f84573",
   "metadata": {},
   "outputs": [
    {
     "name": "stdout",
     "output_type": "stream",
     "text": [
      "1\n",
      "2\n",
      "3\n"
     ]
    }
   ],
   "source": [
    "iterator = iter(my_list)\n",
    "while True:\n",
    "    try:\n",
    "        print(next(iterator))\n",
    "    except StopIteration:\n",
    "        break"
   ]
  },
  {
   "cell_type": "markdown",
   "id": "39790a37-26c6-4744-ba6b-74c558d23dce",
   "metadata": {},
   "source": [
    "Так что даже казалось бы знакомый нам цикл for работает через итераторы (потому и принимает на вход iterable). Но, мегакруто, что можем определить методы `__iter__` и `__next__` у чего угодно, и потом можно проходить по нему for.\n"
   ]
  },
  {
   "cell_type": "code",
   "execution_count": null,
   "id": "a7e72c08-479f-4906-89d7-ac687eb77345",
   "metadata": {},
   "outputs": [],
   "source": [
    "# Вспомним OrderedDict"
   ]
  },
  {
   "cell_type": "markdown",
   "id": "133d3cc9-4e89-4c33-8219-b5a13eaab17f",
   "metadata": {},
   "source": [
    "### Как в словаре вывести первую пару с помощью итератора?"
   ]
  },
  {
   "cell_type": "code",
   "execution_count": 52,
   "id": "e53e7c01-906f-4ca3-aee4-fd7aaeddfc3b",
   "metadata": {},
   "outputs": [
    {
     "name": "stdout",
     "output_type": "stream",
     "text": [
      "('a', 1)\n"
     ]
    }
   ],
   "source": [
    "my_dict = {'a': 1, 'b': 2, 'c': 3}\n",
    "\n",
    "# Получаем итератор для словаря\n",
    "dict_iterator = iter(my_dict.items())\n",
    "\n",
    "# Получаем первую пару ключ-значение\n",
    "first_pair = next(dict_iterator)\n",
    "\n",
    "# Выводим первую пару\n",
    "print(first_pair)\n"
   ]
  },
  {
   "cell_type": "code",
   "execution_count": 53,
   "id": "1f56379a-4acd-4238-882e-7e4ac79aeab7",
   "metadata": {},
   "outputs": [
    {
     "name": "stdout",
     "output_type": "stream",
     "text": [
      "{'b': 2, 'c': 3}\n"
     ]
    }
   ],
   "source": [
    "my_dict.pop('a')\n",
    "print(my_dict)"
   ]
  },
  {
   "cell_type": "markdown",
   "id": "fddb15b0-2d32-4d76-bede-b3a4ef193921",
   "metadata": {},
   "source": [
    "### Генераторы"
   ]
  },
  {
   "cell_type": "markdown",
   "id": "193dfd4c-750c-45b3-87a0-3a348021ce7c",
   "metadata": {},
   "source": [
    "это функции, которые возвращают последовательность значений, сохраняя при этом свое состояние между вызовами"
   ]
  },
  {
   "cell_type": "markdown",
   "id": "cd433c08-ef4d-468b-8f0a-918c5e22bdb7",
   "metadata": {},
   "source": [
    "Пример: Генератор, который возвращает числа от 0 до N:"
   ]
  },
  {
   "cell_type": "code",
   "execution_count": 54,
   "id": "253627aa-4c35-4892-9f63-c48cb7ce61de",
   "metadata": {},
   "outputs": [
    {
     "name": "stdout",
     "output_type": "stream",
     "text": [
      "0\n",
      "1\n",
      "2\n",
      "3\n",
      "4\n"
     ]
    }
   ],
   "source": [
    "def simple_generator(n):\n",
    "    for i in range(n):\n",
    "        yield i  # Приостанавливает выполнение и возвращает значение\n",
    "\n",
    "# Использование генератора\n",
    "gen = simple_generator(5)\n",
    "for value in gen:\n",
    "    print(value)"
   ]
  },
  {
   "cell_type": "code",
   "execution_count": 55,
   "id": "721d3fb9-424d-48b5-916b-98bab7a0cd03",
   "metadata": {},
   "outputs": [
    {
     "name": "stdout",
     "output_type": "stream",
     "text": [
      "0\n",
      "1\n",
      "2\n"
     ]
    }
   ],
   "source": [
    "# Пример: Бесконечный генератор\n",
    "def infinite_generator():\n",
    "    num = 0\n",
    "    while True:\n",
    "        yield num\n",
    "        num += 1\n",
    "\n",
    "# Использование генератора\n",
    "gen = infinite_generator()\n",
    "print(next(gen))  # 0\n",
    "print(next(gen))  # 1\n",
    "print(next(gen))  # 2\n",
    "# И так далее..."
   ]
  },
  {
   "cell_type": "code",
   "execution_count": 56,
   "id": "b43b2ac7-2361-4dc2-84a9-6e84d819c4a0",
   "metadata": {},
   "outputs": [
    {
     "name": "stdout",
     "output_type": "stream",
     "text": [
      "3\n"
     ]
    }
   ],
   "source": [
    "print(next(gen))"
   ]
  },
  {
   "cell_type": "code",
   "execution_count": 67,
   "id": "24f34f37-8916-4666-b52f-0a79a0ad7c91",
   "metadata": {},
   "outputs": [
    {
     "name": "stdout",
     "output_type": "stream",
     "text": [
      "14\n"
     ]
    }
   ],
   "source": [
    "print(next(gen))"
   ]
  },
  {
   "cell_type": "code",
   "execution_count": null,
   "id": "bff1ff22-634e-4cb9-bd44-1efbeefba71d",
   "metadata": {},
   "outputs": [],
   "source": []
  },
  {
   "cell_type": "markdown",
   "id": "94fef3f4-0435-4fc2-9729-15a9ae9d1593",
   "metadata": {},
   "source": [
    "***yield*** это ключевое слово, которое используется в генераторах для определения значений, которые будут возвращены при каждом вызове метода `__next__()`.\n"
   ]
  },
  {
   "cell_type": "code",
   "execution_count": 68,
   "id": "5bc5ecd3-c321-482b-804a-dd5a330b9403",
   "metadata": {},
   "outputs": [
    {
     "name": "stdout",
     "output_type": "stream",
     "text": [
      "1\n",
      "2\n",
      "3\n"
     ]
    }
   ],
   "source": [
    "def my_generator():\n",
    "    yield 1\n",
    "    yield 2\n",
    "    yield 3\n",
    "\n",
    "gen = my_generator()\n",
    "print(next(gen))  # Выводит 1\n",
    "print(next(gen))  # Выводит 2\n",
    "print(next(gen))  # Выводит 3\n"
   ]
  },
  {
   "cell_type": "code",
   "execution_count": 69,
   "id": "b6e258de-adaa-426e-b371-ca205cd5dfaf",
   "metadata": {},
   "outputs": [
    {
     "ename": "StopIteration",
     "evalue": "",
     "output_type": "error",
     "traceback": [
      "\u001b[1;31m---------------------------------------------------------------------------\u001b[0m",
      "\u001b[1;31mStopIteration\u001b[0m                             Traceback (most recent call last)",
      "Cell \u001b[1;32mIn[69], line 1\u001b[0m\n\u001b[1;32m----> 1\u001b[0m \u001b[38;5;28mprint\u001b[39m(\u001b[38;5;28mnext\u001b[39m(gen))\n",
      "\u001b[1;31mStopIteration\u001b[0m: "
     ]
    }
   ],
   "source": [
    "print(next(gen))"
   ]
  },
  {
   "cell_type": "code",
   "execution_count": 70,
   "id": "3c05fc0f-d6cf-475f-bd3b-004da0e82869",
   "metadata": {},
   "outputs": [
    {
     "name": "stdout",
     "output_type": "stream",
     "text": [
      "1\n",
      "2\n",
      "Generator returned: Стоп\n"
     ]
    }
   ],
   "source": [
    "def generator_with_return():\n",
    "    yield 1\n",
    "    yield 2\n",
    "    return \"Стоп\"  # Завершает генератор и возвращает значение\n",
    "\n",
    "gen = generator_with_return()\n",
    "print(next(gen))  # 1\n",
    "print(next(gen))  # 2\n",
    "try:\n",
    "    print(next(gen))  # Вызовет StopIteration\n",
    "except StopIteration as e:\n",
    "    print(f\"Generator returned: {e.value}\")  # Возвращает: Стоп"
   ]
  },
  {
   "cell_type": "code",
   "execution_count": null,
   "id": "9162255f-1366-43d7-98c3-a4c73f61d68d",
   "metadata": {},
   "outputs": [],
   "source": []
  },
  {
   "cell_type": "markdown",
   "id": "7bc61478-0366-412a-8ddc-0fbec68a5cdc",
   "metadata": {},
   "source": [
    "### Генераторные выражения\n"
   ]
  },
  {
   "cell_type": "markdown",
   "id": "d2b96e76-3693-43be-ad15-8215cf4a2fbf",
   "metadata": {},
   "source": [
    " Генераторные выражения по аналогии со списковыми включениями:\n",
    " \n",
    "Генераторные выражения - это компактный способ создания генераторов в Python, используя синтаксис списковых включений. Они позволяют создавать генераторы без явного определения функции с ключевым словом yield.\n",
    "\n"
   ]
  },
  {
   "cell_type": "code",
   "execution_count": 71,
   "id": "8742dc71-2dc3-4393-9193-46b92ee0b32b",
   "metadata": {},
   "outputs": [
    {
     "name": "stdout",
     "output_type": "stream",
     "text": [
      "0\n",
      "1\n",
      "2\n",
      "3\n",
      "4\n",
      "5\n",
      "6\n",
      "7\n",
      "8\n",
      "9\n"
     ]
    }
   ],
   "source": [
    "my_generator = (x for x in range(10))\n",
    "for item in my_generator:\n",
    "    print(item)"
   ]
  },
  {
   "cell_type": "markdown",
   "id": "7dc3b6de-452f-417a-95bb-949425b2ac04",
   "metadata": {},
   "source": [
    "🤓Плюс перед list comprehensions: генераторные выражения не записывают все элементы в память! Соответственно, если мы только итерируемся по какому-то list comprehension, подумайте, а не заменить ли его на генераторное выражение?"
   ]
  },
  {
   "cell_type": "code",
   "execution_count": null,
   "id": "7fa9ef0d-0f05-47c4-b0b6-a49ccd1e9415",
   "metadata": {},
   "outputs": [],
   "source": [
    "[x for x in range(10)] #list comprehantion (списковые включения)"
   ]
  },
  {
   "cell_type": "code",
   "execution_count": null,
   "id": "d44364a0-45dc-4e8f-a851-78b1e07df242",
   "metadata": {},
   "outputs": [],
   "source": [
    "# ПРИМЕР: Перед нами задача: на сервере есть огромный журнал событий log.txt, в котором хранятся сведения о работе какой-то системы за год.\n",
    "#Из него нужно выбрать и обработать для статистики данные об ошибках — строки, содержащие слово error."
   ]
  },
  {
   "cell_type": "code",
   "execution_count": null,
   "id": "305ea548-2e19-455d-b38d-6d9de2b6758d",
   "metadata": {},
   "outputs": [],
   "source": [
    "#Такие строки можно выбрать и сохранить в памяти с помощью списка:\n",
    "with open(path + \"\\log.txt\", \"r\") as log_file:\n",
    "     err_list = [st for st in log_file if \"error\" in st]"
   ]
  },
  {
   "cell_type": "markdown",
   "id": "2af4aee3-f984-43b3-94b4-d5d807bfff85",
   "metadata": {},
   "source": [
    "В списке err_list содержатся все строки со словом error, они записаны в память компьютера. Теперь их можно обработать в цикле. Недостаток метода в том, что, если таких строк будет слишком много, они переполнят память и вызовут ошибку MemoryError.\n",
    "\n",
    "Переполнения памяти можно избежать, если организовать поточную обработку данных с использованием объекта-генератора. Мы создадим его с помощью генераторного выражения (оно отличается от генератора списка только круглыми скобками)."
   ]
  },
  {
   "cell_type": "code",
   "execution_count": null,
   "id": "e5c10da0-6ba1-42c6-9317-782646c748c6",
   "metadata": {},
   "outputs": [],
   "source": [
    "with open(\"path\\log.txt\", \"r\") as log_file:\n",
    "     err_gen = (st for st in log_file if \"error\" in st)\n",
    "     for item in err_gen:\n",
    "         #<обработка строки item>\n",
    "         #print(item)"
   ]
  },
  {
   "cell_type": "code",
   "execution_count": null,
   "id": "63674720-8b3a-4ce6-9c1e-2691375752d0",
   "metadata": {},
   "outputs": [],
   "source": []
  },
  {
   "cell_type": "code",
   "execution_count": 72,
   "id": "08da35fc-d1bf-4d34-8d4c-210cfb098dd9",
   "metadata": {},
   "outputs": [
    {
     "name": "stdin",
     "output_type": "stream",
     "text": [
      " SFGBoknfgbSDFGjndafijnaDFGadfg\n"
     ]
    }
   ],
   "source": [
    "lst = [char for char in input() if char.islower()]"
   ]
  },
  {
   "cell_type": "code",
   "execution_count": 73,
   "id": "90cabe21-a8c1-43aa-8b16-562f42d5b63a",
   "metadata": {},
   "outputs": [
    {
     "data": {
      "text/plain": [
       "['o',\n",
       " 'k',\n",
       " 'n',\n",
       " 'f',\n",
       " 'g',\n",
       " 'b',\n",
       " 'j',\n",
       " 'n',\n",
       " 'd',\n",
       " 'a',\n",
       " 'f',\n",
       " 'i',\n",
       " 'j',\n",
       " 'n',\n",
       " 'a',\n",
       " 'a',\n",
       " 'd',\n",
       " 'f',\n",
       " 'g']"
      ]
     },
     "execution_count": 73,
     "metadata": {},
     "output_type": "execute_result"
    }
   ],
   "source": [
    "lst"
   ]
  },
  {
   "cell_type": "code",
   "execution_count": 74,
   "id": "579bea1a-85a4-4139-86e1-d028f70233b4",
   "metadata": {},
   "outputs": [
    {
     "name": "stdin",
     "output_type": "stream",
     "text": [
      " SFGBoknfgbSDFGjndafijnaDFGadfg\n"
     ]
    }
   ],
   "source": [
    "lst_gen = (char for char in input() if char.islower())"
   ]
  },
  {
   "cell_type": "code",
   "execution_count": 75,
   "id": "56d9194a-4a00-4559-b60f-16f52be86ced",
   "metadata": {},
   "outputs": [
    {
     "name": "stdout",
     "output_type": "stream",
     "text": [
      "<generator object <genexpr> at 0x0000023344271A40>\n"
     ]
    }
   ],
   "source": [
    "print(lst_gen)"
   ]
  },
  {
   "cell_type": "code",
   "execution_count": 95,
   "id": "3f2bb00a-e7cc-4853-93c5-04354baad99f",
   "metadata": {},
   "outputs": [
    {
     "ename": "StopIteration",
     "evalue": "",
     "output_type": "error",
     "traceback": [
      "\u001b[1;31m---------------------------------------------------------------------------\u001b[0m",
      "\u001b[1;31mStopIteration\u001b[0m                             Traceback (most recent call last)",
      "Cell \u001b[1;32mIn[95], line 1\u001b[0m\n\u001b[1;32m----> 1\u001b[0m \u001b[38;5;28mprint\u001b[39m(\u001b[38;5;28mnext\u001b[39m(lst_gen))\n",
      "\u001b[1;31mStopIteration\u001b[0m: "
     ]
    }
   ],
   "source": [
    "print(next(lst_gen))"
   ]
  },
  {
   "cell_type": "code",
   "execution_count": null,
   "id": "61c50716-b97e-4a7b-b76d-90a7b5439a9d",
   "metadata": {},
   "outputs": [],
   "source": []
  },
  {
   "cell_type": "code",
   "execution_count": null,
   "id": "d3a5bcd5-562f-45f7-87f2-eef973cd418e",
   "metadata": {},
   "outputs": [],
   "source": []
  },
  {
   "cell_type": "markdown",
   "id": "65341653-4099-477b-a5c7-1bdc8ffe19db",
   "metadata": {},
   "source": [
    "Этот метод не вызывает переполнения, так как в каждый момент времени в памяти находится только одна строка. При этом нужный для работы объём памяти не зависит от размера файла и количества строк, удовлетворяющих условию."
   ]
  },
  {
   "cell_type": "code",
   "execution_count": null,
   "id": "d0d17030-6de2-46b3-b480-8196e530cbf1",
   "metadata": {},
   "outputs": [],
   "source": []
  },
  {
   "cell_type": "markdown",
   "id": "a83ae813-6655-4287-bc84-068d342c05b1",
   "metadata": {},
   "source": [
    "В Python итерируемый объект (iterable) — это любой объект, который можно использовать в цикле for, но он не обязательно является итератором. Итерируемый объект должен реализовать метод `__iter__()`, который возвращает итератор. Сам итерируемый объект не имеет метода `__next__()`, поэтому он не может самостоятельно перебирать элементы.\n",
    "\n",
    "Пример итерируемого объекта, который не является итератором:"
   ]
  },
  {
   "cell_type": "markdown",
   "id": "60f8ab61-6039-47bd-9cb4-f540275e2786",
   "metadata": {},
   "source": [
    "Список — это классический пример итерируемого объекта, который не является итератором. У списка есть метод `__iter__()`, который возвращает итератор, но сам список не имеет метода `__next__()`."
   ]
  },
  {
   "cell_type": "code",
   "execution_count": null,
   "id": "c007eda2-9c03-4766-a9a2-6b883b46b0d7",
   "metadata": {},
   "outputs": [],
   "source": [
    "my_list = [1, 2, 3, 4]\n",
    "\n",
    "# Проверяем, что список является итерируемым объектом\n",
    "print(hasattr(my_list, '__iter__'))  # True\n",
    "\n",
    "# Проверяем, что список не является итератором\n",
    "print(hasattr(my_list, '__next__'))  # False\n",
    "\n",
    "# Получаем итератор из списка\n",
    "iterator = iter(my_list)\n",
    "print(next(iterator))  # 1\n",
    "print(next(iterator))  # 2"
   ]
  },
  {
   "cell_type": "code",
   "execution_count": null,
   "id": "bb64853d-2e28-48ce-a5f5-93ad7bab2366",
   "metadata": {},
   "outputs": [],
   "source": [
    "my_string = \"hello\"\n",
    "print(hasattr(my_string, '__iter__'))  # True\n",
    "print(hasattr(my_string, '__next__'))  # False"
   ]
  },
  {
   "cell_type": "code",
   "execution_count": 97,
   "id": "a03220d4-e9ca-4abf-911a-01792a3e1b9c",
   "metadata": {},
   "outputs": [
    {
     "name": "stdout",
     "output_type": "stream",
     "text": [
      "h\n"
     ]
    }
   ],
   "source": [
    "itr = iter(my_string)\n",
    "print(next(itr))"
   ]
  },
  {
   "cell_type": "markdown",
   "id": "411ac1fd-056d-4d72-84d0-fbcf4d659a99",
   "metadata": {},
   "source": [
    "### Отличия итератора, генератора и итерируемого объекта:\n",
    "- Итератор - это объект, который реализует методы `__iter__()` и `__next__()`, позволяющие последовательно обходить элементы.\n",
    "- Генератор - это функция, которая использует ключевое слово yield для возврата значений, сохраняя при этом свое состояние между вызовами.\n",
    "- Итерируемый объект - это объект, который может быть использован в цикле for. Он возвращает итератор при вызове функции iter().\n"
   ]
  },
  {
   "cell_type": "markdown",
   "id": "6b996f1b-319e-4cef-81ef-83b26c870a70",
   "metadata": {},
   "source": [
    "### Модуль itertools"
   ]
  },
  {
   "cell_type": "markdown",
   "id": "d23e8d62-9c34-481a-bf09-f5144b16b501",
   "metadata": {},
   "source": [
    "Модуль itertools предоставляет набор функций для работы с итерируемыми объектами. Одна из полезных функций - islice, которая позволяет создавать итераторы, представляющие собой срезы исходного итерируемого объекта.\n"
   ]
  },
  {
   "cell_type": "code",
   "execution_count": 98,
   "id": "f8b6ff00-4a0c-49fc-83a0-c1efcf1e9ca0",
   "metadata": {},
   "outputs": [
    {
     "name": "stdout",
     "output_type": "stream",
     "text": [
      "2\n",
      "3\n",
      "4\n"
     ]
    }
   ],
   "source": [
    "import itertools\n",
    "\n",
    "my_list = [1, 2, 3, 4, 5]\n",
    "my_iterator = itertools.islice(my_list, 1, 4)\n",
    "for item in my_iterator:\n",
    "    print(item)  # Выводит 2, 3, 4\n"
   ]
  },
  {
   "cell_type": "code",
   "execution_count": null,
   "id": "9cca12da-cf7e-4e31-9a69-5694c99a397c",
   "metadata": {},
   "outputs": [],
   "source": []
  },
  {
   "cell_type": "code",
   "execution_count": 99,
   "id": "7fc38018-1fe5-44de-ab04-bf8c6fbd41ab",
   "metadata": {},
   "outputs": [
    {
     "name": "stdout",
     "output_type": "stream",
     "text": [
      "red s\n",
      "red m\n",
      "red l\n",
      "green s\n",
      "green m\n",
      "green l\n",
      "blue s\n",
      "blue m\n",
      "blue l\n"
     ]
    }
   ],
   "source": [
    "import itertools\n",
    "colors = ['red', 'green', 'blue']\n",
    "sizes = ['s','m','l']\n",
    "for color, size in itertools.product(colors,sizes):\n",
    "   print(color,size)"
   ]
  },
  {
   "cell_type": "code",
   "execution_count": 100,
   "id": "87728cc7-d725-47e7-843a-0b916494e10f",
   "metadata": {},
   "outputs": [
    {
     "name": "stdout",
     "output_type": "stream",
     "text": [
      "(1, 2, 3)\n",
      "(1, 3, 2)\n",
      "(2, 1, 3)\n",
      "(2, 3, 1)\n",
      "(3, 1, 2)\n",
      "(3, 2, 1)\n"
     ]
    }
   ],
   "source": [
    "lst = [1,2,3]\n",
    "for item in itertools.permutations(lst):\n",
    "    print(item)"
   ]
  },
  {
   "cell_type": "code",
   "execution_count": null,
   "id": "3518e951-5b3e-4208-a6da-2d7a4f701f44",
   "metadata": {},
   "outputs": [],
   "source": []
  },
  {
   "cell_type": "markdown",
   "id": "41c3799c-da14-4900-a441-04c20b159068",
   "metadata": {},
   "source": [
    "## Генераторы"
   ]
  },
  {
   "cell_type": "markdown",
   "id": "7013190a-0100-448d-9861-1b074b552ea7",
   "metadata": {},
   "source": [
    "### Использование throw и close в генераторах. Исключение GeneratorExit"
   ]
  },
  {
   "cell_type": "markdown",
   "id": "7e124698-2e66-464a-8366-0b777e5fc664",
   "metadata": {},
   "source": [
    "Генераторы могут использовать методы throw и close для взаимодействия с внешним кодом. Метод throw позволяет вызвать исключение внутри генератора, а метод close приводит к завершению генератора, вызывая исключение GeneratorExit. Это может быть полезным для корректной очистки ресурсов или для управления выполнением генератора."
   ]
  },
  {
   "cell_type": "code",
   "execution_count": null,
   "id": "cb4f4443-35b7-4f69-a445-a977f4896aaf",
   "metadata": {},
   "outputs": [],
   "source": []
  },
  {
   "cell_type": "markdown",
   "id": "df7dc87b-d4da-4691-b1c5-5e7b7a15e31e",
   "metadata": {},
   "source": [
    "Пример 1: Использование метода throw\n",
    "\n",
    "Метод throw позволяет выбросить исключение в генератор. Генератор может перехватить это исключение и обработать его."
   ]
  },
  {
   "cell_type": "code",
   "execution_count": 102,
   "id": "04321fcd-c240-4e5b-b439-cd9c634f8482",
   "metadata": {},
   "outputs": [
    {
     "name": "stdout",
     "output_type": "stream",
     "text": [
      "Генератор начал работу\n",
      "1\n",
      "Перехвачено исключение: Ошибка!\n",
      "Генератор завершил работу\n"
     ]
    },
    {
     "ename": "StopIteration",
     "evalue": "",
     "output_type": "error",
     "traceback": [
      "\u001b[1;31m---------------------------------------------------------------------------\u001b[0m",
      "\u001b[1;31mStopIteration\u001b[0m                             Traceback (most recent call last)",
      "Cell \u001b[1;32mIn[102], line 19\u001b[0m\n\u001b[0;32m     16\u001b[0m \u001b[38;5;28mprint\u001b[39m(\u001b[38;5;28mnext\u001b[39m(gen))  \u001b[38;5;66;03m# Выводит: Генератор начал работу и 1\u001b[39;00m\n\u001b[0;32m     18\u001b[0m \u001b[38;5;66;03m# Выбрасываем исключение в генератор\u001b[39;00m\n\u001b[1;32m---> 19\u001b[0m gen\u001b[38;5;241m.\u001b[39mthrow(\u001b[38;5;167;01mValueError\u001b[39;00m(\u001b[38;5;124m\"\u001b[39m\u001b[38;5;124mОшибка!\u001b[39m\u001b[38;5;124m\"\u001b[39m))\n",
      "\u001b[1;31mStopIteration\u001b[0m: "
     ]
    }
   ],
   "source": [
    "def throw_example():\n",
    "    print(\"Генератор начал работу\")\n",
    "    try:\n",
    "        yield 1\n",
    "        yield 2\n",
    "        yield 3\n",
    "    except ValueError as e:\n",
    "        print(f\"Перехвачено исключение: {e}\")\n",
    "    finally:\n",
    "        print(\"Генератор завершил работу\")\n",
    "\n",
    "# Создаем генератор\n",
    "gen = throw_example()\n",
    "\n",
    "# Получаем первое значение\n",
    "print(next(gen))  # Выводит: Генератор начал работу и 1\n",
    "\n",
    "# Выбрасываем исключение в генератор\n",
    "gen.throw(ValueError(\"Ошибка!\"))  # Выводит: Перехвачено исключение: Ошибка! и Генератор завершил работу\n"
   ]
  },
  {
   "cell_type": "code",
   "execution_count": 103,
   "id": "76c176a0-65e1-4836-a4f3-ffe33fb65ec6",
   "metadata": {},
   "outputs": [
    {
     "name": "stdout",
     "output_type": "stream",
     "text": [
      "Генератор начал работу\n",
      "1\n"
     ]
    }
   ],
   "source": [
    "def throw_example():\n",
    "    print(\"Генератор начал работу\")\n",
    "    try:\n",
    "        yield 1\n",
    "        yield 2\n",
    "        yield 3\n",
    "    except ValueError as e:\n",
    "        print(f\"Перехвачено исключение: {e}\")\n",
    "    finally:\n",
    "        print(\"Генератор завершил работу\")\n",
    "\n",
    "# Создаем генератор\n",
    "gen = throw_example()\n",
    "\n",
    "# Получаем первое значение\n",
    "print(next(gen))  # Выводит: Генератор начал работу и 1\n",
    "\n",
    "# Выбрасываем исключение в генератор\n",
    "#gen.throw(ValueError(\"Ошибка!\"))  # Выводит: Перехвачено исключение: Ошибка! и Генератор завершил работу"
   ]
  },
  {
   "cell_type": "code",
   "execution_count": 104,
   "id": "80c068e9-87d6-43e2-9993-52ed3e6c4c90",
   "metadata": {},
   "outputs": [
    {
     "name": "stdout",
     "output_type": "stream",
     "text": [
      "2\n"
     ]
    }
   ],
   "source": [
    "print(next(gen))"
   ]
  },
  {
   "cell_type": "code",
   "execution_count": 105,
   "id": "686d93ff-749a-4ee8-a33f-d0f60815c1ff",
   "metadata": {},
   "outputs": [
    {
     "name": "stdout",
     "output_type": "stream",
     "text": [
      "3\n"
     ]
    }
   ],
   "source": [
    "print(next(gen))"
   ]
  },
  {
   "cell_type": "code",
   "execution_count": 106,
   "id": "b66997e4-f171-49c1-be35-72f1e57d0a2e",
   "metadata": {},
   "outputs": [
    {
     "name": "stdout",
     "output_type": "stream",
     "text": [
      "Генератор завершил работу\n"
     ]
    },
    {
     "ename": "StopIteration",
     "evalue": "",
     "output_type": "error",
     "traceback": [
      "\u001b[1;31m---------------------------------------------------------------------------\u001b[0m",
      "\u001b[1;31mStopIteration\u001b[0m                             Traceback (most recent call last)",
      "Cell \u001b[1;32mIn[106], line 1\u001b[0m\n\u001b[1;32m----> 1\u001b[0m \u001b[38;5;28mprint\u001b[39m(\u001b[38;5;28mnext\u001b[39m(gen))\n",
      "\u001b[1;31mStopIteration\u001b[0m: "
     ]
    }
   ],
   "source": [
    "print(next(gen))"
   ]
  },
  {
   "cell_type": "markdown",
   "id": "e73149d5-45b3-4caa-ad41-696f42824554",
   "metadata": {},
   "source": [
    "Пример 2: Использование метода close\n",
    "\n",
    "Метод close позволяет завершить работу генератора. Генератор может выполнить очистку или другие завершающие действия в блоке finally."
   ]
  },
  {
   "cell_type": "code",
   "execution_count": 107,
   "id": "6ecd7615-7d2b-4f14-8b4b-4021ef3d1947",
   "metadata": {},
   "outputs": [
    {
     "name": "stdout",
     "output_type": "stream",
     "text": [
      "Генератор начал работу\n",
      "1\n",
      "Генератор завершил работу\n"
     ]
    },
    {
     "ename": "StopIteration",
     "evalue": "",
     "output_type": "error",
     "traceback": [
      "\u001b[1;31m---------------------------------------------------------------------------\u001b[0m",
      "\u001b[1;31mStopIteration\u001b[0m                             Traceback (most recent call last)",
      "Cell \u001b[1;32mIn[107], line 20\u001b[0m\n\u001b[0;32m     17\u001b[0m gen\u001b[38;5;241m.\u001b[39mclose()  \u001b[38;5;66;03m# Выводит: Генератор завершил работу\u001b[39;00m\n\u001b[0;32m     19\u001b[0m \u001b[38;5;66;03m# Пытаемся получить следующее значение\u001b[39;00m\n\u001b[1;32m---> 20\u001b[0m \u001b[38;5;28mprint\u001b[39m(\u001b[38;5;28mnext\u001b[39m(gen))\n",
      "\u001b[1;31mStopIteration\u001b[0m: "
     ]
    }
   ],
   "source": [
    "def close_example():\n",
    "    print(\"Генератор начал работу\")\n",
    "    try:\n",
    "        yield 1\n",
    "        yield 2\n",
    "        yield 3\n",
    "    finally:\n",
    "        print(\"Генератор завершил работу\")\n",
    "\n",
    "# Создаем генератор\n",
    "gen = close_example()\n",
    "\n",
    "# Получаем первое значение\n",
    "print(next(gen))  # Выводит: Генератор начал работу и 1\n",
    "\n",
    "# Закрываем генератор\n",
    "gen.close()  # Выводит: Генератор завершил работу\n",
    "\n",
    "# Пытаемся получить следующее значение\n",
    "print(next(gen))  # Выбрасывает StopIteration\n"
   ]
  },
  {
   "cell_type": "code",
   "execution_count": 108,
   "id": "95002b8d-0178-4a54-a8ea-4e1d34a4ad4c",
   "metadata": {},
   "outputs": [
    {
     "name": "stdout",
     "output_type": "stream",
     "text": [
      "Генератор начал работу\n",
      "1\n",
      "Генератор завершил работу\n"
     ]
    }
   ],
   "source": [
    "def close_example():\n",
    "    print(\"Генератор начал работу\")\n",
    "    try:\n",
    "        yield 1\n",
    "        yield 2\n",
    "        yield 3\n",
    "    finally:\n",
    "        print(\"Генератор завершил работу\")\n",
    "\n",
    "# Создаем генератор\n",
    "gen = close_example()\n",
    "\n",
    "# Получаем первое значение\n",
    "print(next(gen))  # Выводит: Генератор начал работу и 1\n",
    "\n",
    "# Закрываем генератор\n",
    "gen.close()  # Выводит: Генератор завершил работу\n",
    "\n",
    "# Пытаемся получить следующее значение\n",
    "#print(next(gen))  # Выбрасывает StopIteration"
   ]
  },
  {
   "cell_type": "code",
   "execution_count": null,
   "id": "f419cfa2-4621-4327-8331-4bd385880943",
   "metadata": {},
   "outputs": [],
   "source": []
  },
  {
   "cell_type": "markdown",
   "id": "d0958382-d066-40e4-be75-16b46394a9dd",
   "metadata": {},
   "source": [
    "### Генератор с бесконечным циклом внутри:\n",
    "Генераторы могут иметь бесконечные циклы внутри, что позволяет создавать последовательности, которые не имеют конечного количества элементов. Например, генератор может генерировать бесконечную последовательность чисел Фибоначчи или бесконечный поток данных."
   ]
  },
  {
   "cell_type": "code",
   "execution_count": 109,
   "id": "8ca02cbc-b70a-4209-94f3-f9bd50008e7b",
   "metadata": {},
   "outputs": [
    {
     "name": "stdout",
     "output_type": "stream",
     "text": [
      "0\n",
      "1\n",
      "2\n",
      "3\n",
      "4\n"
     ]
    }
   ],
   "source": [
    "def infinite_generator():\n",
    "    value = 0\n",
    "    while True:\n",
    "        yield value\n",
    "        value += 1\n",
    "\n",
    "# Создаем генератор\n",
    "gen = infinite_generator()\n",
    "\n",
    "# Получаем первые несколько значений\n",
    "for _ in range(5):\n",
    "    print(next(gen))\n"
   ]
  },
  {
   "cell_type": "markdown",
   "id": "3b4e86fe-d19f-4e55-8130-c94dca232af5",
   "metadata": {},
   "source": [
    "### Передача значений в генератор. Инструкции next и send:\n",
    "Значения можно передавать в генератор с помощью инструкций next и send.\n",
    "* Метод send возвращает следующее значение из генератора и одновременно передает значение внутрь генератора.\n",
    "* Метод next также возвращает следующее значение, но не принимает никаких аргументов.\n"
   ]
  },
  {
   "cell_type": "code",
   "execution_count": 110,
   "id": "c41c434e-7226-4901-afb8-a72db826e062",
   "metadata": {},
   "outputs": [],
   "source": [
    "def my_generator():\n",
    "    received_value = yield 1\n",
    "    yield received_value + 1\n",
    "\n",
    "gen = my_generator()"
   ]
  },
  {
   "cell_type": "code",
   "execution_count": 111,
   "id": "96a70dec-4afe-41f2-82b4-d2970996a06e",
   "metadata": {},
   "outputs": [
    {
     "name": "stdout",
     "output_type": "stream",
     "text": [
      "1\n",
      "11\n"
     ]
    }
   ],
   "source": [
    "print(next(gen))\n",
    "print(gen.send(10))"
   ]
  },
  {
   "cell_type": "code",
   "execution_count": null,
   "id": "6abbfd67-5082-4ac1-aeeb-e6f7c0e8995c",
   "metadata": {},
   "outputs": [],
   "source": []
  },
  {
   "cell_type": "code",
   "execution_count": 112,
   "id": "bedb03e7-e7c3-4cde-bd01-6265dce6e8d0",
   "metadata": {},
   "outputs": [
    {
     "name": "stdout",
     "output_type": "stream",
     "text": [
      "20\n",
      "10\n",
      "6\n"
     ]
    }
   ],
   "source": [
    "def simple_generator():\n",
    "    value = yield\n",
    "    while True:\n",
    "        value = yield value * 2\n",
    "\n",
    "# Создаем генератор\n",
    "gen = simple_generator()\n",
    "\n",
    "# Инициализируем генератор\n",
    "next(gen)  # Генератор ждет значение\n",
    "\n",
    "# Передаем значение в генератор с помощью send\n",
    "print(gen.send(10))  \n",
    "print(gen.send(5))  \n",
    "print(gen.send(3))  \n"
   ]
  },
  {
   "cell_type": "code",
   "execution_count": 113,
   "id": "cca8ef02-59f1-4a27-a182-eba83de3c6a5",
   "metadata": {},
   "outputs": [
    {
     "name": "stdout",
     "output_type": "stream",
     "text": [
      "10\n",
      "30\n",
      "6\n",
      "18\n"
     ]
    }
   ],
   "source": [
    "def multi_yield_generator():\n",
    "    value = yield\n",
    "    while True:\n",
    "        value = yield value * 2\n",
    "        value = yield value * 3\n",
    "\n",
    "# Создаем генератор\n",
    "gen = multi_yield_generator()\n",
    "\n",
    "# Инициализируем генератор\n",
    "next(gen)  # Генератор ждет первое значение\n",
    "\n",
    "# Передаем первое значение\n",
    "print(gen.send(5))  \n",
    "\n",
    "# Передаем второе значение\n",
    "print(gen.send(10))  \n",
    "\n",
    "# Передаем третье значение\n",
    "print(gen.send(3))   \n",
    "\n",
    "# Передаем четвертое значение\n",
    "print(gen.send(6))   \n"
   ]
  },
  {
   "cell_type": "code",
   "execution_count": null,
   "id": "a7213b2a-95e1-459c-a35e-b8c504d8e343",
   "metadata": {},
   "outputs": [],
   "source": [
    "def interactive_generator():\n",
    "    print(\"Генератор начал работу\")\n",
    "    value = yield \"Ожидание значения\"\n",
    "    print(f\"Получено значение: {value}\")\n",
    "    value = yield value * 2\n",
    "    print(f\"Получено значение: {value}\")\n",
    "    value = yield value * 3\n",
    "    print(f\"Получено значение: {value}\")\n",
    "    yield \"Генератор завершил работу\"\n",
    "\n",
    "# Создаем генератор\n",
    "gen = interactive_generator()\n",
    "\n",
    "# Инициализируем генератор\n",
    "print(next(gen))  # Выводит: Генератор начал работу и Ожидание значения\n",
    "\n",
    "# Передаем значение в генератор с помощью send\n",
    "print(gen.send(10)) \n",
    "\n",
    "# Передаем следующее значение\n",
    "print(gen.send(20))  \n",
    "\n",
    "# Передаем последнее значение\n",
    "print(gen.send(60))  \n",
    "\n",
    "# Пытаемся получить следующее значение (генератор уже завершил работу)\n",
    "try:\n",
    "    print(next(gen))\n",
    "except StopIteration:\n",
    "    print(\"Генератор завершил работу\")"
   ]
  },
  {
   "cell_type": "markdown",
   "id": "07044328-5de3-466e-8c18-ad400829b1b3",
   "metadata": {},
   "source": [
    "### Использование субгенераторов. Инструкция yield from:\n",
    "Генераторы могут использовать субгенераторы для делегирования работы. Ключевое слово yield from позволяет упростить синтаксис итерации по субгенераторам и передачу значений между ними."
   ]
  },
  {
   "cell_type": "markdown",
   "id": "6469bb15-ca24-4221-955e-582cef0527fa",
   "metadata": {},
   "source": [
    "Конструкция yield from:\n",
    "\n",
    "* yield from используется для делегирования генерации значений другому генератору или итерируемому объекту.\n",
    "* В данном случае yield from будет поочередно возвращать каждый символ из строки, полученной после применения join."
   ]
  },
  {
   "cell_type": "code",
   "execution_count": null,
   "id": "57ff2a7e-ca9b-40d1-a5ee-2090a250f683",
   "metadata": {},
   "outputs": [],
   "source": [
    "def nested_generator():\n",
    "    yield from [1, 2, 3]\n",
    "\n",
    "gen = nested_generator()\n",
    "\n",
    "print(next(gen))  # Выводит: 1\n",
    "print(next(gen))  # Выводит: 2\n",
    "print(next(gen))  # Выводит: 3"
   ]
  },
  {
   "cell_type": "code",
   "execution_count": null,
   "id": "a664cd94-99f3-4a67-a7e8-ee720172f98d",
   "metadata": {},
   "outputs": [],
   "source": [
    "def show_letters(some_str):\n",
    "\tyield from ''.join([letter for letter in some_str if letter.isalpha()])\n",
    " \n",
    " \n",
    "random_str = show_letters('A!sdf 09 _ w')\n",
    "print(next(random_str))\n",
    "print(next(random_str))\n"
   ]
  },
  {
   "cell_type": "code",
   "execution_count": 114,
   "id": "57c3e4b5-b58b-47c4-9c46-6b1ad53c89a0",
   "metadata": {},
   "outputs": [
    {
     "name": "stdout",
     "output_type": "stream",
     "text": [
      "Main generator\n",
      "Sub generator\n",
      "Completed sub generator\n",
      "Completed main generator\n"
     ]
    }
   ],
   "source": [
    "def sub_generator():\n",
    "    yield 'Sub generator'\n",
    "    yield 'Completed sub generator'\n",
    "\n",
    "def main_generator():\n",
    "    yield 'Main generator'\n",
    "    yield from sub_generator()\n",
    "    yield 'Completed main generator'\n",
    "\n",
    "gen = main_generator()\n",
    "for item in gen:\n",
    "    print(item) # next(gen)"
   ]
  },
  {
   "cell_type": "markdown",
   "id": "d43cfb55-d03e-4748-b5dd-c5c9044c48dc",
   "metadata": {},
   "source": [
    "### Решение задач"
   ]
  },
  {
   "cell_type": "markdown",
   "id": "f4ed3d93-29b8-433e-8a0b-20bca8d1a896",
   "metadata": {},
   "source": [
    "1. Напишите генератор, который принимает на вход поток элементов и выдает только уникальные элементы, сохраняя их порядок встречаемости (для уже повторяющихся элементов генератор не выдает ничего)"
   ]
  },
  {
   "cell_type": "code",
   "execution_count": 115,
   "id": "f68fdfd4-9963-422f-ba9d-c6599e9540d1",
   "metadata": {},
   "outputs": [
    {
     "name": "stdout",
     "output_type": "stream",
     "text": [
      "1\n",
      "2\n",
      "3\n",
      "4\n",
      "5\n",
      "6\n"
     ]
    }
   ],
   "source": [
    "def unique_elements(stream):\n",
    "    seen = set()\n",
    "    for item in stream:\n",
    "        if item not in seen:\n",
    "            seen.add(item)\n",
    "            yield item\n",
    "\n",
    "input_stream = [1, 2, 3, 1, 2, 4, 5, 3, 6]\n",
    "unique_stream = unique_elements(input_stream)\n",
    "\n",
    "for unique_item in unique_stream:\n",
    "    print(unique_item)"
   ]
  },
  {
   "cell_type": "code",
   "execution_count": null,
   "id": "b1bda916-f42f-4dc8-afc8-6855e22e3d99",
   "metadata": {},
   "outputs": [],
   "source": []
  },
  {
   "cell_type": "markdown",
   "id": "3cdcddec-3d0a-443b-86e4-09bb7980c233",
   "metadata": {},
   "source": [
    "### ДЗ 24"
   ]
  },
  {
   "cell_type": "markdown",
   "id": "6a081563-f384-47c8-aa9d-a1a00704dec4",
   "metadata": {},
   "source": [
    "1. Напишите генератор, который будет принимать на вход числа и возвращать их сумму. \n",
    "Генератор должен использовать инструкцию yield для возврата текущей суммы и должен продолжать принимать новые числа для добавления к сумме. \n",
    "Если генератор получает на вход число 0, он должен прекращать работу и вернуть окончательную сумму. \n",
    "Напишите программу, которая будет использовать этот генератор для пошагового расчета суммы чисел, вводимых пользователем\n",
    "\n",
    "Пример вывода:\n",
    "\n",
    "Введите числа для суммирования (0 для окончания):\n",
    "\n",
    "Введите число: 3\n",
    "Текущая сумма: 3\n",
    "Введите число: 5\n",
    "Текущая сумма: 8\n",
    "Введите число: 2\n",
    "Текущая сумма: 10\n",
    "Введите число: 0\n",
    "Текущая сумма: 10\n"
   ]
  },
  {
   "cell_type": "code",
   "execution_count": 116,
   "id": "b035d1a3-a4e8-436c-82be-8828224d9e71",
   "metadata": {},
   "outputs": [
    {
     "name": "stdin",
     "output_type": "stream",
     "text": [
      "Введите число:  1\n"
     ]
    },
    {
     "name": "stdout",
     "output_type": "stream",
     "text": [
      "Текущая сумма: 1\n"
     ]
    },
    {
     "name": "stdin",
     "output_type": "stream",
     "text": [
      "Введите число:  2\n"
     ]
    },
    {
     "name": "stdout",
     "output_type": "stream",
     "text": [
      "Текущая сумма: 3\n"
     ]
    },
    {
     "name": "stdin",
     "output_type": "stream",
     "text": [
      "Введите число:  4\n"
     ]
    },
    {
     "name": "stdout",
     "output_type": "stream",
     "text": [
      "Текущая сумма: 7\n"
     ]
    },
    {
     "name": "stdin",
     "output_type": "stream",
     "text": [
      "Введите число:  0\n"
     ]
    }
   ],
   "source": [
    "def sum_gen():\n",
    "    s = 0\n",
    "    while True:\n",
    "        curr = yield s\n",
    "        s += curr\n",
    "\n",
    "gen = sum_gen()\n",
    "next(gen)\n",
    "while True:\n",
    "    n = int(input('Введите число: '))\n",
    "    if n == 0:\n",
    "        break\n",
    "    print(f'Текущая сумма: {gen.send(n)}')"
   ]
  },
  {
   "cell_type": "code",
   "execution_count": null,
   "id": "06b9aa1e-e057-42ad-a10d-dc2693fe2270",
   "metadata": {},
   "outputs": [],
   "source": []
  },
  {
   "cell_type": "markdown",
   "id": "b6984ad1-b24b-4733-8f63-bc6fdf4b5427",
   "metadata": {},
   "source": [
    "2. Напишите генератор, который будет генерировать арифметическую прогрессию"
   ]
  },
  {
   "cell_type": "code",
   "execution_count": null,
   "id": "cc627375-ba96-49a2-ae96-72d95ddd3777",
   "metadata": {},
   "outputs": [],
   "source": [
    "start = 1 diff = 3"
   ]
  },
  {
   "cell_type": "code",
   "execution_count": null,
   "id": "47c8e56a-1722-40b1-b764-e9ea5731ceba",
   "metadata": {},
   "outputs": [],
   "source": [
    "1, 4, 7"
   ]
  },
  {
   "cell_type": "code",
   "execution_count": 117,
   "id": "003df774-b5a9-4e17-9ef1-a206bca60c5f",
   "metadata": {},
   "outputs": [
    {
     "name": "stdout",
     "output_type": "stream",
     "text": [
      "1\n",
      "4\n",
      "7\n",
      "10\n",
      "13\n",
      "16\n",
      "19\n",
      "22\n",
      "25\n",
      "28\n"
     ]
    }
   ],
   "source": [
    "def seq_gen(start, diff):\n",
    "    a = start\n",
    "    while True:\n",
    "        yield a\n",
    "        a += diff\n",
    "\n",
    "gen = seq_gen(1,3)\n",
    "for i in range(10):\n",
    "    print(next(gen))"
   ]
  },
  {
   "cell_type": "code",
   "execution_count": null,
   "id": "38c1e6d2-a0e3-4d0a-95b1-ec39a42dc4eb",
   "metadata": {},
   "outputs": [],
   "source": []
  }
 ],
 "metadata": {
  "kernelspec": {
   "display_name": "Python 3 (ipykernel)",
   "language": "python",
   "name": "python3"
  },
  "language_info": {
   "codemirror_mode": {
    "name": "ipython",
    "version": 3
   },
   "file_extension": ".py",
   "mimetype": "text/x-python",
   "name": "python",
   "nbconvert_exporter": "python",
   "pygments_lexer": "ipython3",
   "version": "3.12.4"
  }
 },
 "nbformat": 4,
 "nbformat_minor": 5
}
