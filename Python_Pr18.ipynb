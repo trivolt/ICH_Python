{
 "cells": [
  {
   "cell_type": "markdown",
   "id": "9527a74f-5f8e-47ae-9365-d6e0f3e62cb6",
   "metadata": {},
   "source": [
    "# Практика 18"
   ]
  },
  {
   "cell_type": "markdown",
   "id": "f19f9371",
   "metadata": {},
   "source": [
    "Написать на Python программу, которая узнает погоду в заданном городе. Написать на Python программу, которая узнает погоду в заданном городе. \r\n",
    "\r\n",
    "В интернете большое количество сервисов, которые “отдают” погоду через т.н. REST API. \r\n",
    "Работаем с сервисом Weather  https://www.weatherapi.com/API. (Этот сервис бесплатный, но нужна регистрация и есть ограничение на количество запросов от одного пользователя в день). \r\n",
    "\r\n",
    "Прежде, чем писать программу, нужно зарегистрироваться на сайте и найти в своем аккаунте свой API Key, который нужно отправлять с каждым запросом на сервер. Ваш аккаунт на weatherapi.com выглядит примерно так.\r\n"
   ]
  },
  {
   "attachments": {
    "09e6c3ea-7675-4832-963d-20f5aa40a204.png": {
     "image/png": "[encoded data removed]"
    }
   },
   "cell_type": "markdown",
   "id": "31fd8a62-80d3-4344-ac16-0e62d6ce4943",
   "metadata": {},
   "source": [
    "![image.png](attachment:09e6c3ea-7675-4832-963d-20f5aa40a204.png)\n"
   ]
  },
  {
   "cell_type": "markdown",
   "id": "0fece007-31b2-4dcd-ba4e-d00b125ee8df",
   "metadata": {},
   "source": [
    "Скопируйте этот API Key и сохраните, он пригодится позже. \n",
    "\n",
    "Пройдите по ссылке Interactive Weather API Explorer - WeatherAPI.com https://www.weatherapi.com/api-explorer.aspx. Это интерактивный эксплорер, который позволяет нам потестировать запросы. "
   ]
  },
  {
   "cell_type": "markdown",
   "id": "95471fe5-c3b8-412c-b92b-70562f62368c",
   "metadata": {},
   "source": [
    "В эсплорере, вставьте в поле Your API Key, который сохранили. \n",
    "\n",
    "В параметрах внизу введите  Value - название города, погоду в котором вы ходите узнать. Например, Berlin. Нажмите кнопку Show Response.\n"
   ]
  },
  {
   "cell_type": "markdown",
   "id": "328ab279-6a35-4871-bc76-f45151663ba1",
   "metadata": {},
   "source": [
    "Теперь переходим к практике на Python. \n",
    "Воспользуйтесь библиотекой requests и напишите программу, которая спрашивает у пользователя название города и выводит погоду в этом городе, делая запрос на weatherapi.com. \n"
   ]
  },
  {
   "cell_type": "code",
   "execution_count": null,
   "id": "9f372bbc-4360-473c-8dfb-6aa1ba0e8675",
   "metadata": {},
   "outputs": [],
   "source": []
  },
  {
   "cell_type": "code",
   "execution_count": null,
   "id": "18546852-80c1-438e-8f6b-c09f43d7f7fa",
   "metadata": {},
   "outputs": [],
   "source": []
  },
  {
   "cell_type": "code",
   "execution_count": null,
   "id": "f365efce-ce28-4531-9d53-2165b766c690",
   "metadata": {},
   "outputs": [],
   "source": []
  },
  {
   "cell_type": "code",
   "execution_count": null,
   "id": "122abee1-f870-4b95-8b1d-0ad541241ac8",
   "metadata": {},
   "outputs": [],
   "source": []
  },
  {
   "cell_type": "code",
   "execution_count": null,
   "id": "5b4f8773-9b09-41dd-940a-7fcf384faefd",
   "metadata": {},
   "outputs": [],
   "source": []
  },
  {
   "cell_type": "code",
   "execution_count": null,
   "id": "65f300dd-5a06-459e-9da6-77eb4284098a",
   "metadata": {},
   "outputs": [],
   "source": []
  },
  {
   "cell_type": "code",
   "execution_count": 14,
   "id": "5ff69822",
   "metadata": {},
   "outputs": [
    {
     "name": "stdout",
     "output_type": "stream",
     "text": [
      "Введите название города:Berlin\n",
      "Погода в городе Berlin:\n",
      "Температура: 23.0°C\n",
      "Описание: Patchy rain nearby\n"
     ]
    }
   ],
   "source": [
    "import requests\n",
    "\n",
    "api_key = '4e554693e3444037be194605241706'\n",
    "\n",
    "city = input('Введите название города:')\n",
    "\n",
    "# Будем создавать динамический URL адрес\n",
    "url = f\"http://api.weatherapi.com/v1/current.json?key={api_key}&q={city}\"\n",
    "\n",
    "\n",
    "# Формируем запрос к API\n",
    "response = requests.get(url)\n",
    "weather_data = response.json()\n",
    "\n",
    "# Форматированный вывод информации\n",
    "\n",
    "if 'current' in weather_data:\n",
    "    current_weather = weather_data['current']\n",
    "    print(f'Погода в городе {city}:')\n",
    "    print(f\"Температура: {current_weather['temp_c']}°C\")\n",
    "    print(f\"Описание: {weather_data['current']['condition']['text']}\")\n",
    "    \n",
    "    \n",
    "else:\n",
    "    print('Не удалось получить информацию о погоде для данного города')"
   ]
  },
  {
   "cell_type": "code",
   "execution_count": 13,
   "id": "1c256dd2",
   "metadata": {},
   "outputs": [
    {
     "data": {
      "text/plain": [
       "{'location': {'name': 'Berlin',\n",
       "  'region': 'Berlin',\n",
       "  'country': 'Germany',\n",
       "  'lat': 52.52,\n",
       "  'lon': 13.4,\n",
       "  'tz_id': 'Europe/Berlin',\n",
       "  'localtime_epoch': 1718624316,\n",
       "  'localtime': '2024-06-17 13:38'},\n",
       " 'current': {'last_updated_epoch': 1718623800,\n",
       "  'last_updated': '2024-06-17 13:30',\n",
       "  'temp_c': 23.3,\n",
       "  'temp_f': 73.9,\n",
       "  'is_day': 1,\n",
       "  'condition': {'text': 'Partly cloudy',\n",
       "   'icon': '//cdn.weatherapi.com/weather/64x64/day/116.png',\n",
       "   'code': 1003},\n",
       "  'wind_mph': 11.9,\n",
       "  'wind_kph': 19.1,\n",
       "  'wind_degree': 200,\n",
       "  'wind_dir': 'SSW',\n",
       "  'pressure_mb': 1012.0,\n",
       "  'pressure_in': 29.88,\n",
       "  'precip_mm': 0.12,\n",
       "  'precip_in': 0.0,\n",
       "  'humidity': 53,\n",
       "  'cloud': 25,\n",
       "  'feelslike_c': 24.9,\n",
       "  'feelslike_f': 76.7,\n",
       "  'windchill_c': 23.0,\n",
       "  'windchill_f': 73.5,\n",
       "  'heatindex_c': 24.7,\n",
       "  'heatindex_f': 76.5,\n",
       "  'dewpoint_c': 12.1,\n",
       "  'dewpoint_f': 53.8,\n",
       "  'vis_km': 10.0,\n",
       "  'vis_miles': 6.0,\n",
       "  'uv': 5.0,\n",
       "  'gust_mph': 13.4,\n",
       "  'gust_kph': 21.5}}"
      ]
     },
     "execution_count": 13,
     "metadata": {},
     "output_type": "execute_result"
    }
   ],
   "source": [
    "weather_data"
   ]
  },
  {
   "cell_type": "code",
   "execution_count": null,
   "id": "46072e2c",
   "metadata": {},
   "outputs": [],
   "source": []
  },
  {
   "cell_type": "code",
   "execution_count": null,
   "id": "931fe361-052e-4139-8756-499008ce8e35",
   "metadata": {},
   "outputs": [],
   "source": []
  },
  {
   "cell_type": "code",
   "execution_count": null,
   "id": "a6994c72-0028-4e62-8836-e47a2ec32f07",
   "metadata": {},
   "outputs": [],
   "source": []
  }
 ],
 "metadata": {
  "kernelspec": {
   "display_name": "Python 3 (ipykernel)",
   "language": "python",
   "name": "python3"
  },
  "language_info": {
   "codemirror_mode": {
    "name": "ipython",
    "version": 3
   },
   "file_extension": ".py",
   "mimetype": "text/x-python",
   "name": "python",
   "nbconvert_exporter": "python",
   "pygments_lexer": "ipython3",
   "version": "3.12.4"
  }
 },
 "nbformat": 4,
 "nbformat_minor": 5
}
