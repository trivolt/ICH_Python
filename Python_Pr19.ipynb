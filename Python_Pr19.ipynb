{
 "cells": [
  {
   "cell_type": "markdown",
   "id": "c163ccee-6a75-42ab-8409-1feaa15912ab",
   "metadata": {},
   "source": [
    "# Практикум 19"
   ]
  },
  {
   "cell_type": "markdown",
   "id": "ada988e1-78ce-4610-acbb-f1f35ba0a39e",
   "metadata": {},
   "source": [
    "Задача: скачать к себе на компьютер 100 последних фотографий со страницы  Explore | Flickr. Это один из самых популярных фотохостингов в интернете с множеством классных фотографий от фотографов со всего мира.\n",
    "\n",
    "Разобьем задачу на две части:\n",
    "1. Вывести URL всех картинок. Пример URL: https://live.staticflickr.com/65535/53534030316_e8e655393a_w.jpg\n",
    "2. Скачать каждую картинку по ее URL и сохранить ее на диске. \n",
    "\n",
    "Первая задача - обязательная, вторая - опциональная. \n",
    "\n",
    "При использовании нужно использовать библиотеки BeautifulSoap и requests и пройденное по теме работы с файлами для сохранения картинок в файл. Вам также пригодятся лямбда-функции и работа со списками. \n",
    "\n",
    "Учтите, что на страничке по ссылке выше выводится много картинок и нам нужны не все. Нужные нам имеют аттрибут loading=\"lazy\". Отфильтруйте ненужные картинки и скачивайте только нужные. \n"
   ]
  },
  {
   "cell_type": "code",
   "execution_count": 12,
   "id": "515eb93a-9f76-4f3a-b004-76b5b486b0b5",
   "metadata": {},
   "outputs": [
    {
     "name": "stdout",
     "output_type": "stream",
     "text": [
      "Image 1: https://live.staticflickr.com/65535/54319081643_306c12d070_w.jpg\n",
      "Image 2: https://live.staticflickr.com/1834/43875063442_6f07304afa_w.jpg\n",
      "Image 3: https://live.staticflickr.com/1707/25807401971_ba138355b0_w.jpg\n",
      "Image 4: https://live.staticflickr.com/65535/54302675789_4c373b1017.jpg\n",
      "Image 5: https://live.staticflickr.com/65535/51436065079_233e9d08c3_m.jpg\n",
      "Image 6: https://live.staticflickr.com/65535/51439625324_d0483cc22f.jpg\n",
      "Image 7: https://live.staticflickr.com/65535/50785333773_87e5b71d2e_w.jpg\n",
      "Image 8: https://live.staticflickr.com/65535/53782858131_75e48e8a25_w.jpg\n",
      "Image 9: https://live.staticflickr.com/3348/3204538990_033df4695b_w.jpg\n",
      "Image 10: https://live.staticflickr.com/65535/51402777290_68956b60e4_w.jpg\n",
      "Image 11: https://live.staticflickr.com/65535/54309608850_358df6d438_w.jpg\n"
     ]
    }
   ],
   "source": [
    "import requests\n",
    "from bs4 import BeautifulSoup\n",
    "import os\n",
    "\n",
    "url = 'https://www.flickr.com/explore'\n",
    "\n",
    "# Отправляем GET-запрос на страницу\n",
    "response = requests.get(url)\n",
    "\n",
    "# Проверяем, успешен ли запрос\n",
    "if response.status_code == 200:\n",
    "    # Парсим HTML-код страницы\n",
    "    soup = BeautifulSoup(response.text, 'html.parser')\n",
    "\n",
    "    # Находим все изображения с атрибутом loading=\"lazy\"\n",
    "    images = soup.find_all('img', {'loading': 'lazy'})\n",
    "\n",
    "    # Извлекаем URL изображений\n",
    "    image_urls = ['https:' + img['src'] for img in images]\n",
    "\n",
    "    # Выводим URL всех картинок\n",
    "    for i, image_url in enumerate(image_urls, 1):\n",
    "        print(f\"Image {i}: {image_url}\")\n",
    "        if i>10:\n",
    "             break"
   ]
  },
  {
   "cell_type": "code",
   "execution_count": 13,
   "id": "4f32d873-e07c-43b5-bc68-c8c7398836cc",
   "metadata": {},
   "outputs": [
    {
     "name": "stdout",
     "output_type": "stream",
     "text": [
      "Image 1: https://live.staticflickr.com/65535/54319081643_306c12d070_w.jpg\n",
      "Image 2: https://live.staticflickr.com/1834/43875063442_6f07304afa_w.jpg\n",
      "Image 3: https://live.staticflickr.com/1707/25807401971_ba138355b0_w.jpg\n",
      "Image 4: https://live.staticflickr.com/65535/54302675789_4c373b1017.jpg\n",
      "Image 5: https://live.staticflickr.com/65535/51436065079_233e9d08c3_m.jpg\n",
      "Image 6: https://live.staticflickr.com/65535/51439625324_d0483cc22f.jpg\n",
      "Image 7: https://live.staticflickr.com/65535/50785333773_87e5b71d2e_w.jpg\n",
      "Image 8: https://live.staticflickr.com/65535/53782858131_75e48e8a25_w.jpg\n",
      "Image 9: https://live.staticflickr.com/3348/3204538990_033df4695b_w.jpg\n",
      "Image 10: https://live.staticflickr.com/65535/51402777290_68956b60e4_w.jpg\n",
      "Image 11: https://live.staticflickr.com/65535/54309608850_358df6d438_w.jpg\n",
      "Downloaded image 1\n",
      "Downloaded image 2\n",
      "Downloaded image 3\n",
      "Downloaded image 4\n",
      "Downloaded image 5\n",
      "Downloaded image 6\n",
      "Downloaded image 7\n",
      "Downloaded image 8\n",
      "Downloaded image 9\n",
      "Downloaded image 10\n",
      "Downloaded image 11\n"
     ]
    }
   ],
   "source": [
    "import requests\n",
    "from bs4 import BeautifulSoup\n",
    "import os\n",
    "\n",
    "url = 'https://www.flickr.com/explore'\n",
    "\n",
    "# Отправляем GET-запрос на страницу\n",
    "response = requests.get(url)\n",
    "\n",
    "# Проверяем, успешен ли запрос\n",
    "if response.status_code == 200:\n",
    "    # Парсим HTML-код страницы\n",
    "    soup = BeautifulSoup(response.text, 'html.parser')\n",
    "\n",
    "    # Находим все изображения с атрибутом loading=\"lazy\"\n",
    "    images = soup.find_all('img', {'loading': 'lazy'})\n",
    "\n",
    "    # Извлекаем URL изображений\n",
    "    image_urls = ['https:' + img['src'] for img in images]\n",
    "\n",
    "    # Выводим URL всех картинок\n",
    "    for i, image_url in enumerate(image_urls, 1):\n",
    "        print(f\"Image {i}: {image_url}\")\n",
    "        if i>10:\n",
    "             break\n",
    "\n",
    "    # Создаем папку для сохранения изображений, если она не существует\n",
    "    if not os.path.exists('flickr_images'):\n",
    "        os.makedirs('flickr_images')\n",
    "\n",
    "    # Скачиваем каждую картинку по ее URL и сохраняем на диск\n",
    "    for i, image_url in enumerate(image_urls, 1):\n",
    "        img_data = requests.get(image_url).content\n",
    "        with open(f'flickr_images/image_{i}.jpg', 'wb') as f:\n",
    "            f.write(img_data)\n",
    "        print(f\"Downloaded image {i}\")\n",
    "        if i>10:\n",
    "            break\n",
    "else:\n",
    "    print(f\"Не удалось получить страницу. Status code: {response.status_code}\")\n"
   ]
  },
  {
   "cell_type": "code",
   "execution_count": null,
   "id": "857c0d5f-65eb-4909-b4e6-77da8b5f18e3",
   "metadata": {},
   "outputs": [],
   "source": []
  }
 ],
 "metadata": {
  "kernelspec": {
   "display_name": "Python 3 (ipykernel)",
   "language": "python",
   "name": "python3"
  },
  "language_info": {
   "codemirror_mode": {
    "name": "ipython",
    "version": 3
   },
   "file_extension": ".py",
   "mimetype": "text/x-python",
   "name": "python",
   "nbconvert_exporter": "python",
   "pygments_lexer": "ipython3",
   "version": "3.12.4"
  }
 },
 "nbformat": 4,
 "nbformat_minor": 5
}
