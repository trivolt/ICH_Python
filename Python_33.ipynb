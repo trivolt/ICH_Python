{
 "cells": [
  {
   "cell_type": "markdown",
   "id": "81ac5f08-ca53-4df8-8b8c-5b488192c43f",
   "metadata": {},
   "source": [
    "# Углубленная работа с классами и встроенные декораторы"
   ]
  },
  {
   "cell_type": "markdown",
   "id": "f353ebd9",
   "metadata": {},
   "source": [
    "### Методы класса\n",
    "\n",
    "\n",
    "Методы бывают статическими, классовыми и уровня экземпляра класса (будем их называть обычными методами).\n",
    "* Статический метод создается с декоратором `@staticmethod`,\n",
    "* классовый – с декоратором `@classmethod`, первым аргументом в него передается `cls` (ссылка на вызываемый класс),\n",
    "* обычный метод создается без специального декоратора, ему первым аргументом передается `self`."
   ]
  },
  {
   "cell_type": "code",
   "execution_count": 1,
   "id": "ad2eb421",
   "metadata": {},
   "outputs": [],
   "source": [
    "class Car:\n",
    "    \n",
    "    @staticmethod\n",
    "    def ex_static_method():\n",
    "        print(\"static method\")\n",
    "        \n",
    "    @classmethod\n",
    "    def ex_class_method(cls):\n",
    "        print(\"class method\")\n",
    "        \n",
    "    def ex_method(self):\n",
    "        print(\"method\")"
   ]
  },
  {
   "cell_type": "markdown",
   "id": "0121fb80",
   "metadata": {},
   "source": [
    "Статический и классовый метод можно вызвать, не создавая экземпляр класса, для вызова ex_method() нужен объект:"
   ]
  },
  {
   "cell_type": "code",
   "execution_count": 2,
   "id": "dd3b8916-cd1e-4249-87fa-c6a028821715",
   "metadata": {},
   "outputs": [
    {
     "name": "stdout",
     "output_type": "stream",
     "text": [
      "static method\n"
     ]
    }
   ],
   "source": [
    "Car.ex_static_method() # Работает на классе"
   ]
  },
  {
   "cell_type": "code",
   "execution_count": 3,
   "id": "41053d42-cc19-4c41-a87e-f9806d6acdc4",
   "metadata": {},
   "outputs": [
    {
     "name": "stdout",
     "output_type": "stream",
     "text": [
      "class method\n"
     ]
    }
   ],
   "source": [
    "Car.ex_class_method() # Работает на классе"
   ]
  },
  {
   "cell_type": "code",
   "execution_count": 4,
   "id": "aed02c07",
   "metadata": {},
   "outputs": [
    {
     "ename": "TypeError",
     "evalue": "Car.ex_method() missing 1 required positional argument: 'self'",
     "output_type": "error",
     "traceback": [
      "\u001b[1;31m---------------------------------------------------------------------------\u001b[0m",
      "\u001b[1;31mTypeError\u001b[0m                                 Traceback (most recent call last)",
      "Cell \u001b[1;32mIn[4], line 1\u001b[0m\n\u001b[1;32m----> 1\u001b[0m Car\u001b[38;5;241m.\u001b[39mex_method()\n",
      "\u001b[1;31mTypeError\u001b[0m: Car.ex_method() missing 1 required positional argument: 'self'"
     ]
    }
   ],
   "source": [
    "Car.ex_method() # Работает на экземпляре класса"
   ]
  },
  {
   "cell_type": "code",
   "execution_count": 5,
   "id": "5159b3c1",
   "metadata": {},
   "outputs": [
    {
     "name": "stdout",
     "output_type": "stream",
     "text": [
      "method\n"
     ]
    }
   ],
   "source": [
    "m = Car() # Экземпляр класса\n",
    "m.ex_method()"
   ]
  },
  {
   "cell_type": "markdown",
   "id": "7d03dd08",
   "metadata": {},
   "source": [
    "**Классовые методы** принимают класс в качестве параметра, который принято обозначать как `cls`. В данном случае он указывает на класс `Car`, а не на объект этого класса, `self`.\n",
    "\n",
    "Методы класса привязаны к самому классу, а не его экземпляру. Они могут менять состояние класса, что отразится на всех объектах этого класса, но не могут менять конкретный объект."
   ]
  },
  {
   "cell_type": "code",
   "execution_count": 6,
   "id": "70251607-88bd-4fd7-8ce7-5684d1c45d7f",
   "metadata": {},
   "outputs": [
    {
     "name": "stdout",
     "output_type": "stream",
     "text": [
      "Class attribute\n"
     ]
    }
   ],
   "source": [
    "class MyClass:\n",
    "    class_attr = \"Class attribute\"\n",
    "\n",
    "    @classmethod\n",
    "    def class_method(cls):\n",
    "        print(cls.class_attr)\n",
    "\n",
    "MyClass.class_method()  # Class attribute\n"
   ]
  },
  {
   "cell_type": "code",
   "execution_count": 7,
   "id": "cae27b4e-800e-45d1-80bf-fef01ba71306",
   "metadata": {},
   "outputs": [
    {
     "name": "stdout",
     "output_type": "stream",
     "text": [
      "сыр\n"
     ]
    }
   ],
   "source": [
    "class Pizza:\n",
    "    default_topping = \"сыр\"\n",
    "\n",
    "    def __init__(self, topping):\n",
    "        self.topping = topping\n",
    "\n",
    "    # Классовый метод (создает пиццу с дефолтной начинкой)\n",
    "    @classmethod\n",
    "    def classic(cls):\n",
    "        return cls(cls.default_topping)  # cls() создает новый экземпляр\n",
    "\n",
    "# Создаем пиццу через классовый метод\n",
    "pizza = Pizza.classic()\n",
    "print(pizza.topping)  # Вывод: сыр"
   ]
  },
  {
   "cell_type": "markdown",
   "id": "d212350b",
   "metadata": {},
   "source": [
    "**Статическим методам** не нужен определённый первый аргумент (ни self, ни cls). Их можно воспринимать как методы, которые `не знают, к какому классу относятся`.\n",
    "\n",
    "Таким образом, статические методы прикреплены к классу лишь для удобства и не могут менять состояние ни класса, ни его экземпляра. То есть статические методы не могут получить доступ к параметрам класса или объекта. Они работают только с теми данными, которые им передаются в качестве аргументов."
   ]
  },
  {
   "cell_type": "code",
   "execution_count": 8,
   "id": "82b98293-6773-4989-b8bb-800fba9bce63",
   "metadata": {},
   "outputs": [
    {
     "name": "stdout",
     "output_type": "stream",
     "text": [
      "8\n"
     ]
    }
   ],
   "source": [
    "class MathHelper:\n",
    "    # Статический метод (не зависит от класса или экземпляра)\n",
    "    @staticmethod\n",
    "    def add(a, b):\n",
    "        return a + b\n",
    "\n",
    "# Вызываем без создания объекта\n",
    "result = MathHelper.add(5, 3)\n",
    "print(result)  # Вывод: 8"
   ]
  },
  {
   "cell_type": "markdown",
   "id": "c1d7341c",
   "metadata": {},
   "source": [
    "**Метод экземпляра класса** это наиболее часто используемый вид методов. Методы экземпляра класса принимают объект класса как первый аргумент, который принято называть `self` и который указывает на сам экземпляр. Количество параметров метода не ограничено.\n",
    "\n",
    "Используя параметр `self`, мы можем менять состояние объекта и обращаться к другим его методам и параметрам. К тому же, используя атрибут `self.__class__`, мы получаем доступ к атрибутам класса и возможности менять состояние самого класса. То есть методы экземпляров класса позволяют менять как состояние определённого объекта, так и класса."
   ]
  },
  {
   "cell_type": "markdown",
   "id": "e4f5b957-fd71-4261-9e5f-31d5d47bc969",
   "metadata": {},
   "source": [
    "### Когда что использовать:\n",
    "* Обычные методы — когда нужен доступ к данным конкретного объекта.\n",
    "\n",
    "* Классовые методы — когда нужно работать с классом (например, создать экземпляр с особыми параметрами).\n",
    "\n",
    "* Статические методы — когда функция логически относится к классу, но не требует доступа к его данным."
   ]
  },
  {
   "cell_type": "markdown",
   "id": "fb24cf7c",
   "metadata": {},
   "source": [
    "\n",
    "Давайте рассмотрим более естественный пример и выясним в чем разница между методами."
   ]
  },
  {
   "cell_type": "code",
   "execution_count": 9,
   "id": "42494f24",
   "metadata": {},
   "outputs": [],
   "source": [
    "from datetime import date\n",
    "\n",
    "class Car:\n",
    "    def __init__(self, brand, age):\n",
    "        self.brand = brand\n",
    "        self.age = age\n",
    "    \n",
    "    @staticmethod\n",
    "    def is_warranty_active(age):\n",
    "        return age < 3\n",
    "    \n",
    "    @classmethod\n",
    "    def from_production_year(cls, brand, prod_year):\n",
    "        return cls(brand, date.today().year - prod_year)\n",
    "      \n",
    "    def info(self):\n",
    "        print(\"Car: \" + self.brand)\n",
    "        print(\"Age: \" + str(self.age))\n",
    "        if self.is_warranty_active(self.age):\n",
    "            print(\"Warranty is ACTIVE\")\n",
    "        else:\n",
    "            print(\"Warranty is NOT active\")\n",
    "    \n",
    "car1 = Car('Subaru', 5)\n"
   ]
  },
  {
   "cell_type": "code",
   "execution_count": 10,
   "id": "278811f0",
   "metadata": {},
   "outputs": [
    {
     "data": {
      "text/plain": [
       "('Subaru', 5)"
      ]
     },
     "execution_count": 10,
     "metadata": {},
     "output_type": "execute_result"
    }
   ],
   "source": [
    "car1.brand, car1.age"
   ]
  },
  {
   "cell_type": "code",
   "execution_count": 11,
   "id": "7eff1057-8238-4145-ac3c-73166d50048e",
   "metadata": {},
   "outputs": [],
   "source": [
    "car2 = Car.from_production_year('Skoda', 2020) # Создаем экземпляр класса Car"
   ]
  },
  {
   "cell_type": "code",
   "execution_count": 12,
   "id": "d5f0fc64",
   "metadata": {},
   "outputs": [
    {
     "data": {
      "text/plain": [
       "('Skoda', 5)"
      ]
     },
     "execution_count": 12,
     "metadata": {},
     "output_type": "execute_result"
    }
   ],
   "source": [
    "car2.brand, car2.age"
   ]
  },
  {
   "cell_type": "code",
   "execution_count": 13,
   "id": "ca508c85",
   "metadata": {},
   "outputs": [
    {
     "data": {
      "text/plain": [
       "False"
      ]
     },
     "execution_count": 13,
     "metadata": {},
     "output_type": "execute_result"
    }
   ],
   "source": [
    "Car.is_warranty_active(25)"
   ]
  },
  {
   "cell_type": "code",
   "execution_count": 14,
   "id": "12fd57bf",
   "metadata": {},
   "outputs": [
    {
     "name": "stdout",
     "output_type": "stream",
     "text": [
      "Car: Subaru\n",
      "Age: 5\n",
      "Warranty is NOT active\n"
     ]
    }
   ],
   "source": [
    "car1.info()"
   ]
  },
  {
   "cell_type": "code",
   "execution_count": 15,
   "id": "dea18524",
   "metadata": {},
   "outputs": [
    {
     "name": "stdout",
     "output_type": "stream",
     "text": [
      "Car: Skoda\n",
      "Age: 5\n",
      "Warranty is NOT active\n"
     ]
    }
   ],
   "source": [
    "car2.info()"
   ]
  },
  {
   "cell_type": "markdown",
   "id": "107fa125",
   "metadata": {},
   "source": [
    "Метод класса - `from_production_year` возвращает нам СОЗДАННЫЙ внутри функции экземпляр класса `Car` с вычисленным возрастом. Т.к. мы не можем внутри класса `Car` вызвать класс `Car`, мы и используем `cls`.\n",
    "\n",
    "Статический метод - `is_warranty_active` выясняет действительна ли еще гарантия. Как вы видете, он не обращается к возрасту машины в классе, а принимает ее в качестве аргумента - `age`.\n",
    "\n",
    "Метод экземпляра класса - `info`, через `self` обращается к своим атрибутам, вызывает статическую функцию, передавая туда возраст машины.\n",
    "\n",
    "Выбор того, какой из методов использовать, может показаться достаточно сложным. Тем не менее с опытом этот выбор делать гораздо проще. Чаще всего **метод класса** используется тогда, когда нужен генерирующий метод, возвращающий объект класса. Как видим, метод класса `from_production_year` используется для создания объекта класса `Car` по году производства машины, а не по указанному возрасту. \n",
    "\n",
    "Статические методы в основном используются как вспомогательные функции и работают с данными, которые им передаются.\n",
    "\n",
    "Итак:\n",
    "- Методы экземпляра класса получают доступ к объекту класса через параметр `self` и к классу через `self.__class__`.\n",
    "- Методы класса не могут получить доступ к определённому объекту класса, но имеют доступ к самому классу через `cls`.\n",
    "- Статические методы работают как обычные функции, но принадлежат области имён класса. Они не имеют доступа ни к самому классу, ни к его экземплярам."
   ]
  },
  {
   "cell_type": "markdown",
   "id": "6103dd73",
   "metadata": {},
   "source": [
    "### Уровни доступа атрибута и метода (Инкапсуляция)\n",
    "\n",
    "В языках программирования Java, C#, C++ можно явно указать для переменной, что доступ к ней снаружи класса запрещен, это делается с помощью ключевых слов (private, protected и т.д.). В Python таких возможностей нет, и любой может обратиться к атрибутам и методам вашего класса, если возникнет такая необходимость. Это существенный недостаток этого языка, т.к. нарушается один из ключевых принципов ООП – инкапсуляция. Хорошим тоном считается, что для чтения/изменения какого-то атрибута должны использоваться специальные методы, которые называются getter/setter, их можно реализовать, но ничего не помешает изменить атрибут напрямую. При этом есть соглашение, что метод или атрибут, который начинается с нижнего подчеркивания, является скрытым, и снаружи класса трогать его не нужно (хотя сделать это можно).\n",
    "\n",
    "Внесем соответствующие изменения в класс Car:"
   ]
  },
  {
   "cell_type": "code",
   "execution_count": 16,
   "id": "c1b44a4c",
   "metadata": {},
   "outputs": [],
   "source": [
    "class Car:\n",
    "    def __init__(self, brand, doors_num):\n",
    "        self._brand = brand\n",
    "        self._doors_num = doors_num\n",
    "        \n",
    "    def get_brand(self):\n",
    "        return self._brand\n",
    "    \n",
    "    def set_brand(self, b):\n",
    "        self._brand = b\n",
    "        \n",
    "    def get_doors(self):\n",
    "        return self._doors_num\n",
    "    \n",
    "    def set_doors(self, d):\n",
    "        self._doors = d\n",
    "        \n",
    "    def info(self):\n",
    "        return \"Nice car with \" + str(self._doors) + \" doors\""
   ]
  },
  {
   "cell_type": "code",
   "execution_count": 20,
   "id": "cfcfaeb1-f019-4228-a3d1-0f9c4834aeaa",
   "metadata": {},
   "outputs": [],
   "source": [
    "bmw = Car('bmw',2)"
   ]
  },
  {
   "cell_type": "code",
   "execution_count": 21,
   "id": "dc38e990-0f21-4da1-9a65-ecf9b08bd7e8",
   "metadata": {},
   "outputs": [],
   "source": [
    "bmw._doors_num = 5 # дурной тон\n"
   ]
  },
  {
   "cell_type": "code",
   "execution_count": 24,
   "id": "7fa70cde-bf7c-407d-ab2e-b8576df16796",
   "metadata": {},
   "outputs": [],
   "source": [
    "bmw.set_brand(3) #правильная инициализация"
   ]
  },
  {
   "cell_type": "code",
   "execution_count": 22,
   "id": "169ba6eb-35c9-4895-9616-2a833f6447e5",
   "metadata": {},
   "outputs": [
    {
     "name": "stdout",
     "output_type": "stream",
     "text": [
      "5\n"
     ]
    }
   ],
   "source": [
    "print(bmw._doors_num) # дурной тон"
   ]
  },
  {
   "cell_type": "code",
   "execution_count": 23,
   "id": "ffb77b0a-fac7-4f9c-9b8c-e675f99b49a7",
   "metadata": {},
   "outputs": [
    {
     "name": "stdout",
     "output_type": "stream",
     "text": [
      "5\n"
     ]
    }
   ],
   "source": [
    "print(bmw.get_doors()) #правильное обращение"
   ]
  },
  {
   "cell_type": "code",
   "execution_count": null,
   "id": "02547701-7679-41b5-b961-42d6f2ec4683",
   "metadata": {},
   "outputs": [],
   "source": []
  },
  {
   "cell_type": "markdown",
   "id": "efd580a5",
   "metadata": {},
   "source": [
    "В приведенном примере для доступа к `_brand` и` _doors_num` используются специальные методы, но ничего не мешает вам обратиться к ним (атрибутам) напрямую."
   ]
  },
  {
   "cell_type": "code",
   "execution_count": null,
   "id": "4f7287d2",
   "metadata": {},
   "outputs": [],
   "source": [
    "mersedes = Car(\"Mersedes\", 6)\n",
    "mersedes.get_brand()"
   ]
  },
  {
   "cell_type": "code",
   "execution_count": null,
   "id": "ac8461a4",
   "metadata": {},
   "outputs": [],
   "source": [
    "mersedes._brand"
   ]
  },
  {
   "cell_type": "markdown",
   "id": "5d7e4206",
   "metadata": {},
   "source": [
    "Если же атрибут или метод начинается с двух подчеркиваний, то тут напрямую вы к нему уже не обратитесь (простым образом). Модифицируем наш класс Car:"
   ]
  },
  {
   "cell_type": "code",
   "execution_count": 25,
   "id": "1b86fb3d",
   "metadata": {},
   "outputs": [],
   "source": [
    "class Car:\n",
    "    def __init__(self, brand, doors_num):\n",
    "        self.__brand = brand\n",
    "        self.__doors_num = doors_num\n",
    "        \n",
    "    def get_brand(self):\n",
    "        return self.__brand\n",
    "    \n",
    "    def set_brand(self, b):\n",
    "        self.__brand = b\n",
    "    \n",
    "    def get_doors(self):\n",
    "        return self.__doors_num\n",
    "    \n",
    "    def set_doors(self, d):\n",
    "        self.__doors = d\n",
    "        \n",
    "    def info(self):\n",
    "        return \"Nice car with \" + str(self.__doors_num) + \" doors\""
   ]
  },
  {
   "cell_type": "markdown",
   "id": "614da8ed",
   "metadata": {},
   "source": [
    "Попытка обратиться к `__brand` напрямую вызовет ошибку, нужно работать только через get_brand():"
   ]
  },
  {
   "cell_type": "code",
   "execution_count": 26,
   "id": "b96f24b5",
   "metadata": {},
   "outputs": [
    {
     "data": {
      "text/plain": [
       "'Mersedes'"
      ]
     },
     "execution_count": 26,
     "metadata": {},
     "output_type": "execute_result"
    }
   ],
   "source": [
    "mersedes = Car(\"Mersedes\", 6)\n",
    "mersedes.get_brand()"
   ]
  },
  {
   "cell_type": "code",
   "execution_count": 27,
   "id": "16ecea8e",
   "metadata": {},
   "outputs": [
    {
     "ename": "AttributeError",
     "evalue": "'Car' object has no attribute '__brand'",
     "output_type": "error",
     "traceback": [
      "\u001b[1;31m---------------------------------------------------------------------------\u001b[0m",
      "\u001b[1;31mAttributeError\u001b[0m                            Traceback (most recent call last)",
      "Cell \u001b[1;32mIn[27], line 1\u001b[0m\n\u001b[1;32m----> 1\u001b[0m mersedes\u001b[38;5;241m.\u001b[39m__brand\n",
      "\u001b[1;31mAttributeError\u001b[0m: 'Car' object has no attribute '__brand'"
     ]
    }
   ],
   "source": [
    "mersedes.__brand"
   ]
  },
  {
   "cell_type": "markdown",
   "id": "eb94786e",
   "metadata": {},
   "source": [
    "Но на самом деле это сделать можно, просто этот атрибут теперь для внешнего использования носит название: `_Car__brand`:"
   ]
  },
  {
   "cell_type": "code",
   "execution_count": 28,
   "id": "f8ad09cc",
   "metadata": {},
   "outputs": [
    {
     "data": {
      "text/plain": [
       "'Mersedes'"
      ]
     },
     "execution_count": 28,
     "metadata": {},
     "output_type": "execute_result"
    }
   ],
   "source": [
    "mersedes._Car__brand"
   ]
  },
  {
   "cell_type": "code",
   "execution_count": 29,
   "id": "6cb6deb9",
   "metadata": {},
   "outputs": [
    {
     "data": {
      "text/plain": [
       "['_Car__brand',\n",
       " '_Car__doors_num',\n",
       " '__class__',\n",
       " '__delattr__',\n",
       " '__dict__',\n",
       " '__dir__',\n",
       " '__doc__',\n",
       " '__eq__',\n",
       " '__format__',\n",
       " '__ge__',\n",
       " '__getattribute__',\n",
       " '__getstate__',\n",
       " '__gt__',\n",
       " '__hash__',\n",
       " '__init__',\n",
       " '__init_subclass__',\n",
       " '__le__',\n",
       " '__lt__',\n",
       " '__module__',\n",
       " '__ne__',\n",
       " '__new__',\n",
       " '__reduce__',\n",
       " '__reduce_ex__',\n",
       " '__repr__',\n",
       " '__setattr__',\n",
       " '__sizeof__',\n",
       " '__str__',\n",
       " '__subclasshook__',\n",
       " '__weakref__',\n",
       " 'get_brand',\n",
       " 'get_doors',\n",
       " 'info',\n",
       " 'set_brand',\n",
       " 'set_doors']"
      ]
     },
     "execution_count": 29,
     "metadata": {},
     "output_type": "execute_result"
    }
   ],
   "source": [
    "dir(mersedes)"
   ]
  },
  {
   "cell_type": "markdown",
   "id": "99e6551c",
   "metadata": {},
   "source": [
    "## Полиморфизм\n",
    "\n",
    "Как уже было сказано во введении в рамках ООП полиморфизм, как правило, используется с позиции переопределения методов базового класса в классе наследнике. Проще всего это рассмотреть на примере. В нашем базовом класс `Car` есть метод `info()`, который печатает сводную информацию по объекту класса `Car` и переопределим этот метод в классе `Truck`, добавим  в него дополнительные данные:"
   ]
  },
  {
   "cell_type": "code",
   "execution_count": 31,
   "id": "7459e8e6",
   "metadata": {},
   "outputs": [],
   "source": [
    "class Car:\n",
    "    def __init__(self, brand, doors_num):\n",
    "        self.__brand = brand\n",
    "        self.__doors_num = doors_num\n",
    "        \n",
    "    def get_brand(self):\n",
    "        return self.__brand\n",
    "    \n",
    "    def set_brand(self, b):\n",
    "        self.__brand = b\n",
    "    \n",
    "    def get_doors(self):\n",
    "        return self.__doors_num\n",
    "    \n",
    "    def set_doors(self, d):\n",
    "        self.__doors = d\n",
    "        \n",
    "    def info(self):\n",
    "        return \"Nice car with \" + str(self.__doors_num) + \" doors\""
   ]
  },
  {
   "cell_type": "code",
   "execution_count": 32,
   "id": "b1e97fc0",
   "metadata": {},
   "outputs": [],
   "source": [
    "class Truck(Car):\n",
    "    \n",
    "    def __init__(self, brand, doors_num, load_weight, axes):\n",
    "        super().__init__(brand, doors_num)\n",
    "        self.__load_weight = load_weight\n",
    "        self.__axes = axes\n",
    "        \n",
    "    def get_load(self):\n",
    "        return self.__load_weight\n",
    "    \n",
    "    def set_load(self, l):\n",
    "        self.__load_weight = l\n",
    "        \n",
    "    def get_axes(self):\n",
    "        return self.__axes\n",
    "    \n",
    "    def set_axes(self, a):\n",
    "        self.__axes = a\n",
    "        \n",
    "    def info(self):\n",
    "        return \"Nice car with \" + str(self.get_doors()) + \" doors and can carry \" + str(self.__load_weight) + \" kg of cargo\""
   ]
  },
  {
   "cell_type": "markdown",
   "id": "3f32ca1b",
   "metadata": {},
   "source": [
    "Посмотрим, как это работает"
   ]
  },
  {
   "cell_type": "code",
   "execution_count": 33,
   "id": "2318a8f1",
   "metadata": {},
   "outputs": [
    {
     "data": {
      "text/plain": [
       "'Nice car with 4 doors'"
      ]
     },
     "execution_count": 33,
     "metadata": {},
     "output_type": "execute_result"
    }
   ],
   "source": [
    "audi = Car(\"Audi\", 4)\n",
    "audi.info()"
   ]
  },
  {
   "cell_type": "code",
   "execution_count": 34,
   "id": "7cb72560",
   "metadata": {},
   "outputs": [
    {
     "data": {
      "text/plain": [
       "'Nice car with 2 doors and can carry 6500 kg of cargo'"
      ]
     },
     "execution_count": 34,
     "metadata": {},
     "output_type": "execute_result"
    }
   ],
   "source": [
    "scania = Truck(\"Scania\",2,6500,4)\n",
    "scania.info()"
   ]
  },
  {
   "cell_type": "markdown",
   "id": "fc9f516b",
   "metadata": {},
   "source": [
    "Таким образом, класс наследник может расширять функционал класса родителя."
   ]
  },
  {
   "cell_type": "markdown",
   "id": "52d21c70",
   "metadata": {},
   "source": [
    "## Наследование\n",
    "\n",
    "Возможность одному классу выступать в качестве наследника для другого, перенимая тем самым его свойства и методы, является важной особенностью ООП. Благодаря этой важной особенности пропадает необходимость переписывания кода для подобных или родственных по назначению классов.\n",
    "\n",
    "При наследовании классов в Python обязательно следует соблюдать одно условие: `класс-наследник` должен представлять собой более частный случай `класса-родителя`. В следующем примере показывается как класс `Car` наследуется классом `Truck`. При описании подкласса в Python, имя родительского класса записывается в круглых скобках."
   ]
  },
  {
   "cell_type": "code",
   "execution_count": 35,
   "id": "7ca25f4d",
   "metadata": {},
   "outputs": [],
   "source": [
    "class Car:\n",
    "    def __init__(self, brand, doors_num):\n",
    "        self.__brand = brand\n",
    "        self.__doors_num = doors_num\n",
    "        \n",
    "    def get_brand(self):\n",
    "        return self.__brand\n",
    "    \n",
    "    def set_brand(self, b):\n",
    "        self.__brand = b\n",
    "    \n",
    "    def get_doors(self):\n",
    "        return self.__doors_num\n",
    "    \n",
    "    def set_doors(self, d):\n",
    "        self.__doors = d\n",
    "        \n",
    "    def info(self):\n",
    "        return \"Nice car with \" + str(self.__doors_num) + \" doors\""
   ]
  },
  {
   "cell_type": "code",
   "execution_count": 36,
   "id": "c076b745",
   "metadata": {},
   "outputs": [],
   "source": [
    "class Truck(Car):\n",
    "    \n",
    "    def __init__(self, brand, doors_num, load_weight, axes):\n",
    "        super().__init__(brand, doors_num)\n",
    "        self.__load_weight = load_weight\n",
    "        self.__axes = axes\n",
    "    \n",
    "    def get_load(self):\n",
    "        return self.__load_weight\n",
    "    \n",
    "    def set_load(self, l):\n",
    "        self.__load_weight = l\n",
    "        \n",
    "    def get_axes(self):\n",
    "        return self.__axes\n",
    "    \n",
    "    def set_axes(self, a):\n",
    "        self.__axes = a"
   ]
  },
  {
   "cell_type": "markdown",
   "id": "31e894e6",
   "metadata": {},
   "source": [
    "Родительским классом является `Car`, который при инициализации принимает бренд машины и количество дверей и предоставляет его через свойства. `Truck` – класс наследник от `Car`. Обратите внимание на его метод `__init__`: в нем первым делом вызывается конструктор его родительского класса: `super().__init__(brand, doors_num)`\n",
    "\n",
    "`super` – это ключевое слово, которое используется для обращения к родительскому классу. Теперь у объекта класса `Truck` помимо уже знакомых свойств `brand` и `doors_num` появились свойства `load_weight` и `axes`:"
   ]
  },
  {
   "cell_type": "code",
   "execution_count": 37,
   "id": "0ea46eae",
   "metadata": {},
   "outputs": [
    {
     "data": {
      "text/plain": [
       "'Kamaz'"
      ]
     },
     "execution_count": 37,
     "metadata": {},
     "output_type": "execute_result"
    }
   ],
   "source": [
    "truck = Truck(\"Kamaz\",2,13000,6)\n",
    "\n",
    "truck.get_brand()"
   ]
  },
  {
   "cell_type": "markdown",
   "id": "8675dffb",
   "metadata": {},
   "source": [
    "И смотрите, методы из родительского класса работают!"
   ]
  },
  {
   "cell_type": "code",
   "execution_count": 38,
   "id": "603a0880",
   "metadata": {},
   "outputs": [
    {
     "data": {
      "text/plain": [
       "13000"
      ]
     },
     "execution_count": 38,
     "metadata": {},
     "output_type": "execute_result"
    }
   ],
   "source": [
    "truck.get_load()"
   ]
  },
  {
   "cell_type": "code",
   "execution_count": 39,
   "id": "9304dfc9",
   "metadata": {},
   "outputs": [
    {
     "data": {
      "text/plain": [
       "8"
      ]
     },
     "execution_count": 39,
     "metadata": {},
     "output_type": "execute_result"
    }
   ],
   "source": [
    "truck.set_axes(8)\n",
    "truck.get_axes()"
   ]
  },
  {
   "cell_type": "code",
   "execution_count": 42,
   "id": "775e5fba-c5f4-4b89-a3e7-01716ac3d278",
   "metadata": {},
   "outputs": [
    {
     "data": {
      "text/plain": [
       "'Kamaz'"
      ]
     },
     "execution_count": 42,
     "metadata": {},
     "output_type": "execute_result"
    }
   ],
   "source": [
    "truck.get_brand()"
   ]
  },
  {
   "cell_type": "code",
   "execution_count": 43,
   "id": "f2ced8cb-eb24-486a-8ed5-faff44754940",
   "metadata": {},
   "outputs": [
    {
     "data": {
      "text/plain": [
       "'Nice car with 2 doors'"
      ]
     },
     "execution_count": 43,
     "metadata": {},
     "output_type": "execute_result"
    }
   ],
   "source": [
    "truck.info()"
   ]
  },
  {
   "cell_type": "code",
   "execution_count": 40,
   "id": "4ece754d",
   "metadata": {},
   "outputs": [
    {
     "data": {
      "text/plain": [
       "['_Car__brand',\n",
       " '_Car__doors_num',\n",
       " '_Truck__axes',\n",
       " '_Truck__load_weight',\n",
       " '__class__',\n",
       " '__delattr__',\n",
       " '__dict__',\n",
       " '__dir__',\n",
       " '__doc__',\n",
       " '__eq__',\n",
       " '__format__',\n",
       " '__ge__',\n",
       " '__getattribute__',\n",
       " '__getstate__',\n",
       " '__gt__',\n",
       " '__hash__',\n",
       " '__init__',\n",
       " '__init_subclass__',\n",
       " '__le__',\n",
       " '__lt__',\n",
       " '__module__',\n",
       " '__ne__',\n",
       " '__new__',\n",
       " '__reduce__',\n",
       " '__reduce_ex__',\n",
       " '__repr__',\n",
       " '__setattr__',\n",
       " '__sizeof__',\n",
       " '__str__',\n",
       " '__subclasshook__',\n",
       " '__weakref__',\n",
       " 'get_axes',\n",
       " 'get_brand',\n",
       " 'get_doors',\n",
       " 'get_load',\n",
       " 'info',\n",
       " 'set_axes',\n",
       " 'set_brand',\n",
       " 'set_doors',\n",
       " 'set_load']"
      ]
     },
     "execution_count": 40,
     "metadata": {},
     "output_type": "execute_result"
    }
   ],
   "source": [
    "dir(truck)"
   ]
  },
  {
   "cell_type": "code",
   "execution_count": null,
   "id": "78b795da-5290-4d8f-8bed-6b3c64a5f31d",
   "metadata": {},
   "outputs": [],
   "source": []
  },
  {
   "cell_type": "markdown",
   "id": "77eb4341-5b80-4625-afc9-687f21553a72",
   "metadata": {},
   "source": [
    "Проблема ромбовидного наследования возникает, когда производный класс наследует от нескольких классов, которые имеют общего предка. Для разрешения этой проблемы используется MRO (Method Resolution Order) - порядок разрешения методов."
   ]
  },
  {
   "cell_type": "code",
   "execution_count": 44,
   "id": "de9f5f1c-f457-4dd5-85a2-4da1068799f9",
   "metadata": {},
   "outputs": [
    {
     "name": "stdout",
     "output_type": "stream",
     "text": [
      "B method\n"
     ]
    }
   ],
   "source": [
    "\n",
    "class A:\n",
    "    def method(self):\n",
    "        print(\"A method\")\n",
    "\n",
    "class B(A):\n",
    "    def method(self):\n",
    "        print(\"B method\")\n",
    "\n",
    "class C(A):\n",
    "    def method(self):\n",
    "        print(\"C method\")\n",
    "\n",
    "class D(B, C):\n",
    "    pass\n",
    "\n",
    "obj = D()\n",
    "obj.method()  # B method\n"
   ]
  },
  {
   "cell_type": "markdown",
   "id": "12890333-d49d-4adb-9b6d-c38ae1d1bbbf",
   "metadata": {},
   "source": [
    "### Объяснение:\n",
    "\n",
    "#### Ромбовидное наследование:\n",
    "\n",
    "* Классы B и C наследуют от A\n",
    "\n",
    "* Класс D наследует от B и C\n",
    "\n",
    "* Иерархия образует ромб: A → B, A → C → D\n",
    "\n",
    "#### Проблема:\n",
    "\n",
    "* Если вызвать d.show(), от какого класса (B, C или A) будет взят метод?\n",
    "\n",
    "* Без четкого порядка разрешения методов возможна неоднозначность.\n",
    "\n",
    "#### Решение через MRO (Method Resolution Order):\n",
    "\n",
    "* Python использует алгоритм C3 для определения порядка поиска методов.\n",
    "\n",
    "* MRO можно посмотреть через D.__mro__ или D.mro()"
   ]
  },
  {
   "cell_type": "code",
   "execution_count": 45,
   "id": "fc1b99e6-4031-41e7-9131-69075021a7b4",
   "metadata": {},
   "outputs": [
    {
     "name": "stdout",
     "output_type": "stream",
     "text": [
      "[<class '__main__.D'>, <class '__main__.B'>, <class '__main__.C'>, <class '__main__.A'>, <class 'object'>]\n"
     ]
    }
   ],
   "source": [
    "print(D.mro()) \n",
    "# Вывод: [D, B, C, A, object]"
   ]
  },
  {
   "cell_type": "markdown",
   "id": "aa63ef16-d2fe-4e69-88fc-2a99a77692e1",
   "metadata": {},
   "source": [
    "### Идиома для вызова конструктора текущего класса:\n",
    "\n",
    "\n",
    "Иногда требуется вызвать конструктор текущего класса вместо конструктора родительского класса. Это может быть полезно, например, при создании подкласса с расширенным функционалом, но с сохранением базового состояния.\n",
    "\n",
    "\n"
   ]
  },
  {
   "cell_type": "code",
   "execution_count": null,
   "id": "9528cc66-1066-4d1e-bc2d-fc5a300d85d0",
   "metadata": {},
   "outputs": [],
   "source": [
    "class MyBaseClass:\n",
    "    def __init__(self, x):\n",
    "        self.x = x\n",
    "\n",
    "class MySubClass(MyBaseClass):\n",
    "    def __init__(self, x, y):\n",
    "        super().__init__(x)\n",
    "        self.y = y\n",
    "\n",
    "obj = MySubClass(1, 2)\n",
    "print(obj.x)  # 1\n",
    "print(obj.y)  # 2"
   ]
  },
  {
   "cell_type": "markdown",
   "id": "f332f958-d5a0-443a-8142-4ea272592f94",
   "metadata": {},
   "source": [
    "### Класс object:\n",
    "\n",
    "object является базовым классом для всех классов в Python. Все классы неявно наследуют от класса object и получают его функциональность. Класс object определяет некоторые магические методы, такие как __str__, __repr__, __eq__, которые можно переопределить в производных классах для изменения их поведения.\n",
    "\n",
    "\n"
   ]
  },
  {
   "cell_type": "code",
   "execution_count": null,
   "id": "a75641c7-6afd-4c9b-b3c1-449498d14548",
   "metadata": {},
   "outputs": [],
   "source": [
    "class MyClass:\n",
    "    pass\n",
    "\n",
    "obj = MyClass()\n",
    "print(obj.__str__())  # <__main__.MyClass object at 0x000001>\n",
    "print(obj.__repr__())  # <__main__.MyClass object at 0x000001>"
   ]
  },
  {
   "cell_type": "code",
   "execution_count": null,
   "id": "6f9f4261-9574-4835-a95a-6ccbbd3babce",
   "metadata": {},
   "outputs": [],
   "source": [
    "dir(obj)"
   ]
  },
  {
   "cell_type": "markdown",
   "id": "77821808",
   "metadata": {},
   "source": [
    "### Множественное наследование\n",
    "\n",
    "Наследовать можно не только один класс, но и несколько одновременно, обретая тем самым их свойства и методы. В данном примере класс `Dog` выступает в роли подкласса для `Animal` и `Pet` , поскольку может являться и тем, и другим. От `Animal Dog` получает способность спать (метод `sleep`), в то время как `Pet` дает возможность играть с хозяином (метод `play`). В свою очередь, оба родительских класса унаследовали поле `name` от `Creature`. Класс `Dog` также получил это свойство и может его использовать. Так как мы не используем конструкторы в наследованных классах, то и вызывать через `super()` ничего не надо. Конструктор родительского класса, вызовется автоматически."
   ]
  },
  {
   "cell_type": "code",
   "execution_count": 46,
   "id": "ca103e36",
   "metadata": {},
   "outputs": [
    {
     "name": "stdout",
     "output_type": "stream",
     "text": [
      "Buddy is sleeping\n",
      "Buddy is playing\n",
      "Buddy is barking\n"
     ]
    }
   ],
   "source": [
    "class Creature:\n",
    "    def __init__(self, name):\n",
    "        self.name = name\n",
    "        \n",
    "class Animal(Creature):\n",
    "    def sleep(self):\n",
    "        print(self.name + \" is sleeping\")\n",
    "        \n",
    "class Pet(Creature):\n",
    "    def play(self):\n",
    "        print(self.name + \" is playing\")\n",
    "        \n",
    "class Dog(Animal, Pet):\n",
    "    def bark(self):\n",
    "        print(self.name + \" is barking\")\n",
    "        \n",
    "beast = Dog(\"Buddy\")\n",
    "beast.sleep()\n",
    "beast.play()\n",
    "beast.bark()"
   ]
  },
  {
   "cell_type": "code",
   "execution_count": 47,
   "id": "cd3dda86",
   "metadata": {},
   "outputs": [
    {
     "data": {
      "text/plain": [
       "['__class__',\n",
       " '__delattr__',\n",
       " '__dict__',\n",
       " '__dir__',\n",
       " '__doc__',\n",
       " '__eq__',\n",
       " '__format__',\n",
       " '__ge__',\n",
       " '__getattribute__',\n",
       " '__getstate__',\n",
       " '__gt__',\n",
       " '__hash__',\n",
       " '__init__',\n",
       " '__init_subclass__',\n",
       " '__le__',\n",
       " '__lt__',\n",
       " '__module__',\n",
       " '__ne__',\n",
       " '__new__',\n",
       " '__reduce__',\n",
       " '__reduce_ex__',\n",
       " '__repr__',\n",
       " '__setattr__',\n",
       " '__sizeof__',\n",
       " '__str__',\n",
       " '__subclasshook__',\n",
       " '__weakref__',\n",
       " 'bark',\n",
       " 'name',\n",
       " 'play',\n",
       " 'sleep']"
      ]
     },
     "execution_count": 47,
     "metadata": {},
     "output_type": "execute_result"
    }
   ],
   "source": [
    "dir(beast)"
   ]
  },
  {
   "cell_type": "markdown",
   "id": "a9382749",
   "metadata": {},
   "source": [
    "В вышеописанном примере создается объект класса `Dog`, получающий имя в конструкторе. Затем по очереди выполняются методы `sleep`, `play` и `bark`, двое из которых были унаследованы. Способность лаять является уникальной особенностью собаки, поскольку не каждое животное или домашний питомец умеет это делать."
   ]
  },
  {
   "cell_type": "code",
   "execution_count": null,
   "id": "b02b3a3f-f445-4ca5-906c-0cf1cdc6228e",
   "metadata": {},
   "outputs": [],
   "source": []
  },
  {
   "cell_type": "markdown",
   "id": "7aecaf91",
   "metadata": {},
   "source": [
    "## Абстрактные методы\n",
    "\n",
    "Поскольку в ООП присутствует возможность наследовать поведение родительского класса, иногда возникает необходимость в специфической реализации соответствующих методов. В качестве примера можно привести следующий код, где классы `Truck` и `Bus` являются потомками класса `Car`. Как и положено, они оба наследуют метод `horn` (гудеть), однако в родительском классе для него не существует реализации.\n",
    "\n",
    "Все потому, что машина представляет собой абстрактное понятие, а значит она не способна издавать какой-то конкретный гудок. Однако для грузовика и автобуса данная команда зачастую имеет общепринятое значение. В таком случае можно утверждать, что метод `honk` из `Car` является абстрактным, поскольку не имеет собственного тела реализации."
   ]
  },
  {
   "cell_type": "code",
   "execution_count": 48,
   "id": "e8c09591",
   "metadata": {},
   "outputs": [
    {
     "name": "stdout",
     "output_type": "stream",
     "text": [
      "UUUUUU\n",
      "RRRRrrrr\n"
     ]
    }
   ],
   "source": [
    "class Car:\n",
    "    def __init__(self, brand):\n",
    "        self.__brand = brand\n",
    "        \n",
    "    def honk(self):\n",
    "        pass\n",
    "    \n",
    "class Truck(Car):\n",
    "    def honk(self):\n",
    "        print(\"RRRRrrrr\")\n",
    "        \n",
    "class Bus(Car):\n",
    "    def honk(self):\n",
    "        print(\"UUUUUU\")\n",
    "        \n",
    "        \n",
    "Vanhool = Bus(\"Vanhool\")\n",
    "Iveco = Truck(\"Iveco\")\n",
    "\n",
    "Vanhool.honk()\n",
    "Iveco.honk()"
   ]
  },
  {
   "cell_type": "markdown",
   "id": "a128bc01",
   "metadata": {},
   "source": [
    "Как видно из примера, потомки `Truck` и `Bus` получают `horn`, после чего переопределяют его каждый по-своему. В этом заключается суть полиморфизма, позволяющего изменять ход работы определенного метода исходя из нужд конкретного класса. При этом название у него остается общим для всех наследников, что помогает избежать путаницы с именами."
   ]
  },
  {
   "cell_type": "markdown",
   "id": "42ed4bd3",
   "metadata": {},
   "source": [
    "Начиная с версии языка 2.6 в стандартную библиотеку включается модуль abc, добавляющий в язык абстрактные базовые классы (далее АБК).\n",
    "\n",
    "АБК позволяют определить класс, указав при этом, какие методы или свойства обязательно переопределить в классах-наследниках:"
   ]
  },
  {
   "cell_type": "code",
   "execution_count": 49,
   "id": "10b2c5b8",
   "metadata": {},
   "outputs": [],
   "source": [
    "from abc import ABC, abstractmethod\n",
    "\n",
    "class Book(ABC):\n",
    "    def __init__(self, title, author):\n",
    "        self.title = title\n",
    "        self.author = author\n",
    "\n",
    "    @abstractmethod\n",
    "    def get_summary(self):\n",
    "        pass\n",
    "\n",
    "class Fiction(Book):\n",
    "    def get_summary(self):\n",
    "        print(f'\"{self.title}\" - роман в стиле исторический фикшн, автор - {self.author}')\n",
    "\n",
    "class NonFiction(Book):\n",
    "    def get_summary(self):\n",
    "        print(f'\"{self.title}\" - книга в стиле нон фикшн, автор - {self.author}')\n",
    "\n",
    "class Poetry(Book):\n",
    "    pass"
   ]
  },
  {
   "cell_type": "markdown",
   "id": "ae6cf479",
   "metadata": {},
   "source": [
    "Класс Book имеет абстрактный метод get_summary(). Два подкласса Book (Fiction и NonFiction) реализуют метод get_summary(), а третий подкласс Poetry – нет. Когда мы создаем экземпляры Fiction и NonFiction и вызываем их методы get_summary(), получаем ожидаемый результат:"
   ]
  },
  {
   "cell_type": "code",
   "execution_count": 50,
   "id": "54a74572",
   "metadata": {},
   "outputs": [
    {
     "name": "stdout",
     "output_type": "stream",
     "text": [
      "\"Террор\" - роман в стиле исторический фикшн, автор - Дэн Симмонс\n",
      "\"Как писать книги\" - книга в стиле нон фикшн, автор - Стивен Кинг\n"
     ]
    }
   ],
   "source": [
    "fiction_book = Fiction(\"Террор\", \"Дэн Симмонс\")\n",
    "nonfiction_book = NonFiction(\"Как писать книги\", \"Стивен Кинг\")\n",
    "fiction_book.get_summary()\n",
    "nonfiction_book.get_summary()"
   ]
  },
  {
   "cell_type": "markdown",
   "id": "df0a45c7",
   "metadata": {},
   "source": [
    "А вот вызов Poetry приведет к ошибке, поскольку в этом подклассе метод get_summary() не реализован:"
   ]
  },
  {
   "cell_type": "code",
   "execution_count": 51,
   "id": "14f5a291",
   "metadata": {},
   "outputs": [
    {
     "ename": "TypeError",
     "evalue": "Can't instantiate abstract class Poetry without an implementation for abstract method 'get_summary'",
     "output_type": "error",
     "traceback": [
      "\u001b[1;31m---------------------------------------------------------------------------\u001b[0m",
      "\u001b[1;31mTypeError\u001b[0m                                 Traceback (most recent call last)",
      "Cell \u001b[1;32mIn[51], line 1\u001b[0m\n\u001b[1;32m----> 1\u001b[0m poetry_book \u001b[38;5;241m=\u001b[39m Poetry(\u001b[38;5;124m\"\u001b[39m\u001b[38;5;124mСтихотворения\u001b[39m\u001b[38;5;124m\"\u001b[39m, \u001b[38;5;124m\"\u001b[39m\u001b[38;5;124mБорис Пастернак\u001b[39m\u001b[38;5;124m\"\u001b[39m)\n",
      "\u001b[1;31mTypeError\u001b[0m: Can't instantiate abstract class Poetry without an implementation for abstract method 'get_summary'"
     ]
    }
   ],
   "source": [
    "poetry_book = Poetry(\"Стихотворения\", \"Борис Пастернак\")"
   ]
  },
  {
   "cell_type": "code",
   "execution_count": null,
   "id": "6210b4b2",
   "metadata": {},
   "outputs": [],
   "source": [
    "len(dir(nonfiction_book))"
   ]
  },
  {
   "cell_type": "code",
   "execution_count": null,
   "id": "41a42063",
   "metadata": {},
   "outputs": [],
   "source": [
    "len(dir(fiction_book))"
   ]
  },
  {
   "cell_type": "markdown",
   "id": "6893257a-312d-4e4c-92cc-d938d5b5e12c",
   "metadata": {},
   "source": [
    "### Создание пользовательских исключений:\n",
    "\n",
    "Python позволяет создавать собственные исключения для обработки специфических ситуаций в коде. Для создания пользовательского исключения необходимо определить новый класс, наследующийся от класса Exception или его подклассов.\n",
    "\n",
    "\n",
    "🤓Можем написать свое исключение для класса комплексных чисел или для векторов, например. Пускай мы будем бросать исключение VectorError, если хотим сложить вектора разной длины.\n"
   ]
  },
  {
   "cell_type": "code",
   "execution_count": 52,
   "id": "032b2f0a-10ee-496a-bb95-d9383fca4ade",
   "metadata": {},
   "outputs": [
    {
     "name": "stdout",
     "output_type": "stream",
     "text": [
      "This is a custom exception\n"
     ]
    }
   ],
   "source": [
    "class CustomException(Exception):\n",
    "    pass\n",
    "\n",
    "try:\n",
    "    raise CustomException(\"This is a custom exception\")\n",
    "except CustomException as e:\n",
    "    print(e)  # This is a custom exception"
   ]
  },
  {
   "cell_type": "markdown",
   "id": "dc9d4e34",
   "metadata": {},
   "source": [
    "## Практика"
   ]
  },
  {
   "attachments": {},
   "cell_type": "markdown",
   "id": "0e791d89",
   "metadata": {},
   "source": [
    "Создать систему наследования для геометрических фигур: фигура, прямоугольник, квадрат, круг (можно добавить и другие плоские фигуры - например, параллелограмм, треугольник, прямоугольный треугольник). \n",
    "У всего определить площадь и периметр, а также `__str__` (дополнительно можно добавить `__repr__`). \n",
    "\n",
    "**Важно**: где-то нужно переопределять методы, а площадь абстрактной фигуры не определена."
   ]
  },
  {
   "cell_type": "code",
   "execution_count": null,
   "id": "42a4de0d",
   "metadata": {},
   "outputs": [],
   "source": [
    "from math import pi\n",
    "\n",
    "class Figure:\n",
    "    def area(self):\n",
    "        raise NotImplementedError(\"Площадь не определена для абстрактной фигуры\")\n",
    "\n",
    "    def perimeter(self):\n",
    "        raise NotImplementedError(\"Периметр не определен для абстрактной фигуры\")\n",
    "\n",
    "    def __str__(self):\n",
    "        return \"Это геометрическая фигура\"\n",
    "\n",
    "class Rectangle(Figure):\n",
    "    def __init__(self, width, height):\n",
    "        self.width = width\n",
    "        self.высота = height\n",
    "\n",
    "    def area(self):\n",
    "        return self.width * self.height\n",
    "\n",
    "    def perimeter(self):\n",
    "        return 2 * (self.width + self.width)\n",
    "\n",
    "    def __str__(self):\n",
    "        return f\"Прямоугольник шириной {self.width} и высотой {self.height}\"\n",
    "\n",
    "class Square(Rectangle):\n",
    "    def __init__(self, side):\n",
    "        super().__init__(side, side)\n",
    "\n",
    "    def __str__(self):\n",
    "        return f\"Квадрат со стороной {self.width}\"\n",
    "\n",
    "class Cycle(Figure):\n",
    "    def __init__(self, radius):\n",
    "        self.radius = radius\n",
    "\n",
    "    def area(self):\n",
    "        return pi * self.radiusс ** 2\n",
    "\n",
    "    def perimeter(self):\n",
    "        return 2 * pi * self.radius\n",
    "\n",
    "    def __str__(self):\n",
    "        return f\"Круг с радиусом {self.radius}\"\n"
   ]
  },
  {
   "cell_type": "markdown",
   "id": "406ec988-ece1-4a8e-b4a6-c9ac5ac93a6f",
   "metadata": {},
   "source": [
    "### Полезные материалы\n",
    "1. Абстрактные классы в Python http://pythonicway.com/education/python-oop-themes/33-python-abstract-class\n",
    "2. Наследование  https://metanit.com/python/tutorial/7.3.php \n",
    "\n",
    "### Вопросы для закрепления\n",
    "1. Зачем нужны приватные поля? Как эта идея реализована в Python?\n",
    "2. Что такое полиморфизм? Зачем он нужен? Приведите пример\n",
    "3. Зачем могут понадобиться абстрактные классы? Приведите пример задачи, в которой нужен класс, экземляр которого не нужно создавать ибо он не имеет смысла\n"
   ]
  },
  {
   "cell_type": "code",
   "execution_count": null,
   "id": "35b26a65-fb60-443a-92a2-dead051f2259",
   "metadata": {},
   "outputs": [],
   "source": []
  }
 ],
 "metadata": {
  "kernelspec": {
   "display_name": "Python 3 (ipykernel)",
   "language": "python",
   "name": "python3"
  },
  "language_info": {
   "codemirror_mode": {
    "name": "ipython",
    "version": 3
   },
   "file_extension": ".py",
   "mimetype": "text/x-python",
   "name": "python",
   "nbconvert_exporter": "python",
   "pygments_lexer": "ipython3",
   "version": "3.12.4"
  }
 },
 "nbformat": 4,
 "nbformat_minor": 5
}
