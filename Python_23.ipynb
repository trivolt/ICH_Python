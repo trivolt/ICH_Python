{
 "cells": [
  {
   "attachments": {},
   "cell_type": "markdown",
   "id": "c3b5d678-e57a-4d32-9458-faf79b5885d8",
   "metadata": {},
   "source": [
    "# Итераторы, итерируемые объекты и генераторы\n"
   ]
  },
  {
   "cell_type": "markdown",
   "id": "e268cc52-29b1-46ee-9dc2-cc4670365c6b",
   "metadata": {},
   "source": [
    "### Итераторы"
   ]
  },
  {
   "cell_type": "markdown",
   "id": "30b09f19-4990-43a5-b4f9-faf610f77589",
   "metadata": {},
   "source": [
    "Итератор - это объект, который предоставляет последовательный доступ к элементам коллекции или последовательности. "
   ]
  },
  {
   "cell_type": "markdown",
   "id": "33de9045-2f8d-4fd7-b999-07f0b4ae88cd",
   "metadata": {},
   "source": [
    "Итераторы позволяют последовательно обходить элементы коллекции (например, списка, словаря, множества) без необходимости знать внутреннюю структуру этой коллекции. В Python итераторы реализуют два основных методода `__iter__()` и `__next__()`."
   ]
  },
  {
   "cell_type": "markdown",
   "id": "e39ec0a9-7190-4c6d-9386-ad99cee956ea",
   "metadata": {},
   "source": [
    "* `__iter__()`  возвращает сам итератор\n",
    "* `__next__()` возвращает следующий элемент в последовательности\n",
    "  \n",
    "Метод `__next__()` вызывается при каждой итерации, чтобы получить следующий элемент\n"
   ]
  },
  {
   "cell_type": "markdown",
   "id": "1bfdd67c-1d49-4017-8fae-2d91c43c2bcd",
   "metadata": {},
   "source": [
    "Тут мы раскрываем еще одну тайну: что функция len у списков/строк/… на самом деле есть вызов метода `__len__`.\n",
    "\n",
    "Соответственно, пробуем вызвать `__iter__` у списка."
   ]
  },
  {
   "cell_type": "code",
   "execution_count": 65,
   "id": "6bc8e1ed-ffa7-44d3-b699-7ccc3fb497fb",
   "metadata": {},
   "outputs": [
    {
     "data": {
      "text/plain": [
       "8"
      ]
     },
     "execution_count": 65,
     "metadata": {},
     "output_type": "execute_result"
    }
   ],
   "source": [
    "str = 'adfgadfg'\n",
    "str.__len__()"
   ]
  },
  {
   "cell_type": "code",
   "execution_count": 66,
   "id": "d6b80c6b-9f8c-41dc-b70e-e2d1112a0492",
   "metadata": {},
   "outputs": [
    {
     "data": {
      "text/plain": [
       "8"
      ]
     },
     "execution_count": 66,
     "metadata": {},
     "output_type": "execute_result"
    }
   ],
   "source": [
    "len(str)"
   ]
  },
  {
   "cell_type": "markdown",
   "id": "b1d24f7a-9ab2-4da8-b71b-b04eb65513a1",
   "metadata": {},
   "source": [
    "Python предоставляет встроенные итераторы для многих типов данных, таких как списки, строки, словари и т.д."
   ]
  },
  {
   "cell_type": "code",
   "execution_count": 67,
   "id": "0cc8a7e9-872b-4c46-a104-ca700e7ba543",
   "metadata": {},
   "outputs": [
    {
     "name": "stdout",
     "output_type": "stream",
     "text": [
      "1\n",
      "2\n",
      "3\n",
      "4\n"
     ]
    }
   ],
   "source": [
    "# Итерация по списку\n",
    "my_list = [1, 2, 3, 4]\n",
    "iterator = iter(my_list)  # Получаем итератор\n",
    "print(next(iterator))  # 1\n",
    "print(next(iterator))  # 2\n",
    "print(next(iterator))  # 3\n",
    "print(next(iterator))  # 4\n",
    "# print(next(iterator))  # Вызовет StopIteration, так как элементы закончились"
   ]
  },
  {
   "cell_type": "code",
   "execution_count": 68,
   "id": "10045e0c-21d0-4844-933c-0164b8b7a266",
   "metadata": {},
   "outputs": [
    {
     "ename": "StopIteration",
     "evalue": "",
     "output_type": "error",
     "traceback": [
      "\u001b[1;31m---------------------------------------------------------------------------\u001b[0m",
      "\u001b[1;31mStopIteration\u001b[0m                             Traceback (most recent call last)",
      "Cell \u001b[1;32mIn[68], line 1\u001b[0m\n\u001b[1;32m----> 1\u001b[0m \u001b[38;5;28mprint\u001b[39m(\u001b[38;5;28mnext\u001b[39m(iterator))\n",
      "\u001b[1;31mStopIteration\u001b[0m: "
     ]
    }
   ],
   "source": [
    "print(next(iterator))"
   ]
  },
  {
   "cell_type": "code",
   "execution_count": 69,
   "id": "e3f48940-7ff4-4b2a-9a0c-56633bb84835",
   "metadata": {},
   "outputs": [
    {
     "name": "stdout",
     "output_type": "stream",
     "text": [
      "h\n",
      "e\n",
      "l\n"
     ]
    }
   ],
   "source": [
    "# Итерации по строке\n",
    "my_string = \"hello\"\n",
    "iterator = iter(my_string)\n",
    "print(next(iterator))  # 'h'\n",
    "print(next(iterator))  # 'e'\n",
    "print(next(iterator))  # 'l'"
   ]
  },
  {
   "cell_type": "code",
   "execution_count": 70,
   "id": "9ff7cc74-71f3-4372-ac77-b8374e21900c",
   "metadata": {},
   "outputs": [
    {
     "name": "stdout",
     "output_type": "stream",
     "text": [
      "l\n"
     ]
    }
   ],
   "source": [
    "print(next(iterator))"
   ]
  },
  {
   "cell_type": "code",
   "execution_count": 71,
   "id": "ca925055-01a0-4c94-8e07-3035249dad31",
   "metadata": {},
   "outputs": [
    {
     "name": "stdout",
     "output_type": "stream",
     "text": [
      "o\n"
     ]
    }
   ],
   "source": [
    "print(next(iterator))"
   ]
  },
  {
   "cell_type": "code",
   "execution_count": 72,
   "id": "73b1a88e-2d7e-4c4e-a44b-6e6eaf5edc06",
   "metadata": {},
   "outputs": [
    {
     "ename": "StopIteration",
     "evalue": "",
     "output_type": "error",
     "traceback": [
      "\u001b[1;31m---------------------------------------------------------------------------\u001b[0m",
      "\u001b[1;31mStopIteration\u001b[0m                             Traceback (most recent call last)",
      "Cell \u001b[1;32mIn[72], line 1\u001b[0m\n\u001b[1;32m----> 1\u001b[0m \u001b[38;5;28mprint\u001b[39m(\u001b[38;5;28mnext\u001b[39m(iterator))\n",
      "\u001b[1;31mStopIteration\u001b[0m: "
     ]
    }
   ],
   "source": [
    "print(next(iterator))"
   ]
  },
  {
   "cell_type": "markdown",
   "id": "59c6e9b8-fd2e-4bbc-84a6-afa1aa611621",
   "metadata": {},
   "source": [
    "***Итераторы полезны для работы с большими или бесконечными последовательностями данных, так как они генерируют элементы \"на лету\" и не хранят всю коллекцию в памяти.***"
   ]
  },
  {
   "cell_type": "markdown",
   "id": "a990d44b-9c3a-4f69-80ca-78311be3c5df",
   "metadata": {},
   "source": [
    "Когда использовать итераторы:\n",
    "\n",
    "* Когда нужно работать с большими или бесконечными последовательностями.\n",
    "* Когда вы хотите создать собственный способ обхода данных.\n",
    "* Когда нужно экономить память, избегая хранения всей коллекции в памяти."
   ]
  },
  {
   "cell_type": "markdown",
   "id": "aaadca55-7e54-46a5-b796-a3e159b5c63c",
   "metadata": {},
   "source": [
    "### Подумайте!"
   ]
  },
  {
   "cell_type": "code",
   "execution_count": 73,
   "id": "b6055c67-c306-4a59-b80d-d1c515a963d5",
   "metadata": {},
   "outputs": [
    {
     "name": "stdout",
     "output_type": "stream",
     "text": [
      "True\n",
      "False\n"
     ]
    }
   ],
   "source": [
    "#Объясните ученице ее ошибку и предложите способ исправления ситуации: \n",
    "#ученица в целях экономии памяти компьютера вместо последовательности чисел от 1 до миллиона в виде списка решила создать ленивый итератор numbers с помощью функции range().\n",
    "#Затем в двух разных местах своего скрипта она делала проверку того, есть ли число 2000 в этой коллекции. \n",
    "\n",
    "numbers = iter(range(1, 1000001))\n",
    "print(2000 in numbers)\n",
    "print(2000 in numbers)\n"
   ]
  },
  {
   "cell_type": "markdown",
   "id": "b0332431-dd73-47ac-8fc6-5a8cfa981f7a",
   "metadata": {},
   "source": [
    "Что происходит:\n",
    "1. `numbers = iter(range(1, 1000001))`:\n",
    "\n",
    "* Создается итератор numbers на основе диапазона от 1 до 1 000 000.\n",
    "\n",
    "* Итератор не хранит все элементы в памяти, а генерирует их по мере необходимости.\n",
    "\n",
    "2. `print(2000 in numbers)`:\n",
    "\n",
    "* Python начинает итерироваться по numbers, начиная с 1, и проверяет каждый элемент на равенство 2000.\n",
    "\n",
    "* Как только он находит 2000, итерация останавливается, и возвращается True.\n",
    "\n",
    "* Однако итератор \"продвинулся\" до 2000, и все элементы до 2000 были \"потреблены\".\n",
    "\n",
    "3. `print(2000 in numbers)`:\n",
    "\n",
    "* Теперь итератор продолжает с того места, где он остановился (после 2000).\n",
    "\n",
    "* Он проверяет элементы, начиная с 2001, и до конца диапазона (1 000 000).\n",
    "\n",
    "* Поскольку 2000 уже было \"потреблено\" на предыдущем шаге, оно больше не встречается в оставшейся части итератора.\n",
    "\n",
    "Поэтому возвращается False."
   ]
  },
  {
   "cell_type": "markdown",
   "id": "69cb48c1-16fc-46e7-b9d7-6e1a963ea835",
   "metadata": {},
   "source": [
    "В данном случае не было никакого смысла создавать итератор, так как функция range() изначально создает ленивый итерабельный объект, который занимает практически такой же объем памяти."
   ]
  },
  {
   "cell_type": "code",
   "execution_count": null,
   "id": "c4427019-2b39-45dc-9f7a-7e5bf664c2fe",
   "metadata": {},
   "outputs": [],
   "source": [
    "import sys\n",
    "\n",
    "numbers = iter(range(1, 1000001))\n",
    "print(sys.getsizeof(numbers))\n",
    "numbers = range(1, 1000001)\n",
    "print(sys.getsizeof(numbers))\n"
   ]
  },
  {
   "cell_type": "markdown",
   "id": "957fc1d0-ec52-4d5c-aa2f-bf1d7f8cfbbe",
   "metadata": {},
   "source": [
    "### Как на самом деле работает цикл for:"
   ]
  },
  {
   "cell_type": "markdown",
   "id": "e36c9cae-4aba-4ef7-a2f5-57c859aae04e",
   "metadata": {},
   "source": [
    "Цикл for в Python основан на использовании итераторов. Когда цикл for выполняется, он вызывает метод iter() для получения итератора от итерируемого объекта, а затем повторяет вызов метода `__next__()` для получения следующего элемента до тех пор, пока итератор не исчерпается.\n"
   ]
  },
  {
   "cell_type": "code",
   "execution_count": 74,
   "id": "bee2ffff-0ba1-4661-a1ad-1435b5dd0519",
   "metadata": {},
   "outputs": [
    {
     "name": "stdout",
     "output_type": "stream",
     "text": [
      "1\n",
      "2\n",
      "3\n"
     ]
    }
   ],
   "source": [
    "my_list = [1, 2, 3]\n",
    "for item in my_list:\n",
    "    print(item)\n"
   ]
  },
  {
   "cell_type": "markdown",
   "id": "6ec0384c-c9d8-4698-a796-df766fad34f6",
   "metadata": {},
   "source": [
    "🤓А давайте попробуем написать цикл for?"
   ]
  },
  {
   "cell_type": "code",
   "execution_count": 75,
   "id": "f0f31b17-aa75-4201-a605-f7d2a9f84573",
   "metadata": {},
   "outputs": [
    {
     "name": "stdout",
     "output_type": "stream",
     "text": [
      "1\n",
      "2\n",
      "3\n"
     ]
    }
   ],
   "source": [
    "iterator = iter(my_list)\n",
    "while True:\n",
    "    try:\n",
    "        print(next(iterator))\n",
    "    except StopIteration:\n",
    "        break"
   ]
  },
  {
   "cell_type": "markdown",
   "id": "39790a37-26c6-4744-ba6b-74c558d23dce",
   "metadata": {},
   "source": [
    "Так что даже казалось бы знакомый нам цикл for работает через итераторы (потому и принимает на вход iterable, например, range, но об этом чуть позже. Но, мегакруто, что можем определить методы `__iter__` и `__next__` у чего угодно, и потом можно проходить по нему for.\n",
    "\n",
    "Можем вызвать dir(iterator), и найти `__iter__` и `__next__` в списке имеющихся полей. У каких типов они есть?\n"
   ]
  },
  {
   "cell_type": "code",
   "execution_count": 76,
   "id": "5c8b46d8-82ba-462a-bcb5-24039f9fe240",
   "metadata": {},
   "outputs": [],
   "source": [
    "s='hello'\n",
    "lst=[1,2,3]\n",
    "dct={1:1,2:2}\n",
    "tpl=(1,2,3)\n",
    "st={1,2,3,4}\n"
   ]
  },
  {
   "cell_type": "code",
   "execution_count": 77,
   "id": "0ddaf04f-2ef0-4415-9975-00d95323b33b",
   "metadata": {},
   "outputs": [
    {
     "data": {
      "text/plain": [
       "['__add__',\n",
       " '__class__',\n",
       " '__contains__',\n",
       " '__delattr__',\n",
       " '__dir__',\n",
       " '__doc__',\n",
       " '__eq__',\n",
       " '__format__',\n",
       " '__ge__',\n",
       " '__getattribute__',\n",
       " '__getitem__',\n",
       " '__getnewargs__',\n",
       " '__getstate__',\n",
       " '__gt__',\n",
       " '__hash__',\n",
       " '__init__',\n",
       " '__init_subclass__',\n",
       " '__iter__',\n",
       " '__le__',\n",
       " '__len__',\n",
       " '__lt__',\n",
       " '__mod__',\n",
       " '__mul__',\n",
       " '__ne__',\n",
       " '__new__',\n",
       " '__reduce__',\n",
       " '__reduce_ex__',\n",
       " '__repr__',\n",
       " '__rmod__',\n",
       " '__rmul__',\n",
       " '__setattr__',\n",
       " '__sizeof__',\n",
       " '__str__',\n",
       " '__subclasshook__',\n",
       " 'capitalize',\n",
       " 'casefold',\n",
       " 'center',\n",
       " 'count',\n",
       " 'encode',\n",
       " 'endswith',\n",
       " 'expandtabs',\n",
       " 'find',\n",
       " 'format',\n",
       " 'format_map',\n",
       " 'index',\n",
       " 'isalnum',\n",
       " 'isalpha',\n",
       " 'isascii',\n",
       " 'isdecimal',\n",
       " 'isdigit',\n",
       " 'isidentifier',\n",
       " 'islower',\n",
       " 'isnumeric',\n",
       " 'isprintable',\n",
       " 'isspace',\n",
       " 'istitle',\n",
       " 'isupper',\n",
       " 'join',\n",
       " 'ljust',\n",
       " 'lower',\n",
       " 'lstrip',\n",
       " 'maketrans',\n",
       " 'partition',\n",
       " 'removeprefix',\n",
       " 'removesuffix',\n",
       " 'replace',\n",
       " 'rfind',\n",
       " 'rindex',\n",
       " 'rjust',\n",
       " 'rpartition',\n",
       " 'rsplit',\n",
       " 'rstrip',\n",
       " 'split',\n",
       " 'splitlines',\n",
       " 'startswith',\n",
       " 'strip',\n",
       " 'swapcase',\n",
       " 'title',\n",
       " 'translate',\n",
       " 'upper',\n",
       " 'zfill']"
      ]
     },
     "execution_count": 77,
     "metadata": {},
     "output_type": "execute_result"
    }
   ],
   "source": [
    "dir(s)"
   ]
  },
  {
   "cell_type": "code",
   "execution_count": 78,
   "id": "f965d02e-454f-4502-883a-d8159a5165f9",
   "metadata": {},
   "outputs": [
    {
     "data": {
      "text/plain": [
       "['__and__',\n",
       " '__class__',\n",
       " '__class_getitem__',\n",
       " '__contains__',\n",
       " '__delattr__',\n",
       " '__dir__',\n",
       " '__doc__',\n",
       " '__eq__',\n",
       " '__format__',\n",
       " '__ge__',\n",
       " '__getattribute__',\n",
       " '__getstate__',\n",
       " '__gt__',\n",
       " '__hash__',\n",
       " '__iand__',\n",
       " '__init__',\n",
       " '__init_subclass__',\n",
       " '__ior__',\n",
       " '__isub__',\n",
       " '__iter__',\n",
       " '__ixor__',\n",
       " '__le__',\n",
       " '__len__',\n",
       " '__lt__',\n",
       " '__ne__',\n",
       " '__new__',\n",
       " '__or__',\n",
       " '__rand__',\n",
       " '__reduce__',\n",
       " '__reduce_ex__',\n",
       " '__repr__',\n",
       " '__ror__',\n",
       " '__rsub__',\n",
       " '__rxor__',\n",
       " '__setattr__',\n",
       " '__sizeof__',\n",
       " '__str__',\n",
       " '__sub__',\n",
       " '__subclasshook__',\n",
       " '__xor__',\n",
       " 'add',\n",
       " 'clear',\n",
       " 'copy',\n",
       " 'difference',\n",
       " 'difference_update',\n",
       " 'discard',\n",
       " 'intersection',\n",
       " 'intersection_update',\n",
       " 'isdisjoint',\n",
       " 'issubset',\n",
       " 'issuperset',\n",
       " 'pop',\n",
       " 'remove',\n",
       " 'symmetric_difference',\n",
       " 'symmetric_difference_update',\n",
       " 'union',\n",
       " 'update']"
      ]
     },
     "execution_count": 78,
     "metadata": {},
     "output_type": "execute_result"
    }
   ],
   "source": [
    "dir(set)"
   ]
  },
  {
   "cell_type": "code",
   "execution_count": 82,
   "id": "3a435d4d-8a6c-4714-9715-699b2fef8932",
   "metadata": {},
   "outputs": [
    {
     "data": {
      "text/plain": [
       "['__abs__',\n",
       " '__add__',\n",
       " '__bool__',\n",
       " '__ceil__',\n",
       " '__class__',\n",
       " '__delattr__',\n",
       " '__dir__',\n",
       " '__divmod__',\n",
       " '__doc__',\n",
       " '__eq__',\n",
       " '__float__',\n",
       " '__floor__',\n",
       " '__floordiv__',\n",
       " '__format__',\n",
       " '__ge__',\n",
       " '__getattribute__',\n",
       " '__getformat__',\n",
       " '__getnewargs__',\n",
       " '__getstate__',\n",
       " '__gt__',\n",
       " '__hash__',\n",
       " '__init__',\n",
       " '__init_subclass__',\n",
       " '__int__',\n",
       " '__le__',\n",
       " '__lt__',\n",
       " '__mod__',\n",
       " '__mul__',\n",
       " '__ne__',\n",
       " '__neg__',\n",
       " '__new__',\n",
       " '__pos__',\n",
       " '__pow__',\n",
       " '__radd__',\n",
       " '__rdivmod__',\n",
       " '__reduce__',\n",
       " '__reduce_ex__',\n",
       " '__repr__',\n",
       " '__rfloordiv__',\n",
       " '__rmod__',\n",
       " '__rmul__',\n",
       " '__round__',\n",
       " '__rpow__',\n",
       " '__rsub__',\n",
       " '__rtruediv__',\n",
       " '__setattr__',\n",
       " '__sizeof__',\n",
       " '__str__',\n",
       " '__sub__',\n",
       " '__subclasshook__',\n",
       " '__truediv__',\n",
       " '__trunc__',\n",
       " 'as_integer_ratio',\n",
       " 'conjugate',\n",
       " 'fromhex',\n",
       " 'hex',\n",
       " 'imag',\n",
       " 'is_integer',\n",
       " 'real']"
      ]
     },
     "execution_count": 82,
     "metadata": {},
     "output_type": "execute_result"
    }
   ],
   "source": [
    "dir(float)"
   ]
  },
  {
   "cell_type": "markdown",
   "id": "fddb15b0-2d32-4d76-bede-b3a4ef193921",
   "metadata": {},
   "source": [
    "### Генераторы"
   ]
  },
  {
   "cell_type": "markdown",
   "id": "193dfd4c-750c-45b3-87a0-3a348021ce7c",
   "metadata": {},
   "source": [
    "это функции, которые возвращают последовательность значений, сохраняя при этом свое состояние между вызовами"
   ]
  },
  {
   "cell_type": "markdown",
   "id": "cd433c08-ef4d-468b-8f0a-918c5e22bdb7",
   "metadata": {},
   "source": [
    "Пример: Генератор, который возвращает числа от 0 до N:"
   ]
  },
  {
   "cell_type": "code",
   "execution_count": 83,
   "id": "253627aa-4c35-4892-9f63-c48cb7ce61de",
   "metadata": {},
   "outputs": [
    {
     "name": "stdout",
     "output_type": "stream",
     "text": [
      "0\n",
      "1\n",
      "2\n",
      "3\n",
      "4\n"
     ]
    }
   ],
   "source": [
    "def simple_generator(n):\n",
    "    for i in range(n):\n",
    "        yield i  # Приостанавливает выполнение и возвращает значение\n",
    "\n",
    "# Использование генератора\n",
    "gen = simple_generator(5)\n",
    "for value in gen:\n",
    "    print(value)"
   ]
  },
  {
   "cell_type": "code",
   "execution_count": 84,
   "id": "721d3fb9-424d-48b5-916b-98bab7a0cd03",
   "metadata": {},
   "outputs": [
    {
     "name": "stdout",
     "output_type": "stream",
     "text": [
      "0\n",
      "1\n",
      "2\n"
     ]
    }
   ],
   "source": [
    "# Пример: Бесконечный генератор\n",
    "def infinite_generator():\n",
    "    num = 0\n",
    "    while True:\n",
    "        yield num\n",
    "        num += 1\n",
    "\n",
    "# Использование генератора\n",
    "gen = infinite_generator()\n",
    "print(next(gen))  # 0\n",
    "print(next(gen))  # 1\n",
    "print(next(gen))  # 2\n",
    "# И так далее..."
   ]
  },
  {
   "cell_type": "code",
   "execution_count": 85,
   "id": "b43b2ac7-2361-4dc2-84a9-6e84d819c4a0",
   "metadata": {},
   "outputs": [
    {
     "name": "stdout",
     "output_type": "stream",
     "text": [
      "3\n"
     ]
    }
   ],
   "source": [
    "print(next(gen))"
   ]
  },
  {
   "cell_type": "code",
   "execution_count": 86,
   "id": "24f34f37-8916-4666-b52f-0a79a0ad7c91",
   "metadata": {},
   "outputs": [
    {
     "name": "stdout",
     "output_type": "stream",
     "text": [
      "4\n"
     ]
    }
   ],
   "source": [
    "print(next(gen))"
   ]
  },
  {
   "cell_type": "code",
   "execution_count": null,
   "id": "bff1ff22-634e-4cb9-bd44-1efbeefba71d",
   "metadata": {},
   "outputs": [],
   "source": []
  },
  {
   "cell_type": "markdown",
   "id": "94fef3f4-0435-4fc2-9729-15a9ae9d1593",
   "metadata": {},
   "source": [
    "***yield*** это ключевое слово, которое используется в генераторах для определения значений, которые будут возвращены при каждом вызове метода `__next__()`.\n"
   ]
  },
  {
   "cell_type": "code",
   "execution_count": 87,
   "id": "5bc5ecd3-c321-482b-804a-dd5a330b9403",
   "metadata": {},
   "outputs": [
    {
     "name": "stdout",
     "output_type": "stream",
     "text": [
      "1\n",
      "2\n",
      "3\n"
     ]
    }
   ],
   "source": [
    "def my_generator():\n",
    "    yield 1\n",
    "    yield 2\n",
    "    yield 3\n",
    "\n",
    "gen = my_generator()\n",
    "print(next(gen))  # Выводит 1\n",
    "print(next(gen))  # Выводит 2\n",
    "print(next(gen))  # Выводит 3\n"
   ]
  },
  {
   "cell_type": "markdown",
   "id": "6cdb113b-0c6c-4559-bcbe-d7671acf1f8d",
   "metadata": {},
   "source": [
    "### Экспресс-опрос"
   ]
  },
  {
   "cell_type": "code",
   "execution_count": null,
   "id": "24819ac5-c014-4266-8c08-5e8709779b51",
   "metadata": {},
   "outputs": [],
   "source": []
  },
  {
   "cell_type": "code",
   "execution_count": null,
   "id": "b6e258de-adaa-426e-b371-ca205cd5dfaf",
   "metadata": {},
   "outputs": [],
   "source": []
  },
  {
   "cell_type": "code",
   "execution_count": 88,
   "id": "3c05fc0f-d6cf-475f-bd3b-004da0e82869",
   "metadata": {},
   "outputs": [
    {
     "name": "stdout",
     "output_type": "stream",
     "text": [
      "1\n",
      "2\n",
      "Generator returned: Finished\n"
     ]
    }
   ],
   "source": [
    "def generator_with_return():\n",
    "    yield 1\n",
    "    yield 2\n",
    "    return \"Finished\"  # Завершает генератор и возвращает значение\n",
    "\n",
    "gen = generator_with_return()\n",
    "print(next(gen))  # 1\n",
    "print(next(gen))  # 2\n",
    "try:\n",
    "    print(next(gen))  # Вызовет StopIteration\n",
    "except StopIteration as e:\n",
    "    print(f\"Generator returned: {e.value}\")  # Generator returned: Finished"
   ]
  },
  {
   "cell_type": "markdown",
   "id": "7bc61478-0366-412a-8ddc-0fbec68a5cdc",
   "metadata": {},
   "source": [
    "### Генераторные выражения\n"
   ]
  },
  {
   "cell_type": "markdown",
   "id": "d2b96e76-3693-43be-ad15-8215cf4a2fbf",
   "metadata": {},
   "source": [
    " Генераторные выражения по аналогии со списковыми включениями:\n",
    " \n",
    "Генераторные выражения - это компактный способ создания генераторов в Python, используя синтаксис списковых включений. Они позволяют создавать генераторы без явного определения функции с ключевым словом yield.\n",
    "\n"
   ]
  },
  {
   "cell_type": "code",
   "execution_count": 89,
   "id": "8742dc71-2dc3-4393-9193-46b92ee0b32b",
   "metadata": {},
   "outputs": [
    {
     "name": "stdout",
     "output_type": "stream",
     "text": [
      "0\n",
      "1\n",
      "2\n",
      "3\n",
      "4\n",
      "5\n",
      "6\n",
      "7\n",
      "8\n",
      "9\n"
     ]
    }
   ],
   "source": [
    "my_generator = (x for x in range(10))\n",
    "for item in my_generator:\n",
    "    print(item)"
   ]
  },
  {
   "cell_type": "markdown",
   "id": "7dc3b6de-452f-417a-95bb-949425b2ac04",
   "metadata": {},
   "source": [
    "🤓Плюс перед list comprehensions: генераторные выражения не записывают все элементы в память! Соответственно, если мы только итерируемся по какому-то list comprehension, подумайте, а не заменить ли его на генераторное выражение?"
   ]
  },
  {
   "cell_type": "code",
   "execution_count": null,
   "id": "7fa9ef0d-0f05-47c4-b0b6-a49ccd1e9415",
   "metadata": {},
   "outputs": [],
   "source": []
  },
  {
   "cell_type": "code",
   "execution_count": null,
   "id": "d44364a0-45dc-4e8f-a851-78b1e07df242",
   "metadata": {},
   "outputs": [],
   "source": [
    "# ПРИМЕР: Перед нами задача: на сервере есть огромный журнал событий log.txt, в котором хранятся сведения о работе какой-то системы за год.\n",
    "#Из него нужно выбрать и обработать для статистики данные об ошибках — строки, содержащие слово error."
   ]
  },
  {
   "cell_type": "code",
   "execution_count": null,
   "id": "305ea548-2e19-455d-b38d-6d9de2b6758d",
   "metadata": {},
   "outputs": [],
   "source": [
    "#Такие строки можно выбрать и сохранить в памяти с помощью списка:\n",
    "with open(path + \"\\log.txt\", \"r\") as log_file:\n",
    "     err_list = [st for st in log_file if \"error\" in st]"
   ]
  },
  {
   "cell_type": "markdown",
   "id": "2af4aee3-f984-43b3-94b4-d5d807bfff85",
   "metadata": {},
   "source": [
    "В списке err_list содержатся все строки со словом error, они записаны в память компьютера. Теперь их можно обработать в цикле. Недостаток метода в том, что, если таких строк будет слишком много, они переполнят память и вызовут ошибку MemoryError.\n",
    "\n",
    "Переполнения памяти можно избежать, если организовать поточную обработку данных с использованием объекта-генератора. Мы создадим его с помощью генераторного выражения (оно отличается от генератора списка только круглыми скобками)."
   ]
  },
  {
   "cell_type": "code",
   "execution_count": null,
   "id": "e5c10da0-6ba1-42c6-9317-782646c748c6",
   "metadata": {},
   "outputs": [],
   "source": [
    "with open(\"path\\log.txt\", \"r\") as log_file:\n",
    "     err_gen = (st for st in log_file if \"error\" in st)\n",
    "     for item in err_gen:\n",
    "         #<обработка строки item>  "
   ]
  },
  {
   "cell_type": "markdown",
   "id": "65341653-4099-477b-a5c7-1bdc8ffe19db",
   "metadata": {},
   "source": [
    "Этот метод не вызывает переполнения, так как в каждый момент времени в памяти находится только одна строка. При этом нужный для работы объём памяти не зависит от размера файла и количества строк, удовлетворяющих условию."
   ]
  },
  {
   "cell_type": "code",
   "execution_count": null,
   "id": "d0d17030-6de2-46b3-b480-8196e530cbf1",
   "metadata": {},
   "outputs": [],
   "source": []
  },
  {
   "cell_type": "markdown",
   "id": "a83ae813-6655-4287-bc84-068d342c05b1",
   "metadata": {},
   "source": [
    "В Python итерируемый объект (iterable) — это любой объект, который можно использовать в цикле for, но он не обязательно является итератором. Итерируемый объект должен реализовать метод `__iter__()`, который возвращает итератор. Сам итерируемый объект не имеет метода `__next__()`, поэтому он не может самостоятельно перебирать элементы.\n",
    "\n",
    "Пример итерируемого объекта, который не является итератором:"
   ]
  },
  {
   "cell_type": "markdown",
   "id": "60f8ab61-6039-47bd-9cb4-f540275e2786",
   "metadata": {},
   "source": [
    "Список — это классический пример итерируемого объекта, который не является итератором. У списка есть метод `__iter__()`, который возвращает итератор, но сам список не имеет метода `__next__()`."
   ]
  },
  {
   "cell_type": "code",
   "execution_count": 90,
   "id": "c007eda2-9c03-4766-a9a2-6b883b46b0d7",
   "metadata": {},
   "outputs": [
    {
     "name": "stdout",
     "output_type": "stream",
     "text": [
      "True\n",
      "False\n",
      "1\n",
      "2\n"
     ]
    }
   ],
   "source": [
    "my_list = [1, 2, 3, 4]\n",
    "\n",
    "# Проверяем, что список является итерируемым объектом\n",
    "print(hasattr(my_list, '__iter__'))  # True\n",
    "\n",
    "# Проверяем, что список не является итератором\n",
    "print(hasattr(my_list, '__next__'))  # False\n",
    "\n",
    "# Получаем итератор из списка\n",
    "iterator = iter(my_list)\n",
    "print(next(iterator))  # 1\n",
    "print(next(iterator))  # 2"
   ]
  },
  {
   "cell_type": "code",
   "execution_count": 91,
   "id": "bb64853d-2e28-48ce-a5f5-93ad7bab2366",
   "metadata": {},
   "outputs": [
    {
     "name": "stdout",
     "output_type": "stream",
     "text": [
      "True\n",
      "False\n"
     ]
    }
   ],
   "source": [
    "my_string = \"hello\"\n",
    "print(hasattr(my_string, '__iter__'))  # True\n",
    "print(hasattr(my_string, '__next__'))  # False"
   ]
  },
  {
   "cell_type": "code",
   "execution_count": 92,
   "id": "a03220d4-e9ca-4abf-911a-01792a3e1b9c",
   "metadata": {},
   "outputs": [
    {
     "name": "stdout",
     "output_type": "stream",
     "text": [
      "h\n"
     ]
    }
   ],
   "source": [
    "itr = iter(my_string)\n",
    "print(next(itr))"
   ]
  },
  {
   "cell_type": "code",
   "execution_count": 93,
   "id": "2a2cc613-1c1d-4ba2-b19e-a4bd43a6a5bc",
   "metadata": {},
   "outputs": [
    {
     "name": "stdout",
     "output_type": "stream",
     "text": [
      "True\n",
      "False\n"
     ]
    }
   ],
   "source": [
    "my_dict = {'a': 1, 'b': 2}\n",
    "print(hasattr(my_dict, '__iter__'))  # True\n",
    "print(hasattr(my_dict, '__next__'))  # False"
   ]
  },
  {
   "cell_type": "code",
   "execution_count": 94,
   "id": "10dad75a-9210-4927-ba6f-d8e229800e70",
   "metadata": {},
   "outputs": [
    {
     "name": "stdout",
     "output_type": "stream",
     "text": [
      "a\n"
     ]
    }
   ],
   "source": [
    "itr = iter(my_dict)\n",
    "print(next(itr))"
   ]
  },
  {
   "cell_type": "code",
   "execution_count": 95,
   "id": "482d8f46-47e3-4019-a37d-21d9eb315625",
   "metadata": {},
   "outputs": [
    {
     "name": "stdout",
     "output_type": "stream",
     "text": [
      "b\n"
     ]
    }
   ],
   "source": [
    "print(next(itr))"
   ]
  },
  {
   "cell_type": "code",
   "execution_count": 96,
   "id": "2f3fa761-7d83-435c-9da3-6586dfaab084",
   "metadata": {},
   "outputs": [
    {
     "ename": "StopIteration",
     "evalue": "",
     "output_type": "error",
     "traceback": [
      "\u001b[1;31m---------------------------------------------------------------------------\u001b[0m",
      "\u001b[1;31mStopIteration\u001b[0m                             Traceback (most recent call last)",
      "Cell \u001b[1;32mIn[96], line 1\u001b[0m\n\u001b[1;32m----> 1\u001b[0m \u001b[38;5;28mprint\u001b[39m(\u001b[38;5;28mnext\u001b[39m(itr))\n",
      "\u001b[1;31mStopIteration\u001b[0m: "
     ]
    }
   ],
   "source": [
    "print(next(itr))"
   ]
  },
  {
   "cell_type": "markdown",
   "id": "50622df3-e58b-4079-a2e0-a34b52c34500",
   "metadata": {},
   "source": [
    "### Подумайте"
   ]
  },
  {
   "cell_type": "markdown",
   "id": "38ad0410-4232-48e5-be61-0c7acb5e12b3",
   "metadata": {},
   "source": [
    "Ученик написал генератор show_letters(some_str), выводящий все символы строки на печать, но только в том случае, если они являются буквами (остальные игнорируются). \n",
    "Сократите код функции.\n"
   ]
  },
  {
   "cell_type": "code",
   "execution_count": null,
   "id": "b9821dbc-8314-43c9-9ff1-892b5f5f16e8",
   "metadata": {},
   "outputs": [],
   "source": [
    "def show_letters(some_str):\n",
    "    clean_str = ''.join([letter for letter in some_str if letter.isalpha()])\n",
    "    for symbol in clean_str:\n",
    "        yield symbol\n"
   ]
  },
  {
   "cell_type": "code",
   "execution_count": null,
   "id": "51f27b15-4be0-4d6e-953d-e977154542d5",
   "metadata": {},
   "outputs": [],
   "source": []
  },
  {
   "cell_type": "code",
   "execution_count": 105,
   "id": "49d4805a-034f-4b42-bd88-0b6d8b1d423e",
   "metadata": {},
   "outputs": [],
   "source": [
    "def show_letters_modif(some_str):\n",
    "    for symbol in some_str:\n",
    "        if symbol.isalpha():\n",
    "            yield symbol"
   ]
  },
  {
   "cell_type": "code",
   "execution_count": 106,
   "id": "70ae52ab-4af4-4385-b6b9-e6ae9206cd09",
   "metadata": {},
   "outputs": [],
   "source": [
    "gen = show_letters_modif('uf1f')"
   ]
  },
  {
   "cell_type": "code",
   "execution_count": 99,
   "id": "14282977-4f27-4c9d-9f91-a9c98201b19c",
   "metadata": {},
   "outputs": [
    {
     "data": {
      "text/plain": [
       "'u'"
      ]
     },
     "execution_count": 99,
     "metadata": {},
     "output_type": "execute_result"
    }
   ],
   "source": [
    "next(gen)"
   ]
  },
  {
   "cell_type": "code",
   "execution_count": 100,
   "id": "786bee5b-cb4f-47ac-8bba-aa47a1ae58c5",
   "metadata": {},
   "outputs": [
    {
     "data": {
      "text/plain": [
       "'f'"
      ]
     },
     "execution_count": 100,
     "metadata": {},
     "output_type": "execute_result"
    }
   ],
   "source": [
    "next(gen)"
   ]
  },
  {
   "cell_type": "code",
   "execution_count": 101,
   "id": "c4a328bf-d210-4009-b8f7-930e3ed3318a",
   "metadata": {},
   "outputs": [
    {
     "data": {
      "text/plain": [
       "'f'"
      ]
     },
     "execution_count": 101,
     "metadata": {},
     "output_type": "execute_result"
    }
   ],
   "source": [
    "next(gen)"
   ]
  },
  {
   "cell_type": "code",
   "execution_count": 102,
   "id": "171f6f46-b349-4388-9040-dbd1aed37f2e",
   "metadata": {},
   "outputs": [
    {
     "ename": "StopIteration",
     "evalue": "",
     "output_type": "error",
     "traceback": [
      "\u001b[1;31m---------------------------------------------------------------------------\u001b[0m",
      "\u001b[1;31mStopIteration\u001b[0m                             Traceback (most recent call last)",
      "Cell \u001b[1;32mIn[102], line 1\u001b[0m\n\u001b[1;32m----> 1\u001b[0m \u001b[38;5;28mnext\u001b[39m(gen)\n",
      "\u001b[1;31mStopIteration\u001b[0m: "
     ]
    }
   ],
   "source": [
    "next(gen)"
   ]
  },
  {
   "cell_type": "code",
   "execution_count": 107,
   "id": "7d7889e0-5bba-4a68-8a9f-a6787b545e9a",
   "metadata": {},
   "outputs": [
    {
     "name": "stdout",
     "output_type": "stream",
     "text": [
      "u\n",
      "f\n",
      "f\n"
     ]
    }
   ],
   "source": [
    "for item in gen:\n",
    "    print(item)"
   ]
  },
  {
   "cell_type": "markdown",
   "id": "09dee773-4758-49b6-8f14-98b65d2a4465",
   "metadata": {},
   "source": [
    "Конструкция yield from позволяет полностью убрать цикл из функции. Она \"вкладывает\" один генератор внутрь другого, что дает возможность управления несколькими генераторами."
   ]
  },
  {
   "cell_type": "code",
   "execution_count": null,
   "id": "fe459119-b84c-4e7e-a265-1bc7151540ef",
   "metadata": {},
   "outputs": [],
   "source": [
    "def show_letters(some_str):\n",
    "\tyield from ''.join([letter for letter in some_str if letter.isalpha()])\n",
    " \n",
    "random_str = show_letters('A!sdf 09 _ w')\n",
    "print(next(random_str))\n",
    "print(next(random_str))\n"
   ]
  },
  {
   "cell_type": "code",
   "execution_count": null,
   "id": "3fb0ccb9-e4b2-49df-817c-98ef39a60290",
   "metadata": {},
   "outputs": [],
   "source": []
  },
  {
   "cell_type": "markdown",
   "id": "411ac1fd-056d-4d72-84d0-fbcf4d659a99",
   "metadata": {},
   "source": [
    "### Отличия итератора, генератора и итерируемого объекта:\n",
    "- Итератор - это объект, который реализует методы `__iter__()` и `__next__()`, позволяющие последовательно обходить элементы.\n",
    "- Генератор - это функция, которая использует ключевое слово yield для возврата значений, сохраняя при этом свое состояние между вызовами.\n",
    "- Итерируемый объект - это объект, который может быть использован в цикле for. Он возвращает итератор при вызове функции iter().\n"
   ]
  },
  {
   "cell_type": "markdown",
   "id": "6b996f1b-319e-4cef-81ef-83b26c870a70",
   "metadata": {},
   "source": [
    "### Модуль itertools"
   ]
  },
  {
   "cell_type": "markdown",
   "id": "d23e8d62-9c34-481a-bf09-f5144b16b501",
   "metadata": {},
   "source": [
    "Модуль itertools предоставляет набор функций для работы с итерируемыми объектами. Одна из полезных функций - islice, которая позволяет создавать итераторы, представляющие собой срезы исходного итерируемого объекта.\n"
   ]
  },
  {
   "cell_type": "code",
   "execution_count": 108,
   "id": "f8b6ff00-4a0c-49fc-83a0-c1efcf1e9ca0",
   "metadata": {},
   "outputs": [
    {
     "name": "stdout",
     "output_type": "stream",
     "text": [
      "2\n",
      "3\n",
      "4\n"
     ]
    }
   ],
   "source": [
    "import itertools\n",
    "\n",
    "my_list = [1, 2, 3, 4, 5]\n",
    "my_iterator = itertools.islice(my_list, 1, 4)\n",
    "for item in my_iterator:\n",
    "    print(item)  # Выводит 2, 3, 4\n"
   ]
  },
  {
   "cell_type": "code",
   "execution_count": null,
   "id": "9cca12da-cf7e-4e31-9a69-5694c99a397c",
   "metadata": {},
   "outputs": [],
   "source": []
  },
  {
   "cell_type": "code",
   "execution_count": 109,
   "id": "7fc38018-1fe5-44de-ab04-bf8c6fbd41ab",
   "metadata": {},
   "outputs": [
    {
     "name": "stdout",
     "output_type": "stream",
     "text": [
      "red s\n",
      "red m\n",
      "red l\n",
      "green s\n",
      "green m\n",
      "green l\n",
      "blue s\n",
      "blue m\n",
      "blue l\n"
     ]
    }
   ],
   "source": [
    "import itertools\n",
    "colors = ['red', 'green', 'blue']\n",
    "sizes = ['s','m','l']\n",
    "for color, size in itertools.product(colors,sizes):\n",
    "   print(color,size)"
   ]
  },
  {
   "cell_type": "code",
   "execution_count": null,
   "id": "87728cc7-d725-47e7-843a-0b916494e10f",
   "metadata": {},
   "outputs": [],
   "source": []
  },
  {
   "attachments": {},
   "cell_type": "markdown",
   "id": "0a0caa1d-f9d4-4528-8a65-237080c23ea0",
   "metadata": {},
   "source": [
    "### Решение задач\n",
    "Создание генератора, который будет делать ровно то же самое что и range. Доработать предыдущий генератор так, чтобы он мог принимать один, два или три аргумента, как и обычный range.\r\n"
   ]
  },
  {
   "cell_type": "code",
   "execution_count": 114,
   "id": "95bd33b5-0fb0-42b7-be51-9c6fee96717a",
   "metadata": {},
   "outputs": [
    {
     "data": {
      "text/plain": [
       "[3, 2]"
      ]
     },
     "execution_count": 114,
     "metadata": {},
     "output_type": "execute_result"
    }
   ],
   "source": [
    "list(range(3,1,-1))"
   ]
  },
  {
   "cell_type": "code",
   "execution_count": null,
   "id": "c5a0047c-79a0-4652-aa19-39496d1fd4d2",
   "metadata": {},
   "outputs": [],
   "source": []
  },
  {
   "cell_type": "code",
   "execution_count": null,
   "id": "3518e951-5b3e-4208-a6da-2d7a4f701f44",
   "metadata": {},
   "outputs": [],
   "source": []
  },
  {
   "cell_type": "code",
   "execution_count": 115,
   "id": "d1ed788c-8706-4b82-9b27-d151e0c54dd7",
   "metadata": {},
   "outputs": [],
   "source": [
    "def my_range(*args):\n",
    "    if len(args) == 1:\n",
    "        start, stop, step = 0, args[0], 1\n",
    "    elif len(args) == 2:\n",
    "        start, stop, step = args[0], args[1], 1\n",
    "    elif len(args) == 3:\n",
    "        start, stop, step = args[0], args[1], args[2]\n",
    "    else:\n",
    "        raise TypeError(f\"Ожидалось 3 аргумента, принято {len(args)}\")\n",
    "\n",
    "    if step == 0:\n",
    "        raise ValueError(f\"Третий аргумент не должен быть 0\")\n",
    "\n",
    "    current = start\n",
    "    if step > 0:\n",
    "        while current < stop:\n",
    "            yield current\n",
    "            current += step\n",
    "    else:\n",
    "        while current > stop:\n",
    "            yield current\n",
    "            current += step"
   ]
  },
  {
   "cell_type": "code",
   "execution_count": 116,
   "id": "04770e25-5873-4ab1-8de1-6d67680de3ac",
   "metadata": {},
   "outputs": [
    {
     "name": "stdout",
     "output_type": "stream",
     "text": [
      "2\n",
      "4\n",
      "6\n"
     ]
    }
   ],
   "source": [
    "gen = my_range(2,7,2)\n",
    "for i in gen:\n",
    "    print(i)"
   ]
  },
  {
   "cell_type": "code",
   "execution_count": 117,
   "id": "4fd75db2-2c86-45ec-8296-55cb791a58aa",
   "metadata": {},
   "outputs": [
    {
     "name": "stdout",
     "output_type": "stream",
     "text": [
      "20\n",
      "19\n",
      "18\n",
      "17\n",
      "16\n",
      "15\n",
      "14\n",
      "13\n",
      "12\n",
      "11\n",
      "10\n",
      "9\n",
      "8\n"
     ]
    }
   ],
   "source": [
    "gen = my_range(20,7,-1)\n",
    "for i in gen:\n",
    "    print(i)"
   ]
  },
  {
   "cell_type": "markdown",
   "id": "2dfec541-0113-4d74-85df-9de44fa6c39b",
   "metadata": {},
   "source": [
    "### Полезные материалы\n",
    "1. Итераторы в Python для самых маленьких https://habr.com/ru/companies/domclick/articles/674194/ \n",
    "2. Итераторы https://pyneng.readthedocs.io/ru/latest/book/13_iterator_generator/iterator.html \n",
    "### Вопросы для закрепления\n",
    "1. Чем отличаются итератор и итерируемый объект? Приведите пример итерируемого объекта, который не является итератором\n",
    "2. В каких случаях лучше использовать генераторное выражение вместо спискового включения?\n",
    "3. Может ли в генераторе быть ключевое слово return? Если да, то зачем тогда нужен yield?\n"
   ]
  },
  {
   "cell_type": "code",
   "execution_count": null,
   "id": "e470621d-0b56-485d-a2ef-bc9c6c007595",
   "metadata": {},
   "outputs": [],
   "source": []
  }
 ],
 "metadata": {
  "kernelspec": {
   "display_name": "Python 3 (ipykernel)",
   "language": "python",
   "name": "python3"
  },
  "language_info": {
   "codemirror_mode": {
    "name": "ipython",
    "version": 3
   },
   "file_extension": ".py",
   "mimetype": "text/x-python",
   "name": "python",
   "nbconvert_exporter": "python",
   "pygments_lexer": "ipython3",
   "version": "3.12.4"
  }
 },
 "nbformat": 4,
 "nbformat_minor": 5
}
