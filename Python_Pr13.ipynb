{
 "cells": [
  {
   "cell_type": "markdown",
   "id": "16d0ea4f-c896-414a-af8f-1d5d36703632",
   "metadata": {},
   "source": [
    "# Практика 13"
   ]
  },
  {
   "cell_type": "markdown",
   "id": "858937a7-0847-48ff-a5e6-c77ce9bac799",
   "metadata": {},
   "source": [
    "1. Дана последовательность слов. Написать функцию, которая возвращает последовательность слов из исходной последовательности, длина которых больше трех. Использовать lambda-функции и filter. \n"
   ]
  },
  {
   "cell_type": "code",
   "execution_count": 2,
   "id": "f5ab4d48-d00a-4001-8235-dc0de0cf2e18",
   "metadata": {},
   "outputs": [
    {
     "name": "stdout",
     "output_type": "stream",
     "text": [
      "['люблю', 'программировать', 'Python', 'решать', 'задачи']\n"
     ]
    }
   ],
   "source": [
    "words = [\"я\",\"люблю\", 'программировать',\"на\", 'Python', \"и\", 'решать', 'задачи']\n",
    "#функциональная парадигма\n",
    "print(list(filter(lambda item: len(item) > 3, words)))"
   ]
  },
  {
   "cell_type": "code",
   "execution_count": 3,
   "id": "a709a9a7-54a1-44fe-83a0-fe81783cf3f7",
   "metadata": {},
   "outputs": [
    {
     "name": "stdout",
     "output_type": "stream",
     "text": [
      "['люблю', 'программировать', 'Python', 'решать', 'задачи']\n"
     ]
    }
   ],
   "source": [
    "#императивная парадигма\n",
    "filter_lst = [item for item in words if len(item)>3]\n",
    "print(filter_lst)"
   ]
  },
  {
   "cell_type": "markdown",
   "id": "8ee79e5b-ec77-4162-b0ad-d5d75be53888",
   "metadata": {},
   "source": [
    "2. Дана последовательность слов (строк). Вернуть предложение, составленное из строк данной последовательности. Слова в полученном предложении разделены пробелами. \n"
   ]
  },
  {
   "cell_type": "code",
   "execution_count": 8,
   "id": "9dd90dec-1a4d-425d-8092-2e4e2708c28b",
   "metadata": {},
   "outputs": [
    {
     "name": "stdout",
     "output_type": "stream",
     "text": [
      " The quick brown fox\n"
     ]
    }
   ],
   "source": [
    "words = [\"The\", \"quick\", \"brown\", \"fox\"]\n",
    "#имеративный\n",
    "sentence = ''\n",
    "for word in words:\n",
    "    sentence += ' '+ word\n",
    "print(sentence)"
   ]
  },
  {
   "cell_type": "code",
   "execution_count": 6,
   "id": "80a41590-8945-4419-b36f-54ea0552c4aa",
   "metadata": {},
   "outputs": [
    {
     "data": {
      "text/plain": [
       "'The quick brown fox'"
      ]
     },
     "execution_count": 6,
     "metadata": {},
     "output_type": "execute_result"
    }
   ],
   "source": [
    "#функциональный\n",
    "from functools import reduce\n",
    "\n",
    "reduce(lambda sentence, word: sentence +' '+ word, words)"
   ]
  },
  {
   "cell_type": "markdown",
   "id": "6359bb14-3d86-47ee-9eb3-4eb4b09b3cbb",
   "metadata": {},
   "source": [
    "3. Дана последовательность слов. Написать функцию, которая возвращает последовательность слов, в которой в словах длины 3 все буквы заглавные. Пример: [“The”, “quick”, “brown”, “fox”] -> [“THE”, “quick”, “brown”, “FOX”]\n"
   ]
  },
  {
   "cell_type": "code",
   "execution_count": 9,
   "id": "f373e470-a858-4ee6-a105-e3785fca6606",
   "metadata": {},
   "outputs": [
    {
     "name": "stdout",
     "output_type": "stream",
     "text": [
      "['THE', 'quick', 'brown', 'FOX']\n"
     ]
    }
   ],
   "source": [
    "#функциональный\n",
    "words = ['The', 'quick', 'brown', 'fox']\n",
    "\n",
    "print(list(map(lambda word: word.upper() if len(word) == 3 else word, words)))"
   ]
  },
  {
   "cell_type": "code",
   "execution_count": 10,
   "id": "d76a97f8-41c0-43ab-aafd-5d50ae575fa5",
   "metadata": {},
   "outputs": [
    {
     "name": "stdout",
     "output_type": "stream",
     "text": [
      "['THE', 'quick', 'brown', 'FOX']\n"
     ]
    }
   ],
   "source": [
    "#императивный\n",
    "words = ['The', 'quick', 'brown', 'fox']\n",
    "lst = []\n",
    "for word in words:\n",
    "    if len(word) == 3:\n",
    "        lst.append(word.upper())\n",
    "    else:\n",
    "        lst.append(word)\n",
    "print(lst)"
   ]
  },
  {
   "cell_type": "markdown",
   "id": "cd7231d9-380b-4b60-87b5-3f9a80277c7e",
   "metadata": {},
   "source": [
    "4. Изменить решение задачи 1 так, чтобы последовательность слов вычитывалась из текстового файла, где каждое слово было в новой строке. \n"
   ]
  },
  {
   "cell_type": "code",
   "execution_count": 15,
   "id": "3d12516a-16c9-4ec0-8f8f-2d6b9533abb2",
   "metadata": {},
   "outputs": [
    {
     "name": "stdout",
     "output_type": "stream",
     "text": [
      "['люблю', 'программировать', 'Python', 'решать', 'задачи']\n"
     ]
    }
   ],
   "source": [
    "#функциональный\n",
    "(\n",
    "print(list(filter(lambda item: len(item) > 3,\n",
    "                  list(map(lambda line: line.strip(), open('C:\\\\Users\\\\dplog\\\\Python\\\\data\\\\pr13.txt','r',encoding='utf-8').readlines())))))\n",
    ")"
   ]
  },
  {
   "cell_type": "markdown",
   "id": "f89969ce-e776-4ff1-88be-4eacf119460a",
   "metadata": {},
   "source": [
    "5. Дан текстовый файл, где каждая строка описывает человека в формате:\n",
    "   \n",
    "`<Name>; <Age>`\n",
    "\n",
    "Sergey;35\n",
    "\n",
    "Ivan;25\n",
    "\n",
    "Svetlana;20\n",
    "\n",
    "Maria;27\n",
    "\n",
    "Нужно написать программу, которая печатает имя самого старшего человека. Поменяйте программу так, чтобы она печатала список людей, чем возраст больше 25 лет. \n"
   ]
  },
  {
   "cell_type": "code",
   "execution_count": 33,
   "id": "940fdd6e-3262-418a-8d92-b234c616001b",
   "metadata": {},
   "outputs": [],
   "source": [
    "res = list(map(lambda item: (item[0], int(item[1])), list(map(lambda line: line.split(';'), open('C:\\\\Users\\\\dplog\\\\Python\\\\data\\\\name_pr13.txt','r',encoding='utf-8').readlines()))))"
   ]
  },
  {
   "cell_type": "code",
   "execution_count": 34,
   "id": "6e016a87-7b26-4f12-b828-2c603ed59f14",
   "metadata": {},
   "outputs": [
    {
     "data": {
      "text/plain": [
       "[('Sergey', 35), ('Ivan', 25), ('Svetlana', 20), ('Maria', 27)]"
      ]
     },
     "execution_count": 34,
     "metadata": {},
     "output_type": "execute_result"
    }
   ],
   "source": [
    "res"
   ]
  },
  {
   "cell_type": "code",
   "execution_count": 38,
   "id": "63961b6c-f8dd-4998-8bb9-4784858b1941",
   "metadata": {},
   "outputs": [
    {
     "data": {
      "text/plain": [
       "'Sergey'"
      ]
     },
     "execution_count": 38,
     "metadata": {},
     "output_type": "execute_result"
    }
   ],
   "source": [
    "sorted(res, key = lambda x: x[1])[-1][0]"
   ]
  },
  {
   "cell_type": "code",
   "execution_count": 40,
   "id": "f48f41a6-bf77-4138-942c-d7c460bb5dbe",
   "metadata": {},
   "outputs": [
    {
     "data": {
      "text/plain": [
       "'Sergey'"
      ]
     },
     "execution_count": 40,
     "metadata": {},
     "output_type": "execute_result"
    }
   ],
   "source": [
    "max(res, key = lambda x: x[1])[0]"
   ]
  },
  {
   "cell_type": "code",
   "execution_count": 42,
   "id": "e9c7d755-1ae5-4e89-9716-eea5a4c7c0b9",
   "metadata": {},
   "outputs": [
    {
     "data": {
      "text/plain": [
       "[('Sergey', 35), ('Maria', 27)]"
      ]
     },
     "execution_count": 42,
     "metadata": {},
     "output_type": "execute_result"
    }
   ],
   "source": [
    "list(filter(lambda pars: pars[1]>25 ,res))"
   ]
  },
  {
   "cell_type": "code",
   "execution_count": null,
   "id": "3aa9679b-b46e-4b02-8043-8299cf57b67a",
   "metadata": {},
   "outputs": [],
   "source": []
  }
 ],
 "metadata": {
  "kernelspec": {
   "display_name": "Python 3 (ipykernel)",
   "language": "python",
   "name": "python3"
  },
  "language_info": {
   "codemirror_mode": {
    "name": "ipython",
    "version": 3
   },
   "file_extension": ".py",
   "mimetype": "text/x-python",
   "name": "python",
   "nbconvert_exporter": "python",
   "pygments_lexer": "ipython3",
   "version": "3.12.4"
  }
 },
 "nbformat": 4,
 "nbformat_minor": 5
}
