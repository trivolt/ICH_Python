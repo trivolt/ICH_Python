{
 "cells": [
  {
   "cell_type": "markdown",
   "id": "8382d124-dfc1-4c16-bfb2-2b411ec849d4",
   "metadata": {},
   "source": [
    "# Summary 13"
   ]
  },
  {
   "cell_type": "code",
   "execution_count": null,
   "id": "7fac1f87-2073-465a-acf4-324e1cc53931",
   "metadata": {},
   "outputs": [],
   "source": []
  },
  {
   "cell_type": "code",
   "execution_count": null,
   "id": "f2449564-41e3-4279-9b09-773a66a50419",
   "metadata": {},
   "outputs": [],
   "source": []
  },
  {
   "cell_type": "markdown",
   "id": "6f0bb223-5d6f-453d-b3dd-2c6d3f467017",
   "metadata": {},
   "source": [
    "## Разбор ДЗ 25"
   ]
  },
  {
   "cell_type": "markdown",
   "id": "491b98d3-6eee-4531-84cf-819c3efaa3b6",
   "metadata": {},
   "source": [
    "1. Напишите функцию find_longest_word, которая будет принимать список слов и возвращать самое длинное слово из списка. \n",
    "Аннотируйте типы аргументов и возвращаемого значения функции.\n",
    "\n",
    "Пример вызова функции и ожидаемого вывода:\n",
    "\n",
    "words = [\"apple\", \"banana\", \"cherry\", \"dragonfruit\"]\n",
    "\n",
    "result = find_longest_word(words)\n",
    "\n",
    "print(result)  # Ожидаемый вывод: \"dragonfruit\""
   ]
  },
  {
   "cell_type": "code",
   "execution_count": 1,
   "id": "004e091d-bbfb-4667-9ced-92379c0556a1",
   "metadata": {},
   "outputs": [
    {
     "name": "stdout",
     "output_type": "stream",
     "text": [
      "dragonfruit\n"
     ]
    }
   ],
   "source": [
    "from typing import List\n",
    "\n",
    "def find_longest_word(w: List[str]) -> str:\n",
    "    return max(w,key=len)\n",
    "\n",
    "words = [\"apple\", \"banana\", \"cherry\", \"dragonfruit\"]\n",
    "result = find_longest_word(words)\n",
    "print(result)\n"
   ]
  },
  {
   "cell_type": "markdown",
   "id": "322cd483-15e0-4f05-ac79-8b19fbe21de9",
   "metadata": {},
   "source": [
    "2. Напишите программу, которая будет считывать данные о продуктах из файла и использовать аннотации типов для аргументов и возвращаемых значений функций.\n",
    "Создайте текстовый файл \"products.txt\", в котором каждая строка будет содержать информацию о продукте в формате \"название, цена, количество\". \n",
    "\n",
    "Пример:\n",
    "\n",
    "Apple, 1.50, 10\n",
    "\n",
    "Banana, 0.75, 15\n",
    "* В программе определите функцию calculate_total_price, которая будет принимать список продуктов и возвращать общую стоимость. \n",
    "* Продумайте, какая аннотация должна быть у аргумента.\n",
    "* Считайте данные из файла, разделите строки на составляющие и создайте список продуктов. \n",
    "* Вызовите функцию calculate_total_price с этим списком и выведите результат.\n"
   ]
  },
  {
   "cell_type": "code",
   "execution_count": null,
   "id": "ccfe29be-2d00-4a06-9da6-9efdae6d413e",
   "metadata": {},
   "outputs": [],
   "source": [
    "from typing import List,Tuple\n",
    "\n",
    "def calculate_total_price(c: List[Tuple[str,float,int]]) -> float:\n",
    "    total=0\n",
    "    for i in c:\n",
    "        total+=i[1]*i[2]\n",
    "    return total\n",
    "\n",
    "f=[x.split(\", \") for x in open(\"products.txt\",\"r\").readlines()]\n",
    "s=[(y[0],float(y[1]),int(y[2])) for y in f]\n",
    "print(calculate_total_price(s))"
   ]
  },
  {
   "cell_type": "markdown",
   "id": "f25accca-0fed-40d7-a63c-2c643ab88cb2",
   "metadata": {},
   "source": [
    "## Разбор ДЗ 26"
   ]
  },
  {
   "cell_type": "markdown",
   "id": "5d29a78b-a370-4a17-8870-af7aa55c4526",
   "metadata": {},
   "source": [
    "1. Напишите программу, которая принимает в качестве аргумента командной строки путь к файлу .py и запускает его. \n",
    "При запуске файла программа должна выводить сообщение \"Файл <имя файла> успешно запущен\". \n",
    "Если файл не существует или не может быть запущен, программа должна вывести соответствующее сообщение об ошибке.\n"
   ]
  },
  {
   "cell_type": "code",
   "execution_count": null,
   "id": "1dd7e74a-450c-4f3f-b632-b0b5e8fd8fca",
   "metadata": {},
   "outputs": [],
   "source": [
    "import sys\n",
    "import os.path\n",
    "\n",
    "args = sys.argv\n",
    "if os.path.exists(args[1]):\n",
    "    if(os.path.isfile(args[1])):\n",
    "        if args[1][-3:]==\".py\":\n",
    "            os.system(\"py \"+args[1]) #запускает переданную строку как команду в системной оболочке (например, в Bash на Linux или cmd на Windows)\n",
    "            print(\"File \"+args[1]+\" is executed\")\n",
    "        else:\n",
    "            print(\"Not a .py file\")\n",
    "    else:\n",
    "        print(\"Not a file\")\n",
    "else:\n",
    "    print(\"File doesn't exist\")\n"
   ]
  },
  {
   "cell_type": "markdown",
   "id": "3ddcda42-52dc-46bf-a07a-af73278e1637",
   "metadata": {},
   "source": [
    "2. Напишите программу, которая принимает в качестве аргумента командной строки путь к директории и выводит список всех файлов и поддиректорий внутри этой директории. \n",
    "Для этой задачи используйте модуль os и его функцию walk. \n",
    "Программа должна выводить полный путь к каждому файлу и директории.\n"
   ]
  },
  {
   "cell_type": "code",
   "execution_count": null,
   "id": "c98c6ff3-bf2d-4fcd-9ecf-2d74ef88dead",
   "metadata": {},
   "outputs": [],
   "source": [
    "import os\n",
    "import sys\n",
    "\n",
    "args = sys.argv\n",
    "os.chdir(args[1])\n",
    "current_dir = os.getcwd()\n",
    "for dirpath, dirnames, filenames in os.walk(current_dir):\n",
    "    for filename in filenames:\n",
    "        print(os.path.join(dirpath, filename))\n"
   ]
  },
  {
   "cell_type": "code",
   "execution_count": null,
   "id": "2e809156-b4d2-4c33-a271-9e910d5f2718",
   "metadata": {},
   "outputs": [],
   "source": []
  }
 ],
 "metadata": {
  "kernelspec": {
   "display_name": "Python 3 (ipykernel)",
   "language": "python",
   "name": "python3"
  },
  "language_info": {
   "codemirror_mode": {
    "name": "ipython",
    "version": 3
   },
   "file_extension": ".py",
   "mimetype": "text/x-python",
   "name": "python",
   "nbconvert_exporter": "python",
   "pygments_lexer": "ipython3",
   "version": "3.12.4"
  }
 },
 "nbformat": 4,
 "nbformat_minor": 5
}
