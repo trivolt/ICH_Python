{
 "cells": [
  {
   "cell_type": "markdown",
   "id": "b8e1969b-b224-490a-ba8d-e4e16a9e076f",
   "metadata": {},
   "source": [
    "# Практика 5"
   ]
  },
  {
   "cell_type": "markdown",
   "id": "98ddb0b5-8ab9-4cce-9990-0d30b3157316",
   "metadata": {},
   "source": [
    "***Во всех задачах считывайте входные данные через input() и выводите ответ через print().***\n",
    "\n",
    "1. Дана строка. При решении нельзя использовать циклы.\n",
    "* Сначала выведите третий символ этой строки.\n",
    "* Во второй строке выведите предпоследний символ этой строки.\n",
    "* В третьей строке выведите первые пять символов этой строки.\n",
    "* В четвертой строке выведите всю строку, кроме последних двух символов.\n",
    "* В пятой строке выведите все символы с четными индексами (считая, что индексация начинается с 0, поэтому символы выводятся начиная с первого).\n",
    "* В шестой строке выведите все символы с нечетными индексами, то есть начиная со второго символа строки.\n",
    "* В седьмой строке выведите все символы в обратном порядке.\n",
    "* В восьмой строке выведите все символы строки через один в обратном порядке, начиная с последнего.\n",
    "* В девятой строке выведите длину данной строки.\n",
    "\n"
   ]
  },
  {
   "cell_type": "code",
   "execution_count": 31,
   "id": "4b277ca3-1828-45f1-8b1c-b0249bd458ee",
   "metadata": {},
   "outputs": [
    {
     "name": "stdin",
     "output_type": "stream",
     "text": [
      " sdfb\n"
     ]
    },
    {
     "name": "stdout",
     "output_type": "stream",
     "text": [
      "s\n",
      "f\n",
      "sdfb\n",
      "df\n",
      "sf\n",
      "db\n",
      "bfds\n",
      "bd\n",
      "4\n"
     ]
    }
   ],
   "source": [
    "text = input()\n",
    "print(text[0])\n",
    "print(text[-2])\n",
    "print(text[:5])\n",
    "print(text[1:-1])\n",
    "print(text[::2])\n",
    "print(text[1::2])\n",
    "print(text[::-1])\n",
    "print(text[::-2])\n",
    "print(len(text))\n",
    "\n",
    "\n"
   ]
  },
  {
   "cell_type": "markdown",
   "id": "bd72446d-348a-4b9a-ba9f-5588df2a9b64",
   "metadata": {},
   "source": [
    "2. Напишите программу, которая печатает ценник по параметрам: “The price of is “X” Euro”. В строке и - параметры. Убедитесь, что цена выводится в Евро с центами (не более двух знаков после запятой). one."
   ]
  },
  {
   "cell_type": "code",
   "execution_count": 3,
   "id": "7c6926dd-6e79-4773-b9e9-fdf639638f31",
   "metadata": {},
   "outputs": [
    {
     "name": "stdout",
     "output_type": "stream",
     "text": [
      "Привет John\n"
     ]
    }
   ],
   "source": [
    "text = 'John'\n",
    "\n",
    "print('Привет {}'.format(text))\n"
   ]
  },
  {
   "cell_type": "code",
   "execution_count": 4,
   "id": "c448aa43-9038-4a0c-b172-aea895bc3532",
   "metadata": {},
   "outputs": [
    {
     "name": "stdout",
     "output_type": "stream",
     "text": [
      "Привет, тебе 25.34\n"
     ]
    }
   ],
   "source": [
    "text = 25.345\n",
    "\n",
    "print('Привет, тебе {:.2f}'.format(text))\n"
   ]
  },
  {
   "cell_type": "code",
   "execution_count": 11,
   "id": "e7809f00-ce5b-4ebf-9cd7-6393314f8c3b",
   "metadata": {},
   "outputs": [
    {
     "name": "stdin",
     "output_type": "stream",
     "text": [
      " 23.567\n"
     ]
    },
    {
     "name": "stdout",
     "output_type": "stream",
     "text": [
      "The price of is      23.57 Euro\n"
     ]
    }
   ],
   "source": [
    "text = float(input())\n",
    "\n",
    "print(f'The price of is {text:10.2f} Euro')"
   ]
  },
  {
   "cell_type": "code",
   "execution_count": 13,
   "id": "9d860a05-2605-4992-89d7-91b53bfa4204",
   "metadata": {},
   "outputs": [
    {
     "name": "stdin",
     "output_type": "stream",
     "text": [
      " 123\n"
     ]
    },
    {
     "name": "stdout",
     "output_type": "stream",
     "text": [
      "The price of is ======123====== Euro\n"
     ]
    }
   ],
   "source": [
    "text = input()\n",
    "\n",
    "print(f'The price of is {text:=^15} Euro')"
   ]
  },
  {
   "cell_type": "code",
   "execution_count": 14,
   "id": "05f26e1a-3b94-4dc7-8329-958589caac1f",
   "metadata": {},
   "outputs": [
    {
     "name": "stdin",
     "output_type": "stream",
     "text": [
      " adfgdf\n"
     ]
    },
    {
     "name": "stdout",
     "output_type": "stream",
     "text": [
      "The price of is adfgdf********* Euro\n"
     ]
    }
   ],
   "source": [
    "text = input()\n",
    "\n",
    "print(f'The price of is {text:*<15} Euro')"
   ]
  },
  {
   "cell_type": "code",
   "execution_count": 15,
   "id": "3f4870ae-64e1-4792-9345-c08e4faf85c9",
   "metadata": {},
   "outputs": [
    {
     "name": "stdin",
     "output_type": "stream",
     "text": [
      " sdfhsfg\n"
     ]
    },
    {
     "name": "stdout",
     "output_type": "stream",
     "text": [
      "The price of is ********sdfhsfg Euro\n"
     ]
    }
   ],
   "source": [
    "text = input()\n",
    "\n",
    "print(f'The price of is {text:*>15} Euro')"
   ]
  },
  {
   "cell_type": "code",
   "execution_count": 16,
   "id": "1dbf0f7c-c594-4f68-a378-d0c587d065d2",
   "metadata": {},
   "outputs": [
    {
     "name": "stdin",
     "output_type": "stream",
     "text": [
      " 23.456\n"
     ]
    },
    {
     "name": "stdout",
     "output_type": "stream",
     "text": [
      "The price of is **23.46*** Euro\n"
     ]
    }
   ],
   "source": [
    "text = float(input())\n",
    "\n",
    "print(f'The price of is {text:*^10.2f} Euro')"
   ]
  },
  {
   "cell_type": "markdown",
   "id": "aadf2287-dd47-4761-b4dd-771cc79d16c7",
   "metadata": {},
   "source": [
    "3. Дана строка, состоящая из слов, разделенных пробелами. Определите, сколько в ней слов. Используйте для решения задачи метод count.\n"
   ]
  },
  {
   "cell_type": "code",
   "execution_count": null,
   "id": "8d817977-5b75-4394-b015-3d6bc79ea9fe",
   "metadata": {},
   "outputs": [],
   "source": [
    "text = input(\"Введите текст с одинарными пробелами!: \")\n",
    "\n",
    "print(text.count(\" \")+1)"
   ]
  },
  {
   "cell_type": "markdown",
   "id": "2c82f9a8-7efd-44ae-aaeb-5f403b58f7cd",
   "metadata": {},
   "source": [
    "4. Напишите программу, которая считает вхождение заданной подстроки в заданную строку. Например, для подстроки “ab” и строки “Abrakadabra” программа напечатает 2"
   ]
  },
  {
   "cell_type": "code",
   "execution_count": null,
   "id": "1059a6b4-cb83-45de-ba38-07b69b689430",
   "metadata": {},
   "outputs": [],
   "source": [
    "text = input(\"Введите текст:\").lower()\n",
    "subtext = input(\"Введите текст:\").lower()\n",
    "print(text.count(subtext))"
   ]
  },
  {
   "cell_type": "markdown",
   "id": "febd47df-7eaa-437a-90ac-85c247e5d104",
   "metadata": {},
   "source": [
    "5. Дана строка, состоящая ровно из двух слов, разделенных пробелом. Переставьте эти слова местами. Результат запишите в строку и выведите получившуюся строку. При решении этой задачи не стоит пользоваться циклами и инструкцией if."
   ]
  },
  {
   "cell_type": "code",
   "execution_count": 17,
   "id": "59fc3d87-8fa6-4c39-993c-24b77fed8568",
   "metadata": {},
   "outputs": [
    {
     "name": "stdin",
     "output_type": "stream",
     "text": [
      " слово1 слово2\n"
     ]
    },
    {
     "name": "stdout",
     "output_type": "stream",
     "text": [
      " слово2 слово1\n"
     ]
    }
   ],
   "source": [
    "text = input()\n",
    "\n",
    "ind = text.find(' ')\n",
    "word1 = text[:ind]\n",
    "word2 = text[ind:]\n",
    "print(word2,word1)"
   ]
  },
  {
   "cell_type": "code",
   "execution_count": 18,
   "id": "82fa9ad8-0f7d-4c7d-bf28-6026e38dff7a",
   "metadata": {},
   "outputs": [
    {
     "name": "stdin",
     "output_type": "stream",
     "text": [
      " word1 word2\n"
     ]
    },
    {
     "data": {
      "text/plain": [
       "['word1', 'word2']"
      ]
     },
     "execution_count": 18,
     "metadata": {},
     "output_type": "execute_result"
    }
   ],
   "source": [
    "input().split()"
   ]
  },
  {
   "cell_type": "code",
   "execution_count": 21,
   "id": "c1d240c8-b157-4eca-ac2f-e5cc79b23008",
   "metadata": {},
   "outputs": [
    {
     "name": "stdin",
     "output_type": "stream",
     "text": [
      "Введите строку из двух слов с пробелом: w1 w2\n"
     ]
    },
    {
     "name": "stdout",
     "output_type": "stream",
     "text": [
      "w2 w1\n"
     ]
    }
   ],
   "source": [
    "text = input(\"Введите строку из двух слов с пробелом:\")\n",
    "word1, word2 = text.split(' ')\n",
    "print(f\"{word2} {word1}\")"
   ]
  },
  {
   "cell_type": "markdown",
   "id": "e65fcb41-35cd-4457-8d37-de58bef28c6d",
   "metadata": {},
   "source": [
    "6. Дана строка. Если в этой строке буква f встречается только один раз, выведите её индекс. Если она встречается два и более раз, выведите индекс её первого и последнего появления. Если буква f в данной строке не встречается, ничего не выводите. При решении этой задачи не стоит использовать циклы."
   ]
  },
  {
   "cell_type": "code",
   "execution_count": 29,
   "id": "32631e04-21e3-44a5-a5a3-fb192afa88b6",
   "metadata": {},
   "outputs": [
    {
     "name": "stdin",
     "output_type": "stream",
     "text": [
      " ooooooooooooooooooo\n"
     ]
    }
   ],
   "source": [
    "text = input()\n",
    "first_ind = text.find('f')\n",
    "last_ind = text.rfind('f')\n",
    "if first_ind != -1:\n",
    "    if first_ind == last_ind:\n",
    "        print(first_ind)\n",
    "    else:\n",
    "        print(f'{first_ind} {last_ind}')\n",
    "        \n",
    "    \n"
   ]
  },
  {
   "cell_type": "markdown",
   "id": "3b2be450-4b6b-4ce7-868f-d7505de60166",
   "metadata": {},
   "source": [
    "Находим все позиции 'f'"
   ]
  },
  {
   "cell_type": "code",
   "execution_count": 30,
   "id": "2ead3d5b-3b45-4895-bd39-b639e1aafbab",
   "metadata": {},
   "outputs": [
    {
     "name": "stdin",
     "output_type": "stream",
     "text": [
      " foooofoooofooofoooff\n"
     ]
    },
    {
     "name": "stdout",
     "output_type": "stream",
     "text": [
      "0\n",
      "5\n",
      "10\n",
      "14\n",
      "18\n",
      "19\n"
     ]
    }
   ],
   "source": [
    "text = input()\n",
    "i=0\n",
    "while i<len(text):\n",
    "    if text[i] == 'f':\n",
    "        print(i)\n",
    "    i+=1"
   ]
  },
  {
   "cell_type": "code",
   "execution_count": null,
   "id": "74b0484e-941b-496c-a0e2-917539c905bc",
   "metadata": {},
   "outputs": [],
   "source": []
  },
  {
   "cell_type": "markdown",
   "id": "349af197-4bee-4d9a-b166-b58fead37710",
   "metadata": {},
   "source": [
    "7. Дана строка. Замените в этой строке все цифры 1 на слово one."
   ]
  },
  {
   "cell_type": "code",
   "execution_count": null,
   "id": "d6c67b35-ee7e-4338-88ec-a7e5a821bfcf",
   "metadata": {},
   "outputs": [],
   "source": [
    "text = input(\"Введите строку: \")\n",
    "print(text.replace('1','one'))"
   ]
  },
  {
   "cell_type": "code",
   "execution_count": null,
   "id": "f8c3deef-b772-4db2-a97f-c2ee9f38551c",
   "metadata": {},
   "outputs": [],
   "source": []
  }
 ],
 "metadata": {
  "kernelspec": {
   "display_name": "Python 3 (ipykernel)",
   "language": "python",
   "name": "python3"
  },
  "language_info": {
   "codemirror_mode": {
    "name": "ipython",
    "version": 3
   },
   "file_extension": ".py",
   "mimetype": "text/x-python",
   "name": "python",
   "nbconvert_exporter": "python",
   "pygments_lexer": "ipython3",
   "version": "3.12.4"
  }
 },
 "nbformat": 4,
 "nbformat_minor": 5
}
