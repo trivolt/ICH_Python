{
 "cells": [
  {
   "cell_type": "markdown",
   "id": "e4020e40-0693-4396-a805-f7f2242c1f2f",
   "metadata": {},
   "source": [
    "# Summary 17"
   ]
  },
  {
   "cell_type": "markdown",
   "id": "7514024b-5ef4-40de-93a1-6ef2da14b611",
   "metadata": {},
   "source": [
    "В классах Python есть обычные методы, классовые методы (@classmethod) и статические методы (@staticmethod). "
   ]
  },
  {
   "cell_type": "markdown",
   "id": "b6190930-4030-4187-a971-a42aab9771f7",
   "metadata": {},
   "source": [
    "### Обычные методы\n",
    "Принимают первым аргументом self (экземпляр класса) и работают с его атрибутами."
   ]
  },
  {
   "cell_type": "code",
   "execution_count": 20,
   "id": "f7485011-f16f-4405-b65f-2c68dce90e11",
   "metadata": {},
   "outputs": [
    {
     "name": "stdout",
     "output_type": "stream",
     "text": [
      "Вызван обычный метод. Значение: 10\n"
     ]
    }
   ],
   "source": [
    "class MyClass:\n",
    "    def __init__(self, value):\n",
    "        self.value = value\n",
    "\n",
    "    def instance_method(self):\n",
    "        return f\"Вызван обычный метод. Значение: {self.value}\"\n",
    "\n",
    "obj = MyClass(10)\n",
    "print(obj.instance_method())  # Вызван обычный метод. Значение: 10"
   ]
  },
  {
   "cell_type": "markdown",
   "id": "d811ffed-88f5-4a40-b9ca-25217a444eb9",
   "metadata": {},
   "source": [
    "### Классовые методы (@classmethod)\n",
    "Принимают первым аргументом cls (сам класс) и могут создавать или модифицировать класс."
   ]
  },
  {
   "cell_type": "code",
   "execution_count": 21,
   "id": "43f97d9c-8d5b-4a28-a1a1-74a127bdbc89",
   "metadata": {},
   "outputs": [
    {
     "name": "stdout",
     "output_type": "stream",
     "text": [
      "Создано 2 объектов\n",
      "30\n"
     ]
    }
   ],
   "source": [
    "class MyClass:\n",
    "    count = 0  # Классовый атрибут\n",
    "\n",
    "    def __init__(self, value):\n",
    "        self.value = value\n",
    "        MyClass.count += 1\n",
    "\n",
    "    @classmethod\n",
    "    def get_count(cls):\n",
    "        return f\"Создано {cls.count} объектов\"\n",
    "\n",
    "    @classmethod\n",
    "    def from_string(cls, string):\n",
    "        # Альтернативный конструктор\n",
    "        return cls(int(string))\n",
    "\n",
    "obj1 = MyClass(10)\n",
    "obj2 = MyClass(20)\n",
    "\n",
    "print(MyClass.get_count())  # Создано 2 объектов\n",
    "\n",
    "obj3 = MyClass.from_string(\"30\")\n",
    "print(obj3.value)  # 30"
   ]
  },
  {
   "cell_type": "code",
   "execution_count": 23,
   "id": "0d7b528a-b42f-4660-9fca-ab5723ea67d4",
   "metadata": {},
   "outputs": [
    {
     "data": {
      "text/plain": [
       "3"
      ]
     },
     "execution_count": 23,
     "metadata": {},
     "output_type": "execute_result"
    }
   ],
   "source": [
    "MyClass.count"
   ]
  },
  {
   "cell_type": "markdown",
   "id": "b0e1f935-65ff-45cb-916b-4d8bcc492f72",
   "metadata": {},
   "source": [
    "Допустим, у нас есть класс Date, и мы хотим создавать дату не только из дня, месяца и года, но и из строки формата \"DD-MM-YYYY\"."
   ]
  },
  {
   "cell_type": "code",
   "execution_count": 24,
   "id": "8b09954a-ca04-4514-a7ec-25775e7cf842",
   "metadata": {},
   "outputs": [
    {
     "name": "stdout",
     "output_type": "stream",
     "text": [
      "25-12-2023\n"
     ]
    }
   ],
   "source": [
    "class Date:\n",
    "    def __init__(self, day, month, year):\n",
    "        self.day = day\n",
    "        self.month = month\n",
    "        self.year = year\n",
    "\n",
    "    def __str__(self):\n",
    "        return f\"{self.day:02d}-{self.month:02d}-{self.year}\"\n",
    "\n",
    "    @classmethod\n",
    "    def from_string(cls, date_string):\n",
    "        day, month, year = map(int, date_string.split(\"-\"))\n",
    "        return cls(day, month, year)  # cls == Date\n",
    "\n",
    "# Создаём дату стандартным способом\n",
    "date1 = Date(25, 12, 2023)\n",
    "print(date1)  # 25-12-2023\n",
    "\n"
   ]
  },
  {
   "cell_type": "code",
   "execution_count": 25,
   "id": "3a275e57-f995-4587-af5f-7c9415f6f259",
   "metadata": {},
   "outputs": [
    {
     "name": "stdout",
     "output_type": "stream",
     "text": [
      "15-05-2024\n"
     ]
    }
   ],
   "source": [
    "# Создаём дату через классовый метод\n",
    "date2 = Date.from_string(\"15-05-2024\")\n",
    "print(date2)  # 15-05-2024"
   ]
  },
  {
   "cell_type": "markdown",
   "id": "f279c7ad-3853-45f9-9716-c97764a8fcca",
   "metadata": {},
   "source": [
    "Классовый метод может управлять классовым атрибутом, например, считать количество созданных экземпляров"
   ]
  },
  {
   "cell_type": "code",
   "execution_count": 26,
   "id": "3f9bee53-638d-4ed4-b839-6890d6b54885",
   "metadata": {},
   "outputs": [
    {
     "name": "stdout",
     "output_type": "stream",
     "text": [
      "Всего машин: 2\n"
     ]
    }
   ],
   "source": [
    "class Car:\n",
    "    total_cars = 0\n",
    "\n",
    "    def __init__(self, brand, model):\n",
    "        self.brand = brand\n",
    "        self.model = model\n",
    "        Car.total_cars += 1\n",
    "\n",
    "    @classmethod\n",
    "    def get_total_cars(cls):\n",
    "        return f\"Всего машин: {cls.total_cars}\"\n",
    "\n",
    "car1 = Car(\"Toyota\", \"Camry\")\n",
    "car2 = Car(\"Tesla\", \"Model 3\")\n",
    "\n",
    "print(Car.get_total_cars())  # Всего машин: 2"
   ]
  },
  {
   "cell_type": "code",
   "execution_count": 27,
   "id": "52a108b5-fefa-4842-9a6a-1ef33f09d754",
   "metadata": {},
   "outputs": [
    {
     "data": {
      "text/plain": [
       "2"
      ]
     },
     "execution_count": 27,
     "metadata": {},
     "output_type": "execute_result"
    }
   ],
   "source": [
    "Car.total_cars"
   ]
  },
  {
   "cell_type": "markdown",
   "id": "6383de44-ff10-413b-b977-e7f2f4b00872",
   "metadata": {},
   "source": [
    "Допустим, у нас есть класс Character, и мы хотим создавать персонажей разных типов (воин, маг, лучник) с предустановленными параметрами."
   ]
  },
  {
   "cell_type": "code",
   "execution_count": 28,
   "id": "3391d5f9-b345-4ccb-8d41-09243b441773",
   "metadata": {},
   "outputs": [
    {
     "name": "stdout",
     "output_type": "stream",
     "text": [
      "Арагорн (Воин): HP=150, DMG=25\n",
      "Гэндальф (Маг): HP=80, DMG=40\n",
      "Леголас (Лучник): HP=100, DMG=30\n"
     ]
    }
   ],
   "source": [
    "class Character:\n",
    "    def __init__(self, name, role, health, damage):\n",
    "        self.name = name\n",
    "        self.role = role\n",
    "        self.health = health\n",
    "        self.damage = damage\n",
    "\n",
    "    def __str__(self):\n",
    "        return f\"{self.name} ({self.role}): HP={self.health}, DMG={self.damage}\"\n",
    "\n",
    "    @classmethod\n",
    "    def create_warrior(cls, name):\n",
    "        return cls(name, \"Воин\", health=150, damage=25)\n",
    "\n",
    "    @classmethod\n",
    "    def create_mage(cls, name):\n",
    "        return cls(name, \"Маг\", health=80, damage=40)\n",
    "\n",
    "    @classmethod\n",
    "    def create_archer(cls, name):\n",
    "        return cls(name, \"Лучник\", health=100, damage=30)\n",
    "\n",
    "warrior = Character.create_warrior(\"Арагорн\")\n",
    "mage = Character.create_mage(\"Гэндальф\")\n",
    "archer = Character.create_archer(\"Леголас\")\n",
    "\n",
    "print(warrior)  # Арагорн (Воин): HP=150, DMG=25\n",
    "print(mage)     # Гэндальф (Маг): HP=80, DMG=40\n",
    "print(archer)   # Леголас (Лучник): HP=100, DMG=30"
   ]
  },
  {
   "cell_type": "code",
   "execution_count": null,
   "id": "45ca7868-2d54-476c-b677-4529b1c9e2c9",
   "metadata": {},
   "outputs": [],
   "source": []
  },
  {
   "cell_type": "markdown",
   "id": "943a7442-2928-404c-8148-70979b2fbf80",
   "metadata": {},
   "source": [
    "### Статические методы (@staticmethod)\n",
    "Не принимают ни self, ни cls. Это просто функции внутри класса, которые логически связаны с ним."
   ]
  },
  {
   "cell_type": "code",
   "execution_count": null,
   "id": "95e290bc-0454-4647-9076-9d95657e34ee",
   "metadata": {},
   "outputs": [],
   "source": [
    "class MathOperations:\n",
    "    @staticmethod\n",
    "    def add(a, b):\n",
    "        return a + b\n",
    "\n",
    "    @staticmethod\n",
    "    def multiply(a, b):\n",
    "        return a * b\n",
    "\n",
    "print(MathOperations.add(5, 3))      # 8\n",
    "print(MathOperations.multiply(5, 3))  # 15"
   ]
  },
  {
   "cell_type": "markdown",
   "id": "22f8be8c-5188-4977-b0f5-2cca495a4dde",
   "metadata": {},
   "source": [
    "### Использование всех методов"
   ]
  },
  {
   "cell_type": "code",
   "execution_count": 32,
   "id": "79c8e8aa-961f-41ed-a69a-d307b23b586b",
   "metadata": {},
   "outputs": [
    {
     "name": "stdout",
     "output_type": "stream",
     "text": [
      "Пицца с томаты, моцарелла, базилик\n",
      "Пицца с томаты, моцарелла, пепперони\n",
      "314.0\n"
     ]
    }
   ],
   "source": [
    "class Pizza:\n",
    "    def __init__(self, ingredients):\n",
    "        self.ingredients = ingredients\n",
    "\n",
    "    def __str__(self):\n",
    "        return f\"Пицца с {', '.join(self.ingredients)}\"\n",
    "\n",
    "    @classmethod\n",
    "    def margherita(cls):\n",
    "        return cls([\"томаты\", \"моцарелла\", \"базилик\"])\n",
    "\n",
    "    @classmethod\n",
    "    def pepperoni(cls):\n",
    "        return cls([\"томаты\", \"моцарелла\", \"пепперони\"])\n",
    "\n",
    "    @staticmethod\n",
    "    def calculate_area(radius):\n",
    "        return 3.14 * radius ** 2\n",
    "\n",
    "# Создаём пиццу через классовые методы\n",
    "pizza1 = Pizza.margherita()\n",
    "pizza2 = Pizza.pepperoni()\n",
    "\n",
    "print(pizza1)  # Пицца с томаты, моцарелла, базилик\n",
    "print(pizza2)  # Пицца с томаты, моцарелла, пепперони\n",
    "\n",
    "# Используем статический метод\n",
    "print(Pizza.calculate_area(10))  # 314.0 (площадь пиццы радиусом 10)"
   ]
  },
  {
   "cell_type": "code",
   "execution_count": 34,
   "id": "a099bcd1-6923-465e-8131-1d2b4645a9d1",
   "metadata": {},
   "outputs": [],
   "source": [
    "pizza1.ingredients = [')))']"
   ]
  },
  {
   "cell_type": "code",
   "execution_count": 35,
   "id": "c09e158e-9284-4fd1-bba6-eb219af16fcb",
   "metadata": {},
   "outputs": [
    {
     "name": "stdout",
     "output_type": "stream",
     "text": [
      "Пицца с )))\n"
     ]
    }
   ],
   "source": [
    "print(pizza1)"
   ]
  },
  {
   "cell_type": "markdown",
   "id": "f215394b-e5db-4257-84f9-a9f957dccbd4",
   "metadata": {},
   "source": [
    "### Защищенные и приватные атрибуты"
   ]
  },
  {
   "cell_type": "code",
   "execution_count": 36,
   "id": "566b2909-e172-4199-bb39-966f53247b81",
   "metadata": {},
   "outputs": [
    {
     "name": "stdout",
     "output_type": "stream",
     "text": [
      "Protected attribute\n",
      "Private attribute\n"
     ]
    }
   ],
   "source": [
    "class MyClass:\n",
    "    def __init__(self):\n",
    "        self._protected_attr = \"Protected attribute\"\n",
    "        self.__private_attr = \"Private attribute\"\n",
    "    \n",
    "\n",
    "obj = MyClass()\n",
    "print(obj._protected_attr)  # Protected attribute\n",
    "print(obj._MyClass__private_attr)  # Private attribute\n"
   ]
  },
  {
   "cell_type": "code",
   "execution_count": 37,
   "id": "5b811e97-8e52-4449-9c12-2b467b375c53",
   "metadata": {},
   "outputs": [],
   "source": [
    "obj._protected_attr = ')))'"
   ]
  },
  {
   "cell_type": "code",
   "execution_count": 38,
   "id": "fcdaa1ce-4ebb-46ae-9145-02f2742262db",
   "metadata": {},
   "outputs": [
    {
     "name": "stdout",
     "output_type": "stream",
     "text": [
      ")))\n"
     ]
    }
   ],
   "source": [
    "print(obj._protected_attr)"
   ]
  },
  {
   "cell_type": "code",
   "execution_count": 39,
   "id": "bc61dd9f-2899-41de-9a52-0fbb5e81339f",
   "metadata": {},
   "outputs": [
    {
     "ename": "AttributeError",
     "evalue": "'MyClass' object has no attribute '__private_attr'",
     "output_type": "error",
     "traceback": [
      "\u001b[1;31m---------------------------------------------------------------------------\u001b[0m",
      "\u001b[1;31mAttributeError\u001b[0m                            Traceback (most recent call last)",
      "Cell \u001b[1;32mIn[39], line 1\u001b[0m\n\u001b[1;32m----> 1\u001b[0m \u001b[38;5;28mprint\u001b[39m(obj\u001b[38;5;241m.\u001b[39m__private_attr)\n",
      "\u001b[1;31mAttributeError\u001b[0m: 'MyClass' object has no attribute '__private_attr'"
     ]
    }
   ],
   "source": [
    "print(obj.__private_attr)"
   ]
  },
  {
   "cell_type": "code",
   "execution_count": 40,
   "id": "64c0712e-be63-48b4-948a-46ec42db2e91",
   "metadata": {},
   "outputs": [
    {
     "name": "stdout",
     "output_type": "stream",
     "text": [
      "Private attribute\n"
     ]
    }
   ],
   "source": [
    "print(obj._MyClass__private_attr)"
   ]
  },
  {
   "cell_type": "markdown",
   "id": "ed873232-8574-4a99-812e-7e583a0da644",
   "metadata": {},
   "source": [
    "### Полиморфизм"
   ]
  },
  {
   "cell_type": "code",
   "execution_count": 41,
   "id": "71ee0205-12fb-43d2-91d2-3e1d60bf5052",
   "metadata": {},
   "outputs": [
    {
     "name": "stdout",
     "output_type": "stream",
     "text": [
      "50\n",
      "28.26\n"
     ]
    }
   ],
   "source": [
    "class Shape:\n",
    "    def area(self):\n",
    "        raise NotImplementedError(\"Method 'area' must be implemented\")\n",
    "\n",
    "class Rectangle(Shape):\n",
    "    def __init__(self, width, height):\n",
    "        self.width = width\n",
    "        self.height = height\n",
    "\n",
    "    def area(self):\n",
    "        return self.width * self.height\n",
    "\n",
    "class Circle(Shape):\n",
    "    def __init__(self, radius):\n",
    "        self.radius = radius\n",
    "\n",
    "    def area(self):\n",
    "        return 3.14 * self.radius ** 2\n",
    "\n",
    "shapes = [Rectangle(5, 10), Circle(3)]\n",
    "for shape in shapes:\n",
    "    print(shape.area())"
   ]
  },
  {
   "cell_type": "markdown",
   "id": "8160a22d-4d12-44ed-9744-a5178b865f7b",
   "metadata": {},
   "source": [
    "### Наследование"
   ]
  },
  {
   "cell_type": "code",
   "execution_count": 42,
   "id": "a63b67f5-17fd-4c29-95da-d5c949fa1cb8",
   "metadata": {},
   "outputs": [
    {
     "name": "stdout",
     "output_type": "stream",
     "text": [
      "1\n",
      "2\n"
     ]
    }
   ],
   "source": [
    "class MyBaseClass:\n",
    "    def __init__(self, x):\n",
    "        self.x = x\n",
    "\n",
    "class MySubClass(MyBaseClass):\n",
    "    def __init__(self, x, y):\n",
    "        super().__init__(x)\n",
    "        self.y = y\n",
    "\n",
    "obj = MySubClass(1, 2)\n",
    "print(obj.x)  # 1\n",
    "print(obj.y)  # 2\n"
   ]
  },
  {
   "cell_type": "markdown",
   "id": "429384bc-86c2-4117-a5c3-665ab1937a1f",
   "metadata": {},
   "source": [
    "### Абстрактные классы"
   ]
  },
  {
   "cell_type": "code",
   "execution_count": 44,
   "id": "e1ac1e08-796c-4fc1-978b-cf6fae248b14",
   "metadata": {},
   "outputs": [
    {
     "ename": "TypeError",
     "evalue": "Can't instantiate abstract class ConcreteClass without an implementation for abstract method 'method'",
     "output_type": "error",
     "traceback": [
      "\u001b[1;31m---------------------------------------------------------------------------\u001b[0m",
      "\u001b[1;31mTypeError\u001b[0m                                 Traceback (most recent call last)",
      "Cell \u001b[1;32mIn[44], line 11\u001b[0m\n\u001b[0;32m      8\u001b[0m \u001b[38;5;28;01mclass\u001b[39;00m \u001b[38;5;21;01mConcreteClass\u001b[39;00m(AbstractClass):\n\u001b[0;32m      9\u001b[0m     \u001b[38;5;28;01mpass\u001b[39;00m\n\u001b[1;32m---> 11\u001b[0m obj \u001b[38;5;241m=\u001b[39m ConcreteClass()\n\u001b[0;32m     12\u001b[0m obj\u001b[38;5;241m.\u001b[39mmethod()\n",
      "\u001b[1;31mTypeError\u001b[0m: Can't instantiate abstract class ConcreteClass without an implementation for abstract method 'method'"
     ]
    }
   ],
   "source": [
    "from abc import ABC, abstractmethod\n",
    "\n",
    "class AbstractClass(ABC):\n",
    "    @abstractmethod\n",
    "    def method(self):\n",
    "        pass\n",
    "\n",
    "class ConcreteClass(AbstractClass):\n",
    "    pass\n",
    "\n",
    "obj = ConcreteClass()\n",
    "obj.method()  # ConcreteClass method\n"
   ]
  },
  {
   "cell_type": "markdown",
   "id": "c543e67b-ec61-4154-810f-866fc9922e35",
   "metadata": {},
   "source": [
    "# Регулярные выражения"
   ]
  },
  {
   "cell_type": "code",
   "execution_count": 45,
   "id": "7bb63c33-54fe-47be-b856-fc68fe3e56bf",
   "metadata": {},
   "outputs": [],
   "source": [
    "import re"
   ]
  },
  {
   "cell_type": "markdown",
   "id": "f8fc815f-f60c-4a75-aebc-7a9dec239165",
   "metadata": {},
   "source": [
    "1. Пишем парсер для телефонных номеров (стараемся обработать как можно больше форматов), для email."
   ]
  },
  {
   "cell_type": "code",
   "execution_count": 46,
   "id": "6584f7cc-5d92-4671-9bbf-19d902693a8e",
   "metadata": {},
   "outputs": [
    {
     "data": {
      "text/plain": [
       "[('+7', '123', '456', '78', '90'),\n",
       " ('8', '123', '456', '78', '90'),\n",
       " ('+7', '123', '456', '78', '90'),\n",
       " ('', '123', '456', '78', '90')]"
      ]
     },
     "execution_count": 46,
     "metadata": {},
     "output_type": "execute_result"
    }
   ],
   "source": [
    "import re\n",
    "\n",
    "def parse_phone_numbers(text):\n",
    "    phone_pattern = re.compile(\n",
    "        r'(\\+7|8)?\\s*\\(?(\\d{3})\\)?[\\s-]?(\\d{3})[\\s-]?(\\d{2})[\\s-]?(\\d{2})'\n",
    "    )\n",
    "    return phone_pattern.findall(text)\n",
    "\n",
    "# Пример использования\n",
    "text = \"Мои номера: +7 (123) 456-78-90, 8 (123) 456-78-90, +71234567890, 123-45-67, (123) 456-7890\"\n",
    "phone_numbers = parse_phone_numbers(text)\n",
    "phone_numbers\n"
   ]
  },
  {
   "cell_type": "markdown",
   "id": "8df3a5c3-1110-4ffe-bf86-fc1f782879a3",
   "metadata": {},
   "source": [
    "(\\+7|8): Это группа, которая ищет либо +7, либо 8. Знак | означает \"или\".\n",
    "?: Этот символ указывает, что предыдущая группа (+7 или 8) является необязательной. То есть, номер может начинаться с +7, 8 или вообще без них.\n",
    "\n",
    "(\\d{3})[\\s-]?(\\d{2})[\\s-]?(\\d{2}):\n",
    "\n",
    "* (\\d{3}): Ищет три цифры подряд.\n",
    "* [\\s-]?: Необязательный пробел или дефис.\n",
    "* (\\d{2}): Ищет две цифры подряд.\n",
    "* [\\s-]?: Необязательный пробел или дефис.\n",
    "* (\\d{2}): Ищет две цифры подряд."
   ]
  },
  {
   "cell_type": "markdown",
   "id": "814af710-1e6c-430f-87b0-8cbc006573b7",
   "metadata": {},
   "source": [
    "Парсер для емэил"
   ]
  },
  {
   "cell_type": "code",
   "execution_count": 50,
   "id": "009a4bcd-c9b3-49a9-8698-138f5a5d9a22",
   "metadata": {},
   "outputs": [
    {
     "data": {
      "text/plain": [
       "['example@example.com', 'user.name@domain.co', 'another.email@sub.domain.org']"
      ]
     },
     "execution_count": 50,
     "metadata": {},
     "output_type": "execute_result"
    }
   ],
   "source": [
    "def parse_emails(text):\n",
    "    email_pattern = re.compile(r'[a-zA-Z0-9_+.-]+@[a-zA-Z0-9-.]+\\.\\b[a-zA-Z]+\\b')\n",
    "    return email_pattern.findall(text)\n",
    "\n",
    "# Пример использования\n",
    "text = \"Мои email: example@example.com, user.name@domain.co, another.email@sub.domain.org, hbf@uhbfdv.y2\"\n",
    "emails = parse_emails(text)\n",
    "emails"
   ]
  },
  {
   "cell_type": "markdown",
   "id": "95c6dfa4-b4ab-402f-aa3b-507335a3f2d2",
   "metadata": {},
   "source": [
    "Напишите функцию validate_password(password), которая принимает строку с паролем и проверяет его на соответствие следующим условиям: Длина пароля должна быть не менее 8 символов Пароль должен содержать хотя бы одну заглавную букву, одну строчную букву и одну цифру Пароль может содержать только следующие специальные символы: !@#$%^&*()"
   ]
  },
  {
   "cell_type": "code",
   "execution_count": 51,
   "id": "94d20ece-95c6-4971-9665-8380806aaace",
   "metadata": {},
   "outputs": [],
   "source": [
    "import re\n",
    "\n",
    "def validate_password(password: str) -> bool:\n",
    "    # Проверка длины пароля\n",
    "    if len(password) < 8:\n",
    "        return False\n",
    "\n",
    "    # Проверка наличия хотя бы одной заглавной буквы\n",
    "    if not re.search(r'[A-Z]', password):\n",
    "        return False\n",
    "\n",
    "    # Проверка наличия хотя бы одной строчной буквы\n",
    "    if not re.search(r'[a-z]', password):\n",
    "        return False\n",
    "\n",
    "    # Проверка наличия хотя бы одной цифры\n",
    "    if not re.search(r'\\d', password):\n",
    "        return False\n",
    "\n",
    "    # Проверка наличия только разрешенных специальных символов\n",
    "    if not re.match(r'[A-Za-z\\d!@#$%^&*()]*', password):\n",
    "        return False\n",
    "\n",
    "    return True\n"
   ]
  },
  {
   "cell_type": "code",
   "execution_count": 54,
   "id": "d750c5bc-237f-4aa6-99ec-7574cd8ef713",
   "metadata": {},
   "outputs": [
    {
     "data": {
      "text/plain": [
       "False"
      ]
     },
     "execution_count": 54,
     "metadata": {},
     "output_type": "execute_result"
    }
   ],
   "source": [
    "validate_password('hb5tdgh35tg')"
   ]
  },
  {
   "cell_type": "markdown",
   "id": "05fdfe1a-2265-48a4-a158-55746753b073",
   "metadata": {},
   "source": [
    "### ДЗ 34"
   ]
  },
  {
   "cell_type": "markdown",
   "id": "3cbc727f-c01f-430c-b63a-6280df3d9af6",
   "metadata": {},
   "source": [
    "Напишите функцию extract_emails(text), которая извлекает все адреса электронной почты из заданного текста и возвращает их в виде списка."
   ]
  },
  {
   "cell_type": "code",
   "execution_count": 19,
   "id": "b3cc195a-60e3-4abe-8fc6-4238ee50220c",
   "metadata": {},
   "outputs": [
    {
     "name": "stdout",
     "output_type": "stream",
     "text": [
      "['example1@example.com', 'example2@domain.co.uk', 'valid_email@sub.example.com']\n"
     ]
    }
   ],
   "source": [
    "import re\n",
    "\n",
    "def extract_emails(text):\n",
    "    email_pattern = r'[a-zA-Z0-9._%+-]+@[a-zA-Z0-9.-]+\\.[a-zA-Z]{2,}'\n",
    "    emails = re.findall(email_pattern, text)\n",
    "    return emails\n",
    "\n",
    "# Пример использования\n",
    "text = \"\"\"\n",
    "Привет, вот несколько адресов электронной почты:\n",
    "example1@example.com, example2@domain.co.uk,\n",
    "invalid-email@, valid_email@sub.example.com.\n",
    "\"\"\"\n",
    "\n",
    "emails = extract_emails(text)\n",
    "print(emails)\n"
   ]
  },
  {
   "cell_type": "markdown",
   "id": "6c82bdc8-1807-423f-9523-ffe0580e3a45",
   "metadata": {},
   "source": [
    "Напишите функцию highlight_keywords(text, keywords), которая выделяет все вхождения заданных ключевых слов в тексте, окружая их символами *. Функция должна быть регистронезависимой при поиске ключевых слов."
   ]
  },
  {
   "cell_type": "code",
   "execution_count": 57,
   "id": "4befde74-0732-4f49-9b63-59d310a2fa4a",
   "metadata": {},
   "outputs": [],
   "source": [
    "import re\n",
    "\n",
    "def highlight_keywords(text, keywords):\n",
    "    pattern = re.compile(r'\\b(' + '|'.join(keywords) + r')\\b', flags=re.IGNORECASE) \n",
    "    #print(pattern)\n",
    "\n",
    "    return pattern.sub(r'!\\1!', text)"
   ]
  },
  {
   "cell_type": "code",
   "execution_count": 58,
   "id": "4bd6407f-38a1-4f3a-8033-82838af10f5e",
   "metadata": {},
   "outputs": [
    {
     "name": "stdout",
     "output_type": "stream",
     "text": [
      "This is a !sample! Text. !Python! is great, isn't !PYTHON! awesome?\n"
     ]
    }
   ],
   "source": [
    "text = \"This is a sample Text. Python is great, isn't PYTHON awesome?\"\n",
    "keywords = [\"python\", \"sample\"]\n",
    "\n",
    "result = highlight_keywords(text, keywords)\n",
    "print(result)"
   ]
  },
  {
   "cell_type": "code",
   "execution_count": null,
   "id": "695f98d4-24a5-4ddd-af18-b77ee949c2d9",
   "metadata": {},
   "outputs": [],
   "source": []
  }
 ],
 "metadata": {
  "kernelspec": {
   "display_name": "Python 3 (ipykernel)",
   "language": "python",
   "name": "python3"
  },
  "language_info": {
   "codemirror_mode": {
    "name": "ipython",
    "version": 3
   },
   "file_extension": ".py",
   "mimetype": "text/x-python",
   "name": "python",
   "nbconvert_exporter": "python",
   "pygments_lexer": "ipython3",
   "version": "3.12.4"
  }
 },
 "nbformat": 4,
 "nbformat_minor": 5
}
