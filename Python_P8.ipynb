{
 "cells": [
  {
   "cell_type": "markdown",
   "id": "184764fa-0283-44d3-a808-4dd0ed94917f",
   "metadata": {},
   "source": [
    "# Практикум 8"
   ]
  },
  {
   "cell_type": "markdown",
   "id": "fadc17ff-a877-42e7-aeca-5293a61dbe23",
   "metadata": {},
   "source": [
    "1. Дано предложение из слов, разделенных пробелами. Написать функцию transform(), которая принимает такое предложение и возвращает аналогичное, но где все слова длины 3 в этом предложении - заглавными буквами. Пример: “The quick brown fox jumps over the lazy dog” -> “THE quick brown FOX jumps over THE lazy DOG”.\n",
    "\n",
    "   ***Подсказка:*** решение в лоб может использовать цикл.\n",
    "\n"
   ]
  },
  {
   "cell_type": "code",
   "execution_count": 1,
   "id": "20c364ce-f98b-4cf5-959b-1840d359a1f9",
   "metadata": {},
   "outputs": [],
   "source": [
    "def transform(sentence):\n",
    "    transformed_words = []\n",
    "    words = sentence.split()\n",
    "    for word in words:\n",
    "        if len(word) == 3:\n",
    "            transformed_words.append(word.upper())\n",
    "        else:\n",
    "            transformed_words.append(word)\n",
    "    return ' '.join(transformed_words)\n"
   ]
  },
  {
   "cell_type": "code",
   "execution_count": 5,
   "id": "352518af-db5c-418e-8385-1942376e9434",
   "metadata": {},
   "outputs": [
    {
     "name": "stdout",
     "output_type": "stream",
     "text": [
      "THE quick brown FOX jumps over THE lazy DOG\n"
     ]
    }
   ],
   "source": [
    "input_str = 'The quick brown fox jumps over the lazy dog'\n",
    "print(transform(input_str))"
   ]
  },
  {
   "cell_type": "code",
   "execution_count": null,
   "id": "cb9cb6f7-03b3-4afe-a80e-bc661e386d12",
   "metadata": {},
   "outputs": [],
   "source": []
  },
  {
   "cell_type": "code",
   "execution_count": 6,
   "id": "53732736-6e37-4dc5-b5bd-57a2f0811290",
   "metadata": {},
   "outputs": [],
   "source": [
    "# Короткое решение"
   ]
  },
  {
   "cell_type": "code",
   "execution_count": 3,
   "id": "0116d870-f80d-4846-8cd9-4ac07931ffbb",
   "metadata": {},
   "outputs": [
    {
     "data": {
      "text/plain": [
       "['THE', 'quick', 'brown', 'FOX', 'jumps', 'over', 'THE', 'lazy', 'DOG']"
      ]
     },
     "execution_count": 3,
     "metadata": {},
     "output_type": "execute_result"
    }
   ],
   "source": [
    "# проверяем списковое включение\n",
    "sentence = 'The quick brown fox jumps over the lazy dog'\n",
    "[word.upper() if len(word)==3 else word for word in sentence.split()]"
   ]
  },
  {
   "cell_type": "code",
   "execution_count": 4,
   "id": "0adfa212-829e-49d0-a2de-fd911e7cf452",
   "metadata": {},
   "outputs": [],
   "source": [
    "def transform(sentence):\n",
    "    return ' '.join([word.upper() if len(word)==3 else word for word in sentence.split()])"
   ]
  },
  {
   "cell_type": "code",
   "execution_count": null,
   "id": "bc1c05c5-cd7d-4ac5-bd1f-62c383562904",
   "metadata": {},
   "outputs": [],
   "source": [
    "input_str = 'The quick brown fox jumps over the lazy dog'\n",
    "print(transform(input_str))"
   ]
  },
  {
   "cell_type": "markdown",
   "id": "7d85051f-a62a-48fa-ac03-f305d160875b",
   "metadata": {},
   "source": [
    "2. Изменим немного условие задачи: мы хотим, чтобы функция из примера 1 могла также менять слова длины 4 на написанные маленькими буквами. В общем виде, мы хотим, чтобы функции можно было дать условие, которому соответствует указанное действие. Например, все слова длины 4 хотим заменить на звездочки. А слова длины 2 - на черточки. Каждое выполнение функции - одно условие и одно действие.\n",
    "\n",
    "    ***Подсказка:*** добавление условий в код - неправильный ход мысли. Правильный ход - расширить список параметров функции, добавив к нему два параметра, лямбда-функции, которые реализует условие и действие. \n",
    "\n"
   ]
  },
  {
   "cell_type": "code",
   "execution_count": 10,
   "id": "eafb7241-9c4b-4b7a-aae2-0d4ae0b6dc4e",
   "metadata": {},
   "outputs": [],
   "source": [
    "def transform2(sentence, condition_func, action_func):\n",
    "    transformed_words = []\n",
    "    words = sentence.split()\n",
    "    for word in words:\n",
    "        if condition_func(word):\n",
    "            transformed_words.append(action_func(word))\n",
    "        else:\n",
    "            transformed_words.append(word)\n",
    "    return ' '.join(transformed_words)"
   ]
  },
  {
   "cell_type": "code",
   "execution_count": 11,
   "id": "7e0efaf4-91f5-41df-a8f5-4602cb73c31c",
   "metadata": {},
   "outputs": [
    {
     "name": "stdout",
     "output_type": "stream",
     "text": [
      "The quick brown fox jumps **** the **** dog\n"
     ]
    }
   ],
   "source": [
    "condition1 = lambda word: len(word) == 4\n",
    "action1 = lambda word: '****'\n",
    "input_str = 'The quick brown fox jumps over the lazy dog'\n",
    "print(transform2(input_str, condition1, action1))"
   ]
  },
  {
   "cell_type": "code",
   "execution_count": 13,
   "id": "5f4797ef-f012-4758-9d60-ebb2a472933e",
   "metadata": {},
   "outputs": [
    {
     "name": "stdout",
     "output_type": "stream",
     "text": [
      "THE quick brown FOX jumps over THE lazy DOG\n"
     ]
    }
   ],
   "source": [
    "condition2 = lambda word: len(word) == 3\n",
    "action2 = lambda word: word.upper()\n",
    "input_str = 'The quick brown fox jumps over the lazy dog'\n",
    "print(transform2(input_str, condition2, action2))"
   ]
  },
  {
   "cell_type": "code",
   "execution_count": 15,
   "id": "bf844bfa-6fcd-4f6c-b420-1a9a93a125d8",
   "metadata": {},
   "outputs": [
    {
     "name": "stdin",
     "output_type": "stream",
     "text": [
      " hbadsf arg aerg rer\n"
     ]
    },
    {
     "name": "stdout",
     "output_type": "stream",
     "text": [
      "hbadsf arg aerg rer\n"
     ]
    }
   ],
   "source": [
    "condition3 = lambda word: len(word) == 2 \n",
    "action3 = lambda word: '--'\n",
    "input_str = input()\n",
    "print(transform2(input_str, condition3, action3))"
   ]
  },
  {
   "cell_type": "markdown",
   "id": "c3f47911-bfd3-4d9e-a0c0-e402e4dd1ad4",
   "metadata": {},
   "source": [
    "3. Подумайте, как уменьшить количество кода в решении задачи 2, например, избавившись от явных циклов и использовать списковые включения вместо них. "
   ]
  },
  {
   "cell_type": "code",
   "execution_count": 16,
   "id": "6f51e09f-5a87-4acc-99a8-c3b4e40e2d31",
   "metadata": {},
   "outputs": [],
   "source": [
    "def transform2(sentence, condition_func, action_func):\n",
    "    return ' '.join([action_func(word) if condition_func(word) else word  for word in sentence.split()])"
   ]
  },
  {
   "cell_type": "code",
   "execution_count": 17,
   "id": "73d674d5-d4ac-4914-b6aa-e2f0a73a5156",
   "metadata": {},
   "outputs": [
    {
     "name": "stdout",
     "output_type": "stream",
     "text": [
      "The quick brown fox jumps **** the **** dog\n"
     ]
    }
   ],
   "source": [
    "condition1 = lambda word: len(word) == 4\n",
    "action1 = lambda word: '****'\n",
    "input_str = 'The quick brown fox jumps over the lazy dog'\n",
    "print(transform2(input_str, condition1, action1))"
   ]
  },
  {
   "cell_type": "markdown",
   "id": "5c6ee53a-7033-4bbe-a272-9969b76a2f52",
   "metadata": {},
   "source": [
    "4. Есть магазин по продаже мороженого. Одна порция стоит 5 евро. В кассе на момент открытия магазина - 0 евро. В магазин выстраивается очередь покупателей, у которых есть одна купюра, чтобы оплатить порцию мороженого. \n",
    "Задача: зная купюры всех покупателей в очереди (конечного размера), понять, получится ли продать мороженое всем (для этого надо иметь достаточно купюр, чтобы давать сдачу), или не получится. \n",
    "Существуют купюры следующего номинала: 5, 10, 20, 50 евро. \n",
    "Напишите функцию, которая принимает список с купюрами покупателей. \n",
    "Например, если очередь имеет купюры [5, 10, 5, 20], то функция вернет true (первому покупателю продадут мороженое за 5, со второго возьмут 10 и дадут сдачу 5, третьему дадут мороженое за 5, с четвертого возьмут 20 евро и дадут сдачу 15 купюрами 10 и 5 которые есть в кассе). \n",
    "\n",
    "   **Подсказка:** наш кошелек продавца можно представить в виде списка, отсортированного по возрастанию. Когда нам надо понять, можем ли мы дать сдачу, то мы перебираем список кошелька и суммируем банкноты в нем. Если они могут в сумме дать сдачу, то мы их убираем из списка, добавляем банкноту, которой платили, пересортировываем, и так далее).\n"
   ]
  },
  {
   "cell_type": "code",
   "execution_count": null,
   "id": "7ffb3902-caa8-4084-9cdd-427b833edcf4",
   "metadata": {},
   "outputs": [],
   "source": []
  }
 ],
 "metadata": {
  "kernelspec": {
   "display_name": "Python 3 (ipykernel)",
   "language": "python",
   "name": "python3"
  },
  "language_info": {
   "codemirror_mode": {
    "name": "ipython",
    "version": 3
   },
   "file_extension": ".py",
   "mimetype": "text/x-python",
   "name": "python",
   "nbconvert_exporter": "python",
   "pygments_lexer": "ipython3",
   "version": "3.12.4"
  }
 },
 "nbformat": 4,
 "nbformat_minor": 5
}
