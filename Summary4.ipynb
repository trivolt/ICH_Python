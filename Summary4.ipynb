{
 "cells": [
  {
   "cell_type": "markdown",
   "id": "f24ac44c-8adb-4a0c-ace2-4565e1492d7e",
   "metadata": {},
   "source": [
    "## Задачи"
   ]
  },
  {
   "cell_type": "markdown",
   "id": "4164cb7b-be53-4141-a026-077cb9a16d25",
   "metadata": {},
   "source": [
    "Перевести число -5.25 в формат с плавающей запятой. Написать представление числа в формате IEEE 754"
   ]
  },
  {
   "cell_type": "code",
   "execution_count": null,
   "id": "f7775e3a-0e96-4a5f-bb68-5a45d2cbee05",
   "metadata": {},
   "outputs": [],
   "source": []
  },
  {
   "cell_type": "markdown",
   "id": "88ccf9c4-164a-4b45-a3eb-40a534f2fc48",
   "metadata": {},
   "source": [
    "Для заданного натурального числа подсчитать количество цифр в числе\n",
    "\n",
    "Пример: 12345\n",
    "\n",
    "Вывод: 5 цифр"
   ]
  },
  {
   "cell_type": "code",
   "execution_count": 13,
   "id": "73d56907-027f-456f-87cd-c2571ee00e4a",
   "metadata": {},
   "outputs": [
    {
     "name": "stdin",
     "output_type": "stream",
     "text": [
      "введите натуральное число: 2345356\n"
     ]
    },
    {
     "name": "stdout",
     "output_type": "stream",
     "text": [
      "В введенном числе  7 цифры\n"
     ]
    }
   ],
   "source": [
    "n = int(input('введите натуральное число:'))\n",
    "\n",
    "cnt = 0\n",
    "while n > 0:\n",
    "    n //= 10 # n = n // 10\n",
    "    cnt += 1\n",
    "    \n",
    "print('В введенном числе ', cnt, 'цифры')"
   ]
  },
  {
   "cell_type": "code",
   "execution_count": null,
   "id": "9c982b4d-0ce3-408a-bc13-083b5384c865",
   "metadata": {},
   "outputs": [],
   "source": []
  },
  {
   "cell_type": "markdown",
   "id": "b9f696e7-f707-486d-9b91-b152b8ebcc3c",
   "metadata": {},
   "source": [
    "Для заданного натурального числа подсчитать количество четных цифр"
   ]
  },
  {
   "cell_type": "code",
   "execution_count": null,
   "id": "4ed99cc7-7c63-46db-a5f6-d242f75f389e",
   "metadata": {},
   "outputs": [],
   "source": [
    "n = int(input('выведите введите натуральное число:'))\n",
    "\n",
    "cnt = 0\n",
    "while n > 0:\n",
    "    dig = n % 10\n",
    "    if dig % 2 == 0:\n",
    "        cnt += 1\n",
    "    n = n // 10\n",
    "print('В введенном числе ', cnt, 'чётных цифр')"
   ]
  },
  {
   "cell_type": "markdown",
   "id": "e5951049-3098-4d2f-a325-b9c84e4cd92a",
   "metadata": {},
   "source": [
    "Для заданного натурального числа подсчитать сумму цифр числа\n",
    "\n",
    "Пример: 1234\n",
    "\n",
    "Вывод: 10"
   ]
  },
  {
   "cell_type": "code",
   "execution_count": null,
   "id": "d1405563-0839-4265-bfee-aa446e6bddc8",
   "metadata": {},
   "outputs": [],
   "source": [
    "n = int(input(\"Введите число: \"))\n",
    "summa = 0\n",
    "m=0\n",
    "\n",
    "while n != 0:\n",
    "    m = n%10\n",
    "    summa += m\n",
    "    n //= 10\n",
    "print(\"В данной числе сумма цифр\", summa)"
   ]
  },
  {
   "cell_type": "markdown",
   "id": "8ee13269-9fcc-4aef-8a03-7ee4611473a2",
   "metadata": {},
   "source": [
    "Для заданого натурального числа найти обратное ему число\n",
    "Пример: 1234\n",
    "Вывод: 4321"
   ]
  },
  {
   "cell_type": "code",
   "execution_count": 14,
   "id": "ee4a7aa8-47f3-49af-ac16-95bdf41e83e1",
   "metadata": {},
   "outputs": [
    {
     "name": "stdin",
     "output_type": "stream",
     "text": [
      "Введите число:  12345\n"
     ]
    },
    {
     "name": "stdout",
     "output_type": "stream",
     "text": [
      "Перевернутое число: 54321\n"
     ]
    }
   ],
   "source": [
    "n = int(input(\"Введите число: \"))\n",
    "invert_n = 0\n",
    "\n",
    "while n > 0:\n",
    "    dig = n % 10\n",
    "    invert_n = invert_n * 10 + dig\n",
    "    n //= 10\n",
    "    \n",
    "print(\"Перевернутое число:\", invert_n)"
   ]
  },
  {
   "cell_type": "markdown",
   "id": "c6c0f5ed-2bca-46f7-b95e-1b8ff51ac85b",
   "metadata": {},
   "source": [
    "Подсчитать количество единиц в введенном числе\n",
    "\n",
    "Пример: 1012\n",
    "\n",
    "Вывод: 2"
   ]
  },
  {
   "cell_type": "code",
   "execution_count": null,
   "id": "cf503605-234c-4171-9ba6-879762d23cab",
   "metadata": {},
   "outputs": [],
   "source": [
    "n = int(input('введите натуральное число:'))\n",
    "\n",
    "count = 0\n",
    "while n > 0:\n",
    "    if n % 10 == 1:\n",
    "        count += 1\n",
    "    n //= 10   \n",
    "print('Количество 1 равно: ', count)"
   ]
  },
  {
   "cell_type": "markdown",
   "id": "871561a7-9671-4b22-8d7a-a221c53e2656",
   "metadata": {},
   "source": [
    "Найти сумму последних цифр числа до последнего 0\n",
    "\n",
    "Пример: 102045\n",
    "\n",
    "Вывод: 9"
   ]
  },
  {
   "cell_type": "code",
   "execution_count": 16,
   "id": "feacb42b-e693-416b-81e3-9a09c569b977",
   "metadata": {},
   "outputs": [
    {
     "name": "stdin",
     "output_type": "stream",
     "text": [
      "введите натуральное число: 12345\n"
     ]
    },
    {
     "name": "stdout",
     "output_type": "stream",
     "text": [
      "Сумма цифр до 0:  15\n"
     ]
    }
   ],
   "source": [
    "n = int(input('введите натуральное число:'))\n",
    "\n",
    "s = 0\n",
    "\n",
    "while n > 0:\n",
    "    dig = n % 10\n",
    "    if dig == 0:\n",
    "        break\n",
    "    s += dig\n",
    "    n //= 10   \n",
    "print('Сумма цифр до 0: ', s)"
   ]
  },
  {
   "cell_type": "markdown",
   "id": "4db6de00-96c4-4498-bef5-b460202b88d1",
   "metadata": {},
   "source": [
    "Для заданного натурального числа найти минимальную из цифр числа"
   ]
  },
  {
   "cell_type": "code",
   "execution_count": null,
   "id": "27df8091-4e08-4244-a00b-6451fdd20082",
   "metadata": {},
   "outputs": [],
   "source": [
    "n = int(input('введите натуральное число:'))\n",
    "mn = 10\n",
    "dig = 0\n",
    "\n",
    "while n > 0:\n",
    "    dig = n % 10\n",
    "    if dig < mn:\n",
    "        mn = dig\n",
    "    n //= 10   \n",
    "print('Минимальная цифра из числа: ', mn)"
   ]
  },
  {
   "cell_type": "markdown",
   "id": "05795ce3-46c0-4bbe-ab9d-ff6974a27d77",
   "metadata": {},
   "source": [
    "Для заданного натурального числа определить, является ли оно простым?"
   ]
  },
  {
   "cell_type": "code",
   "execution_count": 18,
   "id": "5be9c667-b246-47d5-a455-68562e2e3184",
   "metadata": {},
   "outputs": [
    {
     "name": "stdin",
     "output_type": "stream",
     "text": [
      "введите натуральное число: 12\n"
     ]
    },
    {
     "name": "stdout",
     "output_type": "stream",
     "text": [
      "составное\n"
     ]
    }
   ],
   "source": [
    "n = int(input('введите натуральное число:'))\n",
    "\n",
    "cnt = 0\n",
    "i = 2\n",
    "\n",
    "while i < n:\n",
    "    if n % i == 0:\n",
    "        cnt += 1\n",
    "    i += 1\n",
    "\n",
    "if cnt == 0:\n",
    "    print('простое')\n",
    "else:\n",
    "    print('составное')\n",
    "\n"
   ]
  },
  {
   "cell_type": "code",
   "execution_count": 19,
   "id": "b7c57006-11c5-4f2e-88e6-36a16599033f",
   "metadata": {},
   "outputs": [
    {
     "name": "stdout",
     "output_type": "stream",
     "text": [
      "4.2500000000000000000\n"
     ]
    }
   ],
   "source": [
    "import decimal\n",
    "\n",
    "decimal.getcontext().prec = 20\n",
    "a = decimal.Decimal(1.12) + decimal.Decimal(3.13)\n",
    "print(a)"
   ]
  },
  {
   "cell_type": "code",
   "execution_count": 20,
   "id": "7e2c3f5d-b0f2-478f-a76d-82b459168631",
   "metadata": {},
   "outputs": [
    {
     "name": "stdout",
     "output_type": "stream",
     "text": [
      "4.2500000000000000000\n"
     ]
    }
   ],
   "source": [
    "import decimal as dc\n",
    "\n",
    "dc.getcontext().prec = 20\n",
    "a = dc.Decimal(1.12) + dc.Decimal(3.13)\n",
    "print(a)"
   ]
  },
  {
   "cell_type": "code",
   "execution_count": 22,
   "id": "ef7ead18-06da-4ea0-9099-65e51d55dd9a",
   "metadata": {},
   "outputs": [
    {
     "name": "stdout",
     "output_type": "stream",
     "text": [
      "3.141592653589793\n"
     ]
    }
   ],
   "source": [
    "from decimal import Decimal, getcontext\n",
    "\n",
    "getcontext().prec = 20\n",
    "a = Decimal(1.12) + Decimal(3.13)\n",
    "print(a)"
   ]
  },
  {
   "cell_type": "markdown",
   "id": "3f99cad7-d58f-4037-976a-852c4e58787f",
   "metadata": {},
   "source": [
    "### Разбор сложных задач этой недели"
   ]
  },
  {
   "cell_type": "markdown",
   "id": "d36e2640-9f64-4882-b968-83b74b4a8c5f",
   "metadata": {},
   "source": [
    "Напишите программу, которая запрашивает у пользователя целое число и определяет, является ли оно палиндромом. Число является палиндромом, если оно читается одинаково слева направо и справа налево. Выведите соответствующее сообщение на экран с помощью команды print. Используйте математические операции. Работу со строками использовать нельзя.\r\n",
    "\r\n",
    "Пример вывода:\r\n",
    "\r\n",
    "Введите целое число: 12321\r\n",
    "\r\n",
    "Число является палиндромом"
   ]
  },
  {
   "cell_type": "code",
   "execution_count": null,
   "id": "a00bd89c-6633-42bf-bfff-0cc21f28f2a9",
   "metadata": {},
   "outputs": [],
   "source": [
    "num = int(input(\"Введите целое число: \"))\n",
    "original_num = num\n",
    "reversed_num = 0\n",
    "\n",
    "# Переворачиваем число\n",
    "while num > 0:\n",
    "    digit = num % 10\n",
    "    reversed_num = reversed_num * 10 + digit\n",
    "    num = num // 10\n",
    "\n",
    "# Проверяем, является ли число палиндромом\n",
    "if original_num == reversed_num:\n",
    "    print(\"Число является палиндромом\")\n",
    "else:\n",
    "    print(\"Число не является палиндромом\")"
   ]
  },
  {
   "cell_type": "markdown",
   "id": "b6ab6c76-989f-40cb-a044-49e525157930",
   "metadata": {},
   "source": [
    "Напишите программу, которая запрашивает у пользователя целое число и проверяет, является ли оно числом Армстронга. Число Армстронга - это число, которое равно сумме своих цифр, возведенных в степень, равную количеству цифр в числе. \n",
    "Выведите соответствующее сообщение на экран с помощью команды print.\n",
    "\n",
    "Пример вывода:\n",
    "\n",
    "Введите целое число: 153\n",
    "\n",
    "Число является числом Армстронга."
   ]
  },
  {
   "cell_type": "code",
   "execution_count": null,
   "id": "b3b836e1-c249-4be9-8186-faf8afcd1804",
   "metadata": {},
   "outputs": [],
   "source": [
    "num = int(input(\"Введите целое число: \"))\n",
    "original_num = num\n",
    "sum_of_powers = 0\n",
    "\n",
    "num_digits = 0\n",
    "temp_num = num\n",
    "while temp_num > 0:\n",
    "    temp_num //= 10\n",
    "    num_digits += 1\n",
    "\n",
    "temp_num = num\n",
    "while temp_num > 0:\n",
    "    digit = temp_num % 10\n",
    "    sum_of_powers += digit ** num_digits\n",
    "    temp_num //= 10\n",
    "\n",
    "if original_num == sum_of_powers:\n",
    "    print(\"Число является числом Армстронга.\")\n",
    "else:\n",
    "    print(\"Число не является числом Армстронга.\")\n"
   ]
  }
 ],
 "metadata": {
  "kernelspec": {
   "display_name": "Python 3 (ipykernel)",
   "language": "python",
   "name": "python3"
  },
  "language_info": {
   "codemirror_mode": {
    "name": "ipython",
    "version": 3
   },
   "file_extension": ".py",
   "mimetype": "text/x-python",
   "name": "python",
   "nbconvert_exporter": "python",
   "pygments_lexer": "ipython3",
   "version": "3.12.4"
  }
 },
 "nbformat": 4,
 "nbformat_minor": 5
}
