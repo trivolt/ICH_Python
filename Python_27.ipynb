{
 "cells": [
  {
   "cell_type": "markdown",
   "id": "a57bcb18-26d3-4f60-a9c8-0f8ceedce346",
   "metadata": {},
   "source": [
    "# Введение в функциональное программирование"
   ]
  },
  {
   "cell_type": "markdown",
   "id": "8f4dcfef-157c-44f6-8766-e211203a4f91",
   "metadata": {},
   "source": [
    "### Парадигмы программирования:\n",
    "\n",
    "Парадигма программирования представляет собой подход или методологию, которая определяет способ структурирования, организации и написания программного кода. В рамках каждой парадигмы программирования есть свои основные принципы, концепции и инструменты. Некоторые из популярных парадигм программирования включают императивное, декларативное, объектно-ориентированное, функциональное и логическое программирование.\n"
   ]
  },
  {
   "cell_type": "markdown",
   "id": "0fe7aa5f-b728-415b-9c9a-853e975ccd2a",
   "metadata": {},
   "source": [
    "#### Некоторые из популярных парадигм программирования включают: \n",
    "* Императивное программирование\n",
    "* Декларативное программирование\n",
    "* Объектно-ориентированное программирование\n",
    "* Функциональное программирование\n",
    "* Логическое программирование\n"
   ]
  },
  {
   "cell_type": "markdown",
   "id": "fe3fca2e-50fe-496b-afee-5956e2ed4274",
   "metadata": {},
   "source": [
    "##### Императивное программирование\n",
    "Программа состоит из последовательности команд, которые изменяют состояние программы.\n",
    "\n",
    "Пример на Python:"
   ]
  },
  {
   "cell_type": "code",
   "execution_count": null,
   "id": "fa75d8cb-27a4-4394-aa0d-3c98705d8df0",
   "metadata": {},
   "outputs": [],
   "source": [
    "# Вычисление суммы чисел от 1 до 10\n",
    "sum = 0\n",
    "for i in range(1, 11):\n",
    "    sum += i\n",
    "print(sum)  # Вывод: 55"
   ]
  },
  {
   "cell_type": "markdown",
   "id": "8201022c-6f28-4651-8980-e1e5f749ce1a",
   "metadata": {},
   "source": [
    "##### Декларативное программирование\n",
    "Программа описывает, что нужно сделать, а не как это сделать.\n",
    "\n",
    "Пример на SQL (запрос к базе данных):"
   ]
  },
  {
   "cell_type": "code",
   "execution_count": null,
   "id": "2c365f2b-a14e-4205-9aa8-dcf1e775eea4",
   "metadata": {},
   "outputs": [],
   "source": [
    "-- Получить всех пользователей старше 30 лет\n",
    "SELECT * FROM users WHERE age > 30;"
   ]
  },
  {
   "cell_type": "markdown",
   "id": "24be2069-1196-4093-945b-fb37200aae58",
   "metadata": {},
   "source": [
    "##### Объектно-ориентированное программирование (ООП)\n",
    "Программа строится вокруг объектов, которые содержат данные и методы для работы с ними.\n",
    "    \n",
    "Пример на Python:"
   ]
  },
  {
   "cell_type": "code",
   "execution_count": null,
   "id": "beb577e6-dffb-4c11-980b-edf7eb3095a0",
   "metadata": {},
   "outputs": [],
   "source": [
    "class Dog:\n",
    "    def __init__(self, name):\n",
    "        self.name = name\n",
    "\n",
    "    def bark(self):\n",
    "        return f\"{self.name} says Woof!\"\n",
    "\n",
    "# Создание объекта\n",
    "my_dog = Dog(\"Buddy\")\n",
    "print(my_dog.bark())  # Вывод: Buddy says Woof!"
   ]
  },
  {
   "cell_type": "markdown",
   "id": "041d6e20-c16f-4fcc-aaab-825c519fb551",
   "metadata": {},
   "source": [
    "* Императивное программирование описывает шаги и инструкции для выполнения конкретной задачи.\n",
    "* Декларативное программирование фокусируется на описании желаемого результата, а не на определении шагов для его достижения.\n",
    "* Объектно-ориентированное программирование ставит объекты в центр разработки и использует понятия классов, наследования и инкапсуляции.\n",
    "* Функциональное программирование ориентировано на использование функций в качестве основной строительной единицы программы и ставит акцент на неизменяемость данных.\n",
    "* Логическое программирование основано на формальной логике и использует правила и факты для вывода результатов.\n"
   ]
  },
  {
   "cell_type": "markdown",
   "id": "d9013822-40cb-44d8-be18-93b61eb71b8f",
   "metadata": {},
   "source": [
    "Каждая парадигма имеет свои сильные стороны и применяется в зависимости от задачи. Например, императивное программирование часто используется для низкоуровневых задач, а функциональное — для задач с высокой степенью абстракции"
   ]
  },
  {
   "cell_type": "markdown",
   "id": "d0431747-d0cf-4cd0-835f-7327d8ecd49a",
   "metadata": {},
   "source": [
    "### Функциональное программирпование"
   ]
  },
  {
   "cell_type": "markdown",
   "id": "3e03897f-a312-40b9-a56b-e0ee5c27ff98",
   "metadata": {},
   "source": [
    "#### Особенности функционального программирования. Когда нужно использовать этот подход:\n",
    "\n",
    "Функциональное программирование подразумевает использование функций в качестве основной строительной единицы программы. Основные принципы функционального программирования включают \n",
    "* неизменяемость данных, \n",
    "* отсутствие побочных эффектов\n",
    "* использование функций высшего порядка\n",
    "\n",
    "Функциональное программирование часто используется для решения задач, где необходимо обработать данные, преобразовать их и получить результат, не изменяя исходные данные. Этот подход также полезен при работе с параллельными и распределенными системами, а также при написании чистого и модульного кода.\n"
   ]
  },
  {
   "cell_type": "markdown",
   "id": "0137a165-d3a5-4468-a57f-b9e6b23e8f86",
   "metadata": {},
   "source": [
    "### Функции для работы с последовательностями в Python:\n",
    "Python предлагает ряд встроенных функций для работы с последовательностями, такими как списки, кортежи и строки. Некоторые из этих функций включают len(), который возвращает длину последовательности, sum(), который возвращает сумму элементов последовательности, min() и max(), которые возвращают наименьший и наибольший элементы соответственно.\n"
   ]
  },
  {
   "cell_type": "code",
   "execution_count": null,
   "id": "ed3128dc-3b46-4560-89a8-3021760f13b6",
   "metadata": {},
   "outputs": [],
   "source": [
    "numbers = [1, 2, 3, 4, 5]\n",
    "length = len(numbers)  # 5\n",
    "total = sum(numbers)  # 15\n",
    "minimum = min(numbers)  # 1\n",
    "maximum = max(numbers)  # 5\n"
   ]
  },
  {
   "cell_type": "markdown",
   "id": "19da5a5a",
   "metadata": {},
   "source": [
    "Уже известные, на самом деле, функции вида iterable -> one_element: sum, min, max ...\n",
    "### Новые функции all и any:\n"
   ]
  },
  {
   "cell_type": "markdown",
   "id": "c99c3dd2-3991-4ac3-892b-c2dfc0ef4b82",
   "metadata": {},
   "source": [
    "Однако, также существуют функции all() и any().\n",
    "\n",
    "* Функция all() возвращает True, если все элементы итерируемого объекта являются истинными, и False в противном случае.\n",
    "* Функция any() возвращает True, если хотя бы один элемент итерируемого объекта является истинным, и False в противном случае.\n"
   ]
  },
  {
   "cell_type": "code",
   "execution_count": 1,
   "id": "2e0f7c42-63b3-430f-a9cf-8b8e25f21b34",
   "metadata": {},
   "outputs": [
    {
     "name": "stdout",
     "output_type": "stream",
     "text": [
      "True\n",
      "False\n"
     ]
    }
   ],
   "source": [
    "numbers = [1, 2, 3, 4, 5]\n",
    "all_true = all(num > 0 for num in numbers)\n",
    "any_true = any(num < 0 for num in numbers)\n",
    "print(all_true)\n",
    "print(any_true)"
   ]
  },
  {
   "cell_type": "code",
   "execution_count": 2,
   "id": "6bf22c52-88ac-47d9-a82c-b2e8137eb4ab",
   "metadata": {},
   "outputs": [
    {
     "name": "stdout",
     "output_type": "stream",
     "text": [
      "True\n"
     ]
    }
   ],
   "source": [
    "item_list = [1,2,3]\n",
    "print(all(item_list))"
   ]
  },
  {
   "cell_type": "code",
   "execution_count": null,
   "id": "639a1856-fa51-4549-9279-f12337ba889c",
   "metadata": {},
   "outputs": [],
   "source": []
  },
  {
   "attachments": {},
   "cell_type": "markdown",
   "id": "1143226b",
   "metadata": {},
   "source": [
    "## Отличия sorted и reversed в функциональном программировании"
   ]
  },
  {
   "cell_type": "raw",
   "id": "e55467dc-0c39-4958-9972-c838d466ad15",
   "metadata": {},
   "source": [
    "Функция sorted() принимает итерируемый объект и возвращает новый список, содержащий отсортированные элементы исходного объекта. Эта функция не изменяет исходный объект.\n",
    "Функция reversed() принимает итерируемый объект и возвращает обратный итератор, который позволяет перебирать элементы в обратном порядке. Эта функция не изменяет исходный объект и не создает новый список.\n",
    "🤓 Вспоминаем про итераторы. Итераторы выглядят безумно удобно в контексте функционального программирования, не так ли?\n"
   ]
  },
  {
   "cell_type": "code",
   "execution_count": 3,
   "id": "98c3e197",
   "metadata": {},
   "outputs": [],
   "source": [
    "numbers = [3, 1, 4, 2, 5]\n",
    "sorted_numbers = sorted(numbers)  # [1, 2, 3, 4, 5]\n",
    "reversed_numbers = reversed(numbers)  # <list_reverseiterator object at 0x7f4b930b3d00>\n"
   ]
  },
  {
   "cell_type": "code",
   "execution_count": 4,
   "id": "5b47ed09",
   "metadata": {},
   "outputs": [
    {
     "data": {
      "text/plain": [
       "<list_reverseiterator at 0x15996f61a20>"
      ]
     },
     "execution_count": 4,
     "metadata": {},
     "output_type": "execute_result"
    }
   ],
   "source": [
    "reversed_numbers"
   ]
  },
  {
   "cell_type": "code",
   "execution_count": 5,
   "id": "b7a2f9d7",
   "metadata": {},
   "outputs": [
    {
     "name": "stdout",
     "output_type": "stream",
     "text": [
      "5\n",
      "2\n",
      "4\n",
      "1\n",
      "3\n"
     ]
    }
   ],
   "source": [
    "for item in reversed_numbers:\n",
    "    print(item)"
   ]
  },
  {
   "cell_type": "code",
   "execution_count": 8,
   "id": "3906d905-3d51-48a2-ac2f-3428294a8307",
   "metadata": {},
   "outputs": [
    {
     "data": {
      "text/plain": [
       "[3, 1, 4, 2, 5]"
      ]
     },
     "execution_count": 8,
     "metadata": {},
     "output_type": "execute_result"
    }
   ],
   "source": [
    "numbers"
   ]
  },
  {
   "cell_type": "code",
   "execution_count": 7,
   "id": "f074038b-fc62-4657-8571-35787fbc8dc6",
   "metadata": {},
   "outputs": [
    {
     "data": {
      "text/plain": [
       "[1, 2, 3, 4, 5]"
      ]
     },
     "execution_count": 7,
     "metadata": {},
     "output_type": "execute_result"
    }
   ],
   "source": [
    "sorted_numbers"
   ]
  },
  {
   "cell_type": "markdown",
   "id": "9e794c63-c198-4cb7-bc0a-23b85cef0441",
   "metadata": {},
   "source": [
    "### Встроенные методы enumerate и zip:\n"
   ]
  },
  {
   "cell_type": "markdown",
   "id": "086c4648",
   "metadata": {},
   "source": [
    "### Enumerate"
   ]
  },
  {
   "cell_type": "markdown",
   "id": "039fa62c-2a93-4f5e-8ebc-d40ce8f7a0d7",
   "metadata": {},
   "source": [
    "Функция enumerate() принимает итерируемый объект и возвращает итератор, который генерирует кортежи, состоящие из индекса элемента и самого элемента. Это полезно, когда необходимо получить доступ к индексам элементов во время итерации."
   ]
  },
  {
   "cell_type": "code",
   "execution_count": 9,
   "id": "d7e1d13f",
   "metadata": {},
   "outputs": [
    {
     "name": "stdout",
     "output_type": "stream",
     "text": [
      "0 apple\n",
      "1 banana\n",
      "2 orange\n"
     ]
    }
   ],
   "source": [
    "fruits = ['apple', 'banana', 'orange']\n",
    "for index, fruit in enumerate(fruits):\n",
    "    print(index, fruit)  \n"
   ]
  },
  {
   "cell_type": "markdown",
   "id": "f9a8fbff",
   "metadata": {},
   "source": [
    "### Zip"
   ]
  },
  {
   "cell_type": "markdown",
   "id": "5c88b61c-b987-46a0-a47d-b116ae198d1d",
   "metadata": {},
   "source": [
    "Функция zip() принимает несколько итерируемых объектов и возвращает итератор, который генерирует кортежи, содержащие элементы из каждого итерируемого объекта на соответствующих позициях. Это позволяет объединять элементы из разных последовательностей.\n"
   ]
  },
  {
   "cell_type": "code",
   "execution_count": 10,
   "id": "7424886d",
   "metadata": {},
   "outputs": [
    {
     "name": "stdout",
     "output_type": "stream",
     "text": [
      "1 a\n",
      "2 b\n",
      "3 c\n"
     ]
    }
   ],
   "source": [
    "numbers = [1, 2, 3]\n",
    "letters = ['a', 'b', 'c']\n",
    "zipped = zip(numbers, letters)\n",
    "for num, letter in zipped:\n",
    "    print(num, letter)   \n"
   ]
  },
  {
   "cell_type": "code",
   "execution_count": 11,
   "id": "4bbe1d75",
   "metadata": {},
   "outputs": [
    {
     "name": "stdout",
     "output_type": "stream",
     "text": [
      "a 100\n",
      "b 200\n",
      "c 300\n"
     ]
    }
   ],
   "source": [
    "zps = [100, 200, 300]\n",
    "names = ['a', 'b', 'c','d']\n",
    "zipped = zip(names, zps)\n",
    "for name, zp in zipped:\n",
    "    print(name, zp)"
   ]
  },
  {
   "cell_type": "code",
   "execution_count": 12,
   "id": "349fee8c-d933-4b94-b38e-6b944c9788bd",
   "metadata": {},
   "outputs": [
    {
     "name": "stdout",
     "output_type": "stream",
     "text": [
      "{1: 'a', 2: 'b', 3: 'c'}\n"
     ]
    }
   ],
   "source": [
    "numbers = [1, 2, 3]\n",
    "letters = ['a', 'b', 'c']\n",
    "zipped = dict(zip(numbers, letters))\n",
    "print(zipped)"
   ]
  },
  {
   "cell_type": "markdown",
   "id": "eb4dfffe-36e7-4328-821c-ebde7143448b",
   "metadata": {},
   "source": [
    "### Задание для закрепления"
   ]
  },
  {
   "cell_type": "code",
   "execution_count": 13,
   "id": "b8775ee7-7f62-4e9e-95b3-9c292dd6aab3",
   "metadata": {},
   "outputs": [
    {
     "name": "stdout",
     "output_type": "stream",
     "text": [
      "[(0, 'Black'), (1, 'Purple'), (2, 'Brown'), (3, 'Yellow'), (4, 'Blue')]\n"
     ]
    }
   ],
   "source": [
    "#Что будет выведено в результате выполнения фрагмента кода:\n",
    "\n",
    "colour = [\"Black\", \"Purple\", \"Brown\", \"Yellow\", \"Blue\"]\n",
    "print(list(enumerate(colour)))\n"
   ]
  },
  {
   "cell_type": "code",
   "execution_count": null,
   "id": "fcb6767b-15be-4a0d-8985-225d33d0fde5",
   "metadata": {},
   "outputs": [],
   "source": []
  },
  {
   "attachments": {},
   "cell_type": "markdown",
   "id": "baeab3ef",
   "metadata": {},
   "source": [
    "### Введение в map-filter-reduce"
   ]
  },
  {
   "cell_type": "markdown",
   "id": "3207d63d-964d-49a2-8803-ded312e2cc35",
   "metadata": {},
   "source": [
    "map, filter и reduce - это функции высшего порядка, которые широко используются в функциональном программировании.\n",
    "* map применяет функцию к каждому элементу итерируемого объекта и возвращает итератор с преобразованными значениями.\n",
    "* filter применяет функцию-предикат к каждому элементу итерируемого объекта и возвращает итератор, содержащий только элементы, для которых предикат возвращает True.\n",
    "* |reduce применяет функцию двух аргументов к элементам итерируемого объекта, последовательно сводя их к одному значению.\n"
   ]
  },
  {
   "cell_type": "markdown",
   "id": "9d1054b1-ea96-4c72-a080-056e65222256",
   "metadata": {},
   "source": [
    "### map"
   ]
  },
  {
   "cell_type": "code",
   "execution_count": 14,
   "id": "76d2d5f0",
   "metadata": {},
   "outputs": [],
   "source": [
    "numbers = [1, 2, 3, 4, 5]\n",
    "squared = map(lambda x: x ** 2, numbers)  # [1, 4, 9, 16, 25]"
   ]
  },
  {
   "cell_type": "code",
   "execution_count": 15,
   "id": "0a9a1e8a",
   "metadata": {},
   "outputs": [
    {
     "data": {
      "text/plain": [
       "[1, 4, 9, 16, 25]"
      ]
     },
     "execution_count": 15,
     "metadata": {},
     "output_type": "execute_result"
    }
   ],
   "source": [
    "list(squared)"
   ]
  },
  {
   "cell_type": "code",
   "execution_count": 16,
   "id": "1c9a5838-b05b-42d6-8ab4-3586c4adce61",
   "metadata": {},
   "outputs": [
    {
     "name": "stdout",
     "output_type": "stream",
     "text": [
      "['1', '2', '3', '4', '5']\n"
     ]
    }
   ],
   "source": [
    "numbers = [1, 2, 3, 4, 5]\n",
    "\n",
    "print(list(map(str, numbers)))"
   ]
  },
  {
   "cell_type": "code",
   "execution_count": null,
   "id": "d43cbb51-4879-476e-988e-1ef7ec1a943d",
   "metadata": {},
   "outputs": [],
   "source": []
  },
  {
   "cell_type": "code",
   "execution_count": 17,
   "id": "8b460d28",
   "metadata": {},
   "outputs": [],
   "source": [
    "s = '1 12 4 34 100 5012 -1'"
   ]
  },
  {
   "cell_type": "code",
   "execution_count": 18,
   "id": "d98a6c97-8969-4acb-97c0-701c13eb8834",
   "metadata": {},
   "outputs": [
    {
     "data": {
      "text/plain": [
       "['1', '12', '4', '34', '100', '5012', '-1']"
      ]
     },
     "execution_count": 18,
     "metadata": {},
     "output_type": "execute_result"
    }
   ],
   "source": [
    "s.split()"
   ]
  },
  {
   "cell_type": "code",
   "execution_count": 19,
   "id": "e497765b",
   "metadata": {},
   "outputs": [
    {
     "data": {
      "text/plain": [
       "[1, 12, 4, 34, 100, 5012, -1]"
      ]
     },
     "execution_count": 19,
     "metadata": {},
     "output_type": "execute_result"
    }
   ],
   "source": [
    "list(map(int,s.split()))"
   ]
  },
  {
   "cell_type": "markdown",
   "id": "cbdd25d1",
   "metadata": {},
   "source": [
    "### filter"
   ]
  },
  {
   "cell_type": "code",
   "execution_count": 20,
   "id": "4e54f7b0",
   "metadata": {},
   "outputs": [
    {
     "data": {
      "text/plain": [
       "['M']"
      ]
     },
     "execution_count": 20,
     "metadata": {},
     "output_type": "execute_result"
    }
   ],
   "source": [
    "peoples = ['M','F','F']\n",
    "res = filter(lambda x: x == 'M', peoples)\n",
    "list(res)"
   ]
  },
  {
   "cell_type": "code",
   "execution_count": 23,
   "id": "215ffb0d-1018-4275-aa79-1342f995f645",
   "metadata": {},
   "outputs": [
    {
     "name": "stdout",
     "output_type": "stream",
     "text": [
      "[45, 3567, 556, 345, -76, 32, 6, 8]\n"
     ]
    }
   ],
   "source": [
    "sequence = [1,67,23,45,3567,556,345,-76,667,32,6,8]\n",
    "\n",
    "print(list(filter(lambda x: x%4==0 or x%3==0, sequence)))"
   ]
  },
  {
   "cell_type": "code",
   "execution_count": 26,
   "id": "11647b17-ece7-43dd-82a6-26501b7a7f4f",
   "metadata": {},
   "outputs": [
    {
     "name": "stdout",
     "output_type": "stream",
     "text": [
      "['Izabel']\n"
     ]
    }
   ],
   "source": [
    "clients = ['Anna','Victoria', 'Irina', 'Natalia', 'Izabel']\n",
    "\n",
    "print(list(filter(lambda x: x[-1].lower()!='a',clients)))"
   ]
  },
  {
   "cell_type": "code",
   "execution_count": null,
   "id": "0245cae7-0683-4e60-a5b4-00b9012d412c",
   "metadata": {},
   "outputs": [],
   "source": [
    "# sequence = [1,67,23,45,3567,556,345,-76,667,32,6,8] оставить элементы выше среднего\n"
   ]
  },
  {
   "cell_type": "markdown",
   "id": "8baeacd9",
   "metadata": {},
   "source": [
    "### Reduce"
   ]
  },
  {
   "cell_type": "code",
   "execution_count": 27,
   "id": "712275e1",
   "metadata": {},
   "outputs": [],
   "source": [
    "numbers = [1, 2, 3, 4, 5]"
   ]
  },
  {
   "cell_type": "code",
   "execution_count": 28,
   "id": "3235a548",
   "metadata": {},
   "outputs": [],
   "source": [
    "from functools import reduce\n",
    "product = reduce(lambda x, y: x + y, numbers)\n"
   ]
  },
  {
   "cell_type": "code",
   "execution_count": 29,
   "id": "86fe843b",
   "metadata": {},
   "outputs": [
    {
     "data": {
      "text/plain": [
       "15"
      ]
     },
     "execution_count": 29,
     "metadata": {},
     "output_type": "execute_result"
    }
   ],
   "source": [
    "product"
   ]
  },
  {
   "cell_type": "code",
   "execution_count": 30,
   "id": "2bfe3e84",
   "metadata": {},
   "outputs": [
    {
     "data": {
      "text/plain": [
       "120"
      ]
     },
     "execution_count": 30,
     "metadata": {},
     "output_type": "execute_result"
    }
   ],
   "source": [
    "from functools import reduce\n",
    "product = reduce(lambda x, y: x * y, numbers)\n",
    "product"
   ]
  },
  {
   "cell_type": "markdown",
   "id": "f115ee72",
   "metadata": {},
   "source": [
    "## ПЗ"
   ]
  },
  {
   "cell_type": "markdown",
   "id": "536d7870",
   "metadata": {},
   "source": [
    "Считать данные из файла anna-karenina.txt, очистить их, оставить только слова длиной более десяти символов.\n",
    "https://drive.google.com/file/d/147wV4_lzkcHalPnhErD13RdnWkXtlhHE/view?usp=drive_link"
   ]
  },
  {
   "cell_type": "code",
   "execution_count": null,
   "id": "41be64ef",
   "metadata": {},
   "outputs": [],
   "source": [
    "\n",
    "symb = ',;[]1234567890:!?».«)'\n",
    "with open('anna-karenina.txt', 'r') as file:\n",
    "    data = file.read()\n",
    "long_words = [word.rstrip(symb) for word in data.split() if len(word) > 10]\n",
    "print(long_words)"
   ]
  },
  {
   "cell_type": "code",
   "execution_count": null,
   "id": "0a44cdd6",
   "metadata": {},
   "outputs": [],
   "source": [
    "with open('anna-karenina.txt', 'r') as file:\n",
    "    data = file.read()\n",
    "long_words = [word for word in data.split() if len(word) > 10]\n",
    "print(long_words)"
   ]
  },
  {
   "cell_type": "code",
   "execution_count": null,
   "id": "189df667",
   "metadata": {},
   "outputs": [],
   "source": [
    "def clean_word(s: str):\n",
    "    return s.rstrip(symb)\n",
    "\n",
    "\n",
    "symb = ',;[]1234567890:!?».«)'\n",
    "with open('anna-karenina.txt', 'r') as file:\n",
    "    data = file.read()\n",
    "long_words = filter(lambda x: len(x)>10, data.split())\n",
    "print(list(map(clean_word, long_words)))"
   ]
  },
  {
   "cell_type": "code",
   "execution_count": null,
   "id": "09019a1f",
   "metadata": {},
   "outputs": [],
   "source": []
  },
  {
   "cell_type": "markdown",
   "id": "6c8c89a5-aad4-4758-bf8f-fef24b71cb71",
   "metadata": {},
   "source": [
    "### Полезные материалы\n",
    "1. Введение в функциональное программирование на Python https://habr.com/ru/articles/257903/ \n",
    "2.  Python/Функциональное программирование на Python\n",
    "https://ru.wikibooks.org/wiki/Python/%D0%A4%D1%83%D0%BD%D0%BA%D1%86%D0%B8%D0%BE%D0%BD%D0%B0%D0%BB%D1%8C%D0%BD%D0%BE%D0%B5_%D0%BF%D1%80%D0%BE%D0%B3%D1%80%D0%B0%D0%BC%D0%BC%D0%B8%D1%80%D0%BE%D0%B2%D0%B0%D0%BD%D0%B8%D0%B5_%D0%BD%D0%B0_Python \n",
    "\n",
    "### Вопросы для закрепления\n",
    "* Какие есть функции, превращающие последовательность в один элемент? Что именно они делают?\n",
    "* Какие есть функции, превращающие последовательность в последовательность? Какие из них не изменяют количество элементов, а какие могут изменять?\n",
    "* Что может приходить в качестве аргумента в такие функции? Важно ли, чтобы этот тип был изменяемым/неизменяемым?\n"
   ]
  },
  {
   "cell_type": "code",
   "execution_count": null,
   "id": "a027e5a0-ad3c-4d91-b878-55ee5f3c8f93",
   "metadata": {},
   "outputs": [],
   "source": []
  }
 ],
 "metadata": {
  "kernelspec": {
   "display_name": "Python 3 (ipykernel)",
   "language": "python",
   "name": "python3"
  },
  "language_info": {
   "codemirror_mode": {
    "name": "ipython",
    "version": 3
   },
   "file_extension": ".py",
   "mimetype": "text/x-python",
   "name": "python",
   "nbconvert_exporter": "python",
   "pygments_lexer": "ipython3",
   "version": "3.12.4"
  }
 },
 "nbformat": 4,
 "nbformat_minor": 5
}
