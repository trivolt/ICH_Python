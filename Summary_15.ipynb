{
 "cells": [
  {
   "cell_type": "markdown",
   "metadata": {
    "id": "7OdHtu_rIB8u"
   },
   "source": [
    "# Summary 14"
   ]
  },
  {
   "cell_type": "markdown",
   "metadata": {
    "id": "fAKP6t6HIB8v"
   },
   "source": [
    "### Объектно-Ориентированное Программирование (ООП)\n",
    "\n",
    "Объектно-ориентированное программирование (ООП) является методологией разработки программного обеспечения, в основе которой лежит понятие класса и объекта, при этом сама программа создается как некоторая совокупность объектов, которые взаимодействуют друг с другом и с внешним миром.\n",
    "\n",
    "**Объект** - сущность, обладающая состоянием и поведением.\n",
    "\n",
    "**Класс** - множество объектов, имеющих общую структуру и общее поведение.\n",
    "\n",
    "В программе на Python класс - тип данных, состоящий из набора **атрибутов** (свойств) и **методов** - функций для работы с этими свойствами.\n",
    "\n",
    "Классы, как и функции, создаются и используются для удобства и упрощения разработки программ.\n",
    "\n",
    "Выделяют три основных принципа ООП - это инкапсуляция, наследование и полиморфизм.\n",
    "\n",
    "### Инкапсуляция\n",
    "\n",
    "Под инкапсуляцией понимается сокрытие деталей реализации, данных и т.п. от внешней стороны. Например, можно определить класс `холодильник`, который будет содержать следующие данные: `производитель`, `объем`, `количество камер хранения`, `потребляемая мощность` и т.п., и методы: `открыть/закрыть холодильник`, `включить/выключить`, но при этом реализация того, как происходит непосредственно включение и выключение пользователю вашего класса не доступна, что позволяет ее менять без опасения, что это может отразиться на использующей класс «холодильник» программе. При этом класс становится новым типом данных в рамках разрабатываемой программы. Можно создавать переменные этого нового типа, такие переменные называются объекты.\n",
    "\n",
    "### Наследование\n",
    "\n",
    "Под наследованием понимается возможность создания нового класса на базе существующего. При этом класс потомок будет содержать те же атрибуты и методы, что и базовый класс, но при этом его можно (и нужно) расширять через добавление новых методов и атрибутов.\n",
    "\n",
    "Примером базового класса, демонстрирующего наследование, можно определить класс `автомобиль`, имеющий атрибуты: масса, мощность двигателя, объем топливного бака и методы: завести и заглушить. У такого класса может быть потомок – `грузовой автомобиль`, он будет содержать те же атрибуты и методы, что и класс `автомобиль`, и дополнительные свойства: количество осей, мощность компрессора и т.п..\n",
    "\n",
    "### Полиморфизм\n",
    "\n",
    "Полиморфизм позволяет одинаково обращаться с объектами, имеющими однотипный интерфейс, независимо от внутренней реализации объекта. Например, с объектом класса `грузовой автомобиль` можно производить те же операции, что и с объектом класса `автомобиль`, т.к. первый является наследником второго, при этом обратное утверждение неверно (во всяком случае не всегда). Другими словами полиморфизм предполагает разную реализацию методов с одинаковыми именами. Это очень полезно при наследовании, когда в классе наследнике можно переопределить методы класса родителя. Простым примером полиморфизма может служить функция `count()`, выполняющая одинаковое действие для различных типов обьектов: `'abc'.count('a')` и `[1, 2, 'a'].count('a')`. Оператор плюс полиморфичен при сложении чисел и при сложении строк."
   ]
  },
  {
   "cell_type": "markdown",
   "metadata": {
    "id": "etfkGfHFIB8w"
   },
   "source": [
    "### Мы уже встречались с классами\n",
    "На самом деле мы постоянно работаем с классами. По сути, все типы данных в python - это классы. Если мы вызовем функцию dir() от любого объекта, то мы увидим все его атрибуты и атрибуты его фундамента."
   ]
  },
  {
   "cell_type": "code",
   "execution_count": 5,
   "metadata": {
    "colab": {
     "base_uri": "https://localhost:8080/"
    },
    "id": "BKlY5lcpIB8x",
    "outputId": "3c65cbf7-a4ba-492f-d900-8c3527c358d0"
   },
   "outputs": [
    {
     "name": "stdout",
     "output_type": "stream",
     "text": [
      "['__add__', '__class__', '__contains__', '__delattr__', '__dir__', '__doc__', '__eq__', '__format__', '__ge__', '__getattribute__', '__getitem__', '__getnewargs__', '__getstate__', '__gt__', '__hash__', '__init__', '__init_subclass__', '__iter__', '__le__', '__len__', '__lt__', '__mod__', '__mul__', '__ne__', '__new__', '__reduce__', '__reduce_ex__', '__repr__', '__rmod__', '__rmul__', '__setattr__', '__sizeof__', '__str__', '__subclasshook__', 'capitalize', 'casefold', 'center', 'count', 'encode', 'endswith', 'expandtabs', 'find', 'format', 'format_map', 'index', 'isalnum', 'isalpha', 'isascii', 'isdecimal', 'isdigit', 'isidentifier', 'islower', 'isnumeric', 'isprintable', 'isspace', 'istitle', 'isupper', 'join', 'ljust', 'lower', 'lstrip', 'maketrans', 'partition', 'removeprefix', 'removesuffix', 'replace', 'rfind', 'rindex', 'rjust', 'rpartition', 'rsplit', 'rstrip', 'split', 'splitlines', 'startswith', 'strip', 'swapcase', 'title', 'translate', 'upper', 'zfill']\n"
     ]
    }
   ],
   "source": [
    "x = 'Marc'\n",
    "print(dir(x))"
   ]
  },
  {
   "cell_type": "markdown",
   "metadata": {
    "id": "jyWW26IuIB8y"
   },
   "source": [
    "Переменная x - экземпляр класса str и обладает всеми атрибутами этого класса."
   ]
  },
  {
   "cell_type": "code",
   "execution_count": null,
   "metadata": {
    "colab": {
     "base_uri": "https://localhost:8080/"
    },
    "id": "3LYqLzwKIB8y",
    "outputId": "651da0d3-fcde-473b-da3f-f5bf9118b21b"
   },
   "outputs": [],
   "source": [
    "print(dir(str)) # сравним"
   ]
  },
  {
   "cell_type": "markdown",
   "metadata": {
    "id": "Z_sWctitIB8z"
   },
   "source": [
    "## Создание классов в Python\n",
    "\n",
    "Создание класса в Python начинается с инструкции `class`. Вот так будет выглядеть минимальный класс:"
   ]
  },
  {
   "cell_type": "code",
   "execution_count": 6,
   "metadata": {
    "id": "cCU84kodIB8z"
   },
   "outputs": [],
   "source": [
    "class Car:\n",
    "   \"\"\"Необязательная строка документации класса\n",
    "   \n",
    "   \"\"\"  \n",
    "   pass"
   ]
  },
  {
   "cell_type": "markdown",
   "metadata": {
    "id": "J1cL6A3aIB80"
   },
   "source": [
    "Класс состоит из объявления (инструкция `class`), имени класса (нашем случае это имя `Car`) и тела класса, которое содержит атрибуты и методы (в нашем минимальном классе есть только одна инструкция `pass`). Также хорошим тоном считается описывать что делает этот класс и его методы, сразу после его объявления.\n",
    "\n",
    "Несмотря на пустое тело класса `Car`, на его основе уже можно создать определенный объект, обладающий уникальным идентификатором. Для того чтобы создать объект класса необходимо воспользоваться следующим синтаксисом:"
   ]
  },
  {
   "cell_type": "code",
   "execution_count": 7,
   "metadata": {
    "id": "RraufIcHIB81"
   },
   "outputs": [],
   "source": [
    "audi = Car()"
   ]
  },
  {
   "cell_type": "markdown",
   "metadata": {
    "id": "ymlwshsYIB81"
   },
   "source": [
    "Определив новый класс, можно создавать сколько угодно объектов на его основе. Как уже было сказано выше, такая структура данных может включать в себя некие свойства, то есть переменные, которыми будет наделен каждый экземпляр класса.\n"
   ]
  },
  {
   "cell_type": "code",
   "execution_count": 8,
   "metadata": {
    "colab": {
     "base_uri": "https://localhost:8080/"
    },
    "id": "8tCHKi62IB81",
    "outputId": "349e2432-2407-4fb0-b9a5-517696dee2c9"
   },
   "outputs": [
    {
     "name": "stdout",
     "output_type": "stream",
     "text": [
      "['__class__', '__delattr__', '__dict__', '__dir__', '__doc__', '__eq__', '__format__', '__ge__', '__getattribute__', '__getstate__', '__gt__', '__hash__', '__init__', '__init_subclass__', '__le__', '__lt__', '__module__', '__ne__', '__new__', '__reduce__', '__reduce_ex__', '__repr__', '__setattr__', '__sizeof__', '__str__', '__subclasshook__', '__weakref__']\n"
     ]
    }
   ],
   "source": [
    "print(dir(audi)) # пока никаких свойств не видим"
   ]
  },
  {
   "cell_type": "code",
   "execution_count": 9,
   "metadata": {
    "colab": {
     "base_uri": "https://localhost:8080/"
    },
    "id": "Kdj5XviOIB82",
    "outputId": "c9913038-f07d-4242-bb73-a01cf729f794"
   },
   "outputs": [
    {
     "name": "stdout",
     "output_type": "stream",
     "text": [
      "<class '__main__.Car'>\n"
     ]
    }
   ],
   "source": [
    "print(type(audi))"
   ]
  },
  {
   "cell_type": "markdown",
   "metadata": {
    "id": "laqJJZ9QIB82"
   },
   "source": [
    "`__main__` в питоне значит \"файл, который сечас исполняется\". Поэтому наша переменная класса audi класса Car 'созданного в файле, который сейчас исполняется'."
   ]
  },
  {
   "cell_type": "markdown",
   "metadata": {
    "id": "FYi1LeBBIB82"
   },
   "source": [
    "### Статические и динамические атрибуты класса\n",
    "\n",
    "Как уже было сказано выше, класс может содержать `атрибуты` и `методы`. `Атрибут` может быть статическим и динамическим. Суть в том, что для работы со статическим атрибутом, вам не нужно создавать экземпляр класса, а для работы с динамическим – нужно. Например, создадим такой класс `Car`:"
   ]
  },
  {
   "cell_type": "code",
   "execution_count": 10,
   "metadata": {
    "id": "hOVx9maOIB83"
   },
   "outputs": [],
   "source": [
    "class Car:\n",
    "    default_color = \"green\" # статический атрибут\n",
    "    \n",
    "    def __init__(self, color, brand, doors_num): #конструктор\n",
    "        if color == None:\n",
    "            self.color = Car.default_color\n",
    "        else:\n",
    "            self.color = color\n",
    "            \n",
    "        self.brand = brand\n",
    "        self.doors_num = doors_num"
   ]
  },
  {
   "cell_type": "markdown",
   "metadata": {
    "id": "EpzMhFEkIB83"
   },
   "source": [
    "Метод `__init__` вызывается всякий раз, когда вы создаете объект на основе этого класса. Метод `__init__` вызывается единожды, и не может быть вызван снова внутри программы. Другое определение метода `__init__` — это конструктор. Каждый метод класса должен иметь как минимум один аргумент - ссылку на объект self.\n",
    "\n",
    "Методы вида `__init__` иногда называют \"magic\" потому что они ведут себя не совсем как обычные методы. Еще можно встретить название 'dunder' (double-underscore).\n",
    "\n",
    "\n",
    "В представленном выше классе, атрибут default_color – это статический атрибут, и доступ к нему, как было сказано выше, можно получить не создавая объект класса Car"
   ]
  },
  {
   "cell_type": "code",
   "execution_count": 11,
   "metadata": {
    "colab": {
     "base_uri": "https://localhost:8080/",
     "height": 36
    },
    "id": "PU6K1lAPIB83",
    "outputId": "a501ef79-abba-4255-c696-4aa7a7b353c6"
   },
   "outputs": [
    {
     "data": {
      "text/plain": [
       "'green'"
      ]
     },
     "execution_count": 11,
     "metadata": {},
     "output_type": "execute_result"
    }
   ],
   "source": [
    "Car.default_color"
   ]
  },
  {
   "cell_type": "markdown",
   "metadata": {
    "id": "VgkDYjvHIB83"
   },
   "source": [
    "`color`, `brand` и `doors_num` – это динамические атрибуты, при их создании было использовано ключевое слово `self`. Про `self` и будет рассказано далее. Также обратите внимание на то, что внутри класса мы используем статический атрибут `default_color` для присвоения цвета машины, если мы его явно не задали.\n",
    "\n",
    "Для доступа к `color`, `brand` и `doors_num` предварительно нужно создать объект класса Car:"
   ]
  },
  {
   "cell_type": "code",
   "execution_count": 12,
   "metadata": {
    "colab": {
     "base_uri": "https://localhost:8080/"
    },
    "id": "PQgvZDa0IB84",
    "outputId": "a8441237-974b-41ec-d84b-9731f525d7ba"
   },
   "outputs": [
    {
     "name": "stdout",
     "output_type": "stream",
     "text": [
      "BMW\n",
      "green\n",
      "2\n"
     ]
    }
   ],
   "source": [
    "bmw = Car(None,\"BMW\", 2)\n",
    "print(bmw.brand)\n",
    "print(bmw.color)\n",
    "print(bmw.doors_num)"
   ]
  },
  {
   "cell_type": "markdown",
   "metadata": {
    "id": "BWutaa6gIB84"
   },
   "source": [
    "Мы создали объект класса, не задав ему конкретный цвет, поэтмоу был использован стандартный.\n",
    "\n",
    "Если к динамическому атрибуту обратиться через класс, то получим ошибку:"
   ]
  },
  {
   "cell_type": "code",
   "execution_count": 13,
   "metadata": {
    "colab": {
     "base_uri": "https://localhost:8080/",
     "height": 165
    },
    "id": "-UbNnwjlIB84",
    "outputId": "9417b253-0785-40ea-9a37-dd9dbd5fe5c0"
   },
   "outputs": [
    {
     "ename": "AttributeError",
     "evalue": "type object 'Car' has no attribute 'brand'",
     "output_type": "error",
     "traceback": [
      "\u001b[1;31m---------------------------------------------------------------------------\u001b[0m",
      "\u001b[1;31mAttributeError\u001b[0m                            Traceback (most recent call last)",
      "Cell \u001b[1;32mIn[13], line 1\u001b[0m\n\u001b[1;32m----> 1\u001b[0m Car\u001b[38;5;241m.\u001b[39mbrand\n",
      "\u001b[1;31mAttributeError\u001b[0m: type object 'Car' has no attribute 'brand'"
     ]
    }
   ],
   "source": [
    "Car.brand"
   ]
  },
  {
   "cell_type": "markdown",
   "metadata": {
    "id": "Fen4aaxEIB84"
   },
   "source": [
    "Иными словами статический атрибут - это стандартный атрибут класса, который общий для всех объектов этого класса. Давайте присвоим новое значение цвету."
   ]
  },
  {
   "cell_type": "code",
   "execution_count": 14,
   "metadata": {
    "id": "zeeNB8umIB85"
   },
   "outputs": [],
   "source": [
    "Car.default_color = \"red\""
   ]
  },
  {
   "cell_type": "code",
   "execution_count": 15,
   "metadata": {
    "colab": {
     "base_uri": "https://localhost:8080/",
     "height": 36
    },
    "id": "BSfBBB6BIB85",
    "outputId": "c044df77-0064-4797-a18f-9f276a8be511"
   },
   "outputs": [
    {
     "data": {
      "text/plain": [
       "'red'"
      ]
     },
     "execution_count": 15,
     "metadata": {},
     "output_type": "execute_result"
    }
   ],
   "source": [
    "Car.default_color"
   ]
  },
  {
   "cell_type": "markdown",
   "metadata": {
    "id": "eXYlXK6UIB85"
   },
   "source": [
    "Создадим два объекта класса `Car` и проверим, что `default_color` у них совпадает:"
   ]
  },
  {
   "cell_type": "code",
   "execution_count": 16,
   "metadata": {
    "id": "17mQqqPkIB85"
   },
   "outputs": [],
   "source": [
    "bmw = Car(None,\"BMW\",2)\n",
    "audi = Car(None,\"AUDI\", 4)"
   ]
  },
  {
   "cell_type": "code",
   "execution_count": 17,
   "metadata": {
    "colab": {
     "base_uri": "https://localhost:8080/",
     "height": 36
    },
    "id": "F4h9ahByIB85",
    "outputId": "31872e59-e643-4e5c-8afe-c54129265e06"
   },
   "outputs": [
    {
     "data": {
      "text/plain": [
       "'red'"
      ]
     },
     "execution_count": 17,
     "metadata": {},
     "output_type": "execute_result"
    }
   ],
   "source": [
    "bmw.color"
   ]
  },
  {
   "cell_type": "code",
   "execution_count": 18,
   "metadata": {
    "colab": {
     "base_uri": "https://localhost:8080/",
     "height": 36
    },
    "id": "-FDxBHAwIB85",
    "outputId": "11892b97-7a91-4b63-de26-038b5dcffb44"
   },
   "outputs": [
    {
     "data": {
      "text/plain": [
       "'red'"
      ]
     },
     "execution_count": 18,
     "metadata": {},
     "output_type": "execute_result"
    }
   ],
   "source": [
    "audi.color"
   ]
  },
  {
   "cell_type": "markdown",
   "metadata": {
    "id": "maOj8tL5IB86"
   },
   "source": [
    "Если поменять значение default_color через имя класса `Car`, то все будет ожидаемо: у объектов `bmw` и `audi` это значение изменится, но если поменять его через экземпляр класса, то у экземпляра будет создан атрибут с таким же именем как статический, а доступ к последнему будет потерян:"
   ]
  },
  {
   "cell_type": "code",
   "execution_count": 19,
   "metadata": {
    "colab": {
     "base_uri": "https://localhost:8080/",
     "height": 36
    },
    "id": "d4i-phCGIB86",
    "outputId": "3b040a5c-cfe8-4dd0-92c6-911adf9d2c62"
   },
   "outputs": [
    {
     "data": {
      "text/plain": [
       "'blue'"
      ]
     },
     "execution_count": 19,
     "metadata": {},
     "output_type": "execute_result"
    }
   ],
   "source": [
    "bmw.default_color = \"blue\"\n",
    "bmw.default_color"
   ]
  },
  {
   "cell_type": "code",
   "execution_count": 20,
   "metadata": {},
   "outputs": [
    {
     "data": {
      "text/plain": [
       "'red'"
      ]
     },
     "execution_count": 20,
     "metadata": {},
     "output_type": "execute_result"
    }
   ],
   "source": [
    "bmw.color"
   ]
  },
  {
   "cell_type": "markdown",
   "metadata": {
    "id": "5mJ_ydhsIB86"
   },
   "source": [
    "А у `audi` и класса все останется по-прежнему:"
   ]
  },
  {
   "cell_type": "code",
   "execution_count": 21,
   "metadata": {
    "colab": {
     "base_uri": "https://localhost:8080/",
     "height": 36
    },
    "id": "09bRzWUbIB86",
    "outputId": "e878413d-1c09-4d7b-b4ea-d9d1d9038ece"
   },
   "outputs": [
    {
     "data": {
      "text/plain": [
       "'red'"
      ]
     },
     "execution_count": 21,
     "metadata": {},
     "output_type": "execute_result"
    }
   ],
   "source": [
    "audi.default_color"
   ]
  },
  {
   "cell_type": "code",
   "execution_count": 22,
   "metadata": {
    "colab": {
     "base_uri": "https://localhost:8080/",
     "height": 36
    },
    "id": "ItucxpQOIB86",
    "outputId": "11a48826-6faa-4290-f4c6-c9100d83cb2d"
   },
   "outputs": [
    {
     "data": {
      "text/plain": [
       "'red'"
      ]
     },
     "execution_count": 22,
     "metadata": {},
     "output_type": "execute_result"
    }
   ],
   "source": [
    "Car.default_color"
   ]
  },
  {
   "cell_type": "markdown",
   "metadata": {
    "id": "pOpaKXtWIB87"
   },
   "source": [
    "Наш класс можем представить в виде автозавода. Все машины изначально делают в одном цвете `default_color = green` - зеленом. Если мы, покупая машину, хотим перекрасить ее, мы задаем цвет `color` - Car(\"black\",\"BMW\",2). Т.е. мы перекрасим машину в черный цвет, а если его не укажем, то он автоматоматически будет в стандартном зеленом цвете. Через некоторое время завод меняет стандартный цвет, допустим на красный - `Car.default_color = \"red\"` И теперь все машины будут создаваться изначально в красном цвете."
   ]
  },
  {
   "cell_type": "code",
   "execution_count": 23,
   "metadata": {
    "colab": {
     "base_uri": "https://localhost:8080/"
    },
    "id": "CKSRzlqbIB87",
    "outputId": "af46de1c-3048-4aa3-a435-2e3439670b59"
   },
   "outputs": [
    {
     "name": "stdout",
     "output_type": "stream",
     "text": [
      "green green green black\n"
     ]
    }
   ],
   "source": [
    "# изначально красим в зеленый\n",
    "Car.default_color = \"green\"\n",
    "\n",
    "car1 = Car(None,\"Niva\",2)\n",
    "car2 = Car(None,\"Niva\",2)\n",
    "car3 = Car(None,\"Niva\",4)\n",
    "car4 = Car(\"black\",\"Niva\",4) # Покрасили машину в другой цвет\n",
    "\n",
    "print(car1.color,car2.color,car3.color,car4.color)\n"
   ]
  },
  {
   "cell_type": "code",
   "execution_count": 24,
   "metadata": {
    "colab": {
     "base_uri": "https://localhost:8080/"
    },
    "id": "V-nHecJUuVEH",
    "outputId": "6de8d953-1e64-4f1e-e31d-2fd4fae32070"
   },
   "outputs": [
    {
     "name": "stdout",
     "output_type": "stream",
     "text": [
      "green green green black\n",
      "red olive red red\n"
     ]
    }
   ],
   "source": [
    "# Завод перешел на новый цвет\n",
    "Car.default_color = \"red\"\n",
    "\n",
    "car5 = Car(None,\"Niva\",2)\n",
    "car6 = Car(\"olive\",\"Niva\",2)\n",
    "car7 = Car(None,\"Niva\",4)\n",
    "car8 = Car(None,\"Niva\",4) # Покрасили машину в другой цвет\n",
    "\n",
    "print(car1.color,car2.color,car3.color,car4.color)\n",
    "print(car5.color,car6.color,car7.color,car8.color)"
   ]
  },
  {
   "cell_type": "markdown",
   "metadata": {
    "id": "aRN_MrOGIB87"
   },
   "source": [
    "## Аргумент self\n",
    "\n",
    "Рассмотрим зачем нужен и что означает `self` в функциях Python. Классам нужен способ, что ссылаться на самих себя.  Это способ сообщения между экземплярами. Потому что мы должны взять значении атрибута класса именно своего экземпляра, а не чужого. `Self` таким образом заменяет идентификатор объекта. Помещать его нужно в каждый метод, чтобы иметь возможность вызвать его на текущем объекте. Также с помощью этого ключевого слова можно получать доступ к полям класса в описываемом методе. \n",
    "\n",
    "Мы уже обращались с помощью `self` к `default_color` в нашем классе `Car`.\n",
    "\n",
    "Это показывает, как экземпляр отслеживает свой аргумент self. Также вы позже увидите, что мы можем переместить переменные атрибутов из метода `__init__` в другие методы. Это возможно потому, что все эти атрибуты связанны с аргументом self. Если бы мы этого не сделали, переменные были бы вне области видимости в конце метода `__init__`."
   ]
  },
  {
   "cell_type": "code",
   "execution_count": 25,
   "metadata": {
    "colab": {
     "base_uri": "https://localhost:8080/",
     "height": 36
    },
    "id": "KNbvTnjoIB87",
    "outputId": "c6fcea46-f077-4d20-f42d-1cc4532c5ae0"
   },
   "outputs": [
    {
     "data": {
      "text/plain": [
       "'green'"
      ]
     },
     "execution_count": 25,
     "metadata": {},
     "output_type": "execute_result"
    }
   ],
   "source": [
    "class Car:\n",
    "    default_color = \"green\"\n",
    "    \n",
    "    def __init__(self, color, brand, doors_num):\n",
    "        if color == None:\n",
    "            self.color = self.default_color\n",
    "        else:\n",
    "            self.color = color\n",
    "            \n",
    "        self.brand = brand\n",
    "        self.doors_num = doors_num\n",
    "        \n",
    "fiat = Car(None,\"Fiat\",5)\n",
    "fiat.color"
   ]
  },
  {
   "cell_type": "markdown",
   "metadata": {
    "id": "1jJVf4TqIB87"
   },
   "source": [
    "Если бы в качестве первого параметра не было указано `self`, то при попытке создать класс, вылезла ошибка:"
   ]
  },
  {
   "cell_type": "code",
   "execution_count": 26,
   "metadata": {
    "colab": {
     "base_uri": "https://localhost:8080/",
     "height": 339
    },
    "id": "EdfdaSvIIB87",
    "outputId": "f74e96e8-885d-4d22-c6f8-6cfd7a841d8f"
   },
   "outputs": [
    {
     "ename": "NameError",
     "evalue": "name 'default_color' is not defined",
     "output_type": "error",
     "traceback": [
      "\u001b[1;31m---------------------------------------------------------------------------\u001b[0m",
      "\u001b[1;31mNameError\u001b[0m                                 Traceback (most recent call last)",
      "Cell \u001b[1;32mIn[26], line 13\u001b[0m\n\u001b[0;32m     10\u001b[0m         \u001b[38;5;28mself\u001b[39m\u001b[38;5;241m.\u001b[39mbrand \u001b[38;5;241m=\u001b[39m brand\n\u001b[0;32m     11\u001b[0m         \u001b[38;5;28mself\u001b[39m\u001b[38;5;241m.\u001b[39mdoors_num \u001b[38;5;241m=\u001b[39m doors_num\n\u001b[1;32m---> 13\u001b[0m fiat \u001b[38;5;241m=\u001b[39m Car(\u001b[38;5;28;01mNone\u001b[39;00m,\u001b[38;5;124m\"\u001b[39m\u001b[38;5;124mFiat\u001b[39m\u001b[38;5;124m\"\u001b[39m,\u001b[38;5;241m5\u001b[39m)\n\u001b[0;32m     14\u001b[0m fiat\u001b[38;5;241m.\u001b[39mcolor\n",
      "Cell \u001b[1;32mIn[26], line 6\u001b[0m, in \u001b[0;36mCar.__init__\u001b[1;34m(self, color, brand, doors_num)\u001b[0m\n\u001b[0;32m      4\u001b[0m \u001b[38;5;28;01mdef\u001b[39;00m \u001b[38;5;21m__init__\u001b[39m(\u001b[38;5;28mself\u001b[39m, color, brand, doors_num):\n\u001b[0;32m      5\u001b[0m     \u001b[38;5;28;01mif\u001b[39;00m color \u001b[38;5;241m==\u001b[39m \u001b[38;5;28;01mNone\u001b[39;00m:\n\u001b[1;32m----> 6\u001b[0m         \u001b[38;5;28mself\u001b[39m\u001b[38;5;241m.\u001b[39mcolor \u001b[38;5;241m=\u001b[39m default_color \u001b[38;5;66;03m# нет обращения к self.default_color\u001b[39;00m\n\u001b[0;32m      7\u001b[0m     \u001b[38;5;28;01melse\u001b[39;00m:\n\u001b[0;32m      8\u001b[0m         \u001b[38;5;28mself\u001b[39m\u001b[38;5;241m.\u001b[39mcolor \u001b[38;5;241m=\u001b[39m color\n",
      "\u001b[1;31mNameError\u001b[0m: name 'default_color' is not defined"
     ]
    }
   ],
   "source": [
    "class Car:\n",
    "    default_color = \"green\"\n",
    "    \n",
    "    def __init__(self, color, brand, doors_num):\n",
    "        if color == None:\n",
    "            self.color = default_color # нет обращения к self.default_color\n",
    "        else:\n",
    "            self.color = color\n",
    "            \n",
    "        self.brand = brand\n",
    "        self.doors_num = doors_num\n",
    "        \n",
    "fiat = Car(None,\"Fiat\",5)\n",
    "fiat.color"
   ]
  },
  {
   "cell_type": "markdown",
   "metadata": {
    "id": "tRknDXpzIB88"
   },
   "source": [
    "Класс не знает к переменной какого экземпляра класса он обращается, а `self` говорит ему обратиться к тому экземпляру, в котором он вызывается\\создается"
   ]
  },
  {
   "cell_type": "markdown",
   "metadata": {
    "id": "rZ86IGcfIB88"
   },
   "source": [
    "## Конструктор класса\n",
    "\n",
    "Обычно при создании класса, нам хочется его сразу инициализровать некоторыми данными. Например, когда мы создадем список `a = []`, мы можем сразу передать в него некоторые значения - `a = [1,2,3,4,5]`. Точно также можно сделать с нашими самописными классами. Для этой цели в ООП используется конструктор, принимающий необходимые параметры. До этого мы уже создавали его в нашем классе:"
   ]
  },
  {
   "cell_type": "code",
   "execution_count": null,
   "metadata": {
    "colab": {
     "base_uri": "https://localhost:8080/"
    },
    "id": "VfdLpLwdIB88",
    "outputId": "c64d5a97-a1fa-4ef5-ae1a-77a814c23e67"
   },
   "outputs": [],
   "source": [
    "class Car:\n",
    "    default_color = \"зеленый\"\n",
    "    \n",
    "    def __init__(self, color, brand, doors_num):\n",
    "        if color == None:\n",
    "            self.color = default_color\n",
    "        else:\n",
    "            self.color = color\n",
    "            \n",
    "        self.brand = brand\n",
    "        self.doors_num = doors_num\n",
    "\n",
    "ford = Car(\"желтый\", \"Ford\", 4)\n",
    "\n",
    "print(\"Красивый \" + ford.color + \" \" + ford.brand + \" c \"+ str(ford.doors_num) + \" дверьми\")"
   ]
  },
  {
   "cell_type": "markdown",
   "metadata": {
    "id": "bQJEbqNeIB88"
   },
   "source": [
    "Внешне конструктор похож на обычный метод, однако вызвать его явным образом нельзя. Вместо этого он автоматически срабатывает каждый раз, когда программа создает новый объект для класса, в котором он расположен. Имя у каждого конструктора задается в виде идентификатора `__init__`. Получаемые им параметры можно присвоить полям будущего объекта, воспользовавшись ключевым словом `self`, как в вышеописанном примере.\n",
    "\n",
    "Таким образом, класс `Car` содержит три поля: `color` (цвет), `brand` (марка) и `doors_num` (количество дверей). Конструктор принимает параметры для изменения этих свойств во время инициализации нового объекта под названием `ford`. Каждый класс содержит в себе по крайней мере один конструктор по умолчанию, если ни одного из них не было задано явно (т.е. если мы не создадим конструктор в нашем классе, то будет использованпустой конструктор по умолчанию и класс все равно будет работать). "
   ]
  },
  {
   "cell_type": "markdown",
   "metadata": {
    "id": "cyxLHSZMIB88"
   },
   "source": [
    "### Методы класса\n",
    "\n",
    "Добавим к нашему классу методы. Метод – это функция, находящаяся внутри класса и выполняющая определенную работу.\n"
   ]
  },
  {
   "cell_type": "code",
   "execution_count": 27,
   "metadata": {
    "id": "1YvGeOl_IB88"
   },
   "outputs": [],
   "source": [
    "class Car:\n",
    "    \n",
    "           \n",
    "    def ex_method(self):\n",
    "        print(\"method\")"
   ]
  },
  {
   "cell_type": "code",
   "execution_count": 28,
   "metadata": {
    "colab": {
     "base_uri": "https://localhost:8080/",
     "height": 235
    },
    "id": "ikTckYfoIB89",
    "outputId": "66b8b8f4-ee35-4011-b505-9a8b54f65879"
   },
   "outputs": [
    {
     "ename": "TypeError",
     "evalue": "Car.ex_method() missing 1 required positional argument: 'self'",
     "output_type": "error",
     "traceback": [
      "\u001b[1;31m---------------------------------------------------------------------------\u001b[0m",
      "\u001b[1;31mTypeError\u001b[0m                                 Traceback (most recent call last)",
      "Cell \u001b[1;32mIn[28], line 1\u001b[0m\n\u001b[1;32m----> 1\u001b[0m Car\u001b[38;5;241m.\u001b[39mex_method()\n",
      "\u001b[1;31mTypeError\u001b[0m: Car.ex_method() missing 1 required positional argument: 'self'"
     ]
    }
   ],
   "source": [
    "Car.ex_method()"
   ]
  },
  {
   "cell_type": "code",
   "execution_count": 29,
   "metadata": {
    "colab": {
     "base_uri": "https://localhost:8080/"
    },
    "id": "OjhtdUMrIB89",
    "outputId": "1c50412a-844a-4db6-a56c-d0251d113296"
   },
   "outputs": [
    {
     "name": "stdout",
     "output_type": "stream",
     "text": [
      "method\n"
     ]
    }
   ],
   "source": [
    "m = Car()\n",
    "m.ex_method()"
   ]
  },
  {
   "cell_type": "code",
   "execution_count": null,
   "metadata": {
    "id": "-TdEhg6dIB89"
   },
   "outputs": [],
   "source": [
    "dict.fromkeys('AEIOU')  # <- вызывается при помощи класса dict"
   ]
  },
  {
   "cell_type": "code",
   "execution_count": null,
   "metadata": {},
   "outputs": [],
   "source": []
  },
  {
   "cell_type": "code",
   "execution_count": 30,
   "metadata": {},
   "outputs": [
    {
     "name": "stdout",
     "output_type": "stream",
     "text": [
      "Автомобиль Ford, цвета желтый, 4-х дверный\n"
     ]
    }
   ],
   "source": [
    "class Car:\n",
    "    default_color = \"зеленый\"\n",
    "    \n",
    "    def __init__(self, color, brand, doors_num):\n",
    "        if color == None:\n",
    "            self.color = default_color\n",
    "        else:\n",
    "            self.color = color\n",
    "            \n",
    "        self.brand = brand\n",
    "        self.doors_num = doors_num\n",
    "\n",
    "    def __str__(self):\n",
    "        return f'Автомобиль {self.brand}, цвета {self.color}, {self.doors_num}-х дверный'\n",
    "\n",
    "ford = Car(\"желтый\", \"Ford\", 4)\n",
    "\n",
    "print(ford)"
   ]
  },
  {
   "cell_type": "code",
   "execution_count": null,
   "metadata": {},
   "outputs": [],
   "source": []
  },
  {
   "cell_type": "markdown",
   "metadata": {
    "id": "cwB31R8pIB89"
   },
   "source": [
    "**Метод экземпляра класса** это наиболее часто используемый вид методов. Методы экземпляра класса принимают объект класса как первый аргумент, который принято называть `self` и который указывает на сам экземпляр. Количество параметров метода не ограничено.\n",
    "\n",
    "Используя параметр `self`, мы можем менять состояние объекта и обращаться к другим его методам и параметрам. К тому же, используя атрибут `self.__class__`, мы получаем доступ к атрибутам класса и возможности менять состояние самого класса. То есть методы экземпляров класса позволяют менять как состояние определённого объекта, так и класса.\n",
    "\n",
    "Встроенный пример метода экземпляра — `str.upper()`:"
   ]
  },
  {
   "cell_type": "code",
   "execution_count": null,
   "metadata": {
    "id": "tPpKBOBoIB8-"
   },
   "outputs": [],
   "source": [
    "\"welcome\".upper()   # <- вызывается на строковых данных"
   ]
  },
  {
   "cell_type": "markdown",
   "metadata": {
    "id": "CLxuK2DiIB9A"
   },
   "source": [
    "## Задание\n",
    "\n",
    "1. Определите класс Student(). Его конструктор должен принимать два параметра: имя и курс обучения (год) и сохранять их в переменные name (str) и year (int).\n",
    "\n",
    "2. Создате класс Grade() с атрибутом класса minimum_passing равным 4.\n",
    "\n",
    "3. Добавьте в Grade конструктор, который должен принимать один аргумент (оценку) и сохранять ее в переменную score. Добавьте в Grade динамический метод, который проверяет оценку на минимальный балл и возвращает True, если она больше или равна четырем.\n",
    "\n",
    "4. В конструкторе класса Student объявите self.grades и присвойте пустой список.\n",
    "\n",
    "5. Создайте два экземпляра класса ivan (Иван Смирнов, 2 курс) и olga (Ольга Петрова, 4 курс).\n",
    "\n",
    "6. Добавьте в класс Student динамический метод add_grade(), который принимает параметр grade. add_grade() должен проверять, что введенная оценка является проходной (is_passing()). Если да, то добавьте .score оценки в список студента, если нет, то ничего не делайте.\n",
    "\n",
    "7. Создайте новый экземпляр Grade() с параметром 10 и добавьте его в оценки Ивана. Добавьте в оценки Ивана еще две оценки - 5 и 7. Выведите оценки Ивана. Добавьте в оценки Ольги 2 и 4. Выведите оценки Ольги.\n",
    "\n",
    "8. В классе Student создайте метод get_average, который возвращает среднее оценок студента. Выведите среднее оценок Ивана."
   ]
  },
  {
   "cell_type": "code",
   "execution_count": null,
   "metadata": {
    "id": "JKVGXUdRdxtx"
   },
   "outputs": [],
   "source": []
  },
  {
   "cell_type": "code",
   "execution_count": null,
   "metadata": {
    "id": "dez1AVHpdtDn"
   },
   "outputs": [],
   "source": []
  }
 ],
 "metadata": {
  "colab": {
   "collapsed_sections": [
    "cyxLHSZMIB88",
    "aP_RYSuPIB8-",
    "iL-ZRzdDROg2",
    "lSLFMmZxIB9D"
   ],
   "provenance": []
  },
  "kernelspec": {
   "display_name": "Python 3 (ipykernel)",
   "language": "python",
   "name": "python3"
  },
  "language_info": {
   "codemirror_mode": {
    "name": "ipython",
    "version": 3
   },
   "file_extension": ".py",
   "mimetype": "text/x-python",
   "name": "python",
   "nbconvert_exporter": "python",
   "pygments_lexer": "ipython3",
   "version": "3.12.4"
  }
 },
 "nbformat": 4,
 "nbformat_minor": 4
}
