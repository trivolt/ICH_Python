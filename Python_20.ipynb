{
 "cells": [
  {
   "cell_type": "markdown",
   "id": "f42afc3a-26f7-4e88-b9af-17b581a4647c",
   "metadata": {},
   "source": [
    "# Словари"
   ]
  },
  {
   "cell_type": "markdown",
   "id": "406d363e",
   "metadata": {},
   "source": [
    "### Изменяемость множества. Класс frozenset:\r",
    "Ка ит множеста, словари в Python являются изменяемыми структурами данных, то есть их элементы могут быть изменены после создания. Однако, существует также класс frozenset, который представляет неизменяемое множество.\r\n"
   ]
  },
  {
   "cell_type": "code",
   "execution_count": 38,
   "id": "8b4597e8",
   "metadata": {
    "scrolled": true
   },
   "outputs": [
    {
     "ename": "AttributeError",
     "evalue": "'frozenset' object has no attribute 'add'",
     "output_type": "error",
     "traceback": [
      "\u001b[1;31m---------------------------------------------------------------------------\u001b[0m",
      "\u001b[1;31mAttributeError\u001b[0m                            Traceback (most recent call last)",
      "Cell \u001b[1;32mIn[38], line 5\u001b[0m\n\u001b[0;32m      2\u001b[0m my_frozen_set \u001b[38;5;241m=\u001b[39m \u001b[38;5;28mfrozenset\u001b[39m({\u001b[38;5;241m4\u001b[39m, \u001b[38;5;241m5\u001b[39m, \u001b[38;5;241m6\u001b[39m})\n\u001b[0;32m      4\u001b[0m \u001b[38;5;66;03m#my_set.add(4)  # Добавление элемента в изменяемое множество\u001b[39;00m\n\u001b[1;32m----> 5\u001b[0m my_frozen_set\u001b[38;5;241m.\u001b[39madd(\u001b[38;5;241m7\u001b[39m)\n",
      "\u001b[1;31mAttributeError\u001b[0m: 'frozenset' object has no attribute 'add'"
     ]
    }
   ],
   "source": [
    "my_set = {1, 2, 3}\n",
    "my_frozen_set = frozenset({4, 5, 6})\n",
    "\n",
    "#my_set.add(4)  # Добавление элемента в изменяемое множество\n",
    "my_frozen_set.add(7)  # Ошибка, нельзя добавить элемент в неизменяемое множество\n"
   ]
  },
  {
   "cell_type": "code",
   "execution_count": 37,
   "id": "e38f373c-63ac-4ab7-8eb0-e10e11005262",
   "metadata": {},
   "outputs": [
    {
     "data": {
      "text/plain": [
       "{1, 2, 3, 4}"
      ]
     },
     "execution_count": 37,
     "metadata": {},
     "output_type": "execute_result"
    }
   ],
   "source": [
    "my_set"
   ]
  },
  {
   "cell_type": "code",
   "execution_count": null,
   "id": "e584ef5f",
   "metadata": {},
   "outputs": [],
   "source": [
    "my_frozen_set"
   ]
  },
  {
   "cell_type": "markdown",
   "id": "a099981c-7018-4c60-a5b5-669f7c48b8c6",
   "metadata": {},
   "source": [
    "Зачем нужен frozenset?\n",
    "* Если нужно передать множество в функцию или сохранить его так, чтобы оно случайно не изменилось, frozenset обеспечивает безопасность\n",
    "* Для хранения уникальных неупорядоченных данных frozenset может быть эффективнее, чем кортеж (tuple), так как оптимизирован под множества."
   ]
  },
  {
   "cell_type": "markdown",
   "id": "c45b3b74-071b-42c9-98ac-d85237a20cef",
   "metadata": {},
   "source": [
    "### Аналог списковых включений для множества:\r\n",
    "Подобно списковым включениям, множества также поддерживают аналогичный синтаксис для создания множества на основе другого множества или итерируемого объекта.\r\n"
   ]
  },
  {
   "cell_type": "code",
   "execution_count": 40,
   "id": "ff5243ad",
   "metadata": {},
   "outputs": [
    {
     "name": "stdout",
     "output_type": "stream",
     "text": [
      "{0, 1, 2, 3, 4}\n",
      "<class 'set'>\n"
     ]
    }
   ],
   "source": [
    "my_set = {x for x in range(5)}\n",
    "print(my_set)  # Выводит {0, 1, 2, 3, 4}\n",
    "print(type(my_set))"
   ]
  },
  {
   "cell_type": "markdown",
   "id": "64c49c34",
   "metadata": {},
   "source": [
    "### Словари (Dict). Абстракция ключ-значение:\r\n",
    "Словарь - это коллекция, которая представляет собой абстракцию ключ-значение. Каждый элемент словаря состоит из пары \"ключ: значение\". Ключи в словаре должны быть уникальными, а значения могут быть любого типа данных.\r\n"
   ]
  },
  {
   "cell_type": "code",
   "execution_count": 41,
   "id": "ac15265e",
   "metadata": {},
   "outputs": [],
   "source": [
    "salaries = {\n",
    "    'John': 1200,\n",
    "    'Mary': 500,\n",
    "    'Steven': 1000,\n",
    "    'Liza': 1500\n",
    "}"
   ]
  },
  {
   "cell_type": "markdown",
   "id": "ed34dc69-1169-45a9-aaa1-09c4fcc565ff",
   "metadata": {},
   "source": [
    "### Работа со словарями"
   ]
  },
  {
   "cell_type": "markdown",
   "id": "03a551b6-af5a-43c8-ab37-9afb6e8d7e35",
   "metadata": {},
   "source": [
    "#### Различные варианты создания словарей:\r\n",
    "Словари в Python можно создавать с помощью фигурных скобок и перечисления пар \"ключ: значение\", либо с использованием функции dict(), принимающей итерируемый объект, содержащий пары \"ключ: значение\".\r\n"
   ]
  },
  {
   "cell_type": "code",
   "execution_count": 42,
   "id": "72877950-6077-43fb-9c4b-befb5e669f61",
   "metadata": {},
   "outputs": [
    {
     "ename": "TypeError",
     "evalue": "cannot convert dictionary update sequence element #0 to a sequence",
     "output_type": "error",
     "traceback": [
      "\u001b[1;31m---------------------------------------------------------------------------\u001b[0m",
      "\u001b[1;31mTypeError\u001b[0m                                 Traceback (most recent call last)",
      "Cell \u001b[1;32mIn[42], line 1\u001b[0m\n\u001b[1;32m----> 1\u001b[0m \u001b[38;5;28mdict\u001b[39m([\u001b[38;5;241m1\u001b[39m,\u001b[38;5;241m2\u001b[39m,\u001b[38;5;241m3\u001b[39m])\n",
      "\u001b[1;31mTypeError\u001b[0m: cannot convert dictionary update sequence element #0 to a sequence"
     ]
    }
   ],
   "source": [
    "dict([1,2,3])"
   ]
  },
  {
   "cell_type": "code",
   "execution_count": 43,
   "id": "d2aec4d1-fb34-4eed-98fe-747926ac48bb",
   "metadata": {},
   "outputs": [],
   "source": [
    "my_dict = {\"name\": \"John\", \"age\": 25}\n",
    "another_dict = dict([(\"name\", \"Jane\"), (\"age\", 30)])\n"
   ]
  },
  {
   "cell_type": "code",
   "execution_count": 44,
   "id": "7efb37c4-4b22-45fe-bd14-b200dd32aecd",
   "metadata": {},
   "outputs": [
    {
     "data": {
      "text/plain": [
       "{'name': 'Jane', 'age': 30}"
      ]
     },
     "execution_count": 44,
     "metadata": {},
     "output_type": "execute_result"
    }
   ],
   "source": [
    "another_dict"
   ]
  },
  {
   "cell_type": "markdown",
   "id": "64b7e04c-f96c-4009-9d75-6882dbdf50c3",
   "metadata": {},
   "source": [
    "Создание пустого словаря"
   ]
  },
  {
   "cell_type": "code",
   "execution_count": 45,
   "id": "398f3cb9",
   "metadata": {},
   "outputs": [
    {
     "data": {
      "text/plain": [
       "dict"
      ]
     },
     "execution_count": 45,
     "metadata": {},
     "output_type": "execute_result"
    }
   ],
   "source": [
    "a = {}\n",
    "type(a)"
   ]
  },
  {
   "cell_type": "code",
   "execution_count": 46,
   "id": "f8940133",
   "metadata": {},
   "outputs": [
    {
     "data": {
      "text/plain": [
       "dict"
      ]
     },
     "execution_count": 46,
     "metadata": {},
     "output_type": "execute_result"
    }
   ],
   "source": [
    "a = dict()\n",
    "type(a)"
   ]
  },
  {
   "cell_type": "markdown",
   "id": "3fcf76a4-4da6-44f6-adb4-777a19b82b7c",
   "metadata": {},
   "source": [
    "### Принадлежность ключа словарю:\r\n",
    "Для проверки принадлежности ключа словарю можно использовать оператор in. Этот оператор проверяет наличие ключа в словаре.\r\n"
   ]
  },
  {
   "cell_type": "code",
   "execution_count": 47,
   "id": "9649c4df-f752-4e2f-b2aa-d9d88edce349",
   "metadata": {},
   "outputs": [],
   "source": [
    "salaries = {\n",
    "    'John': 1200,\n",
    "    'Mary': 500,\n",
    "    'Steven': 1000,\n",
    "    'Liza': 1500\n",
    "}"
   ]
  },
  {
   "cell_type": "code",
   "execution_count": 48,
   "id": "cfc3b1ed-32cd-4658-b516-6fd10a5e72be",
   "metadata": {},
   "outputs": [
    {
     "name": "stdout",
     "output_type": "stream",
     "text": [
      "1200\n"
     ]
    }
   ],
   "source": [
    "# Как обратиться к элементу словаря?\n",
    "print(salaries['John'])"
   ]
  },
  {
   "cell_type": "code",
   "execution_count": 49,
   "id": "12c96bf4-5437-4b6a-bc00-ac5e5f78d4c7",
   "metadata": {},
   "outputs": [
    {
     "ename": "KeyError",
     "evalue": "'Mike'",
     "output_type": "error",
     "traceback": [
      "\u001b[1;31m---------------------------------------------------------------------------\u001b[0m",
      "\u001b[1;31mKeyError\u001b[0m                                  Traceback (most recent call last)",
      "Cell \u001b[1;32mIn[49], line 2\u001b[0m\n\u001b[0;32m      1\u001b[0m \u001b[38;5;66;03m# А если нет элемента словаря?\u001b[39;00m\n\u001b[1;32m----> 2\u001b[0m \u001b[38;5;28mprint\u001b[39m(salaries[\u001b[38;5;124m'\u001b[39m\u001b[38;5;124mMike\u001b[39m\u001b[38;5;124m'\u001b[39m])\n",
      "\u001b[1;31mKeyError\u001b[0m: 'Mike'"
     ]
    }
   ],
   "source": [
    "# А если нет элемента словаря?\n",
    "print(salaries['Mike'])"
   ]
  },
  {
   "cell_type": "code",
   "execution_count": 50,
   "id": "f7fbd785-dc9b-4761-a950-ba28fd658e0c",
   "metadata": {},
   "outputs": [
    {
     "name": "stdout",
     "output_type": "stream",
     "text": [
      "True\n",
      "False\n"
     ]
    }
   ],
   "source": [
    "my_dict = {\"name\": \"John\", \"age\": 25}\n",
    "\n",
    "print(\"name\" in my_dict)  # Выводит True\n",
    "print(\"city\" in my_dict)  # Выводит False\n"
   ]
  },
  {
   "cell_type": "markdown",
   "id": "965f2b63-4458-4246-a950-3e6a847a8ec8",
   "metadata": {},
   "source": [
    "### Добавление элементов. Различные варианты удаления по ключу:\r\n",
    "Для добавления элемента в словарь можно использовать оператор присваивания, указав ключ и значение. Для удаления элемента из словаря можно использовать оператор del или метод pop().\r\n"
   ]
  },
  {
   "cell_type": "code",
   "execution_count": 52,
   "id": "a143a2b6-9028-43eb-8ac6-545a165a56dc",
   "metadata": {},
   "outputs": [
    {
     "name": "stdout",
     "output_type": "stream",
     "text": [
      "{'name': 'John', 'age': 25, 'city': 'New York'}\n",
      "{'name': 'John', 'city': 'New York'}\n",
      "{'name': 'John'}\n"
     ]
    }
   ],
   "source": [
    "my_dict = {\"name\": \"John\", \"age\": 25}\n",
    "\n",
    "my_dict[\"city\"] = \"New York\"  # Добавление элемента\n",
    "\n",
    "print(my_dict)\n",
    "\n",
    "del my_dict[\"age\"]  # Удаление элемента по ключу\n",
    "print(my_dict)\n",
    "\n",
    "my_dict.pop(\"city\")  # Удаление элемента с возвратом значения\n",
    "\n",
    "print(my_dict)"
   ]
  },
  {
   "cell_type": "code",
   "execution_count": 53,
   "id": "c1ca22dd",
   "metadata": {},
   "outputs": [
    {
     "data": {
      "text/plain": [
       "1200"
      ]
     },
     "execution_count": 53,
     "metadata": {},
     "output_type": "execute_result"
    }
   ],
   "source": [
    "# обращение к элементу словаря\n",
    "salaries['John']"
   ]
  },
  {
   "cell_type": "markdown",
   "id": "08cba9c3-b638-48bb-8953-bf92f0b658a3",
   "metadata": {},
   "source": [
    "Что происходит при записи, если элемент с таким ключом уже есть?"
   ]
  },
  {
   "cell_type": "code",
   "execution_count": 54,
   "id": "b19968d6",
   "metadata": {},
   "outputs": [
    {
     "name": "stdout",
     "output_type": "stream",
     "text": [
      "{'John': 2000, 'Mary': 500, 'Steven': 1000, 'Liza': 1500}\n"
     ]
    }
   ],
   "source": [
    "salaries['John'] = 2000\n",
    "print(salaries)"
   ]
  },
  {
   "cell_type": "code",
   "execution_count": 56,
   "id": "9f33bf93",
   "metadata": {},
   "outputs": [
    {
     "data": {
      "text/plain": [
       "{'John': 2000, 'Mary': 500, 'Steven': 1000}"
      ]
     },
     "execution_count": 56,
     "metadata": {},
     "output_type": "execute_result"
    }
   ],
   "source": [
    "del(salaries['Liza'])\n",
    "salaries"
   ]
  },
  {
   "cell_type": "code",
   "execution_count": 57,
   "id": "18e62b59",
   "metadata": {},
   "outputs": [
    {
     "data": {
      "text/plain": [
       "{'John': 2000, 'Mary': 2000, 'Steven': 1000}"
      ]
     },
     "execution_count": 57,
     "metadata": {},
     "output_type": "execute_result"
    }
   ],
   "source": [
    "salaries['Mary'] = 2000\n",
    "salaries"
   ]
  },
  {
   "cell_type": "code",
   "execution_count": 58,
   "id": "77cbb67b-376d-4a0a-9a5f-2cccf84e6a72",
   "metadata": {},
   "outputs": [
    {
     "data": {
      "text/plain": [
       "{'John': 2000, 'Mary': 2000, 'Steven': 1000, 'Bob': 100}"
      ]
     },
     "execution_count": 58,
     "metadata": {},
     "output_type": "execute_result"
    }
   ],
   "source": [
    "salaries['Bob'] = 100\n",
    "salaries"
   ]
  },
  {
   "cell_type": "markdown",
   "id": "8a7f4b84-99bd-4666-83af-6052f7fc679e",
   "metadata": {},
   "source": [
    "### Итерирование по словарю. Методы items(), keys(), values():\r\n",
    "Для итерирования по словарю можно использовать методы items(), keys() и values(). Метод items() возвращает пары \"ключ: значение\", keys() возвращает все ключи, а values() - все значения словаря.\r\n"
   ]
  },
  {
   "cell_type": "code",
   "execution_count": 59,
   "id": "2a16df46-b14d-4b6e-97fb-f85f69cf7f69",
   "metadata": {},
   "outputs": [
    {
     "data": {
      "text/plain": [
       "{'John': 2000, 'Mary': 2000, 'Steven': 1000, 'Bob': 100}"
      ]
     },
     "execution_count": 59,
     "metadata": {},
     "output_type": "execute_result"
    }
   ],
   "source": [
    "salaries"
   ]
  },
  {
   "cell_type": "code",
   "execution_count": 60,
   "id": "26e1d119",
   "metadata": {},
   "outputs": [
    {
     "name": "stdout",
     "output_type": "stream",
     "text": [
      "John 2000\n",
      "Mary 2000\n",
      "Steven 1000\n",
      "Bob 100\n"
     ]
    }
   ],
   "source": [
    "\n",
    "for key, value in salaries.items():\n",
    "    print(key, value)  # Выводит ключи и значения\n"
   ]
  },
  {
   "cell_type": "code",
   "execution_count": 61,
   "id": "5cb3224b-a456-4432-92ec-c652ddb26960",
   "metadata": {},
   "outputs": [
    {
     "data": {
      "text/plain": [
       "dict_items([('John', 2000), ('Mary', 2000), ('Steven', 1000), ('Bob', 100)])"
      ]
     },
     "execution_count": 61,
     "metadata": {},
     "output_type": "execute_result"
    }
   ],
   "source": [
    "salaries.items()"
   ]
  },
  {
   "cell_type": "code",
   "execution_count": 62,
   "id": "f40e4ff1-6fce-40b5-aa75-492b0c5b2d21",
   "metadata": {},
   "outputs": [
    {
     "data": {
      "text/plain": [
       "dict_keys(['John', 'Mary', 'Steven', 'Bob'])"
      ]
     },
     "execution_count": 62,
     "metadata": {},
     "output_type": "execute_result"
    }
   ],
   "source": [
    "salaries.keys()"
   ]
  },
  {
   "cell_type": "code",
   "execution_count": 63,
   "id": "a567e627",
   "metadata": {},
   "outputs": [
    {
     "name": "stdout",
     "output_type": "stream",
     "text": [
      "John\n",
      "Mary\n",
      "Steven\n",
      "Bob\n"
     ]
    }
   ],
   "source": [
    "for key in salaries.keys():\n",
    "    print(key)  # Выводит ключи и значения"
   ]
  },
  {
   "cell_type": "code",
   "execution_count": 64,
   "id": "ab40b658",
   "metadata": {},
   "outputs": [
    {
     "name": "stdout",
     "output_type": "stream",
     "text": [
      "John\n",
      "Mary\n",
      "Steven\n",
      "Bob\n"
     ]
    }
   ],
   "source": [
    "for item in salaries:\n",
    "    print(item) # будет выводить только ключи"
   ]
  },
  {
   "cell_type": "code",
   "execution_count": 65,
   "id": "1f3a6c79-87ea-46fa-a699-acd13ae5bb41",
   "metadata": {},
   "outputs": [
    {
     "data": {
      "text/plain": [
       "dict_values([2000, 2000, 1000, 100])"
      ]
     },
     "execution_count": 65,
     "metadata": {},
     "output_type": "execute_result"
    }
   ],
   "source": [
    "salaries.values()"
   ]
  },
  {
   "cell_type": "code",
   "execution_count": 66,
   "id": "5aea07e8",
   "metadata": {},
   "outputs": [
    {
     "name": "stdout",
     "output_type": "stream",
     "text": [
      "2000\n",
      "2000\n",
      "1000\n",
      "100\n"
     ]
    }
   ],
   "source": [
    "for v in salaries.values():\n",
    "    print(v)  # Выводит значения"
   ]
  },
  {
   "cell_type": "code",
   "execution_count": null,
   "id": "5d45ddac",
   "metadata": {},
   "outputs": [],
   "source": [
    "# проверка на наличие ключа в словаре\n",
    "recruit = 'Amanda'\n",
    "\n",
    "if recruit in salaries:\n",
    "    print('Значение для ключа уже существует')\n",
    "else:\n",
    "    print('Добавляю новый ключ')\n",
    "    salaries[recruit] = 2200\n",
    "\n",
    "print(salaries)"
   ]
  },
  {
   "cell_type": "code",
   "execution_count": null,
   "id": "12056d29-6871-4dbf-aca1-2ee366c62a37",
   "metadata": {},
   "outputs": [],
   "source": []
  },
  {
   "cell_type": "markdown",
   "id": "4eced571",
   "metadata": {},
   "source": [
    "### Аргумент **kwargs в параметрах функции:\r\n",
    "Аргумент **kwargs позволяет передавать произвольное количество именованных аргументов в функцию в виде словаря. Этот словарь будет содержать пары \"ключ: значение\", где ключами являются имена аргументов, а значениями - переданные значения.\r\n"
   ]
  },
  {
   "cell_type": "code",
   "execution_count": 68,
   "id": "1726ad39",
   "metadata": {},
   "outputs": [
    {
     "name": "stdout",
     "output_type": "stream",
     "text": [
      "name John\n",
      "age 25\n",
      "status mariage\n"
     ]
    }
   ],
   "source": [
    "def my_function(**kwargs):\n",
    "    for key, value in kwargs.items():\n",
    "        print(key, value)  # Выводит имена аргументов и их значения\n",
    "\n",
    "        \n",
    "my_function(name=\"John\", age=25, status = 'mariage')\n"
   ]
  },
  {
   "cell_type": "code",
   "execution_count": 69,
   "id": "bf7e9fa2-08b9-499e-ab3f-f99f41c29f57",
   "metadata": {},
   "outputs": [
    {
     "name": "stdout",
     "output_type": "stream",
     "text": [
      "name John\n",
      "age 25\n",
      "status mariage\n",
      "educ hight\n"
     ]
    }
   ],
   "source": [
    "my_function(name=\"John\", age=25, status = 'mariage', educ = 'hight')"
   ]
  },
  {
   "cell_type": "code",
   "execution_count": null,
   "id": "a804a89d-6ed4-4f0e-8316-6c1dcdf6f9a3",
   "metadata": {},
   "outputs": [],
   "source": []
  },
  {
   "cell_type": "code",
   "execution_count": null,
   "id": "621ec58a-3636-4872-bda6-c3c805fdcb3c",
   "metadata": {},
   "outputs": [],
   "source": []
  },
  {
   "cell_type": "markdown",
   "id": "b65ffeaf-96f9-4f9a-84a8-209f610023d4",
   "metadata": {},
   "source": [
    "### Практика"
   ]
  },
  {
   "cell_type": "markdown",
   "id": "620fbec7",
   "metadata": {},
   "source": [
    "1. Реализовать простую поисковую систему. \n",
    "Для данных в формате фамилия-имя-год рождения-курс-количество баллов реализовать функцию, которой на вход будет приходить поле по которому надо искать и значение, которое надо найти. Если есть, то вернуть все подходящие записи, если нет – вывести сообщение об ошибке.\n",
    "\n",
    "Задача должна работать максимально быстро, при этом использование памяти не так важно.\n",
    "\n"
   ]
  },
  {
   "cell_type": "code",
   "execution_count": null,
   "id": "18e8f2cd-dd4d-462a-9f1a-aeaf71e7d89f",
   "metadata": {},
   "outputs": [],
   "source": [
    "# Шаг 1 ВВод данных о людях"
   ]
  },
  {
   "cell_type": "code",
   "execution_count": 87,
   "id": "2b889467-b25c-4660-9a5b-e3526774f00e",
   "metadata": {},
   "outputs": [
    {
     "name": "stdout",
     "output_type": "stream",
     "text": [
      "Вводите в определенном формате (фамилия-имя-год рождения-курс-количество баллов) строки. Для выхода вводим \"exit\"\n"
     ]
    },
    {
     "name": "stdin",
     "output_type": "stream",
     "text": [
      "ВВЕДИТЕ СТРОКУ В ПОРЯДКЕ: фамилия-имя-год рождения-курс-количество баллов Рыбалко-Иван-1990-5-90\n",
      "ВВЕДИТЕ СТРОКУ В ПОРЯДКЕ: фамилия-имя-год рождения-курс-количество баллов Рыбалко-Иван-1990-5-90\n",
      "ВВЕДИТЕ СТРОКУ В ПОРЯДКЕ: фамилия-имя-год рождения-курс-количество баллов Рыбалко-Иван-1990-5-90\n",
      "ВВЕДИТЕ СТРОКУ В ПОРЯДКЕ: фамилия-имя-год рождения-курс-количество баллов Рыбалко-Иван-1990-5-90\n",
      "ВВЕДИТЕ СТРОКУ В ПОРЯДКЕ: фамилия-имя-год рождения-курс-количество баллов Рыбалко-Иван-1990-5-90\n",
      "ВВЕДИТЕ СТРОКУ В ПОРЯДКЕ: фамилия-имя-год рождения-курс-количество баллов exit\n"
     ]
    },
    {
     "name": "stdout",
     "output_type": "stream",
     "text": [
      "[{'фамилия': 'Рыбалко', 'имя': 'Иван', 'год_рождения': '1990', 'курс': '5', 'баллы': '90'}, {'фамилия': 'Рыбалко', 'имя': 'Иван', 'год_рождения': '1990', 'курс': '5', 'баллы': '90'}, {'фамилия': 'Рыбалко', 'имя': 'Иван', 'год_рождения': '1990', 'курс': '5', 'баллы': '90'}, {'фамилия': 'Рыбалко', 'имя': 'Иван', 'год_рождения': '1990', 'курс': '5', 'баллы': '90'}, {'фамилия': 'Рыбалко', 'имя': 'Иван', 'год_рождения': '1990', 'курс': '5', 'баллы': '90'}]\n"
     ]
    }
   ],
   "source": [
    "print('Вводите в определенном формате (фамилия-имя-год рождения-курс-количество баллов) строки. Для выхода вводим \"exit\"')\n",
    "data = []\n",
    "while True:\n",
    "    order_info = [\"фамилия\", \"имя\", \"год_рождения\", \"курс\", \"баллы\"]\n",
    "    input_str = input('ВВЕДИТЕ СТРОКУ В ПОРЯДКЕ: фамилия-имя-год рождения-курс-количество баллов') # Рыбалко-Иван-1990-5-90\n",
    "    info_people = input_str.split('-') #['Рыбалко','Иван','1990','5','90']\n",
    "    if input_str == 'exit':\n",
    "        break\n",
    "    dict_people = dict()\n",
    "    for i in range(5):\n",
    "        dict_people[order_info[i]] = info_people[i] # dict_people['фамилия'] = 'Рыбалко'\n",
    "    data.append(dict_people)\n",
    "    \n",
    "print(data)"
   ]
  },
  {
   "cell_type": "code",
   "execution_count": null,
   "id": "6ed76db3-7a1b-4609-a636-75b3a59e076b",
   "metadata": {},
   "outputs": [],
   "source": []
  },
  {
   "cell_type": "code",
   "execution_count": 88,
   "id": "fcb70539",
   "metadata": {},
   "outputs": [
    {
     "name": "stdout",
     "output_type": "stream",
     "text": [
      "[{'фамилия': 'Иванов', 'имя': 'Иван', 'год_рождения': 1990, 'курс': 3, 'баллы': 85}, {'фамилия': 'Иванов', 'имя': 'Алексей', 'год_рождения': 1993, 'курс': 1, 'баллы': 78}]\n",
      "[{'фамилия': 'Петров', 'имя': 'Петр', 'год_рождения': 1992, 'курс': 2, 'баллы': 90}]\n",
      "[{'фамилия': 'Петров', 'имя': 'Петр', 'год_рождения': 1992, 'курс': 2, 'баллы': 90}]\n",
      "Нет подходящих записей\n"
     ]
    }
   ],
   "source": [
    "# Пример данных\n",
    "# шаг 2\n",
    "data = [\n",
    "    {\"фамилия\": \"Иванов\", \"имя\": \"Иван\", \"год_рождения\": 1990, \"курс\": 3, \"баллы\": 85},\n",
    "    {\"фамилия\": \"Петров\", \"имя\": \"Петр\", \"год_рождения\": 1992, \"курс\": 2, \"баллы\": 90},\n",
    "    {\"фамилия\": \"Сидоров\", \"имя\": \"Сидор\", \"год_рождения\": 1991, \"курс\": 4, \"баллы\": 88},\n",
    "    {\"фамилия\": \"Иванов\", \"имя\": \"Алексей\", \"год_рождения\": 1993, \"курс\": 1, \"баллы\": 78},\n",
    "]\n",
    "\n",
    "def search(field, value):\n",
    "    results = []\n",
    "    for record in data:\n",
    "        if field in record and record[field] == value:\n",
    "            results.append(record)\n",
    "    if results:\n",
    "        return results\n",
    "    else:\n",
    "        return \"Нет подходящих записей\"\n",
    "\n",
    "# Примеры использования\n",
    "print(search(\"фамилия\", \"Иванов\"))\n",
    "print(search(\"курс\", 2))\n",
    "print(search(\"баллы\", 90))\n",
    "print(search(\"год_рождения\", 1995))\n"
   ]
  },
  {
   "cell_type": "code",
   "execution_count": null,
   "id": "f7e26c33",
   "metadata": {},
   "outputs": [],
   "source": []
  },
  {
   "cell_type": "markdown",
   "id": "cc49bda4",
   "metadata": {},
   "source": [
    "2. Напишите функцию powerset, которая принимает список и возвращает множество, содержащее все возможные подмножества этого списка. \n",
    "Используйте множественные включения для решения этой задачи. \n",
    "\n",
    "Пример списка\n",
    "[1, 2, 3]\n",
    "Пример вывода:\n",
    "{frozenset(), frozenset({1}), frozenset({2}), frozenset({1, 2}), frozenset({3}), frozenset({1, 3}), frozenset({2, 3}), frozenset({1, 2, 3})}\n"
   ]
  },
  {
   "cell_type": "code",
   "execution_count": null,
   "id": "1828835f-7401-4095-9780-39e370449a7a",
   "metadata": {},
   "outputs": [],
   "source": [
    "def powerset(s):\n",
    "    # Базовый случай: если список пуст, возвращаем множество с пустым множеством\n",
    "    if not s:\n",
    "        return {frozenset()}\n",
    "    \n",
    "    # Рекурсивно получаем подмножества для оставшейся части списка\n",
    "    rest_subsets = powerset(s[1:])\n",
    "    \n",
    "    # Создаем новое множество для хранения всех подмножеств\n",
    "    all_subsets = set()\n",
    "    \n",
    "    # Добавляем подмножества без текущего элемента\n",
    "    for subset in rest_subsets:\n",
    "        all_subsets.add(subset)\n",
    "    #print(all_subsets)\n",
    "    \n",
    "    # Добавляем подмножества с текущим элементом\n",
    "    for subset in rest_subsets:\n",
    "        all_subsets.add(frozenset({s[0]}) | subset)\n",
    "    #print(all_subsets)\n",
    "    \n",
    "    return all_subsets"
   ]
  },
  {
   "cell_type": "code",
   "execution_count": null,
   "id": "16280e33-e041-48de-8a58-fdb2f7e01f8e",
   "metadata": {},
   "outputs": [],
   "source": [
    "example_list = [1, 2, 3]\n",
    "print(powerset(example_list))"
   ]
  },
  {
   "cell_type": "code",
   "execution_count": null,
   "id": "124dcee3-57ec-40ec-b164-0a7737df490c",
   "metadata": {},
   "outputs": [],
   "source": [
    "Для списка [1, 2, 3]:\n",
    "\n",
    "Рекурсивно разбиваем список:\n",
    "\n",
    "powerset([1, 2, 3]) → powerset([2, 3]) → powerset([3]) → powerset([]).\n",
    "\n",
    "Начинаем собирать подмножества:\n",
    "\n",
    "powerset([]) → {frozenset()}.\n",
    "\n",
    "powerset([3]) → {frozenset(), frozenset({3})}.\n",
    "\n",
    "powerset([2, 3]) → {frozenset(), frozenset({2}), frozenset({3}), frozenset({2, 3})}.\n",
    "\n",
    "powerset([1, 2, 3]) → {frozenset(), frozenset({1}), frozenset({2}), frozenset({1, 2}), frozenset({3}), frozenset({1, 3}), frozenset({2, 3}), frozenset({1, 2, 3})}."
   ]
  },
  {
   "cell_type": "code",
   "execution_count": null,
   "id": "94003b41-9174-4255-b7d8-e042e6dfe32e",
   "metadata": {},
   "outputs": [],
   "source": []
  },
  {
   "cell_type": "markdown",
   "id": "d0dae5ef",
   "metadata": {},
   "source": [
    "## Попрактикуемся\n",
    "Для каждого источника посчитайте ROI (revenue / cost - 1)"
   ]
  },
  {
   "cell_type": "markdown",
   "id": "0d9eef66",
   "metadata": {},
   "source": [
    "vk : ROI =....\n",
    "yandex : ROI = ...."
   ]
  },
  {
   "cell_type": "code",
   "execution_count": 71,
   "id": "0c596db1",
   "metadata": {},
   "outputs": [],
   "source": [
    "res = {\n",
    "    'vk': {'revenue': 103, 'cost': 98},\n",
    "    'yandex': {'revenue': 179, 'cost': 153},\n",
    "    'facebook': {'revenue': 103, 'cost': 110},\n",
    "    'adwords': {'revenue': 35, 'cost': 34},\n",
    "    'twitter': {'revenue': 11, 'cost': 24},\n",
    "}"
   ]
  },
  {
   "cell_type": "code",
   "execution_count": null,
   "id": "d09204b8-bc90-4ab2-879a-20e016d0ef6a",
   "metadata": {},
   "outputs": [],
   "source": []
  },
  {
   "cell_type": "code",
   "execution_count": 74,
   "id": "5ba312ad",
   "metadata": {},
   "outputs": [
    {
     "name": "stdout",
     "output_type": "stream",
     "text": [
      "vk : ROI =  0.05102040816326525\n",
      "yandex : ROI =  0.16993464052287588\n",
      "facebook : ROI =  -0.0636363636363636\n",
      "adwords : ROI =  0.02941176470588225\n",
      "twitter : ROI =  -0.5416666666666667\n"
     ]
    }
   ],
   "source": [
    "for key, values in res.items():\n",
    "    print(key,': ROI = ', values['revenue']/values['cost'] - 1)"
   ]
  },
  {
   "cell_type": "code",
   "execution_count": null,
   "id": "6ec146be-a232-4426-aca4-c86bc118caf7",
   "metadata": {},
   "outputs": [],
   "source": []
  },
  {
   "cell_type": "markdown",
   "id": "32a3a25b-c8c1-4dea-b912-57ed6049b26d",
   "metadata": {},
   "source": [
    "### Полезные материалы\n",
    "1. Словари (dict) и работа с ними. Методы словарей https://pythonworld.ru/tipy-dannyx-v-python/slovari-dict-funkcii-i-metody-slovarej.html \n",
    "2. Словари и их методы в Python https://tproger.ru/explain/python-dictionaries/  \n",
    "\n",
    "### Вопросы для закрепления\n",
    "1. Каким образом можно создать словарь? Чем он похож на множество?\n",
    "2. Какие есть методы у словарей?\n",
    "3. Что делать, если мы хотим, чтобы у ключа было несколько значений?"
   ]
  },
  {
   "cell_type": "code",
   "execution_count": null,
   "id": "d4479bcd-f930-41c8-afa0-25c27cc216e0",
   "metadata": {},
   "outputs": [],
   "source": []
  }
 ],
 "metadata": {
  "kernelspec": {
   "display_name": "Python 3 (ipykernel)",
   "language": "python",
   "name": "python3"
  },
  "language_info": {
   "codemirror_mode": {
    "name": "ipython",
    "version": 3
   },
   "file_extension": ".py",
   "mimetype": "text/x-python",
   "name": "python",
   "nbconvert_exporter": "python",
   "pygments_lexer": "ipython3",
   "version": "3.12.4"
  }
 },
 "nbformat": 4,
 "nbformat_minor": 5
}
