{
 "cells": [
  {
   "cell_type": "markdown",
   "id": "5c045819-c520-4d2f-b032-910d609a1c87",
   "metadata": {},
   "source": [
    "# Практикум 7"
   ]
  },
  {
   "cell_type": "markdown",
   "id": "af194ec3-2bfb-49dc-93ca-c11588ff7da7",
   "metadata": {},
   "source": [
    "1. Дан массив целых чисел. Написать функцию, которая вернет true, если 6 является первым или последним элементом массива, false в противном случае. Массив минимальной длины 1."
   ]
  },
  {
   "cell_type": "code",
   "execution_count": 1,
   "id": "3e642fbd-7f09-47cd-8d61-6fe3812c1678",
   "metadata": {},
   "outputs": [],
   "source": [
    "# описание пользовательской функции\n",
    "def check_elem(lst):\n",
    "    if lst[0] == '6' or lst[-1] == '6':\n",
    "        return True\n",
    "    else:\n",
    "        return False"
   ]
  },
  {
   "cell_type": "code",
   "execution_count": 3,
   "id": "ee48e792-295b-41f9-a7e7-bd3aa93b86a7",
   "metadata": {},
   "outputs": [
    {
     "name": "stdin",
     "output_type": "stream",
     "text": [
      " 1 2 3 4 5\n"
     ]
    },
    {
     "name": "stdout",
     "output_type": "stream",
     "text": [
      "False\n"
     ]
    }
   ],
   "source": [
    "lst = input().split() \n",
    "# lst = list(map(int,input().split()))\n",
    "print(check_elem(lst)) #вызов функции"
   ]
  },
  {
   "cell_type": "markdown",
   "id": "d0cdf974-6feb-47c6-a3cb-435c2b963504",
   "metadata": {},
   "source": [
    "2. Дано два массива целых чисел. Написать функцию, которая возвращает true, если их первые или последние элементы равны. Оба массива минимальной длины 1."
   ]
  },
  {
   "cell_type": "code",
   "execution_count": null,
   "id": "b0cf5c4f-58e7-4116-8124-891a7d0401c7",
   "metadata": {},
   "outputs": [],
   "source": [
    "def chk_elem(lst1,lst2):\n",
    "    if lst1[0] == lst2[0] or lst1[-1] == lst2[-1]:\n",
    "        return True\n",
    "    else: \n",
    "        return False"
   ]
  },
  {
   "cell_type": "code",
   "execution_count": null,
   "id": "726a6263-68a3-46fc-bf99-181a9cbf8c9a",
   "metadata": {},
   "outputs": [],
   "source": [
    "lst1 = list(map(int,input('введите целых чисел 1:').split()))\n",
    "lst2 = list(map(int,input('введите целых чисел 2:').split()))\n",
    "\n",
    "print(chk_elem(lst1,lst2))"
   ]
  },
  {
   "cell_type": "markdown",
   "id": "d1d8cff9-de25-45c1-adc8-d5ba2bcf3866",
   "metadata": {},
   "source": [
    "3. Дан массив целых чисел длины 3. Написать функцию, которая возвращает массив “повернутый влево”:\n",
    "   \n",
    "   1, 2, 3→ 2, 3, 1\n",
    "   \n",
    "   5, 11, 9→ 11, 9, 5 "
   ]
  },
  {
   "cell_type": "code",
   "execution_count": null,
   "id": "536cfa7d-f5be-4aa8-8a43-c066387bea59",
   "metadata": {},
   "outputs": [],
   "source": [
    "def lst_left(lst):\n",
    "    return lst[1:] + [lst[0]]\n",
    "\n",
    "lst = list(map(int,input().split()))\n",
    "print(lst_left(lst))"
   ]
  },
  {
   "cell_type": "markdown",
   "id": "2dfbfc0f-98ba-4eca-b7d7-1533e1305f81",
   "metadata": {},
   "source": [
    "4. Дан массив целых чисел длины 1 и более. Написать функцию, которая возвращает массив длины 2, состоящих из первого и последнего элемента входного массива.1, 2, 3→ 1, 3\n",
    "\n",
    "   7, 4, 6, 2→ 7, 2 "
   ]
  },
  {
   "cell_type": "code",
   "execution_count": null,
   "id": "d5968a19-5551-4125-837e-d65525abb821",
   "metadata": {},
   "outputs": [],
   "source": [
    "# 1\n",
    "def chk_item(lst4):\n",
    "    return [lst4[0]] + [lst4[-1]]\n",
    "# 2\n",
    "def chk_item(lst4):\n",
    "    lst_new = []\n",
    "    lst_new.append(lst4[0])\n",
    "    lst_new.append(lst4[-1])    \n",
    "    return lst_new\n",
    "lst4 = list(map(int,input('Введите массив целых чисел: ').split()))\n",
    "\n",
    "print(chk_item(lst4))"
   ]
  },
  {
   "cell_type": "code",
   "execution_count": null,
   "id": "5ef183f1-c467-4fdb-bcab-43e01af0d372",
   "metadata": {},
   "outputs": [],
   "source": []
  },
  {
   "cell_type": "markdown",
   "id": "5625b69b-f866-4433-bb9b-3247d1078c2b",
   "metadata": {},
   "source": [
    "5. Напишите функцию, которая вернет количество четных чисел в данном массиве. "
   ]
  },
  {
   "cell_type": "code",
   "execution_count": null,
   "id": "17221cb0-6de7-4059-9179-60bce6500652",
   "metadata": {},
   "outputs": [],
   "source": [
    "def num_even_element (lst):\n",
    "    count = 0\n",
    "    for i in lst:\n",
    "        if i%2 == 0:\n",
    "            count +=1\n",
    "    return count"
   ]
  },
  {
   "cell_type": "code",
   "execution_count": null,
   "id": "8f053234-7311-4586-801c-0ca519c5e40a",
   "metadata": {},
   "outputs": [],
   "source": [
    "lst = list(map(int,input('Введите массив целых чисел: ').split()))\n",
    "print(num_even_element(lst))"
   ]
  },
  {
   "cell_type": "markdown",
   "id": "299e571c-446e-4e72-b25a-b309ed12b694",
   "metadata": {},
   "source": [
    "6. Напишите функцию, которая возвращает сумму элементов массива и возвращает 0, если массив пустой. Так как число 13 приносит неудачу, функция не должна учитывать число 13 и последующие за ним числа в массиве. 1, 2, 2, 1→ 6,\n",
    "  \n",
    " 0, 2, 2, 3, 13→ 7,\n",
    " \n",
    " 1, 2, 13, 2, 1→ 3 "
   ]
  },
  {
   "cell_type": "code",
   "execution_count": null,
   "id": "a1076e0d-5dfd-4046-9de9-14003ec73ed7",
   "metadata": {},
   "outputs": [],
   "source": [
    "def sum_elem(lst):\n",
    "    sum_ = 0\n",
    "    for elem in lst:\n",
    "        if elem == 13:\n",
    "            break\n",
    "        else:\n",
    "            sum_ += elem\n",
    "    return sum_"
   ]
  },
  {
   "cell_type": "code",
   "execution_count": null,
   "id": "33c40f86-91b0-4703-85de-cb911b299ade",
   "metadata": {},
   "outputs": [],
   "source": [
    "lst6 = list(map(int,input('Введите массив целых чисел').split()))\n",
    "print(f\"Сумма элементов: {sum_elem(lst6)}\")"
   ]
  },
  {
   "cell_type": "markdown",
   "id": "231974f0-e44a-4f88-8653-d2618da6e343",
   "metadata": {},
   "source": [
    "7. Написать функцию, которая возвращает true, если в массиве две двойки идут подряд. 1, 2, 2→ true, 2, 1, 2→ false"
   ]
  },
  {
   "cell_type": "code",
   "execution_count": 5,
   "id": "ff674d6d-bd4e-4f3e-b564-6ab7a05050c4",
   "metadata": {},
   "outputs": [],
   "source": [
    "def check_double2(lst): #[1,2,3,4]\n",
    "    for i in range(len(lst)-1): # [0,1,2]\n",
    "        if lst[i] == 2 and lst[i+1] == 2:\n",
    "            return True\n",
    "    return False\n",
    "            "
   ]
  },
  {
   "cell_type": "code",
   "execution_count": 7,
   "id": "6d98493f-2e83-4752-9dbb-fb92c0f8ca4d",
   "metadata": {},
   "outputs": [
    {
     "name": "stdin",
     "output_type": "stream",
     "text": [
      "Введите массив целых чисел 1 2 3 4 5\n"
     ]
    },
    {
     "data": {
      "text/plain": [
       "False"
      ]
     },
     "execution_count": 7,
     "metadata": {},
     "output_type": "execute_result"
    }
   ],
   "source": [
    "lst6 = list(map(int,input('Введите массив целых чисел').split()))\n",
    "check_double2(lst6)"
   ]
  },
  {
   "cell_type": "markdown",
   "id": "bd1ff0b1-1e31-4466-9763-f100f21f1f50",
   "metadata": {},
   "source": [
    "8. Поменяйте предыдущую задачу так, чтобы функция возвращала true если в массиве стоят рядом два любых одинаковых элемента. "
   ]
  },
  {
   "cell_type": "code",
   "execution_count": null,
   "id": "6d86caa1-8a6b-4220-a317-d1424e30c3c6",
   "metadata": {},
   "outputs": [],
   "source": [
    "def check_double2(lst): #[1,2,3,4]\n",
    "    for i in range(len(lst)-1): # [0,1,2]\n",
    "        if lst[i] == lst[i+1]:\n",
    "            return True\n",
    "    return False"
   ]
  },
  {
   "cell_type": "markdown",
   "id": "1396958e-f7b2-4694-88ab-5cbae4b3407c",
   "metadata": {},
   "source": [
    "9. Дан список чисел. Выведите значение наибольшего элемента в списке, а затем индекс этого элемента в списке. Если наибольших элементов несколько, выведите индекс первого из них."
   ]
  },
  {
   "cell_type": "code",
   "execution_count": 8,
   "id": "40b8dfaa-3375-4a4d-8332-c359a902b479",
   "metadata": {},
   "outputs": [],
   "source": [
    "# функция находит максимальный элемент\n",
    "def max_elem_to_lst(lst):\n",
    "    mx = lst[0]\n",
    "    for elem in lst:\n",
    "        if elem > mx:\n",
    "            mx = elem\n",
    "    return mx\n",
    "        "
   ]
  },
  {
   "cell_type": "code",
   "execution_count": 9,
   "id": "05c44a6d-dff6-4931-acdb-3a8e57b959d3",
   "metadata": {},
   "outputs": [
    {
     "name": "stdin",
     "output_type": "stream",
     "text": [
      "Введите массив целых чисел 1 2 -20 7 5 13 4\n"
     ]
    },
    {
     "name": "stdout",
     "output_type": "stream",
     "text": [
      "Максимальный элемент: 13\n"
     ]
    }
   ],
   "source": [
    "lst6 = list(map(int,input('Введите массив целых чисел').split()))\n",
    "print(f\"Максимальный элемент: {max_elem_to_lst(lst6)}\")"
   ]
  },
  {
   "cell_type": "code",
   "execution_count": 10,
   "id": "2715e291-18ef-4ddd-b478-a56d7fe809ef",
   "metadata": {},
   "outputs": [],
   "source": [
    "# функция находит индекс максимального элемента\n",
    "def imax_elem_to_lst(lst):\n",
    "    mx = lst[0]\n",
    "    imx = -1\n",
    "    i = 0\n",
    "    for elem in lst:\n",
    "        if elem > mx:\n",
    "            mx = elem\n",
    "            imx = i\n",
    "        i += 1  \n",
    "    return imx"
   ]
  },
  {
   "cell_type": "code",
   "execution_count": 11,
   "id": "5c92e0ee-9f86-4ca7-ae97-1be4b305c6d3",
   "metadata": {},
   "outputs": [
    {
     "name": "stdin",
     "output_type": "stream",
     "text": [
      "Введите массив целых чисел 1 2 -20 7 5 13 4\n"
     ]
    },
    {
     "name": "stdout",
     "output_type": "stream",
     "text": [
      "Максимальный элемент: 5\n"
     ]
    }
   ],
   "source": [
    "lst6 = list(map(int,input('Введите массив целых чисел').split()))\n",
    "print(f\"Максимальный элемент: {imax_elem_to_lst(lst6)}\")"
   ]
  },
  {
   "cell_type": "markdown",
   "id": "f7ba7cc6-a715-4cbc-88e8-761df29bc148",
   "metadata": {},
   "source": [
    "10. Дан список, упорядоченный по неубыванию элементов в нем. Определите, сколько в нем различных элементов.\n",
    "    \n",
    "    1, 2, 2, 3, 3, 3→ 3,\n",
    "   \n",
    "    1 1 1 1 1→ 1"
   ]
  },
  {
   "cell_type": "code",
   "execution_count": 12,
   "id": "ab9f9341-f952-47ad-b2dc-4ff4be3a3291",
   "metadata": {},
   "outputs": [],
   "source": [
    "def uniq_elem(lst):\n",
    "    uniq = []\n",
    "    for elem in lst:\n",
    "        if elem not in uniq:\n",
    "            uniq.append(elem)\n",
    "    return len(uniq)\n",
    "    \n"
   ]
  },
  {
   "cell_type": "code",
   "execution_count": 14,
   "id": "0ed978ef-ab46-4723-a8eb-9b750917795d",
   "metadata": {},
   "outputs": [
    {
     "name": "stdin",
     "output_type": "stream",
     "text": [
      "Введите массив целых чисел 1 1 1 1 1 1 1 1\n"
     ]
    },
    {
     "name": "stdout",
     "output_type": "stream",
     "text": [
      "Кол-во уникальных: 1\n"
     ]
    }
   ],
   "source": [
    "lst6 = list(map(int,input('Введите массив целых чисел').split()))\n",
    "print(f\"Кол-во уникальных: {uniq_elem(lst6)}\")"
   ]
  },
  {
   "cell_type": "code",
   "execution_count": null,
   "id": "904ff3b3-588c-4cf2-8434-b208829ee091",
   "metadata": {},
   "outputs": [],
   "source": []
  }
 ],
 "metadata": {
  "kernelspec": {
   "display_name": "Python 3 (ipykernel)",
   "language": "python",
   "name": "python3"
  },
  "language_info": {
   "codemirror_mode": {
    "name": "ipython",
    "version": 3
   },
   "file_extension": ".py",
   "mimetype": "text/x-python",
   "name": "python",
   "nbconvert_exporter": "python",
   "pygments_lexer": "ipython3",
   "version": "3.12.4"
  }
 },
 "nbformat": 4,
 "nbformat_minor": 5
}
