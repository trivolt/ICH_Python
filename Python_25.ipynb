{
 "cells": [
  {
   "attachments": {},
   "cell_type": "markdown",
   "id": "7ae685d4",
   "metadata": {},
   "source": [
    "# Аннотации типов. Модуль operator. Бинарный поиск\n"
   ]
  },
  {
   "cell_type": "markdown",
   "id": "3665a79c-c199-49e0-8138-b68dd5ad9c8b",
   "metadata": {},
   "source": [
    "### Аннотации типов"
   ]
  },
  {
   "cell_type": "markdown",
   "id": "75414253-7dea-4c16-94b1-f30eb01e70c1",
   "metadata": {},
   "source": [
    "#### Зачем нужны аннотации. Влияют ли они на выполнение кода. Отличия типов данных и указаний типов в аннотациях:\n",
    "\n",
    "Аннотации типов в Python предоставляют возможность явно указать типы данных для переменных, аргументов функций и возвращаемых значений. Они служат для документирования кода и помогают разработчикам и инструментам статического анализа проверять корректность типов.\n",
    "\n",
    "***Аннотации типов не влияют на выполнение кода и являются опциональными.***\n",
    "\n"
   ]
  },
  {
   "cell_type": "markdown",
   "id": "6ed18de7-9ffe-444a-a9cd-a39814a705f0",
   "metadata": {},
   "source": [
    "Отличие между типами данных и указаниями типов в аннотациях заключается в их использовании.\n",
    "* Типы данных определяют непосредственно характеристики объектов, такие как число, строка или список\n",
    "* Указания типов в аннотациях используются для объявления ожидаемого типа данных в контексте переменных, аргументов функций и возвращаемых значений.\n"
   ]
  },
  {
   "cell_type": "markdown",
   "id": "891c94d7-3206-41a9-801e-2e65f1a3a74b",
   "metadata": {},
   "source": [
    "##### Аннотации переменных:\r\n",
    "Вы можете указать тип переменной при её объявлении:"
   ]
  },
  {
   "cell_type": "code",
   "execution_count": 6,
   "id": "59f5ff51",
   "metadata": {},
   "outputs": [
    {
     "name": "stdout",
     "output_type": "stream",
     "text": [
      "5\n"
     ]
    }
   ],
   "source": [
    "x: int = 5\n",
    "print(x)"
   ]
  },
  {
   "cell_type": "code",
   "execution_count": 7,
   "id": "19a0b415",
   "metadata": {},
   "outputs": [
    {
     "name": "stdout",
     "output_type": "stream",
     "text": [
      "Привет\n"
     ]
    }
   ],
   "source": [
    "s: str = 'Привет'\n",
    "print(s)"
   ]
  },
  {
   "cell_type": "markdown",
   "id": "b6373e77",
   "metadata": {},
   "source": [
    "##### Аннотации аргументов функций:\r\n",
    "Типы аргументов функции указываются после двоеточия:"
   ]
  },
  {
   "cell_type": "code",
   "execution_count": 51,
   "id": "0ad9f726",
   "metadata": {},
   "outputs": [],
   "source": [
    "def add(a: int, b: int) -> int:\n",
    "    return a + b\n",
    "\n"
   ]
  },
  {
   "cell_type": "code",
   "execution_count": 53,
   "id": "99d92dea-941c-4b34-984d-b168ba6599e8",
   "metadata": {},
   "outputs": [
    {
     "name": "stdout",
     "output_type": "stream",
     "text": [
      "15.0\n"
     ]
    }
   ],
   "source": [
    "print(add(3, 12))"
   ]
  },
  {
   "cell_type": "code",
   "execution_count": 11,
   "id": "cf5b1082-2da8-4b5c-bab8-e4d5bcb35f40",
   "metadata": {},
   "outputs": [
    {
     "name": "stdout",
     "output_type": "stream",
     "text": [
      "hello world\n"
     ]
    }
   ],
   "source": [
    "print(add('hello ', 'world'))"
   ]
  },
  {
   "cell_type": "markdown",
   "id": "59b386d8-46fd-47be-9044-9c73f930175b",
   "metadata": {},
   "source": [
    "##### Аннотации возвращаемых значений:\n",
    "Тип возвращаемого значения указывается после стрелки ->:"
   ]
  },
  {
   "cell_type": "code",
   "execution_count": 12,
   "id": "068c418c",
   "metadata": {},
   "outputs": [],
   "source": [
    "def greet(name: str) -> str:\n",
    "    return f\"Hello, {name}\""
   ]
  },
  {
   "cell_type": "code",
   "execution_count": 13,
   "id": "7bd212fe-03fc-4f12-9121-7e3ba3349d15",
   "metadata": {},
   "outputs": [
    {
     "name": "stdout",
     "output_type": "stream",
     "text": [
      "Hello, Petr\n"
     ]
    }
   ],
   "source": [
    "print(greet('Petr'))"
   ]
  },
  {
   "cell_type": "markdown",
   "id": "e5109dca-c904-47e8-9587-ea85bb422a5f",
   "metadata": {},
   "source": [
    "🤓Попробуйте позапускать в PyCharm эту функцию с аргументами разных типов"
   ]
  },
  {
   "cell_type": "markdown",
   "id": "8562bc72-a5b6-4bed-8173-3142c65302af",
   "metadata": {},
   "source": [
    "#### Преимущества аннотаций типов\n",
    "* Улучшение читаемости кода: Аннотации делают код более понятным, так как явно указывают, какие типы данных ожидаются.\n",
    "\n",
    "* Статическая проверка типов: Инструменты, такие как mypy, могут анализировать код и находить ошибки до его выполнения.\n",
    "\n",
    "* Поддержка IDE: Современные IDE, такие как PyCharm или VSCode, используют аннотации для автодополнения, подсказок и проверки типов."
   ]
  },
  {
   "cell_type": "markdown",
   "id": "7bb7c7eb",
   "metadata": {},
   "source": [
    "## Пример формирования docstring для функций"
   ]
  },
  {
   "cell_type": "code",
   "execution_count": 14,
   "id": "979142c8",
   "metadata": {},
   "outputs": [],
   "source": [
    "def add(a: int, b: int) -> int:\n",
    "    '''\n",
    "    Эта функция ....\n",
    "    аргументв:\n",
    "    a - INT\n",
    "    ...\n",
    "    \n",
    "    yF\n",
    "    '''\n",
    "    return a + b"
   ]
  },
  {
   "cell_type": "code",
   "execution_count": 15,
   "id": "ec5d13de",
   "metadata": {},
   "outputs": [
    {
     "name": "stdout",
     "output_type": "stream",
     "text": [
      "Help on built-in function print in module builtins:\n",
      "\n",
      "print(*args, sep=' ', end='\\n', file=None, flush=False)\n",
      "    Prints the values to a stream, or to sys.stdout by default.\n",
      "\n",
      "    sep\n",
      "      string inserted between values, default a space.\n",
      "    end\n",
      "      string appended after the last value, default a newline.\n",
      "    file\n",
      "      a file-like object (stream); defaults to the current sys.stdout.\n",
      "    flush\n",
      "      whether to forcibly flush the stream.\n",
      "\n"
     ]
    }
   ],
   "source": [
    "help(print)"
   ]
  },
  {
   "cell_type": "code",
   "execution_count": 16,
   "id": "dcc0d672",
   "metadata": {},
   "outputs": [
    {
     "name": "stdout",
     "output_type": "stream",
     "text": [
      "Help on function add in module __main__:\n",
      "\n",
      "add(a: int, b: int) -> int\n",
      "    Эта функция ....\n",
      "    аргументв:\n",
      "    a - INT\n",
      "    ...\n",
      "\n",
      "    yF\n",
      "\n"
     ]
    }
   ],
   "source": [
    "help(add)"
   ]
  },
  {
   "cell_type": "markdown",
   "id": "1924fb10-838e-4c5d-a5a6-0cea8b26dd85",
   "metadata": {},
   "source": [
    "### Задание для закрепления\n",
    "Реализуйте функцию word_multiply(). Она должна принимать два параметра:\n",
    "\n",
    "Строку\n",
    "Число, которое обозначает, сколько раз нужно повторить строку\n"
   ]
  },
  {
   "cell_type": "code",
   "execution_count": 17,
   "id": "df8d49e0",
   "metadata": {},
   "outputs": [
    {
     "name": "stdout",
     "output_type": "stream",
     "text": [
      "\n",
      "python, python, python, python, python, \n"
     ]
    }
   ],
   "source": [
    "def word_multiply(in_s: str, in_count: int) -> str:\n",
    "    '''\n",
    "    in_s - используется в качестве входной строки\n",
    "    in_count - используется для количества повторов строки in_s\n",
    "    Выход: строка, как результат количества повторений\n",
    "    '''\n",
    "    return in_s * in_count\n",
    "\n",
    "text = 'python, '\n",
    "print(word_multiply(text, 0))\n",
    "print(word_multiply(text, 5))"
   ]
  },
  {
   "cell_type": "code",
   "execution_count": 18,
   "id": "51bcf5a0-451d-4e48-8882-13f93ffa684c",
   "metadata": {},
   "outputs": [
    {
     "data": {
      "text/plain": [
       "\u001b[1;31mSignature:\u001b[0m \u001b[0mword_multiply\u001b[0m\u001b[1;33m(\u001b[0m\u001b[0min_s\u001b[0m\u001b[1;33m:\u001b[0m \u001b[0mstr\u001b[0m\u001b[1;33m,\u001b[0m \u001b[0min_count\u001b[0m\u001b[1;33m:\u001b[0m \u001b[0mint\u001b[0m\u001b[1;33m)\u001b[0m \u001b[1;33m->\u001b[0m \u001b[0mstr\u001b[0m\u001b[1;33m\u001b[0m\u001b[1;33m\u001b[0m\u001b[0m\n",
       "\u001b[1;31mDocstring:\u001b[0m\n",
       "in_s - используется в качестве входной строки\n",
       "in_count - используется для количества повторов строки in_s\n",
       "Выход: строка, как результат количества повторений\n",
       "\u001b[1;31mFile:\u001b[0m      c:\\users\\dplog\\appdata\\local\\temp\\ipykernel_24596\\2286129602.py\n",
       "\u001b[1;31mType:\u001b[0m      function"
      ]
     },
     "metadata": {},
     "output_type": "display_data"
    }
   ],
   "source": [
    "?word_multiply"
   ]
  },
  {
   "cell_type": "markdown",
   "id": "4e78fe45",
   "metadata": {},
   "source": [
    "## Модуль typing"
   ]
  },
  {
   "cell_type": "markdown",
   "id": "c72ac0ba-6377-40b6-88fd-e49f7ca3e3fa",
   "metadata": {},
   "source": [
    "Для работы с более сложными типами, такими как списки, словари или пользовательские классы, используется модуль typing:"
   ]
  },
  {
   "cell_type": "markdown",
   "id": "7a5f5078-7083-4977-b33a-8e6c16cf4a0e",
   "metadata": {},
   "source": [
    "Модуль typing предоставляет дополнительные возможности для аннотаций типов. Например, \n",
    "* `Optional` позволяет указать, что переменная может иметь указанный тип или быть равной None.\n",
    "* `Union` позволяет объединить несколько типов данных в одну аннотацию.\n",
    "* `Any` указывает, что переменная может иметь любой тип данных.\n"
   ]
  },
  {
   "cell_type": "code",
   "execution_count": 19,
   "id": "017ffea6",
   "metadata": {},
   "outputs": [],
   "source": [
    "from typing import Optional, Union, Any\n",
    "\n",
    "def greet(name: Optional[str]) -> str:\n",
    "    if name is None:\n",
    "        return \"Hello, anonymous\"\n",
    "    else:\n",
    "        return f\"Hello, {name}\"\n"
   ]
  },
  {
   "cell_type": "code",
   "execution_count": 21,
   "id": "ce30338a-38c2-43cc-95f8-9994054b344d",
   "metadata": {},
   "outputs": [
    {
     "name": "stdout",
     "output_type": "stream",
     "text": [
      "Hello, \n"
     ]
    }
   ],
   "source": [
    "print(greet(''))"
   ]
  },
  {
   "cell_type": "code",
   "execution_count": 22,
   "id": "1528886d-62fc-4779-ad9c-18ad38b193fc",
   "metadata": {},
   "outputs": [
    {
     "name": "stdout",
     "output_type": "stream",
     "text": [
      "Hello, Petr\n"
     ]
    }
   ],
   "source": [
    "print(greet('Petr'))"
   ]
  },
  {
   "cell_type": "code",
   "execution_count": null,
   "id": "eae82e54-4211-4883-9c78-95e2ed52cd5c",
   "metadata": {},
   "outputs": [],
   "source": []
  },
  {
   "cell_type": "markdown",
   "id": "50a07860-247e-4a0a-aff0-0818380fa02c",
   "metadata": {},
   "source": [
    "#### Коллекции в typing: List, Tuple, Set, Dict...\n",
    "\n",
    "Модуль typing предоставляет аннотации типов для различных коллекций. Например, List используется для аннотации типа списка, Tuple - для аннотации типа кортежа, Set - для аннотации типа множества, Dict - для аннотации типа словаря.\n"
   ]
  },
  {
   "cell_type": "markdown",
   "id": "12122847-04d9-43f0-a4dd-66a68fc198c5",
   "metadata": {},
   "source": [
    "🤓Можно использовать просто list/dict/set/tuple. Но у этих базовых коллекций нельзя! указать тип данных, которые лежат внутри"
   ]
  },
  {
   "cell_type": "code",
   "execution_count": 23,
   "id": "63a8167c-bf4d-4fbb-bda0-67ae33edbc6a",
   "metadata": {},
   "outputs": [],
   "source": [
    "from typing import List, Tuple, Set, Dict, Union\n",
    "\n",
    "def process_data(data: List[str]) -> Tuple[int, Set[str]]:\n",
    "    # Обработка данных\n",
    "    return len(data), set(data)\n",
    "\n",
    "def get_person_details(person: Dict[str, Union[str, int]]) -> str:\n",
    "    # Получение информации о человеке\n",
    "    return f\"{person['name']}, {person['age']} years old\"\n"
   ]
  },
  {
   "cell_type": "code",
   "execution_count": null,
   "id": "96318934-5059-4c7b-afd3-8efbedb8fc1d",
   "metadata": {},
   "outputs": [],
   "source": []
  },
  {
   "cell_type": "markdown",
   "id": "0ad13d9c-03ff-4f33-b871-467e27641fcc",
   "metadata": {},
   "source": [
    "##### Аннотация возвращаемого генератором типа; typing.Iterable:\n",
    "\n",
    "С помощью модуля typing можно также аннотировать тип данных, возвращаемых генератором. Например, можно использовать аннотацию Iterable для указания типа данных, генерируемых генератором.\n"
   ]
  },
  {
   "cell_type": "code",
   "execution_count": null,
   "id": "5efc5d67",
   "metadata": {},
   "outputs": [],
   "source": [
    "from typing import Iterable\n",
    "\n",
    "def generate_numbers(n: int) -> Iterable[int]:\n",
    "    for i in range(n):\n",
    "        yield i\n"
   ]
  },
  {
   "cell_type": "code",
   "execution_count": null,
   "id": "59bb27cf-8b8f-43ea-95cf-a9410a6c61e4",
   "metadata": {},
   "outputs": [],
   "source": [
    "### Объясните, что происходит в этом фрагменте кода:\n",
    "\n",
    "def broadcast_message(message: str, servers: List[str]) -> None:"
   ]
  },
  {
   "cell_type": "markdown",
   "id": "f5605c89",
   "metadata": {},
   "source": [
    "# Модуль operator"
   ]
  },
  {
   "cell_type": "markdown",
   "id": "78567681-8311-410c-a67e-3794e8213c43",
   "metadata": {},
   "source": [
    "🤓Это очень мощный инструмент.\n",
    "Модуль operator предоставляет функции, которые позволяют выполнять операции над объектами с помощью операторов. \n",
    "\n"
   ]
  },
  {
   "cell_type": "markdown",
   "id": "4baf40e7-4f1c-47c5-b411-b42f518f9dd0",
   "metadata": {},
   "source": [
    "Модуль operator в Python предоставляет набор функций, которые соответствуют стандартным операторам языка (например, +, -, *, /, ==, >, < и т.д.). Эти функции полезны в ситуациях, когда требуется передать оператор как аргумент функции или использовать его в функциональном программировании."
   ]
  },
  {
   "cell_type": "markdown",
   "id": "ed917c34-e051-41a0-97ee-5aae2a82fe3d",
   "metadata": {},
   "source": [
    "#### Арифметические операции\n",
    "\n",
    "Эти функции выполняют базовые математические операции:\n",
    "\n",
    "* operator.add(a, b) — возвращает a + b.\n",
    "\n",
    "* operator.sub(a, b) — возвращает a - b.\n",
    "\n",
    "* operator.mul(a, b) — возвращает a * b.\n",
    "\n",
    "* operator.truediv(a, b) — возвращает a / b (деление с плавающей точкой).\n",
    "\n",
    "* operator.floordiv(a, b) — возвращает a // b (целочисленное деление).\n",
    "\n",
    "* operator.mod(a, b) — возвращает a % b (остаток от деления).\n",
    "\n",
    "* operator.pow(a, b) — возвращает a ** b (возведение в степень).\n",
    "\n",
    "* operator.neg(a) — возвращает -a (унарный минус).\n",
    "\n",
    "* operator.pos(a) — возвращает +a (унарный плюс).\n",
    "\n",
    "* operator.abs(a) — возвращает abs(a) (модуль числа)."
   ]
  },
  {
   "cell_type": "code",
   "execution_count": 24,
   "id": "14084c1c-8d79-49a6-ae36-48266b61a79d",
   "metadata": {},
   "outputs": [
    {
     "name": "stdout",
     "output_type": "stream",
     "text": [
      "15\n",
      "12\n",
      "8\n"
     ]
    }
   ],
   "source": [
    "import operator\n",
    "\n",
    "print(operator.add(10, 5))  # 15\n",
    "print(operator.mul(3, 4))   # 12\n",
    "print(operator.pow(2, 3))   # 8"
   ]
  },
  {
   "cell_type": "markdown",
   "id": "e229c8d7-e00b-4cb3-bbec-474e024c79ec",
   "metadata": {},
   "source": [
    "#### Операции сравнения\n",
    "\n",
    "Эти функции выполняют сравнение двух значений:\n",
    "\n",
    "* operator.eq(a, b) — возвращает a == b.\n",
    "\n",
    "* operator.ne(a, b) — возвращает a != b.\n",
    "\n",
    "* operator.lt(a, b) — возвращает a < b.\n",
    "\n",
    "* operator.le(a, b) — возвращает a <= b.\n",
    "\n",
    "* operator.gt(a, b) — возвращает a > b.\n",
    "\n",
    "* operator.ge(a, b) — возвращает a >= b."
   ]
  },
  {
   "cell_type": "code",
   "execution_count": 25,
   "id": "e0a4059f-97fa-4177-ac58-24d5fce1e110",
   "metadata": {},
   "outputs": [
    {
     "name": "stdout",
     "output_type": "stream",
     "text": [
      "True\n",
      "True\n",
      "True\n"
     ]
    }
   ],
   "source": [
    "import operator\n",
    "\n",
    "print(operator.eq(10, 10))  # True\n",
    "print(operator.lt(5, 10))   # True\n",
    "print(operator.ge(10, 5))   # True"
   ]
  },
  {
   "cell_type": "code",
   "execution_count": null,
   "id": "7912527b-346d-4a89-8ff0-f311421f8920",
   "metadata": {},
   "outputs": [],
   "source": []
  },
  {
   "cell_type": "code",
   "execution_count": 27,
   "id": "f592fc49",
   "metadata": {},
   "outputs": [
    {
     "name": "stdout",
     "output_type": "stream",
     "text": [
      "25\n",
      "75\n",
      "2.0\n",
      "1250\n"
     ]
    }
   ],
   "source": [
    "import operator\n",
    "action = {\n",
    "    \"+\": operator.add,\n",
    "    \"-\": operator.sub,\n",
    "    \"/\": operator.truediv,\n",
    "    \"*\": operator.mul,\n",
    "    \"**\": operator.pow\n",
    "}\n",
    "print(action['-'](50, 25)) # operator.sub(50, 25)\n",
    "# 25\n",
    "print(action['+'](50, 25)) # # operator.add(50, 25)\n",
    "# 75\n",
    "print(action['/'](50, 25))\n",
    "# 2.0\n",
    "print(action['*'](50, 25))\n",
    "# 1250\n"
   ]
  },
  {
   "cell_type": "markdown",
   "id": "47ebff80-f524-47a8-91dc-a77d7c93b2d1",
   "metadata": {},
   "source": [
    "🤓После `__iter__`, `__next__`, `__len__` мы подбираемся ещё к одному открытию – как работают в питоне арифметические операции! А также логические, сравнение и т.д."
   ]
  },
  {
   "cell_type": "code",
   "execution_count": null,
   "id": "50730194-3923-4d1f-8517-13f9b0002fd0",
   "metadata": {},
   "outputs": [],
   "source": []
  },
  {
   "cell_type": "code",
   "execution_count": null,
   "id": "e1360b93-9a8c-418c-ac61-75ccf4c7805a",
   "metadata": {},
   "outputs": [],
   "source": []
  },
  {
   "cell_type": "markdown",
   "id": "d9e3718f-734a-44c8-87c8-13eaa3a5a598",
   "metadata": {},
   "source": [
    "Например, функция itemgetter позволяет получить доступ к определенному элементу или атрибуту объекта и может быть использована в качестве компаратора при сортировке.\n"
   ]
  },
  {
   "cell_type": "code",
   "execution_count": 28,
   "id": "ca40ecf3-f9d0-4c82-8dc2-c8147fa32a00",
   "metadata": {},
   "outputs": [
    {
     "name": "stdout",
     "output_type": "stream",
     "text": [
      "20\n"
     ]
    }
   ],
   "source": [
    "from operator import itemgetter\n",
    "\n",
    "data = [10, 20, 30, 40]\n",
    "\n",
    "# Создаем функцию, которая извлекает элемент с индексом 1\n",
    "get_second = itemgetter(1)\n",
    "\n",
    "# Применяем функцию к списку\n",
    "result = get_second(data)\n",
    "print(result)  # 20"
   ]
  },
  {
   "cell_type": "code",
   "execution_count": null,
   "id": "1f93131a-8788-41f7-bad3-c031957ffa62",
   "metadata": {},
   "outputs": [],
   "source": []
  },
  {
   "cell_type": "code",
   "execution_count": 55,
   "id": "934631d6-c6fc-4223-bb91-604f6b3b5348",
   "metadata": {},
   "outputs": [
    {
     "name": "stdout",
     "output_type": "stream",
     "text": [
      "Alice\n"
     ]
    }
   ],
   "source": [
    "from operator import itemgetter\n",
    "\n",
    "data = {\"name\": \"Alice\", \"age\": 30, \"city\": \"New York\"}\n",
    "\n",
    "# Создаем функцию, которая извлекает значение по ключу \"name\"\n",
    "get_name = itemgetter(\"name\")\n",
    "\n",
    "# Применяем функцию к словарю\n",
    "result = get_name(data)\n",
    "print(result)  # \"Alice\""
   ]
  },
  {
   "cell_type": "code",
   "execution_count": 56,
   "id": "647b9217",
   "metadata": {},
   "outputs": [
    {
     "name": "stdout",
     "output_type": "stream",
     "text": [
      "[{'name': 'Charlie', 'age': 20}, {'name': 'Alice', 'age': 25}, {'name': 'Bob', 'age': 30}]\n"
     ]
    }
   ],
   "source": [
    "from operator import itemgetter\n",
    "\n",
    "data = [\n",
    "    {'name': 'Alice', 'age': 25},\n",
    "    {'name': 'Bob', 'age': 30},\n",
    "    {'name': 'Charlie', 'age': 20}\n",
    "]\n",
    "sorted_data = sorted(data, key=itemgetter('age'))\n",
    "\n",
    "print(sorted_data)"
   ]
  },
  {
   "cell_type": "code",
   "execution_count": null,
   "id": "dc3e51bc-c7d1-4de9-a6a6-68ef9311ac4d",
   "metadata": {},
   "outputs": [],
   "source": [
    "# Стандартными средствами"
   ]
  },
  {
   "cell_type": "code",
   "execution_count": 57,
   "id": "122acaec-a79f-44f3-9ee3-cbce6be84eb8",
   "metadata": {},
   "outputs": [
    {
     "name": "stdout",
     "output_type": "stream",
     "text": [
      "[{'name': 'Charlie', 'age': 20}, {'name': 'Alice', 'age': 25}, {'name': 'Bob', 'age': 30}]\n"
     ]
    }
   ],
   "source": [
    "data = [\n",
    "    {'name': 'Alice', 'age': 25},\n",
    "    {'name': 'Bob', 'age': 30},\n",
    "    {'name': 'Charlie', 'age': 20}\n",
    "]\n",
    "\n",
    "# Сортируем по ключу 'age'\n",
    "sorted_data = sorted(data, key=lambda x: x['age'])\n",
    "\n",
    "print(sorted_data)"
   ]
  },
  {
   "cell_type": "code",
   "execution_count": 33,
   "id": "90e5baf1-2687-4f2d-80b6-a360dfad1f80",
   "metadata": {},
   "outputs": [
    {
     "name": "stdout",
     "output_type": "stream",
     "text": [
      "[{'name': 'Alice', 'age': 25}, {'name': 'Bob', 'age': 30}, {'name': 'Charlie', 'age': 20}]\n"
     ]
    }
   ],
   "source": [
    "data = [\n",
    "    {'name': 'Alice', 'age': 25},\n",
    "    {'name': 'Bob', 'age': 30},\n",
    "    {'name': 'Charlie', 'age': 20}\n",
    "]\n",
    "\n",
    "# Сортируем по ключу 'age'\n",
    "sorted_data = sorted(data, key = lambda x: x['name'])\n",
    "\n",
    "print(sorted_data)"
   ]
  },
  {
   "attachments": {},
   "cell_type": "markdown",
   "id": "98b591b7",
   "metadata": {},
   "source": [
    "# Модуль bisect\n"
   ]
  },
  {
   "cell_type": "markdown",
   "id": "5e8e21d9-594b-4978-84b7-4bf6ce764e78",
   "metadata": {},
   "source": [
    "Бинарный поиск - это эффективный алгоритм поиска элемента в отсортированном списке. Модуль bisect предоставляет функции для выполнения бинарного поиска. Функция bisect_left находит позицию, на которую нужно вставить элемент, чтобы сохранить порядок сортировки списка. Функция bisect_right возвращает позицию, после которой нужно вставить элемент.\n"
   ]
  },
  {
   "cell_type": "code",
   "execution_count": 34,
   "id": "1e460846",
   "metadata": {},
   "outputs": [
    {
     "name": "stdout",
     "output_type": "stream",
     "text": [
      "3\n",
      "3\n",
      "2\n",
      "3\n"
     ]
    }
   ],
   "source": [
    "from bisect import bisect_left, bisect_right\n",
    "\n",
    "data1 = [1, 3, 5, 7, 9]\n",
    "data2 = [1, 3, 6, 7, 9]\n",
    "\n",
    "index = bisect_left(data1, 6)  # Результат: 3\n",
    "print(index)\n",
    "index = bisect_right(data1, 6)  # Результат: 3\n",
    "print(index)\n",
    "\n",
    "index = bisect_left(data2, 6)  # Результат: 2\n",
    "print(index)\n",
    "index = bisect_right(data2, 6)  # Результат: 3\n",
    "print(index)\n"
   ]
  },
  {
   "cell_type": "markdown",
   "id": "73df01d4-3862-41f7-9305-d971a99e526c",
   "metadata": {},
   "source": [
    "Для бинарного поиска колекции должны быть отсортированы!!!!"
   ]
  },
  {
   "cell_type": "markdown",
   "id": "455a500f-d28c-422f-ad69-38dbf7652ed1",
   "metadata": {},
   "source": [
    "### Решение задач\n",
    "1. Напишите функцию, которая принимает список строк и возвращает наибольшую строку из списка. Функция должна быть аннотирована с помощью аннотаций типов.\n",
    "\n"
   ]
  },
  {
   "cell_type": "code",
   "execution_count": 40,
   "id": "f6df45cc-5d1f-4b64-babf-b1bc45a49b30",
   "metadata": {},
   "outputs": [],
   "source": [
    "from typing import List\n",
    "\n",
    "def find_longest_string(strings: List[str]) -> str:\n",
    "    return max(strings, key = lambda x: len(x))"
   ]
  },
  {
   "cell_type": "code",
   "execution_count": 41,
   "id": "835261ae-5dac-4399-b5b3-7fef6ce850a4",
   "metadata": {},
   "outputs": [
    {
     "name": "stdout",
     "output_type": "stream",
     "text": [
      "strawberry\n"
     ]
    }
   ],
   "source": [
    "strings = [\"apple\", \"banana\", \"kiwi\", \"strawberry\"]\n",
    "longest = find_longest_string(strings)\n",
    "print(longest)"
   ]
  },
  {
   "cell_type": "markdown",
   "id": "86217ffe-1a95-43fb-9a03-541a3afe67ae",
   "metadata": {},
   "source": [
    "2. Напишите функцию, которая принимает список словарей и ключ, по которому нужно отсортировать список словарей. Функция должна быть аннотирована с помощью аннотаций типов.\n"
   ]
  },
  {
   "cell_type": "code",
   "execution_count": 42,
   "id": "a3f54a4a-c242-4440-8e3e-a3793947e7e8",
   "metadata": {},
   "outputs": [],
   "source": [
    "from typing import List, Dict\n",
    "\n",
    "\n",
    "def sort_list_of_dicts(data: List[Dict[str,int]], key: str) -> List[Dict[str,int]]:\n",
    "    return sorted(data, key=lambda x: x[key])"
   ]
  },
  {
   "cell_type": "code",
   "execution_count": 44,
   "id": "c6116fc0-a015-4c8a-ad23-acddfaa2df9a",
   "metadata": {},
   "outputs": [
    {
     "name": "stdout",
     "output_type": "stream",
     "text": [
      "[{'name': 'Alice', 'age': 25}, {'name': 'Bob', 'age': 65}, {'name': 'Charlie', 'age': 20}]\n"
     ]
    }
   ],
   "source": [
    "data = [\n",
    "    {\"name\": \"Alice\", \"age\": 25},\n",
    "    {\"name\": \"Bob\", \"age\": 65},\n",
    "    {\"name\": \"Charlie\", \"age\": 20}\n",
    "]\n",
    "\n",
    "sorted_data = sort_list_of_dicts(data, \"name\")\n",
    "print(sorted_data)"
   ]
  },
  {
   "cell_type": "markdown",
   "id": "f04d1aa5-255b-4d81-ac43-c6de60c71262",
   "metadata": {},
   "source": [
    "3. Решаем задачу \"проверь, есть ли элемент в списке\" без использования дополнительной памяти сравнимого с массивом объёма с помощью бинарного поиска."
   ]
  },
  {
   "cell_type": "code",
   "execution_count": 49,
   "id": "805e9816-7079-4881-a4b2-8917e9a75f52",
   "metadata": {},
   "outputs": [],
   "source": [
    "import bisect\n",
    "from typing import List, Any\n",
    "\n",
    "def binary_search_with_bisect(arr: List[Any], target: Any) -> bool:\n",
    "    pos = bisect.bisect_left(arr, target)\n",
    "    return arr[pos] == target\n",
    "    "
   ]
  },
  {
   "cell_type": "code",
   "execution_count": 50,
   "id": "03e8b9e9-7cad-4cb4-bee4-e6f0a63d9239",
   "metadata": {},
   "outputs": [
    {
     "name": "stdout",
     "output_type": "stream",
     "text": [
      "True\n",
      "False\n"
     ]
    }
   ],
   "source": [
    "arr = [1, 3, 5, 7, 9, 11, 13, 15]\n",
    "\n",
    "print(binary_search_with_bisect(arr, 7)) #True\n",
    "print(binary_search_with_bisect(arr, 8)) #False"
   ]
  },
  {
   "cell_type": "code",
   "execution_count": null,
   "id": "34b7308b-8a29-4d9d-b405-05bc2cca1f8d",
   "metadata": {},
   "outputs": [],
   "source": []
  },
  {
   "cell_type": "markdown",
   "id": "3ce5dd03-a87e-46ad-b1a1-9c496a4c964c",
   "metadata": {},
   "source": [
    "### Полезные материалы\n",
    "1. Модуль bisect - реализация алгоритма бинарного поиска https://pythonworld.ru/moduli/modul-bisect.html \n",
    "2. 🐍 Аннотации типов в Python: все, что нужно знать за 5 минут https://proglib.io/p/annotacii-tipov-v-python-vse-chto-nuzhno-znat-za-5-minut-2022-01-30 \n",
    "\n",
    "### Вопросы для закрепления\n",
    "1. Можно написать в аннотациях list с маленькой буквы и List с большой. В чем отличия?\n",
    "2. Будет ли интерпретатор Python выдавать предупреждение при запуске функции с аргументами, типы которых не совпадают с аннотациями?\n",
    "3. Сколько примерно операций будет выполнено для поиска элемента в массиве длины 1 миллион элементов с помощью бинарного поиска?\n"
   ]
  },
  {
   "cell_type": "code",
   "execution_count": null,
   "id": "b71414eb-492b-4d59-bb58-a48c8163df39",
   "metadata": {},
   "outputs": [],
   "source": []
  }
 ],
 "metadata": {
  "kernelspec": {
   "display_name": "Python 3 (ipykernel)",
   "language": "python",
   "name": "python3"
  },
  "language_info": {
   "codemirror_mode": {
    "name": "ipython",
    "version": 3
   },
   "file_extension": ".py",
   "mimetype": "text/x-python",
   "name": "python",
   "nbconvert_exporter": "python",
   "pygments_lexer": "ipython3",
   "version": "3.12.4"
  }
 },
 "nbformat": 4,
 "nbformat_minor": 5
}
