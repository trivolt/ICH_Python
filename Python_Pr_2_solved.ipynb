{
 "cells": [
  {
   "cell_type": "markdown",
   "id": "7c3b622a-8c4b-40fa-92ce-035f12dadac4",
   "metadata": {},
   "source": [
    "# Практикум 2"
   ]
  },
  {
   "cell_type": "markdown",
   "id": "fd78a31f-8a3f-47e0-8d1d-14b2834ae939",
   "metadata": {},
   "source": [
    "1. Даны два целых числа a и b. Напишите программу, которая находит большее из двух чисел и печатает сообщение, какое число больше. \n"
   ]
  },
  {
   "cell_type": "code",
   "execution_count": null,
   "id": "8bad2d2b-36b0-4b16-a5be-d368679238ff",
   "metadata": {},
   "outputs": [],
   "source": [
    "a = int(input())\n",
    "b = int(input())\n",
    "\n",
    "if a > b:\n",
    "    print(b)\n",
    "else:\n",
    "    print(a)"
   ]
  },
  {
   "cell_type": "markdown",
   "id": "c6638898-d40c-4a90-8d8c-510cf5285d2e",
   "metadata": {},
   "source": [
    "2. Напишите программу, которая находит наибольшее из трех чисел.\n"
   ]
  },
  {
   "cell_type": "code",
   "execution_count": null,
   "id": "9f552cc6-05fc-451b-afee-16a3b2732fb1",
   "metadata": {},
   "outputs": [],
   "source": [
    "if num1 >= num2 and num1 >= num3:\n",
    "    max_num = num1\n",
    "elif num2 >= num1 and num2 >= num3:\n",
    "    max_num = num2\n",
    "else:\n",
    "    max_num = num3\n",
    "\n",
    "print(\"Наибольшее число:\", max_num)"
   ]
  },
  {
   "cell_type": "markdown",
   "id": "b4134a02-8cd6-4896-aa59-bdc6d0314903",
   "metadata": {},
   "source": [
    "3. Есть логическая переменная  weekday. Напишите программу, которая выводит сообщение “рабочий день”, если переменная истинна и сообщение “выходной” - если ложна. \n"
   ]
  },
  {
   "cell_type": "code",
   "execution_count": null,
   "id": "87fa95e3-6239-45ec-8e53-9af4568d2276",
   "metadata": {},
   "outputs": [],
   "source": [
    "weekday = True\n",
    "\n",
    "if weekday:\n",
    "    print(\"рабочий день\")\n",
    "else:\n",
    "    print(\"выходной\")"
   ]
  },
  {
   "cell_type": "markdown",
   "id": "4e8f81ae-850b-4a15-aa61-4e684c269fed",
   "metadata": {},
   "source": [
    "4. У нас есть две логические переменные: isWeekday, isVacation (выходной день и каникулы). Они могут принимать разные значения, всего 4 комбинации: true - true, true - false, false - false, false - true. Есть правило: мы можем поспать, если день не рабочий или мы на каникулах. Напишите программу, которая в зависимости от значений двух переменных печатает, можем ли мы поспать или нет. То есть для значений isWeekday = False и isVacation = False программа должна печатать “можете поспать”. \n"
   ]
  },
  {
   "cell_type": "code",
   "execution_count": null,
   "id": "abdd5568-fe24-41f1-b168-dce1bf6d0afa",
   "metadata": {},
   "outputs": [],
   "source": [
    "isWeekday = False \n",
    "isVacation = False  \n",
    "\n",
    "if not isWeekday or isVacation:\n",
    "    print(\"можете поспать\")\n",
    "else:\n",
    "    print(\"не можете поспать\")\n"
   ]
  },
  {
   "cell_type": "markdown",
   "id": "169301b7-a811-4642-b05d-3db5fedfd0ea",
   "metadata": {},
   "source": [
    "5. У вас есть целое число X. Нужно написать программу, которая напечатает разницу между числом 21 и X, если X<=21 и напечатает удвоенную разницу 21 и X в противном случае. \n"
   ]
  },
  {
   "cell_type": "code",
   "execution_count": null,
   "id": "7ccc199f-f8d8-4732-9d6a-a0b86d0632ce",
   "metadata": {},
   "outputs": [],
   "source": [
    "\n",
    "X = 25\n",
    "\n",
    "\n",
    "if X <= 21:\n",
    "    result = 21 - X\n",
    "else:\n",
    "    result = 2 * (X - 21)\n",
    "\n",
    "print(\"Результат:\", result)\n"
   ]
  },
  {
   "cell_type": "markdown",
   "id": "4ae93640-05eb-4ffd-b9d6-ca1753f32527",
   "metadata": {},
   "source": [
    "6. У вас есть целое число X. Напишите программу, которая печатает разницу 100 и X, если X больше 10 и меньше 100, и печатает X - в противном случае. \n"
   ]
  },
  {
   "cell_type": "code",
   "execution_count": null,
   "id": "68ffa131-3513-46b1-9aea-8b3fbc897a90",
   "metadata": {},
   "outputs": [],
   "source": []
  },
  {
   "cell_type": "markdown",
   "id": "a0ee1bfd-806c-4c46-b28f-faf62a21ccd1",
   "metadata": {},
   "source": [
    "7. У нас есть две обезьяны a и b. Они могут улыбаться или не улыбаться. Если они одновременно улыбаются или не улыбаются, то у нас проблемы. Написать программы, которые печатают есть ли у нас проблемы в зависимости от улыбчивости обезьян. \n"
   ]
  },
  {
   "cell_type": "code",
   "execution_count": null,
   "id": "d1f7cee4-b3a3-4564-a8e4-151546061baf",
   "metadata": {},
   "outputs": [],
   "source": [
    "\n",
    "a_smiling = True \n",
    "b_smiling = False  \n",
    "\n",
    "if (a_smiling and b_smiling) or (not a_smiling and not b_smiling):\n",
    "    print(\"У нас проблемы\")\n",
    "else:\n",
    "    print(\"У нас нет проблем\")\n"
   ]
  },
  {
   "cell_type": "markdown",
   "id": "a81adb14-0005-47a0-b40e-449d19b979de",
   "metadata": {},
   "source": [
    "8. У нас есть два целых числа. Напишите программу, которая печатает их сумму. Если, однако, числа равны, то программа печатает их удвоенную сумму. \n"
   ]
  },
  {
   "cell_type": "code",
   "execution_count": null,
   "id": "01b26d3a-1fff-43d9-a9f2-1462bfe4b9ea",
   "metadata": {},
   "outputs": [],
   "source": [
    "\n",
    "num1 = 10 \n",
    "num2 = 10 \n",
    "\n",
    "if num1 == num2:\n",
    "    result = 2 * (num1 + num2)\n",
    "else:\n",
    "    result = num1 + num2\n",
    "\n",
    "print(\"Результат:\", result)\n"
   ]
  },
  {
   "cell_type": "markdown",
   "id": "92c9ec29-e954-4401-83e9-b2a9978f290b",
   "metadata": {},
   "source": [
    "9. Есть два целых числа. Напишите программу, которая печатает True, если одно из чисел равно 10 или их сумма равна 10. \n"
   ]
  },
  {
   "cell_type": "code",
   "execution_count": null,
   "id": "5c6e4f39-510e-46cf-a552-b0ac2bc14376",
   "metadata": {},
   "outputs": [],
   "source": [
    "num1 = 7  \n",
    "num2 = 3  \n",
    "\n",
    "if num1 == 10 or num2 == 10 or (num1 + num2) == 10:\n",
    "    print(True)\n",
    "else:\n",
    "    print(False)\n"
   ]
  },
  {
   "cell_type": "markdown",
   "id": "ff0c988e-3add-420a-b537-d31e87da37cb",
   "metadata": {},
   "source": [
    "10. У нас есть громкий попугай. У нас проблемы, если попугай говорит громко до 7 утра и после 20.00. Напишите программу, которая печатает True если у нас проблемы и False - иначе. Подсказка: используйте две переменные: isTalking - логическая переменная и hour - целое число в диапазоне 0..23. Подумайте, как должна вести себя программа, если значение hour - за пределами 0..23. Запрограммируйте это поведение. \n"
   ]
  },
  {
   "cell_type": "code",
   "execution_count": null,
   "id": "bf26c257-12f0-4396-be8c-a1cc42633d20",
   "metadata": {},
   "outputs": [],
   "source": [
    "isTalking = True\n",
    "\n",
    "# Целое число, указывающее час (в диапазоне 0..23)\n",
    "hour = 21 \n",
    "\n",
    "if hour < 0 or hour > 23:\n",
    "    print(\"Некорректное значение часа\")\n",
    "elif isTalking and (hour < 7 or hour > 20):\n",
    "    print(True)\n",
    "else:\n",
    "    print(False)\n"
   ]
  }
 ],
 "metadata": {
  "kernelspec": {
   "display_name": "Python 3 (ipykernel)",
   "language": "python",
   "name": "python3"
  },
  "language_info": {
   "codemirror_mode": {
    "name": "ipython",
    "version": 3
   },
   "file_extension": ".py",
   "mimetype": "text/x-python",
   "name": "python",
   "nbconvert_exporter": "python",
   "pygments_lexer": "ipython3",
   "version": "3.12.4"
  }
 },
 "nbformat": 4,
 "nbformat_minor": 5
}
