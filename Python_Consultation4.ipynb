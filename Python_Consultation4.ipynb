{
 "cells": [
  {
   "cell_type": "markdown",
   "id": "b3c5a74e-82b6-4b49-a5b9-d9fb6901183d",
   "metadata": {},
   "source": [
    "# Логирование состояния работы программы"
   ]
  },
  {
   "cell_type": "code",
   "execution_count": null,
   "id": "401cccdb-da5f-43a4-a12b-deb3ebcaac14",
   "metadata": {},
   "outputs": [],
   "source": [
    "### info\n",
    "### debug\n",
    "### warning"
   ]
  },
  {
   "cell_type": "code",
   "execution_count": null,
   "id": "6576c19a-5fc9-4d8e-a447-639f8cd4fab8",
   "metadata": {},
   "outputs": [],
   "source": []
  },
  {
   "cell_type": "code",
   "execution_count": null,
   "id": "a77f732f-de55-4bba-9ae8-637f0769828e",
   "metadata": {},
   "outputs": [],
   "source": []
  },
  {
   "cell_type": "markdown",
   "id": "1a17a928-0565-4ae9-b989-b9378cca60a5",
   "metadata": {},
   "source": [
    "Цель - сохранять информацию о подключении к БД (включая ошибки)"
   ]
  },
  {
   "cell_type": "code",
   "execution_count": 5,
   "id": "f4fe7b5b-47dd-41a4-ad24-a853df87aacc",
   "metadata": {},
   "outputs": [],
   "source": [
    "import logging\n",
    "import mysql.connector\n",
    "from mysql.connector import Error\n",
    "\n",
    "# Настройка логирования\n",
    "logging.basicConfig(\n",
    "    filename='database_connections.log',  # Имя файла для логирования\n",
    "    level=logging.INFO,  # Уровень логирования\n",
    "    format='%(asctime)s - %(levelname)s - %(message)s'  # Формат сообщения\n",
    ")\n",
    "\n",
    "dbconfig_server = {\n",
    "    'host': 'ich-db.edu.itcareerhub.de',\n",
    "    'user': 'ich1',\n",
    "    'password': 'password11111',\n",
    "    'database': 'imdb'\n",
    "}\n",
    "\n",
    "def get_connection():\n",
    "    try:\n",
    "        connection = mysql.connector.connect(**dbconfig_server)\n",
    "        if connection.is_connected():\n",
    "            logging.info(\"Successfully connected to the database\")\n",
    "            return connection\n",
    "    except Error as e:\n",
    "        logging.error(f\"Error while connecting to database: {e}\")\n",
    "        return None\n",
    "\n",
    "# Пример использования\n",
    "connection = get_connection()\n",
    "if connection:\n",
    "    connection.close()\n"
   ]
  },
  {
   "cell_type": "code",
   "execution_count": 3,
   "id": "25181ab2-fed0-4546-8be5-06082685b3c2",
   "metadata": {},
   "outputs": [],
   "source": [
    "# filename='database_connections.log': Указывает имя файла, в который будут записываться логи.\n",
    "# level=logging.INFO: Устанавливает уровень логирования. Сообщения с уровнем INFO и выше будут записаны.\n",
    "# format='%(asctime)s - %(levelname)s - %(message)s': Определяет формат сообщения лога, включая время, уровень и сообщение."
   ]
  },
  {
   "cell_type": "markdown",
   "id": "63d5f3b6-f348-435d-a9a4-ad90947e6515",
   "metadata": {},
   "source": [
    "В Python модуль `logging` предоставляет несколько стандартных уровней логирования, которые позволяют классифицировать сообщения по их важности. Вот основные уровни логирования, от наименее серьезного к наиболее серьезному:\n",
    "\n",
    "1. **DEBUG**:\n",
    "   - Используется для детальной информации, обычно интересной только при диагностике проблем.\n",
    "\n",
    "2. **INFO**:\n",
    "   - Подтверждает, что все работает как ожидалось. Например, успешное подключение к базе данных.\n",
    "\n",
    "3. **WARNING**:\n",
    "   - Указывает на потенциальные проблемы, которые не являются ошибками, но могут вызвать проблемы в будущем. Например, использование устаревшего API.\n",
    "\n",
    "4. **ERROR**:\n",
    "   - Используется для записи ошибок, из-за которых программа не может выполнить какую-то функцию. Например, ошибка подключения к базе данных.\n",
    "\n",
    "5. **CRITICAL**:\n",
    "   - Самый серьезный уровень, указывающий на критические ошибки, которые могут привести к остановке программы.\n",
    "\n",
    "Эти уровни позволяют фильтровать сообщения и выводить только те, которые имеют определенный уровень важности. Например, вы можете настроить логгер так, чтобы он записывал только сообщения уровня `WARNING` и выше, игнорируя `INFO` и `DEBUG`."
   ]
  },
  {
   "cell_type": "code",
   "execution_count": null,
   "id": "a4d2e2c9-e8fa-4bf1-947d-dff300213108",
   "metadata": {},
   "outputs": [],
   "source": []
  }
 ],
 "metadata": {
  "kernelspec": {
   "display_name": "Python 3 (ipykernel)",
   "language": "python",
   "name": "python3"
  },
  "language_info": {
   "codemirror_mode": {
    "name": "ipython",
    "version": 3
   },
   "file_extension": ".py",
   "mimetype": "text/x-python",
   "name": "python",
   "nbconvert_exporter": "python",
   "pygments_lexer": "ipython3",
   "version": "3.12.4"
  }
 },
 "nbformat": 4,
 "nbformat_minor": 5
}
