{
 "cells": [
  {
   "cell_type": "markdown",
   "id": "ba8bc2c3-6e86-403e-924a-1070bc4ae0ff",
   "metadata": {},
   "source": [
    "# Практикум 17"
   ]
  },
  {
   "cell_type": "markdown",
   "id": "a98f26a2-a39a-403a-8bb7-47981b35c203",
   "metadata": {},
   "source": [
    "В задачах практикума на регулярные выражения нужно написать программу на Python, которая использует функции языка для работы с регулярными выражениями и синтаксис регулярных выражений. "
   ]
  },
  {
   "cell_type": "code",
   "execution_count": 2,
   "id": "b516c596-688d-4297-bf24-e309090b74b5",
   "metadata": {},
   "outputs": [],
   "source": [
    "import re"
   ]
  },
  {
   "cell_type": "markdown",
   "id": "2ff44896-1b18-4ec3-b34f-aa929249cf0d",
   "metadata": {},
   "source": [
    "1. Определите, содержит ли заданная строка набор данных символов (a-z, A-Z и 0-9)."
   ]
  },
  {
   "cell_type": "code",
   "execution_count": 11,
   "id": "8b0f6dd0-a97a-4e80-b998-b428925b6d44",
   "metadata": {},
   "outputs": [
    {
     "name": "stdin",
     "output_type": "stream",
     "text": [
      " @()\n"
     ]
    },
    {
     "name": "stdout",
     "output_type": "stream",
     "text": [
      "False\n"
     ]
    }
   ],
   "source": [
    "text = input()\n",
    "pattern = r'\\w'\n",
    "print(bool(re.findall(pattern,text)))"
   ]
  },
  {
   "cell_type": "code",
   "execution_count": 13,
   "id": "fa013529-77e5-4bee-8290-52cb45a074c1",
   "metadata": {},
   "outputs": [
    {
     "name": "stdin",
     "output_type": "stream",
     "text": [
      " 123$\n"
     ]
    },
    {
     "name": "stdout",
     "output_type": "stream",
     "text": [
      "False\n"
     ]
    }
   ],
   "source": [
    "text = input()\n",
    "pattern = r'^[a-zA-Z0-9]+$'\n",
    "print(bool(re.findall(pattern,text)))"
   ]
  },
  {
   "cell_type": "markdown",
   "id": "45a4fe94-90d3-4e46-ae47-465d01a1646b",
   "metadata": {},
   "source": [
    "2. Определите, содержит ли строка символ ‘a’, за которым следует ноль или более символов ‘b’."
   ]
  },
  {
   "cell_type": "code",
   "execution_count": 21,
   "id": "caadf535-d93b-4d78-93ef-fc6538836bf2",
   "metadata": {},
   "outputs": [
    {
     "name": "stdin",
     "output_type": "stream",
     "text": [
      " cab\n"
     ]
    },
    {
     "name": "stdout",
     "output_type": "stream",
     "text": [
      "True\n"
     ]
    }
   ],
   "source": [
    "text = input()\n",
    "pattern = r'ab*'\n",
    "print(bool(re.search(pattern,text)))"
   ]
  },
  {
   "cell_type": "code",
   "execution_count": null,
   "id": "dd37ea4f-e875-4b12-8dbe-0ae6e1ec558f",
   "metadata": {},
   "outputs": [],
   "source": []
  },
  {
   "cell_type": "markdown",
   "id": "2b948718-00ae-4d12-9a88-5fed00c2638a",
   "metadata": {},
   "source": [
    "3. Определите, содержит ли строка символ ‘a’, за которым следует 1 или более символов ‘b’."
   ]
  },
  {
   "cell_type": "code",
   "execution_count": 20,
   "id": "9dd8079b-4947-43a9-b44b-5e14e9d4522e",
   "metadata": {},
   "outputs": [
    {
     "name": "stdin",
     "output_type": "stream",
     "text": [
      " cab\n"
     ]
    },
    {
     "name": "stdout",
     "output_type": "stream",
     "text": [
      "True\n"
     ]
    }
   ],
   "source": [
    "text = input()\n",
    "pattern = r'ab+'\n",
    "print(bool(re.search(pattern,text)))"
   ]
  },
  {
   "cell_type": "markdown",
   "id": "ac0bb607-edde-4d00-9181-dcff5019b182",
   "metadata": {},
   "source": [
    "4. Определите, содержит ли строка символ ‘a’, за которым следует 0 или 1 символ ‘b’."
   ]
  },
  {
   "cell_type": "code",
   "execution_count": 24,
   "id": "9e083f62-67a2-4fa9-a28b-d95eb1bf9794",
   "metadata": {},
   "outputs": [
    {
     "name": "stdin",
     "output_type": "stream",
     "text": [
      " sssssskjefng\n"
     ]
    },
    {
     "name": "stdout",
     "output_type": "stream",
     "text": [
      "False\n"
     ]
    }
   ],
   "source": [
    "text = input()\n",
    "pattern = r'ab{0,1}'\n",
    "print(bool(re.search(pattern,text)))"
   ]
  },
  {
   "cell_type": "code",
   "execution_count": 26,
   "id": "b4d40a44-07d6-49a3-aae6-2c26d424dfd0",
   "metadata": {},
   "outputs": [
    {
     "name": "stdin",
     "output_type": "stream",
     "text": [
      " aijfn\n"
     ]
    },
    {
     "name": "stdout",
     "output_type": "stream",
     "text": [
      "True\n"
     ]
    }
   ],
   "source": [
    "text = input()\n",
    "pattern = r'ab?'\n",
    "print(bool(re.search(pattern,text)))"
   ]
  },
  {
   "cell_type": "markdown",
   "id": "15a573e5-7249-47ab-8762-860f559b688d",
   "metadata": {},
   "source": [
    "5. Определите, содержит ли строка символ z."
   ]
  },
  {
   "cell_type": "code",
   "execution_count": 29,
   "id": "2706f0eb-dc17-4e00-b5b1-6f29c13ff88c",
   "metadata": {},
   "outputs": [
    {
     "name": "stdin",
     "output_type": "stream",
     "text": [
      " isbdfuigbui iubnzfg\n"
     ]
    },
    {
     "name": "stdout",
     "output_type": "stream",
     "text": [
      "True\n"
     ]
    }
   ],
   "source": [
    "text = input()\n",
    "pattern = r'z'\n",
    "print(bool(re.search(pattern,text)))"
   ]
  },
  {
   "cell_type": "markdown",
   "id": "b971744d-c74f-4123-b932-6fbcdd6253e3",
   "metadata": {},
   "source": [
    "6. Определите, содержит ли строка только буквы, цифры и символ подчеркивания. "
   ]
  },
  {
   "cell_type": "code",
   "execution_count": 34,
   "id": "6a8cdd18-6a6b-4dd6-8ddb-0de7432bb813",
   "metadata": {},
   "outputs": [
    {
     "name": "stdin",
     "output_type": "stream",
     "text": [
      " hysdgf123jnfd\n"
     ]
    },
    {
     "name": "stdout",
     "output_type": "stream",
     "text": [
      "True\n"
     ]
    }
   ],
   "source": [
    "text = input()\n",
    "pattern = r'^[a-zA-Z0-9_]+$'\n",
    "print(bool(re.search(pattern,text)))"
   ]
  },
  {
   "cell_type": "markdown",
   "id": "abac6827-7337-40f8-946a-89ba417411c2",
   "metadata": {},
   "source": [
    "7. Определите, начинается ли строка с заданного числа. "
   ]
  },
  {
   "cell_type": "code",
   "execution_count": 39,
   "id": "46d29c06-ecd6-4b45-8dff-b27a74341bbe",
   "metadata": {},
   "outputs": [
    {
     "name": "stdin",
     "output_type": "stream",
     "text": [
      "введите число 2\n",
      "введите текст мая2\n"
     ]
    },
    {
     "name": "stdout",
     "output_type": "stream",
     "text": [
      "False\n"
     ]
    }
   ],
   "source": [
    "number = input('введите число')\n",
    "text = input('введите текст')\n",
    "pattern = f'{number}'\n",
    "print(bool(re.match(pattern,text)))"
   ]
  },
  {
   "cell_type": "markdown",
   "id": "f1ae91c9-5e89-47b4-aebb-77ec83e4651a",
   "metadata": {},
   "source": [
    "8. Напишите программу, которая удаляет нули (0) перед цифрами в IP адресе. Например, “192.01.001.10”  → “192.1.1.10”"
   ]
  },
  {
   "cell_type": "code",
   "execution_count": null,
   "id": "a3ccd918-1648-49ba-9b09-ad8ee5589f76",
   "metadata": {},
   "outputs": [],
   "source": [
    "text = input()\n",
    "pattern = r'\\.0+\\d'\n",
    "print(re.sub(pattern,text))"
   ]
  },
  {
   "cell_type": "code",
   "execution_count": 45,
   "id": "c0272c06-9e18-4b1f-a35a-010989d6fcc9",
   "metadata": {},
   "outputs": [
    {
     "name": "stdin",
     "output_type": "stream",
     "text": [
      " 192.01.001.10\n"
     ]
    },
    {
     "name": "stdout",
     "output_type": "stream",
     "text": [
      "192.1.1.10\n"
     ]
    }
   ],
   "source": [
    "text = input()\n",
    "pattern = r'\\b0+(\\d+)\\b'\n",
    "print(re.sub(pattern,r'\\1',text))\n"
   ]
  },
  {
   "cell_type": "code",
   "execution_count": null,
   "id": "9c8fba85-8885-4176-9d2f-6ad97c967a4c",
   "metadata": {},
   "outputs": [],
   "source": []
  },
  {
   "cell_type": "markdown",
   "id": "83e81430-3ceb-43d6-a46f-26d994911b88",
   "metadata": {},
   "source": [
    "9. Определите, содержит ли строка цифры в конце."
   ]
  },
  {
   "cell_type": "code",
   "execution_count": 47,
   "id": "c79d6c9d-de76-45b8-9acf-6fe1cf5f3141",
   "metadata": {},
   "outputs": [
    {
     "name": "stdin",
     "output_type": "stream",
     "text": [
      " iahdfbiudf\n"
     ]
    },
    {
     "name": "stdout",
     "output_type": "stream",
     "text": [
      "False\n"
     ]
    }
   ],
   "source": [
    "text = input()\n",
    "pattern = r'[0-9]$'\n",
    "print(bool(re.search(pattern,text)))"
   ]
  },
  {
   "cell_type": "code",
   "execution_count": 48,
   "id": "2fb8825c-dc32-4728-b7e9-3fc232a915b2",
   "metadata": {},
   "outputs": [
    {
     "name": "stdin",
     "output_type": "stream",
     "text": [
      " sijhbgf7\n"
     ]
    },
    {
     "name": "stdout",
     "output_type": "stream",
     "text": [
      "True\n"
     ]
    }
   ],
   "source": [
    "text = input()\n",
    "pattern = r'\\d$'\n",
    "print(bool(re.search(pattern,text)))"
   ]
  },
  {
   "cell_type": "markdown",
   "id": "993e82cb-9512-4d47-bca6-e3bd683dce67",
   "metadata": {},
   "source": [
    "10. Найдите вхождения и позиции подстроки в строке. Пример: строка “Домашние задания, задания в классе, отпускные задания”, подстрока “задания”, вывод “задания” на 9:15, “задания” на 18:24, “задания” на 46:52."
   ]
  },
  {
   "cell_type": "code",
   "execution_count": 51,
   "id": "c3699cdb-f10b-41ba-85e7-f1f144de0214",
   "metadata": {},
   "outputs": [
    {
     "name": "stdin",
     "output_type": "stream",
     "text": [
      " Домашние задания, задания в классе, отпускные задания\n"
     ]
    },
    {
     "name": "stdout",
     "output_type": "stream",
     "text": [
      "['10:16', '19:25', '47:53']\n"
     ]
    }
   ],
   "source": [
    "text = input()\n",
    "pattern = re.compile(r'задания', flags=re.IGNORECASE)\n",
    "matches = pattern.finditer(text)\n",
    "\n",
    "results = [f'{match.start()+1}:{match.end()}'  for match in matches]\n",
    "print(results)"
   ]
  },
  {
   "cell_type": "code",
   "execution_count": 53,
   "id": "738a3f5f-7603-43ce-b59b-eb96667fa090",
   "metadata": {},
   "outputs": [
    {
     "name": "stdin",
     "output_type": "stream",
     "text": [
      " Домашние задания, задания в классе, отпускные задания\n"
     ]
    },
    {
     "name": "stdout",
     "output_type": "stream",
     "text": [
      "Найденное значение 1-го совпадения: 9:16\n",
      "Найденное значение 2-го совпадения: 18:25\n",
      "Найденное значение 3-го совпадения: 46:53\n"
     ]
    }
   ],
   "source": [
    "text = input()\n",
    "pattern = re.compile(r'задания', flags=re.IGNORECASE)\n",
    "matches = pattern.finditer(text)\n",
    "for i,match in enumerate(matches):\n",
    "    print(f'Найденное значение {i+1}-го совпадения: {match.start()}:{match.end()}')\n",
    "    "
   ]
  },
  {
   "cell_type": "code",
   "execution_count": null,
   "id": "b9af4929-2bb7-4fd0-b5fa-13c43e80710e",
   "metadata": {},
   "outputs": [],
   "source": []
  },
  {
   "cell_type": "markdown",
   "id": "457e8bef-4fe6-463e-b442-c8b5240a95e7",
   "metadata": {},
   "source": [
    "11. Напишите программу, которая заменяет пробелы подчеркиваниями и обратно. "
   ]
  },
  {
   "cell_type": "code",
   "execution_count": 58,
   "id": "29009bbb-c5cd-429a-94e9-466b9ef6802a",
   "metadata": {},
   "outputs": [
    {
     "name": "stdin",
     "output_type": "stream",
     "text": [
      " Это просто_пример\n"
     ]
    },
    {
     "name": "stdout",
     "output_type": "stream",
     "text": [
      "Это_просто_пример\n"
     ]
    }
   ],
   "source": [
    "text = input()\n",
    "if re.search(r' ',text):\n",
    "    print(re.sub(r' ','_',text))\n",
    "elif re.search(r'_',text):\n",
    "    print(re.sub(r'_',' ',text))\n",
    "else:\n",
    "    print(text)"
   ]
  },
  {
   "cell_type": "markdown",
   "id": "6f6500f3-01a0-4347-9c2b-4430f7b5b538",
   "metadata": {},
   "source": [
    "12. Частью URL часто является дата в формате 2016/09/02. Например, https://www.somesite.com/news/2024/01/22/article.html. Найдите все даты в URL такого вида. Вывод может выглядеть так [('2024', '01', '22')]. "
   ]
  },
  {
   "cell_type": "code",
   "execution_count": null,
   "id": "1af8f557-9ec2-4849-9d35-79088ec31284",
   "metadata": {},
   "outputs": [],
   "source": []
  },
  {
   "cell_type": "markdown",
   "id": "373a99e7-6a4e-48a9-8f4e-fd3066d6acd8",
   "metadata": {},
   "source": [
    "13. Напишите программу, которая конвертирует дату в формате yyyy-mm-dd в формат dd-mm-yyyy."
   ]
  },
  {
   "cell_type": "code",
   "execution_count": null,
   "id": "dc66ca46-b1ef-4093-9d8b-a1da98202f2f",
   "metadata": {},
   "outputs": [],
   "source": []
  },
  {
   "cell_type": "markdown",
   "id": "ad274775-a210-428b-a00b-6c7f98333702",
   "metadata": {},
   "source": [
    "14. Напишите программу, которая отделяет и печатает цифры в заданной строке. Например, для строки \"Ten 10, Twenty 20, Thirty 30\" должно быть выведено 10, 20, 30."
   ]
  },
  {
   "cell_type": "code",
   "execution_count": null,
   "id": "8d3fa6ae-5198-4ff0-87a6-7880e58f8c3b",
   "metadata": {},
   "outputs": [],
   "source": []
  },
  {
   "cell_type": "markdown",
   "id": "a24bf075-1c48-4418-acd6-e40f495856c6",
   "metadata": {},
   "source": [
    "15. Напишите программу, которая выводит все слова, начинающиеся на букву ‘a’ и ‘e’ в заданном предложении. "
   ]
  },
  {
   "cell_type": "code",
   "execution_count": null,
   "id": "f661d74f-fa3a-4877-9aa9-173df4d64fe3",
   "metadata": {},
   "outputs": [],
   "source": []
  },
  {
   "cell_type": "markdown",
   "id": "9ed57e0f-5f09-49b3-8631-f16aebacd4b8",
   "metadata": {},
   "source": [
    "16. Напишите программу, которая печатает цифры и их позиции в заданной строке текста. "
   ]
  },
  {
   "cell_type": "code",
   "execution_count": null,
   "id": "b05f400f-42b0-4c08-beb6-424b1ce46079",
   "metadata": {},
   "outputs": [],
   "source": []
  },
  {
   "cell_type": "markdown",
   "id": "5ea6e74f-4309-40c9-8404-5d10f3c12958",
   "metadata": {},
   "source": [
    "17. Напишите программу, которая сокращает Strasse на Str. в заданной строке, например, “Flensburger Strasse” → “Flensburger Str.”."
   ]
  },
  {
   "cell_type": "code",
   "execution_count": null,
   "id": "6610da63-221f-46f2-9ea3-077a28c68c23",
   "metadata": {},
   "outputs": [],
   "source": []
  },
  {
   "cell_type": "markdown",
   "id": "4dc25334-549a-4c8c-a0d8-2d14e4ae5315",
   "metadata": {},
   "source": [
    "18. Напишите программу, которая заменяет все вхождения пробела, запятой или точки подчеркиванием."
   ]
  },
  {
   "cell_type": "code",
   "execution_count": null,
   "id": "44fe7b76-5a7d-4f6a-8081-0b1e0572eb6f",
   "metadata": {},
   "outputs": [],
   "source": []
  },
  {
   "cell_type": "markdown",
   "id": "73634769-9a1a-4f7e-a16f-12a851bc27e3",
   "metadata": {},
   "source": [
    "19. Напишите программу, которая находит все слова длины 3 в заданном предложении. "
   ]
  },
  {
   "cell_type": "code",
   "execution_count": null,
   "id": "9939c97a-f2b7-44cb-8ea2-44acf21b273d",
   "metadata": {},
   "outputs": [],
   "source": []
  },
  {
   "cell_type": "markdown",
   "id": "0cb2343d-b3ee-4360-a048-96a94d9671c4",
   "metadata": {},
   "source": [
    "20. Напишите программу, которая находит все слова длины 3, 4 и 5 символов в заданном предложении. "
   ]
  },
  {
   "cell_type": "code",
   "execution_count": null,
   "id": "35f924c3-81db-40ce-9b98-9a14d6f5d772",
   "metadata": {},
   "outputs": [],
   "source": []
  },
  {
   "cell_type": "markdown",
   "id": "4c5c6075-7f03-4a84-88b1-700b0a477f06",
   "metadata": {},
   "source": [
    "21. Напишите программу, которая превращает camel-case строку в snake-case строку, например, “ПайтонПрограммист” -> “пайтон_программист”."
   ]
  },
  {
   "cell_type": "code",
   "execution_count": null,
   "id": "ca6b2ab4-bd4b-41fb-b543-7b8ec58353a7",
   "metadata": {},
   "outputs": [],
   "source": []
  },
  {
   "cell_type": "markdown",
   "id": "0b39cc5f-4f1c-414d-8384-92c61a621486",
   "metadata": {},
   "source": [
    "22. Напишите программу, которая выводит значения между кавычками в строке. Например, \"Python\", \"PHP\", \"Java\" -> [‘Python’, ‘PHP’, ‘Java’]."
   ]
  },
  {
   "cell_type": "code",
   "execution_count": null,
   "id": "4a8a3b04-a061-4ede-a21a-9d6126d8ad18",
   "metadata": {},
   "outputs": [],
   "source": []
  },
  {
   "cell_type": "markdown",
   "id": "dd255053-afe6-4fc9-84b6-8f4ab00ea628",
   "metadata": {},
   "source": [
    "23. Напишите программу, которая удаляет несколько идущих подряд пробелов из строки, заменяя их одним пробелом. “Hello     World” -> “Hello World”."
   ]
  },
  {
   "cell_type": "code",
   "execution_count": null,
   "id": "fd0cf9a5-a803-4d42-b5a6-651cf5290c1e",
   "metadata": {},
   "outputs": [],
   "source": []
  },
  {
   "cell_type": "markdown",
   "id": "d18ce848-6841-4bb9-98ad-ac08ccbcbee5",
   "metadata": {},
   "source": [
    "24. Напишите программу, которая удаляет все пробелы из строки. "
   ]
  },
  {
   "cell_type": "code",
   "execution_count": null,
   "id": "a07e404e-d2ec-47c4-8ed9-44f525b1e108",
   "metadata": {},
   "outputs": [],
   "source": []
  },
  {
   "cell_type": "markdown",
   "id": "853b6d13-fc75-4c21-9cee-7962d48649ce",
   "metadata": {},
   "source": [
    "25. Напишите программу, которая заменяет в тексте все слова, начинающиеся на ‘х’ или ‘f’ на звездочки.  "
   ]
  },
  {
   "cell_type": "code",
   "execution_count": null,
   "id": "2289b98f-3515-4642-b5c1-8192e86c9243",
   "metadata": {},
   "outputs": [],
   "source": []
  }
 ],
 "metadata": {
  "kernelspec": {
   "display_name": "Python 3 (ipykernel)",
   "language": "python",
   "name": "python3"
  },
  "language_info": {
   "codemirror_mode": {
    "name": "ipython",
    "version": 3
   },
   "file_extension": ".py",
   "mimetype": "text/x-python",
   "name": "python",
   "nbconvert_exporter": "python",
   "pygments_lexer": "ipython3",
   "version": "3.12.4"
  }
 },
 "nbformat": 4,
 "nbformat_minor": 5
}
