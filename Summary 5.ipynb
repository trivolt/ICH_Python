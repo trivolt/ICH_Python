{
 "cells": [
  {
   "cell_type": "markdown",
   "id": "533725e3-0336-4cbf-999e-00ab369e8914",
   "metadata": {},
   "source": [
    "# Summary 5 (строки)"
   ]
  },
  {
   "cell_type": "markdown",
   "id": "dabeb8bb-1513-4dde-905d-c0c3589ed60a",
   "metadata": {},
   "source": [
    "### Записи строк"
   ]
  },
  {
   "cell_type": "code",
   "execution_count": 8,
   "id": "65908afe-7597-436e-b8e2-93c93db9f439",
   "metadata": {},
   "outputs": [
    {
     "name": "stdout",
     "output_type": "stream",
     "text": [
      "текст\n"
     ]
    }
   ],
   "source": [
    "text = 'текст'\n",
    "print(text)"
   ]
  },
  {
   "cell_type": "code",
   "execution_count": 9,
   "id": "81232004-bdc5-4a2d-a097-9cf3ba05e547",
   "metadata": {},
   "outputs": [
    {
     "name": "stdout",
     "output_type": "stream",
     "text": [
      "текст\n"
     ]
    }
   ],
   "source": [
    "text = \"текст\"\n",
    "print(text)"
   ]
  },
  {
   "cell_type": "code",
   "execution_count": 10,
   "id": "fd947d83-0f20-4712-9fee-ea79046037ef",
   "metadata": {},
   "outputs": [
    {
     "name": "stdout",
     "output_type": "stream",
     "text": [
      "текст\n"
     ]
    }
   ],
   "source": [
    "text = \"\"\"текст\"\"\"\n",
    "print(text)"
   ]
  },
  {
   "cell_type": "code",
   "execution_count": 11,
   "id": "40ff0c46-78ed-4623-8f6b-45c4513f5421",
   "metadata": {},
   "outputs": [
    {
     "name": "stdout",
     "output_type": "stream",
     "text": [
      "текст\n"
     ]
    }
   ],
   "source": [
    "text = '''текст'''\n",
    "print(text)"
   ]
  },
  {
   "cell_type": "code",
   "execution_count": null,
   "id": "32bafb2c-34b5-44c5-84c7-8fc3b46a41db",
   "metadata": {},
   "outputs": [],
   "source": [
    "text = 'текст'\n",
    "print(text)"
   ]
  },
  {
   "cell_type": "code",
   "execution_count": 12,
   "id": "1c8c1c87-13fe-4e15-8700-73773ab91b31",
   "metadata": {},
   "outputs": [
    {
     "name": "stdout",
     "output_type": "stream",
     "text": [
      "Строка 1\n",
      "Строка 2\n",
      "Строка 3\n",
      "\n",
      "Абзац 5\n"
     ]
    }
   ],
   "source": [
    "text = '''Строка 1\n",
    "Строка 2\n",
    "Строка 3\n",
    "\n",
    "Абзац 5'''\n",
    "\n",
    "print(text)"
   ]
  },
  {
   "cell_type": "markdown",
   "id": "739b25ee-4bbf-4da2-932b-979e3058ddaa",
   "metadata": {},
   "source": [
    "### Создание сторок с кавачками в тексте"
   ]
  },
  {
   "cell_type": "code",
   "execution_count": 14,
   "id": "9b14f98c-3a84-43b5-a0be-76e77e41cfe9",
   "metadata": {},
   "outputs": [
    {
     "name": "stdout",
     "output_type": "stream",
     "text": [
      "Dragon's mother said \"No\"\n"
     ]
    }
   ],
   "source": [
    "print('Dragon\\'s mother said \"No\"')"
   ]
  },
  {
   "cell_type": "code",
   "execution_count": 16,
   "id": "8ce16f6c-45ac-4a3d-b774-40512cc76f51",
   "metadata": {},
   "outputs": [
    {
     "name": "stdout",
     "output_type": "stream",
     "text": [
      "Dragon's mother said \"No\"\n"
     ]
    }
   ],
   "source": [
    "print(\"Dragon's mother said \\\"No\\\"\")"
   ]
  },
  {
   "cell_type": "code",
   "execution_count": 17,
   "id": "21b09acf-5c30-431f-a63a-7c71689e706b",
   "metadata": {},
   "outputs": [
    {
     "name": "stdout",
     "output_type": "stream",
     "text": [
      "Dragon's mother said \"No\"\n"
     ]
    }
   ],
   "source": [
    "print('''Dragon's mother said \"No\"''')"
   ]
  },
  {
   "cell_type": "markdown",
   "id": "9a05c6ce-6e8f-4f52-92ac-1d3570c2abe2",
   "metadata": {},
   "source": [
    "### Приведение типов"
   ]
  },
  {
   "cell_type": "code",
   "execution_count": 20,
   "id": "8b967989-f8f2-4679-a233-00b1a8b01d5a",
   "metadata": {},
   "outputs": [
    {
     "name": "stdout",
     "output_type": "stream",
     "text": [
      "61.5\n"
     ]
    }
   ],
   "source": [
    "text = '123'\n",
    "print(int(text)/2)"
   ]
  },
  {
   "cell_type": "code",
   "execution_count": 21,
   "id": "89b967e3-a013-4391-9f49-da487bd19fc1",
   "metadata": {},
   "outputs": [
    {
     "name": "stdout",
     "output_type": "stream",
     "text": [
      "61.615\n"
     ]
    }
   ],
   "source": [
    "text = '123.23'\n",
    "print(float(text)/2)"
   ]
  },
  {
   "cell_type": "code",
   "execution_count": 23,
   "id": "6d705f5e-068d-401d-a609-c754a65efc0f",
   "metadata": {},
   "outputs": [
    {
     "name": "stdout",
     "output_type": "stream",
     "text": [
      "True\n"
     ]
    }
   ],
   "source": [
    "text = ' '\n",
    "print(bool(text))"
   ]
  },
  {
   "cell_type": "code",
   "execution_count": 25,
   "id": "e34400e2-a222-43b2-b674-a2a8828579af",
   "metadata": {},
   "outputs": [
    {
     "ename": "TypeError",
     "evalue": "unsupported operand type(s) for /: 'str' and 'int'",
     "output_type": "error",
     "traceback": [
      "\u001b[1;31m---------------------------------------------------------------------------\u001b[0m",
      "\u001b[1;31mTypeError\u001b[0m                                 Traceback (most recent call last)",
      "Cell \u001b[1;32mIn[25], line 2\u001b[0m\n\u001b[0;32m      1\u001b[0m a \u001b[38;5;241m=\u001b[39m \u001b[38;5;241m123.23\u001b[39m\n\u001b[1;32m----> 2\u001b[0m \u001b[38;5;28mprint\u001b[39m(\u001b[38;5;28mstr\u001b[39m(a)\u001b[38;5;241m/\u001b[39m\u001b[38;5;241m2\u001b[39m)\n",
      "\u001b[1;31mTypeError\u001b[0m: unsupported operand type(s) for /: 'str' and 'int'"
     ]
    }
   ],
   "source": [
    "a = 123.23\n",
    "print(str(a)/2)"
   ]
  },
  {
   "cell_type": "markdown",
   "id": "8a26bab7-106a-4366-85c7-9fa8e6e66234",
   "metadata": {},
   "source": [
    "### Арифметические операции со строками"
   ]
  },
  {
   "cell_type": "code",
   "execution_count": 27,
   "id": "abb9c5a7-638a-4d55-813a-0c2576fe4683",
   "metadata": {},
   "outputs": [
    {
     "name": "stdout",
     "output_type": "stream",
     "text": [
      "Привет Привет\n"
     ]
    }
   ],
   "source": [
    "text = 'Привет'\n",
    "print(text+' '+text)"
   ]
  },
  {
   "cell_type": "code",
   "execution_count": 29,
   "id": "87b708f1-308d-4a41-9bb3-2c082c66fc7a",
   "metadata": {},
   "outputs": [
    {
     "name": "stdout",
     "output_type": "stream",
     "text": [
      "Привет Привет Привет \n"
     ]
    }
   ],
   "source": [
    "text = 'Привет'\n",
    "print((text+' ')*3)"
   ]
  },
  {
   "cell_type": "markdown",
   "id": "fc70c560-37d6-4cbf-8bd7-c16127f4d20b",
   "metadata": {},
   "source": [
    "### Функции работа со строками len() ord() chr()"
   ]
  },
  {
   "cell_type": "code",
   "execution_count": 30,
   "id": "b4a13bcf-6004-4510-8607-a16eb231fea5",
   "metadata": {},
   "outputs": [
    {
     "name": "stdout",
     "output_type": "stream",
     "text": [
      "12\n"
     ]
    }
   ],
   "source": [
    "text = 'Hello world!'\n",
    "print(len(text))"
   ]
  },
  {
   "cell_type": "code",
   "execution_count": 34,
   "id": "a8568919-3075-4a3c-b102-c1b27101ad81",
   "metadata": {},
   "outputs": [
    {
     "data": {
      "text/plain": [
       "97"
      ]
     },
     "execution_count": 34,
     "metadata": {},
     "output_type": "execute_result"
    }
   ],
   "source": [
    "ord('a')"
   ]
  },
  {
   "cell_type": "code",
   "execution_count": 35,
   "id": "870c8c89-6300-45df-9c07-3d7fb9dc4e75",
   "metadata": {},
   "outputs": [
    {
     "data": {
      "text/plain": [
       "'a'"
      ]
     },
     "execution_count": 35,
     "metadata": {},
     "output_type": "execute_result"
    }
   ],
   "source": [
    "chr(97)"
   ]
  },
  {
   "cell_type": "markdown",
   "id": "bab5184d-84f3-40a6-b114-c07a57bf22c3",
   "metadata": {},
   "source": [
    "### Таблица ASCII"
   ]
  },
  {
   "cell_type": "code",
   "execution_count": 38,
   "id": "c2cf61a1-fb08-4ef3-a64f-38aca66686e5",
   "metadata": {},
   "outputs": [
    {
     "name": "stdout",
     "output_type": "stream",
     "text": [
      "Привет мир ੥\n"
     ]
    }
   ],
   "source": [
    "print('Привет мир',chr(2661))"
   ]
  },
  {
   "cell_type": "markdown",
   "id": "c460bd28-3cde-48b8-948a-6d1594690346",
   "metadata": {},
   "source": [
    "### Сравнение строк. Лексикографический порядок"
   ]
  },
  {
   "cell_type": "code",
   "execution_count": 41,
   "id": "d9319112-ba57-49b2-b365-756c1f71d90f",
   "metadata": {},
   "outputs": [
    {
     "name": "stdout",
     "output_type": "stream",
     "text": [
      "True\n"
     ]
    }
   ],
   "source": [
    "t1 = 'abcс'\n",
    "t2 = 'abcaaa'\n",
    "print(t1 != t2)"
   ]
  },
  {
   "cell_type": "code",
   "execution_count": 42,
   "id": "d86ca915-71b9-440d-9ce2-846c367780b3",
   "metadata": {},
   "outputs": [
    {
     "name": "stdout",
     "output_type": "stream",
     "text": [
      "True\n"
     ]
    }
   ],
   "source": [
    "t1 = 'abcс'\n",
    "t2 = 'abcaaa'\n",
    "print(t1 > t2)"
   ]
  },
  {
   "cell_type": "markdown",
   "id": "cd366ed8-d1ba-4aad-8c16-a3cdff5270d9",
   "metadata": {},
   "source": [
    "### Оператор in"
   ]
  },
  {
   "cell_type": "code",
   "execution_count": 44,
   "id": "efb10e07-9f0b-40cd-88bb-c0d1592c9e0a",
   "metadata": {},
   "outputs": [
    {
     "name": "stdout",
     "output_type": "stream",
     "text": [
      "True\n"
     ]
    }
   ],
   "source": [
    "text = 'Привет мир'\n",
    "print('Привет' in text)"
   ]
  },
  {
   "cell_type": "markdown",
   "id": "12dd5f3c-2fdb-4aef-ada2-8e42d5735ba9",
   "metadata": {},
   "source": [
    "### Доступ к элементам по индексам"
   ]
  },
  {
   "cell_type": "code",
   "execution_count": 47,
   "id": "94d65de4-7caf-42d5-9403-d2bff751af7f",
   "metadata": {},
   "outputs": [
    {
     "name": "stdout",
     "output_type": "stream",
     "text": [
      "и\n"
     ]
    }
   ],
   "source": [
    "text = 'Привет мир'\n",
    "print(text[-2])"
   ]
  },
  {
   "cell_type": "markdown",
   "id": "55a1156c-9451-41f7-a188-88cd023828a1",
   "metadata": {},
   "source": [
    "Задача: Начинается ли слово с заглавной буквы (слово написано латинскими буквами)"
   ]
  },
  {
   "cell_type": "code",
   "execution_count": 49,
   "id": "57f8bf66-ebb4-48af-93f9-e7b004ff042a",
   "metadata": {},
   "outputs": [
    {
     "name": "stdout",
     "output_type": "stream",
     "text": [
      "да\n"
     ]
    }
   ],
   "source": [
    "text = 'Hello'\n",
    "\n",
    "if 'A'<= text[0] <='Z':\n",
    "    print('да')\n",
    "else:\n",
    "    print('нет')"
   ]
  },
  {
   "cell_type": "markdown",
   "id": "decd457e-ce03-41e2-a373-2e5b96653ab6",
   "metadata": {},
   "source": [
    "### Неизменяемость строк"
   ]
  },
  {
   "cell_type": "code",
   "execution_count": 50,
   "id": "f22dda25-dd31-419b-b651-e66d93255651",
   "metadata": {},
   "outputs": [
    {
     "ename": "TypeError",
     "evalue": "'str' object does not support item assignment",
     "output_type": "error",
     "traceback": [
      "\u001b[1;31m---------------------------------------------------------------------------\u001b[0m",
      "\u001b[1;31mTypeError\u001b[0m                                 Traceback (most recent call last)",
      "Cell \u001b[1;32mIn[50], line 2\u001b[0m\n\u001b[0;32m      1\u001b[0m text \u001b[38;5;241m=\u001b[39m \u001b[38;5;124m'\u001b[39m\u001b[38;5;124mHello\u001b[39m\u001b[38;5;124m'\u001b[39m\n\u001b[1;32m----> 2\u001b[0m text[\u001b[38;5;241m0\u001b[39m] \u001b[38;5;241m=\u001b[39m \u001b[38;5;124m'\u001b[39m\u001b[38;5;124mO\u001b[39m\u001b[38;5;124m'\u001b[39m\n",
      "\u001b[1;31mTypeError\u001b[0m: 'str' object does not support item assignment"
     ]
    }
   ],
   "source": [
    "text = 'Hello'\n",
    "text[0] = 'O'"
   ]
  },
  {
   "cell_type": "markdown",
   "id": "91268519-cf14-4702-b0ca-0bda7b043ffe",
   "metadata": {},
   "source": [
    "### Срезы"
   ]
  },
  {
   "cell_type": "markdown",
   "id": "f1e8070e-af44-4481-ad06-8067b75614a2",
   "metadata": {},
   "source": [
    "text[ начало : конца : шаг]"
   ]
  },
  {
   "cell_type": "code",
   "execution_count": 51,
   "id": "9f692b56-d637-429c-9dc8-851c74d6b41e",
   "metadata": {},
   "outputs": [
    {
     "data": {
      "text/plain": [
       "'Hello'"
      ]
     },
     "execution_count": 51,
     "metadata": {},
     "output_type": "execute_result"
    }
   ],
   "source": [
    "text"
   ]
  },
  {
   "cell_type": "code",
   "execution_count": 52,
   "id": "d7f1483b-83d0-45b8-9adc-ffcfe87c7d86",
   "metadata": {},
   "outputs": [
    {
     "data": {
      "text/plain": [
       "'ell'"
      ]
     },
     "execution_count": 52,
     "metadata": {},
     "output_type": "execute_result"
    }
   ],
   "source": [
    "text[1:-1:1]"
   ]
  },
  {
   "cell_type": "code",
   "execution_count": 55,
   "id": "3d1232ce-009f-4ab8-a310-7a34cf6beb0e",
   "metadata": {},
   "outputs": [
    {
     "data": {
      "text/plain": [
       "'Hlo'"
      ]
     },
     "execution_count": 55,
     "metadata": {},
     "output_type": "execute_result"
    }
   ],
   "source": [
    "text[::2]"
   ]
  },
  {
   "cell_type": "code",
   "execution_count": 56,
   "id": "219d58e8-ed56-4d72-a901-28a1a8f7537d",
   "metadata": {},
   "outputs": [
    {
     "data": {
      "text/plain": [
       "'ell'"
      ]
     },
     "execution_count": 56,
     "metadata": {},
     "output_type": "execute_result"
    }
   ],
   "source": [
    "text[1:-1]"
   ]
  },
  {
   "cell_type": "code",
   "execution_count": null,
   "id": "89d0e5a9-46a7-4188-8e65-ae7513685bab",
   "metadata": {},
   "outputs": [],
   "source": []
  },
  {
   "cell_type": "markdown",
   "id": "ae4e7e02-ebe4-4546-bb0b-59f284a00a1d",
   "metadata": {},
   "source": [
    "Задача: Выделите номер часа из даты следующего формата\n"
   ]
  },
  {
   "cell_type": "code",
   "execution_count": 58,
   "id": "830ce211-e6e4-46a7-93a2-753cf20240f7",
   "metadata": {},
   "outputs": [],
   "source": [
    "date = '2022-08-27T23:59:00.932'"
   ]
  },
  {
   "cell_type": "code",
   "execution_count": 59,
   "id": "efab3f48-f9c7-4d5c-bb5c-9b68af2c23e0",
   "metadata": {},
   "outputs": [
    {
     "data": {
      "text/plain": [
       "'23'"
      ]
     },
     "execution_count": 59,
     "metadata": {},
     "output_type": "execute_result"
    }
   ],
   "source": [
    "date[11:13]"
   ]
  },
  {
   "cell_type": "code",
   "execution_count": null,
   "id": "e258a29a-d6ac-44ff-ab7d-8be8c8e7b88f",
   "metadata": {},
   "outputs": [],
   "source": [
    "Задача: переверните строку"
   ]
  },
  {
   "cell_type": "code",
   "execution_count": 60,
   "id": "a8f33aa5-397c-488d-836c-8fb668436e51",
   "metadata": {},
   "outputs": [],
   "source": [
    "text = 'hello'"
   ]
  },
  {
   "cell_type": "code",
   "execution_count": 61,
   "id": "f7ae65ba-021a-4dce-98e9-14a66e07c14f",
   "metadata": {},
   "outputs": [
    {
     "data": {
      "text/plain": [
       "'olleh'"
      ]
     },
     "execution_count": 61,
     "metadata": {},
     "output_type": "execute_result"
    }
   ],
   "source": [
    "text[::-1]"
   ]
  },
  {
   "cell_type": "markdown",
   "id": "4ae37986-8f2d-43c3-8a15-7204d26436cd",
   "metadata": {},
   "source": [
    "# Методы строк"
   ]
  },
  {
   "cell_type": "code",
   "execution_count": null,
   "id": "7ca47aa9-a70a-4936-9ac7-1c34415c5ff6",
   "metadata": {},
   "outputs": [],
   "source": [
    "имя_переменной.имя_метода(арг1б арг2,...)"
   ]
  },
  {
   "cell_type": "markdown",
   "id": "77883d7d-ffca-43a9-9d60-682f88510151",
   "metadata": {},
   "source": [
    "### Поиск подстроки в строке"
   ]
  },
  {
   "cell_type": "code",
   "execution_count": 64,
   "id": "24a2ddb3-9a53-4207-878b-9eed47f14a88",
   "metadata": {},
   "outputs": [
    {
     "name": "stdout",
     "output_type": "stream",
     "text": [
      "3\n"
     ]
    }
   ],
   "source": [
    "text = 'Hello world'\n",
    "print(text.find('l'))"
   ]
  },
  {
   "cell_type": "code",
   "execution_count": 65,
   "id": "79011367-8fbe-44fe-b676-b2531103dcb0",
   "metadata": {},
   "outputs": [
    {
     "ename": "ValueError",
     "evalue": "substring not found",
     "output_type": "error",
     "traceback": [
      "\u001b[1;31m---------------------------------------------------------------------------\u001b[0m",
      "\u001b[1;31mValueError\u001b[0m                                Traceback (most recent call last)",
      "Cell \u001b[1;32mIn[65], line 2\u001b[0m\n\u001b[0;32m      1\u001b[0m text \u001b[38;5;241m=\u001b[39m \u001b[38;5;124m'\u001b[39m\u001b[38;5;124mHello world\u001b[39m\u001b[38;5;124m'\u001b[39m\n\u001b[1;32m----> 2\u001b[0m \u001b[38;5;28mprint\u001b[39m(text\u001b[38;5;241m.\u001b[39mindex(\u001b[38;5;124m'\u001b[39m\u001b[38;5;124m!\u001b[39m\u001b[38;5;124m'\u001b[39m))\n",
      "\u001b[1;31mValueError\u001b[0m: substring not found"
     ]
    }
   ],
   "source": [
    "text = 'Hello world'\n",
    "print(text.index('!'))"
   ]
  },
  {
   "cell_type": "markdown",
   "id": "cd4d5abf-1c90-4a9b-9e8b-8faac6810c51",
   "metadata": {},
   "source": [
    "### Проверка условий относительно символов строки"
   ]
  },
  {
   "cell_type": "code",
   "execution_count": 69,
   "id": "fcf17a00-04f7-439d-9618-0590812a3817",
   "metadata": {},
   "outputs": [
    {
     "name": "stdout",
     "output_type": "stream",
     "text": [
      "True\n"
     ]
    }
   ],
   "source": [
    "text = 'hello world'\n",
    "print(text.islower())"
   ]
  },
  {
   "cell_type": "code",
   "execution_count": 71,
   "id": "0b0c7ac4-0369-4ae1-939f-ffa193ad7fbe",
   "metadata": {},
   "outputs": [
    {
     "name": "stdout",
     "output_type": "stream",
     "text": [
      "False\n"
     ]
    }
   ],
   "source": [
    "text = '1234 '\n",
    "print(text.isdigit())"
   ]
  },
  {
   "cell_type": "code",
   "execution_count": 73,
   "id": "461ee78c-99c4-4a5b-859b-88e11ceb00a3",
   "metadata": {},
   "outputs": [
    {
     "name": "stdout",
     "output_type": "stream",
     "text": [
      "True\n"
     ]
    }
   ],
   "source": [
    "text = 'hello world'\n",
    "print(text.startswith('hello'))"
   ]
  },
  {
   "cell_type": "markdown",
   "id": "a43af0ac-3472-4a3f-a95d-c8a122d23c36",
   "metadata": {},
   "source": [
    "### Работа с регистрами символов"
   ]
  },
  {
   "cell_type": "code",
   "execution_count": 74,
   "id": "0b7582ec-b01e-4072-b16f-fd61a0744ae0",
   "metadata": {},
   "outputs": [
    {
     "name": "stdout",
     "output_type": "stream",
     "text": [
      "HELLO WORLD\n",
      "hello world\n"
     ]
    }
   ],
   "source": [
    "text = 'hello world'\n",
    "print(text.upper())\n",
    "print(text)"
   ]
  },
  {
   "cell_type": "code",
   "execution_count": 75,
   "id": "193b8ecb-eb1b-4264-915e-772452d3109a",
   "metadata": {},
   "outputs": [
    {
     "name": "stdout",
     "output_type": "stream",
     "text": [
      "hello world\n"
     ]
    }
   ],
   "source": [
    "text = 'Hello world'.lower()\n",
    "print(text)"
   ]
  },
  {
   "cell_type": "markdown",
   "id": "b957f56d-31b6-4e06-9210-505f81d32c4a",
   "metadata": {},
   "source": [
    "### Метод replace"
   ]
  },
  {
   "cell_type": "code",
   "execution_count": 78,
   "id": "0f68f0d9-35a6-4124-9ed7-00b32effd739",
   "metadata": {},
   "outputs": [
    {
     "name": "stdout",
     "output_type": "stream",
     "text": [
      "goodby world goodby\n"
     ]
    }
   ],
   "source": [
    "text = 'hello world hello'\n",
    "text = text.replace('hello','goodby')\n",
    "print(text)"
   ]
  },
  {
   "cell_type": "code",
   "execution_count": 79,
   "id": "ea9fed5a-b32c-4691-a74c-12e9ee1d1fab",
   "metadata": {},
   "outputs": [
    {
     "name": "stdout",
     "output_type": "stream",
     "text": [
      " world \n"
     ]
    }
   ],
   "source": [
    "text = 'hello world hello'\n",
    "text = text.replace('hello','')\n",
    "print(text)"
   ]
  },
  {
   "cell_type": "markdown",
   "id": "6eadf5e1-c71a-40c4-be8c-aeb09b5506dc",
   "metadata": {},
   "source": [
    "### Методы разделения и соединения строки"
   ]
  },
  {
   "cell_type": "code",
   "execution_count": 83,
   "id": "9c3c38e4-dcae-46cc-ab0a-ceb61862b36a",
   "metadata": {},
   "outputs": [
    {
     "name": "stdout",
     "output_type": "stream",
     "text": [
      "['a', 'b', 'c', 'd', 'e', 'f', 'g']\n"
     ]
    }
   ],
   "source": [
    "text = 'a,b,c,d,e,f,g'\n",
    "print(text.split(','))"
   ]
  },
  {
   "cell_type": "code",
   "execution_count": 85,
   "id": "0ccd2e69-96f8-49a4-8645-8b468874c72b",
   "metadata": {},
   "outputs": [
    {
     "name": "stdout",
     "output_type": "stream",
     "text": [
      "a**b**c**d**e**f**g\n"
     ]
    }
   ],
   "source": [
    "text = 'a,b,c,d,e,f,g'\n",
    "sp = text.split(',')\n",
    "print('**'.join(sp))"
   ]
  },
  {
   "cell_type": "markdown",
   "id": "0126f425-44e8-4f8d-9719-b562002c0103",
   "metadata": {},
   "source": [
    "### Выравнивание строки"
   ]
  },
  {
   "cell_type": "code",
   "execution_count": 86,
   "id": "5d74a979-2ffc-4df4-b3ee-37005279072e",
   "metadata": {},
   "outputs": [
    {
     "name": "stdout",
     "output_type": "stream",
     "text": [
      "       123\n"
     ]
    }
   ],
   "source": [
    "text = '123'\n",
    "print(text.rjust(10))"
   ]
  },
  {
   "cell_type": "code",
   "execution_count": 87,
   "id": "d5d33897-4515-48dd-a8d0-5e7420f60143",
   "metadata": {},
   "outputs": [
    {
     "name": "stdout",
     "output_type": "stream",
     "text": [
      "   123    \n"
     ]
    }
   ],
   "source": [
    "text = '123'\n",
    "print(text.center(10))"
   ]
  },
  {
   "cell_type": "markdown",
   "id": "2e930348-a55b-4dc4-adb4-864428344574",
   "metadata": {},
   "source": [
    "### Удаление ненужных символов"
   ]
  },
  {
   "cell_type": "code",
   "execution_count": 95,
   "id": "c8aa9d25-0571-4a0b-beaa-9dd5acbef6f1",
   "metadata": {},
   "outputs": [
    {
     "name": "stdout",
     "output_type": "stream",
     "text": [
      "Ivanov\n"
     ]
    }
   ],
   "source": [
    "fio = '   Ivanov Ivan    '\n",
    "fio = fio.strip()\n",
    "ind = fio.find(' ')\n",
    "print(fio[:6])"
   ]
  },
  {
   "cell_type": "code",
   "execution_count": 96,
   "id": "bc23aa45-419b-4a08-9a66-693728796a2b",
   "metadata": {},
   "outputs": [
    {
     "name": "stdout",
     "output_type": "stream",
     "text": [
      "6\n"
     ]
    }
   ],
   "source": [
    "fio = '   Ivanov   Ivan    '\n",
    "fio = fio.strip()\n",
    "ind = fio.find(' ')\n",
    "print(ind)"
   ]
  },
  {
   "cell_type": "code",
   "execution_count": null,
   "id": "797467b8-3025-4311-a8c2-4ddf7c4555c4",
   "metadata": {},
   "outputs": [],
   "source": []
  },
  {
   "cell_type": "markdown",
   "id": "dc837b5e-695d-4aef-b1b0-fb68f4e80ed0",
   "metadata": {},
   "source": [
    "# Разбор ДЗ"
   ]
  },
  {
   "cell_type": "markdown",
   "id": "0d0d4344-8459-4ff0-bc0f-5ec7ac3219c5",
   "metadata": {},
   "source": [
    "### ДЗ 9"
   ]
  },
  {
   "cell_type": "markdown",
   "id": "be7f0798-582a-45f2-8e86-0690ed54be61",
   "metadata": {},
   "source": [
    "Напишите программу, которая запрашивает у пользователя строку и определяет, является ли она панграммой. \r\n",
    "Панграмма - это фраза, содержащая все буквы алфавита. \r\n",
    "\r\n",
    "Программа должна игнорировать регистр букв и пробелы при проверке панграммы. \r\n",
    "Выведите соответствующее сообщение на экран с помощью команды print. \r\n",
    "Решить задачу для латиницы.\r\n",
    "\r\n",
    "Пример вывода:\r\n",
    "\r\n",
    "Введите строку: The quick brown fox jumps over the lazy dog\r\n",
    "\r\n",
    "Строка является панграммой.\r\n"
   ]
  },
  {
   "cell_type": "code",
   "execution_count": null,
   "id": "0614e0cc-7762-4d1f-aaee-42d6fc5e80a0",
   "metadata": {},
   "outputs": [],
   "source": [
    "alphabet=\"ABCDEFGIJHKLMNOPQRSTUVWXYZAA\"\n",
    "s=input(\"Введите строку латиницей:\")\n",
    "i=0\n",
    "while i<len(alphabet):\n",
    "    if alphabet[i] in s.upper():\n",
    "        i+=1\n",
    "    else:\n",
    "        print(\"Это не панграмма\")\n",
    "        break\n",
    "else:\n",
    "    print(\"Это панграмма\")\n"
   ]
  },
  {
   "cell_type": "markdown",
   "id": "090d6948-9c46-40b1-9a04-d6c78ea38964",
   "metadata": {},
   "source": [
    "Напишите программу, которая запрашивает у пользователя строку и выводит на экран количество гласных и согласных букв в ней. \n",
    "Используйте функцию len() для подсчета количества букв. \n",
    "Выведите результат на экран с помощью команды print. \n",
    "Решить задачу для латиницы.\n",
    "\n",
    "Пример вывода:\n",
    "\n",
    "Введите строку: Hello World\n",
    "\n",
    "Количество гласных букв: 3\n",
    "\n",
    "Количество согласных букв: 7"
   ]
  },
  {
   "cell_type": "code",
   "execution_count": 7,
   "id": "a1963e06-eb29-4126-a620-260c44b6dff5",
   "metadata": {},
   "outputs": [
    {
     "name": "stdin",
     "output_type": "stream",
     "text": [
      "Введите строку латиницей: р\n"
     ]
    },
    {
     "name": "stdout",
     "output_type": "stream",
     "text": [
      "Гласных букв 0\n",
      "Согласных букв 0\n"
     ]
    }
   ],
   "source": [
    "aei=\"AEIOUY\"\n",
    "bcd=\"BCDFGJHKLMNPQRSTVWXZ\"\n",
    "s=input(\"Введите строку латиницей:\").upper()\n",
    "i=0\n",
    "s1=\"\"\n",
    "s2=\"\"\n",
    "while i<len(s):\n",
    "    if aei.find(s[i])>=0:\n",
    "        s1+=s[i]\n",
    "    if bcd.find(s[i])>=0:\n",
    "        s2+=s[i]\n",
    "    i+=1\n",
    "print(\"Гласных букв\",len(s1))\n",
    "print(\"Согласных букв\",len(s2))\n"
   ]
  },
  {
   "cell_type": "markdown",
   "id": "384e03db-5f31-4f56-b013-af5d11b4c0bf",
   "metadata": {},
   "source": [
    "### ДЗ 10"
   ]
  },
  {
   "cell_type": "markdown",
   "id": "71ee8b73-ece8-41ae-8a60-7224a97c133e",
   "metadata": {},
   "source": [
    "Напишите программу, которая запрашивает у пользователя строку и преобразует ее, удаляя все гласные буквы из строки. Используйте метод replace() для замены гласных букв на пустую строку. Выведите преобразованную строку на экран с помощью команды print.\n",
    "\n",
    "Пример вывода:\n",
    "\n",
    "Введите строку: Hello, world!\n",
    "\n",
    "Результат: Hll, wrld!"
   ]
  },
  {
   "cell_type": "code",
   "execution_count": 97,
   "id": "6935da37-4343-477b-8708-e1ed905bd06b",
   "metadata": {},
   "outputs": [
    {
     "name": "stdin",
     "output_type": "stream",
     "text": [
      "Введите строку латиницей: Hello, world!\n"
     ]
    },
    {
     "name": "stdout",
     "output_type": "stream",
     "text": [
      "Результат:  Hll, wrld!\n"
     ]
    }
   ],
   "source": [
    "aei=\"AEIOUYaeiouy\"\n",
    "s=input(\"Введите строку латиницей:\")\n",
    "i=0\n",
    "while i<len(aei):\n",
    "    s=s.replace(aei[i],\"\")\n",
    "    i+=1\n",
    "print(\"Результат: \",s)\n"
   ]
  },
  {
   "cell_type": "markdown",
   "id": "4295388b-9b01-45ee-af38-e151d320925f",
   "metadata": {},
   "source": [
    "Напишите программу, которая запрашивает у пользователя строку и определяет, содержит ли она только уникальные символы. Если все символы в строке уникальны, выведите соответствующее сообщение на экран. В противном случае выведите сообщение о том, какие символы повторяются. Не используйте множества и подобные структуры данных, которые мы пока не изучали, для проверки уникальности символов.\n",
    "\n",
    "Пример вывода:\n",
    "    \n",
    "Введите строку: Python\n",
    "    \n",
    "Все символы в строке уникальны.\n",
    "    \n",
    "Введите строку: Hello\n",
    "\n",
    "Символы 'l' повторяются."
   ]
  },
  {
   "cell_type": "code",
   "execution_count": 98,
   "id": "a1636285-ed85-437d-86ae-f32c5c1bb4e2",
   "metadata": {},
   "outputs": [
    {
     "name": "stdin",
     "output_type": "stream",
     "text": [
      "Введите строку: Hello\n"
     ]
    },
    {
     "name": "stdout",
     "output_type": "stream",
     "text": [
      "l\n",
      "Символы не уникальны\n"
     ]
    }
   ],
   "source": [
    "s=input(\"Введите строку:\").lower()\n",
    "i=0\n",
    "while i<len(s):\n",
    "    if s[i+1:].find(s[i])==-1:\n",
    "        i+=1\n",
    "    else:\n",
    "        print(s[i])\n",
    "        print(\"Символы не уникальны\")\n",
    "        break\n",
    "else:\n",
    "    print(\"Символы уникальны\")\n"
   ]
  },
  {
   "cell_type": "code",
   "execution_count": null,
   "id": "c40580df-837f-4d0b-8256-3f0ae76b1b71",
   "metadata": {},
   "outputs": [],
   "source": [
    "Напишите программу, которая запрашивает у пользователя строку и выравнивает ее по центру с заданной шириной. Если строка не может быть выровнена по центру из-за нечетной ширины, она должна быть выровнена смещением вправо. Используйте методы center() и rjust() для выравнивания строки.\n",
    "\n",
    "Пример вывода:\n",
    "Введите строку: Python\n",
    "Введите ширину: 10\n",
    "\n",
    "Результат:\n",
    "Python  \n"
   ]
  },
  {
   "cell_type": "code",
   "execution_count": null,
   "id": "4f0f7148-23fe-404b-8730-8f15023902d7",
   "metadata": {},
   "outputs": [],
   "source": [
    "s=input(\"Введите строку: \")\n",
    "d=int(input(\"Введите ширину: \"))\n",
    "while d<=len(s):\n",
    "    d=int(input(\"Ширина должна быть больше длины строки. Введите ширину: \"))\n",
    "if len(s)%2==d%2:\n",
    "    s=s.center(d)\n",
    "else:\n",
    "    s=s.rjust(d)\n",
    "print(s)\n"
   ]
  },
  {
   "cell_type": "code",
   "execution_count": null,
   "id": "1f4db189-86fc-449f-a302-ba065fa8aca3",
   "metadata": {},
   "outputs": [],
   "source": []
  }
 ],
 "metadata": {
  "kernelspec": {
   "display_name": "Python 3 (ipykernel)",
   "language": "python",
   "name": "python3"
  },
  "language_info": {
   "codemirror_mode": {
    "name": "ipython",
    "version": 3
   },
   "file_extension": ".py",
   "mimetype": "text/x-python",
   "name": "python",
   "nbconvert_exporter": "python",
   "pygments_lexer": "ipython3",
   "version": "3.12.4"
  }
 },
 "nbformat": 4,
 "nbformat_minor": 5
}
