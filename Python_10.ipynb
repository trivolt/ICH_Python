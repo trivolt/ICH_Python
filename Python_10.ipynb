{
 "cells": [
  {
   "cell_type": "markdown",
   "id": "b402bd68-4ef5-4e67-9e2d-99a0d8184d10",
   "metadata": {},
   "source": [
    "## Разбор ДЗ с панограммой"
   ]
  },
  {
   "cell_type": "code",
   "execution_count": 5,
   "id": "4ade502f-572b-44a7-8b9a-bcc920e274fe",
   "metadata": {},
   "outputs": [
    {
     "name": "stdout",
     "output_type": "stream",
     "text": [
      "abcdefghijklmnopqrstuvwxyz\n"
     ]
    }
   ],
   "source": [
    "import string\n",
    "print(string.ascii_lowercase)"
   ]
  },
  {
   "cell_type": "code",
   "execution_count": 8,
   "id": "4e86cc54-6a4d-4d42-8bb7-d4be3113c4b5",
   "metadata": {},
   "outputs": [
    {
     "name": "stdin",
     "output_type": "stream",
     "text": [
      "введите строку для проверки на панограмму: aabcdefghijklmnopqrstuvwxyzazg\n"
     ]
    },
    {
     "name": "stdout",
     "output_type": "stream",
     "text": [
      "панограмма\n"
     ]
    }
   ],
   "source": [
    "alphabet = 'abcdefghijklmnopqrstuvwxyz'\n",
    "text = input('введите строку для проверки на панограмму:')\n",
    "\n",
    "i = 0\n",
    "while i < len(alphabet):\n",
    "    if alphabet[i] in text:\n",
    "        i += 1\n",
    "    else:\n",
    "        print('введенный текст не панограмма')\n",
    "        break\n",
    "else:\n",
    "    print('панограмма')"
   ]
  },
  {
   "cell_type": "code",
   "execution_count": null,
   "id": "9fd6e43f-5ac1-49bf-93b4-889e384e80fa",
   "metadata": {},
   "outputs": [],
   "source": [
    "print('')\n",
    "len()\n",
    "int()"
   ]
  },
  {
   "cell_type": "code",
   "execution_count": null,
   "id": "e65cb057-4725-4786-b164-c9ed05b572ec",
   "metadata": {},
   "outputs": [],
   "source": [
    "text.isdigit()"
   ]
  },
  {
   "cell_type": "markdown",
   "id": "73e2191d",
   "metadata": {},
   "source": [
    "# Строки: методы"
   ]
  },
  {
   "cell_type": "markdown",
   "id": "63ca71e4-4b29-4029-add1-684b161c1f3e",
   "metadata": {},
   "source": [
    "### Поиск подстроки в строке"
   ]
  },
  {
   "cell_type": "markdown",
   "id": "7604a2e1-90f0-431f-b0d8-b5c7ed18f201",
   "metadata": {},
   "source": [
    "В Python для поиска подстроки в строке можно использовать метод find(). Он возвращает индекс первого вхождения подстроки или -1, если подстрока не найдена. Например:"
   ]
  },
  {
   "cell_type": "code",
   "execution_count": 9,
   "id": "5552628e-1587-4571-af0f-52a14df30f53",
   "metadata": {},
   "outputs": [
    {
     "name": "stdout",
     "output_type": "stream",
     "text": [
      "7\n"
     ]
    }
   ],
   "source": [
    "text = \"Hello, world!\"\n",
    "index = text.find(\"world\")  # Поиск подстроки \"world\"\n",
    "print(index)"
   ]
  },
  {
   "cell_type": "code",
   "execution_count": 10,
   "id": "bb4e073e",
   "metadata": {},
   "outputs": [
    {
     "name": "stdout",
     "output_type": "stream",
     "text": [
      "-1\n"
     ]
    }
   ],
   "source": [
    "#text = \"Hello, world!\"\n",
    "index = text.find(\"Join\")  # Поиск подстроки \"world\"\n",
    "print(index)"
   ]
  },
  {
   "cell_type": "markdown",
   "id": "adda4aa3-0542-46b9-8e99-e6723bb74589",
   "metadata": {},
   "source": [
    "Другой метод, index(), работает аналогично методу find(), но выбрасывает исключение, если подстрока не найдена.\r\n"
   ]
  },
  {
   "cell_type": "code",
   "execution_count": 11,
   "id": "d8143e64-e001-4b83-9a51-977514405df8",
   "metadata": {},
   "outputs": [
    {
     "name": "stdout",
     "output_type": "stream",
     "text": [
      "7\n"
     ]
    }
   ],
   "source": [
    "index = text.index(\"world\") \n",
    "print(index)"
   ]
  },
  {
   "cell_type": "code",
   "execution_count": 12,
   "id": "ae1c8cac-8794-45b3-a05f-2d4c6ed8297f",
   "metadata": {},
   "outputs": [
    {
     "ename": "ValueError",
     "evalue": "substring not found",
     "output_type": "error",
     "traceback": [
      "\u001b[1;31m---------------------------------------------------------------------------\u001b[0m",
      "\u001b[1;31mValueError\u001b[0m                                Traceback (most recent call last)",
      "Cell \u001b[1;32mIn[12], line 1\u001b[0m\n\u001b[1;32m----> 1\u001b[0m index \u001b[38;5;241m=\u001b[39m text\u001b[38;5;241m.\u001b[39mindex(\u001b[38;5;124m\"\u001b[39m\u001b[38;5;124mмир\u001b[39m\u001b[38;5;124m\"\u001b[39m) \n\u001b[0;32m      2\u001b[0m \u001b[38;5;28mprint\u001b[39m(index)\n",
      "\u001b[1;31mValueError\u001b[0m: substring not found"
     ]
    }
   ],
   "source": [
    "index = text.index(\"мир\") \n",
    "print(index)"
   ]
  },
  {
   "attachments": {},
   "cell_type": "markdown",
   "id": "e7a8a5d1",
   "metadata": {},
   "source": [
    "Используя метод find(), найдите позицию слова Mars в строке"
   ]
  },
  {
   "cell_type": "code",
   "execution_count": 15,
   "id": "c3996d4a",
   "metadata": {},
   "outputs": [],
   "source": [
    "text = 'Saturn has a daytime temperature of -170 degrees Celsius, while Mars has -28 Celsius. Mars'"
   ]
  },
  {
   "cell_type": "code",
   "execution_count": 19,
   "id": "9d833da0-8c12-4372-b7c9-789823a4264f",
   "metadata": {},
   "outputs": [
    {
     "name": "stdout",
     "output_type": "stream",
     "text": [
      "64\n",
      "Saturn has a daytime temperature of -170 degrees Celsius, while Mars has -28 Celsius. Mars\n"
     ]
    }
   ],
   "source": [
    "print(text.find('Mars'))"
   ]
  },
  {
   "cell_type": "code",
   "execution_count": null,
   "id": "be44a9e9-a56b-4e22-a31f-a86302d8a113",
   "metadata": {},
   "outputs": [],
   "source": []
  },
  {
   "cell_type": "code",
   "execution_count": null,
   "id": "4efe0b2c-9aed-49d9-86df-ce70ad53fd7a",
   "metadata": {},
   "outputs": [],
   "source": []
  },
  {
   "cell_type": "code",
   "execution_count": null,
   "id": "93ed0264-101d-4cc6-85d1-3ae402c5c0b2",
   "metadata": {},
   "outputs": [],
   "source": []
  },
  {
   "cell_type": "code",
   "execution_count": null,
   "id": "de3fe3b7-690a-4155-9f66-f02f971ea46a",
   "metadata": {},
   "outputs": [],
   "source": []
  },
  {
   "cell_type": "code",
   "execution_count": null,
   "id": "b518307f",
   "metadata": {},
   "outputs": [],
   "source": [
    "print(text.find('Mars'))"
   ]
  },
  {
   "cell_type": "markdown",
   "id": "1c568177-29e6-4c39-b185-87d3a67d228c",
   "metadata": {},
   "source": [
    "### Проверка предиката: методы isalpha(), islower() и т.д.:"
   ]
  },
  {
   "cell_type": "markdown",
   "id": "27b94a55-49be-41d3-8eb1-b26074526f4c",
   "metadata": {},
   "source": [
    "Строки в Python имеют методы, которые позволяют проверить определенное условие относительно символов строки. Метод isalpha() возвращает значение True, если все символы в строке являются буквами, и False в противном случае. Например:"
   ]
  },
  {
   "cell_type": "code",
   "execution_count": 23,
   "id": "911516f6",
   "metadata": {},
   "outputs": [
    {
     "name": "stdout",
     "output_type": "stream",
     "text": [
      "True\n"
     ]
    }
   ],
   "source": [
    "text = \"Hello\"\n",
    "is_alpha = text.isalpha()  # Проверка, содержит ли строка только буквы\n",
    "print(is_alpha)"
   ]
  },
  {
   "cell_type": "code",
   "execution_count": 24,
   "id": "cbda2f22",
   "metadata": {},
   "outputs": [
    {
     "name": "stdout",
     "output_type": "stream",
     "text": [
      "True\n"
     ]
    }
   ],
   "source": [
    "print(\"Hello\".isalpha())"
   ]
  },
  {
   "cell_type": "markdown",
   "id": "3415bc5c-2c77-4af7-97a2-985722227f6f",
   "metadata": {},
   "source": [
    "Метод islower() возвращает значение True, если все буквы в строке являются строчными, и False в противном случае. Аналогично, метод isupper() проверяет, состоит ли строка только из прописных букв."
   ]
  },
  {
   "cell_type": "code",
   "execution_count": 27,
   "id": "4e1957e7",
   "metadata": {},
   "outputs": [
    {
     "name": "stdout",
     "output_type": "stream",
     "text": [
      "False\n"
     ]
    }
   ],
   "source": [
    "text = \"Hello\"\n",
    "is_lower = text.islower()  # Проверка, содержит ли строка только строчные буквы\n",
    "print(is_lower)"
   ]
  },
  {
   "cell_type": "markdown",
   "id": "d7e6ffc2-dce4-469e-b52b-1de561968ea8",
   "metadata": {},
   "source": [
    "Метод isdigit() возвращает True, если в строке все символы - цифры, и False в противном случае"
   ]
  },
  {
   "cell_type": "code",
   "execution_count": 29,
   "id": "abf9bfb9",
   "metadata": {},
   "outputs": [
    {
     "name": "stdout",
     "output_type": "stream",
     "text": [
      "True\n"
     ]
    }
   ],
   "source": [
    "print('123'.isdigit())"
   ]
  },
  {
   "cell_type": "markdown",
   "id": "dea95485-7181-47a3-bac2-ac447e457f70",
   "metadata": {},
   "source": [
    "### Проверка условия относительно строки. Методы startswith(), endswith():"
   ]
  },
  {
   "cell_type": "markdown",
   "id": "77e292e8-f9e0-4634-869a-1af8523e197d",
   "metadata": {},
   "source": [
    "Строки в Python имеют методы, которые позволяют проверить определенное условие относительно строки. Например, метод startswith() возвращает значение True, если строка начинается с определенной подстроки, и False в противном случае. Аналогично, метод endswith() проверяет, заканчивается ли строка определенной подстрокой.\r\n"
   ]
  },
  {
   "cell_type": "code",
   "execution_count": 32,
   "id": "955acf0b",
   "metadata": {},
   "outputs": [
    {
     "name": "stdout",
     "output_type": "stream",
     "text": [
      "True\n"
     ]
    }
   ],
   "source": [
    "text = \"Hello, world!\"\n",
    "starts_with_hello = text.startswith(\"Hello\")  # Проверка, начинается ли строка с \"Hello\"\n",
    "print(starts_with_hello)"
   ]
  },
  {
   "cell_type": "code",
   "execution_count": 33,
   "id": "31f548df",
   "metadata": {},
   "outputs": [
    {
     "name": "stdout",
     "output_type": "stream",
     "text": [
      "True\n"
     ]
    }
   ],
   "source": [
    "text = \"Hello, world!\"\n",
    "starts_with_hello = text.endswith(\"ld!\")  # Проверка, заканчивается ли строка с \"ld!\"\n",
    "print(starts_with_hello)"
   ]
  },
  {
   "cell_type": "markdown",
   "id": "207b3d6b-8800-4ce5-b6c2-779b78d380c0",
   "metadata": {},
   "source": [
    "Попробуйте записать эти методы на срезах"
   ]
  },
  {
   "cell_type": "code",
   "execution_count": 35,
   "id": "a9fadbe0-f4f6-46e1-952e-8972e9d43f35",
   "metadata": {},
   "outputs": [
    {
     "name": "stdout",
     "output_type": "stream",
     "text": [
      "True\n"
     ]
    }
   ],
   "source": [
    "starts_with_hello = True if text[0:5] == 'Hello' else False\n",
    "print(starts_with_hello)"
   ]
  },
  {
   "cell_type": "markdown",
   "id": "f3dad26e-d196-4906-b441-f98a9ef05a12",
   "metadata": {},
   "source": [
    "### Методы, изменяющие строку и возвращающие её копию"
   ]
  },
  {
   "cell_type": "markdown",
   "id": "4ee1f7bc-e5dd-4838-9372-dc0314e03e00",
   "metadata": {},
   "source": [
    "Строки в Python являются ***неизменяемыми объектами***, поэтому при выполнении операций над строкой создается новая строка. Некоторые методы позволяют изменить строку и вернуть её копию. Например, методы lower() и upper() возвращают новую строку, преобразованную к нижнему или верхнему регистру соответственно. "
   ]
  },
  {
   "cell_type": "code",
   "execution_count": 39,
   "id": "d3a62cde",
   "metadata": {},
   "outputs": [
    {
     "name": "stdout",
     "output_type": "stream",
     "text": [
      "HELLO, WORLD!\n",
      "Hello, World!\n"
     ]
    }
   ],
   "source": [
    "text = \"Hello, World!\"\n",
    "lower_text = text.upper()  # Преобразование строки к верхнему регистру\n",
    "\n",
    "print(lower_text)\n",
    "print(text)"
   ]
  },
  {
   "cell_type": "code",
   "execution_count": 41,
   "id": "b3635af1-d7f2-4f7b-91ce-80966aadb38d",
   "metadata": {},
   "outputs": [
    {
     "name": "stdout",
     "output_type": "stream",
     "text": [
      "hello, world!\n"
     ]
    }
   ],
   "source": [
    "text = \"Hello, World!\"\n",
    "lower_text = text.lower()  # Преобразование строки к нижнему регистру\n",
    "\n",
    "print(lower_text)"
   ]
  },
  {
   "cell_type": "markdown",
   "id": "4f02ff15-6c39-4336-a21a-b37f7504a31e",
   "metadata": {},
   "source": [
    "Метод replace() создает новую строку, заменяя все вхождения указанной подстроки на другую подстроку."
   ]
  },
  {
   "cell_type": "code",
   "execution_count": 42,
   "id": "4a7a750d",
   "metadata": {},
   "outputs": [
    {
     "name": "stdout",
     "output_type": "stream",
     "text": [
      "Hi, World!\n"
     ]
    }
   ],
   "source": [
    "text = \"Hello, World!\"\n",
    "new_text = text.replace(\"Hello\", \"Hi\")  # Замена подстроки \"Hello\" на \"Hi\"\n",
    "print(new_text)"
   ]
  },
  {
   "cell_type": "code",
   "execution_count": 43,
   "id": "2e89858e-5ab7-44f3-be19-4aa8558beac5",
   "metadata": {},
   "outputs": [
    {
     "name": "stdout",
     "output_type": "stream",
     "text": [
      "Goodby, World!\n"
     ]
    }
   ],
   "source": [
    "text = \"Hello, World!\"\n",
    "new_text = text.replace(\"Hello\", \"Goodby\")  \n",
    "print(new_text)"
   ]
  },
  {
   "cell_type": "code",
   "execution_count": 47,
   "id": "e8ea22b5-28e9-4707-9fe5-9a82a58dba84",
   "metadata": {},
   "outputs": [
    {
     "name": "stdout",
     "output_type": "stream",
     "text": [
      "Hello World!\n"
     ]
    }
   ],
   "source": [
    "text = \"H,ello, World,!\"\n",
    "new_text = text.replace(\",\", \"\")  \n",
    "print(new_text)"
   ]
  },
  {
   "cell_type": "markdown",
   "id": "c4b5b1c0",
   "metadata": {},
   "source": [
    "### Метды разделения и соединения строк"
   ]
  },
  {
   "cell_type": "code",
   "execution_count": 48,
   "id": "0f12efc4-101c-4daf-a88b-f4e91bb08430",
   "metadata": {},
   "outputs": [
    {
     "name": "stdout",
     "output_type": "stream",
     "text": [
      "['Hello', 'world!']\n"
     ]
    }
   ],
   "source": [
    "text = \"Hello, world!\"\n",
    "words = text.split(\", \") \n",
    "print(words)"
   ]
  },
  {
   "cell_type": "code",
   "execution_count": 49,
   "id": "9bbc33a8-8cb4-463a-97b9-b035d28713fe",
   "metadata": {},
   "outputs": [
    {
     "name": "stdout",
     "output_type": "stream",
     "text": [
      "['Политика', ' Спорт', ' Досуг и отдых', ' Деньги и финансы']\n"
     ]
    }
   ],
   "source": [
    "text = \"Политика; Спорт; Досуг и отдых; Деньги и финансы\"\n",
    "words = text.split(\";\") \n",
    "print(words)"
   ]
  },
  {
   "cell_type": "code",
   "execution_count": 52,
   "id": "d59aca92-b7e4-41fb-9c99-4d13553b3fd5",
   "metadata": {},
   "outputs": [
    {
     "name": "stdout",
     "output_type": "stream",
     "text": [
      "Политика**** Спорт**** Досуг и отдых**** Деньги и финансы\n"
     ]
    }
   ],
   "source": [
    "joined_text = \"****\".join(words)  # Объединение списка подстрок в строку\n",
    "print(joined_text)"
   ]
  },
  {
   "cell_type": "code",
   "execution_count": 53,
   "id": "c91aab77",
   "metadata": {},
   "outputs": [
    {
     "name": "stdout",
     "output_type": "stream",
     "text": [
      "['Hello', 'world!']\n",
      "Hello, world!\n"
     ]
    }
   ],
   "source": [
    "text = \"Hello, world!\"\n",
    "words = text.split(\", \")  # Разделение строки на подстроки\n",
    "joined_text = \", \".join(words)  # Объединение списка подстрок в строку\n",
    "print(words)\n",
    "print(joined_text)"
   ]
  },
  {
   "cell_type": "code",
   "execution_count": 54,
   "id": "9bc7cde0-8644-4e48-9ea9-317ef4225df8",
   "metadata": {},
   "outputs": [
    {
     "name": "stdin",
     "output_type": "stream",
     "text": [
      " 1\n",
      " 2\n",
      " 3\n"
     ]
    }
   ],
   "source": [
    "a = input()\n",
    "b = input()\n",
    "c = input()"
   ]
  },
  {
   "cell_type": "code",
   "execution_count": 59,
   "id": "bbf29423",
   "metadata": {},
   "outputs": [
    {
     "name": "stdin",
     "output_type": "stream",
     "text": [
      "введите 4 числа через пробел 1*2*3*4\n"
     ]
    },
    {
     "name": "stdout",
     "output_type": "stream",
     "text": [
      "1\n",
      "2\n",
      "3\n",
      "4\n"
     ]
    }
   ],
   "source": [
    "a, b, c, d = input('введите 4 числа через пробел').split(' ')\n",
    "print(a)\n",
    "print(b)\n",
    "print(c)\n",
    "print(d)"
   ]
  },
  {
   "cell_type": "code",
   "execution_count": 61,
   "id": "bddd1abe-a60e-44dd-90fa-bdbd84c6cd64",
   "metadata": {},
   "outputs": [
    {
     "name": "stdout",
     "output_type": "stream",
     "text": [
      "1 2 3\n"
     ]
    }
   ],
   "source": [
    "a, b, c = '1 2 3'.split()\n",
    "print(a,b,c)"
   ]
  },
  {
   "cell_type": "code",
   "execution_count": null,
   "id": "fe62c1df",
   "metadata": {},
   "outputs": [],
   "source": [
    "#123 234875"
   ]
  },
  {
   "cell_type": "code",
   "execution_count": null,
   "id": "3f7655b3",
   "metadata": {},
   "outputs": [],
   "source": [
    "li= ['Привет', 'это',\"чудесно\"]"
   ]
  },
  {
   "cell_type": "markdown",
   "id": "3187bacf-8b95-4555-a32c-02e1f9af9a98",
   "metadata": {},
   "source": [
    "s = ' * '.join(li)\n",
    "print(s)"
   ]
  },
  {
   "cell_type": "markdown",
   "id": "85a38193-9591-4add-a1fc-37d06e1e2215",
   "metadata": {},
   "source": [
    "### Выравнивание строк"
   ]
  },
  {
   "cell_type": "markdown",
   "id": "1230ceb9-92f6-4769-bde2-93ab809c118d",
   "metadata": {},
   "source": [
    "Строки в Python имеют методы для выравнивания текста. Метод ljust() выравнивает строку по левому краю, добавляя пробелы в конец строки, чтобы достичь заданной ширины. Метод rjust() выравнивает строку по правому краю, добавляя пробелы в начало строки. Метод center() выравнивает строку по центру, добавляя пробелы с обеих сторон.\r\n"
   ]
  },
  {
   "cell_type": "code",
   "execution_count": 64,
   "id": "77ac40ac-c895-4e20-9ccf-dcafc0805c01",
   "metadata": {},
   "outputs": [
    {
     "name": "stdout",
     "output_type": "stream",
     "text": [
      "     Hello\n"
     ]
    }
   ],
   "source": [
    "text = \"Hello\"\n",
    "r_aligned = text.rjust(10)  # Выравнивание по правому краю\n",
    "print(r_aligned)"
   ]
  },
  {
   "cell_type": "code",
   "execution_count": 63,
   "id": "96a6dbef-d07c-45d4-b85c-3c9eaf7c207f",
   "metadata": {},
   "outputs": [
    {
     "name": "stdout",
     "output_type": "stream",
     "text": [
      "Hello     \n"
     ]
    }
   ],
   "source": [
    "text = \"Hello\"\n",
    "left_aligned = text.ljust(10)  # Выравнивание по левому краю\n",
    "print(left_aligned)"
   ]
  },
  {
   "cell_type": "code",
   "execution_count": 66,
   "id": "8cf1449f-0d8e-45fa-b80f-fb2fe282ea1e",
   "metadata": {},
   "outputs": [
    {
     "name": "stdout",
     "output_type": "stream",
     "text": [
      "  Hello   \n"
     ]
    }
   ],
   "source": [
    "text = \"Hello\"\n",
    "center_aligned = text.center(10)  \n",
    "print(center_aligned)"
   ]
  },
  {
   "cell_type": "markdown",
   "id": "940d0a8a-42b4-4757-ab1c-fcfcb29aad48",
   "metadata": {},
   "source": [
    "##### Задача из экспресс-опроса"
   ]
  },
  {
   "cell_type": "code",
   "execution_count": 67,
   "id": "12d7fd8f-2297-4353-adb7-35e9d2225299",
   "metadata": {},
   "outputs": [
    {
     "name": "stdin",
     "output_type": "stream",
     "text": [
      "введите 5 чисел (в строку через запятую) 1,2,3,4,5\n"
     ]
    },
    {
     "name": "stdout",
     "output_type": "stream",
     "text": [
      "15\n"
     ]
    }
   ],
   "source": [
    "a,b,c,d,e = input('введите 5 чисел (в строку через запятую)').split(',')\n",
    "print(int(a)+int(b)+int(c)+int(d)+int(e))"
   ]
  },
  {
   "cell_type": "code",
   "execution_count": null,
   "id": "90f128b3-bb6e-42f1-9d5c-d46687838592",
   "metadata": {},
   "outputs": [],
   "source": []
  },
  {
   "cell_type": "markdown",
   "id": "31563727-6705-497e-b989-fe1145e08af4",
   "metadata": {},
   "source": [
    "### Удаление ненужных символов из строки"
   ]
  },
  {
   "cell_type": "markdown",
   "id": "63a8e2c1-ed95-4ac2-8ad5-6d2b6441bc55",
   "metadata": {},
   "source": [
    "Строки в Python имеют методы для удаления ненужных символов. Метод strip() удаляет пробелы и другие символы из начала и конца строки. Метод lstrip() удаляет символы только из начала строки, а метод rstrip() - только из конца строки.\n"
   ]
  },
  {
   "cell_type": "markdown",
   "id": "4271a9cf-3f27-4963-9a6e-0da772d43f3e",
   "metadata": {},
   "source": [
    "text = \",*-Hello, world!  \"\n",
    "stripped_text = text.lstrip('*,-:^')  # Удаление пробелов из начала и конца строки\n",
    "print(stripped_text)"
   ]
  },
  {
   "cell_type": "code",
   "execution_count": 68,
   "id": "f88143f8-c17c-4852-80e9-23e919d653b5",
   "metadata": {},
   "outputs": [
    {
     "name": "stdout",
     "output_type": "stream",
     "text": [
      "Hello, world!\n"
     ]
    }
   ],
   "source": [
    "text = \"  Hello, world!  \"\n",
    "stripped_text = text.strip()  # Удаление пробелов из начала и конца строки\n",
    "print(stripped_text)"
   ]
  },
  {
   "cell_type": "code",
   "execution_count": 70,
   "id": "84e3e2f1-03d0-457f-9a13-e145bdab1622",
   "metadata": {},
   "outputs": [
    {
     "name": "stdout",
     "output_type": "stream",
     "text": [
      "  Hello, world!\n"
     ]
    }
   ],
   "source": [
    "text = \"  Hello, world!  \"\n",
    "stripped_text = text.rstrip()  # Удаление пробелов из начала и конца строки\n",
    "print(stripped_text)"
   ]
  },
  {
   "cell_type": "code",
   "execution_count": null,
   "id": "06d17ddc-9184-490b-a791-d30021823485",
   "metadata": {},
   "outputs": [],
   "source": []
  },
  {
   "cell_type": "markdown",
   "id": "ab0449b2-1bae-4ce4-a283-ae8ed823afae",
   "metadata": {},
   "source": [
    "### Практические задачи"
   ]
  },
  {
   "cell_type": "code",
   "execution_count": null,
   "id": "9abe24ee",
   "metadata": {},
   "outputs": [],
   "source": [
    "lst = s.split()\n",
    "res = ' '.join(lst)\n",
    "print(res)"
   ]
  },
  {
   "cell_type": "code",
   "execution_count": null,
   "id": "6ef7e5fa",
   "metadata": {},
   "outputs": [],
   "source": [
    "text = \"Hello,  World!\"\n",
    "new_text = text.replace(\"  \", \" \")  # Замена подстроки \"Hello\" на \"Hi\"\n",
    "print(new_text)"
   ]
  },
  {
   "attachments": {},
   "cell_type": "markdown",
   "id": "10d6846e",
   "metadata": {},
   "source": [
    "1. Приходит текст. \n",
    "Задача:\n",
    "сделать так, чтобы текст начинался с большой буквы. \n",
    "не было подряд несколько пробелов, запятых, многоточий и т.п. \n",
    "строка не должна начинаться с пробелов, допустима только табуляция (отступ).\n",
    "Не забывайте, что точка не всегда значит конец предложения! Например, и т.д. и т.п. \n",
    "\n"
   ]
  },
  {
   "cell_type": "code",
   "execution_count": 73,
   "id": "07c11b3d-d2e9-4331-8055-19c9996d6f8a",
   "metadata": {},
   "outputs": [
    {
     "name": "stdout",
     "output_type": "stream",
     "text": [
      "это тест. и т.д. много пробелов.\n"
     ]
    }
   ],
   "source": [
    "text = \"  это тест. и т.д.  много   пробелов...\"\n",
    "\n",
    "text = text.strip()\n",
    "\n",
    "while \"  \" in text:\n",
    "    text = text.replace(\"  \", \" \")\n",
    "\n",
    "while \"..\" in text:\n",
    "    text = text.replace(\"..\", \".\")\n",
    "    \n",
    "print(text)"
   ]
  },
  {
   "cell_type": "code",
   "execution_count": 74,
   "id": "da106303",
   "metadata": {},
   "outputs": [
    {
     "name": "stdout",
     "output_type": "stream",
     "text": [
      "Это тест. и т.д. много пробелов.\n"
     ]
    }
   ],
   "source": [
    "text = \"  это тест. и т.д.  много   пробелов...\"\n",
    "\n",
    "text = text.strip()\n",
    "\n",
    "while \"  \" in text:\n",
    "    text = text.replace(\"  \", \" \")\n",
    "\n",
    "while \"..\" in text:\n",
    "    text = text.replace(\"..\", \".\")\n",
    "\n",
    "if len(text) > 0:\n",
    "    text = text[0].upper() + text[1:]\n",
    "\n",
    "print(text)"
   ]
  },
  {
   "cell_type": "markdown",
   "id": "08dce004",
   "metadata": {},
   "source": [
    "2. Напишите программу, которая запрашивает у пользователя строку и подстроку, а затем находит все вхождения подстроки в строке и выводит их позиции. \n",
    "Используйте метод find() для поиска подстроки. \n",
    "Если подстрока не найдена, выведите соответствующее сообщение на экран.\n",
    "\n",
    "Пример вывода:\n",
    "Введите строку: Hello, how are you? How's the weather today?\n",
    "Введите подстроку: How\n",
    "Подстрока найдена на позициях: 6, 23\n"
   ]
  },
  {
   "cell_type": "code",
   "execution_count": 75,
   "id": "70bb0a30",
   "metadata": {},
   "outputs": [
    {
     "name": "stdout",
     "output_type": "stream",
     "text": [
      "7, 20\n"
     ]
    }
   ],
   "source": [
    "s = \"Hello, how are you? How's the weather today?\"\n",
    "subs = 'How'\n",
    "index = s.lower().find(subs.lower())\n",
    "print(index, end=', ')\n",
    "index = s.lower().find(subs.lower(),index+1)\n",
    "print(index)"
   ]
  },
  {
   "cell_type": "markdown",
   "id": "e05d2323-8a5a-418a-918f-718a9134f673",
   "metadata": {},
   "source": [
    "### ДЗ"
   ]
  },
  {
   "cell_type": "markdown",
   "id": "c18c3f76-179c-45a6-8017-837488925969",
   "metadata": {},
   "source": [
    "Напишите программу, которая запрашивает у пользователя строку и преобразует ее, удаляя все гласные буквы из строки. Используйте метод replace() для замены гласных букв на пустую строку. Выведите преобразованную строку на экран с помощью команды print.\n",
    "\n",
    "Пример вывода:\n",
    "\n",
    "Введите строку: Hello, world!\n",
    "\n",
    "Результат: Hll, wrld!\n"
   ]
  },
  {
   "cell_type": "code",
   "execution_count": null,
   "id": "cd99cc57-8702-4176-952d-c3f6d3572f9b",
   "metadata": {},
   "outputs": [],
   "source": [
    "# Идея gl = 'euoai'\n",
    "# перебираем по буквам\n",
    "# text.replace(gl[0],'') - и крутим в цикле))"
   ]
  },
  {
   "cell_type": "markdown",
   "id": "c0064c02-1304-474f-ae46-008954fc8e61",
   "metadata": {},
   "source": [
    "Напишите программу, которая запрашивает у пользователя строку и определяет, содержит ли она только уникальные символы. Если все символы в строке уникальны, выведите соответствующее сообщение на экран. В противном случае выведите сообщение о том, какие символы повторяются. Не используйте множества и подобные структуры данных, которые мы пока не изучали, для проверки уникальности символов.\n",
    "\n",
    "Пример вывода:\n",
    "\n",
    "Введите строку: Python\n",
    "\n",
    "Все символы в строке уникальны.\n",
    "\n",
    "Введите строку: Hello\n",
    "\n",
    "\n",
    "Символы 'l' и 'o' повторяются."
   ]
  },
  {
   "cell_type": "code",
   "execution_count": null,
   "id": "771c7e8d-7b2c-4929-a593-85e8598509ed",
   "metadata": {},
   "outputs": [],
   "source": [
    "# Идея text = 'Hello'\n",
    "#if s[i+1:].find(s[i])==-1:\n"
   ]
  },
  {
   "cell_type": "markdown",
   "id": "307cae1f-cd1d-4a63-8c2b-c9d3d382a02c",
   "metadata": {},
   "source": [
    "Напишите программу, которая запрашивает у пользователя строку и выравнивает ее по центру с заданной шириной. Если строка не может быть выровнена по центру из-за нечетной ширины, она должна быть выровнена смещением вправо. Используйте методы center() и rjust() для выравнивания строки.\n",
    "\n",
    "Пример вывода:\n",
    "\n",
    "Введите строку: Python\n",
    "\n",
    "Введите ширину: 10\n",
    "\n",
    "Результат:\n",
    "\n",
    "Python  "
   ]
  },
  {
   "cell_type": "markdown",
   "id": "a817fe6a-1519-4a6a-a01c-8ac6f3c25241",
   "metadata": {},
   "source": [
    "### Полезные материалы\r\n",
    "1. Работа со строками в Python: литералы https://pythonworld.ru/tipy-dannyx-v-python/stroki-literaly-strok.html \r\n",
    "2. Строки. Функции и методы строк https://pythonworld.ru/tipy-dannyx-v-python/stroki-funkcii-i-metody-strok.html \r\n"
   ]
  },
  {
   "cell_type": "markdown",
   "id": "2ffc7d48-8e62-4c12-b26d-ad9cacd8de95",
   "metadata": {},
   "source": [
    "### Вопросы для закрепления\n",
    "1. Каким методом можно найти подстроку в строке? А подстроку в конце строки?\n",
    "2. Как вы думаете, какие из обсужденных методов нельзя заменить циклом по элементам с проверками?\n",
    "3. Давайте представим следующую ситуацию. Мы считываем со стандартного потока ввода строки, в каждой из которых по 4 числа. Нужно вывести сумму чисел в строке. Можно ли считать строку, поделить ее с помощью split и записать результат в 4 переменные, сложить из содержимое и получить ответ? Или что-то нужно сделать ещё?"
   ]
  },
  {
   "cell_type": "code",
   "execution_count": null,
   "id": "ba531bd9-a9c4-455b-9c92-ec1116f0d99c",
   "metadata": {},
   "outputs": [],
   "source": []
  }
 ],
 "metadata": {
  "kernelspec": {
   "display_name": "Python 3 (ipykernel)",
   "language": "python",
   "name": "python3"
  },
  "language_info": {
   "codemirror_mode": {
    "name": "ipython",
    "version": 3
   },
   "file_extension": ".py",
   "mimetype": "text/x-python",
   "name": "python",
   "nbconvert_exporter": "python",
   "pygments_lexer": "ipython3",
   "version": "3.12.4"
  }
 },
 "nbformat": 4,
 "nbformat_minor": 5
}
