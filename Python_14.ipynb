{
 "cells": [
  {
   "cell_type": "markdown",
   "id": "5b84857c-6918-42ff-ab08-f665a8eba91c",
   "metadata": {},
   "source": [
    "# Базовые коллекции. Списки"
   ]
  },
  {
   "cell_type": "markdown",
   "id": "493b69c0-8c16-4365-8fc6-0ce280dba949",
   "metadata": {},
   "source": [
    "### Понятие коллекции:\r\n",
    "Коллекция в программировании - это структура данных, которая позволяет хранить и организовывать множество элементов. Список является одной из базовых коллекций в Python.\r\n"
   ]
  },
  {
   "cell_type": "markdown",
   "id": "6dd6e65d-1b88-4520-9bde-dc463037c2dc",
   "metadata": {},
   "source": [
    "### Стек и Куча (heat)"
   ]
  },
  {
   "cell_type": "markdown",
   "id": "50c83fbb-745f-49e8-b87f-9aaea95de43e",
   "metadata": {},
   "source": [
    "Стек — это область оперативной памяти, которая создаётся для каждого потока. 1 Он организован по принципу «последним пришёл — первым вышел» (LIFO) и используется для статичного выделения памяти. В стеке обычно хранятся данные вроде локальных переменных и указателей. 2\n",
    "\n",
    "Куча — это хранилище памяти, расположенное в ОЗУ, которое допускает динамическое выделение памяти. 1 В отличие от стека, данные в куче могут существовать дольше, чем отдельные вызовы функций, а объёмы памяти, выделяемой в куче, обычно гораздо больше, чем в стеке. Куча подходит для хранения данных, которые должны существовать дольше времени выполнения функции, или для работы с большими объёмами данных. 3\n",
    "\n",
    "Таким образом, основное различие между стеком и кучей в том, что стек используется для небольших структур данных с коротким жизненным циклом, а куча — для данных, размер которых определяется во время выполнения программы\n"
   ]
  },
  {
   "cell_type": "markdown",
   "id": "716fcf40-3313-46ba-9a42-d00d89a3c8f1",
   "metadata": {},
   "source": [
    "### Динамические массивы.\n",
    " Отличие статических и динамических массивов:\r\n",
    "Статический массив имеет фиксированный размер, определенный заранее, и его размер не может быть изменен. Динамический массив, в отличие от статического, может динамически изменять свой размер во время выполнения программы, в зависимости от потребностей. В Python список является динамическим массивом.\r\n"
   ]
  },
  {
   "cell_type": "markdown",
   "id": "071c79e7-322a-44e6-944f-2e67e60846b4",
   "metadata": {},
   "source": [
    "### Изменяемость динамического массива. Возможность присваивания элемента по индексу.\r\n",
    "Одним из основных преимуществ динамического массива является его изменяемость. В Python списки являются изменяемыми, что означает, что мы можем изменять значения элементов списка, а также добавлять, удалять и изменять элементы. Элемент списка может быть присвоен по индексу:\r\n"
   ]
  },
  {
   "cell_type": "code",
   "execution_count": 1,
   "id": "ca400c92-7a7f-478f-8feb-ca57fbceb83a",
   "metadata": {},
   "outputs": [
    {
     "name": "stdout",
     "output_type": "stream",
     "text": [
      "2156644561600\n",
      "[10, 2, 3]\n",
      "2156644561600\n"
     ]
    }
   ],
   "source": [
    "my_list = [1, 2, 3]\n",
    "print(id(my_list))\n",
    "my_list[0] = 10\n",
    "print(my_list) # [10, 2, 3]\n",
    "print(id(my_list))\n"
   ]
  },
  {
   "cell_type": "markdown",
   "id": "08204862-30d3-4105-bb4f-c83a772876b9",
   "metadata": {},
   "source": [
    "### Обращение к элементам ~~массива~~ списка"
   ]
  },
  {
   "cell_type": "code",
   "execution_count": 2,
   "id": "bd922e94-7304-4230-96c2-947de02cefec",
   "metadata": {},
   "outputs": [
    {
     "name": "stdout",
     "output_type": "stream",
     "text": [
      "1\n",
      "3\n"
     ]
    }
   ],
   "source": [
    "my_list = [1, 2, 3]\n",
    "print(my_list[0])\n",
    "print(my_list[-1])"
   ]
  },
  {
   "cell_type": "markdown",
   "id": "35bab18d-9968-4360-8e45-ede1df332d58",
   "metadata": {},
   "source": [
    "Все так же, как и со строками ))"
   ]
  },
  {
   "cell_type": "code",
   "execution_count": 3,
   "id": "5c772e16-3d04-4d26-8b94-5172cb0f4a48",
   "metadata": {},
   "outputs": [
    {
     "data": {
      "text/plain": [
       "3"
      ]
     },
     "execution_count": 3,
     "metadata": {},
     "output_type": "execute_result"
    }
   ],
   "source": [
    "len(my_list)"
   ]
  },
  {
   "cell_type": "markdown",
   "id": "20e8afcb-91c9-473f-8cfa-281fceaad335",
   "metadata": {},
   "source": [
    "### Срезы"
   ]
  },
  {
   "cell_type": "code",
   "execution_count": 4,
   "id": "c4562de5-22fa-45b6-a218-d45d4109fb06",
   "metadata": {},
   "outputs": [
    {
     "name": "stdout",
     "output_type": "stream",
     "text": [
      "[1, 3, 5, 7, 9]\n"
     ]
    }
   ],
   "source": [
    "my_list = [1, 2, 3,4,5,6,7,8,9]\n",
    "print(my_list[::2])"
   ]
  },
  {
   "cell_type": "code",
   "execution_count": 5,
   "id": "706dd00a-1d32-4e32-a2d2-ddd05ff319cc",
   "metadata": {},
   "outputs": [
    {
     "name": "stdout",
     "output_type": "stream",
     "text": [
      "[1, 3, 5]\n"
     ]
    }
   ],
   "source": [
    "my_list = [1, 2, 3,4,5,6,7,8,9]\n",
    "print(my_list[:6:2])"
   ]
  },
  {
   "cell_type": "markdown",
   "id": "52b711cd-0b36-468f-99e9-89dc9092acc8",
   "metadata": {},
   "source": [
    "Задание: представьте список в обратном порядке. Представьте список в обратном порядке с 6-го элемента"
   ]
  },
  {
   "cell_type": "code",
   "execution_count": 6,
   "id": "bbebbc75-5f79-4a49-ae56-b674ceaf8133",
   "metadata": {},
   "outputs": [
    {
     "name": "stdout",
     "output_type": "stream",
     "text": [
      "[9, 8, 7, 6, 5, 4, 3, 2, 1]\n"
     ]
    }
   ],
   "source": [
    "print(my_list[::-1])"
   ]
  },
  {
   "cell_type": "code",
   "execution_count": 7,
   "id": "52915661-7af5-40d4-b065-6ca5cada2f7e",
   "metadata": {},
   "outputs": [
    {
     "name": "stdout",
     "output_type": "stream",
     "text": [
      "[7, 6, 5, 4, 3, 2, 1]\n"
     ]
    }
   ],
   "source": [
    "print(my_list[6::-1])"
   ]
  },
  {
   "cell_type": "markdown",
   "id": "d08bc376-8adc-45aa-972d-a49a84a60b5a",
   "metadata": {},
   "source": [
    "### Нетипизированность динамического массива:\n",
    "Динамический массив в Python может содержать элементы разных типов данных. В отличие от статических массивов, которые обычно ограничены определенным типом данных, список может хранить объекты любого типа:\n"
   ]
  },
  {
   "cell_type": "code",
   "execution_count": 8,
   "id": "74d34dc4-a156-4799-b766-cb503f472f31",
   "metadata": {},
   "outputs": [],
   "source": [
    "mixed_list = [1, \"two\", 3.0, [4, 5]]"
   ]
  },
  {
   "cell_type": "code",
   "execution_count": 9,
   "id": "61794d0f-09bc-4788-81d4-4cf2f1e39d05",
   "metadata": {},
   "outputs": [
    {
     "name": "stdout",
     "output_type": "stream",
     "text": [
      "[4, 5]\n"
     ]
    }
   ],
   "source": [
    "print(mixed_list[-1])"
   ]
  },
  {
   "cell_type": "markdown",
   "id": "d21fc4d5-6da5-46d3-b026-c079fed57b13",
   "metadata": {},
   "source": [
    "Как обратится к значению 4?"
   ]
  },
  {
   "cell_type": "code",
   "execution_count": 10,
   "id": "f0a38d92-0b52-4b47-9463-301c2355ac6f",
   "metadata": {},
   "outputs": [
    {
     "name": "stdout",
     "output_type": "stream",
     "text": [
      "4\n"
     ]
    }
   ],
   "source": [
    "print(mixed_list[-1][0])"
   ]
  },
  {
   "cell_type": "markdown",
   "id": "5f6ed08a-6c5f-40d3-8b85-8d2701ddd4ad",
   "metadata": {},
   "source": [
    "## Методы списков"
   ]
  },
  {
   "cell_type": "markdown",
   "id": "1d55c37f-1929-4a40-b256-b8b764c0b6a6",
   "metadata": {},
   "source": [
    "### split()\n",
    "Метод split() в Python используется для разбиения строки на список подстрок на основе указанного разделителя. По умолчанию разделителем является пробел, но можно указать любой другой символ или строку. "
   ]
  },
  {
   "cell_type": "code",
   "execution_count": 11,
   "id": "ebec37bf-8464-458b-80c3-3d82ab5a6076",
   "metadata": {},
   "outputs": [
    {
     "name": "stdout",
     "output_type": "stream",
     "text": [
      "['1', '2', '3', '4', '5']\n"
     ]
    }
   ],
   "source": [
    "str = '1 2 3 4 5'\n",
    "lst = str.split()\n",
    "print(lst)"
   ]
  },
  {
   "cell_type": "code",
   "execution_count": 15,
   "id": "46dcb4a0-faca-41a9-acc1-4f53c8b8371f",
   "metadata": {},
   "outputs": [
    {
     "name": "stdout",
     "output_type": "stream",
     "text": [
      "['1', '2', '3', '4', '5']\n"
     ]
    }
   ],
   "source": [
    "str = '1, 2, 3, 4, 5'\n",
    "lst = str.split(', ')\n",
    "print(lst)"
   ]
  },
  {
   "cell_type": "code",
   "execution_count": 16,
   "id": "2042cc79-d1d5-4fec-9e27-65479eb889d4",
   "metadata": {},
   "outputs": [
    {
     "name": "stdin",
     "output_type": "stream",
     "text": [
      "Введите числа через пробел:  1 2 3 привет 12 345\n"
     ]
    }
   ],
   "source": [
    "numbers = input(\"Введите числа через пробел: \").split()"
   ]
  },
  {
   "cell_type": "code",
   "execution_count": 17,
   "id": "f09c2d58-44c3-4e59-b1cb-86e2c324d459",
   "metadata": {},
   "outputs": [
    {
     "name": "stdout",
     "output_type": "stream",
     "text": [
      "['1', '2', '3', 'привет', '12', '345']\n"
     ]
    }
   ],
   "source": [
    "print(numbers)"
   ]
  },
  {
   "cell_type": "code",
   "execution_count": 18,
   "id": "676f36e8-81c0-4622-b9a0-1cc1f3fc020d",
   "metadata": {},
   "outputs": [
    {
     "data": {
      "text/plain": [
       "'привет'"
      ]
     },
     "execution_count": 18,
     "metadata": {},
     "output_type": "execute_result"
    }
   ],
   "source": [
    "numbers[3]"
   ]
  },
  {
   "cell_type": "markdown",
   "id": "5864347a-79e8-42a3-a167-77ce2fec484d",
   "metadata": {},
   "source": [
    "### join()"
   ]
  },
  {
   "cell_type": "markdown",
   "id": "2ec94f48-58e4-485b-b105-c8db7fcd3606",
   "metadata": {},
   "source": [
    "Метод join() в Python используется для объединения списка строк в одну строку с использованием указанного разделителя."
   ]
  },
  {
   "cell_type": "code",
   "execution_count": 19,
   "id": "6b93ebaa-f1d2-4942-9f86-ced667a90452",
   "metadata": {},
   "outputs": [
    {
     "name": "stdout",
     "output_type": "stream",
     "text": [
      "apple, banana, cherry\n"
     ]
    }
   ],
   "source": [
    "my_list = [\"apple\", \"banana\", \"cherry\"]\n",
    "result = \", \".join(my_list)\n",
    "print(result)  # \"apple, banana, cherry\"\n"
   ]
  },
  {
   "cell_type": "code",
   "execution_count": 20,
   "id": "2f961b0f-1050-4f6a-9e70-a13155021c71",
   "metadata": {},
   "outputs": [
    {
     "name": "stdout",
     "output_type": "stream",
     "text": [
      "<class 'str'>\n"
     ]
    }
   ],
   "source": [
    "print(type(result))"
   ]
  },
  {
   "cell_type": "markdown",
   "id": "5214277d-fe77-4984-bfbb-88674f2f42ee",
   "metadata": {},
   "source": [
    "### append()"
   ]
  },
  {
   "cell_type": "markdown",
   "id": "b260eca4-ae95-4e1d-acfd-58a690d1f9aa",
   "metadata": {},
   "source": [
    "Метод append() в списках в Python добавляет дополнительный элемент в конец уже существующего списка."
   ]
  },
  {
   "cell_type": "code",
   "execution_count": 21,
   "id": "5c57a3b3-258d-4491-958a-4f60697f56c5",
   "metadata": {},
   "outputs": [],
   "source": [
    "month_list = ['Jan', 'Feb', 'Mar', 'Apr', 'May', 'Jun', 'Jul', 'Aug', 'Sep']\n",
    "income_list = [13000, 14000, 14300, 15000, 13800, 13000, 14900, 15200, 15300]"
   ]
  },
  {
   "cell_type": "markdown",
   "id": "fe7cb73f-5f6a-41c5-a4b5-6a0ded997465",
   "metadata": {},
   "source": [
    "Добавим данные по месяцу и доходам"
   ]
  },
  {
   "cell_type": "code",
   "execution_count": 22,
   "id": "0407dcb6-e7bb-49cd-b84c-5b1e221bd526",
   "metadata": {},
   "outputs": [],
   "source": [
    "month_list.append('Oct')\n",
    "income_list.append('17000')"
   ]
  },
  {
   "cell_type": "code",
   "execution_count": 23,
   "id": "07efa75f-bb9f-43cf-bd4c-242137872af6",
   "metadata": {},
   "outputs": [
    {
     "name": "stdout",
     "output_type": "stream",
     "text": [
      "['Jan', 'Feb', 'Mar', 'Apr', 'May', 'Jun', 'Jul', 'Aug', 'Sep', 'Oct']\n",
      "[13000, 14000, 14300, 15000, 13800, 13000, 14900, 15200, 15300, '17000']\n"
     ]
    }
   ],
   "source": [
    "print(month_list)\n",
    "print(income_list)"
   ]
  },
  {
   "cell_type": "markdown",
   "id": "a50529e9-fc6e-404f-936b-0e2bf13b77a8",
   "metadata": {},
   "source": [
    "Программа ввода числового списка с клавиатуры:"
   ]
  },
  {
   "cell_type": "code",
   "execution_count": 27,
   "id": "47009344-3b04-4b96-8bf5-f51558fbbd74",
   "metadata": {},
   "outputs": [
    {
     "data": {
      "text/plain": [
       "[5, 7, 9]"
      ]
     },
     "execution_count": 27,
     "metadata": {},
     "output_type": "execute_result"
    }
   ],
   "source": [
    "list(range(5))"
   ]
  },
  {
   "cell_type": "code",
   "execution_count": 24,
   "id": "dfccc68d-ecc5-4bfb-a61a-8c94087daa75",
   "metadata": {},
   "outputs": [
    {
     "name": "stdin",
     "output_type": "stream",
     "text": [
      "Введите сколько элементов будет содержать список 5\n",
      "Введите 1 элемент: 10\n",
      "Введите 2 элемент: 2\n",
      "Введите 3 элемент: -6\n",
      "Введите 4 элемент: 123\n",
      "Введите 5 элемент: 0\n"
     ]
    },
    {
     "name": "stdout",
     "output_type": "stream",
     "text": [
      "[10, 2, -6, 123, 0]\n"
     ]
    }
   ],
   "source": [
    "n = int(input('Введите сколько элементов будет содержать список'))\n",
    "lst = [] # создание пустого списка\n",
    "for i in range(n):\n",
    "    elem = int(input(f'Введите {i+1} элемент:'))\n",
    "    lst.append(elem)\n",
    "\n",
    "print(lst)"
   ]
  },
  {
   "cell_type": "markdown",
   "id": "45ea3ef0-abc9-43c6-ad39-5caa15a0795b",
   "metadata": {},
   "source": [
    "Сложение списков:"
   ]
  },
  {
   "cell_type": "code",
   "execution_count": 28,
   "id": "b33bf41a-c672-4e8a-89a8-0912c666890a",
   "metadata": {},
   "outputs": [
    {
     "name": "stdout",
     "output_type": "stream",
     "text": [
      "[1, 2, 3, 4, 5, 6, 7]\n"
     ]
    }
   ],
   "source": [
    "lst1 = [1,2,3]\n",
    "lst2 = [4,5,6,7]\n",
    "res = lst1 + lst2\n",
    "print(res)"
   ]
  },
  {
   "cell_type": "code",
   "execution_count": 29,
   "id": "e43e9499-37bd-4ee9-bd8c-61da81da7304",
   "metadata": {},
   "outputs": [
    {
     "data": {
      "text/plain": [
       "[1, 2, 3]"
      ]
     },
     "execution_count": 29,
     "metadata": {},
     "output_type": "execute_result"
    }
   ],
   "source": [
    "lst1"
   ]
  },
  {
   "cell_type": "code",
   "execution_count": 30,
   "id": "c694eaf5-4887-4c6e-a7ba-678046af989e",
   "metadata": {},
   "outputs": [
    {
     "data": {
      "text/plain": [
       "[4, 5, 6, 7]"
      ]
     },
     "execution_count": 30,
     "metadata": {},
     "output_type": "execute_result"
    }
   ],
   "source": [
    "lst2"
   ]
  },
  {
   "cell_type": "markdown",
   "id": "391927ab-e20b-4bff-a87b-3cbc815a9439",
   "metadata": {},
   "source": [
    "### extend()"
   ]
  },
  {
   "cell_type": "markdown",
   "id": "41bae2ac-3755-42d2-83e8-774e44aa80ff",
   "metadata": {},
   "source": [
    "Метод extend() в Python добавляет набор элементов в конец списка. В качестве аргумента методу необходимо передать итерируемый объект, например, список или строку. "
   ]
  },
  {
   "cell_type": "code",
   "execution_count": 31,
   "id": "d44543d9-777a-4173-9855-14cf85aa4fa9",
   "metadata": {},
   "outputs": [
    {
     "name": "stdout",
     "output_type": "stream",
     "text": [
      "[1, 2, 3, 4, 5, 6]\n"
     ]
    }
   ],
   "source": [
    "list1 = [1, 2, 3]\n",
    "list2 = [4, 5, 6]\n",
    "list1.extend(list2)\n",
    "print(list1)  # [1, 2, 3, 4, 5, 6]"
   ]
  },
  {
   "cell_type": "markdown",
   "id": "ebaabe49-2143-41df-b932-ab38c569fc6f",
   "metadata": {},
   "source": [
    "Отличие методов extend() и + для списков в Python заключается в том, что extend() изменяет исходный список, а не создаёт новый.  \r\n",
    "\r\n",
    "Оператор + создаёт новый список, что позволяет сохранить исходные списки неизменными."
   ]
  },
  {
   "cell_type": "markdown",
   "id": "6763640b-feb4-4a79-924f-6a785b1f8a5c",
   "metadata": {},
   "source": [
    "extend() эквивалентен ли операции += ???"
   ]
  },
  {
   "cell_type": "code",
   "execution_count": 34,
   "id": "53761a66-d6bb-4d6b-b54a-fccd9f7ac00c",
   "metadata": {},
   "outputs": [
    {
     "name": "stdout",
     "output_type": "stream",
     "text": [
      "2156645737728\n",
      "[1, 2, 3, 4, 5, 6]\n",
      "2156645737728\n"
     ]
    }
   ],
   "source": [
    "list1 = [1, 2, 3]\n",
    "print(id(list1))\n",
    "list2 = [4, 5, 6]\n",
    "list1 += list2 #list1.extend(list2)\n",
    "print(list1)\n",
    "print(id(list1))"
   ]
  },
  {
   "cell_type": "code",
   "execution_count": 33,
   "id": "831475aa-09cf-44b2-9405-7af2b9d1d009",
   "metadata": {},
   "outputs": [
    {
     "data": {
      "text/plain": [
       "[1, 2, 3, 1, 2, 3]"
      ]
     },
     "execution_count": 33,
     "metadata": {},
     "output_type": "execute_result"
    }
   ],
   "source": [
    "list1 = [1, 2, 3]\n",
    "list1 * 2"
   ]
  },
  {
   "cell_type": "markdown",
   "id": "b4c66ee0-2e1a-4847-80e5-b6d3705abf80",
   "metadata": {},
   "source": [
    "### Задание для закрепления"
   ]
  },
  {
   "cell_type": "code",
   "execution_count": 35,
   "id": "adf0e05e-6e77-4c99-b5fb-06c5a77207a0",
   "metadata": {},
   "outputs": [],
   "source": [
    "#Что будет выведено при выполнении программы:\n",
    "\n",
    "people = [\"Tom\", \"Bob\"]\n",
    "people.append(\"Alice\") \n"
   ]
  },
  {
   "cell_type": "code",
   "execution_count": 36,
   "id": "e38cab3b-e02f-4b8c-adfe-f73341dabd79",
   "metadata": {},
   "outputs": [
    {
     "name": "stdout",
     "output_type": "stream",
     "text": [
      "['Tom', 'Bob', 'Alice']\n"
     ]
    }
   ],
   "source": [
    "print(people)"
   ]
  },
  {
   "cell_type": "code",
   "execution_count": 37,
   "id": "e6717c9c-b1dd-4573-bcec-74c6ca061723",
   "metadata": {},
   "outputs": [],
   "source": [
    "#Что будет выведено после выполнения:\n",
    "\n",
    "people.extend([\"Mike\", \"Sam\"]) \n"
   ]
  },
  {
   "cell_type": "code",
   "execution_count": 38,
   "id": "fe00439f-e07b-4dc3-b126-b44b34fba971",
   "metadata": {},
   "outputs": [
    {
     "name": "stdout",
     "output_type": "stream",
     "text": [
      "['Tom', 'Bob', 'Alice', 'Mike', 'Sam']\n"
     ]
    }
   ],
   "source": [
    "print(people)"
   ]
  },
  {
   "cell_type": "markdown",
   "id": "57524110-5929-48d8-93e2-cd351892a01e",
   "metadata": {},
   "source": [
    "### Практическая работа"
   ]
  },
  {
   "cell_type": "markdown",
   "id": "5fe8cdfe-5144-42e1-9d80-8fb8aab13dbf",
   "metadata": {},
   "source": [
    "1. Напишите программу, которая для последовательности чисел введенных с клавиатуры сохраняет в список только те элементы, которые кратны 2.\r\n"
   ]
  },
  {
   "cell_type": "code",
   "execution_count": 42,
   "id": "29b4ece7-bb1c-478a-9dcd-eeb6859b91b5",
   "metadata": {},
   "outputs": [
    {
     "name": "stdin",
     "output_type": "stream",
     "text": [
      "Введите последовательность чисел через пробел 1 2 3 4 5 6 7 8 9 10 13\n"
     ]
    },
    {
     "name": "stdout",
     "output_type": "stream",
     "text": [
      "[2, 4, 6, 8, 10]\n"
     ]
    }
   ],
   "source": [
    "seq = input('Введите последовательность чисел через пробел').split()\n",
    "\n",
    "seq_output = []\n",
    "for elem in seq:\n",
    "    elem = int(elem)\n",
    "    if elem%2 == 0:\n",
    "        seq_output.append(elem)\n",
    "\n",
    "print(seq_output)"
   ]
  },
  {
   "cell_type": "code",
   "execution_count": 44,
   "id": "cfea14fa-d3c3-465a-8585-518dc92c6137",
   "metadata": {},
   "outputs": [
    {
     "name": "stdin",
     "output_type": "stream",
     "text": [
      "Введите последовательность чисел через пробел 1 2 3 54 6\n"
     ]
    },
    {
     "name": "stdout",
     "output_type": "stream",
     "text": [
      "[1, 2, 3, 54, 6]\n"
     ]
    }
   ],
   "source": [
    "seq = map(int,input('Введите последовательность чисел через пробел').split())\n",
    "print(list(seq))"
   ]
  },
  {
   "cell_type": "markdown",
   "id": "79155298-eeab-4daa-9b52-536c10d1b001",
   "metadata": {},
   "source": [
    "2.  Напишите программу, которая принимает список чисел от пользователя и выводит на экран только уникальные числа из списка в порядке их появления. Используйте динамический массив для хранения уникальных чисел и методы для работы с ним. Выведите результат на экран с помощью команды print.\n",
    "\n",
    "Пример вывода:\n",
    "\n",
    "Введите числа, разделенные пробелами: 1 2 3 4 2 3 1 5\n",
    "\n",
    "Уникальные числа: [1, 2, 3, 4, 5]\n"
   ]
  },
  {
   "cell_type": "code",
   "execution_count": 45,
   "id": "b612fe2a-3c11-4a4d-87b8-16f07d45cf53",
   "metadata": {},
   "outputs": [
    {
     "name": "stdin",
     "output_type": "stream",
     "text": [
      "Введите числа, разделенные пробелами:  1 2 3 4 1 2 5\n"
     ]
    },
    {
     "name": "stdout",
     "output_type": "stream",
     "text": [
      "Уникальные числа: ['1', '2', '3', '4', '5']\n"
     ]
    }
   ],
   "source": [
    "user_input = input(\"Введите числа, разделенные пробелами: \")\n",
    "numbers = user_input.split()\n",
    "unique_numbers = []\n",
    "\n",
    "for num in numbers:\n",
    "    if num not in unique_numbers:\n",
    "        unique_numbers.append(num)\n",
    "\n",
    "print(f\"Уникальные числа: {unique_numbers}\")     "
   ]
  },
  {
   "cell_type": "markdown",
   "id": "3825e6e6-803c-4562-9c7e-a60e7eb34d73",
   "metadata": {},
   "source": [
    "Htfkbpfwbz "
   ]
  },
  {
   "cell_type": "code",
   "execution_count": 49,
   "id": "60d3c049-fea9-48a8-aeae-908be4f89c5e",
   "metadata": {},
   "outputs": [
    {
     "name": "stdin",
     "output_type": "stream",
     "text": [
      "Введите числа, разделенные пробелами:  1 2 3 4 5 1 2 5\n"
     ]
    },
    {
     "name": "stdout",
     "output_type": "stream",
     "text": [
      "['5', '3', '1', '2', '4']\n"
     ]
    }
   ],
   "source": [
    "user_input = list(set(input(\"Введите числа, разделенные пробелами: \").split()))\n",
    "print(user_input)"
   ]
  },
  {
   "cell_type": "markdown",
   "id": "9db8fb5b-e240-4fa1-974c-36f4796d38b0",
   "metadata": {},
   "source": [
    "### Полезные материалы\n",
    "1. Списки (list). Функции и методы списков https://pythonworld.ru/tipy-dannyx-v-python/spiski-list-funkcii-i-metody-spiskov.html \n",
    "2. Списки в Python: методы и основные операции https://tproger.ru/articles/spiski-v-python-osnovy-i-metody/ \n",
    "\n",
    "### Вопросы для закрепления\n",
    "Зачем нам может понадобиться изменять длину списка?\n",
    "Как объединять списки?\n"
   ]
  },
  {
   "cell_type": "markdown",
   "id": "e758c4df-74d8-4bb6-965b-7e650d52912a",
   "metadata": {},
   "source": [
    "Дополнительная задача. На вспоминание функций"
   ]
  },
  {
   "cell_type": "code",
   "execution_count": 50,
   "id": "8f2240e3-5274-448f-91dc-2f6624d746ad",
   "metadata": {},
   "outputs": [],
   "source": [
    "def seq_even_elem(seq):\n",
    "    seq_output = []\n",
    "    for elem in seq:\n",
    "        elem = int(elem)\n",
    "        if elem%2 == 0:\n",
    "            seq_output.append(elem)\n",
    "    \n",
    "    return seq_output"
   ]
  },
  {
   "cell_type": "code",
   "execution_count": 51,
   "id": "6d30dcca-554d-47b9-bed7-f51593fbfc0a",
   "metadata": {},
   "outputs": [
    {
     "name": "stdin",
     "output_type": "stream",
     "text": [
      "Введите последовательность чисел через пробел 1 2 3 4 5 6 7 8 9\n"
     ]
    },
    {
     "name": "stdout",
     "output_type": "stream",
     "text": [
      "[2, 4, 6, 8]\n"
     ]
    }
   ],
   "source": [
    "lst = input('Введите последовательность чисел через пробел').split()\n",
    "print(seq_even_elem(lst)) #[2,4,6,8]"
   ]
  },
  {
   "cell_type": "code",
   "execution_count": null,
   "id": "9017efe7-bfae-4f59-ae57-1bddbbbd0986",
   "metadata": {},
   "outputs": [],
   "source": []
  }
 ],
 "metadata": {
  "kernelspec": {
   "display_name": "Python 3 (ipykernel)",
   "language": "python",
   "name": "python3"
  },
  "language_info": {
   "codemirror_mode": {
    "name": "ipython",
    "version": 3
   },
   "file_extension": ".py",
   "mimetype": "text/x-python",
   "name": "python",
   "nbconvert_exporter": "python",
   "pygments_lexer": "ipython3",
   "version": "3.12.4"
  }
 },
 "nbformat": 4,
 "nbformat_minor": 5
}
