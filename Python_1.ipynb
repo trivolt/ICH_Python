{
 "cells": [
  {
   "cell_type": "markdown",
   "id": "58bf1ef6-2d94-456a-bbc0-2ec4f1e44dce",
   "metadata": {},
   "source": [
    "### Занятие 1. \n",
    "# Введение в язык программирования Python, установка среды разработки\r\n"
   ]
  },
  {
   "cell_type": "markdown",
   "id": "aa0cf27d-f5a5-4856-a22e-d0077d7bf596",
   "metadata": {},
   "source": [
    "Шпаргалка по markdown разметке\n",
    "<a>https://skillbox.ru/media/code/yazyk-razmetki-markdown-shpargalka-po-sintaksisu-s-primerami/</a>"
   ]
  },
  {
   "cell_type": "markdown",
   "id": "dab31e51-1ef2-4581-8a88-6e10711e911d",
   "metadata": {},
   "source": [
    "Маркированный спиок:\n",
    "* Пункт 1\n",
    "* Пункт 2\n",
    "* Пункт 3\n",
    "\n",
    "Нумерованный список:\n",
    "1. Пункт 1\n",
    "2. Пункт 2\n",
    "3. Пункт 3\n",
    "\n",
    "- [x] Отмеченный пункт\r\n",
    "- [ ] Неотмеченный пункт\n",
    "\n",
    "***Текст жирным курсивом***\r\n",
    "___Текст жирным курсивом\n",
    "~_\n",
    "~~Зачёркнутый тс\n",
    "\n",
    "т~~"
   ]
  },
  {
   "cell_type": "markdown",
   "id": "b34281ae-bf70-45fa-993b-9020d3bc5a1a",
   "metadata": {},
   "source": [
    "~~text~~"
   ]
  },
  {
   "cell_type": "markdown",
   "id": "8455a72f-bdf8-4ac6-a284-75c6fa73c466",
   "metadata": {},
   "source": [
    "![Изображение](https://upload.wikimedia.org/wikipedia/commons/thumb/4/48/Markdown-mark.svg/1920px-Markdown-mark.svg.png \"Логотип Markdown\")"
   ]
  },
  {
   "cell_type": "markdown",
   "id": "404d9038-24c9-4813-b35a-ac61ac6ab6e6",
   "metadata": {},
   "source": [
    "Можно использовать и математические формулы. Любой сложности )))"
   ]
  },
  {
   "cell_type": "markdown",
   "id": "103df037-b490-4886-a151-e918175947b2",
   "metadata": {},
   "source": [
    "$f(x)=x^3$"
   ]
  },
  {
   "cell_type": "markdown",
   "id": "3504d8f4-263f-4f3c-aa78-ea6242523a8c",
   "metadata": {},
   "source": [
    "$$\r\n",
    "\\label{maxwell}\r\n",
    "\\begin{aligned}\r\n",
    "\\nabla \\times \\vec{e}+\\frac{\\partial \\vec{b}}{\\partial t}&=0 \\\\\r\n",
    "\\nabla \\times \\vec{h}-\\vec{j}&=\\vec{s}\\_{e}\r\n",
    "\\end{aligned}\r\n",
    "$$\r\n",
    "\r\n",
    "$$ \\label{one-liner} Ax=b $$\r\n",
    "\r\n",
    "See [](#maxwell) for enlightenment and [](#one-liner) to do things on one line!"
   ]
  },
  {
   "cell_type": "markdown",
   "id": "5ef41ba4-8aa1-4781-a207-f1bd51f33080",
   "metadata": {},
   "source": [
    "Ссылка: https://mystmd.org/guide/math"
   ]
  },
  {
   "cell_type": "markdown",
   "id": "865f7b68-7a38-4b98-b407-ef0490d4a63b",
   "metadata": {},
   "source": [
    "## Переменные"
   ]
  },
  {
   "cell_type": "code",
   "execution_count": 2,
   "id": "019f3e34-87a9-42dd-ae33-7da5fd0d2ed3",
   "metadata": {},
   "outputs": [],
   "source": [
    "x = 5"
   ]
  },
  {
   "cell_type": "code",
   "execution_count": 1,
   "id": "0a3fd10e-88a8-4c88-b08b-08e1ba5310c2",
   "metadata": {},
   "outputs": [],
   "source": [
    "str = 'Привет'"
   ]
  },
  {
   "attachments": {},
   "cell_type": "markdown",
   "id": "aaeef82e-baa8-4dcd-8ebe-3363998abc36",
   "metadata": {},
   "source": [
    "### Задание\n",
    "Создать 2 переменные в Python и присвоить им значения 4 и 9.\r\n"
   ]
  },
  {
   "cell_type": "code",
   "execution_count": 3,
   "id": "d62ac0ad-0f13-4dbf-97b9-59a9ad1248df",
   "metadata": {},
   "outputs": [],
   "source": [
    "var1 = 4\n",
    "var2 = 9"
   ]
  },
  {
   "cell_type": "markdown",
   "id": "070a2357-88e9-4bd0-a838-bd4e1b7184de",
   "metadata": {},
   "source": [
    "Команда print()"
   ]
  },
  {
   "cell_type": "code",
   "execution_count": 6,
   "id": "09db6c2b-ff87-4d20-956b-316db63787fd",
   "metadata": {},
   "outputs": [
    {
     "name": "stdout",
     "output_type": "stream",
     "text": [
      "Привет\n"
     ]
    }
   ],
   "source": [
    "print(str)"
   ]
  },
  {
   "cell_type": "code",
   "execution_count": 7,
   "id": "f4bcaac3-bc16-4745-96a4-4c9c2ad977b0",
   "metadata": {},
   "outputs": [
    {
     "name": "stdout",
     "output_type": "stream",
     "text": [
      "4\n"
     ]
    }
   ],
   "source": [
    "print(var1)"
   ]
  },
  {
   "cell_type": "code",
   "execution_count": 8,
   "id": "a48f20f7-8107-4080-b396-7caee080ca7f",
   "metadata": {},
   "outputs": [
    {
     "name": "stdout",
     "output_type": "stream",
     "text": [
      "9\n"
     ]
    }
   ],
   "source": [
    "print(var2)"
   ]
  },
  {
   "cell_type": "code",
   "execution_count": 10,
   "id": "2c5294f7-74a9-418f-92fa-c61c96dd9fed",
   "metadata": {},
   "outputs": [
    {
     "name": "stdout",
     "output_type": "stream",
     "text": [
      "4 9 Привет\n"
     ]
    }
   ],
   "source": [
    "print(var1, var2, str)"
   ]
  },
  {
   "cell_type": "code",
   "execution_count": 14,
   "id": "b0f5dcf1-3edf-4a88-98ed-139d8d5827f8",
   "metadata": {},
   "outputs": [
    {
     "name": "stdout",
     "output_type": "stream",
     "text": [
      "Привет  Bill тебе  56 !\n"
     ]
    }
   ],
   "source": [
    "name = 'Bill'\n",
    "age = 56\n",
    "print('Привет ',name, 'тебе ',age,'!')"
   ]
  },
  {
   "cell_type": "code",
   "execution_count": null,
   "id": "92990ecf-4e3b-4ce7-80c0-c8bd3a83367c",
   "metadata": {},
   "outputs": [],
   "source": [
    "Команда input()"
   ]
  },
  {
   "cell_type": "code",
   "execution_count": 16,
   "id": "eb4b123d-30e7-4c7c-af4a-74d0767895d5",
   "metadata": {},
   "outputs": [
    {
     "name": "stdin",
     "output_type": "stream",
     "text": [
      " \n"
     ]
    }
   ],
   "source": [
    "name = input()"
   ]
  },
  {
   "cell_type": "code",
   "execution_count": 18,
   "id": "a3b852ae-9996-4db3-af28-9ef9c909dfdb",
   "metadata": {},
   "outputs": [
    {
     "name": "stdin",
     "output_type": "stream",
     "text": [
      "Введите ваше имя:  Sam\n"
     ]
    }
   ],
   "source": [
    "name = input('''Введите ваше имя: ''')\n"
   ]
  },
  {
   "cell_type": "code",
   "execution_count": 19,
   "id": "78f70b16-0061-4bf6-9912-e4c86c1e7956",
   "metadata": {},
   "outputs": [
    {
     "name": "stdout",
     "output_type": "stream",
     "text": [
      "Привет  Sam тебе  56 !\n"
     ]
    }
   ],
   "source": [
    "print('Привет ',name, 'тебе ',age,'!')"
   ]
  },
  {
   "attachments": {},
   "cell_type": "markdown",
   "id": "51d94629-13bd-427e-bf79-7a8d5648746e",
   "metadata": {},
   "source": [
    "### Задание\n",
    "1. Наберите в редакторе код из задания символ в символ и нажмите «Выполнить».\r\n",
    "\r\n",
    "print('Hello, World!\n",
    "\n",
    "')2\r\n",
    "\r\n",
    "Сделать вывод своего имени.\r\n"
   ]
  },
  {
   "cell_type": "code",
   "execution_count": null,
   "id": "c25cd5e2-5b72-4ed9-9c36-72a2fbf95b6b",
   "metadata": {},
   "outputs": [],
   "source": []
  },
  {
   "cell_type": "markdown",
   "id": "f0cec941-1a3c-4114-a11e-bc1877f0d204",
   "metadata": {},
   "source": [
    "## Комментарии"
   ]
  },
  {
   "cell_type": "code",
   "execution_count": 20,
   "id": "d6e0cff5-1cc5-4d20-81db-d4fa5bd93565",
   "metadata": {},
   "outputs": [
    {
     "name": "stdout",
     "output_type": "stream",
     "text": [
      "10\n"
     ]
    }
   ],
   "source": [
    "# Удалить строку ниже после реализации задачи по регистрации\n",
    "print(10)\n"
   ]
  },
  {
   "cell_type": "code",
   "execution_count": 21,
   "id": "16db2aef-96ed-4b14-96b8-57249dab628a",
   "metadata": {},
   "outputs": [],
   "source": [
    "# For Winterfell!\n",
    "# For Lanisters!\n"
   ]
  },
  {
   "cell_type": "code",
   "execution_count": 22,
   "id": "0ed1da61-33f0-4e06-a78f-6dc37b932ef7",
   "metadata": {},
   "outputs": [
    {
     "name": "stdout",
     "output_type": "stream",
     "text": [
      "I am the King\n"
     ]
    }
   ],
   "source": [
    "print('I am the King') # For Lannisters!\n"
   ]
  },
  {
   "cell_type": "markdown",
   "id": "b9b9cab3-5620-42e8-a12c-b580d9c5f2c5",
   "metadata": {},
   "source": [
    "## Синтаксис"
   ]
  },
  {
   "cell_type": "markdown",
   "id": "be923760-96d5-46dd-9bc7-e6ae1d028cd9",
   "metadata": {},
   "source": [
    "Можно написать код так:"
   ]
  },
  {
   "cell_type": "code",
   "execution_count": 25,
   "id": "6fab0351-03af-43e1-9083-ba730f86dd5a",
   "metadata": {},
   "outputs": [
    {
     "ename": "SyntaxError",
     "evalue": "invalid syntax (986709146.py, line 1)",
     "output_type": "error",
     "traceback": [
      "\u001b[1;36m  Cell \u001b[1;32mIn[25], line 1\u001b[1;36m\u001b[0m\n\u001b[1;33m    a = 1 b = 2 print(a, b)\u001b[0m\n\u001b[1;37m          ^\u001b[0m\n\u001b[1;31mSyntaxError\u001b[0m\u001b[1;31m:\u001b[0m invalid syntax\n"
     ]
    }
   ],
   "source": [
    "a = 1; b = 2; print(a, b)"
   ]
  },
  {
   "cell_type": "code",
   "execution_count": 26,
   "id": "c937539d-072f-44a8-a0a8-6644eb282002",
   "metadata": {},
   "outputs": [
    {
     "ename": "SyntaxError",
     "evalue": "unterminated string literal (detected at line 1) (784925064.py, line 1)",
     "output_type": "error",
     "traceback": [
      "\u001b[1;36m  Cell \u001b[1;32mIn[26], line 1\u001b[1;36m\u001b[0m\n\u001b[1;33m    print('Hello world)\u001b[0m\n\u001b[1;37m          ^\u001b[0m\n\u001b[1;31mSyntaxError\u001b[0m\u001b[1;31m:\u001b[0m unterminated string literal (detected at line 1)\n"
     ]
    }
   ],
   "source": [
    "print('Hello world)"
   ]
  },
  {
   "cell_type": "code",
   "execution_count": 23,
   "id": "99cbb363-dcec-45b4-8d78-bab555eda9bd",
   "metadata": {},
   "outputs": [
    {
     "name": "stdout",
     "output_type": "stream",
     "text": [
      "1 2\n"
     ]
    }
   ],
   "source": [
    "a=1\n",
    "b=2\n",
    "print(a,b)"
   ]
  },
  {
   "cell_type": "markdown",
   "id": "cd59266a-9a14-4e11-8029-9f59a02af6f4",
   "metadata": {},
   "source": [
    "Но лучше это писать так:"
   ]
  },
  {
   "cell_type": "code",
   "execution_count": null,
   "id": "2fb416d9-1b4c-4f6a-8a54-8bbf4afff6fd",
   "metadata": {},
   "outputs": [],
   "source": [
    "a = 1\n",
    "b = 2\n",
    "print(a, b)"
   ]
  },
  {
   "cell_type": "markdown",
   "id": "d96ec01a-39b1-4aa7-9141-1effd8fa6e22",
   "metadata": {},
   "source": [
    "## Синтаксические ошибки"
   ]
  },
  {
   "attachments": {},
   "cell_type": "markdown",
   "id": "098d78a8-9563-4c77-ae7d-9d71e9fe97d0",
   "metadata": {},
   "source": [
    "Если программа написана синтаксически некорректно, то интерпретатор выводит на экран соответствующее сообщение.\r",
    "\r\n",
    "Интерпретатор указывает на файл и строку, где произошла ошибка\r\n",
    "\r\n",
    "Синтаксическая ошибка возникает, когда код записали с нарушением грамматических прал. \r\n"
   ]
  },
  {
   "cell_type": "code",
   "execution_count": 2,
   "id": "982471e2-8f41-4554-ad13-46f2dffdab05",
   "metadata": {},
   "outputs": [
    {
     "ename": "SyntaxError",
     "evalue": "unterminated string literal (detected at line 3) (1853883772.py, line 3)",
     "output_type": "error",
     "traceback": [
      "\u001b[1;36m  Cell \u001b[1;32mIn[2], line 3\u001b[1;36m\u001b[0m\n\u001b[1;33m    print('Hodor)\u001b[0m\n\u001b[1;37m          ^\u001b[0m\n\u001b[1;31mSyntaxError\u001b[0m\u001b[1;31m:\u001b[0m unterminated string literal (detected at line 3)\n"
     ]
    }
   ],
   "source": [
    "#Пример кода с синтаксической ошибкой:\n",
    "\n",
    "print('Hodor)\n"
   ]
  },
  {
   "attachments": {},
   "cell_type": "markdown",
   "id": "1f42d333-9184-4019-aa3c-1ef957bc8776",
   "metadata": {},
   "source": [
    "## Задание\n",
    "Выведите на экран:\r",
    "`Python is very interesting to learn\n",
    "`\n"
   ]
  },
  {
   "cell_type": "markdown",
   "id": "cdc6ed71-2114-4e8b-9024-7b53a9ef74b2",
   "metadata": {},
   "source": [
    "## Практическая работа"
   ]
  },
  {
   "cell_type": "markdown",
   "id": "e457533b-44f6-4d0b-903d-a83f658addde",
   "metadata": {},
   "source": [
    "Выведите на экран друг за другом три имени: `Robert, Stannis, Renly`<br>\n",
    "Для каждого имени используйте свой собственный вызов print().<br>\n",
    "В результате должны получить:<br>\n",
    "Robert<br>\n",
    "Stannis<br>\n",
    "Renly"
   ]
  },
  {
   "cell_type": "code",
   "execution_count": 27,
   "id": "7d06c0cf-a2f1-4205-8715-cf13dea63c31",
   "metadata": {},
   "outputs": [
    {
     "name": "stdout",
     "output_type": "stream",
     "text": [
      "Robert\n",
      "Stannis\n",
      "Renly\n"
     ]
    }
   ],
   "source": [
    "print('Robert')\n",
    "print('Stannis')\n",
    "print('Renly')"
   ]
  },
  {
   "cell_type": "code",
   "execution_count": null,
   "id": "65399415-776b-47f4-a74d-bee1bfd02112",
   "metadata": {},
   "outputs": [],
   "source": []
  }
 ],
 "metadata": {
  "kernelspec": {
   "display_name": "Python 3 (ipykernel)",
   "language": "python",
   "name": "python3"
  },
  "language_info": {
   "codemirror_mode": {
    "name": "ipython",
    "version": 3
   },
   "file_extension": ".py",
   "mimetype": "text/x-python",
   "name": "python",
   "nbconvert_exporter": "python",
   "pygments_lexer": "ipython3",
   "version": "3.12.4"
  }
 },
 "nbformat": 4,
 "nbformat_minor": 5
}
